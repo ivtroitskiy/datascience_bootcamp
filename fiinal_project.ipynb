{
 "cells": [
  {
   "cell_type": "markdown",
   "metadata": {},
   "source": [
    "# Проект Предсказание температуры металла\n",
    "\n",
    "Исполнитель: Троицкий Илья  \n",
    "Дата: 1 сентября 2023 г.  "
   ]
  },
  {
   "cell_type": "markdown",
   "metadata": {},
   "source": [
    "### Описание проекта\n",
    "Чтобы оптимизировать производственные расходы, металлургический комбинат ООО «Так закаляем сталь» решил уменьшить потребление электроэнергии на этапе обработки стали. Вам предстоит построить модель, которая предскажет температуру стали."
   ]
  },
  {
   "cell_type": "markdown",
   "metadata": {},
   "source": [
    "### Описание данных\n",
    "Данные состоят из файлов, полученных из разных источников:\n",
    "- `data_arc_new.csv` — данные об электродах;\n",
    "- `data_bulk_new.csv` — данные о подаче сыпучих материалов (объём);\n",
    "- `data_bulk_time_new.csv` — данные о подаче сыпучих материалов (время);\n",
    "- `data_gas_new.csv` — данные о продувке сплава газом;\n",
    "- `data_temp_new.csv` — результаты измерения температуры;\n",
    "- `data_wire_new.csv` — данные о проволочных материалах (объём);\n",
    "- `data_wire_time_new.csv` — данные о проволочных материалах (время).\n",
    "Во всех файлах столбец key содержит номер партии. В файлах может быть несколько строк с одинаковым значением key: они соответствуют разным итерациям обработки."
   ]
  },
  {
   "cell_type": "markdown",
   "metadata": {},
   "source": [
    "### Импорт библиотек и настроек"
   ]
  },
  {
   "cell_type": "code",
   "execution_count": 7,
   "metadata": {},
   "outputs": [],
   "source": [
    "import os\n",
    "import pandas as pd\n",
    "import numpy as np\n",
    "import matplotlib\n",
    "import matplotlib.pyplot as plt\n",
    "import seaborn as sns"
   ]
  },
  {
   "cell_type": "code",
   "execution_count": 4,
   "metadata": {},
   "outputs": [],
   "source": [
    "pd.options.mode.chained_assignment = None\n",
    "matplotlib.rc('figure', figsize=(10, 5))\n",
    "sns.set_palette(\"pastel\")"
   ]
  },
  {
   "cell_type": "markdown",
   "metadata": {},
   "source": [
    "### Описание констант и функций"
   ]
  },
  {
   "cell_type": "markdown",
   "metadata": {},
   "source": [
    "### Загрузка данных"
   ]
  },
  {
   "cell_type": "code",
   "execution_count": 9,
   "metadata": {},
   "outputs": [
    {
     "name": "stdout",
     "output_type": "stream",
     "text": [
      "Данные успешно загружены.\n"
     ]
    }
   ],
   "source": [
    "if (os.path.exists('/datasets')):\n",
    "    path = '/datasets'\n",
    "elif (os.path.exists('datasets')):\n",
    "    path = 'datasets'\n",
    "else:    \n",
    "    raise Exception('Не найден файл с данными.')    \n",
    "\n",
    "data_arc = pd.read_csv(f'{path}/data_arc_new.csv')\n",
    "data_bulk = pd.read_csv(f'{path}/data_bulk_new.csv')\n",
    "data_bulk_time = pd.read_csv(f'{path}/data_bulk_time_new.csv')\n",
    "data_gas= pd.read_csv(f'{path}/data_gas_new.csv')\n",
    "data_temp = pd.read_csv(f'{path}/data_temp_new.csv')\n",
    "data_wire = pd.read_csv(f'{path}/data_wire_new.csv')\n",
    "data_wire_time = pd.read_csv(f'{path}/data_wire_time_new.csv')\n",
    "print('Данные успешно загружены.')"
   ]
  },
  {
   "cell_type": "markdown",
   "metadata": {},
   "source": [
    "## Анализ данных"
   ]
  }
 ],
 "metadata": {
  "kernelspec": {
   "display_name": ".venv",
   "language": "python",
   "name": "python3"
  },
  "language_info": {
   "codemirror_mode": {
    "name": "ipython",
    "version": 3
   },
   "file_extension": ".py",
   "mimetype": "text/x-python",
   "name": "python",
   "nbconvert_exporter": "python",
   "pygments_lexer": "ipython3",
   "version": "3.11.4"
  },
  "orig_nbformat": 4
 },
 "nbformat": 4,
 "nbformat_minor": 2
}
