{
 "cells": [
  {
   "attachments": {},
   "cell_type": "markdown",
   "metadata": {},
   "source": [
    "# Проект Прогнозирование оттока клиентов банка\n",
    "Дата: 15 июня 2023 г.  \n",
    "Автор: Троицкий Илья  \n",
    "\n",
    "Проект выполняется в рамках курса Data Scince bootcamp  "
   ]
  },
  {
   "attachments": {},
   "cell_type": "markdown",
   "metadata": {
    "toc": true
   },
   "source": [
    "<h1>Содержание<span class=\"tocSkip\"></span></h1>\n",
    "<div class=\"toc\"><ul class=\"toc-item\"><li><span><a href=\"#Описание-данных\" data-toc-modified-id=\"Описание-данных-1\"><span class=\"toc-item-num\">1&nbsp;&nbsp;</span>Описание данных</a></span><ul class=\"toc-item\"><li><span><a href=\"#Библиотеки\" data-toc-modified-id=\"Библиотеки-1.1\"><span class=\"toc-item-num\">1.1&nbsp;&nbsp;</span>Библиотеки</a></span></li><li><span><a href=\"#Функции\" data-toc-modified-id=\"Функции-1.2\"><span class=\"toc-item-num\">1.2&nbsp;&nbsp;</span>Функции</a></span></li></ul></li><li><span><a href=\"#Подготовка-данных\" data-toc-modified-id=\"Подготовка-данных-2\"><span class=\"toc-item-num\">2&nbsp;&nbsp;</span>Подготовка данных</a></span></li><li><span><a href=\"#Исследование-задачи\" data-toc-modified-id=\"Исследование-задачи-3\"><span class=\"toc-item-num\">3&nbsp;&nbsp;</span>Исследование задачи</a></span><ul class=\"toc-item\"><li><span><a href=\"#Перед-разбитием-на-выборки,-проанализируем-баланс-классов\" data-toc-modified-id=\"Перед-разбитием-на-выборки,-проанализируем-баланс-классов-3.1\"><span class=\"toc-item-num\">3.1&nbsp;&nbsp;</span>Перед разбитием на выборки, проанализируем баланс классов</a></span></li><li><span><a href=\"#Random-Forest\" data-toc-modified-id=\"Random-Forest-3.2\"><span class=\"toc-item-num\">3.2&nbsp;&nbsp;</span>Random Forest</a></span></li><li><span><a href=\"#LogisticRegression\" data-toc-modified-id=\"LogisticRegression-3.3\"><span class=\"toc-item-num\">3.3&nbsp;&nbsp;</span>LogisticRegression</a></span></li><li><span><a href=\"#LogisticRegression-со-сбалансированным-весом\" data-toc-modified-id=\"LogisticRegression-со-сбалансированным-весом-3.4\"><span class=\"toc-item-num\">3.4&nbsp;&nbsp;</span>LogisticRegression со сбалансированным весом</a></span></li></ul></li><li><span><a href=\"#Борьба-с-дисбалансом\" data-toc-modified-id=\"Борьба-с-дисбалансом-4\"><span class=\"toc-item-num\">4&nbsp;&nbsp;</span>Борьба с дисбалансом</a></span><ul class=\"toc-item\"><li><span><a href=\"#Увеличение-выборки\" data-toc-modified-id=\"Увеличение-выборки-4.1\"><span class=\"toc-item-num\">4.1&nbsp;&nbsp;</span>Увеличение выборки</a></span><ul class=\"toc-item\"><li><span><a href=\"#Random-Forest\" data-toc-modified-id=\"Random-Forest-4.1.1\"><span class=\"toc-item-num\">4.1.1&nbsp;&nbsp;</span>Random Forest</a></span></li><li><span><a href=\"#LogisticRegression\" data-toc-modified-id=\"LogisticRegression-4.1.2\"><span class=\"toc-item-num\">4.1.2&nbsp;&nbsp;</span>LogisticRegression</a></span></li></ul></li><li><span><a href=\"#Уменьшение-выборки\" data-toc-modified-id=\"Уменьшение-выборки-4.2\"><span class=\"toc-item-num\">4.2&nbsp;&nbsp;</span>Уменьшение выборки</a></span><ul class=\"toc-item\"><li><span><a href=\"#Random-Forests\" data-toc-modified-id=\"Random-Forests-4.2.1\"><span class=\"toc-item-num\">4.2.1&nbsp;&nbsp;</span>Random Forests</a></span></li><li><span><a href=\"#Logistic-Regression\" data-toc-modified-id=\"Logistic-Regression-4.2.2\"><span class=\"toc-item-num\">4.2.2&nbsp;&nbsp;</span>Logistic Regression</a></span></li></ul></li><li><span><a href=\"#Вывод\" data-toc-modified-id=\"Вывод-4.3\"><span class=\"toc-item-num\">4.3&nbsp;&nbsp;</span>Вывод</a></span></li></ul></li><li><span><a href=\"#Тестирование-модели\" data-toc-modified-id=\"Тестирование-модели-5\"><span class=\"toc-item-num\">5&nbsp;&nbsp;</span>Тестирование модели</a></span></li><li><span><a href=\"#Вывод\" data-toc-modified-id=\"Вывод-6\"><span class=\"toc-item-num\">6&nbsp;&nbsp;</span>Вывод</a></span></li><li><span><a href=\"#Чек-лист-готовности-проекта\" data-toc-modified-id=\"Чек-лист-готовности-проекта-7\"><span class=\"toc-item-num\">7&nbsp;&nbsp;</span>Чек-лист готовности проекта</a></span></li></ul></div>"
   ]
  },
  {
   "attachments": {},
   "cell_type": "markdown",
   "metadata": {},
   "source": [
    "# Отток клиентов"
   ]
  },
  {
   "attachments": {},
   "cell_type": "markdown",
   "metadata": {},
   "source": [
    "Из «Бета-Банка» стали уходить клиенты. Каждый месяц. Немного, но заметно. Банковские маркетологи посчитали: сохранять текущих клиентов дешевле, чем привлекать новых.\n",
    "\n",
    "Нужно спрогнозировать, уйдёт клиент из банка в ближайшее время или нет. Вам предоставлены исторические данные о поведении клиентов и расторжении договоров с банком. \n",
    "\n",
    "Постройте модель с предельно большим значением *F1*-меры. Чтобы сдать проект успешно, нужно довести метрику до 0.59. Проверьте *F1*-меру на тестовой выборке самостоятельно.\n",
    "\n",
    "Дополнительно измеряйте *AUC-ROC*, сравнивайте её значение с *F1*-мерой.\n",
    "\n",
    "Источник данных: [https://www.kaggle.com/barelydedicated/bank-customer-churn-modeling](https://www.kaggle.com/barelydedicated/bank-customer-churn-modeling)"
   ]
  },
  {
   "attachments": {},
   "cell_type": "markdown",
   "metadata": {},
   "source": [
    "## Описание данных\n",
    "Данные находятся в файле /datasets/Churn.csv (англ. «отток клиентов»).  \n",
    "\n",
    "**Признаки**  \n",
    "RowNumber — индекс строки в данных  \n",
    "CustomerId — уникальный идентификатор клиента  \n",
    "Surname — фамилия  \n",
    "CreditScore — кредитный рейтинг  \n",
    "Geography — страна проживания  \n",
    "Gender — пол  \n",
    "Age — возраст  \n",
    "Tenure — сколько лет человек является клиентом банка  \n",
    "Balance — баланс на счёте  \n",
    "NumOfProducts — количество продуктов банка, используемых клиентом  \n",
    "HasCrCard — наличие кредитной карты  \n",
    "IsActiveMember — активность клиента  \n",
    "EstimatedSalary — предполагаемая зарплата  \n",
    "\n",
    "**Целевой признак**  \n",
    "Exited — факт ухода клиента  "
   ]
  },
  {
   "attachments": {},
   "cell_type": "markdown",
   "metadata": {},
   "source": [
    "В проекте используется нотация:  \n",
    "`x_` для переменных содержащих признаки  \n",
    "`y_` для переменных содержаших целевые показатели   "
   ]
  },
  {
   "attachments": {},
   "cell_type": "markdown",
   "metadata": {},
   "source": [
    "### Библиотеки"
   ]
  },
  {
   "cell_type": "code",
   "execution_count": 1,
   "metadata": {},
   "outputs": [],
   "source": [
    "import pandas as pd\n",
    "import numpy as np\n",
    "import matplotlib.pyplot as plt\n",
    "\n",
    "from sklearn.tree import DecisionTreeClassifier\n",
    "from sklearn.ensemble import RandomForestClassifier\n",
    "from sklearn.linear_model import LogisticRegression\n",
    "\n",
    "from sklearn.preprocessing import StandardScaler\n",
    "\n",
    "from sklearn.model_selection import train_test_split, GridSearchCV\n",
    "\n",
    "from fast_ml.model_development import train_valid_test_split\n",
    "\n",
    "from sklearn.metrics import f1_score, roc_auc_score, roc_curve, make_scorer\n",
    "\n",
    "from sklearn.utils import shuffle"
   ]
  },
  {
   "attachments": {},
   "cell_type": "markdown",
   "metadata": {},
   "source": [
    "### Функции"
   ]
  },
  {
   "cell_type": "code",
   "execution_count": 2,
   "metadata": {},
   "outputs": [],
   "source": [
    "def dataframe_info(df):\n",
    "    display(df.head())\n",
    "    print(df.shape)\n",
    "    df.info()\n",
    "    print(df.duplicated().sum())\n",
    "\n",
    "def data_split(data, target):\n",
    "    x_train, y_train, x_valid, y_valid, x_test, y_test = train_valid_test_split(data, \n",
    "                                                                                target, \n",
    "                                                                                train_size=0.6, \n",
    "                                                                                valid_size=0.2,\n",
    "                                                                                test_size=0.2)        \n",
    "    x_train = x_train.reset_index(drop=True)                              \n",
    "    y_train = y_train.reset_index(drop=True) \n",
    "    x_valid = x_valid.reset_index(drop=True) \n",
    "    y_valid = y_valid.reset_index(drop=True) \n",
    "    x_test = x_test.reset_index(drop=True) \n",
    "    y_test = y_test.reset_index(drop=True) \n",
    "\n",
    "    return x_train, y_train, x_valid, y_valid, x_test, y_test\n",
    "\n",
    "def data_scale(x_train, x_valid, x_test):\n",
    "    \n",
    "    scaler = StandardScaler()\n",
    "    scaler.fit(x_train)\n",
    "\n",
    "    x_train = pd.DataFrame(scaler.transform(x_train), columns=x_train.columns)\n",
    "    x_valid = pd.DataFrame(scaler.transform(x_valid), columns=x_train.columns)\n",
    "    x_test  = pd.DataFrame(scaler.transform(x_test), columns=x_train.columns)\n",
    "    \n",
    "    return x_train, x_valid, x_test    \n",
    "\n",
    "def scores(targed, predictions):\n",
    "    \n",
    "    print('F1-score: ', f1_score(targed, predictions))\n",
    "    print('AUC_ROC:', roc_auc_score(targed, predictions))\n",
    "\n",
    "    fpr, tpr, thresholds = roc_curve(targed, predictions)\n",
    "\n",
    "    plt.figure()\n",
    "    plt.plot(fpr, tpr)\n",
    "    plt.xlim([0.0, 1.0])\n",
    "    plt.ylim([0.0, 1.0])\n",
    "    plt.xlabel('False Positive Rate')\n",
    "    plt.ylabel('True Positive Rate')\n",
    "    plt.title('ROC-кривая')\n",
    "    plt.show()\n",
    "\n",
    "def upsample(features, target, repeat):\n",
    "    features_zeros = features[target == 0]\n",
    "    features_ones = features[target == 1]\n",
    "    target_zeros = target[target == 0]\n",
    "    target_ones = target[target == 1]\n",
    "\n",
    "    features_upsampled = pd.concat([features_zeros] + [features_ones] * repeat)\n",
    "    target_upsampled = pd.concat([target_zeros] + [target_ones] * repeat)\n",
    "    \n",
    "    features_upsampled, target_upsampled = shuffle(\n",
    "        features_upsampled, target_upsampled, random_state=12345)\n",
    "    \n",
    "    return features_upsampled, target_upsampled  \n",
    "\n",
    "def downsample(features, target, fraction):\n",
    "    features_zeros = features[target == 0]\n",
    "    features_ones = features[target == 1]\n",
    "    target_zeros = target[target == 0]\n",
    "    target_ones = target[target == 1]\n",
    "\n",
    "    features_downsampled = pd.concat(\n",
    "        [features_zeros.sample(frac=fraction, random_state=12345)] + [features_ones])\n",
    "    target_downsampled = pd.concat(\n",
    "        [target_zeros.sample(frac=fraction, random_state=12345)] + [target_ones])\n",
    "    \n",
    "    features_downsampled, target_downsampled = shuffle(\n",
    "        features_downsampled, target_downsampled, random_state=12345)\n",
    "    \n",
    "    return features_downsampled, target_downsampled      "
   ]
  },
  {
   "attachments": {},
   "cell_type": "markdown",
   "metadata": {},
   "source": [
    "## Подготовка данных"
   ]
  },
  {
   "cell_type": "code",
   "execution_count": 3,
   "metadata": {},
   "outputs": [
    {
     "data": {
      "text/html": [
       "<div>\n",
       "<style scoped>\n",
       "    .dataframe tbody tr th:only-of-type {\n",
       "        vertical-align: middle;\n",
       "    }\n",
       "\n",
       "    .dataframe tbody tr th {\n",
       "        vertical-align: top;\n",
       "    }\n",
       "\n",
       "    .dataframe thead th {\n",
       "        text-align: right;\n",
       "    }\n",
       "</style>\n",
       "<table border=\"1\" class=\"dataframe\">\n",
       "  <thead>\n",
       "    <tr style=\"text-align: right;\">\n",
       "      <th></th>\n",
       "      <th>RowNumber</th>\n",
       "      <th>CustomerId</th>\n",
       "      <th>Surname</th>\n",
       "      <th>CreditScore</th>\n",
       "      <th>Geography</th>\n",
       "      <th>Gender</th>\n",
       "      <th>Age</th>\n",
       "      <th>Tenure</th>\n",
       "      <th>Balance</th>\n",
       "      <th>NumOfProducts</th>\n",
       "      <th>HasCrCard</th>\n",
       "      <th>IsActiveMember</th>\n",
       "      <th>EstimatedSalary</th>\n",
       "      <th>Exited</th>\n",
       "    </tr>\n",
       "  </thead>\n",
       "  <tbody>\n",
       "    <tr>\n",
       "      <th>0</th>\n",
       "      <td>1</td>\n",
       "      <td>15634602</td>\n",
       "      <td>Hargrave</td>\n",
       "      <td>619</td>\n",
       "      <td>France</td>\n",
       "      <td>Female</td>\n",
       "      <td>42</td>\n",
       "      <td>2.0</td>\n",
       "      <td>0.00</td>\n",
       "      <td>1</td>\n",
       "      <td>1</td>\n",
       "      <td>1</td>\n",
       "      <td>101348.88</td>\n",
       "      <td>1</td>\n",
       "    </tr>\n",
       "    <tr>\n",
       "      <th>1</th>\n",
       "      <td>2</td>\n",
       "      <td>15647311</td>\n",
       "      <td>Hill</td>\n",
       "      <td>608</td>\n",
       "      <td>Spain</td>\n",
       "      <td>Female</td>\n",
       "      <td>41</td>\n",
       "      <td>1.0</td>\n",
       "      <td>83807.86</td>\n",
       "      <td>1</td>\n",
       "      <td>0</td>\n",
       "      <td>1</td>\n",
       "      <td>112542.58</td>\n",
       "      <td>0</td>\n",
       "    </tr>\n",
       "    <tr>\n",
       "      <th>2</th>\n",
       "      <td>3</td>\n",
       "      <td>15619304</td>\n",
       "      <td>Onio</td>\n",
       "      <td>502</td>\n",
       "      <td>France</td>\n",
       "      <td>Female</td>\n",
       "      <td>42</td>\n",
       "      <td>8.0</td>\n",
       "      <td>159660.80</td>\n",
       "      <td>3</td>\n",
       "      <td>1</td>\n",
       "      <td>0</td>\n",
       "      <td>113931.57</td>\n",
       "      <td>1</td>\n",
       "    </tr>\n",
       "    <tr>\n",
       "      <th>3</th>\n",
       "      <td>4</td>\n",
       "      <td>15701354</td>\n",
       "      <td>Boni</td>\n",
       "      <td>699</td>\n",
       "      <td>France</td>\n",
       "      <td>Female</td>\n",
       "      <td>39</td>\n",
       "      <td>1.0</td>\n",
       "      <td>0.00</td>\n",
       "      <td>2</td>\n",
       "      <td>0</td>\n",
       "      <td>0</td>\n",
       "      <td>93826.63</td>\n",
       "      <td>0</td>\n",
       "    </tr>\n",
       "    <tr>\n",
       "      <th>4</th>\n",
       "      <td>5</td>\n",
       "      <td>15737888</td>\n",
       "      <td>Mitchell</td>\n",
       "      <td>850</td>\n",
       "      <td>Spain</td>\n",
       "      <td>Female</td>\n",
       "      <td>43</td>\n",
       "      <td>2.0</td>\n",
       "      <td>125510.82</td>\n",
       "      <td>1</td>\n",
       "      <td>1</td>\n",
       "      <td>1</td>\n",
       "      <td>79084.10</td>\n",
       "      <td>0</td>\n",
       "    </tr>\n",
       "  </tbody>\n",
       "</table>\n",
       "</div>"
      ],
      "text/plain": [
       "   RowNumber  CustomerId   Surname  CreditScore Geography  Gender  Age  \\\n",
       "0          1    15634602  Hargrave          619    France  Female   42   \n",
       "1          2    15647311      Hill          608     Spain  Female   41   \n",
       "2          3    15619304      Onio          502    France  Female   42   \n",
       "3          4    15701354      Boni          699    France  Female   39   \n",
       "4          5    15737888  Mitchell          850     Spain  Female   43   \n",
       "\n",
       "   Tenure    Balance  NumOfProducts  HasCrCard  IsActiveMember  \\\n",
       "0     2.0       0.00              1          1               1   \n",
       "1     1.0   83807.86              1          0               1   \n",
       "2     8.0  159660.80              3          1               0   \n",
       "3     1.0       0.00              2          0               0   \n",
       "4     2.0  125510.82              1          1               1   \n",
       "\n",
       "   EstimatedSalary  Exited  \n",
       "0        101348.88       1  \n",
       "1        112542.58       0  \n",
       "2        113931.57       1  \n",
       "3         93826.63       0  \n",
       "4         79084.10       0  "
      ]
     },
     "metadata": {},
     "output_type": "display_data"
    },
    {
     "name": "stdout",
     "output_type": "stream",
     "text": [
      "(10000, 14)\n",
      "<class 'pandas.core.frame.DataFrame'>\n",
      "RangeIndex: 10000 entries, 0 to 9999\n",
      "Data columns (total 14 columns):\n",
      " #   Column           Non-Null Count  Dtype  \n",
      "---  ------           --------------  -----  \n",
      " 0   RowNumber        10000 non-null  int64  \n",
      " 1   CustomerId       10000 non-null  int64  \n",
      " 2   Surname          10000 non-null  object \n",
      " 3   CreditScore      10000 non-null  int64  \n",
      " 4   Geography        10000 non-null  object \n",
      " 5   Gender           10000 non-null  object \n",
      " 6   Age              10000 non-null  int64  \n",
      " 7   Tenure           9091 non-null   float64\n",
      " 8   Balance          10000 non-null  float64\n",
      " 9   NumOfProducts    10000 non-null  int64  \n",
      " 10  HasCrCard        10000 non-null  int64  \n",
      " 11  IsActiveMember   10000 non-null  int64  \n",
      " 12  EstimatedSalary  10000 non-null  float64\n",
      " 13  Exited           10000 non-null  int64  \n",
      "dtypes: float64(3), int64(8), object(3)\n",
      "memory usage: 1.1+ MB\n",
      "0\n"
     ]
    }
   ],
   "source": [
    "try:\n",
    "    df = pd.read_csv('datasets/Churn.csv')\n",
    "except:\n",
    "    df = pd.read_csv('/datasets/Churn.csv')\n",
    "\n",
    "dataframe_info(df)"
   ]
  },
  {
   "attachments": {},
   "cell_type": "markdown",
   "metadata": {},
   "source": [
    "В датасете 10000 строк. Дублей нет. В колонке `Tenure` есть NaN значения, проанализируем содержимое этой колонки"
   ]
  },
  {
   "cell_type": "code",
   "execution_count": 4,
   "metadata": {},
   "outputs": [
    {
     "data": {
      "text/plain": [
       "Tenure\n",
       "1.0     952\n",
       "2.0     950\n",
       "8.0     933\n",
       "3.0     928\n",
       "5.0     927\n",
       "7.0     925\n",
       "4.0     885\n",
       "9.0     882\n",
       "6.0     881\n",
       "10.0    446\n",
       "0.0     382\n",
       "Name: count, dtype: int64"
      ]
     },
     "execution_count": 4,
     "metadata": {},
     "output_type": "execute_result"
    }
   ],
   "source": [
    "df['Tenure'].value_counts()"
   ]
  },
  {
   "attachments": {},
   "cell_type": "markdown",
   "metadata": {},
   "source": [
    "Незаполненных значений 10% от всего датасета, выкидывать такое количество данных нельзя, поэтому предположу, что незаполняли параметр для новых клиентов и заполню все НаН нулями."
   ]
  },
  {
   "cell_type": "code",
   "execution_count": 5,
   "metadata": {},
   "outputs": [],
   "source": [
    "df['Tenure'] = df['Tenure'].fillna(0)"
   ]
  },
  {
   "attachments": {},
   "cell_type": "markdown",
   "metadata": {},
   "source": [
    "Колонки `RowNumber`, `CustomerId`, `Surname` не влияют на прогноз, поэтому эти данные удалим."
   ]
  },
  {
   "cell_type": "code",
   "execution_count": 6,
   "metadata": {},
   "outputs": [],
   "source": [
    "df = df.drop(['RowNumber', 'CustomerId', 'Surname'], axis=1)"
   ]
  },
  {
   "attachments": {},
   "cell_type": "markdown",
   "metadata": {},
   "source": [
    "Проанализируем колонки Страна и Пол для их последующего кодирования"
   ]
  },
  {
   "cell_type": "code",
   "execution_count": 7,
   "metadata": {},
   "outputs": [
    {
     "data": {
      "text/plain": [
       "Geography\n",
       "France     5014\n",
       "Germany    2509\n",
       "Spain      2477\n",
       "Name: count, dtype: int64"
      ]
     },
     "execution_count": 7,
     "metadata": {},
     "output_type": "execute_result"
    }
   ],
   "source": [
    "df['Geography'].value_counts()"
   ]
  },
  {
   "cell_type": "code",
   "execution_count": 8,
   "metadata": {},
   "outputs": [
    {
     "data": {
      "text/plain": [
       "Gender\n",
       "Male      5457\n",
       "Female    4543\n",
       "Name: count, dtype: int64"
      ]
     },
     "execution_count": 8,
     "metadata": {},
     "output_type": "execute_result"
    }
   ],
   "source": [
    "df['Gender'].value_counts()"
   ]
  },
  {
   "attachments": {},
   "cell_type": "markdown",
   "metadata": {},
   "source": [
    "Предобработка не требуется. Произведем кодирование категориальных признаков, кодировать будем методом OHE, так как он подходит для всех моделей и в данном случае **порядок категориальных элементов не важен**."
   ]
  },
  {
   "cell_type": "code",
   "execution_count": 9,
   "metadata": {},
   "outputs": [
    {
     "name": "stdout",
     "output_type": "stream",
     "text": [
      "(10000, 12)\n"
     ]
    },
    {
     "data": {
      "text/html": [
       "<div>\n",
       "<style scoped>\n",
       "    .dataframe tbody tr th:only-of-type {\n",
       "        vertical-align: middle;\n",
       "    }\n",
       "\n",
       "    .dataframe tbody tr th {\n",
       "        vertical-align: top;\n",
       "    }\n",
       "\n",
       "    .dataframe thead th {\n",
       "        text-align: right;\n",
       "    }\n",
       "</style>\n",
       "<table border=\"1\" class=\"dataframe\">\n",
       "  <thead>\n",
       "    <tr style=\"text-align: right;\">\n",
       "      <th></th>\n",
       "      <th>CreditScore</th>\n",
       "      <th>Age</th>\n",
       "      <th>Tenure</th>\n",
       "      <th>Balance</th>\n",
       "      <th>NumOfProducts</th>\n",
       "      <th>HasCrCard</th>\n",
       "      <th>IsActiveMember</th>\n",
       "      <th>EstimatedSalary</th>\n",
       "      <th>Exited</th>\n",
       "      <th>Geography_Germany</th>\n",
       "      <th>Geography_Spain</th>\n",
       "      <th>Gender_Male</th>\n",
       "    </tr>\n",
       "  </thead>\n",
       "  <tbody>\n",
       "    <tr>\n",
       "      <th>0</th>\n",
       "      <td>619</td>\n",
       "      <td>42</td>\n",
       "      <td>2.0</td>\n",
       "      <td>0.00</td>\n",
       "      <td>1</td>\n",
       "      <td>1</td>\n",
       "      <td>1</td>\n",
       "      <td>101348.88</td>\n",
       "      <td>1</td>\n",
       "      <td>0</td>\n",
       "      <td>0</td>\n",
       "      <td>0</td>\n",
       "    </tr>\n",
       "    <tr>\n",
       "      <th>1</th>\n",
       "      <td>608</td>\n",
       "      <td>41</td>\n",
       "      <td>1.0</td>\n",
       "      <td>83807.86</td>\n",
       "      <td>1</td>\n",
       "      <td>0</td>\n",
       "      <td>1</td>\n",
       "      <td>112542.58</td>\n",
       "      <td>0</td>\n",
       "      <td>0</td>\n",
       "      <td>1</td>\n",
       "      <td>0</td>\n",
       "    </tr>\n",
       "    <tr>\n",
       "      <th>2</th>\n",
       "      <td>502</td>\n",
       "      <td>42</td>\n",
       "      <td>8.0</td>\n",
       "      <td>159660.80</td>\n",
       "      <td>3</td>\n",
       "      <td>1</td>\n",
       "      <td>0</td>\n",
       "      <td>113931.57</td>\n",
       "      <td>1</td>\n",
       "      <td>0</td>\n",
       "      <td>0</td>\n",
       "      <td>0</td>\n",
       "    </tr>\n",
       "    <tr>\n",
       "      <th>3</th>\n",
       "      <td>699</td>\n",
       "      <td>39</td>\n",
       "      <td>1.0</td>\n",
       "      <td>0.00</td>\n",
       "      <td>2</td>\n",
       "      <td>0</td>\n",
       "      <td>0</td>\n",
       "      <td>93826.63</td>\n",
       "      <td>0</td>\n",
       "      <td>0</td>\n",
       "      <td>0</td>\n",
       "      <td>0</td>\n",
       "    </tr>\n",
       "    <tr>\n",
       "      <th>4</th>\n",
       "      <td>850</td>\n",
       "      <td>43</td>\n",
       "      <td>2.0</td>\n",
       "      <td>125510.82</td>\n",
       "      <td>1</td>\n",
       "      <td>1</td>\n",
       "      <td>1</td>\n",
       "      <td>79084.10</td>\n",
       "      <td>0</td>\n",
       "      <td>0</td>\n",
       "      <td>1</td>\n",
       "      <td>0</td>\n",
       "    </tr>\n",
       "  </tbody>\n",
       "</table>\n",
       "</div>"
      ],
      "text/plain": [
       "   CreditScore  Age  Tenure    Balance  NumOfProducts  HasCrCard  \\\n",
       "0          619   42     2.0       0.00              1          1   \n",
       "1          608   41     1.0   83807.86              1          0   \n",
       "2          502   42     8.0  159660.80              3          1   \n",
       "3          699   39     1.0       0.00              2          0   \n",
       "4          850   43     2.0  125510.82              1          1   \n",
       "\n",
       "   IsActiveMember  EstimatedSalary  Exited  Geography_Germany  \\\n",
       "0               1        101348.88       1                  0   \n",
       "1               1        112542.58       0                  0   \n",
       "2               0        113931.57       1                  0   \n",
       "3               0         93826.63       0                  0   \n",
       "4               1         79084.10       0                  0   \n",
       "\n",
       "   Geography_Spain  Gender_Male  \n",
       "0                0            0  \n",
       "1                1            0  \n",
       "2                0            0  \n",
       "3                0            0  \n",
       "4                1            0  "
      ]
     },
     "metadata": {},
     "output_type": "display_data"
    }
   ],
   "source": [
    "data_ohe = pd.get_dummies(df, drop_first=True, dtype=int)\n",
    "print(data_ohe.shape)\n",
    "display(data_ohe.head())"
   ]
  },
  {
   "attachments": {},
   "cell_type": "markdown",
   "metadata": {},
   "source": [
    "Теперь произведем масштабирование признаков"
   ]
  },
  {
   "attachments": {},
   "cell_type": "markdown",
   "metadata": {},
   "source": [
    "Вывод: В дата сете 10000 строк, достаточно для обучения модели. Пропуски в колонке \"сколько лет человек является клиентом банка\" заполнили нулями. Признаки \"Страна\" и \"Пол\" закодировали прямым кодированием."
   ]
  },
  {
   "attachments": {},
   "cell_type": "markdown",
   "metadata": {},
   "source": [
    "## Исследование задачи"
   ]
  },
  {
   "attachments": {},
   "cell_type": "markdown",
   "metadata": {},
   "source": [
    "### Перед разбитием на выборки, проанализируем баланс классов"
   ]
  },
  {
   "cell_type": "code",
   "execution_count": 10,
   "metadata": {},
   "outputs": [
    {
     "name": "stdout",
     "output_type": "stream",
     "text": [
      "Exited\n",
      "0    7963\n",
      "1    2037\n",
      "Name: count, dtype: int64\n",
      "Exited\n",
      "0    0.7963\n",
      "1    0.2037\n",
      "Name: proportion, dtype: float64\n"
     ]
    }
   ],
   "source": [
    "print(data_ohe['Exited'].value_counts())\n",
    "print(data_ohe['Exited'].value_counts(normalize=True))"
   ]
  },
  {
   "attachments": {},
   "cell_type": "markdown",
   "metadata": {},
   "source": [
    "Пропорция отрицательных к положэительным значений примерно 4 к 1.  \n",
    "Попробуем сначала обучить модель на таких данных. Обучать будем Случайный лес и логистическую регрессию."
   ]
  },
  {
   "cell_type": "code",
   "execution_count": 11,
   "metadata": {},
   "outputs": [
    {
     "name": "stdout",
     "output_type": "stream",
     "text": [
      "(6000, 11)\n",
      "(2000, 11)\n",
      "(2000, 11)\n"
     ]
    },
    {
     "data": {
      "text/html": [
       "<div>\n",
       "<style scoped>\n",
       "    .dataframe tbody tr th:only-of-type {\n",
       "        vertical-align: middle;\n",
       "    }\n",
       "\n",
       "    .dataframe tbody tr th {\n",
       "        vertical-align: top;\n",
       "    }\n",
       "\n",
       "    .dataframe thead th {\n",
       "        text-align: right;\n",
       "    }\n",
       "</style>\n",
       "<table border=\"1\" class=\"dataframe\">\n",
       "  <thead>\n",
       "    <tr style=\"text-align: right;\">\n",
       "      <th></th>\n",
       "      <th>CreditScore</th>\n",
       "      <th>Age</th>\n",
       "      <th>Tenure</th>\n",
       "      <th>Balance</th>\n",
       "      <th>NumOfProducts</th>\n",
       "      <th>HasCrCard</th>\n",
       "      <th>IsActiveMember</th>\n",
       "      <th>EstimatedSalary</th>\n",
       "      <th>Geography_Germany</th>\n",
       "      <th>Geography_Spain</th>\n",
       "      <th>Gender_Male</th>\n",
       "    </tr>\n",
       "  </thead>\n",
       "  <tbody>\n",
       "    <tr>\n",
       "      <th>0</th>\n",
       "      <td>0.625916</td>\n",
       "      <td>-1.133027</td>\n",
       "      <td>1.751702</td>\n",
       "      <td>-1.227470</td>\n",
       "      <td>-0.915771</td>\n",
       "      <td>0.651278</td>\n",
       "      <td>-1.037711</td>\n",
       "      <td>-0.095472</td>\n",
       "      <td>-0.579146</td>\n",
       "      <td>1.752300</td>\n",
       "      <td>0.913708</td>\n",
       "    </tr>\n",
       "    <tr>\n",
       "      <th>1</th>\n",
       "      <td>-1.711465</td>\n",
       "      <td>-1.133027</td>\n",
       "      <td>-1.137306</td>\n",
       "      <td>0.017475</td>\n",
       "      <td>-0.915771</td>\n",
       "      <td>0.651278</td>\n",
       "      <td>0.963660</td>\n",
       "      <td>-1.702023</td>\n",
       "      <td>-0.579146</td>\n",
       "      <td>-0.570678</td>\n",
       "      <td>0.913708</td>\n",
       "    </tr>\n",
       "    <tr>\n",
       "      <th>2</th>\n",
       "      <td>1.493504</td>\n",
       "      <td>-0.847985</td>\n",
       "      <td>1.751702</td>\n",
       "      <td>-0.116807</td>\n",
       "      <td>-0.915771</td>\n",
       "      <td>0.651278</td>\n",
       "      <td>0.963660</td>\n",
       "      <td>-0.441437</td>\n",
       "      <td>-0.579146</td>\n",
       "      <td>-0.570678</td>\n",
       "      <td>0.913708</td>\n",
       "    </tr>\n",
       "    <tr>\n",
       "      <th>3</th>\n",
       "      <td>0.646330</td>\n",
       "      <td>1.147311</td>\n",
       "      <td>-0.174304</td>\n",
       "      <td>0.185534</td>\n",
       "      <td>2.557445</td>\n",
       "      <td>-1.535442</td>\n",
       "      <td>-1.037711</td>\n",
       "      <td>-1.636667</td>\n",
       "      <td>-0.579146</td>\n",
       "      <td>-0.570678</td>\n",
       "      <td>-1.094442</td>\n",
       "    </tr>\n",
       "    <tr>\n",
       "      <th>4</th>\n",
       "      <td>-0.272291</td>\n",
       "      <td>0.672240</td>\n",
       "      <td>-0.495304</td>\n",
       "      <td>-1.227470</td>\n",
       "      <td>0.820837</td>\n",
       "      <td>0.651278</td>\n",
       "      <td>0.963660</td>\n",
       "      <td>-0.646726</td>\n",
       "      <td>-0.579146</td>\n",
       "      <td>1.752300</td>\n",
       "      <td>0.913708</td>\n",
       "    </tr>\n",
       "  </tbody>\n",
       "</table>\n",
       "</div>"
      ],
      "text/plain": [
       "   CreditScore       Age    Tenure   Balance  NumOfProducts  HasCrCard  \\\n",
       "0     0.625916 -1.133027  1.751702 -1.227470      -0.915771   0.651278   \n",
       "1    -1.711465 -1.133027 -1.137306  0.017475      -0.915771   0.651278   \n",
       "2     1.493504 -0.847985  1.751702 -0.116807      -0.915771   0.651278   \n",
       "3     0.646330  1.147311 -0.174304  0.185534       2.557445  -1.535442   \n",
       "4    -0.272291  0.672240 -0.495304 -1.227470       0.820837   0.651278   \n",
       "\n",
       "   IsActiveMember  EstimatedSalary  Geography_Germany  Geography_Spain  \\\n",
       "0       -1.037711        -0.095472          -0.579146         1.752300   \n",
       "1        0.963660        -1.702023          -0.579146        -0.570678   \n",
       "2        0.963660        -0.441437          -0.579146        -0.570678   \n",
       "3       -1.037711        -1.636667          -0.579146        -0.570678   \n",
       "4        0.963660        -0.646726          -0.579146         1.752300   \n",
       "\n",
       "   Gender_Male  \n",
       "0     0.913708  \n",
       "1     0.913708  \n",
       "2     0.913708  \n",
       "3    -1.094442  \n",
       "4     0.913708  "
      ]
     },
     "metadata": {},
     "output_type": "display_data"
    }
   ],
   "source": [
    "x_train, y_train, x_valid,  y_valid, x_test, y_test = data_split(data_ohe, 'Exited')\n",
    "x_train, x_valid, x_test = data_scale(x_train, x_valid, x_test)\n",
    "print(x_train.shape)\n",
    "print(x_valid.shape)\n",
    "print(x_test.shape)\n",
    "display(x_train.head(5))"
   ]
  },
  {
   "attachments": {},
   "cell_type": "markdown",
   "metadata": {},
   "source": [
    "### Random Forest"
   ]
  },
  {
   "cell_type": "code",
   "execution_count": 12,
   "metadata": {},
   "outputs": [
    {
     "name": "stdout",
     "output_type": "stream",
     "text": [
      "F1-score:  0.5914634146341463\n",
      "AUC_ROC: 0.7158212646548239\n"
     ]
    },
    {
     "data": {
      "image/png": "[encoded data removed]",
      "text/plain": [
       "<Figure size 640x480 with 1 Axes>"
      ]
     },
     "metadata": {},
     "output_type": "display_data"
    }
   ],
   "source": [
    "model = RandomForestClassifier(random_state=12345, n_estimators=60, max_depth=10)\n",
    "model.fit(x_train, y_train)\n",
    "y_pred = model.predict(x_valid)\n",
    "\n",
    "scores(y_valid, y_pred)"
   ]
  },
  {
   "attachments": {},
   "cell_type": "markdown",
   "metadata": {},
   "source": [
    "### LogisticRegression"
   ]
  },
  {
   "cell_type": "code",
   "execution_count": 13,
   "metadata": {},
   "outputs": [
    {
     "name": "stdout",
     "output_type": "stream",
     "text": [
      "F1-score:  0.3016157989228007\n",
      "AUC_ROC: 0.5838178640222587\n"
     ]
    },
    {
     "data": {
      "image/png": "[encoded data removed]",
      "text/plain": [
       "<Figure size 640x480 with 1 Axes>"
      ]
     },
     "metadata": {},
     "output_type": "display_data"
    }
   ],
   "source": [
    "model = LogisticRegression(random_state=12345, solver='liblinear')\n",
    "model.fit(x_train, y_train)\n",
    "y_pred = model.predict(x_valid)\n",
    "\n",
    "scores(y_valid, y_pred)"
   ]
  },
  {
   "attachments": {},
   "cell_type": "markdown",
   "metadata": {},
   "source": [
    "### LogisticRegression со сбалансированным весом"
   ]
  },
  {
   "cell_type": "code",
   "execution_count": 14,
   "metadata": {},
   "outputs": [
    {
     "name": "stdout",
     "output_type": "stream",
     "text": [
      "F1-score:  0.5195911413969336\n",
      "AUC_ROC: 0.7160412356424342\n"
     ]
    },
    {
     "data": {
      "image/png": "[encoded data removed]",
      "text/plain": [
       "<Figure size 640x480 with 1 Axes>"
      ]
     },
     "metadata": {},
     "output_type": "display_data"
    }
   ],
   "source": [
    "model = LogisticRegression(random_state=12345, solver='liblinear', class_weight='balanced')\n",
    "model.fit(x_train, y_train)\n",
    "y_pred = model.predict(x_valid)\n",
    "\n",
    "scores(y_valid, y_pred)"
   ]
  },
  {
   "attachments": {},
   "cell_type": "markdown",
   "metadata": {},
   "source": [
    "Вывод: На несбалансированных данных и без перебора метапараметров получаем низкое качество предсказаний, но все равно лучше случайной модели. Случайный лес показывает лучшие результаты. Логистическая регрессия показывает лучшие результаты с параметром балансировки классов, значит баланс классов имеет большой эффект. Попробуем сбалансировать вручную."
   ]
  },
  {
   "attachments": {},
   "cell_type": "markdown",
   "metadata": {},
   "source": [
    "## Борьба с дисбалансом"
   ]
  },
  {
   "attachments": {},
   "cell_type": "markdown",
   "metadata": {},
   "source": [
    "### Увеличение выборки"
   ]
  },
  {
   "cell_type": "code",
   "execution_count": 15,
   "metadata": {},
   "outputs": [
    {
     "data": {
      "text/plain": [
       "Exited\n",
       "1    4828\n",
       "0    4793\n",
       "Name: count, dtype: int64"
      ]
     },
     "execution_count": 15,
     "metadata": {},
     "output_type": "execute_result"
    }
   ],
   "source": [
    "x_upsampled, y_upsampled = upsample(x_train, y_train, 4)\n",
    "y_upsampled.value_counts()"
   ]
  },
  {
   "attachments": {},
   "cell_type": "markdown",
   "metadata": {},
   "source": [
    "#### Random Forest"
   ]
  },
  {
   "attachments": {},
   "cell_type": "markdown",
   "metadata": {},
   "source": [
    "Поиск оптимальных параметров с помощью сетки"
   ]
  },
  {
   "cell_type": "code",
   "execution_count": 16,
   "metadata": {},
   "outputs": [
    {
     "name": "stdout",
     "output_type": "stream",
     "text": [
      "Best grid search hyperparameters are: {'max_depth': 15, 'max_features': 5, 'min_samples_leaf': 1, 'min_samples_split': 2, 'n_estimators': 60}\n",
      "Best grid search score is: 0.9380408317411474\n",
      "CPU times: user 2.54 s, sys: 424 ms, total: 2.96 s\n",
      "Wall time: 35.8 s\n"
     ]
    }
   ],
   "source": [
    "%%time\n",
    "f1 = make_scorer(f1_score , average='macro')\n",
    "\n",
    "grid_space={'max_depth':[5,7,9,10,15],\n",
    "              'n_estimators':[60,100],\n",
    "              'max_features':[3,5,7],\n",
    "              'min_samples_leaf':[1,2,3],\n",
    "              'min_samples_split':[1,2,3]\n",
    "           }\n",
    "\n",
    "rf = RandomForestClassifier(random_state=12345)\n",
    "\n",
    "grid = GridSearchCV(rf, param_grid=grid_space, cv=3, scoring='f1', n_jobs=-1)\n",
    "model_grid = grid.fit(x_upsampled, y_upsampled)\n",
    "\n",
    "# grid search results\n",
    "print('Best grid search hyperparameters are: '+str(model_grid.best_params_))\n",
    "print('Best grid search score is: '+str(model_grid.best_score_))\n"
   ]
  },
  {
   "cell_type": "code",
   "execution_count": 17,
   "metadata": {},
   "outputs": [
    {
     "name": "stdout",
     "output_type": "stream",
     "text": [
      "F1-score:  0.6099110546378653\n",
      "AUC_ROC: 0.7425239590021641\n"
     ]
    },
    {
     "data": {
      "image/png": "[encoded data removed]",
      "text/plain": [
       "<Figure size 640x480 with 1 Axes>"
      ]
     },
     "metadata": {},
     "output_type": "display_data"
    }
   ],
   "source": [
    "best_grid_model = RandomForestClassifier(random_state=12345, \n",
    "                                         max_depth=15, \n",
    "                                         max_features=3, \n",
    "                                         min_samples_leaf=1, \n",
    "                                         min_samples_split=2, \n",
    "                                         n_estimators=100)\n",
    "best_grid_model.fit(x_upsampled, y_upsampled)\n",
    "y_pred = best_grid_model.predict(x_valid)                                         \n",
    "\n",
    "scores(y_valid, y_pred)"
   ]
  },
  {
   "attachments": {},
   "cell_type": "markdown",
   "metadata": {},
   "source": [
    "Поиск оптимальных метапараметров с помощью цикла"
   ]
  },
  {
   "cell_type": "code",
   "execution_count": 18,
   "metadata": {},
   "outputs": [
    {
     "name": "stdout",
     "output_type": "stream",
     "text": [
      "Best F1-score: 0.6391509433962265\n",
      "Best ROC-AUC: 0.7691969275403677\n",
      "Best meta: Depth:12 Estimators: 100\n",
      "CPU times: user 10.6 s, sys: 6.44 ms, total: 10.6 s\n",
      "Wall time: 10.6 s\n"
     ]
    }
   ],
   "source": [
    "%%time\n",
    "\n",
    "best_f1_score = 0.0\n",
    "best_roc_auc = 0.0\n",
    "best_depth = 0\n",
    "best_est = 0\n",
    "best_RF_model = ''\n",
    "\n",
    "for depth in range(1,16):\n",
    "    for est in [1,60,100]:\n",
    "        \n",
    "        model = RandomForestClassifier(random_state=12345, n_estimators=est, max_depth=depth)\n",
    "        model.fit(x_upsampled, y_upsampled)\n",
    "        y_pred = model.predict(x_valid)\n",
    "        f1 = f1_score(y_valid, y_pred)    \n",
    "        if f1 > best_f1_score:    \n",
    "            best_f1_score = f1\n",
    "            best_depth = depth\n",
    "            best_est = est\n",
    "            best_RF_model = model\n",
    "            best_roc_auc = roc_auc_score(y_valid, y_pred) \n",
    "\n",
    "print(f'Best F1-score: {best_f1_score}')     \n",
    "print(f'Best ROC-AUC: {best_roc_auc}')     \n",
    "print(f'Best meta: Depth:{best_depth} Estimators: {best_est}')     "
   ]
  },
  {
   "attachments": {},
   "cell_type": "markdown",
   "metadata": {},
   "source": [
    "#### LogisticRegression"
   ]
  },
  {
   "cell_type": "code",
   "execution_count": 19,
   "metadata": {},
   "outputs": [
    {
     "name": "stdout",
     "output_type": "stream",
     "text": [
      "Best F1-score: 0.5198983911939035\n",
      "Best ROC-AUC: 0.716787353451761\n",
      "Best meta: max_iter:10000\n",
      "CPU times: user 93.5 ms, sys: 311 ms, total: 404 ms\n",
      "Wall time: 50.2 ms\n"
     ]
    }
   ],
   "source": [
    "%%time\n",
    "\n",
    "best_f1_score = 0.0\n",
    "best_roc_auc = 0.0\n",
    "best_max_iter = 0\n",
    "best_LR_model = ''\n",
    "\n",
    "for max_iter in [100,500,1000, 10000]:\n",
    "        \n",
    "    model = LogisticRegression(random_state=12345, solver='liblinear', max_iter=max_iter)\n",
    "    model.fit(x_upsampled, y_upsampled)\n",
    "    y_pred = model.predict(x_valid)\n",
    "    f1 = f1_score(y_valid, y_pred)    \n",
    "    if f1 > best_f1_score:    \n",
    "        best_f1_score = f1\n",
    "        best_max_iter = max_iter\n",
    "        best_LR_model = model\n",
    "        best_roc_auc = roc_auc_score(y_valid, y_pred) \n",
    "\n",
    "print(f'Best F1-score: {best_f1_score}')  \n",
    "print(f'Best ROC-AUC: {best_roc_auc}')   \n",
    "print(f'Best meta: max_iter:{max_iter}')     "
   ]
  },
  {
   "attachments": {},
   "cell_type": "markdown",
   "metadata": {},
   "source": [
    "### Уменьшение выборки"
   ]
  },
  {
   "cell_type": "code",
   "execution_count": 20,
   "metadata": {},
   "outputs": [
    {
     "data": {
      "text/plain": [
       "Exited\n",
       "1    1207\n",
       "0    1198\n",
       "Name: count, dtype: int64"
      ]
     },
     "execution_count": 20,
     "metadata": {},
     "output_type": "execute_result"
    }
   ],
   "source": [
    "x_downsampled, y_downsampled = downsample(x_train, y_train, 0.25)\n",
    "y_downsampled.value_counts()"
   ]
  },
  {
   "attachments": {},
   "cell_type": "markdown",
   "metadata": {},
   "source": [
    "#### Random Forests"
   ]
  },
  {
   "attachments": {},
   "cell_type": "markdown",
   "metadata": {},
   "source": [
    "Поиск сеткой"
   ]
  },
  {
   "cell_type": "code",
   "execution_count": 21,
   "metadata": {},
   "outputs": [
    {
     "name": "stdout",
     "output_type": "stream",
     "text": [
      "Best grid search hyperparameters are: {'max_depth': 7, 'max_features': 7, 'min_samples_leaf': 1, 'min_samples_split': 3, 'n_estimators': 100}\n",
      "Best grid search score is: 0.7676328103049559\n",
      "CPU times: user 732 ms, sys: 29.7 ms, total: 761 ms\n",
      "Wall time: 13.1 s\n"
     ]
    }
   ],
   "source": [
    "%%time\n",
    "f1 = make_scorer(f1_score , average='macro')\n",
    "\n",
    "grid_space={'max_depth':[5,7,9,10,15],\n",
    "              'n_estimators':[60,100],\n",
    "              'max_features':[3,5,7],\n",
    "              'min_samples_leaf':[1,2,3],\n",
    "              'min_samples_split':[1,2,3]\n",
    "           }\n",
    "\n",
    "rf = RandomForestClassifier(random_state=12345)\n",
    "\n",
    "grid = GridSearchCV(rf, param_grid=grid_space, cv=3, scoring='f1', n_jobs=-1)\n",
    "model_grid = grid.fit(x_downsampled, y_downsampled)\n",
    "\n",
    "# grid search results\n",
    "print('Best grid search hyperparameters are: '+str(model_grid.best_params_))\n",
    "print('Best grid search score is: '+str(model_grid.best_score_))\n"
   ]
  },
  {
   "cell_type": "code",
   "execution_count": 22,
   "metadata": {},
   "outputs": [
    {
     "name": "stdout",
     "output_type": "stream",
     "text": [
      "F1-score:  0.6257928118393233\n",
      "AUC_ROC: 0.7751837055004637\n"
     ]
    },
    {
     "data": {
      "image/png": "[encoded data removed]",
      "text/plain": [
       "<Figure size 640x480 with 1 Axes>"
      ]
     },
     "metadata": {},
     "output_type": "display_data"
    }
   ],
   "source": [
    "best_grid_model = RandomForestClassifier(random_state=12345, \n",
    "                                         max_depth=9, \n",
    "                                         max_features=7, \n",
    "                                         min_samples_leaf=1, \n",
    "                                         min_samples_split=2, \n",
    "                                         n_estimators=100)\n",
    "best_grid_model.fit(x_upsampled, y_upsampled)\n",
    "y_pred = best_grid_model.predict(x_valid)                                         \n",
    "\n",
    "scores(y_valid, y_pred)"
   ]
  },
  {
   "attachments": {},
   "cell_type": "markdown",
   "metadata": {},
   "source": [
    "Поиск циклом"
   ]
  },
  {
   "cell_type": "code",
   "execution_count": 23,
   "metadata": {},
   "outputs": [
    {
     "name": "stdout",
     "output_type": "stream",
     "text": [
      "Best F1-score: 0.6351351351351351\n",
      "Best ROC-AUC: 0.7956053363772562\n",
      "Best meta: Depth:11 Estimators: 100\n",
      "CPU times: user 4.49 s, sys: 4.85 ms, total: 4.5 s\n",
      "Wall time: 4.51 s\n"
     ]
    }
   ],
   "source": [
    "%%time\n",
    "\n",
    "best_f1_score = 0.0\n",
    "best_roc_auc = 0.0\n",
    "best_depth = 0\n",
    "best_est = 0\n",
    "best_RF_model = ''\n",
    "\n",
    "for depth in range(1,16):\n",
    "    for est in [1,60,100]:\n",
    "        \n",
    "        model = RandomForestClassifier(random_state=12345, n_estimators=est, max_depth=depth)\n",
    "        model.fit(x_downsampled, y_downsampled)\n",
    "        y_pred = model.predict(x_valid)\n",
    "        f1 = f1_score(y_valid, y_pred)    \n",
    "        if f1 > best_f1_score:    \n",
    "            best_f1_score = f1\n",
    "            best_depth = depth\n",
    "            best_est = est\n",
    "            best_RF_model = model\n",
    "            best_roc_auc = roc_auc_score(y_valid, y_pred) \n",
    "\n",
    "print(f'Best F1-score: {best_f1_score}')     \n",
    "print(f'Best ROC-AUC: {best_roc_auc}')     \n",
    "print(f'Best meta: Depth:{best_depth} Estimators: {best_est}')     "
   ]
  },
  {
   "attachments": {},
   "cell_type": "markdown",
   "metadata": {},
   "source": [
    "#### Logistic Regression"
   ]
  },
  {
   "cell_type": "code",
   "execution_count": 24,
   "metadata": {},
   "outputs": [
    {
     "name": "stdout",
     "output_type": "stream",
     "text": [
      "Best F1-score: 0.519831223628692\n",
      "Best ROC-AUC: 0.7170013792775439\n",
      "Best meta: max_iter:10000\n",
      "CPU times: user 56.1 ms, sys: 176 ms, total: 233 ms\n",
      "Wall time: 26.7 ms\n"
     ]
    }
   ],
   "source": [
    "%%time\n",
    "\n",
    "best_f1_score = 0.0\n",
    "best_roc_auc = 0.0\n",
    "best_max_iter = 0\n",
    "best_LR_model = ''\n",
    "\n",
    "for max_iter in [100,500,1000, 10000]:\n",
    "        \n",
    "    model = LogisticRegression(random_state=12345, solver='liblinear', max_iter=max_iter)\n",
    "    model.fit(x_downsampled, y_downsampled)\n",
    "    y_pred = model.predict(x_valid)\n",
    "    f1 = f1_score(y_valid, y_pred)    \n",
    "    if f1 > best_f1_score:    \n",
    "        best_f1_score = f1\n",
    "        best_max_iter = max_iter\n",
    "        best_LR_model = model\n",
    "        best_roc_auc = roc_auc_score(y_valid, y_pred) \n",
    "\n",
    "print(f'Best F1-score: {best_f1_score}')  \n",
    "print(f'Best ROC-AUC: {best_roc_auc}')   \n",
    "print(f'Best meta: max_iter:{max_iter}')     "
   ]
  },
  {
   "attachments": {},
   "cell_type": "markdown",
   "metadata": {},
   "source": [
    "Вывод: лучшая модель по оценке F1 стала Случайный Лес с метапараметрами: глубина 9, дереьверь: 60 и обученная на данных со сбалансированными классами по методу увеличения выборки.  \n"
   ]
  },
  {
   "attachments": {},
   "cell_type": "markdown",
   "metadata": {},
   "source": [
    "###   Вывод\n",
    "Вывод: лучшая модель по оценке F1 стала Случайный Лес с метапараметрами: глубина 11, дереьверь: 60 и обученная на данных со сбалансированными классами по методу увеличения выборки.  "
   ]
  },
  {
   "attachments": {},
   "cell_type": "markdown",
   "metadata": {},
   "source": [
    "## Тестирование модели"
   ]
  },
  {
   "attachments": {},
   "cell_type": "markdown",
   "metadata": {},
   "source": [
    "Модель, найденая с помощью сетки"
   ]
  },
  {
   "cell_type": "code",
   "execution_count": 25,
   "metadata": {},
   "outputs": [
    {
     "name": "stdout",
     "output_type": "stream",
     "text": [
      "F1-score:  0.6057803468208093\n",
      "AUC_ROC: 0.7629795328738036\n"
     ]
    },
    {
     "data": {
      "image/png": "[encoded data removed]",
      "text/plain": [
       "<Figure size 640x480 with 1 Axes>"
      ]
     },
     "metadata": {},
     "output_type": "display_data"
    }
   ],
   "source": [
    "model = RandomForestClassifier(random_state=12345, n_estimators=60, max_depth=11)\n",
    "model.fit(x_upsampled, y_upsampled)\n",
    "\n",
    "y_pred = model.predict(x_test)\n",
    "\n",
    "scores(y_test, y_pred)"
   ]
  },
  {
   "attachments": {},
   "cell_type": "markdown",
   "metadata": {},
   "source": [
    "## Вывод"
   ]
  },
  {
   "attachments": {},
   "cell_type": "markdown",
   "metadata": {},
   "source": [
    "Мы получили модель предсказания того, уйдет в блажайшее время клиент или нет, с оценкой работы на тестовых данных равной 0,60, что выше требуемой в ТЗ 0.59.  \n",
    "Модель относится к типу Случайный Лес, и обладает метапараметрами `Depth:11 Estimators: 60`.   \n",
    "\n",
    "F1-score:  0.6049237983587338  \n",
    "AUC_ROC: 0.7682682714691361  "
   ]
  }
 ],
 "metadata": {
  "ExecuteTimeLog": [
   {
    "duration": 1522,
    "start_time": "2023-06-15T09:32:01.024Z"
   },
   {
    "duration": 10,
    "start_time": "2023-06-15T09:32:02.548Z"
   },
   {
    "duration": 196,
    "start_time": "2023-06-15T09:32:02.560Z"
   },
   {
    "duration": 6,
    "start_time": "2023-06-15T09:32:02.758Z"
   },
   {
    "duration": 40,
    "start_time": "2023-06-15T09:32:02.766Z"
   },
   {
    "duration": 13,
    "start_time": "2023-06-15T09:32:02.808Z"
   },
   {
    "duration": 20,
    "start_time": "2023-06-15T09:32:02.823Z"
   },
   {
    "duration": 16,
    "start_time": "2023-06-15T09:32:02.844Z"
   },
   {
    "duration": 29,
    "start_time": "2023-06-15T09:32:02.862Z"
   },
   {
    "duration": 137,
    "start_time": "2023-06-15T09:32:02.893Z"
   },
   {
    "duration": 0,
    "start_time": "2023-06-15T09:32:03.031Z"
   },
   {
    "duration": 0,
    "start_time": "2023-06-15T09:32:03.032Z"
   },
   {
    "duration": 0,
    "start_time": "2023-06-15T09:32:03.034Z"
   },
   {
    "duration": 0,
    "start_time": "2023-06-15T09:32:03.035Z"
   },
   {
    "duration": 0,
    "start_time": "2023-06-15T09:32:03.037Z"
   },
   {
    "duration": 0,
    "start_time": "2023-06-15T09:32:03.038Z"
   },
   {
    "duration": 0,
    "start_time": "2023-06-15T09:32:03.039Z"
   },
   {
    "duration": 0,
    "start_time": "2023-06-15T09:32:03.041Z"
   },
   {
    "duration": 0,
    "start_time": "2023-06-15T09:32:03.042Z"
   },
   {
    "duration": 0,
    "start_time": "2023-06-15T09:32:03.043Z"
   },
   {
    "duration": 0,
    "start_time": "2023-06-15T09:32:03.044Z"
   },
   {
    "duration": 0,
    "start_time": "2023-06-15T09:32:03.045Z"
   },
   {
    "duration": 0,
    "start_time": "2023-06-15T09:32:03.046Z"
   },
   {
    "duration": 0,
    "start_time": "2023-06-15T09:32:03.047Z"
   },
   {
    "duration": 0,
    "start_time": "2023-06-15T09:32:03.048Z"
   },
   {
    "duration": 0,
    "start_time": "2023-06-15T09:32:03.050Z"
   },
   {
    "duration": 7,
    "start_time": "2023-06-15T09:33:02.081Z"
   },
   {
    "duration": 1381,
    "start_time": "2023-06-15T09:33:11.266Z"
   },
   {
    "duration": 10,
    "start_time": "2023-06-15T09:33:12.649Z"
   },
   {
    "duration": 132,
    "start_time": "2023-06-15T09:33:12.661Z"
   },
   {
    "duration": 7,
    "start_time": "2023-06-15T09:33:12.796Z"
   },
   {
    "duration": 21,
    "start_time": "2023-06-15T09:33:12.805Z"
   },
   {
    "duration": 18,
    "start_time": "2023-06-15T09:33:12.828Z"
   },
   {
    "duration": 20,
    "start_time": "2023-06-15T09:33:12.848Z"
   },
   {
    "duration": 35,
    "start_time": "2023-06-15T09:33:12.869Z"
   },
   {
    "duration": 42,
    "start_time": "2023-06-15T09:33:12.905Z"
   },
   {
    "duration": 12,
    "start_time": "2023-06-15T09:33:12.951Z"
   },
   {
    "duration": 31,
    "start_time": "2023-06-15T09:33:12.964Z"
   },
   {
    "duration": 477,
    "start_time": "2023-06-15T09:33:12.997Z"
   },
   {
    "duration": 277,
    "start_time": "2023-06-15T09:33:13.475Z"
   },
   {
    "duration": 312,
    "start_time": "2023-06-15T09:33:13.754Z"
   },
   {
    "duration": 11,
    "start_time": "2023-06-15T09:33:14.068Z"
   },
   {
    "duration": 299778,
    "start_time": "2023-06-15T09:33:14.081Z"
   },
   {
    "duration": 373,
    "start_time": "2023-06-15T09:38:13.860Z"
   },
   {
    "duration": 15416,
    "start_time": "2023-06-15T09:38:14.235Z"
   },
   {
    "duration": 485,
    "start_time": "2023-06-15T09:38:29.653Z"
   },
   {
    "duration": 96,
    "start_time": "2023-06-15T09:38:30.140Z"
   },
   {
    "duration": 117658,
    "start_time": "2023-06-15T09:38:30.239Z"
   },
   {
    "duration": 6505,
    "start_time": "2023-06-15T09:40:27.898Z"
   },
   {
    "duration": 233,
    "start_time": "2023-06-15T09:40:34.404Z"
   },
   {
    "duration": 309,
    "start_time": "2023-06-15T09:40:34.639Z"
   },
   {
    "duration": 136,
    "start_time": "2023-06-15T09:40:34.950Z"
   },
   {
    "duration": 230,
    "start_time": "2023-06-15T09:40:35.088Z"
   },
   {
    "duration": 126,
    "start_time": "2023-06-15T09:40:49.751Z"
   },
   {
    "duration": 461,
    "start_time": "2023-06-15T09:42:45.143Z"
   },
   {
    "duration": 990,
    "start_time": "2023-06-15T09:43:03.626Z"
   },
   {
    "duration": 14963,
    "start_time": "2023-06-15T09:43:18.984Z"
   },
   {
    "duration": 1291,
    "start_time": "2023-06-15T09:46:51.629Z"
   },
   {
    "duration": 6434,
    "start_time": "2023-06-15T09:46:58.185Z"
   },
   {
    "duration": 539,
    "start_time": "2023-06-15T09:49:08.094Z"
   }
  ],
  "kernelspec": {
   "display_name": "Python 3 (ipykernel)",
   "language": "python",
   "name": "python3"
  },
  "language_info": {
   "codemirror_mode": {
    "name": "ipython",
    "version": 3
   },
   "file_extension": ".py",
   "mimetype": "text/x-python",
   "name": "python",
   "nbconvert_exporter": "python",
   "pygments_lexer": "ipython3",
   "version": "3.11.3"
  },
  "toc": {
   "base_numbering": 1,
   "nav_menu": {},
   "number_sections": true,
   "sideBar": true,
   "skip_h1_title": true,
   "title_cell": "Содержание",
   "title_sidebar": "Contents",
   "toc_cell": true,
   "toc_position": {},
   "toc_section_display": true,
   "toc_window_display": true
  }
 },
 "nbformat": 4,
 "nbformat_minor": 2
}
