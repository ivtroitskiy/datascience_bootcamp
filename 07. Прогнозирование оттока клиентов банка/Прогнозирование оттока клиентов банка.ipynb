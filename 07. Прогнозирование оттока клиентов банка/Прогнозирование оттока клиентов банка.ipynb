{
 "cells": [
  {
   "cell_type": "markdown",
   "metadata": {},
   "source": [
    "# Проект Прогнозирование оттока клиентов банка\n",
    "Дата: 15 июня 2023 г.  \n",
    "Автор: Троицкий Илья  \n",
    "\n",
    "Проект выполняется в рамках курса Data Scince bootcamp  "
   ]
  },
  {
   "cell_type": "markdown",
   "metadata": {
    "toc": true
   },
   "source": [
    "<h1>Содержание<span class=\"tocSkip\"></span></h1>\n",
    "<div class=\"toc\"><ul class=\"toc-item\"><li><span><a href=\"#Описание-данных\" data-toc-modified-id=\"Описание-данных-1\"><span class=\"toc-item-num\">1&nbsp;&nbsp;</span>Описание данных</a></span><ul class=\"toc-item\"><li><span><a href=\"#Библиотеки\" data-toc-modified-id=\"Библиотеки-1.1\"><span class=\"toc-item-num\">1.1&nbsp;&nbsp;</span>Библиотеки</a></span></li><li><span><a href=\"#Функции\" data-toc-modified-id=\"Функции-1.2\"><span class=\"toc-item-num\">1.2&nbsp;&nbsp;</span>Функции</a></span></li></ul></li><li><span><a href=\"#Подготовка-данных\" data-toc-modified-id=\"Подготовка-данных-2\"><span class=\"toc-item-num\">2&nbsp;&nbsp;</span>Подготовка данных</a></span></li><li><span><a href=\"#Исследование-задачи\" data-toc-modified-id=\"Исследование-задачи-3\"><span class=\"toc-item-num\">3&nbsp;&nbsp;</span>Исследование задачи</a></span><ul class=\"toc-item\"><li><span><a href=\"#Перед-разбитием-на-выборки,-проанализируем-баланс-классов\" data-toc-modified-id=\"Перед-разбитием-на-выборки,-проанализируем-баланс-классов-3.1\"><span class=\"toc-item-num\">3.1&nbsp;&nbsp;</span>Перед разбитием на выборки, проанализируем баланс классов</a></span></li><li><span><a href=\"#Делим-на-выборки\" data-toc-modified-id=\"Делим-на-выборки-3.2\"><span class=\"toc-item-num\">3.2&nbsp;&nbsp;</span>Делим на выборки</a></span></li><li><span><a href=\"#Кодирование-категорий\" data-toc-modified-id=\"Кодирование-категорий-3.3\"><span class=\"toc-item-num\">3.3&nbsp;&nbsp;</span>Кодирование категорий</a></span></li><li><span><a href=\"#Масштабирование\" data-toc-modified-id=\"Масштабирование-3.4\"><span class=\"toc-item-num\">3.4&nbsp;&nbsp;</span>Масштабирование</a></span></li><li><span><a href=\"#Random-Forest\" data-toc-modified-id=\"Random-Forest-3.5\"><span class=\"toc-item-num\">3.5&nbsp;&nbsp;</span>Random Forest</a></span></li><li><span><a href=\"#LogisticRegression\" data-toc-modified-id=\"LogisticRegression-3.6\"><span class=\"toc-item-num\">3.6&nbsp;&nbsp;</span>LogisticRegression</a></span></li><li><span><a href=\"#LogisticRegression-со-сбалансированным-весом\" data-toc-modified-id=\"LogisticRegression-со-сбалансированным-весом-3.7\"><span class=\"toc-item-num\">3.7&nbsp;&nbsp;</span>LogisticRegression со сбалансированным весом</a></span></li></ul></li><li><span><a href=\"#Борьба-с-дисбалансом\" data-toc-modified-id=\"Борьба-с-дисбалансом-4\"><span class=\"toc-item-num\">4&nbsp;&nbsp;</span>Борьба с дисбалансом</a></span><ul class=\"toc-item\"><li><span><a href=\"#Увеличение-выборки\" data-toc-modified-id=\"Увеличение-выборки-4.1\"><span class=\"toc-item-num\">4.1&nbsp;&nbsp;</span>Увеличение выборки</a></span><ul class=\"toc-item\"><li><span><a href=\"#Random-Forest\" data-toc-modified-id=\"Random-Forest-4.1.1\"><span class=\"toc-item-num\">4.1.1&nbsp;&nbsp;</span>Random Forest</a></span></li><li><span><a href=\"#LogisticRegression\" data-toc-modified-id=\"LogisticRegression-4.1.2\"><span class=\"toc-item-num\">4.1.2&nbsp;&nbsp;</span>LogisticRegression</a></span></li></ul></li><li><span><a href=\"#Уменьшение-выборки\" data-toc-modified-id=\"Уменьшение-выборки-4.2\"><span class=\"toc-item-num\">4.2&nbsp;&nbsp;</span>Уменьшение выборки</a></span><ul class=\"toc-item\"><li><span><a href=\"#Random-Forests\" data-toc-modified-id=\"Random-Forests-4.2.1\"><span class=\"toc-item-num\">4.2.1&nbsp;&nbsp;</span>Random Forests</a></span></li><li><span><a href=\"#Logistic-Regression\" data-toc-modified-id=\"Logistic-Regression-4.2.2\"><span class=\"toc-item-num\">4.2.2&nbsp;&nbsp;</span>Logistic Regression</a></span></li></ul></li><li><span><a href=\"#Вывод\" data-toc-modified-id=\"Вывод-4.3\"><span class=\"toc-item-num\">4.3&nbsp;&nbsp;</span>Вывод</a></span></li></ul></li><li><span><a href=\"#Тестирование-модели\" data-toc-modified-id=\"Тестирование-модели-5\"><span class=\"toc-item-num\">5&nbsp;&nbsp;</span>Тестирование модели</a></span></li><li><span><a href=\"#Вывод\" data-toc-modified-id=\"Вывод-6\"><span class=\"toc-item-num\">6&nbsp;&nbsp;</span>Вывод</a></span></li><li><span><a href=\"#Чек-лист-готовности-проекта\" data-toc-modified-id=\"Чек-лист-готовности-проекта-7\"><span class=\"toc-item-num\">7&nbsp;&nbsp;</span>Чек-лист готовности проекта</a></span></li></ul></div>"
   ]
  },
  {
   "cell_type": "markdown",
   "metadata": {},
   "source": []
  },
  {
   "cell_type": "markdown",
   "metadata": {},
   "source": [
    "# Отток клиентов"
   ]
  },
  {
   "cell_type": "markdown",
   "metadata": {},
   "source": [
    "Из «Бета-Банка» стали уходить клиенты. Каждый месяц. Немного, но заметно. Банковские маркетологи посчитали: сохранять текущих клиентов дешевле, чем привлекать новых.\n",
    "\n",
    "Нужно спрогнозировать, уйдёт клиент из банка в ближайшее время или нет. Вам предоставлены исторические данные о поведении клиентов и расторжении договоров с банком. \n",
    "\n",
    "Постройте модель с предельно большим значением *F1*-меры. Чтобы сдать проект успешно, нужно довести метрику до 0.59. Проверьте *F1*-меру на тестовой выборке самостоятельно.\n",
    "\n",
    "Дополнительно измеряйте *AUC-ROC*, сравнивайте её значение с *F1*-мерой.\n",
    "\n",
    "Источник данных: [https://www.kaggle.com/barelydedicated/bank-customer-churn-modeling](https://www.kaggle.com/barelydedicated/bank-customer-churn-modeling)"
   ]
  },
  {
   "cell_type": "markdown",
   "metadata": {},
   "source": [
    "## Описание данных\n",
    "Данные находятся в файле /datasets/Churn.csv (англ. «отток клиентов»).  \n",
    "\n",
    "**Признаки**  \n",
    "RowNumber — индекс строки в данных  \n",
    "CustomerId — уникальный идентификатор клиента  \n",
    "Surname — фамилия  \n",
    "CreditScore — кредитный рейтинг  \n",
    "Geography — страна проживания  \n",
    "Gender — пол  \n",
    "Age — возраст  \n",
    "Tenure — сколько лет человек является клиентом банка  \n",
    "Balance — баланс на счёте  \n",
    "NumOfProducts — количество продуктов банка, используемых клиентом  \n",
    "HasCrCard — наличие кредитной карты  \n",
    "IsActiveMember — активность клиента  \n",
    "EstimatedSalary — предполагаемая зарплата  \n",
    "\n",
    "**Целевой признак**  \n",
    "Exited — факт ухода клиента  "
   ]
  },
  {
   "cell_type": "markdown",
   "metadata": {},
   "source": [
    "В проекте используется нотация:  \n",
    "`x_` для переменных содержащих признаки  \n",
    "`y_` для переменных содержаших целевые показатели   "
   ]
  },
  {
   "cell_type": "markdown",
   "metadata": {},
   "source": [
    "### Библиотеки"
   ]
  },
  {
   "cell_type": "code",
   "execution_count": 117,
   "metadata": {},
   "outputs": [
    {
     "name": "stdout",
     "output_type": "stream",
     "text": [
      "Requirement already satisfied: fast_ml in /opt/conda/lib/python3.9/site-packages (3.68)\r\n"
     ]
    }
   ],
   "source": [
    "!pip install fast_ml"
   ]
  },
  {
   "cell_type": "code",
   "execution_count": 118,
   "metadata": {},
   "outputs": [],
   "source": [
    "import pandas as pd\n",
    "import numpy as np\n",
    "import matplotlib.pyplot as plt\n",
    "\n",
    "from sklearn.tree import DecisionTreeClassifier\n",
    "from sklearn.ensemble import RandomForestClassifier\n",
    "from sklearn.linear_model import LogisticRegression\n",
    "\n",
    "from sklearn.preprocessing import StandardScaler, OneHotEncoder\n",
    "\n",
    "from sklearn.model_selection import train_test_split, GridSearchCV\n",
    "\n",
    "from fast_ml.model_development import train_valid_test_split\n",
    "\n",
    "from sklearn.metrics import f1_score, roc_auc_score, roc_curve, make_scorer\n",
    "\n",
    "from sklearn.utils import shuffle"
   ]
  },
  {
   "cell_type": "markdown",
   "metadata": {},
   "source": [
    "### Функции"
   ]
  },
  {
   "cell_type": "code",
   "execution_count": 119,
   "metadata": {},
   "outputs": [],
   "source": [
    "def dataframe_info(df):\n",
    "    display(df.head())\n",
    "    print(df.shape)\n",
    "    df.info()\n",
    "    print(df.duplicated().sum())\n",
    "\n",
    "def data_split(data, target):\n",
    "    \n",
    "    x = data.drop(target, axis=1)\n",
    "    y = data[target]\n",
    "    x_train, x_test, y_train, y_test = train_test_split(x, y, test_size=0.2, random_state=12345, stratify=y)\n",
    "    x_train, x_valid, y_train, y_valid = train_test_split(x_train, y_train, test_size=0.25, random_state=12345, stratify=y)    \n",
    "       \n",
    "    x_train = x_train.reset_index(drop=True)                              \n",
    "    y_train = y_train.reset_index(drop=True) \n",
    "    x_valid = x_valid.reset_index(drop=True) \n",
    "    y_valid = y_valid.reset_index(drop=True) \n",
    "    x_test = x_test.reset_index(drop=True) \n",
    "    y_test = y_test.reset_index(drop=True) \n",
    "\n",
    "    return x_train, y_train, x_valid, y_valid, x_test, y_test\n",
    "\n",
    "def data_scale(x_train, x_valid, x_test):\n",
    "    \n",
    "    scaler = StandardScaler()\n",
    "    scaler.fit(x_train)\n",
    "\n",
    "    x_train = pd.DataFrame(scaler.transform(x_train), columns=x_train.columns)\n",
    "    x_valid = pd.DataFrame(scaler.transform(x_valid), columns=x_train.columns)\n",
    "    x_test  = pd.DataFrame(scaler.transform(x_test), columns=x_train.columns)\n",
    "    \n",
    "    return x_train, x_valid, x_test    \n",
    "\n",
    "def scores(targed, predictions, probabilities_one):\n",
    "    \n",
    "    print('F1-score: ', f1_score(targed, predictions))\n",
    "    print('AUC_ROC:', roc_auc_score(targed, probabilities_one))\n",
    "\n",
    "    fpr, tpr, thresholds = roc_curve(targed, predictions)\n",
    "\n",
    "    plt.figure()\n",
    "    plt.plot(fpr, tpr)\n",
    "    plt.xlim([0.0, 1.0])\n",
    "    plt.ylim([0.0, 1.0])\n",
    "    plt.xlabel('False Positive Rate')\n",
    "    plt.ylabel('True Positive Rate')\n",
    "    plt.title('ROC-кривая')\n",
    "    plt.show()\n",
    "\n",
    "def upsample(features, target, repeat):\n",
    "    features_zeros = features[target == 0]\n",
    "    features_ones = features[target == 1]\n",
    "    target_zeros = target[target == 0]\n",
    "    target_ones = target[target == 1]\n",
    "\n",
    "    features_upsampled = pd.concat([features_zeros] + [features_ones] * repeat)\n",
    "    target_upsampled = pd.concat([target_zeros] + [target_ones] * repeat)\n",
    "    \n",
    "    features_upsampled, target_upsampled = shuffle(\n",
    "        features_upsampled, target_upsampled, random_state=12345)\n",
    "    \n",
    "    return features_upsampled, target_upsampled  \n",
    "\n",
    "def downsample(features, target, fraction):\n",
    "    features_zeros = features[target == 0]\n",
    "    features_ones = features[target == 1]\n",
    "    target_zeros = target[target == 0]\n",
    "    target_ones = target[target == 1]\n",
    "\n",
    "    features_downsampled = pd.concat(\n",
    "        [features_zeros.sample(frac=fraction, random_state=12345)] + [features_ones])\n",
    "    target_downsampled = pd.concat(\n",
    "        [target_zeros.sample(frac=fraction, random_state=12345)] + [target_ones])\n",
    "    \n",
    "    features_downsampled, target_downsampled = shuffle(\n",
    "        features_downsampled, target_downsampled, random_state=12345)\n",
    "    \n",
    "    return features_downsampled, target_downsampled      "
   ]
  },
  {
   "cell_type": "markdown",
   "metadata": {},
   "source": [
    "## Подготовка данных"
   ]
  },
  {
   "cell_type": "code",
   "execution_count": 120,
   "metadata": {},
   "outputs": [
    {
     "data": {
      "text/html": [
       "<div>\n",
       "<style scoped>\n",
       "    .dataframe tbody tr th:only-of-type {\n",
       "        vertical-align: middle;\n",
       "    }\n",
       "\n",
       "    .dataframe tbody tr th {\n",
       "        vertical-align: top;\n",
       "    }\n",
       "\n",
       "    .dataframe thead th {\n",
       "        text-align: right;\n",
       "    }\n",
       "</style>\n",
       "<table border=\"1\" class=\"dataframe\">\n",
       "  <thead>\n",
       "    <tr style=\"text-align: right;\">\n",
       "      <th></th>\n",
       "      <th>RowNumber</th>\n",
       "      <th>CustomerId</th>\n",
       "      <th>Surname</th>\n",
       "      <th>CreditScore</th>\n",
       "      <th>Geography</th>\n",
       "      <th>Gender</th>\n",
       "      <th>Age</th>\n",
       "      <th>Tenure</th>\n",
       "      <th>Balance</th>\n",
       "      <th>NumOfProducts</th>\n",
       "      <th>HasCrCard</th>\n",
       "      <th>IsActiveMember</th>\n",
       "      <th>EstimatedSalary</th>\n",
       "      <th>Exited</th>\n",
       "    </tr>\n",
       "  </thead>\n",
       "  <tbody>\n",
       "    <tr>\n",
       "      <th>0</th>\n",
       "      <td>1</td>\n",
       "      <td>15634602</td>\n",
       "      <td>Hargrave</td>\n",
       "      <td>619</td>\n",
       "      <td>France</td>\n",
       "      <td>Female</td>\n",
       "      <td>42</td>\n",
       "      <td>2.0</td>\n",
       "      <td>0.00</td>\n",
       "      <td>1</td>\n",
       "      <td>1</td>\n",
       "      <td>1</td>\n",
       "      <td>101348.88</td>\n",
       "      <td>1</td>\n",
       "    </tr>\n",
       "    <tr>\n",
       "      <th>1</th>\n",
       "      <td>2</td>\n",
       "      <td>15647311</td>\n",
       "      <td>Hill</td>\n",
       "      <td>608</td>\n",
       "      <td>Spain</td>\n",
       "      <td>Female</td>\n",
       "      <td>41</td>\n",
       "      <td>1.0</td>\n",
       "      <td>83807.86</td>\n",
       "      <td>1</td>\n",
       "      <td>0</td>\n",
       "      <td>1</td>\n",
       "      <td>112542.58</td>\n",
       "      <td>0</td>\n",
       "    </tr>\n",
       "    <tr>\n",
       "      <th>2</th>\n",
       "      <td>3</td>\n",
       "      <td>15619304</td>\n",
       "      <td>Onio</td>\n",
       "      <td>502</td>\n",
       "      <td>France</td>\n",
       "      <td>Female</td>\n",
       "      <td>42</td>\n",
       "      <td>8.0</td>\n",
       "      <td>159660.80</td>\n",
       "      <td>3</td>\n",
       "      <td>1</td>\n",
       "      <td>0</td>\n",
       "      <td>113931.57</td>\n",
       "      <td>1</td>\n",
       "    </tr>\n",
       "    <tr>\n",
       "      <th>3</th>\n",
       "      <td>4</td>\n",
       "      <td>15701354</td>\n",
       "      <td>Boni</td>\n",
       "      <td>699</td>\n",
       "      <td>France</td>\n",
       "      <td>Female</td>\n",
       "      <td>39</td>\n",
       "      <td>1.0</td>\n",
       "      <td>0.00</td>\n",
       "      <td>2</td>\n",
       "      <td>0</td>\n",
       "      <td>0</td>\n",
       "      <td>93826.63</td>\n",
       "      <td>0</td>\n",
       "    </tr>\n",
       "    <tr>\n",
       "      <th>4</th>\n",
       "      <td>5</td>\n",
       "      <td>15737888</td>\n",
       "      <td>Mitchell</td>\n",
       "      <td>850</td>\n",
       "      <td>Spain</td>\n",
       "      <td>Female</td>\n",
       "      <td>43</td>\n",
       "      <td>2.0</td>\n",
       "      <td>125510.82</td>\n",
       "      <td>1</td>\n",
       "      <td>1</td>\n",
       "      <td>1</td>\n",
       "      <td>79084.10</td>\n",
       "      <td>0</td>\n",
       "    </tr>\n",
       "  </tbody>\n",
       "</table>\n",
       "</div>"
      ],
      "text/plain": [
       "   RowNumber  CustomerId   Surname  CreditScore Geography  Gender  Age  \\\n",
       "0          1    15634602  Hargrave          619    France  Female   42   \n",
       "1          2    15647311      Hill          608     Spain  Female   41   \n",
       "2          3    15619304      Onio          502    France  Female   42   \n",
       "3          4    15701354      Boni          699    France  Female   39   \n",
       "4          5    15737888  Mitchell          850     Spain  Female   43   \n",
       "\n",
       "   Tenure    Balance  NumOfProducts  HasCrCard  IsActiveMember  \\\n",
       "0     2.0       0.00              1          1               1   \n",
       "1     1.0   83807.86              1          0               1   \n",
       "2     8.0  159660.80              3          1               0   \n",
       "3     1.0       0.00              2          0               0   \n",
       "4     2.0  125510.82              1          1               1   \n",
       "\n",
       "   EstimatedSalary  Exited  \n",
       "0        101348.88       1  \n",
       "1        112542.58       0  \n",
       "2        113931.57       1  \n",
       "3         93826.63       0  \n",
       "4         79084.10       0  "
      ]
     },
     "metadata": {},
     "output_type": "display_data"
    },
    {
     "name": "stdout",
     "output_type": "stream",
     "text": [
      "(10000, 14)\n",
      "<class 'pandas.core.frame.DataFrame'>\n",
      "RangeIndex: 10000 entries, 0 to 9999\n",
      "Data columns (total 14 columns):\n",
      " #   Column           Non-Null Count  Dtype  \n",
      "---  ------           --------------  -----  \n",
      " 0   RowNumber        10000 non-null  int64  \n",
      " 1   CustomerId       10000 non-null  int64  \n",
      " 2   Surname          10000 non-null  object \n",
      " 3   CreditScore      10000 non-null  int64  \n",
      " 4   Geography        10000 non-null  object \n",
      " 5   Gender           10000 non-null  object \n",
      " 6   Age              10000 non-null  int64  \n",
      " 7   Tenure           9091 non-null   float64\n",
      " 8   Balance          10000 non-null  float64\n",
      " 9   NumOfProducts    10000 non-null  int64  \n",
      " 10  HasCrCard        10000 non-null  int64  \n",
      " 11  IsActiveMember   10000 non-null  int64  \n",
      " 12  EstimatedSalary  10000 non-null  float64\n",
      " 13  Exited           10000 non-null  int64  \n",
      "dtypes: float64(3), int64(8), object(3)\n",
      "memory usage: 1.1+ MB\n",
      "0\n"
     ]
    }
   ],
   "source": [
    "try:\n",
    "    df = pd.read_csv('datasets/Churn.csv')\n",
    "except:\n",
    "    df = pd.read_csv('/datasets/Churn.csv')\n",
    "\n",
    "dataframe_info(df)"
   ]
  },
  {
   "cell_type": "markdown",
   "metadata": {},
   "source": [
    "В датасете 10000 строк. Дублей нет. В колонке `Tenure` есть NaN значения, проанализируем содержимое этой колонки"
   ]
  },
  {
   "cell_type": "code",
   "execution_count": 121,
   "metadata": {},
   "outputs": [
    {
     "data": {
      "text/plain": [
       "1.0     952\n",
       "2.0     950\n",
       "8.0     933\n",
       "3.0     928\n",
       "5.0     927\n",
       "7.0     925\n",
       "4.0     885\n",
       "9.0     882\n",
       "6.0     881\n",
       "10.0    446\n",
       "0.0     382\n",
       "Name: Tenure, dtype: int64"
      ]
     },
     "execution_count": 121,
     "metadata": {},
     "output_type": "execute_result"
    }
   ],
   "source": [
    "df['Tenure'].value_counts()"
   ]
  },
  {
   "cell_type": "markdown",
   "metadata": {},
   "source": [
    "Незаполненных значений 10% от всего датасета, выкидывать такое количество данных нельзя, поэтому предположу, что незаполняли параметр для новых клиентов и заполню все НаН нулями."
   ]
  },
  {
   "cell_type": "code",
   "execution_count": 122,
   "metadata": {},
   "outputs": [
    {
     "name": "stdout",
     "output_type": "stream",
     "text": [
      "(9091, 14)\n"
     ]
    }
   ],
   "source": [
    "df = df[~df['Tenure'].isna()].reset_index(drop=True)\n",
    "print(df.shape)"
   ]
  },
  {
   "cell_type": "markdown",
   "metadata": {},
   "source": [
    "Колонки `RowNumber`, `CustomerId`, `Surname` не влияют на прогноз, поэтому эти данные удалим."
   ]
  },
  {
   "cell_type": "code",
   "execution_count": 123,
   "metadata": {},
   "outputs": [],
   "source": [
    "df = df.drop(['RowNumber', 'CustomerId', 'Surname'], axis=1)"
   ]
  },
  {
   "cell_type": "markdown",
   "metadata": {},
   "source": [
    "Проанализируем колонки Страна и Пол для их последующего кодирования"
   ]
  },
  {
   "cell_type": "code",
   "execution_count": 124,
   "metadata": {},
   "outputs": [
    {
     "data": {
      "text/plain": [
       "France     4550\n",
       "Germany    2293\n",
       "Spain      2248\n",
       "Name: Geography, dtype: int64"
      ]
     },
     "execution_count": 124,
     "metadata": {},
     "output_type": "execute_result"
    }
   ],
   "source": [
    "df['Geography'].value_counts()"
   ]
  },
  {
   "cell_type": "code",
   "execution_count": 125,
   "metadata": {},
   "outputs": [
    {
     "data": {
      "text/plain": [
       "Male      4974\n",
       "Female    4117\n",
       "Name: Gender, dtype: int64"
      ]
     },
     "execution_count": 125,
     "metadata": {},
     "output_type": "execute_result"
    }
   ],
   "source": [
    "df['Gender'].value_counts()"
   ]
  },
  {
   "cell_type": "markdown",
   "metadata": {},
   "source": [
    "Предобработка не требуется. Произведем кодирование категориальных признаков, кодировать будем методом OHE, так как он подходит для всех моделей и в данном случае **порядок категориальных элементов не важен**."
   ]
  },
  {
   "cell_type": "code",
   "execution_count": 126,
   "metadata": {},
   "outputs": [],
   "source": [
    "#data_ohe = pd.get_dummies(df, drop_first=True, dtype=int)\n",
    "#print(data_ohe.shape)\n",
    "#display(data_ohe.head())"
   ]
  },
  {
   "cell_type": "code",
   "execution_count": 127,
   "metadata": {},
   "outputs": [
    {
     "data": {
      "text/html": [
       "<div>\n",
       "<style scoped>\n",
       "    .dataframe tbody tr th:only-of-type {\n",
       "        vertical-align: middle;\n",
       "    }\n",
       "\n",
       "    .dataframe tbody tr th {\n",
       "        vertical-align: top;\n",
       "    }\n",
       "\n",
       "    .dataframe thead th {\n",
       "        text-align: right;\n",
       "    }\n",
       "</style>\n",
       "<table border=\"1\" class=\"dataframe\">\n",
       "  <thead>\n",
       "    <tr style=\"text-align: right;\">\n",
       "      <th></th>\n",
       "      <th>CreditScore</th>\n",
       "      <th>Geography</th>\n",
       "      <th>Gender</th>\n",
       "      <th>Age</th>\n",
       "      <th>Tenure</th>\n",
       "      <th>Balance</th>\n",
       "      <th>NumOfProducts</th>\n",
       "      <th>HasCrCard</th>\n",
       "      <th>IsActiveMember</th>\n",
       "      <th>EstimatedSalary</th>\n",
       "      <th>Exited</th>\n",
       "      <th>Germany</th>\n",
       "      <th>Spain</th>\n",
       "    </tr>\n",
       "  </thead>\n",
       "  <tbody>\n",
       "    <tr>\n",
       "      <th>0</th>\n",
       "      <td>619</td>\n",
       "      <td>France</td>\n",
       "      <td>Female</td>\n",
       "      <td>42</td>\n",
       "      <td>2.0</td>\n",
       "      <td>0.00</td>\n",
       "      <td>1</td>\n",
       "      <td>1</td>\n",
       "      <td>1</td>\n",
       "      <td>101348.88</td>\n",
       "      <td>1</td>\n",
       "      <td>0.0</td>\n",
       "      <td>0.0</td>\n",
       "    </tr>\n",
       "    <tr>\n",
       "      <th>1</th>\n",
       "      <td>608</td>\n",
       "      <td>Spain</td>\n",
       "      <td>Female</td>\n",
       "      <td>41</td>\n",
       "      <td>1.0</td>\n",
       "      <td>83807.86</td>\n",
       "      <td>1</td>\n",
       "      <td>0</td>\n",
       "      <td>1</td>\n",
       "      <td>112542.58</td>\n",
       "      <td>0</td>\n",
       "      <td>0.0</td>\n",
       "      <td>1.0</td>\n",
       "    </tr>\n",
       "    <tr>\n",
       "      <th>2</th>\n",
       "      <td>502</td>\n",
       "      <td>France</td>\n",
       "      <td>Female</td>\n",
       "      <td>42</td>\n",
       "      <td>8.0</td>\n",
       "      <td>159660.80</td>\n",
       "      <td>3</td>\n",
       "      <td>1</td>\n",
       "      <td>0</td>\n",
       "      <td>113931.57</td>\n",
       "      <td>1</td>\n",
       "      <td>0.0</td>\n",
       "      <td>0.0</td>\n",
       "    </tr>\n",
       "    <tr>\n",
       "      <th>3</th>\n",
       "      <td>699</td>\n",
       "      <td>France</td>\n",
       "      <td>Female</td>\n",
       "      <td>39</td>\n",
       "      <td>1.0</td>\n",
       "      <td>0.00</td>\n",
       "      <td>2</td>\n",
       "      <td>0</td>\n",
       "      <td>0</td>\n",
       "      <td>93826.63</td>\n",
       "      <td>0</td>\n",
       "      <td>0.0</td>\n",
       "      <td>0.0</td>\n",
       "    </tr>\n",
       "    <tr>\n",
       "      <th>4</th>\n",
       "      <td>850</td>\n",
       "      <td>Spain</td>\n",
       "      <td>Female</td>\n",
       "      <td>43</td>\n",
       "      <td>2.0</td>\n",
       "      <td>125510.82</td>\n",
       "      <td>1</td>\n",
       "      <td>1</td>\n",
       "      <td>1</td>\n",
       "      <td>79084.10</td>\n",
       "      <td>0</td>\n",
       "      <td>0.0</td>\n",
       "      <td>1.0</td>\n",
       "    </tr>\n",
       "    <tr>\n",
       "      <th>5</th>\n",
       "      <td>645</td>\n",
       "      <td>Spain</td>\n",
       "      <td>Male</td>\n",
       "      <td>44</td>\n",
       "      <td>8.0</td>\n",
       "      <td>113755.78</td>\n",
       "      <td>2</td>\n",
       "      <td>1</td>\n",
       "      <td>0</td>\n",
       "      <td>149756.71</td>\n",
       "      <td>1</td>\n",
       "      <td>0.0</td>\n",
       "      <td>1.0</td>\n",
       "    </tr>\n",
       "    <tr>\n",
       "      <th>6</th>\n",
       "      <td>822</td>\n",
       "      <td>France</td>\n",
       "      <td>Male</td>\n",
       "      <td>50</td>\n",
       "      <td>7.0</td>\n",
       "      <td>0.00</td>\n",
       "      <td>2</td>\n",
       "      <td>1</td>\n",
       "      <td>1</td>\n",
       "      <td>10062.80</td>\n",
       "      <td>0</td>\n",
       "      <td>0.0</td>\n",
       "      <td>0.0</td>\n",
       "    </tr>\n",
       "    <tr>\n",
       "      <th>7</th>\n",
       "      <td>376</td>\n",
       "      <td>Germany</td>\n",
       "      <td>Female</td>\n",
       "      <td>29</td>\n",
       "      <td>4.0</td>\n",
       "      <td>115046.74</td>\n",
       "      <td>4</td>\n",
       "      <td>1</td>\n",
       "      <td>0</td>\n",
       "      <td>119346.88</td>\n",
       "      <td>1</td>\n",
       "      <td>1.0</td>\n",
       "      <td>0.0</td>\n",
       "    </tr>\n",
       "    <tr>\n",
       "      <th>8</th>\n",
       "      <td>501</td>\n",
       "      <td>France</td>\n",
       "      <td>Male</td>\n",
       "      <td>44</td>\n",
       "      <td>4.0</td>\n",
       "      <td>142051.07</td>\n",
       "      <td>2</td>\n",
       "      <td>0</td>\n",
       "      <td>1</td>\n",
       "      <td>74940.50</td>\n",
       "      <td>0</td>\n",
       "      <td>0.0</td>\n",
       "      <td>0.0</td>\n",
       "    </tr>\n",
       "    <tr>\n",
       "      <th>9</th>\n",
       "      <td>684</td>\n",
       "      <td>France</td>\n",
       "      <td>Male</td>\n",
       "      <td>27</td>\n",
       "      <td>2.0</td>\n",
       "      <td>134603.88</td>\n",
       "      <td>1</td>\n",
       "      <td>1</td>\n",
       "      <td>1</td>\n",
       "      <td>71725.73</td>\n",
       "      <td>0</td>\n",
       "      <td>0.0</td>\n",
       "      <td>0.0</td>\n",
       "    </tr>\n",
       "  </tbody>\n",
       "</table>\n",
       "</div>"
      ],
      "text/plain": [
       "   CreditScore Geography  Gender  Age  Tenure    Balance  NumOfProducts  \\\n",
       "0          619    France  Female   42     2.0       0.00              1   \n",
       "1          608     Spain  Female   41     1.0   83807.86              1   \n",
       "2          502    France  Female   42     8.0  159660.80              3   \n",
       "3          699    France  Female   39     1.0       0.00              2   \n",
       "4          850     Spain  Female   43     2.0  125510.82              1   \n",
       "5          645     Spain    Male   44     8.0  113755.78              2   \n",
       "6          822    France    Male   50     7.0       0.00              2   \n",
       "7          376   Germany  Female   29     4.0  115046.74              4   \n",
       "8          501    France    Male   44     4.0  142051.07              2   \n",
       "9          684    France    Male   27     2.0  134603.88              1   \n",
       "\n",
       "   HasCrCard  IsActiveMember  EstimatedSalary  Exited  Germany  Spain  \n",
       "0          1               1        101348.88       1      0.0    0.0  \n",
       "1          0               1        112542.58       0      0.0    1.0  \n",
       "2          1               0        113931.57       1      0.0    0.0  \n",
       "3          0               0         93826.63       0      0.0    0.0  \n",
       "4          1               1         79084.10       0      0.0    1.0  \n",
       "5          1               0        149756.71       1      0.0    1.0  \n",
       "6          1               1         10062.80       0      0.0    0.0  \n",
       "7          1               0        119346.88       1      1.0    0.0  \n",
       "8          0               1         74940.50       0      0.0    0.0  \n",
       "9          1               1         71725.73       0      0.0    0.0  "
      ]
     },
     "metadata": {},
     "output_type": "display_data"
    }
   ],
   "source": [
    "df_onehot = df.copy()\n",
    " \n",
    "onehot_first = OneHotEncoder(drop = 'first', sparse = False)\n",
    " \n",
    "encoded_df = pd.DataFrame(onehot_first.fit_transform(df_onehot[['Geography']]))\n",
    "encoded_df.columns = onehot_first.categories_[0][1:]\n",
    "\n",
    "df_onehot = df_onehot.join(encoded_df)\n",
    "display(df_onehot.head(10))"
   ]
  },
  {
   "cell_type": "markdown",
   "metadata": {},
   "source": [
    "Теперь произведем масштабирование признаков"
   ]
  },
  {
   "cell_type": "markdown",
   "metadata": {},
   "source": [
    "Вывод: В дата сете 10000 строк, достаточно для обучения модели. Пропуски в колонке \"сколько лет человек является клиентом банка\" заполнили нулями. Признаки \"Страна\" и \"Пол\" закодировали прямым кодированием."
   ]
  },
  {
   "cell_type": "markdown",
   "metadata": {},
   "source": [
    "## Исследование задачи"
   ]
  },
  {
   "cell_type": "markdown",
   "metadata": {},
   "source": [
    "### Перед разбитием на выборки, проанализируем баланс классов"
   ]
  },
  {
   "cell_type": "code",
   "execution_count": 128,
   "metadata": {},
   "outputs": [
    {
     "name": "stdout",
     "output_type": "stream",
     "text": [
      "0    7237\n",
      "1    1854\n",
      "Name: Exited, dtype: int64\n",
      "0    0.796062\n",
      "1    0.203938\n",
      "Name: Exited, dtype: float64\n"
     ]
    }
   ],
   "source": [
    "print(df['Exited'].value_counts())\n",
    "print(df['Exited'].value_counts(normalize=True))"
   ]
  },
  {
   "cell_type": "markdown",
   "metadata": {},
   "source": [
    "Пропорция отрицательных к положэительным значений примерно 4 к 1.  \n",
    "Попробуем сначала обучить модель на таких данных. Обучать будем Случайный лес и логистическую регрессию."
   ]
  },
  {
   "cell_type": "markdown",
   "metadata": {},
   "source": [
    "### Делим на выборки"
   ]
  },
  {
   "cell_type": "code",
   "execution_count": 135,
   "metadata": {},
   "outputs": [
    {
     "name": "stdout",
     "output_type": "stream",
     "text": [
      "(5454, 10)\n",
      "(1818, 10)\n",
      "(1819, 10)\n"
     ]
    },
    {
     "data": {
      "text/html": [
       "<div>\n",
       "<style scoped>\n",
       "    .dataframe tbody tr th:only-of-type {\n",
       "        vertical-align: middle;\n",
       "    }\n",
       "\n",
       "    .dataframe tbody tr th {\n",
       "        vertical-align: top;\n",
       "    }\n",
       "\n",
       "    .dataframe thead th {\n",
       "        text-align: right;\n",
       "    }\n",
       "</style>\n",
       "<table border=\"1\" class=\"dataframe\">\n",
       "  <thead>\n",
       "    <tr style=\"text-align: right;\">\n",
       "      <th></th>\n",
       "      <th>CreditScore</th>\n",
       "      <th>Geography</th>\n",
       "      <th>Gender</th>\n",
       "      <th>Age</th>\n",
       "      <th>Tenure</th>\n",
       "      <th>Balance</th>\n",
       "      <th>NumOfProducts</th>\n",
       "      <th>HasCrCard</th>\n",
       "      <th>IsActiveMember</th>\n",
       "      <th>EstimatedSalary</th>\n",
       "    </tr>\n",
       "  </thead>\n",
       "  <tbody>\n",
       "    <tr>\n",
       "      <th>0</th>\n",
       "      <td>629</td>\n",
       "      <td>Spain</td>\n",
       "      <td>Female</td>\n",
       "      <td>44</td>\n",
       "      <td>6.0</td>\n",
       "      <td>125512.98</td>\n",
       "      <td>2</td>\n",
       "      <td>0</td>\n",
       "      <td>0</td>\n",
       "      <td>79082.76</td>\n",
       "    </tr>\n",
       "    <tr>\n",
       "      <th>1</th>\n",
       "      <td>614</td>\n",
       "      <td>France</td>\n",
       "      <td>Female</td>\n",
       "      <td>35</td>\n",
       "      <td>1.0</td>\n",
       "      <td>0.00</td>\n",
       "      <td>2</td>\n",
       "      <td>1</td>\n",
       "      <td>1</td>\n",
       "      <td>3342.62</td>\n",
       "    </tr>\n",
       "    <tr>\n",
       "      <th>2</th>\n",
       "      <td>666</td>\n",
       "      <td>France</td>\n",
       "      <td>Male</td>\n",
       "      <td>36</td>\n",
       "      <td>3.0</td>\n",
       "      <td>0.00</td>\n",
       "      <td>2</td>\n",
       "      <td>1</td>\n",
       "      <td>0</td>\n",
       "      <td>35156.54</td>\n",
       "    </tr>\n",
       "    <tr>\n",
       "      <th>3</th>\n",
       "      <td>683</td>\n",
       "      <td>Germany</td>\n",
       "      <td>Female</td>\n",
       "      <td>57</td>\n",
       "      <td>5.0</td>\n",
       "      <td>162448.69</td>\n",
       "      <td>1</td>\n",
       "      <td>0</td>\n",
       "      <td>0</td>\n",
       "      <td>9221.78</td>\n",
       "    </tr>\n",
       "    <tr>\n",
       "      <th>4</th>\n",
       "      <td>737</td>\n",
       "      <td>France</td>\n",
       "      <td>Male</td>\n",
       "      <td>36</td>\n",
       "      <td>9.0</td>\n",
       "      <td>0.00</td>\n",
       "      <td>1</td>\n",
       "      <td>0</td>\n",
       "      <td>1</td>\n",
       "      <td>188670.90</td>\n",
       "    </tr>\n",
       "  </tbody>\n",
       "</table>\n",
       "</div>"
      ],
      "text/plain": [
       "   CreditScore Geography  Gender  Age  Tenure    Balance  NumOfProducts  \\\n",
       "0          629     Spain  Female   44     6.0  125512.98              2   \n",
       "1          614    France  Female   35     1.0       0.00              2   \n",
       "2          666    France    Male   36     3.0       0.00              2   \n",
       "3          683   Germany  Female   57     5.0  162448.69              1   \n",
       "4          737    France    Male   36     9.0       0.00              1   \n",
       "\n",
       "   HasCrCard  IsActiveMember  EstimatedSalary  \n",
       "0          0               0         79082.76  \n",
       "1          1               1          3342.62  \n",
       "2          1               0         35156.54  \n",
       "3          0               0          9221.78  \n",
       "4          0               1        188670.90  "
      ]
     },
     "metadata": {},
     "output_type": "display_data"
    }
   ],
   "source": [
    "x_train, y_train, x_valid,  y_valid, x_test, y_test = data_split(df, 'Exited')\n",
    "print(x_train.shape)\n",
    "print(x_valid.shape)\n",
    "print(x_test.shape)\n",
    "display(x_train.head(5))"
   ]
  },
  {
   "cell_type": "markdown",
   "metadata": {},
   "source": [
    "### Кодирование категорий"
   ]
  },
  {
   "cell_type": "code",
   "execution_count": 130,
   "metadata": {},
   "outputs": [
    {
     "data": {
      "text/html": [
       "<div>\n",
       "<style scoped>\n",
       "    .dataframe tbody tr th:only-of-type {\n",
       "        vertical-align: middle;\n",
       "    }\n",
       "\n",
       "    .dataframe tbody tr th {\n",
       "        vertical-align: top;\n",
       "    }\n",
       "\n",
       "    .dataframe thead th {\n",
       "        text-align: right;\n",
       "    }\n",
       "</style>\n",
       "<table border=\"1\" class=\"dataframe\">\n",
       "  <thead>\n",
       "    <tr style=\"text-align: right;\">\n",
       "      <th></th>\n",
       "      <th>CreditScore</th>\n",
       "      <th>Age</th>\n",
       "      <th>Tenure</th>\n",
       "      <th>Balance</th>\n",
       "      <th>NumOfProducts</th>\n",
       "      <th>HasCrCard</th>\n",
       "      <th>IsActiveMember</th>\n",
       "      <th>EstimatedSalary</th>\n",
       "      <th>Germany</th>\n",
       "      <th>Spain</th>\n",
       "      <th>Male</th>\n",
       "    </tr>\n",
       "  </thead>\n",
       "  <tbody>\n",
       "    <tr>\n",
       "      <th>0</th>\n",
       "      <td>629</td>\n",
       "      <td>44</td>\n",
       "      <td>6.0</td>\n",
       "      <td>125512.98</td>\n",
       "      <td>2</td>\n",
       "      <td>0</td>\n",
       "      <td>0</td>\n",
       "      <td>79082.76</td>\n",
       "      <td>0.0</td>\n",
       "      <td>1.0</td>\n",
       "      <td>0.0</td>\n",
       "    </tr>\n",
       "    <tr>\n",
       "      <th>1</th>\n",
       "      <td>614</td>\n",
       "      <td>35</td>\n",
       "      <td>1.0</td>\n",
       "      <td>0.00</td>\n",
       "      <td>2</td>\n",
       "      <td>1</td>\n",
       "      <td>1</td>\n",
       "      <td>3342.62</td>\n",
       "      <td>0.0</td>\n",
       "      <td>0.0</td>\n",
       "      <td>0.0</td>\n",
       "    </tr>\n",
       "    <tr>\n",
       "      <th>2</th>\n",
       "      <td>666</td>\n",
       "      <td>36</td>\n",
       "      <td>3.0</td>\n",
       "      <td>0.00</td>\n",
       "      <td>2</td>\n",
       "      <td>1</td>\n",
       "      <td>0</td>\n",
       "      <td>35156.54</td>\n",
       "      <td>0.0</td>\n",
       "      <td>0.0</td>\n",
       "      <td>1.0</td>\n",
       "    </tr>\n",
       "    <tr>\n",
       "      <th>3</th>\n",
       "      <td>683</td>\n",
       "      <td>57</td>\n",
       "      <td>5.0</td>\n",
       "      <td>162448.69</td>\n",
       "      <td>1</td>\n",
       "      <td>0</td>\n",
       "      <td>0</td>\n",
       "      <td>9221.78</td>\n",
       "      <td>1.0</td>\n",
       "      <td>0.0</td>\n",
       "      <td>0.0</td>\n",
       "    </tr>\n",
       "    <tr>\n",
       "      <th>4</th>\n",
       "      <td>737</td>\n",
       "      <td>36</td>\n",
       "      <td>9.0</td>\n",
       "      <td>0.00</td>\n",
       "      <td>1</td>\n",
       "      <td>0</td>\n",
       "      <td>1</td>\n",
       "      <td>188670.90</td>\n",
       "      <td>0.0</td>\n",
       "      <td>0.0</td>\n",
       "      <td>1.0</td>\n",
       "    </tr>\n",
       "    <tr>\n",
       "      <th>5</th>\n",
       "      <td>553</td>\n",
       "      <td>46</td>\n",
       "      <td>3.0</td>\n",
       "      <td>82291.10</td>\n",
       "      <td>1</td>\n",
       "      <td>1</td>\n",
       "      <td>0</td>\n",
       "      <td>112549.99</td>\n",
       "      <td>1.0</td>\n",
       "      <td>0.0</td>\n",
       "      <td>1.0</td>\n",
       "    </tr>\n",
       "    <tr>\n",
       "      <th>6</th>\n",
       "      <td>572</td>\n",
       "      <td>39</td>\n",
       "      <td>2.0</td>\n",
       "      <td>0.00</td>\n",
       "      <td>2</td>\n",
       "      <td>1</td>\n",
       "      <td>1</td>\n",
       "      <td>555.28</td>\n",
       "      <td>0.0</td>\n",
       "      <td>0.0</td>\n",
       "      <td>0.0</td>\n",
       "    </tr>\n",
       "    <tr>\n",
       "      <th>7</th>\n",
       "      <td>648</td>\n",
       "      <td>33</td>\n",
       "      <td>7.0</td>\n",
       "      <td>135310.41</td>\n",
       "      <td>2</td>\n",
       "      <td>0</td>\n",
       "      <td>1</td>\n",
       "      <td>171668.20</td>\n",
       "      <td>1.0</td>\n",
       "      <td>0.0</td>\n",
       "      <td>1.0</td>\n",
       "    </tr>\n",
       "    <tr>\n",
       "      <th>8</th>\n",
       "      <td>778</td>\n",
       "      <td>29</td>\n",
       "      <td>6.0</td>\n",
       "      <td>150358.97</td>\n",
       "      <td>1</td>\n",
       "      <td>1</td>\n",
       "      <td>0</td>\n",
       "      <td>62454.01</td>\n",
       "      <td>1.0</td>\n",
       "      <td>0.0</td>\n",
       "      <td>0.0</td>\n",
       "    </tr>\n",
       "    <tr>\n",
       "      <th>9</th>\n",
       "      <td>600</td>\n",
       "      <td>35</td>\n",
       "      <td>4.0</td>\n",
       "      <td>143744.77</td>\n",
       "      <td>2</td>\n",
       "      <td>1</td>\n",
       "      <td>0</td>\n",
       "      <td>104076.51</td>\n",
       "      <td>0.0</td>\n",
       "      <td>0.0</td>\n",
       "      <td>1.0</td>\n",
       "    </tr>\n",
       "  </tbody>\n",
       "</table>\n",
       "</div>"
      ],
      "text/plain": [
       "   CreditScore  Age  Tenure    Balance  NumOfProducts  HasCrCard  \\\n",
       "0          629   44     6.0  125512.98              2          0   \n",
       "1          614   35     1.0       0.00              2          1   \n",
       "2          666   36     3.0       0.00              2          1   \n",
       "3          683   57     5.0  162448.69              1          0   \n",
       "4          737   36     9.0       0.00              1          0   \n",
       "5          553   46     3.0   82291.10              1          1   \n",
       "6          572   39     2.0       0.00              2          1   \n",
       "7          648   33     7.0  135310.41              2          0   \n",
       "8          778   29     6.0  150358.97              1          1   \n",
       "9          600   35     4.0  143744.77              2          1   \n",
       "\n",
       "   IsActiveMember  EstimatedSalary  Germany  Spain  Male  \n",
       "0               0         79082.76      0.0    1.0   0.0  \n",
       "1               1          3342.62      0.0    0.0   0.0  \n",
       "2               0         35156.54      0.0    0.0   1.0  \n",
       "3               0          9221.78      1.0    0.0   0.0  \n",
       "4               1        188670.90      0.0    0.0   1.0  \n",
       "5               0        112549.99      1.0    0.0   1.0  \n",
       "6               1           555.28      0.0    0.0   0.0  \n",
       "7               1        171668.20      1.0    0.0   1.0  \n",
       "8               0         62454.01      1.0    0.0   0.0  \n",
       "9               0        104076.51      0.0    0.0   1.0  "
      ]
     },
     "metadata": {},
     "output_type": "display_data"
    }
   ],
   "source": [
    "categorical_features = ['Geography','Gender'] \n",
    "ohe_encoder = OneHotEncoder(drop = 'first', sparse = False)\n",
    " \n",
    "encoded_df = pd.DataFrame(ohe_encoder.fit_transform(x_train[categorical_features]))\n",
    "columns = ohe_encoder.categories_[0][1:].tolist()\n",
    "columns_gender = ohe_encoder.categories_[1][1:].tolist()\n",
    "columns.extend(columns_gender)\n",
    "\n",
    "encoded_df.columns = columns\n",
    "\n",
    "x_train = x_train.join(encoded_df)\n",
    "x_train = x_train.drop(categorical_features, axis=1)\n",
    "display(x_train.head(10))"
   ]
  },
  {
   "cell_type": "code",
   "execution_count": 131,
   "metadata": {},
   "outputs": [
    {
     "data": {
      "text/html": [
       "<div>\n",
       "<style scoped>\n",
       "    .dataframe tbody tr th:only-of-type {\n",
       "        vertical-align: middle;\n",
       "    }\n",
       "\n",
       "    .dataframe tbody tr th {\n",
       "        vertical-align: top;\n",
       "    }\n",
       "\n",
       "    .dataframe thead th {\n",
       "        text-align: right;\n",
       "    }\n",
       "</style>\n",
       "<table border=\"1\" class=\"dataframe\">\n",
       "  <thead>\n",
       "    <tr style=\"text-align: right;\">\n",
       "      <th></th>\n",
       "      <th>CreditScore</th>\n",
       "      <th>Age</th>\n",
       "      <th>Tenure</th>\n",
       "      <th>Balance</th>\n",
       "      <th>NumOfProducts</th>\n",
       "      <th>HasCrCard</th>\n",
       "      <th>IsActiveMember</th>\n",
       "      <th>EstimatedSalary</th>\n",
       "      <th>Germany</th>\n",
       "      <th>Spain</th>\n",
       "      <th>Male</th>\n",
       "    </tr>\n",
       "  </thead>\n",
       "  <tbody>\n",
       "    <tr>\n",
       "      <th>0</th>\n",
       "      <td>551</td>\n",
       "      <td>52</td>\n",
       "      <td>1.0</td>\n",
       "      <td>0.00</td>\n",
       "      <td>1</td>\n",
       "      <td>0</td>\n",
       "      <td>0</td>\n",
       "      <td>63584.55</td>\n",
       "      <td>0.0</td>\n",
       "      <td>1.0</td>\n",
       "      <td>0.0</td>\n",
       "    </tr>\n",
       "    <tr>\n",
       "      <th>1</th>\n",
       "      <td>557</td>\n",
       "      <td>33</td>\n",
       "      <td>3.0</td>\n",
       "      <td>54503.55</td>\n",
       "      <td>1</td>\n",
       "      <td>1</td>\n",
       "      <td>1</td>\n",
       "      <td>371.05</td>\n",
       "      <td>0.0</td>\n",
       "      <td>0.0</td>\n",
       "      <td>0.0</td>\n",
       "    </tr>\n",
       "    <tr>\n",
       "      <th>2</th>\n",
       "      <td>485</td>\n",
       "      <td>25</td>\n",
       "      <td>3.0</td>\n",
       "      <td>134467.26</td>\n",
       "      <td>1</td>\n",
       "      <td>1</td>\n",
       "      <td>1</td>\n",
       "      <td>113266.09</td>\n",
       "      <td>0.0</td>\n",
       "      <td>0.0</td>\n",
       "      <td>1.0</td>\n",
       "    </tr>\n",
       "    <tr>\n",
       "      <th>3</th>\n",
       "      <td>526</td>\n",
       "      <td>32</td>\n",
       "      <td>7.0</td>\n",
       "      <td>125540.05</td>\n",
       "      <td>1</td>\n",
       "      <td>0</td>\n",
       "      <td>0</td>\n",
       "      <td>86786.41</td>\n",
       "      <td>1.0</td>\n",
       "      <td>0.0</td>\n",
       "      <td>0.0</td>\n",
       "    </tr>\n",
       "    <tr>\n",
       "      <th>4</th>\n",
       "      <td>633</td>\n",
       "      <td>43</td>\n",
       "      <td>3.0</td>\n",
       "      <td>144164.29</td>\n",
       "      <td>1</td>\n",
       "      <td>1</td>\n",
       "      <td>1</td>\n",
       "      <td>158646.46</td>\n",
       "      <td>0.0</td>\n",
       "      <td>0.0</td>\n",
       "      <td>1.0</td>\n",
       "    </tr>\n",
       "    <tr>\n",
       "      <th>5</th>\n",
       "      <td>773</td>\n",
       "      <td>36</td>\n",
       "      <td>4.0</td>\n",
       "      <td>105858.71</td>\n",
       "      <td>1</td>\n",
       "      <td>0</td>\n",
       "      <td>1</td>\n",
       "      <td>4395.45</td>\n",
       "      <td>1.0</td>\n",
       "      <td>0.0</td>\n",
       "      <td>1.0</td>\n",
       "    </tr>\n",
       "    <tr>\n",
       "      <th>6</th>\n",
       "      <td>613</td>\n",
       "      <td>40</td>\n",
       "      <td>1.0</td>\n",
       "      <td>147856.82</td>\n",
       "      <td>3</td>\n",
       "      <td>0</td>\n",
       "      <td>0</td>\n",
       "      <td>107961.11</td>\n",
       "      <td>0.0</td>\n",
       "      <td>0.0</td>\n",
       "      <td>0.0</td>\n",
       "    </tr>\n",
       "    <tr>\n",
       "      <th>7</th>\n",
       "      <td>651</td>\n",
       "      <td>39</td>\n",
       "      <td>8.0</td>\n",
       "      <td>0.00</td>\n",
       "      <td>1</td>\n",
       "      <td>1</td>\n",
       "      <td>0</td>\n",
       "      <td>137452.57</td>\n",
       "      <td>1.0</td>\n",
       "      <td>0.0</td>\n",
       "      <td>1.0</td>\n",
       "    </tr>\n",
       "    <tr>\n",
       "      <th>8</th>\n",
       "      <td>660</td>\n",
       "      <td>34</td>\n",
       "      <td>8.0</td>\n",
       "      <td>106486.66</td>\n",
       "      <td>2</td>\n",
       "      <td>0</td>\n",
       "      <td>1</td>\n",
       "      <td>182262.66</td>\n",
       "      <td>1.0</td>\n",
       "      <td>0.0</td>\n",
       "      <td>0.0</td>\n",
       "    </tr>\n",
       "    <tr>\n",
       "      <th>9</th>\n",
       "      <td>421</td>\n",
       "      <td>34</td>\n",
       "      <td>6.0</td>\n",
       "      <td>90723.36</td>\n",
       "      <td>1</td>\n",
       "      <td>1</td>\n",
       "      <td>1</td>\n",
       "      <td>12162.76</td>\n",
       "      <td>0.0</td>\n",
       "      <td>0.0</td>\n",
       "      <td>1.0</td>\n",
       "    </tr>\n",
       "  </tbody>\n",
       "</table>\n",
       "</div>"
      ],
      "text/plain": [
       "   CreditScore  Age  Tenure    Balance  NumOfProducts  HasCrCard  \\\n",
       "0          551   52     1.0       0.00              1          0   \n",
       "1          557   33     3.0   54503.55              1          1   \n",
       "2          485   25     3.0  134467.26              1          1   \n",
       "3          526   32     7.0  125540.05              1          0   \n",
       "4          633   43     3.0  144164.29              1          1   \n",
       "5          773   36     4.0  105858.71              1          0   \n",
       "6          613   40     1.0  147856.82              3          0   \n",
       "7          651   39     8.0       0.00              1          1   \n",
       "8          660   34     8.0  106486.66              2          0   \n",
       "9          421   34     6.0   90723.36              1          1   \n",
       "\n",
       "   IsActiveMember  EstimatedSalary  Germany  Spain  Male  \n",
       "0               0         63584.55      0.0    1.0   0.0  \n",
       "1               1           371.05      0.0    0.0   0.0  \n",
       "2               1        113266.09      0.0    0.0   1.0  \n",
       "3               0         86786.41      1.0    0.0   0.0  \n",
       "4               1        158646.46      0.0    0.0   1.0  \n",
       "5               1          4395.45      1.0    0.0   1.0  \n",
       "6               0        107961.11      0.0    0.0   0.0  \n",
       "7               0        137452.57      1.0    0.0   1.0  \n",
       "8               1        182262.66      1.0    0.0   0.0  \n",
       "9               1         12162.76      0.0    0.0   1.0  "
      ]
     },
     "metadata": {},
     "output_type": "display_data"
    }
   ],
   "source": [
    "encoded_data = pd.DataFrame(ohe_encoder.transform(x_valid[categorical_features]))\n",
    "encoded_data.columns = columns\n",
    "x_valid = x_valid.join(encoded_df)\n",
    "x_valid = x_valid.drop(categorical_features, axis=1)\n",
    "display(x_valid.head(10))"
   ]
  },
  {
   "cell_type": "code",
   "execution_count": 132,
   "metadata": {},
   "outputs": [
    {
     "data": {
      "text/html": [
       "<div>\n",
       "<style scoped>\n",
       "    .dataframe tbody tr th:only-of-type {\n",
       "        vertical-align: middle;\n",
       "    }\n",
       "\n",
       "    .dataframe tbody tr th {\n",
       "        vertical-align: top;\n",
       "    }\n",
       "\n",
       "    .dataframe thead th {\n",
       "        text-align: right;\n",
       "    }\n",
       "</style>\n",
       "<table border=\"1\" class=\"dataframe\">\n",
       "  <thead>\n",
       "    <tr style=\"text-align: right;\">\n",
       "      <th></th>\n",
       "      <th>CreditScore</th>\n",
       "      <th>Age</th>\n",
       "      <th>Tenure</th>\n",
       "      <th>Balance</th>\n",
       "      <th>NumOfProducts</th>\n",
       "      <th>HasCrCard</th>\n",
       "      <th>IsActiveMember</th>\n",
       "      <th>EstimatedSalary</th>\n",
       "      <th>Germany</th>\n",
       "      <th>Spain</th>\n",
       "      <th>Male</th>\n",
       "    </tr>\n",
       "  </thead>\n",
       "  <tbody>\n",
       "    <tr>\n",
       "      <th>0</th>\n",
       "      <td>725</td>\n",
       "      <td>41</td>\n",
       "      <td>7.0</td>\n",
       "      <td>113980.21</td>\n",
       "      <td>1</td>\n",
       "      <td>1</td>\n",
       "      <td>1</td>\n",
       "      <td>116704.25</td>\n",
       "      <td>0.0</td>\n",
       "      <td>1.0</td>\n",
       "      <td>0.0</td>\n",
       "    </tr>\n",
       "    <tr>\n",
       "      <th>1</th>\n",
       "      <td>530</td>\n",
       "      <td>45</td>\n",
       "      <td>1.0</td>\n",
       "      <td>0.00</td>\n",
       "      <td>1</td>\n",
       "      <td>0</td>\n",
       "      <td>1</td>\n",
       "      <td>190663.89</td>\n",
       "      <td>0.0</td>\n",
       "      <td>0.0</td>\n",
       "      <td>0.0</td>\n",
       "    </tr>\n",
       "    <tr>\n",
       "      <th>2</th>\n",
       "      <td>707</td>\n",
       "      <td>35</td>\n",
       "      <td>3.0</td>\n",
       "      <td>56674.48</td>\n",
       "      <td>1</td>\n",
       "      <td>1</td>\n",
       "      <td>0</td>\n",
       "      <td>17987.40</td>\n",
       "      <td>0.0</td>\n",
       "      <td>0.0</td>\n",
       "      <td>1.0</td>\n",
       "    </tr>\n",
       "    <tr>\n",
       "      <th>3</th>\n",
       "      <td>730</td>\n",
       "      <td>32</td>\n",
       "      <td>9.0</td>\n",
       "      <td>127661.69</td>\n",
       "      <td>1</td>\n",
       "      <td>0</td>\n",
       "      <td>0</td>\n",
       "      <td>60905.51</td>\n",
       "      <td>1.0</td>\n",
       "      <td>0.0</td>\n",
       "      <td>0.0</td>\n",
       "    </tr>\n",
       "    <tr>\n",
       "      <th>4</th>\n",
       "      <td>582</td>\n",
       "      <td>30</td>\n",
       "      <td>2.0</td>\n",
       "      <td>0.00</td>\n",
       "      <td>2</td>\n",
       "      <td>1</td>\n",
       "      <td>1</td>\n",
       "      <td>132029.95</td>\n",
       "      <td>0.0</td>\n",
       "      <td>0.0</td>\n",
       "      <td>1.0</td>\n",
       "    </tr>\n",
       "    <tr>\n",
       "      <th>5</th>\n",
       "      <td>847</td>\n",
       "      <td>31</td>\n",
       "      <td>5.0</td>\n",
       "      <td>0.00</td>\n",
       "      <td>2</td>\n",
       "      <td>1</td>\n",
       "      <td>1</td>\n",
       "      <td>76326.67</td>\n",
       "      <td>1.0</td>\n",
       "      <td>0.0</td>\n",
       "      <td>1.0</td>\n",
       "    </tr>\n",
       "    <tr>\n",
       "      <th>6</th>\n",
       "      <td>663</td>\n",
       "      <td>49</td>\n",
       "      <td>7.0</td>\n",
       "      <td>116150.65</td>\n",
       "      <td>3</td>\n",
       "      <td>1</td>\n",
       "      <td>1</td>\n",
       "      <td>84358.71</td>\n",
       "      <td>0.0</td>\n",
       "      <td>0.0</td>\n",
       "      <td>0.0</td>\n",
       "    </tr>\n",
       "    <tr>\n",
       "      <th>7</th>\n",
       "      <td>717</td>\n",
       "      <td>22</td>\n",
       "      <td>5.0</td>\n",
       "      <td>112465.06</td>\n",
       "      <td>1</td>\n",
       "      <td>1</td>\n",
       "      <td>1</td>\n",
       "      <td>92977.75</td>\n",
       "      <td>1.0</td>\n",
       "      <td>0.0</td>\n",
       "      <td>1.0</td>\n",
       "    </tr>\n",
       "    <tr>\n",
       "      <th>8</th>\n",
       "      <td>754</td>\n",
       "      <td>34</td>\n",
       "      <td>7.0</td>\n",
       "      <td>0.00</td>\n",
       "      <td>2</td>\n",
       "      <td>1</td>\n",
       "      <td>1</td>\n",
       "      <td>65219.85</td>\n",
       "      <td>1.0</td>\n",
       "      <td>0.0</td>\n",
       "      <td>0.0</td>\n",
       "    </tr>\n",
       "    <tr>\n",
       "      <th>9</th>\n",
       "      <td>686</td>\n",
       "      <td>38</td>\n",
       "      <td>2.0</td>\n",
       "      <td>93569.86</td>\n",
       "      <td>3</td>\n",
       "      <td>0</td>\n",
       "      <td>0</td>\n",
       "      <td>10137.34</td>\n",
       "      <td>0.0</td>\n",
       "      <td>0.0</td>\n",
       "      <td>1.0</td>\n",
       "    </tr>\n",
       "  </tbody>\n",
       "</table>\n",
       "</div>"
      ],
      "text/plain": [
       "   CreditScore  Age  Tenure    Balance  NumOfProducts  HasCrCard  \\\n",
       "0          725   41     7.0  113980.21              1          1   \n",
       "1          530   45     1.0       0.00              1          0   \n",
       "2          707   35     3.0   56674.48              1          1   \n",
       "3          730   32     9.0  127661.69              1          0   \n",
       "4          582   30     2.0       0.00              2          1   \n",
       "5          847   31     5.0       0.00              2          1   \n",
       "6          663   49     7.0  116150.65              3          1   \n",
       "7          717   22     5.0  112465.06              1          1   \n",
       "8          754   34     7.0       0.00              2          1   \n",
       "9          686   38     2.0   93569.86              3          0   \n",
       "\n",
       "   IsActiveMember  EstimatedSalary  Germany  Spain  Male  \n",
       "0               1        116704.25      0.0    1.0   0.0  \n",
       "1               1        190663.89      0.0    0.0   0.0  \n",
       "2               0         17987.40      0.0    0.0   1.0  \n",
       "3               0         60905.51      1.0    0.0   0.0  \n",
       "4               1        132029.95      0.0    0.0   1.0  \n",
       "5               1         76326.67      1.0    0.0   1.0  \n",
       "6               1         84358.71      0.0    0.0   0.0  \n",
       "7               1         92977.75      1.0    0.0   1.0  \n",
       "8               1         65219.85      1.0    0.0   0.0  \n",
       "9               0         10137.34      0.0    0.0   1.0  "
      ]
     },
     "metadata": {},
     "output_type": "display_data"
    }
   ],
   "source": [
    "encoded_data = pd.DataFrame(ohe_encoder.transform(x_test[categorical_features]))\n",
    "encoded_data.columns = columns\n",
    "x_test = x_test.join(encoded_df)\n",
    "x_test = x_test.drop(categorical_features, axis=1)\n",
    "display(x_test.head(10))"
   ]
  },
  {
   "cell_type": "markdown",
   "metadata": {},
   "source": [
    "###  Масштабирование"
   ]
  },
  {
   "cell_type": "code",
   "execution_count": 133,
   "metadata": {},
   "outputs": [],
   "source": [
    "x_train, x_valid, x_test = data_scale(x_train, x_valid, x_test)"
   ]
  },
  {
   "cell_type": "markdown",
   "metadata": {},
   "source": [
    "### Random Forest"
   ]
  },
  {
   "cell_type": "code",
   "execution_count": null,
   "metadata": {},
   "outputs": [],
   "source": [
    "model = RandomForestClassifier(random_state=12345, n_estimators=60, max_depth=10)\n",
    "model.fit(x_train, y_train)\n",
    "y_pred = model.predict(x_valid)\n",
    "y_prob = model.predict_proba(x_valid)[:, 1]\n",
    "scores(y_valid, y_pred, y_prob)"
   ]
  },
  {
   "cell_type": "markdown",
   "metadata": {},
   "source": [
    "### LogisticRegression"
   ]
  },
  {
   "cell_type": "code",
   "execution_count": null,
   "metadata": {},
   "outputs": [],
   "source": [
    "model = LogisticRegression(random_state=12345, solver='liblinear')\n",
    "model.fit(x_train, y_train)\n",
    "y_pred = model.predict(x_valid)\n",
    "y_prob = model.predict_proba(x_valid)[:, 1]\n",
    "\n",
    "scores(y_valid, y_pred, y_prob)"
   ]
  },
  {
   "cell_type": "markdown",
   "metadata": {},
   "source": [
    "### LogisticRegression со сбалансированным весом"
   ]
  },
  {
   "cell_type": "code",
   "execution_count": null,
   "metadata": {},
   "outputs": [],
   "source": [
    "model = LogisticRegression(random_state=12345, solver='liblinear', class_weight='balanced')\n",
    "model.fit(x_train, y_train)\n",
    "y_pred = model.predict(x_valid)\n",
    "y_prob = model.predict_proba(x_valid)[:, 1]\n",
    "\n",
    "scores(y_valid, y_pred, y_prob)"
   ]
  },
  {
   "cell_type": "markdown",
   "metadata": {},
   "source": [
    "Вывод: На несбалансированных данных и без перебора метапараметров получаем низкое качество предсказаний, но все равно лучше случайной модели. Случайный лес показывает лучшие результаты. Логистическая регрессия показывает лучшие результаты с параметром балансировки классов, значит баланс классов имеет большой эффект. Попробуем сбалансировать вручную."
   ]
  },
  {
   "cell_type": "markdown",
   "metadata": {},
   "source": [
    "## Борьба с дисбалансом"
   ]
  },
  {
   "cell_type": "markdown",
   "metadata": {},
   "source": [
    "### Увеличение выборки"
   ]
  },
  {
   "cell_type": "code",
   "execution_count": null,
   "metadata": {},
   "outputs": [],
   "source": [
    "x_upsampled, y_upsampled = upsample(x_train, y_train, 4)\n",
    "y_upsampled.value_counts()"
   ]
  },
  {
   "cell_type": "markdown",
   "metadata": {},
   "source": [
    "#### Random Forest"
   ]
  },
  {
   "cell_type": "markdown",
   "metadata": {},
   "source": [
    "Поиск оптимальных параметров с помощью сетки"
   ]
  },
  {
   "cell_type": "code",
   "execution_count": null,
   "metadata": {},
   "outputs": [],
   "source": [
    "%%time\n",
    "\n",
    "grid_space={'max_depth':[5,7,9,10,15],\n",
    "              'n_estimators':[60,100],\n",
    "              'max_features':[3,5,7],\n",
    "              'min_samples_leaf':[1,2,3],\n",
    "              'min_samples_split':[1,2,3]\n",
    "           }\n",
    "\n",
    "rf = RandomForestClassifier(random_state=12345)\n",
    "\n",
    "grid = GridSearchCV(rf, param_grid=grid_space, cv=3, scoring='f1', n_jobs=-1)\n",
    "model_grid = grid.fit(x_upsampled, y_upsampled)\n",
    "\n",
    "# grid search results\n",
    "print('Best grid search hyperparameters are: '+str(model_grid.best_params_))\n",
    "print('Best grid search score is: '+str(model_grid.best_score_))\n"
   ]
  },
  {
   "cell_type": "code",
   "execution_count": null,
   "metadata": {},
   "outputs": [],
   "source": [
    "best_grid_model = RandomForestClassifier(random_state=12345, \n",
    "                                         max_depth=15, \n",
    "                                         max_features=3, \n",
    "                                         min_samples_leaf=1, \n",
    "                                         min_samples_split=2, \n",
    "                                         n_estimators=100)\n",
    "best_grid_model.fit(x_upsampled, y_upsampled)\n",
    "y_pred = best_grid_model.predict(x_valid)                                         \n",
    "y_prob = best_grid_model.predict_proba(x_valid)[:, 1]\n",
    "\n",
    "scores(y_valid, y_pred, y_prob)"
   ]
  },
  {
   "cell_type": "markdown",
   "metadata": {},
   "source": [
    "Поиск оптимальных метапараметров с помощью цикла"
   ]
  },
  {
   "cell_type": "code",
   "execution_count": null,
   "metadata": {},
   "outputs": [],
   "source": [
    "%%time\n",
    "\n",
    "best_f1_score = 0.0\n",
    "best_roc_auc = 0.0\n",
    "best_depth = 0\n",
    "best_est = 0\n",
    "best_RF_model = ''\n",
    "\n",
    "for depth in range(1,16):\n",
    "    for est in [1,60,100]:\n",
    "        \n",
    "        model = RandomForestClassifier(random_state=12345, n_estimators=est, max_depth=depth)\n",
    "        model.fit(x_upsampled, y_upsampled)\n",
    "        y_pred = model.predict(x_valid)\n",
    "        f1 = f1_score(y_valid, y_pred)    \n",
    "        if f1 > best_f1_score:    \n",
    "            best_f1_score = f1\n",
    "            best_depth = depth\n",
    "            best_est = est\n",
    "            best_RF_model = model\n",
    "\n",
    "y_prob = best_RF_model.predict_proba(x_valid)[:, 1]\n",
    "best_roc_auc = roc_auc_score(y_valid, y_prob)\n",
    "\n",
    "print(f'Best F1-score: {best_f1_score}')     \n",
    "print(f'Best ROC-AUC: {best_roc_auc}')     \n",
    "print(f'Best meta: Depth:{best_depth} Estimators: {best_est}')     "
   ]
  },
  {
   "cell_type": "markdown",
   "metadata": {},
   "source": [
    "#### LogisticRegression"
   ]
  },
  {
   "cell_type": "code",
   "execution_count": null,
   "metadata": {},
   "outputs": [],
   "source": [
    "%%time\n",
    "\n",
    "best_f1_score = 0.0\n",
    "best_roc_auc = 0.0\n",
    "best_max_iter = 0\n",
    "best_LR_model = ''\n",
    "\n",
    "for max_iter in [100,500,1000, 10000]:\n",
    "        \n",
    "    model = LogisticRegression(random_state=12345, solver='liblinear', max_iter=max_iter)\n",
    "    model.fit(x_upsampled, y_upsampled)\n",
    "    y_pred = model.predict(x_valid)\n",
    "    f1 = f1_score(y_valid, y_pred)    \n",
    "    if f1 > best_f1_score:    \n",
    "        best_f1_score = f1\n",
    "        best_max_iter = max_iter\n",
    "        best_LR_model = model\n",
    "\n",
    "y_prob = best_LR_model.predict_proba(x_valid)[:, 1]\n",
    "best_roc_auc = roc_auc_score(y_valid, y_prob)\n",
    "        \n",
    "print(f'Best F1-score: {best_f1_score}')  \n",
    "print(f'Best ROC-AUC: {best_roc_auc}')   \n",
    "print(f'Best meta: max_iter:{max_iter}')     "
   ]
  },
  {
   "cell_type": "markdown",
   "metadata": {},
   "source": [
    "### Уменьшение выборки"
   ]
  },
  {
   "cell_type": "code",
   "execution_count": null,
   "metadata": {},
   "outputs": [],
   "source": [
    "x_downsampled, y_downsampled = downsample(x_train, y_train, 0.25)\n",
    "y_downsampled.value_counts()"
   ]
  },
  {
   "cell_type": "markdown",
   "metadata": {},
   "source": [
    "#### Random Forests"
   ]
  },
  {
   "cell_type": "markdown",
   "metadata": {},
   "source": [
    "Поиск сеткой"
   ]
  },
  {
   "cell_type": "code",
   "execution_count": null,
   "metadata": {},
   "outputs": [],
   "source": [
    "%%time\n",
    "f1 = make_scorer(f1_score , average='macro')\n",
    "\n",
    "grid_space={'max_depth':[5,7,9,10,15],\n",
    "              'n_estimators':[60,100],\n",
    "              'max_features':[3,5,7],\n",
    "              'min_samples_leaf':[1,2,3],\n",
    "              'min_samples_split':[1,2,3]\n",
    "           }\n",
    "\n",
    "rf = RandomForestClassifier(random_state=12345)\n",
    "\n",
    "grid = GridSearchCV(rf, param_grid=grid_space, cv=3, scoring='f1', n_jobs=-1)\n",
    "model_grid = grid.fit(x_downsampled, y_downsampled)\n",
    "\n",
    "# grid search results\n",
    "print('Best grid search hyperparameters are: '+str(model_grid.best_params_))\n",
    "print('Best grid search score is: '+str(model_grid.best_score_))\n"
   ]
  },
  {
   "cell_type": "code",
   "execution_count": null,
   "metadata": {},
   "outputs": [],
   "source": [
    "best_grid_model = RandomForestClassifier(random_state=12345, \n",
    "                                         max_depth=9, \n",
    "                                         max_features=7, \n",
    "                                         min_samples_leaf=1, \n",
    "                                         min_samples_split=2, \n",
    "                                         n_estimators=100)\n",
    "best_grid_model.fit(x_upsampled, y_upsampled)\n",
    "y_pred = best_grid_model.predict(x_valid)                                         \n",
    "y_prob = best_grid_model.predict_proba(x_valid)[:, 1]\n",
    "\n",
    "scores(y_valid, y_pred, y_prob)"
   ]
  },
  {
   "cell_type": "markdown",
   "metadata": {},
   "source": [
    "Поиск циклом"
   ]
  },
  {
   "cell_type": "code",
   "execution_count": null,
   "metadata": {},
   "outputs": [],
   "source": [
    "%%time\n",
    "\n",
    "best_f1_score = 0.0\n",
    "best_roc_auc = 0.0\n",
    "best_depth = 0\n",
    "best_est = 0\n",
    "best_RF_model = ''\n",
    "\n",
    "for depth in range(1,16):\n",
    "    for est in [1,60,100]:\n",
    "        \n",
    "        model = RandomForestClassifier(random_state=12345, n_estimators=est, max_depth=depth)\n",
    "        model.fit(x_downsampled, y_downsampled)\n",
    "        y_pred = model.predict(x_valid)\n",
    "        f1 = f1_score(y_valid, y_pred)    \n",
    "        if f1 > best_f1_score:    \n",
    "            best_f1_score = f1\n",
    "            best_depth = depth\n",
    "            best_est = est\n",
    "            best_RF_model = model\n",
    "            \n",
    "\n",
    "y_prob = best_RF_model.predict_proba(x_valid)[:, 1]\n",
    "best_roc_auc = roc_auc_score(y_valid, y_prob) \n",
    "\n",
    "print(f'Best F1-score: {best_f1_score}')     \n",
    "print(f'Best ROC-AUC: {best_roc_auc}')     \n",
    "print(f'Best meta: Depth:{best_depth} Estimators: {best_est}')     "
   ]
  },
  {
   "cell_type": "markdown",
   "metadata": {},
   "source": [
    "#### Logistic Regression"
   ]
  },
  {
   "cell_type": "code",
   "execution_count": null,
   "metadata": {},
   "outputs": [],
   "source": [
    "%%time\n",
    "\n",
    "best_f1_score = 0.0\n",
    "best_roc_auc = 0.0\n",
    "best_max_iter = 0\n",
    "best_LR_model = ''\n",
    "\n",
    "for max_iter in [100,500,1000, 10000]:\n",
    "        \n",
    "    model = LogisticRegression(random_state=12345, solver='liblinear', max_iter=max_iter)\n",
    "    model.fit(x_downsampled, y_downsampled)\n",
    "    y_pred = model.predict(x_valid)\n",
    "    f1 = f1_score(y_valid, y_pred)    \n",
    "    if f1 > best_f1_score:    \n",
    "        best_f1_score = f1\n",
    "        best_max_iter = max_iter\n",
    "        best_LR_model = model\n",
    " \n",
    "y_prob = best_LR_model.predict_proba(x_valid)[:, 1]\n",
    "best_roc_auc = roc_auc_score(y_valid, y_prob) \n",
    "\n",
    "print(f'Best F1-score: {best_f1_score}')  \n",
    "print(f'Best ROC-AUC: {best_roc_auc}')   \n",
    "print(f'Best meta: max_iter:{max_iter}')     "
   ]
  },
  {
   "cell_type": "markdown",
   "metadata": {},
   "source": [
    "Вывод: лучшая модель по оценке F1 стала Случайный Лес с метапараметрами: глубина 9, дереьверь: 60 и обученная на данных со сбалансированными классами по методу увеличения выборки.  \n"
   ]
  },
  {
   "cell_type": "markdown",
   "metadata": {},
   "source": [
    "###   Вывод\n",
    "Вывод: лучшая модель по оценке F1 стала Случайный Лес с метапараметрами: глубина 11, дереьверь: 60 и обученная на данных со сбалансированными классами по методу увеличения выборки.  "
   ]
  },
  {
   "cell_type": "markdown",
   "metadata": {},
   "source": [
    "## Тестирование модели"
   ]
  },
  {
   "cell_type": "markdown",
   "metadata": {},
   "source": [
    "Модель, найденая с помощью сетки"
   ]
  },
  {
   "cell_type": "code",
   "execution_count": null,
   "metadata": {},
   "outputs": [],
   "source": [
    "model = RandomForestClassifier(random_state=12345, n_estimators=60, max_depth=11)\n",
    "model.fit(x_upsampled, y_upsampled)\n",
    "\n",
    "y_pred = model.predict(x_test)\n",
    "y_prob = model.predict_proba(x_valid)[:, 1]\n",
    "\n",
    "scores(y_test, y_pred, y_prob)"
   ]
  },
  {
   "cell_type": "markdown",
   "metadata": {},
   "source": [
    "## Вывод"
   ]
  },
  {
   "cell_type": "markdown",
   "metadata": {},
   "source": [
    "Мы получили модель предсказания того, уйдет в блажайшее время клиент или нет, с оценкой работы на тестовых данных равной 0,60, что выше требуемой в ТЗ 0.59.  \n",
    "Модель относится к типу Случайный Лес, и обладает метапараметрами `Depth:11 Estimators: 60`.   \n",
    "\n",
    "F1-score:  0.6049237983587338  \n",
    "AUC_ROC: 0.7682682714691361  "
   ]
  }
 ],
 "metadata": {
  "ExecuteTimeLog": [
   {
    "duration": 1522,
    "start_time": "2023-06-15T09:32:01.024Z"
   },
   {
    "duration": 10,
    "start_time": "2023-06-15T09:32:02.548Z"
   },
   {
    "duration": 196,
    "start_time": "2023-06-15T09:32:02.560Z"
   },
   {
    "duration": 6,
    "start_time": "2023-06-15T09:32:02.758Z"
   },
   {
    "duration": 40,
    "start_time": "2023-06-15T09:32:02.766Z"
   },
   {
    "duration": 13,
    "start_time": "2023-06-15T09:32:02.808Z"
   },
   {
    "duration": 20,
    "start_time": "2023-06-15T09:32:02.823Z"
   },
   {
    "duration": 16,
    "start_time": "2023-06-15T09:32:02.844Z"
   },
   {
    "duration": 29,
    "start_time": "2023-06-15T09:32:02.862Z"
   },
   {
    "duration": 137,
    "start_time": "2023-06-15T09:32:02.893Z"
   },
   {
    "duration": 0,
    "start_time": "2023-06-15T09:32:03.031Z"
   },
   {
    "duration": 0,
    "start_time": "2023-06-15T09:32:03.032Z"
   },
   {
    "duration": 0,
    "start_time": "2023-06-15T09:32:03.034Z"
   },
   {
    "duration": 0,
    "start_time": "2023-06-15T09:32:03.035Z"
   },
   {
    "duration": 0,
    "start_time": "2023-06-15T09:32:03.037Z"
   },
   {
    "duration": 0,
    "start_time": "2023-06-15T09:32:03.038Z"
   },
   {
    "duration": 0,
    "start_time": "2023-06-15T09:32:03.039Z"
   },
   {
    "duration": 0,
    "start_time": "2023-06-15T09:32:03.041Z"
   },
   {
    "duration": 0,
    "start_time": "2023-06-15T09:32:03.042Z"
   },
   {
    "duration": 0,
    "start_time": "2023-06-15T09:32:03.043Z"
   },
   {
    "duration": 0,
    "start_time": "2023-06-15T09:32:03.044Z"
   },
   {
    "duration": 0,
    "start_time": "2023-06-15T09:32:03.045Z"
   },
   {
    "duration": 0,
    "start_time": "2023-06-15T09:32:03.046Z"
   },
   {
    "duration": 0,
    "start_time": "2023-06-15T09:32:03.047Z"
   },
   {
    "duration": 0,
    "start_time": "2023-06-15T09:32:03.048Z"
   },
   {
    "duration": 0,
    "start_time": "2023-06-15T09:32:03.050Z"
   },
   {
    "duration": 7,
    "start_time": "2023-06-15T09:33:02.081Z"
   },
   {
    "duration": 1381,
    "start_time": "2023-06-15T09:33:11.266Z"
   },
   {
    "duration": 10,
    "start_time": "2023-06-15T09:33:12.649Z"
   },
   {
    "duration": 132,
    "start_time": "2023-06-15T09:33:12.661Z"
   },
   {
    "duration": 7,
    "start_time": "2023-06-15T09:33:12.796Z"
   },
   {
    "duration": 21,
    "start_time": "2023-06-15T09:33:12.805Z"
   },
   {
    "duration": 18,
    "start_time": "2023-06-15T09:33:12.828Z"
   },
   {
    "duration": 20,
    "start_time": "2023-06-15T09:33:12.848Z"
   },
   {
    "duration": 35,
    "start_time": "2023-06-15T09:33:12.869Z"
   },
   {
    "duration": 42,
    "start_time": "2023-06-15T09:33:12.905Z"
   },
   {
    "duration": 12,
    "start_time": "2023-06-15T09:33:12.951Z"
   },
   {
    "duration": 31,
    "start_time": "2023-06-15T09:33:12.964Z"
   },
   {
    "duration": 477,
    "start_time": "2023-06-15T09:33:12.997Z"
   },
   {
    "duration": 277,
    "start_time": "2023-06-15T09:33:13.475Z"
   },
   {
    "duration": 312,
    "start_time": "2023-06-15T09:33:13.754Z"
   },
   {
    "duration": 11,
    "start_time": "2023-06-15T09:33:14.068Z"
   },
   {
    "duration": 299778,
    "start_time": "2023-06-15T09:33:14.081Z"
   },
   {
    "duration": 373,
    "start_time": "2023-06-15T09:38:13.860Z"
   },
   {
    "duration": 15416,
    "start_time": "2023-06-15T09:38:14.235Z"
   },
   {
    "duration": 485,
    "start_time": "2023-06-15T09:38:29.653Z"
   },
   {
    "duration": 96,
    "start_time": "2023-06-15T09:38:30.140Z"
   },
   {
    "duration": 117658,
    "start_time": "2023-06-15T09:38:30.239Z"
   },
   {
    "duration": 6505,
    "start_time": "2023-06-15T09:40:27.898Z"
   },
   {
    "duration": 233,
    "start_time": "2023-06-15T09:40:34.404Z"
   },
   {
    "duration": 309,
    "start_time": "2023-06-15T09:40:34.639Z"
   },
   {
    "duration": 136,
    "start_time": "2023-06-15T09:40:34.950Z"
   },
   {
    "duration": 230,
    "start_time": "2023-06-15T09:40:35.088Z"
   },
   {
    "duration": 126,
    "start_time": "2023-06-15T09:40:49.751Z"
   },
   {
    "duration": 461,
    "start_time": "2023-06-15T09:42:45.143Z"
   },
   {
    "duration": 990,
    "start_time": "2023-06-15T09:43:03.626Z"
   },
   {
    "duration": 14963,
    "start_time": "2023-06-15T09:43:18.984Z"
   },
   {
    "duration": 1291,
    "start_time": "2023-06-15T09:46:51.629Z"
   },
   {
    "duration": 6434,
    "start_time": "2023-06-15T09:46:58.185Z"
   },
   {
    "duration": 539,
    "start_time": "2023-06-15T09:49:08.094Z"
   },
   {
    "duration": 58,
    "start_time": "2023-06-15T16:08:52.677Z"
   },
   {
    "duration": 72,
    "start_time": "2023-06-15T16:11:08.918Z"
   },
   {
    "duration": 80,
    "start_time": "2023-06-15T16:11:43.135Z"
   },
   {
    "duration": 109,
    "start_time": "2023-06-15T16:22:25.111Z"
   },
   {
    "duration": 90,
    "start_time": "2023-06-15T16:22:42.038Z"
   },
   {
    "duration": 10,
    "start_time": "2023-06-15T16:22:50.942Z"
   },
   {
    "duration": 55,
    "start_time": "2023-06-15T16:28:58.211Z"
   },
   {
    "duration": 3,
    "start_time": "2023-06-15T16:31:10.507Z"
   },
   {
    "duration": 44,
    "start_time": "2023-06-15T16:31:16.007Z"
   },
   {
    "duration": 1458,
    "start_time": "2023-06-15T16:31:25.850Z"
   },
   {
    "duration": 10,
    "start_time": "2023-06-15T16:31:27.310Z"
   },
   {
    "duration": 117,
    "start_time": "2023-06-15T16:31:27.321Z"
   },
   {
    "duration": 6,
    "start_time": "2023-06-15T16:31:27.439Z"
   },
   {
    "duration": 30,
    "start_time": "2023-06-15T16:31:27.447Z"
   },
   {
    "duration": 19,
    "start_time": "2023-06-15T16:31:27.479Z"
   },
   {
    "duration": 11,
    "start_time": "2023-06-15T16:31:27.500Z"
   },
   {
    "duration": 18,
    "start_time": "2023-06-15T16:31:27.512Z"
   },
   {
    "duration": 24,
    "start_time": "2023-06-15T16:31:27.532Z"
   },
   {
    "duration": 12,
    "start_time": "2023-06-15T16:31:27.558Z"
   },
   {
    "duration": 118,
    "start_time": "2023-06-15T16:31:27.571Z"
   },
   {
    "duration": 0,
    "start_time": "2023-06-15T16:31:27.691Z"
   },
   {
    "duration": 0,
    "start_time": "2023-06-15T16:31:27.692Z"
   },
   {
    "duration": 0,
    "start_time": "2023-06-15T16:31:27.694Z"
   },
   {
    "duration": 0,
    "start_time": "2023-06-15T16:31:27.695Z"
   },
   {
    "duration": 0,
    "start_time": "2023-06-15T16:31:27.696Z"
   },
   {
    "duration": 0,
    "start_time": "2023-06-15T16:31:27.698Z"
   },
   {
    "duration": 0,
    "start_time": "2023-06-15T16:31:27.699Z"
   },
   {
    "duration": 0,
    "start_time": "2023-06-15T16:31:27.700Z"
   },
   {
    "duration": 0,
    "start_time": "2023-06-15T16:31:27.701Z"
   },
   {
    "duration": 0,
    "start_time": "2023-06-15T16:31:27.702Z"
   },
   {
    "duration": 0,
    "start_time": "2023-06-15T16:31:27.704Z"
   },
   {
    "duration": 0,
    "start_time": "2023-06-15T16:31:27.731Z"
   },
   {
    "duration": 0,
    "start_time": "2023-06-15T16:31:27.733Z"
   },
   {
    "duration": 0,
    "start_time": "2023-06-15T16:31:27.734Z"
   },
   {
    "duration": 7,
    "start_time": "2023-06-15T16:32:01.156Z"
   },
   {
    "duration": 5,
    "start_time": "2023-06-15T16:32:12.600Z"
   },
   {
    "duration": 68,
    "start_time": "2023-06-15T16:36:28.007Z"
   },
   {
    "duration": 4,
    "start_time": "2023-06-15T16:47:42.173Z"
   },
   {
    "duration": 22,
    "start_time": "2023-06-15T16:48:49.503Z"
   },
   {
    "duration": 20,
    "start_time": "2023-06-15T16:49:04.041Z"
   },
   {
    "duration": 22,
    "start_time": "2023-06-15T16:50:00.314Z"
   },
   {
    "duration": 22,
    "start_time": "2023-06-15T16:52:25.599Z"
   },
   {
    "duration": 210,
    "start_time": "2023-06-15T16:52:35.650Z"
   },
   {
    "duration": 35,
    "start_time": "2023-06-15T16:52:47.229Z"
   },
   {
    "duration": 266,
    "start_time": "2023-06-15T16:54:37.812Z"
   },
   {
    "duration": 282,
    "start_time": "2023-06-15T16:55:20.203Z"
   },
   {
    "duration": 16,
    "start_time": "2023-06-15T16:55:56.568Z"
   },
   {
    "duration": 18,
    "start_time": "2023-06-15T16:56:18.115Z"
   },
   {
    "duration": 19,
    "start_time": "2023-06-15T16:56:50.830Z"
   },
   {
    "duration": 11,
    "start_time": "2023-06-15T16:57:24.503Z"
   },
   {
    "duration": 11,
    "start_time": "2023-06-15T16:57:42.668Z"
   },
   {
    "duration": 21,
    "start_time": "2023-06-15T16:58:28.231Z"
   },
   {
    "duration": 5,
    "start_time": "2023-06-15T16:58:53.368Z"
   },
   {
    "duration": 11,
    "start_time": "2023-06-15T16:59:00.511Z"
   },
   {
    "duration": 18,
    "start_time": "2023-06-15T16:59:24.552Z"
   },
   {
    "duration": 15,
    "start_time": "2023-06-15T16:59:35.328Z"
   },
   {
    "duration": 13,
    "start_time": "2023-06-15T16:59:53.849Z"
   },
   {
    "duration": 16,
    "start_time": "2023-06-15T17:05:29.602Z"
   },
   {
    "duration": 20,
    "start_time": "2023-06-15T17:05:58.703Z"
   },
   {
    "duration": 21,
    "start_time": "2023-06-15T17:06:04.124Z"
   },
   {
    "duration": 50,
    "start_time": "2023-06-15T17:06:49.107Z"
   },
   {
    "duration": 7,
    "start_time": "2023-06-15T17:06:56.999Z"
   },
   {
    "duration": 11,
    "start_time": "2023-06-15T17:07:12.212Z"
   },
   {
    "duration": 71,
    "start_time": "2023-06-15T17:07:20.949Z"
   },
   {
    "duration": 67,
    "start_time": "2023-06-15T17:07:27.445Z"
   },
   {
    "duration": 18,
    "start_time": "2023-06-15T17:07:32.873Z"
   },
   {
    "duration": 18,
    "start_time": "2023-06-15T17:08:05.302Z"
   },
   {
    "duration": 9,
    "start_time": "2023-06-15T17:08:11.774Z"
   },
   {
    "duration": 7,
    "start_time": "2023-06-15T17:08:29.515Z"
   },
   {
    "duration": 12,
    "start_time": "2023-06-15T17:08:32.565Z"
   },
   {
    "duration": 23,
    "start_time": "2023-06-15T17:08:36.922Z"
   },
   {
    "duration": 14,
    "start_time": "2023-06-15T17:11:02.469Z"
   },
   {
    "duration": 355,
    "start_time": "2023-06-15T17:13:33.223Z"
   },
   {
    "duration": 308,
    "start_time": "2023-06-15T17:13:41.170Z"
   },
   {
    "duration": 335,
    "start_time": "2023-06-15T17:13:56.510Z"
   },
   {
    "duration": 461,
    "start_time": "2023-06-15T17:14:32.866Z"
   },
   {
    "duration": 14,
    "start_time": "2023-06-15T17:15:06.395Z"
   },
   {
    "duration": 8,
    "start_time": "2023-06-15T17:15:10.146Z"
   },
   {
    "duration": 8,
    "start_time": "2023-06-15T17:15:15.131Z"
   },
   {
    "duration": 14,
    "start_time": "2023-06-15T17:17:25.244Z"
   },
   {
    "duration": 18,
    "start_time": "2023-06-15T17:17:38.123Z"
   },
   {
    "duration": 13,
    "start_time": "2023-06-15T17:17:42.924Z"
   },
   {
    "duration": 12,
    "start_time": "2023-06-15T17:17:49.811Z"
   },
   {
    "duration": 553,
    "start_time": "2023-06-15T17:18:09.234Z"
   },
   {
    "duration": 10,
    "start_time": "2023-06-15T17:18:12.602Z"
   },
   {
    "duration": 35,
    "start_time": "2023-06-15T17:18:23.245Z"
   },
   {
    "duration": 1659,
    "start_time": "2023-06-15T17:18:44.765Z"
   },
   {
    "duration": 21,
    "start_time": "2023-06-15T17:18:46.426Z"
   },
   {
    "duration": 142,
    "start_time": "2023-06-15T17:18:46.449Z"
   },
   {
    "duration": 6,
    "start_time": "2023-06-15T17:18:46.593Z"
   },
   {
    "duration": 12,
    "start_time": "2023-06-15T17:18:46.601Z"
   },
   {
    "duration": 18,
    "start_time": "2023-06-15T17:18:46.614Z"
   },
   {
    "duration": 30,
    "start_time": "2023-06-15T17:18:46.634Z"
   },
   {
    "duration": 26,
    "start_time": "2023-06-15T17:18:46.666Z"
   },
   {
    "duration": 30,
    "start_time": "2023-06-15T17:18:46.694Z"
   },
   {
    "duration": 52,
    "start_time": "2023-06-15T17:18:46.725Z"
   },
   {
    "duration": 7,
    "start_time": "2023-06-15T17:18:46.779Z"
   },
   {
    "duration": 124,
    "start_time": "2023-06-15T17:18:46.788Z"
   },
   {
    "duration": 0,
    "start_time": "2023-06-15T17:18:46.915Z"
   },
   {
    "duration": 0,
    "start_time": "2023-06-15T17:18:46.917Z"
   },
   {
    "duration": 0,
    "start_time": "2023-06-15T17:18:46.918Z"
   },
   {
    "duration": 0,
    "start_time": "2023-06-15T17:18:46.920Z"
   },
   {
    "duration": 0,
    "start_time": "2023-06-15T17:18:46.931Z"
   },
   {
    "duration": 0,
    "start_time": "2023-06-15T17:18:46.933Z"
   },
   {
    "duration": 0,
    "start_time": "2023-06-15T17:18:46.934Z"
   },
   {
    "duration": 0,
    "start_time": "2023-06-15T17:18:46.935Z"
   },
   {
    "duration": 0,
    "start_time": "2023-06-15T17:18:46.937Z"
   },
   {
    "duration": 0,
    "start_time": "2023-06-15T17:18:46.938Z"
   },
   {
    "duration": 0,
    "start_time": "2023-06-15T17:18:46.940Z"
   },
   {
    "duration": 0,
    "start_time": "2023-06-15T17:18:46.941Z"
   },
   {
    "duration": 0,
    "start_time": "2023-06-15T17:18:46.943Z"
   },
   {
    "duration": 0,
    "start_time": "2023-06-15T17:18:46.944Z"
   },
   {
    "duration": 42,
    "start_time": "2023-06-15T17:21:22.455Z"
   },
   {
    "duration": 39,
    "start_time": "2023-06-15T17:21:37.951Z"
   },
   {
    "duration": 7,
    "start_time": "2023-06-15T17:22:14.162Z"
   },
   {
    "duration": 47,
    "start_time": "2023-06-15T17:22:21.307Z"
   },
   {
    "duration": 74,
    "start_time": "2023-06-15T17:22:32.802Z"
   },
   {
    "duration": 29,
    "start_time": "2023-06-15T17:23:21.726Z"
   },
   {
    "duration": 27,
    "start_time": "2023-06-15T17:23:33.932Z"
   },
   {
    "duration": 21,
    "start_time": "2023-06-15T17:23:42.706Z"
   },
   {
    "duration": 20,
    "start_time": "2023-06-15T17:27:11.911Z"
   },
   {
    "duration": 19,
    "start_time": "2023-06-15T17:28:21.373Z"
   },
   {
    "duration": 13,
    "start_time": "2023-06-15T17:28:28.849Z"
   },
   {
    "duration": 13,
    "start_time": "2023-06-15T17:38:58.198Z"
   },
   {
    "duration": 11,
    "start_time": "2023-06-15T17:39:03.614Z"
   },
   {
    "duration": 40,
    "start_time": "2023-06-15T17:39:11.335Z"
   },
   {
    "duration": 58,
    "start_time": "2023-06-15T17:40:19.194Z"
   },
   {
    "duration": 137,
    "start_time": "2023-06-15T17:42:01.106Z"
   },
   {
    "duration": 109,
    "start_time": "2023-06-15T17:44:12.210Z"
   },
   {
    "duration": 275,
    "start_time": "2023-06-15T17:47:11.358Z"
   },
   {
    "duration": 280,
    "start_time": "2023-06-15T17:47:25.230Z"
   },
   {
    "duration": 10,
    "start_time": "2023-06-15T17:48:05.207Z"
   },
   {
    "duration": 1471,
    "start_time": "2023-06-15T17:48:16.862Z"
   },
   {
    "duration": 9,
    "start_time": "2023-06-15T17:48:18.335Z"
   },
   {
    "duration": 132,
    "start_time": "2023-06-15T17:48:18.346Z"
   },
   {
    "duration": 5,
    "start_time": "2023-06-15T17:48:18.480Z"
   },
   {
    "duration": 16,
    "start_time": "2023-06-15T17:48:18.486Z"
   },
   {
    "duration": 13,
    "start_time": "2023-06-15T17:48:18.504Z"
   },
   {
    "duration": 12,
    "start_time": "2023-06-15T17:48:18.519Z"
   },
   {
    "duration": 14,
    "start_time": "2023-06-15T17:48:18.532Z"
   },
   {
    "duration": 26,
    "start_time": "2023-06-15T17:48:18.547Z"
   },
   {
    "duration": 78,
    "start_time": "2023-06-15T17:48:18.577Z"
   },
   {
    "duration": 8,
    "start_time": "2023-06-15T17:48:18.657Z"
   },
   {
    "duration": 33,
    "start_time": "2023-06-15T17:48:18.667Z"
   },
   {
    "duration": 438,
    "start_time": "2023-06-15T17:48:18.702Z"
   },
   {
    "duration": 0,
    "start_time": "2023-06-15T17:48:19.141Z"
   },
   {
    "duration": 0,
    "start_time": "2023-06-15T17:48:19.142Z"
   },
   {
    "duration": 0,
    "start_time": "2023-06-15T17:48:19.143Z"
   },
   {
    "duration": 0,
    "start_time": "2023-06-15T17:48:19.144Z"
   },
   {
    "duration": 0,
    "start_time": "2023-06-15T17:48:19.146Z"
   },
   {
    "duration": 0,
    "start_time": "2023-06-15T17:48:19.147Z"
   },
   {
    "duration": 0,
    "start_time": "2023-06-15T17:48:19.148Z"
   },
   {
    "duration": 0,
    "start_time": "2023-06-15T17:48:19.149Z"
   },
   {
    "duration": 0,
    "start_time": "2023-06-15T17:48:19.150Z"
   },
   {
    "duration": 0,
    "start_time": "2023-06-15T17:48:19.151Z"
   },
   {
    "duration": 0,
    "start_time": "2023-06-15T17:48:19.152Z"
   },
   {
    "duration": 0,
    "start_time": "2023-06-15T17:48:19.153Z"
   },
   {
    "duration": 0,
    "start_time": "2023-06-15T17:48:19.154Z"
   },
   {
    "duration": 300,
    "start_time": "2023-06-15T17:48:55.725Z"
   },
   {
    "duration": 335,
    "start_time": "2023-06-15T17:49:01.118Z"
   },
   {
    "duration": 423,
    "start_time": "2023-06-15T17:49:12.314Z"
   },
   {
    "duration": 285,
    "start_time": "2023-06-15T17:49:19.459Z"
   },
   {
    "duration": 293,
    "start_time": "2023-06-15T17:49:21.938Z"
   },
   {
    "duration": 10,
    "start_time": "2023-06-15T17:50:50.727Z"
   },
   {
    "duration": 281299,
    "start_time": "2023-06-15T17:50:52.735Z"
   },
   {
    "duration": 961,
    "start_time": "2023-06-15T17:57:06.746Z"
   },
   {
    "duration": 14457,
    "start_time": "2023-06-15T17:57:11.271Z"
   },
   {
    "duration": 663,
    "start_time": "2023-06-15T17:57:30.870Z"
   },
   {
    "duration": 60,
    "start_time": "2023-06-15T17:58:48.110Z"
   },
   {
    "duration": 10,
    "start_time": "2023-06-15T17:59:03.047Z"
   },
   {
    "duration": 114487,
    "start_time": "2023-06-15T17:59:04.928Z"
   },
   {
    "duration": 1281,
    "start_time": "2023-06-15T18:04:13.334Z"
   },
   {
    "duration": 7489,
    "start_time": "2023-06-15T18:04:20.302Z"
   },
   {
    "duration": 190,
    "start_time": "2023-06-15T18:04:29.755Z"
   },
   {
    "duration": 121,
    "start_time": "2023-06-15T18:05:37.601Z"
   },
   {
    "duration": 62,
    "start_time": "2023-06-15T18:08:56.062Z"
   },
   {
    "duration": 1605,
    "start_time": "2023-06-16T03:16:43.944Z"
   },
   {
    "duration": 0,
    "start_time": "2023-06-16T03:16:45.551Z"
   },
   {
    "duration": 0,
    "start_time": "2023-06-16T03:16:45.552Z"
   },
   {
    "duration": 0,
    "start_time": "2023-06-16T03:16:45.553Z"
   },
   {
    "duration": 0,
    "start_time": "2023-06-16T03:16:45.554Z"
   },
   {
    "duration": 0,
    "start_time": "2023-06-16T03:16:45.555Z"
   },
   {
    "duration": 0,
    "start_time": "2023-06-16T03:16:45.556Z"
   },
   {
    "duration": 0,
    "start_time": "2023-06-16T03:16:45.557Z"
   },
   {
    "duration": 0,
    "start_time": "2023-06-16T03:16:45.558Z"
   },
   {
    "duration": 1,
    "start_time": "2023-06-16T03:16:45.558Z"
   },
   {
    "duration": 0,
    "start_time": "2023-06-16T03:16:45.559Z"
   },
   {
    "duration": 0,
    "start_time": "2023-06-16T03:16:45.560Z"
   },
   {
    "duration": 0,
    "start_time": "2023-06-16T03:16:45.562Z"
   },
   {
    "duration": 0,
    "start_time": "2023-06-16T03:16:45.563Z"
   },
   {
    "duration": 0,
    "start_time": "2023-06-16T03:16:45.564Z"
   },
   {
    "duration": 0,
    "start_time": "2023-06-16T03:16:45.565Z"
   },
   {
    "duration": 0,
    "start_time": "2023-06-16T03:16:45.566Z"
   },
   {
    "duration": 0,
    "start_time": "2023-06-16T03:16:45.567Z"
   },
   {
    "duration": 0,
    "start_time": "2023-06-16T03:16:45.568Z"
   },
   {
    "duration": 0,
    "start_time": "2023-06-16T03:16:45.569Z"
   },
   {
    "duration": 0,
    "start_time": "2023-06-16T03:16:45.570Z"
   },
   {
    "duration": 0,
    "start_time": "2023-06-16T03:16:45.571Z"
   },
   {
    "duration": 0,
    "start_time": "2023-06-16T03:16:45.572Z"
   },
   {
    "duration": 0,
    "start_time": "2023-06-16T03:16:45.573Z"
   },
   {
    "duration": 0,
    "start_time": "2023-06-16T03:16:45.574Z"
   },
   {
    "duration": 0,
    "start_time": "2023-06-16T03:16:45.575Z"
   },
   {
    "duration": 0,
    "start_time": "2023-06-16T03:16:45.576Z"
   },
   {
    "duration": 11,
    "start_time": "2023-06-16T03:17:37.807Z"
   },
   {
    "duration": 2883,
    "start_time": "2023-06-16T03:17:51.953Z"
   },
   {
    "duration": 132,
    "start_time": "2023-06-16T03:17:56.235Z"
   },
   {
    "duration": 3,
    "start_time": "2023-06-16T03:17:59.759Z"
   },
   {
    "duration": 1948,
    "start_time": "2023-06-16T03:18:08.553Z"
   },
   {
    "duration": 1376,
    "start_time": "2023-06-16T03:18:10.503Z"
   },
   {
    "duration": 10,
    "start_time": "2023-06-16T03:18:11.880Z"
   },
   {
    "duration": 138,
    "start_time": "2023-06-16T03:18:11.892Z"
   },
   {
    "duration": 6,
    "start_time": "2023-06-16T03:18:12.031Z"
   },
   {
    "duration": 7,
    "start_time": "2023-06-16T03:18:12.038Z"
   },
   {
    "duration": 16,
    "start_time": "2023-06-16T03:18:12.046Z"
   },
   {
    "duration": 8,
    "start_time": "2023-06-16T03:18:12.063Z"
   },
   {
    "duration": 11,
    "start_time": "2023-06-16T03:18:12.073Z"
   },
   {
    "duration": 14,
    "start_time": "2023-06-16T03:18:12.086Z"
   },
   {
    "duration": 31,
    "start_time": "2023-06-16T03:18:12.102Z"
   },
   {
    "duration": 106,
    "start_time": "2023-06-16T03:18:12.135Z"
   },
   {
    "duration": 1,
    "start_time": "2023-06-16T03:18:12.242Z"
   },
   {
    "duration": 0,
    "start_time": "2023-06-16T03:18:12.243Z"
   },
   {
    "duration": 0,
    "start_time": "2023-06-16T03:18:12.244Z"
   },
   {
    "duration": 0,
    "start_time": "2023-06-16T03:18:12.246Z"
   },
   {
    "duration": 0,
    "start_time": "2023-06-16T03:18:12.247Z"
   },
   {
    "duration": 0,
    "start_time": "2023-06-16T03:18:12.248Z"
   },
   {
    "duration": 0,
    "start_time": "2023-06-16T03:18:12.249Z"
   },
   {
    "duration": 0,
    "start_time": "2023-06-16T03:18:12.249Z"
   },
   {
    "duration": 0,
    "start_time": "2023-06-16T03:18:12.250Z"
   },
   {
    "duration": 0,
    "start_time": "2023-06-16T03:18:12.252Z"
   },
   {
    "duration": 0,
    "start_time": "2023-06-16T03:18:12.252Z"
   },
   {
    "duration": 0,
    "start_time": "2023-06-16T03:18:12.253Z"
   },
   {
    "duration": 0,
    "start_time": "2023-06-16T03:18:12.255Z"
   },
   {
    "duration": 0,
    "start_time": "2023-06-16T03:18:12.255Z"
   },
   {
    "duration": 0,
    "start_time": "2023-06-16T03:18:12.256Z"
   },
   {
    "duration": 0,
    "start_time": "2023-06-16T03:18:12.257Z"
   },
   {
    "duration": 7,
    "start_time": "2023-06-16T03:18:40.489Z"
   },
   {
    "duration": 10,
    "start_time": "2023-06-16T03:18:44.863Z"
   },
   {
    "duration": 35,
    "start_time": "2023-06-16T03:18:52.975Z"
   },
   {
    "duration": 11,
    "start_time": "2023-06-16T03:24:51.590Z"
   },
   {
    "duration": 26,
    "start_time": "2023-06-16T03:25:08.620Z"
   },
   {
    "duration": 17,
    "start_time": "2023-06-16T03:25:36.384Z"
   },
   {
    "duration": 3,
    "start_time": "2023-06-16T03:25:53.364Z"
   },
   {
    "duration": 2,
    "start_time": "2023-06-16T03:26:42.294Z"
   },
   {
    "duration": 244,
    "start_time": "2023-06-16T03:26:59.205Z"
   },
   {
    "duration": 322,
    "start_time": "2023-06-16T03:27:24.258Z"
   },
   {
    "duration": 740,
    "start_time": "2023-06-16T03:32:13.588Z"
   },
   {
    "duration": 18,
    "start_time": "2023-06-16T03:32:47.009Z"
   },
   {
    "duration": 1131,
    "start_time": "2023-06-16T03:33:13.795Z"
   },
   {
    "duration": 352,
    "start_time": "2023-06-16T03:34:30.696Z"
   },
   {
    "duration": 67,
    "start_time": "2023-06-16T03:34:41.105Z"
   },
   {
    "duration": 157,
    "start_time": "2023-06-16T03:35:16.876Z"
   },
   {
    "duration": 285,
    "start_time": "2023-06-16T03:35:23.736Z"
   },
   {
    "duration": 390,
    "start_time": "2023-06-16T03:37:04.514Z"
   },
   {
    "duration": 21,
    "start_time": "2023-06-16T03:37:31.338Z"
   },
   {
    "duration": 21,
    "start_time": "2023-06-16T03:37:34.769Z"
   },
   {
    "duration": 17,
    "start_time": "2023-06-16T03:37:57.661Z"
   },
   {
    "duration": 15,
    "start_time": "2023-06-16T03:38:18.789Z"
   },
   {
    "duration": 15,
    "start_time": "2023-06-16T03:38:35.021Z"
   },
   {
    "duration": 16,
    "start_time": "2023-06-16T03:38:41.962Z"
   },
   {
    "duration": 14,
    "start_time": "2023-06-16T03:39:21.389Z"
   },
   {
    "duration": 14,
    "start_time": "2023-06-16T03:39:26.706Z"
   },
   {
    "duration": 20,
    "start_time": "2023-06-16T03:39:35.574Z"
   },
   {
    "duration": 32,
    "start_time": "2023-06-16T03:39:45.666Z"
   },
   {
    "duration": 20,
    "start_time": "2023-06-16T03:42:06.672Z"
   },
   {
    "duration": 22,
    "start_time": "2023-06-16T03:42:27.904Z"
   },
   {
    "duration": 17,
    "start_time": "2023-06-16T03:42:47.131Z"
   },
   {
    "duration": 2002,
    "start_time": "2023-06-16T03:43:14.706Z"
   },
   {
    "duration": 5,
    "start_time": "2023-06-16T03:43:16.710Z"
   },
   {
    "duration": 10,
    "start_time": "2023-06-16T03:43:16.717Z"
   },
   {
    "duration": 121,
    "start_time": "2023-06-16T03:43:16.730Z"
   },
   {
    "duration": 7,
    "start_time": "2023-06-16T03:43:16.852Z"
   },
   {
    "duration": 7,
    "start_time": "2023-06-16T03:43:16.860Z"
   },
   {
    "duration": 6,
    "start_time": "2023-06-16T03:43:16.869Z"
   },
   {
    "duration": 13,
    "start_time": "2023-06-16T03:43:16.877Z"
   },
   {
    "duration": 8,
    "start_time": "2023-06-16T03:43:16.892Z"
   },
   {
    "duration": 10,
    "start_time": "2023-06-16T03:43:16.902Z"
   },
   {
    "duration": 22,
    "start_time": "2023-06-16T03:43:16.932Z"
   },
   {
    "duration": 6,
    "start_time": "2023-06-16T03:43:16.955Z"
   },
   {
    "duration": 19,
    "start_time": "2023-06-16T03:43:16.963Z"
   },
   {
    "duration": 63,
    "start_time": "2023-06-16T03:43:16.984Z"
   },
   {
    "duration": 30,
    "start_time": "2023-06-16T03:43:21.507Z"
   },
   {
    "duration": 20,
    "start_time": "2023-06-16T03:43:44.104Z"
   },
   {
    "duration": 2032,
    "start_time": "2023-06-16T03:43:49.746Z"
   },
   {
    "duration": 4,
    "start_time": "2023-06-16T03:43:51.780Z"
   },
   {
    "duration": 11,
    "start_time": "2023-06-16T03:43:51.786Z"
   },
   {
    "duration": 119,
    "start_time": "2023-06-16T03:43:51.799Z"
   },
   {
    "duration": 6,
    "start_time": "2023-06-16T03:43:51.920Z"
   },
   {
    "duration": 20,
    "start_time": "2023-06-16T03:43:51.927Z"
   },
   {
    "duration": 10,
    "start_time": "2023-06-16T03:43:51.949Z"
   },
   {
    "duration": 21,
    "start_time": "2023-06-16T03:43:51.961Z"
   },
   {
    "duration": 19,
    "start_time": "2023-06-16T03:43:51.983Z"
   },
   {
    "duration": 5,
    "start_time": "2023-06-16T03:43:52.004Z"
   },
   {
    "duration": 26,
    "start_time": "2023-06-16T03:43:52.010Z"
   },
   {
    "duration": 5,
    "start_time": "2023-06-16T03:43:52.038Z"
   },
   {
    "duration": 23,
    "start_time": "2023-06-16T03:43:52.044Z"
   },
   {
    "duration": 19,
    "start_time": "2023-06-16T03:43:52.070Z"
   },
   {
    "duration": 49,
    "start_time": "2023-06-16T03:43:52.091Z"
   },
   {
    "duration": 31,
    "start_time": "2023-06-16T03:43:54.575Z"
   },
   {
    "duration": 24,
    "start_time": "2023-06-16T03:46:08.660Z"
   },
   {
    "duration": 2162,
    "start_time": "2023-06-16T03:47:23.778Z"
   },
   {
    "duration": 4,
    "start_time": "2023-06-16T03:47:25.942Z"
   },
   {
    "duration": 16,
    "start_time": "2023-06-16T03:47:25.948Z"
   },
   {
    "duration": 389,
    "start_time": "2023-06-16T03:47:25.966Z"
   },
   {
    "duration": 5,
    "start_time": "2023-06-16T03:47:26.357Z"
   },
   {
    "duration": 8,
    "start_time": "2023-06-16T03:47:26.363Z"
   },
   {
    "duration": 5,
    "start_time": "2023-06-16T03:47:26.373Z"
   },
   {
    "duration": 20,
    "start_time": "2023-06-16T03:47:26.379Z"
   },
   {
    "duration": 13,
    "start_time": "2023-06-16T03:47:26.401Z"
   },
   {
    "duration": 4,
    "start_time": "2023-06-16T03:47:26.417Z"
   },
   {
    "duration": 28,
    "start_time": "2023-06-16T03:47:26.422Z"
   },
   {
    "duration": 6,
    "start_time": "2023-06-16T03:47:26.452Z"
   },
   {
    "duration": 17,
    "start_time": "2023-06-16T03:47:26.459Z"
   },
   {
    "duration": 21,
    "start_time": "2023-06-16T03:47:26.477Z"
   },
   {
    "duration": 51,
    "start_time": "2023-06-16T03:47:26.499Z"
   },
   {
    "duration": 22,
    "start_time": "2023-06-16T03:47:26.551Z"
   },
   {
    "duration": 31,
    "start_time": "2023-06-16T03:47:30.197Z"
   },
   {
    "duration": 15,
    "start_time": "2023-06-16T03:48:07.105Z"
   },
   {
    "duration": 17,
    "start_time": "2023-06-16T03:48:22.445Z"
   },
   {
    "duration": 23,
    "start_time": "2023-06-16T03:48:31.102Z"
   },
   {
    "duration": 19,
    "start_time": "2023-06-16T03:48:52.029Z"
   },
   {
    "duration": 21,
    "start_time": "2023-06-16T03:49:03.937Z"
   },
   {
    "duration": 2292,
    "start_time": "2023-06-16T03:49:21.710Z"
   },
   {
    "duration": 5,
    "start_time": "2023-06-16T03:49:24.005Z"
   },
   {
    "duration": 27,
    "start_time": "2023-06-16T03:49:24.012Z"
   },
   {
    "duration": 133,
    "start_time": "2023-06-16T03:49:24.041Z"
   },
   {
    "duration": 7,
    "start_time": "2023-06-16T03:49:24.178Z"
   },
   {
    "duration": 9,
    "start_time": "2023-06-16T03:49:24.186Z"
   },
   {
    "duration": 5,
    "start_time": "2023-06-16T03:49:24.196Z"
   },
   {
    "duration": 39,
    "start_time": "2023-06-16T03:49:24.202Z"
   },
   {
    "duration": 8,
    "start_time": "2023-06-16T03:49:24.242Z"
   },
   {
    "duration": 4,
    "start_time": "2023-06-16T03:49:24.252Z"
   },
   {
    "duration": 31,
    "start_time": "2023-06-16T03:49:24.258Z"
   },
   {
    "duration": 7,
    "start_time": "2023-06-16T03:49:24.290Z"
   },
   {
    "duration": 43,
    "start_time": "2023-06-16T03:49:24.298Z"
   },
   {
    "duration": 33,
    "start_time": "2023-06-16T03:49:24.344Z"
   },
   {
    "duration": 22,
    "start_time": "2023-06-16T03:49:24.379Z"
   },
   {
    "duration": 47,
    "start_time": "2023-06-16T03:49:24.402Z"
   },
   {
    "duration": 31,
    "start_time": "2023-06-16T03:49:25.097Z"
   },
   {
    "duration": 16,
    "start_time": "2023-06-16T03:49:39.014Z"
   },
   {
    "duration": 2453,
    "start_time": "2023-06-16T03:49:46.953Z"
   },
   {
    "duration": 4,
    "start_time": "2023-06-16T03:49:49.408Z"
   },
   {
    "duration": 19,
    "start_time": "2023-06-16T03:49:49.414Z"
   },
   {
    "duration": 260,
    "start_time": "2023-06-16T03:49:49.435Z"
   },
   {
    "duration": 6,
    "start_time": "2023-06-16T03:49:49.697Z"
   },
   {
    "duration": 15,
    "start_time": "2023-06-16T03:49:49.705Z"
   },
   {
    "duration": 22,
    "start_time": "2023-06-16T03:49:49.722Z"
   },
   {
    "duration": 12,
    "start_time": "2023-06-16T03:49:49.746Z"
   },
   {
    "duration": 18,
    "start_time": "2023-06-16T03:49:49.759Z"
   },
   {
    "duration": 8,
    "start_time": "2023-06-16T03:49:49.779Z"
   },
   {
    "duration": 31,
    "start_time": "2023-06-16T03:49:49.788Z"
   },
   {
    "duration": 7,
    "start_time": "2023-06-16T03:49:49.821Z"
   },
   {
    "duration": 28,
    "start_time": "2023-06-16T03:49:49.829Z"
   },
   {
    "duration": 25,
    "start_time": "2023-06-16T03:49:49.859Z"
   },
   {
    "duration": 17,
    "start_time": "2023-06-16T03:49:49.885Z"
   },
   {
    "duration": 30,
    "start_time": "2023-06-16T03:49:49.903Z"
   },
   {
    "duration": 15,
    "start_time": "2023-06-16T03:49:51.845Z"
   },
   {
    "duration": 150,
    "start_time": "2023-06-16T03:52:36.309Z"
   },
   {
    "duration": 17,
    "start_time": "2023-06-16T03:56:20.443Z"
   },
   {
    "duration": 53,
    "start_time": "2023-06-16T03:57:44.785Z"
   }
  ],
  "kernelspec": {
   "display_name": "Python 3 (ipykernel)",
   "language": "python",
   "name": "python3"
  },
  "language_info": {
   "codemirror_mode": {
    "name": "ipython",
    "version": 3
   },
   "file_extension": ".py",
   "mimetype": "text/x-python",
   "name": "python",
   "nbconvert_exporter": "python",
   "pygments_lexer": "ipython3",
   "version": "3.9.5"
  },
  "toc": {
   "base_numbering": 1,
   "nav_menu": {},
   "number_sections": true,
   "sideBar": true,
   "skip_h1_title": true,
   "title_cell": "Содержание",
   "title_sidebar": "Contents",
   "toc_cell": true,
   "toc_position": {
    "height": "calc(100% - 180px)",
    "left": "10px",
    "top": "150px",
    "width": "400.188px"
   },
   "toc_section_display": true,
   "toc_window_display": true
  }
 },
 "nbformat": 4,
 "nbformat_minor": 2
}
