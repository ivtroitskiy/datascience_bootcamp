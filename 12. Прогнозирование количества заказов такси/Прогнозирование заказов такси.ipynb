{
 "cells": [
  {
   "cell_type": "markdown",
   "metadata": {},
   "source": [
    "# Проект \"Прогнозирование заказов такси\"\n",
    "\n",
    "Дата: 25 июля 2023\n",
    "Исполнитель: Троицкий Илья\n",
    "Проект выполнен в рамках курса Datascience Bootcamp"
   ]
  },
  {
   "cell_type": "markdown",
   "metadata": {},
   "source": [
    "### Описание\n",
    "Компания «Чётенькое такси» собрала исторические данные о заказах такси в аэропортах. Чтобы привлекать больше водителей в период пиковой нагрузки, нужно спрогнозировать количество заказов такси на следующий час. Постройте модель для такого предсказания.\n",
    "Значение метрики RMSE на тестовой выборке должно быть не больше 48."
   ]
  },
  {
   "cell_type": "markdown",
   "metadata": {
    "toc": true
   },
   "source": [
    "<h1>Содержание<span class=\"tocSkip\"></span></h1>\n",
    "<div class=\"toc\"><ul class=\"toc-item\"><li><ul class=\"toc-item\"><li><span><a href=\"#Описание\" data-toc-modified-id=\"Описание-0.1\"><span class=\"toc-item-num\">0.1&nbsp;&nbsp;</span>Описание</a></span></li></ul></li><li><span><a href=\"#Подготовка\" data-toc-modified-id=\"Подготовка-1\"><span class=\"toc-item-num\">1&nbsp;&nbsp;</span>Подготовка</a></span></li><li><span><a href=\"#Анализ\" data-toc-modified-id=\"Анализ-2\"><span class=\"toc-item-num\">2&nbsp;&nbsp;</span>Анализ</a></span></li><li><span><a href=\"#Обучение\" data-toc-modified-id=\"Обучение-3\"><span class=\"toc-item-num\">3&nbsp;&nbsp;</span>Обучение</a></span><ul class=\"toc-item\"><li><ul class=\"toc-item\"><li><span><a href=\"#Линейная-регрессия\" data-toc-modified-id=\"Линейная-регрессия-3.0.1\"><span class=\"toc-item-num\">3.0.1&nbsp;&nbsp;</span>Линейная регрессия</a></span></li><li><span><a href=\"#Ridge\" data-toc-modified-id=\"Ridge-3.0.2\"><span class=\"toc-item-num\">3.0.2&nbsp;&nbsp;</span>Ridge</a></span></li><li><span><a href=\"#Catboost\" data-toc-modified-id=\"Catboost-3.0.3\"><span class=\"toc-item-num\">3.0.3&nbsp;&nbsp;</span>Catboost</a></span></li></ul></li></ul></li><li><span><a href=\"#Тестирование\" data-toc-modified-id=\"Тестирование-4\"><span class=\"toc-item-num\">4&nbsp;&nbsp;</span>Тестирование</a></span></li><li><span><a href=\"#Вывод\" data-toc-modified-id=\"Вывод-5\"><span class=\"toc-item-num\">5&nbsp;&nbsp;</span>Вывод</a></span></li><li><span><a href=\"#Чек-лист-проверки\" data-toc-modified-id=\"Чек-лист-проверки-6\"><span class=\"toc-item-num\">6&nbsp;&nbsp;</span>Чек-лист проверки</a></span></li></ul></div>"
   ]
  },
  {
   "cell_type": "markdown",
   "metadata": {},
   "source": [
    "#  Прогнозирование заказов такси"
   ]
  },
  {
   "cell_type": "markdown",
   "metadata": {},
   "source": [
    "Компания «Чётенькое такси» собрала исторические данные о заказах такси в аэропортах. Чтобы привлекать больше водителей в период пиковой нагрузки, нужно спрогнозировать количество заказов такси на следующий час. Постройте модель для такого предсказания.\n",
    "\n",
    "Значение метрики *RMSE* на тестовой выборке должно быть не больше 48.\n",
    "\n",
    "Вам нужно:\n",
    "\n",
    "1. Загрузить данные и выполнить их ресемплирование по одному часу.\n",
    "2. Проанализировать данные.\n",
    "3. Обучить разные модели с различными гиперпараметрами. Сделать тестовую выборку размером 10% от исходных данных.\n",
    "4. Проверить данные на тестовой выборке и сделать выводы.\n",
    "\n",
    "\n",
    "Данные лежат в файле `taxi.csv`. Количество заказов находится в столбце `num_orders` (от англ. *number of orders*, «число заказов»)."
   ]
  },
  {
   "cell_type": "code",
   "execution_count": 1,
   "metadata": {},
   "outputs": [],
   "source": [
    "import pandas as pd\n",
    "import numpy as np\n",
    "import matplotlib\n",
    "import matplotlib.pyplot as plt\n",
    "import seaborn as sns\n",
    "\n",
    "from sklearn.linear_model import LinearRegression, Ridge\n",
    "from catboost import CatBoostRegressor, Pool\n",
    "\n",
    "from sklearn.preprocessing import StandardScaler, OneHotEncoder\n",
    "\n",
    "from sklearn.model_selection import train_test_split, GridSearchCV, cross_val_score, TimeSeriesSplit\n",
    "\n",
    "\n",
    "from sklearn.compose import ColumnTransformer, make_column_selector\n",
    "from sklearn.pipeline import Pipeline\n",
    "from sklearn.metrics import mean_squared_error, make_scorer\n",
    "from statsmodels.tsa.seasonal import seasonal_decompose"
   ]
  },
  {
   "cell_type": "code",
   "execution_count": 2,
   "metadata": {},
   "outputs": [],
   "source": [
    "#Настройки\n",
    "pd.options.mode.chained_assignment = None\n",
    "matplotlib.rc('figure', figsize=(10, 5))\n",
    "sns.set_palette(\"pastel\")"
   ]
  },
  {
   "cell_type": "code",
   "execution_count": 3,
   "metadata": {},
   "outputs": [],
   "source": [
    "def make_period_features(data):\n",
    "    data['month'] = data.index.month\n",
    "    data['day'] = data.index.day\n",
    "    data['dayofweek'] = data.index.dayofweek\n",
    "    data['hour'] = data.index.hour\n",
    "\n",
    "def make_prev_features(data, max_lag, rolling_mean_size):\n",
    "    for lag in range(1, max_lag + 1):\n",
    "        data['lag_{}'.format(lag)] = data['num_orders'].shift(lag)\n",
    "\n",
    "    data['rolling_mean'] = data['num_orders'].shift(1).rolling(rolling_mean_size).mean()\n",
    "\n",
    "def rmse(target, predictions):\n",
    "    return np.sqrt(mean_squared_error(target, predictions))\n",
    "\n",
    "rmse_scorer = make_scorer(rmse)    "
   ]
  },
  {
   "cell_type": "markdown",
   "metadata": {},
   "source": [
    "## Подготовка"
   ]
  },
  {
   "cell_type": "code",
   "execution_count": 4,
   "metadata": {},
   "outputs": [],
   "source": [
    "try:\n",
    "   data = pd.read_csv('datasets/taxi.csv')\n",
    "except:\n",
    "   data = pd.read_csv('/datasets/taxi.csv')"
   ]
  },
  {
   "cell_type": "code",
   "execution_count": 5,
   "metadata": {},
   "outputs": [
    {
     "name": "stdout",
     "output_type": "stream",
     "text": [
      "<class 'pandas.core.frame.DataFrame'>\n",
      "RangeIndex: 26496 entries, 0 to 26495\n",
      "Data columns (total 2 columns):\n",
      " #   Column      Non-Null Count  Dtype \n",
      "---  ------      --------------  ----- \n",
      " 0   datetime    26496 non-null  object\n",
      " 1   num_orders  26496 non-null  int64 \n",
      "dtypes: int64(1), object(1)\n",
      "memory usage: 414.1+ KB\n"
     ]
    },
    {
     "data": {
      "text/html": [
       "<div>\n",
       "<style scoped>\n",
       "    .dataframe tbody tr th:only-of-type {\n",
       "        vertical-align: middle;\n",
       "    }\n",
       "\n",
       "    .dataframe tbody tr th {\n",
       "        vertical-align: top;\n",
       "    }\n",
       "\n",
       "    .dataframe thead th {\n",
       "        text-align: right;\n",
       "    }\n",
       "</style>\n",
       "<table border=\"1\" class=\"dataframe\">\n",
       "  <thead>\n",
       "    <tr style=\"text-align: right;\">\n",
       "      <th></th>\n",
       "      <th>datetime</th>\n",
       "      <th>num_orders</th>\n",
       "    </tr>\n",
       "  </thead>\n",
       "  <tbody>\n",
       "    <tr>\n",
       "      <th>0</th>\n",
       "      <td>2018-03-01 00:00:00</td>\n",
       "      <td>9</td>\n",
       "    </tr>\n",
       "    <tr>\n",
       "      <th>1</th>\n",
       "      <td>2018-03-01 00:10:00</td>\n",
       "      <td>14</td>\n",
       "    </tr>\n",
       "    <tr>\n",
       "      <th>2</th>\n",
       "      <td>2018-03-01 00:20:00</td>\n",
       "      <td>28</td>\n",
       "    </tr>\n",
       "    <tr>\n",
       "      <th>3</th>\n",
       "      <td>2018-03-01 00:30:00</td>\n",
       "      <td>20</td>\n",
       "    </tr>\n",
       "    <tr>\n",
       "      <th>4</th>\n",
       "      <td>2018-03-01 00:40:00</td>\n",
       "      <td>32</td>\n",
       "    </tr>\n",
       "  </tbody>\n",
       "</table>\n",
       "</div>"
      ],
      "text/plain": [
       "              datetime  num_orders\n",
       "0  2018-03-01 00:00:00           9\n",
       "1  2018-03-01 00:10:00          14\n",
       "2  2018-03-01 00:20:00          28\n",
       "3  2018-03-01 00:30:00          20\n",
       "4  2018-03-01 00:40:00          32"
      ]
     },
     "metadata": {},
     "output_type": "display_data"
    }
   ],
   "source": [
    "data.info()\n",
    "display(data.head())\n"
   ]
  },
  {
   "cell_type": "code",
   "execution_count": 6,
   "metadata": {},
   "outputs": [
    {
     "name": "stdout",
     "output_type": "stream",
     "text": [
      "2018-03-01 00:00:00\n",
      "2018-08-31 23:50:00\n"
     ]
    }
   ],
   "source": [
    "print(data['datetime'].min())\n",
    "print(data['datetime'].max())"
   ]
  },
  {
   "cell_type": "code",
   "execution_count": 7,
   "metadata": {},
   "outputs": [],
   "source": [
    "data['datetime'] = pd.to_datetime(data['datetime'])\n",
    "data = data.set_index('datetime')"
   ]
  },
  {
   "cell_type": "code",
   "execution_count": 8,
   "metadata": {},
   "outputs": [
    {
     "data": {
      "text/plain": [
       "count    26496.000000\n",
       "mean        14.070463\n",
       "std          9.211330\n",
       "min          0.000000\n",
       "25%          8.000000\n",
       "50%         13.000000\n",
       "75%         19.000000\n",
       "max        119.000000\n",
       "Name: num_orders, dtype: float64"
      ]
     },
     "execution_count": 8,
     "metadata": {},
     "output_type": "execute_result"
    },
    {
     "data": {
      "image/png": "[encoded data removed]",
      "text/plain": [
       "<Figure size 720x360 with 1 Axes>"
      ]
     },
     "metadata": {
      "needs_background": "light"
     },
     "output_type": "display_data"
    }
   ],
   "source": [
    "sns.boxplot(x=data['num_orders'])\n",
    "data['num_orders'].describe()"
   ]
  },
  {
   "cell_type": "markdown",
   "metadata": {},
   "source": [
    "Вывод: В датасете содержаться данные за перил с 1 марта 2018 года по 31 августа 2018 года включительно, с периодичностью в 10 минут. В 50% интервалах , количество заказов находится в промежутке 8-19 заказов. Есть выбросы."
   ]
  },
  {
   "cell_type": "markdown",
   "metadata": {},
   "source": [
    "## Анализ"
   ]
  },
  {
   "cell_type": "markdown",
   "metadata": {},
   "source": [
    "Так как будем делать прогнозирование количества заказов на следующий час, то сделаем респемлирование датасета с промежутком 1 час."
   ]
  },
  {
   "cell_type": "code",
   "execution_count": 9,
   "metadata": {},
   "outputs": [
    {
     "name": "stdout",
     "output_type": "stream",
     "text": [
      "(4416, 1)\n"
     ]
    }
   ],
   "source": [
    "data = data.resample('1H').sum()\n",
    "print(data.shape)"
   ]
  },
  {
   "cell_type": "code",
   "execution_count": 10,
   "metadata": {},
   "outputs": [
    {
     "data": {
      "text/plain": [
       "<AxesSubplot:xlabel='datetime'>"
      ]
     },
     "execution_count": 10,
     "metadata": {},
     "output_type": "execute_result"
    },
    {
     "data": {
      "image/png": "[encoded data removed]",
      "text/plain": [
       "<Figure size 720x360 with 1 Axes>"
      ]
     },
     "metadata": {
      "needs_background": "light"
     },
     "output_type": "display_data"
    }
   ],
   "source": [
    "data['mean'] = data['num_orders'].rolling(15).mean()\n",
    "data['std'] = data['num_orders'].rolling(15).std()\n",
    "data.plot() "
   ]
  },
  {
   "cell_type": "markdown",
   "metadata": {},
   "source": [
    "Вывод: Количество заказов со времением растет"
   ]
  },
  {
   "cell_type": "code",
   "execution_count": 11,
   "metadata": {},
   "outputs": [],
   "source": [
    "data = data.drop(['mean', 'std'], axis=1)"
   ]
  },
  {
   "cell_type": "code",
   "execution_count": 12,
   "metadata": {
    "scrolled": true
   },
   "outputs": [
    {
     "data": {
      "image/png": "[encoded data removed]",
      "text/plain": [
       "<Figure size 720x360 with 1 Axes>"
      ]
     },
     "metadata": {
      "needs_background": "light"
     },
     "output_type": "display_data"
    }
   ],
   "source": [
    "decomposed = seasonal_decompose(data)\n",
    "\n",
    "ax = decomposed.seasonal.plot()\n",
    "decomposed.trend.plot(ax=ax) \n",
    "decomposed.resid.plot(ax=ax)\n",
    "ax.legend()\n",
    "plt.show()"
   ]
  },
  {
   "cell_type": "code",
   "execution_count": 13,
   "metadata": {},
   "outputs": [
    {
     "data": {
      "text/plain": [
       "<AxesSubplot:xlabel='datetime'>"
      ]
     },
     "execution_count": 13,
     "metadata": {},
     "output_type": "execute_result"
    },
    {
     "data": {
      "image/png": "[encoded data removed]",
      "text/plain": [
       "<Figure size 720x360 with 1 Axes>"
      ]
     },
     "metadata": {
      "needs_background": "light"
     },
     "output_type": "display_data"
    }
   ],
   "source": [
    "seasonal_decompose(data).seasonal['2018-08-01':'2018-08-10'].plot()"
   ]
  },
  {
   "cell_type": "markdown",
   "metadata": {},
   "source": [
    "Вывод: Есть растущий тренд количества заказов, есть сезонность с циклов в сутки"
   ]
  },
  {
   "cell_type": "code",
   "execution_count": 14,
   "metadata": {},
   "outputs": [
    {
     "data": {
      "text/html": [
       "<div>\n",
       "<style scoped>\n",
       "    .dataframe tbody tr th:only-of-type {\n",
       "        vertical-align: middle;\n",
       "    }\n",
       "\n",
       "    .dataframe tbody tr th {\n",
       "        vertical-align: top;\n",
       "    }\n",
       "\n",
       "    .dataframe thead th {\n",
       "        text-align: right;\n",
       "    }\n",
       "</style>\n",
       "<table border=\"1\" class=\"dataframe\">\n",
       "  <thead>\n",
       "    <tr style=\"text-align: right;\">\n",
       "      <th></th>\n",
       "      <th>num_orders</th>\n",
       "      <th>month</th>\n",
       "      <th>day</th>\n",
       "      <th>dayofweek</th>\n",
       "      <th>hour</th>\n",
       "    </tr>\n",
       "    <tr>\n",
       "      <th>datetime</th>\n",
       "      <th></th>\n",
       "      <th></th>\n",
       "      <th></th>\n",
       "      <th></th>\n",
       "      <th></th>\n",
       "    </tr>\n",
       "  </thead>\n",
       "  <tbody>\n",
       "    <tr>\n",
       "      <th>2018-03-01 00:00:00</th>\n",
       "      <td>124</td>\n",
       "      <td>3</td>\n",
       "      <td>1</td>\n",
       "      <td>3</td>\n",
       "      <td>0</td>\n",
       "    </tr>\n",
       "    <tr>\n",
       "      <th>2018-03-01 01:00:00</th>\n",
       "      <td>85</td>\n",
       "      <td>3</td>\n",
       "      <td>1</td>\n",
       "      <td>3</td>\n",
       "      <td>1</td>\n",
       "    </tr>\n",
       "    <tr>\n",
       "      <th>2018-03-01 02:00:00</th>\n",
       "      <td>71</td>\n",
       "      <td>3</td>\n",
       "      <td>1</td>\n",
       "      <td>3</td>\n",
       "      <td>2</td>\n",
       "    </tr>\n",
       "    <tr>\n",
       "      <th>2018-03-01 03:00:00</th>\n",
       "      <td>66</td>\n",
       "      <td>3</td>\n",
       "      <td>1</td>\n",
       "      <td>3</td>\n",
       "      <td>3</td>\n",
       "    </tr>\n",
       "    <tr>\n",
       "      <th>2018-03-01 04:00:00</th>\n",
       "      <td>43</td>\n",
       "      <td>3</td>\n",
       "      <td>1</td>\n",
       "      <td>3</td>\n",
       "      <td>4</td>\n",
       "    </tr>\n",
       "  </tbody>\n",
       "</table>\n",
       "</div>"
      ],
      "text/plain": [
       "                     num_orders  month  day  dayofweek  hour\n",
       "datetime                                                    \n",
       "2018-03-01 00:00:00         124      3    1          3     0\n",
       "2018-03-01 01:00:00          85      3    1          3     1\n",
       "2018-03-01 02:00:00          71      3    1          3     2\n",
       "2018-03-01 03:00:00          66      3    1          3     3\n",
       "2018-03-01 04:00:00          43      3    1          3     4"
      ]
     },
     "metadata": {},
     "output_type": "display_data"
    }
   ],
   "source": [
    "make_period_features(data)\n",
    "data = data.dropna()\n",
    "display(data.head())"
   ]
  },
  {
   "cell_type": "code",
   "execution_count": 15,
   "metadata": {},
   "outputs": [
    {
     "data": {
      "image/png": "[encoded data removed]",
      "text/plain": [
       "<Figure size 720x360 with 1 Axes>"
      ]
     },
     "metadata": {
      "needs_background": "light"
     },
     "output_type": "display_data"
    }
   ],
   "source": [
    "temp_data =  data[['month','num_orders']].groupby(by='month').sum()\n",
    "ax = sns.barplot(x=temp_data.index, y=temp_data['num_orders'])\n",
    "ax.set(xlabel='Номер месяца', ylabel='Количество заказов (шт)', title='Заказы по месяцам')\n",
    "plt.show()"
   ]
  },
  {
   "cell_type": "markdown",
   "metadata": {},
   "source": [
    "Наблюдаем тренд на увеличение заказов месяц к месяцу"
   ]
  },
  {
   "cell_type": "code",
   "execution_count": 16,
   "metadata": {},
   "outputs": [
    {
     "data": {
      "image/png": "[encoded data removed]",
      "text/plain": [
       "<Figure size 720x360 with 1 Axes>"
      ]
     },
     "metadata": {
      "needs_background": "light"
     },
     "output_type": "display_data"
    }
   ],
   "source": [
    "temp_data =  data[['day','num_orders']].groupby(by='day').sum()\n",
    "ax = sns.barplot(x=temp_data.index, y=temp_data['num_orders'])\n",
    "ax.set(xlabel='Номер дня', ylabel='Количество заказов (шт)', title='Заказы по дням')\n",
    "plt.show()"
   ]
  },
  {
   "cell_type": "markdown",
   "metadata": {},
   "source": [
    "В разрезе дней, отсутствуют тренды и сезонность. Уменьшение количества заказов 31 числа связано с тем, что 31 число есть только в половине месяцев."
   ]
  },
  {
   "cell_type": "code",
   "execution_count": 17,
   "metadata": {},
   "outputs": [
    {
     "data": {
      "image/png": "[encoded data removed]",
      "text/plain": [
       "<Figure size 720x360 with 1 Axes>"
      ]
     },
     "metadata": {
      "needs_background": "light"
     },
     "output_type": "display_data"
    }
   ],
   "source": [
    "temp_data =  data[['dayofweek','num_orders']].groupby(by='dayofweek').sum()\n",
    "ax = sns.barplot(x=temp_data.index, y=temp_data['num_orders'])\n",
    "ax.set(xlabel='Номер дня недели', ylabel='Количество заказов (шт)', title='Заказы по дням недели')\n",
    "ax.set_xticklabels(['Понедельник','Вторник','Среда','Четверг','Пятница','Суббота','Воскресенье'])\n",
    "plt.show()"
   ]
  },
  {
   "cell_type": "markdown",
   "metadata": {},
   "source": [
    "Слабовыраженный восходящий тренд со вторника по пятницу, и убывающие с пятниы по воскресенье"
   ]
  },
  {
   "cell_type": "code",
   "execution_count": 18,
   "metadata": {},
   "outputs": [
    {
     "data": {
      "image/png": "[encoded data removed]",
      "text/plain": [
       "<Figure size 720x360 with 1 Axes>"
      ]
     },
     "metadata": {
      "needs_background": "light"
     },
     "output_type": "display_data"
    }
   ],
   "source": [
    "temp_data =  data[['hour','num_orders']].groupby(by='hour').sum()\n",
    "ax = sns.barplot(x=temp_data.index, y=temp_data['num_orders'])\n",
    "ax.set(xlabel='Час', ylabel='Количество заказов (шт)', title='Заказы по часам')\n",
    "plt.show()"
   ]
  },
  {
   "cell_type": "markdown",
   "metadata": {},
   "source": [
    "Есть снижающийся тренд после полуночи и растущий после 6 часов утра"
   ]
  },
  {
   "cell_type": "code",
   "execution_count": 19,
   "metadata": {},
   "outputs": [
    {
     "data": {
      "image/png": "[encoded data removed]",
      "text/plain": [
       "<Figure size 1440x720 with 1 Axes>"
      ]
     },
     "metadata": {
      "needs_background": "light"
     },
     "output_type": "display_data"
    }
   ],
   "source": [
    "#data['2018-08-01':'2018-08-04'][['hour','num_orders']].rolling(3).mean().plot()\n",
    "temp_data =  data['2018-08-01':'2018-08-04'][['hour', 'num_orders']].rolling(3).mean()\n",
    "\n",
    "ax = temp_data['num_orders'].plot( figsize=(20,10))\n",
    "ax.set(xlabel='Час', ylabel='Количество заказов (шт)', title='Заказы по часам')\n",
    "plt.show()"
   ]
  },
  {
   "cell_type": "markdown",
   "metadata": {},
   "source": [
    "Наблюдается сезонность с пиков в полночь и дном в районе 6 часов утра."
   ]
  },
  {
   "cell_type": "markdown",
   "metadata": {},
   "source": [
    "Вывод: Анализ данныз показал, что количество заказов месяц к месяцу растет. Каких то треднов в завимисоти от дня месяца нет, есть сезонностьт по дням недели с пиком в пятницу. Так же наблюдается сезонность в распределении по часу в сутках, в полночть максимальное количество заказов, в 6 утра - минимальное."
   ]
  },
  {
   "cell_type": "markdown",
   "metadata": {},
   "source": [
    "## Обучение"
   ]
  },
  {
   "cell_type": "markdown",
   "metadata": {},
   "source": [
    "Так как данные у нас только за несколько месяцев, а зависимости от дня месяца мы не наблюдаем, удалим лишние признаки."
   ]
  },
  {
   "cell_type": "code",
   "execution_count": 20,
   "metadata": {},
   "outputs": [],
   "source": [
    "data = data.drop(['month', 'day'], axis=1) "
   ]
  },
  {
   "cell_type": "code",
   "execution_count": 21,
   "metadata": {},
   "outputs": [],
   "source": [
    "MAX_LAG = 24\n",
    "ROLLING_MEAN_SIZE = 10\n",
    "#make_prev_features(data, MAX_LAG, ROLLING_MEAN_SIZE)\n",
    "#data = data.dropna()"
   ]
  },
  {
   "cell_type": "code",
   "execution_count": 22,
   "metadata": {},
   "outputs": [],
   "source": [
    "def split_data(data):\n",
    "    X = data.drop('num_orders', axis=1)\n",
    "    y = data['num_orders']\n",
    "    return train_test_split(X, y, shuffle=False, test_size=0.1, random_state=31337)"
   ]
  },
  {
   "cell_type": "markdown",
   "metadata": {},
   "source": [
    "#### Линейная регрессия"
   ]
  },
  {
   "cell_type": "code",
   "execution_count": 23,
   "metadata": {},
   "outputs": [],
   "source": [
    " def train_lr_model(data):\n",
    "    x_train, x_test, y_train, y_test = split_data(data)\n",
    "\n",
    "    preprocessor = ColumnTransformer(\n",
    "        transformers=[\n",
    "            ('cat_ohe', OneHotEncoder(), ['dayofweek', 'hour']),\n",
    "            ('num', StandardScaler(), make_column_selector(dtype_include=np.number))\n",
    "        ])\n",
    "    lr_model = Pipeline(steps=[('preprocessor', preprocessor),\n",
    "                            ('regressor' , LinearRegression())])\n",
    "\n",
    "    lr_model.fit(x_train,y_train)\n",
    " \n",
    "    time_split = TimeSeriesSplit(n_splits=5)\n",
    "    \n",
    "    scores = cross_val_score(lr_model, x_train, y_train, cv=time_split.split(x_train), scoring=rmse_scorer, n_jobs=5)\n",
    "\n",
    "    return lr_model, scores.mean()"
   ]
  },
  {
   "cell_type": "code",
   "execution_count": null,
   "metadata": {},
   "outputs": [],
   "source": [
    "%%time\n",
    "\n",
    "best_score = 100\n",
    "best_ml = 1\n",
    "best_rms = 1\n",
    "\n",
    "for ml in range(1,MAX_LAG):\n",
    "    for rms in range(1,ROLLING_MEAN_SIZE):\n",
    "        \n",
    "        current_data = data.copy()\n",
    "        make_prev_features(current_data, ml, rms)\n",
    "        current_data = current_data.dropna()\n",
    "\n",
    "        lr_model, score = train_lr_model(current_data)\n",
    "\n",
    "        if score < best_score:\n",
    "            best_score = score\n",
    "            best_model = lr_model\n",
    "            best_ml = ml\n",
    "            best_rms = rms\n",
    "\n",
    "lr_model = best_model\n",
    "print(f'max lag: {best_ml} rms: {best_rms} score: {best_score}')"
   ]
  },
  {
   "cell_type": "code",
   "execution_count": null,
   "metadata": {},
   "outputs": [],
   "source": [
    "make_prev_features(data, best_ml, best_rms)\n",
    "data = data.dropna()\n",
    "x_train, x_test, y_train, y_test = split_data(data)\n"
   ]
  },
  {
   "cell_type": "markdown",
   "metadata": {},
   "source": [
    "#### Ridge"
   ]
  },
  {
   "cell_type": "code",
   "execution_count": null,
   "metadata": {},
   "outputs": [],
   "source": [
    "preprocessor = ColumnTransformer(\n",
    "    transformers=[\n",
    "        ('cat_ohe', OneHotEncoder(), ['dayofweek', 'hour']),\n",
    "        ('num', StandardScaler(), make_column_selector(dtype_include=np.number))\n",
    "    ])\n",
    "ridge_model = Pipeline(steps=[('preprocessor', preprocessor),\n",
    "                        ('regressor' , Ridge())])\n",
    "\n",
    "ridge_model.fit(x_train,y_train)\n",
    "\n",
    "time_split = TimeSeriesSplit(n_splits=5)\n",
    "    \n",
    "scores = cross_val_score(ridge_model, x_train, y_train, cv=time_split.split(x_train), scoring=rmse_scorer)\n",
    "\n",
    "print(\"Ridge RMSE:\", scores.mean())"
   ]
  },
  {
   "cell_type": "markdown",
   "metadata": {},
   "source": [
    "#### Catboost"
   ]
  },
  {
   "cell_type": "code",
   "execution_count": null,
   "metadata": {
    "scrolled": true
   },
   "outputs": [],
   "source": [
    "%%time \n",
    "\n",
    "cb_model = CatBoostRegressor(random_seed=31337,\n",
    "                          iterations=50,\n",
    "                          learning_rate=1,\n",
    "                          depth=2,\n",
    "                          custom_metric='RMSE',\n",
    "                          cat_features=['dayofweek', 'hour'],\n",
    "                          )\n",
    "\n",
    "param_grid = {\n",
    "    'num_leaves': [31, 127],\n",
    "    'n_estimators': [50, 100, 150],\n",
    "    'learning_rate': [0.1, 0.01]\n",
    "}\n",
    "\n",
    "grid_search_result = cb_model.grid_search(param_grid,\n",
    "            X=x_train,\n",
    "            y=y_train,\n",
    "            cv=time_split.split(x_train),\n",
    "            partition_random_seed=31337,\n",
    "            calc_cv_statistics=True,\n",
    "            search_by_train_test_split=True,\n",
    "            refit=True,\n",
    "            shuffle=True,\n",
    "            stratified=None,\n",
    "            train_size=0.8,\n",
    "            verbose=True,\n",
    "            plot=False)\n",
    "\n",
    "\n",
    "print('RMSE CatBoost:', cb_model.best_score_)\n"
   ]
  },
  {
   "cell_type": "markdown",
   "metadata": {},
   "source": [
    "Линейная регрессия показывает чуть худший результат, чем Catboost. Перебирая параметры MAX_LAG и ROLLING_MEAN_SIZE, наилучших результатов удалось достич при значениях 8 и 9 соответственно. "
   ]
  },
  {
   "cell_type": "markdown",
   "metadata": {},
   "source": [
    "## Тестирование"
   ]
  },
  {
   "cell_type": "code",
   "execution_count": null,
   "metadata": {},
   "outputs": [],
   "source": [
    "print('RMSE на тестовых данных')\n",
    "print(\"LogisticRegression RMSE:\", rmse(y_test, lr_model.predict(x_test)))\n",
    "print(\"Ridge RMSE:\", rmse(y_test, ridge_model.predict(x_test)))\n",
    "print(\"CatBoost RMSE:\", rmse(y_test, cb_model.predict(x_test)))"
   ]
  },
  {
   "cell_type": "code",
   "execution_count": null,
   "metadata": {},
   "outputs": [],
   "source": [
    "y_pred = pd.Series(lr_model.predict(x_test), index=y_test.index)\n",
    "\n",
    "plt.figure(figsize=(25, 10), dpi=80)\n",
    "plt.title('Сравнение тестовых данных и предсказаний')\n",
    "plt.plot(y_test)\n",
    "plt.plot(y_pred)\n",
    "\n",
    "plt.show()"
   ]
  },
  {
   "cell_type": "code",
   "execution_count": null,
   "metadata": {},
   "outputs": [],
   "source": [
    "plt.figure(figsize=(25, 10), dpi=80)\n",
    "plt.title('Сравнение тестовых данных и предсказаний за 5 дней')\n",
    "plt.plot(y_test['2018-08-14':'2018-08-17'])\n",
    "plt.plot(y_pred['2018-08-14':'2018-08-17'])\n",
    "plt.show()"
   ]
  },
  {
   "cell_type": "markdown",
   "metadata": {},
   "source": [
    "## Вывод\n",
    "В предоставленных данных содержалась инфмормация о количестве заказов такси с периодичностью в 10 минут за отрезок с 1 марта по 31 августа 2018 года. Учитывая, что поставлена задача - прогнозировать количество заказов на ближайший час, данные были агрегированы с перидочностью в час. Перед обучение модели, в набор данных были добавлены предыдущии значения показателя и плавающее среднее. Обучили две модели с перебором параметров. (Линейную регрессию, Ridge и CatBoost) и на тесовых данных лучшеую оценку показала линейная регрессия с оценкой RMSE ~44, что удовлетворяет условию задачи в 48."
   ]
  }
 ],
 "metadata": {
  "ExecuteTimeLog": [
   {
    "duration": 1634,
    "start_time": "2023-07-25T13:06:20.760Z"
   },
   {
    "duration": 121,
    "start_time": "2023-07-25T13:06:22.396Z"
   },
   {
    "duration": 0,
    "start_time": "2023-07-25T13:06:22.519Z"
   },
   {
    "duration": 0,
    "start_time": "2023-07-25T13:06:22.520Z"
   },
   {
    "duration": 0,
    "start_time": "2023-07-25T13:06:22.522Z"
   },
   {
    "duration": 0,
    "start_time": "2023-07-25T13:06:22.523Z"
   },
   {
    "duration": 0,
    "start_time": "2023-07-25T13:06:22.524Z"
   },
   {
    "duration": 0,
    "start_time": "2023-07-25T13:06:22.525Z"
   },
   {
    "duration": 0,
    "start_time": "2023-07-25T13:06:22.526Z"
   },
   {
    "duration": 0,
    "start_time": "2023-07-25T13:06:22.527Z"
   },
   {
    "duration": 0,
    "start_time": "2023-07-25T13:06:22.529Z"
   },
   {
    "duration": 0,
    "start_time": "2023-07-25T13:06:22.530Z"
   },
   {
    "duration": 0,
    "start_time": "2023-07-25T13:06:22.531Z"
   },
   {
    "duration": 0,
    "start_time": "2023-07-25T13:06:22.532Z"
   },
   {
    "duration": 0,
    "start_time": "2023-07-25T13:06:22.533Z"
   },
   {
    "duration": 0,
    "start_time": "2023-07-25T13:06:22.534Z"
   },
   {
    "duration": 0,
    "start_time": "2023-07-25T13:06:22.535Z"
   },
   {
    "duration": 0,
    "start_time": "2023-07-25T13:06:22.536Z"
   },
   {
    "duration": 0,
    "start_time": "2023-07-25T13:06:22.538Z"
   },
   {
    "duration": 0,
    "start_time": "2023-07-25T13:06:22.538Z"
   },
   {
    "duration": 0,
    "start_time": "2023-07-25T13:06:22.574Z"
   },
   {
    "duration": 0,
    "start_time": "2023-07-25T13:06:22.575Z"
   },
   {
    "duration": 0,
    "start_time": "2023-07-25T13:06:22.576Z"
   },
   {
    "duration": 0,
    "start_time": "2023-07-25T13:06:22.576Z"
   },
   {
    "duration": 0,
    "start_time": "2023-07-25T13:06:22.577Z"
   },
   {
    "duration": 3,
    "start_time": "2023-07-25T13:06:43.166Z"
   },
   {
    "duration": 1540,
    "start_time": "2023-07-25T13:06:49.202Z"
   },
   {
    "duration": 3,
    "start_time": "2023-07-25T13:06:50.744Z"
   },
   {
    "duration": 14,
    "start_time": "2023-07-25T13:06:50.749Z"
   },
   {
    "duration": 195,
    "start_time": "2023-07-25T13:06:50.764Z"
   },
   {
    "duration": 28,
    "start_time": "2023-07-25T13:06:50.961Z"
   },
   {
    "duration": 42,
    "start_time": "2023-07-25T13:06:50.991Z"
   },
   {
    "duration": 25,
    "start_time": "2023-07-25T13:06:51.035Z"
   },
   {
    "duration": 142,
    "start_time": "2023-07-25T13:06:51.062Z"
   },
   {
    "duration": 9,
    "start_time": "2023-07-25T13:06:51.205Z"
   },
   {
    "duration": 339,
    "start_time": "2023-07-25T13:06:51.216Z"
   },
   {
    "duration": 4,
    "start_time": "2023-07-25T13:06:51.556Z"
   },
   {
    "duration": 38,
    "start_time": "2023-07-25T13:06:51.562Z"
   },
   {
    "duration": 193,
    "start_time": "2023-07-25T13:06:51.602Z"
   },
   {
    "duration": 0,
    "start_time": "2023-07-25T13:06:51.798Z"
   },
   {
    "duration": 0,
    "start_time": "2023-07-25T13:06:51.799Z"
   },
   {
    "duration": 0,
    "start_time": "2023-07-25T13:06:51.801Z"
   },
   {
    "duration": 0,
    "start_time": "2023-07-25T13:06:51.802Z"
   },
   {
    "duration": 0,
    "start_time": "2023-07-25T13:06:51.804Z"
   },
   {
    "duration": 0,
    "start_time": "2023-07-25T13:06:51.805Z"
   },
   {
    "duration": 0,
    "start_time": "2023-07-25T13:06:51.806Z"
   },
   {
    "duration": 0,
    "start_time": "2023-07-25T13:06:51.807Z"
   },
   {
    "duration": 0,
    "start_time": "2023-07-25T13:06:51.808Z"
   },
   {
    "duration": 0,
    "start_time": "2023-07-25T13:06:51.809Z"
   },
   {
    "duration": 0,
    "start_time": "2023-07-25T13:06:51.811Z"
   },
   {
    "duration": 0,
    "start_time": "2023-07-25T13:06:51.812Z"
   },
   {
    "duration": 97,
    "start_time": "2023-07-25T13:07:56.450Z"
   },
   {
    "duration": 35,
    "start_time": "2023-07-25T13:09:17.063Z"
   },
   {
    "duration": 22,
    "start_time": "2023-07-25T13:10:19.403Z"
   },
   {
    "duration": 18,
    "start_time": "2023-07-25T13:11:03.520Z"
   },
   {
    "duration": 149,
    "start_time": "2023-07-25T13:12:59.995Z"
   },
   {
    "duration": 22,
    "start_time": "2023-07-25T13:13:11.756Z"
   },
   {
    "duration": 982,
    "start_time": "2023-07-25T13:13:28.754Z"
   },
   {
    "duration": 13,
    "start_time": "2023-07-25T13:13:38.850Z"
   },
   {
    "duration": 134,
    "start_time": "2023-07-25T13:13:46.871Z"
   },
   {
    "duration": 300,
    "start_time": "2023-07-25T13:14:06.330Z"
   },
   {
    "duration": 161,
    "start_time": "2023-07-25T13:14:22.171Z"
   },
   {
    "duration": 244,
    "start_time": "2023-07-25T13:14:38.024Z"
   },
   {
    "duration": 217,
    "start_time": "2023-07-25T13:14:45.926Z"
   },
   {
    "duration": 5,
    "start_time": "2023-07-25T13:14:53.827Z"
   },
   {
    "duration": 12,
    "start_time": "2023-07-25T13:14:53.835Z"
   },
   {
    "duration": 22,
    "start_time": "2023-07-25T13:14:53.850Z"
   },
   {
    "duration": 14,
    "start_time": "2023-07-25T13:14:53.875Z"
   },
   {
    "duration": 64,
    "start_time": "2023-07-25T13:14:53.891Z"
   },
   {
    "duration": 0,
    "start_time": "2023-07-25T13:14:53.957Z"
   },
   {
    "duration": 0,
    "start_time": "2023-07-25T13:14:53.958Z"
   },
   {
    "duration": 0,
    "start_time": "2023-07-25T13:14:53.959Z"
   },
   {
    "duration": 4,
    "start_time": "2023-07-25T13:15:33.515Z"
   },
   {
    "duration": 35157,
    "start_time": "2023-07-25T13:15:41.722Z"
   },
   {
    "duration": 13,
    "start_time": "2023-07-25T13:16:33.407Z"
   },
   {
    "duration": 9,
    "start_time": "2023-07-25T13:16:36.438Z"
   },
   {
    "duration": 2667,
    "start_time": "2023-07-25T13:16:36.449Z"
   },
   {
    "duration": 14,
    "start_time": "2023-07-25T13:16:39.117Z"
   },
   {
    "duration": 1425,
    "start_time": "2023-07-25T13:16:48.555Z"
   },
   {
    "duration": 3,
    "start_time": "2023-07-25T13:16:49.982Z"
   },
   {
    "duration": 15,
    "start_time": "2023-07-25T13:16:49.987Z"
   },
   {
    "duration": 109,
    "start_time": "2023-07-25T13:16:50.004Z"
   },
   {
    "duration": 22,
    "start_time": "2023-07-25T13:16:50.116Z"
   },
   {
    "duration": 15,
    "start_time": "2023-07-25T13:16:50.140Z"
   },
   {
    "duration": 18,
    "start_time": "2023-07-25T13:16:50.157Z"
   },
   {
    "duration": 162,
    "start_time": "2023-07-25T13:16:50.177Z"
   },
   {
    "duration": 11,
    "start_time": "2023-07-25T13:16:50.341Z"
   },
   {
    "duration": 368,
    "start_time": "2023-07-25T13:16:50.355Z"
   },
   {
    "duration": 5,
    "start_time": "2023-07-25T13:16:50.724Z"
   },
   {
    "duration": 27,
    "start_time": "2023-07-25T13:16:50.731Z"
   },
   {
    "duration": 216,
    "start_time": "2023-07-25T13:16:50.759Z"
   },
   {
    "duration": 328,
    "start_time": "2023-07-25T13:16:50.978Z"
   },
   {
    "duration": 174,
    "start_time": "2023-07-25T13:16:51.308Z"
   },
   {
    "duration": 308,
    "start_time": "2023-07-25T13:16:51.484Z"
   },
   {
    "duration": 237,
    "start_time": "2023-07-25T13:16:51.794Z"
   },
   {
    "duration": 3,
    "start_time": "2023-07-25T13:16:52.033Z"
   },
   {
    "duration": 12,
    "start_time": "2023-07-25T13:16:52.038Z"
   },
   {
    "duration": 25,
    "start_time": "2023-07-25T13:16:52.051Z"
   },
   {
    "duration": 22,
    "start_time": "2023-07-25T13:16:52.078Z"
   },
   {
    "duration": 36182,
    "start_time": "2023-07-25T13:16:52.101Z"
   },
   {
    "duration": 101,
    "start_time": "2023-07-25T13:17:28.285Z"
   },
   {
    "duration": 2589,
    "start_time": "2023-07-25T13:17:28.387Z"
   },
   {
    "duration": 15,
    "start_time": "2023-07-25T13:17:30.978Z"
   },
   {
    "duration": 128,
    "start_time": "2023-07-25T13:19:10.246Z"
   },
   {
    "duration": 184,
    "start_time": "2023-07-25T13:20:54.616Z"
   },
   {
    "duration": 4,
    "start_time": "2023-07-25T13:21:03.345Z"
   },
   {
    "duration": 89,
    "start_time": "2023-07-25T13:21:12.019Z"
   },
   {
    "duration": 11,
    "start_time": "2023-07-25T13:21:39.195Z"
   },
   {
    "duration": 1264,
    "start_time": "2023-07-25T13:21:41.313Z"
   },
   {
    "duration": 752,
    "start_time": "2023-07-25T13:22:29.739Z"
   },
   {
    "duration": 69,
    "start_time": "2023-07-25T13:23:01.807Z"
   },
   {
    "duration": 1591,
    "start_time": "2023-07-25T13:23:21.454Z"
   },
   {
    "duration": 4,
    "start_time": "2023-07-25T13:23:23.047Z"
   },
   {
    "duration": 8,
    "start_time": "2023-07-25T13:23:23.055Z"
   },
   {
    "duration": 76,
    "start_time": "2023-07-25T13:23:23.065Z"
   },
   {
    "duration": 20,
    "start_time": "2023-07-25T13:23:23.143Z"
   },
   {
    "duration": 7,
    "start_time": "2023-07-25T13:23:23.165Z"
   },
   {
    "duration": 23,
    "start_time": "2023-07-25T13:23:23.173Z"
   },
   {
    "duration": 139,
    "start_time": "2023-07-25T13:23:23.198Z"
   },
   {
    "duration": 10,
    "start_time": "2023-07-25T13:23:23.340Z"
   },
   {
    "duration": 371,
    "start_time": "2023-07-25T13:23:23.352Z"
   },
   {
    "duration": 5,
    "start_time": "2023-07-25T13:23:23.724Z"
   },
   {
    "duration": 30,
    "start_time": "2023-07-25T13:23:23.731Z"
   },
   {
    "duration": 265,
    "start_time": "2023-07-25T13:23:23.763Z"
   },
   {
    "duration": 398,
    "start_time": "2023-07-25T13:23:24.031Z"
   },
   {
    "duration": 207,
    "start_time": "2023-07-25T13:23:24.431Z"
   },
   {
    "duration": 314,
    "start_time": "2023-07-25T13:23:24.640Z"
   },
   {
    "duration": 254,
    "start_time": "2023-07-25T13:23:24.956Z"
   },
   {
    "duration": 4,
    "start_time": "2023-07-25T13:23:25.212Z"
   },
   {
    "duration": 30,
    "start_time": "2023-07-25T13:23:25.218Z"
   },
   {
    "duration": 14,
    "start_time": "2023-07-25T13:23:25.249Z"
   },
   {
    "duration": 11,
    "start_time": "2023-07-25T13:23:25.265Z"
   },
   {
    "duration": 39604,
    "start_time": "2023-07-25T13:23:25.278Z"
   },
   {
    "duration": 104,
    "start_time": "2023-07-25T13:24:04.974Z"
   },
   {
    "duration": 705,
    "start_time": "2023-07-25T13:24:05.080Z"
   },
   {
    "duration": 2602,
    "start_time": "2023-07-25T13:24:05.876Z"
   },
   {
    "duration": 96,
    "start_time": "2023-07-25T13:24:08.480Z"
   },
   {
    "duration": 129,
    "start_time": "2023-07-25T15:25:25.964Z"
   },
   {
    "duration": 108,
    "start_time": "2023-07-25T15:27:02.640Z"
   },
   {
    "duration": 2385,
    "start_time": "2023-07-25T15:29:46.612Z"
   },
   {
    "duration": 18,
    "start_time": "2023-07-25T15:32:55.297Z"
   },
   {
    "duration": 161,
    "start_time": "2023-07-25T15:33:56.438Z"
   },
   {
    "duration": 1947,
    "start_time": "2023-07-25T15:34:07.302Z"
   },
   {
    "duration": 4,
    "start_time": "2023-07-25T15:34:09.253Z"
   },
   {
    "duration": 35,
    "start_time": "2023-07-25T15:34:09.259Z"
   },
   {
    "duration": 280,
    "start_time": "2023-07-25T15:34:09.310Z"
   },
   {
    "duration": 29,
    "start_time": "2023-07-25T15:34:09.597Z"
   },
   {
    "duration": 11,
    "start_time": "2023-07-25T15:34:09.628Z"
   },
   {
    "duration": 17,
    "start_time": "2023-07-25T15:34:09.641Z"
   },
   {
    "duration": 196,
    "start_time": "2023-07-25T15:34:09.659Z"
   },
   {
    "duration": 11,
    "start_time": "2023-07-25T15:34:09.858Z"
   },
   {
    "duration": 433,
    "start_time": "2023-07-25T15:34:09.871Z"
   },
   {
    "duration": 5,
    "start_time": "2023-07-25T15:34:10.306Z"
   },
   {
    "duration": 34,
    "start_time": "2023-07-25T15:34:10.317Z"
   },
   {
    "duration": 285,
    "start_time": "2023-07-25T15:34:10.352Z"
   },
   {
    "duration": 430,
    "start_time": "2023-07-25T15:34:10.642Z"
   },
   {
    "duration": 216,
    "start_time": "2023-07-25T15:34:11.079Z"
   },
   {
    "duration": 345,
    "start_time": "2023-07-25T15:34:11.299Z"
   },
   {
    "duration": 295,
    "start_time": "2023-07-25T15:34:11.646Z"
   },
   {
    "duration": 5,
    "start_time": "2023-07-25T15:34:11.943Z"
   },
   {
    "duration": 48,
    "start_time": "2023-07-25T15:34:11.950Z"
   },
   {
    "duration": 21,
    "start_time": "2023-07-25T15:34:12.007Z"
   },
   {
    "duration": 28,
    "start_time": "2023-07-25T15:34:12.030Z"
   },
   {
    "duration": 121,
    "start_time": "2023-07-25T15:36:49.685Z"
   },
   {
    "duration": 1081,
    "start_time": "2023-07-25T15:36:49.817Z"
   },
   {
    "duration": 4037,
    "start_time": "2023-07-25T15:36:50.900Z"
   },
   {
    "duration": 44,
    "start_time": "2023-07-25T15:36:54.939Z"
   },
   {
    "duration": 1695,
    "start_time": "2023-07-25T15:39:38.144Z"
   },
   {
    "duration": 4,
    "start_time": "2023-07-25T15:39:39.841Z"
   },
   {
    "duration": 6,
    "start_time": "2023-07-25T15:39:39.847Z"
   },
   {
    "duration": 161,
    "start_time": "2023-07-25T15:39:39.855Z"
   },
   {
    "duration": 22,
    "start_time": "2023-07-25T15:39:40.018Z"
   },
   {
    "duration": 7,
    "start_time": "2023-07-25T15:39:40.041Z"
   },
   {
    "duration": 24,
    "start_time": "2023-07-25T15:39:40.050Z"
   },
   {
    "duration": 150,
    "start_time": "2023-07-25T15:39:40.085Z"
   },
   {
    "duration": 10,
    "start_time": "2023-07-25T15:39:40.237Z"
   },
   {
    "duration": 399,
    "start_time": "2023-07-25T15:39:40.250Z"
   },
   {
    "duration": 6,
    "start_time": "2023-07-25T15:39:40.651Z"
   },
   {
    "duration": 34,
    "start_time": "2023-07-25T15:39:40.659Z"
   },
   {
    "duration": 271,
    "start_time": "2023-07-25T15:39:40.694Z"
   },
   {
    "duration": 418,
    "start_time": "2023-07-25T15:39:40.970Z"
   },
   {
    "duration": 223,
    "start_time": "2023-07-25T15:39:41.399Z"
   },
   {
    "duration": 310,
    "start_time": "2023-07-25T15:39:41.624Z"
   },
   {
    "duration": 290,
    "start_time": "2023-07-25T15:39:41.936Z"
   },
   {
    "duration": 4,
    "start_time": "2023-07-25T15:39:42.229Z"
   },
   {
    "duration": 10,
    "start_time": "2023-07-25T15:39:42.235Z"
   },
   {
    "duration": 6,
    "start_time": "2023-07-25T15:39:42.246Z"
   },
   {
    "duration": 5,
    "start_time": "2023-07-25T15:39:42.254Z"
   },
   {
    "duration": 162033,
    "start_time": "2023-07-25T15:39:42.261Z"
   },
   {
    "duration": 199,
    "start_time": "2023-07-25T15:42:24.296Z"
   },
   {
    "duration": 892,
    "start_time": "2023-07-25T15:42:24.503Z"
   },
   {
    "duration": 4057,
    "start_time": "2023-07-25T15:42:25.405Z"
   },
   {
    "duration": 46,
    "start_time": "2023-07-25T15:42:29.464Z"
   },
   {
    "duration": 246,
    "start_time": "2023-07-25T15:45:07.013Z"
   },
   {
    "duration": 380,
    "start_time": "2023-07-25T15:45:51.063Z"
   },
   {
    "duration": 440,
    "start_time": "2023-07-25T15:46:05.318Z"
   },
   {
    "duration": 556,
    "start_time": "2023-07-25T15:46:12.624Z"
   },
   {
    "duration": 501,
    "start_time": "2023-07-25T15:46:32.910Z"
   },
   {
    "duration": 373,
    "start_time": "2023-07-25T15:47:47.817Z"
   },
   {
    "duration": 329,
    "start_time": "2023-07-25T15:48:57.621Z"
   },
   {
    "duration": 445,
    "start_time": "2023-07-25T15:49:59.108Z"
   },
   {
    "duration": 458,
    "start_time": "2023-07-25T15:50:02.795Z"
   },
   {
    "duration": 362,
    "start_time": "2023-07-25T15:50:07.428Z"
   },
   {
    "duration": 470,
    "start_time": "2023-07-25T15:51:09.364Z"
   },
   {
    "duration": 417,
    "start_time": "2023-07-25T15:51:19.007Z"
   },
   {
    "duration": 844,
    "start_time": "2023-07-25T15:51:37.411Z"
   },
   {
    "duration": 864,
    "start_time": "2023-07-25T15:51:48.335Z"
   },
   {
    "duration": 815,
    "start_time": "2023-07-25T15:52:02.513Z"
   },
   {
    "duration": 610,
    "start_time": "2023-07-25T15:52:09.420Z"
   },
   {
    "duration": 571,
    "start_time": "2023-07-25T15:52:15.870Z"
   },
   {
    "duration": 417,
    "start_time": "2023-07-25T15:53:19.411Z"
   },
   {
    "duration": 454,
    "start_time": "2023-07-25T15:53:50.163Z"
   },
   {
    "duration": 258,
    "start_time": "2023-07-25T15:54:27.714Z"
   },
   {
    "duration": 654,
    "start_time": "2023-07-25T15:54:30.543Z"
   },
   {
    "duration": 287,
    "start_time": "2023-07-25T15:54:33.159Z"
   },
   {
    "duration": 8,
    "start_time": "2023-07-25T15:54:45.422Z"
   },
   {
    "duration": 97,
    "start_time": "2023-07-25T15:54:54.005Z"
   },
   {
    "duration": 6,
    "start_time": "2023-07-25T15:54:58.846Z"
   },
   {
    "duration": 78,
    "start_time": "2023-07-25T15:55:21.430Z"
   },
   {
    "duration": 160,
    "start_time": "2023-07-25T15:55:24.445Z"
   },
   {
    "duration": 82,
    "start_time": "2023-07-25T15:55:30.408Z"
   },
   {
    "duration": 16,
    "start_time": "2023-07-25T15:55:33.705Z"
   },
   {
    "duration": 379,
    "start_time": "2023-07-25T15:55:45.619Z"
   },
   {
    "duration": 47,
    "start_time": "2023-07-27T05:56:37.094Z"
   },
   {
    "duration": 1513,
    "start_time": "2023-07-27T05:56:54.336Z"
   },
   {
    "duration": 75,
    "start_time": "2023-07-27T05:56:59.803Z"
   },
   {
    "duration": 3,
    "start_time": "2023-07-27T05:57:13.386Z"
   },
   {
    "duration": 9,
    "start_time": "2023-07-27T05:57:13.391Z"
   },
   {
    "duration": 7,
    "start_time": "2023-07-27T05:57:13.401Z"
   },
   {
    "duration": 164,
    "start_time": "2023-07-27T05:57:13.410Z"
   },
   {
    "duration": 18,
    "start_time": "2023-07-27T05:57:13.576Z"
   },
   {
    "duration": 6,
    "start_time": "2023-07-27T05:57:13.595Z"
   },
   {
    "duration": 13,
    "start_time": "2023-07-27T05:57:13.602Z"
   },
   {
    "duration": 114,
    "start_time": "2023-07-27T05:57:13.617Z"
   },
   {
    "duration": 8,
    "start_time": "2023-07-27T05:57:13.733Z"
   },
   {
    "duration": 372,
    "start_time": "2023-07-27T05:57:13.743Z"
   },
   {
    "duration": 14,
    "start_time": "2023-07-27T05:57:17.383Z"
   },
   {
    "duration": 23,
    "start_time": "2023-07-27T05:58:12.633Z"
   },
   {
    "duration": 19,
    "start_time": "2023-07-27T05:58:42.343Z"
   },
   {
    "duration": 9,
    "start_time": "2023-07-27T05:59:01.998Z"
   },
   {
    "duration": 9,
    "start_time": "2023-07-27T05:59:11.402Z"
   },
   {
    "duration": 3,
    "start_time": "2023-07-27T06:00:47.347Z"
   },
   {
    "duration": 231,
    "start_time": "2023-07-27T06:00:55.883Z"
   },
   {
    "duration": 256,
    "start_time": "2023-07-27T06:03:15.213Z"
   },
   {
    "duration": 235,
    "start_time": "2023-07-27T06:03:44.211Z"
   },
   {
    "duration": 247,
    "start_time": "2023-07-27T06:07:50.743Z"
   },
   {
    "duration": 204,
    "start_time": "2023-07-27T06:08:15.889Z"
   },
   {
    "duration": 156,
    "start_time": "2023-07-27T06:08:45.521Z"
   },
   {
    "duration": 310,
    "start_time": "2023-07-27T06:09:57.680Z"
   },
   {
    "duration": 280,
    "start_time": "2023-07-27T06:10:12.033Z"
   },
   {
    "duration": 86,
    "start_time": "2023-07-27T06:12:13.882Z"
   },
   {
    "duration": 3019,
    "start_time": "2023-07-27T20:13:49.615Z"
   },
   {
    "duration": 3,
    "start_time": "2023-07-27T20:13:52.636Z"
   },
   {
    "duration": 16,
    "start_time": "2023-07-27T20:13:52.641Z"
   },
   {
    "duration": 96,
    "start_time": "2023-07-27T20:13:52.658Z"
   },
   {
    "duration": 20,
    "start_time": "2023-07-27T20:13:52.757Z"
   },
   {
    "duration": 9,
    "start_time": "2023-07-27T20:13:52.779Z"
   },
   {
    "duration": 14,
    "start_time": "2023-07-27T20:13:52.789Z"
   },
   {
    "duration": 134,
    "start_time": "2023-07-27T20:13:52.808Z"
   },
   {
    "duration": 10,
    "start_time": "2023-07-27T20:13:52.944Z"
   },
   {
    "duration": 422,
    "start_time": "2023-07-27T20:13:52.956Z"
   },
   {
    "duration": 5,
    "start_time": "2023-07-27T20:13:53.379Z"
   },
   {
    "duration": 340,
    "start_time": "2023-07-27T20:13:53.386Z"
   },
   {
    "duration": 191,
    "start_time": "2023-07-27T20:13:53.728Z"
   },
   {
    "duration": 131,
    "start_time": "2023-07-27T20:13:53.922Z"
   },
   {
    "duration": 0,
    "start_time": "2023-07-27T20:13:54.055Z"
   },
   {
    "duration": 0,
    "start_time": "2023-07-27T20:13:54.056Z"
   },
   {
    "duration": 0,
    "start_time": "2023-07-27T20:13:54.057Z"
   },
   {
    "duration": 0,
    "start_time": "2023-07-27T20:13:54.058Z"
   },
   {
    "duration": 0,
    "start_time": "2023-07-27T20:13:54.059Z"
   },
   {
    "duration": 0,
    "start_time": "2023-07-27T20:13:54.060Z"
   },
   {
    "duration": 0,
    "start_time": "2023-07-27T20:13:54.061Z"
   },
   {
    "duration": 0,
    "start_time": "2023-07-27T20:13:54.062Z"
   },
   {
    "duration": 0,
    "start_time": "2023-07-27T20:13:54.063Z"
   },
   {
    "duration": 0,
    "start_time": "2023-07-27T20:13:54.064Z"
   },
   {
    "duration": 0,
    "start_time": "2023-07-27T20:13:54.065Z"
   },
   {
    "duration": 0,
    "start_time": "2023-07-27T20:13:54.066Z"
   },
   {
    "duration": 0,
    "start_time": "2023-07-27T20:13:54.067Z"
   },
   {
    "duration": 0,
    "start_time": "2023-07-27T20:13:54.069Z"
   },
   {
    "duration": 0,
    "start_time": "2023-07-27T20:13:54.070Z"
   },
   {
    "duration": 0,
    "start_time": "2023-07-27T20:13:54.071Z"
   },
   {
    "duration": 0,
    "start_time": "2023-07-27T20:13:54.072Z"
   },
   {
    "duration": 3403,
    "start_time": "2023-07-27T20:15:28.265Z"
   },
   {
    "duration": 3,
    "start_time": "2023-07-27T20:15:31.670Z"
   },
   {
    "duration": 24,
    "start_time": "2023-07-27T20:15:31.675Z"
   },
   {
    "duration": 112,
    "start_time": "2023-07-27T20:15:31.701Z"
   },
   {
    "duration": 20,
    "start_time": "2023-07-27T20:15:31.815Z"
   },
   {
    "duration": 15,
    "start_time": "2023-07-27T20:15:31.836Z"
   },
   {
    "duration": 23,
    "start_time": "2023-07-27T20:15:31.852Z"
   },
   {
    "duration": 122,
    "start_time": "2023-07-27T20:15:31.877Z"
   },
   {
    "duration": 63,
    "start_time": "2023-07-27T20:15:32.001Z"
   },
   {
    "duration": 411,
    "start_time": "2023-07-27T20:15:32.066Z"
   },
   {
    "duration": 5,
    "start_time": "2023-07-27T20:15:32.479Z"
   },
   {
    "duration": 337,
    "start_time": "2023-07-27T20:15:32.485Z"
   },
   {
    "duration": 186,
    "start_time": "2023-07-27T20:15:32.824Z"
   },
   {
    "duration": 15,
    "start_time": "2023-07-27T20:15:33.014Z"
   },
   {
    "duration": 168,
    "start_time": "2023-07-27T20:15:33.031Z"
   },
   {
    "duration": 324,
    "start_time": "2023-07-27T20:15:33.201Z"
   },
   {
    "duration": 171,
    "start_time": "2023-07-27T20:15:33.527Z"
   },
   {
    "duration": 268,
    "start_time": "2023-07-27T20:15:33.700Z"
   },
   {
    "duration": 338,
    "start_time": "2023-07-27T20:15:33.970Z"
   },
   {
    "duration": 4,
    "start_time": "2023-07-27T20:15:34.310Z"
   },
   {
    "duration": 69,
    "start_time": "2023-07-27T20:15:34.317Z"
   },
   {
    "duration": 73,
    "start_time": "2023-07-27T20:15:34.388Z"
   },
   {
    "duration": 40,
    "start_time": "2023-07-27T20:15:34.462Z"
   }
  ],
  "kernelspec": {
   "display_name": "Python 3 (ipykernel)",
   "language": "python",
   "name": "python3"
  },
  "language_info": {
   "codemirror_mode": {
    "name": "ipython",
    "version": 3
   },
   "file_extension": ".py",
   "mimetype": "text/x-python",
   "name": "python",
   "nbconvert_exporter": "python",
   "pygments_lexer": "ipython3",
   "version": "3.9.5"
  },
  "toc": {
   "base_numbering": 1,
   "nav_menu": {},
   "number_sections": true,
   "sideBar": true,
   "skip_h1_title": true,
   "title_cell": "Содержание",
   "title_sidebar": "Contents",
   "toc_cell": true,
   "toc_position": {
    "height": "calc(100% - 180px)",
    "left": "10px",
    "top": "150px",
    "width": "232px"
   },
   "toc_section_display": true,
   "toc_window_display": true
  }
 },
 "nbformat": 4,
 "nbformat_minor": 2
}
