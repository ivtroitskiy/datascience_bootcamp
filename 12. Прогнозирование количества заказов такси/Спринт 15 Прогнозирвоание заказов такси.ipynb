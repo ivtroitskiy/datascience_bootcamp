{
 "cells": [
  {
   "cell_type": "markdown",
   "metadata": {},
   "source": [
    "# Проект \"Прогнозирование заказов такси\"\n",
    "\n",
    "Дата: 25 июля 2023\n",
    "Исполнитель: Троицкий Илья\n",
    "Проект выполнен в рамках курса Datascience Bootcamp"
   ]
  },
  {
   "cell_type": "markdown",
   "metadata": {},
   "source": [
    "### Описание\n",
    "Компания «Чётенькое такси» собрала исторические данные о заказах такси в аэропортах. Чтобы привлекать больше водителей в период пиковой нагрузки, нужно спрогнозировать количество заказов такси на следующий час. Постройте модель для такого предсказания.\n",
    "Значение метрики RMSE на тестовой выборке должно быть не больше 48."
   ]
  },
  {
   "cell_type": "markdown",
   "metadata": {
    "toc": true
   },
   "source": [
    "<h1>Содержание<span class=\"tocSkip\"></span></h1>\n",
    "<div class=\"toc\"><ul class=\"toc-item\"><li><ul class=\"toc-item\"><li><span><a href=\"#Описание\" data-toc-modified-id=\"Описание-0.1\"><span class=\"toc-item-num\">0.1&nbsp;&nbsp;</span>Описание</a></span></li></ul></li><li><span><a href=\"#Подготовка\" data-toc-modified-id=\"Подготовка-1\"><span class=\"toc-item-num\">1&nbsp;&nbsp;</span>Подготовка</a></span></li><li><span><a href=\"#Анализ\" data-toc-modified-id=\"Анализ-2\"><span class=\"toc-item-num\">2&nbsp;&nbsp;</span>Анализ</a></span></li><li><span><a href=\"#Обучение\" data-toc-modified-id=\"Обучение-3\"><span class=\"toc-item-num\">3&nbsp;&nbsp;</span>Обучение</a></span><ul class=\"toc-item\"><li><ul class=\"toc-item\"><li><span><a href=\"#Линейная-регрессия\" data-toc-modified-id=\"Линейная-регрессия-3.0.1\"><span class=\"toc-item-num\">3.0.1&nbsp;&nbsp;</span>Линейная регрессия</a></span></li><li><span><a href=\"#Ridge\" data-toc-modified-id=\"Ridge-3.0.2\"><span class=\"toc-item-num\">3.0.2&nbsp;&nbsp;</span>Ridge</a></span></li><li><span><a href=\"#Catboost\" data-toc-modified-id=\"Catboost-3.0.3\"><span class=\"toc-item-num\">3.0.3&nbsp;&nbsp;</span>Catboost</a></span></li></ul></li></ul></li><li><span><a href=\"#Тестирование\" data-toc-modified-id=\"Тестирование-4\"><span class=\"toc-item-num\">4&nbsp;&nbsp;</span>Тестирование</a></span></li><li><span><a href=\"#Вывод\" data-toc-modified-id=\"Вывод-5\"><span class=\"toc-item-num\">5&nbsp;&nbsp;</span>Вывод</a></span></li><li><span><a href=\"#Чек-лист-проверки\" data-toc-modified-id=\"Чек-лист-проверки-6\"><span class=\"toc-item-num\">6&nbsp;&nbsp;</span>Чек-лист проверки</a></span></li></ul></div>"
   ]
  },
  {
   "cell_type": "markdown",
   "metadata": {},
   "source": [
    "#  Прогнозирование заказов такси"
   ]
  },
  {
   "cell_type": "markdown",
   "metadata": {},
   "source": [
    "Компания «Чётенькое такси» собрала исторические данные о заказах такси в аэропортах. Чтобы привлекать больше водителей в период пиковой нагрузки, нужно спрогнозировать количество заказов такси на следующий час. Постройте модель для такого предсказания.\n",
    "\n",
    "Значение метрики *RMSE* на тестовой выборке должно быть не больше 48.\n",
    "\n",
    "Вам нужно:\n",
    "\n",
    "1. Загрузить данные и выполнить их ресемплирование по одному часу.\n",
    "2. Проанализировать данные.\n",
    "3. Обучить разные модели с различными гиперпараметрами. Сделать тестовую выборку размером 10% от исходных данных.\n",
    "4. Проверить данные на тестовой выборке и сделать выводы.\n",
    "\n",
    "\n",
    "Данные лежат в файле `taxi.csv`. Количество заказов находится в столбце `num_orders` (от англ. *number of orders*, «число заказов»)."
   ]
  },
  {
   "cell_type": "code",
   "execution_count": 1,
   "metadata": {},
   "outputs": [],
   "source": [
    "import pandas as pd\n",
    "import numpy as np\n",
    "import matplotlib\n",
    "import matplotlib.pyplot as plt\n",
    "import seaborn as sns\n",
    "\n",
    "from sklearn.linear_model import LinearRegression, Ridge\n",
    "from catboost import CatBoostRegressor, Pool\n",
    "\n",
    "from sklearn.preprocessing import StandardScaler, OneHotEncoder\n",
    "\n",
    "from sklearn.model_selection import train_test_split, GridSearchCV, cross_val_score\n",
    "\n",
    "from sklearn.compose import ColumnTransformer, make_column_selector\n",
    "from sklearn.pipeline import Pipeline\n",
    "from sklearn.metrics import mean_squared_error, make_scorer"
   ]
  },
  {
   "cell_type": "code",
   "execution_count": 2,
   "metadata": {},
   "outputs": [],
   "source": [
    "#Настройки\n",
    "pd.options.mode.chained_assignment = None\n",
    "matplotlib.rc('figure', figsize=(10, 5))\n",
    "sns.set_palette(\"pastel\")"
   ]
  },
  {
   "cell_type": "code",
   "execution_count": 3,
   "metadata": {},
   "outputs": [],
   "source": [
    "def make_period_features(data):\n",
    "    data['month'] = data.index.month\n",
    "    data['day'] = data.index.day\n",
    "    data['dayofweek'] = data.index.dayofweek\n",
    "    data['hour'] = data.index.hour\n",
    "\n",
    "def make_prev_features(data, max_lag, rolling_mean_size):\n",
    "    for lag in range(1, max_lag + 1):\n",
    "        data['lag_{}'.format(lag)] = data['num_orders'].shift(lag)\n",
    "\n",
    "    data['rolling_mean'] = data['num_orders'].shift(1).rolling(rolling_mean_size).mean()\n",
    "\n",
    "def rmse(target, predictions):\n",
    "    return np.sqrt(mean_squared_error(target, predictions))\n",
    "\n",
    "rmse_scorer = make_scorer(rmse)    "
   ]
  },
  {
   "cell_type": "markdown",
   "metadata": {},
   "source": [
    "## Подготовка"
   ]
  },
  {
   "cell_type": "code",
   "execution_count": 4,
   "metadata": {},
   "outputs": [],
   "source": [
    "try:\n",
    "   data = pd.read_csv('datasets/taxi.csv')\n",
    "except:\n",
    "   data = pd.read_csv('/datasets/taxi.csv')"
   ]
  },
  {
   "cell_type": "code",
   "execution_count": 5,
   "metadata": {},
   "outputs": [
    {
     "name": "stdout",
     "output_type": "stream",
     "text": [
      "<class 'pandas.core.frame.DataFrame'>\n",
      "RangeIndex: 26496 entries, 0 to 26495\n",
      "Data columns (total 2 columns):\n",
      " #   Column      Non-Null Count  Dtype \n",
      "---  ------      --------------  ----- \n",
      " 0   datetime    26496 non-null  object\n",
      " 1   num_orders  26496 non-null  int64 \n",
      "dtypes: int64(1), object(1)\n",
      "memory usage: 414.1+ KB\n"
     ]
    },
    {
     "data": {
      "text/html": [
       "<div>\n",
       "<style scoped>\n",
       "    .dataframe tbody tr th:only-of-type {\n",
       "        vertical-align: middle;\n",
       "    }\n",
       "\n",
       "    .dataframe tbody tr th {\n",
       "        vertical-align: top;\n",
       "    }\n",
       "\n",
       "    .dataframe thead th {\n",
       "        text-align: right;\n",
       "    }\n",
       "</style>\n",
       "<table border=\"1\" class=\"dataframe\">\n",
       "  <thead>\n",
       "    <tr style=\"text-align: right;\">\n",
       "      <th></th>\n",
       "      <th>datetime</th>\n",
       "      <th>num_orders</th>\n",
       "    </tr>\n",
       "  </thead>\n",
       "  <tbody>\n",
       "    <tr>\n",
       "      <th>0</th>\n",
       "      <td>2018-03-01 00:00:00</td>\n",
       "      <td>9</td>\n",
       "    </tr>\n",
       "    <tr>\n",
       "      <th>1</th>\n",
       "      <td>2018-03-01 00:10:00</td>\n",
       "      <td>14</td>\n",
       "    </tr>\n",
       "    <tr>\n",
       "      <th>2</th>\n",
       "      <td>2018-03-01 00:20:00</td>\n",
       "      <td>28</td>\n",
       "    </tr>\n",
       "    <tr>\n",
       "      <th>3</th>\n",
       "      <td>2018-03-01 00:30:00</td>\n",
       "      <td>20</td>\n",
       "    </tr>\n",
       "    <tr>\n",
       "      <th>4</th>\n",
       "      <td>2018-03-01 00:40:00</td>\n",
       "      <td>32</td>\n",
       "    </tr>\n",
       "  </tbody>\n",
       "</table>\n",
       "</div>"
      ],
      "text/plain": [
       "              datetime  num_orders\n",
       "0  2018-03-01 00:00:00           9\n",
       "1  2018-03-01 00:10:00          14\n",
       "2  2018-03-01 00:20:00          28\n",
       "3  2018-03-01 00:30:00          20\n",
       "4  2018-03-01 00:40:00          32"
      ]
     },
     "metadata": {},
     "output_type": "display_data"
    }
   ],
   "source": [
    "data.info()\n",
    "display(data.head())\n"
   ]
  },
  {
   "cell_type": "code",
   "execution_count": 6,
   "metadata": {},
   "outputs": [
    {
     "name": "stdout",
     "output_type": "stream",
     "text": [
      "2018-03-01 00:00:00\n",
      "2018-08-31 23:50:00\n"
     ]
    }
   ],
   "source": [
    "print(data['datetime'].min())\n",
    "print(data['datetime'].max())"
   ]
  },
  {
   "cell_type": "code",
   "execution_count": 7,
   "metadata": {},
   "outputs": [],
   "source": [
    "data['datetime'] = pd.to_datetime(data['datetime'])\n",
    "data = data.set_index('datetime')"
   ]
  },
  {
   "cell_type": "code",
   "execution_count": 8,
   "metadata": {},
   "outputs": [
    {
     "data": {
      "text/plain": [
       "count    26496.000000\n",
       "mean        14.070463\n",
       "std          9.211330\n",
       "min          0.000000\n",
       "25%          8.000000\n",
       "50%         13.000000\n",
       "75%         19.000000\n",
       "max        119.000000\n",
       "Name: num_orders, dtype: float64"
      ]
     },
     "execution_count": 8,
     "metadata": {},
     "output_type": "execute_result"
    },
    {
     "data": {
      "image/png": "[encoded data removed]",
      "text/plain": [
       "<Figure size 720x360 with 1 Axes>"
      ]
     },
     "metadata": {
      "needs_background": "light"
     },
     "output_type": "display_data"
    }
   ],
   "source": [
    "sns.boxplot(x=data['num_orders'])\n",
    "data['num_orders'].describe()"
   ]
  },
  {
   "cell_type": "markdown",
   "metadata": {},
   "source": [
    "Вывод: В датасете содержаться данные за перил с 1 марта 2018 года по 31 августа 2018 года включительно, с периодичностью в 10 минут. В 50% интервалах , количество заказов находится в промежутке 8-19 заказов. Есть выбросы."
   ]
  },
  {
   "cell_type": "markdown",
   "metadata": {},
   "source": [
    "## Анализ"
   ]
  },
  {
   "cell_type": "markdown",
   "metadata": {},
   "source": [
    "Так как будем делать прогнозирование количества заказов на следующий час, то сделаем респемлирование датасета с промежутком 1 час."
   ]
  },
  {
   "cell_type": "code",
   "execution_count": 9,
   "metadata": {},
   "outputs": [
    {
     "name": "stdout",
     "output_type": "stream",
     "text": [
      "(4416, 1)\n"
     ]
    }
   ],
   "source": [
    "data = data.resample('1H').sum()\n",
    "print(data.shape)"
   ]
  },
  {
   "cell_type": "code",
   "execution_count": 10,
   "metadata": {},
   "outputs": [
    {
     "data": {
      "text/plain": [
       "<AxesSubplot:xlabel='datetime'>"
      ]
     },
     "execution_count": 10,
     "metadata": {},
     "output_type": "execute_result"
    },
    {
     "data": {
      "image/png": "[encoded data removed]",
      "text/plain": [
       "<Figure size 720x360 with 1 Axes>"
      ]
     },
     "metadata": {
      "needs_background": "light"
     },
     "output_type": "display_data"
    }
   ],
   "source": [
    "data['mean'] = data['num_orders'].rolling(15).mean()\n",
    "data['std'] = data['num_orders'].rolling(15).std()\n",
    "data.plot() "
   ]
  },
  {
   "cell_type": "markdown",
   "metadata": {},
   "source": [
    "Вывод: Количество заказов со времением растет"
   ]
  },
  {
   "cell_type": "code",
   "execution_count": 11,
   "metadata": {},
   "outputs": [],
   "source": [
    "data = data.drop(['mean', 'std'], axis=1)"
   ]
  },
  {
   "cell_type": "code",
   "execution_count": 12,
   "metadata": {},
   "outputs": [
    {
     "data": {
      "text/html": [
       "<div>\n",
       "<style scoped>\n",
       "    .dataframe tbody tr th:only-of-type {\n",
       "        vertical-align: middle;\n",
       "    }\n",
       "\n",
       "    .dataframe tbody tr th {\n",
       "        vertical-align: top;\n",
       "    }\n",
       "\n",
       "    .dataframe thead th {\n",
       "        text-align: right;\n",
       "    }\n",
       "</style>\n",
       "<table border=\"1\" class=\"dataframe\">\n",
       "  <thead>\n",
       "    <tr style=\"text-align: right;\">\n",
       "      <th></th>\n",
       "      <th>num_orders</th>\n",
       "      <th>month</th>\n",
       "      <th>day</th>\n",
       "      <th>dayofweek</th>\n",
       "      <th>hour</th>\n",
       "    </tr>\n",
       "    <tr>\n",
       "      <th>datetime</th>\n",
       "      <th></th>\n",
       "      <th></th>\n",
       "      <th></th>\n",
       "      <th></th>\n",
       "      <th></th>\n",
       "    </tr>\n",
       "  </thead>\n",
       "  <tbody>\n",
       "    <tr>\n",
       "      <th>2018-03-01 00:00:00</th>\n",
       "      <td>124</td>\n",
       "      <td>3</td>\n",
       "      <td>1</td>\n",
       "      <td>3</td>\n",
       "      <td>0</td>\n",
       "    </tr>\n",
       "    <tr>\n",
       "      <th>2018-03-01 01:00:00</th>\n",
       "      <td>85</td>\n",
       "      <td>3</td>\n",
       "      <td>1</td>\n",
       "      <td>3</td>\n",
       "      <td>1</td>\n",
       "    </tr>\n",
       "    <tr>\n",
       "      <th>2018-03-01 02:00:00</th>\n",
       "      <td>71</td>\n",
       "      <td>3</td>\n",
       "      <td>1</td>\n",
       "      <td>3</td>\n",
       "      <td>2</td>\n",
       "    </tr>\n",
       "    <tr>\n",
       "      <th>2018-03-01 03:00:00</th>\n",
       "      <td>66</td>\n",
       "      <td>3</td>\n",
       "      <td>1</td>\n",
       "      <td>3</td>\n",
       "      <td>3</td>\n",
       "    </tr>\n",
       "    <tr>\n",
       "      <th>2018-03-01 04:00:00</th>\n",
       "      <td>43</td>\n",
       "      <td>3</td>\n",
       "      <td>1</td>\n",
       "      <td>3</td>\n",
       "      <td>4</td>\n",
       "    </tr>\n",
       "  </tbody>\n",
       "</table>\n",
       "</div>"
      ],
      "text/plain": [
       "                     num_orders  month  day  dayofweek  hour\n",
       "datetime                                                    \n",
       "2018-03-01 00:00:00         124      3    1          3     0\n",
       "2018-03-01 01:00:00          85      3    1          3     1\n",
       "2018-03-01 02:00:00          71      3    1          3     2\n",
       "2018-03-01 03:00:00          66      3    1          3     3\n",
       "2018-03-01 04:00:00          43      3    1          3     4"
      ]
     },
     "metadata": {},
     "output_type": "display_data"
    }
   ],
   "source": [
    "make_period_features(data)\n",
    "data = data.dropna()\n",
    "display(data.head())"
   ]
  },
  {
   "cell_type": "code",
   "execution_count": 13,
   "metadata": {},
   "outputs": [
    {
     "data": {
      "image/png": "[encoded data removed]",
      "text/plain": [
       "<Figure size 720x360 with 1 Axes>"
      ]
     },
     "metadata": {
      "needs_background": "light"
     },
     "output_type": "display_data"
    }
   ],
   "source": [
    "temp_data =  data[['month','num_orders']].groupby(by='month').sum()\n",
    "ax = sns.barplot(x=temp_data.index, y=temp_data['num_orders'])\n",
    "ax.set(xlabel='Номер месяца', ylabel='Количество заказов (шт)', title='Заказы по месяцам')\n",
    "plt.show()"
   ]
  },
  {
   "cell_type": "markdown",
   "metadata": {},
   "source": [
    "Наблюдаем тренд на увеличение заказов месяц к месяцу"
   ]
  },
  {
   "cell_type": "code",
   "execution_count": 14,
   "metadata": {},
   "outputs": [
    {
     "data": {
      "image/png": "[encoded data removed]",
      "text/plain": [
       "<Figure size 720x360 with 1 Axes>"
      ]
     },
     "metadata": {
      "needs_background": "light"
     },
     "output_type": "display_data"
    }
   ],
   "source": [
    "temp_data =  data[['day','num_orders']].groupby(by='day').sum()\n",
    "ax = sns.barplot(x=temp_data.index, y=temp_data['num_orders'])\n",
    "ax.set(xlabel='Номер дня', ylabel='Количество заказов (шт)', title='Заказы по дням')\n",
    "plt.show()"
   ]
  },
  {
   "cell_type": "markdown",
   "metadata": {},
   "source": [
    "В разрезе дней, отсутствуют тренды и сезонность. Уменьшение количества заказов 31 числа связано с тем, что 31 число есть только в половине месяцев."
   ]
  },
  {
   "cell_type": "code",
   "execution_count": 15,
   "metadata": {},
   "outputs": [
    {
     "data": {
      "image/png": "[encoded data removed]",
      "text/plain": [
       "<Figure size 720x360 with 1 Axes>"
      ]
     },
     "metadata": {
      "needs_background": "light"
     },
     "output_type": "display_data"
    }
   ],
   "source": [
    "temp_data =  data[['dayofweek','num_orders']].groupby(by='dayofweek').sum()\n",
    "ax = sns.barplot(x=temp_data.index, y=temp_data['num_orders'])\n",
    "ax.set(xlabel='Номер дня недели', ylabel='Количество заказов (шт)', title='Заказы по дням недели')\n",
    "ax.set_xticklabels(['Понедельник','Вторник','Среда','Четверг','Пятница','Суббота','Воскресенье'])\n",
    "plt.show()"
   ]
  },
  {
   "cell_type": "markdown",
   "metadata": {},
   "source": [
    "Слабовыраженный восходящий тренд со вторника по пятницу, и убывающие с пятниы по воскресенье"
   ]
  },
  {
   "cell_type": "code",
   "execution_count": 16,
   "metadata": {},
   "outputs": [
    {
     "data": {
      "image/png": "[encoded data removed]",
      "text/plain": [
       "<Figure size 720x360 with 1 Axes>"
      ]
     },
     "metadata": {
      "needs_background": "light"
     },
     "output_type": "display_data"
    }
   ],
   "source": [
    "temp_data =  data[['hour','num_orders']].groupby(by='hour').sum()\n",
    "ax = sns.barplot(x=temp_data.index, y=temp_data['num_orders'])\n",
    "ax.set(xlabel='Час', ylabel='Количество заказов (шт)', title='Заказы по часам')\n",
    "plt.show()"
   ]
  },
  {
   "cell_type": "markdown",
   "metadata": {},
   "source": [
    "Есть снижающийся тренд после полуночи и растущий после 6 часов утра"
   ]
  },
  {
   "cell_type": "code",
   "execution_count": 17,
   "metadata": {},
   "outputs": [
    {
     "data": {
      "image/png": "[encoded data removed]",
      "text/plain": [
       "<Figure size 1440x720 with 1 Axes>"
      ]
     },
     "metadata": {
      "needs_background": "light"
     },
     "output_type": "display_data"
    }
   ],
   "source": [
    "#data['2018-08-01':'2018-08-04'][['hour','num_orders']].rolling(3).mean().plot()\n",
    "temp_data =  data['2018-08-01':'2018-08-04'][['hour', 'num_orders']].rolling(3).mean()\n",
    "\n",
    "ax = temp_data['num_orders'].plot( figsize=(20,10))\n",
    "ax.set(xlabel='Час', ylabel='Количество заказов (шт)', title='Заказы по часам')\n",
    "plt.show()"
   ]
  },
  {
   "cell_type": "markdown",
   "metadata": {},
   "source": [
    "Наблюдается сезонность с пиков в полночь и дном в районе 6 часов утра."
   ]
  },
  {
   "cell_type": "markdown",
   "metadata": {},
   "source": [
    "Вывод: Анализ данныз показал, что количество заказов месяц к месяцу растет. Каких то треднов в завимисоти от дня месяца нет, есть сезонностьт по дням недели с пиком в пятницу. Так же наблюдается сезонность в распределении по часу в сутках, в полночть максимальное количество заказов, в 6 утра - минимальное."
   ]
  },
  {
   "cell_type": "markdown",
   "metadata": {},
   "source": [
    "## Обучение"
   ]
  },
  {
   "cell_type": "markdown",
   "metadata": {},
   "source": [
    "Так как данные у нас только за несколько месяцев, а зависимости от дня месяца мы не наблюдаем, удалим лишние признаки."
   ]
  },
  {
   "cell_type": "code",
   "execution_count": 18,
   "metadata": {},
   "outputs": [],
   "source": [
    "data = data.drop(['month', 'day'], axis=1) "
   ]
  },
  {
   "cell_type": "code",
   "execution_count": 19,
   "metadata": {},
   "outputs": [],
   "source": [
    "MAX_LAG = 10\n",
    "ROLLING_MEAN_SIZE = 10\n",
    "#make_prev_features(data, MAX_LAG, ROLLING_MEAN_SIZE)\n",
    "#data = data.dropna()"
   ]
  },
  {
   "cell_type": "code",
   "execution_count": 20,
   "metadata": {},
   "outputs": [],
   "source": [
    "def split_data(data):\n",
    "    X = data.drop('num_orders', axis=1)\n",
    "    y = data['num_orders']\n",
    "    return train_test_split(X, y, shuffle=False, test_size=0.1, random_state=31337)"
   ]
  },
  {
   "cell_type": "markdown",
   "metadata": {},
   "source": [
    "#### Линейная регрессия"
   ]
  },
  {
   "cell_type": "code",
   "execution_count": 21,
   "metadata": {},
   "outputs": [],
   "source": [
    " def train_lr_model(data):\n",
    "    x_train, x_test, y_train, y_test = split_data(data)\n",
    "\n",
    "    preprocessor = ColumnTransformer(\n",
    "        transformers=[\n",
    "            ('cat_ohe', OneHotEncoder(), ['dayofweek', 'hour']),\n",
    "            ('num', StandardScaler(), make_column_selector(dtype_include=np.number))\n",
    "        ])\n",
    "    lr_model = Pipeline(steps=[('preprocessor', preprocessor),\n",
    "                            ('regressor' , LinearRegression())])\n",
    "\n",
    "    lr_model.fit(x_train,y_train)\n",
    "\n",
    "    scores = cross_val_score(lr_model, x_train, y_train, cv=5, scoring=rmse_scorer)\n",
    "\n",
    "    return lr_model, scores.mean()"
   ]
  },
  {
   "cell_type": "code",
   "execution_count": 22,
   "metadata": {},
   "outputs": [
    {
     "name": "stdout",
     "output_type": "stream",
     "text": [
      "max lag: 9 rms: 8 score: 24.952305145621274\n",
      "CPU times: user 22.8 s, sys: 16.7 s, total: 39.6 s\n",
      "Wall time: 39.6 s\n"
     ]
    }
   ],
   "source": [
    "%%time\n",
    "\n",
    "best_score = 100\n",
    "best_ml = 1\n",
    "best_rms = 1\n",
    "\n",
    "for ml in range(1,MAX_LAG):\n",
    "    for rms in range(1,ROLLING_MEAN_SIZE):\n",
    "        \n",
    "        current_data = data.copy()\n",
    "        make_prev_features(current_data, ml, rms)\n",
    "        current_data = current_data.dropna()\n",
    "\n",
    "        lr_model, score = train_lr_model(current_data)\n",
    "\n",
    "        if score < best_score:\n",
    "            best_score = score\n",
    "            best_model = lr_model\n",
    "            best_ml = ml\n",
    "            best_rms = rms\n",
    "\n",
    "lr_model = best_model\n",
    "print(f'max lag: {best_ml} rms: {best_rms} score: {best_score}')"
   ]
  },
  {
   "cell_type": "code",
   "execution_count": 23,
   "metadata": {},
   "outputs": [],
   "source": [
    "make_prev_features(data, best_ml, best_rms)\n",
    "data = data.dropna()\n",
    "x_train, x_test, y_train, y_test = split_data(data)\n"
   ]
  },
  {
   "cell_type": "markdown",
   "metadata": {},
   "source": [
    "#### Ridge"
   ]
  },
  {
   "cell_type": "code",
   "execution_count": 24,
   "metadata": {},
   "outputs": [
    {
     "name": "stdout",
     "output_type": "stream",
     "text": [
      "Ridge RMSE: 24.97037568028143\n"
     ]
    }
   ],
   "source": [
    "preprocessor = ColumnTransformer(\n",
    "    transformers=[\n",
    "        ('cat_ohe', OneHotEncoder(), ['dayofweek', 'hour']),\n",
    "        ('num', StandardScaler(), make_column_selector(dtype_include=np.number))\n",
    "    ])\n",
    "ridge_model = Pipeline(steps=[('preprocessor', preprocessor),\n",
    "                        ('regressor' , Ridge())])\n",
    "\n",
    "ridge_model.fit(x_train,y_train)\n",
    "\n",
    "scores = cross_val_score(ridge_model, x_train, y_train, cv=5, scoring=rmse_scorer)\n",
    "\n",
    "print(\"Ridge RMSE:\", scores.mean())"
   ]
  },
  {
   "cell_type": "markdown",
   "metadata": {},
   "source": [
    "#### Catboost"
   ]
  },
  {
   "cell_type": "code",
   "execution_count": 25,
   "metadata": {},
   "outputs": [
    {
     "name": "stdout",
     "output_type": "stream",
     "text": [
      "0:\tlearn: 79.7722873\ttest: 81.6420021\tbest: 81.6420021 (0)\ttotal: 48ms\tremaining: 2.35s\n",
      "1:\tlearn: 73.4676999\ttest: 75.3254527\tbest: 75.3254527 (1)\ttotal: 49.2ms\tremaining: 1.18s\n",
      "2:\tlearn: 67.8595377\ttest: 69.6424975\tbest: 69.6424975 (2)\ttotal: 50.3ms\tremaining: 788ms\n",
      "3:\tlearn: 62.9430712\ttest: 64.5907381\tbest: 64.5907381 (3)\ttotal: 51.5ms\tremaining: 592ms\n",
      "4:\tlearn: 58.5004751\ttest: 60.0693453\tbest: 60.0693453 (4)\ttotal: 52.8ms\tremaining: 475ms\n",
      "5:\tlearn: 54.7700700\ttest: 56.2656678\tbest: 56.2656678 (5)\ttotal: 53.7ms\tremaining: 394ms\n",
      "6:\tlearn: 51.3697901\ttest: 52.8304051\tbest: 52.8304051 (6)\ttotal: 54.6ms\tremaining: 336ms\n",
      "7:\tlearn: 48.3620956\ttest: 49.7768979\tbest: 49.7768979 (7)\ttotal: 55.6ms\tremaining: 292ms\n",
      "8:\tlearn: 45.7713511\ttest: 47.1871726\tbest: 47.1871726 (8)\ttotal: 56.7ms\tremaining: 258ms\n",
      "9:\tlearn: 43.4772301\ttest: 44.8331291\tbest: 44.8331291 (9)\ttotal: 57.6ms\tremaining: 230ms\n",
      "10:\tlearn: 41.6925087\ttest: 42.9694492\tbest: 42.9694492 (10)\ttotal: 58.5ms\tremaining: 207ms\n",
      "11:\tlearn: 40.0416626\ttest: 41.2747007\tbest: 41.2747007 (11)\ttotal: 59.6ms\tremaining: 189ms\n",
      "12:\tlearn: 38.6261870\ttest: 39.8215642\tbest: 39.8215642 (12)\ttotal: 60.9ms\tremaining: 173ms\n",
      "13:\tlearn: 37.4160789\ttest: 38.5081932\tbest: 38.5081932 (13)\ttotal: 61.8ms\tremaining: 159ms\n",
      "14:\tlearn: 36.5429702\ttest: 37.5487086\tbest: 37.5487086 (14)\ttotal: 62.7ms\tremaining: 146ms\n",
      "15:\tlearn: 35.6791418\ttest: 36.6195449\tbest: 36.6195449 (15)\ttotal: 63.6ms\tremaining: 135ms\n",
      "16:\tlearn: 34.9683127\ttest: 35.8775920\tbest: 35.8775920 (16)\ttotal: 64.6ms\tremaining: 125ms\n",
      "17:\tlearn: 34.3495827\ttest: 35.2349731\tbest: 35.2349731 (17)\ttotal: 65.6ms\tremaining: 117ms\n",
      "18:\tlearn: 33.8157828\ttest: 34.6673087\tbest: 34.6673087 (18)\ttotal: 66.6ms\tremaining: 109ms\n",
      "19:\tlearn: 32.8696516\ttest: 33.6498810\tbest: 33.6498810 (19)\ttotal: 67.6ms\tremaining: 101ms\n",
      "20:\tlearn: 32.0643560\ttest: 32.7165148\tbest: 32.7165148 (20)\ttotal: 68.5ms\tremaining: 94.6ms\n",
      "21:\tlearn: 31.2550214\ttest: 31.8577927\tbest: 31.8577927 (21)\ttotal: 69.5ms\tremaining: 88.4ms\n",
      "22:\tlearn: 30.6126385\ttest: 31.1368005\tbest: 31.1368005 (22)\ttotal: 70.5ms\tremaining: 82.7ms\n",
      "23:\tlearn: 30.0324103\ttest: 30.5865643\tbest: 30.5865643 (23)\ttotal: 71.6ms\tremaining: 77.6ms\n",
      "24:\tlearn: 29.4811897\ttest: 29.9626317\tbest: 29.9626317 (24)\ttotal: 72.6ms\tremaining: 72.6ms\n",
      "25:\tlearn: 29.0818132\ttest: 29.4814981\tbest: 29.4814981 (25)\ttotal: 73.7ms\tremaining: 68ms\n",
      "26:\tlearn: 28.6735118\ttest: 29.0285735\tbest: 29.0285735 (26)\ttotal: 75.1ms\tremaining: 64ms\n",
      "27:\tlearn: 28.3645577\ttest: 28.6980955\tbest: 28.6980955 (27)\ttotal: 76.3ms\tremaining: 59.9ms\n",
      "28:\tlearn: 28.0899994\ttest: 28.3542838\tbest: 28.3542838 (28)\ttotal: 77.3ms\tremaining: 55.9ms\n",
      "29:\tlearn: 27.8492476\ttest: 28.0097359\tbest: 28.0097359 (29)\ttotal: 78.3ms\tremaining: 52.2ms\n",
      "30:\tlearn: 27.6370687\ttest: 27.7764201\tbest: 27.7764201 (30)\ttotal: 79.2ms\tremaining: 48.5ms\n",
      "31:\tlearn: 27.4402655\ttest: 27.5691212\tbest: 27.5691212 (31)\ttotal: 80.2ms\tremaining: 45.1ms\n",
      "32:\tlearn: 27.2282478\ttest: 27.2895771\tbest: 27.2895771 (32)\ttotal: 81.1ms\tremaining: 41.8ms\n",
      "33:\tlearn: 27.0856647\ttest: 27.1452225\tbest: 27.1452225 (33)\ttotal: 82.1ms\tremaining: 38.6ms\n",
      "34:\tlearn: 26.8920971\ttest: 26.8827783\tbest: 26.8827783 (34)\ttotal: 83.6ms\tremaining: 35.8ms\n",
      "35:\tlearn: 26.7495882\ttest: 26.6918289\tbest: 26.6918289 (35)\ttotal: 84.6ms\tremaining: 32.9ms\n",
      "36:\tlearn: 26.6677922\ttest: 26.6496012\tbest: 26.6496012 (36)\ttotal: 85.5ms\tremaining: 30.1ms\n",
      "37:\tlearn: 26.5338010\ttest: 26.5073370\tbest: 26.5073370 (37)\ttotal: 86.6ms\tremaining: 27.3ms\n",
      "38:\tlearn: 26.4326823\ttest: 26.3630217\tbest: 26.3630217 (38)\ttotal: 87.5ms\tremaining: 24.7ms\n",
      "39:\tlearn: 26.3121538\ttest: 26.1898080\tbest: 26.1898080 (39)\ttotal: 88.5ms\tremaining: 22.1ms\n",
      "40:\tlearn: 26.2260092\ttest: 26.1070643\tbest: 26.1070643 (40)\ttotal: 89.5ms\tremaining: 19.6ms\n",
      "41:\tlearn: 26.1450541\ttest: 26.0460409\tbest: 26.0460409 (41)\ttotal: 90.5ms\tremaining: 17.2ms\n",
      "42:\tlearn: 26.0592185\ttest: 25.9139420\tbest: 25.9139420 (42)\ttotal: 91.5ms\tremaining: 14.9ms\n",
      "43:\tlearn: 25.9911314\ttest: 25.8059436\tbest: 25.8059436 (43)\ttotal: 92.4ms\tremaining: 12.6ms\n",
      "44:\tlearn: 25.9586438\ttest: 25.7904830\tbest: 25.7904830 (44)\ttotal: 93.3ms\tremaining: 10.4ms\n",
      "45:\tlearn: 25.9286730\ttest: 25.7793655\tbest: 25.7793655 (45)\ttotal: 94.4ms\tremaining: 8.21ms\n",
      "46:\tlearn: 25.8737578\ttest: 25.7622790\tbest: 25.7622790 (46)\ttotal: 95.2ms\tremaining: 6.08ms\n",
      "47:\tlearn: 25.8237671\ttest: 25.7559480\tbest: 25.7559480 (47)\ttotal: 96.1ms\tremaining: 4ms\n",
      "48:\tlearn: 25.7688214\ttest: 25.6917357\tbest: 25.6917357 (48)\ttotal: 97ms\tremaining: 1.98ms\n",
      "49:\tlearn: 25.7453741\ttest: 25.6853015\tbest: 25.6853015 (49)\ttotal: 98ms\tremaining: 0us\n",
      "\n",
      "bestTest = 25.68530147\n",
      "bestIteration = 49\n",
      "\n",
      "0:\tloss: 25.6853015\tbest: 25.6853015 (0)\ttotal: 470ms\tremaining: 5.17s\n",
      "0:\tlearn: 86.2725806\ttest: 88.1068412\tbest: 88.1068412 (0)\ttotal: 1.35ms\tremaining: 66.4ms\n",
      "1:\tlearn: 85.5820953\ttest: 87.4170754\tbest: 87.4170754 (1)\ttotal: 2.4ms\tremaining: 57.6ms\n",
      "2:\tlearn: 84.8801223\ttest: 86.7095049\tbest: 86.7095049 (2)\ttotal: 3.43ms\tremaining: 53.7ms\n",
      "3:\tlearn: 84.2036440\ttest: 86.0335360\tbest: 86.0335360 (3)\ttotal: 4.52ms\tremaining: 52ms\n",
      "4:\tlearn: 83.5048229\ttest: 85.3286134\tbest: 85.3286134 (4)\ttotal: 5.58ms\tremaining: 50.3ms\n",
      "5:\tlearn: 82.8320549\ttest: 84.6485752\tbest: 84.6485752 (5)\ttotal: 6.5ms\tremaining: 47.7ms\n",
      "6:\tlearn: 82.1627521\ttest: 83.9740636\tbest: 83.9740636 (6)\ttotal: 7.42ms\tremaining: 45.6ms\n",
      "7:\tlearn: 81.5067376\ttest: 83.3135930\tbest: 83.3135930 (7)\ttotal: 8.32ms\tremaining: 43.7ms\n",
      "8:\tlearn: 80.8383315\ttest: 82.6387847\tbest: 82.6387847 (8)\ttotal: 9.37ms\tremaining: 42.7ms\n",
      "9:\tlearn: 80.1766481\ttest: 81.9754190\tbest: 81.9754190 (9)\ttotal: 10.3ms\tremaining: 41.3ms\n",
      "10:\tlearn: 79.5377087\ttest: 81.3308121\tbest: 81.3308121 (10)\ttotal: 11.3ms\tremaining: 40.2ms\n",
      "11:\tlearn: 78.8883490\ttest: 80.6823090\tbest: 80.6823090 (11)\ttotal: 12.3ms\tremaining: 39ms\n",
      "12:\tlearn: 78.2817848\ttest: 80.0749193\tbest: 80.0749193 (12)\ttotal: 13.3ms\tremaining: 37.9ms\n",
      "13:\tlearn: 77.6476192\ttest: 79.4351451\tbest: 79.4351451 (13)\ttotal: 14.2ms\tremaining: 36.6ms\n",
      "14:\tlearn: 77.0511859\ttest: 78.8319673\tbest: 78.8319673 (14)\ttotal: 15.2ms\tremaining: 35.4ms\n",
      "15:\tlearn: 76.4294886\ttest: 78.2097925\tbest: 78.2097925 (15)\ttotal: 16.2ms\tremaining: 34.3ms\n",
      "16:\tlearn: 75.8213833\ttest: 77.5941109\tbest: 77.5941109 (16)\ttotal: 17.1ms\tremaining: 33.3ms\n",
      "17:\tlearn: 75.2288213\ttest: 76.9879117\tbest: 76.9879117 (17)\ttotal: 18ms\tremaining: 32.1ms\n",
      "18:\tlearn: 74.6320908\ttest: 76.3849916\tbest: 76.3849916 (18)\ttotal: 19ms\tremaining: 31ms\n",
      "19:\tlearn: 74.0366381\ttest: 75.7905390\tbest: 75.7905390 (19)\ttotal: 20ms\tremaining: 30ms\n",
      "20:\tlearn: 73.4596363\ttest: 75.2137947\tbest: 75.2137947 (20)\ttotal: 21ms\tremaining: 28.9ms\n",
      "21:\tlearn: 72.9079256\ttest: 74.6639086\tbest: 74.6639086 (21)\ttotal: 21.9ms\tremaining: 27.9ms\n",
      "22:\tlearn: 72.3266799\ttest: 74.0830750\tbest: 74.0830750 (22)\ttotal: 22.9ms\tremaining: 26.9ms\n",
      "23:\tlearn: 71.7663509\ttest: 73.5138655\tbest: 73.5138655 (23)\ttotal: 23.9ms\tremaining: 25.9ms\n",
      "24:\tlearn: 71.2062305\ttest: 72.9569547\tbest: 72.9569547 (24)\ttotal: 25ms\tremaining: 25ms\n",
      "25:\tlearn: 70.6574387\ttest: 72.4021195\tbest: 72.4021195 (25)\ttotal: 26ms\tremaining: 24ms\n",
      "26:\tlearn: 70.1463865\ttest: 71.8894665\tbest: 71.8894665 (26)\ttotal: 26.9ms\tremaining: 22.9ms\n",
      "27:\tlearn: 69.6031161\ttest: 71.3446049\tbest: 71.3446049 (27)\ttotal: 27.9ms\tremaining: 21.9ms\n",
      "28:\tlearn: 69.0897445\ttest: 70.8308029\tbest: 70.8308029 (28)\ttotal: 29ms\tremaining: 21ms\n",
      "29:\tlearn: 68.5780856\ttest: 70.3194599\tbest: 70.3194599 (29)\ttotal: 30ms\tremaining: 20ms\n",
      "30:\tlearn: 68.0903612\ttest: 69.8290941\tbest: 69.8290941 (30)\ttotal: 30.9ms\tremaining: 19ms\n",
      "31:\tlearn: 67.5898815\ttest: 69.3165212\tbest: 69.3165212 (31)\ttotal: 31.9ms\tremaining: 17.9ms\n",
      "32:\tlearn: 67.0852340\ttest: 68.8128733\tbest: 68.8128733 (32)\ttotal: 32.8ms\tremaining: 16.9ms\n",
      "33:\tlearn: 66.5784323\ttest: 68.3033394\tbest: 68.3033394 (33)\ttotal: 33.8ms\tremaining: 15.9ms\n",
      "34:\tlearn: 66.0971116\ttest: 67.8085386\tbest: 67.8085386 (34)\ttotal: 34.7ms\tremaining: 14.9ms\n",
      "35:\tlearn: 65.6112398\ttest: 67.3236022\tbest: 67.3236022 (35)\ttotal: 35.6ms\tremaining: 13.9ms\n",
      "36:\tlearn: 65.1325250\ttest: 66.8424298\tbest: 66.8424298 (36)\ttotal: 36.6ms\tremaining: 12.9ms\n",
      "37:\tlearn: 64.6586820\ttest: 66.3617971\tbest: 66.3617971 (37)\ttotal: 37.5ms\tremaining: 11.8ms\n",
      "38:\tlearn: 64.1936231\ttest: 65.8913778\tbest: 65.8913778 (38)\ttotal: 38.5ms\tremaining: 10.9ms\n",
      "39:\tlearn: 63.7454149\ttest: 65.4381300\tbest: 65.4381300 (39)\ttotal: 39.5ms\tremaining: 9.87ms\n",
      "40:\tlearn: 63.2805132\ttest: 64.9660056\tbest: 64.9660056 (40)\ttotal: 40.4ms\tremaining: 8.86ms\n",
      "41:\tlearn: 62.8302830\ttest: 64.5173436\tbest: 64.5173436 (41)\ttotal: 41.3ms\tremaining: 7.87ms\n",
      "42:\tlearn: 62.4091036\ttest: 64.0943781\tbest: 64.0943781 (42)\ttotal: 42.3ms\tremaining: 6.89ms\n",
      "43:\tlearn: 61.9793050\ttest: 63.6558748\tbest: 63.6558748 (43)\ttotal: 43.3ms\tremaining: 5.9ms\n",
      "44:\tlearn: 61.5438411\ttest: 63.2129586\tbest: 63.2129586 (44)\ttotal: 44.2ms\tremaining: 4.91ms\n",
      "45:\tlearn: 61.1130119\ttest: 62.7795504\tbest: 62.7795504 (45)\ttotal: 45.2ms\tremaining: 3.93ms\n",
      "46:\tlearn: 60.6795327\ttest: 62.3447109\tbest: 62.3447109 (46)\ttotal: 46.1ms\tremaining: 2.94ms\n",
      "47:\tlearn: 60.2708214\ttest: 61.9255540\tbest: 61.9255540 (47)\ttotal: 47.1ms\tremaining: 1.96ms\n",
      "48:\tlearn: 59.8590438\ttest: 61.5103159\tbest: 61.5103159 (48)\ttotal: 48.2ms\tremaining: 982us\n",
      "49:\tlearn: 59.4624517\ttest: 61.1092382\tbest: 61.1092382 (49)\ttotal: 49.1ms\tremaining: 0us\n",
      "\n",
      "bestTest = 61.10923819\n",
      "bestIteration = 49\n",
      "\n",
      "1:\tloss: 61.1092382\tbest: 25.6853015 (0)\ttotal: 523ms\tremaining: 2.62s\n",
      "0:\tlearn: 79.7722873\ttest: 81.6420021\tbest: 81.6420021 (0)\ttotal: 1.1ms\tremaining: 109ms\n",
      "1:\tlearn: 73.4676999\ttest: 75.3254527\tbest: 75.3254527 (1)\ttotal: 2.02ms\tremaining: 98.8ms\n",
      "2:\tlearn: 67.8595377\ttest: 69.6424975\tbest: 69.6424975 (2)\ttotal: 3.09ms\tremaining: 99.9ms\n",
      "3:\tlearn: 62.9430712\ttest: 64.5907381\tbest: 64.5907381 (3)\ttotal: 4.27ms\tremaining: 102ms\n",
      "4:\tlearn: 58.5004751\ttest: 60.0693453\tbest: 60.0693453 (4)\ttotal: 5.22ms\tremaining: 99.2ms\n",
      "5:\tlearn: 54.7700700\ttest: 56.2656678\tbest: 56.2656678 (5)\ttotal: 6.2ms\tremaining: 97.1ms\n",
      "6:\tlearn: 51.3697901\ttest: 52.8304051\tbest: 52.8304051 (6)\ttotal: 7.16ms\tremaining: 95.1ms\n",
      "7:\tlearn: 48.3620956\ttest: 49.7768979\tbest: 49.7768979 (7)\ttotal: 8.12ms\tremaining: 93.4ms\n",
      "8:\tlearn: 45.7713511\ttest: 47.1871726\tbest: 47.1871726 (8)\ttotal: 9.06ms\tremaining: 91.6ms\n",
      "9:\tlearn: 43.4772301\ttest: 44.8331291\tbest: 44.8331291 (9)\ttotal: 9.99ms\tremaining: 89.9ms\n",
      "10:\tlearn: 41.6925087\ttest: 42.9694492\tbest: 42.9694492 (10)\ttotal: 11ms\tremaining: 88.8ms\n",
      "11:\tlearn: 40.0416626\ttest: 41.2747007\tbest: 41.2747007 (11)\ttotal: 11.9ms\tremaining: 87.2ms\n",
      "12:\tlearn: 38.6261870\ttest: 39.8215642\tbest: 39.8215642 (12)\ttotal: 12.8ms\tremaining: 85.7ms\n",
      "13:\tlearn: 37.4160789\ttest: 38.5081932\tbest: 38.5081932 (13)\ttotal: 13.7ms\tremaining: 84.2ms\n",
      "14:\tlearn: 36.5429702\ttest: 37.5487086\tbest: 37.5487086 (14)\ttotal: 14.7ms\tremaining: 83.2ms\n",
      "15:\tlearn: 35.6791418\ttest: 36.6195449\tbest: 36.6195449 (15)\ttotal: 15.6ms\tremaining: 82.2ms\n",
      "16:\tlearn: 34.9683127\ttest: 35.8775920\tbest: 35.8775920 (16)\ttotal: 16.6ms\tremaining: 81ms\n",
      "17:\tlearn: 34.3495827\ttest: 35.2349731\tbest: 35.2349731 (17)\ttotal: 17.5ms\tremaining: 79.9ms\n",
      "18:\tlearn: 33.8157828\ttest: 34.6673087\tbest: 34.6673087 (18)\ttotal: 18.6ms\tremaining: 79.1ms\n",
      "19:\tlearn: 32.8696516\ttest: 33.6498810\tbest: 33.6498810 (19)\ttotal: 19.5ms\tremaining: 77.9ms\n",
      "20:\tlearn: 32.0643560\ttest: 32.7165148\tbest: 32.7165148 (20)\ttotal: 20.3ms\tremaining: 76.4ms\n",
      "21:\tlearn: 31.2550214\ttest: 31.8577927\tbest: 31.8577927 (21)\ttotal: 21.2ms\tremaining: 75.1ms\n",
      "22:\tlearn: 30.6126385\ttest: 31.1368005\tbest: 31.1368005 (22)\ttotal: 22.1ms\tremaining: 74.1ms\n",
      "23:\tlearn: 30.0324103\ttest: 30.5865643\tbest: 30.5865643 (23)\ttotal: 23.1ms\tremaining: 73ms\n",
      "24:\tlearn: 29.4811897\ttest: 29.9626317\tbest: 29.9626317 (24)\ttotal: 24ms\tremaining: 71.9ms\n",
      "25:\tlearn: 29.0818132\ttest: 29.4814981\tbest: 29.4814981 (25)\ttotal: 24.9ms\tremaining: 70.8ms\n",
      "26:\tlearn: 28.6735118\ttest: 29.0285735\tbest: 29.0285735 (26)\ttotal: 25.8ms\tremaining: 69.8ms\n",
      "27:\tlearn: 28.3645577\ttest: 28.6980955\tbest: 28.6980955 (27)\ttotal: 26.8ms\tremaining: 68.9ms\n",
      "28:\tlearn: 28.0899994\ttest: 28.3542838\tbest: 28.3542838 (28)\ttotal: 27.8ms\tremaining: 68ms\n",
      "29:\tlearn: 27.8492476\ttest: 28.0097359\tbest: 28.0097359 (29)\ttotal: 28.7ms\tremaining: 67ms\n",
      "30:\tlearn: 27.6370687\ttest: 27.7764201\tbest: 27.7764201 (30)\ttotal: 29.6ms\tremaining: 65.9ms\n",
      "31:\tlearn: 27.4402655\ttest: 27.5691212\tbest: 27.5691212 (31)\ttotal: 30.5ms\tremaining: 64.8ms\n",
      "32:\tlearn: 27.2282478\ttest: 27.2895771\tbest: 27.2895771 (32)\ttotal: 31.5ms\tremaining: 64ms\n",
      "33:\tlearn: 27.0856647\ttest: 27.1452225\tbest: 27.1452225 (33)\ttotal: 32.7ms\tremaining: 63.5ms\n",
      "34:\tlearn: 26.8920971\ttest: 26.8827783\tbest: 26.8827783 (34)\ttotal: 34.1ms\tremaining: 63.3ms\n",
      "35:\tlearn: 26.7495882\ttest: 26.6918289\tbest: 26.6918289 (35)\ttotal: 35ms\tremaining: 62.2ms\n",
      "36:\tlearn: 26.6677922\ttest: 26.6496012\tbest: 26.6496012 (36)\ttotal: 35.9ms\tremaining: 61.1ms\n",
      "37:\tlearn: 26.5338010\ttest: 26.5073370\tbest: 26.5073370 (37)\ttotal: 36.8ms\tremaining: 60ms\n",
      "38:\tlearn: 26.4326823\ttest: 26.3630217\tbest: 26.3630217 (38)\ttotal: 37.8ms\tremaining: 59.1ms\n",
      "39:\tlearn: 26.3121538\ttest: 26.1898080\tbest: 26.1898080 (39)\ttotal: 38.6ms\tremaining: 57.9ms\n",
      "40:\tlearn: 26.2260092\ttest: 26.1070643\tbest: 26.1070643 (40)\ttotal: 39.5ms\tremaining: 56.8ms\n",
      "41:\tlearn: 26.1450541\ttest: 26.0460409\tbest: 26.0460409 (41)\ttotal: 40.4ms\tremaining: 55.8ms\n",
      "42:\tlearn: 26.0592185\ttest: 25.9139420\tbest: 25.9139420 (42)\ttotal: 41.3ms\tremaining: 54.7ms\n",
      "43:\tlearn: 25.9911314\ttest: 25.8059436\tbest: 25.8059436 (43)\ttotal: 42.2ms\tremaining: 53.7ms\n",
      "44:\tlearn: 25.9586438\ttest: 25.7904830\tbest: 25.7904830 (44)\ttotal: 43ms\tremaining: 52.6ms\n",
      "45:\tlearn: 25.9286730\ttest: 25.7793655\tbest: 25.7793655 (45)\ttotal: 43.9ms\tremaining: 51.6ms\n",
      "46:\tlearn: 25.8737578\ttest: 25.7622790\tbest: 25.7622790 (46)\ttotal: 44.8ms\tremaining: 50.6ms\n",
      "47:\tlearn: 25.8237671\ttest: 25.7559480\tbest: 25.7559480 (47)\ttotal: 45.7ms\tremaining: 49.6ms\n",
      "48:\tlearn: 25.7688214\ttest: 25.6917357\tbest: 25.6917357 (48)\ttotal: 46.6ms\tremaining: 48.5ms\n",
      "49:\tlearn: 25.7453741\ttest: 25.6853015\tbest: 25.6853015 (49)\ttotal: 47.5ms\tremaining: 47.5ms\n",
      "50:\tlearn: 25.6848046\ttest: 25.6146384\tbest: 25.6146384 (50)\ttotal: 48.4ms\tremaining: 46.5ms\n",
      "51:\tlearn: 25.6478825\ttest: 25.5824389\tbest: 25.5824389 (51)\ttotal: 49.3ms\tremaining: 45.5ms\n",
      "52:\tlearn: 25.6023097\ttest: 25.5612155\tbest: 25.5612155 (52)\ttotal: 50.1ms\tremaining: 44.4ms\n",
      "53:\tlearn: 25.5689119\ttest: 25.5359922\tbest: 25.5359922 (53)\ttotal: 50.9ms\tremaining: 43.3ms\n",
      "54:\tlearn: 25.5140924\ttest: 25.4667596\tbest: 25.4667596 (54)\ttotal: 51.8ms\tremaining: 42.4ms\n",
      "55:\tlearn: 25.4939182\ttest: 25.4649075\tbest: 25.4649075 (55)\ttotal: 52.7ms\tremaining: 41.4ms\n",
      "56:\tlearn: 25.4607795\ttest: 25.4653613\tbest: 25.4649075 (55)\ttotal: 53.6ms\tremaining: 40.5ms\n",
      "57:\tlearn: 25.4430908\ttest: 25.4636208\tbest: 25.4636208 (57)\ttotal: 54.6ms\tremaining: 39.5ms\n",
      "58:\tlearn: 25.4254172\ttest: 25.4593709\tbest: 25.4593709 (58)\ttotal: 55.6ms\tremaining: 38.6ms\n",
      "59:\tlearn: 25.3875501\ttest: 25.3987673\tbest: 25.3987673 (59)\ttotal: 56.5ms\tremaining: 37.7ms\n",
      "60:\tlearn: 25.3273980\ttest: 25.3249238\tbest: 25.3249238 (60)\ttotal: 57.4ms\tremaining: 36.7ms\n",
      "61:\tlearn: 25.3114524\ttest: 25.3242110\tbest: 25.3242110 (61)\ttotal: 58.3ms\tremaining: 35.7ms\n",
      "62:\tlearn: 25.2568810\ttest: 25.2638483\tbest: 25.2638483 (62)\ttotal: 59.2ms\tremaining: 34.8ms\n",
      "63:\tlearn: 25.2418006\ttest: 25.2639782\tbest: 25.2638483 (62)\ttotal: 60.1ms\tremaining: 33.8ms\n",
      "64:\tlearn: 25.2256041\ttest: 25.2635934\tbest: 25.2635934 (64)\ttotal: 61ms\tremaining: 32.8ms\n",
      "65:\tlearn: 25.1671078\ttest: 25.1690600\tbest: 25.1690600 (65)\ttotal: 61.8ms\tremaining: 31.8ms\n",
      "66:\tlearn: 25.1186166\ttest: 25.0878570\tbest: 25.0878570 (66)\ttotal: 62.7ms\tremaining: 30.9ms\n",
      "67:\tlearn: 25.0904119\ttest: 25.0528746\tbest: 25.0528746 (67)\ttotal: 63.6ms\tremaining: 29.9ms\n",
      "68:\tlearn: 25.0779774\ttest: 25.0549979\tbest: 25.0528746 (67)\ttotal: 64.6ms\tremaining: 29ms\n",
      "69:\tlearn: 25.0413603\ttest: 25.0098599\tbest: 25.0098599 (69)\ttotal: 65.4ms\tremaining: 28ms\n",
      "70:\tlearn: 25.0076956\ttest: 24.9554211\tbest: 24.9554211 (70)\ttotal: 66.2ms\tremaining: 27ms\n",
      "71:\tlearn: 24.9801311\ttest: 24.9402908\tbest: 24.9402908 (71)\ttotal: 68.2ms\tremaining: 26.5ms\n",
      "72:\tlearn: 24.9697351\ttest: 24.9402632\tbest: 24.9402632 (72)\ttotal: 69.1ms\tremaining: 25.5ms\n",
      "73:\tlearn: 24.9600854\ttest: 24.9397823\tbest: 24.9397823 (73)\ttotal: 69.9ms\tremaining: 24.6ms\n",
      "74:\tlearn: 24.9328931\ttest: 24.9018615\tbest: 24.9018615 (74)\ttotal: 70.8ms\tremaining: 23.6ms\n",
      "75:\tlearn: 24.9235732\ttest: 24.9021786\tbest: 24.9018615 (74)\ttotal: 71.7ms\tremaining: 22.6ms\n",
      "76:\tlearn: 24.9148800\ttest: 24.9027865\tbest: 24.9018615 (74)\ttotal: 72.6ms\tremaining: 21.7ms\n",
      "77:\tlearn: 24.8766671\ttest: 24.8693554\tbest: 24.8693554 (77)\ttotal: 73.5ms\tremaining: 20.7ms\n",
      "78:\tlearn: 24.8655884\ttest: 24.8689381\tbest: 24.8689381 (78)\ttotal: 74.4ms\tremaining: 19.8ms\n",
      "79:\tlearn: 24.8365312\ttest: 24.8411005\tbest: 24.8411005 (79)\ttotal: 75.4ms\tremaining: 18.8ms\n",
      "80:\tlearn: 24.8276351\ttest: 24.8335803\tbest: 24.8335803 (80)\ttotal: 76.3ms\tremaining: 17.9ms\n",
      "81:\tlearn: 24.8175053\ttest: 24.8336250\tbest: 24.8335803 (80)\ttotal: 77.1ms\tremaining: 16.9ms\n",
      "82:\tlearn: 24.8077395\ttest: 24.8343819\tbest: 24.8335803 (80)\ttotal: 78ms\tremaining: 16ms\n",
      "83:\tlearn: 24.7985695\ttest: 24.8345737\tbest: 24.8335803 (80)\ttotal: 78.9ms\tremaining: 15ms\n",
      "84:\tlearn: 24.7814415\ttest: 24.7996206\tbest: 24.7996206 (84)\ttotal: 79.8ms\tremaining: 14.1ms\n",
      "85:\tlearn: 24.7576959\ttest: 24.7715800\tbest: 24.7715800 (85)\ttotal: 80.7ms\tremaining: 13.1ms\n",
      "86:\tlearn: 24.7411843\ttest: 24.7572551\tbest: 24.7572551 (86)\ttotal: 81.6ms\tremaining: 12.2ms\n",
      "87:\tlearn: 24.7160957\ttest: 24.7469523\tbest: 24.7469523 (87)\ttotal: 82.6ms\tremaining: 11.3ms\n",
      "88:\tlearn: 24.7077314\ttest: 24.7477166\tbest: 24.7469523 (87)\ttotal: 83.6ms\tremaining: 10.3ms\n",
      "89:\tlearn: 24.6739175\ttest: 24.6942481\tbest: 24.6942481 (89)\ttotal: 84.4ms\tremaining: 9.38ms\n",
      "90:\tlearn: 24.6660462\ttest: 24.6936982\tbest: 24.6936982 (90)\ttotal: 85.3ms\tremaining: 8.44ms\n",
      "91:\tlearn: 24.6583292\ttest: 24.6927848\tbest: 24.6927848 (91)\ttotal: 86.3ms\tremaining: 7.5ms\n",
      "92:\tlearn: 24.6252175\ttest: 24.6688653\tbest: 24.6688653 (92)\ttotal: 87.1ms\tremaining: 6.56ms\n",
      "93:\tlearn: 24.6024704\ttest: 24.6530383\tbest: 24.6530383 (93)\ttotal: 88ms\tremaining: 5.62ms\n",
      "94:\tlearn: 24.5853827\ttest: 24.6456572\tbest: 24.6456572 (94)\ttotal: 89ms\tremaining: 4.68ms\n",
      "95:\tlearn: 24.5670035\ttest: 24.6354457\tbest: 24.6354457 (95)\ttotal: 90ms\tremaining: 3.75ms\n",
      "96:\tlearn: 24.5455782\ttest: 24.6356588\tbest: 24.6354457 (95)\ttotal: 91ms\tremaining: 2.81ms\n",
      "97:\tlearn: 24.5299610\ttest: 24.6184591\tbest: 24.6184591 (97)\ttotal: 92ms\tremaining: 1.88ms\n",
      "98:\tlearn: 24.5037090\ttest: 24.5740006\tbest: 24.5740006 (98)\ttotal: 92.9ms\tremaining: 938us\n",
      "99:\tlearn: 24.4963462\ttest: 24.5732993\tbest: 24.5732993 (99)\ttotal: 94ms\tremaining: 0us\n",
      "\n",
      "bestTest = 24.57329931\n",
      "bestIteration = 99\n",
      "\n",
      "2:\tloss: 24.5732993\tbest: 24.5732993 (2)\ttotal: 624ms\tremaining: 1.87s\n",
      "0:\tlearn: 86.2725806\ttest: 88.1068412\tbest: 88.1068412 (0)\ttotal: 1.19ms\tremaining: 118ms\n",
      "1:\tlearn: 85.5820953\ttest: 87.4170754\tbest: 87.4170754 (1)\ttotal: 2.21ms\tremaining: 108ms\n",
      "2:\tlearn: 84.8801223\ttest: 86.7095049\tbest: 86.7095049 (2)\ttotal: 3.26ms\tremaining: 105ms\n",
      "3:\tlearn: 84.2036440\ttest: 86.0335360\tbest: 86.0335360 (3)\ttotal: 4.34ms\tremaining: 104ms\n",
      "4:\tlearn: 83.5048229\ttest: 85.3286134\tbest: 85.3286134 (4)\ttotal: 5.28ms\tremaining: 100ms\n",
      "5:\tlearn: 82.8320549\ttest: 84.6485752\tbest: 84.6485752 (5)\ttotal: 6.19ms\tremaining: 96.9ms\n",
      "6:\tlearn: 82.1627521\ttest: 83.9740636\tbest: 83.9740636 (6)\ttotal: 7.08ms\tremaining: 94.1ms\n",
      "7:\tlearn: 81.5067376\ttest: 83.3135930\tbest: 83.3135930 (7)\ttotal: 7.95ms\tremaining: 91.4ms\n",
      "8:\tlearn: 80.8383315\ttest: 82.6387847\tbest: 82.6387847 (8)\ttotal: 8.85ms\tremaining: 89.5ms\n",
      "9:\tlearn: 80.1766481\ttest: 81.9754190\tbest: 81.9754190 (9)\ttotal: 9.87ms\tremaining: 88.8ms\n",
      "10:\tlearn: 79.5377087\ttest: 81.3308121\tbest: 81.3308121 (10)\ttotal: 10.7ms\tremaining: 86.8ms\n",
      "11:\tlearn: 78.8883490\ttest: 80.6823090\tbest: 80.6823090 (11)\ttotal: 11.5ms\tremaining: 84.6ms\n",
      "12:\tlearn: 78.2817848\ttest: 80.0749193\tbest: 80.0749193 (12)\ttotal: 12.4ms\tremaining: 83.1ms\n",
      "13:\tlearn: 77.6476192\ttest: 79.4351451\tbest: 79.4351451 (13)\ttotal: 13.3ms\tremaining: 81.8ms\n",
      "14:\tlearn: 77.0511859\ttest: 78.8319673\tbest: 78.8319673 (14)\ttotal: 14.3ms\tremaining: 80.8ms\n",
      "15:\tlearn: 76.4294886\ttest: 78.2097925\tbest: 78.2097925 (15)\ttotal: 15.2ms\tremaining: 80ms\n",
      "16:\tlearn: 75.8213833\ttest: 77.5941109\tbest: 77.5941109 (16)\ttotal: 16.1ms\tremaining: 78.8ms\n",
      "17:\tlearn: 75.2288213\ttest: 76.9879117\tbest: 76.9879117 (17)\ttotal: 17.1ms\tremaining: 77.9ms\n",
      "18:\tlearn: 74.6320908\ttest: 76.3849916\tbest: 76.3849916 (18)\ttotal: 18ms\tremaining: 76.9ms\n",
      "19:\tlearn: 74.0366381\ttest: 75.7905390\tbest: 75.7905390 (19)\ttotal: 18.9ms\tremaining: 75.8ms\n",
      "20:\tlearn: 73.4596363\ttest: 75.2137947\tbest: 75.2137947 (20)\ttotal: 19.9ms\tremaining: 74.7ms\n",
      "21:\tlearn: 72.9079256\ttest: 74.6639086\tbest: 74.6639086 (21)\ttotal: 20.8ms\tremaining: 73.7ms\n",
      "22:\tlearn: 72.3266799\ttest: 74.0830750\tbest: 74.0830750 (22)\ttotal: 21.7ms\tremaining: 72.6ms\n",
      "23:\tlearn: 71.7663509\ttest: 73.5138655\tbest: 73.5138655 (23)\ttotal: 22.6ms\tremaining: 71.5ms\n",
      "24:\tlearn: 71.2062305\ttest: 72.9569547\tbest: 72.9569547 (24)\ttotal: 23.5ms\tremaining: 70.5ms\n",
      "25:\tlearn: 70.6574387\ttest: 72.4021195\tbest: 72.4021195 (25)\ttotal: 24.4ms\tremaining: 69.5ms\n",
      "26:\tlearn: 70.1463865\ttest: 71.8894665\tbest: 71.8894665 (26)\ttotal: 25.4ms\tremaining: 68.6ms\n",
      "27:\tlearn: 69.6031161\ttest: 71.3446049\tbest: 71.3446049 (27)\ttotal: 26.3ms\tremaining: 67.6ms\n",
      "28:\tlearn: 69.0897445\ttest: 70.8308029\tbest: 70.8308029 (28)\ttotal: 27.3ms\tremaining: 66.8ms\n",
      "29:\tlearn: 68.5780856\ttest: 70.3194599\tbest: 70.3194599 (29)\ttotal: 28.3ms\tremaining: 66ms\n",
      "30:\tlearn: 68.0903612\ttest: 69.8290941\tbest: 69.8290941 (30)\ttotal: 29.3ms\tremaining: 65.2ms\n",
      "31:\tlearn: 67.5898815\ttest: 69.3165212\tbest: 69.3165212 (31)\ttotal: 30.2ms\tremaining: 64.2ms\n",
      "32:\tlearn: 67.0852340\ttest: 68.8128733\tbest: 68.8128733 (32)\ttotal: 31.2ms\tremaining: 63.3ms\n",
      "33:\tlearn: 66.5784323\ttest: 68.3033394\tbest: 68.3033394 (33)\ttotal: 32.2ms\tremaining: 62.4ms\n",
      "34:\tlearn: 66.0971116\ttest: 67.8085386\tbest: 67.8085386 (34)\ttotal: 33ms\tremaining: 61.2ms\n",
      "35:\tlearn: 65.6112398\ttest: 67.3236022\tbest: 67.3236022 (35)\ttotal: 33.9ms\tremaining: 60.3ms\n",
      "36:\tlearn: 65.1325250\ttest: 66.8424298\tbest: 66.8424298 (36)\ttotal: 34.9ms\tremaining: 59.4ms\n",
      "37:\tlearn: 64.6586820\ttest: 66.3617971\tbest: 66.3617971 (37)\ttotal: 35.8ms\tremaining: 58.5ms\n",
      "38:\tlearn: 64.1936231\ttest: 65.8913778\tbest: 65.8913778 (38)\ttotal: 36.7ms\tremaining: 57.4ms\n",
      "39:\tlearn: 63.7454149\ttest: 65.4381300\tbest: 65.4381300 (39)\ttotal: 37.6ms\tremaining: 56.4ms\n",
      "40:\tlearn: 63.2805132\ttest: 64.9660056\tbest: 64.9660056 (40)\ttotal: 38.6ms\tremaining: 55.5ms\n",
      "41:\tlearn: 62.8302830\ttest: 64.5173436\tbest: 64.5173436 (41)\ttotal: 39.6ms\tremaining: 54.7ms\n",
      "42:\tlearn: 62.4091036\ttest: 64.0943781\tbest: 64.0943781 (42)\ttotal: 40.6ms\tremaining: 53.8ms\n",
      "43:\tlearn: 61.9793050\ttest: 63.6558748\tbest: 63.6558748 (43)\ttotal: 41.8ms\tremaining: 53.2ms\n",
      "44:\tlearn: 61.5438411\ttest: 63.2129586\tbest: 63.2129586 (44)\ttotal: 42.8ms\tremaining: 52.3ms\n",
      "45:\tlearn: 61.1130119\ttest: 62.7795504\tbest: 62.7795504 (45)\ttotal: 43.8ms\tremaining: 51.4ms\n",
      "46:\tlearn: 60.6795327\ttest: 62.3447109\tbest: 62.3447109 (46)\ttotal: 44.7ms\tremaining: 50.4ms\n",
      "47:\tlearn: 60.2708214\ttest: 61.9255540\tbest: 61.9255540 (47)\ttotal: 45.8ms\tremaining: 49.6ms\n",
      "48:\tlearn: 59.8590438\ttest: 61.5103159\tbest: 61.5103159 (48)\ttotal: 46.7ms\tremaining: 48.7ms\n",
      "49:\tlearn: 59.4624517\ttest: 61.1092382\tbest: 61.1092382 (49)\ttotal: 47.7ms\tremaining: 47.7ms\n",
      "50:\tlearn: 59.0549076\ttest: 60.7027695\tbest: 60.7027695 (50)\ttotal: 48.6ms\tremaining: 46.7ms\n",
      "51:\tlearn: 58.6670990\ttest: 60.3036778\tbest: 60.3036778 (51)\ttotal: 49.6ms\tremaining: 45.8ms\n",
      "52:\tlearn: 58.2601499\ttest: 59.8870235\tbest: 59.8870235 (52)\ttotal: 50.6ms\tremaining: 44.9ms\n",
      "53:\tlearn: 57.8791885\ttest: 59.4925972\tbest: 59.4925972 (53)\ttotal: 51.6ms\tremaining: 43.9ms\n",
      "54:\tlearn: 57.4912224\ttest: 59.0963507\tbest: 59.0963507 (54)\ttotal: 52.5ms\tremaining: 43ms\n",
      "55:\tlearn: 57.1140109\ttest: 58.7170359\tbest: 58.7170359 (55)\ttotal: 53.5ms\tremaining: 42ms\n",
      "56:\tlearn: 56.7351093\ttest: 58.3390926\tbest: 58.3390926 (56)\ttotal: 54.4ms\tremaining: 41.1ms\n",
      "57:\tlearn: 56.3603639\ttest: 57.9659791\tbest: 57.9659791 (57)\ttotal: 55.4ms\tremaining: 40.1ms\n",
      "58:\tlearn: 55.9924858\ttest: 57.5976697\tbest: 57.5976697 (58)\ttotal: 56.3ms\tremaining: 39.1ms\n",
      "59:\tlearn: 55.6345761\ttest: 57.2331739\tbest: 57.2331739 (59)\ttotal: 57.2ms\tremaining: 38.1ms\n",
      "60:\tlearn: 55.2829987\ttest: 56.8788074\tbest: 56.8788074 (60)\ttotal: 58.2ms\tremaining: 37.2ms\n",
      "61:\tlearn: 54.9285456\ttest: 56.5256432\tbest: 56.5256432 (61)\ttotal: 67.2ms\tremaining: 41.2ms\n",
      "62:\tlearn: 54.5852987\ttest: 56.1775433\tbest: 56.1775433 (62)\ttotal: 68.2ms\tremaining: 40.1ms\n",
      "63:\tlearn: 54.2444492\ttest: 55.8330652\tbest: 55.8330652 (63)\ttotal: 69.1ms\tremaining: 38.9ms\n",
      "64:\tlearn: 53.9022277\ttest: 55.4912298\tbest: 55.4912298 (64)\ttotal: 70ms\tremaining: 37.7ms\n",
      "65:\tlearn: 53.5730997\ttest: 55.1542644\tbest: 55.1542644 (65)\ttotal: 71ms\tremaining: 36.6ms\n",
      "66:\tlearn: 53.2543444\ttest: 54.8291302\tbest: 54.8291302 (66)\ttotal: 71.9ms\tremaining: 35.4ms\n",
      "67:\tlearn: 52.9284945\ttest: 54.5027821\tbest: 54.5027821 (67)\ttotal: 72.8ms\tremaining: 34.3ms\n",
      "68:\tlearn: 52.5988558\ttest: 54.1684960\tbest: 54.1684960 (68)\ttotal: 73.8ms\tremaining: 33.2ms\n",
      "69:\tlearn: 52.2745328\ttest: 53.8450879\tbest: 53.8450879 (69)\ttotal: 74.7ms\tremaining: 32ms\n",
      "70:\tlearn: 51.9837068\ttest: 53.5506006\tbest: 53.5506006 (70)\ttotal: 75.6ms\tremaining: 30.9ms\n",
      "71:\tlearn: 51.6953347\ttest: 53.2595605\tbest: 53.2595605 (71)\ttotal: 76.5ms\tremaining: 29.8ms\n",
      "72:\tlearn: 51.3908923\ttest: 52.9506675\tbest: 52.9506675 (72)\ttotal: 77.4ms\tremaining: 28.6ms\n",
      "73:\tlearn: 51.0881281\ttest: 52.6476572\tbest: 52.6476572 (73)\ttotal: 78.4ms\tremaining: 27.5ms\n",
      "74:\tlearn: 50.7837630\ttest: 52.3377198\tbest: 52.3377198 (74)\ttotal: 79.3ms\tremaining: 26.4ms\n",
      "75:\tlearn: 50.4891237\ttest: 52.0361247\tbest: 52.0361247 (75)\ttotal: 80.2ms\tremaining: 25.3ms\n",
      "76:\tlearn: 50.1945939\ttest: 51.7378718\tbest: 51.7378718 (76)\ttotal: 81ms\tremaining: 24.2ms\n",
      "77:\tlearn: 49.9059894\ttest: 51.4465233\tbest: 51.4465233 (77)\ttotal: 82ms\tremaining: 23.1ms\n",
      "78:\tlearn: 49.6252857\ttest: 51.1624611\tbest: 51.1624611 (78)\ttotal: 82.9ms\tremaining: 22ms\n",
      "79:\tlearn: 49.3587612\ttest: 50.8898630\tbest: 50.8898630 (79)\ttotal: 83.7ms\tremaining: 20.9ms\n",
      "80:\tlearn: 49.0856471\ttest: 50.6128101\tbest: 50.6128101 (80)\ttotal: 84.7ms\tremaining: 19.9ms\n",
      "81:\tlearn: 48.8066961\ttest: 50.3274620\tbest: 50.3274620 (81)\ttotal: 85.7ms\tremaining: 18.8ms\n",
      "82:\tlearn: 48.5377372\ttest: 50.0527175\tbest: 50.0527175 (82)\ttotal: 86.6ms\tremaining: 17.7ms\n",
      "83:\tlearn: 48.2763444\ttest: 49.7900527\tbest: 49.7900527 (83)\ttotal: 87.5ms\tremaining: 16.7ms\n",
      "84:\tlearn: 48.0240796\ttest: 49.5270538\tbest: 49.5270538 (84)\ttotal: 88.3ms\tremaining: 15.6ms\n",
      "85:\tlearn: 47.7773985\ttest: 49.2739784\tbest: 49.2739784 (85)\ttotal: 89.2ms\tremaining: 14.5ms\n",
      "86:\tlearn: 47.5351638\ttest: 49.0232666\tbest: 49.0232666 (86)\ttotal: 90.1ms\tremaining: 13.5ms\n",
      "87:\tlearn: 47.2772780\ttest: 48.7640102\tbest: 48.7640102 (87)\ttotal: 90.9ms\tremaining: 12.4ms\n",
      "88:\tlearn: 47.0288221\ttest: 48.5126528\tbest: 48.5126528 (88)\ttotal: 91.7ms\tremaining: 11.3ms\n",
      "89:\tlearn: 46.7864712\ttest: 48.2668643\tbest: 48.2668643 (89)\ttotal: 92.6ms\tremaining: 10.3ms\n",
      "90:\tlearn: 46.5479803\ttest: 48.0253502\tbest: 48.0253502 (90)\ttotal: 93.5ms\tremaining: 9.25ms\n",
      "91:\tlearn: 46.3026919\ttest: 47.7788339\tbest: 47.7788339 (91)\ttotal: 94.3ms\tremaining: 8.2ms\n",
      "92:\tlearn: 46.0663677\ttest: 47.5382433\tbest: 47.5382433 (92)\ttotal: 95.2ms\tremaining: 7.17ms\n",
      "93:\tlearn: 45.8372298\ttest: 47.3044908\tbest: 47.3044908 (93)\ttotal: 96.2ms\tremaining: 6.14ms\n",
      "94:\tlearn: 45.6059221\ttest: 47.0702057\tbest: 47.0702057 (94)\ttotal: 97.3ms\tremaining: 5.12ms\n",
      "95:\tlearn: 45.3940777\ttest: 46.8519873\tbest: 46.8519873 (95)\ttotal: 98.2ms\tremaining: 4.09ms\n",
      "96:\tlearn: 45.1652668\ttest: 46.6157873\tbest: 46.6157873 (96)\ttotal: 99.2ms\tremaining: 3.07ms\n",
      "97:\tlearn: 44.9571441\ttest: 46.3978628\tbest: 46.3978628 (97)\ttotal: 100ms\tremaining: 2.04ms\n",
      "98:\tlearn: 44.7432486\ttest: 46.1792130\tbest: 46.1792130 (98)\ttotal: 101ms\tremaining: 1.02ms\n",
      "99:\tlearn: 44.5434663\ttest: 45.9758031\tbest: 45.9758031 (99)\ttotal: 102ms\tremaining: 0us\n",
      "\n",
      "bestTest = 45.97580306\n",
      "bestIteration = 99\n",
      "\n",
      "3:\tloss: 45.9758031\tbest: 24.5732993 (2)\ttotal: 734ms\tremaining: 1.47s\n",
      "0:\tlearn: 79.7722873\ttest: 81.6420021\tbest: 81.6420021 (0)\ttotal: 1.27ms\tremaining: 189ms\n",
      "1:\tlearn: 73.4676999\ttest: 75.3254527\tbest: 75.3254527 (1)\ttotal: 2.26ms\tremaining: 167ms\n",
      "2:\tlearn: 67.8595377\ttest: 69.6424975\tbest: 69.6424975 (2)\ttotal: 3.38ms\tremaining: 165ms\n",
      "3:\tlearn: 62.9430712\ttest: 64.5907381\tbest: 64.5907381 (3)\ttotal: 4.51ms\tremaining: 165ms\n",
      "4:\tlearn: 58.5004751\ttest: 60.0693453\tbest: 60.0693453 (4)\ttotal: 5.4ms\tremaining: 157ms\n",
      "5:\tlearn: 54.7700700\ttest: 56.2656678\tbest: 56.2656678 (5)\ttotal: 6.26ms\tremaining: 150ms\n",
      "6:\tlearn: 51.3697901\ttest: 52.8304051\tbest: 52.8304051 (6)\ttotal: 7.18ms\tremaining: 147ms\n",
      "7:\tlearn: 48.3620956\ttest: 49.7768979\tbest: 49.7768979 (7)\ttotal: 8.13ms\tremaining: 144ms\n",
      "8:\tlearn: 45.7713511\ttest: 47.1871726\tbest: 47.1871726 (8)\ttotal: 9.01ms\tremaining: 141ms\n",
      "9:\tlearn: 43.4772301\ttest: 44.8331291\tbest: 44.8331291 (9)\ttotal: 9.89ms\tremaining: 138ms\n",
      "10:\tlearn: 41.6925087\ttest: 42.9694492\tbest: 42.9694492 (10)\ttotal: 10.8ms\tremaining: 137ms\n",
      "11:\tlearn: 40.0416626\ttest: 41.2747007\tbest: 41.2747007 (11)\ttotal: 11.8ms\tremaining: 136ms\n",
      "12:\tlearn: 38.6261870\ttest: 39.8215642\tbest: 39.8215642 (12)\ttotal: 12.6ms\tremaining: 133ms\n",
      "13:\tlearn: 37.4160789\ttest: 38.5081932\tbest: 38.5081932 (13)\ttotal: 13.5ms\tremaining: 131ms\n",
      "14:\tlearn: 36.5429702\ttest: 37.5487086\tbest: 37.5487086 (14)\ttotal: 14.4ms\tremaining: 129ms\n",
      "15:\tlearn: 35.6791418\ttest: 36.6195449\tbest: 36.6195449 (15)\ttotal: 15.3ms\tremaining: 129ms\n",
      "16:\tlearn: 34.9683127\ttest: 35.8775920\tbest: 35.8775920 (16)\ttotal: 16.2ms\tremaining: 127ms\n",
      "17:\tlearn: 34.3495827\ttest: 35.2349731\tbest: 35.2349731 (17)\ttotal: 17ms\tremaining: 125ms\n",
      "18:\tlearn: 33.8157828\ttest: 34.6673087\tbest: 34.6673087 (18)\ttotal: 17.9ms\tremaining: 123ms\n",
      "19:\tlearn: 32.8696516\ttest: 33.6498810\tbest: 33.6498810 (19)\ttotal: 18.9ms\tremaining: 123ms\n",
      "20:\tlearn: 32.0643560\ttest: 32.7165148\tbest: 32.7165148 (20)\ttotal: 19.9ms\tremaining: 122ms\n",
      "21:\tlearn: 31.2550214\ttest: 31.8577927\tbest: 31.8577927 (21)\ttotal: 20.8ms\tremaining: 121ms\n",
      "22:\tlearn: 30.6126385\ttest: 31.1368005\tbest: 31.1368005 (22)\ttotal: 21.6ms\tremaining: 119ms\n",
      "23:\tlearn: 30.0324103\ttest: 30.5865643\tbest: 30.5865643 (23)\ttotal: 22.5ms\tremaining: 118ms\n",
      "24:\tlearn: 29.4811897\ttest: 29.9626317\tbest: 29.9626317 (24)\ttotal: 23.4ms\tremaining: 117ms\n",
      "25:\tlearn: 29.0818132\ttest: 29.4814981\tbest: 29.4814981 (25)\ttotal: 24.3ms\tremaining: 116ms\n",
      "26:\tlearn: 28.6735118\ttest: 29.0285735\tbest: 29.0285735 (26)\ttotal: 25.1ms\tremaining: 114ms\n",
      "27:\tlearn: 28.3645577\ttest: 28.6980955\tbest: 28.6980955 (27)\ttotal: 25.9ms\tremaining: 113ms\n",
      "28:\tlearn: 28.0899994\ttest: 28.3542838\tbest: 28.3542838 (28)\ttotal: 26.8ms\tremaining: 112ms\n",
      "29:\tlearn: 27.8492476\ttest: 28.0097359\tbest: 28.0097359 (29)\ttotal: 27.7ms\tremaining: 111ms\n",
      "30:\tlearn: 27.6370687\ttest: 27.7764201\tbest: 27.7764201 (30)\ttotal: 28.5ms\tremaining: 109ms\n",
      "31:\tlearn: 27.4402655\ttest: 27.5691212\tbest: 27.5691212 (31)\ttotal: 29.5ms\tremaining: 109ms\n",
      "32:\tlearn: 27.2282478\ttest: 27.2895771\tbest: 27.2895771 (32)\ttotal: 30.4ms\tremaining: 108ms\n",
      "33:\tlearn: 27.0856647\ttest: 27.1452225\tbest: 27.1452225 (33)\ttotal: 31.3ms\tremaining: 107ms\n",
      "34:\tlearn: 26.8920971\ttest: 26.8827783\tbest: 26.8827783 (34)\ttotal: 32.2ms\tremaining: 106ms\n",
      "35:\tlearn: 26.7495882\ttest: 26.6918289\tbest: 26.6918289 (35)\ttotal: 33.1ms\tremaining: 105ms\n",
      "36:\tlearn: 26.6677922\ttest: 26.6496012\tbest: 26.6496012 (36)\ttotal: 34ms\tremaining: 104ms\n",
      "37:\tlearn: 26.5338010\ttest: 26.5073370\tbest: 26.5073370 (37)\ttotal: 34.9ms\tremaining: 103ms\n",
      "38:\tlearn: 26.4326823\ttest: 26.3630217\tbest: 26.3630217 (38)\ttotal: 35.8ms\tremaining: 102ms\n",
      "39:\tlearn: 26.3121538\ttest: 26.1898080\tbest: 26.1898080 (39)\ttotal: 36.7ms\tremaining: 101ms\n",
      "40:\tlearn: 26.2260092\ttest: 26.1070643\tbest: 26.1070643 (40)\ttotal: 37.7ms\tremaining: 100ms\n",
      "41:\tlearn: 26.1450541\ttest: 26.0460409\tbest: 26.0460409 (41)\ttotal: 38.7ms\tremaining: 99.4ms\n",
      "42:\tlearn: 26.0592185\ttest: 25.9139420\tbest: 25.9139420 (42)\ttotal: 39.6ms\tremaining: 98.5ms\n",
      "43:\tlearn: 25.9911314\ttest: 25.8059436\tbest: 25.8059436 (43)\ttotal: 40.5ms\tremaining: 97.5ms\n",
      "44:\tlearn: 25.9586438\ttest: 25.7904830\tbest: 25.7904830 (44)\ttotal: 41.3ms\tremaining: 96.5ms\n",
      "45:\tlearn: 25.9286730\ttest: 25.7793655\tbest: 25.7793655 (45)\ttotal: 42.3ms\tremaining: 95.7ms\n",
      "46:\tlearn: 25.8737578\ttest: 25.7622790\tbest: 25.7622790 (46)\ttotal: 43.3ms\tremaining: 94.9ms\n",
      "47:\tlearn: 25.8237671\ttest: 25.7559480\tbest: 25.7559480 (47)\ttotal: 44.3ms\tremaining: 94ms\n",
      "48:\tlearn: 25.7688214\ttest: 25.6917357\tbest: 25.6917357 (48)\ttotal: 45.2ms\tremaining: 93.2ms\n",
      "49:\tlearn: 25.7453741\ttest: 25.6853015\tbest: 25.6853015 (49)\ttotal: 46.2ms\tremaining: 92.3ms\n",
      "50:\tlearn: 25.6848046\ttest: 25.6146384\tbest: 25.6146384 (50)\ttotal: 47.1ms\tremaining: 91.4ms\n",
      "51:\tlearn: 25.6478825\ttest: 25.5824389\tbest: 25.5824389 (51)\ttotal: 48ms\tremaining: 90.5ms\n",
      "52:\tlearn: 25.6023097\ttest: 25.5612155\tbest: 25.5612155 (52)\ttotal: 49ms\tremaining: 89.6ms\n",
      "53:\tlearn: 25.5689119\ttest: 25.5359922\tbest: 25.5359922 (53)\ttotal: 49.9ms\tremaining: 88.7ms\n",
      "54:\tlearn: 25.5140924\ttest: 25.4667596\tbest: 25.4667596 (54)\ttotal: 50.9ms\tremaining: 87.8ms\n",
      "55:\tlearn: 25.4939182\ttest: 25.4649075\tbest: 25.4649075 (55)\ttotal: 51.8ms\tremaining: 86.9ms\n",
      "56:\tlearn: 25.4607795\ttest: 25.4653613\tbest: 25.4649075 (55)\ttotal: 52.8ms\tremaining: 86.1ms\n",
      "57:\tlearn: 25.4430908\ttest: 25.4636208\tbest: 25.4636208 (57)\ttotal: 58ms\tremaining: 92ms\n",
      "58:\tlearn: 25.4254172\ttest: 25.4593709\tbest: 25.4593709 (58)\ttotal: 59ms\tremaining: 90.9ms\n",
      "59:\tlearn: 25.3875501\ttest: 25.3987673\tbest: 25.3987673 (59)\ttotal: 59.9ms\tremaining: 89.8ms\n",
      "60:\tlearn: 25.3273980\ttest: 25.3249238\tbest: 25.3249238 (60)\ttotal: 60.9ms\tremaining: 88.9ms\n",
      "61:\tlearn: 25.3114524\ttest: 25.3242110\tbest: 25.3242110 (61)\ttotal: 61.8ms\tremaining: 87.7ms\n",
      "62:\tlearn: 25.2568810\ttest: 25.2638483\tbest: 25.2638483 (62)\ttotal: 62.8ms\tremaining: 86.7ms\n",
      "63:\tlearn: 25.2418006\ttest: 25.2639782\tbest: 25.2638483 (62)\ttotal: 63.8ms\tremaining: 85.7ms\n",
      "64:\tlearn: 25.2256041\ttest: 25.2635934\tbest: 25.2635934 (64)\ttotal: 64.7ms\tremaining: 84.7ms\n",
      "65:\tlearn: 25.1671078\ttest: 25.1690600\tbest: 25.1690600 (65)\ttotal: 65.6ms\tremaining: 83.5ms\n",
      "66:\tlearn: 25.1186166\ttest: 25.0878570\tbest: 25.0878570 (66)\ttotal: 66.5ms\tremaining: 82.4ms\n",
      "67:\tlearn: 25.0904119\ttest: 25.0528746\tbest: 25.0528746 (67)\ttotal: 67.4ms\tremaining: 81.3ms\n",
      "68:\tlearn: 25.0779774\ttest: 25.0549979\tbest: 25.0528746 (67)\ttotal: 68.4ms\tremaining: 80.3ms\n",
      "69:\tlearn: 25.0413603\ttest: 25.0098599\tbest: 25.0098599 (69)\ttotal: 69.4ms\tremaining: 79.3ms\n",
      "70:\tlearn: 25.0076956\ttest: 24.9554211\tbest: 24.9554211 (70)\ttotal: 70.2ms\tremaining: 78.2ms\n",
      "71:\tlearn: 24.9801311\ttest: 24.9402908\tbest: 24.9402908 (71)\ttotal: 71.2ms\tremaining: 77.1ms\n",
      "72:\tlearn: 24.9697351\ttest: 24.9402632\tbest: 24.9402632 (72)\ttotal: 72.1ms\tremaining: 76.1ms\n",
      "73:\tlearn: 24.9600854\ttest: 24.9397823\tbest: 24.9397823 (73)\ttotal: 73.1ms\tremaining: 75ms\n",
      "74:\tlearn: 24.9328931\ttest: 24.9018615\tbest: 24.9018615 (74)\ttotal: 74ms\tremaining: 74ms\n",
      "75:\tlearn: 24.9235732\ttest: 24.9021786\tbest: 24.9018615 (74)\ttotal: 74.9ms\tremaining: 72.9ms\n",
      "76:\tlearn: 24.9148800\ttest: 24.9027865\tbest: 24.9018615 (74)\ttotal: 75.8ms\tremaining: 71.9ms\n",
      "77:\tlearn: 24.8766671\ttest: 24.8693554\tbest: 24.8693554 (77)\ttotal: 76.8ms\tremaining: 70.9ms\n",
      "78:\tlearn: 24.8655884\ttest: 24.8689381\tbest: 24.8689381 (78)\ttotal: 77.7ms\tremaining: 69.8ms\n",
      "79:\tlearn: 24.8365312\ttest: 24.8411005\tbest: 24.8411005 (79)\ttotal: 78.6ms\tremaining: 68.8ms\n",
      "80:\tlearn: 24.8276351\ttest: 24.8335803\tbest: 24.8335803 (80)\ttotal: 79.6ms\tremaining: 67.8ms\n",
      "81:\tlearn: 24.8175053\ttest: 24.8336250\tbest: 24.8335803 (80)\ttotal: 80.6ms\tremaining: 66.8ms\n",
      "82:\tlearn: 24.8077395\ttest: 24.8343819\tbest: 24.8335803 (80)\ttotal: 81.4ms\tremaining: 65.7ms\n",
      "83:\tlearn: 24.7985695\ttest: 24.8345737\tbest: 24.8335803 (80)\ttotal: 82.3ms\tremaining: 64.6ms\n",
      "84:\tlearn: 24.7814415\ttest: 24.7996206\tbest: 24.7996206 (84)\ttotal: 83.2ms\tremaining: 63.6ms\n",
      "85:\tlearn: 24.7576959\ttest: 24.7715800\tbest: 24.7715800 (85)\ttotal: 84.2ms\tremaining: 62.6ms\n",
      "86:\tlearn: 24.7411843\ttest: 24.7572551\tbest: 24.7572551 (86)\ttotal: 85ms\tremaining: 61.6ms\n",
      "87:\tlearn: 24.7160957\ttest: 24.7469523\tbest: 24.7469523 (87)\ttotal: 85.9ms\tremaining: 60.5ms\n",
      "88:\tlearn: 24.7077314\ttest: 24.7477166\tbest: 24.7469523 (87)\ttotal: 86.8ms\tremaining: 59.5ms\n",
      "89:\tlearn: 24.6739175\ttest: 24.6942481\tbest: 24.6942481 (89)\ttotal: 87.7ms\tremaining: 58.5ms\n",
      "90:\tlearn: 24.6660462\ttest: 24.6936982\tbest: 24.6936982 (90)\ttotal: 88.5ms\tremaining: 57.4ms\n",
      "91:\tlearn: 24.6583292\ttest: 24.6927848\tbest: 24.6927848 (91)\ttotal: 89.4ms\tremaining: 56.3ms\n",
      "92:\tlearn: 24.6252175\ttest: 24.6688653\tbest: 24.6688653 (92)\ttotal: 90.2ms\tremaining: 55.3ms\n",
      "93:\tlearn: 24.6024704\ttest: 24.6530383\tbest: 24.6530383 (93)\ttotal: 91.1ms\tremaining: 54.3ms\n",
      "94:\tlearn: 24.5853827\ttest: 24.6456572\tbest: 24.6456572 (94)\ttotal: 91.9ms\tremaining: 53.2ms\n",
      "95:\tlearn: 24.5670035\ttest: 24.6354457\tbest: 24.6354457 (95)\ttotal: 92.7ms\tremaining: 52.1ms\n",
      "96:\tlearn: 24.5455782\ttest: 24.6356588\tbest: 24.6354457 (95)\ttotal: 93.5ms\tremaining: 51.1ms\n",
      "97:\tlearn: 24.5299610\ttest: 24.6184591\tbest: 24.6184591 (97)\ttotal: 94.4ms\tremaining: 50.1ms\n",
      "98:\tlearn: 24.5037090\ttest: 24.5740006\tbest: 24.5740006 (98)\ttotal: 95.3ms\tremaining: 49.1ms\n",
      "99:\tlearn: 24.4963462\ttest: 24.5732993\tbest: 24.5732993 (99)\ttotal: 96.1ms\tremaining: 48.1ms\n",
      "100:\tlearn: 24.4795474\ttest: 24.5573863\tbest: 24.5573863 (100)\ttotal: 97ms\tremaining: 47ms\n",
      "101:\tlearn: 24.4727726\ttest: 24.5575165\tbest: 24.5573863 (100)\ttotal: 97.9ms\tremaining: 46.1ms\n",
      "102:\tlearn: 24.4547408\ttest: 24.5477135\tbest: 24.5477135 (102)\ttotal: 98.8ms\tremaining: 45.1ms\n",
      "103:\tlearn: 24.4381802\ttest: 24.5169312\tbest: 24.5169312 (103)\ttotal: 99.6ms\tremaining: 44.1ms\n",
      "104:\tlearn: 24.4195419\ttest: 24.5125699\tbest: 24.5125699 (104)\ttotal: 100ms\tremaining: 43ms\n",
      "105:\tlearn: 24.4131024\ttest: 24.5134477\tbest: 24.5125699 (104)\ttotal: 101ms\tremaining: 42.1ms\n",
      "106:\tlearn: 24.3908928\ttest: 24.4998964\tbest: 24.4998964 (106)\ttotal: 102ms\tremaining: 41.1ms\n",
      "107:\tlearn: 24.3707474\ttest: 24.4837213\tbest: 24.4837213 (107)\ttotal: 103ms\tremaining: 40.1ms\n",
      "108:\tlearn: 24.3532524\ttest: 24.4587115\tbest: 24.4587115 (108)\ttotal: 104ms\tremaining: 39.2ms\n",
      "109:\tlearn: 24.3473340\ttest: 24.4588868\tbest: 24.4587115 (108)\ttotal: 105ms\tremaining: 38.2ms\n",
      "110:\tlearn: 24.3196663\ttest: 24.4278699\tbest: 24.4278699 (110)\ttotal: 106ms\tremaining: 37.3ms\n",
      "111:\tlearn: 24.3023683\ttest: 24.4045665\tbest: 24.4045665 (111)\ttotal: 107ms\tremaining: 36.3ms\n",
      "112:\tlearn: 24.2963919\ttest: 24.4059357\tbest: 24.4045665 (111)\ttotal: 108ms\tremaining: 35.3ms\n",
      "113:\tlearn: 24.2909669\ttest: 24.4067449\tbest: 24.4045665 (111)\ttotal: 109ms\tremaining: 34.4ms\n",
      "114:\tlearn: 24.2658123\ttest: 24.3896911\tbest: 24.3896911 (114)\ttotal: 110ms\tremaining: 33.4ms\n",
      "115:\tlearn: 24.2527749\ttest: 24.3795678\tbest: 24.3795678 (115)\ttotal: 111ms\tremaining: 32.4ms\n",
      "116:\tlearn: 24.2280987\ttest: 24.3651496\tbest: 24.3651496 (116)\ttotal: 111ms\tremaining: 31.4ms\n",
      "117:\tlearn: 24.2229258\ttest: 24.3659504\tbest: 24.3651496 (116)\ttotal: 112ms\tremaining: 30.5ms\n",
      "118:\tlearn: 24.2137231\ttest: 24.3662104\tbest: 24.3651496 (116)\ttotal: 113ms\tremaining: 29.5ms\n",
      "119:\tlearn: 24.2009427\ttest: 24.3558426\tbest: 24.3558426 (119)\ttotal: 114ms\tremaining: 28.6ms\n",
      "120:\tlearn: 24.1891385\ttest: 24.3544289\tbest: 24.3544289 (120)\ttotal: 115ms\tremaining: 27.6ms\n",
      "121:\tlearn: 24.1841922\ttest: 24.3552116\tbest: 24.3544289 (120)\ttotal: 116ms\tremaining: 26.7ms\n",
      "122:\tlearn: 24.1687997\ttest: 24.3458202\tbest: 24.3458202 (122)\ttotal: 117ms\tremaining: 25.7ms\n",
      "123:\tlearn: 24.1582223\ttest: 24.3490633\tbest: 24.3458202 (122)\ttotal: 118ms\tremaining: 24.8ms\n",
      "124:\tlearn: 24.1535524\ttest: 24.3496745\tbest: 24.3458202 (122)\ttotal: 119ms\tremaining: 23.8ms\n",
      "125:\tlearn: 24.1345914\ttest: 24.3405087\tbest: 24.3405087 (125)\ttotal: 120ms\tremaining: 22.8ms\n",
      "126:\tlearn: 24.1197112\ttest: 24.3305363\tbest: 24.3305363 (126)\ttotal: 121ms\tremaining: 21.9ms\n",
      "127:\tlearn: 24.1139108\ttest: 24.3319987\tbest: 24.3305363 (126)\ttotal: 122ms\tremaining: 20.9ms\n",
      "128:\tlearn: 24.1094592\ttest: 24.3327273\tbest: 24.3305363 (126)\ttotal: 123ms\tremaining: 20ms\n",
      "129:\tlearn: 24.1031120\ttest: 24.3300447\tbest: 24.3300447 (129)\ttotal: 124ms\tremaining: 19ms\n",
      "130:\tlearn: 24.0988725\ttest: 24.3302231\tbest: 24.3300447 (129)\ttotal: 125ms\tremaining: 18.1ms\n",
      "131:\tlearn: 24.0889587\ttest: 24.3282602\tbest: 24.3282602 (131)\ttotal: 126ms\tremaining: 17.1ms\n",
      "132:\tlearn: 24.0865241\ttest: 24.3283373\tbest: 24.3282602 (131)\ttotal: 126ms\tremaining: 16.2ms\n",
      "133:\tlearn: 24.0685439\ttest: 24.3083419\tbest: 24.3083419 (133)\ttotal: 127ms\tremaining: 15.2ms\n",
      "134:\tlearn: 24.0596903\ttest: 24.3084639\tbest: 24.3083419 (133)\ttotal: 128ms\tremaining: 14.3ms\n",
      "135:\tlearn: 24.0497707\ttest: 24.2839803\tbest: 24.2839803 (135)\ttotal: 129ms\tremaining: 13.3ms\n",
      "136:\tlearn: 24.0411424\ttest: 24.2830492\tbest: 24.2830492 (136)\ttotal: 130ms\tremaining: 12.4ms\n",
      "137:\tlearn: 24.0353646\ttest: 24.2728194\tbest: 24.2728194 (137)\ttotal: 131ms\tremaining: 11.4ms\n",
      "138:\tlearn: 24.0313267\ttest: 24.2737310\tbest: 24.2728194 (137)\ttotal: 132ms\tremaining: 10.4ms\n",
      "139:\tlearn: 24.0095596\ttest: 24.2357983\tbest: 24.2357983 (139)\ttotal: 133ms\tremaining: 9.49ms\n",
      "140:\tlearn: 23.9986560\ttest: 24.2335536\tbest: 24.2335536 (140)\ttotal: 134ms\tremaining: 8.53ms\n",
      "141:\tlearn: 23.9883154\ttest: 24.2259064\tbest: 24.2259064 (141)\ttotal: 135ms\tremaining: 7.58ms\n",
      "142:\tlearn: 23.9795124\ttest: 24.2289322\tbest: 24.2259064 (141)\ttotal: 136ms\tremaining: 6.63ms\n",
      "143:\tlearn: 23.9765730\ttest: 24.2212440\tbest: 24.2212440 (143)\ttotal: 137ms\tremaining: 5.69ms\n",
      "144:\tlearn: 23.9717209\ttest: 24.2130069\tbest: 24.2130069 (144)\ttotal: 137ms\tremaining: 4.74ms\n",
      "145:\tlearn: 23.9535759\ttest: 24.2024301\tbest: 24.2024301 (145)\ttotal: 138ms\tremaining: 3.79ms\n",
      "146:\tlearn: 23.9417657\ttest: 24.1808713\tbest: 24.1808713 (146)\ttotal: 139ms\tremaining: 2.84ms\n",
      "147:\tlearn: 23.9334898\ttest: 24.1783331\tbest: 24.1783331 (147)\ttotal: 140ms\tremaining: 1.9ms\n",
      "148:\tlearn: 23.9235569\ttest: 24.1832890\tbest: 24.1783331 (147)\ttotal: 141ms\tremaining: 948us\n",
      "149:\tlearn: 23.9080302\ttest: 24.1774002\tbest: 24.1774002 (149)\ttotal: 142ms\tremaining: 0us\n",
      "\n",
      "bestTest = 24.1774002\n",
      "bestIteration = 149\n",
      "\n",
      "4:\tloss: 24.1774002\tbest: 24.1774002 (4)\ttotal: 885ms\tremaining: 1.24s\n",
      "0:\tlearn: 86.2725806\ttest: 88.1068412\tbest: 88.1068412 (0)\ttotal: 1.16ms\tremaining: 173ms\n",
      "1:\tlearn: 85.5820953\ttest: 87.4170754\tbest: 87.4170754 (1)\ttotal: 2.1ms\tremaining: 155ms\n",
      "2:\tlearn: 84.8801223\ttest: 86.7095049\tbest: 86.7095049 (2)\ttotal: 3.18ms\tremaining: 156ms\n",
      "3:\tlearn: 84.2036440\ttest: 86.0335360\tbest: 86.0335360 (3)\ttotal: 4.17ms\tremaining: 152ms\n",
      "4:\tlearn: 83.5048229\ttest: 85.3286134\tbest: 85.3286134 (4)\ttotal: 5.05ms\tremaining: 147ms\n",
      "5:\tlearn: 82.8320549\ttest: 84.6485752\tbest: 84.6485752 (5)\ttotal: 6ms\tremaining: 144ms\n",
      "6:\tlearn: 82.1627521\ttest: 83.9740636\tbest: 83.9740636 (6)\ttotal: 6.96ms\tremaining: 142ms\n",
      "7:\tlearn: 81.5067376\ttest: 83.3135930\tbest: 83.3135930 (7)\ttotal: 7.92ms\tremaining: 141ms\n",
      "8:\tlearn: 80.8383315\ttest: 82.6387847\tbest: 82.6387847 (8)\ttotal: 8.88ms\tremaining: 139ms\n",
      "9:\tlearn: 80.1766481\ttest: 81.9754190\tbest: 81.9754190 (9)\ttotal: 9.87ms\tremaining: 138ms\n",
      "10:\tlearn: 79.5377087\ttest: 81.3308121\tbest: 81.3308121 (10)\ttotal: 10.8ms\tremaining: 137ms\n",
      "11:\tlearn: 78.8883490\ttest: 80.6823090\tbest: 80.6823090 (11)\ttotal: 11.7ms\tremaining: 135ms\n",
      "12:\tlearn: 78.2817848\ttest: 80.0749193\tbest: 80.0749193 (12)\ttotal: 12.7ms\tremaining: 134ms\n",
      "13:\tlearn: 77.6476192\ttest: 79.4351451\tbest: 79.4351451 (13)\ttotal: 13.7ms\tremaining: 133ms\n",
      "14:\tlearn: 77.0511859\ttest: 78.8319673\tbest: 78.8319673 (14)\ttotal: 14.6ms\tremaining: 132ms\n",
      "15:\tlearn: 76.4294886\ttest: 78.2097925\tbest: 78.2097925 (15)\ttotal: 15.6ms\tremaining: 130ms\n",
      "16:\tlearn: 75.8213833\ttest: 77.5941109\tbest: 77.5941109 (16)\ttotal: 16.6ms\tremaining: 130ms\n",
      "17:\tlearn: 75.2288213\ttest: 76.9879117\tbest: 76.9879117 (17)\ttotal: 17.5ms\tremaining: 128ms\n",
      "18:\tlearn: 74.6320908\ttest: 76.3849916\tbest: 76.3849916 (18)\ttotal: 18.5ms\tremaining: 127ms\n",
      "19:\tlearn: 74.0366381\ttest: 75.7905390\tbest: 75.7905390 (19)\ttotal: 19.3ms\tremaining: 126ms\n",
      "20:\tlearn: 73.4596363\ttest: 75.2137947\tbest: 75.2137947 (20)\ttotal: 20.3ms\tremaining: 125ms\n",
      "21:\tlearn: 72.9079256\ttest: 74.6639086\tbest: 74.6639086 (21)\ttotal: 21.2ms\tremaining: 124ms\n",
      "22:\tlearn: 72.3266799\ttest: 74.0830750\tbest: 74.0830750 (22)\ttotal: 22.2ms\tremaining: 123ms\n",
      "23:\tlearn: 71.7663509\ttest: 73.5138655\tbest: 73.5138655 (23)\ttotal: 23.1ms\tremaining: 121ms\n",
      "24:\tlearn: 71.2062305\ttest: 72.9569547\tbest: 72.9569547 (24)\ttotal: 24ms\tremaining: 120ms\n",
      "25:\tlearn: 70.6574387\ttest: 72.4021195\tbest: 72.4021195 (25)\ttotal: 25ms\tremaining: 119ms\n",
      "26:\tlearn: 70.1463865\ttest: 71.8894665\tbest: 71.8894665 (26)\ttotal: 26ms\tremaining: 119ms\n",
      "27:\tlearn: 69.6031161\ttest: 71.3446049\tbest: 71.3446049 (27)\ttotal: 27.2ms\tremaining: 118ms\n",
      "28:\tlearn: 69.0897445\ttest: 70.8308029\tbest: 70.8308029 (28)\ttotal: 28.1ms\tremaining: 117ms\n",
      "29:\tlearn: 68.5780856\ttest: 70.3194599\tbest: 70.3194599 (29)\ttotal: 29.1ms\tremaining: 116ms\n",
      "30:\tlearn: 68.0903612\ttest: 69.8290941\tbest: 69.8290941 (30)\ttotal: 30.1ms\tremaining: 115ms\n",
      "31:\tlearn: 67.5898815\ttest: 69.3165212\tbest: 69.3165212 (31)\ttotal: 31ms\tremaining: 114ms\n",
      "32:\tlearn: 67.0852340\ttest: 68.8128733\tbest: 68.8128733 (32)\ttotal: 31.9ms\tremaining: 113ms\n",
      "33:\tlearn: 66.5784323\ttest: 68.3033394\tbest: 68.3033394 (33)\ttotal: 32.8ms\tremaining: 112ms\n",
      "34:\tlearn: 66.0971116\ttest: 67.8085386\tbest: 67.8085386 (34)\ttotal: 33.8ms\tremaining: 111ms\n",
      "35:\tlearn: 65.6112398\ttest: 67.3236022\tbest: 67.3236022 (35)\ttotal: 34.7ms\tremaining: 110ms\n",
      "36:\tlearn: 65.1325250\ttest: 66.8424298\tbest: 66.8424298 (36)\ttotal: 35.5ms\tremaining: 108ms\n",
      "37:\tlearn: 64.6586820\ttest: 66.3617971\tbest: 66.3617971 (37)\ttotal: 36.5ms\tremaining: 108ms\n",
      "38:\tlearn: 64.1936231\ttest: 65.8913778\tbest: 65.8913778 (38)\ttotal: 37.5ms\tremaining: 107ms\n",
      "39:\tlearn: 63.7454149\ttest: 65.4381300\tbest: 65.4381300 (39)\ttotal: 38.4ms\tremaining: 106ms\n",
      "40:\tlearn: 63.2805132\ttest: 64.9660056\tbest: 64.9660056 (40)\ttotal: 39.3ms\tremaining: 105ms\n",
      "41:\tlearn: 62.8302830\ttest: 64.5173436\tbest: 64.5173436 (41)\ttotal: 40.3ms\tremaining: 104ms\n",
      "42:\tlearn: 62.4091036\ttest: 64.0943781\tbest: 64.0943781 (42)\ttotal: 41.4ms\tremaining: 103ms\n",
      "43:\tlearn: 61.9793050\ttest: 63.6558748\tbest: 63.6558748 (43)\ttotal: 42.3ms\tremaining: 102ms\n",
      "44:\tlearn: 61.5438411\ttest: 63.2129586\tbest: 63.2129586 (44)\ttotal: 43ms\tremaining: 100ms\n",
      "45:\tlearn: 61.1130119\ttest: 62.7795504\tbest: 62.7795504 (45)\ttotal: 43.9ms\tremaining: 99.3ms\n",
      "46:\tlearn: 60.6795327\ttest: 62.3447109\tbest: 62.3447109 (46)\ttotal: 44.9ms\tremaining: 98.4ms\n",
      "47:\tlearn: 60.2708214\ttest: 61.9255540\tbest: 61.9255540 (47)\ttotal: 45.7ms\tremaining: 97.2ms\n",
      "48:\tlearn: 59.8590438\ttest: 61.5103159\tbest: 61.5103159 (48)\ttotal: 46.6ms\tremaining: 96ms\n",
      "49:\tlearn: 59.4624517\ttest: 61.1092382\tbest: 61.1092382 (49)\ttotal: 47.4ms\tremaining: 94.9ms\n",
      "50:\tlearn: 59.0549076\ttest: 60.7027695\tbest: 60.7027695 (50)\ttotal: 48.7ms\tremaining: 94.5ms\n",
      "51:\tlearn: 58.6670990\ttest: 60.3036778\tbest: 60.3036778 (51)\ttotal: 49.7ms\tremaining: 93.8ms\n",
      "52:\tlearn: 58.2601499\ttest: 59.8870235\tbest: 59.8870235 (52)\ttotal: 50.7ms\tremaining: 92.7ms\n",
      "53:\tlearn: 57.8791885\ttest: 59.4925972\tbest: 59.4925972 (53)\ttotal: 51.7ms\tremaining: 91.8ms\n",
      "54:\tlearn: 57.4912224\ttest: 59.0963507\tbest: 59.0963507 (54)\ttotal: 52.6ms\tremaining: 90.8ms\n",
      "55:\tlearn: 57.1140109\ttest: 58.7170359\tbest: 58.7170359 (55)\ttotal: 53.4ms\tremaining: 89.6ms\n",
      "56:\tlearn: 56.7351093\ttest: 58.3390926\tbest: 58.3390926 (56)\ttotal: 54.4ms\tremaining: 88.7ms\n",
      "57:\tlearn: 56.3603639\ttest: 57.9659791\tbest: 57.9659791 (57)\ttotal: 55.3ms\tremaining: 87.7ms\n",
      "58:\tlearn: 55.9924858\ttest: 57.5976697\tbest: 57.5976697 (58)\ttotal: 56.3ms\tremaining: 86.8ms\n",
      "59:\tlearn: 55.6345761\ttest: 57.2331739\tbest: 57.2331739 (59)\ttotal: 57.2ms\tremaining: 85.8ms\n",
      "60:\tlearn: 55.2829987\ttest: 56.8788074\tbest: 56.8788074 (60)\ttotal: 58.2ms\tremaining: 84.9ms\n",
      "61:\tlearn: 54.9285456\ttest: 56.5256432\tbest: 56.5256432 (61)\ttotal: 59.2ms\tremaining: 84ms\n",
      "62:\tlearn: 54.5852987\ttest: 56.1775433\tbest: 56.1775433 (62)\ttotal: 60.1ms\tremaining: 83.1ms\n",
      "63:\tlearn: 54.2444492\ttest: 55.8330652\tbest: 55.8330652 (63)\ttotal: 61.2ms\tremaining: 82.3ms\n",
      "64:\tlearn: 53.9022277\ttest: 55.4912298\tbest: 55.4912298 (64)\ttotal: 62.6ms\tremaining: 81.8ms\n",
      "65:\tlearn: 53.5730997\ttest: 55.1542644\tbest: 55.1542644 (65)\ttotal: 64ms\tremaining: 81.5ms\n",
      "66:\tlearn: 53.2543444\ttest: 54.8291302\tbest: 54.8291302 (66)\ttotal: 65.3ms\tremaining: 80.9ms\n",
      "67:\tlearn: 52.9284945\ttest: 54.5027821\tbest: 54.5027821 (67)\ttotal: 66.7ms\tremaining: 80.4ms\n",
      "68:\tlearn: 52.5988558\ttest: 54.1684960\tbest: 54.1684960 (68)\ttotal: 68.1ms\tremaining: 79.9ms\n",
      "69:\tlearn: 52.2745328\ttest: 53.8450879\tbest: 53.8450879 (69)\ttotal: 69.3ms\tremaining: 79.2ms\n",
      "70:\tlearn: 51.9837068\ttest: 53.5506006\tbest: 53.5506006 (70)\ttotal: 70.3ms\tremaining: 78.2ms\n",
      "71:\tlearn: 51.6953347\ttest: 53.2595605\tbest: 53.2595605 (71)\ttotal: 71.3ms\tremaining: 77.2ms\n",
      "72:\tlearn: 51.3908923\ttest: 52.9506675\tbest: 52.9506675 (72)\ttotal: 72.2ms\tremaining: 76.2ms\n",
      "73:\tlearn: 51.0881281\ttest: 52.6476572\tbest: 52.6476572 (73)\ttotal: 73.1ms\tremaining: 75.1ms\n",
      "74:\tlearn: 50.7837630\ttest: 52.3377198\tbest: 52.3377198 (74)\ttotal: 74ms\tremaining: 74ms\n",
      "75:\tlearn: 50.4891237\ttest: 52.0361247\tbest: 52.0361247 (75)\ttotal: 74.9ms\tremaining: 73ms\n",
      "76:\tlearn: 50.1945939\ttest: 51.7378718\tbest: 51.7378718 (76)\ttotal: 75.8ms\tremaining: 71.9ms\n",
      "77:\tlearn: 49.9059894\ttest: 51.4465233\tbest: 51.4465233 (77)\ttotal: 76.7ms\tremaining: 70.8ms\n",
      "78:\tlearn: 49.6252857\ttest: 51.1624611\tbest: 51.1624611 (78)\ttotal: 77.7ms\tremaining: 69.8ms\n",
      "79:\tlearn: 49.3587612\ttest: 50.8898630\tbest: 50.8898630 (79)\ttotal: 78.7ms\tremaining: 68.9ms\n",
      "80:\tlearn: 49.0856471\ttest: 50.6128101\tbest: 50.6128101 (80)\ttotal: 79.6ms\tremaining: 67.8ms\n",
      "81:\tlearn: 48.8066961\ttest: 50.3274620\tbest: 50.3274620 (81)\ttotal: 80.5ms\tremaining: 66.7ms\n",
      "82:\tlearn: 48.5377372\ttest: 50.0527175\tbest: 50.0527175 (82)\ttotal: 81.4ms\tremaining: 65.7ms\n",
      "83:\tlearn: 48.2763444\ttest: 49.7900527\tbest: 49.7900527 (83)\ttotal: 82.4ms\tremaining: 64.7ms\n",
      "84:\tlearn: 48.0240796\ttest: 49.5270538\tbest: 49.5270538 (84)\ttotal: 83.3ms\tremaining: 63.7ms\n",
      "85:\tlearn: 47.7773985\ttest: 49.2739784\tbest: 49.2739784 (85)\ttotal: 84.3ms\tremaining: 62.7ms\n",
      "86:\tlearn: 47.5351638\ttest: 49.0232666\tbest: 49.0232666 (86)\ttotal: 85.2ms\tremaining: 61.7ms\n",
      "87:\tlearn: 47.2772780\ttest: 48.7640102\tbest: 48.7640102 (87)\ttotal: 86.2ms\tremaining: 60.7ms\n",
      "88:\tlearn: 47.0288221\ttest: 48.5126528\tbest: 48.5126528 (88)\ttotal: 87.1ms\tremaining: 59.7ms\n",
      "89:\tlearn: 46.7864712\ttest: 48.2668643\tbest: 48.2668643 (89)\ttotal: 88ms\tremaining: 58.7ms\n",
      "90:\tlearn: 46.5479803\ttest: 48.0253502\tbest: 48.0253502 (90)\ttotal: 89ms\tremaining: 57.7ms\n",
      "91:\tlearn: 46.3026919\ttest: 47.7788339\tbest: 47.7788339 (91)\ttotal: 94.9ms\tremaining: 59.8ms\n",
      "92:\tlearn: 46.0663677\ttest: 47.5382433\tbest: 47.5382433 (92)\ttotal: 95.9ms\tremaining: 58.8ms\n",
      "93:\tlearn: 45.8372298\ttest: 47.3044908\tbest: 47.3044908 (93)\ttotal: 96.7ms\tremaining: 57.6ms\n",
      "94:\tlearn: 45.6059221\ttest: 47.0702057\tbest: 47.0702057 (94)\ttotal: 97.7ms\tremaining: 56.6ms\n",
      "95:\tlearn: 45.3940777\ttest: 46.8519873\tbest: 46.8519873 (95)\ttotal: 98.6ms\tremaining: 55.5ms\n",
      "96:\tlearn: 45.1652668\ttest: 46.6157873\tbest: 46.6157873 (96)\ttotal: 99.8ms\tremaining: 54.5ms\n",
      "97:\tlearn: 44.9571441\ttest: 46.3978628\tbest: 46.3978628 (97)\ttotal: 101ms\tremaining: 53.5ms\n",
      "98:\tlearn: 44.7432486\ttest: 46.1792130\tbest: 46.1792130 (98)\ttotal: 102ms\tremaining: 52.4ms\n",
      "99:\tlearn: 44.5434663\ttest: 45.9758031\tbest: 45.9758031 (99)\ttotal: 103ms\tremaining: 51.3ms\n",
      "100:\tlearn: 44.3449562\ttest: 45.7752489\tbest: 45.7752489 (100)\ttotal: 104ms\tremaining: 50.2ms\n",
      "101:\tlearn: 44.1332802\ttest: 45.5614117\tbest: 45.5614117 (101)\ttotal: 105ms\tremaining: 49.2ms\n",
      "102:\tlearn: 43.9469486\ttest: 45.3723225\tbest: 45.3723225 (102)\ttotal: 106ms\tremaining: 48.2ms\n",
      "103:\tlearn: 43.7552991\ttest: 45.1705980\tbest: 45.1705980 (103)\ttotal: 107ms\tremaining: 47.1ms\n",
      "104:\tlearn: 43.5622007\ttest: 44.9708487\tbest: 44.9708487 (104)\ttotal: 108ms\tremaining: 46.1ms\n",
      "105:\tlearn: 43.3690564\ttest: 44.7731962\tbest: 44.7731962 (105)\ttotal: 109ms\tremaining: 45ms\n",
      "106:\tlearn: 43.1697234\ttest: 44.5686389\tbest: 44.5686389 (106)\ttotal: 109ms\tremaining: 44ms\n",
      "107:\tlearn: 42.9823155\ttest: 44.3764451\tbest: 44.3764451 (107)\ttotal: 110ms\tremaining: 42.9ms\n",
      "108:\tlearn: 42.7877365\ttest: 44.1784378\tbest: 44.1784378 (108)\ttotal: 111ms\tremaining: 41.8ms\n",
      "109:\tlearn: 42.6043466\ttest: 43.9955162\tbest: 43.9955162 (109)\ttotal: 112ms\tremaining: 40.8ms\n",
      "110:\tlearn: 42.4257205\ttest: 43.8124534\tbest: 43.8124534 (110)\ttotal: 113ms\tremaining: 39.7ms\n",
      "111:\tlearn: 42.2558855\ttest: 43.6341253\tbest: 43.6341253 (111)\ttotal: 114ms\tremaining: 38.7ms\n",
      "112:\tlearn: 42.0999561\ttest: 43.4737913\tbest: 43.4737913 (112)\ttotal: 115ms\tremaining: 37.6ms\n",
      "113:\tlearn: 41.9339894\ttest: 43.3046500\tbest: 43.3046500 (113)\ttotal: 116ms\tremaining: 36.5ms\n",
      "114:\tlearn: 41.7635807\ttest: 43.1276947\tbest: 43.1276947 (114)\ttotal: 117ms\tremaining: 35.5ms\n",
      "115:\tlearn: 41.5869745\ttest: 42.9468263\tbest: 42.9468263 (115)\ttotal: 118ms\tremaining: 34.4ms\n",
      "116:\tlearn: 41.4241120\ttest: 42.7784179\tbest: 42.7784179 (116)\ttotal: 118ms\tremaining: 33.4ms\n",
      "117:\tlearn: 41.2610158\ttest: 42.6127267\tbest: 42.6127267 (117)\ttotal: 119ms\tremaining: 32.4ms\n",
      "118:\tlearn: 41.1219637\ttest: 42.4682451\tbest: 42.4682451 (118)\ttotal: 120ms\tremaining: 31.3ms\n",
      "119:\tlearn: 40.9817485\ttest: 42.3234565\tbest: 42.3234565 (119)\ttotal: 121ms\tremaining: 30.3ms\n",
      "120:\tlearn: 40.8242254\ttest: 42.1574010\tbest: 42.1574010 (120)\ttotal: 122ms\tremaining: 29.3ms\n",
      "121:\tlearn: 40.6709695\ttest: 41.9997997\tbest: 41.9997997 (121)\ttotal: 123ms\tremaining: 28.3ms\n",
      "122:\tlearn: 40.5124150\ttest: 41.8306712\tbest: 41.8306712 (122)\ttotal: 124ms\tremaining: 27.3ms\n",
      "123:\tlearn: 40.3563650\ttest: 41.6681113\tbest: 41.6681113 (123)\ttotal: 125ms\tremaining: 26.2ms\n",
      "124:\tlearn: 40.2022822\ttest: 41.5047029\tbest: 41.5047029 (124)\ttotal: 126ms\tremaining: 25.2ms\n",
      "125:\tlearn: 40.0525641\ttest: 41.3490058\tbest: 41.3490058 (125)\ttotal: 127ms\tremaining: 24.2ms\n",
      "126:\tlearn: 39.9088980\ttest: 41.2020423\tbest: 41.2020423 (126)\ttotal: 128ms\tremaining: 23.2ms\n",
      "127:\tlearn: 39.7650697\ttest: 41.0542694\tbest: 41.0542694 (127)\ttotal: 129ms\tremaining: 22.2ms\n",
      "128:\tlearn: 39.6312409\ttest: 40.9149892\tbest: 40.9149892 (128)\ttotal: 130ms\tremaining: 21.2ms\n",
      "129:\tlearn: 39.5057992\ttest: 40.7809236\tbest: 40.7809236 (129)\ttotal: 131ms\tremaining: 20.1ms\n",
      "130:\tlearn: 39.3740678\ttest: 40.6457785\tbest: 40.6457785 (130)\ttotal: 132ms\tremaining: 19.1ms\n",
      "131:\tlearn: 39.2442117\ttest: 40.5094203\tbest: 40.5094203 (131)\ttotal: 133ms\tremaining: 18.1ms\n",
      "132:\tlearn: 39.1138232\ttest: 40.3746613\tbest: 40.3746613 (132)\ttotal: 134ms\tremaining: 17.1ms\n",
      "133:\tlearn: 38.9799574\ttest: 40.2357342\tbest: 40.2357342 (133)\ttotal: 135ms\tremaining: 16.1ms\n",
      "134:\tlearn: 38.8716061\ttest: 40.1226388\tbest: 40.1226388 (134)\ttotal: 136ms\tremaining: 15.1ms\n",
      "135:\tlearn: 38.7488288\ttest: 39.9931853\tbest: 39.9931853 (135)\ttotal: 137ms\tremaining: 14.1ms\n",
      "136:\tlearn: 38.6260181\ttest: 39.8649294\tbest: 39.8649294 (136)\ttotal: 138ms\tremaining: 13.1ms\n",
      "137:\tlearn: 38.5110369\ttest: 39.7439851\tbest: 39.7439851 (137)\ttotal: 139ms\tremaining: 12ms\n",
      "138:\tlearn: 38.3882473\ttest: 39.6126543\tbest: 39.6126543 (138)\ttotal: 140ms\tremaining: 11ms\n",
      "139:\tlearn: 38.2649671\ttest: 39.4809010\tbest: 39.4809010 (139)\ttotal: 140ms\tremaining: 10ms\n",
      "140:\tlearn: 38.1480464\ttest: 39.3581535\tbest: 39.3581535 (140)\ttotal: 141ms\tremaining: 9.02ms\n",
      "141:\tlearn: 38.0280994\ttest: 39.2324961\tbest: 39.2324961 (141)\ttotal: 142ms\tremaining: 8.02ms\n",
      "142:\tlearn: 37.9301326\ttest: 39.1316683\tbest: 39.1316683 (142)\ttotal: 143ms\tremaining: 7.01ms\n",
      "143:\tlearn: 37.8129224\ttest: 39.0105933\tbest: 39.0105933 (143)\ttotal: 144ms\tremaining: 6.01ms\n",
      "144:\tlearn: 37.7134405\ttest: 38.9058925\tbest: 38.9058925 (144)\ttotal: 145ms\tremaining: 5.01ms\n",
      "145:\tlearn: 37.6096698\ttest: 38.7922463\tbest: 38.7922463 (145)\ttotal: 146ms\tremaining: 4.01ms\n",
      "146:\tlearn: 37.5070563\ttest: 38.6862374\tbest: 38.6862374 (146)\ttotal: 147ms\tremaining: 3.01ms\n",
      "147:\tlearn: 37.4024341\ttest: 38.5766429\tbest: 38.5766429 (147)\ttotal: 148ms\tremaining: 2ms\n",
      "148:\tlearn: 37.2949766\ttest: 38.4611790\tbest: 38.4611790 (148)\ttotal: 149ms\tremaining: 1ms\n",
      "149:\tlearn: 37.1889500\ttest: 38.3473970\tbest: 38.3473970 (149)\ttotal: 150ms\tremaining: 0us\n",
      "\n",
      "bestTest = 38.34739702\n",
      "bestIteration = 149\n",
      "\n",
      "5:\tloss: 38.3473970\tbest: 24.1774002 (4)\ttotal: 1.05s\tremaining: 1.05s\n",
      "Estimating final quality...\n",
      "Training on fold [0/3]\n",
      "0:\tlearn: 80.3189924\ttest: 80.5985407\tbest: 80.5985407 (0)\ttotal: 1.12ms\tremaining: 167ms\n",
      "1:\tlearn: 74.1011834\ttest: 74.3243209\tbest: 74.3243209 (1)\ttotal: 2.26ms\tremaining: 167ms\n",
      "2:\tlearn: 68.5225827\ttest: 68.7227548\tbest: 68.7227548 (2)\ttotal: 3.24ms\tremaining: 159ms\n",
      "3:\tlearn: 63.3754925\ttest: 63.4690363\tbest: 63.4690363 (3)\ttotal: 4.12ms\tremaining: 150ms\n",
      "4:\tlearn: 59.0964744\ttest: 59.0965349\tbest: 59.0965349 (4)\ttotal: 5.01ms\tremaining: 145ms\n",
      "5:\tlearn: 55.0752769\ttest: 55.0196063\tbest: 55.0196063 (5)\ttotal: 5.99ms\tremaining: 144ms\n",
      "6:\tlearn: 51.6430474\ttest: 51.5274394\tbest: 51.5274394 (6)\ttotal: 6.8ms\tremaining: 139ms\n",
      "7:\tlearn: 48.6280030\ttest: 48.5107937\tbest: 48.5107937 (7)\ttotal: 7.57ms\tremaining: 134ms\n",
      "8:\tlearn: 46.1038240\ttest: 45.9122712\tbest: 45.9122712 (8)\ttotal: 8.57ms\tremaining: 134ms\n",
      "9:\tlearn: 43.9041227\ttest: 43.6208903\tbest: 43.6208903 (9)\ttotal: 9.57ms\tremaining: 134ms\n",
      "10:\tlearn: 41.9886842\ttest: 41.6830421\tbest: 41.6830421 (10)\ttotal: 10.4ms\tremaining: 132ms\n",
      "11:\tlearn: 40.4370848\ttest: 40.0687260\tbest: 40.0687260 (11)\ttotal: 11.3ms\tremaining: 129ms\n",
      "12:\tlearn: 39.0355271\ttest: 38.6834703\tbest: 38.6834703 (12)\ttotal: 12.1ms\tremaining: 127ms\n",
      "13:\tlearn: 37.9033979\ttest: 37.5233161\tbest: 37.5233161 (13)\ttotal: 12.9ms\tremaining: 126ms\n",
      "14:\tlearn: 36.8771957\ttest: 36.5130974\tbest: 36.5130974 (14)\ttotal: 13.8ms\tremaining: 124ms\n",
      "15:\tlearn: 35.9406942\ttest: 35.5218649\tbest: 35.5218649 (15)\ttotal: 14.6ms\tremaining: 123ms\n",
      "16:\tlearn: 35.2079589\ttest: 34.7690285\tbest: 34.7690285 (16)\ttotal: 15.4ms\tremaining: 121ms\n",
      "17:\tlearn: 34.5697349\ttest: 34.1206806\tbest: 34.1206806 (17)\ttotal: 16.3ms\tremaining: 120ms\n",
      "18:\tlearn: 33.9706270\ttest: 33.5159866\tbest: 33.5159866 (18)\ttotal: 17.3ms\tremaining: 119ms\n",
      "19:\tlearn: 33.5069848\ttest: 33.0424153\tbest: 33.0424153 (19)\ttotal: 18.1ms\tremaining: 118ms\n",
      "20:\tlearn: 32.4898296\ttest: 32.0715269\tbest: 32.0715269 (20)\ttotal: 19ms\tremaining: 117ms\n",
      "21:\tlearn: 31.6943694\ttest: 31.2734880\tbest: 31.2734880 (21)\ttotal: 20ms\tremaining: 116ms\n",
      "22:\tlearn: 30.9493065\ttest: 30.4855689\tbest: 30.4855689 (22)\ttotal: 21.2ms\tremaining: 117ms\n",
      "23:\tlearn: 30.3459837\ttest: 29.8870269\tbest: 29.8870269 (23)\ttotal: 22.2ms\tremaining: 117ms\n",
      "24:\tlearn: 29.7911475\ttest: 29.3006880\tbest: 29.3006880 (24)\ttotal: 23.1ms\tremaining: 115ms\n",
      "25:\tlearn: 29.4173330\ttest: 28.9207195\tbest: 28.9207195 (25)\ttotal: 24ms\tremaining: 114ms\n",
      "26:\tlearn: 29.0390822\ttest: 28.5778559\tbest: 28.5778559 (26)\ttotal: 24.9ms\tremaining: 114ms\n",
      "27:\tlearn: 28.6801504\ttest: 28.2022379\tbest: 28.2022379 (27)\ttotal: 25.8ms\tremaining: 113ms\n",
      "28:\tlearn: 28.3680190\ttest: 27.8704137\tbest: 27.8704137 (28)\ttotal: 26.6ms\tremaining: 111ms\n",
      "29:\tlearn: 28.1486912\ttest: 27.6469532\tbest: 27.6469532 (29)\ttotal: 27.5ms\tremaining: 110ms\n",
      "30:\tlearn: 27.9466570\ttest: 27.4280935\tbest: 27.4280935 (30)\ttotal: 28.5ms\tremaining: 109ms\n",
      "31:\tlearn: 27.7301231\ttest: 27.2536793\tbest: 27.2536793 (31)\ttotal: 29.4ms\tremaining: 108ms\n",
      "32:\tlearn: 27.5511776\ttest: 27.1287061\tbest: 27.1287061 (32)\ttotal: 30.3ms\tremaining: 107ms\n",
      "33:\tlearn: 27.3516624\ttest: 26.9141737\tbest: 26.9141737 (33)\ttotal: 31.2ms\tremaining: 106ms\n",
      "34:\tlearn: 27.2013020\ttest: 26.7946889\tbest: 26.7946889 (34)\ttotal: 32.2ms\tremaining: 106ms\n",
      "35:\tlearn: 27.1140540\ttest: 26.7229778\tbest: 26.7229778 (35)\ttotal: 33.1ms\tremaining: 105ms\n",
      "36:\tlearn: 26.9903349\ttest: 26.6067116\tbest: 26.6067116 (36)\ttotal: 34ms\tremaining: 104ms\n",
      "37:\tlearn: 26.9481462\ttest: 26.5867044\tbest: 26.5867044 (37)\ttotal: 34.7ms\tremaining: 102ms\n",
      "38:\tlearn: 26.8389689\ttest: 26.4985530\tbest: 26.4985530 (38)\ttotal: 35.5ms\tremaining: 101ms\n",
      "39:\tlearn: 26.7336274\ttest: 26.4320004\tbest: 26.4320004 (39)\ttotal: 36.4ms\tremaining: 100ms\n",
      "40:\tlearn: 26.6970916\ttest: 26.4221762\tbest: 26.4221762 (40)\ttotal: 37.1ms\tremaining: 98.6ms\n",
      "41:\tlearn: 26.6370290\ttest: 26.3817524\tbest: 26.3817524 (41)\ttotal: 37.9ms\tremaining: 97.4ms\n",
      "42:\tlearn: 26.5530077\ttest: 26.3225281\tbest: 26.3225281 (42)\ttotal: 38.6ms\tremaining: 96ms\n",
      "43:\tlearn: 26.5234369\ttest: 26.3193481\tbest: 26.3193481 (43)\ttotal: 39.4ms\tremaining: 95ms\n",
      "44:\tlearn: 26.4668306\ttest: 26.2883304\tbest: 26.2883304 (44)\ttotal: 40.4ms\tremaining: 94.2ms\n",
      "45:\tlearn: 26.3818691\ttest: 26.2429596\tbest: 26.2429596 (45)\ttotal: 41.1ms\tremaining: 93ms\n",
      "46:\tlearn: 26.3089459\ttest: 26.1948623\tbest: 26.1948623 (46)\ttotal: 41.9ms\tremaining: 91.8ms\n",
      "47:\tlearn: 26.2471262\ttest: 26.1766302\tbest: 26.1766302 (47)\ttotal: 42.7ms\tremaining: 90.7ms\n",
      "48:\tlearn: 26.1754447\ttest: 26.1366746\tbest: 26.1366746 (48)\ttotal: 43.6ms\tremaining: 89.8ms\n",
      "49:\tlearn: 26.1242412\ttest: 26.1094696\tbest: 26.1094696 (49)\ttotal: 44.4ms\tremaining: 88.9ms\n",
      "50:\tlearn: 26.0822660\ttest: 26.0887868\tbest: 26.0887868 (50)\ttotal: 45.6ms\tremaining: 88.5ms\n",
      "51:\tlearn: 26.0635958\ttest: 26.0925423\tbest: 26.0887868 (50)\ttotal: 46.5ms\tremaining: 87.7ms\n",
      "52:\tlearn: 25.9557050\ttest: 25.9943544\tbest: 25.9943544 (52)\ttotal: 47.4ms\tremaining: 86.8ms\n",
      "53:\tlearn: 25.9380403\ttest: 26.0003705\tbest: 25.9943544 (52)\ttotal: 48.3ms\tremaining: 85.8ms\n",
      "54:\tlearn: 25.9208200\ttest: 26.0062325\tbest: 25.9943544 (52)\ttotal: 49ms\tremaining: 84.6ms\n",
      "55:\tlearn: 25.8606117\ttest: 25.9622449\tbest: 25.9622449 (55)\ttotal: 50ms\tremaining: 83.9ms\n",
      "56:\tlearn: 25.8126485\ttest: 25.9571033\tbest: 25.9571033 (56)\ttotal: 50.9ms\tremaining: 83.1ms\n",
      "57:\tlearn: 25.7697101\ttest: 25.9439178\tbest: 25.9439178 (57)\ttotal: 51.8ms\tremaining: 82.1ms\n",
      "58:\tlearn: 25.7013593\ttest: 25.8830983\tbest: 25.8830983 (58)\ttotal: 52.5ms\tremaining: 81ms\n",
      "59:\tlearn: 25.6870214\ttest: 25.8915206\tbest: 25.8830983 (58)\ttotal: 53.3ms\tremaining: 80ms\n",
      "60:\tlearn: 25.6297275\ttest: 25.8412133\tbest: 25.8412133 (60)\ttotal: 54.2ms\tremaining: 79.1ms\n",
      "61:\tlearn: 25.5703148\ttest: 25.7625850\tbest: 25.7625850 (61)\ttotal: 55.1ms\tremaining: 78.2ms\n",
      "62:\tlearn: 25.5349077\ttest: 25.7626265\tbest: 25.7625850 (61)\ttotal: 56ms\tremaining: 77.3ms\n",
      "63:\tlearn: 25.4746251\ttest: 25.6992113\tbest: 25.6992113 (63)\ttotal: 56.8ms\tremaining: 76.3ms\n",
      "64:\tlearn: 25.4620121\ttest: 25.7077710\tbest: 25.6992113 (63)\ttotal: 57.7ms\tremaining: 75.4ms\n",
      "65:\tlearn: 25.4497999\ttest: 25.7173841\tbest: 25.6992113 (63)\ttotal: 58.6ms\tremaining: 74.6ms\n",
      "66:\tlearn: 25.4229601\ttest: 25.7135053\tbest: 25.6992113 (63)\ttotal: 59.3ms\tremaining: 73.5ms\n",
      "67:\tlearn: 25.3866887\ttest: 25.6998131\tbest: 25.6992113 (63)\ttotal: 60ms\tremaining: 72.4ms\n",
      "68:\tlearn: 25.3749938\ttest: 25.7132899\tbest: 25.6992113 (63)\ttotal: 60.8ms\tremaining: 71.3ms\n",
      "69:\tlearn: 25.3051858\ttest: 25.6874734\tbest: 25.6874734 (69)\ttotal: 61.5ms\tremaining: 70.3ms\n",
      "70:\tlearn: 25.2625708\ttest: 25.6680704\tbest: 25.6680704 (70)\ttotal: 62.4ms\tremaining: 69.4ms\n",
      "71:\tlearn: 25.2527055\ttest: 25.6788552\tbest: 25.6680704 (70)\ttotal: 63.1ms\tremaining: 68.4ms\n",
      "72:\tlearn: 25.2268998\ttest: 25.6797053\tbest: 25.6680704 (70)\ttotal: 63.9ms\tremaining: 67.4ms\n",
      "73:\tlearn: 25.1855880\ttest: 25.6684224\tbest: 25.6680704 (70)\ttotal: 64.5ms\tremaining: 66.3ms\n",
      "74:\tlearn: 25.1435073\ttest: 25.6562150\tbest: 25.6562150 (74)\ttotal: 65.6ms\tremaining: 65.6ms\n",
      "75:\tlearn: 25.1344969\ttest: 25.6674122\tbest: 25.6562150 (74)\ttotal: 66.6ms\tremaining: 64.9ms\n",
      "76:\tlearn: 25.0984551\ttest: 25.6456137\tbest: 25.6456137 (76)\ttotal: 67.4ms\tremaining: 63.9ms\n",
      "77:\tlearn: 25.0412095\ttest: 25.5943867\tbest: 25.5943867 (77)\ttotal: 68.3ms\tremaining: 63ms\n",
      "78:\tlearn: 25.0323925\ttest: 25.6030984\tbest: 25.5943867 (77)\ttotal: 69.2ms\tremaining: 62.2ms\n",
      "79:\tlearn: 25.0244862\ttest: 25.6143152\tbest: 25.5943867 (77)\ttotal: 70.1ms\tremaining: 61.3ms\n",
      "80:\tlearn: 25.0091012\ttest: 25.6274148\tbest: 25.5943867 (77)\ttotal: 70.8ms\tremaining: 60.3ms\n",
      "81:\tlearn: 24.9648400\ttest: 25.5911290\tbest: 25.5911290 (81)\ttotal: 71.5ms\tremaining: 59.3ms\n",
      "82:\tlearn: 24.9505758\ttest: 25.6000734\tbest: 25.5911290 (81)\ttotal: 72.3ms\tremaining: 58.3ms\n",
      "83:\tlearn: 24.9423547\ttest: 25.6116764\tbest: 25.5911290 (81)\ttotal: 73.3ms\tremaining: 57.6ms\n",
      "84:\tlearn: 24.9352917\ttest: 25.6259851\tbest: 25.5911290 (81)\ttotal: 74.1ms\tremaining: 56.6ms\n",
      "85:\tlearn: 24.9290451\ttest: 25.6376264\tbest: 25.5911290 (81)\ttotal: 75ms\tremaining: 55.8ms\n",
      "86:\tlearn: 24.9132510\ttest: 25.6292680\tbest: 25.5911290 (81)\ttotal: 75.9ms\tremaining: 54.9ms\n",
      "87:\tlearn: 24.9076140\ttest: 25.6406080\tbest: 25.5911290 (81)\ttotal: 76.8ms\tremaining: 54.1ms\n",
      "88:\tlearn: 24.8916170\ttest: 25.6492623\tbest: 25.5911290 (81)\ttotal: 77.6ms\tremaining: 53.2ms\n",
      "89:\tlearn: 24.8482748\ttest: 25.6260351\tbest: 25.5911290 (81)\ttotal: 78.4ms\tremaining: 52.2ms\n",
      "90:\tlearn: 24.8293226\ttest: 25.6054914\tbest: 25.5911290 (81)\ttotal: 79.2ms\tremaining: 51.3ms\n",
      "91:\tlearn: 24.7896445\ttest: 25.5806328\tbest: 25.5806328 (91)\ttotal: 80.1ms\tremaining: 50.5ms\n",
      "92:\tlearn: 24.7843556\ttest: 25.5920101\tbest: 25.5806328 (91)\ttotal: 81.2ms\tremaining: 49.7ms\n",
      "93:\tlearn: 24.7536967\ttest: 25.5531521\tbest: 25.5531521 (93)\ttotal: 82.2ms\tremaining: 48.9ms\n",
      "94:\tlearn: 24.7381924\ttest: 25.5457580\tbest: 25.5457580 (94)\ttotal: 83.1ms\tremaining: 48.1ms\n",
      "95:\tlearn: 24.7004216\ttest: 25.5236671\tbest: 25.5236671 (95)\ttotal: 84ms\tremaining: 47.3ms\n",
      "96:\tlearn: 24.6606857\ttest: 25.5155999\tbest: 25.5155999 (96)\ttotal: 84.9ms\tremaining: 46.4ms\n",
      "97:\tlearn: 24.6562174\ttest: 25.5267708\tbest: 25.5155999 (96)\ttotal: 85.7ms\tremaining: 45.5ms\n",
      "98:\tlearn: 24.6449230\ttest: 25.5398714\tbest: 25.5155999 (96)\ttotal: 86.5ms\tremaining: 44.6ms\n",
      "99:\tlearn: 24.6408840\ttest: 25.5508691\tbest: 25.5155999 (96)\ttotal: 87.4ms\tremaining: 43.7ms\n",
      "100:\tlearn: 24.6075503\ttest: 25.5211649\tbest: 25.5155999 (96)\ttotal: 88.3ms\tremaining: 42.8ms\n",
      "101:\tlearn: 24.5891227\ttest: 25.5240691\tbest: 25.5155999 (96)\ttotal: 89.1ms\tremaining: 41.9ms\n",
      "102:\tlearn: 24.5852816\ttest: 25.5349798\tbest: 25.5155999 (96)\ttotal: 89.9ms\tremaining: 41ms\n",
      "103:\tlearn: 24.5816430\ttest: 25.5457880\tbest: 25.5155999 (96)\ttotal: 90.8ms\tremaining: 40.2ms\n",
      "104:\tlearn: 24.5781950\ttest: 25.5564874\tbest: 25.5155999 (96)\ttotal: 91.6ms\tremaining: 39.3ms\n",
      "105:\tlearn: 24.5424362\ttest: 25.5533181\tbest: 25.5155999 (96)\ttotal: 92.4ms\tremaining: 38.4ms\n",
      "106:\tlearn: 24.5116803\ttest: 25.5497393\tbest: 25.5155999 (96)\ttotal: 93.4ms\tremaining: 37.5ms\n",
      "107:\tlearn: 24.4873568\ttest: 25.5277463\tbest: 25.5155999 (96)\ttotal: 94.2ms\tremaining: 36.6ms\n",
      "108:\tlearn: 24.4635398\ttest: 25.5281956\tbest: 25.5155999 (96)\ttotal: 95.1ms\tremaining: 35.8ms\n",
      "109:\tlearn: 24.4250595\ttest: 25.4987628\tbest: 25.4987628 (109)\ttotal: 95.9ms\tremaining: 34.9ms\n",
      "110:\tlearn: 24.4055106\ttest: 25.4944592\tbest: 25.4944592 (110)\ttotal: 96.7ms\tremaining: 34ms\n",
      "111:\tlearn: 24.3861060\ttest: 25.4841191\tbest: 25.4841191 (111)\ttotal: 97.4ms\tremaining: 33ms\n",
      "112:\tlearn: 24.3749764\ttest: 25.4917967\tbest: 25.4841191 (111)\ttotal: 98.4ms\tremaining: 32.2ms\n",
      "113:\tlearn: 24.3654765\ttest: 25.5005890\tbest: 25.4841191 (111)\ttotal: 99.8ms\tremaining: 31.5ms\n",
      "114:\tlearn: 24.3626023\ttest: 25.5108356\tbest: 25.4841191 (111)\ttotal: 101ms\tremaining: 30.7ms\n",
      "115:\tlearn: 24.3598812\ttest: 25.5209512\tbest: 25.4841191 (111)\ttotal: 102ms\tremaining: 29.9ms\n",
      "116:\tlearn: 24.3407328\ttest: 25.5088156\tbest: 25.4841191 (111)\ttotal: 103ms\tremaining: 29.1ms\n",
      "117:\tlearn: 24.3035579\ttest: 25.4643779\tbest: 25.4643779 (117)\ttotal: 104ms\tremaining: 28.2ms\n",
      "118:\tlearn: 24.2790424\ttest: 25.4461397\tbest: 25.4461397 (118)\ttotal: 105ms\tremaining: 27.3ms\n",
      "119:\tlearn: 24.2627957\ttest: 25.4370364\tbest: 25.4370364 (119)\ttotal: 106ms\tremaining: 26.4ms\n",
      "120:\tlearn: 24.2219960\ttest: 25.3920760\tbest: 25.3920760 (120)\ttotal: 107ms\tremaining: 25.6ms\n",
      "121:\tlearn: 24.1882125\ttest: 25.3661725\tbest: 25.3661725 (121)\ttotal: 108ms\tremaining: 24.7ms\n",
      "122:\tlearn: 24.1625743\ttest: 25.3368604\tbest: 25.3368604 (122)\ttotal: 109ms\tremaining: 23.8ms\n",
      "123:\tlearn: 24.1387673\ttest: 25.3373213\tbest: 25.3368604 (122)\ttotal: 109ms\tremaining: 22.9ms\n",
      "124:\tlearn: 24.1123458\ttest: 25.3188483\tbest: 25.3188483 (124)\ttotal: 110ms\tremaining: 22.1ms\n",
      "125:\tlearn: 24.0887465\ttest: 25.2984860\tbest: 25.2984860 (125)\ttotal: 116ms\tremaining: 22ms\n",
      "126:\tlearn: 24.0667123\ttest: 25.3045425\tbest: 25.2984860 (125)\ttotal: 116ms\tremaining: 21.1ms\n",
      "127:\tlearn: 24.0383763\ttest: 25.2794384\tbest: 25.2794384 (127)\ttotal: 117ms\tremaining: 20.1ms\n",
      "128:\tlearn: 24.0320725\ttest: 25.2804264\tbest: 25.2794384 (127)\ttotal: 118ms\tremaining: 19.2ms\n",
      "129:\tlearn: 24.0068012\ttest: 25.2818803\tbest: 25.2794384 (127)\ttotal: 119ms\tremaining: 18.3ms\n",
      "130:\tlearn: 23.9971148\ttest: 25.2782144\tbest: 25.2782144 (130)\ttotal: 120ms\tremaining: 17.4ms\n",
      "131:\tlearn: 23.9728525\ttest: 25.2687082\tbest: 25.2687082 (131)\ttotal: 120ms\tremaining: 16.4ms\n",
      "132:\tlearn: 23.9523445\ttest: 25.2562487\tbest: 25.2562487 (132)\ttotal: 121ms\tremaining: 15.5ms\n",
      "133:\tlearn: 23.9254390\ttest: 25.2385118\tbest: 25.2385118 (133)\ttotal: 122ms\tremaining: 14.6ms\n",
      "134:\tlearn: 23.9137835\ttest: 25.2411349\tbest: 25.2385118 (133)\ttotal: 123ms\tremaining: 13.7ms\n",
      "135:\tlearn: 23.8993616\ttest: 25.2322326\tbest: 25.2322326 (135)\ttotal: 124ms\tremaining: 12.7ms\n",
      "136:\tlearn: 23.8875298\ttest: 25.2331509\tbest: 25.2322326 (135)\ttotal: 125ms\tremaining: 11.8ms\n",
      "137:\tlearn: 23.8700013\ttest: 25.2272146\tbest: 25.2272146 (137)\ttotal: 125ms\tremaining: 10.9ms\n",
      "138:\tlearn: 23.8531084\ttest: 25.2301531\tbest: 25.2272146 (137)\ttotal: 126ms\tremaining: 9.98ms\n",
      "139:\tlearn: 23.8406915\ttest: 25.2273379\tbest: 25.2272146 (137)\ttotal: 127ms\tremaining: 9.06ms\n",
      "140:\tlearn: 23.8167715\ttest: 25.1986198\tbest: 25.1986198 (140)\ttotal: 128ms\tremaining: 8.14ms\n",
      "141:\tlearn: 23.8121159\ttest: 25.2054165\tbest: 25.1986198 (140)\ttotal: 128ms\tremaining: 7.22ms\n",
      "142:\tlearn: 23.7918186\ttest: 25.1902639\tbest: 25.1902639 (142)\ttotal: 129ms\tremaining: 6.32ms\n",
      "143:\tlearn: 23.7788392\ttest: 25.1889697\tbest: 25.1889697 (143)\ttotal: 130ms\tremaining: 5.41ms\n",
      "144:\tlearn: 23.7522610\ttest: 25.1788443\tbest: 25.1788443 (144)\ttotal: 131ms\tremaining: 4.51ms\n",
      "145:\tlearn: 23.7440687\ttest: 25.1841886\tbest: 25.1788443 (144)\ttotal: 131ms\tremaining: 3.6ms\n",
      "146:\tlearn: 23.7274790\ttest: 25.1751751\tbest: 25.1751751 (146)\ttotal: 132ms\tremaining: 2.7ms\n",
      "147:\tlearn: 23.7188786\ttest: 25.1690699\tbest: 25.1690699 (147)\ttotal: 133ms\tremaining: 1.8ms\n",
      "148:\tlearn: 23.7052390\ttest: 25.1736935\tbest: 25.1690699 (147)\ttotal: 134ms\tremaining: 898us\n",
      "149:\tlearn: 23.7022643\ttest: 25.1880153\tbest: 25.1690699 (147)\ttotal: 135ms\tremaining: 0us\n",
      "\n",
      "bestTest = 25.16906986\n",
      "bestIteration = 147\n",
      "\n",
      "Training on fold [1/3]\n",
      "0:\tlearn: 80.2085235\ttest: 80.6439162\tbest: 80.6439162 (0)\ttotal: 1.08ms\tremaining: 161ms\n",
      "1:\tlearn: 73.7233639\ttest: 74.2185435\tbest: 74.2185435 (1)\ttotal: 2ms\tremaining: 148ms\n",
      "2:\tlearn: 68.1868943\ttest: 68.7412881\tbest: 68.7412881 (2)\ttotal: 2.88ms\tremaining: 141ms\n",
      "3:\tlearn: 62.9988429\ttest: 63.6158761\tbest: 63.6158761 (3)\ttotal: 3.76ms\tremaining: 137ms\n",
      "4:\tlearn: 58.3721989\ttest: 59.0798170\tbest: 59.0798170 (4)\ttotal: 4.59ms\tremaining: 133ms\n",
      "5:\tlearn: 54.3670029\ttest: 55.1372836\tbest: 55.1372836 (5)\ttotal: 5.43ms\tremaining: 130ms\n",
      "6:\tlearn: 50.9306725\ttest: 51.7715388\tbest: 51.7715388 (6)\ttotal: 6.3ms\tremaining: 129ms\n",
      "7:\tlearn: 47.9425279\ttest: 48.8475888\tbest: 48.8475888 (7)\ttotal: 7.16ms\tremaining: 127ms\n",
      "8:\tlearn: 45.3502220\ttest: 46.3693426\tbest: 46.3693426 (8)\ttotal: 7.93ms\tremaining: 124ms\n",
      "9:\tlearn: 43.2148834\ttest: 44.3348234\tbest: 44.3348234 (9)\ttotal: 8.68ms\tremaining: 121ms\n",
      "10:\tlearn: 41.2788399\ttest: 42.4740670\tbest: 42.4740670 (10)\ttotal: 9.39ms\tremaining: 119ms\n",
      "11:\tlearn: 39.7066982\ttest: 40.9658136\tbest: 40.9658136 (11)\ttotal: 10.1ms\tremaining: 116ms\n",
      "12:\tlearn: 38.2778785\ttest: 39.5925915\tbest: 39.5925915 (12)\ttotal: 11ms\tremaining: 116ms\n",
      "13:\tlearn: 37.1380322\ttest: 38.5338591\tbest: 38.5338591 (13)\ttotal: 11.8ms\tremaining: 115ms\n",
      "14:\tlearn: 36.1447134\ttest: 37.5982439\tbest: 37.5982439 (14)\ttotal: 12.6ms\tremaining: 113ms\n",
      "15:\tlearn: 35.2992028\ttest: 36.7962510\tbest: 36.7962510 (15)\ttotal: 13.3ms\tremaining: 111ms\n",
      "16:\tlearn: 34.5815229\ttest: 36.1196443\tbest: 36.1196443 (16)\ttotal: 14ms\tremaining: 109ms\n",
      "17:\tlearn: 33.9397832\ttest: 35.5313688\tbest: 35.5313688 (17)\ttotal: 15ms\tremaining: 110ms\n",
      "18:\tlearn: 33.3514913\ttest: 34.9813144\tbest: 34.9813144 (18)\ttotal: 15.9ms\tremaining: 109ms\n",
      "19:\tlearn: 32.8496907\ttest: 34.5414435\tbest: 34.5414435 (19)\ttotal: 16.6ms\tremaining: 108ms\n",
      "20:\tlearn: 31.9672658\ttest: 33.6630255\tbest: 33.6630255 (20)\ttotal: 17.5ms\tremaining: 107ms\n",
      "21:\tlearn: 31.2169432\ttest: 32.8435909\tbest: 32.8435909 (21)\ttotal: 18.3ms\tremaining: 106ms\n",
      "22:\tlearn: 30.5886628\ttest: 32.1995030\tbest: 32.1995030 (22)\ttotal: 19.2ms\tremaining: 106ms\n",
      "23:\tlearn: 29.9800783\ttest: 31.5687422\tbest: 31.5687422 (23)\ttotal: 19.9ms\tremaining: 105ms\n",
      "24:\tlearn: 29.4743935\ttest: 31.0044686\tbest: 31.0044686 (24)\ttotal: 20.8ms\tremaining: 104ms\n",
      "25:\tlearn: 29.0798550\ttest: 30.5805560\tbest: 30.5805560 (25)\ttotal: 21.6ms\tremaining: 103ms\n",
      "26:\tlearn: 28.6500784\ttest: 30.1292665\tbest: 30.1292665 (26)\ttotal: 22.6ms\tremaining: 103ms\n",
      "27:\tlearn: 28.3335838\ttest: 29.7768178\tbest: 29.7768178 (27)\ttotal: 23.4ms\tremaining: 102ms\n",
      "28:\tlearn: 28.0699304\ttest: 29.3900548\tbest: 29.3900548 (28)\ttotal: 24.2ms\tremaining: 101ms\n",
      "29:\tlearn: 27.8405125\ttest: 29.1172946\tbest: 29.1172946 (29)\ttotal: 25ms\tremaining: 100ms\n",
      "30:\tlearn: 27.6381981\ttest: 28.8607676\tbest: 28.8607676 (30)\ttotal: 25.9ms\tremaining: 99.5ms\n",
      "31:\tlearn: 27.4263573\ttest: 28.6248615\tbest: 28.6248615 (31)\ttotal: 26.8ms\tremaining: 99ms\n",
      "32:\tlearn: 27.3093765\ttest: 28.4798389\tbest: 28.4798389 (32)\ttotal: 27.6ms\tremaining: 97.8ms\n",
      "33:\tlearn: 27.1696557\ttest: 28.2884490\tbest: 28.2884490 (33)\ttotal: 28.3ms\tremaining: 96.6ms\n",
      "34:\tlearn: 27.0104288\ttest: 28.0847547\tbest: 28.0847547 (34)\ttotal: 29.1ms\tremaining: 95.6ms\n",
      "35:\tlearn: 26.8776059\ttest: 27.9082618\tbest: 27.9082618 (35)\ttotal: 30.1ms\tremaining: 95.3ms\n",
      "36:\tlearn: 26.7743072\ttest: 27.7612863\tbest: 27.7612863 (36)\ttotal: 30.9ms\tremaining: 94.5ms\n",
      "37:\tlearn: 26.6757774\ttest: 27.6214344\tbest: 27.6214344 (37)\ttotal: 31.7ms\tremaining: 93.4ms\n",
      "38:\tlearn: 26.5127507\ttest: 27.4895522\tbest: 27.4895522 (38)\ttotal: 32.4ms\tremaining: 92.3ms\n",
      "39:\tlearn: 26.4003130\ttest: 27.4050999\tbest: 27.4050999 (39)\ttotal: 33.3ms\tremaining: 91.6ms\n",
      "40:\tlearn: 26.3292236\ttest: 27.3054889\tbest: 27.3054889 (40)\ttotal: 34.2ms\tremaining: 90.9ms\n",
      "41:\tlearn: 26.2320671\ttest: 27.2224271\tbest: 27.2224271 (41)\ttotal: 35ms\tremaining: 90.1ms\n",
      "42:\tlearn: 26.1337507\ttest: 27.1145226\tbest: 27.1145226 (42)\ttotal: 35.8ms\tremaining: 89ms\n",
      "43:\tlearn: 26.0791163\ttest: 27.0582042\tbest: 27.0582042 (43)\ttotal: 36.5ms\tremaining: 87.9ms\n",
      "44:\tlearn: 26.0130346\ttest: 26.9605323\tbest: 26.9605323 (44)\ttotal: 37.4ms\tremaining: 87.2ms\n",
      "45:\tlearn: 25.9285556\ttest: 26.8783446\tbest: 26.8783446 (45)\ttotal: 38.2ms\tremaining: 86.4ms\n",
      "46:\tlearn: 25.8990617\ttest: 26.8239467\tbest: 26.8239467 (46)\ttotal: 39ms\tremaining: 85.5ms\n",
      "47:\tlearn: 25.8261153\ttest: 26.7314886\tbest: 26.7314886 (47)\ttotal: 39.8ms\tremaining: 84.6ms\n",
      "48:\tlearn: 25.8015158\ttest: 26.6589079\tbest: 26.6589079 (48)\ttotal: 40.6ms\tremaining: 83.7ms\n",
      "49:\tlearn: 25.7566875\ttest: 26.5961979\tbest: 26.5961979 (49)\ttotal: 41.9ms\tremaining: 83.9ms\n",
      "50:\tlearn: 25.6970332\ttest: 26.5531614\tbest: 26.5531614 (50)\ttotal: 42.8ms\tremaining: 83.1ms\n",
      "51:\tlearn: 25.6496863\ttest: 26.5183655\tbest: 26.5183655 (51)\ttotal: 43.7ms\tremaining: 82.3ms\n",
      "52:\tlearn: 25.5767839\ttest: 26.4433941\tbest: 26.4433941 (52)\ttotal: 44.6ms\tremaining: 81.6ms\n",
      "53:\tlearn: 25.5473021\ttest: 26.3852682\tbest: 26.3852682 (53)\ttotal: 45.5ms\tremaining: 80.9ms\n",
      "54:\tlearn: 25.5058685\ttest: 26.3107950\tbest: 26.3107950 (54)\ttotal: 46.6ms\tremaining: 80.5ms\n",
      "55:\tlearn: 25.4603541\ttest: 26.2883002\tbest: 26.2883002 (55)\ttotal: 47.5ms\tremaining: 79.8ms\n",
      "56:\tlearn: 25.4402653\ttest: 26.2761834\tbest: 26.2761834 (56)\ttotal: 48.4ms\tremaining: 79ms\n",
      "57:\tlearn: 25.4099694\ttest: 26.2378712\tbest: 26.2378712 (57)\ttotal: 49.2ms\tremaining: 78.1ms\n",
      "58:\tlearn: 25.3686758\ttest: 26.1846491\tbest: 26.1846491 (58)\ttotal: 50.2ms\tremaining: 77.4ms\n",
      "59:\tlearn: 25.3343043\ttest: 26.1265152\tbest: 26.1265152 (59)\ttotal: 51ms\tremaining: 76.5ms\n",
      "60:\tlearn: 25.3202781\ttest: 26.0958313\tbest: 26.0958313 (60)\ttotal: 51.9ms\tremaining: 75.8ms\n",
      "61:\tlearn: 25.2945576\ttest: 26.0703638\tbest: 26.0703638 (61)\ttotal: 52.9ms\tremaining: 75.1ms\n",
      "62:\tlearn: 25.2779008\ttest: 26.0375418\tbest: 26.0375418 (62)\ttotal: 53.7ms\tremaining: 74.2ms\n",
      "63:\tlearn: 25.2529972\ttest: 26.0009845\tbest: 26.0009845 (63)\ttotal: 54.6ms\tremaining: 73.4ms\n",
      "64:\tlearn: 25.2340632\ttest: 25.9742495\tbest: 25.9742495 (64)\ttotal: 68.8ms\tremaining: 89.9ms\n",
      "65:\tlearn: 25.1950686\ttest: 25.9363550\tbest: 25.9363550 (65)\ttotal: 69.6ms\tremaining: 88.5ms\n",
      "66:\tlearn: 25.1786886\ttest: 25.9200756\tbest: 25.9200756 (66)\ttotal: 70.4ms\tremaining: 87.2ms\n",
      "67:\tlearn: 25.1673781\ttest: 25.9144383\tbest: 25.9144383 (67)\ttotal: 71.2ms\tremaining: 85.9ms\n",
      "68:\tlearn: 25.1534516\ttest: 25.9018182\tbest: 25.9018182 (68)\ttotal: 72.1ms\tremaining: 84.7ms\n",
      "69:\tlearn: 25.1384953\ttest: 25.8872989\tbest: 25.8872989 (69)\ttotal: 73.4ms\tremaining: 83.8ms\n",
      "70:\tlearn: 25.1221808\ttest: 25.8567705\tbest: 25.8567705 (70)\ttotal: 74.3ms\tremaining: 82.7ms\n",
      "71:\tlearn: 25.1087446\ttest: 25.8472853\tbest: 25.8472853 (71)\ttotal: 75.5ms\tremaining: 81.8ms\n",
      "72:\tlearn: 25.0828465\ttest: 25.8065669\tbest: 25.8065669 (72)\ttotal: 76.4ms\tremaining: 80.6ms\n",
      "73:\tlearn: 25.0675034\ttest: 25.7842817\tbest: 25.7842817 (73)\ttotal: 77.3ms\tremaining: 79.3ms\n",
      "74:\tlearn: 25.0525589\ttest: 25.7519480\tbest: 25.7519480 (74)\ttotal: 78ms\tremaining: 78ms\n",
      "75:\tlearn: 25.0254068\ttest: 25.7460984\tbest: 25.7460984 (75)\ttotal: 78.9ms\tremaining: 76.8ms\n",
      "76:\tlearn: 25.0066478\ttest: 25.7105668\tbest: 25.7105668 (76)\ttotal: 79.7ms\tremaining: 75.6ms\n",
      "77:\tlearn: 24.9897900\ttest: 25.6871773\tbest: 25.6871773 (77)\ttotal: 80.5ms\tremaining: 74.3ms\n",
      "78:\tlearn: 24.9764514\ttest: 25.6682699\tbest: 25.6682699 (78)\ttotal: 81.3ms\tremaining: 73ms\n",
      "79:\tlearn: 24.9481133\ttest: 25.6411515\tbest: 25.6411515 (79)\ttotal: 82.2ms\tremaining: 71.9ms\n",
      "80:\tlearn: 24.9362902\ttest: 25.6176687\tbest: 25.6176687 (80)\ttotal: 83ms\tremaining: 70.7ms\n",
      "81:\tlearn: 24.9183384\ttest: 25.6063016\tbest: 25.6063016 (81)\ttotal: 83.7ms\tremaining: 69.4ms\n",
      "82:\tlearn: 24.9053233\ttest: 25.5982533\tbest: 25.5982533 (82)\ttotal: 84.4ms\tremaining: 68.2ms\n",
      "83:\tlearn: 24.8857083\ttest: 25.5799561\tbest: 25.5799561 (83)\ttotal: 85.3ms\tremaining: 67ms\n",
      "84:\tlearn: 24.8792215\ttest: 25.5665198\tbest: 25.5665198 (84)\ttotal: 86ms\tremaining: 65.8ms\n",
      "85:\tlearn: 24.8503110\ttest: 25.5123046\tbest: 25.5123046 (85)\ttotal: 86.8ms\tremaining: 64.6ms\n",
      "86:\tlearn: 24.8370574\ttest: 25.5164374\tbest: 25.5123046 (85)\ttotal: 87.4ms\tremaining: 63.3ms\n",
      "87:\tlearn: 24.8143403\ttest: 25.5122567\tbest: 25.5122567 (87)\ttotal: 88.2ms\tremaining: 62.1ms\n",
      "88:\tlearn: 24.8017093\ttest: 25.4879644\tbest: 25.4879644 (88)\ttotal: 89ms\tremaining: 61ms\n",
      "89:\tlearn: 24.7924789\ttest: 25.4643331\tbest: 25.4643331 (89)\ttotal: 89.7ms\tremaining: 59.8ms\n",
      "90:\tlearn: 24.7868659\ttest: 25.4567499\tbest: 25.4567499 (90)\ttotal: 90.6ms\tremaining: 58.7ms\n",
      "91:\tlearn: 24.7753828\ttest: 25.4377142\tbest: 25.4377142 (91)\ttotal: 91.4ms\tremaining: 57.6ms\n",
      "92:\tlearn: 24.7596099\ttest: 25.4131923\tbest: 25.4131923 (92)\ttotal: 92.3ms\tremaining: 56.5ms\n",
      "93:\tlearn: 24.7508089\ttest: 25.3974597\tbest: 25.3974597 (93)\ttotal: 93.1ms\tremaining: 55.5ms\n",
      "94:\tlearn: 24.7405959\ttest: 25.3874132\tbest: 25.3874132 (94)\ttotal: 94ms\tremaining: 54.4ms\n",
      "95:\tlearn: 24.7314899\ttest: 25.3853276\tbest: 25.3853276 (95)\ttotal: 94.8ms\tremaining: 53.3ms\n",
      "96:\tlearn: 24.7266912\ttest: 25.3843649\tbest: 25.3843649 (96)\ttotal: 95.7ms\tremaining: 52.3ms\n",
      "97:\tlearn: 24.7171267\ttest: 25.3701353\tbest: 25.3701353 (97)\ttotal: 96.5ms\tremaining: 51.2ms\n",
      "98:\tlearn: 24.7031771\ttest: 25.3518512\tbest: 25.3518512 (98)\ttotal: 97.3ms\tremaining: 50.1ms\n",
      "99:\tlearn: 24.6953483\ttest: 25.3467561\tbest: 25.3467561 (99)\ttotal: 98.1ms\tremaining: 49.1ms\n",
      "100:\tlearn: 24.6912265\ttest: 25.3480343\tbest: 25.3467561 (99)\ttotal: 98.9ms\tremaining: 48ms\n",
      "101:\tlearn: 24.6892668\ttest: 25.3480321\tbest: 25.3467561 (99)\ttotal: 99.8ms\tremaining: 47ms\n",
      "102:\tlearn: 24.6676203\ttest: 25.3061600\tbest: 25.3061600 (102)\ttotal: 101ms\tremaining: 45.9ms\n",
      "103:\tlearn: 24.6589268\ttest: 25.3021440\tbest: 25.3021440 (103)\ttotal: 101ms\tremaining: 44.8ms\n",
      "104:\tlearn: 24.6490024\ttest: 25.2786817\tbest: 25.2786817 (104)\ttotal: 102ms\tremaining: 43.8ms\n",
      "105:\tlearn: 24.6447548\ttest: 25.2781951\tbest: 25.2781951 (105)\ttotal: 103ms\tremaining: 42.7ms\n",
      "106:\tlearn: 24.6410503\ttest: 25.2770744\tbest: 25.2770744 (106)\ttotal: 104ms\tremaining: 41.6ms\n",
      "107:\tlearn: 24.6341589\ttest: 25.2622636\tbest: 25.2622636 (107)\ttotal: 104ms\tremaining: 40.6ms\n",
      "108:\tlearn: 24.6303101\ttest: 25.2613111\tbest: 25.2613111 (108)\ttotal: 105ms\tremaining: 39.5ms\n",
      "109:\tlearn: 24.5981868\ttest: 25.2357904\tbest: 25.2357904 (109)\ttotal: 106ms\tremaining: 38.5ms\n",
      "110:\tlearn: 24.5812645\ttest: 25.2222892\tbest: 25.2222892 (110)\ttotal: 107ms\tremaining: 37.4ms\n",
      "111:\tlearn: 24.5791992\ttest: 25.2178481\tbest: 25.2178481 (111)\ttotal: 107ms\tremaining: 36.4ms\n",
      "112:\tlearn: 24.5725556\ttest: 25.2152018\tbest: 25.2152018 (112)\ttotal: 108ms\tremaining: 35.4ms\n",
      "113:\tlearn: 24.5653764\ttest: 25.2152819\tbest: 25.2152018 (112)\ttotal: 109ms\tremaining: 34.4ms\n",
      "114:\tlearn: 24.5457253\ttest: 25.1773122\tbest: 25.1773122 (114)\ttotal: 110ms\tremaining: 33.4ms\n",
      "115:\tlearn: 24.5309866\ttest: 25.1466731\tbest: 25.1466731 (115)\ttotal: 111ms\tremaining: 32.4ms\n",
      "116:\tlearn: 24.5104909\ttest: 25.1514258\tbest: 25.1466731 (115)\ttotal: 111ms\tremaining: 31.4ms\n",
      "117:\tlearn: 24.4854510\ttest: 25.1311542\tbest: 25.1311542 (117)\ttotal: 112ms\tremaining: 30.4ms\n",
      "118:\tlearn: 24.4787728\ttest: 25.1291922\tbest: 25.1291922 (118)\ttotal: 113ms\tremaining: 29.4ms\n",
      "119:\tlearn: 24.4764636\ttest: 25.1251530\tbest: 25.1251530 (119)\ttotal: 113ms\tremaining: 28.4ms\n",
      "120:\tlearn: 24.4660055\ttest: 25.1158241\tbest: 25.1158241 (120)\ttotal: 114ms\tremaining: 27.3ms\n",
      "121:\tlearn: 24.4528880\ttest: 25.0885591\tbest: 25.0885591 (121)\ttotal: 115ms\tremaining: 26.4ms\n",
      "122:\tlearn: 24.4491032\ttest: 25.0873459\tbest: 25.0873459 (122)\ttotal: 116ms\tremaining: 25.4ms\n",
      "123:\tlearn: 24.4294435\ttest: 25.0809019\tbest: 25.0809019 (123)\ttotal: 116ms\tremaining: 24.4ms\n",
      "124:\tlearn: 24.4092645\ttest: 25.0726091\tbest: 25.0726091 (124)\ttotal: 117ms\tremaining: 23.5ms\n",
      "125:\tlearn: 24.3916556\ttest: 25.0761067\tbest: 25.0726091 (124)\ttotal: 118ms\tremaining: 22.5ms\n",
      "126:\tlearn: 24.3882141\ttest: 25.0779708\tbest: 25.0726091 (124)\ttotal: 119ms\tremaining: 21.5ms\n",
      "127:\tlearn: 24.3876526\ttest: 25.0778692\tbest: 25.0726091 (124)\ttotal: 120ms\tremaining: 20.6ms\n",
      "128:\tlearn: 24.3794296\ttest: 25.0824234\tbest: 25.0726091 (124)\ttotal: 121ms\tremaining: 19.7ms\n",
      "129:\tlearn: 24.3689546\ttest: 25.0613146\tbest: 25.0613146 (129)\ttotal: 122ms\tremaining: 18.7ms\n",
      "130:\tlearn: 24.3526732\ttest: 25.0518596\tbest: 25.0518596 (130)\ttotal: 122ms\tremaining: 17.8ms\n",
      "131:\tlearn: 24.3404869\ttest: 25.0444421\tbest: 25.0444421 (131)\ttotal: 123ms\tremaining: 16.8ms\n",
      "132:\tlearn: 24.3305174\ttest: 25.0360965\tbest: 25.0360965 (132)\ttotal: 124ms\tremaining: 15.9ms\n",
      "133:\tlearn: 24.3147015\ttest: 25.0337650\tbest: 25.0337650 (133)\ttotal: 125ms\tremaining: 14.9ms\n",
      "134:\tlearn: 24.3083991\ttest: 25.0240354\tbest: 25.0240354 (134)\ttotal: 126ms\tremaining: 14ms\n",
      "135:\tlearn: 24.2967729\ttest: 25.0123075\tbest: 25.0123075 (135)\ttotal: 127ms\tremaining: 13ms\n",
      "136:\tlearn: 24.2917182\ttest: 25.0104405\tbest: 25.0104405 (136)\ttotal: 128ms\tremaining: 12.1ms\n",
      "137:\tlearn: 24.2849004\ttest: 25.0076840\tbest: 25.0076840 (137)\ttotal: 128ms\tremaining: 11.2ms\n",
      "138:\tlearn: 24.2704234\ttest: 25.0146689\tbest: 25.0076840 (137)\ttotal: 129ms\tremaining: 10.2ms\n",
      "139:\tlearn: 24.2679961\ttest: 25.0088668\tbest: 25.0076840 (137)\ttotal: 130ms\tremaining: 9.29ms\n",
      "140:\tlearn: 24.2665307\ttest: 25.0056514\tbest: 25.0056514 (140)\ttotal: 131ms\tremaining: 8.35ms\n",
      "141:\tlearn: 24.2650507\ttest: 25.0025812\tbest: 25.0025812 (141)\ttotal: 132ms\tremaining: 7.42ms\n",
      "142:\tlearn: 24.2554837\ttest: 24.9830941\tbest: 24.9830941 (142)\ttotal: 133ms\tremaining: 6.49ms\n",
      "143:\tlearn: 24.2513086\ttest: 24.9825414\tbest: 24.9825414 (143)\ttotal: 133ms\tremaining: 5.55ms\n",
      "144:\tlearn: 24.2508428\ttest: 24.9824753\tbest: 24.9824753 (144)\ttotal: 134ms\tremaining: 4.62ms\n",
      "145:\tlearn: 24.2501436\ttest: 24.9824720\tbest: 24.9824720 (145)\ttotal: 135ms\tremaining: 3.69ms\n",
      "146:\tlearn: 24.2352255\ttest: 24.9770513\tbest: 24.9770513 (146)\ttotal: 136ms\tremaining: 2.77ms\n",
      "147:\tlearn: 24.2255458\ttest: 24.9665473\tbest: 24.9665473 (147)\ttotal: 137ms\tremaining: 1.84ms\n",
      "148:\tlearn: 24.2250202\ttest: 24.9664303\tbest: 24.9664303 (148)\ttotal: 137ms\tremaining: 921us\n",
      "149:\tlearn: 24.2247417\ttest: 24.9664245\tbest: 24.9664245 (149)\ttotal: 138ms\tremaining: 0us\n",
      "\n",
      "bestTest = 24.96642449\n",
      "bestIteration = 149\n",
      "\n",
      "Training on fold [2/3]\n",
      "0:\tlearn: 80.5779819\ttest: 79.8637906\tbest: 79.8637906 (0)\ttotal: 1.05ms\tremaining: 157ms\n",
      "1:\tlearn: 74.1282649\ttest: 73.4414855\tbest: 73.4414855 (1)\ttotal: 2.17ms\tremaining: 160ms\n",
      "2:\tlearn: 68.5056818\ttest: 67.7708293\tbest: 67.7708293 (2)\ttotal: 3.28ms\tremaining: 161ms\n",
      "3:\tlearn: 63.3421593\ttest: 62.6573175\tbest: 62.6573175 (3)\ttotal: 4.11ms\tremaining: 150ms\n",
      "4:\tlearn: 59.0033109\ttest: 58.3190800\tbest: 58.3190800 (4)\ttotal: 5.02ms\tremaining: 145ms\n",
      "5:\tlearn: 55.0119675\ttest: 54.3383932\tbest: 54.3383932 (5)\ttotal: 5.97ms\tremaining: 143ms\n",
      "6:\tlearn: 51.5843832\ttest: 50.9189974\tbest: 50.9189974 (6)\ttotal: 6.89ms\tremaining: 141ms\n",
      "7:\tlearn: 48.6172609\ttest: 47.9081035\tbest: 47.9081035 (7)\ttotal: 7.71ms\tremaining: 137ms\n",
      "8:\tlearn: 46.0519379\ttest: 45.3413478\tbest: 45.3413478 (8)\ttotal: 8.73ms\tremaining: 137ms\n",
      "9:\tlearn: 43.9805269\ttest: 43.2484095\tbest: 43.2484095 (9)\ttotal: 9.96ms\tremaining: 139ms\n",
      "10:\tlearn: 42.0700980\ttest: 41.3087947\tbest: 41.3087947 (10)\ttotal: 11.2ms\tremaining: 142ms\n",
      "11:\tlearn: 40.4982133\ttest: 39.7521970\tbest: 39.7521970 (11)\ttotal: 18.9ms\tremaining: 217ms\n",
      "12:\tlearn: 39.0168305\ttest: 38.2657100\tbest: 38.2657100 (12)\ttotal: 19.9ms\tremaining: 210ms\n",
      "13:\tlearn: 37.8169539\ttest: 37.0742741\tbest: 37.0742741 (13)\ttotal: 20.8ms\tremaining: 203ms\n",
      "14:\tlearn: 36.8151809\ttest: 36.0584286\tbest: 36.0584286 (14)\ttotal: 22.1ms\tremaining: 199ms\n",
      "15:\tlearn: 35.8821459\ttest: 35.1043262\tbest: 35.1043262 (15)\ttotal: 23.4ms\tremaining: 196ms\n",
      "16:\tlearn: 35.1368606\ttest: 34.3607979\tbest: 34.3607979 (16)\ttotal: 24.5ms\tremaining: 192ms\n",
      "17:\tlearn: 34.4965829\ttest: 33.7308588\tbest: 33.7308588 (17)\ttotal: 25.8ms\tremaining: 189ms\n",
      "18:\tlearn: 33.9008610\ttest: 33.1342835\tbest: 33.1342835 (18)\ttotal: 26.8ms\tremaining: 185ms\n",
      "19:\tlearn: 33.4481096\ttest: 32.6826999\tbest: 32.6826999 (19)\ttotal: 27.7ms\tremaining: 180ms\n",
      "20:\tlearn: 32.5834141\ttest: 31.7966312\tbest: 31.7966312 (20)\ttotal: 28.7ms\tremaining: 177ms\n",
      "21:\tlearn: 31.8385744\ttest: 30.9729418\tbest: 30.9729418 (21)\ttotal: 29.7ms\tremaining: 173ms\n",
      "22:\tlearn: 31.1451839\ttest: 30.2322580\tbest: 30.2322580 (22)\ttotal: 30.5ms\tremaining: 168ms\n",
      "23:\tlearn: 30.5424876\ttest: 29.6015141\tbest: 29.6015141 (23)\ttotal: 31.4ms\tremaining: 165ms\n",
      "24:\tlearn: 30.0302681\ttest: 29.0593549\tbest: 29.0593549 (24)\ttotal: 32.5ms\tremaining: 162ms\n",
      "25:\tlearn: 29.5924136\ttest: 28.5980523\tbest: 28.5980523 (25)\ttotal: 33.3ms\tremaining: 159ms\n",
      "26:\tlearn: 29.2018796\ttest: 28.1589783\tbest: 28.1589783 (26)\ttotal: 34ms\tremaining: 155ms\n",
      "27:\tlearn: 28.8968847\ttest: 27.8034290\tbest: 27.8034290 (27)\ttotal: 34.7ms\tremaining: 151ms\n",
      "28:\tlearn: 28.5793510\ttest: 27.4389020\tbest: 27.4389020 (28)\ttotal: 35.5ms\tremaining: 148ms\n",
      "29:\tlearn: 28.3227273\ttest: 27.1453810\tbest: 27.1453810 (29)\ttotal: 36.1ms\tremaining: 145ms\n",
      "30:\tlearn: 28.1261546\ttest: 26.9171718\tbest: 26.9171718 (30)\ttotal: 36.9ms\tremaining: 142ms\n",
      "31:\tlearn: 27.8973217\ttest: 26.6564376\tbest: 26.6564376 (31)\ttotal: 37.8ms\tremaining: 139ms\n",
      "32:\tlearn: 27.7614821\ttest: 26.4974399\tbest: 26.4974399 (32)\ttotal: 38.7ms\tremaining: 137ms\n",
      "33:\tlearn: 27.5834691\ttest: 26.2739381\tbest: 26.2739381 (33)\ttotal: 39.6ms\tremaining: 135ms\n",
      "34:\tlearn: 27.4682121\ttest: 26.1538445\tbest: 26.1538445 (34)\ttotal: 40.4ms\tremaining: 133ms\n",
      "35:\tlearn: 27.3573452\ttest: 26.0343039\tbest: 26.0343039 (35)\ttotal: 41.2ms\tremaining: 130ms\n",
      "36:\tlearn: 27.2498678\ttest: 25.8990844\tbest: 25.8990844 (36)\ttotal: 42.2ms\tremaining: 129ms\n",
      "37:\tlearn: 27.1456620\ttest: 25.8369584\tbest: 25.8369584 (37)\ttotal: 43.1ms\tremaining: 127ms\n",
      "38:\tlearn: 27.0561942\ttest: 25.7605813\tbest: 25.7605813 (38)\ttotal: 44.1ms\tremaining: 125ms\n",
      "39:\tlearn: 26.9560583\ttest: 25.6328725\tbest: 25.6328725 (39)\ttotal: 44.9ms\tremaining: 124ms\n",
      "40:\tlearn: 26.8908391\ttest: 25.5912238\tbest: 25.5912238 (40)\ttotal: 45.7ms\tremaining: 122ms\n",
      "41:\tlearn: 26.8212899\ttest: 25.5356570\tbest: 25.5356570 (41)\ttotal: 46.5ms\tremaining: 120ms\n",
      "42:\tlearn: 26.6979422\ttest: 25.4124531\tbest: 25.4124531 (42)\ttotal: 47.5ms\tremaining: 118ms\n",
      "43:\tlearn: 26.6442936\ttest: 25.3902844\tbest: 25.3902844 (43)\ttotal: 48.4ms\tremaining: 117ms\n",
      "44:\tlearn: 26.5786399\ttest: 25.3772617\tbest: 25.3772617 (44)\ttotal: 49.2ms\tremaining: 115ms\n",
      "45:\tlearn: 26.5214268\ttest: 25.3284455\tbest: 25.3284455 (45)\ttotal: 49.8ms\tremaining: 113ms\n",
      "46:\tlearn: 26.4650067\ttest: 25.3207530\tbest: 25.3207530 (46)\ttotal: 50.6ms\tremaining: 111ms\n",
      "47:\tlearn: 26.3808494\ttest: 25.2214883\tbest: 25.2214883 (47)\ttotal: 51.6ms\tremaining: 110ms\n",
      "48:\tlearn: 26.3245927\ttest: 25.1830532\tbest: 25.1830532 (48)\ttotal: 52.4ms\tremaining: 108ms\n",
      "49:\tlearn: 26.2746200\ttest: 25.1415402\tbest: 25.1415402 (49)\ttotal: 53.2ms\tremaining: 106ms\n",
      "50:\tlearn: 26.1950463\ttest: 25.0584953\tbest: 25.0584953 (50)\ttotal: 54ms\tremaining: 105ms\n",
      "51:\tlearn: 26.1703329\ttest: 25.0578869\tbest: 25.0578869 (51)\ttotal: 55ms\tremaining: 104ms\n",
      "52:\tlearn: 26.1235644\ttest: 25.0119179\tbest: 25.0119179 (52)\ttotal: 56ms\tremaining: 102ms\n",
      "53:\tlearn: 26.0838042\ttest: 24.9955245\tbest: 24.9955245 (53)\ttotal: 56.7ms\tremaining: 101ms\n",
      "54:\tlearn: 26.0265518\ttest: 24.9382319\tbest: 24.9382319 (54)\ttotal: 57.6ms\tremaining: 99.4ms\n",
      "55:\tlearn: 25.9745935\ttest: 24.9108349\tbest: 24.9108349 (55)\ttotal: 58.4ms\tremaining: 98ms\n",
      "56:\tlearn: 25.9065588\ttest: 24.8716681\tbest: 24.8716681 (56)\ttotal: 59.3ms\tremaining: 96.8ms\n",
      "57:\tlearn: 25.8880207\ttest: 24.8692126\tbest: 24.8692126 (57)\ttotal: 60.2ms\tremaining: 95.5ms\n",
      "58:\tlearn: 25.8398587\ttest: 24.8341341\tbest: 24.8341341 (58)\ttotal: 61.4ms\tremaining: 94.7ms\n",
      "59:\tlearn: 25.8050998\ttest: 24.7940059\tbest: 24.7940059 (59)\ttotal: 62.3ms\tremaining: 93.5ms\n",
      "60:\tlearn: 25.7802329\ttest: 24.7609092\tbest: 24.7609092 (60)\ttotal: 63.3ms\tremaining: 92.3ms\n",
      "61:\tlearn: 25.7474915\ttest: 24.7069841\tbest: 24.7069841 (61)\ttotal: 64.2ms\tremaining: 91.1ms\n",
      "62:\tlearn: 25.7273786\ttest: 24.7069086\tbest: 24.7069086 (62)\ttotal: 65ms\tremaining: 89.7ms\n",
      "63:\tlearn: 25.6891913\ttest: 24.6711650\tbest: 24.6711650 (63)\ttotal: 65.9ms\tremaining: 88.6ms\n",
      "64:\tlearn: 25.6695646\ttest: 24.6700976\tbest: 24.6700976 (64)\ttotal: 67ms\tremaining: 87.6ms\n",
      "65:\tlearn: 25.6542861\ttest: 24.6680952\tbest: 24.6680952 (65)\ttotal: 67.9ms\tremaining: 86.4ms\n",
      "66:\tlearn: 25.6366166\ttest: 24.6551738\tbest: 24.6551738 (66)\ttotal: 68.8ms\tremaining: 85.2ms\n",
      "67:\tlearn: 25.6229639\ttest: 24.6547011\tbest: 24.6547011 (67)\ttotal: 69.8ms\tremaining: 84.1ms\n",
      "68:\tlearn: 25.6047934\ttest: 24.6555907\tbest: 24.6547011 (67)\ttotal: 70.7ms\tremaining: 82.9ms\n",
      "69:\tlearn: 25.5663966\ttest: 24.6228057\tbest: 24.6228057 (69)\ttotal: 71.5ms\tremaining: 81.7ms\n",
      "70:\tlearn: 25.5540707\ttest: 24.6227777\tbest: 24.6227777 (70)\ttotal: 72.3ms\tremaining: 80.5ms\n",
      "71:\tlearn: 25.5433025\ttest: 24.6227704\tbest: 24.6227704 (71)\ttotal: 73.2ms\tremaining: 79.3ms\n",
      "72:\tlearn: 25.5333746\ttest: 24.6227638\tbest: 24.6227638 (72)\ttotal: 74.1ms\tremaining: 78.2ms\n",
      "73:\tlearn: 25.5139884\ttest: 24.6080414\tbest: 24.6080414 (73)\ttotal: 75.2ms\tremaining: 77.2ms\n",
      "74:\tlearn: 25.4961937\ttest: 24.6067222\tbest: 24.6067222 (74)\ttotal: 76.2ms\tremaining: 76.2ms\n",
      "75:\tlearn: 25.4809423\ttest: 24.6082765\tbest: 24.6067222 (74)\ttotal: 77.1ms\tremaining: 75ms\n",
      "76:\tlearn: 25.4573333\ttest: 24.5936509\tbest: 24.5936509 (76)\ttotal: 77.8ms\tremaining: 73.8ms\n",
      "77:\tlearn: 25.4338846\ttest: 24.5594952\tbest: 24.5594952 (77)\ttotal: 78.7ms\tremaining: 72.6ms\n",
      "78:\tlearn: 25.4048166\ttest: 24.5287259\tbest: 24.5287259 (78)\ttotal: 79.5ms\tremaining: 71.5ms\n",
      "79:\tlearn: 25.3811990\ttest: 24.4938588\tbest: 24.4938588 (79)\ttotal: 80.3ms\tremaining: 70.3ms\n",
      "80:\tlearn: 25.3679589\ttest: 24.4935039\tbest: 24.4935039 (80)\ttotal: 81.2ms\tremaining: 69.2ms\n",
      "81:\tlearn: 25.3554527\ttest: 24.4935432\tbest: 24.4935039 (80)\ttotal: 82.1ms\tremaining: 68.1ms\n",
      "82:\tlearn: 25.3435106\ttest: 24.4933983\tbest: 24.4933983 (82)\ttotal: 82.9ms\tremaining: 66.9ms\n",
      "83:\tlearn: 25.3134532\ttest: 24.4664913\tbest: 24.4664913 (83)\ttotal: 83.7ms\tremaining: 65.8ms\n",
      "84:\tlearn: 25.3021385\ttest: 24.4665098\tbest: 24.4664913 (83)\ttotal: 84.6ms\tremaining: 64.7ms\n",
      "85:\tlearn: 25.2751779\ttest: 24.4411079\tbest: 24.4411079 (85)\ttotal: 85.6ms\tremaining: 63.7ms\n",
      "86:\tlearn: 25.2497480\ttest: 24.4426726\tbest: 24.4411079 (85)\ttotal: 86.5ms\tremaining: 62.6ms\n",
      "87:\tlearn: 25.2394911\ttest: 24.4428575\tbest: 24.4411079 (85)\ttotal: 87.6ms\tremaining: 61.7ms\n",
      "88:\tlearn: 25.2284155\ttest: 24.4438844\tbest: 24.4411079 (85)\ttotal: 88.5ms\tremaining: 60.7ms\n",
      "89:\tlearn: 25.2112937\ttest: 24.4128129\tbest: 24.4128129 (89)\ttotal: 89.4ms\tremaining: 59.6ms\n",
      "90:\tlearn: 25.1964921\ttest: 24.4003755\tbest: 24.4003755 (90)\ttotal: 90.2ms\tremaining: 58.5ms\n",
      "91:\tlearn: 25.1636212\ttest: 24.3711985\tbest: 24.3711985 (91)\ttotal: 91.3ms\tremaining: 57.5ms\n",
      "92:\tlearn: 25.1359244\ttest: 24.3295059\tbest: 24.3295059 (92)\ttotal: 92.3ms\tremaining: 56.6ms\n",
      "93:\tlearn: 25.1102540\ttest: 24.3066742\tbest: 24.3066742 (93)\ttotal: 93.2ms\tremaining: 55.5ms\n",
      "94:\tlearn: 25.1012524\ttest: 24.3066985\tbest: 24.3066742 (93)\ttotal: 94ms\tremaining: 54.4ms\n",
      "95:\tlearn: 25.0813693\ttest: 24.2763535\tbest: 24.2763535 (95)\ttotal: 94.9ms\tremaining: 53.4ms\n",
      "96:\tlearn: 25.0490724\ttest: 24.2542024\tbest: 24.2542024 (96)\ttotal: 95.8ms\tremaining: 52.3ms\n",
      "97:\tlearn: 25.0392273\ttest: 24.2538683\tbest: 24.2538683 (97)\ttotal: 96.8ms\tremaining: 51.4ms\n",
      "98:\tlearn: 25.0128364\ttest: 24.2389466\tbest: 24.2389466 (98)\ttotal: 97.6ms\tremaining: 50.3ms\n",
      "99:\tlearn: 24.9833946\ttest: 24.2301335\tbest: 24.2301335 (99)\ttotal: 98.5ms\tremaining: 49.2ms\n",
      "100:\tlearn: 24.9571456\ttest: 24.2179151\tbest: 24.2179151 (100)\ttotal: 99.3ms\tremaining: 48.2ms\n",
      "101:\tlearn: 24.9410097\ttest: 24.2153414\tbest: 24.2153414 (101)\ttotal: 100ms\tremaining: 47.2ms\n",
      "102:\tlearn: 24.9328334\ttest: 24.2153625\tbest: 24.2153414 (101)\ttotal: 101ms\tremaining: 46.1ms\n",
      "103:\tlearn: 24.9175199\ttest: 24.2091786\tbest: 24.2091786 (103)\ttotal: 102ms\tremaining: 45.1ms\n",
      "104:\tlearn: 24.9096053\ttest: 24.2094997\tbest: 24.2091786 (103)\ttotal: 103ms\tremaining: 44ms\n",
      "105:\tlearn: 24.8907045\ttest: 24.1995468\tbest: 24.1995468 (105)\ttotal: 113ms\tremaining: 46.9ms\n",
      "106:\tlearn: 24.8743015\ttest: 24.1853458\tbest: 24.1853458 (106)\ttotal: 114ms\tremaining: 45.7ms\n",
      "107:\tlearn: 24.8580282\ttest: 24.1585723\tbest: 24.1585723 (107)\ttotal: 115ms\tremaining: 44.6ms\n",
      "108:\tlearn: 24.8503410\ttest: 24.1590749\tbest: 24.1585723 (107)\ttotal: 116ms\tremaining: 43.5ms\n",
      "109:\tlearn: 24.8432856\ttest: 24.1592250\tbest: 24.1585723 (107)\ttotal: 117ms\tremaining: 42.4ms\n",
      "110:\tlearn: 24.8161141\ttest: 24.1268826\tbest: 24.1268826 (110)\ttotal: 117ms\tremaining: 41.3ms\n",
      "111:\tlearn: 24.7930737\ttest: 24.1192911\tbest: 24.1192911 (111)\ttotal: 118ms\tremaining: 40.1ms\n",
      "112:\tlearn: 24.7893575\ttest: 24.1193028\tbest: 24.1192911 (111)\ttotal: 119ms\tremaining: 39.1ms\n",
      "113:\tlearn: 24.7701947\ttest: 24.1051825\tbest: 24.1051825 (113)\ttotal: 120ms\tremaining: 38ms\n",
      "114:\tlearn: 24.7636154\ttest: 24.1049795\tbest: 24.1049795 (114)\ttotal: 121ms\tremaining: 36.8ms\n",
      "115:\tlearn: 24.7526291\ttest: 24.0945380\tbest: 24.0945380 (115)\ttotal: 122ms\tremaining: 35.7ms\n",
      "116:\tlearn: 24.7248719\ttest: 24.0975197\tbest: 24.0945380 (115)\ttotal: 123ms\tremaining: 34.6ms\n",
      "117:\tlearn: 24.7157697\ttest: 24.0890024\tbest: 24.0890024 (117)\ttotal: 124ms\tremaining: 33.6ms\n",
      "118:\tlearn: 24.7124930\ttest: 24.0904932\tbest: 24.0890024 (117)\ttotal: 125ms\tremaining: 32.5ms\n",
      "119:\tlearn: 24.7034027\ttest: 24.0830208\tbest: 24.0830208 (119)\ttotal: 126ms\tremaining: 31.4ms\n",
      "120:\tlearn: 24.6971468\ttest: 24.0833678\tbest: 24.0830208 (119)\ttotal: 127ms\tremaining: 30.4ms\n",
      "121:\tlearn: 24.6811485\ttest: 24.0633829\tbest: 24.0633829 (121)\ttotal: 128ms\tremaining: 29.3ms\n",
      "122:\tlearn: 24.6743604\ttest: 24.0595029\tbest: 24.0595029 (122)\ttotal: 128ms\tremaining: 28.2ms\n",
      "123:\tlearn: 24.6611810\ttest: 24.0617994\tbest: 24.0595029 (122)\ttotal: 129ms\tremaining: 27.1ms\n",
      "124:\tlearn: 24.6573854\ttest: 24.0597495\tbest: 24.0595029 (122)\ttotal: 130ms\tremaining: 26.1ms\n",
      "125:\tlearn: 24.6359962\ttest: 24.0429952\tbest: 24.0429952 (125)\ttotal: 131ms\tremaining: 25ms\n",
      "126:\tlearn: 24.6326017\ttest: 24.0460451\tbest: 24.0429952 (125)\ttotal: 132ms\tremaining: 23.9ms\n",
      "127:\tlearn: 24.6220102\ttest: 24.0469707\tbest: 24.0429952 (125)\ttotal: 133ms\tremaining: 22.9ms\n",
      "128:\tlearn: 24.6126619\ttest: 24.0348079\tbest: 24.0348079 (128)\ttotal: 134ms\tremaining: 21.8ms\n",
      "129:\tlearn: 24.6000551\ttest: 24.0217967\tbest: 24.0217967 (129)\ttotal: 135ms\tremaining: 20.7ms\n",
      "130:\tlearn: 24.5939781\ttest: 24.0179013\tbest: 24.0179013 (130)\ttotal: 136ms\tremaining: 19.7ms\n",
      "131:\tlearn: 24.5764309\ttest: 24.0172326\tbest: 24.0172326 (131)\ttotal: 136ms\tremaining: 18.6ms\n",
      "132:\tlearn: 24.5737251\ttest: 24.0172539\tbest: 24.0172326 (131)\ttotal: 137ms\tremaining: 17.5ms\n",
      "133:\tlearn: 24.5595617\ttest: 24.0080888\tbest: 24.0080888 (133)\ttotal: 139ms\tremaining: 16.5ms\n",
      "134:\tlearn: 24.5547723\ttest: 24.0056117\tbest: 24.0056117 (134)\ttotal: 140ms\tremaining: 15.5ms\n",
      "135:\tlearn: 24.5483502\ttest: 23.9971004\tbest: 23.9971004 (135)\ttotal: 141ms\tremaining: 14.5ms\n",
      "136:\tlearn: 24.5439530\ttest: 23.9944031\tbest: 23.9944031 (136)\ttotal: 142ms\tremaining: 13.5ms\n",
      "137:\tlearn: 24.5299962\ttest: 23.9921585\tbest: 23.9921585 (137)\ttotal: 143ms\tremaining: 12.4ms\n",
      "138:\tlearn: 24.5164368\ttest: 23.9747335\tbest: 23.9747335 (138)\ttotal: 144ms\tremaining: 11.4ms\n",
      "139:\tlearn: 24.5073813\ttest: 23.9588135\tbest: 23.9588135 (139)\ttotal: 145ms\tremaining: 10.3ms\n",
      "140:\tlearn: 24.5025188\ttest: 23.9564999\tbest: 23.9564999 (140)\ttotal: 146ms\tremaining: 9.3ms\n",
      "141:\tlearn: 24.4946603\ttest: 23.9541713\tbest: 23.9541713 (141)\ttotal: 147ms\tremaining: 8.26ms\n",
      "142:\tlearn: 24.4842854\ttest: 23.9552619\tbest: 23.9541713 (141)\ttotal: 148ms\tremaining: 7.22ms\n",
      "143:\tlearn: 24.4681916\ttest: 23.9418087\tbest: 23.9418087 (143)\ttotal: 148ms\tremaining: 6.18ms\n",
      "144:\tlearn: 24.4665788\ttest: 23.9381996\tbest: 23.9381996 (144)\ttotal: 149ms\tremaining: 5.15ms\n",
      "145:\tlearn: 24.4531517\ttest: 23.9320026\tbest: 23.9320026 (145)\ttotal: 150ms\tremaining: 4.12ms\n",
      "146:\tlearn: 24.4431304\ttest: 23.9349671\tbest: 23.9320026 (145)\ttotal: 151ms\tremaining: 3.08ms\n",
      "147:\tlearn: 24.4309730\ttest: 23.9172164\tbest: 23.9172164 (147)\ttotal: 152ms\tremaining: 2.05ms\n",
      "148:\tlearn: 24.4210839\ttest: 23.9161348\tbest: 23.9161348 (148)\ttotal: 153ms\tremaining: 1.02ms\n",
      "149:\tlearn: 24.3975939\ttest: 23.9031115\tbest: 23.9031115 (149)\ttotal: 154ms\tremaining: 0us\n",
      "\n",
      "bestTest = 23.90311145\n",
      "bestIteration = 149\n",
      "\n",
      "RMSE CatBoost: {'learn': {'RMSE': 24.03596465136834}}\n",
      "CPU times: user 1.22 s, sys: 173 ms, total: 1.39 s\n",
      "Wall time: 2.6 s\n"
     ]
    }
   ],
   "source": [
    "%%time \n",
    "\n",
    "cb_model = CatBoostRegressor(random_seed=31337,\n",
    "                          iterations=50,\n",
    "                          learning_rate=1,\n",
    "                          depth=2,\n",
    "                          custom_metric='RMSE',\n",
    "                          cat_features=['dayofweek', 'hour'],\n",
    "                          )\n",
    "\n",
    "param_grid = {\n",
    "    'num_leaves': [31, 127],\n",
    "    'n_estimators': [50, 100, 150],\n",
    "    'learning_rate': [0.1, 0.01]\n",
    "}\n",
    "\n",
    "grid_search_result = cb_model.grid_search(param_grid,\n",
    "            X=x_train,\n",
    "            y=y_train,\n",
    "            cv=3,\n",
    "            partition_random_seed=31337,\n",
    "            calc_cv_statistics=True,\n",
    "            search_by_train_test_split=True,\n",
    "            refit=True,\n",
    "            shuffle=True,\n",
    "            stratified=None,\n",
    "            train_size=0.8,\n",
    "            verbose=True,\n",
    "            plot=False)\n",
    "\n",
    "\n",
    "print('RMSE CatBoost:', cb_model.best_score_)\n"
   ]
  },
  {
   "cell_type": "markdown",
   "metadata": {},
   "source": [
    "Линейная регрессия показывает чуть худший результат, чем Catboost. Перебирая параметры MAX_LAG и ROLLING_MEAN_SIZE, наилучших результатов удалось достич при значениях 8 и 9 соответственно. "
   ]
  },
  {
   "cell_type": "markdown",
   "metadata": {},
   "source": [
    "## Тестирование"
   ]
  },
  {
   "cell_type": "code",
   "execution_count": 26,
   "metadata": {},
   "outputs": [
    {
     "name": "stdout",
     "output_type": "stream",
     "text": [
      "RMSE на тестовых данных\n",
      "LogisticRegression RMSE: 43.93502271350261\n",
      "Ridge RMSE: 43.93890752910049\n",
      "CatBoost RMSE: 46.30033079584817\n"
     ]
    }
   ],
   "source": [
    "print('RMSE на тестовых данных')\n",
    "print(\"LogisticRegression RMSE:\", rmse(y_test, lr_model.predict(x_test)))\n",
    "print(\"Ridge RMSE:\", rmse(y_test, ridge_model.predict(x_test)))\n",
    "print(\"CatBoost RMSE:\", rmse(y_test, cb_model.predict(x_test)))"
   ]
  },
  {
   "cell_type": "markdown",
   "metadata": {},
   "source": [
    "## Вывод\n",
    "В предоставленных данных содержалась инфмормация о количестве заказов такси с периодичностью в 10 минут за отрезок с 1 марта по 31 августа 2018 года. Учитывая, что поставлена задача - прогнозировать количество заказов на ближайший час, данные были агрегированы с перидочностью в час. Перед обучение модели, в набор данных были добавлены предыдущии значения показателя и плавающее среднее. Обучили две модели с перебором параметров. (Линейную регрессию, Ridge и CatBoost) и на тесовых данных лучшеую оценку показала линейная регрессия с оценкой RMSE ~44, что удовлетворяет условию задачи в 48."
   ]
  },
  {
   "cell_type": "markdown",
   "metadata": {},
   "source": [
    "## Чек-лист проверки"
   ]
  },
  {
   "cell_type": "markdown",
   "metadata": {},
   "source": [
    "- [x]  Jupyter Notebook открыт\n",
    "- [ ]  Весь код выполняется без ошибок\n",
    "- [ ]  Ячейки с кодом расположены в порядке исполнения\n",
    "- [ ]  Данные загружены и подготовлены\n",
    "- [ ]  Данные проанализированы\n",
    "- [ ]  Модель обучена, гиперпараметры подобраны\n",
    "- [ ]  Качество моделей проверено, выводы сделаны\n",
    "- [ ]  Значение *RMSE* на тестовой выборке не больше 48"
   ]
  }
 ],
 "metadata": {
  "ExecuteTimeLog": [
   {
    "duration": 1634,
    "start_time": "2023-07-25T13:06:20.760Z"
   },
   {
    "duration": 121,
    "start_time": "2023-07-25T13:06:22.396Z"
   },
   {
    "duration": 0,
    "start_time": "2023-07-25T13:06:22.519Z"
   },
   {
    "duration": 0,
    "start_time": "2023-07-25T13:06:22.520Z"
   },
   {
    "duration": 0,
    "start_time": "2023-07-25T13:06:22.522Z"
   },
   {
    "duration": 0,
    "start_time": "2023-07-25T13:06:22.523Z"
   },
   {
    "duration": 0,
    "start_time": "2023-07-25T13:06:22.524Z"
   },
   {
    "duration": 0,
    "start_time": "2023-07-25T13:06:22.525Z"
   },
   {
    "duration": 0,
    "start_time": "2023-07-25T13:06:22.526Z"
   },
   {
    "duration": 0,
    "start_time": "2023-07-25T13:06:22.527Z"
   },
   {
    "duration": 0,
    "start_time": "2023-07-25T13:06:22.529Z"
   },
   {
    "duration": 0,
    "start_time": "2023-07-25T13:06:22.530Z"
   },
   {
    "duration": 0,
    "start_time": "2023-07-25T13:06:22.531Z"
   },
   {
    "duration": 0,
    "start_time": "2023-07-25T13:06:22.532Z"
   },
   {
    "duration": 0,
    "start_time": "2023-07-25T13:06:22.533Z"
   },
   {
    "duration": 0,
    "start_time": "2023-07-25T13:06:22.534Z"
   },
   {
    "duration": 0,
    "start_time": "2023-07-25T13:06:22.535Z"
   },
   {
    "duration": 0,
    "start_time": "2023-07-25T13:06:22.536Z"
   },
   {
    "duration": 0,
    "start_time": "2023-07-25T13:06:22.538Z"
   },
   {
    "duration": 0,
    "start_time": "2023-07-25T13:06:22.538Z"
   },
   {
    "duration": 0,
    "start_time": "2023-07-25T13:06:22.574Z"
   },
   {
    "duration": 0,
    "start_time": "2023-07-25T13:06:22.575Z"
   },
   {
    "duration": 0,
    "start_time": "2023-07-25T13:06:22.576Z"
   },
   {
    "duration": 0,
    "start_time": "2023-07-25T13:06:22.576Z"
   },
   {
    "duration": 0,
    "start_time": "2023-07-25T13:06:22.577Z"
   },
   {
    "duration": 3,
    "start_time": "2023-07-25T13:06:43.166Z"
   },
   {
    "duration": 1540,
    "start_time": "2023-07-25T13:06:49.202Z"
   },
   {
    "duration": 3,
    "start_time": "2023-07-25T13:06:50.744Z"
   },
   {
    "duration": 14,
    "start_time": "2023-07-25T13:06:50.749Z"
   },
   {
    "duration": 195,
    "start_time": "2023-07-25T13:06:50.764Z"
   },
   {
    "duration": 28,
    "start_time": "2023-07-25T13:06:50.961Z"
   },
   {
    "duration": 42,
    "start_time": "2023-07-25T13:06:50.991Z"
   },
   {
    "duration": 25,
    "start_time": "2023-07-25T13:06:51.035Z"
   },
   {
    "duration": 142,
    "start_time": "2023-07-25T13:06:51.062Z"
   },
   {
    "duration": 9,
    "start_time": "2023-07-25T13:06:51.205Z"
   },
   {
    "duration": 339,
    "start_time": "2023-07-25T13:06:51.216Z"
   },
   {
    "duration": 4,
    "start_time": "2023-07-25T13:06:51.556Z"
   },
   {
    "duration": 38,
    "start_time": "2023-07-25T13:06:51.562Z"
   },
   {
    "duration": 193,
    "start_time": "2023-07-25T13:06:51.602Z"
   },
   {
    "duration": 0,
    "start_time": "2023-07-25T13:06:51.798Z"
   },
   {
    "duration": 0,
    "start_time": "2023-07-25T13:06:51.799Z"
   },
   {
    "duration": 0,
    "start_time": "2023-07-25T13:06:51.801Z"
   },
   {
    "duration": 0,
    "start_time": "2023-07-25T13:06:51.802Z"
   },
   {
    "duration": 0,
    "start_time": "2023-07-25T13:06:51.804Z"
   },
   {
    "duration": 0,
    "start_time": "2023-07-25T13:06:51.805Z"
   },
   {
    "duration": 0,
    "start_time": "2023-07-25T13:06:51.806Z"
   },
   {
    "duration": 0,
    "start_time": "2023-07-25T13:06:51.807Z"
   },
   {
    "duration": 0,
    "start_time": "2023-07-25T13:06:51.808Z"
   },
   {
    "duration": 0,
    "start_time": "2023-07-25T13:06:51.809Z"
   },
   {
    "duration": 0,
    "start_time": "2023-07-25T13:06:51.811Z"
   },
   {
    "duration": 0,
    "start_time": "2023-07-25T13:06:51.812Z"
   },
   {
    "duration": 97,
    "start_time": "2023-07-25T13:07:56.450Z"
   },
   {
    "duration": 35,
    "start_time": "2023-07-25T13:09:17.063Z"
   },
   {
    "duration": 22,
    "start_time": "2023-07-25T13:10:19.403Z"
   },
   {
    "duration": 18,
    "start_time": "2023-07-25T13:11:03.520Z"
   },
   {
    "duration": 149,
    "start_time": "2023-07-25T13:12:59.995Z"
   },
   {
    "duration": 22,
    "start_time": "2023-07-25T13:13:11.756Z"
   },
   {
    "duration": 982,
    "start_time": "2023-07-25T13:13:28.754Z"
   },
   {
    "duration": 13,
    "start_time": "2023-07-25T13:13:38.850Z"
   },
   {
    "duration": 134,
    "start_time": "2023-07-25T13:13:46.871Z"
   },
   {
    "duration": 300,
    "start_time": "2023-07-25T13:14:06.330Z"
   },
   {
    "duration": 161,
    "start_time": "2023-07-25T13:14:22.171Z"
   },
   {
    "duration": 244,
    "start_time": "2023-07-25T13:14:38.024Z"
   },
   {
    "duration": 217,
    "start_time": "2023-07-25T13:14:45.926Z"
   },
   {
    "duration": 5,
    "start_time": "2023-07-25T13:14:53.827Z"
   },
   {
    "duration": 12,
    "start_time": "2023-07-25T13:14:53.835Z"
   },
   {
    "duration": 22,
    "start_time": "2023-07-25T13:14:53.850Z"
   },
   {
    "duration": 14,
    "start_time": "2023-07-25T13:14:53.875Z"
   },
   {
    "duration": 64,
    "start_time": "2023-07-25T13:14:53.891Z"
   },
   {
    "duration": 0,
    "start_time": "2023-07-25T13:14:53.957Z"
   },
   {
    "duration": 0,
    "start_time": "2023-07-25T13:14:53.958Z"
   },
   {
    "duration": 0,
    "start_time": "2023-07-25T13:14:53.959Z"
   },
   {
    "duration": 4,
    "start_time": "2023-07-25T13:15:33.515Z"
   },
   {
    "duration": 35157,
    "start_time": "2023-07-25T13:15:41.722Z"
   },
   {
    "duration": 13,
    "start_time": "2023-07-25T13:16:33.407Z"
   },
   {
    "duration": 9,
    "start_time": "2023-07-25T13:16:36.438Z"
   },
   {
    "duration": 2667,
    "start_time": "2023-07-25T13:16:36.449Z"
   },
   {
    "duration": 14,
    "start_time": "2023-07-25T13:16:39.117Z"
   },
   {
    "duration": 1425,
    "start_time": "2023-07-25T13:16:48.555Z"
   },
   {
    "duration": 3,
    "start_time": "2023-07-25T13:16:49.982Z"
   },
   {
    "duration": 15,
    "start_time": "2023-07-25T13:16:49.987Z"
   },
   {
    "duration": 109,
    "start_time": "2023-07-25T13:16:50.004Z"
   },
   {
    "duration": 22,
    "start_time": "2023-07-25T13:16:50.116Z"
   },
   {
    "duration": 15,
    "start_time": "2023-07-25T13:16:50.140Z"
   },
   {
    "duration": 18,
    "start_time": "2023-07-25T13:16:50.157Z"
   },
   {
    "duration": 162,
    "start_time": "2023-07-25T13:16:50.177Z"
   },
   {
    "duration": 11,
    "start_time": "2023-07-25T13:16:50.341Z"
   },
   {
    "duration": 368,
    "start_time": "2023-07-25T13:16:50.355Z"
   },
   {
    "duration": 5,
    "start_time": "2023-07-25T13:16:50.724Z"
   },
   {
    "duration": 27,
    "start_time": "2023-07-25T13:16:50.731Z"
   },
   {
    "duration": 216,
    "start_time": "2023-07-25T13:16:50.759Z"
   },
   {
    "duration": 328,
    "start_time": "2023-07-25T13:16:50.978Z"
   },
   {
    "duration": 174,
    "start_time": "2023-07-25T13:16:51.308Z"
   },
   {
    "duration": 308,
    "start_time": "2023-07-25T13:16:51.484Z"
   },
   {
    "duration": 237,
    "start_time": "2023-07-25T13:16:51.794Z"
   },
   {
    "duration": 3,
    "start_time": "2023-07-25T13:16:52.033Z"
   },
   {
    "duration": 12,
    "start_time": "2023-07-25T13:16:52.038Z"
   },
   {
    "duration": 25,
    "start_time": "2023-07-25T13:16:52.051Z"
   },
   {
    "duration": 22,
    "start_time": "2023-07-25T13:16:52.078Z"
   },
   {
    "duration": 36182,
    "start_time": "2023-07-25T13:16:52.101Z"
   },
   {
    "duration": 101,
    "start_time": "2023-07-25T13:17:28.285Z"
   },
   {
    "duration": 2589,
    "start_time": "2023-07-25T13:17:28.387Z"
   },
   {
    "duration": 15,
    "start_time": "2023-07-25T13:17:30.978Z"
   },
   {
    "duration": 128,
    "start_time": "2023-07-25T13:19:10.246Z"
   },
   {
    "duration": 184,
    "start_time": "2023-07-25T13:20:54.616Z"
   },
   {
    "duration": 4,
    "start_time": "2023-07-25T13:21:03.345Z"
   },
   {
    "duration": 89,
    "start_time": "2023-07-25T13:21:12.019Z"
   },
   {
    "duration": 11,
    "start_time": "2023-07-25T13:21:39.195Z"
   },
   {
    "duration": 1264,
    "start_time": "2023-07-25T13:21:41.313Z"
   },
   {
    "duration": 752,
    "start_time": "2023-07-25T13:22:29.739Z"
   },
   {
    "duration": 69,
    "start_time": "2023-07-25T13:23:01.807Z"
   },
   {
    "duration": 1591,
    "start_time": "2023-07-25T13:23:21.454Z"
   },
   {
    "duration": 4,
    "start_time": "2023-07-25T13:23:23.047Z"
   },
   {
    "duration": 8,
    "start_time": "2023-07-25T13:23:23.055Z"
   },
   {
    "duration": 76,
    "start_time": "2023-07-25T13:23:23.065Z"
   },
   {
    "duration": 20,
    "start_time": "2023-07-25T13:23:23.143Z"
   },
   {
    "duration": 7,
    "start_time": "2023-07-25T13:23:23.165Z"
   },
   {
    "duration": 23,
    "start_time": "2023-07-25T13:23:23.173Z"
   },
   {
    "duration": 139,
    "start_time": "2023-07-25T13:23:23.198Z"
   },
   {
    "duration": 10,
    "start_time": "2023-07-25T13:23:23.340Z"
   },
   {
    "duration": 371,
    "start_time": "2023-07-25T13:23:23.352Z"
   },
   {
    "duration": 5,
    "start_time": "2023-07-25T13:23:23.724Z"
   },
   {
    "duration": 30,
    "start_time": "2023-07-25T13:23:23.731Z"
   },
   {
    "duration": 265,
    "start_time": "2023-07-25T13:23:23.763Z"
   },
   {
    "duration": 398,
    "start_time": "2023-07-25T13:23:24.031Z"
   },
   {
    "duration": 207,
    "start_time": "2023-07-25T13:23:24.431Z"
   },
   {
    "duration": 314,
    "start_time": "2023-07-25T13:23:24.640Z"
   },
   {
    "duration": 254,
    "start_time": "2023-07-25T13:23:24.956Z"
   },
   {
    "duration": 4,
    "start_time": "2023-07-25T13:23:25.212Z"
   },
   {
    "duration": 30,
    "start_time": "2023-07-25T13:23:25.218Z"
   },
   {
    "duration": 14,
    "start_time": "2023-07-25T13:23:25.249Z"
   },
   {
    "duration": 11,
    "start_time": "2023-07-25T13:23:25.265Z"
   },
   {
    "duration": 39604,
    "start_time": "2023-07-25T13:23:25.278Z"
   },
   {
    "duration": 104,
    "start_time": "2023-07-25T13:24:04.974Z"
   },
   {
    "duration": 705,
    "start_time": "2023-07-25T13:24:05.080Z"
   },
   {
    "duration": 2602,
    "start_time": "2023-07-25T13:24:05.876Z"
   },
   {
    "duration": 96,
    "start_time": "2023-07-25T13:24:08.480Z"
   }
  ],
  "kernelspec": {
   "display_name": "Python 3 (ipykernel)",
   "language": "python",
   "name": "python3"
  },
  "language_info": {
   "codemirror_mode": {
    "name": "ipython",
    "version": 3
   },
   "file_extension": ".py",
   "mimetype": "text/x-python",
   "name": "python",
   "nbconvert_exporter": "python",
   "pygments_lexer": "ipython3",
   "version": "3.9.5"
  },
  "toc": {
   "base_numbering": 1,
   "nav_menu": {},
   "number_sections": true,
   "sideBar": true,
   "skip_h1_title": true,
   "title_cell": "Содержание",
   "title_sidebar": "Contents",
   "toc_cell": true,
   "toc_position": {},
   "toc_section_display": true,
   "toc_window_display": true
  }
 },
 "nbformat": 4,
 "nbformat_minor": 2
}
