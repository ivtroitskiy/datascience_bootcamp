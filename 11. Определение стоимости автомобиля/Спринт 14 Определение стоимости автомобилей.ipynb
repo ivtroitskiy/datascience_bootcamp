{
 "cells": [
  {
   "cell_type": "markdown",
   "metadata": {},
   "source": [
    "# Определение стоимости автомобилей"
   ]
  },
  {
   "cell_type": "markdown",
   "metadata": {},
   "source": [
    "Содержание"
   ]
  },
  {
   "cell_type": "markdown",
   "metadata": {},
   "source": [
    "### Описание данных\n",
    "Данные находятся в файле /datasets/autos.csv.\n",
    "#### Признаки\n",
    "`DateCrawled` — дата скачивания анкеты из базы  \n",
    "`VehicleType` — тип автомобильного кузова  \n",
    "`RegistrationYear` — год регистрации автомобиля  \n",
    "`Gearbox` — тип коробки передач  \n",
    "`Power` — мощность (л. с.)  \n",
    "`Model` — модель автомобиля  \n",
    "`Kilometer` — пробег (км)  \n",
    "`RegistrationMonth` — месяц регистрации автомобиля  \n",
    "`FuelType` — тип топлива  \n",
    "`Brand` — марка автомобиля  \n",
    "`Repaired` — была машина в ремонте или нет  \n",
    "`DateCreated` — дата создания анкеты  \n",
    "`NumberOfPictures` — количество фотографий автомобиля  \n",
    "`PostalCode` — почтовый индекс владельца анкеты (пользователя)  \n",
    "`LastSeen` — дата последней активности пользователя  \n",
    "\n",
    "#### Целевой признак\n",
    "`Price` — цена (евро)"
   ]
  },
  {
   "cell_type": "markdown",
   "metadata": {},
   "source": [
    "## Импорт библиотек, настроек и функций"
   ]
  },
  {
   "cell_type": "code",
   "execution_count": 98,
   "metadata": {},
   "outputs": [
    {
     "name": "stdout",
     "output_type": "stream",
     "text": [
      "Requirement already satisfied: category_encoders in /opt/conda/lib/python3.9/site-packages (2.6.1)\n",
      "Requirement already satisfied: pandas>=1.0.5 in /opt/conda/lib/python3.9/site-packages (from category_encoders) (1.2.4)\n",
      "Requirement already satisfied: scipy>=1.0.0 in /opt/conda/lib/python3.9/site-packages (from category_encoders) (1.9.1)\n",
      "Requirement already satisfied: statsmodels>=0.9.0 in /opt/conda/lib/python3.9/site-packages (from category_encoders) (0.13.2)\n",
      "Requirement already satisfied: numpy>=1.14.0 in /opt/conda/lib/python3.9/site-packages (from category_encoders) (1.21.1)\n",
      "Requirement already satisfied: patsy>=0.5.1 in /opt/conda/lib/python3.9/site-packages (from category_encoders) (0.5.2)\n",
      "Requirement already satisfied: scikit-learn>=0.20.0 in /opt/conda/lib/python3.9/site-packages (from category_encoders) (0.24.1)\n",
      "Requirement already satisfied: python-dateutil>=2.7.3 in /opt/conda/lib/python3.9/site-packages (from pandas>=1.0.5->category_encoders) (2.8.1)\n",
      "Requirement already satisfied: pytz>=2017.3 in /opt/conda/lib/python3.9/site-packages (from pandas>=1.0.5->category_encoders) (2021.1)\n",
      "Requirement already satisfied: six in /opt/conda/lib/python3.9/site-packages (from patsy>=0.5.1->category_encoders) (1.16.0)\n",
      "Requirement already satisfied: joblib>=0.11 in /opt/conda/lib/python3.9/site-packages (from scikit-learn>=0.20.0->category_encoders) (1.1.0)\n",
      "Requirement already satisfied: threadpoolctl>=2.0.0 in /opt/conda/lib/python3.9/site-packages (from scikit-learn>=0.20.0->category_encoders) (3.1.0)\n",
      "Requirement already satisfied: packaging>=21.3 in /opt/conda/lib/python3.9/site-packages (from statsmodels>=0.9.0->category_encoders) (21.3)\n",
      "Requirement already satisfied: pyparsing!=3.0.5,>=2.0.2 in /opt/conda/lib/python3.9/site-packages (from packaging>=21.3->statsmodels>=0.9.0->category_encoders) (2.4.7)\n"
     ]
    }
   ],
   "source": [
    "!pip install category_encoders"
   ]
  },
  {
   "cell_type": "code",
   "execution_count": 99,
   "metadata": {},
   "outputs": [],
   "source": [
    "import pandas as pd\n",
    "import numpy as np\n",
    "import matplotlib\n",
    "import matplotlib.pyplot as plt\n",
    "import re\n",
    "import seaborn as sns\n",
    "\n",
    "from sklearn.linear_model import LinearRegression\n",
    "from sklearn.linear_model import LogisticRegression\n",
    "from catboost import CatBoostRegressor, Pool\n",
    "import lightgbm as lgb\n",
    "\n",
    "from sklearn.preprocessing import StandardScaler, OneHotEncoder, LabelEncoder\n",
    "\n",
    "from sklearn.model_selection import train_test_split, GridSearchCV, cross_val_score\n",
    "\n",
    "from sklearn.compose import ColumnTransformer, make_column_selector\n",
    "from sklearn.pipeline import Pipeline, FeatureUnion\n",
    "from sklearn.metrics import mean_squared_error, make_scorer\n",
    "\n",
    "from category_encoders.m_estimate import MEstimateEncoder"
   ]
  },
  {
   "cell_type": "code",
   "execution_count": 100,
   "metadata": {},
   "outputs": [],
   "source": [
    "pd.options.mode.chained_assignment = None\n",
    "matplotlib.rc('figure', figsize=(10, 5))\n",
    "sns.set_palette(\"pastel\")"
   ]
  },
  {
   "cell_type": "code",
   "execution_count": 101,
   "metadata": {},
   "outputs": [],
   "source": [
    "def dataframe_info(df):\n",
    "    display(df.head())\n",
    "    print('SHAPE:', df.shape)\n",
    "    df.info()\n",
    "    print('DUPLICATES:', df.duplicated().sum())\n",
    "    sns.boxplot(data=df[df.select_dtypes(np.number).columns.tolist()])\n",
    "    plt.show()"
   ]
  },
  {
   "cell_type": "markdown",
   "metadata": {},
   "source": [
    "## Подготовка данных"
   ]
  },
  {
   "cell_type": "code",
   "execution_count": 102,
   "metadata": {},
   "outputs": [],
   "source": [
    "try:\n",
    "   df = pd.read_csv('datasets/autos.csv')\n",
    "except:\n",
    "   df = pd.read_csv('/datasets/autos.csv')"
   ]
  },
  {
   "cell_type": "code",
   "execution_count": 103,
   "metadata": {},
   "outputs": [
    {
     "data": {
      "text/html": [
       "<div>\n",
       "<style scoped>\n",
       "    .dataframe tbody tr th:only-of-type {\n",
       "        vertical-align: middle;\n",
       "    }\n",
       "\n",
       "    .dataframe tbody tr th {\n",
       "        vertical-align: top;\n",
       "    }\n",
       "\n",
       "    .dataframe thead th {\n",
       "        text-align: right;\n",
       "    }\n",
       "</style>\n",
       "<table border=\"1\" class=\"dataframe\">\n",
       "  <thead>\n",
       "    <tr style=\"text-align: right;\">\n",
       "      <th></th>\n",
       "      <th>DateCrawled</th>\n",
       "      <th>Price</th>\n",
       "      <th>VehicleType</th>\n",
       "      <th>RegistrationYear</th>\n",
       "      <th>Gearbox</th>\n",
       "      <th>Power</th>\n",
       "      <th>Model</th>\n",
       "      <th>Kilometer</th>\n",
       "      <th>RegistrationMonth</th>\n",
       "      <th>FuelType</th>\n",
       "      <th>Brand</th>\n",
       "      <th>Repaired</th>\n",
       "      <th>DateCreated</th>\n",
       "      <th>NumberOfPictures</th>\n",
       "      <th>PostalCode</th>\n",
       "      <th>LastSeen</th>\n",
       "    </tr>\n",
       "  </thead>\n",
       "  <tbody>\n",
       "    <tr>\n",
       "      <th>0</th>\n",
       "      <td>2016-03-24 11:52:17</td>\n",
       "      <td>480</td>\n",
       "      <td>NaN</td>\n",
       "      <td>1993</td>\n",
       "      <td>manual</td>\n",
       "      <td>0</td>\n",
       "      <td>golf</td>\n",
       "      <td>150000</td>\n",
       "      <td>0</td>\n",
       "      <td>petrol</td>\n",
       "      <td>volkswagen</td>\n",
       "      <td>NaN</td>\n",
       "      <td>2016-03-24 00:00:00</td>\n",
       "      <td>0</td>\n",
       "      <td>70435</td>\n",
       "      <td>2016-04-07 03:16:57</td>\n",
       "    </tr>\n",
       "    <tr>\n",
       "      <th>1</th>\n",
       "      <td>2016-03-24 10:58:45</td>\n",
       "      <td>18300</td>\n",
       "      <td>coupe</td>\n",
       "      <td>2011</td>\n",
       "      <td>manual</td>\n",
       "      <td>190</td>\n",
       "      <td>NaN</td>\n",
       "      <td>125000</td>\n",
       "      <td>5</td>\n",
       "      <td>gasoline</td>\n",
       "      <td>audi</td>\n",
       "      <td>yes</td>\n",
       "      <td>2016-03-24 00:00:00</td>\n",
       "      <td>0</td>\n",
       "      <td>66954</td>\n",
       "      <td>2016-04-07 01:46:50</td>\n",
       "    </tr>\n",
       "    <tr>\n",
       "      <th>2</th>\n",
       "      <td>2016-03-14 12:52:21</td>\n",
       "      <td>9800</td>\n",
       "      <td>suv</td>\n",
       "      <td>2004</td>\n",
       "      <td>auto</td>\n",
       "      <td>163</td>\n",
       "      <td>grand</td>\n",
       "      <td>125000</td>\n",
       "      <td>8</td>\n",
       "      <td>gasoline</td>\n",
       "      <td>jeep</td>\n",
       "      <td>NaN</td>\n",
       "      <td>2016-03-14 00:00:00</td>\n",
       "      <td>0</td>\n",
       "      <td>90480</td>\n",
       "      <td>2016-04-05 12:47:46</td>\n",
       "    </tr>\n",
       "    <tr>\n",
       "      <th>3</th>\n",
       "      <td>2016-03-17 16:54:04</td>\n",
       "      <td>1500</td>\n",
       "      <td>small</td>\n",
       "      <td>2001</td>\n",
       "      <td>manual</td>\n",
       "      <td>75</td>\n",
       "      <td>golf</td>\n",
       "      <td>150000</td>\n",
       "      <td>6</td>\n",
       "      <td>petrol</td>\n",
       "      <td>volkswagen</td>\n",
       "      <td>no</td>\n",
       "      <td>2016-03-17 00:00:00</td>\n",
       "      <td>0</td>\n",
       "      <td>91074</td>\n",
       "      <td>2016-03-17 17:40:17</td>\n",
       "    </tr>\n",
       "    <tr>\n",
       "      <th>4</th>\n",
       "      <td>2016-03-31 17:25:20</td>\n",
       "      <td>3600</td>\n",
       "      <td>small</td>\n",
       "      <td>2008</td>\n",
       "      <td>manual</td>\n",
       "      <td>69</td>\n",
       "      <td>fabia</td>\n",
       "      <td>90000</td>\n",
       "      <td>7</td>\n",
       "      <td>gasoline</td>\n",
       "      <td>skoda</td>\n",
       "      <td>no</td>\n",
       "      <td>2016-03-31 00:00:00</td>\n",
       "      <td>0</td>\n",
       "      <td>60437</td>\n",
       "      <td>2016-04-06 10:17:21</td>\n",
       "    </tr>\n",
       "  </tbody>\n",
       "</table>\n",
       "</div>"
      ],
      "text/plain": [
       "           DateCrawled  Price VehicleType  RegistrationYear Gearbox  Power  \\\n",
       "0  2016-03-24 11:52:17    480         NaN              1993  manual      0   \n",
       "1  2016-03-24 10:58:45  18300       coupe              2011  manual    190   \n",
       "2  2016-03-14 12:52:21   9800         suv              2004    auto    163   \n",
       "3  2016-03-17 16:54:04   1500       small              2001  manual     75   \n",
       "4  2016-03-31 17:25:20   3600       small              2008  manual     69   \n",
       "\n",
       "   Model  Kilometer  RegistrationMonth  FuelType       Brand Repaired  \\\n",
       "0   golf     150000                  0    petrol  volkswagen      NaN   \n",
       "1    NaN     125000                  5  gasoline        audi      yes   \n",
       "2  grand     125000                  8  gasoline        jeep      NaN   \n",
       "3   golf     150000                  6    petrol  volkswagen       no   \n",
       "4  fabia      90000                  7  gasoline       skoda       no   \n",
       "\n",
       "           DateCreated  NumberOfPictures  PostalCode             LastSeen  \n",
       "0  2016-03-24 00:00:00                 0       70435  2016-04-07 03:16:57  \n",
       "1  2016-03-24 00:00:00                 0       66954  2016-04-07 01:46:50  \n",
       "2  2016-03-14 00:00:00                 0       90480  2016-04-05 12:47:46  \n",
       "3  2016-03-17 00:00:00                 0       91074  2016-03-17 17:40:17  \n",
       "4  2016-03-31 00:00:00                 0       60437  2016-04-06 10:17:21  "
      ]
     },
     "execution_count": 103,
     "metadata": {},
     "output_type": "execute_result"
    }
   ],
   "source": [
    "df.head()"
   ]
  },
  {
   "cell_type": "markdown",
   "metadata": {},
   "source": [
    "Чтобы не делать лишней обработки, сначала уберём даныне, которые не влияют на стотимость авто. В данном случае это\n",
    "- `DateCrawled` — дата скачивания анкеты из базы\n",
    "- `RegistrationMonth` — месяц регистрации автомобил\n",
    "- `DateCreated` — дата создания анкеты\n",
    "- `NumberOfPictures` — количество фотографий автомобиля\n",
    "- `PostalCode` — почтовый индекс владельца анкеты (пользователя)\n",
    "- `LastSeen` — дата последней активности пользователя\n",
    "\n",
    "Месяц регистрации автомобил и почтовый индекс пользователя (а значит регион продажи) имеют влияние на цену автомобиля, но в рамках учебного проекта, положим что они влияние не оказывают."
   ]
  },
  {
   "cell_type": "code",
   "execution_count": 104,
   "metadata": {},
   "outputs": [
    {
     "data": {
      "text/plain": [
       "'2016-04-07 14:36:58'"
      ]
     },
     "execution_count": 104,
     "metadata": {},
     "output_type": "execute_result"
    }
   ],
   "source": [
    "df['DateCrawled'].max()"
   ]
  },
  {
   "cell_type": "code",
   "execution_count": 73,
   "metadata": {},
   "outputs": [],
   "source": [
    "df = df.drop(['DateCrawled', 'RegistrationMonth', 'DateCreated', 'NumberOfPictures', 'PostalCode', 'LastSeen'], axis=1)"
   ]
  },
  {
   "cell_type": "code",
   "execution_count": 74,
   "metadata": {},
   "outputs": [
    {
     "data": {
      "text/html": [
       "<div>\n",
       "<style scoped>\n",
       "    .dataframe tbody tr th:only-of-type {\n",
       "        vertical-align: middle;\n",
       "    }\n",
       "\n",
       "    .dataframe tbody tr th {\n",
       "        vertical-align: top;\n",
       "    }\n",
       "\n",
       "    .dataframe thead th {\n",
       "        text-align: right;\n",
       "    }\n",
       "</style>\n",
       "<table border=\"1\" class=\"dataframe\">\n",
       "  <thead>\n",
       "    <tr style=\"text-align: right;\">\n",
       "      <th></th>\n",
       "      <th>Price</th>\n",
       "      <th>VehicleType</th>\n",
       "      <th>RegistrationYear</th>\n",
       "      <th>Gearbox</th>\n",
       "      <th>Power</th>\n",
       "      <th>Model</th>\n",
       "      <th>Kilometer</th>\n",
       "      <th>FuelType</th>\n",
       "      <th>Brand</th>\n",
       "      <th>Repaired</th>\n",
       "    </tr>\n",
       "  </thead>\n",
       "  <tbody>\n",
       "    <tr>\n",
       "      <th>0</th>\n",
       "      <td>480</td>\n",
       "      <td>NaN</td>\n",
       "      <td>1993</td>\n",
       "      <td>manual</td>\n",
       "      <td>0</td>\n",
       "      <td>golf</td>\n",
       "      <td>150000</td>\n",
       "      <td>petrol</td>\n",
       "      <td>volkswagen</td>\n",
       "      <td>NaN</td>\n",
       "    </tr>\n",
       "    <tr>\n",
       "      <th>1</th>\n",
       "      <td>18300</td>\n",
       "      <td>coupe</td>\n",
       "      <td>2011</td>\n",
       "      <td>manual</td>\n",
       "      <td>190</td>\n",
       "      <td>NaN</td>\n",
       "      <td>125000</td>\n",
       "      <td>gasoline</td>\n",
       "      <td>audi</td>\n",
       "      <td>yes</td>\n",
       "    </tr>\n",
       "    <tr>\n",
       "      <th>2</th>\n",
       "      <td>9800</td>\n",
       "      <td>suv</td>\n",
       "      <td>2004</td>\n",
       "      <td>auto</td>\n",
       "      <td>163</td>\n",
       "      <td>grand</td>\n",
       "      <td>125000</td>\n",
       "      <td>gasoline</td>\n",
       "      <td>jeep</td>\n",
       "      <td>NaN</td>\n",
       "    </tr>\n",
       "    <tr>\n",
       "      <th>3</th>\n",
       "      <td>1500</td>\n",
       "      <td>small</td>\n",
       "      <td>2001</td>\n",
       "      <td>manual</td>\n",
       "      <td>75</td>\n",
       "      <td>golf</td>\n",
       "      <td>150000</td>\n",
       "      <td>petrol</td>\n",
       "      <td>volkswagen</td>\n",
       "      <td>no</td>\n",
       "    </tr>\n",
       "    <tr>\n",
       "      <th>4</th>\n",
       "      <td>3600</td>\n",
       "      <td>small</td>\n",
       "      <td>2008</td>\n",
       "      <td>manual</td>\n",
       "      <td>69</td>\n",
       "      <td>fabia</td>\n",
       "      <td>90000</td>\n",
       "      <td>gasoline</td>\n",
       "      <td>skoda</td>\n",
       "      <td>no</td>\n",
       "    </tr>\n",
       "  </tbody>\n",
       "</table>\n",
       "</div>"
      ],
      "text/plain": [
       "   Price VehicleType  RegistrationYear Gearbox  Power  Model  Kilometer  \\\n",
       "0    480         NaN              1993  manual      0   golf     150000   \n",
       "1  18300       coupe              2011  manual    190    NaN     125000   \n",
       "2   9800         suv              2004    auto    163  grand     125000   \n",
       "3   1500       small              2001  manual     75   golf     150000   \n",
       "4   3600       small              2008  manual     69  fabia      90000   \n",
       "\n",
       "   FuelType       Brand Repaired  \n",
       "0    petrol  volkswagen      NaN  \n",
       "1  gasoline        audi      yes  \n",
       "2  gasoline        jeep      NaN  \n",
       "3    petrol  volkswagen       no  \n",
       "4  gasoline       skoda       no  "
      ]
     },
     "metadata": {},
     "output_type": "display_data"
    },
    {
     "name": "stdout",
     "output_type": "stream",
     "text": [
      "SHAPE: (354369, 10)\n",
      "<class 'pandas.core.frame.DataFrame'>\n",
      "RangeIndex: 354369 entries, 0 to 354368\n",
      "Data columns (total 10 columns):\n",
      " #   Column            Non-Null Count   Dtype \n",
      "---  ------            --------------   ----- \n",
      " 0   Price             354369 non-null  int64 \n",
      " 1   VehicleType       316879 non-null  object\n",
      " 2   RegistrationYear  354369 non-null  int64 \n",
      " 3   Gearbox           334536 non-null  object\n",
      " 4   Power             354369 non-null  int64 \n",
      " 5   Model             334664 non-null  object\n",
      " 6   Kilometer         354369 non-null  int64 \n",
      " 7   FuelType          321474 non-null  object\n",
      " 8   Brand             354369 non-null  object\n",
      " 9   Repaired          283215 non-null  object\n",
      "dtypes: int64(4), object(6)\n",
      "memory usage: 27.0+ MB\n",
      "DUPLICATES: 45040\n"
     ]
    },
    {
     "data": {
      "image/png": "[encoded data removed]",
      "text/plain": [
       "<Figure size 720x360 with 1 Axes>"
      ]
     },
     "metadata": {
      "needs_background": "light"
     },
     "output_type": "display_data"
    }
   ],
   "source": [
    "dataframe_info(df)"
   ]
  },
  {
   "cell_type": "markdown",
   "metadata": {},
   "source": [
    "В датасете 354369 строк, есть пропуски и незаполненные значения. Теперь рассмотри каждую колонку отдельно и начнем с признаков, например с года выпуска."
   ]
  },
  {
   "cell_type": "markdown",
   "metadata": {},
   "source": [
    "#### Год выпуска"
   ]
  },
  {
   "cell_type": "code",
   "execution_count": 75,
   "metadata": {},
   "outputs": [
    {
     "name": "stdout",
     "output_type": "stream",
     "text": [
      "count    354369.000000\n",
      "mean       2004.234448\n",
      "std          90.227958\n",
      "min        1000.000000\n",
      "25%        1999.000000\n",
      "50%        2003.000000\n",
      "75%        2008.000000\n",
      "max        9999.000000\n",
      "Name: RegistrationYear, dtype: float64\n"
     ]
    },
    {
     "data": {
      "image/png": "[encoded data removed]",
      "text/plain": [
       "<Figure size 720x360 with 1 Axes>"
      ]
     },
     "metadata": {
      "needs_background": "light"
     },
     "output_type": "display_data"
    }
   ],
   "source": [
    "print(df['RegistrationYear'].describe())\n",
    "sns.histplot(df['RegistrationYear'], bins=50, binrange=(1980,2030))\n",
    "plt.show()\n"
   ]
  },
  {
   "cell_type": "markdown",
   "metadata": {},
   "source": [
    "Мой личный опыт говорит о том, что прогнозировать стоимость машины старше 15 лет не имеет особого смысла, так как наибольший вес имеет текущее состояние машины и разброс бывает очень большой. Для того чтобы показать пользователю хотя бы порядок суммы, на которую он сможет расчитывать и в академических целях, обучать будет на машинах, выпущенных после 1990 года."
   ]
  },
  {
   "cell_type": "code",
   "execution_count": 107,
   "metadata": {},
   "outputs": [
    {
     "data": {
      "text/plain": [
       "(294115, 16)"
      ]
     },
     "execution_count": 107,
     "metadata": {},
     "output_type": "execute_result"
    }
   ],
   "source": [
    "df = df[(df['RegistrationYear'] > 1995) & (df['RegistrationYear'] < 2016)]\n",
    "df.shape"
   ]
  },
  {
   "cell_type": "markdown",
   "metadata": {},
   "source": [
    "#### Марка"
   ]
  },
  {
   "cell_type": "code",
   "execution_count": 77,
   "metadata": {},
   "outputs": [
    {
     "name": "stdout",
     "output_type": "stream",
     "text": [
      "volkswagen        66184\n",
      "opel              36263\n",
      "bmw               32850\n",
      "mercedes_benz     27629\n",
      "audi              26364\n",
      "ford              23671\n",
      "renault           17205\n",
      "peugeot           10562\n",
      "fiat               8891\n",
      "seat               6729\n",
      "skoda              5434\n",
      "smart              5243\n",
      "mazda              5144\n",
      "citroen            4876\n",
      "nissan             4486\n",
      "toyota             4276\n",
      "hyundai            3556\n",
      "mini               3132\n",
      "volvo              2798\n",
      "mitsubishi         2775\n",
      "kia                2441\n",
      "honda              2354\n",
      "alfa_romeo         2152\n",
      "sonstige_autos     2052\n",
      "suzuki             2040\n",
      "chevrolet          1408\n",
      "chrysler           1328\n",
      "dacia               898\n",
      "daihatsu            742\n",
      "subaru              664\n",
      "porsche             541\n",
      "daewoo              540\n",
      "jeep                518\n",
      "land_rover          481\n",
      "rover               455\n",
      "saab                427\n",
      "jaguar              419\n",
      "lancia              413\n",
      "lada                172\n",
      "trabant              26\n",
      "Name: Brand, dtype: int64\n"
     ]
    }
   ],
   "source": [
    "print(df['Brand'].value_counts(dropna=False))"
   ]
  },
  {
   "cell_type": "markdown",
   "metadata": {},
   "source": [
    "40 брендов, неявных дубликатов нет, пропусков нет."
   ]
  },
  {
   "cell_type": "markdown",
   "metadata": {},
   "source": [
    "#### Кузов"
   ]
  },
  {
   "cell_type": "code",
   "execution_count": 78,
   "metadata": {
    "scrolled": true
   },
   "outputs": [
    {
     "name": "stdout",
     "output_type": "stream",
     "text": [
      "sedan          79125\n",
      "small          73440\n",
      "wagon          62055\n",
      "NaN            33559\n",
      "bus            27114\n",
      "convertible    16919\n",
      "coupe          12506\n",
      "suv            10878\n",
      "other           2543\n",
      "Name: VehicleType, dtype: int64\n",
      "(318139, 10)\n"
     ]
    }
   ],
   "source": [
    "print(df['VehicleType'].value_counts(dropna=False))\n",
    "print(df.shape)"
   ]
  },
  {
   "cell_type": "markdown",
   "metadata": {},
   "source": [
    "Очистим данные от путсых и редких моделей"
   ]
  },
  {
   "cell_type": "code",
   "execution_count": 79,
   "metadata": {},
   "outputs": [
    {
     "name": "stdout",
     "output_type": "stream",
     "text": [
      "(301849, 10)\n"
     ]
    },
    {
     "data": {
      "text/plain": [
       "golf                 24295\n",
       "other                17953\n",
       "3er                  16980\n",
       "corsa                11551\n",
       "polo                 11321\n",
       "                     ...  \n",
       "defender                59\n",
       "911                     55\n",
       "lybra                   54\n",
       "range_rover_sport       54\n",
       "wrangler                54\n",
       "Name: Model, Length: 217, dtype: int64"
      ]
     },
     "execution_count": 79,
     "metadata": {},
     "output_type": "execute_result"
    }
   ],
   "source": [
    "df = df.dropna(subset=['Model'])\n",
    "\n",
    "lf_models = df['Model'].value_counts()\n",
    "lf_models = lf_models[lf_models < 50]\n",
    "df = df[~df['Model'].isin(lf_models.index)]\n",
    "print(df.shape)\n",
    "df['Model'].value_counts(dropna=False)"
   ]
  },
  {
   "cell_type": "markdown",
   "metadata": {},
   "source": [
    "Попробуем заполнить пропуски по информации в других строка, с совпадающими брендом, моделью и годом выпуска"
   ]
  },
  {
   "cell_type": "markdown",
   "metadata": {},
   "source": [
    "Пока не нашел способ векторного заполнения , а выбранный мной способ работает больше 10 минут на локальном компьютере, поэтому я его закомментировал, а пропуски просто удаляю, для экономии времени ревьюера"
   ]
  },
  {
   "cell_type": "code",
   "execution_count": 80,
   "metadata": {
    "scrolled": false
   },
   "outputs": [
    {
     "name": "stdout",
     "output_type": "stream",
     "text": [
      "sedan          76575\n",
      "small          70560\n",
      "wagon          60001\n",
      "NaN            27762\n",
      "bus            26215\n",
      "convertible    16326\n",
      "coupe          11977\n",
      "suv            10217\n",
      "other           2216\n",
      "Name: VehicleType, dtype: int64\n"
     ]
    }
   ],
   "source": [
    "print(df['VehicleType'].value_counts(dropna=False))"
   ]
  },
  {
   "cell_type": "code",
   "execution_count": 81,
   "metadata": {
    "scrolled": true
   },
   "outputs": [
    {
     "name": "stdout",
     "output_type": "stream",
     "text": [
      "(301849, 10)\n"
     ]
    }
   ],
   "source": [
    "print(df.shape)\n",
    "#df.groupby(by=['Brand', 'Model', 'RegistrationYear'], dropna=False)[\"VehicleType\"].head()\n",
    "#df.groupby(by=['Brand', 'Model', 'RegistrationYear'], dropna=False)[\"VehicleType\"].transform(lambda x: x)\n",
    "#df['VehicleType'].fillna(df.groupby(by=['Brand', 'Model', 'RegistrationYear'])['VehicleType'].transform())\n",
    "def get_type(x):\n",
    "    if x.value_counts().size:\n",
    "        return x.fillna(x.value_counts().idxmax())\n",
    "        \n",
    "    return None\n",
    "\n",
    "df['VehicleType'] = df['VehicleType'].fillna(df \n",
    "                            .groupby(by=['Brand', 'Model', 'RegistrationYear'], dropna=False)['VehicleType']\n",
    "                            .transform(lambda x: get_type(x)))\n"
   ]
  },
  {
   "cell_type": "code",
   "execution_count": 82,
   "metadata": {},
   "outputs": [
    {
     "name": "stdout",
     "output_type": "stream",
     "text": [
      "sedan          80552\n",
      "small          75541\n",
      "wagon          62073\n",
      "bus            27559\n",
      "convertible    17690\n",
      "NaN            12884\n",
      "coupe          12791\n",
      "suv            10451\n",
      "other           2308\n",
      "Name: VehicleType, dtype: int64\n"
     ]
    }
   ],
   "source": [
    "print(df['VehicleType'].value_counts(dropna=False))"
   ]
  },
  {
   "cell_type": "code",
   "execution_count": 83,
   "metadata": {},
   "outputs": [
    {
     "name": "stdout",
     "output_type": "stream",
     "text": [
      "sedan          80552\n",
      "small          75541\n",
      "wagon          62073\n",
      "bus            27559\n",
      "convertible    17690\n",
      "coupe          12791\n",
      "suv            10451\n",
      "other           2308\n",
      "Name: VehicleType, dtype: int64\n"
     ]
    }
   ],
   "source": [
    "df = df.dropna(subset=['VehicleType'])\n",
    "print(df['VehicleType'].value_counts(dropna=False))"
   ]
  },
  {
   "cell_type": "markdown",
   "metadata": {},
   "source": [
    "#### КПП"
   ]
  },
  {
   "cell_type": "code",
   "execution_count": 84,
   "metadata": {},
   "outputs": [
    {
     "name": "stdout",
     "output_type": "stream",
     "text": [
      "manual    221239\n",
      "auto       56248\n",
      "NaN        11478\n",
      "Name: Gearbox, dtype: int64\n"
     ]
    }
   ],
   "source": [
    "print(df['Gearbox'].value_counts(dropna=False))"
   ]
  },
  {
   "cell_type": "markdown",
   "metadata": {},
   "source": [
    "Какого то вменяемого алгоритма заполнения я не придумал, так как одна и та же модель, может быть как на ручной так и на автоматической КПП, поэтому чтобы не навредить - удалим"
   ]
  },
  {
   "cell_type": "code",
   "execution_count": 85,
   "metadata": {},
   "outputs": [
    {
     "data": {
      "text/plain": [
       "(277487, 10)"
      ]
     },
     "execution_count": 85,
     "metadata": {},
     "output_type": "execute_result"
    }
   ],
   "source": [
    "df = df.dropna(subset=['Gearbox'])\n",
    "df.shape"
   ]
  },
  {
   "cell_type": "markdown",
   "metadata": {},
   "source": [
    "#### Мощность"
   ]
  },
  {
   "cell_type": "code",
   "execution_count": 86,
   "metadata": {},
   "outputs": [
    {
     "data": {
      "image/png": "[encoded data removed]",
      "text/plain": [
       "<Figure size 720x360 with 1 Axes>"
      ]
     },
     "metadata": {
      "needs_background": "light"
     },
     "output_type": "display_data"
    }
   ],
   "source": [
    "sns.boxplot(x=df['Power']);\n",
    "plt.xlim(-100, 1000)\n",
    "plt.show()"
   ]
  },
  {
   "cell_type": "markdown",
   "metadata": {},
   "source": [
    "Предсказывать цену гиперкаров с мощностью более 500 сил мы небудем, как и цену газонокосилок. Чтоб отбросить эти варианты и другие аномалии, оставим только строки с мощностью в границах 50-500 лошадиных сил"
   ]
  },
  {
   "cell_type": "code",
   "execution_count": 87,
   "metadata": {},
   "outputs": [
    {
     "data": {
      "text/plain": [
       "(252877, 10)"
      ]
     },
     "execution_count": 87,
     "metadata": {},
     "output_type": "execute_result"
    }
   ],
   "source": [
    "df = df[(df['Power'] > 50) & (df['Power'] < 500)]\n",
    "df.shape"
   ]
  },
  {
   "cell_type": "markdown",
   "metadata": {},
   "source": [
    "#### Пробег"
   ]
  },
  {
   "cell_type": "code",
   "execution_count": 88,
   "metadata": {},
   "outputs": [
    {
     "data": {
      "image/png": "[encoded data removed]",
      "text/plain": [
       "<Figure size 720x360 with 1 Axes>"
      ]
     },
     "metadata": {
      "needs_background": "light"
     },
     "output_type": "display_data"
    }
   ],
   "source": [
    "sns.boxplot(x=df['Kilometer']);\n",
    "plt.xlim(-100, 500000)\n",
    "plt.show()"
   ]
  },
  {
   "cell_type": "markdown",
   "metadata": {},
   "source": [
    "С пробегом вроде все хорошо. Большинство машин уже успели наездить более 80 тысяч, но есть варианты и с минимальным пробегом."
   ]
  },
  {
   "cell_type": "markdown",
   "metadata": {},
   "source": [
    "#### Вид топлива"
   ]
  },
  {
   "cell_type": "code",
   "execution_count": 89,
   "metadata": {},
   "outputs": [
    {
     "name": "stdout",
     "output_type": "stream",
     "text": [
      "petrol      154653\n",
      "gasoline     83216\n",
      "NaN          10261\n",
      "lpg           4051\n",
      "cng            454\n",
      "hybrid         172\n",
      "other           40\n",
      "electric        30\n",
      "Name: FuelType, dtype: int64\n"
     ]
    }
   ],
   "source": [
    "print(df['FuelType'].value_counts(dropna=False))\n"
   ]
  },
  {
   "cell_type": "markdown",
   "metadata": {},
   "source": [
    "`petrol` и `gasoline` это бензин, просто его называют по разному в USA и UK. Почему на одном сайте доступны два вида топлива, означающих одно и то же - для меня загадка, как и отсутствие дизеля. Обработаем данные в два этапа. Заменить gasoline на petrol  и потом уберём пропуски\n"
   ]
  },
  {
   "cell_type": "code",
   "execution_count": 90,
   "metadata": {},
   "outputs": [
    {
     "data": {
      "text/plain": [
       "(242616, 10)"
      ]
     },
     "execution_count": 90,
     "metadata": {},
     "output_type": "execute_result"
    }
   ],
   "source": [
    "df.loc[df['FuelType'] == 'gasoline']['FuelType'] = 'petrol'\n",
    "df = df.dropna(subset=['FuelType'])\n",
    "df.shape"
   ]
  },
  {
   "cell_type": "markdown",
   "metadata": {},
   "source": [
    "#### Был ли автомобиль в ремонте"
   ]
  },
  {
   "cell_type": "code",
   "execution_count": 91,
   "metadata": {},
   "outputs": [
    {
     "data": {
      "text/plain": [
       "no     192099\n",
       "NaN     28481\n",
       "yes     22036\n",
       "Name: Repaired, dtype: int64"
      ]
     },
     "execution_count": 91,
     "metadata": {},
     "output_type": "execute_result"
    }
   ],
   "source": [
    "df['Repaired'].value_counts(dropna=False)"
   ]
  },
  {
   "cell_type": "markdown",
   "metadata": {},
   "source": [
    "Назаполненные данные лучше удалить чем некорректно проставить значения."
   ]
  },
  {
   "cell_type": "code",
   "execution_count": 92,
   "metadata": {},
   "outputs": [
    {
     "data": {
      "text/plain": [
       "(214135, 10)"
      ]
     },
     "execution_count": 92,
     "metadata": {},
     "output_type": "execute_result"
    }
   ],
   "source": [
    "df = df.dropna(subset=['Repaired'])\n",
    "df.shape"
   ]
  },
  {
   "cell_type": "markdown",
   "metadata": {},
   "source": [
    "#### Цена"
   ]
  },
  {
   "cell_type": "code",
   "execution_count": 96,
   "metadata": {},
   "outputs": [
    {
     "data": {
      "image/png": "[encoded data removed]",
      "text/plain": [
       "<Figure size 720x360 with 1 Axes>"
      ]
     },
     "metadata": {
      "needs_background": "light"
     },
     "output_type": "display_data"
    }
   ],
   "source": [
    "sns.boxplot(x=df['Price']);\n",
    "plt.xlim(-100, 25000)\n",
    "plt.show()"
   ]
  },
  {
   "cell_type": "code",
   "execution_count": 29,
   "metadata": {},
   "outputs": [
    {
     "name": "stdout",
     "output_type": "stream",
     "text": [
      "550.0 15850.0\n"
     ]
    }
   ],
   "source": [
    "print(df['Price'].quantile(0.05), df['Price'].quantile(0.95))"
   ]
  },
  {
   "cell_type": "markdown",
   "metadata": {},
   "source": [
    "Из датасета уберём позиции с аномально низкой и выскоой ценой"
   ]
  },
  {
   "cell_type": "code",
   "execution_count": 95,
   "metadata": {},
   "outputs": [
    {
     "data": {
      "text/plain": [
       "(207036, 10)"
      ]
     },
     "execution_count": 95,
     "metadata": {},
     "output_type": "execute_result"
    }
   ],
   "source": [
    "expensive_cars = df[df['Price'] >= 15600]\n",
    "df = df[df['Price'] > 400]\n",
    "df.shape"
   ]
  },
  {
   "cell_type": "code",
   "execution_count": 37,
   "metadata": {},
   "outputs": [
    {
     "name": "stdout",
     "output_type": "stream",
     "text": [
      "(11214, 10)\n"
     ]
    },
    {
     "data": {
      "text/html": [
       "<div>\n",
       "<style scoped>\n",
       "    .dataframe tbody tr th:only-of-type {\n",
       "        vertical-align: middle;\n",
       "    }\n",
       "\n",
       "    .dataframe tbody tr th {\n",
       "        vertical-align: top;\n",
       "    }\n",
       "\n",
       "    .dataframe thead th {\n",
       "        text-align: right;\n",
       "    }\n",
       "</style>\n",
       "<table border=\"1\" class=\"dataframe\">\n",
       "  <thead>\n",
       "    <tr style=\"text-align: right;\">\n",
       "      <th></th>\n",
       "      <th></th>\n",
       "      <th></th>\n",
       "      <th>Price</th>\n",
       "    </tr>\n",
       "    <tr>\n",
       "      <th>Brand</th>\n",
       "      <th>Model</th>\n",
       "      <th>RegistrationYear</th>\n",
       "      <th></th>\n",
       "    </tr>\n",
       "  </thead>\n",
       "  <tbody>\n",
       "    <tr>\n",
       "      <th rowspan=\"15\" valign=\"top\">audi</th>\n",
       "      <th>a1</th>\n",
       "      <th>2014</th>\n",
       "      <td>66</td>\n",
       "    </tr>\n",
       "    <tr>\n",
       "      <th rowspan=\"3\" valign=\"top\">a3</th>\n",
       "      <th>2012</th>\n",
       "      <td>78</td>\n",
       "    </tr>\n",
       "    <tr>\n",
       "      <th>2013</th>\n",
       "      <td>64</td>\n",
       "    </tr>\n",
       "    <tr>\n",
       "      <th>2014</th>\n",
       "      <td>52</td>\n",
       "    </tr>\n",
       "    <tr>\n",
       "      <th rowspan=\"5\" valign=\"top\">a4</th>\n",
       "      <th>2008</th>\n",
       "      <td>68</td>\n",
       "    </tr>\n",
       "    <tr>\n",
       "      <th>2009</th>\n",
       "      <td>78</td>\n",
       "    </tr>\n",
       "    <tr>\n",
       "      <th>2010</th>\n",
       "      <td>80</td>\n",
       "    </tr>\n",
       "    <tr>\n",
       "      <th>2011</th>\n",
       "      <td>106</td>\n",
       "    </tr>\n",
       "    <tr>\n",
       "      <th>2012</th>\n",
       "      <td>66</td>\n",
       "    </tr>\n",
       "    <tr>\n",
       "      <th rowspan=\"3\" valign=\"top\">a5</th>\n",
       "      <th>2008</th>\n",
       "      <td>73</td>\n",
       "    </tr>\n",
       "    <tr>\n",
       "      <th>2009</th>\n",
       "      <td>93</td>\n",
       "    </tr>\n",
       "    <tr>\n",
       "      <th>2010</th>\n",
       "      <td>88</td>\n",
       "    </tr>\n",
       "    <tr>\n",
       "      <th rowspan=\"3\" valign=\"top\">a6</th>\n",
       "      <th>2009</th>\n",
       "      <td>58</td>\n",
       "    </tr>\n",
       "    <tr>\n",
       "      <th>2010</th>\n",
       "      <td>68</td>\n",
       "    </tr>\n",
       "    <tr>\n",
       "      <th>2011</th>\n",
       "      <td>59</td>\n",
       "    </tr>\n",
       "    <tr>\n",
       "      <th rowspan=\"18\" valign=\"top\">bmw</th>\n",
       "      <th rowspan=\"4\" valign=\"top\">1er</th>\n",
       "      <th>2009</th>\n",
       "      <td>60</td>\n",
       "    </tr>\n",
       "    <tr>\n",
       "      <th>2010</th>\n",
       "      <td>59</td>\n",
       "    </tr>\n",
       "    <tr>\n",
       "      <th>2011</th>\n",
       "      <td>77</td>\n",
       "    </tr>\n",
       "    <tr>\n",
       "      <th>2012</th>\n",
       "      <td>82</td>\n",
       "    </tr>\n",
       "    <tr>\n",
       "      <th rowspan=\"6\" valign=\"top\">3er</th>\n",
       "      <th>2007</th>\n",
       "      <td>110</td>\n",
       "    </tr>\n",
       "    <tr>\n",
       "      <th>2008</th>\n",
       "      <td>119</td>\n",
       "    </tr>\n",
       "    <tr>\n",
       "      <th>2009</th>\n",
       "      <td>94</td>\n",
       "    </tr>\n",
       "    <tr>\n",
       "      <th>2010</th>\n",
       "      <td>145</td>\n",
       "    </tr>\n",
       "    <tr>\n",
       "      <th>2011</th>\n",
       "      <td>126</td>\n",
       "    </tr>\n",
       "    <tr>\n",
       "      <th>2012</th>\n",
       "      <td>53</td>\n",
       "    </tr>\n",
       "    <tr>\n",
       "      <th rowspan=\"4\" valign=\"top\">5er</th>\n",
       "      <th>2008</th>\n",
       "      <td>96</td>\n",
       "    </tr>\n",
       "    <tr>\n",
       "      <th>2009</th>\n",
       "      <td>82</td>\n",
       "    </tr>\n",
       "    <tr>\n",
       "      <th>2010</th>\n",
       "      <td>105</td>\n",
       "    </tr>\n",
       "    <tr>\n",
       "      <th>2011</th>\n",
       "      <td>76</td>\n",
       "    </tr>\n",
       "    <tr>\n",
       "      <th rowspan=\"4\" valign=\"top\">x_reihe</th>\n",
       "      <th>2007</th>\n",
       "      <td>65</td>\n",
       "    </tr>\n",
       "    <tr>\n",
       "      <th>2008</th>\n",
       "      <td>61</td>\n",
       "    </tr>\n",
       "    <tr>\n",
       "      <th>2010</th>\n",
       "      <td>62</td>\n",
       "    </tr>\n",
       "    <tr>\n",
       "      <th>2011</th>\n",
       "      <td>67</td>\n",
       "    </tr>\n",
       "    <tr>\n",
       "      <th rowspan=\"8\" valign=\"top\">mercedes_benz</th>\n",
       "      <th>a_klasse</th>\n",
       "      <th>2013</th>\n",
       "      <td>65</td>\n",
       "    </tr>\n",
       "    <tr>\n",
       "      <th rowspan=\"4\" valign=\"top\">c_klasse</th>\n",
       "      <th>2009</th>\n",
       "      <td>67</td>\n",
       "    </tr>\n",
       "    <tr>\n",
       "      <th>2010</th>\n",
       "      <td>73</td>\n",
       "    </tr>\n",
       "    <tr>\n",
       "      <th>2011</th>\n",
       "      <td>164</td>\n",
       "    </tr>\n",
       "    <tr>\n",
       "      <th>2012</th>\n",
       "      <td>97</td>\n",
       "    </tr>\n",
       "    <tr>\n",
       "      <th rowspan=\"3\" valign=\"top\">e_klasse</th>\n",
       "      <th>2009</th>\n",
       "      <td>118</td>\n",
       "    </tr>\n",
       "    <tr>\n",
       "      <th>2010</th>\n",
       "      <td>109</td>\n",
       "    </tr>\n",
       "    <tr>\n",
       "      <th>2011</th>\n",
       "      <td>53</td>\n",
       "    </tr>\n",
       "    <tr>\n",
       "      <th rowspan=\"2\" valign=\"top\">mini</th>\n",
       "      <th rowspan=\"2\" valign=\"top\">cooper</th>\n",
       "      <th>2011</th>\n",
       "      <td>91</td>\n",
       "    </tr>\n",
       "    <tr>\n",
       "      <th>2012</th>\n",
       "      <td>78</td>\n",
       "    </tr>\n",
       "    <tr>\n",
       "      <th rowspan=\"14\" valign=\"top\">volkswagen</th>\n",
       "      <th rowspan=\"6\" valign=\"top\">golf</th>\n",
       "      <th>2010</th>\n",
       "      <td>72</td>\n",
       "    </tr>\n",
       "    <tr>\n",
       "      <th>2011</th>\n",
       "      <td>132</td>\n",
       "    </tr>\n",
       "    <tr>\n",
       "      <th>2012</th>\n",
       "      <td>179</td>\n",
       "    </tr>\n",
       "    <tr>\n",
       "      <th>2013</th>\n",
       "      <td>163</td>\n",
       "    </tr>\n",
       "    <tr>\n",
       "      <th>2014</th>\n",
       "      <td>186</td>\n",
       "    </tr>\n",
       "    <tr>\n",
       "      <th>2015</th>\n",
       "      <td>83</td>\n",
       "    </tr>\n",
       "    <tr>\n",
       "      <th rowspan=\"2\" valign=\"top\">passat</th>\n",
       "      <th>2011</th>\n",
       "      <td>87</td>\n",
       "    </tr>\n",
       "    <tr>\n",
       "      <th>2012</th>\n",
       "      <td>62</td>\n",
       "    </tr>\n",
       "    <tr>\n",
       "      <th rowspan=\"2\" valign=\"top\">tiguan</th>\n",
       "      <th>2011</th>\n",
       "      <td>51</td>\n",
       "    </tr>\n",
       "    <tr>\n",
       "      <th>2012</th>\n",
       "      <td>51</td>\n",
       "    </tr>\n",
       "    <tr>\n",
       "      <th rowspan=\"2\" valign=\"top\">touran</th>\n",
       "      <th>2011</th>\n",
       "      <td>67</td>\n",
       "    </tr>\n",
       "    <tr>\n",
       "      <th>2012</th>\n",
       "      <td>62</td>\n",
       "    </tr>\n",
       "    <tr>\n",
       "      <th rowspan=\"2\" valign=\"top\">transporter</th>\n",
       "      <th>2006</th>\n",
       "      <td>57</td>\n",
       "    </tr>\n",
       "    <tr>\n",
       "      <th>2007</th>\n",
       "      <td>54</td>\n",
       "    </tr>\n",
       "  </tbody>\n",
       "</table>\n",
       "</div>"
      ],
      "text/plain": [
       "                                            Price\n",
       "Brand         Model       RegistrationYear       \n",
       "audi          a1          2014                 66\n",
       "              a3          2012                 78\n",
       "                          2013                 64\n",
       "                          2014                 52\n",
       "              a4          2008                 68\n",
       "                          2009                 78\n",
       "                          2010                 80\n",
       "                          2011                106\n",
       "                          2012                 66\n",
       "              a5          2008                 73\n",
       "                          2009                 93\n",
       "                          2010                 88\n",
       "              a6          2009                 58\n",
       "                          2010                 68\n",
       "                          2011                 59\n",
       "bmw           1er         2009                 60\n",
       "                          2010                 59\n",
       "                          2011                 77\n",
       "                          2012                 82\n",
       "              3er         2007                110\n",
       "                          2008                119\n",
       "                          2009                 94\n",
       "                          2010                145\n",
       "                          2011                126\n",
       "                          2012                 53\n",
       "              5er         2008                 96\n",
       "                          2009                 82\n",
       "                          2010                105\n",
       "                          2011                 76\n",
       "              x_reihe     2007                 65\n",
       "                          2008                 61\n",
       "                          2010                 62\n",
       "                          2011                 67\n",
       "mercedes_benz a_klasse    2013                 65\n",
       "              c_klasse    2009                 67\n",
       "                          2010                 73\n",
       "                          2011                164\n",
       "                          2012                 97\n",
       "              e_klasse    2009                118\n",
       "                          2010                109\n",
       "                          2011                 53\n",
       "mini          cooper      2011                 91\n",
       "                          2012                 78\n",
       "volkswagen    golf        2010                 72\n",
       "                          2011                132\n",
       "                          2012                179\n",
       "                          2013                163\n",
       "                          2014                186\n",
       "                          2015                 83\n",
       "              passat      2011                 87\n",
       "                          2012                 62\n",
       "              tiguan      2011                 51\n",
       "                          2012                 51\n",
       "              touran      2011                 67\n",
       "                          2012                 62\n",
       "              transporter 2006                 57\n",
       "                          2007                 54"
      ]
     },
     "metadata": {},
     "output_type": "display_data"
    }
   ],
   "source": [
    "print(expensive_cars.shape)\n",
    "pt = expensive_cars.pivot_table(index=['Brand', 'Model', 'RegistrationYear'], values='Price', aggfunc=\"count\")\n",
    "display(pt[pt['Price']>50])"
   ]
  },
  {
   "cell_type": "code",
   "execution_count": 30,
   "metadata": {},
   "outputs": [
    {
     "data": {
      "text/plain": [
       "count    195822.000000\n",
       "mean       4991.205375\n",
       "std        3864.408900\n",
       "min         408.000000\n",
       "25%        1800.000000\n",
       "50%        3850.000000\n",
       "75%        7350.000000\n",
       "max       15599.000000\n",
       "Name: Price, dtype: float64"
      ]
     },
     "execution_count": 30,
     "metadata": {},
     "output_type": "execute_result"
    }
   ],
   "source": [
    "df['Price'].describe()"
   ]
  },
  {
   "cell_type": "markdown",
   "metadata": {},
   "source": [
    "#### Модель"
   ]
  },
  {
   "cell_type": "code",
   "execution_count": 31,
   "metadata": {},
   "outputs": [
    {
     "name": "stdout",
     "output_type": "stream",
     "text": [
      "golf                 16027\n",
      "other                11829\n",
      "3er                  11791\n",
      "a4                    6436\n",
      "astra                 6392\n",
      "                     ...  \n",
      "defender                27\n",
      "range_rover_sport       26\n",
      "911                     10\n",
      "move                     8\n",
      "glk                      6\n",
      "Name: Model, Length: 217, dtype: int64\n"
     ]
    }
   ],
   "source": [
    "print(df['Model'].value_counts(dropna=False))"
   ]
  },
  {
   "cell_type": "markdown",
   "metadata": {},
   "source": [
    "Почти 19 тысяч авто без указанной модели, и есть какие то уникальные модели, которых единицы на выборку в 360 тысяч объявлений. Такие строки проще удалить, чем искать анализировать, почему так произошло. А вот на объявления без указанной модели посмотрим поближе."
   ]
  },
  {
   "cell_type": "code",
   "execution_count": 32,
   "metadata": {},
   "outputs": [
    {
     "data": {
      "text/html": [
       "<div>\n",
       "<style scoped>\n",
       "    .dataframe tbody tr th:only-of-type {\n",
       "        vertical-align: middle;\n",
       "    }\n",
       "\n",
       "    .dataframe tbody tr th {\n",
       "        vertical-align: top;\n",
       "    }\n",
       "\n",
       "    .dataframe thead th {\n",
       "        text-align: right;\n",
       "    }\n",
       "</style>\n",
       "<table border=\"1\" class=\"dataframe\">\n",
       "  <thead>\n",
       "    <tr style=\"text-align: right;\">\n",
       "      <th></th>\n",
       "      <th>Price</th>\n",
       "      <th>VehicleType</th>\n",
       "      <th>RegistrationYear</th>\n",
       "      <th>Gearbox</th>\n",
       "      <th>Power</th>\n",
       "      <th>Model</th>\n",
       "      <th>Kilometer</th>\n",
       "      <th>FuelType</th>\n",
       "      <th>Brand</th>\n",
       "      <th>Repaired</th>\n",
       "    </tr>\n",
       "  </thead>\n",
       "  <tbody>\n",
       "  </tbody>\n",
       "</table>\n",
       "</div>"
      ],
      "text/plain": [
       "Empty DataFrame\n",
       "Columns: [Price, VehicleType, RegistrationYear, Gearbox, Power, Model, Kilometer, FuelType, Brand, Repaired]\n",
       "Index: []"
      ]
     },
     "execution_count": 32,
     "metadata": {},
     "output_type": "execute_result"
    }
   ],
   "source": [
    "df[df['Model'].isna()].head(20)"
   ]
  },
  {
   "cell_type": "markdown",
   "metadata": {},
   "source": [
    "Абсолютно разные бренды, года выпуска и пробег. Не вижу возможности заполнить модель каким то алгоритмом, поэтому удалим эти строки"
   ]
  },
  {
   "cell_type": "code",
   "execution_count": 33,
   "metadata": {},
   "outputs": [],
   "source": [
    "df = df.dropna(subset=['Model'])"
   ]
  },
  {
   "cell_type": "code",
   "execution_count": 34,
   "metadata": {},
   "outputs": [
    {
     "name": "stdout",
     "output_type": "stream",
     "text": [
      "m_reihe              47\n",
      "range_rover          46\n",
      "6er                  45\n",
      "crossfire            45\n",
      "mustang              41\n",
      "q5                   41\n",
      "calibra              33\n",
      "nubira               33\n",
      "lanos                31\n",
      "lybra                30\n",
      "cx_reihe             30\n",
      "wrangler             27\n",
      "defender             27\n",
      "range_rover_sport    26\n",
      "911                  10\n",
      "move                  8\n",
      "glk                   6\n",
      "Name: Model, dtype: int64\n",
      "(195296, 10)\n"
     ]
    }
   ],
   "source": [
    "lf_models = df['Model'].value_counts()\n",
    "lf_models = lf_models[lf_models < 50]\n",
    "print(lf_models)\n",
    "df = df[~df['Model'].isin(lf_models.index)]\n",
    "print(df.shape)"
   ]
  },
  {
   "cell_type": "markdown",
   "metadata": {},
   "source": [
    "### Вывод\n",
    "Удалили неинформативные признаки. Заполнили пропуски в столбце Тип кузова и удалили строки с пропусками в остальных признаках. Ограничили год выпуска периода с 1995 по 2020, мощность с 50 до 500, и цену с 400 до 15600. В результате подготовки данных количество строк уменьшилось с   354369 до 164672, зато данные качественные."
   ]
  },
  {
   "cell_type": "markdown",
   "metadata": {},
   "source": [
    "## Обучение моделей"
   ]
  },
  {
   "cell_type": "code",
   "execution_count": 35,
   "metadata": {},
   "outputs": [],
   "source": [
    "def rmse(target, predictions):\n",
    "    return np.sqrt(mean_squared_error(target, predictions))\n",
    "\n",
    "rmse_scorer = make_scorer(rmse)"
   ]
  },
  {
   "cell_type": "code",
   "execution_count": 36,
   "metadata": {},
   "outputs": [
    {
     "name": "stdout",
     "output_type": "stream",
     "text": [
      "(156236, 9)\n",
      "(39060, 9)\n"
     ]
    }
   ],
   "source": [
    "X = df.drop(columns='Price', axis=1)\n",
    "y = df['Price']\n",
    "\n",
    "x_train, x_test, y_train, y_test = train_test_split(X, y, test_size=0.2, random_state=31337)\n",
    "\n",
    "\n",
    "\n",
    "print(x_train.shape)\n",
    "print(x_test.shape)"
   ]
  },
  {
   "cell_type": "markdown",
   "metadata": {},
   "source": [
    "### LinearRegression"
   ]
  },
  {
   "cell_type": "code",
   "execution_count": 37,
   "metadata": {},
   "outputs": [
    {
     "name": "stdout",
     "output_type": "stream",
     "text": [
      "(31247, 9)\n"
     ]
    }
   ],
   "source": [
    "x_valid, x_test, y_valid, y_test = train_test_split(x_train, y_train, test_size=0.8, random_state=31337)\n",
    "print(x_valid.shape)"
   ]
  },
  {
   "cell_type": "code",
   "execution_count": 38,
   "metadata": {},
   "outputs": [
    {
     "name": "stdout",
     "output_type": "stream",
     "text": [
      "RMSE линейной регрессии: 1999.4630645502828\n"
     ]
    }
   ],
   "source": [
    "num_transformer = StandardScaler()\n",
    "cat_transformer = OneHotEncoder()\n",
    "\n",
    "\n",
    "cat_features = X.select_dtypes('object').columns.tolist()\n",
    "num_features = X.select_dtypes(np.number).columns.tolist()\n",
    "\n",
    "preprocessor = ColumnTransformer(\n",
    "    transformers=[\n",
    "        ('cat_ohe', cat_transformer, ['VehicleType',  'Gearbox', 'FuelType', 'Repaired']),\n",
    "        ('cat_mee', MEstimateEncoder(), ['Brand', 'Model']),\n",
    "        ('num', num_transformer, make_column_selector(dtype_include=np.number))\n",
    "    ])\n",
    "lr_model = Pipeline(steps=[('preprocessor', preprocessor),\n",
    "                           ('regressor' , LinearRegression())])\n",
    "\n",
    "lr_model.fit(x_train,y_train)\n",
    "\n",
    "scores = cross_val_score(lr_model, x_train, y_train, cv=5, scoring=rmse_scorer)\n",
    "\n",
    "print('RMSE линейной регрессии:', scores.mean())"
   ]
  },
  {
   "cell_type": "markdown",
   "metadata": {},
   "source": [
    "### CatBoost"
   ]
  },
  {
   "cell_type": "code",
   "execution_count": 39,
   "metadata": {},
   "outputs": [
    {
     "name": "stdout",
     "output_type": "stream",
     "text": [
      "0:\tlearn: 5792.4226503\ttest: 5803.4871666\tbest: 5803.4871666 (0)\ttotal: 85.3ms\tremaining: 4.18s\n",
      "1:\tlearn: 5341.1970638\ttest: 5353.5062843\tbest: 5353.5062843 (1)\ttotal: 114ms\tremaining: 2.74s\n",
      "2:\tlearn: 4944.3921087\ttest: 4957.9475385\tbest: 4957.9475385 (2)\ttotal: 136ms\tremaining: 2.13s\n",
      "3:\tlearn: 4593.1168239\ttest: 4607.6960684\tbest: 4607.6960684 (3)\ttotal: 167ms\tremaining: 1.92s\n",
      "4:\tlearn: 4282.4070074\ttest: 4297.9184380\tbest: 4297.9184380 (4)\ttotal: 190ms\tremaining: 1.71s\n",
      "5:\tlearn: 4009.4978058\ttest: 4026.9384729\tbest: 4026.9384729 (5)\ttotal: 211ms\tremaining: 1.55s\n",
      "6:\tlearn: 3768.9193598\ttest: 3786.4456155\tbest: 3786.4456155 (6)\ttotal: 232ms\tremaining: 1.43s\n",
      "7:\tlearn: 3560.6673426\ttest: 3578.3027656\tbest: 3578.3027656 (7)\ttotal: 254ms\tremaining: 1.33s\n",
      "8:\tlearn: 3375.3005153\ttest: 3392.6849933\tbest: 3392.6849933 (8)\ttotal: 275ms\tremaining: 1.25s\n",
      "9:\tlearn: 3216.4128117\ttest: 3234.1287617\tbest: 3234.1287617 (9)\ttotal: 296ms\tremaining: 1.18s\n",
      "10:\tlearn: 3079.0838657\ttest: 3098.0733221\tbest: 3098.0733221 (10)\ttotal: 319ms\tremaining: 1.13s\n",
      "11:\tlearn: 2950.6259843\ttest: 2969.2558691\tbest: 2969.2558691 (11)\ttotal: 340ms\tremaining: 1.08s\n",
      "12:\tlearn: 2841.7569880\ttest: 2858.8233574\tbest: 2858.8233574 (12)\ttotal: 364ms\tremaining: 1.03s\n",
      "13:\tlearn: 2745.7047438\ttest: 2762.7749593\tbest: 2762.7749593 (13)\ttotal: 389ms\tremaining: 1s\n",
      "14:\tlearn: 2664.5689926\ttest: 2682.6398649\tbest: 2682.6398649 (14)\ttotal: 417ms\tremaining: 973ms\n",
      "15:\tlearn: 2592.3057756\ttest: 2609.8496375\tbest: 2609.8496375 (15)\ttotal: 442ms\tremaining: 938ms\n",
      "16:\tlearn: 2524.6739752\ttest: 2542.4703807\tbest: 2542.4703807 (16)\ttotal: 469ms\tremaining: 911ms\n",
      "17:\tlearn: 2470.2529467\ttest: 2488.3991051\tbest: 2488.3991051 (17)\ttotal: 490ms\tremaining: 872ms\n",
      "18:\tlearn: 2420.2150561\ttest: 2438.4391850\tbest: 2438.4391850 (18)\ttotal: 512ms\tremaining: 836ms\n",
      "19:\tlearn: 2369.9938013\ttest: 2388.4536312\tbest: 2388.4536312 (19)\ttotal: 534ms\tremaining: 802ms\n",
      "20:\tlearn: 2327.8910822\ttest: 2346.1744246\tbest: 2346.1744246 (20)\ttotal: 555ms\tremaining: 766ms\n",
      "21:\tlearn: 2289.4585921\ttest: 2307.6735875\tbest: 2307.6735875 (21)\ttotal: 575ms\tremaining: 732ms\n",
      "22:\tlearn: 2255.9622362\ttest: 2274.0864211\tbest: 2274.0864211 (22)\ttotal: 596ms\tremaining: 699ms\n",
      "23:\tlearn: 2229.6129992\ttest: 2244.5720397\tbest: 2244.5720397 (23)\ttotal: 619ms\tremaining: 671ms\n",
      "24:\tlearn: 2202.2715623\ttest: 2216.4877893\tbest: 2216.4877893 (24)\ttotal: 641ms\tremaining: 641ms\n",
      "25:\tlearn: 2178.5454892\ttest: 2193.4859188\tbest: 2193.4859188 (25)\ttotal: 662ms\tremaining: 611ms\n",
      "26:\tlearn: 2157.0061667\ttest: 2171.0977796\tbest: 2171.0977796 (26)\ttotal: 682ms\tremaining: 581ms\n",
      "27:\tlearn: 2137.1105831\ttest: 2151.3771118\tbest: 2151.3771118 (27)\ttotal: 703ms\tremaining: 553ms\n",
      "28:\tlearn: 2116.4233691\ttest: 2130.0459989\tbest: 2130.0459989 (28)\ttotal: 724ms\tremaining: 524ms\n",
      "29:\tlearn: 2099.4397675\ttest: 2114.1960139\tbest: 2114.1960139 (29)\ttotal: 744ms\tremaining: 496ms\n",
      "30:\tlearn: 2081.4599014\ttest: 2095.7121346\tbest: 2095.7121346 (30)\ttotal: 765ms\tremaining: 469ms\n",
      "31:\tlearn: 2067.4655732\ttest: 2079.6540943\tbest: 2079.6540943 (31)\ttotal: 785ms\tremaining: 441ms\n",
      "32:\tlearn: 2046.3297072\ttest: 2057.7321187\tbest: 2057.7321187 (32)\ttotal: 812ms\tremaining: 418ms\n",
      "33:\tlearn: 2028.4758689\ttest: 2039.7941857\tbest: 2039.7941857 (33)\ttotal: 833ms\tremaining: 392ms\n",
      "34:\tlearn: 2012.2814988\ttest: 2023.5538288\tbest: 2023.5538288 (34)\ttotal: 854ms\tremaining: 366ms\n",
      "35:\tlearn: 1998.5521567\ttest: 2009.0771710\tbest: 2009.0771710 (35)\ttotal: 874ms\tremaining: 340ms\n",
      "36:\tlearn: 1985.0456936\ttest: 1995.1833319\tbest: 1995.1833319 (36)\ttotal: 894ms\tremaining: 314ms\n",
      "37:\tlearn: 1973.3618074\ttest: 1982.9926112\tbest: 1982.9926112 (37)\ttotal: 916ms\tremaining: 289ms\n",
      "38:\tlearn: 1958.7680255\ttest: 1969.2179336\tbest: 1969.2179336 (38)\ttotal: 936ms\tremaining: 264ms\n",
      "39:\tlearn: 1946.6123670\ttest: 1957.8592492\tbest: 1957.8592492 (39)\ttotal: 957ms\tremaining: 239ms\n",
      "40:\tlearn: 1936.9547567\ttest: 1947.8054353\tbest: 1947.8054353 (40)\ttotal: 979ms\tremaining: 215ms\n",
      "41:\tlearn: 1925.0695942\ttest: 1934.6421223\tbest: 1934.6421223 (41)\ttotal: 1s\tremaining: 191ms\n",
      "42:\tlearn: 1915.8681989\ttest: 1925.5828382\tbest: 1925.5828382 (42)\ttotal: 1.03s\tremaining: 167ms\n",
      "43:\tlearn: 1907.1877988\ttest: 1917.1468391\tbest: 1917.1468391 (43)\ttotal: 1.05s\tremaining: 143ms\n",
      "44:\tlearn: 1897.8585739\ttest: 1908.1882836\tbest: 1908.1882836 (44)\ttotal: 1.07s\tremaining: 119ms\n",
      "45:\tlearn: 1890.2898478\ttest: 1900.9761465\tbest: 1900.9761465 (45)\ttotal: 1.09s\tremaining: 94.6ms\n",
      "46:\tlearn: 1883.4176498\ttest: 1893.7866362\tbest: 1893.7866362 (46)\ttotal: 1.11s\tremaining: 70.9ms\n",
      "47:\tlearn: 1874.7306004\ttest: 1884.0323758\tbest: 1884.0323758 (47)\ttotal: 1.14s\tremaining: 47.4ms\n",
      "48:\tlearn: 1868.3342650\ttest: 1878.2044293\tbest: 1878.2044293 (48)\ttotal: 1.16s\tremaining: 23.7ms\n",
      "49:\tlearn: 1861.2043921\ttest: 1870.1270514\tbest: 1870.1270514 (49)\ttotal: 1.19s\tremaining: 0us\n",
      "\n",
      "bestTest = 1870.127051\n",
      "bestIteration = 49\n",
      "\n",
      "0:\tloss: 1870.1270514\tbest: 1870.1270514 (0)\ttotal: 2.16s\tremaining: 23.8s\n",
      "0:\tlearn: 6247.7412847\ttest: 6257.0151059\tbest: 6257.0151059 (0)\ttotal: 28.9ms\tremaining: 1.41s\n",
      "1:\tlearn: 6196.8959630\ttest: 6206.3026159\tbest: 6206.3026159 (1)\ttotal: 57.9ms\tremaining: 1.39s\n",
      "2:\tlearn: 6146.5844492\ttest: 6156.1289470\tbest: 6156.1289470 (2)\ttotal: 78.8ms\tremaining: 1.23s\n",
      "3:\tlearn: 6097.0654190\ttest: 6106.7736016\tbest: 6106.7736016 (3)\ttotal: 108ms\tremaining: 1.24s\n",
      "4:\tlearn: 6048.1383070\ttest: 6058.0094184\tbest: 6058.0094184 (4)\ttotal: 129ms\tremaining: 1.16s\n",
      "5:\tlearn: 5999.6567382\ttest: 6009.6780130\tbest: 6009.6780130 (5)\ttotal: 149ms\tremaining: 1.09s\n",
      "6:\tlearn: 5951.9347799\ttest: 5962.0732987\tbest: 5962.0732987 (6)\ttotal: 170ms\tremaining: 1.04s\n",
      "7:\tlearn: 5904.6303416\ttest: 5914.9699805\tbest: 5914.9699805 (7)\ttotal: 192ms\tremaining: 1.01s\n",
      "8:\tlearn: 5857.9801892\ttest: 5868.5105991\tbest: 5868.5105991 (8)\ttotal: 214ms\tremaining: 974ms\n",
      "9:\tlearn: 5811.8028655\ttest: 5822.4915253\tbest: 5822.4915253 (9)\ttotal: 237ms\tremaining: 949ms\n",
      "10:\tlearn: 5766.1627056\ttest: 5777.0735761\tbest: 5777.0735761 (10)\ttotal: 258ms\tremaining: 916ms\n",
      "11:\tlearn: 5721.1382917\ttest: 5732.2720993\tbest: 5732.2720993 (11)\ttotal: 279ms\tremaining: 884ms\n",
      "12:\tlearn: 5676.4048852\ttest: 5687.6959321\tbest: 5687.6959321 (12)\ttotal: 302ms\tremaining: 859ms\n",
      "13:\tlearn: 5632.2244953\ttest: 5643.6568199\tbest: 5643.6568199 (13)\ttotal: 323ms\tremaining: 831ms\n",
      "14:\tlearn: 5588.7499124\ttest: 5600.3726484\tbest: 5600.3726484 (14)\ttotal: 346ms\tremaining: 808ms\n",
      "15:\tlearn: 5545.8099840\ttest: 5557.6513427\tbest: 5557.6513427 (15)\ttotal: 369ms\tremaining: 784ms\n",
      "16:\tlearn: 5503.2756466\ttest: 5515.3136640\tbest: 5515.3136640 (16)\ttotal: 395ms\tremaining: 767ms\n",
      "17:\tlearn: 5461.0292188\ttest: 5473.1968584\tbest: 5473.1968584 (17)\ttotal: 424ms\tremaining: 754ms\n",
      "18:\tlearn: 5419.3011836\ttest: 5431.5972921\tbest: 5431.5972921 (18)\ttotal: 448ms\tremaining: 731ms\n",
      "19:\tlearn: 5377.8996743\ttest: 5390.2946294\tbest: 5390.2946294 (19)\ttotal: 468ms\tremaining: 702ms\n",
      "20:\tlearn: 5337.1883597\ttest: 5349.7308848\tbest: 5349.7308848 (20)\ttotal: 488ms\tremaining: 674ms\n",
      "21:\tlearn: 5296.8843909\ttest: 5309.5254677\tbest: 5309.5254677 (21)\ttotal: 512ms\tremaining: 651ms\n",
      "22:\tlearn: 5257.2351117\ttest: 5270.0869614\tbest: 5270.0869614 (22)\ttotal: 535ms\tremaining: 628ms\n",
      "23:\tlearn: 5218.1263097\ttest: 5231.1649099\tbest: 5231.1649099 (23)\ttotal: 564ms\tremaining: 610ms\n",
      "24:\tlearn: 5179.6641203\ttest: 5192.9206118\tbest: 5192.9206118 (24)\ttotal: 585ms\tremaining: 585ms\n",
      "25:\tlearn: 5141.5542232\ttest: 5154.9515390\tbest: 5154.9515390 (25)\ttotal: 607ms\tremaining: 560ms\n",
      "26:\tlearn: 5103.6948402\ttest: 5117.2101025\tbest: 5117.2101025 (26)\ttotal: 629ms\tremaining: 536ms\n",
      "27:\tlearn: 5066.5802930\ttest: 5080.3300318\tbest: 5080.3300318 (27)\ttotal: 654ms\tremaining: 514ms\n",
      "28:\tlearn: 5029.2902563\ttest: 5043.1269284\tbest: 5043.1269284 (28)\ttotal: 675ms\tremaining: 489ms\n",
      "29:\tlearn: 4992.5595925\ttest: 5006.4769124\tbest: 5006.4769124 (29)\ttotal: 696ms\tremaining: 464ms\n",
      "30:\tlearn: 4956.5345693\ttest: 4970.5301864\tbest: 4970.5301864 (30)\ttotal: 717ms\tremaining: 440ms\n",
      "31:\tlearn: 4920.9841154\ttest: 4935.1648931\tbest: 4935.1648931 (31)\ttotal: 740ms\tremaining: 416ms\n",
      "32:\tlearn: 4885.4571256\ttest: 4899.7189421\tbest: 4899.7189421 (32)\ttotal: 761ms\tremaining: 392ms\n",
      "33:\tlearn: 4850.6835535\ttest: 4865.0529981\tbest: 4865.0529981 (33)\ttotal: 782ms\tremaining: 368ms\n",
      "34:\tlearn: 4816.2303613\ttest: 4830.7466271\tbest: 4830.7466271 (34)\ttotal: 803ms\tremaining: 344ms\n",
      "35:\tlearn: 4782.1911941\ttest: 4796.7427970\tbest: 4796.7427970 (35)\ttotal: 824ms\tremaining: 320ms\n",
      "36:\tlearn: 4748.8331043\ttest: 4763.5416021\tbest: 4763.5416021 (36)\ttotal: 848ms\tremaining: 298ms\n",
      "37:\tlearn: 4715.7109272\ttest: 4730.5294917\tbest: 4730.5294917 (37)\ttotal: 869ms\tremaining: 274ms\n",
      "38:\tlearn: 4683.0142363\ttest: 4697.9651327\tbest: 4697.9651327 (38)\ttotal: 892ms\tremaining: 252ms\n",
      "39:\tlearn: 4650.7600801\ttest: 4665.8211321\tbest: 4665.8211321 (39)\ttotal: 916ms\tremaining: 229ms\n",
      "40:\tlearn: 4618.7636369\ttest: 4633.8797299\tbest: 4633.8797299 (40)\ttotal: 947ms\tremaining: 208ms\n",
      "41:\tlearn: 4587.2117405\ttest: 4602.5062653\tbest: 4602.5062653 (41)\ttotal: 979ms\tremaining: 187ms\n",
      "42:\tlearn: 4556.0544246\ttest: 4571.5220905\tbest: 4571.5220905 (42)\ttotal: 1s\tremaining: 163ms\n",
      "43:\tlearn: 4524.6608605\ttest: 4540.0653896\tbest: 4540.0653896 (43)\ttotal: 1.02s\tremaining: 139ms\n",
      "44:\tlearn: 4493.7821072\ttest: 4509.2011036\tbest: 4509.2011036 (44)\ttotal: 1.04s\tremaining: 116ms\n",
      "45:\tlearn: 4463.3128763\ttest: 4478.6463398\tbest: 4478.6463398 (45)\ttotal: 1.07s\tremaining: 92.8ms\n",
      "46:\tlearn: 4433.3297033\ttest: 4448.7530556\tbest: 4448.7530556 (46)\ttotal: 1.09s\tremaining: 69.5ms\n",
      "47:\tlearn: 4404.2283371\ttest: 4419.6082185\tbest: 4419.6082185 (47)\ttotal: 1.11s\tremaining: 46.2ms\n",
      "48:\tlearn: 4375.2597880\ttest: 4390.7220427\tbest: 4390.7220427 (48)\ttotal: 1.13s\tremaining: 23.1ms\n",
      "49:\tlearn: 4346.6333701\ttest: 4362.1888360\tbest: 4362.1888360 (49)\ttotal: 1.15s\tremaining: 0us\n",
      "\n",
      "bestTest = 4362.188836\n",
      "bestIteration = 49\n",
      "\n",
      "1:\tloss: 4362.1888360\tbest: 1870.1270514 (0)\ttotal: 3.35s\tremaining: 16.7s\n",
      "0:\tlearn: 5792.4226503\ttest: 5803.4871666\tbest: 5803.4871666 (0)\ttotal: 30ms\tremaining: 2.97s\n",
      "1:\tlearn: 5341.1970638\ttest: 5353.5062843\tbest: 5353.5062843 (1)\ttotal: 60.4ms\tremaining: 2.96s\n",
      "2:\tlearn: 4944.3921087\ttest: 4957.9475385\tbest: 4957.9475385 (2)\ttotal: 81.4ms\tremaining: 2.63s\n",
      "3:\tlearn: 4593.1168239\ttest: 4607.6960684\tbest: 4607.6960684 (3)\ttotal: 110ms\tremaining: 2.64s\n",
      "4:\tlearn: 4282.4070074\ttest: 4297.9184380\tbest: 4297.9184380 (4)\ttotal: 131ms\tremaining: 2.49s\n",
      "5:\tlearn: 4009.4978058\ttest: 4026.9384729\tbest: 4026.9384729 (5)\ttotal: 152ms\tremaining: 2.38s\n",
      "6:\tlearn: 3768.9193598\ttest: 3786.4456155\tbest: 3786.4456155 (6)\ttotal: 175ms\tremaining: 2.32s\n",
      "7:\tlearn: 3560.6673426\ttest: 3578.3027656\tbest: 3578.3027656 (7)\ttotal: 197ms\tremaining: 2.26s\n",
      "8:\tlearn: 3375.3005153\ttest: 3392.6849933\tbest: 3392.6849933 (8)\ttotal: 222ms\tremaining: 2.24s\n",
      "9:\tlearn: 3216.4128117\ttest: 3234.1287617\tbest: 3234.1287617 (9)\ttotal: 243ms\tremaining: 2.18s\n",
      "10:\tlearn: 3079.0838657\ttest: 3098.0733221\tbest: 3098.0733221 (10)\ttotal: 266ms\tremaining: 2.15s\n",
      "11:\tlearn: 2950.6259843\ttest: 2969.2558691\tbest: 2969.2558691 (11)\ttotal: 288ms\tremaining: 2.11s\n",
      "12:\tlearn: 2841.7569880\ttest: 2858.8233574\tbest: 2858.8233574 (12)\ttotal: 311ms\tremaining: 2.08s\n",
      "13:\tlearn: 2745.7047438\ttest: 2762.7749593\tbest: 2762.7749593 (13)\ttotal: 340ms\tremaining: 2.09s\n",
      "14:\tlearn: 2664.5689926\ttest: 2682.6398649\tbest: 2682.6398649 (14)\ttotal: 375ms\tremaining: 2.12s\n",
      "15:\tlearn: 2592.3057756\ttest: 2609.8496375\tbest: 2609.8496375 (15)\ttotal: 396ms\tremaining: 2.08s\n",
      "16:\tlearn: 2524.6739752\ttest: 2542.4703807\tbest: 2542.4703807 (16)\ttotal: 417ms\tremaining: 2.04s\n",
      "17:\tlearn: 2470.2529467\ttest: 2488.3991051\tbest: 2488.3991051 (17)\ttotal: 439ms\tremaining: 2s\n",
      "18:\tlearn: 2420.2150561\ttest: 2438.4391850\tbest: 2438.4391850 (18)\ttotal: 461ms\tremaining: 1.97s\n",
      "19:\tlearn: 2369.9938013\ttest: 2388.4536312\tbest: 2388.4536312 (19)\ttotal: 485ms\tremaining: 1.94s\n",
      "20:\tlearn: 2327.8910822\ttest: 2346.1744246\tbest: 2346.1744246 (20)\ttotal: 506ms\tremaining: 1.9s\n",
      "21:\tlearn: 2289.4585921\ttest: 2307.6735875\tbest: 2307.6735875 (21)\ttotal: 527ms\tremaining: 1.87s\n",
      "22:\tlearn: 2255.9622362\ttest: 2274.0864211\tbest: 2274.0864211 (22)\ttotal: 556ms\tremaining: 1.86s\n",
      "23:\tlearn: 2229.6129992\ttest: 2244.5720397\tbest: 2244.5720397 (23)\ttotal: 577ms\tremaining: 1.83s\n",
      "24:\tlearn: 2202.2715623\ttest: 2216.4877893\tbest: 2216.4877893 (24)\ttotal: 602ms\tremaining: 1.8s\n",
      "25:\tlearn: 2178.5454892\ttest: 2193.4859188\tbest: 2193.4859188 (25)\ttotal: 623ms\tremaining: 1.77s\n",
      "26:\tlearn: 2157.0061667\ttest: 2171.0977796\tbest: 2171.0977796 (26)\ttotal: 644ms\tremaining: 1.74s\n",
      "27:\tlearn: 2137.1105831\ttest: 2151.3771118\tbest: 2151.3771118 (27)\ttotal: 665ms\tremaining: 1.71s\n",
      "28:\tlearn: 2116.4233691\ttest: 2130.0459989\tbest: 2130.0459989 (28)\ttotal: 687ms\tremaining: 1.68s\n",
      "29:\tlearn: 2099.4397675\ttest: 2114.1960139\tbest: 2114.1960139 (29)\ttotal: 710ms\tremaining: 1.66s\n",
      "30:\tlearn: 2081.4599014\ttest: 2095.7121346\tbest: 2095.7121346 (30)\ttotal: 732ms\tremaining: 1.63s\n",
      "31:\tlearn: 2067.4655732\ttest: 2079.6540943\tbest: 2079.6540943 (31)\ttotal: 758ms\tremaining: 1.61s\n",
      "32:\tlearn: 2046.3297072\ttest: 2057.7321187\tbest: 2057.7321187 (32)\ttotal: 785ms\tremaining: 1.59s\n",
      "33:\tlearn: 2028.4758689\ttest: 2039.7941857\tbest: 2039.7941857 (33)\ttotal: 808ms\tremaining: 1.57s\n",
      "34:\tlearn: 2012.2814988\ttest: 2023.5538288\tbest: 2023.5538288 (34)\ttotal: 831ms\tremaining: 1.54s\n",
      "35:\tlearn: 1998.5521567\ttest: 2009.0771710\tbest: 2009.0771710 (35)\ttotal: 856ms\tremaining: 1.52s\n",
      "36:\tlearn: 1985.0456936\ttest: 1995.1833319\tbest: 1995.1833319 (36)\ttotal: 881ms\tremaining: 1.5s\n",
      "37:\tlearn: 1973.3618074\ttest: 1982.9926112\tbest: 1982.9926112 (37)\ttotal: 908ms\tremaining: 1.48s\n",
      "38:\tlearn: 1958.7680255\ttest: 1969.2179336\tbest: 1969.2179336 (38)\ttotal: 932ms\tremaining: 1.46s\n",
      "39:\tlearn: 1946.6123670\ttest: 1957.8592492\tbest: 1957.8592492 (39)\ttotal: 956ms\tremaining: 1.43s\n",
      "40:\tlearn: 1936.9547567\ttest: 1947.8054353\tbest: 1947.8054353 (40)\ttotal: 978ms\tremaining: 1.41s\n",
      "41:\tlearn: 1925.0695942\ttest: 1934.6421223\tbest: 1934.6421223 (41)\ttotal: 1000ms\tremaining: 1.38s\n",
      "42:\tlearn: 1915.8681989\ttest: 1925.5828382\tbest: 1925.5828382 (42)\ttotal: 1.02s\tremaining: 1.35s\n",
      "43:\tlearn: 1907.1877988\ttest: 1917.1468391\tbest: 1917.1468391 (43)\ttotal: 1.04s\tremaining: 1.33s\n",
      "44:\tlearn: 1897.8585739\ttest: 1908.1882836\tbest: 1908.1882836 (44)\ttotal: 1.06s\tremaining: 1.3s\n",
      "45:\tlearn: 1890.2898478\ttest: 1900.9761465\tbest: 1900.9761465 (45)\ttotal: 1.09s\tremaining: 1.27s\n",
      "46:\tlearn: 1883.4176498\ttest: 1893.7866362\tbest: 1893.7866362 (46)\ttotal: 1.11s\tremaining: 1.25s\n",
      "47:\tlearn: 1874.7306004\ttest: 1884.0323758\tbest: 1884.0323758 (47)\ttotal: 1.13s\tremaining: 1.22s\n",
      "48:\tlearn: 1868.3342650\ttest: 1878.2044293\tbest: 1878.2044293 (48)\ttotal: 1.16s\tremaining: 1.2s\n",
      "49:\tlearn: 1861.2043921\ttest: 1870.1270514\tbest: 1870.1270514 (49)\ttotal: 1.18s\tremaining: 1.18s\n",
      "50:\tlearn: 1853.3062544\ttest: 1862.8000039\tbest: 1862.8000039 (50)\ttotal: 1.2s\tremaining: 1.15s\n",
      "51:\tlearn: 1847.4546540\ttest: 1857.6095969\tbest: 1857.6095969 (51)\ttotal: 1.22s\tremaining: 1.13s\n",
      "52:\tlearn: 1842.1812170\ttest: 1852.3479839\tbest: 1852.3479839 (52)\ttotal: 1.25s\tremaining: 1.1s\n",
      "53:\tlearn: 1835.9266080\ttest: 1845.4407126\tbest: 1845.4407126 (53)\ttotal: 1.27s\tremaining: 1.08s\n",
      "54:\tlearn: 1831.6308984\ttest: 1841.1503615\tbest: 1841.1503615 (54)\ttotal: 1.29s\tremaining: 1.05s\n",
      "55:\tlearn: 1827.0436289\ttest: 1836.8109888\tbest: 1836.8109888 (55)\ttotal: 1.31s\tremaining: 1.03s\n",
      "56:\tlearn: 1819.6990854\ttest: 1829.3422400\tbest: 1829.3422400 (56)\ttotal: 1.33s\tremaining: 1s\n",
      "57:\tlearn: 1815.0849982\ttest: 1825.3946831\tbest: 1825.3946831 (57)\ttotal: 1.35s\tremaining: 980ms\n",
      "58:\tlearn: 1811.0123699\ttest: 1821.4891178\tbest: 1821.4891178 (58)\ttotal: 1.37s\tremaining: 955ms\n",
      "59:\tlearn: 1806.0854123\ttest: 1816.2035323\tbest: 1816.2035323 (59)\ttotal: 1.4s\tremaining: 931ms\n",
      "60:\tlearn: 1800.9675092\ttest: 1811.0753180\tbest: 1811.0753180 (60)\ttotal: 1.42s\tremaining: 907ms\n",
      "61:\tlearn: 1797.5659122\ttest: 1807.8914918\tbest: 1807.8914918 (61)\ttotal: 1.45s\tremaining: 888ms\n",
      "62:\tlearn: 1794.0878865\ttest: 1804.5976728\tbest: 1804.5976728 (62)\ttotal: 1.48s\tremaining: 871ms\n",
      "63:\tlearn: 1789.8215188\ttest: 1800.0814749\tbest: 1800.0814749 (63)\ttotal: 1.51s\tremaining: 849ms\n",
      "64:\tlearn: 1785.9124263\ttest: 1795.6997585\tbest: 1795.6997585 (64)\ttotal: 1.53s\tremaining: 825ms\n",
      "65:\tlearn: 1781.2573999\ttest: 1791.2476565\tbest: 1791.2476565 (65)\ttotal: 1.55s\tremaining: 801ms\n",
      "66:\tlearn: 1778.6945187\ttest: 1788.2130779\tbest: 1788.2130779 (66)\ttotal: 1.58s\tremaining: 777ms\n",
      "67:\tlearn: 1775.6780562\ttest: 1785.5656273\tbest: 1785.5656273 (67)\ttotal: 1.6s\tremaining: 753ms\n",
      "68:\tlearn: 1772.4139997\ttest: 1782.0350445\tbest: 1782.0350445 (68)\ttotal: 1.62s\tremaining: 729ms\n",
      "69:\tlearn: 1770.0745213\ttest: 1779.6191307\tbest: 1779.6191307 (69)\ttotal: 1.65s\tremaining: 706ms\n",
      "70:\tlearn: 1767.4861645\ttest: 1777.1371060\tbest: 1777.1371060 (70)\ttotal: 1.67s\tremaining: 682ms\n",
      "71:\tlearn: 1763.8732288\ttest: 1773.8003889\tbest: 1773.8003889 (71)\ttotal: 1.69s\tremaining: 657ms\n",
      "72:\tlearn: 1761.7820677\ttest: 1772.0401508\tbest: 1772.0401508 (72)\ttotal: 1.71s\tremaining: 633ms\n",
      "73:\tlearn: 1759.0921487\ttest: 1769.1208702\tbest: 1769.1208702 (73)\ttotal: 1.73s\tremaining: 609ms\n",
      "74:\tlearn: 1754.3905378\ttest: 1764.1948876\tbest: 1764.1948876 (74)\ttotal: 1.76s\tremaining: 586ms\n",
      "75:\tlearn: 1752.2262717\ttest: 1762.2891779\tbest: 1762.2891779 (75)\ttotal: 1.78s\tremaining: 562ms\n",
      "76:\tlearn: 1749.7019492\ttest: 1759.8208640\tbest: 1759.8208640 (76)\ttotal: 1.8s\tremaining: 538ms\n",
      "77:\tlearn: 1747.3500972\ttest: 1757.4665451\tbest: 1757.4665451 (77)\ttotal: 1.82s\tremaining: 514ms\n",
      "78:\tlearn: 1745.0332449\ttest: 1754.7597594\tbest: 1754.7597594 (78)\ttotal: 1.84s\tremaining: 491ms\n",
      "79:\tlearn: 1742.9170425\ttest: 1752.2830258\tbest: 1752.2830258 (79)\ttotal: 1.87s\tremaining: 467ms\n",
      "80:\tlearn: 1740.7386971\ttest: 1750.0850381\tbest: 1750.0850381 (80)\ttotal: 1.89s\tremaining: 443ms\n",
      "81:\tlearn: 1739.0848948\ttest: 1748.5792238\tbest: 1748.5792238 (81)\ttotal: 1.91s\tremaining: 420ms\n",
      "82:\tlearn: 1737.2586947\ttest: 1746.7470181\tbest: 1746.7470181 (82)\ttotal: 1.94s\tremaining: 396ms\n",
      "83:\tlearn: 1735.2511165\ttest: 1744.5466381\tbest: 1744.5466381 (83)\ttotal: 1.96s\tremaining: 373ms\n",
      "84:\tlearn: 1731.6378322\ttest: 1740.7678519\tbest: 1740.7678519 (84)\ttotal: 1.98s\tremaining: 349ms\n",
      "85:\tlearn: 1729.6307686\ttest: 1738.5964422\tbest: 1738.5964422 (85)\ttotal: 2s\tremaining: 326ms\n",
      "86:\tlearn: 1727.5492199\ttest: 1736.6641892\tbest: 1736.6641892 (86)\ttotal: 2.02s\tremaining: 302ms\n",
      "87:\tlearn: 1726.1834381\ttest: 1735.4881565\tbest: 1735.4881565 (87)\ttotal: 2.04s\tremaining: 279ms\n",
      "88:\tlearn: 1724.4714172\ttest: 1733.5131017\tbest: 1733.5131017 (88)\ttotal: 2.07s\tremaining: 256ms\n",
      "89:\tlearn: 1723.1194741\ttest: 1732.0410477\tbest: 1732.0410477 (89)\ttotal: 2.09s\tremaining: 232ms\n",
      "90:\tlearn: 1721.6835218\ttest: 1730.7952396\tbest: 1730.7952396 (90)\ttotal: 2.11s\tremaining: 209ms\n",
      "91:\tlearn: 1720.1913748\ttest: 1729.3229687\tbest: 1729.3229687 (91)\ttotal: 2.13s\tremaining: 185ms\n",
      "92:\tlearn: 1719.0077975\ttest: 1727.9188789\tbest: 1727.9188789 (92)\ttotal: 2.15s\tremaining: 162ms\n",
      "93:\tlearn: 1717.9139720\ttest: 1726.9247099\tbest: 1726.9247099 (93)\ttotal: 2.17s\tremaining: 139ms\n",
      "94:\tlearn: 1716.1260105\ttest: 1725.0413697\tbest: 1725.0413697 (94)\ttotal: 2.19s\tremaining: 116ms\n",
      "95:\tlearn: 1714.6769878\ttest: 1723.4418567\tbest: 1723.4418567 (95)\ttotal: 2.22s\tremaining: 92.4ms\n",
      "96:\tlearn: 1712.0852182\ttest: 1720.9248885\tbest: 1720.9248885 (96)\ttotal: 2.24s\tremaining: 69.2ms\n",
      "97:\tlearn: 1710.1277232\ttest: 1719.2342314\tbest: 1719.2342314 (97)\ttotal: 2.27s\tremaining: 46.2ms\n",
      "98:\tlearn: 1708.6525827\ttest: 1717.8171264\tbest: 1717.8171264 (98)\ttotal: 2.29s\tremaining: 23.1ms\n",
      "99:\tlearn: 1707.6216018\ttest: 1716.8364659\tbest: 1716.8364659 (99)\ttotal: 2.31s\tremaining: 0us\n",
      "\n",
      "bestTest = 1716.836466\n",
      "bestIteration = 99\n",
      "\n",
      "2:\tloss: 1716.8364659\tbest: 1716.8364659 (2)\ttotal: 5.69s\tremaining: 17.1s\n",
      "0:\tlearn: 6247.7412847\ttest: 6257.0151059\tbest: 6257.0151059 (0)\ttotal: 29.1ms\tremaining: 2.88s\n",
      "1:\tlearn: 6196.8959630\ttest: 6206.3026159\tbest: 6206.3026159 (1)\ttotal: 56.1ms\tremaining: 2.75s\n",
      "2:\tlearn: 6146.5844492\ttest: 6156.1289470\tbest: 6156.1289470 (2)\ttotal: 77.8ms\tremaining: 2.52s\n",
      "3:\tlearn: 6097.0654190\ttest: 6106.7736016\tbest: 6106.7736016 (3)\ttotal: 111ms\tremaining: 2.65s\n",
      "4:\tlearn: 6048.1383070\ttest: 6058.0094184\tbest: 6058.0094184 (4)\ttotal: 132ms\tremaining: 2.51s\n",
      "5:\tlearn: 5999.6567382\ttest: 6009.6780130\tbest: 6009.6780130 (5)\ttotal: 152ms\tremaining: 2.38s\n",
      "6:\tlearn: 5951.9347799\ttest: 5962.0732987\tbest: 5962.0732987 (6)\ttotal: 171ms\tremaining: 2.28s\n",
      "7:\tlearn: 5904.6303416\ttest: 5914.9699805\tbest: 5914.9699805 (7)\ttotal: 193ms\tremaining: 2.22s\n",
      "8:\tlearn: 5857.9801892\ttest: 5868.5105991\tbest: 5868.5105991 (8)\ttotal: 216ms\tremaining: 2.18s\n",
      "9:\tlearn: 5811.8028655\ttest: 5822.4915253\tbest: 5822.4915253 (9)\ttotal: 237ms\tremaining: 2.13s\n",
      "10:\tlearn: 5766.1627056\ttest: 5777.0735761\tbest: 5777.0735761 (10)\ttotal: 257ms\tremaining: 2.08s\n",
      "11:\tlearn: 5721.1382917\ttest: 5732.2720993\tbest: 5732.2720993 (11)\ttotal: 279ms\tremaining: 2.05s\n",
      "12:\tlearn: 5676.4048852\ttest: 5687.6959321\tbest: 5687.6959321 (12)\ttotal: 300ms\tremaining: 2.01s\n",
      "13:\tlearn: 5632.2244953\ttest: 5643.6568199\tbest: 5643.6568199 (13)\ttotal: 325ms\tremaining: 2s\n",
      "14:\tlearn: 5588.7499124\ttest: 5600.3726484\tbest: 5600.3726484 (14)\ttotal: 346ms\tremaining: 1.96s\n",
      "15:\tlearn: 5545.8099840\ttest: 5557.6513427\tbest: 5557.6513427 (15)\ttotal: 367ms\tremaining: 1.92s\n",
      "16:\tlearn: 5503.2756466\ttest: 5515.3136640\tbest: 5515.3136640 (16)\ttotal: 387ms\tremaining: 1.89s\n",
      "17:\tlearn: 5461.0292188\ttest: 5473.1968584\tbest: 5473.1968584 (17)\ttotal: 409ms\tremaining: 1.86s\n",
      "18:\tlearn: 5419.3011836\ttest: 5431.5972921\tbest: 5431.5972921 (18)\ttotal: 430ms\tremaining: 1.83s\n",
      "19:\tlearn: 5377.8996743\ttest: 5390.2946294\tbest: 5390.2946294 (19)\ttotal: 450ms\tremaining: 1.8s\n",
      "20:\tlearn: 5337.1883597\ttest: 5349.7308848\tbest: 5349.7308848 (20)\ttotal: 470ms\tremaining: 1.77s\n",
      "21:\tlearn: 5296.8843909\ttest: 5309.5254677\tbest: 5309.5254677 (21)\ttotal: 492ms\tremaining: 1.74s\n",
      "22:\tlearn: 5257.2351117\ttest: 5270.0869614\tbest: 5270.0869614 (22)\ttotal: 516ms\tremaining: 1.73s\n",
      "23:\tlearn: 5218.1263097\ttest: 5231.1649099\tbest: 5231.1649099 (23)\ttotal: 536ms\tremaining: 1.7s\n",
      "24:\tlearn: 5179.6641203\ttest: 5192.9206118\tbest: 5192.9206118 (24)\ttotal: 556ms\tremaining: 1.67s\n",
      "25:\tlearn: 5141.5542232\ttest: 5154.9515390\tbest: 5154.9515390 (25)\ttotal: 576ms\tremaining: 1.64s\n",
      "26:\tlearn: 5103.6948402\ttest: 5117.2101025\tbest: 5117.2101025 (26)\ttotal: 595ms\tremaining: 1.61s\n",
      "27:\tlearn: 5066.5802930\ttest: 5080.3300318\tbest: 5080.3300318 (27)\ttotal: 616ms\tremaining: 1.58s\n",
      "28:\tlearn: 5029.2902563\ttest: 5043.1269284\tbest: 5043.1269284 (28)\ttotal: 636ms\tremaining: 1.56s\n",
      "29:\tlearn: 4992.5595925\ttest: 5006.4769124\tbest: 5006.4769124 (29)\ttotal: 656ms\tremaining: 1.53s\n",
      "30:\tlearn: 4956.5345693\ttest: 4970.5301864\tbest: 4970.5301864 (30)\ttotal: 676ms\tremaining: 1.5s\n",
      "31:\tlearn: 4920.9841154\ttest: 4935.1648931\tbest: 4935.1648931 (31)\ttotal: 695ms\tremaining: 1.48s\n",
      "32:\tlearn: 4885.4571256\ttest: 4899.7189421\tbest: 4899.7189421 (32)\ttotal: 720ms\tremaining: 1.46s\n",
      "33:\tlearn: 4850.6835535\ttest: 4865.0529981\tbest: 4865.0529981 (33)\ttotal: 739ms\tremaining: 1.44s\n",
      "34:\tlearn: 4816.2303613\ttest: 4830.7466271\tbest: 4830.7466271 (34)\ttotal: 760ms\tremaining: 1.41s\n",
      "35:\tlearn: 4782.1911941\ttest: 4796.7427970\tbest: 4796.7427970 (35)\ttotal: 779ms\tremaining: 1.39s\n",
      "36:\tlearn: 4748.8331043\ttest: 4763.5416021\tbest: 4763.5416021 (36)\ttotal: 799ms\tremaining: 1.36s\n",
      "37:\tlearn: 4715.7109272\ttest: 4730.5294917\tbest: 4730.5294917 (37)\ttotal: 819ms\tremaining: 1.34s\n",
      "38:\tlearn: 4683.0142363\ttest: 4697.9651327\tbest: 4697.9651327 (38)\ttotal: 839ms\tremaining: 1.31s\n",
      "39:\tlearn: 4650.7600801\ttest: 4665.8211321\tbest: 4665.8211321 (39)\ttotal: 859ms\tremaining: 1.29s\n",
      "40:\tlearn: 4618.7636369\ttest: 4633.8797299\tbest: 4633.8797299 (40)\ttotal: 878ms\tremaining: 1.26s\n",
      "41:\tlearn: 4587.2117405\ttest: 4602.5062653\tbest: 4602.5062653 (41)\ttotal: 898ms\tremaining: 1.24s\n",
      "42:\tlearn: 4556.0544246\ttest: 4571.5220905\tbest: 4571.5220905 (42)\ttotal: 921ms\tremaining: 1.22s\n",
      "43:\tlearn: 4524.6608605\ttest: 4540.0653896\tbest: 4540.0653896 (43)\ttotal: 942ms\tremaining: 1.2s\n",
      "44:\tlearn: 4493.7821072\ttest: 4509.2011036\tbest: 4509.2011036 (44)\ttotal: 967ms\tremaining: 1.18s\n",
      "45:\tlearn: 4463.3128763\ttest: 4478.6463398\tbest: 4478.6463398 (45)\ttotal: 989ms\tremaining: 1.16s\n",
      "46:\tlearn: 4433.3297033\ttest: 4448.7530556\tbest: 4448.7530556 (46)\ttotal: 1.01s\tremaining: 1.14s\n",
      "47:\tlearn: 4404.2283371\ttest: 4419.6082185\tbest: 4419.6082185 (47)\ttotal: 1.03s\tremaining: 1.12s\n",
      "48:\tlearn: 4375.2597880\ttest: 4390.7220427\tbest: 4390.7220427 (48)\ttotal: 1.05s\tremaining: 1.1s\n",
      "49:\tlearn: 4346.6333701\ttest: 4362.1888360\tbest: 4362.1888360 (49)\ttotal: 1.08s\tremaining: 1.08s\n",
      "50:\tlearn: 4318.4276586\ttest: 4334.1656683\tbest: 4334.1656683 (50)\ttotal: 1.1s\tremaining: 1.06s\n",
      "51:\tlearn: 4290.2668858\ttest: 4306.0216975\tbest: 4306.0216975 (51)\ttotal: 1.13s\tremaining: 1.04s\n",
      "52:\tlearn: 4262.2114445\ttest: 4277.9899008\tbest: 4277.9899008 (52)\ttotal: 1.15s\tremaining: 1.02s\n",
      "53:\tlearn: 4235.1577303\ttest: 4250.8882520\tbest: 4250.8882520 (53)\ttotal: 1.17s\tremaining: 997ms\n",
      "54:\tlearn: 4208.5131094\ttest: 4224.1719065\tbest: 4224.1719065 (54)\ttotal: 1.19s\tremaining: 976ms\n",
      "55:\tlearn: 4181.6626413\ttest: 4197.3074133\tbest: 4197.3074133 (55)\ttotal: 1.22s\tremaining: 958ms\n",
      "56:\tlearn: 4155.0977252\ttest: 4170.8387112\tbest: 4170.8387112 (56)\ttotal: 1.24s\tremaining: 937ms\n",
      "57:\tlearn: 4128.6980953\ttest: 4144.4125769\tbest: 4144.4125769 (57)\ttotal: 1.26s\tremaining: 915ms\n",
      "58:\tlearn: 4103.1827969\ttest: 4118.9786313\tbest: 4118.9786313 (58)\ttotal: 1.28s\tremaining: 893ms\n",
      "59:\tlearn: 4077.5811293\ttest: 4093.4505269\tbest: 4093.4505269 (59)\ttotal: 1.31s\tremaining: 872ms\n",
      "60:\tlearn: 4052.3270350\ttest: 4068.3338686\tbest: 4068.3338686 (60)\ttotal: 1.33s\tremaining: 850ms\n",
      "61:\tlearn: 4027.4738534\ttest: 4043.6720284\tbest: 4043.6720284 (61)\ttotal: 1.35s\tremaining: 827ms\n",
      "62:\tlearn: 4003.1555583\ttest: 4019.4536574\tbest: 4019.4536574 (62)\ttotal: 1.37s\tremaining: 805ms\n",
      "63:\tlearn: 3978.9511722\ttest: 3995.2910307\tbest: 3995.2910307 (63)\ttotal: 1.39s\tremaining: 783ms\n",
      "64:\tlearn: 3954.9008420\ttest: 3971.1635104\tbest: 3971.1635104 (64)\ttotal: 1.42s\tremaining: 762ms\n",
      "65:\tlearn: 3931.4172964\ttest: 3947.8283715\tbest: 3947.8283715 (65)\ttotal: 1.44s\tremaining: 740ms\n",
      "66:\tlearn: 3908.2233969\ttest: 3924.7393291\tbest: 3924.7393291 (66)\ttotal: 1.46s\tremaining: 718ms\n",
      "67:\tlearn: 3885.3479368\ttest: 3902.0587243\tbest: 3902.0587243 (67)\ttotal: 1.48s\tremaining: 696ms\n",
      "68:\tlearn: 3862.6717004\ttest: 3879.4407958\tbest: 3879.4407958 (68)\ttotal: 1.5s\tremaining: 674ms\n",
      "69:\tlearn: 3840.3606822\ttest: 3857.2321565\tbest: 3857.2321565 (69)\ttotal: 1.52s\tremaining: 652ms\n",
      "70:\tlearn: 3817.7946845\ttest: 3834.5653614\tbest: 3834.5653614 (70)\ttotal: 1.54s\tremaining: 631ms\n",
      "71:\tlearn: 3795.5763274\ttest: 3812.3000318\tbest: 3812.3000318 (71)\ttotal: 1.56s\tremaining: 609ms\n",
      "72:\tlearn: 3773.8628243\ttest: 3790.6893852\tbest: 3790.6893852 (72)\ttotal: 1.58s\tremaining: 587ms\n",
      "73:\tlearn: 3752.4075370\ttest: 3769.3597535\tbest: 3769.3597535 (73)\ttotal: 1.61s\tremaining: 565ms\n",
      "74:\tlearn: 3731.4378150\ttest: 3748.3192002\tbest: 3748.3192002 (74)\ttotal: 1.63s\tremaining: 543ms\n",
      "75:\tlearn: 3710.7328669\ttest: 3727.7137986\tbest: 3727.7137986 (75)\ttotal: 1.65s\tremaining: 521ms\n",
      "76:\tlearn: 3690.3267668\ttest: 3707.4070343\tbest: 3707.4070343 (76)\ttotal: 1.67s\tremaining: 499ms\n",
      "77:\tlearn: 3670.3781263\ttest: 3687.3697678\tbest: 3687.3697678 (77)\ttotal: 1.69s\tremaining: 478ms\n",
      "78:\tlearn: 3650.3313811\ttest: 3667.4453198\tbest: 3667.4453198 (78)\ttotal: 1.71s\tremaining: 456ms\n",
      "79:\tlearn: 3630.4473779\ttest: 3647.6666858\tbest: 3647.6666858 (79)\ttotal: 1.74s\tremaining: 434ms\n",
      "80:\tlearn: 3611.0435960\ttest: 3628.3566635\tbest: 3628.3566635 (80)\ttotal: 1.76s\tremaining: 412ms\n",
      "81:\tlearn: 3591.9039697\ttest: 3609.3250900\tbest: 3609.3250900 (81)\ttotal: 1.78s\tremaining: 390ms\n",
      "82:\tlearn: 3572.5417257\ttest: 3589.8309637\tbest: 3589.8309637 (82)\ttotal: 1.8s\tremaining: 370ms\n",
      "83:\tlearn: 3553.3121058\ttest: 3570.5881168\tbest: 3570.5881168 (83)\ttotal: 1.83s\tremaining: 348ms\n",
      "84:\tlearn: 3534.8554877\ttest: 3552.2973830\tbest: 3552.2973830 (84)\ttotal: 1.85s\tremaining: 326ms\n",
      "85:\tlearn: 3516.1136680\ttest: 3533.5872592\tbest: 3533.5872592 (85)\ttotal: 1.87s\tremaining: 305ms\n",
      "86:\tlearn: 3497.5015271\ttest: 3514.8795322\tbest: 3514.8795322 (86)\ttotal: 1.89s\tremaining: 283ms\n",
      "87:\tlearn: 3479.2464391\ttest: 3496.5896553\tbest: 3496.5896553 (87)\ttotal: 1.92s\tremaining: 261ms\n",
      "88:\tlearn: 3461.3140781\ttest: 3478.5932702\tbest: 3478.5932702 (88)\ttotal: 1.94s\tremaining: 239ms\n",
      "89:\tlearn: 3443.9876429\ttest: 3461.4212135\tbest: 3461.4212135 (89)\ttotal: 1.96s\tremaining: 218ms\n",
      "90:\tlearn: 3426.4698850\ttest: 3443.9251350\tbest: 3443.9251350 (90)\ttotal: 1.99s\tremaining: 197ms\n",
      "91:\tlearn: 3409.6279552\ttest: 3427.1898872\tbest: 3427.1898872 (91)\ttotal: 2.02s\tremaining: 176ms\n",
      "92:\tlearn: 3392.6574470\ttest: 3410.1432153\tbest: 3410.1432153 (92)\ttotal: 2.05s\tremaining: 155ms\n",
      "93:\tlearn: 3376.1126490\ttest: 3393.6629317\tbest: 3393.6629317 (93)\ttotal: 2.08s\tremaining: 133ms\n",
      "94:\tlearn: 3359.3627549\ttest: 3376.8116436\tbest: 3376.8116436 (94)\ttotal: 2.1s\tremaining: 111ms\n",
      "95:\tlearn: 3343.2740291\ttest: 3360.6346502\tbest: 3360.6346502 (95)\ttotal: 2.13s\tremaining: 88.9ms\n",
      "96:\tlearn: 3327.5720858\ttest: 3344.8479370\tbest: 3344.8479370 (96)\ttotal: 2.16s\tremaining: 66.7ms\n",
      "97:\tlearn: 3311.5214211\ttest: 3328.7384168\tbest: 3328.7384168 (97)\ttotal: 2.18s\tremaining: 44.6ms\n",
      "98:\tlearn: 3296.0791488\ttest: 3313.2614033\tbest: 3313.2614033 (98)\ttotal: 2.21s\tremaining: 22.3ms\n",
      "99:\tlearn: 3280.7767138\ttest: 3297.9875485\tbest: 3297.9875485 (99)\ttotal: 2.24s\tremaining: 0us\n",
      "\n",
      "bestTest = 3297.987549\n",
      "bestIteration = 99\n",
      "\n",
      "3:\tloss: 3297.9875485\tbest: 1716.8364659 (2)\ttotal: 7.97s\tremaining: 15.9s\n",
      "0:\tlearn: 5792.4226503\ttest: 5803.4871666\tbest: 5803.4871666 (0)\ttotal: 35.2ms\tremaining: 5.25s\n",
      "1:\tlearn: 5341.1970638\ttest: 5353.5062843\tbest: 5353.5062843 (1)\ttotal: 65.5ms\tremaining: 4.85s\n",
      "2:\tlearn: 4944.3921087\ttest: 4957.9475385\tbest: 4957.9475385 (2)\ttotal: 87.5ms\tremaining: 4.29s\n",
      "3:\tlearn: 4593.1168239\ttest: 4607.6960684\tbest: 4607.6960684 (3)\ttotal: 116ms\tremaining: 4.23s\n",
      "4:\tlearn: 4282.4070074\ttest: 4297.9184380\tbest: 4297.9184380 (4)\ttotal: 139ms\tremaining: 4.04s\n",
      "5:\tlearn: 4009.4978058\ttest: 4026.9384729\tbest: 4026.9384729 (5)\ttotal: 160ms\tremaining: 3.84s\n",
      "6:\tlearn: 3768.9193598\ttest: 3786.4456155\tbest: 3786.4456155 (6)\ttotal: 181ms\tremaining: 3.7s\n",
      "7:\tlearn: 3560.6673426\ttest: 3578.3027656\tbest: 3578.3027656 (7)\ttotal: 203ms\tremaining: 3.6s\n",
      "8:\tlearn: 3375.3005153\ttest: 3392.6849933\tbest: 3392.6849933 (8)\ttotal: 224ms\tremaining: 3.5s\n",
      "9:\tlearn: 3216.4128117\ttest: 3234.1287617\tbest: 3234.1287617 (9)\ttotal: 246ms\tremaining: 3.44s\n",
      "10:\tlearn: 3079.0838657\ttest: 3098.0733221\tbest: 3098.0733221 (10)\ttotal: 268ms\tremaining: 3.38s\n",
      "11:\tlearn: 2950.6259843\ttest: 2969.2558691\tbest: 2969.2558691 (11)\ttotal: 290ms\tremaining: 3.33s\n",
      "12:\tlearn: 2841.7569880\ttest: 2858.8233574\tbest: 2858.8233574 (12)\ttotal: 312ms\tremaining: 3.28s\n",
      "13:\tlearn: 2745.7047438\ttest: 2762.7749593\tbest: 2762.7749593 (13)\ttotal: 337ms\tremaining: 3.27s\n",
      "14:\tlearn: 2664.5689926\ttest: 2682.6398649\tbest: 2682.6398649 (14)\ttotal: 358ms\tremaining: 3.22s\n",
      "15:\tlearn: 2592.3057756\ttest: 2609.8496375\tbest: 2609.8496375 (15)\ttotal: 379ms\tremaining: 3.17s\n",
      "16:\tlearn: 2524.6739752\ttest: 2542.4703807\tbest: 2542.4703807 (16)\ttotal: 400ms\tremaining: 3.13s\n",
      "17:\tlearn: 2470.2529467\ttest: 2488.3991051\tbest: 2488.3991051 (17)\ttotal: 422ms\tremaining: 3.1s\n",
      "18:\tlearn: 2420.2150561\ttest: 2438.4391850\tbest: 2438.4391850 (18)\ttotal: 444ms\tremaining: 3.06s\n",
      "19:\tlearn: 2369.9938013\ttest: 2388.4536312\tbest: 2388.4536312 (19)\ttotal: 467ms\tremaining: 3.03s\n",
      "20:\tlearn: 2327.8910822\ttest: 2346.1744246\tbest: 2346.1744246 (20)\ttotal: 487ms\tremaining: 2.99s\n",
      "21:\tlearn: 2289.4585921\ttest: 2307.6735875\tbest: 2307.6735875 (21)\ttotal: 508ms\tremaining: 2.96s\n",
      "22:\tlearn: 2255.9622362\ttest: 2274.0864211\tbest: 2274.0864211 (22)\ttotal: 530ms\tremaining: 2.93s\n",
      "23:\tlearn: 2229.6129992\ttest: 2244.5720397\tbest: 2244.5720397 (23)\ttotal: 552ms\tremaining: 2.9s\n",
      "24:\tlearn: 2202.2715623\ttest: 2216.4877893\tbest: 2216.4877893 (24)\ttotal: 576ms\tremaining: 2.88s\n",
      "25:\tlearn: 2178.5454892\ttest: 2193.4859188\tbest: 2193.4859188 (25)\ttotal: 598ms\tremaining: 2.85s\n",
      "26:\tlearn: 2157.0061667\ttest: 2171.0977796\tbest: 2171.0977796 (26)\ttotal: 619ms\tremaining: 2.82s\n",
      "27:\tlearn: 2137.1105831\ttest: 2151.3771118\tbest: 2151.3771118 (27)\ttotal: 644ms\tremaining: 2.81s\n",
      "28:\tlearn: 2116.4233691\ttest: 2130.0459989\tbest: 2130.0459989 (28)\ttotal: 665ms\tremaining: 2.77s\n",
      "29:\tlearn: 2099.4397675\ttest: 2114.1960139\tbest: 2114.1960139 (29)\ttotal: 686ms\tremaining: 2.74s\n",
      "30:\tlearn: 2081.4599014\ttest: 2095.7121346\tbest: 2095.7121346 (30)\ttotal: 707ms\tremaining: 2.71s\n",
      "31:\tlearn: 2067.4655732\ttest: 2079.6540943\tbest: 2079.6540943 (31)\ttotal: 727ms\tremaining: 2.68s\n",
      "32:\tlearn: 2046.3297072\ttest: 2057.7321187\tbest: 2057.7321187 (32)\ttotal: 750ms\tremaining: 2.66s\n",
      "33:\tlearn: 2028.4758689\ttest: 2039.7941857\tbest: 2039.7941857 (33)\ttotal: 771ms\tremaining: 2.63s\n",
      "34:\tlearn: 2012.2814988\ttest: 2023.5538288\tbest: 2023.5538288 (34)\ttotal: 792ms\tremaining: 2.6s\n",
      "35:\tlearn: 1998.5521567\ttest: 2009.0771710\tbest: 2009.0771710 (35)\ttotal: 814ms\tremaining: 2.58s\n",
      "36:\tlearn: 1985.0456936\ttest: 1995.1833319\tbest: 1995.1833319 (36)\ttotal: 842ms\tremaining: 2.57s\n",
      "37:\tlearn: 1973.3618074\ttest: 1982.9926112\tbest: 1982.9926112 (37)\ttotal: 864ms\tremaining: 2.55s\n",
      "38:\tlearn: 1958.7680255\ttest: 1969.2179336\tbest: 1969.2179336 (38)\ttotal: 885ms\tremaining: 2.52s\n",
      "39:\tlearn: 1946.6123670\ttest: 1957.8592492\tbest: 1957.8592492 (39)\ttotal: 905ms\tremaining: 2.49s\n",
      "40:\tlearn: 1936.9547567\ttest: 1947.8054353\tbest: 1947.8054353 (40)\ttotal: 925ms\tremaining: 2.46s\n",
      "41:\tlearn: 1925.0695942\ttest: 1934.6421223\tbest: 1934.6421223 (41)\ttotal: 949ms\tremaining: 2.44s\n",
      "42:\tlearn: 1915.8681989\ttest: 1925.5828382\tbest: 1925.5828382 (42)\ttotal: 970ms\tremaining: 2.41s\n",
      "43:\tlearn: 1907.1877988\ttest: 1917.1468391\tbest: 1917.1468391 (43)\ttotal: 990ms\tremaining: 2.38s\n",
      "44:\tlearn: 1897.8585739\ttest: 1908.1882836\tbest: 1908.1882836 (44)\ttotal: 1.01s\tremaining: 2.35s\n",
      "45:\tlearn: 1890.2898478\ttest: 1900.9761465\tbest: 1900.9761465 (45)\ttotal: 1.03s\tremaining: 2.33s\n",
      "46:\tlearn: 1883.4176498\ttest: 1893.7866362\tbest: 1893.7866362 (46)\ttotal: 1.05s\tremaining: 2.31s\n",
      "47:\tlearn: 1874.7306004\ttest: 1884.0323758\tbest: 1884.0323758 (47)\ttotal: 1.07s\tremaining: 2.28s\n",
      "48:\tlearn: 1868.3342650\ttest: 1878.2044293\tbest: 1878.2044293 (48)\ttotal: 1.09s\tremaining: 2.26s\n",
      "49:\tlearn: 1861.2043921\ttest: 1870.1270514\tbest: 1870.1270514 (49)\ttotal: 1.11s\tremaining: 2.23s\n",
      "50:\tlearn: 1853.3062544\ttest: 1862.8000039\tbest: 1862.8000039 (50)\ttotal: 1.14s\tremaining: 2.21s\n",
      "51:\tlearn: 1847.4546540\ttest: 1857.6095969\tbest: 1857.6095969 (51)\ttotal: 1.16s\tremaining: 2.18s\n",
      "52:\tlearn: 1842.1812170\ttest: 1852.3479839\tbest: 1852.3479839 (52)\ttotal: 1.18s\tremaining: 2.15s\n",
      "53:\tlearn: 1835.9266080\ttest: 1845.4407126\tbest: 1845.4407126 (53)\ttotal: 1.2s\tremaining: 2.13s\n",
      "54:\tlearn: 1831.6308984\ttest: 1841.1503615\tbest: 1841.1503615 (54)\ttotal: 1.22s\tremaining: 2.1s\n",
      "55:\tlearn: 1827.0436289\ttest: 1836.8109888\tbest: 1836.8109888 (55)\ttotal: 1.24s\tremaining: 2.08s\n",
      "56:\tlearn: 1819.6990854\ttest: 1829.3422400\tbest: 1829.3422400 (56)\ttotal: 1.26s\tremaining: 2.06s\n",
      "57:\tlearn: 1815.0849982\ttest: 1825.3946831\tbest: 1825.3946831 (57)\ttotal: 1.28s\tremaining: 2.03s\n",
      "58:\tlearn: 1811.0123699\ttest: 1821.4891178\tbest: 1821.4891178 (58)\ttotal: 1.3s\tremaining: 2s\n",
      "59:\tlearn: 1806.0854123\ttest: 1816.2035323\tbest: 1816.2035323 (59)\ttotal: 1.32s\tremaining: 1.98s\n",
      "60:\tlearn: 1800.9675092\ttest: 1811.0753180\tbest: 1811.0753180 (60)\ttotal: 1.34s\tremaining: 1.96s\n",
      "61:\tlearn: 1797.5659122\ttest: 1807.8914918\tbest: 1807.8914918 (61)\ttotal: 1.36s\tremaining: 1.93s\n",
      "62:\tlearn: 1794.0878865\ttest: 1804.5976728\tbest: 1804.5976728 (62)\ttotal: 1.38s\tremaining: 1.91s\n",
      "63:\tlearn: 1789.8215188\ttest: 1800.0814749\tbest: 1800.0814749 (63)\ttotal: 1.41s\tremaining: 1.89s\n",
      "64:\tlearn: 1785.9124263\ttest: 1795.6997585\tbest: 1795.6997585 (64)\ttotal: 1.43s\tremaining: 1.87s\n",
      "65:\tlearn: 1781.2573999\ttest: 1791.2476565\tbest: 1791.2476565 (65)\ttotal: 1.45s\tremaining: 1.85s\n",
      "66:\tlearn: 1778.6945187\ttest: 1788.2130779\tbest: 1788.2130779 (66)\ttotal: 1.47s\tremaining: 1.82s\n",
      "67:\tlearn: 1775.6780562\ttest: 1785.5656273\tbest: 1785.5656273 (67)\ttotal: 1.49s\tremaining: 1.8s\n",
      "68:\tlearn: 1772.4139997\ttest: 1782.0350445\tbest: 1782.0350445 (68)\ttotal: 1.51s\tremaining: 1.78s\n",
      "69:\tlearn: 1770.0745213\ttest: 1779.6191307\tbest: 1779.6191307 (69)\ttotal: 1.53s\tremaining: 1.75s\n",
      "70:\tlearn: 1767.4861645\ttest: 1777.1371060\tbest: 1777.1371060 (70)\ttotal: 1.55s\tremaining: 1.73s\n",
      "71:\tlearn: 1763.8732288\ttest: 1773.8003889\tbest: 1773.8003889 (71)\ttotal: 1.57s\tremaining: 1.71s\n",
      "72:\tlearn: 1761.7820677\ttest: 1772.0401508\tbest: 1772.0401508 (72)\ttotal: 1.6s\tremaining: 1.68s\n",
      "73:\tlearn: 1759.0921487\ttest: 1769.1208702\tbest: 1769.1208702 (73)\ttotal: 1.62s\tremaining: 1.66s\n",
      "74:\tlearn: 1754.3905378\ttest: 1764.1948876\tbest: 1764.1948876 (74)\ttotal: 1.64s\tremaining: 1.64s\n",
      "75:\tlearn: 1752.2262717\ttest: 1762.2891779\tbest: 1762.2891779 (75)\ttotal: 1.66s\tremaining: 1.62s\n",
      "76:\tlearn: 1749.7019492\ttest: 1759.8208640\tbest: 1759.8208640 (76)\ttotal: 1.68s\tremaining: 1.6s\n",
      "77:\tlearn: 1747.3500972\ttest: 1757.4665451\tbest: 1757.4665451 (77)\ttotal: 1.71s\tremaining: 1.57s\n",
      "78:\tlearn: 1745.0332449\ttest: 1754.7597594\tbest: 1754.7597594 (78)\ttotal: 1.73s\tremaining: 1.55s\n",
      "79:\tlearn: 1742.9170425\ttest: 1752.2830258\tbest: 1752.2830258 (79)\ttotal: 1.75s\tremaining: 1.53s\n",
      "80:\tlearn: 1740.7386971\ttest: 1750.0850381\tbest: 1750.0850381 (80)\ttotal: 1.77s\tremaining: 1.51s\n",
      "81:\tlearn: 1739.0848948\ttest: 1748.5792238\tbest: 1748.5792238 (81)\ttotal: 1.79s\tremaining: 1.49s\n",
      "82:\tlearn: 1737.2586947\ttest: 1746.7470181\tbest: 1746.7470181 (82)\ttotal: 1.81s\tremaining: 1.46s\n",
      "83:\tlearn: 1735.2511165\ttest: 1744.5466381\tbest: 1744.5466381 (83)\ttotal: 1.84s\tremaining: 1.44s\n",
      "84:\tlearn: 1731.6378322\ttest: 1740.7678519\tbest: 1740.7678519 (84)\ttotal: 1.86s\tremaining: 1.42s\n",
      "85:\tlearn: 1729.6307686\ttest: 1738.5964422\tbest: 1738.5964422 (85)\ttotal: 1.88s\tremaining: 1.4s\n",
      "86:\tlearn: 1727.5492199\ttest: 1736.6641892\tbest: 1736.6641892 (86)\ttotal: 1.91s\tremaining: 1.38s\n",
      "87:\tlearn: 1726.1834381\ttest: 1735.4881565\tbest: 1735.4881565 (87)\ttotal: 1.93s\tremaining: 1.36s\n",
      "88:\tlearn: 1724.4714172\ttest: 1733.5131017\tbest: 1733.5131017 (88)\ttotal: 1.95s\tremaining: 1.34s\n",
      "89:\tlearn: 1723.1194741\ttest: 1732.0410477\tbest: 1732.0410477 (89)\ttotal: 1.97s\tremaining: 1.31s\n",
      "90:\tlearn: 1721.6835218\ttest: 1730.7952396\tbest: 1730.7952396 (90)\ttotal: 1.99s\tremaining: 1.29s\n",
      "91:\tlearn: 1720.1913748\ttest: 1729.3229687\tbest: 1729.3229687 (91)\ttotal: 2.02s\tremaining: 1.27s\n",
      "92:\tlearn: 1719.0077975\ttest: 1727.9188789\tbest: 1727.9188789 (92)\ttotal: 2.04s\tremaining: 1.25s\n",
      "93:\tlearn: 1717.9139720\ttest: 1726.9247099\tbest: 1726.9247099 (93)\ttotal: 2.06s\tremaining: 1.23s\n",
      "94:\tlearn: 1716.1260105\ttest: 1725.0413697\tbest: 1725.0413697 (94)\ttotal: 2.08s\tremaining: 1.2s\n",
      "95:\tlearn: 1714.6769878\ttest: 1723.4418567\tbest: 1723.4418567 (95)\ttotal: 2.1s\tremaining: 1.18s\n",
      "96:\tlearn: 1712.0852182\ttest: 1720.9248885\tbest: 1720.9248885 (96)\ttotal: 2.13s\tremaining: 1.16s\n",
      "97:\tlearn: 1710.1277232\ttest: 1719.2342314\tbest: 1719.2342314 (97)\ttotal: 2.15s\tremaining: 1.14s\n",
      "98:\tlearn: 1708.6525827\ttest: 1717.8171264\tbest: 1717.8171264 (98)\ttotal: 2.17s\tremaining: 1.12s\n",
      "99:\tlearn: 1707.6216018\ttest: 1716.8364659\tbest: 1716.8364659 (99)\ttotal: 2.19s\tremaining: 1.1s\n",
      "100:\tlearn: 1706.5651229\ttest: 1715.9186851\tbest: 1715.9186851 (100)\ttotal: 2.21s\tremaining: 1.07s\n",
      "101:\tlearn: 1705.3484559\ttest: 1714.5556907\tbest: 1714.5556907 (101)\ttotal: 2.24s\tremaining: 1.05s\n",
      "102:\tlearn: 1703.3722593\ttest: 1712.7618485\tbest: 1712.7618485 (102)\ttotal: 2.26s\tremaining: 1.03s\n",
      "103:\tlearn: 1702.2094732\ttest: 1711.3835008\tbest: 1711.3835008 (103)\ttotal: 2.28s\tremaining: 1.01s\n",
      "104:\tlearn: 1701.2935469\ttest: 1710.6560386\tbest: 1710.6560386 (104)\ttotal: 2.3s\tremaining: 985ms\n",
      "105:\tlearn: 1700.0815081\ttest: 1709.6840535\tbest: 1709.6840535 (105)\ttotal: 2.33s\tremaining: 965ms\n",
      "106:\tlearn: 1699.3152352\ttest: 1708.8564031\tbest: 1708.8564031 (106)\ttotal: 2.35s\tremaining: 943ms\n",
      "107:\tlearn: 1698.1124986\ttest: 1707.7505752\tbest: 1707.7505752 (107)\ttotal: 2.37s\tremaining: 920ms\n",
      "108:\tlearn: 1694.9424407\ttest: 1704.5518567\tbest: 1704.5518567 (108)\ttotal: 2.39s\tremaining: 898ms\n",
      "109:\tlearn: 1693.9397227\ttest: 1703.6817769\tbest: 1703.6817769 (109)\ttotal: 2.41s\tremaining: 875ms\n",
      "110:\tlearn: 1692.8577739\ttest: 1702.3505995\tbest: 1702.3505995 (110)\ttotal: 2.43s\tremaining: 853ms\n",
      "111:\tlearn: 1691.9908688\ttest: 1701.6352997\tbest: 1701.6352997 (111)\ttotal: 2.45s\tremaining: 831ms\n",
      "112:\tlearn: 1691.2367626\ttest: 1700.9223651\tbest: 1700.9223651 (112)\ttotal: 2.47s\tremaining: 810ms\n",
      "113:\tlearn: 1690.3644736\ttest: 1700.1630043\tbest: 1700.1630043 (113)\ttotal: 2.49s\tremaining: 788ms\n",
      "114:\tlearn: 1689.3426888\ttest: 1699.3293906\tbest: 1699.3293906 (114)\ttotal: 2.52s\tremaining: 767ms\n",
      "115:\tlearn: 1688.6018350\ttest: 1698.7040710\tbest: 1698.7040710 (115)\ttotal: 2.54s\tremaining: 745ms\n",
      "116:\tlearn: 1687.6837335\ttest: 1697.6774142\tbest: 1697.6774142 (116)\ttotal: 2.56s\tremaining: 723ms\n",
      "117:\tlearn: 1686.5106619\ttest: 1696.6851640\tbest: 1696.6851640 (117)\ttotal: 2.58s\tremaining: 701ms\n",
      "118:\tlearn: 1683.9865683\ttest: 1694.1360097\tbest: 1694.1360097 (118)\ttotal: 2.61s\tremaining: 681ms\n",
      "119:\tlearn: 1683.1549342\ttest: 1693.2940270\tbest: 1693.2940270 (119)\ttotal: 2.65s\tremaining: 662ms\n",
      "120:\tlearn: 1682.0814510\ttest: 1692.3035799\tbest: 1692.3035799 (120)\ttotal: 2.68s\tremaining: 642ms\n",
      "121:\tlearn: 1681.5240629\ttest: 1691.6260300\tbest: 1691.6260300 (121)\ttotal: 2.7s\tremaining: 620ms\n",
      "122:\tlearn: 1680.6661842\ttest: 1690.7294094\tbest: 1690.7294094 (122)\ttotal: 2.73s\tremaining: 598ms\n",
      "123:\tlearn: 1678.1016354\ttest: 1688.3047021\tbest: 1688.3047021 (123)\ttotal: 2.75s\tremaining: 576ms\n",
      "124:\tlearn: 1676.9251427\ttest: 1687.1445310\tbest: 1687.1445310 (124)\ttotal: 2.77s\tremaining: 553ms\n",
      "125:\tlearn: 1676.3446567\ttest: 1686.5349730\tbest: 1686.5349730 (125)\ttotal: 2.79s\tremaining: 531ms\n",
      "126:\tlearn: 1675.6108030\ttest: 1685.8280301\tbest: 1685.8280301 (126)\ttotal: 2.81s\tremaining: 509ms\n",
      "127:\tlearn: 1674.2131880\ttest: 1684.5796896\tbest: 1684.5796896 (127)\ttotal: 2.83s\tremaining: 487ms\n",
      "128:\tlearn: 1672.2814458\ttest: 1682.6058283\tbest: 1682.6058283 (128)\ttotal: 2.85s\tremaining: 464ms\n",
      "129:\tlearn: 1671.4547074\ttest: 1681.6644412\tbest: 1681.6644412 (129)\ttotal: 2.87s\tremaining: 442ms\n",
      "130:\tlearn: 1670.8689724\ttest: 1681.1334190\tbest: 1681.1334190 (130)\ttotal: 2.89s\tremaining: 420ms\n",
      "131:\tlearn: 1670.0068301\ttest: 1680.3644192\tbest: 1680.3644192 (131)\ttotal: 2.92s\tremaining: 398ms\n",
      "132:\tlearn: 1669.3281376\ttest: 1679.7767651\tbest: 1679.7767651 (132)\ttotal: 2.94s\tremaining: 376ms\n",
      "133:\tlearn: 1668.3936842\ttest: 1679.2910443\tbest: 1679.2910443 (133)\ttotal: 2.96s\tremaining: 354ms\n",
      "134:\tlearn: 1667.6733416\ttest: 1678.5484671\tbest: 1678.5484671 (134)\ttotal: 2.98s\tremaining: 332ms\n",
      "135:\tlearn: 1666.8929775\ttest: 1678.1501981\tbest: 1678.1501981 (135)\ttotal: 3.01s\tremaining: 309ms\n",
      "136:\tlearn: 1666.3514728\ttest: 1677.5827134\tbest: 1677.5827134 (136)\ttotal: 3.03s\tremaining: 287ms\n",
      "137:\tlearn: 1665.8643260\ttest: 1676.8865207\tbest: 1676.8865207 (137)\ttotal: 3.05s\tremaining: 265ms\n",
      "138:\tlearn: 1664.8731275\ttest: 1675.8289088\tbest: 1675.8289088 (138)\ttotal: 3.07s\tremaining: 243ms\n",
      "139:\tlearn: 1664.2615941\ttest: 1675.3567745\tbest: 1675.3567745 (139)\ttotal: 3.09s\tremaining: 221ms\n",
      "140:\tlearn: 1663.7538134\ttest: 1674.9667888\tbest: 1674.9667888 (140)\ttotal: 3.11s\tremaining: 198ms\n",
      "141:\tlearn: 1663.0634246\ttest: 1674.2435828\tbest: 1674.2435828 (141)\ttotal: 3.13s\tremaining: 177ms\n",
      "142:\tlearn: 1662.6088022\ttest: 1673.7372589\tbest: 1673.7372589 (142)\ttotal: 3.15s\tremaining: 154ms\n",
      "143:\tlearn: 1661.4610796\ttest: 1672.7264218\tbest: 1672.7264218 (143)\ttotal: 3.18s\tremaining: 133ms\n",
      "144:\tlearn: 1660.4448794\ttest: 1671.8199985\tbest: 1671.8199985 (144)\ttotal: 3.21s\tremaining: 111ms\n",
      "145:\tlearn: 1659.9389895\ttest: 1671.1955652\tbest: 1671.1955652 (145)\ttotal: 3.23s\tremaining: 88.4ms\n",
      "146:\tlearn: 1658.2959777\ttest: 1669.3931241\tbest: 1669.3931241 (146)\ttotal: 3.25s\tremaining: 66.3ms\n",
      "147:\tlearn: 1657.4086457\ttest: 1668.6370941\tbest: 1668.6370941 (147)\ttotal: 3.27s\tremaining: 44.2ms\n",
      "148:\tlearn: 1656.6139633\ttest: 1667.9214454\tbest: 1667.9214454 (148)\ttotal: 3.29s\tremaining: 22.1ms\n",
      "149:\tlearn: 1655.9079887\ttest: 1667.3362586\tbest: 1667.3362586 (149)\ttotal: 3.31s\tremaining: 0us\n",
      "\n",
      "bestTest = 1667.336259\n",
      "bestIteration = 149\n",
      "\n",
      "4:\tloss: 1667.3362586\tbest: 1667.3362586 (4)\ttotal: 11.3s\tremaining: 15.9s\n",
      "0:\tlearn: 6247.7412847\ttest: 6257.0151059\tbest: 6257.0151059 (0)\ttotal: 29.1ms\tremaining: 4.33s\n",
      "1:\tlearn: 6196.8959630\ttest: 6206.3026159\tbest: 6206.3026159 (1)\ttotal: 57.6ms\tremaining: 4.26s\n",
      "2:\tlearn: 6146.5844492\ttest: 6156.1289470\tbest: 6156.1289470 (2)\ttotal: 78.4ms\tremaining: 3.84s\n",
      "3:\tlearn: 6097.0654190\ttest: 6106.7736016\tbest: 6106.7736016 (3)\ttotal: 106ms\tremaining: 3.86s\n",
      "4:\tlearn: 6048.1383070\ttest: 6058.0094184\tbest: 6058.0094184 (4)\ttotal: 126ms\tremaining: 3.64s\n",
      "5:\tlearn: 5999.6567382\ttest: 6009.6780130\tbest: 6009.6780130 (5)\ttotal: 146ms\tremaining: 3.51s\n",
      "6:\tlearn: 5951.9347799\ttest: 5962.0732987\tbest: 5962.0732987 (6)\ttotal: 167ms\tremaining: 3.41s\n",
      "7:\tlearn: 5904.6303416\ttest: 5914.9699805\tbest: 5914.9699805 (7)\ttotal: 191ms\tremaining: 3.38s\n",
      "8:\tlearn: 5857.9801892\ttest: 5868.5105991\tbest: 5868.5105991 (8)\ttotal: 212ms\tremaining: 3.31s\n",
      "9:\tlearn: 5811.8028655\ttest: 5822.4915253\tbest: 5822.4915253 (9)\ttotal: 233ms\tremaining: 3.26s\n",
      "10:\tlearn: 5766.1627056\ttest: 5777.0735761\tbest: 5777.0735761 (10)\ttotal: 254ms\tremaining: 3.21s\n",
      "11:\tlearn: 5721.1382917\ttest: 5732.2720993\tbest: 5732.2720993 (11)\ttotal: 280ms\tremaining: 3.22s\n",
      "12:\tlearn: 5676.4048852\ttest: 5687.6959321\tbest: 5687.6959321 (12)\ttotal: 300ms\tremaining: 3.16s\n",
      "13:\tlearn: 5632.2244953\ttest: 5643.6568199\tbest: 5643.6568199 (13)\ttotal: 321ms\tremaining: 3.12s\n",
      "14:\tlearn: 5588.7499124\ttest: 5600.3726484\tbest: 5600.3726484 (14)\ttotal: 342ms\tremaining: 3.08s\n",
      "15:\tlearn: 5545.8099840\ttest: 5557.6513427\tbest: 5557.6513427 (15)\ttotal: 363ms\tremaining: 3.04s\n",
      "16:\tlearn: 5503.2756466\ttest: 5515.3136640\tbest: 5515.3136640 (16)\ttotal: 385ms\tremaining: 3.01s\n",
      "17:\tlearn: 5461.0292188\ttest: 5473.1968584\tbest: 5473.1968584 (17)\ttotal: 406ms\tremaining: 2.98s\n",
      "18:\tlearn: 5419.3011836\ttest: 5431.5972921\tbest: 5431.5972921 (18)\ttotal: 428ms\tremaining: 2.95s\n",
      "19:\tlearn: 5377.8996743\ttest: 5390.2946294\tbest: 5390.2946294 (19)\ttotal: 451ms\tremaining: 2.93s\n",
      "20:\tlearn: 5337.1883597\ttest: 5349.7308848\tbest: 5349.7308848 (20)\ttotal: 477ms\tremaining: 2.93s\n",
      "21:\tlearn: 5296.8843909\ttest: 5309.5254677\tbest: 5309.5254677 (21)\ttotal: 503ms\tremaining: 2.92s\n",
      "22:\tlearn: 5257.2351117\ttest: 5270.0869614\tbest: 5270.0869614 (22)\ttotal: 527ms\tremaining: 2.91s\n",
      "23:\tlearn: 5218.1263097\ttest: 5231.1649099\tbest: 5231.1649099 (23)\ttotal: 556ms\tremaining: 2.92s\n",
      "24:\tlearn: 5179.6641203\ttest: 5192.9206118\tbest: 5192.9206118 (24)\ttotal: 580ms\tremaining: 2.9s\n",
      "25:\tlearn: 5141.5542232\ttest: 5154.9515390\tbest: 5154.9515390 (25)\ttotal: 607ms\tremaining: 2.89s\n",
      "26:\tlearn: 5103.6948402\ttest: 5117.2101025\tbest: 5117.2101025 (26)\ttotal: 633ms\tremaining: 2.88s\n",
      "27:\tlearn: 5066.5802930\ttest: 5080.3300318\tbest: 5080.3300318 (27)\ttotal: 659ms\tremaining: 2.87s\n",
      "28:\tlearn: 5029.2902563\ttest: 5043.1269284\tbest: 5043.1269284 (28)\ttotal: 686ms\tremaining: 2.86s\n",
      "29:\tlearn: 4992.5595925\ttest: 5006.4769124\tbest: 5006.4769124 (29)\ttotal: 710ms\tremaining: 2.84s\n",
      "30:\tlearn: 4956.5345693\ttest: 4970.5301864\tbest: 4970.5301864 (30)\ttotal: 733ms\tremaining: 2.81s\n",
      "31:\tlearn: 4920.9841154\ttest: 4935.1648931\tbest: 4935.1648931 (31)\ttotal: 756ms\tremaining: 2.79s\n",
      "32:\tlearn: 4885.4571256\ttest: 4899.7189421\tbest: 4899.7189421 (32)\ttotal: 782ms\tremaining: 2.77s\n",
      "33:\tlearn: 4850.6835535\ttest: 4865.0529981\tbest: 4865.0529981 (33)\ttotal: 803ms\tremaining: 2.74s\n",
      "34:\tlearn: 4816.2303613\ttest: 4830.7466271\tbest: 4830.7466271 (34)\ttotal: 824ms\tremaining: 2.71s\n",
      "35:\tlearn: 4782.1911941\ttest: 4796.7427970\tbest: 4796.7427970 (35)\ttotal: 846ms\tremaining: 2.68s\n",
      "36:\tlearn: 4748.8331043\ttest: 4763.5416021\tbest: 4763.5416021 (36)\ttotal: 867ms\tremaining: 2.65s\n",
      "37:\tlearn: 4715.7109272\ttest: 4730.5294917\tbest: 4730.5294917 (37)\ttotal: 891ms\tremaining: 2.63s\n",
      "38:\tlearn: 4683.0142363\ttest: 4697.9651327\tbest: 4697.9651327 (38)\ttotal: 912ms\tremaining: 2.6s\n",
      "39:\tlearn: 4650.7600801\ttest: 4665.8211321\tbest: 4665.8211321 (39)\ttotal: 933ms\tremaining: 2.56s\n",
      "40:\tlearn: 4618.7636369\ttest: 4633.8797299\tbest: 4633.8797299 (40)\ttotal: 953ms\tremaining: 2.53s\n",
      "41:\tlearn: 4587.2117405\ttest: 4602.5062653\tbest: 4602.5062653 (41)\ttotal: 975ms\tremaining: 2.51s\n",
      "42:\tlearn: 4556.0544246\ttest: 4571.5220905\tbest: 4571.5220905 (42)\ttotal: 996ms\tremaining: 2.48s\n",
      "43:\tlearn: 4524.6608605\ttest: 4540.0653896\tbest: 4540.0653896 (43)\ttotal: 1.02s\tremaining: 2.45s\n",
      "44:\tlearn: 4493.7821072\ttest: 4509.2011036\tbest: 4509.2011036 (44)\ttotal: 1.04s\tremaining: 2.42s\n",
      "45:\tlearn: 4463.3128763\ttest: 4478.6463398\tbest: 4478.6463398 (45)\ttotal: 1.06s\tremaining: 2.39s\n",
      "46:\tlearn: 4433.3297033\ttest: 4448.7530556\tbest: 4448.7530556 (46)\ttotal: 1.08s\tremaining: 2.37s\n",
      "47:\tlearn: 4404.2283371\ttest: 4419.6082185\tbest: 4419.6082185 (47)\ttotal: 1.1s\tremaining: 2.34s\n",
      "48:\tlearn: 4375.2597880\ttest: 4390.7220427\tbest: 4390.7220427 (48)\ttotal: 1.12s\tremaining: 2.31s\n",
      "49:\tlearn: 4346.6333701\ttest: 4362.1888360\tbest: 4362.1888360 (49)\ttotal: 1.14s\tremaining: 2.29s\n",
      "50:\tlearn: 4318.4276586\ttest: 4334.1656683\tbest: 4334.1656683 (50)\ttotal: 1.16s\tremaining: 2.26s\n",
      "51:\tlearn: 4290.2668858\ttest: 4306.0216975\tbest: 4306.0216975 (51)\ttotal: 1.19s\tremaining: 2.23s\n",
      "52:\tlearn: 4262.2114445\ttest: 4277.9899008\tbest: 4277.9899008 (52)\ttotal: 1.21s\tremaining: 2.21s\n",
      "53:\tlearn: 4235.1577303\ttest: 4250.8882520\tbest: 4250.8882520 (53)\ttotal: 1.23s\tremaining: 2.18s\n",
      "54:\tlearn: 4208.5131094\ttest: 4224.1719065\tbest: 4224.1719065 (54)\ttotal: 1.25s\tremaining: 2.16s\n",
      "55:\tlearn: 4181.6626413\ttest: 4197.3074133\tbest: 4197.3074133 (55)\ttotal: 1.27s\tremaining: 2.14s\n",
      "56:\tlearn: 4155.0977252\ttest: 4170.8387112\tbest: 4170.8387112 (56)\ttotal: 1.29s\tremaining: 2.11s\n",
      "57:\tlearn: 4128.6980953\ttest: 4144.4125769\tbest: 4144.4125769 (57)\ttotal: 1.31s\tremaining: 2.09s\n",
      "58:\tlearn: 4103.1827969\ttest: 4118.9786313\tbest: 4118.9786313 (58)\ttotal: 1.34s\tremaining: 2.06s\n",
      "59:\tlearn: 4077.5811293\ttest: 4093.4505269\tbest: 4093.4505269 (59)\ttotal: 1.36s\tremaining: 2.04s\n",
      "60:\tlearn: 4052.3270350\ttest: 4068.3338686\tbest: 4068.3338686 (60)\ttotal: 1.38s\tremaining: 2.01s\n",
      "61:\tlearn: 4027.4738534\ttest: 4043.6720284\tbest: 4043.6720284 (61)\ttotal: 1.4s\tremaining: 1.99s\n",
      "62:\tlearn: 4003.1555583\ttest: 4019.4536574\tbest: 4019.4536574 (62)\ttotal: 1.42s\tremaining: 1.96s\n",
      "63:\tlearn: 3978.9511722\ttest: 3995.2910307\tbest: 3995.2910307 (63)\ttotal: 1.44s\tremaining: 1.94s\n",
      "64:\tlearn: 3954.9008420\ttest: 3971.1635104\tbest: 3971.1635104 (64)\ttotal: 1.47s\tremaining: 1.92s\n",
      "65:\tlearn: 3931.4172964\ttest: 3947.8283715\tbest: 3947.8283715 (65)\ttotal: 1.5s\tremaining: 1.9s\n",
      "66:\tlearn: 3908.2233969\ttest: 3924.7393291\tbest: 3924.7393291 (66)\ttotal: 1.52s\tremaining: 1.88s\n",
      "67:\tlearn: 3885.3479368\ttest: 3902.0587243\tbest: 3902.0587243 (67)\ttotal: 1.54s\tremaining: 1.86s\n",
      "68:\tlearn: 3862.6717004\ttest: 3879.4407958\tbest: 3879.4407958 (68)\ttotal: 1.56s\tremaining: 1.83s\n",
      "69:\tlearn: 3840.3606822\ttest: 3857.2321565\tbest: 3857.2321565 (69)\ttotal: 1.58s\tremaining: 1.81s\n",
      "70:\tlearn: 3817.7946845\ttest: 3834.5653614\tbest: 3834.5653614 (70)\ttotal: 1.61s\tremaining: 1.79s\n",
      "71:\tlearn: 3795.5763274\ttest: 3812.3000318\tbest: 3812.3000318 (71)\ttotal: 1.63s\tremaining: 1.76s\n",
      "72:\tlearn: 3773.8628243\ttest: 3790.6893852\tbest: 3790.6893852 (72)\ttotal: 1.65s\tremaining: 1.74s\n",
      "73:\tlearn: 3752.4075370\ttest: 3769.3597535\tbest: 3769.3597535 (73)\ttotal: 1.67s\tremaining: 1.72s\n",
      "74:\tlearn: 3731.4378150\ttest: 3748.3192002\tbest: 3748.3192002 (74)\ttotal: 1.69s\tremaining: 1.69s\n",
      "75:\tlearn: 3710.7328669\ttest: 3727.7137986\tbest: 3727.7137986 (75)\ttotal: 1.71s\tremaining: 1.67s\n",
      "76:\tlearn: 3690.3267668\ttest: 3707.4070343\tbest: 3707.4070343 (76)\ttotal: 1.73s\tremaining: 1.64s\n",
      "77:\tlearn: 3670.3781263\ttest: 3687.3697678\tbest: 3687.3697678 (77)\ttotal: 1.75s\tremaining: 1.62s\n",
      "78:\tlearn: 3650.3313811\ttest: 3667.4453198\tbest: 3667.4453198 (78)\ttotal: 1.78s\tremaining: 1.6s\n",
      "79:\tlearn: 3630.4473779\ttest: 3647.6666858\tbest: 3647.6666858 (79)\ttotal: 1.8s\tremaining: 1.57s\n",
      "80:\tlearn: 3611.0435960\ttest: 3628.3566635\tbest: 3628.3566635 (80)\ttotal: 1.82s\tremaining: 1.55s\n",
      "81:\tlearn: 3591.9039697\ttest: 3609.3250900\tbest: 3609.3250900 (81)\ttotal: 1.84s\tremaining: 1.52s\n",
      "82:\tlearn: 3572.5417257\ttest: 3589.8309637\tbest: 3589.8309637 (82)\ttotal: 1.86s\tremaining: 1.5s\n",
      "83:\tlearn: 3553.3121058\ttest: 3570.5881168\tbest: 3570.5881168 (83)\ttotal: 1.88s\tremaining: 1.48s\n",
      "84:\tlearn: 3534.8554877\ttest: 3552.2973830\tbest: 3552.2973830 (84)\ttotal: 1.9s\tremaining: 1.46s\n",
      "85:\tlearn: 3516.1136680\ttest: 3533.5872592\tbest: 3533.5872592 (85)\ttotal: 1.92s\tremaining: 1.43s\n",
      "86:\tlearn: 3497.5015271\ttest: 3514.8795322\tbest: 3514.8795322 (86)\ttotal: 1.95s\tremaining: 1.41s\n",
      "87:\tlearn: 3479.2464391\ttest: 3496.5896553\tbest: 3496.5896553 (87)\ttotal: 1.97s\tremaining: 1.39s\n",
      "88:\tlearn: 3461.3140781\ttest: 3478.5932702\tbest: 3478.5932702 (88)\ttotal: 1.99s\tremaining: 1.36s\n",
      "89:\tlearn: 3443.9876429\ttest: 3461.4212135\tbest: 3461.4212135 (89)\ttotal: 2.01s\tremaining: 1.34s\n",
      "90:\tlearn: 3426.4698850\ttest: 3443.9251350\tbest: 3443.9251350 (90)\ttotal: 2.03s\tremaining: 1.32s\n",
      "91:\tlearn: 3409.6279552\ttest: 3427.1898872\tbest: 3427.1898872 (91)\ttotal: 2.06s\tremaining: 1.29s\n",
      "92:\tlearn: 3392.6574470\ttest: 3410.1432153\tbest: 3410.1432153 (92)\ttotal: 2.08s\tremaining: 1.27s\n",
      "93:\tlearn: 3376.1126490\ttest: 3393.6629317\tbest: 3393.6629317 (93)\ttotal: 2.1s\tremaining: 1.25s\n",
      "94:\tlearn: 3359.3627549\ttest: 3376.8116436\tbest: 3376.8116436 (94)\ttotal: 2.13s\tremaining: 1.23s\n",
      "95:\tlearn: 3343.2740291\ttest: 3360.6346502\tbest: 3360.6346502 (95)\ttotal: 2.16s\tremaining: 1.21s\n",
      "96:\tlearn: 3327.5720858\ttest: 3344.8479370\tbest: 3344.8479370 (96)\ttotal: 2.19s\tremaining: 1.19s\n",
      "97:\tlearn: 3311.5214211\ttest: 3328.7384168\tbest: 3328.7384168 (97)\ttotal: 2.21s\tremaining: 1.17s\n",
      "98:\tlearn: 3296.0791488\ttest: 3313.2614033\tbest: 3313.2614033 (98)\ttotal: 2.23s\tremaining: 1.15s\n",
      "99:\tlearn: 3280.7767138\ttest: 3297.9875485\tbest: 3297.9875485 (99)\ttotal: 2.25s\tremaining: 1.12s\n",
      "100:\tlearn: 3265.6034071\ttest: 3282.7318670\tbest: 3282.7318670 (100)\ttotal: 2.27s\tremaining: 1.1s\n",
      "101:\tlearn: 3250.7696233\ttest: 3267.8071584\tbest: 3267.8071584 (101)\ttotal: 2.29s\tremaining: 1.08s\n",
      "102:\tlearn: 3235.6798215\ttest: 3252.6542279\tbest: 3252.6542279 (102)\ttotal: 2.31s\tremaining: 1.06s\n",
      "103:\tlearn: 3221.3067797\ttest: 3238.3293000\tbest: 3238.3293000 (103)\ttotal: 2.33s\tremaining: 1.03s\n",
      "104:\tlearn: 3206.6739102\ttest: 3223.7207667\tbest: 3223.7207667 (104)\ttotal: 2.36s\tremaining: 1.01s\n",
      "105:\tlearn: 3192.6966585\ttest: 3209.8346729\tbest: 3209.8346729 (105)\ttotal: 2.38s\tremaining: 988ms\n",
      "106:\tlearn: 3178.8211510\ttest: 3195.8653526\tbest: 3195.8653526 (106)\ttotal: 2.4s\tremaining: 965ms\n",
      "107:\tlearn: 3165.1489988\ttest: 3182.2643654\tbest: 3182.2643654 (107)\ttotal: 2.42s\tremaining: 942ms\n",
      "108:\tlearn: 3151.8393967\ttest: 3168.8445343\tbest: 3168.8445343 (108)\ttotal: 2.44s\tremaining: 919ms\n",
      "109:\tlearn: 3138.4602268\ttest: 3155.4893237\tbest: 3155.4893237 (109)\ttotal: 2.47s\tremaining: 897ms\n",
      "110:\tlearn: 3125.1156785\ttest: 3142.2163494\tbest: 3142.2163494 (110)\ttotal: 2.49s\tremaining: 874ms\n",
      "111:\tlearn: 3111.7100097\ttest: 3128.7526312\tbest: 3128.7526312 (111)\ttotal: 2.51s\tremaining: 851ms\n",
      "112:\tlearn: 3098.7430712\ttest: 3115.8471772\tbest: 3115.8471772 (112)\ttotal: 2.53s\tremaining: 828ms\n",
      "113:\tlearn: 3085.8332598\ttest: 3102.9108628\tbest: 3102.9108628 (113)\ttotal: 2.55s\tremaining: 805ms\n",
      "114:\tlearn: 3072.8072760\ttest: 3089.7614811\tbest: 3089.7614811 (114)\ttotal: 2.58s\tremaining: 784ms\n",
      "115:\tlearn: 3060.1543073\ttest: 3077.1223781\tbest: 3077.1223781 (115)\ttotal: 2.6s\tremaining: 761ms\n",
      "116:\tlearn: 3047.8810081\ttest: 3064.8602839\tbest: 3064.8602839 (116)\ttotal: 2.62s\tremaining: 739ms\n",
      "117:\tlearn: 3035.7422555\ttest: 3052.8071851\tbest: 3052.8071851 (117)\ttotal: 2.64s\tremaining: 716ms\n",
      "118:\tlearn: 3023.8631621\ttest: 3040.9461540\tbest: 3040.9461540 (118)\ttotal: 2.66s\tremaining: 694ms\n",
      "119:\tlearn: 3011.7913836\ttest: 3028.8162053\tbest: 3028.8162053 (119)\ttotal: 2.68s\tremaining: 671ms\n",
      "120:\tlearn: 3000.1836452\ttest: 3017.2247173\tbest: 3017.2247173 (120)\ttotal: 2.71s\tremaining: 648ms\n",
      "121:\tlearn: 2988.3791752\ttest: 3005.3460434\tbest: 3005.3460434 (121)\ttotal: 2.73s\tremaining: 626ms\n",
      "122:\tlearn: 2977.0610655\ttest: 2994.1092548\tbest: 2994.1092548 (122)\ttotal: 2.75s\tremaining: 603ms\n",
      "123:\tlearn: 2965.6135847\ttest: 2982.6450773\tbest: 2982.6450773 (123)\ttotal: 2.77s\tremaining: 581ms\n",
      "124:\tlearn: 2954.6885403\ttest: 2971.6347900\tbest: 2971.6347900 (124)\ttotal: 2.79s\tremaining: 559ms\n",
      "125:\tlearn: 2943.8181691\ttest: 2960.7756973\tbest: 2960.7756973 (125)\ttotal: 2.81s\tremaining: 536ms\n",
      "126:\tlearn: 2932.7805334\ttest: 2949.7064305\tbest: 2949.7064305 (126)\ttotal: 2.84s\tremaining: 514ms\n",
      "127:\tlearn: 2922.1461706\ttest: 2939.1516466\tbest: 2939.1516466 (127)\ttotal: 2.86s\tremaining: 491ms\n",
      "128:\tlearn: 2911.4240536\ttest: 2928.4308124\tbest: 2928.4308124 (128)\ttotal: 2.88s\tremaining: 469ms\n",
      "129:\tlearn: 2901.1998826\ttest: 2918.2163773\tbest: 2918.2163773 (129)\ttotal: 2.9s\tremaining: 447ms\n",
      "130:\tlearn: 2891.0713606\ttest: 2908.0961332\tbest: 2908.0961332 (130)\ttotal: 2.92s\tremaining: 424ms\n",
      "131:\tlearn: 2880.8297717\ttest: 2897.7982835\tbest: 2897.7982835 (131)\ttotal: 2.94s\tremaining: 402ms\n",
      "132:\tlearn: 2870.6261031\ttest: 2887.5745597\tbest: 2887.5745597 (132)\ttotal: 2.97s\tremaining: 379ms\n",
      "133:\tlearn: 2860.5515418\ttest: 2877.4564613\tbest: 2877.4564613 (133)\ttotal: 2.99s\tremaining: 357ms\n",
      "134:\tlearn: 2850.6090226\ttest: 2867.4385473\tbest: 2867.4385473 (134)\ttotal: 3.01s\tremaining: 335ms\n",
      "135:\tlearn: 2840.8388839\ttest: 2857.5621041\tbest: 2857.5621041 (135)\ttotal: 3.03s\tremaining: 312ms\n",
      "136:\tlearn: 2831.4150918\ttest: 2848.2041459\tbest: 2848.2041459 (136)\ttotal: 3.06s\tremaining: 290ms\n",
      "137:\tlearn: 2822.2344531\ttest: 2839.1192995\tbest: 2839.1192995 (137)\ttotal: 3.08s\tremaining: 268ms\n",
      "138:\tlearn: 2812.7407444\ttest: 2829.5701667\tbest: 2829.5701667 (138)\ttotal: 3.11s\tremaining: 246ms\n",
      "139:\tlearn: 2803.9125018\ttest: 2820.6373642\tbest: 2820.6373642 (139)\ttotal: 3.14s\tremaining: 224ms\n",
      "140:\tlearn: 2794.9299234\ttest: 2811.7250108\tbest: 2811.7250108 (140)\ttotal: 3.16s\tremaining: 202ms\n",
      "141:\tlearn: 2786.1454140\ttest: 2802.9428219\tbest: 2802.9428219 (141)\ttotal: 3.18s\tremaining: 179ms\n",
      "142:\tlearn: 2777.3015810\ttest: 2793.9151253\tbest: 2793.9151253 (142)\ttotal: 3.2s\tremaining: 157ms\n",
      "143:\tlearn: 2768.8611033\ttest: 2785.5765728\tbest: 2785.5765728 (143)\ttotal: 3.22s\tremaining: 134ms\n",
      "144:\tlearn: 2760.3758301\ttest: 2777.1408689\tbest: 2777.1408689 (144)\ttotal: 3.24s\tremaining: 112ms\n",
      "145:\tlearn: 2751.6953228\ttest: 2768.3393537\tbest: 2768.3393537 (145)\ttotal: 3.27s\tremaining: 89.6ms\n",
      "146:\tlearn: 2743.2804549\ttest: 2759.8161676\tbest: 2759.8161676 (146)\ttotal: 3.29s\tremaining: 67.2ms\n",
      "147:\tlearn: 2734.8567284\ttest: 2751.3405854\tbest: 2751.3405854 (147)\ttotal: 3.31s\tremaining: 44.8ms\n",
      "148:\tlearn: 2726.6649754\ttest: 2743.1280337\tbest: 2743.1280337 (148)\ttotal: 3.33s\tremaining: 22.4ms\n",
      "149:\tlearn: 2717.9590853\ttest: 2734.4461749\tbest: 2734.4461749 (149)\ttotal: 3.36s\tremaining: 0us\n",
      "\n",
      "bestTest = 2734.446175\n",
      "bestIteration = 149\n",
      "\n",
      "5:\tloss: 2734.4461749\tbest: 1667.3362586 (4)\ttotal: 14.7s\tremaining: 14.7s\n",
      "Estimating final quality...\n",
      "Training on fold [0/3]\n",
      "0:\tlearn: 5790.1375864\ttest: 5795.5987711\tbest: 5795.5987711 (0)\ttotal: 27.6ms\tremaining: 4.12s\n",
      "1:\tlearn: 5339.4458251\ttest: 5344.3505043\tbest: 5344.3505043 (1)\ttotal: 52.8ms\tremaining: 3.91s\n",
      "2:\tlearn: 4939.4303140\ttest: 4943.0833440\tbest: 4943.0833440 (2)\ttotal: 80.4ms\tremaining: 3.94s\n",
      "3:\tlearn: 4589.0343974\ttest: 4592.5374252\tbest: 4592.5374252 (3)\ttotal: 99.4ms\tremaining: 3.63s\n",
      "4:\tlearn: 4281.0194889\ttest: 4283.8098015\tbest: 4283.8098015 (4)\ttotal: 117ms\tremaining: 3.4s\n",
      "5:\tlearn: 4004.9997830\ttest: 4007.3043664\tbest: 4007.3043664 (5)\ttotal: 135ms\tremaining: 3.23s\n",
      "6:\tlearn: 3767.9026126\ttest: 3770.7262357\tbest: 3770.7262357 (6)\ttotal: 152ms\tremaining: 3.11s\n",
      "7:\tlearn: 3560.8684732\ttest: 3563.1391105\tbest: 3563.1391105 (7)\ttotal: 169ms\tremaining: 3.01s\n",
      "8:\tlearn: 3374.5097184\ttest: 3376.5489283\tbest: 3376.5489283 (8)\ttotal: 188ms\tremaining: 2.94s\n",
      "9:\tlearn: 3215.7131818\ttest: 3217.3149037\tbest: 3217.3149037 (9)\ttotal: 206ms\tremaining: 2.88s\n",
      "10:\tlearn: 3073.1466992\ttest: 3073.5709334\tbest: 3073.5709334 (10)\ttotal: 224ms\tremaining: 2.83s\n",
      "11:\tlearn: 2947.4517125\ttest: 2947.7596082\tbest: 2947.7596082 (11)\ttotal: 242ms\tremaining: 2.78s\n",
      "12:\tlearn: 2840.9906393\ttest: 2840.4851367\tbest: 2840.4851367 (12)\ttotal: 261ms\tremaining: 2.75s\n",
      "13:\tlearn: 2748.8408917\ttest: 2747.8662108\tbest: 2747.8662108 (13)\ttotal: 279ms\tremaining: 2.71s\n",
      "14:\tlearn: 2666.2404974\ttest: 2665.1587691\tbest: 2665.1587691 (14)\ttotal: 298ms\tremaining: 2.68s\n",
      "15:\tlearn: 2596.1269121\ttest: 2594.0927181\tbest: 2594.0927181 (15)\ttotal: 315ms\tremaining: 2.64s\n",
      "16:\tlearn: 2529.4603123\ttest: 2526.8113077\tbest: 2526.8113077 (16)\ttotal: 333ms\tremaining: 2.6s\n",
      "17:\tlearn: 2471.5182776\ttest: 2468.5187367\tbest: 2468.5187367 (17)\ttotal: 351ms\tremaining: 2.57s\n",
      "18:\tlearn: 2421.9318206\ttest: 2418.3498538\tbest: 2418.3498538 (18)\ttotal: 374ms\tremaining: 2.58s\n",
      "19:\tlearn: 2380.2667819\ttest: 2376.4112657\tbest: 2376.4112657 (19)\ttotal: 393ms\tremaining: 2.55s\n",
      "20:\tlearn: 2341.6972250\ttest: 2337.6681459\tbest: 2337.6681459 (20)\ttotal: 411ms\tremaining: 2.52s\n",
      "21:\tlearn: 2297.8122004\ttest: 2293.3156301\tbest: 2293.3156301 (21)\ttotal: 430ms\tremaining: 2.5s\n",
      "22:\tlearn: 2260.8466164\ttest: 2255.5582689\tbest: 2255.5582689 (22)\ttotal: 447ms\tremaining: 2.47s\n",
      "23:\tlearn: 2230.5234024\ttest: 2224.9497292\tbest: 2224.9497292 (23)\ttotal: 466ms\tremaining: 2.44s\n",
      "24:\tlearn: 2203.2750174\ttest: 2197.2111582\tbest: 2197.2111582 (24)\ttotal: 485ms\tremaining: 2.42s\n",
      "25:\tlearn: 2179.9774049\ttest: 2176.7886264\tbest: 2176.7886264 (25)\ttotal: 502ms\tremaining: 2.39s\n",
      "26:\tlearn: 2155.2077057\ttest: 2152.2991366\tbest: 2152.2991366 (26)\ttotal: 520ms\tremaining: 2.37s\n",
      "27:\tlearn: 2135.1004129\ttest: 2131.6301407\tbest: 2131.6301407 (27)\ttotal: 538ms\tremaining: 2.34s\n",
      "28:\tlearn: 2115.5261758\ttest: 2115.0388171\tbest: 2115.0388171 (28)\ttotal: 560ms\tremaining: 2.34s\n",
      "29:\tlearn: 2098.4575964\ttest: 2097.8391258\tbest: 2097.8391258 (29)\ttotal: 578ms\tremaining: 2.31s\n",
      "30:\tlearn: 2082.0884738\ttest: 2080.6981896\tbest: 2080.6981896 (30)\ttotal: 595ms\tremaining: 2.29s\n",
      "31:\tlearn: 2066.9577702\ttest: 2064.7527050\tbest: 2064.7527050 (31)\ttotal: 612ms\tremaining: 2.26s\n",
      "32:\tlearn: 2048.4042240\ttest: 2046.2211870\tbest: 2046.2211870 (32)\ttotal: 630ms\tremaining: 2.23s\n",
      "33:\tlearn: 2028.3256056\ttest: 2025.6438449\tbest: 2025.6438449 (33)\ttotal: 650ms\tremaining: 2.22s\n",
      "34:\tlearn: 2011.8447639\ttest: 2009.0717217\tbest: 2009.0717217 (34)\ttotal: 669ms\tremaining: 2.2s\n",
      "35:\tlearn: 1997.7193106\ttest: 1994.7193519\tbest: 1994.7193519 (35)\ttotal: 688ms\tremaining: 2.18s\n",
      "36:\tlearn: 1983.4149184\ttest: 1979.4939175\tbest: 1979.4939175 (36)\ttotal: 705ms\tremaining: 2.15s\n",
      "37:\tlearn: 1971.0144000\ttest: 1966.6218669\tbest: 1966.6218669 (37)\ttotal: 723ms\tremaining: 2.13s\n",
      "38:\tlearn: 1959.8547083\ttest: 1955.3259122\tbest: 1955.3259122 (38)\ttotal: 740ms\tremaining: 2.11s\n",
      "39:\tlearn: 1950.3169113\ttest: 1945.6939238\tbest: 1945.6939238 (39)\ttotal: 765ms\tremaining: 2.1s\n",
      "40:\tlearn: 1940.4119665\ttest: 1935.6365245\tbest: 1935.6365245 (40)\ttotal: 782ms\tremaining: 2.08s\n",
      "41:\tlearn: 1928.3976279\ttest: 1922.3582466\tbest: 1922.3582466 (41)\ttotal: 801ms\tremaining: 2.06s\n",
      "42:\tlearn: 1918.0826234\ttest: 1911.3428631\tbest: 1911.3428631 (42)\ttotal: 819ms\tremaining: 2.04s\n",
      "43:\tlearn: 1909.2291700\ttest: 1901.9423172\tbest: 1901.9423172 (43)\ttotal: 838ms\tremaining: 2.02s\n",
      "44:\tlearn: 1899.8233706\ttest: 1892.7574077\tbest: 1892.7574077 (44)\ttotal: 856ms\tremaining: 2s\n",
      "45:\tlearn: 1891.3240386\ttest: 1883.5711133\tbest: 1883.5711133 (45)\ttotal: 873ms\tremaining: 1.97s\n",
      "46:\tlearn: 1884.1653137\ttest: 1876.0239770\tbest: 1876.0239770 (46)\ttotal: 891ms\tremaining: 1.95s\n",
      "47:\tlearn: 1876.7281913\ttest: 1867.5189364\tbest: 1867.5189364 (47)\ttotal: 907ms\tremaining: 1.93s\n",
      "48:\tlearn: 1870.7464276\ttest: 1861.9781193\tbest: 1861.9781193 (48)\ttotal: 925ms\tremaining: 1.91s\n",
      "49:\tlearn: 1862.6899207\ttest: 1853.9440132\tbest: 1853.9440132 (49)\ttotal: 944ms\tremaining: 1.89s\n",
      "50:\tlearn: 1857.1351832\ttest: 1847.7212629\tbest: 1847.7212629 (50)\ttotal: 969ms\tremaining: 1.88s\n",
      "51:\tlearn: 1851.7045202\ttest: 1841.9469564\tbest: 1841.9469564 (51)\ttotal: 991ms\tremaining: 1.87s\n",
      "52:\tlearn: 1843.7817547\ttest: 1834.6783168\tbest: 1834.6783168 (52)\ttotal: 1.01s\tremaining: 1.85s\n",
      "53:\tlearn: 1837.9382972\ttest: 1828.9360146\tbest: 1828.9360146 (53)\ttotal: 1.04s\tremaining: 1.84s\n",
      "54:\tlearn: 1832.0736396\ttest: 1822.5752433\tbest: 1822.5752433 (54)\ttotal: 1.06s\tremaining: 1.82s\n",
      "55:\tlearn: 1827.1782505\ttest: 1817.4557818\tbest: 1817.4557818 (55)\ttotal: 1.07s\tremaining: 1.8s\n",
      "56:\tlearn: 1822.6701108\ttest: 1812.5900079\tbest: 1812.5900079 (56)\ttotal: 1.09s\tremaining: 1.78s\n",
      "57:\tlearn: 1818.4641721\ttest: 1807.9320217\tbest: 1807.9320217 (57)\ttotal: 1.11s\tremaining: 1.76s\n",
      "58:\tlearn: 1815.0720079\ttest: 1804.4935792\tbest: 1804.4935792 (58)\ttotal: 1.13s\tremaining: 1.74s\n",
      "59:\tlearn: 1810.4914273\ttest: 1799.6563921\tbest: 1799.6563921 (59)\ttotal: 1.15s\tremaining: 1.72s\n",
      "60:\tlearn: 1806.0236652\ttest: 1795.2617188\tbest: 1795.2617188 (60)\ttotal: 1.17s\tremaining: 1.71s\n",
      "61:\tlearn: 1802.5509813\ttest: 1791.6636121\tbest: 1791.6636121 (61)\ttotal: 1.19s\tremaining: 1.69s\n",
      "62:\tlearn: 1796.8698898\ttest: 1785.5380346\tbest: 1785.5380346 (62)\ttotal: 1.21s\tremaining: 1.67s\n",
      "63:\tlearn: 1793.4119400\ttest: 1781.8028639\tbest: 1781.8028639 (63)\ttotal: 1.22s\tremaining: 1.64s\n",
      "64:\tlearn: 1789.0427953\ttest: 1776.6898990\tbest: 1776.6898990 (64)\ttotal: 1.24s\tremaining: 1.62s\n",
      "65:\tlearn: 1785.1932386\ttest: 1772.9280379\tbest: 1772.9280379 (65)\ttotal: 1.26s\tremaining: 1.6s\n",
      "66:\tlearn: 1782.3524685\ttest: 1769.6883133\tbest: 1769.6883133 (66)\ttotal: 1.28s\tremaining: 1.58s\n",
      "67:\tlearn: 1779.6136549\ttest: 1766.5813889\tbest: 1766.5813889 (67)\ttotal: 1.29s\tremaining: 1.56s\n",
      "68:\tlearn: 1774.0648359\ttest: 1762.1830597\tbest: 1762.1830597 (68)\ttotal: 1.31s\tremaining: 1.54s\n",
      "69:\tlearn: 1770.9019693\ttest: 1759.2606818\tbest: 1759.2606818 (69)\ttotal: 1.33s\tremaining: 1.52s\n",
      "70:\tlearn: 1768.5345307\ttest: 1756.8705545\tbest: 1756.8705545 (70)\ttotal: 1.35s\tremaining: 1.5s\n",
      "71:\tlearn: 1765.5717998\ttest: 1753.6996952\tbest: 1753.6996952 (71)\ttotal: 1.36s\tremaining: 1.48s\n",
      "72:\tlearn: 1763.3334611\ttest: 1751.0411030\tbest: 1751.0411030 (72)\ttotal: 1.38s\tremaining: 1.46s\n",
      "73:\tlearn: 1760.8896154\ttest: 1748.6926120\tbest: 1748.6926120 (73)\ttotal: 1.4s\tremaining: 1.44s\n",
      "74:\tlearn: 1756.6827801\ttest: 1744.2175410\tbest: 1744.2175410 (74)\ttotal: 1.42s\tremaining: 1.42s\n",
      "75:\tlearn: 1754.0778667\ttest: 1741.3938788\tbest: 1741.3938788 (75)\ttotal: 1.44s\tremaining: 1.4s\n",
      "76:\tlearn: 1752.1139710\ttest: 1739.4116806\tbest: 1739.4116806 (76)\ttotal: 1.46s\tremaining: 1.38s\n",
      "77:\tlearn: 1748.8965189\ttest: 1735.6660973\tbest: 1735.6660973 (77)\ttotal: 1.48s\tremaining: 1.36s\n",
      "78:\tlearn: 1746.7177520\ttest: 1733.3141364\tbest: 1733.3141364 (78)\ttotal: 1.49s\tremaining: 1.34s\n",
      "79:\tlearn: 1744.4579264\ttest: 1730.7538448\tbest: 1730.7538448 (79)\ttotal: 1.51s\tremaining: 1.32s\n",
      "80:\tlearn: 1742.5542470\ttest: 1728.9360061\tbest: 1728.9360061 (80)\ttotal: 1.53s\tremaining: 1.3s\n",
      "81:\tlearn: 1740.3095805\ttest: 1726.6561636\tbest: 1726.6561636 (81)\ttotal: 1.55s\tremaining: 1.28s\n",
      "82:\tlearn: 1737.7565246\ttest: 1724.1308937\tbest: 1724.1308937 (82)\ttotal: 1.58s\tremaining: 1.27s\n",
      "83:\tlearn: 1736.2143909\ttest: 1722.5474734\tbest: 1722.5474734 (83)\ttotal: 1.6s\tremaining: 1.25s\n",
      "84:\tlearn: 1733.5851456\ttest: 1720.1715272\tbest: 1720.1715272 (84)\ttotal: 1.62s\tremaining: 1.24s\n",
      "85:\tlearn: 1731.9325876\ttest: 1718.3439494\tbest: 1718.3439494 (85)\ttotal: 1.63s\tremaining: 1.22s\n",
      "86:\tlearn: 1730.1907122\ttest: 1716.3328271\tbest: 1716.3328271 (86)\ttotal: 1.66s\tremaining: 1.2s\n",
      "87:\tlearn: 1727.5708214\ttest: 1713.6093593\tbest: 1713.6093593 (87)\ttotal: 1.68s\tremaining: 1.18s\n",
      "88:\tlearn: 1726.0107326\ttest: 1712.0715782\tbest: 1712.0715782 (88)\ttotal: 1.7s\tremaining: 1.17s\n",
      "89:\tlearn: 1724.2477759\ttest: 1710.1240497\tbest: 1710.1240497 (89)\ttotal: 1.72s\tremaining: 1.15s\n",
      "90:\tlearn: 1722.4422149\ttest: 1708.3109618\tbest: 1708.3109618 (90)\ttotal: 1.74s\tremaining: 1.13s\n",
      "91:\tlearn: 1721.2708457\ttest: 1706.8628880\tbest: 1706.8628880 (91)\ttotal: 1.76s\tremaining: 1.11s\n",
      "92:\tlearn: 1719.6088656\ttest: 1705.2183131\tbest: 1705.2183131 (92)\ttotal: 1.78s\tremaining: 1.09s\n",
      "93:\tlearn: 1718.3628543\ttest: 1703.9500868\tbest: 1703.9500868 (93)\ttotal: 1.8s\tremaining: 1.07s\n",
      "94:\tlearn: 1717.3464179\ttest: 1702.7211207\tbest: 1702.7211207 (94)\ttotal: 1.82s\tremaining: 1.05s\n",
      "95:\tlearn: 1716.1326740\ttest: 1701.5126003\tbest: 1701.5126003 (95)\ttotal: 1.85s\tremaining: 1.04s\n",
      "96:\tlearn: 1714.8570860\ttest: 1699.9899990\tbest: 1699.9899990 (96)\ttotal: 1.87s\tremaining: 1.02s\n",
      "97:\tlearn: 1713.7423599\ttest: 1698.7782661\tbest: 1698.7782661 (97)\ttotal: 1.89s\tremaining: 1s\n",
      "98:\tlearn: 1712.1672905\ttest: 1697.3486534\tbest: 1697.3486534 (98)\ttotal: 1.9s\tremaining: 981ms\n",
      "99:\tlearn: 1709.7663927\ttest: 1694.5295201\tbest: 1694.5295201 (99)\ttotal: 1.92s\tremaining: 962ms\n",
      "100:\tlearn: 1708.5751485\ttest: 1693.1335507\tbest: 1693.1335507 (100)\ttotal: 1.94s\tremaining: 942ms\n",
      "101:\tlearn: 1707.4863831\ttest: 1691.9529784\tbest: 1691.9529784 (101)\ttotal: 1.96s\tremaining: 924ms\n",
      "102:\tlearn: 1706.4697536\ttest: 1690.9300763\tbest: 1690.9300763 (102)\ttotal: 1.98s\tremaining: 904ms\n",
      "103:\tlearn: 1705.1102007\ttest: 1689.5491620\tbest: 1689.5491620 (103)\ttotal: 2s\tremaining: 884ms\n",
      "104:\tlearn: 1703.9921613\ttest: 1688.3868582\tbest: 1688.3868582 (104)\ttotal: 2.02s\tremaining: 865ms\n",
      "105:\tlearn: 1702.8826370\ttest: 1687.3365447\tbest: 1687.3365447 (105)\ttotal: 2.04s\tremaining: 846ms\n",
      "106:\tlearn: 1702.0229888\ttest: 1686.3465763\tbest: 1686.3465763 (106)\ttotal: 2.06s\tremaining: 828ms\n",
      "107:\tlearn: 1701.0205659\ttest: 1685.1022537\tbest: 1685.1022537 (107)\ttotal: 2.08s\tremaining: 808ms\n",
      "108:\tlearn: 1700.0408327\ttest: 1684.2012628\tbest: 1684.2012628 (108)\ttotal: 2.1s\tremaining: 788ms\n",
      "109:\tlearn: 1699.3571622\ttest: 1683.5104343\tbest: 1683.5104343 (109)\ttotal: 2.11s\tremaining: 769ms\n",
      "110:\tlearn: 1698.5621626\ttest: 1682.7550417\tbest: 1682.7550417 (110)\ttotal: 2.13s\tremaining: 749ms\n",
      "111:\tlearn: 1697.6927754\ttest: 1681.7062911\tbest: 1681.7062911 (111)\ttotal: 2.15s\tremaining: 730ms\n",
      "112:\tlearn: 1696.4894437\ttest: 1680.6556372\tbest: 1680.6556372 (112)\ttotal: 2.17s\tremaining: 711ms\n",
      "113:\tlearn: 1695.4709965\ttest: 1679.4591120\tbest: 1679.4591120 (113)\ttotal: 2.19s\tremaining: 691ms\n",
      "114:\tlearn: 1694.7911754\ttest: 1678.5293345\tbest: 1678.5293345 (114)\ttotal: 2.21s\tremaining: 672ms\n",
      "115:\tlearn: 1693.8492892\ttest: 1677.4577478\tbest: 1677.4577478 (115)\ttotal: 2.22s\tremaining: 652ms\n",
      "116:\tlearn: 1693.0888946\ttest: 1676.5888011\tbest: 1676.5888011 (116)\ttotal: 2.25s\tremaining: 634ms\n",
      "117:\tlearn: 1692.1017680\ttest: 1675.6562079\tbest: 1675.6562079 (117)\ttotal: 2.27s\tremaining: 614ms\n",
      "118:\tlearn: 1691.0803004\ttest: 1674.6449625\tbest: 1674.6449625 (118)\ttotal: 2.28s\tremaining: 595ms\n",
      "119:\tlearn: 1689.6799991\ttest: 1673.0543288\tbest: 1673.0543288 (119)\ttotal: 2.3s\tremaining: 576ms\n",
      "120:\tlearn: 1687.0447452\ttest: 1670.2217811\tbest: 1670.2217811 (120)\ttotal: 2.32s\tremaining: 557ms\n",
      "121:\tlearn: 1686.2680470\ttest: 1669.2297444\tbest: 1669.2297444 (121)\ttotal: 2.34s\tremaining: 537ms\n",
      "122:\tlearn: 1685.5208430\ttest: 1668.5605879\tbest: 1668.5605879 (122)\ttotal: 2.36s\tremaining: 518ms\n",
      "123:\tlearn: 1682.9381802\ttest: 1666.0021083\tbest: 1666.0021083 (123)\ttotal: 2.38s\tremaining: 498ms\n",
      "124:\tlearn: 1682.3781671\ttest: 1665.4579303\tbest: 1665.4579303 (124)\ttotal: 2.4s\tremaining: 479ms\n",
      "125:\tlearn: 1681.8917964\ttest: 1665.0136815\tbest: 1665.0136815 (125)\ttotal: 2.42s\tremaining: 461ms\n",
      "126:\tlearn: 1681.1760586\ttest: 1664.1002101\tbest: 1664.1002101 (126)\ttotal: 2.45s\tremaining: 444ms\n",
      "127:\tlearn: 1680.1144692\ttest: 1662.8787271\tbest: 1662.8787271 (127)\ttotal: 2.47s\tremaining: 425ms\n",
      "128:\tlearn: 1679.4645135\ttest: 1662.0835041\tbest: 1662.0835041 (128)\ttotal: 2.5s\tremaining: 407ms\n",
      "129:\tlearn: 1678.5225778\ttest: 1661.0426816\tbest: 1661.0426816 (129)\ttotal: 2.52s\tremaining: 388ms\n",
      "130:\tlearn: 1677.7065069\ttest: 1660.2493002\tbest: 1660.2493002 (130)\ttotal: 2.55s\tremaining: 369ms\n",
      "131:\tlearn: 1677.1730133\ttest: 1659.6770675\tbest: 1659.6770675 (131)\ttotal: 2.57s\tremaining: 351ms\n",
      "132:\tlearn: 1676.5437285\ttest: 1658.8011044\tbest: 1658.8011044 (132)\ttotal: 2.59s\tremaining: 332ms\n",
      "133:\tlearn: 1674.2650369\ttest: 1656.5000759\tbest: 1656.5000759 (133)\ttotal: 2.62s\tremaining: 313ms\n",
      "134:\tlearn: 1673.6356698\ttest: 1655.8801963\tbest: 1655.8801963 (134)\ttotal: 2.64s\tremaining: 294ms\n",
      "135:\tlearn: 1671.6367522\ttest: 1653.6498163\tbest: 1653.6498163 (135)\ttotal: 2.67s\tremaining: 274ms\n",
      "136:\tlearn: 1671.0275925\ttest: 1652.8719496\tbest: 1652.8719496 (136)\ttotal: 2.69s\tremaining: 255ms\n",
      "137:\tlearn: 1670.4577929\ttest: 1652.2891150\tbest: 1652.2891150 (137)\ttotal: 2.71s\tremaining: 236ms\n",
      "138:\tlearn: 1669.6155998\ttest: 1651.6062276\tbest: 1651.6062276 (138)\ttotal: 2.74s\tremaining: 217ms\n",
      "139:\tlearn: 1668.8952691\ttest: 1650.9430482\tbest: 1650.9430482 (139)\ttotal: 2.76s\tremaining: 197ms\n",
      "140:\tlearn: 1668.2952169\ttest: 1650.2997742\tbest: 1650.2997742 (140)\ttotal: 2.78s\tremaining: 177ms\n",
      "141:\tlearn: 1667.7893331\ttest: 1649.6698825\tbest: 1649.6698825 (141)\ttotal: 2.8s\tremaining: 158ms\n",
      "142:\tlearn: 1667.2632292\ttest: 1649.0824917\tbest: 1649.0824917 (142)\ttotal: 2.81s\tremaining: 138ms\n",
      "143:\tlearn: 1666.5876109\ttest: 1648.4321694\tbest: 1648.4321694 (143)\ttotal: 2.83s\tremaining: 118ms\n",
      "144:\tlearn: 1665.8921871\ttest: 1647.6367795\tbest: 1647.6367795 (144)\ttotal: 2.85s\tremaining: 98.5ms\n",
      "145:\tlearn: 1663.9801792\ttest: 1645.7199491\tbest: 1645.7199491 (145)\ttotal: 2.87s\tremaining: 78.7ms\n",
      "146:\tlearn: 1662.7574100\ttest: 1644.4378306\tbest: 1644.4378306 (146)\ttotal: 2.89s\tremaining: 59ms\n",
      "147:\tlearn: 1661.7359289\ttest: 1643.3675702\tbest: 1643.3675702 (147)\ttotal: 2.91s\tremaining: 39.3ms\n",
      "148:\tlearn: 1660.8276945\ttest: 1642.4070014\tbest: 1642.4070014 (148)\ttotal: 2.93s\tremaining: 19.6ms\n",
      "149:\tlearn: 1660.0865494\ttest: 1641.6242562\tbest: 1641.6242562 (149)\ttotal: 2.95s\tremaining: 0us\n",
      "\n",
      "bestTest = 1641.624256\n",
      "bestIteration = 149\n",
      "\n",
      "Training on fold [1/3]\n",
      "0:\tlearn: 5799.4715243\ttest: 5775.3351465\tbest: 5775.3351465 (0)\ttotal: 27.4ms\tremaining: 4.08s\n",
      "1:\tlearn: 5347.9156400\ttest: 5323.9201292\tbest: 5323.9201292 (1)\ttotal: 52.1ms\tremaining: 3.85s\n",
      "2:\tlearn: 4947.1560162\ttest: 4923.8618416\tbest: 4923.8618416 (2)\ttotal: 78ms\tremaining: 3.82s\n",
      "3:\tlearn: 4596.2767043\ttest: 4573.6496697\tbest: 4573.6496697 (3)\ttotal: 99.6ms\tremaining: 3.64s\n",
      "4:\tlearn: 4287.4979085\ttest: 4265.6902295\tbest: 4265.6902295 (4)\ttotal: 117ms\tremaining: 3.4s\n",
      "5:\tlearn: 4010.7896398\ttest: 3989.3871352\tbest: 3989.3871352 (5)\ttotal: 139ms\tremaining: 3.34s\n",
      "6:\tlearn: 3773.5256779\ttest: 3751.2118469\tbest: 3751.2118469 (6)\ttotal: 158ms\tremaining: 3.22s\n",
      "7:\tlearn: 3566.2700151\ttest: 3543.7362462\tbest: 3543.7362462 (7)\ttotal: 176ms\tremaining: 3.12s\n",
      "8:\tlearn: 3379.1615981\ttest: 3357.0593288\tbest: 3357.0593288 (8)\ttotal: 194ms\tremaining: 3.05s\n",
      "9:\tlearn: 3215.1671446\ttest: 3194.1737477\tbest: 3194.1737477 (9)\ttotal: 215ms\tremaining: 3.01s\n",
      "10:\tlearn: 3074.0816282\ttest: 3052.6230742\tbest: 3052.6230742 (10)\ttotal: 235ms\tremaining: 2.96s\n",
      "11:\tlearn: 2948.3988097\ttest: 2927.2678993\tbest: 2927.2678993 (11)\ttotal: 261ms\tremaining: 3s\n",
      "12:\tlearn: 2842.7352656\ttest: 2821.8112932\tbest: 2821.8112932 (12)\ttotal: 280ms\tremaining: 2.95s\n",
      "13:\tlearn: 2751.5026748\ttest: 2732.3003117\tbest: 2732.3003117 (13)\ttotal: 301ms\tremaining: 2.93s\n",
      "14:\tlearn: 2667.8216546\ttest: 2648.3320652\tbest: 2648.3320652 (14)\ttotal: 319ms\tremaining: 2.87s\n",
      "15:\tlearn: 2598.5851311\ttest: 2579.3364875\tbest: 2579.3364875 (15)\ttotal: 336ms\tremaining: 2.81s\n",
      "16:\tlearn: 2532.4018785\ttest: 2513.8343741\tbest: 2513.8343741 (16)\ttotal: 353ms\tremaining: 2.77s\n",
      "17:\tlearn: 2475.6114400\ttest: 2457.1419382\tbest: 2457.1419382 (17)\ttotal: 372ms\tremaining: 2.73s\n",
      "18:\tlearn: 2425.3718963\ttest: 2407.7451651\tbest: 2407.7451651 (18)\ttotal: 390ms\tremaining: 2.69s\n",
      "19:\tlearn: 2375.0470800\ttest: 2357.7463835\tbest: 2357.7463835 (19)\ttotal: 410ms\tremaining: 2.66s\n",
      "20:\tlearn: 2330.7000192\ttest: 2313.8417082\tbest: 2313.8417082 (20)\ttotal: 427ms\tremaining: 2.62s\n",
      "21:\tlearn: 2294.0773073\ttest: 2277.6275738\tbest: 2277.6275738 (21)\ttotal: 445ms\tremaining: 2.59s\n",
      "22:\tlearn: 2263.0268281\ttest: 2247.0279328\tbest: 2247.0279328 (22)\ttotal: 462ms\tremaining: 2.55s\n",
      "23:\tlearn: 2232.4778640\ttest: 2216.6329539\tbest: 2216.6329539 (23)\ttotal: 481ms\tremaining: 2.52s\n",
      "24:\tlearn: 2205.0706724\ttest: 2189.5860383\tbest: 2189.5860383 (24)\ttotal: 504ms\tremaining: 2.52s\n",
      "25:\tlearn: 2181.6649796\ttest: 2164.6122112\tbest: 2164.6122112 (25)\ttotal: 522ms\tremaining: 2.49s\n",
      "26:\tlearn: 2157.8697374\ttest: 2141.3289318\tbest: 2141.3289318 (26)\ttotal: 539ms\tremaining: 2.46s\n",
      "27:\tlearn: 2137.4648463\ttest: 2121.1984824\tbest: 2121.1984824 (27)\ttotal: 557ms\tremaining: 2.43s\n",
      "28:\tlearn: 2117.7844730\ttest: 2102.2746215\tbest: 2102.2746215 (28)\ttotal: 574ms\tremaining: 2.39s\n",
      "29:\tlearn: 2100.5391576\ttest: 2085.6182033\tbest: 2085.6182033 (29)\ttotal: 593ms\tremaining: 2.37s\n",
      "30:\tlearn: 2084.4402014\ttest: 2069.9859442\tbest: 2069.9859442 (30)\ttotal: 613ms\tremaining: 2.35s\n",
      "31:\tlearn: 2070.1400786\ttest: 2055.1655572\tbest: 2055.1655572 (31)\ttotal: 631ms\tremaining: 2.33s\n",
      "32:\tlearn: 2048.8549390\ttest: 2033.9241294\tbest: 2033.9241294 (32)\ttotal: 652ms\tremaining: 2.31s\n",
      "33:\tlearn: 2030.5899735\ttest: 2015.7886268\tbest: 2015.7886268 (33)\ttotal: 669ms\tremaining: 2.28s\n",
      "34:\tlearn: 2013.9889128\ttest: 1999.3601229\tbest: 1999.3601229 (34)\ttotal: 690ms\tremaining: 2.27s\n",
      "35:\tlearn: 2000.6480258\ttest: 1986.2250718\tbest: 1986.2250718 (35)\ttotal: 708ms\tremaining: 2.24s\n",
      "36:\tlearn: 1987.5499898\ttest: 1973.5055623\tbest: 1973.5055623 (36)\ttotal: 725ms\tremaining: 2.21s\n",
      "37:\tlearn: 1975.7583875\ttest: 1962.0626813\tbest: 1962.0626813 (37)\ttotal: 742ms\tremaining: 2.19s\n",
      "38:\tlearn: 1961.7437218\ttest: 1948.3700620\tbest: 1948.3700620 (38)\ttotal: 760ms\tremaining: 2.16s\n",
      "39:\tlearn: 1951.5302206\ttest: 1937.9345745\tbest: 1937.9345745 (39)\ttotal: 777ms\tremaining: 2.14s\n",
      "40:\tlearn: 1938.1753054\ttest: 1925.3635823\tbest: 1925.3635823 (40)\ttotal: 796ms\tremaining: 2.12s\n",
      "41:\tlearn: 1926.8198326\ttest: 1914.6305000\tbest: 1914.6305000 (41)\ttotal: 818ms\tremaining: 2.1s\n",
      "42:\tlearn: 1916.0337572\ttest: 1904.1409843\tbest: 1904.1409843 (42)\ttotal: 843ms\tremaining: 2.1s\n",
      "43:\tlearn: 1906.4054081\ttest: 1894.9332536\tbest: 1894.9332536 (43)\ttotal: 863ms\tremaining: 2.08s\n",
      "44:\tlearn: 1898.6396325\ttest: 1887.5918818\tbest: 1887.5918818 (44)\ttotal: 884ms\tremaining: 2.06s\n",
      "45:\tlearn: 1889.7206900\ttest: 1878.9480030\tbest: 1878.9480030 (45)\ttotal: 903ms\tremaining: 2.04s\n",
      "46:\tlearn: 1882.2355670\ttest: 1871.9035766\tbest: 1871.9035766 (46)\ttotal: 920ms\tremaining: 2.02s\n",
      "47:\tlearn: 1875.4537545\ttest: 1865.7571135\tbest: 1865.7571135 (47)\ttotal: 938ms\tremaining: 1.99s\n",
      "48:\tlearn: 1868.7422406\ttest: 1859.1445153\tbest: 1859.1445153 (48)\ttotal: 956ms\tremaining: 1.97s\n",
      "49:\tlearn: 1859.7029635\ttest: 1850.7417919\tbest: 1850.7417919 (49)\ttotal: 974ms\tremaining: 1.95s\n",
      "50:\tlearn: 1853.4852793\ttest: 1844.6607677\tbest: 1844.6607677 (50)\ttotal: 993ms\tremaining: 1.93s\n",
      "51:\tlearn: 1845.9083468\ttest: 1837.2214602\tbest: 1837.2214602 (51)\ttotal: 1.01s\tremaining: 1.91s\n",
      "52:\tlearn: 1840.3324486\ttest: 1831.8723174\tbest: 1831.8723174 (52)\ttotal: 1.03s\tremaining: 1.89s\n",
      "53:\tlearn: 1834.1631809\ttest: 1825.8393162\tbest: 1825.8393162 (53)\ttotal: 1.05s\tremaining: 1.86s\n",
      "54:\tlearn: 1827.7299353\ttest: 1819.8205195\tbest: 1819.8205195 (54)\ttotal: 1.07s\tremaining: 1.84s\n",
      "55:\tlearn: 1823.0475605\ttest: 1815.1179179\tbest: 1815.1179179 (55)\ttotal: 1.09s\tremaining: 1.83s\n",
      "56:\tlearn: 1817.0138913\ttest: 1809.5751704\tbest: 1809.5751704 (56)\ttotal: 1.11s\tremaining: 1.81s\n",
      "57:\tlearn: 1812.6847544\ttest: 1805.3663535\tbest: 1805.3663535 (57)\ttotal: 1.12s\tremaining: 1.78s\n",
      "58:\tlearn: 1807.6236379\ttest: 1800.7868654\tbest: 1800.7868654 (58)\ttotal: 1.14s\tremaining: 1.76s\n",
      "59:\tlearn: 1803.4118837\ttest: 1796.7546720\tbest: 1796.7546720 (59)\ttotal: 1.16s\tremaining: 1.74s\n",
      "60:\tlearn: 1799.8137838\ttest: 1793.5782190\tbest: 1793.5782190 (60)\ttotal: 1.18s\tremaining: 1.72s\n",
      "61:\tlearn: 1795.2821177\ttest: 1789.1814686\tbest: 1789.1814686 (61)\ttotal: 1.2s\tremaining: 1.7s\n",
      "62:\tlearn: 1791.7510348\ttest: 1786.0769419\tbest: 1786.0769419 (62)\ttotal: 1.22s\tremaining: 1.68s\n",
      "63:\tlearn: 1788.2058894\ttest: 1782.6698774\tbest: 1782.6698774 (63)\ttotal: 1.24s\tremaining: 1.66s\n",
      "64:\tlearn: 1783.5687471\ttest: 1777.8775144\tbest: 1777.8775144 (64)\ttotal: 1.25s\tremaining: 1.64s\n",
      "65:\tlearn: 1779.7714234\ttest: 1774.4494897\tbest: 1774.4494897 (65)\ttotal: 1.27s\tremaining: 1.62s\n",
      "66:\tlearn: 1775.6224360\ttest: 1770.6040299\tbest: 1770.6040299 (66)\ttotal: 1.29s\tremaining: 1.6s\n",
      "67:\tlearn: 1772.6826371\ttest: 1767.8040607\tbest: 1767.8040607 (67)\ttotal: 1.31s\tremaining: 1.58s\n",
      "68:\tlearn: 1769.3465297\ttest: 1764.6041864\tbest: 1764.6041864 (68)\ttotal: 1.33s\tremaining: 1.56s\n",
      "69:\tlearn: 1766.7221761\ttest: 1762.0833516\tbest: 1762.0833516 (69)\ttotal: 1.35s\tremaining: 1.54s\n",
      "70:\tlearn: 1764.4138025\ttest: 1759.9164311\tbest: 1759.9164311 (70)\ttotal: 1.37s\tremaining: 1.52s\n",
      "71:\tlearn: 1761.7544723\ttest: 1757.4459337\tbest: 1757.4459337 (71)\ttotal: 1.39s\tremaining: 1.51s\n",
      "72:\tlearn: 1759.6363578\ttest: 1755.7418116\tbest: 1755.7418116 (72)\ttotal: 1.41s\tremaining: 1.49s\n",
      "73:\tlearn: 1756.9041813\ttest: 1753.3118992\tbest: 1753.3118992 (73)\ttotal: 1.43s\tremaining: 1.47s\n",
      "74:\tlearn: 1752.4880105\ttest: 1749.2665227\tbest: 1749.2665227 (74)\ttotal: 1.45s\tremaining: 1.45s\n",
      "75:\tlearn: 1749.2376782\ttest: 1746.0839309\tbest: 1746.0839309 (75)\ttotal: 1.47s\tremaining: 1.43s\n",
      "76:\tlearn: 1746.6040322\ttest: 1743.7705583\tbest: 1743.7705583 (76)\ttotal: 1.49s\tremaining: 1.41s\n",
      "77:\tlearn: 1744.0640962\ttest: 1741.4079876\tbest: 1741.4079876 (77)\ttotal: 1.51s\tremaining: 1.39s\n",
      "78:\tlearn: 1741.9448965\ttest: 1739.5687697\tbest: 1739.5687697 (78)\ttotal: 1.52s\tremaining: 1.37s\n",
      "79:\tlearn: 1739.7401734\ttest: 1737.5528004\tbest: 1737.5528004 (79)\ttotal: 1.54s\tremaining: 1.35s\n",
      "80:\tlearn: 1738.1780214\ttest: 1736.1077924\tbest: 1736.1077924 (80)\ttotal: 1.56s\tremaining: 1.33s\n",
      "81:\tlearn: 1734.8439219\ttest: 1733.0550270\tbest: 1733.0550270 (81)\ttotal: 1.58s\tremaining: 1.31s\n",
      "82:\tlearn: 1732.3569730\ttest: 1730.6412953\tbest: 1730.6412953 (82)\ttotal: 1.6s\tremaining: 1.29s\n",
      "83:\tlearn: 1729.4309395\ttest: 1727.9791763\tbest: 1727.9791763 (83)\ttotal: 1.63s\tremaining: 1.28s\n",
      "84:\tlearn: 1727.4583736\ttest: 1726.1485707\tbest: 1726.1485707 (84)\ttotal: 1.64s\tremaining: 1.26s\n",
      "85:\tlearn: 1725.9949852\ttest: 1724.7985295\tbest: 1724.7985295 (85)\ttotal: 1.66s\tremaining: 1.24s\n",
      "86:\tlearn: 1723.3454347\ttest: 1722.0007362\tbest: 1722.0007362 (86)\ttotal: 1.68s\tremaining: 1.22s\n",
      "87:\tlearn: 1720.5833069\ttest: 1719.1860394\tbest: 1719.1860394 (87)\ttotal: 1.71s\tremaining: 1.2s\n",
      "88:\tlearn: 1719.2375832\ttest: 1717.8329478\tbest: 1717.8329478 (88)\ttotal: 1.72s\tremaining: 1.18s\n",
      "89:\tlearn: 1717.4647970\ttest: 1716.1644830\tbest: 1716.1644830 (89)\ttotal: 1.74s\tremaining: 1.16s\n",
      "90:\tlearn: 1716.1863386\ttest: 1715.1530288\tbest: 1715.1530288 (90)\ttotal: 1.76s\tremaining: 1.14s\n",
      "91:\tlearn: 1714.7334650\ttest: 1713.8133789\tbest: 1713.8133789 (91)\ttotal: 1.78s\tremaining: 1.12s\n",
      "92:\tlearn: 1712.4357029\ttest: 1711.4911526\tbest: 1711.4911526 (92)\ttotal: 1.8s\tremaining: 1.1s\n",
      "93:\tlearn: 1709.4789014\ttest: 1708.8058848\tbest: 1708.8058848 (93)\ttotal: 1.81s\tremaining: 1.08s\n",
      "94:\tlearn: 1708.1386597\ttest: 1707.5528180\tbest: 1707.5528180 (94)\ttotal: 1.83s\tremaining: 1.06s\n",
      "95:\tlearn: 1706.8193821\ttest: 1706.3305143\tbest: 1706.3305143 (95)\ttotal: 1.86s\tremaining: 1.05s\n",
      "96:\tlearn: 1705.4829927\ttest: 1704.8622801\tbest: 1704.8622801 (96)\ttotal: 1.89s\tremaining: 1.03s\n",
      "97:\tlearn: 1704.4481503\ttest: 1703.9339194\tbest: 1703.9339194 (97)\ttotal: 1.91s\tremaining: 1.01s\n",
      "98:\tlearn: 1702.9713344\ttest: 1702.6236898\tbest: 1702.6236898 (98)\ttotal: 1.92s\tremaining: 992ms\n",
      "99:\tlearn: 1701.8112810\ttest: 1701.5671941\tbest: 1701.5671941 (99)\ttotal: 1.94s\tremaining: 971ms\n",
      "100:\tlearn: 1700.9718531\ttest: 1700.9004376\tbest: 1700.9004376 (100)\ttotal: 1.96s\tremaining: 951ms\n",
      "101:\tlearn: 1699.6113367\ttest: 1699.5421278\tbest: 1699.5421278 (101)\ttotal: 1.98s\tremaining: 933ms\n",
      "102:\tlearn: 1698.3096347\ttest: 1698.4603686\tbest: 1698.4603686 (102)\ttotal: 2s\tremaining: 912ms\n",
      "103:\tlearn: 1697.0002565\ttest: 1697.2417727\tbest: 1697.2417727 (103)\ttotal: 2.02s\tremaining: 893ms\n",
      "104:\tlearn: 1695.9038706\ttest: 1696.3936532\tbest: 1696.3936532 (104)\ttotal: 2.04s\tremaining: 874ms\n",
      "105:\tlearn: 1694.2311382\ttest: 1694.8224711\tbest: 1694.8224711 (105)\ttotal: 2.06s\tremaining: 853ms\n",
      "106:\tlearn: 1692.5973850\ttest: 1693.1297751\tbest: 1693.1297751 (106)\ttotal: 2.07s\tremaining: 834ms\n",
      "107:\tlearn: 1691.7521762\ttest: 1692.3195130\tbest: 1692.3195130 (107)\ttotal: 2.09s\tremaining: 813ms\n",
      "108:\tlearn: 1690.5570421\ttest: 1691.1115696\tbest: 1691.1115696 (108)\ttotal: 2.11s\tremaining: 793ms\n",
      "109:\tlearn: 1688.8416517\ttest: 1689.5202293\tbest: 1689.5202293 (109)\ttotal: 2.13s\tremaining: 773ms\n",
      "110:\tlearn: 1687.5702517\ttest: 1688.2969771\tbest: 1688.2969771 (110)\ttotal: 2.14s\tremaining: 753ms\n",
      "111:\tlearn: 1686.7216092\ttest: 1687.4403258\tbest: 1687.4403258 (111)\ttotal: 2.16s\tremaining: 733ms\n",
      "112:\tlearn: 1685.4102981\ttest: 1686.2310916\tbest: 1686.2310916 (112)\ttotal: 2.18s\tremaining: 715ms\n",
      "113:\tlearn: 1684.6160700\ttest: 1685.5032463\tbest: 1685.5032463 (113)\ttotal: 2.2s\tremaining: 695ms\n",
      "114:\tlearn: 1683.8446108\ttest: 1684.9094812\tbest: 1684.9094812 (114)\ttotal: 2.22s\tremaining: 676ms\n",
      "115:\tlearn: 1683.0597896\ttest: 1684.1602042\tbest: 1684.1602042 (115)\ttotal: 2.24s\tremaining: 657ms\n",
      "116:\tlearn: 1681.6171821\ttest: 1682.8175580\tbest: 1682.8175580 (116)\ttotal: 2.27s\tremaining: 640ms\n",
      "117:\tlearn: 1680.8435519\ttest: 1681.9894278\tbest: 1681.9894278 (117)\ttotal: 2.29s\tremaining: 620ms\n",
      "118:\tlearn: 1679.8786860\ttest: 1681.0092433\tbest: 1681.0092433 (118)\ttotal: 2.3s\tremaining: 600ms\n",
      "119:\tlearn: 1679.0008259\ttest: 1680.2529544\tbest: 1680.2529544 (119)\ttotal: 2.32s\tremaining: 580ms\n",
      "120:\tlearn: 1678.1403001\ttest: 1679.6005547\tbest: 1679.6005547 (120)\ttotal: 2.34s\tremaining: 561ms\n",
      "121:\tlearn: 1677.3530712\ttest: 1679.0164650\tbest: 1679.0164650 (121)\ttotal: 2.36s\tremaining: 541ms\n",
      "122:\tlearn: 1676.7966709\ttest: 1678.6237778\tbest: 1678.6237778 (122)\ttotal: 2.38s\tremaining: 522ms\n",
      "123:\tlearn: 1676.1158798\ttest: 1677.9414914\tbest: 1677.9414914 (123)\ttotal: 2.4s\tremaining: 503ms\n",
      "124:\tlearn: 1675.0343591\ttest: 1676.9723158\tbest: 1676.9723158 (124)\ttotal: 2.41s\tremaining: 483ms\n",
      "125:\tlearn: 1674.4828726\ttest: 1676.4245153\tbest: 1676.4245153 (125)\ttotal: 2.43s\tremaining: 463ms\n",
      "126:\tlearn: 1673.9198537\ttest: 1675.9331671\tbest: 1675.9331671 (126)\ttotal: 2.45s\tremaining: 444ms\n",
      "127:\tlearn: 1673.3649834\ttest: 1675.5355563\tbest: 1675.5355563 (127)\ttotal: 2.47s\tremaining: 424ms\n",
      "128:\tlearn: 1672.4852423\ttest: 1674.7745552\tbest: 1674.7745552 (128)\ttotal: 2.48s\tremaining: 405ms\n",
      "129:\tlearn: 1671.5751351\ttest: 1673.8945665\tbest: 1673.8945665 (129)\ttotal: 2.5s\tremaining: 385ms\n",
      "130:\tlearn: 1670.9030650\ttest: 1673.3197103\tbest: 1673.3197103 (130)\ttotal: 2.52s\tremaining: 366ms\n",
      "131:\tlearn: 1670.3742869\ttest: 1672.9113152\tbest: 1672.9113152 (131)\ttotal: 2.54s\tremaining: 346ms\n",
      "132:\tlearn: 1669.2984624\ttest: 1671.8041981\tbest: 1671.8041981 (132)\ttotal: 2.56s\tremaining: 327ms\n",
      "133:\tlearn: 1668.3887393\ttest: 1671.0113220\tbest: 1671.0113220 (133)\ttotal: 2.58s\tremaining: 308ms\n",
      "134:\tlearn: 1667.8239505\ttest: 1670.4092503\tbest: 1670.4092503 (134)\ttotal: 2.59s\tremaining: 288ms\n",
      "135:\tlearn: 1667.1100151\ttest: 1669.6109037\tbest: 1669.6109037 (135)\ttotal: 2.61s\tremaining: 269ms\n",
      "136:\tlearn: 1666.5227716\ttest: 1669.2211113\tbest: 1669.2211113 (136)\ttotal: 2.63s\tremaining: 250ms\n",
      "137:\tlearn: 1665.5784464\ttest: 1668.2926213\tbest: 1668.2926213 (137)\ttotal: 2.66s\tremaining: 231ms\n",
      "138:\tlearn: 1664.9728650\ttest: 1667.8506588\tbest: 1667.8506588 (138)\ttotal: 2.68s\tremaining: 212ms\n",
      "139:\tlearn: 1664.4898929\ttest: 1667.4113584\tbest: 1667.4113584 (139)\ttotal: 2.69s\tremaining: 192ms\n",
      "140:\tlearn: 1664.0090547\ttest: 1666.8882165\tbest: 1666.8882165 (140)\ttotal: 2.71s\tremaining: 173ms\n",
      "141:\tlearn: 1663.3564060\ttest: 1666.3340760\tbest: 1666.3340760 (141)\ttotal: 2.73s\tremaining: 154ms\n",
      "142:\tlearn: 1662.8836001\ttest: 1665.9809293\tbest: 1665.9809293 (142)\ttotal: 2.75s\tremaining: 135ms\n",
      "143:\tlearn: 1662.3174518\ttest: 1665.4242743\tbest: 1665.4242743 (143)\ttotal: 2.77s\tremaining: 115ms\n",
      "144:\tlearn: 1661.9369030\ttest: 1664.8851485\tbest: 1664.8851485 (144)\ttotal: 2.79s\tremaining: 96.1ms\n",
      "145:\tlearn: 1659.4008162\ttest: 1662.4097996\tbest: 1662.4097996 (145)\ttotal: 2.8s\tremaining: 76.8ms\n",
      "146:\tlearn: 1658.7127742\ttest: 1661.7958307\tbest: 1661.7958307 (146)\ttotal: 2.82s\tremaining: 57.6ms\n",
      "147:\tlearn: 1657.1128773\ttest: 1660.3421883\tbest: 1660.3421883 (147)\ttotal: 2.84s\tremaining: 38.4ms\n",
      "148:\tlearn: 1656.2815054\ttest: 1659.5811163\tbest: 1659.5811163 (148)\ttotal: 2.86s\tremaining: 19.2ms\n",
      "149:\tlearn: 1655.5325068\ttest: 1658.9294912\tbest: 1658.9294912 (149)\ttotal: 2.88s\tremaining: 0us\n",
      "\n",
      "bestTest = 1658.929491\n",
      "bestIteration = 149\n",
      "\n",
      "Training on fold [2/3]\n",
      "0:\tlearn: 5785.3943194\ttest: 5804.0639575\tbest: 5804.0639575 (0)\ttotal: 25.1ms\tremaining: 3.75s\n",
      "1:\tlearn: 5334.7879961\ttest: 5353.8851613\tbest: 5353.8851613 (1)\ttotal: 49.3ms\tremaining: 3.65s\n",
      "2:\tlearn: 4934.8541611\ttest: 4954.5100077\tbest: 4954.5100077 (2)\ttotal: 75.8ms\tremaining: 3.71s\n",
      "3:\tlearn: 4584.2389157\ttest: 4603.4057602\tbest: 4603.4057602 (3)\ttotal: 94.7ms\tremaining: 3.46s\n",
      "4:\tlearn: 4275.7259114\ttest: 4294.8017757\tbest: 4294.8017757 (4)\ttotal: 113ms\tremaining: 3.27s\n",
      "5:\tlearn: 4000.0505329\ttest: 4019.2374182\tbest: 4019.2374182 (5)\ttotal: 130ms\tremaining: 3.12s\n",
      "6:\tlearn: 3762.7040262\ttest: 3782.2811346\tbest: 3782.2811346 (6)\ttotal: 148ms\tremaining: 3.02s\n",
      "7:\tlearn: 3554.9590931\ttest: 3575.3188422\tbest: 3575.3188422 (7)\ttotal: 165ms\tremaining: 2.92s\n",
      "8:\tlearn: 3368.4422125\ttest: 3388.6535682\tbest: 3388.6535682 (8)\ttotal: 182ms\tremaining: 2.85s\n",
      "9:\tlearn: 3205.8374313\ttest: 3227.0753472\tbest: 3227.0753472 (9)\ttotal: 201ms\tremaining: 2.82s\n",
      "10:\tlearn: 3061.5350868\ttest: 3082.6757784\tbest: 3082.6757784 (10)\ttotal: 221ms\tremaining: 2.8s\n",
      "11:\tlearn: 2941.4170817\ttest: 2963.4431553\tbest: 2963.4431553 (11)\ttotal: 240ms\tremaining: 2.76s\n",
      "12:\tlearn: 2833.9833790\ttest: 2855.8488043\tbest: 2855.8488043 (12)\ttotal: 258ms\tremaining: 2.71s\n",
      "13:\tlearn: 2742.9397213\ttest: 2764.6102329\tbest: 2764.6102329 (13)\ttotal: 275ms\tremaining: 2.67s\n",
      "14:\tlearn: 2659.5956603\ttest: 2681.6851110\tbest: 2681.6851110 (14)\ttotal: 295ms\tremaining: 2.65s\n",
      "15:\tlearn: 2590.3745256\ttest: 2613.1909592\tbest: 2613.1909592 (15)\ttotal: 313ms\tremaining: 2.62s\n",
      "16:\tlearn: 2524.5879412\ttest: 2547.3616888\tbest: 2547.3616888 (16)\ttotal: 331ms\tremaining: 2.59s\n",
      "17:\tlearn: 2466.1584708\ttest: 2488.9320097\tbest: 2488.9320097 (17)\ttotal: 348ms\tremaining: 2.56s\n",
      "18:\tlearn: 2417.2771567\ttest: 2439.8051141\tbest: 2439.8051141 (18)\ttotal: 376ms\tremaining: 2.59s\n",
      "19:\tlearn: 2365.5209280\ttest: 2388.5100488\tbest: 2388.5100488 (19)\ttotal: 400ms\tremaining: 2.6s\n",
      "20:\tlearn: 2321.6401127\ttest: 2344.3801309\tbest: 2344.3801309 (20)\ttotal: 417ms\tremaining: 2.56s\n",
      "21:\tlearn: 2284.5285826\ttest: 2307.6516736\tbest: 2307.6516736 (21)\ttotal: 434ms\tremaining: 2.52s\n",
      "22:\tlearn: 2252.9540721\ttest: 2276.0772444\tbest: 2276.0772444 (22)\ttotal: 451ms\tremaining: 2.49s\n",
      "23:\tlearn: 2223.3463272\ttest: 2246.5113267\tbest: 2246.5113267 (23)\ttotal: 470ms\tremaining: 2.47s\n",
      "24:\tlearn: 2199.3018649\ttest: 2222.8016139\tbest: 2222.8016139 (24)\ttotal: 493ms\tremaining: 2.47s\n",
      "25:\tlearn: 2175.2189373\ttest: 2198.3715663\tbest: 2198.3715663 (25)\ttotal: 511ms\tremaining: 2.44s\n",
      "26:\tlearn: 2154.3316749\ttest: 2178.9554514\tbest: 2178.9554514 (26)\ttotal: 529ms\tremaining: 2.41s\n",
      "27:\tlearn: 2130.5123079\ttest: 2154.8777783\tbest: 2154.8777783 (27)\ttotal: 546ms\tremaining: 2.38s\n",
      "28:\tlearn: 2111.6918673\ttest: 2135.7287922\tbest: 2135.7287922 (28)\ttotal: 564ms\tremaining: 2.35s\n",
      "29:\tlearn: 2095.2706656\ttest: 2119.1417656\tbest: 2119.1417656 (29)\ttotal: 582ms\tremaining: 2.33s\n",
      "30:\tlearn: 2074.0756560\ttest: 2097.4292309\tbest: 2097.4292309 (30)\ttotal: 602ms\tremaining: 2.31s\n",
      "31:\tlearn: 2059.2235651\ttest: 2082.2277282\tbest: 2082.2277282 (31)\ttotal: 619ms\tremaining: 2.28s\n",
      "32:\tlearn: 2044.8206472\ttest: 2068.6173098\tbest: 2068.6173098 (32)\ttotal: 637ms\tremaining: 2.26s\n",
      "33:\tlearn: 2027.8452721\ttest: 2051.2159071\tbest: 2051.2159071 (33)\ttotal: 656ms\tremaining: 2.24s\n",
      "34:\tlearn: 2008.9351301\ttest: 2031.8570228\tbest: 2031.8570228 (34)\ttotal: 677ms\tremaining: 2.22s\n",
      "35:\tlearn: 1993.4294642\ttest: 2016.2271338\tbest: 2016.2271338 (35)\ttotal: 699ms\tremaining: 2.21s\n",
      "36:\tlearn: 1979.1213389\ttest: 2001.3638541\tbest: 2001.3638541 (36)\ttotal: 717ms\tremaining: 2.19s\n",
      "37:\tlearn: 1966.6802247\ttest: 1988.5902540\tbest: 1988.5902540 (37)\ttotal: 734ms\tremaining: 2.16s\n",
      "38:\tlearn: 1956.3492934\ttest: 1977.7908737\tbest: 1977.7908737 (38)\ttotal: 752ms\tremaining: 2.14s\n",
      "39:\tlearn: 1946.4864476\ttest: 1967.7549423\tbest: 1967.7549423 (39)\ttotal: 772ms\tremaining: 2.12s\n",
      "40:\tlearn: 1933.0730886\ttest: 1954.6300527\tbest: 1954.6300527 (40)\ttotal: 791ms\tremaining: 2.1s\n",
      "41:\tlearn: 1921.5937442\ttest: 1943.4287538\tbest: 1943.4287538 (41)\ttotal: 808ms\tremaining: 2.08s\n",
      "42:\tlearn: 1912.5856423\ttest: 1934.4054127\tbest: 1934.4054127 (42)\ttotal: 825ms\tremaining: 2.05s\n",
      "43:\tlearn: 1903.3267943\ttest: 1925.2670683\tbest: 1925.2670683 (43)\ttotal: 845ms\tremaining: 2.03s\n",
      "44:\tlearn: 1895.5223066\ttest: 1917.2473446\tbest: 1917.2473446 (44)\ttotal: 863ms\tremaining: 2.01s\n",
      "45:\tlearn: 1886.5552683\ttest: 1907.9350066\tbest: 1907.9350066 (45)\ttotal: 887ms\tremaining: 2s\n",
      "46:\tlearn: 1878.8092356\ttest: 1900.1621646\tbest: 1900.1621646 (46)\ttotal: 906ms\tremaining: 1.98s\n",
      "47:\tlearn: 1870.6980275\ttest: 1891.8969518\tbest: 1891.8969518 (47)\ttotal: 928ms\tremaining: 1.97s\n",
      "48:\tlearn: 1864.4698795\ttest: 1885.5935199\tbest: 1885.5935199 (48)\ttotal: 948ms\tremaining: 1.95s\n",
      "49:\tlearn: 1857.4476432\ttest: 1878.6682208\tbest: 1878.6682208 (49)\ttotal: 970ms\tremaining: 1.94s\n",
      "50:\tlearn: 1851.5763944\ttest: 1872.8179156\tbest: 1872.8179156 (50)\ttotal: 991ms\tremaining: 1.92s\n",
      "51:\tlearn: 1844.4095396\ttest: 1865.3854749\tbest: 1865.3854749 (51)\ttotal: 1.01s\tremaining: 1.9s\n",
      "52:\tlearn: 1838.5028499\ttest: 1859.5545727\tbest: 1859.5545727 (52)\ttotal: 1.03s\tremaining: 1.88s\n",
      "53:\tlearn: 1832.7038758\ttest: 1853.5391508\tbest: 1853.5391508 (53)\ttotal: 1.05s\tremaining: 1.86s\n",
      "54:\tlearn: 1827.4089483\ttest: 1848.2909032\tbest: 1848.2909032 (54)\ttotal: 1.07s\tremaining: 1.85s\n",
      "55:\tlearn: 1822.4497057\ttest: 1843.3081594\tbest: 1843.3081594 (55)\ttotal: 1.09s\tremaining: 1.83s\n",
      "56:\tlearn: 1818.0411388\ttest: 1838.8890581\tbest: 1838.8890581 (56)\ttotal: 1.11s\tremaining: 1.81s\n",
      "57:\tlearn: 1814.4812846\ttest: 1835.4764893\tbest: 1835.4764893 (57)\ttotal: 1.13s\tremaining: 1.79s\n",
      "58:\tlearn: 1809.4760505\ttest: 1830.2774461\tbest: 1830.2774461 (58)\ttotal: 1.15s\tremaining: 1.77s\n",
      "59:\tlearn: 1804.8247223\ttest: 1825.4479830\tbest: 1825.4479830 (59)\ttotal: 1.17s\tremaining: 1.75s\n",
      "60:\tlearn: 1800.6920672\ttest: 1821.3440963\tbest: 1821.3440963 (60)\ttotal: 1.19s\tremaining: 1.73s\n",
      "61:\tlearn: 1796.5257209\ttest: 1817.6574154\tbest: 1817.6574154 (61)\ttotal: 1.2s\tremaining: 1.71s\n",
      "62:\tlearn: 1793.1369393\ttest: 1814.2108970\tbest: 1814.2108970 (62)\ttotal: 1.22s\tremaining: 1.69s\n",
      "63:\tlearn: 1790.1002497\ttest: 1811.0475704\tbest: 1811.0475704 (63)\ttotal: 1.24s\tremaining: 1.67s\n",
      "64:\tlearn: 1785.9060142\ttest: 1806.7444239\tbest: 1806.7444239 (64)\ttotal: 1.26s\tremaining: 1.65s\n",
      "65:\tlearn: 1782.0732059\ttest: 1802.7543782\tbest: 1802.7543782 (65)\ttotal: 1.28s\tremaining: 1.63s\n",
      "66:\tlearn: 1779.4782305\ttest: 1800.1932009\tbest: 1800.1932009 (66)\ttotal: 1.3s\tremaining: 1.61s\n",
      "67:\tlearn: 1776.3780497\ttest: 1797.5101673\tbest: 1797.5101673 (67)\ttotal: 1.32s\tremaining: 1.59s\n",
      "68:\tlearn: 1772.3574209\ttest: 1793.3091481\tbest: 1793.3091481 (68)\ttotal: 1.34s\tremaining: 1.57s\n",
      "69:\tlearn: 1769.6190728\ttest: 1790.9176142\tbest: 1790.9176142 (69)\ttotal: 1.35s\tremaining: 1.55s\n",
      "70:\tlearn: 1766.3593975\ttest: 1787.5961241\tbest: 1787.5961241 (70)\ttotal: 1.37s\tremaining: 1.53s\n",
      "71:\tlearn: 1763.4248339\ttest: 1784.8801594\tbest: 1784.8801594 (71)\ttotal: 1.39s\tremaining: 1.51s\n",
      "72:\tlearn: 1761.3680062\ttest: 1782.8998470\tbest: 1782.8998470 (72)\ttotal: 1.41s\tremaining: 1.49s\n",
      "73:\tlearn: 1758.8117732\ttest: 1780.2165052\tbest: 1780.2165052 (73)\ttotal: 1.43s\tremaining: 1.47s\n",
      "74:\tlearn: 1754.9094465\ttest: 1776.3596621\tbest: 1776.3596621 (74)\ttotal: 1.45s\tremaining: 1.45s\n",
      "75:\tlearn: 1752.5806378\ttest: 1774.0942953\tbest: 1774.0942953 (75)\ttotal: 1.46s\tremaining: 1.43s\n",
      "76:\tlearn: 1750.0433008\ttest: 1771.4251149\tbest: 1771.4251149 (76)\ttotal: 1.49s\tremaining: 1.41s\n",
      "77:\tlearn: 1747.5163907\ttest: 1768.8851467\tbest: 1768.8851467 (77)\ttotal: 1.5s\tremaining: 1.39s\n",
      "78:\tlearn: 1745.6601814\ttest: 1767.3660690\tbest: 1767.3660690 (78)\ttotal: 1.52s\tremaining: 1.37s\n",
      "79:\tlearn: 1744.0071202\ttest: 1765.7320105\tbest: 1765.7320105 (79)\ttotal: 1.54s\tremaining: 1.35s\n",
      "80:\tlearn: 1741.7164459\ttest: 1763.4047763\tbest: 1763.4047763 (80)\ttotal: 1.55s\tremaining: 1.32s\n",
      "81:\tlearn: 1739.6164592\ttest: 1761.3083869\tbest: 1761.3083869 (81)\ttotal: 1.57s\tremaining: 1.3s\n",
      "82:\tlearn: 1737.4190798\ttest: 1759.0742934\tbest: 1759.0742934 (82)\ttotal: 1.59s\tremaining: 1.29s\n",
      "83:\tlearn: 1735.9919812\ttest: 1757.3668861\tbest: 1757.3668861 (83)\ttotal: 1.61s\tremaining: 1.26s\n",
      "84:\tlearn: 1733.5931907\ttest: 1755.0591111\tbest: 1755.0591111 (84)\ttotal: 1.63s\tremaining: 1.24s\n",
      "85:\tlearn: 1731.8700930\ttest: 1753.3141402\tbest: 1753.3141402 (85)\ttotal: 1.65s\tremaining: 1.22s\n",
      "86:\tlearn: 1728.7836750\ttest: 1750.1441612\tbest: 1750.1441612 (86)\ttotal: 1.66s\tremaining: 1.2s\n",
      "87:\tlearn: 1727.5845445\ttest: 1748.9279073\tbest: 1748.9279073 (87)\ttotal: 1.69s\tremaining: 1.19s\n",
      "88:\tlearn: 1726.1769203\ttest: 1747.6060471\tbest: 1747.6060471 (88)\ttotal: 1.71s\tremaining: 1.17s\n",
      "89:\tlearn: 1724.4288122\ttest: 1745.7516103\tbest: 1745.7516103 (89)\ttotal: 1.73s\tremaining: 1.15s\n",
      "90:\tlearn: 1722.7143886\ttest: 1744.0232849\tbest: 1744.0232849 (90)\ttotal: 1.75s\tremaining: 1.13s\n",
      "91:\tlearn: 1721.0787168\ttest: 1742.3980707\tbest: 1742.3980707 (91)\ttotal: 1.76s\tremaining: 1.11s\n",
      "92:\tlearn: 1719.1744737\ttest: 1740.4829668\tbest: 1740.4829668 (92)\ttotal: 1.78s\tremaining: 1.09s\n",
      "93:\tlearn: 1717.8719109\ttest: 1739.3999934\tbest: 1739.3999934 (93)\ttotal: 1.8s\tremaining: 1.07s\n",
      "94:\tlearn: 1716.2636833\ttest: 1737.9424437\tbest: 1737.9424437 (94)\ttotal: 1.82s\tremaining: 1.05s\n",
      "95:\tlearn: 1715.1885651\ttest: 1737.0041745\tbest: 1737.0041745 (95)\ttotal: 1.84s\tremaining: 1.03s\n",
      "96:\tlearn: 1714.3157104\ttest: 1736.1458795\tbest: 1736.1458795 (96)\ttotal: 1.85s\tremaining: 1.01s\n",
      "97:\tlearn: 1713.4272656\ttest: 1735.0791791\tbest: 1735.0791791 (97)\ttotal: 1.87s\tremaining: 993ms\n",
      "98:\tlearn: 1711.9515917\ttest: 1733.5062573\tbest: 1733.5062573 (98)\ttotal: 1.89s\tremaining: 974ms\n",
      "99:\tlearn: 1709.4703080\ttest: 1730.9999073\tbest: 1730.9999073 (99)\ttotal: 1.91s\tremaining: 954ms\n",
      "100:\tlearn: 1708.6447160\ttest: 1729.9329460\tbest: 1729.9329460 (100)\ttotal: 1.93s\tremaining: 934ms\n",
      "101:\tlearn: 1707.2411297\ttest: 1728.5433431\tbest: 1728.5433431 (101)\ttotal: 1.94s\tremaining: 915ms\n",
      "102:\tlearn: 1705.9255996\ttest: 1727.3296928\tbest: 1727.3296928 (102)\ttotal: 1.97s\tremaining: 898ms\n",
      "103:\tlearn: 1704.6259911\ttest: 1726.0234656\tbest: 1726.0234656 (103)\ttotal: 2s\tremaining: 884ms\n",
      "104:\tlearn: 1703.5442630\ttest: 1725.0145690\tbest: 1725.0145690 (104)\ttotal: 2.02s\tremaining: 868ms\n",
      "105:\tlearn: 1702.2977267\ttest: 1723.8867586\tbest: 1723.8867586 (105)\ttotal: 2.04s\tremaining: 848ms\n",
      "106:\tlearn: 1701.2342653\ttest: 1722.8501357\tbest: 1722.8501357 (106)\ttotal: 2.06s\tremaining: 828ms\n",
      "107:\tlearn: 1700.4435739\ttest: 1721.9483717\tbest: 1721.9483717 (107)\ttotal: 2.08s\tremaining: 809ms\n",
      "108:\tlearn: 1699.5557053\ttest: 1721.0176612\tbest: 1721.0176612 (108)\ttotal: 2.1s\tremaining: 790ms\n",
      "109:\tlearn: 1698.3931573\ttest: 1719.8187728\tbest: 1719.8187728 (109)\ttotal: 2.12s\tremaining: 770ms\n",
      "110:\tlearn: 1697.2393312\ttest: 1718.6129698\tbest: 1718.6129698 (110)\ttotal: 2.14s\tremaining: 751ms\n",
      "111:\tlearn: 1696.5395950\ttest: 1717.9299914\tbest: 1717.9299914 (111)\ttotal: 2.15s\tremaining: 731ms\n",
      "112:\tlearn: 1695.0463389\ttest: 1716.5279431\tbest: 1716.5279431 (112)\ttotal: 2.18s\tremaining: 713ms\n",
      "113:\tlearn: 1693.8586690\ttest: 1715.3271377\tbest: 1715.3271377 (113)\ttotal: 2.19s\tremaining: 693ms\n",
      "114:\tlearn: 1692.8060990\ttest: 1714.2798648\tbest: 1714.2798648 (114)\ttotal: 2.21s\tremaining: 674ms\n",
      "115:\tlearn: 1691.3252213\ttest: 1712.8255345\tbest: 1712.8255345 (115)\ttotal: 2.23s\tremaining: 654ms\n",
      "116:\tlearn: 1690.5354016\ttest: 1711.9894370\tbest: 1711.9894370 (116)\ttotal: 2.25s\tremaining: 635ms\n",
      "117:\tlearn: 1689.5100282\ttest: 1710.8114215\tbest: 1710.8114215 (117)\ttotal: 2.27s\tremaining: 615ms\n",
      "118:\tlearn: 1688.0846309\ttest: 1709.3696598\tbest: 1709.3696598 (118)\ttotal: 2.29s\tremaining: 597ms\n",
      "119:\tlearn: 1685.0582061\ttest: 1706.3443761\tbest: 1706.3443761 (119)\ttotal: 2.31s\tremaining: 578ms\n",
      "120:\tlearn: 1684.0698441\ttest: 1705.3040129\tbest: 1705.3040129 (120)\ttotal: 2.33s\tremaining: 558ms\n",
      "121:\tlearn: 1683.2353201\ttest: 1704.5682969\tbest: 1704.5682969 (121)\ttotal: 2.35s\tremaining: 539ms\n",
      "122:\tlearn: 1682.1955648\ttest: 1703.5432739\tbest: 1703.5432739 (122)\ttotal: 2.37s\tremaining: 519ms\n",
      "123:\tlearn: 1681.3061056\ttest: 1702.7464589\tbest: 1702.7464589 (123)\ttotal: 2.39s\tremaining: 500ms\n",
      "124:\tlearn: 1680.0138510\ttest: 1701.5875988\tbest: 1701.5875988 (124)\ttotal: 2.4s\tremaining: 481ms\n",
      "125:\tlearn: 1679.2452534\ttest: 1700.8500881\tbest: 1700.8500881 (125)\ttotal: 2.42s\tremaining: 462ms\n",
      "126:\tlearn: 1678.6584422\ttest: 1700.1574114\tbest: 1700.1574114 (126)\ttotal: 2.44s\tremaining: 442ms\n",
      "127:\tlearn: 1677.9468201\ttest: 1699.5110960\tbest: 1699.5110960 (127)\ttotal: 2.46s\tremaining: 422ms\n",
      "128:\tlearn: 1677.2478040\ttest: 1698.7955024\tbest: 1698.7955024 (128)\ttotal: 2.48s\tremaining: 403ms\n",
      "129:\tlearn: 1675.7959380\ttest: 1697.1726727\tbest: 1697.1726727 (129)\ttotal: 2.49s\tremaining: 384ms\n",
      "130:\tlearn: 1675.1685549\ttest: 1696.5310476\tbest: 1696.5310476 (130)\ttotal: 2.51s\tremaining: 364ms\n",
      "131:\tlearn: 1674.5106372\ttest: 1695.9705645\tbest: 1695.9705645 (131)\ttotal: 2.53s\tremaining: 345ms\n",
      "132:\tlearn: 1673.8599511\ttest: 1695.3772869\tbest: 1695.3772869 (132)\ttotal: 2.55s\tremaining: 326ms\n",
      "133:\tlearn: 1671.5134499\ttest: 1692.9487544\tbest: 1692.9487544 (133)\ttotal: 2.56s\tremaining: 306ms\n",
      "134:\tlearn: 1670.9469297\ttest: 1692.3997085\tbest: 1692.3997085 (134)\ttotal: 2.59s\tremaining: 287ms\n",
      "135:\tlearn: 1670.0961495\ttest: 1691.5854427\tbest: 1691.5854427 (135)\ttotal: 2.6s\tremaining: 268ms\n",
      "136:\tlearn: 1669.4751336\ttest: 1690.9370410\tbest: 1690.9370410 (136)\ttotal: 2.62s\tremaining: 249ms\n",
      "137:\tlearn: 1668.2625087\ttest: 1689.7518445\tbest: 1689.7518445 (137)\ttotal: 2.64s\tremaining: 230ms\n",
      "138:\tlearn: 1667.2792138\ttest: 1688.7965575\tbest: 1688.7965575 (138)\ttotal: 2.66s\tremaining: 210ms\n",
      "139:\tlearn: 1666.4819772\ttest: 1688.0272206\tbest: 1688.0272206 (139)\ttotal: 2.68s\tremaining: 191ms\n",
      "140:\tlearn: 1665.5012707\ttest: 1687.1356018\tbest: 1687.1356018 (140)\ttotal: 2.69s\tremaining: 172ms\n",
      "141:\tlearn: 1664.8233147\ttest: 1686.3539208\tbest: 1686.3539208 (141)\ttotal: 2.71s\tremaining: 153ms\n",
      "142:\tlearn: 1664.2189597\ttest: 1685.7591155\tbest: 1685.7591155 (142)\ttotal: 2.73s\tremaining: 134ms\n",
      "143:\tlearn: 1663.3490105\ttest: 1684.9073434\tbest: 1684.9073434 (143)\ttotal: 2.75s\tremaining: 115ms\n",
      "144:\tlearn: 1662.8226899\ttest: 1684.4870278\tbest: 1684.4870278 (144)\ttotal: 2.77s\tremaining: 95.4ms\n",
      "145:\tlearn: 1662.5507299\ttest: 1684.1781323\tbest: 1684.1781323 (145)\ttotal: 2.79s\tremaining: 76.4ms\n",
      "146:\tlearn: 1662.1312750\ttest: 1683.6699779\tbest: 1683.6699779 (146)\ttotal: 2.81s\tremaining: 57.3ms\n",
      "147:\tlearn: 1661.4287858\ttest: 1683.0065010\tbest: 1683.0065010 (147)\ttotal: 2.82s\tremaining: 38.2ms\n",
      "148:\tlearn: 1660.3739559\ttest: 1681.8182250\tbest: 1681.8182250 (148)\ttotal: 2.84s\tremaining: 19.1ms\n",
      "149:\tlearn: 1659.7857042\ttest: 1681.2634298\tbest: 1681.2634298 (149)\ttotal: 2.86s\tremaining: 0us\n",
      "\n",
      "bestTest = 1681.26343\n",
      "bestIteration = 149\n",
      "\n",
      "RMSE CatBoost: {'learn': {'RMSE': 1658.0773031749275}}\n",
      "CPU times: user 26.1 s, sys: 1.1 s, total: 27.2 s\n",
      "Wall time: 29.9 s\n"
     ]
    }
   ],
   "source": [
    "%%time \n",
    "\n",
    "cb_model = CatBoostRegressor(random_seed=31337,\n",
    "                          iterations=50,\n",
    "                          learning_rate=1,\n",
    "                          depth=2,\n",
    "                          custom_metric='RMSE',\n",
    "                          cat_features=cat_features,\n",
    "                          )\n",
    "\n",
    "#rid = {'learning_rate': [0.03, 0.1],\n",
    "#        'depth': [4, 6, 10],\n",
    "#        'l2_leaf_reg': [1, 3, 5, 7, 9]}\n",
    "\n",
    "param_grid = {\n",
    "    'num_leaves': [31, 127],\n",
    "    'n_estimators': [50, 100, 150],\n",
    "    'learning_rate': [0.1, 0.01]\n",
    "}\n",
    "\n",
    "grid_search_result = cb_model.grid_search(param_grid,\n",
    "            X=x_train,\n",
    "            y=y_train,\n",
    "            cv=3,\n",
    "            partition_random_seed=31337,\n",
    "            calc_cv_statistics=True,\n",
    "            search_by_train_test_split=True,\n",
    "            refit=True,\n",
    "            shuffle=True,\n",
    "            stratified=None,\n",
    "            train_size=0.8,\n",
    "            verbose=True,\n",
    "            plot=False)\n",
    "\n",
    "\n",
    "print('RMSE CatBoost:', cb_model.best_score_)\n"
   ]
  },
  {
   "cell_type": "markdown",
   "metadata": {},
   "source": [
    "### LightGBM"
   ]
  },
  {
   "cell_type": "markdown",
   "metadata": {},
   "source": [
    "Кодируем категории"
   ]
  },
  {
   "cell_type": "markdown",
   "metadata": {},
   "source": [
    "тут я пытался самостоятельно закодировать категории, чтобы попробовать как их переварит lgbm"
   ]
  },
  {
   "cell_type": "code",
   "execution_count": 40,
   "metadata": {},
   "outputs": [],
   "source": [
    "\n",
    "#x_train_copy = x_train.copy()\n",
    "#\n",
    "#for cat_f in cat_features:\n",
    "#    x_train_copy[cat_f] = pd.Categorical(x_train_copy[cat_f])\n",
    "#    x_train_copy[cat_f] = x_train_copy[cat_f].cat.codes\n",
    "#\n",
    "#display(x_train_copy.head())"
   ]
  },
  {
   "cell_type": "code",
   "execution_count": 41,
   "metadata": {},
   "outputs": [],
   "source": [
    "#train_data = lgb.Dataset(x_train_copy, label=y_train, categorical_feature=[0,2,4,6,7,8], free_raw_data=False)\n",
    "#validation_data = train_data.create_valid('validation.svm')"
   ]
  },
  {
   "cell_type": "code",
   "execution_count": 42,
   "metadata": {},
   "outputs": [
    {
     "name": "stdout",
     "output_type": "stream",
     "text": [
      "<function Pipeline.score at 0x7fc00aa50700>\n",
      "CPU times: user 7min 8s, sys: 3.28 s, total: 7min 11s\n",
      "Wall time: 7min 15s\n"
     ]
    }
   ],
   "source": [
    "#num_transformer = StandardScaler()\n",
    "#cat_transformer = OneHotEncoder()\n",
    "#\n",
    "#num_features = X.select_dtypes(np.number).columns.tolist()\n",
    "#cat_features = X.select_dtypes('object').columns.tolist()\n",
    "#\n",
    "#preprocessor = ColumnTransformer(\n",
    "#    transformers=[\n",
    "#        ('cat_ohe', cat_transformer, ['VehicleType',  'Gearbox', 'FuelType', 'Repaired']),\n",
    "#        ('cat_mee', MEstimateEncoder(), ['Brand', 'Model']),\n",
    "#        ('num', num_transformer, make_column_selector(dtype_include=np.number))\n",
    "#    ])\n",
    "\n",
    "\n",
    "#y_pred = lr_model.predict(x_valid)\n",
    "\n",
    "#param_grid = {\n",
    "#    'num_leaves': [31, 127],\n",
    "#    'n_estimators': [50, 100, 150],\n",
    "#    'learning_rate': [0.1, 0.01]\n",
    "#}\n",
    "#\n",
    "#lgb_estimator = lgb.LGBMRegressor(boosting_type='gbdt',  objective='regression')\n",
    "#\n",
    "#lgb_model = Pipeline(steps=[('preprocessor', preprocessor),\n",
    "#                           ('regressor' , GridSearchCV(estimator=lgb_estimator, param_grid=param_grid, cv=5, scoring=rmse_scorer, refit=True))])\n",
    "#lgb_model.fit(x_train,y_train)\n",
    "\n",
    "#print(lgb_model.score)"
   ]
  },
  {
   "cell_type": "code",
   "execution_count": 46,
   "metadata": {},
   "outputs": [
    {
     "name": "stdout",
     "output_type": "stream",
     "text": [
      "2772.796527387675\n",
      "CPU times: user 2min 56s, sys: 1.43 s, total: 2min 58s\n",
      "Wall time: 2min 59s\n"
     ]
    }
   ],
   "source": [
    "%%time\n",
    "\n",
    "preprocessor = ColumnTransformer(\n",
    "    transformers=[\n",
    "        ('cat_ohe', OneHotEncoder(), ['VehicleType',  'Gearbox', 'FuelType', 'Repaired']),\n",
    "        ('cat_mee', MEstimateEncoder(), ['Brand', 'Model']),\n",
    "        ('num', num_transformer, make_column_selector(dtype_include=np.number))\n",
    "    ])\n",
    "\n",
    "lgb_regressor = lgb.LGBMRegressor(boosting_type='gbdt',  objective='regression')\n",
    "\n",
    "pipe = Pipeline(steps=[\n",
    "    ('preprocessor', preprocessor),\n",
    "    ('regressor' , lgb_regressor)\n",
    "])\n",
    "\n",
    "param_grid = {\n",
    "    'regressor__n_estimators': [50, 100, 150],\n",
    "    'regressor__learning_rate' : [0.1, 0.01]\n",
    "    }\n",
    "\n",
    "\n",
    "gscv = GridSearchCV(pipe, param_grid=param_grid, cv=5, scoring=rmse_scorer, refit=True)\n",
    "\n",
    "gscv.fit(x_train,y_train)\n",
    "lgb_model = gscv.best_estimator_\n",
    "print(gscv.best_score_)"
   ]
  },
  {
   "cell_type": "markdown",
   "metadata": {},
   "source": [
    "## Анализ моделей"
   ]
  },
  {
   "cell_type": "code",
   "execution_count": 47,
   "metadata": {},
   "outputs": [
    {
     "name": "stdout",
     "output_type": "stream",
     "text": [
      "RMSE на тестовых данных\n",
      "LogisticRegression RMSE: 1997.8457241245228\n",
      "CatBoost RMSE: 1655.6030983077999\n",
      "LightGBM RMSE: 2764.244111775038\n"
     ]
    }
   ],
   "source": [
    "print('RMSE на тестовых данных')\n",
    "print(\"LogisticRegression RMSE:\", rmse(y_test, lr_model.predict(x_test)))\n",
    "print(\"CatBoost RMSE:\", rmse(y_test, cb_model.predict(x_test)))\n",
    "print(\"LightGBM RMSE:\", rmse(y_test, lgb_model.predict(x_test)))"
   ]
  },
  {
   "cell_type": "markdown",
   "metadata": {},
   "source": [
    "## ВЫВОД\n",
    "Данные были очищены от пропусков и аномалий. Заполнены пропуски в типе кузова, по данным идентичных моделей.  \n",
    "Для предсказания цены автомобиля были обучены три модели: Линеная регрессия, CatBoost и LightGBM.\n",
    "\n",
    "Лучшую скорость показала линейная регрессия, но она обучалась без перебора метапараметров.\n",
    "Лучшее качество показала модель CatBoost.\n",
    "Модель LightGBM показала худшее из всех качество и скорость обучения. \n"
   ]
  }
 ],
 "metadata": {
  "ExecuteTimeLog": [
   {
    "duration": 1662,
    "start_time": "2023-07-19T14:22:20.436Z"
   },
   {
    "duration": 3,
    "start_time": "2023-07-19T14:22:22.101Z"
   },
   {
    "duration": 16,
    "start_time": "2023-07-19T14:22:22.105Z"
   },
   {
    "duration": 2930,
    "start_time": "2023-07-19T14:22:22.123Z"
   },
   {
    "duration": 19,
    "start_time": "2023-07-19T14:22:25.055Z"
   },
   {
    "duration": 37,
    "start_time": "2023-07-19T14:22:25.076Z"
   },
   {
    "duration": 494,
    "start_time": "2023-07-19T14:22:25.115Z"
   },
   {
    "duration": 0,
    "start_time": "2023-07-19T14:22:25.612Z"
   },
   {
    "duration": 0,
    "start_time": "2023-07-19T14:22:25.613Z"
   },
   {
    "duration": 0,
    "start_time": "2023-07-19T14:22:25.614Z"
   },
   {
    "duration": 0,
    "start_time": "2023-07-19T14:22:25.615Z"
   },
   {
    "duration": 0,
    "start_time": "2023-07-19T14:22:25.616Z"
   },
   {
    "duration": 0,
    "start_time": "2023-07-19T14:22:25.617Z"
   },
   {
    "duration": 0,
    "start_time": "2023-07-19T14:22:25.618Z"
   },
   {
    "duration": 0,
    "start_time": "2023-07-19T14:22:25.619Z"
   },
   {
    "duration": 0,
    "start_time": "2023-07-19T14:22:25.620Z"
   },
   {
    "duration": 0,
    "start_time": "2023-07-19T14:22:25.621Z"
   },
   {
    "duration": 0,
    "start_time": "2023-07-19T14:22:25.622Z"
   },
   {
    "duration": 0,
    "start_time": "2023-07-19T14:22:25.623Z"
   },
   {
    "duration": 0,
    "start_time": "2023-07-19T14:22:25.624Z"
   },
   {
    "duration": 0,
    "start_time": "2023-07-19T14:22:25.625Z"
   },
   {
    "duration": 0,
    "start_time": "2023-07-19T14:22:25.626Z"
   },
   {
    "duration": 0,
    "start_time": "2023-07-19T14:22:25.627Z"
   },
   {
    "duration": 0,
    "start_time": "2023-07-19T14:22:25.659Z"
   },
   {
    "duration": 0,
    "start_time": "2023-07-19T14:22:25.660Z"
   },
   {
    "duration": 0,
    "start_time": "2023-07-19T14:22:25.662Z"
   },
   {
    "duration": 0,
    "start_time": "2023-07-19T14:22:25.662Z"
   },
   {
    "duration": 0,
    "start_time": "2023-07-19T14:22:25.663Z"
   },
   {
    "duration": 0,
    "start_time": "2023-07-19T14:22:25.665Z"
   },
   {
    "duration": 0,
    "start_time": "2023-07-19T14:22:25.665Z"
   },
   {
    "duration": 0,
    "start_time": "2023-07-19T14:22:25.666Z"
   },
   {
    "duration": 0,
    "start_time": "2023-07-19T14:22:25.668Z"
   },
   {
    "duration": 0,
    "start_time": "2023-07-19T14:22:25.668Z"
   },
   {
    "duration": 0,
    "start_time": "2023-07-19T14:22:25.670Z"
   },
   {
    "duration": 0,
    "start_time": "2023-07-19T14:22:25.670Z"
   },
   {
    "duration": 0,
    "start_time": "2023-07-19T14:22:25.672Z"
   },
   {
    "duration": 0,
    "start_time": "2023-07-19T14:22:25.673Z"
   },
   {
    "duration": 0,
    "start_time": "2023-07-19T14:22:25.674Z"
   },
   {
    "duration": 0,
    "start_time": "2023-07-19T14:22:25.675Z"
   },
   {
    "duration": 0,
    "start_time": "2023-07-19T14:22:25.676Z"
   },
   {
    "duration": 0,
    "start_time": "2023-07-19T14:22:25.677Z"
   },
   {
    "duration": 3,
    "start_time": "2023-07-19T14:26:22.422Z"
   },
   {
    "duration": 330,
    "start_time": "2023-07-19T14:26:26.112Z"
   },
   {
    "duration": 3,
    "start_time": "2023-07-19T14:26:39.448Z"
   },
   {
    "duration": 334,
    "start_time": "2023-07-19T14:26:49.617Z"
   },
   {
    "duration": 4,
    "start_time": "2023-07-19T14:28:01.121Z"
   },
   {
    "duration": 310,
    "start_time": "2023-07-19T14:28:07.057Z"
   },
   {
    "duration": 4,
    "start_time": "2023-07-19T14:32:34.877Z"
   },
   {
    "duration": 656,
    "start_time": "2023-07-19T14:32:40.156Z"
   },
   {
    "duration": 4,
    "start_time": "2023-07-19T14:33:17.524Z"
   },
   {
    "duration": 615,
    "start_time": "2023-07-19T14:33:21.309Z"
   },
   {
    "duration": 354,
    "start_time": "2023-07-19T14:33:31.430Z"
   },
   {
    "duration": 30,
    "start_time": "2023-07-19T14:33:31.786Z"
   },
   {
    "duration": 84,
    "start_time": "2023-07-19T14:33:31.817Z"
   },
   {
    "duration": 59,
    "start_time": "2023-07-19T14:33:31.903Z"
   },
   {
    "duration": 78,
    "start_time": "2023-07-19T14:33:31.964Z"
   },
   {
    "duration": 0,
    "start_time": "2023-07-19T14:33:32.045Z"
   },
   {
    "duration": 0,
    "start_time": "2023-07-19T14:33:32.047Z"
   },
   {
    "duration": 0,
    "start_time": "2023-07-19T14:33:32.049Z"
   },
   {
    "duration": 0,
    "start_time": "2023-07-19T14:33:32.143Z"
   },
   {
    "duration": 0,
    "start_time": "2023-07-19T14:33:32.145Z"
   },
   {
    "duration": 0,
    "start_time": "2023-07-19T14:33:32.158Z"
   },
   {
    "duration": 0,
    "start_time": "2023-07-19T14:33:32.161Z"
   },
   {
    "duration": 0,
    "start_time": "2023-07-19T14:33:32.162Z"
   },
   {
    "duration": 0,
    "start_time": "2023-07-19T14:33:32.164Z"
   },
   {
    "duration": 0,
    "start_time": "2023-07-19T14:33:32.166Z"
   },
   {
    "duration": 0,
    "start_time": "2023-07-19T14:33:32.167Z"
   },
   {
    "duration": 0,
    "start_time": "2023-07-19T14:33:32.169Z"
   },
   {
    "duration": 0,
    "start_time": "2023-07-19T14:33:32.170Z"
   },
   {
    "duration": 0,
    "start_time": "2023-07-19T14:33:32.172Z"
   },
   {
    "duration": 0,
    "start_time": "2023-07-19T14:33:32.173Z"
   },
   {
    "duration": 0,
    "start_time": "2023-07-19T14:33:32.174Z"
   },
   {
    "duration": 0,
    "start_time": "2023-07-19T14:33:32.175Z"
   },
   {
    "duration": 0,
    "start_time": "2023-07-19T14:33:32.177Z"
   },
   {
    "duration": 0,
    "start_time": "2023-07-19T14:33:32.177Z"
   },
   {
    "duration": 0,
    "start_time": "2023-07-19T14:33:32.179Z"
   },
   {
    "duration": 0,
    "start_time": "2023-07-19T14:33:32.180Z"
   },
   {
    "duration": 0,
    "start_time": "2023-07-19T14:33:32.181Z"
   },
   {
    "duration": 0,
    "start_time": "2023-07-19T14:33:32.182Z"
   },
   {
    "duration": 0,
    "start_time": "2023-07-19T14:33:32.184Z"
   },
   {
    "duration": 0,
    "start_time": "2023-07-19T14:33:32.184Z"
   },
   {
    "duration": 0,
    "start_time": "2023-07-19T14:33:32.186Z"
   },
   {
    "duration": 0,
    "start_time": "2023-07-19T14:33:32.187Z"
   },
   {
    "duration": 0,
    "start_time": "2023-07-19T14:33:32.188Z"
   },
   {
    "duration": 0,
    "start_time": "2023-07-19T14:33:32.189Z"
   },
   {
    "duration": 16,
    "start_time": "2023-07-19T14:34:07.854Z"
   },
   {
    "duration": 0,
    "start_time": "2023-07-19T14:34:07.872Z"
   },
   {
    "duration": 0,
    "start_time": "2023-07-19T14:34:07.873Z"
   },
   {
    "duration": 0,
    "start_time": "2023-07-19T14:34:07.874Z"
   },
   {
    "duration": 0,
    "start_time": "2023-07-19T14:34:07.876Z"
   },
   {
    "duration": 0,
    "start_time": "2023-07-19T14:34:07.877Z"
   },
   {
    "duration": 0,
    "start_time": "2023-07-19T14:34:07.878Z"
   },
   {
    "duration": 0,
    "start_time": "2023-07-19T14:34:07.879Z"
   },
   {
    "duration": 0,
    "start_time": "2023-07-19T14:34:07.880Z"
   },
   {
    "duration": 0,
    "start_time": "2023-07-19T14:34:07.881Z"
   },
   {
    "duration": 13,
    "start_time": "2023-07-19T14:34:07.890Z"
   },
   {
    "duration": 0,
    "start_time": "2023-07-19T14:34:07.905Z"
   },
   {
    "duration": 0,
    "start_time": "2023-07-19T14:34:07.906Z"
   },
   {
    "duration": 0,
    "start_time": "2023-07-19T14:34:07.907Z"
   },
   {
    "duration": 0,
    "start_time": "2023-07-19T14:34:07.909Z"
   },
   {
    "duration": 0,
    "start_time": "2023-07-19T14:34:07.910Z"
   },
   {
    "duration": 0,
    "start_time": "2023-07-19T14:34:07.911Z"
   },
   {
    "duration": 0,
    "start_time": "2023-07-19T14:34:07.960Z"
   },
   {
    "duration": 0,
    "start_time": "2023-07-19T14:34:07.961Z"
   },
   {
    "duration": 0,
    "start_time": "2023-07-19T14:34:07.962Z"
   },
   {
    "duration": 0,
    "start_time": "2023-07-19T14:34:07.962Z"
   },
   {
    "duration": 0,
    "start_time": "2023-07-19T14:34:07.963Z"
   },
   {
    "duration": 0,
    "start_time": "2023-07-19T14:34:07.964Z"
   },
   {
    "duration": 0,
    "start_time": "2023-07-19T14:34:07.965Z"
   },
   {
    "duration": 0,
    "start_time": "2023-07-19T14:34:07.966Z"
   },
   {
    "duration": 0,
    "start_time": "2023-07-19T14:34:07.968Z"
   },
   {
    "duration": 0,
    "start_time": "2023-07-19T14:34:07.969Z"
   },
   {
    "duration": 0,
    "start_time": "2023-07-19T14:34:07.970Z"
   },
   {
    "duration": 0,
    "start_time": "2023-07-19T14:34:07.971Z"
   },
   {
    "duration": 15,
    "start_time": "2023-07-19T14:34:34.998Z"
   },
   {
    "duration": 28,
    "start_time": "2023-07-19T14:35:17.856Z"
   },
   {
    "duration": 38,
    "start_time": "2023-07-19T14:36:02.514Z"
   },
   {
    "duration": 46,
    "start_time": "2023-07-19T14:36:09.834Z"
   },
   {
    "duration": 27,
    "start_time": "2023-07-19T14:36:21.119Z"
   },
   {
    "duration": 29,
    "start_time": "2023-07-19T14:36:56.640Z"
   },
   {
    "duration": 39,
    "start_time": "2023-07-19T14:36:56.671Z"
   },
   {
    "duration": 75,
    "start_time": "2023-07-19T14:36:56.712Z"
   },
   {
    "duration": 124,
    "start_time": "2023-07-19T14:36:56.789Z"
   },
   {
    "duration": 27,
    "start_time": "2023-07-19T14:36:56.916Z"
   },
   {
    "duration": 185,
    "start_time": "2023-07-19T14:36:56.945Z"
   },
   {
    "duration": 33,
    "start_time": "2023-07-19T14:36:57.131Z"
   },
   {
    "duration": 37,
    "start_time": "2023-07-19T14:36:57.166Z"
   },
   {
    "duration": 0,
    "start_time": "2023-07-19T14:36:57.205Z"
   },
   {
    "duration": 0,
    "start_time": "2023-07-19T14:36:57.206Z"
   },
   {
    "duration": 0,
    "start_time": "2023-07-19T14:36:57.208Z"
   },
   {
    "duration": 0,
    "start_time": "2023-07-19T14:36:57.208Z"
   },
   {
    "duration": 0,
    "start_time": "2023-07-19T14:36:57.209Z"
   },
   {
    "duration": 0,
    "start_time": "2023-07-19T14:36:57.210Z"
   },
   {
    "duration": 0,
    "start_time": "2023-07-19T14:36:57.211Z"
   },
   {
    "duration": 0,
    "start_time": "2023-07-19T14:36:57.212Z"
   },
   {
    "duration": 0,
    "start_time": "2023-07-19T14:36:57.213Z"
   },
   {
    "duration": 0,
    "start_time": "2023-07-19T14:36:57.214Z"
   },
   {
    "duration": 0,
    "start_time": "2023-07-19T14:36:57.216Z"
   },
   {
    "duration": 0,
    "start_time": "2023-07-19T14:36:57.217Z"
   },
   {
    "duration": 0,
    "start_time": "2023-07-19T14:36:57.218Z"
   },
   {
    "duration": 0,
    "start_time": "2023-07-19T14:36:57.219Z"
   },
   {
    "duration": 0,
    "start_time": "2023-07-19T14:36:57.220Z"
   },
   {
    "duration": 0,
    "start_time": "2023-07-19T14:36:57.260Z"
   },
   {
    "duration": 0,
    "start_time": "2023-07-19T14:36:57.261Z"
   },
   {
    "duration": 0,
    "start_time": "2023-07-19T14:36:57.262Z"
   },
   {
    "duration": 0,
    "start_time": "2023-07-19T14:36:57.263Z"
   },
   {
    "duration": 0,
    "start_time": "2023-07-19T14:36:57.264Z"
   },
   {
    "duration": 54,
    "start_time": "2023-07-19T14:37:11.662Z"
   },
   {
    "duration": 25,
    "start_time": "2023-07-19T14:37:14.478Z"
   },
   {
    "duration": 24,
    "start_time": "2023-07-19T14:37:19.087Z"
   },
   {
    "duration": 40,
    "start_time": "2023-07-19T14:37:19.113Z"
   },
   {
    "duration": 130,
    "start_time": "2023-07-19T14:37:19.155Z"
   },
   {
    "duration": 10,
    "start_time": "2023-07-19T14:37:19.287Z"
   },
   {
    "duration": 58,
    "start_time": "2023-07-19T14:37:19.299Z"
   },
   {
    "duration": 21,
    "start_time": "2023-07-19T14:37:19.359Z"
   },
   {
    "duration": 27,
    "start_time": "2023-07-19T14:37:19.381Z"
   },
   {
    "duration": 39,
    "start_time": "2023-07-19T14:37:19.410Z"
   },
   {
    "duration": 22,
    "start_time": "2023-07-19T14:37:19.451Z"
   },
   {
    "duration": 0,
    "start_time": "2023-07-19T14:37:19.474Z"
   },
   {
    "duration": 0,
    "start_time": "2023-07-19T14:37:19.476Z"
   },
   {
    "duration": 0,
    "start_time": "2023-07-19T14:37:19.477Z"
   },
   {
    "duration": 0,
    "start_time": "2023-07-19T14:37:19.478Z"
   },
   {
    "duration": 0,
    "start_time": "2023-07-19T14:37:19.479Z"
   },
   {
    "duration": 0,
    "start_time": "2023-07-19T14:37:19.480Z"
   },
   {
    "duration": 0,
    "start_time": "2023-07-19T14:37:19.481Z"
   },
   {
    "duration": 0,
    "start_time": "2023-07-19T14:37:19.482Z"
   },
   {
    "duration": 0,
    "start_time": "2023-07-19T14:37:19.483Z"
   },
   {
    "duration": 0,
    "start_time": "2023-07-19T14:37:19.485Z"
   },
   {
    "duration": 0,
    "start_time": "2023-07-19T14:37:19.486Z"
   },
   {
    "duration": 27,
    "start_time": "2023-07-19T14:37:33.084Z"
   },
   {
    "duration": 21,
    "start_time": "2023-07-19T14:37:38.935Z"
   },
   {
    "duration": 42,
    "start_time": "2023-07-19T14:37:38.958Z"
   },
   {
    "duration": 3,
    "start_time": "2023-07-19T14:37:39.001Z"
   },
   {
    "duration": 43,
    "start_time": "2023-07-19T14:37:39.006Z"
   },
   {
    "duration": 32,
    "start_time": "2023-07-19T14:37:39.059Z"
   },
   {
    "duration": 13999,
    "start_time": "2023-07-19T14:37:39.093Z"
   },
   {
    "duration": 25560,
    "start_time": "2023-07-19T14:37:53.094Z"
   },
   {
    "duration": 2,
    "start_time": "2023-07-19T14:38:18.656Z"
   },
   {
    "duration": 82,
    "start_time": "2023-07-19T14:38:18.660Z"
   },
   {
    "duration": 0,
    "start_time": "2023-07-19T14:38:18.743Z"
   },
   {
    "duration": 0,
    "start_time": "2023-07-19T14:38:18.744Z"
   },
   {
    "duration": 0,
    "start_time": "2023-07-19T14:38:18.745Z"
   },
   {
    "duration": 3,
    "start_time": "2023-07-19T14:39:23.870Z"
   },
   {
    "duration": 424695,
    "start_time": "2023-07-19T14:39:23.874Z"
   },
   {
    "duration": 191,
    "start_time": "2023-07-19T14:46:28.571Z"
   },
   {
    "duration": 805,
    "start_time": "2023-07-19T14:46:28.764Z"
   },
   {
    "duration": 2838,
    "start_time": "2023-07-19T15:37:59.017Z"
   },
   {
    "duration": 3,
    "start_time": "2023-07-19T15:38:01.857Z"
   },
   {
    "duration": 66,
    "start_time": "2023-07-19T15:38:01.862Z"
   },
   {
    "duration": 1275,
    "start_time": "2023-07-19T15:38:01.930Z"
   },
   {
    "duration": 20,
    "start_time": "2023-07-19T15:38:03.207Z"
   },
   {
    "duration": 117,
    "start_time": "2023-07-19T15:38:03.228Z"
   },
   {
    "duration": 713,
    "start_time": "2023-07-19T15:38:03.347Z"
   },
   {
    "duration": 360,
    "start_time": "2023-07-19T15:38:04.062Z"
   },
   {
    "duration": 37,
    "start_time": "2023-07-19T15:38:04.424Z"
   },
   {
    "duration": 36,
    "start_time": "2023-07-19T15:38:04.463Z"
   },
   {
    "duration": 50,
    "start_time": "2023-07-19T15:38:04.501Z"
   },
   {
    "duration": 55,
    "start_time": "2023-07-19T15:38:04.553Z"
   },
   {
    "duration": 38,
    "start_time": "2023-07-19T15:38:04.610Z"
   },
   {
    "duration": 44,
    "start_time": "2023-07-19T15:38:04.651Z"
   },
   {
    "duration": 70,
    "start_time": "2023-07-19T15:38:04.697Z"
   },
   {
    "duration": 249,
    "start_time": "2023-07-19T15:38:04.769Z"
   },
   {
    "duration": 29,
    "start_time": "2023-07-19T15:38:05.020Z"
   },
   {
    "duration": 215,
    "start_time": "2023-07-19T15:38:05.051Z"
   },
   {
    "duration": 37,
    "start_time": "2023-07-19T15:38:05.268Z"
   },
   {
    "duration": 152,
    "start_time": "2023-07-19T15:38:05.307Z"
   },
   {
    "duration": 27,
    "start_time": "2023-07-19T15:38:05.461Z"
   },
   {
    "duration": 68,
    "start_time": "2023-07-19T15:38:05.490Z"
   },
   {
    "duration": 128,
    "start_time": "2023-07-19T15:38:05.560Z"
   },
   {
    "duration": 11,
    "start_time": "2023-07-19T15:38:05.689Z"
   },
   {
    "duration": 45,
    "start_time": "2023-07-19T15:38:05.702Z"
   },
   {
    "duration": 32,
    "start_time": "2023-07-19T15:38:05.749Z"
   },
   {
    "duration": 32,
    "start_time": "2023-07-19T15:38:05.782Z"
   },
   {
    "duration": 67,
    "start_time": "2023-07-19T15:38:05.816Z"
   },
   {
    "duration": 57,
    "start_time": "2023-07-19T15:38:05.884Z"
   },
   {
    "duration": 48,
    "start_time": "2023-07-19T15:38:05.943Z"
   },
   {
    "duration": 97,
    "start_time": "2023-07-19T15:38:05.994Z"
   },
   {
    "duration": 75,
    "start_time": "2023-07-19T15:38:06.093Z"
   },
   {
    "duration": 45,
    "start_time": "2023-07-19T15:38:06.170Z"
   },
   {
    "duration": 17661,
    "start_time": "2023-07-19T15:38:06.217Z"
   },
   {
    "duration": 26123,
    "start_time": "2023-07-19T15:38:23.880Z"
   },
   {
    "duration": 2,
    "start_time": "2023-07-19T15:38:50.005Z"
   },
   {
    "duration": 28,
    "start_time": "2023-07-19T15:38:50.009Z"
   },
   {
    "duration": 50,
    "start_time": "2023-07-19T17:55:23.049Z"
   },
   {
    "duration": 135,
    "start_time": "2023-07-19T17:56:22.182Z"
   },
   {
    "duration": 163,
    "start_time": "2023-07-19T18:02:29.949Z"
   },
   {
    "duration": 1775,
    "start_time": "2023-07-20T04:44:58.410Z"
   },
   {
    "duration": 3,
    "start_time": "2023-07-20T04:45:00.188Z"
   },
   {
    "duration": 35,
    "start_time": "2023-07-20T04:45:00.192Z"
   },
   {
    "duration": 1231,
    "start_time": "2023-07-20T04:45:00.229Z"
   },
   {
    "duration": 17,
    "start_time": "2023-07-20T04:45:01.463Z"
   },
   {
    "duration": 140,
    "start_time": "2023-07-20T04:45:01.481Z"
   },
   {
    "duration": 657,
    "start_time": "2023-07-20T04:45:01.622Z"
   },
   {
    "duration": 322,
    "start_time": "2023-07-20T04:45:02.281Z"
   },
   {
    "duration": 33,
    "start_time": "2023-07-20T04:45:02.605Z"
   },
   {
    "duration": 37,
    "start_time": "2023-07-20T04:45:02.639Z"
   },
   {
    "duration": 52,
    "start_time": "2023-07-20T04:45:02.677Z"
   },
   {
    "duration": 68,
    "start_time": "2023-07-20T04:45:02.730Z"
   },
   {
    "duration": 23,
    "start_time": "2023-07-20T04:45:02.799Z"
   },
   {
    "duration": 50,
    "start_time": "2023-07-20T04:45:02.825Z"
   },
   {
    "duration": 116,
    "start_time": "2023-07-20T04:45:02.877Z"
   },
   {
    "duration": 175,
    "start_time": "2023-07-20T04:45:02.995Z"
   },
   {
    "duration": 20,
    "start_time": "2023-07-20T04:45:03.171Z"
   },
   {
    "duration": 179,
    "start_time": "2023-07-20T04:45:03.193Z"
   },
   {
    "duration": 22,
    "start_time": "2023-07-20T04:45:03.374Z"
   },
   {
    "duration": 79,
    "start_time": "2023-07-20T04:45:03.398Z"
   },
   {
    "duration": 22,
    "start_time": "2023-07-20T04:45:03.478Z"
   },
   {
    "duration": 47,
    "start_time": "2023-07-20T04:45:03.502Z"
   },
   {
    "duration": 122,
    "start_time": "2023-07-20T04:45:03.550Z"
   },
   {
    "duration": 9,
    "start_time": "2023-07-20T04:45:03.674Z"
   },
   {
    "duration": 18,
    "start_time": "2023-07-20T04:45:03.684Z"
   },
   {
    "duration": 12,
    "start_time": "2023-07-20T04:45:03.704Z"
   },
   {
    "duration": 40,
    "start_time": "2023-07-20T04:45:03.718Z"
   },
   {
    "duration": 32,
    "start_time": "2023-07-20T04:45:03.759Z"
   },
   {
    "duration": 21,
    "start_time": "2023-07-20T04:45:03.793Z"
   },
   {
    "duration": 44,
    "start_time": "2023-07-20T04:45:03.816Z"
   },
   {
    "duration": 2,
    "start_time": "2023-07-20T04:45:03.862Z"
   },
   {
    "duration": 49,
    "start_time": "2023-07-20T04:45:03.866Z"
   },
   {
    "duration": 50,
    "start_time": "2023-07-20T04:45:03.917Z"
   },
   {
    "duration": 135,
    "start_time": "2023-07-20T04:45:03.969Z"
   },
   {
    "duration": 0,
    "start_time": "2023-07-20T04:45:04.106Z"
   },
   {
    "duration": 0,
    "start_time": "2023-07-20T04:45:04.107Z"
   },
   {
    "duration": 0,
    "start_time": "2023-07-20T04:45:04.108Z"
   },
   {
    "duration": 0,
    "start_time": "2023-07-20T04:45:04.109Z"
   },
   {
    "duration": 1,
    "start_time": "2023-07-20T04:45:04.110Z"
   },
   {
    "duration": 0,
    "start_time": "2023-07-20T04:45:04.111Z"
   },
   {
    "duration": 294,
    "start_time": "2023-07-20T04:53:32.441Z"
   },
   {
    "duration": 22,
    "start_time": "2023-07-20T04:55:04.754Z"
   },
   {
    "duration": 272,
    "start_time": "2023-07-20T04:55:11.161Z"
   },
   {
    "duration": 225,
    "start_time": "2023-07-20T04:55:46.897Z"
   },
   {
    "duration": 225,
    "start_time": "2023-07-20T04:56:26.208Z"
   },
   {
    "duration": 21,
    "start_time": "2023-07-20T04:58:10.418Z"
   },
   {
    "duration": 5,
    "start_time": "2023-07-20T04:58:39.577Z"
   },
   {
    "duration": 4,
    "start_time": "2023-07-20T04:59:11.802Z"
   },
   {
    "duration": 228,
    "start_time": "2023-07-20T04:59:54.210Z"
   },
   {
    "duration": 1650,
    "start_time": "2023-07-20T05:14:27.815Z"
   },
   {
    "duration": 3,
    "start_time": "2023-07-20T05:14:29.467Z"
   },
   {
    "duration": 8,
    "start_time": "2023-07-20T05:14:29.472Z"
   },
   {
    "duration": 852,
    "start_time": "2023-07-20T05:14:29.482Z"
   },
   {
    "duration": 22,
    "start_time": "2023-07-20T05:14:30.336Z"
   },
   {
    "duration": 52,
    "start_time": "2023-07-20T05:14:30.360Z"
   },
   {
    "duration": 703,
    "start_time": "2023-07-20T05:14:30.414Z"
   },
   {
    "duration": 377,
    "start_time": "2023-07-20T05:14:31.118Z"
   },
   {
    "duration": 32,
    "start_time": "2023-07-20T05:14:31.497Z"
   },
   {
    "duration": 54,
    "start_time": "2023-07-20T05:14:31.531Z"
   },
   {
    "duration": 69,
    "start_time": "2023-07-20T05:14:31.586Z"
   },
   {
    "duration": 79,
    "start_time": "2023-07-20T05:14:31.657Z"
   },
   {
    "duration": 93,
    "start_time": "2023-07-20T05:14:31.738Z"
   },
   {
    "duration": 47,
    "start_time": "2023-07-20T05:14:31.834Z"
   },
   {
    "duration": 61,
    "start_time": "2023-07-20T05:14:31.883Z"
   },
   {
    "duration": 192,
    "start_time": "2023-07-20T05:14:31.946Z"
   },
   {
    "duration": 28,
    "start_time": "2023-07-20T05:14:32.140Z"
   },
   {
    "duration": 167,
    "start_time": "2023-07-20T05:14:32.170Z"
   },
   {
    "duration": 28,
    "start_time": "2023-07-20T05:14:32.338Z"
   },
   {
    "duration": 65,
    "start_time": "2023-07-20T05:14:32.368Z"
   },
   {
    "duration": 22,
    "start_time": "2023-07-20T05:14:32.435Z"
   },
   {
    "duration": 34,
    "start_time": "2023-07-20T05:14:32.459Z"
   },
   {
    "duration": 149,
    "start_time": "2023-07-20T05:14:32.495Z"
   },
   {
    "duration": 10,
    "start_time": "2023-07-20T05:14:32.651Z"
   },
   {
    "duration": 36,
    "start_time": "2023-07-20T05:14:32.663Z"
   },
   {
    "duration": 14,
    "start_time": "2023-07-20T05:14:32.700Z"
   },
   {
    "duration": 26,
    "start_time": "2023-07-20T05:14:32.715Z"
   },
   {
    "duration": 45,
    "start_time": "2023-07-20T05:14:32.751Z"
   },
   {
    "duration": 31,
    "start_time": "2023-07-20T05:14:32.798Z"
   },
   {
    "duration": 48,
    "start_time": "2023-07-20T05:14:32.831Z"
   },
   {
    "duration": 17,
    "start_time": "2023-07-20T05:14:32.881Z"
   },
   {
    "duration": 61,
    "start_time": "2023-07-20T05:14:32.900Z"
   },
   {
    "duration": 36,
    "start_time": "2023-07-20T05:14:32.963Z"
   },
   {
    "duration": 211,
    "start_time": "2023-07-20T05:14:33.001Z"
   },
   {
    "duration": 0,
    "start_time": "2023-07-20T05:14:33.213Z"
   },
   {
    "duration": 0,
    "start_time": "2023-07-20T05:14:33.215Z"
   },
   {
    "duration": 0,
    "start_time": "2023-07-20T05:14:33.216Z"
   },
   {
    "duration": 0,
    "start_time": "2023-07-20T05:14:33.217Z"
   },
   {
    "duration": 0,
    "start_time": "2023-07-20T05:14:33.218Z"
   },
   {
    "duration": 0,
    "start_time": "2023-07-20T05:14:33.220Z"
   },
   {
    "duration": 295,
    "start_time": "2023-07-20T05:14:55.932Z"
   },
   {
    "duration": 270,
    "start_time": "2023-07-20T05:15:34.405Z"
   },
   {
    "duration": 23,
    "start_time": "2023-07-20T05:17:57.157Z"
   },
   {
    "duration": 5,
    "start_time": "2023-07-20T05:19:01.524Z"
   },
   {
    "duration": 323,
    "start_time": "2023-07-20T05:19:06.390Z"
   },
   {
    "duration": 27,
    "start_time": "2023-07-20T05:19:46.839Z"
   },
   {
    "duration": 300,
    "start_time": "2023-07-20T05:19:56.590Z"
   },
   {
    "duration": 287,
    "start_time": "2023-07-20T05:20:44.896Z"
   },
   {
    "duration": 278,
    "start_time": "2023-07-20T05:21:15.912Z"
   },
   {
    "duration": 138,
    "start_time": "2023-07-20T05:21:54.297Z"
   },
   {
    "duration": 23,
    "start_time": "2023-07-20T05:22:02.752Z"
   },
   {
    "duration": 20828,
    "start_time": "2023-07-20T05:22:09.167Z"
   },
   {
    "duration": 20783,
    "start_time": "2023-07-20T05:23:04.297Z"
   },
   {
    "duration": 21301,
    "start_time": "2023-07-20T05:23:33.584Z"
   },
   {
    "duration": 21719,
    "start_time": "2023-07-20T05:24:18.680Z"
   },
   {
    "duration": 4,
    "start_time": "2023-07-20T05:28:55.765Z"
   },
   {
    "duration": 7,
    "start_time": "2023-07-20T05:28:55.771Z"
   },
   {
    "duration": 10,
    "start_time": "2023-07-20T05:28:55.780Z"
   },
   {
    "duration": 893,
    "start_time": "2023-07-20T05:28:55.792Z"
   },
   {
    "duration": 13,
    "start_time": "2023-07-20T05:28:56.687Z"
   },
   {
    "duration": 30,
    "start_time": "2023-07-20T05:28:56.702Z"
   },
   {
    "duration": 647,
    "start_time": "2023-07-20T05:28:56.733Z"
   },
   {
    "duration": 356,
    "start_time": "2023-07-20T05:28:57.383Z"
   },
   {
    "duration": 40,
    "start_time": "2023-07-20T05:28:57.741Z"
   },
   {
    "duration": 26,
    "start_time": "2023-07-20T05:28:57.782Z"
   },
   {
    "duration": 45,
    "start_time": "2023-07-20T05:28:57.810Z"
   },
   {
    "duration": 27,
    "start_time": "2023-07-20T05:29:05.464Z"
   },
   {
    "duration": 432,
    "start_time": "2023-07-20T05:41:55.333Z"
   },
   {
    "duration": 145,
    "start_time": "2023-07-20T05:42:39.669Z"
   },
   {
    "duration": 187,
    "start_time": "2023-07-20T05:42:48.352Z"
   },
   {
    "duration": 114,
    "start_time": "2023-07-20T05:43:51.576Z"
   },
   {
    "duration": 14,
    "start_time": "2023-07-20T05:44:50.328Z"
   },
   {
    "duration": 12,
    "start_time": "2023-07-20T05:45:14.334Z"
   },
   {
    "duration": 11,
    "start_time": "2023-07-20T05:45:22.286Z"
   },
   {
    "duration": 13,
    "start_time": "2023-07-20T05:45:43.310Z"
   },
   {
    "duration": 27,
    "start_time": "2023-07-20T05:46:11.152Z"
   },
   {
    "duration": 11,
    "start_time": "2023-07-20T05:46:26.024Z"
   },
   {
    "duration": 20,
    "start_time": "2023-07-20T05:46:37.841Z"
   },
   {
    "duration": 11,
    "start_time": "2023-07-20T05:46:41.267Z"
   },
   {
    "duration": 1235,
    "start_time": "2023-07-20T05:47:17.337Z"
   },
   {
    "duration": 3,
    "start_time": "2023-07-20T05:47:56.225Z"
   },
   {
    "duration": 6,
    "start_time": "2023-07-20T05:48:01.594Z"
   },
   {
    "duration": 837,
    "start_time": "2023-07-20T05:48:08.690Z"
   },
   {
    "duration": 16,
    "start_time": "2023-07-20T05:48:46.291Z"
   },
   {
    "duration": 542,
    "start_time": "2023-07-20T05:54:32.045Z"
   },
   {
    "duration": 697,
    "start_time": "2023-07-20T05:55:24.048Z"
   },
   {
    "duration": 12,
    "start_time": "2023-07-20T05:55:59.544Z"
   },
   {
    "duration": 20,
    "start_time": "2023-07-20T06:27:30.943Z"
   },
   {
    "duration": 11,
    "start_time": "2023-07-20T06:27:39.359Z"
   },
   {
    "duration": 10,
    "start_time": "2023-07-20T06:28:13.398Z"
   },
   {
    "duration": 626,
    "start_time": "2023-07-20T06:28:18.543Z"
   },
   {
    "duration": 10,
    "start_time": "2023-07-20T06:28:37.900Z"
   },
   {
    "duration": 187,
    "start_time": "2023-07-20T06:28:43.652Z"
   },
   {
    "duration": 895,
    "start_time": "2023-07-20T06:28:57.376Z"
   },
   {
    "duration": 18,
    "start_time": "2023-07-20T06:29:16.782Z"
   },
   {
    "duration": 35,
    "start_time": "2023-07-20T06:29:22.814Z"
   },
   {
    "duration": 830,
    "start_time": "2023-07-20T06:29:38.797Z"
   },
   {
    "duration": 13,
    "start_time": "2023-07-20T06:30:02.319Z"
   },
   {
    "duration": 21,
    "start_time": "2023-07-20T06:30:11.086Z"
   },
   {
    "duration": 5,
    "start_time": "2023-07-20T06:30:17.947Z"
   },
   {
    "duration": 6,
    "start_time": "2023-07-20T06:30:28.288Z"
   },
   {
    "duration": 681,
    "start_time": "2023-07-20T06:30:37.556Z"
   },
   {
    "duration": 74,
    "start_time": "2023-07-20T06:31:27.095Z"
   },
   {
    "duration": 32,
    "start_time": "2023-07-20T06:32:50.720Z"
   },
   {
    "duration": 21,
    "start_time": "2023-07-20T06:33:04.568Z"
   },
   {
    "duration": 83,
    "start_time": "2023-07-20T06:33:15.873Z"
   },
   {
    "duration": 77,
    "start_time": "2023-07-20T06:33:23.289Z"
   },
   {
    "duration": 4,
    "start_time": "2023-07-20T06:33:53.372Z"
   },
   {
    "duration": 28,
    "start_time": "2023-07-20T06:33:53.378Z"
   },
   {
    "duration": 10,
    "start_time": "2023-07-20T06:33:53.407Z"
   },
   {
    "duration": 800,
    "start_time": "2023-07-20T06:33:53.419Z"
   },
   {
    "duration": 20,
    "start_time": "2023-07-20T06:33:54.222Z"
   },
   {
    "duration": 28,
    "start_time": "2023-07-20T06:33:54.244Z"
   },
   {
    "duration": 606,
    "start_time": "2023-07-20T06:33:54.274Z"
   },
   {
    "duration": 351,
    "start_time": "2023-07-20T06:33:54.881Z"
   },
   {
    "duration": 38,
    "start_time": "2023-07-20T06:33:55.234Z"
   },
   {
    "duration": 28,
    "start_time": "2023-07-20T06:33:55.274Z"
   },
   {
    "duration": 55,
    "start_time": "2023-07-20T06:33:55.304Z"
   },
   {
    "duration": 50,
    "start_time": "2023-07-20T06:33:55.361Z"
   },
   {
    "duration": 7,
    "start_time": "2023-07-20T06:33:55.413Z"
   },
   {
    "duration": 854,
    "start_time": "2023-07-20T06:34:00.355Z"
   },
   {
    "duration": 1351,
    "start_time": "2023-07-20T06:34:07.215Z"
   },
   {
    "duration": 15,
    "start_time": "2023-07-20T06:34:36.680Z"
   },
   {
    "duration": 79,
    "start_time": "2023-07-20T06:35:30.473Z"
   },
   {
    "duration": 77,
    "start_time": "2023-07-20T06:36:46.453Z"
   },
   {
    "duration": 68,
    "start_time": "2023-07-20T06:36:53.466Z"
   },
   {
    "duration": 15,
    "start_time": "2023-07-20T06:38:29.083Z"
   },
   {
    "duration": 6,
    "start_time": "2023-07-20T06:38:34.579Z"
   },
   {
    "duration": 12,
    "start_time": "2023-07-20T06:38:56.707Z"
   },
   {
    "duration": 68,
    "start_time": "2023-07-20T06:39:01.945Z"
   },
   {
    "duration": 15,
    "start_time": "2023-07-20T06:42:11.843Z"
   },
   {
    "duration": 86,
    "start_time": "2023-07-20T06:42:23.448Z"
   },
   {
    "duration": 9,
    "start_time": "2023-07-20T06:42:40.910Z"
   },
   {
    "duration": 38,
    "start_time": "2023-07-20T06:42:45.654Z"
   },
   {
    "duration": 12,
    "start_time": "2023-07-20T06:44:18.063Z"
   },
   {
    "duration": 184,
    "start_time": "2023-07-20T06:46:02.042Z"
   },
   {
    "duration": 217,
    "start_time": "2023-07-20T06:46:13.281Z"
   },
   {
    "duration": 146,
    "start_time": "2023-07-20T06:46:19.720Z"
   },
   {
    "duration": 236,
    "start_time": "2023-07-20T06:46:22.161Z"
   },
   {
    "duration": 3727,
    "start_time": "2023-07-20T06:46:59.114Z"
   },
   {
    "duration": 37,
    "start_time": "2023-07-20T06:47:03.448Z"
   },
   {
    "duration": 4083,
    "start_time": "2023-07-20T06:47:44.756Z"
   },
   {
    "duration": 4,
    "start_time": "2023-07-20T06:48:05.447Z"
   },
   {
    "duration": 53,
    "start_time": "2023-07-20T06:48:05.453Z"
   },
   {
    "duration": 11,
    "start_time": "2023-07-20T06:48:05.508Z"
   },
   {
    "duration": 1079,
    "start_time": "2023-07-20T06:48:05.520Z"
   },
   {
    "duration": 14,
    "start_time": "2023-07-20T06:48:06.602Z"
   },
   {
    "duration": 27,
    "start_time": "2023-07-20T06:48:06.618Z"
   },
   {
    "duration": 655,
    "start_time": "2023-07-20T06:48:06.658Z"
   },
   {
    "duration": 367,
    "start_time": "2023-07-20T06:48:07.315Z"
   },
   {
    "duration": 28,
    "start_time": "2023-07-20T06:48:07.684Z"
   },
   {
    "duration": 44,
    "start_time": "2023-07-20T06:48:07.714Z"
   },
   {
    "duration": 46,
    "start_time": "2023-07-20T06:48:07.760Z"
   },
   {
    "duration": 28,
    "start_time": "2023-07-20T06:48:07.808Z"
   },
   {
    "duration": 26,
    "start_time": "2023-07-20T06:48:07.838Z"
   },
   {
    "duration": 123,
    "start_time": "2023-07-20T06:48:13.869Z"
   },
   {
    "duration": 4249,
    "start_time": "2023-07-20T06:48:34.220Z"
   },
   {
    "duration": 28,
    "start_time": "2023-07-20T06:48:38.714Z"
   },
   {
    "duration": 13,
    "start_time": "2023-07-20T06:49:40.647Z"
   },
   {
    "duration": 110,
    "start_time": "2023-07-20T06:50:23.544Z"
   },
   {
    "duration": 165,
    "start_time": "2023-07-20T06:51:00.632Z"
   },
   {
    "duration": 137,
    "start_time": "2023-07-20T06:52:56.198Z"
   },
   {
    "duration": 2618,
    "start_time": "2023-07-20T06:53:01.396Z"
   },
   {
    "duration": 68,
    "start_time": "2023-07-20T06:53:30.198Z"
   },
   {
    "duration": 68,
    "start_time": "2023-07-20T06:53:37.247Z"
   },
   {
    "duration": 148,
    "start_time": "2023-07-20T06:54:30.774Z"
   },
   {
    "duration": 2843,
    "start_time": "2023-07-20T06:54:47.590Z"
   },
   {
    "duration": 94,
    "start_time": "2023-07-20T06:54:56.343Z"
   },
   {
    "duration": 120,
    "start_time": "2023-07-20T06:55:16.902Z"
   },
   {
    "duration": 4097,
    "start_time": "2023-07-20T06:55:23.783Z"
   },
   {
    "duration": 41,
    "start_time": "2023-07-20T06:55:44.149Z"
   },
   {
    "duration": 97,
    "start_time": "2023-07-20T07:02:53.790Z"
   },
   {
    "duration": 24,
    "start_time": "2023-07-20T07:03:12.681Z"
   },
   {
    "duration": 2797,
    "start_time": "2023-07-20T07:03:20.867Z"
   },
   {
    "duration": 2898,
    "start_time": "2023-07-20T07:03:24.898Z"
   },
   {
    "duration": 42,
    "start_time": "2023-07-20T07:03:43.849Z"
   },
   {
    "duration": 25,
    "start_time": "2023-07-20T07:04:25.051Z"
   },
   {
    "duration": 15,
    "start_time": "2023-07-20T07:09:12.836Z"
   },
   {
    "duration": 3689,
    "start_time": "2023-07-20T07:09:41.028Z"
   },
   {
    "duration": 84,
    "start_time": "2023-07-20T07:09:47.553Z"
   },
   {
    "duration": 238,
    "start_time": "2023-07-20T07:10:10.261Z"
   },
   {
    "duration": 348,
    "start_time": "2023-07-20T07:15:28.441Z"
   },
   {
    "duration": 6,
    "start_time": "2023-07-20T07:15:49.633Z"
   },
   {
    "duration": 4617,
    "start_time": "2023-07-20T07:19:49.372Z"
   },
   {
    "duration": 1029,
    "start_time": "2023-07-20T07:20:30.545Z"
   },
   {
    "duration": 276,
    "start_time": "2023-07-20T07:21:38.012Z"
   },
   {
    "duration": 943,
    "start_time": "2023-07-20T07:21:55.509Z"
   },
   {
    "duration": 5492,
    "start_time": "2023-07-20T07:26:41.411Z"
   },
   {
    "duration": 315,
    "start_time": "2023-07-20T07:27:32.903Z"
   },
   {
    "duration": 403572,
    "start_time": "2023-07-20T07:31:15.786Z"
   },
   {
    "duration": 428,
    "start_time": "2023-07-20T07:37:59.361Z"
   },
   {
    "duration": 0,
    "start_time": "2023-07-20T07:37:59.790Z"
   },
   {
    "duration": 10,
    "start_time": "2023-07-20T07:39:07.384Z"
   },
   {
    "duration": 43,
    "start_time": "2023-07-20T07:42:08.281Z"
   },
   {
    "duration": 1028,
    "start_time": "2023-07-20T07:43:04.737Z"
   },
   {
    "duration": 36,
    "start_time": "2023-07-20T07:43:25.195Z"
   },
   {
    "duration": 35,
    "start_time": "2023-07-20T07:45:01.248Z"
   },
   {
    "duration": 41,
    "start_time": "2023-07-20T07:47:27.319Z"
   },
   {
    "duration": 33,
    "start_time": "2023-07-20T07:47:37.950Z"
   },
   {
    "duration": 33,
    "start_time": "2023-07-20T07:49:46.131Z"
   },
   {
    "duration": 40,
    "start_time": "2023-07-20T07:50:10.463Z"
   },
   {
    "duration": 37,
    "start_time": "2023-07-20T07:50:21.776Z"
   },
   {
    "duration": 36,
    "start_time": "2023-07-20T07:51:15.761Z"
   },
   {
    "duration": 5,
    "start_time": "2023-07-20T07:52:03.304Z"
   },
   {
    "duration": 491586,
    "start_time": "2023-07-20T07:52:11.968Z"
   },
   {
    "duration": 211,
    "start_time": "2023-07-20T08:03:00.549Z"
   },
   {
    "duration": 30854,
    "start_time": "2023-07-20T08:03:06.038Z"
   },
   {
    "duration": 938,
    "start_time": "2023-07-20T08:05:59.714Z"
   },
   {
    "duration": 2520,
    "start_time": "2023-07-20T08:20:06.247Z"
   },
   {
    "duration": 1724,
    "start_time": "2023-07-20T08:20:08.769Z"
   },
   {
    "duration": 4,
    "start_time": "2023-07-20T08:20:10.495Z"
   },
   {
    "duration": 19,
    "start_time": "2023-07-20T08:20:10.502Z"
   },
   {
    "duration": 973,
    "start_time": "2023-07-20T08:20:10.524Z"
   },
   {
    "duration": 17,
    "start_time": "2023-07-20T08:20:11.499Z"
   },
   {
    "duration": 39,
    "start_time": "2023-07-20T08:20:11.518Z"
   },
   {
    "duration": 650,
    "start_time": "2023-07-20T08:20:11.560Z"
   },
   {
    "duration": 437,
    "start_time": "2023-07-20T08:20:12.212Z"
   },
   {
    "duration": 36,
    "start_time": "2023-07-20T08:20:12.650Z"
   },
   {
    "duration": 26,
    "start_time": "2023-07-20T08:20:12.688Z"
   },
   {
    "duration": 46,
    "start_time": "2023-07-20T08:20:12.715Z"
   },
   {
    "duration": 127,
    "start_time": "2023-07-20T08:20:12.763Z"
   },
   {
    "duration": 42,
    "start_time": "2023-07-20T08:20:12.894Z"
   },
   {
    "duration": 268,
    "start_time": "2023-07-20T08:20:12.938Z"
   },
   {
    "duration": 0,
    "start_time": "2023-07-20T08:20:13.208Z"
   },
   {
    "duration": 0,
    "start_time": "2023-07-20T08:20:13.210Z"
   },
   {
    "duration": 0,
    "start_time": "2023-07-20T08:20:13.211Z"
   },
   {
    "duration": 0,
    "start_time": "2023-07-20T08:20:13.212Z"
   },
   {
    "duration": 0,
    "start_time": "2023-07-20T08:20:13.213Z"
   },
   {
    "duration": 0,
    "start_time": "2023-07-20T08:20:13.214Z"
   },
   {
    "duration": 0,
    "start_time": "2023-07-20T08:20:13.215Z"
   },
   {
    "duration": 0,
    "start_time": "2023-07-20T08:20:13.216Z"
   },
   {
    "duration": 0,
    "start_time": "2023-07-20T08:20:13.217Z"
   },
   {
    "duration": 0,
    "start_time": "2023-07-20T08:20:13.218Z"
   },
   {
    "duration": 0,
    "start_time": "2023-07-20T08:20:13.219Z"
   },
   {
    "duration": 0,
    "start_time": "2023-07-20T08:20:13.221Z"
   },
   {
    "duration": 0,
    "start_time": "2023-07-20T08:20:13.221Z"
   },
   {
    "duration": 0,
    "start_time": "2023-07-20T08:20:13.223Z"
   },
   {
    "duration": 0,
    "start_time": "2023-07-20T08:20:13.252Z"
   },
   {
    "duration": 0,
    "start_time": "2023-07-20T08:20:13.254Z"
   },
   {
    "duration": 0,
    "start_time": "2023-07-20T08:20:13.255Z"
   },
   {
    "duration": 0,
    "start_time": "2023-07-20T08:20:13.256Z"
   },
   {
    "duration": 0,
    "start_time": "2023-07-20T08:20:13.258Z"
   },
   {
    "duration": 0,
    "start_time": "2023-07-20T08:20:13.259Z"
   },
   {
    "duration": 0,
    "start_time": "2023-07-20T08:20:13.260Z"
   },
   {
    "duration": 0,
    "start_time": "2023-07-20T08:20:13.262Z"
   },
   {
    "duration": 0,
    "start_time": "2023-07-20T08:20:13.263Z"
   },
   {
    "duration": 0,
    "start_time": "2023-07-20T08:20:13.264Z"
   },
   {
    "duration": 0,
    "start_time": "2023-07-20T08:20:13.266Z"
   },
   {
    "duration": 0,
    "start_time": "2023-07-20T08:20:13.268Z"
   },
   {
    "duration": 0,
    "start_time": "2023-07-20T08:20:13.269Z"
   },
   {
    "duration": 0,
    "start_time": "2023-07-20T08:20:13.270Z"
   },
   {
    "duration": 0,
    "start_time": "2023-07-20T08:20:13.271Z"
   },
   {
    "duration": 121,
    "start_time": "2023-07-20T08:22:08.422Z"
   },
   {
    "duration": 127,
    "start_time": "2023-07-20T08:23:32.465Z"
   },
   {
    "duration": 112,
    "start_time": "2023-07-20T08:23:47.440Z"
   },
   {
    "duration": 247,
    "start_time": "2023-07-20T08:24:27.868Z"
   },
   {
    "duration": 532,
    "start_time": "2023-07-20T08:24:43.827Z"
   },
   {
    "duration": 187,
    "start_time": "2023-07-20T08:25:17.371Z"
   },
   {
    "duration": 373,
    "start_time": "2023-07-20T08:25:30.800Z"
   },
   {
    "duration": 263,
    "start_time": "2023-07-20T08:25:40.512Z"
   },
   {
    "duration": 4,
    "start_time": "2023-07-20T08:28:33.997Z"
   },
   {
    "duration": 4173,
    "start_time": "2023-07-20T08:28:51.742Z"
   },
   {
    "duration": 4178,
    "start_time": "2023-07-20T08:29:00.878Z"
   },
   {
    "duration": 25,
    "start_time": "2023-07-20T08:29:05.058Z"
   },
   {
    "duration": 37,
    "start_time": "2023-07-20T08:29:05.085Z"
   },
   {
    "duration": 38,
    "start_time": "2023-07-20T08:29:05.124Z"
   },
   {
    "duration": 44,
    "start_time": "2023-07-20T08:29:05.164Z"
   },
   {
    "duration": 109,
    "start_time": "2023-07-20T08:29:05.209Z"
   },
   {
    "duration": 38,
    "start_time": "2023-07-20T08:29:05.320Z"
   },
   {
    "duration": 178,
    "start_time": "2023-07-20T08:29:05.360Z"
   },
   {
    "duration": 30,
    "start_time": "2023-07-20T08:29:05.540Z"
   },
   {
    "duration": 160,
    "start_time": "2023-07-20T08:29:05.573Z"
   },
   {
    "duration": 68,
    "start_time": "2023-07-20T08:29:05.734Z"
   },
   {
    "duration": 71,
    "start_time": "2023-07-20T08:29:05.806Z"
   },
   {
    "duration": 135,
    "start_time": "2023-07-20T08:29:05.879Z"
   },
   {
    "duration": 10,
    "start_time": "2023-07-20T08:29:06.017Z"
   },
   {
    "duration": 56,
    "start_time": "2023-07-20T08:29:06.029Z"
   },
   {
    "duration": 57,
    "start_time": "2023-07-20T08:29:06.087Z"
   },
   {
    "duration": 86,
    "start_time": "2023-07-20T08:29:06.146Z"
   },
   {
    "duration": 49,
    "start_time": "2023-07-20T08:29:06.233Z"
   },
   {
    "duration": 45,
    "start_time": "2023-07-20T08:29:06.284Z"
   },
   {
    "duration": 78,
    "start_time": "2023-07-20T08:29:06.331Z"
   },
   {
    "duration": 19,
    "start_time": "2023-07-20T08:29:06.411Z"
   },
   {
    "duration": 99,
    "start_time": "2023-07-20T08:29:06.433Z"
   },
   {
    "duration": 45,
    "start_time": "2023-07-20T08:29:06.535Z"
   },
   {
    "duration": 7571,
    "start_time": "2023-07-20T08:29:06.582Z"
   },
   {
    "duration": 6505,
    "start_time": "2023-07-20T08:29:14.155Z"
   },
   {
    "duration": 3,
    "start_time": "2023-07-20T08:29:20.661Z"
   },
   {
    "duration": 18,
    "start_time": "2023-07-20T08:29:20.666Z"
   },
   {
    "duration": 2117,
    "start_time": "2023-07-20T08:31:12.485Z"
   },
   {
    "duration": 1732,
    "start_time": "2023-07-20T08:31:14.604Z"
   },
   {
    "duration": 4,
    "start_time": "2023-07-20T08:31:16.338Z"
   },
   {
    "duration": 13,
    "start_time": "2023-07-20T08:31:16.343Z"
   },
   {
    "duration": 1042,
    "start_time": "2023-07-20T08:31:16.358Z"
   },
   {
    "duration": 18,
    "start_time": "2023-07-20T08:31:17.403Z"
   },
   {
    "duration": 42,
    "start_time": "2023-07-20T08:31:17.422Z"
   },
   {
    "duration": 687,
    "start_time": "2023-07-20T08:31:17.466Z"
   },
   {
    "duration": 509,
    "start_time": "2023-07-20T08:31:18.155Z"
   },
   {
    "duration": 41,
    "start_time": "2023-07-20T08:31:18.666Z"
   },
   {
    "duration": 51,
    "start_time": "2023-07-20T08:31:18.710Z"
   },
   {
    "duration": 45,
    "start_time": "2023-07-20T08:31:18.763Z"
   },
   {
    "duration": 163,
    "start_time": "2023-07-20T08:31:18.810Z"
   },
   {
    "duration": 27,
    "start_time": "2023-07-20T08:31:18.974Z"
   },
   {
    "duration": 4325,
    "start_time": "2023-07-20T08:31:19.003Z"
   },
   {
    "duration": 31,
    "start_time": "2023-07-20T08:31:23.330Z"
   },
   {
    "duration": 75,
    "start_time": "2023-07-20T08:31:23.363Z"
   },
   {
    "duration": 27,
    "start_time": "2023-07-20T08:31:23.440Z"
   },
   {
    "duration": 40,
    "start_time": "2023-07-20T08:31:23.469Z"
   },
   {
    "duration": 167,
    "start_time": "2023-07-20T08:31:23.511Z"
   },
   {
    "duration": 24,
    "start_time": "2023-07-20T08:31:23.679Z"
   },
   {
    "duration": 184,
    "start_time": "2023-07-20T08:31:23.705Z"
   },
   {
    "duration": 23,
    "start_time": "2023-07-20T08:31:23.891Z"
   },
   {
    "duration": 62,
    "start_time": "2023-07-20T08:31:23.915Z"
   },
   {
    "duration": 22,
    "start_time": "2023-07-20T08:31:23.979Z"
   },
   {
    "duration": 35,
    "start_time": "2023-07-20T08:31:24.003Z"
   },
   {
    "duration": 122,
    "start_time": "2023-07-20T08:31:24.052Z"
   },
   {
    "duration": 10,
    "start_time": "2023-07-20T08:31:24.177Z"
   },
   {
    "duration": 18,
    "start_time": "2023-07-20T08:31:24.189Z"
   },
   {
    "duration": 17,
    "start_time": "2023-07-20T08:31:24.209Z"
   },
   {
    "duration": 40,
    "start_time": "2023-07-20T08:31:24.228Z"
   },
   {
    "duration": 15,
    "start_time": "2023-07-20T08:31:24.270Z"
   },
   {
    "duration": 36,
    "start_time": "2023-07-20T08:31:24.286Z"
   },
   {
    "duration": 42,
    "start_time": "2023-07-20T08:31:24.323Z"
   },
   {
    "duration": 4,
    "start_time": "2023-07-20T08:31:24.366Z"
   },
   {
    "duration": 55,
    "start_time": "2023-07-20T08:31:24.371Z"
   },
   {
    "duration": 47,
    "start_time": "2023-07-20T08:31:24.428Z"
   },
   {
    "duration": 5775,
    "start_time": "2023-07-20T08:31:24.477Z"
   },
   {
    "duration": 29924,
    "start_time": "2023-07-20T08:31:30.255Z"
   },
   {
    "duration": 2,
    "start_time": "2023-07-20T08:32:00.181Z"
   },
   {
    "duration": 30,
    "start_time": "2023-07-20T08:32:00.184Z"
   },
   {
    "duration": 435447,
    "start_time": "2023-07-20T08:32:00.216Z"
   },
   {
    "duration": 160294,
    "start_time": "2023-07-20T08:39:15.665Z"
   },
   {
    "duration": 1106,
    "start_time": "2023-07-20T08:41:55.961Z"
   },
   {
    "duration": 3,
    "start_time": "2023-07-20T08:41:57.070Z"
   },
   {
    "duration": 179985,
    "start_time": "2023-07-20T08:44:05.868Z"
   },
   {
    "duration": 1064,
    "start_time": "2023-07-20T08:49:21.089Z"
   },
   {
    "duration": 158,
    "start_time": "2023-07-20T17:19:23.163Z"
   },
   {
    "duration": 3067,
    "start_time": "2023-07-20T17:22:49.498Z"
   },
   {
    "duration": 1662,
    "start_time": "2023-07-20T17:22:52.568Z"
   },
   {
    "duration": 4,
    "start_time": "2023-07-20T17:22:54.231Z"
   },
   {
    "duration": 15,
    "start_time": "2023-07-20T17:22:54.237Z"
   },
   {
    "duration": 1228,
    "start_time": "2023-07-20T17:22:54.253Z"
   },
   {
    "duration": 15,
    "start_time": "2023-07-20T17:22:55.483Z"
   },
   {
    "duration": 22,
    "start_time": "2023-07-20T17:22:55.500Z"
   },
   {
    "duration": 707,
    "start_time": "2023-07-20T17:22:55.523Z"
   },
   {
    "duration": 409,
    "start_time": "2023-07-20T17:22:56.232Z"
   },
   {
    "duration": 34,
    "start_time": "2023-07-20T17:22:56.643Z"
   },
   {
    "duration": 43,
    "start_time": "2023-07-20T17:22:56.679Z"
   },
   {
    "duration": 30,
    "start_time": "2023-07-20T17:22:56.723Z"
   },
   {
    "duration": 143,
    "start_time": "2023-07-20T17:22:56.754Z"
   },
   {
    "duration": 26,
    "start_time": "2023-07-20T17:22:56.899Z"
   },
   {
    "duration": 3832,
    "start_time": "2023-07-20T17:22:56.927Z"
   },
   {
    "duration": 30,
    "start_time": "2023-07-20T17:23:00.760Z"
   },
   {
    "duration": 128,
    "start_time": "2023-07-20T17:23:00.791Z"
   },
   {
    "duration": 28,
    "start_time": "2023-07-20T17:23:00.920Z"
   },
   {
    "duration": 80,
    "start_time": "2023-07-20T17:23:00.950Z"
   },
   {
    "duration": 175,
    "start_time": "2023-07-20T17:23:01.032Z"
   },
   {
    "duration": 24,
    "start_time": "2023-07-20T17:23:01.209Z"
   },
   {
    "duration": 184,
    "start_time": "2023-07-20T17:23:01.235Z"
   },
   {
    "duration": 25,
    "start_time": "2023-07-20T17:23:01.421Z"
   },
   {
    "duration": 112,
    "start_time": "2023-07-20T17:23:01.448Z"
   },
   {
    "duration": 27,
    "start_time": "2023-07-20T17:23:01.563Z"
   },
   {
    "duration": 62,
    "start_time": "2023-07-20T17:23:01.591Z"
   },
   {
    "duration": 111,
    "start_time": "2023-07-20T17:23:01.655Z"
   },
   {
    "duration": 9,
    "start_time": "2023-07-20T17:23:01.769Z"
   },
   {
    "duration": 52,
    "start_time": "2023-07-20T17:23:01.780Z"
   },
   {
    "duration": 65,
    "start_time": "2023-07-20T17:25:05.114Z"
   },
   {
    "duration": 116,
    "start_time": "2023-07-20T17:25:25.267Z"
   },
   {
    "duration": 19,
    "start_time": "2023-07-20T17:25:42.987Z"
   },
   {
    "duration": 23,
    "start_time": "2023-07-20T17:25:54.858Z"
   },
   {
    "duration": 23,
    "start_time": "2023-07-20T17:26:35.555Z"
   },
   {
    "duration": 28,
    "start_time": "2023-07-20T17:27:27.804Z"
   },
   {
    "duration": 21,
    "start_time": "2023-07-20T17:27:41.797Z"
   },
   {
    "duration": 99,
    "start_time": "2023-07-20T17:29:37.431Z"
   },
   {
    "duration": 111,
    "start_time": "2023-07-20T17:29:49.086Z"
   },
   {
    "duration": 2270,
    "start_time": "2023-07-20T17:30:20.204Z"
   },
   {
    "duration": 5,
    "start_time": "2023-07-20T17:30:22.477Z"
   },
   {
    "duration": 26,
    "start_time": "2023-07-20T17:30:22.483Z"
   },
   {
    "duration": 30,
    "start_time": "2023-07-20T17:30:22.510Z"
   },
   {
    "duration": 877,
    "start_time": "2023-07-20T17:30:22.543Z"
   },
   {
    "duration": 14,
    "start_time": "2023-07-20T17:30:23.422Z"
   },
   {
    "duration": 33,
    "start_time": "2023-07-20T17:30:23.438Z"
   },
   {
    "duration": 623,
    "start_time": "2023-07-20T17:30:23.472Z"
   },
   {
    "duration": 307,
    "start_time": "2023-07-20T17:30:24.096Z"
   },
   {
    "duration": 32,
    "start_time": "2023-07-20T17:30:24.405Z"
   },
   {
    "duration": 45,
    "start_time": "2023-07-20T17:30:24.438Z"
   },
   {
    "duration": 50,
    "start_time": "2023-07-20T17:30:24.485Z"
   },
   {
    "duration": 171,
    "start_time": "2023-07-20T17:30:24.536Z"
   },
   {
    "duration": 30,
    "start_time": "2023-07-20T17:30:24.709Z"
   },
   {
    "duration": 4093,
    "start_time": "2023-07-20T17:30:24.741Z"
   },
   {
    "duration": 39,
    "start_time": "2023-07-20T17:30:28.836Z"
   },
   {
    "duration": 98,
    "start_time": "2023-07-20T17:30:28.877Z"
   },
   {
    "duration": 27,
    "start_time": "2023-07-20T17:30:28.977Z"
   },
   {
    "duration": 66,
    "start_time": "2023-07-20T17:30:29.005Z"
   },
   {
    "duration": 118,
    "start_time": "2023-07-20T17:30:29.073Z"
   },
   {
    "duration": 36,
    "start_time": "2023-07-20T17:30:29.194Z"
   },
   {
    "duration": 167,
    "start_time": "2023-07-20T17:30:29.232Z"
   },
   {
    "duration": 28,
    "start_time": "2023-07-20T17:30:29.401Z"
   },
   {
    "duration": 87,
    "start_time": "2023-07-20T17:30:29.431Z"
   },
   {
    "duration": 24,
    "start_time": "2023-07-20T17:30:29.519Z"
   },
   {
    "duration": 44,
    "start_time": "2023-07-20T17:30:29.545Z"
   },
   {
    "duration": 122,
    "start_time": "2023-07-20T17:30:29.590Z"
   },
   {
    "duration": 2313,
    "start_time": "2023-07-20T17:30:40.997Z"
   },
   {
    "duration": 6,
    "start_time": "2023-07-20T17:30:43.312Z"
   },
   {
    "duration": 54,
    "start_time": "2023-07-20T17:30:43.320Z"
   },
   {
    "duration": 34,
    "start_time": "2023-07-20T17:30:43.376Z"
   },
   {
    "duration": 828,
    "start_time": "2023-07-20T17:30:43.413Z"
   },
   {
    "duration": 14,
    "start_time": "2023-07-20T17:30:44.243Z"
   },
   {
    "duration": 31,
    "start_time": "2023-07-20T17:30:44.258Z"
   },
   {
    "duration": 613,
    "start_time": "2023-07-20T17:30:44.290Z"
   },
   {
    "duration": 340,
    "start_time": "2023-07-20T17:30:44.906Z"
   },
   {
    "duration": 23,
    "start_time": "2023-07-20T17:30:45.248Z"
   },
   {
    "duration": 39,
    "start_time": "2023-07-20T17:30:45.273Z"
   },
   {
    "duration": 40,
    "start_time": "2023-07-20T17:30:45.321Z"
   },
   {
    "duration": 138,
    "start_time": "2023-07-20T17:30:45.363Z"
   },
   {
    "duration": 36,
    "start_time": "2023-07-20T17:30:45.503Z"
   },
   {
    "duration": 4070,
    "start_time": "2023-07-20T17:30:45.541Z"
   },
   {
    "duration": 35,
    "start_time": "2023-07-20T17:30:49.613Z"
   },
   {
    "duration": 93,
    "start_time": "2023-07-20T17:30:49.649Z"
   },
   {
    "duration": 28,
    "start_time": "2023-07-20T17:30:49.743Z"
   },
   {
    "duration": 60,
    "start_time": "2023-07-20T17:30:49.773Z"
   },
   {
    "duration": 120,
    "start_time": "2023-07-20T17:30:49.834Z"
   },
   {
    "duration": 25,
    "start_time": "2023-07-20T17:30:49.956Z"
   },
   {
    "duration": 174,
    "start_time": "2023-07-20T17:30:49.983Z"
   },
   {
    "duration": 26,
    "start_time": "2023-07-20T17:30:50.159Z"
   },
   {
    "duration": 88,
    "start_time": "2023-07-20T17:30:50.187Z"
   },
   {
    "duration": 25,
    "start_time": "2023-07-20T17:30:50.277Z"
   },
   {
    "duration": 45,
    "start_time": "2023-07-20T17:30:50.304Z"
   },
   {
    "duration": 190,
    "start_time": "2023-07-20T17:30:50.351Z"
   },
   {
    "duration": 101,
    "start_time": "2023-07-20T17:31:03.390Z"
   },
   {
    "duration": 20,
    "start_time": "2023-07-20T17:33:17.424Z"
   },
   {
    "duration": 116,
    "start_time": "2023-07-20T17:33:21.224Z"
   },
   {
    "duration": 2034,
    "start_time": "2023-07-20T17:34:03.456Z"
   },
   {
    "duration": 2416,
    "start_time": "2023-07-20T17:34:08.807Z"
   },
   {
    "duration": 7,
    "start_time": "2023-07-20T17:34:11.226Z"
   },
   {
    "duration": 22,
    "start_time": "2023-07-20T17:34:11.235Z"
   },
   {
    "duration": 14,
    "start_time": "2023-07-20T17:34:11.259Z"
   },
   {
    "duration": 912,
    "start_time": "2023-07-20T17:34:11.276Z"
   },
   {
    "duration": 16,
    "start_time": "2023-07-20T17:34:12.190Z"
   },
   {
    "duration": 34,
    "start_time": "2023-07-20T17:34:15.066Z"
   },
   {
    "duration": 121,
    "start_time": "2023-07-20T17:35:53.090Z"
   },
   {
    "duration": 130,
    "start_time": "2023-07-20T17:57:46.864Z"
   },
   {
    "duration": 50,
    "start_time": "2023-07-20T17:58:02.397Z"
   }
  ],
  "kernelspec": {
   "display_name": "Python 3 (ipykernel)",
   "language": "python",
   "name": "python3"
  },
  "language_info": {
   "codemirror_mode": {
    "name": "ipython",
    "version": 3
   },
   "file_extension": ".py",
   "mimetype": "text/x-python",
   "name": "python",
   "nbconvert_exporter": "python",
   "pygments_lexer": "ipython3",
   "version": "3.9.5"
  },
  "toc": {
   "base_numbering": 1,
   "nav_menu": {},
   "number_sections": true,
   "sideBar": true,
   "skip_h1_title": true,
   "title_cell": "Table of Contents",
   "title_sidebar": "Contents",
   "toc_cell": false,
   "toc_position": {},
   "toc_section_display": true,
   "toc_window_display": false
  }
 },
 "nbformat": 4,
 "nbformat_minor": 2
}
