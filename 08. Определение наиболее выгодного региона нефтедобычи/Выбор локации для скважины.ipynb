{
 "cells": [
  {
   "cell_type": "markdown",
   "metadata": {},
   "source": [
    "# Проект Выбор локации для скважины\n",
    "Исполнитель: Троицкий Илья  \n",
    "Дата: 20 июня 2023  \n",
    "Проект выполняется в рамках курса Data Science bootcamp, Спринт 11  "
   ]
  },
  {
   "cell_type": "markdown",
   "metadata": {},
   "source": [
    "## Описание проекта\n",
    "Допустим, вы работаете в добывающей компании «ГлавРосГосНефть». Нужно решить, где бурить новую скважину.\n",
    "\n",
    "Вам предоставлены пробы нефти в трёх регионах: в каждом 10 000 месторождений, где измерили качество нефти и объём её запасов. Постройте модель машинного обучения, которая поможет определить регион, где добыча принесёт наибольшую прибыль. Проанализируйте возможную прибыль и риски техникой *Bootstrap.*\n",
    "\n",
    "Шаги для выбора локации:\n",
    "\n",
    "- В избранном регионе ищут месторождения, для каждого определяют значения признаков;\n",
    "- Строят модель и оценивают объём запасов;\n",
    "- Выбирают месторождения с самым высокими оценками значений. Количество месторождений зависит от бюджета компании и стоимости разработки одной скважины;\n",
    "- Прибыль равна суммарной прибыли отобранных месторождений."
   ]
  },
  {
   "cell_type": "markdown",
   "metadata": {},
   "source": [
    "### Условия задачи\n",
    "- Для обучения модели подходит только линейная регрессия (остальные — недостаточно предсказуемые).\n",
    "- При разведке региона исследуют 500 точек, из которых с помощью машинного обучения выбирают 200 лучших для разработки.\n",
    "- Бюджет на разработку скважин в регионе — 10 млрд рублей.\n",
    "- При нынешних ценах один баррель сырья приносит 450 рублей дохода. Доход с каждой единицы продукта составляет 450 тыс. рублей, поскольку объём указан в тысячах баррелей.\n",
    "- После оценки рисков нужно оставить лишь те регионы, в которых вероятность убытков меньше 2.5%. Среди них выбирают регион с наибольшей средней прибылью."
   ]
  },
  {
   "cell_type": "markdown",
   "metadata": {},
   "source": [
    "### Описание данных\n",
    "\n",
    "Данные геологоразведки трёх регионов находятся в файлах:   \n",
    "```\n",
    "/datasets/geo_data_0.csv.  \n",
    "/datasets/geo_data_1.csv.  \n",
    "/datasets/geo_data_2.csv.  \n",
    "```\n",
    "\n",
    "`id` — уникальный идентификатор скважины;  \n",
    "`f0`, `f1`, `f2` — три признака точек (неважно, что они означают, но сами признаки значимы);  \n",
    "`product` — объём запасов в скважине (тыс. баррелей).  "
   ]
  },
  {
   "cell_type": "markdown",
   "metadata": {},
   "source": [
    "## Импорт библиотек и описание функций"
   ]
  },
  {
   "cell_type": "code",
   "execution_count": 1,
   "metadata": {},
   "outputs": [],
   "source": [
    "import pandas as pd\n",
    "import numpy as np\n",
    "import matplotlib.pyplot as plt\n",
    "\n",
    "from sklearn.tree import DecisionTreeClassifier\n",
    "from sklearn.ensemble import RandomForestClassifier\n",
    "from sklearn.linear_model import LinearRegression\n",
    "\n",
    "from sklearn.preprocessing import StandardScaler, OneHotEncoder\n",
    "\n",
    "from sklearn.model_selection import train_test_split, GridSearchCV\n",
    "\n",
    "from sklearn.compose import ColumnTransformer\n",
    "from sklearn.pipeline import Pipeline\n",
    "from sklearn.metrics import mean_squared_error"
   ]
  },
  {
   "cell_type": "code",
   "execution_count": 2,
   "metadata": {},
   "outputs": [],
   "source": [
    "def dataframe_info(df):\n",
    "    display(df.head())\n",
    "    print('SHAPE:', df.shape)\n",
    "    df.info()\n",
    "    print('DUPLICATES:', df.duplicated().sum())\n",
    "    print(df.corr())\n",
    "    df.boxplot(column=['f0','f1','f2'])\n",
    "    plt.show()\n",
    "\n",
    "def remove_outlier(data, col):\n",
    "    q1 = data[col].quantile(0.25)   \n",
    "    q3 = data[col].quantile(0.75)\n",
    "    iqr = q3-q1\n",
    "\n",
    "    min = q1 - iqr*1.5\n",
    "    max = q3 + iqr*1.5\n",
    "\n",
    "    return data.query(f'({col} > {min}) and ({col} < {max})')"
   ]
  },
  {
   "cell_type": "markdown",
   "metadata": {},
   "source": [
    "## Загрузка и подготовка данных"
   ]
  },
  {
   "cell_type": "code",
   "execution_count": 3,
   "metadata": {},
   "outputs": [],
   "source": [
    "try:\n",
    "   r1_data = pd.read_csv('datasets/geo_data_0.csv')\n",
    "   r2_data = pd.read_csv('datasets/geo_data_1.csv')\n",
    "   r3_data = pd.read_csv('datasets/geo_data_2.csv')\n",
    "except:\n",
    "   r1_data = pd.read_csv('/datasets/geo_data_0.csv')\n",
    "   r2_data = pd.read_csv('/datasets/geo_data_1.csv')\n",
    "   r3_data = pd.read_csv('/datasets/geo_data_2.csv')      "
   ]
  },
  {
   "cell_type": "markdown",
   "metadata": {},
   "source": [
    "колонка id - уникальный идентификатор скважины и для обучения она не нужна."
   ]
  },
  {
   "cell_type": "code",
   "execution_count": 4,
   "metadata": {},
   "outputs": [],
   "source": [
    "r1_data = r1_data.drop('id', axis=1)\n",
    "r2_data = r2_data.drop('id', axis=1)\n",
    "r3_data = r3_data.drop('id', axis=1)"
   ]
  },
  {
   "cell_type": "code",
   "execution_count": 5,
   "metadata": {},
   "outputs": [
    {
     "data": {
      "text/html": [
       "<div>\n",
       "<style scoped>\n",
       "    .dataframe tbody tr th:only-of-type {\n",
       "        vertical-align: middle;\n",
       "    }\n",
       "\n",
       "    .dataframe tbody tr th {\n",
       "        vertical-align: top;\n",
       "    }\n",
       "\n",
       "    .dataframe thead th {\n",
       "        text-align: right;\n",
       "    }\n",
       "</style>\n",
       "<table border=\"1\" class=\"dataframe\">\n",
       "  <thead>\n",
       "    <tr style=\"text-align: right;\">\n",
       "      <th></th>\n",
       "      <th>f0</th>\n",
       "      <th>f1</th>\n",
       "      <th>f2</th>\n",
       "      <th>product</th>\n",
       "    </tr>\n",
       "  </thead>\n",
       "  <tbody>\n",
       "    <tr>\n",
       "      <th>0</th>\n",
       "      <td>0.705745</td>\n",
       "      <td>-0.497823</td>\n",
       "      <td>1.221170</td>\n",
       "      <td>105.280062</td>\n",
       "    </tr>\n",
       "    <tr>\n",
       "      <th>1</th>\n",
       "      <td>1.334711</td>\n",
       "      <td>-0.340164</td>\n",
       "      <td>4.365080</td>\n",
       "      <td>73.037750</td>\n",
       "    </tr>\n",
       "    <tr>\n",
       "      <th>2</th>\n",
       "      <td>1.022732</td>\n",
       "      <td>0.151990</td>\n",
       "      <td>1.419926</td>\n",
       "      <td>85.265647</td>\n",
       "    </tr>\n",
       "    <tr>\n",
       "      <th>3</th>\n",
       "      <td>-0.032172</td>\n",
       "      <td>0.139033</td>\n",
       "      <td>2.978566</td>\n",
       "      <td>168.620776</td>\n",
       "    </tr>\n",
       "    <tr>\n",
       "      <th>4</th>\n",
       "      <td>1.988431</td>\n",
       "      <td>0.155413</td>\n",
       "      <td>4.751769</td>\n",
       "      <td>154.036647</td>\n",
       "    </tr>\n",
       "  </tbody>\n",
       "</table>\n",
       "</div>"
      ],
      "text/plain": [
       "         f0        f1        f2     product\n",
       "0  0.705745 -0.497823  1.221170  105.280062\n",
       "1  1.334711 -0.340164  4.365080   73.037750\n",
       "2  1.022732  0.151990  1.419926   85.265647\n",
       "3 -0.032172  0.139033  2.978566  168.620776\n",
       "4  1.988431  0.155413  4.751769  154.036647"
      ]
     },
     "metadata": {},
     "output_type": "display_data"
    },
    {
     "name": "stdout",
     "output_type": "stream",
     "text": [
      "SHAPE: (100000, 4)\n",
      "<class 'pandas.core.frame.DataFrame'>\n",
      "RangeIndex: 100000 entries, 0 to 99999\n",
      "Data columns (total 4 columns):\n",
      " #   Column   Non-Null Count   Dtype  \n",
      "---  ------   --------------   -----  \n",
      " 0   f0       100000 non-null  float64\n",
      " 1   f1       100000 non-null  float64\n",
      " 2   f2       100000 non-null  float64\n",
      " 3   product  100000 non-null  float64\n",
      "dtypes: float64(4)\n",
      "memory usage: 3.1 MB\n",
      "DUPLICATES: 0\n",
      "               f0        f1        f2   product\n",
      "f0       1.000000 -0.440723 -0.003153  0.143536\n",
      "f1      -0.440723  1.000000  0.001724 -0.192356\n",
      "f2      -0.003153  0.001724  1.000000  0.483663\n",
      "product  0.143536 -0.192356  0.483663  1.000000\n"
     ]
    },
    {
     "data": {
      "image/png": "[encoded data removed]",
      "text/plain": [
       "<Figure size 432x288 with 1 Axes>"
      ]
     },
     "metadata": {
      "needs_background": "light"
     },
     "output_type": "display_data"
    }
   ],
   "source": [
    "dataframe_info(r1_data)"
   ]
  },
  {
   "cell_type": "markdown",
   "metadata": {},
   "source": [
    "Пропусков нет. Дублей нет. Есть слабая корреляция f2 и product. В признаке f2 обнаружено много выбросов, удалим эти строки из датасета."
   ]
  },
  {
   "cell_type": "code",
   "execution_count": 6,
   "metadata": {},
   "outputs": [
    {
     "name": "stdout",
     "output_type": "stream",
     "text": [
      "(99494, 4)\n"
     ]
    }
   ],
   "source": [
    "r1_data = remove_outlier(r1_data, 'f2')\n",
    "print(r1_data.shape)\n"
   ]
  },
  {
   "cell_type": "code",
   "execution_count": 7,
   "metadata": {},
   "outputs": [
    {
     "data": {
      "text/html": [
       "<div>\n",
       "<style scoped>\n",
       "    .dataframe tbody tr th:only-of-type {\n",
       "        vertical-align: middle;\n",
       "    }\n",
       "\n",
       "    .dataframe tbody tr th {\n",
       "        vertical-align: top;\n",
       "    }\n",
       "\n",
       "    .dataframe thead th {\n",
       "        text-align: right;\n",
       "    }\n",
       "</style>\n",
       "<table border=\"1\" class=\"dataframe\">\n",
       "  <thead>\n",
       "    <tr style=\"text-align: right;\">\n",
       "      <th></th>\n",
       "      <th>f0</th>\n",
       "      <th>f1</th>\n",
       "      <th>f2</th>\n",
       "      <th>product</th>\n",
       "    </tr>\n",
       "  </thead>\n",
       "  <tbody>\n",
       "    <tr>\n",
       "      <th>0</th>\n",
       "      <td>-15.001348</td>\n",
       "      <td>-8.276000</td>\n",
       "      <td>-0.005876</td>\n",
       "      <td>3.179103</td>\n",
       "    </tr>\n",
       "    <tr>\n",
       "      <th>1</th>\n",
       "      <td>14.272088</td>\n",
       "      <td>-3.475083</td>\n",
       "      <td>0.999183</td>\n",
       "      <td>26.953261</td>\n",
       "    </tr>\n",
       "    <tr>\n",
       "      <th>2</th>\n",
       "      <td>6.263187</td>\n",
       "      <td>-5.948386</td>\n",
       "      <td>5.001160</td>\n",
       "      <td>134.766305</td>\n",
       "    </tr>\n",
       "    <tr>\n",
       "      <th>3</th>\n",
       "      <td>-13.081196</td>\n",
       "      <td>-11.506057</td>\n",
       "      <td>4.999415</td>\n",
       "      <td>137.945408</td>\n",
       "    </tr>\n",
       "    <tr>\n",
       "      <th>4</th>\n",
       "      <td>12.702195</td>\n",
       "      <td>-8.147433</td>\n",
       "      <td>5.004363</td>\n",
       "      <td>134.766305</td>\n",
       "    </tr>\n",
       "  </tbody>\n",
       "</table>\n",
       "</div>"
      ],
      "text/plain": [
       "          f0         f1        f2     product\n",
       "0 -15.001348  -8.276000 -0.005876    3.179103\n",
       "1  14.272088  -3.475083  0.999183   26.953261\n",
       "2   6.263187  -5.948386  5.001160  134.766305\n",
       "3 -13.081196 -11.506057  4.999415  137.945408\n",
       "4  12.702195  -8.147433  5.004363  134.766305"
      ]
     },
     "metadata": {},
     "output_type": "display_data"
    },
    {
     "name": "stdout",
     "output_type": "stream",
     "text": [
      "SHAPE: (100000, 4)\n",
      "<class 'pandas.core.frame.DataFrame'>\n",
      "RangeIndex: 100000 entries, 0 to 99999\n",
      "Data columns (total 4 columns):\n",
      " #   Column   Non-Null Count   Dtype  \n",
      "---  ------   --------------   -----  \n",
      " 0   f0       100000 non-null  float64\n",
      " 1   f1       100000 non-null  float64\n",
      " 2   f2       100000 non-null  float64\n",
      " 3   product  100000 non-null  float64\n",
      "dtypes: float64(4)\n",
      "memory usage: 3.1 MB\n",
      "DUPLICATES: 0\n",
      "               f0        f1        f2   product\n",
      "f0       1.000000  0.182287 -0.001777 -0.030491\n",
      "f1       0.182287  1.000000 -0.002595 -0.010155\n",
      "f2      -0.001777 -0.002595  1.000000  0.999397\n",
      "product -0.030491 -0.010155  0.999397  1.000000\n"
     ]
    },
    {
     "data": {
      "image/png": "[encoded data removed]",
      "text/plain": [
       "<Figure size 432x288 with 1 Axes>"
      ]
     },
     "metadata": {
      "needs_background": "light"
     },
     "output_type": "display_data"
    }
   ],
   "source": [
    "dataframe_info(r2_data)"
   ]
  },
  {
   "cell_type": "markdown",
   "metadata": {},
   "source": [
    " Пропусков нет. Дублей нет. Есть сильная корреляция f2 и product. В признаке f1 обнаружено много выбросов, удалим эти строки из датасета."
   ]
  },
  {
   "cell_type": "code",
   "execution_count": 8,
   "metadata": {},
   "outputs": [
    {
     "name": "stdout",
     "output_type": "stream",
     "text": [
      "(99364, 4)\n"
     ]
    }
   ],
   "source": [
    "r2_data = remove_outlier(r2_data, 'f1')\n",
    "print(r2_data.shape)"
   ]
  },
  {
   "cell_type": "code",
   "execution_count": 9,
   "metadata": {},
   "outputs": [
    {
     "data": {
      "text/html": [
       "<div>\n",
       "<style scoped>\n",
       "    .dataframe tbody tr th:only-of-type {\n",
       "        vertical-align: middle;\n",
       "    }\n",
       "\n",
       "    .dataframe tbody tr th {\n",
       "        vertical-align: top;\n",
       "    }\n",
       "\n",
       "    .dataframe thead th {\n",
       "        text-align: right;\n",
       "    }\n",
       "</style>\n",
       "<table border=\"1\" class=\"dataframe\">\n",
       "  <thead>\n",
       "    <tr style=\"text-align: right;\">\n",
       "      <th></th>\n",
       "      <th>f0</th>\n",
       "      <th>f1</th>\n",
       "      <th>f2</th>\n",
       "      <th>product</th>\n",
       "    </tr>\n",
       "  </thead>\n",
       "  <tbody>\n",
       "    <tr>\n",
       "      <th>0</th>\n",
       "      <td>-1.146987</td>\n",
       "      <td>0.963328</td>\n",
       "      <td>-0.828965</td>\n",
       "      <td>27.758673</td>\n",
       "    </tr>\n",
       "    <tr>\n",
       "      <th>1</th>\n",
       "      <td>0.262778</td>\n",
       "      <td>0.269839</td>\n",
       "      <td>-2.530187</td>\n",
       "      <td>56.069697</td>\n",
       "    </tr>\n",
       "    <tr>\n",
       "      <th>2</th>\n",
       "      <td>0.194587</td>\n",
       "      <td>0.289035</td>\n",
       "      <td>-5.586433</td>\n",
       "      <td>62.871910</td>\n",
       "    </tr>\n",
       "    <tr>\n",
       "      <th>3</th>\n",
       "      <td>2.236060</td>\n",
       "      <td>-0.553760</td>\n",
       "      <td>0.930038</td>\n",
       "      <td>114.572842</td>\n",
       "    </tr>\n",
       "    <tr>\n",
       "      <th>4</th>\n",
       "      <td>-0.515993</td>\n",
       "      <td>1.716266</td>\n",
       "      <td>5.899011</td>\n",
       "      <td>149.600746</td>\n",
       "    </tr>\n",
       "  </tbody>\n",
       "</table>\n",
       "</div>"
      ],
      "text/plain": [
       "         f0        f1        f2     product\n",
       "0 -1.146987  0.963328 -0.828965   27.758673\n",
       "1  0.262778  0.269839 -2.530187   56.069697\n",
       "2  0.194587  0.289035 -5.586433   62.871910\n",
       "3  2.236060 -0.553760  0.930038  114.572842\n",
       "4 -0.515993  1.716266  5.899011  149.600746"
      ]
     },
     "metadata": {},
     "output_type": "display_data"
    },
    {
     "name": "stdout",
     "output_type": "stream",
     "text": [
      "SHAPE: (100000, 4)\n",
      "<class 'pandas.core.frame.DataFrame'>\n",
      "RangeIndex: 100000 entries, 0 to 99999\n",
      "Data columns (total 4 columns):\n",
      " #   Column   Non-Null Count   Dtype  \n",
      "---  ------   --------------   -----  \n",
      " 0   f0       100000 non-null  float64\n",
      " 1   f1       100000 non-null  float64\n",
      " 2   f2       100000 non-null  float64\n",
      " 3   product  100000 non-null  float64\n",
      "dtypes: float64(4)\n",
      "memory usage: 3.1 MB\n",
      "DUPLICATES: 0\n",
      "               f0        f1        f2   product\n",
      "f0       1.000000  0.000528 -0.000448 -0.001987\n",
      "f1       0.000528  1.000000  0.000779 -0.001012\n",
      "f2      -0.000448  0.000779  1.000000  0.445871\n",
      "product -0.001987 -0.001012  0.445871  1.000000\n"
     ]
    },
    {
     "data": {
      "image/png": "[encoded data removed]",
      "text/plain": [
       "<Figure size 432x288 with 1 Axes>"
      ]
     },
     "metadata": {
      "needs_background": "light"
     },
     "output_type": "display_data"
    }
   ],
   "source": [
    "dataframe_info(r3_data)"
   ]
  },
  {
   "cell_type": "markdown",
   "metadata": {},
   "source": [
    " Пропусков нет. Дублей нет. Есть слабая корреляция f2 и product. Во всех трех признаках обнаружено много выбросов, удалим эти строки из датасета.\n"
   ]
  },
  {
   "cell_type": "code",
   "execution_count": 10,
   "metadata": {},
   "outputs": [
    {
     "name": "stdout",
     "output_type": "stream",
     "text": [
      "(99364, 4)\n"
     ]
    }
   ],
   "source": [
    "r3_data = remove_outlier(r3_data, 'f0')\n",
    "r3_data = remove_outlier(r3_data, 'f1')\n",
    "r3_data = remove_outlier(r3_data, 'f2')\n",
    "print(r2_data.shape)"
   ]
  },
  {
   "cell_type": "markdown",
   "metadata": {},
   "source": [
    "### Вывод\n",
    "Данные не содержат пропусков и дублей. Признаки имеют тип вещественного числа и требуют масштабирования. Выбросы в данных обработаны. В данных по первому и третьему региону есть слабая зависимость целевого признака от признака f2. Во втором регионе зависимость целевого признака от ф2 прямая."
   ]
  },
  {
   "cell_type": "markdown",
   "metadata": {},
   "source": [
    "## Обучение и проверка модели"
   ]
  },
  {
   "cell_type": "code",
   "execution_count": 11,
   "metadata": {},
   "outputs": [],
   "source": [
    "numeric_features = ['f0','f1','f2']  # список числовых переменных\n",
    "\n",
    "def data_split(data):\n",
    "    x = data.drop('product', axis=1)\n",
    "    y = data['product']\n",
    "\n",
    "    x_train, x_valid, y_train, y_valid = train_test_split(x, y, test_size=0.25, random_state=31337)\n",
    "\n",
    "    return x_train, x_valid, y_train, y_valid\n",
    "\n",
    "def model_fit(x, y):\n",
    "\n",
    "    numeric_transformer = StandardScaler()\n",
    "\n",
    "    preprocessor = ColumnTransformer(\n",
    "        transformers=[\n",
    "            ('num', numeric_transformer, x.columns),\n",
    "        ])\n",
    "\n",
    "\n",
    "    model = Pipeline(steps=[('preprocessor', preprocessor),\n",
    "                        ('regressor', LinearRegression())])\n",
    "\n",
    "    model.fit(x, y)\n",
    "\n",
    "    return model\n",
    "\n",
    "def model_fit_predict(data):\n",
    "\n",
    "    x_train, x_valid, y_train, y_valid = data_split(data)\n",
    "\n",
    "    model = model_fit(x_train, y_train)\n",
    "\n",
    "    result = {\n",
    "        'model' : model,\n",
    "        'y_valid' : y_valid,\n",
    "        'y_pred' : model.predict(x_valid)\n",
    "    }\n",
    "    \n",
    "    return result"
   ]
  },
  {
   "cell_type": "code",
   "execution_count": 12,
   "metadata": {},
   "outputs": [
    {
     "name": "stdout",
     "output_type": "stream",
     "text": [
      "Cредний запас предсказанного сырья: 92.27388735933118\n",
      "RMSE: 37.601229107972486\n"
     ]
    }
   ],
   "source": [
    "r1 = model_fit_predict(r1_data)\n",
    "\n",
    "print('Cредний запас предсказанного сырья:', r1['y_pred'].mean())\n",
    "print('RMSE:', mean_squared_error(r1['y_valid'], r1['y_pred'])**0.5)"
   ]
  },
  {
   "cell_type": "code",
   "execution_count": 13,
   "metadata": {},
   "outputs": [
    {
     "name": "stdout",
     "output_type": "stream",
     "text": [
      "Cредний запас предсказанного сырья: 68.6956533353401\n",
      "RMSE: 0.8908500430599684\n"
     ]
    }
   ],
   "source": [
    "r2 = model_fit_predict(r2_data)\n",
    "\n",
    "print('Cредний запас предсказанного сырья:', r2['y_pred'].mean())\n",
    "print('RMSE:', mean_squared_error(r2['y_valid'], r2['y_pred'])**0.5)"
   ]
  },
  {
   "cell_type": "code",
   "execution_count": 14,
   "metadata": {},
   "outputs": [
    {
     "name": "stdout",
     "output_type": "stream",
     "text": [
      "Cредний запас предсказанного сырья: 94.57894982190793\n",
      "RMSE: 39.96381769894487\n"
     ]
    }
   ],
   "source": [
    "r3 = model_fit_predict(r3_data)\n",
    "\n",
    "print('Cредний запас предсказанного сырья:', r3['y_pred'].mean())\n",
    "print('RMSE:', mean_squared_error(r3['y_valid'], r3['y_pred'])**0.5)"
   ]
  },
  {
   "cell_type": "markdown",
   "metadata": {},
   "source": [
    "### Вывод\n",
    "В регионе 1 и 3 средние предсказанные запасы сырья выше, но ошибка предсказаний тоже выше. Во втором регионе ситуация обратная, средний предсказанный запас ниже чем в остальнных, но точность предсказания очень высокая"
   ]
  },
  {
   "cell_type": "markdown",
   "metadata": {},
   "source": [
    "## Подготовка к расчёту прибыли"
   ]
  },
  {
   "cell_type": "markdown",
   "metadata": {},
   "source": [
    "Создадим константы, по условиям задачи, чтобы в случае изменения ТЗ можно было изменить только в одном мест "
   ]
  },
  {
   "cell_type": "code",
   "execution_count": 15,
   "metadata": {},
   "outputs": [],
   "source": [
    "BUDGET_AMOUNT = 10000000000\n",
    "TEST_POINTS = 500\n",
    "DEV_POINTS = 200\n",
    "PRICE_PER_BARREL = 450000\n",
    "RISK_THRESHOLD =  0.025"
   ]
  },
  {
   "cell_type": "markdown",
   "metadata": {},
   "source": [
    "Рассчитаем объем сырья для окупаемости затрат."
   ]
  },
  {
   "cell_type": "code",
   "execution_count": 16,
   "metadata": {},
   "outputs": [
    {
     "name": "stdout",
     "output_type": "stream",
     "text": [
      "111.11111111111111\n"
     ]
    }
   ],
   "source": [
    "product_value = BUDGET_AMOUNT / (PRICE_PER_BARREL * DEV_POINTS)\n",
    "print(product_value)"
   ]
  },
  {
   "cell_type": "markdown",
   "metadata": {},
   "source": [
    "### Вывод\n",
    "Объём сырья для безубыточной разработки новой скважины равен 111.11 тысячам баррелей, а средний объем сырья в скважинах: Регион 1 и 3 ~92 тыч. бар. А в регионе 2 вообще 68 тыс. бар. Но так как из 500 текстиовых скважин будем брать только лучшие 200, то возможно мы приблизимся к точке окупаемости."
   ]
  },
  {
   "cell_type": "markdown",
   "metadata": {},
   "source": [
    "## Расчёт прибыли и рисков "
   ]
  },
  {
   "cell_type": "markdown",
   "metadata": {},
   "source": [
    "Функция для расчета прибыли"
   ]
  },
  {
   "cell_type": "code",
   "execution_count": 17,
   "metadata": {},
   "outputs": [],
   "source": [
    "def revenue(target, pred):\n",
    "    pred = pd.Series(pred)\n",
    "    probs_sorted = pred.sort_values(ascending=False)\n",
    "    target = target.reset_index(drop=True)\n",
    "    selected = target[probs_sorted.index][:DEV_POINTS]\n",
    "    return PRICE_PER_BARREL * selected.sum() - BUDGET_AMOUNT"
   ]
  },
  {
   "cell_type": "markdown",
   "metadata": {},
   "source": [
    "Протестируем её на предсказанных ранее данных"
   ]
  },
  {
   "cell_type": "code",
   "execution_count": 18,
   "metadata": {},
   "outputs": [
    {
     "name": "stdout",
     "output_type": "stream",
     "text": [
      "Прибыль на региона 1:  2987946454.8754177\n",
      "Прибыль на региона 2:  2415086696.681511\n",
      "Прибыль на региона 3:  2466186982.774006\n"
     ]
    }
   ],
   "source": [
    "print('Прибыль на региона 1: ', revenue(r1['y_valid'], r1['y_pred']))\n",
    "print('Прибыль на региона 2: ', revenue(r2['y_valid'], r2['y_pred']))\n",
    "print('Прибыль на региона 3: ', revenue(r3['y_valid'], r3['y_pred']))"
   ]
  },
  {
   "cell_type": "markdown",
   "metadata": {},
   "source": [
    "Шансы есть! Только у нас в валидационной выборке ~2500 скважин, а тестировать будем всего 500."
   ]
  },
  {
   "cell_type": "markdown",
   "metadata": {},
   "source": [
    "Применяем технику boostrap для поиска распределния прибыли"
   ]
  },
  {
   "cell_type": "code",
   "execution_count": 19,
   "metadata": {},
   "outputs": [],
   "source": [
    "state = np.random.RandomState(31337)\n",
    "\n",
    "def bootstrap_prediction(data, model):\n",
    "    values = []\n",
    "\n",
    "    for i in range(1000):\n",
    "        subsample = data.sample(500, replace=True, random_state=state)\n",
    "        x = subsample.drop('product', axis=1)\n",
    "        y = subsample['product']\n",
    "        y_pred = model.predict(x)\n",
    "        \n",
    "        values.append(revenue(y, y_pred))\n",
    "\n",
    "    values = pd.Series(values)\n",
    "    lower = round(values.quantile(0.025) / 1000000, 2)\n",
    "    upper = round(values.quantile(0.975) / 1000000, 2)\n",
    "    mean = values.mean() \n",
    "\n",
    "    print('Средняя прибыль (млн. руб.):', round(mean  / 1000000, 2))\n",
    "    print(f'95% доверительный интервал (млн. руб.): {lower}-{upper}')\n",
    "    print('Риск убытков:', round(values[values<0].count() / values.count() * 100, 2))\n",
    "    print('ROI (сред):', round(mean / BUDGET_AMOUNT * 100, 2))"
   ]
  },
  {
   "cell_type": "code",
   "execution_count": 20,
   "metadata": {},
   "outputs": [
    {
     "name": "stdout",
     "output_type": "stream",
     "text": [
      "Средняя прибыль (млн. руб.): 418.94\n",
      "95% доверительный интервал (млн. руб.): -108.04-887.75\n",
      "Риск убытков: 6.4\n",
      "ROI (сред): 4.19\n"
     ]
    }
   ],
   "source": [
    "bootstrap_prediction(r1_data, r1['model'])"
   ]
  },
  {
   "cell_type": "code",
   "execution_count": 21,
   "metadata": {},
   "outputs": [
    {
     "name": "stdout",
     "output_type": "stream",
     "text": [
      "Средняя прибыль (млн. руб.): 453.82\n",
      "95% доверительный интервал (млн. руб.): 72.38-855.89\n",
      "Риск убытков: 1.1\n",
      "ROI (сред): 4.54\n"
     ]
    }
   ],
   "source": [
    "bootstrap_prediction(r2_data, r2['model'])"
   ]
  },
  {
   "cell_type": "code",
   "execution_count": 22,
   "metadata": {},
   "outputs": [
    {
     "name": "stdout",
     "output_type": "stream",
     "text": [
      "Средняя прибыль (млн. руб.): 329.02\n",
      "95% доверительный интервал (млн. руб.): -173.92-867.46\n",
      "Риск убытков: 10.7\n",
      "ROI (сред): 3.29\n"
     ]
    }
   ],
   "source": [
    "bootstrap_prediction(r3_data, r3['model'])"
   ]
  },
  {
   "cell_type": "markdown",
   "metadata": {},
   "source": [
    "## Вывод\n",
    "Выполнили анализ данных о скважинах в трёх регионах. Данные были очищены от аномалий. Для каждого региона построена прогнозная модель, предсказывающая запасы сырья в регионе. \n",
    "В результате анализа мы выяснили, что регион №2 имеет риск убытков ниже требуемого в 2,5%. и обладает самым высоким ROI. Хотя в целом ROI у всех регионов довольно низкая, возможно стоит рассмотреть альтернативные источники ивестирования, например обучение сотрудников Data Science."
   ]
  }
 ],
 "metadata": {
  "ExecuteTimeLog": [
   {
    "duration": 8220,
    "start_time": "2023-06-21T11:53:57.208Z"
   },
   {
    "duration": 6,
    "start_time": "2023-06-21T11:54:05.433Z"
   },
   {
    "duration": 6315,
    "start_time": "2023-06-21T11:54:05.517Z"
   },
   {
    "duration": 208,
    "start_time": "2023-06-21T11:54:11.845Z"
   },
   {
    "duration": 3292,
    "start_time": "2023-06-21T11:54:12.110Z"
   },
   {
    "duration": 17,
    "start_time": "2023-06-21T11:54:15.406Z"
   },
   {
    "duration": 3504,
    "start_time": "2023-06-21T11:54:15.429Z"
   },
   {
    "duration": 106,
    "start_time": "2023-06-21T11:54:18.937Z"
   },
   {
    "duration": 3325,
    "start_time": "2023-06-21T11:54:19.108Z"
   },
   {
    "duration": 119,
    "start_time": "2023-06-21T11:54:22.501Z"
   },
   {
    "duration": 102,
    "start_time": "2023-06-21T11:54:22.644Z"
   },
   {
    "duration": 432,
    "start_time": "2023-06-21T11:54:22.814Z"
   },
   {
    "duration": 325,
    "start_time": "2023-06-21T11:54:23.316Z"
   },
   {
    "duration": 496,
    "start_time": "2023-06-21T11:54:23.642Z"
   },
   {
    "duration": 65,
    "start_time": "2023-06-21T11:54:24.142Z"
   },
   {
    "duration": 188,
    "start_time": "2023-06-21T11:54:24.217Z"
   },
   {
    "duration": 228,
    "start_time": "2023-06-21T11:54:24.406Z"
   },
   {
    "duration": 297,
    "start_time": "2023-06-21T11:54:24.636Z"
   },
   {
    "duration": 108,
    "start_time": "2023-06-21T11:54:24.935Z"
   },
   {
    "duration": 23431,
    "start_time": "2023-06-21T11:54:25.114Z"
   },
   {
    "duration": 23916,
    "start_time": "2023-06-21T11:54:48.606Z"
   },
   {
    "duration": 26085,
    "start_time": "2023-06-21T11:55:12.530Z"
   },
   {
    "duration": 12,
    "start_time": "2023-06-21T17:43:01.302Z"
   },
   {
    "duration": 1746,
    "start_time": "2023-06-21T17:44:51.876Z"
   },
   {
    "duration": 5,
    "start_time": "2023-06-21T17:44:53.625Z"
   },
   {
    "duration": 1984,
    "start_time": "2023-06-21T17:44:53.631Z"
   },
   {
    "duration": 25,
    "start_time": "2023-06-21T17:44:55.618Z"
   },
   {
    "duration": 426,
    "start_time": "2023-06-21T17:44:55.646Z"
   },
   {
    "duration": 18,
    "start_time": "2023-06-21T17:44:56.074Z"
   },
   {
    "duration": 404,
    "start_time": "2023-06-21T17:44:56.093Z"
   },
   {
    "duration": 5,
    "start_time": "2023-06-21T17:45:34.847Z"
   },
   {
    "duration": 405,
    "start_time": "2023-06-21T17:45:40.673Z"
   },
   {
    "duration": 546,
    "start_time": "2023-06-21T17:45:51.143Z"
   },
   {
    "duration": 136,
    "start_time": "2023-06-21T17:48:16.610Z"
   },
   {
    "duration": 134,
    "start_time": "2023-06-21T17:49:38.209Z"
   },
   {
    "duration": 174,
    "start_time": "2023-06-21T17:50:19.621Z"
   },
   {
    "duration": 2029,
    "start_time": "2023-06-22T11:56:03.210Z"
   },
   {
    "duration": 5,
    "start_time": "2023-06-22T11:56:05.245Z"
   },
   {
    "duration": 1666,
    "start_time": "2023-06-22T11:56:05.252Z"
   },
   {
    "duration": 20,
    "start_time": "2023-06-22T11:56:06.921Z"
   },
   {
    "duration": 527,
    "start_time": "2023-06-22T11:56:06.943Z"
   },
   {
    "duration": 16,
    "start_time": "2023-06-22T11:56:07.475Z"
   },
   {
    "duration": 510,
    "start_time": "2023-06-22T11:56:07.493Z"
   },
   {
    "duration": 23,
    "start_time": "2023-06-22T11:56:08.005Z"
   },
   {
    "duration": 481,
    "start_time": "2023-06-22T11:56:08.032Z"
   },
   {
    "duration": 29,
    "start_time": "2023-06-22T11:56:08.520Z"
   },
   {
    "duration": 5,
    "start_time": "2023-06-22T11:56:08.551Z"
   },
   {
    "duration": 142,
    "start_time": "2023-06-22T11:56:08.557Z"
   },
   {
    "duration": 173,
    "start_time": "2023-06-22T11:56:08.710Z"
   },
   {
    "duration": 186,
    "start_time": "2023-06-22T11:56:08.890Z"
   },
   {
    "duration": 22,
    "start_time": "2023-06-22T11:56:09.086Z"
   },
   {
    "duration": 61,
    "start_time": "2023-06-22T11:56:09.175Z"
   },
   {
    "duration": 32,
    "start_time": "2023-06-22T11:56:09.238Z"
   },
   {
    "duration": 107,
    "start_time": "2023-06-22T11:56:09.273Z"
   },
   {
    "duration": 32,
    "start_time": "2023-06-22T11:56:09.382Z"
   },
   {
    "duration": 4573,
    "start_time": "2023-06-22T11:56:09.417Z"
   },
   {
    "duration": 4431,
    "start_time": "2023-06-22T11:56:13.992Z"
   },
   {
    "duration": 4286,
    "start_time": "2023-06-22T11:56:18.425Z"
   }
  ],
  "kernelspec": {
   "display_name": "Python 3 (ipykernel)",
   "language": "python",
   "name": "python3"
  },
  "language_info": {
   "codemirror_mode": {
    "name": "ipython",
    "version": 3
   },
   "file_extension": ".py",
   "mimetype": "text/x-python",
   "name": "python",
   "nbconvert_exporter": "python",
   "pygments_lexer": "ipython3",
   "version": "3.9.5"
  },
  "toc": {
   "base_numbering": 1,
   "nav_menu": {},
   "number_sections": true,
   "sideBar": true,
   "skip_h1_title": true,
   "title_cell": "Table of Contents",
   "title_sidebar": "Contents",
   "toc_cell": false,
   "toc_position": {},
   "toc_section_display": true,
   "toc_window_display": false
  }
 },
 "nbformat": 4,
 "nbformat_minor": 2
}
