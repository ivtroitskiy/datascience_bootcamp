{
 "cells": [
  {
   "cell_type": "markdown",
   "metadata": {},
   "source": [
    "# <a id='toc1_'></a>[Рекомендация тарифов](#toc0_)"
   ]
  },
  {
   "cell_type": "markdown",
   "metadata": {},
   "source": [
    "В вашем распоряжении данные о поведении клиентов, которые уже перешли на эти тарифы (из проекта курса «Статистический анализ данных»). Нужно построить модель для задачи классификации, которая выберет подходящий тариф. Предобработка данных не понадобится — вы её уже сделали.\n",
    "\n",
    "Постройте модель с максимально большим значением *accuracy*. Чтобы сдать проект успешно, нужно довести долю правильных ответов по крайней мере до 0.75. Проверьте *accuracy* на тестовой выборке самостоятельно."
   ]
  },
  {
   "cell_type": "markdown",
   "metadata": {},
   "source": [
    "### <a id='toc1_1_1_'></a>[Цель](#toc0_)\n",
    "\n",
    "Построить модель с максимально большим значением accuracy для определение нового тарифа.\n",
    "\n",
    "### <a id='toc1_1_2_'></a>[Данные](#toc0_)\n",
    "\n",
    "Предоставленны данные о поведении клиентов, которые уже перешли на эти тарифы.\n",
    "\n",
    "### <a id='toc1_1_3_'></a>[План](#toc0_)\n",
    "\n",
    "<a id='toc0_'></a>    \n",
    "- [Рекомендация тарифов](#toc1_)    \n",
    "    - [Цель](#toc1_1_1_)    \n",
    "    - [Данные](#toc1_1_2_)    \n",
    "    - [План](#toc1_1_3_)    \n",
    "  - [Откройте и изучите файл](#toc1_2_)    \n",
    "  - [Разбейте данные на выборки](#toc1_3_)    \n",
    "  - [Исследуйте модели](#toc1_4_)    \n",
    "    - [Решающее дерево](#toc1_4_1_)    \n",
    "    - [Случайный лес](#toc1_4_2_)    \n",
    "    - [Логистическая регрессия](#toc1_4_3_)    \n",
    "  - [Проверьте модель на тестовой выборке](#toc1_5_)    \n",
    "  - [Вывод](#toc1_6_)    \n",
    "  - [(бонус) Проверьте модели на адекватность](#toc1_7_)    \n",
    "  - [Чек-лист готовности проекта](#toc1_8_)    \n",
    "\n",
    "<!-- vscode-jupyter-toc-config\n",
    "\tnumbering=false\n",
    "\tanchor=true\n",
    "\tflat=false\n",
    "\tminLevel=1\n",
    "\tmaxLevel=6\n",
    "\t/vscode-jupyter-toc-config -->\n",
    "<!-- THIS CELL WILL BE REPLACED ON TOC UPDATE. DO NOT WRITE YOUR TEXT IN THIS CELL -->"
   ]
  },
  {
   "cell_type": "code",
   "execution_count": 11,
   "metadata": {},
   "outputs": [],
   "source": [
    "import pandas as pd\n",
    "import numpy as np\n",
    "from sklearn.model_selection import train_test_split\n",
    "from sklearn.tree import DecisionTreeClassifier\n",
    "from sklearn.ensemble import RandomForestClassifier\n",
    "from sklearn.linear_model import LogisticRegression \n",
    "from sklearn.metrics import accuracy_score\n"
   ]
  },
  {
   "cell_type": "markdown",
   "metadata": {},
   "source": [
    "## <a id='toc1_2_'></a>[Откройте и изучите файл](#toc0_)"
   ]
  },
  {
   "cell_type": "code",
   "execution_count": 12,
   "metadata": {},
   "outputs": [
    {
     "data": {
      "text/html": [
       "<div>\n",
       "<style scoped>\n",
       "    .dataframe tbody tr th:only-of-type {\n",
       "        vertical-align: middle;\n",
       "    }\n",
       "\n",
       "    .dataframe tbody tr th {\n",
       "        vertical-align: top;\n",
       "    }\n",
       "\n",
       "    .dataframe thead th {\n",
       "        text-align: right;\n",
       "    }\n",
       "</style>\n",
       "<table border=\"1\" class=\"dataframe\">\n",
       "  <thead>\n",
       "    <tr style=\"text-align: right;\">\n",
       "      <th></th>\n",
       "      <th>calls</th>\n",
       "      <th>minutes</th>\n",
       "      <th>messages</th>\n",
       "      <th>mb_used</th>\n",
       "      <th>is_ultra</th>\n",
       "    </tr>\n",
       "  </thead>\n",
       "  <tbody>\n",
       "    <tr>\n",
       "      <th>0</th>\n",
       "      <td>40.0</td>\n",
       "      <td>311.90</td>\n",
       "      <td>83.0</td>\n",
       "      <td>19915.42</td>\n",
       "      <td>0</td>\n",
       "    </tr>\n",
       "    <tr>\n",
       "      <th>1</th>\n",
       "      <td>85.0</td>\n",
       "      <td>516.75</td>\n",
       "      <td>56.0</td>\n",
       "      <td>22696.96</td>\n",
       "      <td>0</td>\n",
       "    </tr>\n",
       "    <tr>\n",
       "      <th>2</th>\n",
       "      <td>77.0</td>\n",
       "      <td>467.66</td>\n",
       "      <td>86.0</td>\n",
       "      <td>21060.45</td>\n",
       "      <td>0</td>\n",
       "    </tr>\n",
       "    <tr>\n",
       "      <th>3</th>\n",
       "      <td>106.0</td>\n",
       "      <td>745.53</td>\n",
       "      <td>81.0</td>\n",
       "      <td>8437.39</td>\n",
       "      <td>1</td>\n",
       "    </tr>\n",
       "    <tr>\n",
       "      <th>4</th>\n",
       "      <td>66.0</td>\n",
       "      <td>418.74</td>\n",
       "      <td>1.0</td>\n",
       "      <td>14502.75</td>\n",
       "      <td>0</td>\n",
       "    </tr>\n",
       "  </tbody>\n",
       "</table>\n",
       "</div>"
      ],
      "text/plain": [
       "   calls  minutes  messages   mb_used  is_ultra\n",
       "0   40.0   311.90      83.0  19915.42         0\n",
       "1   85.0   516.75      56.0  22696.96         0\n",
       "2   77.0   467.66      86.0  21060.45         0\n",
       "3  106.0   745.53      81.0   8437.39         1\n",
       "4   66.0   418.74       1.0  14502.75         0"
      ]
     },
     "metadata": {},
     "output_type": "display_data"
    },
    {
     "name": "stdout",
     "output_type": "stream",
     "text": [
      "(3214, 5)\n",
      "<class 'pandas.core.frame.DataFrame'>\n",
      "RangeIndex: 3214 entries, 0 to 3213\n",
      "Data columns (total 5 columns):\n",
      " #   Column    Non-Null Count  Dtype  \n",
      "---  ------    --------------  -----  \n",
      " 0   calls     3214 non-null   float64\n",
      " 1   minutes   3214 non-null   float64\n",
      " 2   messages  3214 non-null   float64\n",
      " 3   mb_used   3214 non-null   float64\n",
      " 4   is_ultra  3214 non-null   int64  \n",
      "dtypes: float64(4), int64(1)\n",
      "memory usage: 125.7 KB\n",
      "0\n"
     ]
    }
   ],
   "source": [
    "try:\n",
    "    df = pd.read_csv('datasets/users_behavior.csv')\n",
    "except:\n",
    "    df = pd.read_csv('/datasets/users_behavior.csv')\n",
    "\n",
    "display(df.head())\n",
    "print(df.shape)\n",
    "df.info()\n",
    "print(df.duplicated().sum())\n"
   ]
  },
  {
   "cell_type": "code",
   "execution_count": 15,
   "metadata": {},
   "outputs": [],
   "source": [
    "from fast_ml.model_development import train_valid_test_split\n",
    "x_train, x_valid, x_test, y_train, y_valid, y_test = train_valid_test_split(df, target='is_ultra', train_size=0.6, valid_size=0.2, test_size=0.2)"
   ]
  },
  {
   "cell_type": "markdown",
   "metadata": {},
   "source": [
    "Предобработка не труебтся"
   ]
  },
  {
   "cell_type": "markdown",
   "metadata": {},
   "source": [
    "## <a id='toc1_3_'></a>[Разбейте данные на выборки](#toc0_)"
   ]
  },
  {
   "cell_type": "code",
   "execution_count": 3,
   "metadata": {},
   "outputs": [],
   "source": [
    "features = df.drop('is_ultra', axis=1)\n",
    "target = df['is_ultra']"
   ]
  },
  {
   "cell_type": "markdown",
   "metadata": {},
   "source": [
    "Так как тестовой выбор у нас нет, делим в пропорции 3:1:1"
   ]
  },
  {
   "cell_type": "code",
   "execution_count": 4,
   "metadata": {},
   "outputs": [
    {
     "name": "stdout",
     "output_type": "stream",
     "text": [
      "(1928, 4)\n",
      "(643, 4)\n",
      "(643, 4)\n"
     ]
    }
   ],
   "source": [
    "features_train, features_vt, target_train, target_vt = train_test_split(\n",
    "    features, target, test_size=0.4, random_state=12345)\n",
    "features_valid, features_test, target_valid, target_test = train_test_split(\n",
    "    features_vt, target_vt, test_size=0.5, random_state=12345)   \n",
    "print(features_train.shape)\n",
    "print(features_valid.shape)\n",
    "print(features_test.shape)"
   ]
  },
  {
   "cell_type": "markdown",
   "metadata": {},
   "source": [
    "## <a id='toc1_4_'></a>[Исследуйте модели](#toc0_)"
   ]
  },
  {
   "cell_type": "markdown",
   "metadata": {},
   "source": [
    "В теории нам сказали, что random forest обладает наилучшей точностью, но в академических целях, проверим точность всех вариантов моделей"
   ]
  },
  {
   "cell_type": "markdown",
   "metadata": {},
   "source": [
    "### <a id='toc1_4_1_'></a>[Решающее дерево](#toc0_)"
   ]
  },
  {
   "cell_type": "code",
   "execution_count": 5,
   "metadata": {},
   "outputs": [
    {
     "name": "stdout",
     "output_type": "stream",
     "text": [
      "Accuracy лучшей модели дерева: 0.7853810264385692 Глубина дерева: 3\n"
     ]
    }
   ],
   "source": [
    "best_tree_model = None\n",
    "best_result = 0\n",
    "best_depth = 0\n",
    "for depth in range(1, 6):\n",
    "\tmodel = DecisionTreeClassifier(random_state=12345, max_depth=depth) \n",
    "\tmodel.fit(features_train, target_train) \n",
    "\tpredictions = model.predict(features_valid) \n",
    "\tresult = accuracy_score(target_valid, predictions) \n",
    "\tif result > best_result:\n",
    "\t\tbest_tree_model = model\n",
    "\t\tbest_result = result\n",
    "\t\tbest_depth = depth\n",
    "\n",
    "print(\"Accuracy лучшей модели дерева:\", best_result, 'Глубина дерева:', best_depth)"
   ]
  },
  {
   "cell_type": "markdown",
   "metadata": {},
   "source": [
    "### <a id='toc1_4_2_'></a>[Случайный лес](#toc0_)"
   ]
  },
  {
   "cell_type": "code",
   "execution_count": 6,
   "metadata": {},
   "outputs": [
    {
     "name": "stdout",
     "output_type": "stream",
     "text": [
      "Accuracy наилучшей модели случайный лес: 0.7931570762052877\n",
      "Количество деревьев в лесу: 8\n",
      "Глубина дерева: 5\n"
     ]
    }
   ],
   "source": [
    "best_rf_model = None\n",
    "best_result = 0\n",
    "best_est = 0\n",
    "best_depth = 0\n",
    "for est in range(1, 11):\n",
    "    for depth in range(1, 6):\n",
    "        model = RandomForestClassifier(random_state=12345, n_estimators=est, max_depth=depth) \n",
    "        model.fit(features_train, target_train) \n",
    "        predictions = model.predict(features_valid) \n",
    "        result = accuracy_score(target_valid, predictions) \n",
    "        if result > best_result:\n",
    "            best_rf_model = model \n",
    "            best_result = result\n",
    "            best_est = est\n",
    "            best_depth = depth\n",
    "\n",
    "print('Accuracy наилучшей модели случайный лес:', best_result)\n",
    "print('Количество деревьев в лесу:', best_est)\n",
    "print('Глубина дерева:', best_depth)"
   ]
  },
  {
   "cell_type": "markdown",
   "metadata": {},
   "source": [
    "### <a id='toc1_4_3_'></a>[Логистическая регрессия](#toc0_)"
   ]
  },
  {
   "cell_type": "code",
   "execution_count": 16,
   "metadata": {},
   "outputs": [
    {
     "name": "stdout",
     "output_type": "stream",
     "text": [
      "Accuracy модели логистической регресси: 0.7107309486780715\n"
     ]
    }
   ],
   "source": [
    "model_lr = LogisticRegression(random_state=12345, solver='lbfgs', max_iter=1000) \n",
    "model_lr.fit(features_train, target_train)\n",
    "predictions = model_lr.predict(features_valid) \n",
    "result = accuracy_score(target_valid, predictions) \n",
    "print(\"Accuracy модели логистической регресси:\", result)"
   ]
  },
  {
   "cell_type": "markdown",
   "metadata": {},
   "source": [
    "## <a id='toc1_5_'></a>[Проверьте модель на тестовой выборке](#toc0_)"
   ]
  },
  {
   "cell_type": "code",
   "execution_count": 15,
   "metadata": {},
   "outputs": [
    {
     "name": "stdout",
     "output_type": "stream",
     "text": [
      "Accuracy на тестовых данных\n",
      "Решающее дерево: 0.7791601866251944\n",
      "Случайный лес: 0.7962674961119751\n",
      "Логистическая регрессия: 0.6842923794712286\n"
     ]
    }
   ],
   "source": [
    "print(\"Accuracy на тестовых данных\")\n",
    "print('Решающее дерево:', accuracy_score(target_test, best_tree_model.predict(features_test)))\n",
    "print('Случайный лес:', accuracy_score(target_test, best_rf_model.predict(features_test)))\n",
    "print('Логистическая регрессия:', accuracy_score(target_test, model_lr.predict(features_test)))\n"
   ]
  },
  {
   "cell_type": "markdown",
   "metadata": {},
   "source": [
    "## <a id='toc1_6_'></a>[Вывод](#toc0_)\n",
    "На тестовых данных лучшшую accuracy показала модель Random Forest с гиперпараметром `n_estimators` равным 8 и `max_depth` = 5. Accuracy ~0.80, что выше 0,75, поэтому эту модель можно брать в работу."
   ]
  },
  {
   "cell_type": "markdown",
   "metadata": {},
   "source": [
    "## <a id='toc1_7_'></a>[(бонус) Проверьте модели на адекватность](#toc0_)"
   ]
  },
  {
   "cell_type": "markdown",
   "metadata": {},
   "source": [
    "Чтобы проверить модель на адекватность, сравним её Accuracy c Accuracy случайной выборки"
   ]
  },
  {
   "cell_type": "code",
   "execution_count": 9,
   "metadata": {},
   "outputs": [
    {
     "name": "stdout",
     "output_type": "stream",
     "text": [
      "Accuracy случайного выбора 0.6842923794712286\n"
     ]
    }
   ],
   "source": [
    "target_random = pd.Series(np.random.randint(0,1), index=target_test.index)\n",
    "print('Accuracy случайного выбора', accuracy_score(target_test, target_random))"
   ]
  },
  {
   "cell_type": "markdown",
   "metadata": {},
   "source": [
    "Вывод: Выбранные нами модель прошла проверку на адекватность."
   ]
  },
  {
   "cell_type": "markdown",
   "metadata": {},
   "source": [
    "## <a id='toc1_8_'></a>[Чек-лист готовности проекта](#toc0_)"
   ]
  },
  {
   "cell_type": "markdown",
   "metadata": {},
   "source": [
    "Поставьте 'x' в выполненных пунктах. Далее нажмите Shift+Enter."
   ]
  },
  {
   "cell_type": "markdown",
   "metadata": {},
   "source": [
    "- [x] Jupyter Notebook открыт\n",
    "- [x] Весь код исполняется без ошибок\n",
    "- [x] Ячейки с кодом расположены в порядке исполнения\n",
    "- [x] Выполнено задание 1: данные загружены и изучены\n",
    "- [x] Выполнено задание 2: данные разбиты на три выборки\n",
    "- [x] Выполнено задание 3: проведено исследование моделей\n",
    "    - [x] Рассмотрено больше одной модели\n",
    "    - [x] Рассмотрено хотя бы 3 значения гипепараметров для какой-нибудь модели\n",
    "    - [x] Написаны выводы по результатам исследования\n",
    "- [x] Выполнено задание 3: Проведено тестирование\n",
    "- [x] Удалось достичь accuracy не меньше 0.75\n"
   ]
  }
 ],
 "metadata": {
  "ExecuteTimeLog": [
   {
    "duration": 2296,
    "start_time": "2023-06-05T11:53:20.704Z"
   },
   {
    "duration": 233,
    "start_time": "2023-06-05T11:53:23.002Z"
   },
   {
    "duration": 4,
    "start_time": "2023-06-05T11:53:23.237Z"
   },
   {
    "duration": 18,
    "start_time": "2023-06-05T11:53:23.243Z"
   },
   {
    "duration": 34,
    "start_time": "2023-06-05T11:53:23.263Z"
   },
   {
    "duration": 670,
    "start_time": "2023-06-05T11:53:23.298Z"
   },
   {
    "duration": 24,
    "start_time": "2023-06-05T11:53:23.970Z"
   },
   {
    "duration": 10,
    "start_time": "2023-06-05T11:53:23.995Z"
   },
   {
    "duration": 16,
    "start_time": "2023-06-05T11:53:24.007Z"
   },
   {
    "duration": 74,
    "start_time": "2023-06-05T12:26:37.352Z"
   },
   {
    "duration": 80,
    "start_time": "2023-06-05T12:42:37.891Z"
   },
   {
    "duration": 76,
    "start_time": "2023-06-05T12:45:30.924Z"
   },
   {
    "duration": 71,
    "start_time": "2023-06-05T12:48:20.338Z"
   },
   {
    "duration": 1261,
    "start_time": "2023-06-05T13:00:55.143Z"
   },
   {
    "duration": 134,
    "start_time": "2023-06-05T13:00:56.406Z"
   },
   {
    "duration": 4,
    "start_time": "2023-06-05T13:00:56.542Z"
   },
   {
    "duration": 11,
    "start_time": "2023-06-05T13:00:56.548Z"
   },
   {
    "duration": 34,
    "start_time": "2023-06-05T13:00:56.562Z"
   },
   {
    "duration": 856,
    "start_time": "2023-06-05T13:00:56.598Z"
   },
   {
    "duration": 26,
    "start_time": "2023-06-05T13:00:57.455Z"
   },
   {
    "duration": 14,
    "start_time": "2023-06-05T13:00:57.485Z"
   },
   {
    "duration": 33,
    "start_time": "2023-06-05T13:00:57.501Z"
   },
   {
    "duration": 28,
    "start_time": "2023-06-05T13:02:56.274Z"
   },
   {
    "duration": 30,
    "start_time": "2023-06-05T13:03:05.161Z"
   },
   {
    "duration": 28,
    "start_time": "2023-06-05T13:03:07.046Z"
   },
   {
    "duration": 90,
    "start_time": "2023-06-05T13:04:29.984Z"
   },
   {
    "duration": 14,
    "start_time": "2023-06-05T13:04:39.542Z"
   },
   {
    "duration": 20,
    "start_time": "2023-06-05T13:05:25.111Z"
   },
   {
    "duration": 26,
    "start_time": "2023-06-05T13:05:38.957Z"
   },
   {
    "duration": 71,
    "start_time": "2023-06-15T05:21:33.205Z"
   },
   {
    "duration": 86,
    "start_time": "2023-06-15T05:21:50.271Z"
   },
   {
    "duration": 99,
    "start_time": "2023-06-15T05:22:14.165Z"
   },
   {
    "duration": 3186,
    "start_time": "2023-06-15T05:22:21.243Z"
   },
   {
    "duration": 61,
    "start_time": "2023-06-15T05:22:27.078Z"
   },
   {
    "duration": 42,
    "start_time": "2023-06-15T05:22:35.029Z"
   },
   {
    "duration": 6,
    "start_time": "2023-06-15T05:22:43.972Z"
   },
   {
    "duration": 1580,
    "start_time": "2023-06-15T05:22:50.961Z"
   },
   {
    "duration": 10,
    "start_time": "2023-06-15T05:22:57.745Z"
   },
   {
    "duration": 12,
    "start_time": "2023-06-15T05:23:30.293Z"
   },
   {
    "duration": 3,
    "start_time": "2023-06-15T05:23:38.559Z"
   },
   {
    "duration": 243,
    "start_time": "2023-06-15T05:23:40.371Z"
   },
   {
    "duration": 9,
    "start_time": "2023-06-15T05:23:44.456Z"
   },
   {
    "duration": 19,
    "start_time": "2023-06-15T05:24:02.462Z"
   },
   {
    "duration": 7,
    "start_time": "2023-06-15T05:24:12.855Z"
   }
  ],
  "kernelspec": {
   "display_name": "Python 3 (ipykernel)",
   "language": "python",
   "name": "python3"
  },
  "language_info": {
   "codemirror_mode": {
    "name": "ipython",
    "version": 3
   },
   "file_extension": ".py",
   "mimetype": "text/x-python",
   "name": "python",
   "nbconvert_exporter": "python",
   "pygments_lexer": "ipython3",
   "version": "3.9.5"
  },
  "toc": {
   "base_numbering": 1,
   "nav_menu": {},
   "number_sections": true,
   "sideBar": true,
   "skip_h1_title": true,
   "title_cell": "Table of Contents",
   "title_sidebar": "Contents",
   "toc_cell": false,
   "toc_position": {},
   "toc_section_display": true,
   "toc_window_display": false
  }
 },
 "nbformat": 4,
 "nbformat_minor": 2
}
