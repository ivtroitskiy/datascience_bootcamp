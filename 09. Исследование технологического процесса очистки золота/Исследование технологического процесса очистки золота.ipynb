{
 "cells": [
  {
   "cell_type": "markdown",
   "metadata": {},
   "source": [
    "# Проект Исследование технологического процесса очистки золота\n",
    "Исполнитель: Троицкий Илья  \n",
    "Дата: 28 июня 2023  \n",
    "Проект выполняется в рамках курса Data Science bootcamp, Молуль 2, итоговый проект"
   ]
  },
  {
   "cell_type": "markdown",
   "metadata": {
    "toc": true
   },
   "source": [
    "<h1>Содержание<span class=\"tocSkip\"></span></h1>\n",
    "<div class=\"toc\"><ul class=\"toc-item\"><li><ul class=\"toc-item\"><li><span><a href=\"#Описание\" data-toc-modified-id=\"Описание-0.1\"><span class=\"toc-item-num\">0.1&nbsp;&nbsp;</span>Описание</a></span></li><li><span><a href=\"#Описание-данных\" data-toc-modified-id=\"Описание-данных-0.2\"><span class=\"toc-item-num\">0.2&nbsp;&nbsp;</span>Описание данных</a></span><ul class=\"toc-item\"><li><span><a href=\"#Наименование-признаков\" data-toc-modified-id=\"Наименование-признаков-0.2.1\"><span class=\"toc-item-num\">0.2.1&nbsp;&nbsp;</span>Наименование признаков</a></span></li></ul></li></ul></li><li><span><a href=\"#Импорт-библиотек-и-описание-функций\" data-toc-modified-id=\"Импорт-библиотек-и-описание-функций-1\"><span class=\"toc-item-num\">1&nbsp;&nbsp;</span>Импорт библиотек и описание функций</a></span></li><li><span><a href=\"#Подготовка-данных\" data-toc-modified-id=\"Подготовка-данных-2\"><span class=\"toc-item-num\">2&nbsp;&nbsp;</span>Подготовка данных</a></span><ul class=\"toc-item\"><li><ul class=\"toc-item\"><li><span><a href=\"#Обучающая-выборка\" data-toc-modified-id=\"Обучающая-выборка-2.0.1\"><span class=\"toc-item-num\">2.0.1&nbsp;&nbsp;</span>Обучающая выборка</a></span><ul class=\"toc-item\"><li><span><a href=\"#Обработка-обучающей-выборки\" data-toc-modified-id=\"Обработка-обучающей-выборки-2.0.1.1\"><span class=\"toc-item-num\">2.0.1.1&nbsp;&nbsp;</span>Обработка обучающей выборки</a></span></li></ul></li><li><span><a href=\"#Тестовая-выборка\" data-toc-modified-id=\"Тестовая-выборка-2.0.2\"><span class=\"toc-item-num\">2.0.2&nbsp;&nbsp;</span>Тестовая выборка</a></span></li><li><span><a href=\"#Полная-выборка\" data-toc-modified-id=\"Полная-выборка-2.0.3\"><span class=\"toc-item-num\">2.0.3&nbsp;&nbsp;</span>Полная выборка</a></span></li></ul></li></ul></li><li><span><a href=\"#Анализ-данных\" data-toc-modified-id=\"Анализ-данных-3\"><span class=\"toc-item-num\">3&nbsp;&nbsp;</span>Анализ данных</a></span><ul class=\"toc-item\"><li><span><a href=\"#Анализ-концетрации-металлов-на-различных-стадиях-очистки\" data-toc-modified-id=\"Анализ-концетрации-металлов-на-различных-стадиях-очистки-3.1\"><span class=\"toc-item-num\">3.1&nbsp;&nbsp;</span>Анализ концетрации металлов на различных стадиях очистки</a></span></li><li><span><a href=\"#Разпределение-размеров-гранул-в-начальном-сырье\" data-toc-modified-id=\"Разпределение-размеров-гранул-в-начальном-сырье-3.2\"><span class=\"toc-item-num\">3.2&nbsp;&nbsp;</span>Разпределение размеров гранул в начальном сырье</a></span></li><li><span><a href=\"#Суммарную-концентрацию-металлов-на-разных-стадиях\" data-toc-modified-id=\"Суммарную-концентрацию-металлов-на-разных-стадиях-3.3\"><span class=\"toc-item-num\">3.3&nbsp;&nbsp;</span>Суммарную концентрацию металлов на разных стадиях</a></span></li><li><span><a href=\"#Вывод:-Общая-концетрация-металлов-растет-с-21%,-в-необработамнном-сырье,--до-60%-после-второй-очистки.\" data-toc-modified-id=\"Вывод:-Общая-концетрация-металлов-растет-с-21%,-в-необработамнном-сырье,--до-60%-после-второй-очистки.-3.4\"><span class=\"toc-item-num\">3.4&nbsp;&nbsp;</span>Вывод: Общая концетрация металлов растет с 21%, в необработамнном сырье,  до 60% после второй очистки.</a></span></li></ul></li><li><span><a href=\"#Модель\" data-toc-modified-id=\"Модель-4\"><span class=\"toc-item-num\">4&nbsp;&nbsp;</span>Модель</a></span><ul class=\"toc-item\"><li><span><a href=\"#Функция-для-вычисления-sMAPE\" data-toc-modified-id=\"Функция-для-вычисления-sMAPE-4.1\"><span class=\"toc-item-num\">4.1&nbsp;&nbsp;</span>Функция для вычисления sMAPE</a></span></li><li><span><a href=\"#Подготовка-данных\" data-toc-modified-id=\"Подготовка-данных-4.2\"><span class=\"toc-item-num\">4.2&nbsp;&nbsp;</span>Подготовка данных</a></span></li><li><span><a href=\"#Обучение-моделей\" data-toc-modified-id=\"Обучение-моделей-4.3\"><span class=\"toc-item-num\">4.3&nbsp;&nbsp;</span>Обучение моделей</a></span><ul class=\"toc-item\"><li><span><a href=\"#Модель-для-чернового-концетрата\" data-toc-modified-id=\"Модель-для-чернового-концетрата-4.3.1\"><span class=\"toc-item-num\">4.3.1&nbsp;&nbsp;</span>Модель для чернового концетрата</a></span></li><li><span><a href=\"#Модели-для-финального-результата\" data-toc-modified-id=\"Модели-для-финального-результата-4.3.2\"><span class=\"toc-item-num\">4.3.2&nbsp;&nbsp;</span>Модели для финального результата</a></span></li></ul></li><li><span><a href=\"#Проверка-на-тестовых-данных\" data-toc-modified-id=\"Проверка-на-тестовых-данных-4.4\"><span class=\"toc-item-num\">4.4&nbsp;&nbsp;</span>Проверка на тестовых данных</a></span></li></ul></li><li><span><a href=\"#Вывод\" data-toc-modified-id=\"Вывод-5\"><span class=\"toc-item-num\">5&nbsp;&nbsp;</span>Вывод</a></span></li><li><span><a href=\"#Чек-лист-готовности-проекта\" data-toc-modified-id=\"Чек-лист-готовности-проекта-6\"><span class=\"toc-item-num\">6&nbsp;&nbsp;</span>Чек-лист готовности проекта</a></span></li></ul></div>"
   ]
  },
  {
   "cell_type": "markdown",
   "metadata": {},
   "source": [
    "### Описание"
   ]
  },
  {
   "cell_type": "markdown",
   "metadata": {},
   "source": [
    "Подготовьте прототип модели машинного обучения для «Цифры». Компания разрабатывает решения для эффективной работы промышленных предприятий.\n",
    "\n",
    "Модель должна предсказать коэффициент восстановления золота из золотосодержащей руды. Используйте данные с параметрами добычи и очистки. \n",
    "\n",
    "Модель поможет оптимизировать производство, чтобы не запускать предприятие с убыточными характеристиками.\n",
    "\n",
    "Вам нужно:\n",
    "\n",
    "1. Подготовить данные;\n",
    "2. Провести исследовательский анализ данных;\n",
    "3. Построить и обучить модель.\n",
    "\n",
    "Чтобы выполнить проект, обращайтесь к библиотекам *pandas*, *matplotlib* и *sklearn.* Вам поможет их документация."
   ]
  },
  {
   "cell_type": "markdown",
   "metadata": {},
   "source": [
    "### Описание данных\n",
    "\n",
    "Данные находятся в трёх файлах:   \n",
    "\n",
    "- `gold_industry_train.csv` — обучающая выборка;\n",
    "- `gold_industry_test.csv` — тестовая выборка;\n",
    "- `gold_industry_full.csv` — исходные данные.\n",
    "\n",
    "Технологический процесс\n",
    "- Rougher feed — исходное сырье\n",
    "- Rougher additions (или reagent additions) — флотационные реагенты: Xanthate, Sulphate, Depressant\n",
    "- Xanthate — ксантогенат (промотер, или активатор флотации);\n",
    "- Sulphate — сульфат (на данном производстве сульфид натрия);\n",
    "- Depressant — депрессант (силикат натрия).\n",
    "- Rougher process (англ. «грубый процесс») — флотация\n",
    "- Rougher tails — отвальные хвосты\n",
    "- Float banks — флотационная установка\n",
    "- Cleaner process — очистка\n",
    "- Rougher Au — черновой концентрат золота\n",
    "- Final Au — финальный концентрат золота\n",
    "- Параметры этапов\n",
    "- air amount — объём воздуха\n",
    "- fluid levels — уровень жидкости\n",
    "- feed size — размер гранул сырья\n",
    "- feed rate — скорость подачи\n",
    "\n",
    "#### Наименование признаков\n",
    "Наименование признаков должно быть такое:  \n",
    "`[этап].[тип_параметра].[название_параметра]`  \n",
    "\n",
    "\n",
    "Пример: `rougher.input.feed_ag`\n",
    "\n",
    "\n",
    "Возможные значения для блока [этап]:  \n",
    "- `rougher` — флотация  \n",
    "- `primary_cleaner` — первичная очистка  \n",
    "- `secondary_cleaner` — вторичная очистка  \n",
    "- `final` — финальные характеристики  \n",
    "\n",
    "\n",
    "Возможные значения для блока [тип_параметра]:  \n",
    "- `input` — параметры сырья  \n",
    "- `output` — параметры продукта  \n",
    "- `state` — параметры, характеризующие текущее состояние этапа  \n",
    "- `calculation` — расчётные характеристики  "
   ]
  },
  {
   "cell_type": "markdown",
   "metadata": {},
   "source": [
    "## Импорт библиотек и описание функций\n"
   ]
  },
  {
   "cell_type": "code",
   "execution_count": 1,
   "metadata": {},
   "outputs": [],
   "source": [
    "import pandas as pd\n",
    "import numpy as np\n",
    "import matplotlib.pyplot as plt\n",
    "import re\n",
    "import seaborn as sns\n",
    "\n",
    "from sklearn.tree import DecisionTreeRegressor\n",
    "from sklearn.ensemble import RandomForestRegressor\n",
    "from sklearn.linear_model import LinearRegression\n",
    "\n",
    "from sklearn.preprocessing import StandardScaler, OneHotEncoder\n",
    "\n",
    "from sklearn.model_selection import train_test_split, GridSearchCV\n",
    "\n",
    "from sklearn.compose import ColumnTransformer\n",
    "from sklearn.pipeline import Pipeline\n",
    "from sklearn.metrics import mean_squared_error\n",
    "from sklearn.metrics import mean_absolute_error\n",
    "from sklearn.metrics import make_scorer\n",
    "from sklearn.model_selection import cross_val_score\n",
    "\n",
    "from sklearn.dummy import DummyRegressor\n",
    "\n",
    "pd.options.mode.chained_assignment = None"
   ]
  },
  {
   "cell_type": "code",
   "execution_count": 2,
   "metadata": {},
   "outputs": [],
   "source": [
    "def dataframe_info(df):\n",
    "    display(df.head())\n",
    "    print('SHAPE:', df.shape)\n",
    "    df.info()\n",
    "    print('DUPLICATES:', df.duplicated().sum())\n",
    "    df.boxplot()\n",
    "    plt.show()\n",
    "\n",
    "def remove_outlier(data, col):\n",
    "    q1 = data[col].quantile(0.25)   \n",
    "    q3 = data[col].quantile(0.75)\n",
    "    iqr = q3-q1\n",
    "\n",
    "    min = q1 - iqr*1.5\n",
    "    max = q3 + iqr*1.5\n",
    "    \n",
    "    #return data.query(f'({col} > {min}) and ({col} < {max})')\n",
    "    return data[(data[col] > min) & (data[col] < max)]"
   ]
  },
  {
   "cell_type": "code",
   "execution_count": 3,
   "metadata": {},
   "outputs": [],
   "source": [
    "def recovery(C, F, T):\n",
    "    # C — доля золота в концентрате после флотации/очистки; rougher.output.tail_au\n",
    "    # F — доля золота в сырье/концентрате до флотации/очистки; rougher.output.concentrate_au \n",
    "    # T — доля золота в отвальных хвостах после флотации/очистки. ougher.input.feed_aur\n",
    "    if (F * (C-T)) == 0:\n",
    "        return 0\n",
    "    else:    \n",
    "        recovery = (C * (F-T)) / (F * (C-T)) * 100\n",
    "        \n",
    "    return recovery"
   ]
  },
  {
   "cell_type": "markdown",
   "metadata": {},
   "source": [
    "## Подготовка данных"
   ]
  },
  {
   "cell_type": "code",
   "execution_count": 4,
   "metadata": {},
   "outputs": [],
   "source": [
    "try:\n",
    "   train_data = pd.read_csv('datasets/gold_industry_train.csv')\n",
    "   test_data = pd.read_csv('datasets/gold_industry_test.csv')\n",
    "   full_data = pd.read_csv('datasets/gold_industry_full.csv')\n",
    "except:\n",
    "   train_data = pd.read_csv('/datasets/gold_industry_train.csv')\n",
    "   test_data = pd.read_csv('/datasets/gold_industry_test.csv')\n",
    "   full_data = pd.read_csv('/datasets/gold_industry_full.csv')      "
   ]
  },
  {
   "cell_type": "markdown",
   "metadata": {},
   "source": [
    "По условию задачи, поле date уникально для каждой строки и индетифицирует одни и те же строки во всех выборка, поэтому сделаем этот поле индексом"
   ]
  },
  {
   "cell_type": "code",
   "execution_count": 5,
   "metadata": {},
   "outputs": [],
   "source": [
    "train_data = train_data.set_index('date')\n",
    "full_data = full_data.set_index('date')\n",
    "test_data = test_data.set_index('date')"
   ]
  },
  {
   "cell_type": "markdown",
   "metadata": {},
   "source": [
    "#### Обучающая выборка"
   ]
  },
  {
   "cell_type": "code",
   "execution_count": 6,
   "metadata": {},
   "outputs": [
    {
     "data": {
      "text/html": [
       "<div>\n",
       "<style scoped>\n",
       "    .dataframe tbody tr th:only-of-type {\n",
       "        vertical-align: middle;\n",
       "    }\n",
       "\n",
       "    .dataframe tbody tr th {\n",
       "        vertical-align: top;\n",
       "    }\n",
       "\n",
       "    .dataframe thead th {\n",
       "        text-align: right;\n",
       "    }\n",
       "</style>\n",
       "<table border=\"1\" class=\"dataframe\">\n",
       "  <thead>\n",
       "    <tr style=\"text-align: right;\">\n",
       "      <th></th>\n",
       "      <th>rougher.input.feed_au</th>\n",
       "      <th>rougher.input.feed_ag</th>\n",
       "      <th>rougher.input.feed_pb</th>\n",
       "      <th>rougher.input.feed_sol</th>\n",
       "      <th>rougher.input.feed_rate</th>\n",
       "      <th>rougher.input.feed_size</th>\n",
       "      <th>rougher.input.floatbank10_sulfate</th>\n",
       "      <th>rougher.input.floatbank10_xanthate</th>\n",
       "      <th>rougher.state.floatbank10_a_air</th>\n",
       "      <th>rougher.state.floatbank10_a_level</th>\n",
       "      <th>...</th>\n",
       "      <th>secondary_cleaner.output.tail_sol</th>\n",
       "      <th>final.output.concentrate_au</th>\n",
       "      <th>final.output.concentrate_ag</th>\n",
       "      <th>final.output.concentrate_pb</th>\n",
       "      <th>final.output.concentrate_sol</th>\n",
       "      <th>final.output.recovery</th>\n",
       "      <th>final.output.tail_au</th>\n",
       "      <th>final.output.tail_ag</th>\n",
       "      <th>final.output.tail_pb</th>\n",
       "      <th>final.output.tail_sol</th>\n",
       "    </tr>\n",
       "    <tr>\n",
       "      <th>date</th>\n",
       "      <th></th>\n",
       "      <th></th>\n",
       "      <th></th>\n",
       "      <th></th>\n",
       "      <th></th>\n",
       "      <th></th>\n",
       "      <th></th>\n",
       "      <th></th>\n",
       "      <th></th>\n",
       "      <th></th>\n",
       "      <th></th>\n",
       "      <th></th>\n",
       "      <th></th>\n",
       "      <th></th>\n",
       "      <th></th>\n",
       "      <th></th>\n",
       "      <th></th>\n",
       "      <th></th>\n",
       "      <th></th>\n",
       "      <th></th>\n",
       "      <th></th>\n",
       "    </tr>\n",
       "  </thead>\n",
       "  <tbody>\n",
       "    <tr>\n",
       "      <th>2016-01-15 00:00:00</th>\n",
       "      <td>6.486150</td>\n",
       "      <td>6.100378</td>\n",
       "      <td>2.284912</td>\n",
       "      <td>36.808594</td>\n",
       "      <td>523.546326</td>\n",
       "      <td>55.486599</td>\n",
       "      <td>11.986616</td>\n",
       "      <td>6.007990</td>\n",
       "      <td>999.706909</td>\n",
       "      <td>-404.066986</td>\n",
       "      <td>...</td>\n",
       "      <td>8.764648</td>\n",
       "      <td>42.192020</td>\n",
       "      <td>6.055403</td>\n",
       "      <td>9.889648</td>\n",
       "      <td>5.507324</td>\n",
       "      <td>70.541216</td>\n",
       "      <td>2.143149</td>\n",
       "      <td>10.411962</td>\n",
       "      <td>0.895447</td>\n",
       "      <td>16.904297</td>\n",
       "    </tr>\n",
       "    <tr>\n",
       "      <th>2016-01-15 01:00:00</th>\n",
       "      <td>6.478583</td>\n",
       "      <td>6.161113</td>\n",
       "      <td>2.266033</td>\n",
       "      <td>35.753385</td>\n",
       "      <td>525.290581</td>\n",
       "      <td>57.278666</td>\n",
       "      <td>11.971193</td>\n",
       "      <td>6.005766</td>\n",
       "      <td>1000.286398</td>\n",
       "      <td>-400.065196</td>\n",
       "      <td>...</td>\n",
       "      <td>9.001494</td>\n",
       "      <td>42.701629</td>\n",
       "      <td>6.029369</td>\n",
       "      <td>9.968944</td>\n",
       "      <td>5.257781</td>\n",
       "      <td>69.266198</td>\n",
       "      <td>2.224930</td>\n",
       "      <td>10.462676</td>\n",
       "      <td>0.927452</td>\n",
       "      <td>16.634514</td>\n",
       "    </tr>\n",
       "    <tr>\n",
       "      <th>2016-01-15 02:00:00</th>\n",
       "      <td>6.362222</td>\n",
       "      <td>6.116455</td>\n",
       "      <td>2.159622</td>\n",
       "      <td>35.971630</td>\n",
       "      <td>530.026610</td>\n",
       "      <td>57.510649</td>\n",
       "      <td>11.920603</td>\n",
       "      <td>6.197377</td>\n",
       "      <td>999.719565</td>\n",
       "      <td>-400.074028</td>\n",
       "      <td>...</td>\n",
       "      <td>8.842896</td>\n",
       "      <td>42.657501</td>\n",
       "      <td>6.055926</td>\n",
       "      <td>10.213995</td>\n",
       "      <td>5.383759</td>\n",
       "      <td>68.116445</td>\n",
       "      <td>2.257889</td>\n",
       "      <td>10.507046</td>\n",
       "      <td>0.953716</td>\n",
       "      <td>16.208849</td>\n",
       "    </tr>\n",
       "    <tr>\n",
       "      <th>2016-01-15 03:00:00</th>\n",
       "      <td>6.118189</td>\n",
       "      <td>6.043309</td>\n",
       "      <td>2.037807</td>\n",
       "      <td>36.862241</td>\n",
       "      <td>542.590390</td>\n",
       "      <td>57.792734</td>\n",
       "      <td>11.630094</td>\n",
       "      <td>6.203177</td>\n",
       "      <td>999.814770</td>\n",
       "      <td>-400.200179</td>\n",
       "      <td>...</td>\n",
       "      <td>9.122857</td>\n",
       "      <td>42.689819</td>\n",
       "      <td>6.047977</td>\n",
       "      <td>9.977019</td>\n",
       "      <td>4.858634</td>\n",
       "      <td>68.347543</td>\n",
       "      <td>2.146849</td>\n",
       "      <td>10.422762</td>\n",
       "      <td>0.883763</td>\n",
       "      <td>16.532835</td>\n",
       "    </tr>\n",
       "    <tr>\n",
       "      <th>2016-01-15 04:00:00</th>\n",
       "      <td>5.663707</td>\n",
       "      <td>6.060915</td>\n",
       "      <td>1.786875</td>\n",
       "      <td>34.347666</td>\n",
       "      <td>540.531893</td>\n",
       "      <td>56.047189</td>\n",
       "      <td>10.957755</td>\n",
       "      <td>6.198826</td>\n",
       "      <td>999.678690</td>\n",
       "      <td>-399.752729</td>\n",
       "      <td>...</td>\n",
       "      <td>8.871028</td>\n",
       "      <td>42.774141</td>\n",
       "      <td>6.148599</td>\n",
       "      <td>10.142511</td>\n",
       "      <td>4.939416</td>\n",
       "      <td>66.927016</td>\n",
       "      <td>2.055292</td>\n",
       "      <td>10.360302</td>\n",
       "      <td>0.792826</td>\n",
       "      <td>16.525686</td>\n",
       "    </tr>\n",
       "  </tbody>\n",
       "</table>\n",
       "<p>5 rows × 86 columns</p>\n",
       "</div>"
      ],
      "text/plain": [
       "                     rougher.input.feed_au  rougher.input.feed_ag  \\\n",
       "date                                                                \n",
       "2016-01-15 00:00:00               6.486150               6.100378   \n",
       "2016-01-15 01:00:00               6.478583               6.161113   \n",
       "2016-01-15 02:00:00               6.362222               6.116455   \n",
       "2016-01-15 03:00:00               6.118189               6.043309   \n",
       "2016-01-15 04:00:00               5.663707               6.060915   \n",
       "\n",
       "                     rougher.input.feed_pb  rougher.input.feed_sol  \\\n",
       "date                                                                 \n",
       "2016-01-15 00:00:00               2.284912               36.808594   \n",
       "2016-01-15 01:00:00               2.266033               35.753385   \n",
       "2016-01-15 02:00:00               2.159622               35.971630   \n",
       "2016-01-15 03:00:00               2.037807               36.862241   \n",
       "2016-01-15 04:00:00               1.786875               34.347666   \n",
       "\n",
       "                     rougher.input.feed_rate  rougher.input.feed_size  \\\n",
       "date                                                                    \n",
       "2016-01-15 00:00:00               523.546326                55.486599   \n",
       "2016-01-15 01:00:00               525.290581                57.278666   \n",
       "2016-01-15 02:00:00               530.026610                57.510649   \n",
       "2016-01-15 03:00:00               542.590390                57.792734   \n",
       "2016-01-15 04:00:00               540.531893                56.047189   \n",
       "\n",
       "                     rougher.input.floatbank10_sulfate  \\\n",
       "date                                                     \n",
       "2016-01-15 00:00:00                          11.986616   \n",
       "2016-01-15 01:00:00                          11.971193   \n",
       "2016-01-15 02:00:00                          11.920603   \n",
       "2016-01-15 03:00:00                          11.630094   \n",
       "2016-01-15 04:00:00                          10.957755   \n",
       "\n",
       "                     rougher.input.floatbank10_xanthate  \\\n",
       "date                                                      \n",
       "2016-01-15 00:00:00                            6.007990   \n",
       "2016-01-15 01:00:00                            6.005766   \n",
       "2016-01-15 02:00:00                            6.197377   \n",
       "2016-01-15 03:00:00                            6.203177   \n",
       "2016-01-15 04:00:00                            6.198826   \n",
       "\n",
       "                     rougher.state.floatbank10_a_air  \\\n",
       "date                                                   \n",
       "2016-01-15 00:00:00                       999.706909   \n",
       "2016-01-15 01:00:00                      1000.286398   \n",
       "2016-01-15 02:00:00                       999.719565   \n",
       "2016-01-15 03:00:00                       999.814770   \n",
       "2016-01-15 04:00:00                       999.678690   \n",
       "\n",
       "                     rougher.state.floatbank10_a_level  ...  \\\n",
       "date                                                    ...   \n",
       "2016-01-15 00:00:00                        -404.066986  ...   \n",
       "2016-01-15 01:00:00                        -400.065196  ...   \n",
       "2016-01-15 02:00:00                        -400.074028  ...   \n",
       "2016-01-15 03:00:00                        -400.200179  ...   \n",
       "2016-01-15 04:00:00                        -399.752729  ...   \n",
       "\n",
       "                     secondary_cleaner.output.tail_sol  \\\n",
       "date                                                     \n",
       "2016-01-15 00:00:00                           8.764648   \n",
       "2016-01-15 01:00:00                           9.001494   \n",
       "2016-01-15 02:00:00                           8.842896   \n",
       "2016-01-15 03:00:00                           9.122857   \n",
       "2016-01-15 04:00:00                           8.871028   \n",
       "\n",
       "                     final.output.concentrate_au  final.output.concentrate_ag  \\\n",
       "date                                                                            \n",
       "2016-01-15 00:00:00                    42.192020                     6.055403   \n",
       "2016-01-15 01:00:00                    42.701629                     6.029369   \n",
       "2016-01-15 02:00:00                    42.657501                     6.055926   \n",
       "2016-01-15 03:00:00                    42.689819                     6.047977   \n",
       "2016-01-15 04:00:00                    42.774141                     6.148599   \n",
       "\n",
       "                     final.output.concentrate_pb  \\\n",
       "date                                               \n",
       "2016-01-15 00:00:00                     9.889648   \n",
       "2016-01-15 01:00:00                     9.968944   \n",
       "2016-01-15 02:00:00                    10.213995   \n",
       "2016-01-15 03:00:00                     9.977019   \n",
       "2016-01-15 04:00:00                    10.142511   \n",
       "\n",
       "                     final.output.concentrate_sol  final.output.recovery  \\\n",
       "date                                                                       \n",
       "2016-01-15 00:00:00                      5.507324              70.541216   \n",
       "2016-01-15 01:00:00                      5.257781              69.266198   \n",
       "2016-01-15 02:00:00                      5.383759              68.116445   \n",
       "2016-01-15 03:00:00                      4.858634              68.347543   \n",
       "2016-01-15 04:00:00                      4.939416              66.927016   \n",
       "\n",
       "                     final.output.tail_au  final.output.tail_ag  \\\n",
       "date                                                              \n",
       "2016-01-15 00:00:00              2.143149             10.411962   \n",
       "2016-01-15 01:00:00              2.224930             10.462676   \n",
       "2016-01-15 02:00:00              2.257889             10.507046   \n",
       "2016-01-15 03:00:00              2.146849             10.422762   \n",
       "2016-01-15 04:00:00              2.055292             10.360302   \n",
       "\n",
       "                     final.output.tail_pb  final.output.tail_sol  \n",
       "date                                                              \n",
       "2016-01-15 00:00:00              0.895447              16.904297  \n",
       "2016-01-15 01:00:00              0.927452              16.634514  \n",
       "2016-01-15 02:00:00              0.953716              16.208849  \n",
       "2016-01-15 03:00:00              0.883763              16.532835  \n",
       "2016-01-15 04:00:00              0.792826              16.525686  \n",
       "\n",
       "[5 rows x 86 columns]"
      ]
     },
     "metadata": {},
     "output_type": "display_data"
    },
    {
     "name": "stdout",
     "output_type": "stream",
     "text": [
      "SHAPE: (14579, 86)\n",
      "<class 'pandas.core.frame.DataFrame'>\n",
      "Index: 14579 entries, 2016-01-15 00:00:00 to 2017-12-09 13:59:59\n",
      "Data columns (total 86 columns):\n",
      " #   Column                                              Non-Null Count  Dtype  \n",
      "---  ------                                              --------------  -----  \n",
      " 0   rougher.input.feed_au                               14579 non-null  float64\n",
      " 1   rougher.input.feed_ag                               14579 non-null  float64\n",
      " 2   rougher.input.feed_pb                               14507 non-null  float64\n",
      " 3   rougher.input.feed_sol                              14502 non-null  float64\n",
      " 4   rougher.input.feed_rate                             14572 non-null  float64\n",
      " 5   rougher.input.feed_size                             14478 non-null  float64\n",
      " 6   rougher.input.floatbank10_sulfate                   14548 non-null  float64\n",
      " 7   rougher.input.floatbank10_xanthate                  14572 non-null  float64\n",
      " 8   rougher.state.floatbank10_a_air                     14579 non-null  float64\n",
      " 9   rougher.state.floatbank10_a_level                   14579 non-null  float64\n",
      " 10  rougher.state.floatbank10_b_air                     14579 non-null  float64\n",
      " 11  rougher.state.floatbank10_b_level                   14579 non-null  float64\n",
      " 12  rougher.state.floatbank10_c_air                     14579 non-null  float64\n",
      " 13  rougher.state.floatbank10_c_level                   14579 non-null  float64\n",
      " 14  rougher.state.floatbank10_d_air                     14579 non-null  float64\n",
      " 15  rougher.state.floatbank10_d_level                   14579 non-null  float64\n",
      " 16  rougher.state.floatbank10_e_air                     14150 non-null  float64\n",
      " 17  rougher.state.floatbank10_e_level                   14579 non-null  float64\n",
      " 18  rougher.state.floatbank10_f_air                     14579 non-null  float64\n",
      " 19  rougher.state.floatbank10_f_level                   14579 non-null  float64\n",
      " 20  rougher.input.floatbank11_sulfate                   14543 non-null  float64\n",
      " 21  rougher.input.floatbank11_xanthate                  14172 non-null  float64\n",
      " 22  rougher.calculation.sulfate_to_au_concentrate       14578 non-null  float64\n",
      " 23  rougher.calculation.floatbank10_sulfate_to_au_feed  14578 non-null  float64\n",
      " 24  rougher.calculation.floatbank11_sulfate_to_au_feed  14578 non-null  float64\n",
      " 25  rougher.calculation.au_pb_ratio                     14579 non-null  float64\n",
      " 26  rougher.output.concentrate_au                       14579 non-null  float64\n",
      " 27  rougher.output.concentrate_ag                       14579 non-null  float64\n",
      " 28  rougher.output.concentrate_pb                       14579 non-null  float64\n",
      " 29  rougher.output.concentrate_sol                      14561 non-null  float64\n",
      " 30  rougher.output.recovery                             14579 non-null  float64\n",
      " 31  rougher.output.tail_au                              14579 non-null  float64\n",
      " 32  rougher.output.tail_ag                              14578 non-null  float64\n",
      " 33  rougher.output.tail_pb                              14579 non-null  float64\n",
      " 34  rougher.output.tail_sol                             14579 non-null  float64\n",
      " 35  primary_cleaner.input.sulfate                       14556 non-null  float64\n",
      " 36  primary_cleaner.input.depressant                    14551 non-null  float64\n",
      " 37  primary_cleaner.input.feed_size                     14579 non-null  float64\n",
      " 38  primary_cleaner.input.xanthate                      14518 non-null  float64\n",
      " 39  primary_cleaner.state.floatbank8_a_air              14576 non-null  float64\n",
      " 40  primary_cleaner.state.floatbank8_a_level            14579 non-null  float64\n",
      " 41  primary_cleaner.state.floatbank8_b_air              14576 non-null  float64\n",
      " 42  primary_cleaner.state.floatbank8_b_level            14579 non-null  float64\n",
      " 43  primary_cleaner.state.floatbank8_c_air              14579 non-null  float64\n",
      " 44  primary_cleaner.state.floatbank8_c_level            14579 non-null  float64\n",
      " 45  primary_cleaner.state.floatbank8_d_air              14578 non-null  float64\n",
      " 46  primary_cleaner.state.floatbank8_d_level            14579 non-null  float64\n",
      " 47  primary_cleaner.output.concentrate_au               14579 non-null  float64\n",
      " 48  primary_cleaner.output.concentrate_ag               14579 non-null  float64\n",
      " 49  primary_cleaner.output.concentrate_pb               14491 non-null  float64\n",
      " 50  primary_cleaner.output.concentrate_sol              14314 non-null  float64\n",
      " 51  primary_cleaner.output.tail_au                      14579 non-null  float64\n",
      " 52  primary_cleaner.output.tail_ag                      14575 non-null  float64\n",
      " 53  primary_cleaner.output.tail_pb                      14573 non-null  float64\n",
      " 54  primary_cleaner.output.tail_sol                     14534 non-null  float64\n",
      " 55  secondary_cleaner.state.floatbank2_a_air            14485 non-null  float64\n",
      " 56  secondary_cleaner.state.floatbank2_a_level          14579 non-null  float64\n",
      " 57  secondary_cleaner.state.floatbank2_b_air            14557 non-null  float64\n",
      " 58  secondary_cleaner.state.floatbank2_b_level          14579 non-null  float64\n",
      " 59  secondary_cleaner.state.floatbank3_a_air            14567 non-null  float64\n",
      " 60  secondary_cleaner.state.floatbank3_a_level          14579 non-null  float64\n",
      " 61  secondary_cleaner.state.floatbank3_b_air            14579 non-null  float64\n",
      " 62  secondary_cleaner.state.floatbank3_b_level          14579 non-null  float64\n",
      " 63  secondary_cleaner.state.floatbank4_a_air            14574 non-null  float64\n",
      " 64  secondary_cleaner.state.floatbank4_a_level          14579 non-null  float64\n",
      " 65  secondary_cleaner.state.floatbank4_b_air            14579 non-null  float64\n",
      " 66  secondary_cleaner.state.floatbank4_b_level          14579 non-null  float64\n",
      " 67  secondary_cleaner.state.floatbank5_a_air            14579 non-null  float64\n",
      " 68  secondary_cleaner.state.floatbank5_a_level          14579 non-null  float64\n",
      " 69  secondary_cleaner.state.floatbank5_b_air            14579 non-null  float64\n",
      " 70  secondary_cleaner.state.floatbank5_b_level          14579 non-null  float64\n",
      " 71  secondary_cleaner.state.floatbank6_a_air            14578 non-null  float64\n",
      " 72  secondary_cleaner.state.floatbank6_a_level          14579 non-null  float64\n",
      " 73  secondary_cleaner.output.tail_au                    14579 non-null  float64\n",
      " 74  secondary_cleaner.output.tail_ag                    14578 non-null  float64\n",
      " 75  secondary_cleaner.output.tail_pb                    14575 non-null  float64\n",
      " 76  secondary_cleaner.output.tail_sol                   13659 non-null  float64\n",
      " 77  final.output.concentrate_au                         14579 non-null  float64\n",
      " 78  final.output.concentrate_ag                         14578 non-null  float64\n",
      " 79  final.output.concentrate_pb                         14578 non-null  float64\n",
      " 80  final.output.concentrate_sol                        14387 non-null  float64\n",
      " 81  final.output.recovery                               14579 non-null  float64\n",
      " 82  final.output.tail_au                                14579 non-null  float64\n",
      " 83  final.output.tail_ag                                14578 non-null  float64\n",
      " 84  final.output.tail_pb                                14504 non-null  float64\n",
      " 85  final.output.tail_sol                               14574 non-null  float64\n",
      "dtypes: float64(86)\n",
      "memory usage: 9.7+ MB\n",
      "DUPLICATES: 0\n"
     ]
    },
    {
     "data": {
      "image/png": "[encoded data removed]",
      "text/plain": [
       "<Figure size 432x288 with 1 Axes>"
      ]
     },
     "metadata": {
      "needs_background": "light"
     },
     "output_type": "display_data"
    }
   ],
   "source": [
    "dataframe_info(train_data)"
   ]
  },
  {
   "cell_type": "markdown",
   "metadata": {},
   "source": [
    "86 колонок, огромный массив данных. В данных содержиться информация о начальной смеси, промежуточных состояниях и финальном результате. Так же есть информация о параметрах работы оборудования. В выборке таже содержаться данные, которые получены в результате расчета (calculated, recovery) или последующего анализа сырья (содержание металлов) \n",
    "\n",
    "Есть колонки с пропущенными занчениями, но их количество не велико, поэтому просто удалим строки с пропусками из обучающей выборки."
   ]
  },
  {
   "cell_type": "markdown",
   "metadata": {},
   "source": [
    "Попробуем посчитать recovery для чернового концетрата и сравнить с тем значением, что есть в тренировочных данных"
   ]
  },
  {
   "cell_type": "code",
   "execution_count": 7,
   "metadata": {},
   "outputs": [
    {
     "data": {
      "text/html": [
       "<div>\n",
       "<style scoped>\n",
       "    .dataframe tbody tr th:only-of-type {\n",
       "        vertical-align: middle;\n",
       "    }\n",
       "\n",
       "    .dataframe tbody tr th {\n",
       "        vertical-align: top;\n",
       "    }\n",
       "\n",
       "    .dataframe thead th {\n",
       "        text-align: right;\n",
       "    }\n",
       "</style>\n",
       "<table border=\"1\" class=\"dataframe\">\n",
       "  <thead>\n",
       "    <tr style=\"text-align: right;\">\n",
       "      <th></th>\n",
       "      <th>rougher.output.tail_au</th>\n",
       "      <th>rougher.output.concentrate_au</th>\n",
       "      <th>rougher.input.feed_au</th>\n",
       "      <th>rougher.output.recovery</th>\n",
       "      <th>calculated_recovery</th>\n",
       "    </tr>\n",
       "    <tr>\n",
       "      <th>date</th>\n",
       "      <th></th>\n",
       "      <th></th>\n",
       "      <th></th>\n",
       "      <th></th>\n",
       "      <th></th>\n",
       "    </tr>\n",
       "  </thead>\n",
       "  <tbody>\n",
       "    <tr>\n",
       "      <th>2016-01-15 00:00:00</th>\n",
       "      <td>1.170244</td>\n",
       "      <td>19.793808</td>\n",
       "      <td>6.486150</td>\n",
       "      <td>87.107763</td>\n",
       "      <td>87.107763</td>\n",
       "    </tr>\n",
       "    <tr>\n",
       "      <th>2016-01-15 01:00:00</th>\n",
       "      <td>1.184827</td>\n",
       "      <td>20.050975</td>\n",
       "      <td>6.478583</td>\n",
       "      <td>86.843261</td>\n",
       "      <td>86.843261</td>\n",
       "    </tr>\n",
       "    <tr>\n",
       "      <th>2016-01-15 02:00:00</th>\n",
       "      <td>1.162562</td>\n",
       "      <td>19.737170</td>\n",
       "      <td>6.362222</td>\n",
       "      <td>86.842308</td>\n",
       "      <td>86.842308</td>\n",
       "    </tr>\n",
       "    <tr>\n",
       "      <th>2016-01-15 03:00:00</th>\n",
       "      <td>1.079755</td>\n",
       "      <td>19.320810</td>\n",
       "      <td>6.118189</td>\n",
       "      <td>87.226430</td>\n",
       "      <td>87.226430</td>\n",
       "    </tr>\n",
       "    <tr>\n",
       "      <th>2016-01-15 04:00:00</th>\n",
       "      <td>1.012642</td>\n",
       "      <td>19.216101</td>\n",
       "      <td>5.663707</td>\n",
       "      <td>86.688794</td>\n",
       "      <td>86.688794</td>\n",
       "    </tr>\n",
       "  </tbody>\n",
       "</table>\n",
       "</div>"
      ],
      "text/plain": [
       "                     rougher.output.tail_au  rougher.output.concentrate_au  \\\n",
       "date                                                                         \n",
       "2016-01-15 00:00:00                1.170244                      19.793808   \n",
       "2016-01-15 01:00:00                1.184827                      20.050975   \n",
       "2016-01-15 02:00:00                1.162562                      19.737170   \n",
       "2016-01-15 03:00:00                1.079755                      19.320810   \n",
       "2016-01-15 04:00:00                1.012642                      19.216101   \n",
       "\n",
       "                     rougher.input.feed_au  rougher.output.recovery  \\\n",
       "date                                                                  \n",
       "2016-01-15 00:00:00               6.486150                87.107763   \n",
       "2016-01-15 01:00:00               6.478583                86.843261   \n",
       "2016-01-15 02:00:00               6.362222                86.842308   \n",
       "2016-01-15 03:00:00               6.118189                87.226430   \n",
       "2016-01-15 04:00:00               5.663707                86.688794   \n",
       "\n",
       "                     calculated_recovery  \n",
       "date                                      \n",
       "2016-01-15 00:00:00            87.107763  \n",
       "2016-01-15 01:00:00            86.843261  \n",
       "2016-01-15 02:00:00            86.842308  \n",
       "2016-01-15 03:00:00            87.226430  \n",
       "2016-01-15 04:00:00            86.688794  "
      ]
     },
     "metadata": {},
     "output_type": "display_data"
    },
    {
     "name": "stdout",
     "output_type": "stream",
     "text": [
      "MSE: 2.198954507875846e-28\n"
     ]
    }
   ],
   "source": [
    "    # C — доля золота в концентрате после флотации/очистки; rougher.output.concentrate_au \n",
    "    # F — доля золота в сырье/концентрате до флотации/очистки; rougher.output.fteed_aur\n",
    "    # T — доля золота в отвальных хвостах после флотации/очистки. rougher.input.ail_au\n",
    "\n",
    "    recovery_check = train_data[['rougher.output.tail_au', 'rougher.output.concentrate_au', 'rougher.input.feed_au', 'rougher.output.recovery']].copy()\n",
    "    recovery_check['calculated_recovery'] = recovery_check.apply(lambda x: recovery(x['rougher.output.concentrate_au'], x['rougher.input.feed_au'], x['rougher.output.tail_au']), axis=1)\n",
    "\n",
    "    display(recovery_check.head())\n",
    "    print('MSE:', mean_squared_error(recovery_check['rougher.output.recovery'], \n",
    "                                     recovery_check['calculated_recovery']))\n",
    "    \n",
    "    "
   ]
  },
  {
   "cell_type": "markdown",
   "metadata": {},
   "source": [
    "Функция расчета верная, MSE невероятно мала и скорей всего связана с особенностями вычислений."
   ]
  },
  {
   "cell_type": "code",
   "execution_count": 8,
   "metadata": {},
   "outputs": [
    {
     "name": "stdout",
     "output_type": "stream",
     "text": [
      "MAE: 9.83758577644259e-15\n"
     ]
    }
   ],
   "source": [
    "    print('MAE:', mean_absolute_error(recovery_check['rougher.output.recovery'], \n",
    "                                     recovery_check['calculated_recovery']))"
   ]
  },
  {
   "cell_type": "code",
   "execution_count": 9,
   "metadata": {},
   "outputs": [
    {
     "name": "stdout",
     "output_type": "stream",
     "text": [
      "rougher.calculation.sulfate_to_au_concentrate\n",
      "rougher.calculation.floatbank10_sulfate_to_au_feed\n",
      "rougher.calculation.floatbank11_sulfate_to_au_feed\n",
      "rougher.calculation.au_pb_ratio\n",
      "rougher.output.concentrate_au\n",
      "rougher.output.concentrate_ag\n",
      "rougher.output.concentrate_pb\n",
      "rougher.output.concentrate_sol\n",
      "rougher.output.recovery\n",
      "rougher.output.tail_au\n",
      "rougher.output.tail_ag\n",
      "rougher.output.tail_pb\n",
      "rougher.output.tail_sol\n",
      "primary_cleaner.output.concentrate_au\n",
      "primary_cleaner.output.concentrate_ag\n",
      "primary_cleaner.output.concentrate_pb\n",
      "primary_cleaner.output.concentrate_sol\n",
      "primary_cleaner.output.tail_au\n",
      "primary_cleaner.output.tail_ag\n",
      "primary_cleaner.output.tail_pb\n",
      "primary_cleaner.output.tail_sol\n",
      "secondary_cleaner.output.tail_au\n",
      "secondary_cleaner.output.tail_ag\n",
      "secondary_cleaner.output.tail_pb\n",
      "secondary_cleaner.output.tail_sol\n",
      "final.output.concentrate_au\n",
      "final.output.concentrate_ag\n",
      "final.output.concentrate_pb\n",
      "final.output.concentrate_sol\n",
      "final.output.recovery\n",
      "final.output.tail_au\n",
      "final.output.tail_ag\n",
      "final.output.tail_pb\n",
      "final.output.tail_sol\n"
     ]
    }
   ],
   "source": [
    "for col in train_data.columns:\n",
    "    if col not in test_data.columns:\n",
    "        print(col)"
   ]
  },
  {
   "cell_type": "markdown",
   "metadata": {},
   "source": [
    "Вывод: В тестовых данных недоступны колонки, которые либо становится доступны позже, после измерений (output) или после расчетов (calculation и output.recovery)\n"
   ]
  },
  {
   "cell_type": "markdown",
   "metadata": {},
   "source": [
    "##### Обработка обучающей выборки\n",
    "\n",
    "Перед анализом данных\n",
    "1. Удаляем дату\n",
    "2. Пропуски заполняем значениями предыдущей строки, так как по условия задачния они максимально похожи\n",
    "\n",
    "Перед обучением модели\n",
    "1. Оставляем только колонки, которые присутствую в тестовой выборке и целевые признаки.\n",
    "2. Удаляем выбросы"
   ]
  },
  {
   "cell_type": "code",
   "execution_count": 10,
   "metadata": {},
   "outputs": [
    {
     "name": "stdout",
     "output_type": "stream",
     "text": [
      "(14579, 86)\n",
      "(14579, 86)\n"
     ]
    }
   ],
   "source": [
    "print(train_data.shape)\n",
    "train_data = train_data.fillna(method='backfill')\n",
    "print(train_data.shape)"
   ]
  },
  {
   "cell_type": "markdown",
   "metadata": {},
   "source": [
    "#### Тестовая выборка"
   ]
  },
  {
   "cell_type": "code",
   "execution_count": 11,
   "metadata": {},
   "outputs": [
    {
     "data": {
      "text/html": [
       "<div>\n",
       "<style scoped>\n",
       "    .dataframe tbody tr th:only-of-type {\n",
       "        vertical-align: middle;\n",
       "    }\n",
       "\n",
       "    .dataframe tbody tr th {\n",
       "        vertical-align: top;\n",
       "    }\n",
       "\n",
       "    .dataframe thead th {\n",
       "        text-align: right;\n",
       "    }\n",
       "</style>\n",
       "<table border=\"1\" class=\"dataframe\">\n",
       "  <thead>\n",
       "    <tr style=\"text-align: right;\">\n",
       "      <th></th>\n",
       "      <th>rougher.input.feed_au</th>\n",
       "      <th>rougher.input.feed_ag</th>\n",
       "      <th>rougher.input.feed_pb</th>\n",
       "      <th>rougher.input.feed_sol</th>\n",
       "      <th>rougher.input.feed_rate</th>\n",
       "      <th>rougher.input.feed_size</th>\n",
       "      <th>rougher.input.floatbank10_sulfate</th>\n",
       "      <th>rougher.input.floatbank10_xanthate</th>\n",
       "      <th>rougher.state.floatbank10_a_air</th>\n",
       "      <th>rougher.state.floatbank10_a_level</th>\n",
       "      <th>...</th>\n",
       "      <th>secondary_cleaner.state.floatbank4_a_air</th>\n",
       "      <th>secondary_cleaner.state.floatbank4_a_level</th>\n",
       "      <th>secondary_cleaner.state.floatbank4_b_air</th>\n",
       "      <th>secondary_cleaner.state.floatbank4_b_level</th>\n",
       "      <th>secondary_cleaner.state.floatbank5_a_air</th>\n",
       "      <th>secondary_cleaner.state.floatbank5_a_level</th>\n",
       "      <th>secondary_cleaner.state.floatbank5_b_air</th>\n",
       "      <th>secondary_cleaner.state.floatbank5_b_level</th>\n",
       "      <th>secondary_cleaner.state.floatbank6_a_air</th>\n",
       "      <th>secondary_cleaner.state.floatbank6_a_level</th>\n",
       "    </tr>\n",
       "    <tr>\n",
       "      <th>date</th>\n",
       "      <th></th>\n",
       "      <th></th>\n",
       "      <th></th>\n",
       "      <th></th>\n",
       "      <th></th>\n",
       "      <th></th>\n",
       "      <th></th>\n",
       "      <th></th>\n",
       "      <th></th>\n",
       "      <th></th>\n",
       "      <th></th>\n",
       "      <th></th>\n",
       "      <th></th>\n",
       "      <th></th>\n",
       "      <th></th>\n",
       "      <th></th>\n",
       "      <th></th>\n",
       "      <th></th>\n",
       "      <th></th>\n",
       "      <th></th>\n",
       "      <th></th>\n",
       "    </tr>\n",
       "  </thead>\n",
       "  <tbody>\n",
       "    <tr>\n",
       "      <th>2017-12-09 14:59:59</th>\n",
       "      <td>4.365491</td>\n",
       "      <td>6.158718</td>\n",
       "      <td>3.875727</td>\n",
       "      <td>39.135119</td>\n",
       "      <td>555.820208</td>\n",
       "      <td>94.544358</td>\n",
       "      <td>6.146982</td>\n",
       "      <td>9.308612</td>\n",
       "      <td>1196.238112</td>\n",
       "      <td>-299.862743</td>\n",
       "      <td>...</td>\n",
       "      <td>23.018622</td>\n",
       "      <td>-500.492702</td>\n",
       "      <td>20.020205</td>\n",
       "      <td>-500.220296</td>\n",
       "      <td>17.963512</td>\n",
       "      <td>-499.939490</td>\n",
       "      <td>12.990306</td>\n",
       "      <td>-500.080993</td>\n",
       "      <td>19.990336</td>\n",
       "      <td>-499.191575</td>\n",
       "    </tr>\n",
       "    <tr>\n",
       "      <th>2017-12-09 15:59:59</th>\n",
       "      <td>4.362781</td>\n",
       "      <td>6.048130</td>\n",
       "      <td>3.902537</td>\n",
       "      <td>39.713906</td>\n",
       "      <td>544.731687</td>\n",
       "      <td>123.742430</td>\n",
       "      <td>6.210119</td>\n",
       "      <td>9.297709</td>\n",
       "      <td>1201.904177</td>\n",
       "      <td>-299.907308</td>\n",
       "      <td>...</td>\n",
       "      <td>23.024963</td>\n",
       "      <td>-501.153409</td>\n",
       "      <td>20.054122</td>\n",
       "      <td>-500.314711</td>\n",
       "      <td>17.979515</td>\n",
       "      <td>-499.272871</td>\n",
       "      <td>12.992404</td>\n",
       "      <td>-499.976268</td>\n",
       "      <td>20.013986</td>\n",
       "      <td>-500.625471</td>\n",
       "    </tr>\n",
       "    <tr>\n",
       "      <th>2017-12-09 16:59:59</th>\n",
       "      <td>5.081681</td>\n",
       "      <td>6.082745</td>\n",
       "      <td>4.564078</td>\n",
       "      <td>37.208683</td>\n",
       "      <td>558.155110</td>\n",
       "      <td>82.610855</td>\n",
       "      <td>7.363824</td>\n",
       "      <td>9.003562</td>\n",
       "      <td>1200.826926</td>\n",
       "      <td>-300.124116</td>\n",
       "      <td>...</td>\n",
       "      <td>22.993827</td>\n",
       "      <td>-501.559663</td>\n",
       "      <td>20.029144</td>\n",
       "      <td>-500.000662</td>\n",
       "      <td>18.012723</td>\n",
       "      <td>-500.024764</td>\n",
       "      <td>13.016445</td>\n",
       "      <td>-500.058432</td>\n",
       "      <td>19.973767</td>\n",
       "      <td>-501.394155</td>\n",
       "    </tr>\n",
       "    <tr>\n",
       "      <th>2017-12-09 17:59:59</th>\n",
       "      <td>5.145949</td>\n",
       "      <td>6.084374</td>\n",
       "      <td>4.768124</td>\n",
       "      <td>36.808874</td>\n",
       "      <td>539.713765</td>\n",
       "      <td>77.984784</td>\n",
       "      <td>6.927072</td>\n",
       "      <td>8.955597</td>\n",
       "      <td>1199.292489</td>\n",
       "      <td>-299.778385</td>\n",
       "      <td>...</td>\n",
       "      <td>23.032807</td>\n",
       "      <td>-501.287889</td>\n",
       "      <td>19.977466</td>\n",
       "      <td>-500.159903</td>\n",
       "      <td>17.980463</td>\n",
       "      <td>-500.504602</td>\n",
       "      <td>12.949071</td>\n",
       "      <td>-500.009937</td>\n",
       "      <td>20.010332</td>\n",
       "      <td>-508.337973</td>\n",
       "    </tr>\n",
       "    <tr>\n",
       "      <th>2017-12-09 18:59:59</th>\n",
       "      <td>5.735249</td>\n",
       "      <td>6.165220</td>\n",
       "      <td>4.512346</td>\n",
       "      <td>37.810642</td>\n",
       "      <td>558.713584</td>\n",
       "      <td>86.434874</td>\n",
       "      <td>7.823471</td>\n",
       "      <td>7.490356</td>\n",
       "      <td>1198.005449</td>\n",
       "      <td>-300.283401</td>\n",
       "      <td>...</td>\n",
       "      <td>23.001911</td>\n",
       "      <td>-499.947838</td>\n",
       "      <td>20.023735</td>\n",
       "      <td>-499.713680</td>\n",
       "      <td>17.990955</td>\n",
       "      <td>-500.334769</td>\n",
       "      <td>13.007523</td>\n",
       "      <td>-499.968459</td>\n",
       "      <td>19.995999</td>\n",
       "      <td>-499.788805</td>\n",
       "    </tr>\n",
       "  </tbody>\n",
       "</table>\n",
       "<p>5 rows × 52 columns</p>\n",
       "</div>"
      ],
      "text/plain": [
       "                     rougher.input.feed_au  rougher.input.feed_ag  \\\n",
       "date                                                                \n",
       "2017-12-09 14:59:59               4.365491               6.158718   \n",
       "2017-12-09 15:59:59               4.362781               6.048130   \n",
       "2017-12-09 16:59:59               5.081681               6.082745   \n",
       "2017-12-09 17:59:59               5.145949               6.084374   \n",
       "2017-12-09 18:59:59               5.735249               6.165220   \n",
       "\n",
       "                     rougher.input.feed_pb  rougher.input.feed_sol  \\\n",
       "date                                                                 \n",
       "2017-12-09 14:59:59               3.875727               39.135119   \n",
       "2017-12-09 15:59:59               3.902537               39.713906   \n",
       "2017-12-09 16:59:59               4.564078               37.208683   \n",
       "2017-12-09 17:59:59               4.768124               36.808874   \n",
       "2017-12-09 18:59:59               4.512346               37.810642   \n",
       "\n",
       "                     rougher.input.feed_rate  rougher.input.feed_size  \\\n",
       "date                                                                    \n",
       "2017-12-09 14:59:59               555.820208                94.544358   \n",
       "2017-12-09 15:59:59               544.731687               123.742430   \n",
       "2017-12-09 16:59:59               558.155110                82.610855   \n",
       "2017-12-09 17:59:59               539.713765                77.984784   \n",
       "2017-12-09 18:59:59               558.713584                86.434874   \n",
       "\n",
       "                     rougher.input.floatbank10_sulfate  \\\n",
       "date                                                     \n",
       "2017-12-09 14:59:59                           6.146982   \n",
       "2017-12-09 15:59:59                           6.210119   \n",
       "2017-12-09 16:59:59                           7.363824   \n",
       "2017-12-09 17:59:59                           6.927072   \n",
       "2017-12-09 18:59:59                           7.823471   \n",
       "\n",
       "                     rougher.input.floatbank10_xanthate  \\\n",
       "date                                                      \n",
       "2017-12-09 14:59:59                            9.308612   \n",
       "2017-12-09 15:59:59                            9.297709   \n",
       "2017-12-09 16:59:59                            9.003562   \n",
       "2017-12-09 17:59:59                            8.955597   \n",
       "2017-12-09 18:59:59                            7.490356   \n",
       "\n",
       "                     rougher.state.floatbank10_a_air  \\\n",
       "date                                                   \n",
       "2017-12-09 14:59:59                      1196.238112   \n",
       "2017-12-09 15:59:59                      1201.904177   \n",
       "2017-12-09 16:59:59                      1200.826926   \n",
       "2017-12-09 17:59:59                      1199.292489   \n",
       "2017-12-09 18:59:59                      1198.005449   \n",
       "\n",
       "                     rougher.state.floatbank10_a_level  ...  \\\n",
       "date                                                    ...   \n",
       "2017-12-09 14:59:59                        -299.862743  ...   \n",
       "2017-12-09 15:59:59                        -299.907308  ...   \n",
       "2017-12-09 16:59:59                        -300.124116  ...   \n",
       "2017-12-09 17:59:59                        -299.778385  ...   \n",
       "2017-12-09 18:59:59                        -300.283401  ...   \n",
       "\n",
       "                     secondary_cleaner.state.floatbank4_a_air  \\\n",
       "date                                                            \n",
       "2017-12-09 14:59:59                                 23.018622   \n",
       "2017-12-09 15:59:59                                 23.024963   \n",
       "2017-12-09 16:59:59                                 22.993827   \n",
       "2017-12-09 17:59:59                                 23.032807   \n",
       "2017-12-09 18:59:59                                 23.001911   \n",
       "\n",
       "                     secondary_cleaner.state.floatbank4_a_level  \\\n",
       "date                                                              \n",
       "2017-12-09 14:59:59                                 -500.492702   \n",
       "2017-12-09 15:59:59                                 -501.153409   \n",
       "2017-12-09 16:59:59                                 -501.559663   \n",
       "2017-12-09 17:59:59                                 -501.287889   \n",
       "2017-12-09 18:59:59                                 -499.947838   \n",
       "\n",
       "                     secondary_cleaner.state.floatbank4_b_air  \\\n",
       "date                                                            \n",
       "2017-12-09 14:59:59                                 20.020205   \n",
       "2017-12-09 15:59:59                                 20.054122   \n",
       "2017-12-09 16:59:59                                 20.029144   \n",
       "2017-12-09 17:59:59                                 19.977466   \n",
       "2017-12-09 18:59:59                                 20.023735   \n",
       "\n",
       "                     secondary_cleaner.state.floatbank4_b_level  \\\n",
       "date                                                              \n",
       "2017-12-09 14:59:59                                 -500.220296   \n",
       "2017-12-09 15:59:59                                 -500.314711   \n",
       "2017-12-09 16:59:59                                 -500.000662   \n",
       "2017-12-09 17:59:59                                 -500.159903   \n",
       "2017-12-09 18:59:59                                 -499.713680   \n",
       "\n",
       "                     secondary_cleaner.state.floatbank5_a_air  \\\n",
       "date                                                            \n",
       "2017-12-09 14:59:59                                 17.963512   \n",
       "2017-12-09 15:59:59                                 17.979515   \n",
       "2017-12-09 16:59:59                                 18.012723   \n",
       "2017-12-09 17:59:59                                 17.980463   \n",
       "2017-12-09 18:59:59                                 17.990955   \n",
       "\n",
       "                     secondary_cleaner.state.floatbank5_a_level  \\\n",
       "date                                                              \n",
       "2017-12-09 14:59:59                                 -499.939490   \n",
       "2017-12-09 15:59:59                                 -499.272871   \n",
       "2017-12-09 16:59:59                                 -500.024764   \n",
       "2017-12-09 17:59:59                                 -500.504602   \n",
       "2017-12-09 18:59:59                                 -500.334769   \n",
       "\n",
       "                     secondary_cleaner.state.floatbank5_b_air  \\\n",
       "date                                                            \n",
       "2017-12-09 14:59:59                                 12.990306   \n",
       "2017-12-09 15:59:59                                 12.992404   \n",
       "2017-12-09 16:59:59                                 13.016445   \n",
       "2017-12-09 17:59:59                                 12.949071   \n",
       "2017-12-09 18:59:59                                 13.007523   \n",
       "\n",
       "                     secondary_cleaner.state.floatbank5_b_level  \\\n",
       "date                                                              \n",
       "2017-12-09 14:59:59                                 -500.080993   \n",
       "2017-12-09 15:59:59                                 -499.976268   \n",
       "2017-12-09 16:59:59                                 -500.058432   \n",
       "2017-12-09 17:59:59                                 -500.009937   \n",
       "2017-12-09 18:59:59                                 -499.968459   \n",
       "\n",
       "                     secondary_cleaner.state.floatbank6_a_air  \\\n",
       "date                                                            \n",
       "2017-12-09 14:59:59                                 19.990336   \n",
       "2017-12-09 15:59:59                                 20.013986   \n",
       "2017-12-09 16:59:59                                 19.973767   \n",
       "2017-12-09 17:59:59                                 20.010332   \n",
       "2017-12-09 18:59:59                                 19.995999   \n",
       "\n",
       "                     secondary_cleaner.state.floatbank6_a_level  \n",
       "date                                                             \n",
       "2017-12-09 14:59:59                                 -499.191575  \n",
       "2017-12-09 15:59:59                                 -500.625471  \n",
       "2017-12-09 16:59:59                                 -501.394155  \n",
       "2017-12-09 17:59:59                                 -508.337973  \n",
       "2017-12-09 18:59:59                                 -499.788805  \n",
       "\n",
       "[5 rows x 52 columns]"
      ]
     },
     "metadata": {},
     "output_type": "display_data"
    },
    {
     "name": "stdout",
     "output_type": "stream",
     "text": [
      "SHAPE: (4860, 52)\n",
      "<class 'pandas.core.frame.DataFrame'>\n",
      "Index: 4860 entries, 2017-12-09 14:59:59 to 2018-08-18 10:59:59\n",
      "Data columns (total 52 columns):\n",
      " #   Column                                      Non-Null Count  Dtype  \n",
      "---  ------                                      --------------  -----  \n",
      " 0   rougher.input.feed_au                       4860 non-null   float64\n",
      " 1   rougher.input.feed_ag                       4860 non-null   float64\n",
      " 2   rougher.input.feed_pb                       4832 non-null   float64\n",
      " 3   rougher.input.feed_sol                      4838 non-null   float64\n",
      " 4   rougher.input.feed_rate                     4856 non-null   float64\n",
      " 5   rougher.input.feed_size                     4816 non-null   float64\n",
      " 6   rougher.input.floatbank10_sulfate           4857 non-null   float64\n",
      " 7   rougher.input.floatbank10_xanthate          4859 non-null   float64\n",
      " 8   rougher.state.floatbank10_a_air             4859 non-null   float64\n",
      " 9   rougher.state.floatbank10_a_level           4859 non-null   float64\n",
      " 10  rougher.state.floatbank10_b_air             4859 non-null   float64\n",
      " 11  rougher.state.floatbank10_b_level           4859 non-null   float64\n",
      " 12  rougher.state.floatbank10_c_air             4859 non-null   float64\n",
      " 13  rougher.state.floatbank10_c_level           4859 non-null   float64\n",
      " 14  rougher.state.floatbank10_d_air             4860 non-null   float64\n",
      " 15  rougher.state.floatbank10_d_level           4860 non-null   float64\n",
      " 16  rougher.state.floatbank10_e_air             4853 non-null   float64\n",
      " 17  rougher.state.floatbank10_e_level           4860 non-null   float64\n",
      " 18  rougher.state.floatbank10_f_air             4860 non-null   float64\n",
      " 19  rougher.state.floatbank10_f_level           4860 non-null   float64\n",
      " 20  rougher.input.floatbank11_sulfate           4852 non-null   float64\n",
      " 21  rougher.input.floatbank11_xanthate          4814 non-null   float64\n",
      " 22  primary_cleaner.input.sulfate               4859 non-null   float64\n",
      " 23  primary_cleaner.input.depressant            4851 non-null   float64\n",
      " 24  primary_cleaner.input.feed_size             4860 non-null   float64\n",
      " 25  primary_cleaner.input.xanthate              4817 non-null   float64\n",
      " 26  primary_cleaner.state.floatbank8_a_air      4859 non-null   float64\n",
      " 27  primary_cleaner.state.floatbank8_a_level    4859 non-null   float64\n",
      " 28  primary_cleaner.state.floatbank8_b_air      4859 non-null   float64\n",
      " 29  primary_cleaner.state.floatbank8_b_level    4859 non-null   float64\n",
      " 30  primary_cleaner.state.floatbank8_c_air      4858 non-null   float64\n",
      " 31  primary_cleaner.state.floatbank8_c_level    4859 non-null   float64\n",
      " 32  primary_cleaner.state.floatbank8_d_air      4858 non-null   float64\n",
      " 33  primary_cleaner.state.floatbank8_d_level    4859 non-null   float64\n",
      " 34  secondary_cleaner.state.floatbank2_a_air    4734 non-null   float64\n",
      " 35  secondary_cleaner.state.floatbank2_a_level  4859 non-null   float64\n",
      " 36  secondary_cleaner.state.floatbank2_b_air    4859 non-null   float64\n",
      " 37  secondary_cleaner.state.floatbank2_b_level  4859 non-null   float64\n",
      " 38  secondary_cleaner.state.floatbank3_a_air    4859 non-null   float64\n",
      " 39  secondary_cleaner.state.floatbank3_a_level  4859 non-null   float64\n",
      " 40  secondary_cleaner.state.floatbank3_b_air    4859 non-null   float64\n",
      " 41  secondary_cleaner.state.floatbank3_b_level  4859 non-null   float64\n",
      " 42  secondary_cleaner.state.floatbank4_a_air    4859 non-null   float64\n",
      " 43  secondary_cleaner.state.floatbank4_a_level  4859 non-null   float64\n",
      " 44  secondary_cleaner.state.floatbank4_b_air    4859 non-null   float64\n",
      " 45  secondary_cleaner.state.floatbank4_b_level  4859 non-null   float64\n",
      " 46  secondary_cleaner.state.floatbank5_a_air    4859 non-null   float64\n",
      " 47  secondary_cleaner.state.floatbank5_a_level  4859 non-null   float64\n",
      " 48  secondary_cleaner.state.floatbank5_b_air    4859 non-null   float64\n",
      " 49  secondary_cleaner.state.floatbank5_b_level  4859 non-null   float64\n",
      " 50  secondary_cleaner.state.floatbank6_a_air    4859 non-null   float64\n",
      " 51  secondary_cleaner.state.floatbank6_a_level  4859 non-null   float64\n",
      "dtypes: float64(52)\n",
      "memory usage: 2.0+ MB\n",
      "DUPLICATES: 0\n"
     ]
    },
    {
     "data": {
      "image/png": "[encoded data removed]",
      "text/plain": [
       "<Figure size 432x288 with 1 Axes>"
      ]
     },
     "metadata": {
      "needs_background": "light"
     },
     "output_type": "display_data"
    }
   ],
   "source": [
    "dataframe_info(test_data)"
   ]
  },
  {
   "cell_type": "markdown",
   "metadata": {},
   "source": [
    "Вы тестовых данных всего 56 колонок. Эти колонки содержат только данные о руде, количество добавок и параметры работы оборудования. Для обучения будем использовать колонки только те, которые будут в тестовых данных. Есть пропуски, попробуем заполнить данными из полной выборки"
   ]
  },
  {
   "cell_type": "code",
   "execution_count": 12,
   "metadata": {},
   "outputs": [],
   "source": [
    "test_data = test_data.fillna(method='backfill')"
   ]
  },
  {
   "cell_type": "markdown",
   "metadata": {},
   "source": [
    "#### Полная выборка"
   ]
  },
  {
   "cell_type": "code",
   "execution_count": 13,
   "metadata": {},
   "outputs": [
    {
     "data": {
      "text/html": [
       "<div>\n",
       "<style scoped>\n",
       "    .dataframe tbody tr th:only-of-type {\n",
       "        vertical-align: middle;\n",
       "    }\n",
       "\n",
       "    .dataframe tbody tr th {\n",
       "        vertical-align: top;\n",
       "    }\n",
       "\n",
       "    .dataframe thead th {\n",
       "        text-align: right;\n",
       "    }\n",
       "</style>\n",
       "<table border=\"1\" class=\"dataframe\">\n",
       "  <thead>\n",
       "    <tr style=\"text-align: right;\">\n",
       "      <th></th>\n",
       "      <th>rougher.input.feed_au</th>\n",
       "      <th>rougher.input.feed_ag</th>\n",
       "      <th>rougher.input.feed_pb</th>\n",
       "      <th>rougher.input.feed_sol</th>\n",
       "      <th>rougher.input.feed_rate</th>\n",
       "      <th>rougher.input.feed_size</th>\n",
       "      <th>rougher.input.floatbank10_sulfate</th>\n",
       "      <th>rougher.input.floatbank10_xanthate</th>\n",
       "      <th>rougher.state.floatbank10_a_air</th>\n",
       "      <th>rougher.state.floatbank10_a_level</th>\n",
       "      <th>...</th>\n",
       "      <th>secondary_cleaner.output.tail_sol</th>\n",
       "      <th>final.output.concentrate_au</th>\n",
       "      <th>final.output.concentrate_ag</th>\n",
       "      <th>final.output.concentrate_pb</th>\n",
       "      <th>final.output.concentrate_sol</th>\n",
       "      <th>final.output.recovery</th>\n",
       "      <th>final.output.tail_au</th>\n",
       "      <th>final.output.tail_ag</th>\n",
       "      <th>final.output.tail_pb</th>\n",
       "      <th>final.output.tail_sol</th>\n",
       "    </tr>\n",
       "    <tr>\n",
       "      <th>date</th>\n",
       "      <th></th>\n",
       "      <th></th>\n",
       "      <th></th>\n",
       "      <th></th>\n",
       "      <th></th>\n",
       "      <th></th>\n",
       "      <th></th>\n",
       "      <th></th>\n",
       "      <th></th>\n",
       "      <th></th>\n",
       "      <th></th>\n",
       "      <th></th>\n",
       "      <th></th>\n",
       "      <th></th>\n",
       "      <th></th>\n",
       "      <th></th>\n",
       "      <th></th>\n",
       "      <th></th>\n",
       "      <th></th>\n",
       "      <th></th>\n",
       "      <th></th>\n",
       "    </tr>\n",
       "  </thead>\n",
       "  <tbody>\n",
       "    <tr>\n",
       "      <th>2016-01-15 00:00:00</th>\n",
       "      <td>6.486150</td>\n",
       "      <td>6.100378</td>\n",
       "      <td>2.284912</td>\n",
       "      <td>36.808594</td>\n",
       "      <td>523.546326</td>\n",
       "      <td>55.486599</td>\n",
       "      <td>11.986616</td>\n",
       "      <td>6.007990</td>\n",
       "      <td>999.706909</td>\n",
       "      <td>-404.066986</td>\n",
       "      <td>...</td>\n",
       "      <td>8.764648</td>\n",
       "      <td>42.192020</td>\n",
       "      <td>6.055403</td>\n",
       "      <td>9.889648</td>\n",
       "      <td>5.507324</td>\n",
       "      <td>70.541216</td>\n",
       "      <td>2.143149</td>\n",
       "      <td>10.411962</td>\n",
       "      <td>0.895447</td>\n",
       "      <td>16.904297</td>\n",
       "    </tr>\n",
       "    <tr>\n",
       "      <th>2016-01-15 01:00:00</th>\n",
       "      <td>6.478583</td>\n",
       "      <td>6.161113</td>\n",
       "      <td>2.266033</td>\n",
       "      <td>35.753385</td>\n",
       "      <td>525.290581</td>\n",
       "      <td>57.278666</td>\n",
       "      <td>11.971193</td>\n",
       "      <td>6.005766</td>\n",
       "      <td>1000.286398</td>\n",
       "      <td>-400.065196</td>\n",
       "      <td>...</td>\n",
       "      <td>9.001494</td>\n",
       "      <td>42.701629</td>\n",
       "      <td>6.029369</td>\n",
       "      <td>9.968944</td>\n",
       "      <td>5.257781</td>\n",
       "      <td>69.266198</td>\n",
       "      <td>2.224930</td>\n",
       "      <td>10.462676</td>\n",
       "      <td>0.927452</td>\n",
       "      <td>16.634514</td>\n",
       "    </tr>\n",
       "    <tr>\n",
       "      <th>2016-01-15 02:00:00</th>\n",
       "      <td>6.362222</td>\n",
       "      <td>6.116455</td>\n",
       "      <td>2.159622</td>\n",
       "      <td>35.971630</td>\n",
       "      <td>530.026610</td>\n",
       "      <td>57.510649</td>\n",
       "      <td>11.920603</td>\n",
       "      <td>6.197377</td>\n",
       "      <td>999.719565</td>\n",
       "      <td>-400.074028</td>\n",
       "      <td>...</td>\n",
       "      <td>8.842896</td>\n",
       "      <td>42.657501</td>\n",
       "      <td>6.055926</td>\n",
       "      <td>10.213995</td>\n",
       "      <td>5.383759</td>\n",
       "      <td>68.116445</td>\n",
       "      <td>2.257889</td>\n",
       "      <td>10.507046</td>\n",
       "      <td>0.953716</td>\n",
       "      <td>16.208849</td>\n",
       "    </tr>\n",
       "    <tr>\n",
       "      <th>2016-01-15 03:00:00</th>\n",
       "      <td>6.118189</td>\n",
       "      <td>6.043309</td>\n",
       "      <td>2.037807</td>\n",
       "      <td>36.862241</td>\n",
       "      <td>542.590390</td>\n",
       "      <td>57.792734</td>\n",
       "      <td>11.630094</td>\n",
       "      <td>6.203177</td>\n",
       "      <td>999.814770</td>\n",
       "      <td>-400.200179</td>\n",
       "      <td>...</td>\n",
       "      <td>9.122857</td>\n",
       "      <td>42.689819</td>\n",
       "      <td>6.047977</td>\n",
       "      <td>9.977019</td>\n",
       "      <td>4.858634</td>\n",
       "      <td>68.347543</td>\n",
       "      <td>2.146849</td>\n",
       "      <td>10.422762</td>\n",
       "      <td>0.883763</td>\n",
       "      <td>16.532835</td>\n",
       "    </tr>\n",
       "    <tr>\n",
       "      <th>2016-01-15 04:00:00</th>\n",
       "      <td>5.663707</td>\n",
       "      <td>6.060915</td>\n",
       "      <td>1.786875</td>\n",
       "      <td>34.347666</td>\n",
       "      <td>540.531893</td>\n",
       "      <td>56.047189</td>\n",
       "      <td>10.957755</td>\n",
       "      <td>6.198826</td>\n",
       "      <td>999.678690</td>\n",
       "      <td>-399.752729</td>\n",
       "      <td>...</td>\n",
       "      <td>8.871028</td>\n",
       "      <td>42.774141</td>\n",
       "      <td>6.148599</td>\n",
       "      <td>10.142511</td>\n",
       "      <td>4.939416</td>\n",
       "      <td>66.927016</td>\n",
       "      <td>2.055292</td>\n",
       "      <td>10.360302</td>\n",
       "      <td>0.792826</td>\n",
       "      <td>16.525686</td>\n",
       "    </tr>\n",
       "  </tbody>\n",
       "</table>\n",
       "<p>5 rows × 86 columns</p>\n",
       "</div>"
      ],
      "text/plain": [
       "                     rougher.input.feed_au  rougher.input.feed_ag  \\\n",
       "date                                                                \n",
       "2016-01-15 00:00:00               6.486150               6.100378   \n",
       "2016-01-15 01:00:00               6.478583               6.161113   \n",
       "2016-01-15 02:00:00               6.362222               6.116455   \n",
       "2016-01-15 03:00:00               6.118189               6.043309   \n",
       "2016-01-15 04:00:00               5.663707               6.060915   \n",
       "\n",
       "                     rougher.input.feed_pb  rougher.input.feed_sol  \\\n",
       "date                                                                 \n",
       "2016-01-15 00:00:00               2.284912               36.808594   \n",
       "2016-01-15 01:00:00               2.266033               35.753385   \n",
       "2016-01-15 02:00:00               2.159622               35.971630   \n",
       "2016-01-15 03:00:00               2.037807               36.862241   \n",
       "2016-01-15 04:00:00               1.786875               34.347666   \n",
       "\n",
       "                     rougher.input.feed_rate  rougher.input.feed_size  \\\n",
       "date                                                                    \n",
       "2016-01-15 00:00:00               523.546326                55.486599   \n",
       "2016-01-15 01:00:00               525.290581                57.278666   \n",
       "2016-01-15 02:00:00               530.026610                57.510649   \n",
       "2016-01-15 03:00:00               542.590390                57.792734   \n",
       "2016-01-15 04:00:00               540.531893                56.047189   \n",
       "\n",
       "                     rougher.input.floatbank10_sulfate  \\\n",
       "date                                                     \n",
       "2016-01-15 00:00:00                          11.986616   \n",
       "2016-01-15 01:00:00                          11.971193   \n",
       "2016-01-15 02:00:00                          11.920603   \n",
       "2016-01-15 03:00:00                          11.630094   \n",
       "2016-01-15 04:00:00                          10.957755   \n",
       "\n",
       "                     rougher.input.floatbank10_xanthate  \\\n",
       "date                                                      \n",
       "2016-01-15 00:00:00                            6.007990   \n",
       "2016-01-15 01:00:00                            6.005766   \n",
       "2016-01-15 02:00:00                            6.197377   \n",
       "2016-01-15 03:00:00                            6.203177   \n",
       "2016-01-15 04:00:00                            6.198826   \n",
       "\n",
       "                     rougher.state.floatbank10_a_air  \\\n",
       "date                                                   \n",
       "2016-01-15 00:00:00                       999.706909   \n",
       "2016-01-15 01:00:00                      1000.286398   \n",
       "2016-01-15 02:00:00                       999.719565   \n",
       "2016-01-15 03:00:00                       999.814770   \n",
       "2016-01-15 04:00:00                       999.678690   \n",
       "\n",
       "                     rougher.state.floatbank10_a_level  ...  \\\n",
       "date                                                    ...   \n",
       "2016-01-15 00:00:00                        -404.066986  ...   \n",
       "2016-01-15 01:00:00                        -400.065196  ...   \n",
       "2016-01-15 02:00:00                        -400.074028  ...   \n",
       "2016-01-15 03:00:00                        -400.200179  ...   \n",
       "2016-01-15 04:00:00                        -399.752729  ...   \n",
       "\n",
       "                     secondary_cleaner.output.tail_sol  \\\n",
       "date                                                     \n",
       "2016-01-15 00:00:00                           8.764648   \n",
       "2016-01-15 01:00:00                           9.001494   \n",
       "2016-01-15 02:00:00                           8.842896   \n",
       "2016-01-15 03:00:00                           9.122857   \n",
       "2016-01-15 04:00:00                           8.871028   \n",
       "\n",
       "                     final.output.concentrate_au  final.output.concentrate_ag  \\\n",
       "date                                                                            \n",
       "2016-01-15 00:00:00                    42.192020                     6.055403   \n",
       "2016-01-15 01:00:00                    42.701629                     6.029369   \n",
       "2016-01-15 02:00:00                    42.657501                     6.055926   \n",
       "2016-01-15 03:00:00                    42.689819                     6.047977   \n",
       "2016-01-15 04:00:00                    42.774141                     6.148599   \n",
       "\n",
       "                     final.output.concentrate_pb  \\\n",
       "date                                               \n",
       "2016-01-15 00:00:00                     9.889648   \n",
       "2016-01-15 01:00:00                     9.968944   \n",
       "2016-01-15 02:00:00                    10.213995   \n",
       "2016-01-15 03:00:00                     9.977019   \n",
       "2016-01-15 04:00:00                    10.142511   \n",
       "\n",
       "                     final.output.concentrate_sol  final.output.recovery  \\\n",
       "date                                                                       \n",
       "2016-01-15 00:00:00                      5.507324              70.541216   \n",
       "2016-01-15 01:00:00                      5.257781              69.266198   \n",
       "2016-01-15 02:00:00                      5.383759              68.116445   \n",
       "2016-01-15 03:00:00                      4.858634              68.347543   \n",
       "2016-01-15 04:00:00                      4.939416              66.927016   \n",
       "\n",
       "                     final.output.tail_au  final.output.tail_ag  \\\n",
       "date                                                              \n",
       "2016-01-15 00:00:00              2.143149             10.411962   \n",
       "2016-01-15 01:00:00              2.224930             10.462676   \n",
       "2016-01-15 02:00:00              2.257889             10.507046   \n",
       "2016-01-15 03:00:00              2.146849             10.422762   \n",
       "2016-01-15 04:00:00              2.055292             10.360302   \n",
       "\n",
       "                     final.output.tail_pb  final.output.tail_sol  \n",
       "date                                                              \n",
       "2016-01-15 00:00:00              0.895447              16.904297  \n",
       "2016-01-15 01:00:00              0.927452              16.634514  \n",
       "2016-01-15 02:00:00              0.953716              16.208849  \n",
       "2016-01-15 03:00:00              0.883763              16.532835  \n",
       "2016-01-15 04:00:00              0.792826              16.525686  \n",
       "\n",
       "[5 rows x 86 columns]"
      ]
     },
     "metadata": {},
     "output_type": "display_data"
    },
    {
     "name": "stdout",
     "output_type": "stream",
     "text": [
      "SHAPE: (19439, 86)\n",
      "<class 'pandas.core.frame.DataFrame'>\n",
      "Index: 19439 entries, 2016-01-15 00:00:00 to 2018-08-18 10:59:59\n",
      "Data columns (total 86 columns):\n",
      " #   Column                                              Non-Null Count  Dtype  \n",
      "---  ------                                              --------------  -----  \n",
      " 0   rougher.input.feed_au                               19439 non-null  float64\n",
      " 1   rougher.input.feed_ag                               19439 non-null  float64\n",
      " 2   rougher.input.feed_pb                               19339 non-null  float64\n",
      " 3   rougher.input.feed_sol                              19340 non-null  float64\n",
      " 4   rougher.input.feed_rate                             19428 non-null  float64\n",
      " 5   rougher.input.feed_size                             19294 non-null  float64\n",
      " 6   rougher.input.floatbank10_sulfate                   19405 non-null  float64\n",
      " 7   rougher.input.floatbank10_xanthate                  19431 non-null  float64\n",
      " 8   rougher.state.floatbank10_a_air                     19438 non-null  float64\n",
      " 9   rougher.state.floatbank10_a_level                   19438 non-null  float64\n",
      " 10  rougher.state.floatbank10_b_air                     19438 non-null  float64\n",
      " 11  rougher.state.floatbank10_b_level                   19438 non-null  float64\n",
      " 12  rougher.state.floatbank10_c_air                     19438 non-null  float64\n",
      " 13  rougher.state.floatbank10_c_level                   19438 non-null  float64\n",
      " 14  rougher.state.floatbank10_d_air                     19439 non-null  float64\n",
      " 15  rougher.state.floatbank10_d_level                   19439 non-null  float64\n",
      " 16  rougher.state.floatbank10_e_air                     19003 non-null  float64\n",
      " 17  rougher.state.floatbank10_e_level                   19439 non-null  float64\n",
      " 18  rougher.state.floatbank10_f_air                     19439 non-null  float64\n",
      " 19  rougher.state.floatbank10_f_level                   19439 non-null  float64\n",
      " 20  rougher.input.floatbank11_sulfate                   19395 non-null  float64\n",
      " 21  rougher.input.floatbank11_xanthate                  18986 non-null  float64\n",
      " 22  rougher.calculation.sulfate_to_au_concentrate       19437 non-null  float64\n",
      " 23  rougher.calculation.floatbank10_sulfate_to_au_feed  19437 non-null  float64\n",
      " 24  rougher.calculation.floatbank11_sulfate_to_au_feed  19437 non-null  float64\n",
      " 25  rougher.calculation.au_pb_ratio                     19439 non-null  float64\n",
      " 26  rougher.output.concentrate_au                       19439 non-null  float64\n",
      " 27  rougher.output.concentrate_ag                       19439 non-null  float64\n",
      " 28  rougher.output.concentrate_pb                       19439 non-null  float64\n",
      " 29  rougher.output.concentrate_sol                      19416 non-null  float64\n",
      " 30  rougher.output.recovery                             19439 non-null  float64\n",
      " 31  rougher.output.tail_au                              19439 non-null  float64\n",
      " 32  rougher.output.tail_ag                              19438 non-null  float64\n",
      " 33  rougher.output.tail_pb                              19439 non-null  float64\n",
      " 34  rougher.output.tail_sol                             19439 non-null  float64\n",
      " 35  primary_cleaner.input.sulfate                       19415 non-null  float64\n",
      " 36  primary_cleaner.input.depressant                    19402 non-null  float64\n",
      " 37  primary_cleaner.input.feed_size                     19439 non-null  float64\n",
      " 38  primary_cleaner.input.xanthate                      19335 non-null  float64\n",
      " 39  primary_cleaner.state.floatbank8_a_air              19435 non-null  float64\n",
      " 40  primary_cleaner.state.floatbank8_a_level            19438 non-null  float64\n",
      " 41  primary_cleaner.state.floatbank8_b_air              19435 non-null  float64\n",
      " 42  primary_cleaner.state.floatbank8_b_level            19438 non-null  float64\n",
      " 43  primary_cleaner.state.floatbank8_c_air              19437 non-null  float64\n",
      " 44  primary_cleaner.state.floatbank8_c_level            19438 non-null  float64\n",
      " 45  primary_cleaner.state.floatbank8_d_air              19436 non-null  float64\n",
      " 46  primary_cleaner.state.floatbank8_d_level            19438 non-null  float64\n",
      " 47  primary_cleaner.output.concentrate_au               19439 non-null  float64\n",
      " 48  primary_cleaner.output.concentrate_ag               19439 non-null  float64\n",
      " 49  primary_cleaner.output.concentrate_pb               19323 non-null  float64\n",
      " 50  primary_cleaner.output.concentrate_sol              19069 non-null  float64\n",
      " 51  primary_cleaner.output.tail_au                      19439 non-null  float64\n",
      " 52  primary_cleaner.output.tail_ag                      19435 non-null  float64\n",
      " 53  primary_cleaner.output.tail_pb                      19418 non-null  float64\n",
      " 54  primary_cleaner.output.tail_sol                     19377 non-null  float64\n",
      " 55  secondary_cleaner.state.floatbank2_a_air            19219 non-null  float64\n",
      " 56  secondary_cleaner.state.floatbank2_a_level          19438 non-null  float64\n",
      " 57  secondary_cleaner.state.floatbank2_b_air            19416 non-null  float64\n",
      " 58  secondary_cleaner.state.floatbank2_b_level          19438 non-null  float64\n",
      " 59  secondary_cleaner.state.floatbank3_a_air            19426 non-null  float64\n",
      " 60  secondary_cleaner.state.floatbank3_a_level          19438 non-null  float64\n",
      " 61  secondary_cleaner.state.floatbank3_b_air            19438 non-null  float64\n",
      " 62  secondary_cleaner.state.floatbank3_b_level          19438 non-null  float64\n",
      " 63  secondary_cleaner.state.floatbank4_a_air            19433 non-null  float64\n",
      " 64  secondary_cleaner.state.floatbank4_a_level          19438 non-null  float64\n",
      " 65  secondary_cleaner.state.floatbank4_b_air            19438 non-null  float64\n",
      " 66  secondary_cleaner.state.floatbank4_b_level          19438 non-null  float64\n",
      " 67  secondary_cleaner.state.floatbank5_a_air            19438 non-null  float64\n",
      " 68  secondary_cleaner.state.floatbank5_a_level          19438 non-null  float64\n",
      " 69  secondary_cleaner.state.floatbank5_b_air            19438 non-null  float64\n",
      " 70  secondary_cleaner.state.floatbank5_b_level          19438 non-null  float64\n",
      " 71  secondary_cleaner.state.floatbank6_a_air            19437 non-null  float64\n",
      " 72  secondary_cleaner.state.floatbank6_a_level          19438 non-null  float64\n",
      " 73  secondary_cleaner.output.tail_au                    19439 non-null  float64\n",
      " 74  secondary_cleaner.output.tail_ag                    19437 non-null  float64\n",
      " 75  secondary_cleaner.output.tail_pb                    19427 non-null  float64\n",
      " 76  secondary_cleaner.output.tail_sol                   17691 non-null  float64\n",
      " 77  final.output.concentrate_au                         19439 non-null  float64\n",
      " 78  final.output.concentrate_ag                         19438 non-null  float64\n",
      " 79  final.output.concentrate_pb                         19438 non-null  float64\n",
      " 80  final.output.concentrate_sol                        19228 non-null  float64\n",
      " 81  final.output.recovery                               19439 non-null  float64\n",
      " 82  final.output.tail_au                                19439 non-null  float64\n",
      " 83  final.output.tail_ag                                19438 non-null  float64\n",
      " 84  final.output.tail_pb                                19338 non-null  float64\n",
      " 85  final.output.tail_sol                               19433 non-null  float64\n",
      "dtypes: float64(86)\n",
      "memory usage: 12.9+ MB\n",
      "DUPLICATES: 0\n"
     ]
    },
    {
     "data": {
      "image/png": "[encoded data removed]",
      "text/plain": [
       "<Figure size 432x288 with 1 Axes>"
      ]
     },
     "metadata": {
      "needs_background": "light"
     },
     "output_type": "display_data"
    }
   ],
   "source": [
    "dataframe_info(full_data)"
   ]
  },
  {
   "cell_type": "markdown",
   "metadata": {},
   "source": [
    "## Анализ данных"
   ]
  },
  {
   "cell_type": "markdown",
   "metadata": {},
   "source": [
    "### Анализ концетрации металлов на различных стадиях очистки"
   ]
  },
  {
   "cell_type": "code",
   "execution_count": 14,
   "metadata": {},
   "outputs": [],
   "source": [
    "METALS = ['au', 'ag', 'pb']\n",
    "STAGES = ['feed', 'rougher', 'primary_cleaner', 'final']\n",
    "STAGES_RU = ['Сырье', 'Черновой конц.', 'Первич. очистка', 'Итог']\n",
    "\n",
    "def metal_concetration_data(metal):\n",
    "    r = re.compile(f'.*(.input.|.output.concentrate).*_{metal}')\n",
    "    concetration_columns = list(filter(r.match, train_data.columns)) \n",
    "    d = train_data[concetration_columns]\n",
    "    d.columns = STAGES\n",
    "    return d\n",
    "\n",
    "def show_boxplot(metal):\n",
    "    ax = metal_concetration_data(metal).boxplot();\n",
    "    ax.set_xticklabels(STAGES_RU)\n",
    "    plt.title(f'Концетрация {metal} на разных стадиях процесса.')\n",
    "    plt.show()"
   ]
  },
  {
   "cell_type": "code",
   "execution_count": 15,
   "metadata": {},
   "outputs": [
    {
     "data": {
      "image/png": "[encoded data removed]",
      "text/plain": [
       "<Figure size 432x288 with 1 Axes>"
      ]
     },
     "metadata": {
      "needs_background": "light"
     },
     "output_type": "display_data"
    },
    {
     "data": {
      "image/png": "[encoded data removed]",
      "text/plain": [
       "<Figure size 432x288 with 1 Axes>"
      ]
     },
     "metadata": {
      "needs_background": "light"
     },
     "output_type": "display_data"
    },
    {
     "data": {
      "image/png": "[encoded data removed]",
      "text/plain": [
       "<Figure size 432x288 with 1 Axes>"
      ]
     },
     "metadata": {
      "needs_background": "light"
     },
     "output_type": "display_data"
    }
   ],
   "source": [
    "for metal in METALS:\n",
    "    show_boxplot(metal)\n"
   ]
  },
  {
   "cell_type": "markdown",
   "metadata": {},
   "source": [
    "Первые выводы: \n",
    "1. Концетрация золота повышается на каждой стадии, и в 50% случаев в финале попадает в отрезок 44-46%\n",
    "2. Концетрация серебрая понимажется после первой и второй очисток. Пик в черновом концетрате ~12%, в конце около 5%\n",
    "3. Концентрация свинца на первых этапах растет и только после второй очистки немного снижается. Пик после превой очистки ~10,5, в конце ~10."
   ]
  },
  {
   "cell_type": "markdown",
   "metadata": {},
   "source": [
    "Для более наглядного сравнения концетрация, выведем медианные значения на один график."
   ]
  },
  {
   "cell_type": "code",
   "execution_count": 16,
   "metadata": {},
   "outputs": [
    {
     "data": {
      "image/png": "[encoded data removed]",
      "text/plain": [
       "<Figure size 432x288 with 1 Axes>"
      ]
     },
     "metadata": {
      "needs_background": "light"
     },
     "output_type": "display_data"
    }
   ],
   "source": [
    "pt = []\n",
    "for metal in METALS:\n",
    "    d = metal_concetration_data(metal)\n",
    "    d['metal'] = metal\n",
    "    pt.append(d)\n",
    "\n",
    "pt = (\n",
    "      pd\n",
    "      .concat(pt)\n",
    "      .pivot_table(index='metal', \n",
    "                   values=STAGES, \n",
    "                   aggfunc='median')\n",
    "      .transpose()\n",
    ")      \n",
    "\n",
    "pt.index = STAGES_RU\n",
    "\n",
    "ax = pt.plot()\n",
    "ax.set_ylabel('Содержание металла, %')\n",
    "ax.set_xlabel('Этап')\n",
    "plt.show()\n"
   ]
  },
  {
   "attachments": {
    "image.png": {
     "image/png": "[encoded data removed]"
    }
   },
   "cell_type": "markdown",
   "metadata": {},
   "source": [
    "![image.png](attachment:image.png)"
   ]
  },
  {
   "cell_type": "markdown",
   "metadata": {},
   "source": [
    "Вывод: на каждом этапе содержание золота в сырье увеличивается, содержание других металлов уменьшается. Ни финальном этапе, содержание золота в 4,5 раза превышает содержание свинца и в 10 раз превышает содержание серебра"
   ]
  },
  {
   "cell_type": "markdown",
   "metadata": {},
   "source": [
    "### Разпределение размеров гранул в начальном сырье"
   ]
  },
  {
   "cell_type": "code",
   "execution_count": 17,
   "metadata": {},
   "outputs": [
    {
     "data": {
      "text/plain": [
       "count    14579.000000\n",
       "mean        58.776732\n",
       "std         23.144080\n",
       "min          0.049194\n",
       "25%         47.171414\n",
       "50%         54.254915\n",
       "75%         64.344760\n",
       "max        484.967466\n",
       "Name: rougher.input.feed_size, dtype: float64"
      ]
     },
     "execution_count": 17,
     "metadata": {},
     "output_type": "execute_result"
    }
   ],
   "source": [
    "train_data['rougher.input.feed_size'].describe()"
   ]
  },
  {
   "cell_type": "code",
   "execution_count": 18,
   "metadata": {},
   "outputs": [
    {
     "data": {
      "text/plain": [
       "count    4860.000000\n",
       "mean       59.080175\n",
       "std        19.441844\n",
       "min         0.046369\n",
       "25%        47.605339\n",
       "50%        55.414175\n",
       "75%        66.538910\n",
       "max       363.989699\n",
       "Name: rougher.input.feed_size, dtype: float64"
      ]
     },
     "execution_count": 18,
     "metadata": {},
     "output_type": "execute_result"
    }
   ],
   "source": [
    "test_data['rougher.input.feed_size'].describe()"
   ]
  },
  {
   "cell_type": "code",
   "execution_count": 19,
   "metadata": {},
   "outputs": [
    {
     "data": {
      "image/png": "[encoded data removed]",
      "text/plain": [
       "<Figure size 432x288 with 1 Axes>"
      ]
     },
     "metadata": {
      "needs_background": "light"
     },
     "output_type": "display_data"
    }
   ],
   "source": [
    "train_data['rougher.input.feed_size'].hist(range=(20,100), bins=80, alpha=0.7)\n",
    "test_data['rougher.input.feed_size'].hist(range=(20,100), bins=80, alpha=0.7)\n",
    "plt.show()"
   ]
  },
  {
   "cell_type": "markdown",
   "metadata": {},
   "source": [
    "Вывод: Распределение размеров гранул в обучащих и тестовых выборках схожи."
   ]
  },
  {
   "cell_type": "code",
   "execution_count": 20,
   "metadata": {
    "scrolled": true
   },
   "outputs": [
    {
     "data": {
      "image/png": "[encoded data removed]",
      "text/plain": [
       "<Figure size 432x288 with 1 Axes>"
      ]
     },
     "metadata": {
      "needs_background": "light"
     },
     "output_type": "display_data"
    }
   ],
   "source": [
    "ax = sns.kdeplot(data=train_data['rougher.input.feed_size'])\n",
    "sns.kdeplot(data=test_data['rougher.input.feed_size'], ax=ax);"
   ]
  },
  {
   "cell_type": "markdown",
   "metadata": {},
   "source": [
    "### Суммарную концентрацию металлов на разных стадиях"
   ]
  },
  {
   "cell_type": "code",
   "execution_count": 21,
   "metadata": {},
   "outputs": [
    {
     "data": {
      "image/png": "[encoded data removed]",
      "text/plain": [
       "<Figure size 432x288 with 1 Axes>"
      ]
     },
     "metadata": {
      "needs_background": "light"
     },
     "output_type": "display_data"
    }
   ],
   "source": [
    "pt = pd.DataFrame(index=train_data.index, columns=STAGES, data=0)\n",
    "\n",
    "for metal in METALS:\n",
    "    d = metal_concetration_data(metal)\n",
    "    pt = pt + d\n",
    "\n",
    "ax = pt.plot.box(grid=True)\n",
    "ax.set_xticklabels(STAGES_RU)\n",
    "plt.title(f'Концетрация {metal} на разных стадиях процесса.')\n",
    "plt.show()"
   ]
  },
  {
   "cell_type": "markdown",
   "metadata": {},
   "source": [
    "### Вывод: Общая концетрация металлов растет с 21%, в необработамнном сырье,  до 60% после второй очистки."
   ]
  },
  {
   "cell_type": "code",
   "execution_count": 22,
   "metadata": {},
   "outputs": [
    {
     "name": "stdout",
     "output_type": "stream",
     "text": [
      "(19439, 86)\n",
      "(18650, 90)\n"
     ]
    }
   ],
   "source": [
    "print(full_data.shape)\n",
    "for col in ['rougher.input.feed', \n",
    "            'rougher.output.concentrate', \n",
    "            'primary_cleaner.output.concentrate', \n",
    "            'final.output.concentrate']:\n",
    "    full_data[f'{col}_sum'] = full_data[f'{col}_au'] + full_data[f'{col}_ag'] + full_data[f'{col}_pb']\n",
    "    full_data = full_data[full_data[f'{col}_sum'] > 0]\n",
    "print(full_data.shape)"
   ]
  },
  {
   "cell_type": "code",
   "execution_count": 23,
   "metadata": {},
   "outputs": [
    {
     "name": "stdout",
     "output_type": "stream",
     "text": [
      "(14579, 86)\n",
      "(13846, 86)\n"
     ]
    }
   ],
   "source": [
    "print(train_data.shape)\n",
    "train_data = train_data.loc[train_data.index.isin(full_data.index)]\n",
    "print(train_data.shape)"
   ]
  },
  {
   "cell_type": "code",
   "execution_count": 24,
   "metadata": {},
   "outputs": [
    {
     "name": "stdout",
     "output_type": "stream",
     "text": [
      "(4860, 52)\n",
      "(4804, 52)\n"
     ]
    }
   ],
   "source": [
    "print(test_data.shape)\n",
    "test_data = test_data.loc[test_data.index.isin(full_data.index)]\n",
    "print(test_data.shape)"
   ]
  },
  {
   "cell_type": "markdown",
   "metadata": {},
   "source": [
    "## Модель"
   ]
  },
  {
   "cell_type": "markdown",
   "metadata": {},
   "source": [
    "### Функция для вычисления sMAPE"
   ]
  },
  {
   "cell_type": "code",
   "execution_count": 25,
   "metadata": {},
   "outputs": [],
   "source": [
    "def smape(a, f):\n",
    "    return 1/len(a) * np.sum(2 * np.abs(f-a) / (np.abs(a) + np.abs(f))*100)\n",
    "\n",
    "def total_smape(smape_rougher, smape_clear):\n",
    "    return (0.25 * smape_rougher) + (0.75 * smape_clear)\n",
    "\n",
    "scorer = make_scorer(smape, greater_is_better=False)"
   ]
  },
  {
   "cell_type": "markdown",
   "metadata": {},
   "source": [
    "### Подготовка данных\n",
    "Необходимо подготовить 4 набор данных:  \n",
    "- обучающий и валидационный для обучения модели предсказания recovery после флоатации (rougher)\n",
    "- обучающий и валидационный для обучения модели предсказания recovery после первой и второй очистики (primary_cleaner, secondary_cleaner)\n",
    "\n",
    "Набор данных для обучения должны включать в себя данные только параметры сырья и параметры, характеризующие текущее состояние этапа технологичекого процесса, для которого обучаем модель. Заранее подготовим наименование колонок для этих наборов данных."
   ]
  },
  {
   "cell_type": "code",
   "execution_count": 26,
   "metadata": {},
   "outputs": [
    {
     "name": "stdout",
     "output_type": "stream",
     "text": [
      "rougher.input.feed_au\n",
      "rougher.input.feed_ag\n",
      "rougher.input.feed_pb\n",
      "rougher.input.feed_sol\n",
      "rougher.input.feed_rate\n",
      "rougher.input.feed_size\n",
      "rougher.input.floatbank10_sulfate\n",
      "rougher.input.floatbank10_xanthate\n",
      "rougher.state.floatbank10_a_air\n",
      "rougher.state.floatbank10_a_level\n",
      "rougher.state.floatbank10_b_air\n",
      "rougher.state.floatbank10_b_level\n",
      "rougher.state.floatbank10_c_air\n",
      "rougher.state.floatbank10_c_level\n",
      "rougher.state.floatbank10_d_air\n",
      "rougher.state.floatbank10_d_level\n",
      "rougher.state.floatbank10_e_air\n",
      "rougher.state.floatbank10_e_level\n",
      "rougher.state.floatbank10_f_air\n",
      "rougher.state.floatbank10_f_level\n",
      "rougher.input.floatbank11_sulfate\n",
      "rougher.input.floatbank11_xanthate\n"
     ]
    }
   ],
   "source": [
    "r = re.compile(f'rougher.*')\n",
    "rougher_columns = list(filter(r.match, test_data.columns)) \n",
    "print('\\n'.join(rougher_columns))"
   ]
  },
  {
   "cell_type": "code",
   "execution_count": 27,
   "metadata": {},
   "outputs": [],
   "source": [
    "rougher_x = train_data[rougher_columns]\n",
    "rougher_y = train_data['rougher.output.concentrate_au']"
   ]
  },
  {
   "cell_type": "markdown",
   "metadata": {},
   "source": [
    "Уберём выбросы"
   ]
  },
  {
   "cell_type": "code",
   "execution_count": 28,
   "metadata": {},
   "outputs": [
    {
     "name": "stdout",
     "output_type": "stream",
     "text": [
      "(13846, 22)\n",
      "rougher.input.feed_au\n",
      "rougher.input.feed_ag\n",
      "rougher.input.feed_pb\n",
      "rougher.input.feed_sol\n",
      "rougher.input.feed_rate\n",
      "rougher.input.feed_size\n",
      "rougher.input.floatbank10_sulfate\n",
      "rougher.input.floatbank10_xanthate\n",
      "rougher.state.floatbank10_a_air\n",
      "rougher.state.floatbank10_a_level\n",
      "rougher.state.floatbank10_b_air\n",
      "rougher.state.floatbank10_b_level\n",
      "rougher.state.floatbank10_c_air\n",
      "rougher.state.floatbank10_c_level\n",
      "rougher.state.floatbank10_d_air\n",
      "rougher.state.floatbank10_d_level\n",
      "rougher.state.floatbank10_e_air\n",
      "rougher.state.floatbank10_e_level\n",
      "rougher.state.floatbank10_f_air\n",
      "rougher.state.floatbank10_f_level\n",
      "rougher.input.floatbank11_sulfate\n",
      "rougher.input.floatbank11_xanthate\n",
      "(11632, 22)\n"
     ]
    }
   ],
   "source": [
    "print(rougher_x.shape)\n",
    "for col in rougher_columns:\n",
    "    print(col)\n",
    "    rougher_x = remove_outlier(rougher_x, col)\n",
    "print(rougher_x.shape)"
   ]
  },
  {
   "cell_type": "code",
   "execution_count": 29,
   "metadata": {},
   "outputs": [],
   "source": [
    "rougher_y = rougher_y[rougher_y.index.isin(rougher_x.index)]"
   ]
  },
  {
   "cell_type": "markdown",
   "metadata": {},
   "source": [
    "Отмасштабируем"
   ]
  },
  {
   "cell_type": "code",
   "execution_count": 30,
   "metadata": {},
   "outputs": [],
   "source": [
    "scaler = StandardScaler()\n",
    "rougher_x = scaler.fit_transform(rougher_x)"
   ]
  },
  {
   "cell_type": "code",
   "execution_count": 31,
   "metadata": {},
   "outputs": [
    {
     "name": "stdout",
     "output_type": "stream",
     "text": [
      "primary_cleaner.input.sulfate\n",
      "primary_cleaner.input.depressant\n",
      "primary_cleaner.input.feed_size\n",
      "primary_cleaner.input.xanthate\n",
      "primary_cleaner.state.floatbank8_a_air\n",
      "primary_cleaner.state.floatbank8_a_level\n",
      "primary_cleaner.state.floatbank8_b_air\n",
      "primary_cleaner.state.floatbank8_b_level\n",
      "primary_cleaner.state.floatbank8_c_air\n",
      "primary_cleaner.state.floatbank8_c_level\n",
      "primary_cleaner.state.floatbank8_d_air\n",
      "primary_cleaner.state.floatbank8_d_level\n",
      "secondary_cleaner.state.floatbank2_a_air\n",
      "secondary_cleaner.state.floatbank2_a_level\n",
      "secondary_cleaner.state.floatbank2_b_air\n",
      "secondary_cleaner.state.floatbank2_b_level\n",
      "secondary_cleaner.state.floatbank3_a_air\n",
      "secondary_cleaner.state.floatbank3_a_level\n",
      "secondary_cleaner.state.floatbank3_b_air\n",
      "secondary_cleaner.state.floatbank3_b_level\n",
      "secondary_cleaner.state.floatbank4_a_air\n",
      "secondary_cleaner.state.floatbank4_a_level\n",
      "secondary_cleaner.state.floatbank4_b_air\n",
      "secondary_cleaner.state.floatbank4_b_level\n",
      "secondary_cleaner.state.floatbank5_a_air\n",
      "secondary_cleaner.state.floatbank5_a_level\n",
      "secondary_cleaner.state.floatbank5_b_air\n",
      "secondary_cleaner.state.floatbank5_b_level\n",
      "secondary_cleaner.state.floatbank6_a_air\n",
      "secondary_cleaner.state.floatbank6_a_level\n"
     ]
    }
   ],
   "source": [
    "r = re.compile(f'.*_cleaner.*')\n",
    "cleaner_columns = list(filter(r.match, test_data.columns)) \n",
    "print('\\n'.join(cleaner_columns))"
   ]
  },
  {
   "cell_type": "code",
   "execution_count": 32,
   "metadata": {},
   "outputs": [],
   "source": [
    "final_x = train_data[cleaner_columns]\n",
    "final_y = train_data['final.output.concentrate_au']\n",
    "\n",
    "scaler = StandardScaler()\n",
    "rougher_x = scaler.fit_transform(rougher_x)"
   ]
  },
  {
   "cell_type": "markdown",
   "metadata": {},
   "source": [
    "### Обучение моделей"
   ]
  },
  {
   "cell_type": "markdown",
   "metadata": {},
   "source": [
    "#### Модель для чернового концетрата"
   ]
  },
  {
   "cell_type": "code",
   "execution_count": 33,
   "metadata": {},
   "outputs": [
    {
     "name": "stdout",
     "output_type": "stream",
     "text": [
      "Best grid search hyperparameters are: {'copy_X': True, 'fit_intercept': True, 'normalize': False}\n",
      "Best grid search score is: -6.624294053821636\n",
      "CPU times: user 2.13 s, sys: 2.89 s, total: 5.02 s\n",
      "Wall time: 4.95 s\n"
     ]
    }
   ],
   "source": [
    "%%time\n",
    "model = LinearRegression()\n",
    "#scores = cross_val_score(model, rougher_x, rougher_y, cv=5, scoring=scorer)\n",
    "#print('LinearRegression:', scores.mean())\n",
    "\n",
    "parameters = {'fit_intercept':[True,False], \n",
    "              'normalize':[True,False], \n",
    "              'copy_X':[True, False]}\n",
    "\n",
    "grid = GridSearchCV(model,parameters,  cv=5, scoring=scorer, n_jobs=-1)\n",
    "model_grid = grid.fit(rougher_x, rougher_y)\n",
    "\n",
    "# grid search results\n",
    "print('Best grid search hyperparameters are: '+str(model_grid.best_params_))\n",
    "print('Best grid search score is: '+str(model_grid.best_score_))"
   ]
  },
  {
   "cell_type": "code",
   "execution_count": 34,
   "metadata": {},
   "outputs": [
    {
     "name": "stdout",
     "output_type": "stream",
     "text": [
      "DecisionTreeRegressor: -13.057478023273825\n",
      "CPU times: user 1.3 s, sys: 19.9 ms, total: 1.32 s\n",
      "Wall time: 1.36 s\n"
     ]
    }
   ],
   "source": [
    "%%time\n",
    "\n",
    "model = DecisionTreeRegressor(random_state=31337)\n",
    "scores = cross_val_score(model, rougher_x, rougher_y, cv=5, scoring=scorer)\n",
    "print('DecisionTreeRegressor:', scores.mean())"
   ]
  },
  {
   "cell_type": "code",
   "execution_count": 35,
   "metadata": {},
   "outputs": [
    {
     "name": "stdout",
     "output_type": "stream",
     "text": [
      "RandomForestRegressor: -8.706005118227349\n",
      "CPU times: user 1min 13s, sys: 245 ms, total: 1min 13s\n",
      "Wall time: 1min 14s\n"
     ]
    }
   ],
   "source": [
    "%%time\n",
    "\n",
    "model = RandomForestRegressor(random_state=31337)\n",
    "scores = cross_val_score(model, rougher_x, rougher_y, cv=5, scoring=scorer)\n",
    "print('RandomForestRegressor:', scores.mean())"
   ]
  },
  {
   "cell_type": "markdown",
   "metadata": {},
   "source": [
    "Вывод: так как показатель sMAPE показывает симметричное среднее абсолютное процентное отклонение, то чем он меньше, тем лучше. Получается, что лучший результат показывает линейная регрессия."
   ]
  },
  {
   "cell_type": "markdown",
   "metadata": {},
   "source": [
    "#### Модели для финального результата"
   ]
  },
  {
   "cell_type": "code",
   "execution_count": 36,
   "metadata": {},
   "outputs": [
    {
     "name": "stdout",
     "output_type": "stream",
     "text": [
      "Best grid search hyperparameters are: {'copy_X': True, 'fit_intercept': True, 'normalize': False}\n",
      "Best grid search score is: -5.767941738479558\n",
      "CPU times: user 4.03 s, sys: 6.1 s, total: 10.1 s\n",
      "Wall time: 10.1 s\n"
     ]
    }
   ],
   "source": [
    "%%time\n",
    "\n",
    "model = LinearRegression()\n",
    "parameters = {'fit_intercept':[True,False], \n",
    "              'normalize':[True,False], \n",
    "              'copy_X':[True, False]}\n",
    "\n",
    "grid = GridSearchCV(model,parameters,  cv=5, scoring=scorer, n_jobs=-1)\n",
    "model_grid = grid.fit(final_x, final_y)\n",
    "\n",
    "# grid search results\n",
    "print('Best grid search hyperparameters are: '+str(model_grid.best_params_))\n",
    "print('Best grid search score is: '+str(model_grid.best_score_))"
   ]
  },
  {
   "cell_type": "code",
   "execution_count": 37,
   "metadata": {},
   "outputs": [
    {
     "name": "stdout",
     "output_type": "stream",
     "text": [
      "DecisionTreeRegressor: -13.475390388203\n",
      "CPU times: user 3.63 s, sys: 67 ms, total: 3.69 s\n",
      "Wall time: 3.71 s\n"
     ]
    }
   ],
   "source": [
    "%%time\n",
    "\n",
    "model = DecisionTreeRegressor(random_state=31337)\n",
    "scores = cross_val_score(model, final_x, final_y, cv=5, scoring=scorer)\n",
    "print('DecisionTreeRegressor:', scores.mean())"
   ]
  },
  {
   "cell_type": "code",
   "execution_count": 38,
   "metadata": {},
   "outputs": [
    {
     "name": "stdout",
     "output_type": "stream",
     "text": [
      "RandomForestRegressor: -8.076761473900419\n",
      "CPU times: user 3min 19s, sys: 262 ms, total: 3min 20s\n",
      "Wall time: 3min 20s\n"
     ]
    }
   ],
   "source": [
    "%%time\n",
    "\n",
    "model = RandomForestRegressor(random_state=31337)\n",
    "scores = cross_val_score(model, final_x, final_y, cv=5, scoring=scorer)\n",
    "print('RandomForestRegressor:', scores.mean())"
   ]
  },
  {
   "cell_type": "markdown",
   "metadata": {},
   "source": [
    "Опять лучшую оценку показала модель линейной регрессии. Обучим её на полном наборе обучающих данных"
   ]
  },
  {
   "cell_type": "code",
   "execution_count": 39,
   "metadata": {},
   "outputs": [
    {
     "data": {
      "text/plain": [
       "Pipeline(steps=[('preprocessor', StandardScaler()),\n",
       "                ('regressor', LinearRegression())])"
      ]
     },
     "execution_count": 39,
     "metadata": {},
     "output_type": "execute_result"
    }
   ],
   "source": [
    "rougher_x = train_data[rougher_columns]\n",
    "rougher_y = train_data['rougher.output.concentrate_au']\n",
    "\n",
    "rougher_model = Pipeline(steps=[('preprocessor', StandardScaler()),\n",
    "                        ('regressor', LinearRegression())])\n",
    "\n",
    "rougher_model.fit(rougher_x, rougher_y)\n"
   ]
  },
  {
   "cell_type": "code",
   "execution_count": 40,
   "metadata": {},
   "outputs": [
    {
     "data": {
      "text/plain": [
       "Pipeline(steps=[('preprocessor', StandardScaler()),\n",
       "                ('regressor', LinearRegression())])"
      ]
     },
     "execution_count": 40,
     "metadata": {},
     "output_type": "execute_result"
    }
   ],
   "source": [
    "final_x = train_data[cleaner_columns]\n",
    "final_y = train_data['final.output.concentrate_au']\n",
    "final_model = Pipeline(steps=[('preprocessor', StandardScaler()),\n",
    "                        ('regressor', LinearRegression())])\n",
    "\n",
    "final_model.fit(final_x, final_y)"
   ]
  },
  {
   "cell_type": "markdown",
   "metadata": {},
   "source": [
    "Обучиим модель для проверки на валидность"
   ]
  },
  {
   "cell_type": "code",
   "execution_count": 41,
   "metadata": {},
   "outputs": [
    {
     "data": {
      "text/plain": [
       "Pipeline(steps=[('preprocessor', StandardScaler()),\n",
       "                ('regressor', DummyRegressor(strategy='median'))])"
      ]
     },
     "execution_count": 41,
     "metadata": {},
     "output_type": "execute_result"
    }
   ],
   "source": [
    "rougher_dummy_regr = Pipeline(steps=[('preprocessor', StandardScaler()),\n",
    "                        ('regressor', DummyRegressor(strategy=\"median\"))])\n",
    "rougher_dummy_regr.fit(rougher_x, rougher_y)\n",
    "\n",
    "final_dummy_regr = Pipeline(steps=[('preprocessor', StandardScaler()),\n",
    "                        ('regressor', DummyRegressor(strategy=\"median\"))])\n",
    "final_dummy_regr.fit(final_x, final_y)"
   ]
  },
  {
   "cell_type": "markdown",
   "metadata": {},
   "source": [
    "### Проверка на тестовых данных"
   ]
  },
  {
   "cell_type": "markdown",
   "metadata": {},
   "source": [
    "Подготовим данные"
   ]
  },
  {
   "cell_type": "code",
   "execution_count": 42,
   "metadata": {},
   "outputs": [
    {
     "name": "stdout",
     "output_type": "stream",
     "text": [
      "(4804, 22)\n",
      "(4804,)\n"
     ]
    }
   ],
   "source": [
    "test_data = test_data.dropna()\n",
    "rougher_x = test_data[rougher_columns]\n",
    "rougher_y = full_data[full_data.index.isin(test_data.index)]['rougher.output.concentrate_au']\n",
    "\n",
    "print(rougher_x.shape)\n",
    "print(rougher_y.shape)"
   ]
  },
  {
   "cell_type": "code",
   "execution_count": 43,
   "metadata": {},
   "outputs": [
    {
     "name": "stdout",
     "output_type": "stream",
     "text": [
      "(4804, 22)\n",
      "(4804,)\n"
     ]
    }
   ],
   "source": [
    "final_x = test_data[cleaner_columns]\n",
    "final_y = full_data[full_data.index.isin(test_data.index)]['final.output.concentrate_au']\n",
    "\n",
    "print(rougher_x.shape)\n",
    "print(rougher_y.shape)"
   ]
  },
  {
   "cell_type": "markdown",
   "metadata": {},
   "source": [
    "Сделаем предсказания и посчитаем целевые метрики"
   ]
  },
  {
   "cell_type": "code",
   "execution_count": 44,
   "metadata": {},
   "outputs": [
    {
     "name": "stdout",
     "output_type": "stream",
     "text": [
      "sMAPE(rougher): 6.879613140826878\n",
      "sMAPE(final): 5.180518690909866\n",
      "Итоговое sMAPE: 5.605292303389119\n"
     ]
    }
   ],
   "source": [
    "rougher_y_pred = rougher_model.predict(rougher_x)\n",
    "rougher_smape = smape(rougher_y, rougher_y_pred)\n",
    "\n",
    "final_pred = final_model.predict(final_x)\n",
    "final_smape = smape(final_y, final_pred)\n",
    "\n",
    "print('sMAPE(rougher):', rougher_smape)\n",
    "print('sMAPE(final):', final_smape)\n",
    "print('Итоговое sMAPE:', total_smape(rougher_smape, final_smape))"
   ]
  },
  {
   "cell_type": "code",
   "execution_count": 45,
   "metadata": {},
   "outputs": [
    {
     "name": "stdout",
     "output_type": "stream",
     "text": [
      "sMAPE(rougher): 9.72920564429105\n",
      "sMAPE(final): 5.0591883804924045\n",
      "Итоговое sMAPE: 6.226692696442066\n"
     ]
    }
   ],
   "source": [
    "rougher_y_pred = rougher_dummy_regr.predict(rougher_x)\n",
    "rougher_smape = smape(rougher_y, rougher_y_pred)\n",
    "\n",
    "final_pred = final_dummy_regr.predict(final_x)\n",
    "final_smape = smape(final_y, final_pred)\n",
    "\n",
    "print('sMAPE(rougher):', rougher_smape)\n",
    "print('sMAPE(final):', final_smape)\n",
    "print('Итоговое sMAPE:', total_smape(rougher_smape, final_smape))"
   ]
  },
  {
   "cell_type": "markdown",
   "metadata": {},
   "source": [
    "Вывод: Обученная модель показывает в два раза лучший результат на черновом концетрате. и на ~20% лучшиий результат на финальном результате"
   ]
  },
  {
   "cell_type": "markdown",
   "metadata": {},
   "source": [
    "## Вывод\n",
    "В преобработке данных, мы заполнили пропуски значениями из предыдущих измерений, так как соседние по времени параметры часто похожи. Проверили корреткность расчета показателя `recovery`.   \n",
    "Для обучения моделей мы отобрали данные, влияющие на тех. процесс, для которого строили предсказания. На обучающих данных лучший результат показала модель линейной регресии. Обучив её на выборке с обучающими данными, мы проверили её на работу на тестовых и итоговая оценка sMAPE равна ~6.46"
   ]
  }
 ],
 "metadata": {
  "ExecuteTimeLog": [
   {
    "duration": 1646,
    "start_time": "2023-06-29T12:31:49.535Z"
   },
   {
    "duration": 5,
    "start_time": "2023-06-29T12:31:51.183Z"
   },
   {
    "duration": 22,
    "start_time": "2023-06-29T12:31:51.189Z"
   },
   {
    "duration": 3682,
    "start_time": "2023-06-29T12:31:51.213Z"
   },
   {
    "duration": 3300,
    "start_time": "2023-06-29T12:31:54.897Z"
   },
   {
    "duration": 197,
    "start_time": "2023-06-29T12:31:58.198Z"
   },
   {
    "duration": 18,
    "start_time": "2023-06-29T12:31:58.397Z"
   },
   {
    "duration": 1827,
    "start_time": "2023-06-29T12:31:58.417Z"
   },
   {
    "duration": 21,
    "start_time": "2023-06-29T12:32:00.246Z"
   },
   {
    "duration": 20,
    "start_time": "2023-06-29T12:32:00.269Z"
   },
   {
    "duration": 3570,
    "start_time": "2023-06-29T12:32:00.291Z"
   },
   {
    "duration": 5,
    "start_time": "2023-06-29T12:32:03.862Z"
   },
   {
    "duration": 723,
    "start_time": "2023-06-29T12:32:03.869Z"
   },
   {
    "duration": 125,
    "start_time": "2023-06-29T12:32:04.595Z"
   },
   {
    "duration": 0,
    "start_time": "2023-06-29T12:32:04.722Z"
   },
   {
    "duration": 0,
    "start_time": "2023-06-29T12:32:04.724Z"
   },
   {
    "duration": 0,
    "start_time": "2023-06-29T12:32:04.725Z"
   },
   {
    "duration": 0,
    "start_time": "2023-06-29T12:32:04.726Z"
   },
   {
    "duration": 0,
    "start_time": "2023-06-29T12:32:04.727Z"
   },
   {
    "duration": 0,
    "start_time": "2023-06-29T12:32:04.729Z"
   },
   {
    "duration": 0,
    "start_time": "2023-06-29T12:32:04.730Z"
   },
   {
    "duration": 0,
    "start_time": "2023-06-29T12:32:04.731Z"
   },
   {
    "duration": 0,
    "start_time": "2023-06-29T12:32:04.733Z"
   },
   {
    "duration": 0,
    "start_time": "2023-06-29T12:32:04.734Z"
   },
   {
    "duration": 0,
    "start_time": "2023-06-29T12:32:04.736Z"
   },
   {
    "duration": 0,
    "start_time": "2023-06-29T12:32:04.759Z"
   },
   {
    "duration": 0,
    "start_time": "2023-06-29T12:32:04.761Z"
   },
   {
    "duration": 0,
    "start_time": "2023-06-29T12:32:04.762Z"
   },
   {
    "duration": 0,
    "start_time": "2023-06-29T12:32:04.764Z"
   },
   {
    "duration": 0,
    "start_time": "2023-06-29T12:32:04.765Z"
   },
   {
    "duration": 0,
    "start_time": "2023-06-29T12:32:04.767Z"
   },
   {
    "duration": 0,
    "start_time": "2023-06-29T12:32:04.768Z"
   },
   {
    "duration": 0,
    "start_time": "2023-06-29T12:32:04.769Z"
   },
   {
    "duration": 0,
    "start_time": "2023-06-29T12:32:04.770Z"
   },
   {
    "duration": 0,
    "start_time": "2023-06-29T12:32:04.772Z"
   },
   {
    "duration": 0,
    "start_time": "2023-06-29T12:32:04.773Z"
   },
   {
    "duration": 196,
    "start_time": "2023-06-29T12:38:30.380Z"
   },
   {
    "duration": 20,
    "start_time": "2023-06-29T12:38:39.179Z"
   },
   {
    "duration": 18,
    "start_time": "2023-06-29T12:41:05.934Z"
   },
   {
    "duration": 17,
    "start_time": "2023-06-29T12:41:14.891Z"
   },
   {
    "duration": 24,
    "start_time": "2023-06-29T12:41:21.543Z"
   },
   {
    "duration": 18,
    "start_time": "2023-06-29T12:43:32.223Z"
   },
   {
    "duration": 22,
    "start_time": "2023-06-29T12:44:08.255Z"
   },
   {
    "duration": 1760,
    "start_time": "2023-06-29T12:46:05.088Z"
   },
   {
    "duration": 1360,
    "start_time": "2023-06-29T12:47:04.462Z"
   },
   {
    "duration": 5,
    "start_time": "2023-06-29T12:47:05.824Z"
   },
   {
    "duration": 39,
    "start_time": "2023-06-29T12:47:05.830Z"
   },
   {
    "duration": 806,
    "start_time": "2023-06-29T12:47:05.871Z"
   },
   {
    "duration": 3163,
    "start_time": "2023-06-29T12:47:06.678Z"
   },
   {
    "duration": 179,
    "start_time": "2023-06-29T12:47:09.843Z"
   },
   {
    "duration": 18,
    "start_time": "2023-06-29T12:47:10.023Z"
   },
   {
    "duration": 1784,
    "start_time": "2023-06-29T12:47:10.042Z"
   },
   {
    "duration": 13,
    "start_time": "2023-06-29T12:47:11.828Z"
   },
   {
    "duration": 27,
    "start_time": "2023-06-29T12:47:11.843Z"
   },
   {
    "duration": 3363,
    "start_time": "2023-06-29T12:47:11.872Z"
   },
   {
    "duration": 4,
    "start_time": "2023-06-29T12:47:15.237Z"
   },
   {
    "duration": 710,
    "start_time": "2023-06-29T12:47:15.242Z"
   },
   {
    "duration": 127,
    "start_time": "2023-06-29T12:47:15.954Z"
   },
   {
    "duration": 0,
    "start_time": "2023-06-29T12:47:16.083Z"
   },
   {
    "duration": 0,
    "start_time": "2023-06-29T12:47:16.084Z"
   },
   {
    "duration": 0,
    "start_time": "2023-06-29T12:47:16.085Z"
   },
   {
    "duration": 0,
    "start_time": "2023-06-29T12:47:16.086Z"
   },
   {
    "duration": 0,
    "start_time": "2023-06-29T12:47:16.087Z"
   },
   {
    "duration": 0,
    "start_time": "2023-06-29T12:47:16.088Z"
   },
   {
    "duration": 0,
    "start_time": "2023-06-29T12:47:16.089Z"
   },
   {
    "duration": 0,
    "start_time": "2023-06-29T12:47:16.091Z"
   },
   {
    "duration": 0,
    "start_time": "2023-06-29T12:47:16.092Z"
   },
   {
    "duration": 0,
    "start_time": "2023-06-29T12:47:16.093Z"
   },
   {
    "duration": 0,
    "start_time": "2023-06-29T12:47:16.094Z"
   },
   {
    "duration": 0,
    "start_time": "2023-06-29T12:47:16.095Z"
   },
   {
    "duration": 0,
    "start_time": "2023-06-29T12:47:16.096Z"
   },
   {
    "duration": 0,
    "start_time": "2023-06-29T12:47:16.097Z"
   },
   {
    "duration": 0,
    "start_time": "2023-06-29T12:47:16.098Z"
   },
   {
    "duration": 0,
    "start_time": "2023-06-29T12:47:16.100Z"
   },
   {
    "duration": 0,
    "start_time": "2023-06-29T12:47:16.101Z"
   },
   {
    "duration": 0,
    "start_time": "2023-06-29T12:47:16.102Z"
   },
   {
    "duration": 0,
    "start_time": "2023-06-29T12:47:16.103Z"
   },
   {
    "duration": 0,
    "start_time": "2023-06-29T12:47:16.105Z"
   },
   {
    "duration": 0,
    "start_time": "2023-06-29T12:47:16.106Z"
   },
   {
    "duration": 0,
    "start_time": "2023-06-29T12:47:16.107Z"
   },
   {
    "duration": 147,
    "start_time": "2023-06-29T12:59:14.404Z"
   },
   {
    "duration": 1429,
    "start_time": "2023-06-29T12:59:51.110Z"
   },
   {
    "duration": 5,
    "start_time": "2023-06-29T12:59:52.540Z"
   },
   {
    "duration": 25,
    "start_time": "2023-06-29T12:59:52.546Z"
   },
   {
    "duration": 799,
    "start_time": "2023-06-29T12:59:52.573Z"
   },
   {
    "duration": 3365,
    "start_time": "2023-06-29T12:59:53.375Z"
   },
   {
    "duration": 194,
    "start_time": "2023-06-29T12:59:56.742Z"
   },
   {
    "duration": 38,
    "start_time": "2023-06-29T12:59:56.938Z"
   },
   {
    "duration": 1816,
    "start_time": "2023-06-29T12:59:56.978Z"
   },
   {
    "duration": 12,
    "start_time": "2023-06-29T12:59:58.795Z"
   },
   {
    "duration": 23,
    "start_time": "2023-06-29T12:59:58.811Z"
   },
   {
    "duration": 3448,
    "start_time": "2023-06-29T12:59:58.835Z"
   },
   {
    "duration": 5,
    "start_time": "2023-06-29T13:00:02.284Z"
   },
   {
    "duration": 825,
    "start_time": "2023-06-29T13:00:02.291Z"
   },
   {
    "duration": 162,
    "start_time": "2023-06-29T13:00:03.117Z"
   },
   {
    "duration": 8,
    "start_time": "2023-06-29T13:00:03.281Z"
   },
   {
    "duration": 14,
    "start_time": "2023-06-29T13:00:03.291Z"
   },
   {
    "duration": 373,
    "start_time": "2023-06-29T13:00:03.307Z"
   },
   {
    "duration": 163,
    "start_time": "2023-06-29T13:00:03.681Z"
   },
   {
    "duration": 5,
    "start_time": "2023-06-29T13:00:03.845Z"
   },
   {
    "duration": 11,
    "start_time": "2023-06-29T13:00:03.863Z"
   },
   {
    "duration": 10,
    "start_time": "2023-06-29T13:00:03.876Z"
   },
   {
    "duration": 102,
    "start_time": "2023-06-29T13:00:03.888Z"
   },
   {
    "duration": 10,
    "start_time": "2023-06-29T13:00:03.992Z"
   },
   {
    "duration": 9,
    "start_time": "2023-06-29T13:00:04.003Z"
   },
   {
    "duration": 19,
    "start_time": "2023-06-29T13:00:04.014Z"
   },
   {
    "duration": 948,
    "start_time": "2023-06-29T13:00:04.034Z"
   },
   {
    "duration": 2021,
    "start_time": "2023-06-29T13:00:05.060Z"
   },
   {
    "duration": 117939,
    "start_time": "2023-06-29T13:00:07.084Z"
   },
   {
    "duration": 1159,
    "start_time": "2023-06-29T13:02:05.024Z"
   },
   {
    "duration": 4516,
    "start_time": "2023-06-29T13:02:06.196Z"
   },
   {
    "duration": 252372,
    "start_time": "2023-06-29T13:02:10.714Z"
   },
   {
    "duration": 75,
    "start_time": "2023-06-29T13:06:23.088Z"
   },
   {
    "duration": 116,
    "start_time": "2023-06-29T13:06:23.167Z"
   },
   {
    "duration": 87,
    "start_time": "2023-06-29T13:06:23.285Z"
   },
   {
    "duration": 100,
    "start_time": "2023-06-29T13:06:23.380Z"
   },
   {
    "duration": 82,
    "start_time": "2023-06-29T13:06:23.486Z"
   },
   {
    "duration": 1611,
    "start_time": "2023-06-30T05:09:32.704Z"
   },
   {
    "duration": 111,
    "start_time": "2023-06-30T05:10:12.184Z"
   },
   {
    "duration": 7,
    "start_time": "2023-06-30T05:10:30.237Z"
   },
   {
    "duration": 37,
    "start_time": "2023-06-30T05:10:30.246Z"
   },
   {
    "duration": 26,
    "start_time": "2023-06-30T05:10:30.285Z"
   },
   {
    "duration": 2426,
    "start_time": "2023-06-30T05:10:30.313Z"
   },
   {
    "duration": 3652,
    "start_time": "2023-06-30T05:10:32.741Z"
   },
   {
    "duration": 208,
    "start_time": "2023-06-30T05:10:36.401Z"
   },
   {
    "duration": 5,
    "start_time": "2023-06-30T05:10:39.122Z"
   },
   {
    "duration": 7,
    "start_time": "2023-06-30T05:13:17.611Z"
   },
   {
    "duration": 61,
    "start_time": "2023-06-30T05:15:23.746Z"
   },
   {
    "duration": 24011,
    "start_time": "2023-06-30T05:21:07.972Z"
   },
   {
    "duration": 388,
    "start_time": "2023-06-30T05:21:53.861Z"
   },
   {
    "duration": 609,
    "start_time": "2023-06-30T05:22:24.672Z"
   },
   {
    "duration": 361,
    "start_time": "2023-06-30T05:23:08.931Z"
   },
   {
    "duration": 82,
    "start_time": "2023-06-30T05:33:36.988Z"
   },
   {
    "duration": 4,
    "start_time": "2023-06-30T05:34:21.001Z"
   },
   {
    "duration": 79,
    "start_time": "2023-06-30T05:49:41.730Z"
   },
   {
    "duration": 6,
    "start_time": "2023-06-30T05:50:10.039Z"
   },
   {
    "duration": 10,
    "start_time": "2023-06-30T05:50:10.048Z"
   },
   {
    "duration": 7,
    "start_time": "2023-06-30T05:50:10.060Z"
   },
   {
    "duration": 983,
    "start_time": "2023-06-30T05:50:10.069Z"
   },
   {
    "duration": 3465,
    "start_time": "2023-06-30T05:50:11.054Z"
   },
   {
    "duration": 206,
    "start_time": "2023-06-30T05:50:14.521Z"
   },
   {
    "duration": 5,
    "start_time": "2023-06-30T05:50:14.729Z"
   },
   {
    "duration": 17,
    "start_time": "2023-06-30T05:50:14.736Z"
   },
   {
    "duration": 67,
    "start_time": "2023-06-30T05:50:14.755Z"
   },
   {
    "duration": 0,
    "start_time": "2023-06-30T05:50:14.824Z"
   },
   {
    "duration": 0,
    "start_time": "2023-06-30T05:50:14.826Z"
   },
   {
    "duration": 0,
    "start_time": "2023-06-30T05:50:14.828Z"
   },
   {
    "duration": 0,
    "start_time": "2023-06-30T05:50:14.829Z"
   },
   {
    "duration": 0,
    "start_time": "2023-06-30T05:50:14.830Z"
   },
   {
    "duration": 0,
    "start_time": "2023-06-30T05:50:14.832Z"
   },
   {
    "duration": 0,
    "start_time": "2023-06-30T05:50:14.966Z"
   },
   {
    "duration": 0,
    "start_time": "2023-06-30T05:50:14.967Z"
   },
   {
    "duration": 1,
    "start_time": "2023-06-30T05:50:14.968Z"
   },
   {
    "duration": 0,
    "start_time": "2023-06-30T05:50:14.970Z"
   },
   {
    "duration": 0,
    "start_time": "2023-06-30T05:50:14.972Z"
   },
   {
    "duration": 0,
    "start_time": "2023-06-30T05:50:14.973Z"
   },
   {
    "duration": 0,
    "start_time": "2023-06-30T05:50:14.974Z"
   },
   {
    "duration": 0,
    "start_time": "2023-06-30T05:50:14.975Z"
   },
   {
    "duration": 0,
    "start_time": "2023-06-30T05:50:14.976Z"
   },
   {
    "duration": 0,
    "start_time": "2023-06-30T05:50:15.002Z"
   },
   {
    "duration": 0,
    "start_time": "2023-06-30T05:50:15.004Z"
   },
   {
    "duration": 0,
    "start_time": "2023-06-30T05:50:15.006Z"
   },
   {
    "duration": 0,
    "start_time": "2023-06-30T05:50:15.007Z"
   },
   {
    "duration": 0,
    "start_time": "2023-06-30T05:50:15.008Z"
   },
   {
    "duration": 70,
    "start_time": "2023-06-30T05:50:17.820Z"
   },
   {
    "duration": 5,
    "start_time": "2023-06-30T05:51:03.503Z"
   },
   {
    "duration": 33,
    "start_time": "2023-06-30T05:51:03.510Z"
   },
   {
    "duration": 12,
    "start_time": "2023-06-30T05:51:03.544Z"
   },
   {
    "duration": 790,
    "start_time": "2023-06-30T05:51:03.558Z"
   },
   {
    "duration": 3500,
    "start_time": "2023-06-30T05:51:04.351Z"
   },
   {
    "duration": 231,
    "start_time": "2023-06-30T05:51:07.853Z"
   },
   {
    "duration": 5,
    "start_time": "2023-06-30T05:51:08.086Z"
   },
   {
    "duration": 8,
    "start_time": "2023-06-30T05:51:08.102Z"
   },
   {
    "duration": 18,
    "start_time": "2023-06-30T05:51:08.112Z"
   },
   {
    "duration": 2042,
    "start_time": "2023-06-30T05:51:08.132Z"
   },
   {
    "duration": 11,
    "start_time": "2023-06-30T05:51:10.176Z"
   },
   {
    "duration": 13,
    "start_time": "2023-06-30T05:51:10.190Z"
   },
   {
    "duration": 4052,
    "start_time": "2023-06-30T05:51:10.205Z"
   },
   {
    "duration": 5,
    "start_time": "2023-06-30T05:51:14.260Z"
   },
   {
    "duration": 562,
    "start_time": "2023-06-30T05:51:14.267Z"
   },
   {
    "duration": 180,
    "start_time": "2023-06-30T05:51:14.831Z"
   },
   {
    "duration": 10,
    "start_time": "2023-06-30T05:51:15.013Z"
   },
   {
    "duration": 36,
    "start_time": "2023-06-30T05:51:15.025Z"
   },
   {
    "duration": 357,
    "start_time": "2023-06-30T05:51:15.063Z"
   },
   {
    "duration": 459,
    "start_time": "2023-06-30T05:51:15.421Z"
   },
   {
    "duration": 160,
    "start_time": "2023-06-30T05:51:18.652Z"
   },
   {
    "duration": 5,
    "start_time": "2023-06-30T05:51:26.205Z"
   },
   {
    "duration": 6,
    "start_time": "2023-06-30T05:51:33.264Z"
   },
   {
    "duration": 14,
    "start_time": "2023-06-30T05:51:33.273Z"
   },
   {
    "duration": 23,
    "start_time": "2023-06-30T05:51:33.289Z"
   },
   {
    "duration": 836,
    "start_time": "2023-06-30T05:51:33.315Z"
   },
   {
    "duration": 3749,
    "start_time": "2023-06-30T05:51:34.153Z"
   },
   {
    "duration": 204,
    "start_time": "2023-06-30T05:51:37.903Z"
   },
   {
    "duration": 6,
    "start_time": "2023-06-30T05:51:38.109Z"
   },
   {
    "duration": 23,
    "start_time": "2023-06-30T05:51:38.120Z"
   },
   {
    "duration": 22,
    "start_time": "2023-06-30T05:51:38.145Z"
   },
   {
    "duration": 2026,
    "start_time": "2023-06-30T05:51:38.171Z"
   },
   {
    "duration": 12,
    "start_time": "2023-06-30T05:51:40.200Z"
   },
   {
    "duration": 27,
    "start_time": "2023-06-30T05:51:40.214Z"
   },
   {
    "duration": 3922,
    "start_time": "2023-06-30T05:51:40.243Z"
   },
   {
    "duration": 6,
    "start_time": "2023-06-30T05:51:44.168Z"
   },
   {
    "duration": 587,
    "start_time": "2023-06-30T05:51:44.176Z"
   },
   {
    "duration": 195,
    "start_time": "2023-06-30T05:51:44.766Z"
   },
   {
    "duration": 11,
    "start_time": "2023-06-30T05:51:44.963Z"
   },
   {
    "duration": 28,
    "start_time": "2023-06-30T05:51:44.976Z"
   },
   {
    "duration": 383,
    "start_time": "2023-06-30T05:51:45.006Z"
   },
   {
    "duration": 419,
    "start_time": "2023-06-30T05:51:45.391Z"
   },
   {
    "duration": 174,
    "start_time": "2023-06-30T05:51:45.812Z"
   },
   {
    "duration": 4,
    "start_time": "2023-06-30T05:51:45.987Z"
   },
   {
    "duration": 9,
    "start_time": "2023-06-30T05:51:46.002Z"
   },
   {
    "duration": 8,
    "start_time": "2023-06-30T05:51:46.013Z"
   },
   {
    "duration": 96,
    "start_time": "2023-06-30T05:51:46.023Z"
   },
   {
    "duration": 11,
    "start_time": "2023-06-30T05:51:46.121Z"
   },
   {
    "duration": 5,
    "start_time": "2023-06-30T05:51:46.134Z"
   },
   {
    "duration": 12,
    "start_time": "2023-06-30T05:51:46.142Z"
   },
   {
    "duration": 6520,
    "start_time": "2023-06-30T05:51:49.995Z"
   },
   {
    "duration": 10498,
    "start_time": "2023-06-30T05:53:37.910Z"
   },
   {
    "duration": 194,
    "start_time": "2023-06-30T05:53:48.411Z"
   },
   {
    "duration": 5,
    "start_time": "2023-06-30T05:54:48.120Z"
   },
   {
    "duration": 22,
    "start_time": "2023-06-30T05:56:21.294Z"
   },
   {
    "duration": 12,
    "start_time": "2023-06-30T06:01:51.890Z"
   },
   {
    "duration": 34,
    "start_time": "2023-06-30T06:02:00.429Z"
   },
   {
    "duration": 15,
    "start_time": "2023-06-30T06:02:37.755Z"
   },
   {
    "duration": 74,
    "start_time": "2023-06-30T06:04:16.894Z"
   },
   {
    "duration": 24,
    "start_time": "2023-06-30T06:04:38.181Z"
   },
   {
    "duration": 15,
    "start_time": "2023-06-30T06:04:46.188Z"
   },
   {
    "duration": 28,
    "start_time": "2023-06-30T21:59:21.137Z"
   },
   {
    "duration": 46,
    "start_time": "2023-07-01T05:47:25.958Z"
   },
   {
    "duration": 4,
    "start_time": "2023-07-01T05:47:34.068Z"
   },
   {
    "duration": 9,
    "start_time": "2023-07-01T05:47:39.219Z"
   },
   {
    "duration": 1664,
    "start_time": "2023-07-01T05:47:47.889Z"
   },
   {
    "duration": 5,
    "start_time": "2023-07-01T05:47:49.555Z"
   },
   {
    "duration": 15,
    "start_time": "2023-07-01T05:47:49.561Z"
   },
   {
    "duration": 2172,
    "start_time": "2023-07-01T05:47:49.577Z"
   },
   {
    "duration": 3333,
    "start_time": "2023-07-01T05:47:51.752Z"
   },
   {
    "duration": 188,
    "start_time": "2023-07-01T05:47:55.087Z"
   },
   {
    "duration": 3,
    "start_time": "2023-07-01T05:47:55.277Z"
   },
   {
    "duration": 8,
    "start_time": "2023-07-01T05:47:55.282Z"
   },
   {
    "duration": 19,
    "start_time": "2023-07-01T05:47:55.292Z"
   },
   {
    "duration": 1793,
    "start_time": "2023-07-01T05:47:55.312Z"
   },
   {
    "duration": 13,
    "start_time": "2023-07-01T05:47:57.107Z"
   },
   {
    "duration": 6,
    "start_time": "2023-07-01T05:47:57.121Z"
   },
   {
    "duration": 3377,
    "start_time": "2023-07-01T05:47:57.128Z"
   },
   {
    "duration": 4,
    "start_time": "2023-07-01T05:48:00.508Z"
   },
   {
    "duration": 626,
    "start_time": "2023-07-01T05:48:00.513Z"
   },
   {
    "duration": 168,
    "start_time": "2023-07-01T05:48:01.141Z"
   },
   {
    "duration": 8,
    "start_time": "2023-07-01T05:48:01.310Z"
   },
   {
    "duration": 23,
    "start_time": "2023-07-01T05:48:01.320Z"
   },
   {
    "duration": 330,
    "start_time": "2023-07-01T05:48:01.345Z"
   },
   {
    "duration": 347,
    "start_time": "2023-07-01T05:48:01.677Z"
   },
   {
    "duration": 135,
    "start_time": "2023-07-01T05:48:02.026Z"
   },
   {
    "duration": 4,
    "start_time": "2023-07-01T05:48:02.163Z"
   },
   {
    "duration": 25,
    "start_time": "2023-07-01T05:48:02.175Z"
   },
   {
    "duration": 22,
    "start_time": "2023-07-01T05:48:02.201Z"
   },
   {
    "duration": 94,
    "start_time": "2023-07-01T05:48:02.224Z"
   },
   {
    "duration": 10,
    "start_time": "2023-07-01T05:48:02.320Z"
   },
   {
    "duration": 25,
    "start_time": "2023-07-01T05:48:02.331Z"
   },
   {
    "duration": 35,
    "start_time": "2023-07-01T05:48:02.358Z"
   },
   {
    "duration": 5683,
    "start_time": "2023-07-01T05:48:02.396Z"
   },
   {
    "duration": 2030,
    "start_time": "2023-07-01T05:48:08.081Z"
   },
   {
    "duration": 1347,
    "start_time": "2023-07-01T05:49:21.909Z"
   },
   {
    "duration": 5,
    "start_time": "2023-07-01T05:49:23.258Z"
   },
   {
    "duration": 28,
    "start_time": "2023-07-01T05:49:23.267Z"
   },
   {
    "duration": 823,
    "start_time": "2023-07-01T05:49:23.297Z"
   },
   {
    "duration": 3229,
    "start_time": "2023-07-01T05:49:24.122Z"
   },
   {
    "duration": 205,
    "start_time": "2023-07-01T05:49:27.353Z"
   },
   {
    "duration": 4,
    "start_time": "2023-07-01T05:49:27.560Z"
   },
   {
    "duration": 19,
    "start_time": "2023-07-01T05:49:27.565Z"
   },
   {
    "duration": 18,
    "start_time": "2023-07-01T05:49:27.587Z"
   },
   {
    "duration": 1742,
    "start_time": "2023-07-01T05:49:27.607Z"
   },
   {
    "duration": 12,
    "start_time": "2023-07-01T05:49:29.351Z"
   },
   {
    "duration": 4,
    "start_time": "2023-07-01T05:49:29.364Z"
   },
   {
    "duration": 3447,
    "start_time": "2023-07-01T05:49:29.369Z"
   },
   {
    "duration": 7,
    "start_time": "2023-07-01T05:49:32.818Z"
   },
   {
    "duration": 651,
    "start_time": "2023-07-01T05:49:32.827Z"
   },
   {
    "duration": 151,
    "start_time": "2023-07-01T05:49:33.479Z"
   },
   {
    "duration": 9,
    "start_time": "2023-07-01T05:49:33.631Z"
   },
   {
    "duration": 8,
    "start_time": "2023-07-01T05:49:33.641Z"
   },
   {
    "duration": 321,
    "start_time": "2023-07-01T05:49:33.651Z"
   },
   {
    "duration": 366,
    "start_time": "2023-07-01T05:49:33.975Z"
   },
   {
    "duration": 139,
    "start_time": "2023-07-01T05:49:34.343Z"
   },
   {
    "duration": 4,
    "start_time": "2023-07-01T05:49:34.484Z"
   },
   {
    "duration": 13,
    "start_time": "2023-07-01T05:49:34.491Z"
   },
   {
    "duration": 12,
    "start_time": "2023-07-01T05:49:34.505Z"
   },
   {
    "duration": 83,
    "start_time": "2023-07-01T05:49:34.518Z"
   },
   {
    "duration": 10,
    "start_time": "2023-07-01T05:49:34.603Z"
   },
   {
    "duration": 11,
    "start_time": "2023-07-01T05:49:34.617Z"
   },
   {
    "duration": 19,
    "start_time": "2023-07-01T05:49:34.630Z"
   },
   {
    "duration": 4129,
    "start_time": "2023-07-01T05:49:34.651Z"
   },
   {
    "duration": 2109,
    "start_time": "2023-07-01T05:49:38.782Z"
   },
   {
    "duration": 110691,
    "start_time": "2023-07-01T05:49:40.893Z"
   },
   {
    "duration": 8604,
    "start_time": "2023-07-01T05:51:31.586Z"
   },
   {
    "duration": 4256,
    "start_time": "2023-07-01T05:51:40.193Z"
   },
   {
    "duration": 239279,
    "start_time": "2023-07-01T05:51:44.450Z"
   },
   {
    "duration": 45,
    "start_time": "2023-07-01T05:55:43.731Z"
   },
   {
    "duration": 198,
    "start_time": "2023-07-01T05:55:43.779Z"
   },
   {
    "duration": 118,
    "start_time": "2023-07-01T05:55:43.980Z"
   },
   {
    "duration": 16,
    "start_time": "2023-07-01T05:55:44.101Z"
   },
   {
    "duration": 7,
    "start_time": "2023-07-01T05:55:44.118Z"
   },
   {
    "duration": 513,
    "start_time": "2023-07-01T05:55:44.127Z"
   },
   {
    "duration": 0,
    "start_time": "2023-07-01T05:55:44.642Z"
   },
   {
    "duration": 0,
    "start_time": "2023-07-01T05:55:44.643Z"
   },
   {
    "duration": 65,
    "start_time": "2023-07-01T05:57:46.546Z"
   },
   {
    "duration": 53,
    "start_time": "2023-07-01T06:12:42.908Z"
   },
   {
    "duration": 141,
    "start_time": "2023-07-01T06:34:14.514Z"
   },
   {
    "duration": 1011,
    "start_time": "2023-07-01T06:35:49.853Z"
   },
   {
    "duration": 4,
    "start_time": "2023-07-01T06:36:48.892Z"
   },
   {
    "duration": 103,
    "start_time": "2023-07-01T06:37:39.494Z"
   },
   {
    "duration": 9,
    "start_time": "2023-07-01T06:37:51.134Z"
   },
   {
    "duration": 30,
    "start_time": "2023-07-01T06:39:36.598Z"
   },
   {
    "duration": 28,
    "start_time": "2023-07-01T06:39:47.029Z"
   },
   {
    "duration": 5,
    "start_time": "2023-07-01T06:39:53.460Z"
   },
   {
    "duration": 23,
    "start_time": "2023-07-01T06:39:53.467Z"
   },
   {
    "duration": 14,
    "start_time": "2023-07-01T06:39:53.492Z"
   },
   {
    "duration": 782,
    "start_time": "2023-07-01T06:39:53.508Z"
   },
   {
    "duration": 3308,
    "start_time": "2023-07-01T06:39:54.291Z"
   },
   {
    "duration": 186,
    "start_time": "2023-07-01T06:39:57.601Z"
   },
   {
    "duration": 4,
    "start_time": "2023-07-01T06:39:57.789Z"
   },
   {
    "duration": 11,
    "start_time": "2023-07-01T06:39:57.795Z"
   },
   {
    "duration": 17,
    "start_time": "2023-07-01T06:39:57.808Z"
   },
   {
    "duration": 1803,
    "start_time": "2023-07-01T06:39:57.827Z"
   },
   {
    "duration": 13,
    "start_time": "2023-07-01T06:39:59.632Z"
   },
   {
    "duration": 4,
    "start_time": "2023-07-01T06:39:59.647Z"
   },
   {
    "duration": 3433,
    "start_time": "2023-07-01T06:39:59.653Z"
   },
   {
    "duration": 4,
    "start_time": "2023-07-01T06:40:03.088Z"
   },
   {
    "duration": 651,
    "start_time": "2023-07-01T06:40:03.094Z"
   },
   {
    "duration": 163,
    "start_time": "2023-07-01T06:40:03.747Z"
   },
   {
    "duration": 9,
    "start_time": "2023-07-01T06:40:03.912Z"
   },
   {
    "duration": 12,
    "start_time": "2023-07-01T06:40:03.922Z"
   },
   {
    "duration": 306,
    "start_time": "2023-07-01T06:40:03.936Z"
   },
   {
    "duration": 383,
    "start_time": "2023-07-01T06:40:04.243Z"
   },
   {
    "duration": 141,
    "start_time": "2023-07-01T06:40:04.628Z"
   },
   {
    "duration": 60,
    "start_time": "2023-07-01T06:40:12.157Z"
   },
   {
    "duration": 12,
    "start_time": "2023-07-01T06:41:35.550Z"
   },
   {
    "duration": 9,
    "start_time": "2023-07-01T06:50:12.780Z"
   },
   {
    "duration": 114,
    "start_time": "2023-07-01T06:54:50.847Z"
   },
   {
    "duration": 1582,
    "start_time": "2023-07-01T06:55:25.170Z"
   },
   {
    "duration": 5,
    "start_time": "2023-07-01T06:55:26.754Z"
   },
   {
    "duration": 9,
    "start_time": "2023-07-01T06:55:26.761Z"
   },
   {
    "duration": 862,
    "start_time": "2023-07-01T06:55:26.772Z"
   },
   {
    "duration": 17,
    "start_time": "2023-07-01T06:55:27.635Z"
   },
   {
    "duration": 3360,
    "start_time": "2023-07-01T06:55:27.654Z"
   },
   {
    "duration": 193,
    "start_time": "2023-07-01T06:55:31.016Z"
   },
   {
    "duration": 4,
    "start_time": "2023-07-01T06:55:31.211Z"
   },
   {
    "duration": 32,
    "start_time": "2023-07-01T06:55:31.217Z"
   },
   {
    "duration": 38,
    "start_time": "2023-07-01T06:55:31.253Z"
   },
   {
    "duration": 1879,
    "start_time": "2023-07-01T06:55:31.292Z"
   },
   {
    "duration": 131,
    "start_time": "2023-07-01T06:55:33.173Z"
   },
   {
    "duration": 0,
    "start_time": "2023-07-01T06:55:33.306Z"
   },
   {
    "duration": 0,
    "start_time": "2023-07-01T06:55:33.306Z"
   },
   {
    "duration": 0,
    "start_time": "2023-07-01T06:55:33.307Z"
   },
   {
    "duration": 0,
    "start_time": "2023-07-01T06:55:33.308Z"
   },
   {
    "duration": 0,
    "start_time": "2023-07-01T06:55:33.309Z"
   },
   {
    "duration": 0,
    "start_time": "2023-07-01T06:55:33.311Z"
   },
   {
    "duration": 0,
    "start_time": "2023-07-01T06:55:33.312Z"
   },
   {
    "duration": 0,
    "start_time": "2023-07-01T06:55:33.313Z"
   },
   {
    "duration": 0,
    "start_time": "2023-07-01T06:55:33.314Z"
   },
   {
    "duration": 0,
    "start_time": "2023-07-01T06:55:33.315Z"
   },
   {
    "duration": 0,
    "start_time": "2023-07-01T06:55:33.316Z"
   },
   {
    "duration": 0,
    "start_time": "2023-07-01T06:55:33.318Z"
   },
   {
    "duration": 0,
    "start_time": "2023-07-01T06:55:33.319Z"
   },
   {
    "duration": 0,
    "start_time": "2023-07-01T06:55:33.320Z"
   },
   {
    "duration": 0,
    "start_time": "2023-07-01T06:55:33.321Z"
   },
   {
    "duration": 0,
    "start_time": "2023-07-01T06:55:33.322Z"
   },
   {
    "duration": 0,
    "start_time": "2023-07-01T06:55:33.324Z"
   },
   {
    "duration": 0,
    "start_time": "2023-07-01T06:55:33.325Z"
   },
   {
    "duration": 0,
    "start_time": "2023-07-01T06:55:33.327Z"
   },
   {
    "duration": 0,
    "start_time": "2023-07-01T06:55:33.328Z"
   },
   {
    "duration": 0,
    "start_time": "2023-07-01T06:55:33.329Z"
   },
   {
    "duration": 0,
    "start_time": "2023-07-01T06:55:33.374Z"
   },
   {
    "duration": 0,
    "start_time": "2023-07-01T06:55:33.376Z"
   },
   {
    "duration": 0,
    "start_time": "2023-07-01T06:55:33.377Z"
   },
   {
    "duration": 0,
    "start_time": "2023-07-01T06:55:33.379Z"
   },
   {
    "duration": 0,
    "start_time": "2023-07-01T06:55:33.380Z"
   },
   {
    "duration": 0,
    "start_time": "2023-07-01T06:55:33.381Z"
   },
   {
    "duration": 0,
    "start_time": "2023-07-01T06:55:33.382Z"
   },
   {
    "duration": 0,
    "start_time": "2023-07-01T06:55:33.383Z"
   },
   {
    "duration": 0,
    "start_time": "2023-07-01T06:55:33.385Z"
   },
   {
    "duration": 0,
    "start_time": "2023-07-01T06:55:33.386Z"
   },
   {
    "duration": 0,
    "start_time": "2023-07-01T06:55:33.387Z"
   },
   {
    "duration": 4,
    "start_time": "2023-07-01T06:57:04.711Z"
   },
   {
    "duration": 6,
    "start_time": "2023-07-01T06:57:09.217Z"
   },
   {
    "duration": 3444,
    "start_time": "2023-07-01T06:57:09.226Z"
   },
   {
    "duration": 4,
    "start_time": "2023-07-01T06:57:12.675Z"
   },
   {
    "duration": 639,
    "start_time": "2023-07-01T06:57:12.680Z"
   },
   {
    "duration": 158,
    "start_time": "2023-07-01T06:57:13.320Z"
   },
   {
    "duration": 9,
    "start_time": "2023-07-01T06:57:13.480Z"
   },
   {
    "duration": 8,
    "start_time": "2023-07-01T06:57:13.490Z"
   },
   {
    "duration": 325,
    "start_time": "2023-07-01T06:57:13.500Z"
   },
   {
    "duration": 518,
    "start_time": "2023-07-01T06:57:13.826Z"
   },
   {
    "duration": 151,
    "start_time": "2023-07-01T06:57:14.347Z"
   },
   {
    "duration": 85,
    "start_time": "2023-07-01T06:57:14.500Z"
   },
   {
    "duration": 10,
    "start_time": "2023-07-01T06:57:14.587Z"
   },
   {
    "duration": 7,
    "start_time": "2023-07-01T06:57:14.599Z"
   },
   {
    "duration": 9,
    "start_time": "2023-07-01T06:57:14.607Z"
   },
   {
    "duration": 9,
    "start_time": "2023-07-01T06:57:14.618Z"
   },
   {
    "duration": 102,
    "start_time": "2023-07-01T06:57:14.629Z"
   },
   {
    "duration": 9,
    "start_time": "2023-07-01T06:57:14.733Z"
   },
   {
    "duration": 4,
    "start_time": "2023-07-01T06:57:14.743Z"
   },
   {
    "duration": 29,
    "start_time": "2023-07-01T06:57:14.749Z"
   },
   {
    "duration": 84,
    "start_time": "2023-07-01T06:57:14.780Z"
   },
   {
    "duration": 89,
    "start_time": "2023-07-01T06:57:14.866Z"
   },
   {
    "duration": 88,
    "start_time": "2023-07-01T06:57:14.957Z"
   },
   {
    "duration": 12628,
    "start_time": "2023-07-01T06:57:15.047Z"
   },
   {
    "duration": 3646,
    "start_time": "2023-07-01T06:57:27.679Z"
   },
   {
    "duration": 1478,
    "start_time": "2023-07-01T07:00:33.844Z"
   },
   {
    "duration": 4,
    "start_time": "2023-07-01T07:00:35.324Z"
   },
   {
    "duration": 19,
    "start_time": "2023-07-01T07:00:35.330Z"
   },
   {
    "duration": 803,
    "start_time": "2023-07-01T07:00:35.351Z"
   },
   {
    "duration": 26,
    "start_time": "2023-07-01T07:00:36.156Z"
   },
   {
    "duration": 3452,
    "start_time": "2023-07-01T07:00:36.184Z"
   },
   {
    "duration": 188,
    "start_time": "2023-07-01T07:00:39.638Z"
   },
   {
    "duration": 5,
    "start_time": "2023-07-01T07:00:39.828Z"
   },
   {
    "duration": 26,
    "start_time": "2023-07-01T07:00:39.835Z"
   },
   {
    "duration": 16,
    "start_time": "2023-07-01T07:00:39.863Z"
   },
   {
    "duration": 1810,
    "start_time": "2023-07-01T07:00:39.881Z"
   },
   {
    "duration": 4,
    "start_time": "2023-07-01T07:00:41.694Z"
   },
   {
    "duration": 3717,
    "start_time": "2023-07-01T07:00:41.700Z"
   },
   {
    "duration": 5,
    "start_time": "2023-07-01T07:00:45.419Z"
   },
   {
    "duration": 680,
    "start_time": "2023-07-01T07:00:45.426Z"
   },
   {
    "duration": 157,
    "start_time": "2023-07-01T07:00:46.108Z"
   },
   {
    "duration": 14,
    "start_time": "2023-07-01T07:00:46.267Z"
   },
   {
    "duration": 10,
    "start_time": "2023-07-01T07:00:46.283Z"
   },
   {
    "duration": 407,
    "start_time": "2023-07-01T07:00:46.295Z"
   },
   {
    "duration": 336,
    "start_time": "2023-07-01T07:00:46.703Z"
   },
   {
    "duration": 164,
    "start_time": "2023-07-01T07:00:47.041Z"
   },
   {
    "duration": 82,
    "start_time": "2023-07-01T07:00:47.207Z"
   },
   {
    "duration": 9,
    "start_time": "2023-07-01T07:00:47.291Z"
   },
   {
    "duration": 6,
    "start_time": "2023-07-01T07:00:47.301Z"
   },
   {
    "duration": 7,
    "start_time": "2023-07-01T07:00:47.308Z"
   },
   {
    "duration": 7,
    "start_time": "2023-07-01T07:00:47.316Z"
   },
   {
    "duration": 111,
    "start_time": "2023-07-01T07:00:47.324Z"
   },
   {
    "duration": 4,
    "start_time": "2023-07-01T07:00:47.439Z"
   },
   {
    "duration": 12,
    "start_time": "2023-07-01T07:00:47.445Z"
   },
   {
    "duration": 4,
    "start_time": "2023-07-01T07:00:47.475Z"
   },
   {
    "duration": 31,
    "start_time": "2023-07-01T07:00:47.480Z"
   },
   {
    "duration": 6274,
    "start_time": "2023-07-01T07:00:47.513Z"
   },
   {
    "duration": 1397,
    "start_time": "2023-07-01T07:00:53.874Z"
   },
   {
    "duration": 74688,
    "start_time": "2023-07-01T07:00:55.275Z"
   },
   {
    "duration": 10117,
    "start_time": "2023-07-01T07:02:09.965Z"
   },
   {
    "duration": 3974,
    "start_time": "2023-07-01T07:02:20.084Z"
   },
   {
    "duration": 201200,
    "start_time": "2023-07-01T07:02:24.060Z"
   },
   {
    "duration": 30,
    "start_time": "2023-07-01T07:05:45.262Z"
   },
   {
    "duration": 286,
    "start_time": "2023-07-01T07:05:45.295Z"
   },
   {
    "duration": 108,
    "start_time": "2023-07-01T07:05:45.589Z"
   },
   {
    "duration": 12,
    "start_time": "2023-07-01T07:05:45.699Z"
   },
   {
    "duration": 7,
    "start_time": "2023-07-01T07:05:45.713Z"
   },
   {
    "duration": 747,
    "start_time": "2023-07-01T07:05:45.721Z"
   },
   {
    "duration": 0,
    "start_time": "2023-07-01T07:05:46.470Z"
   },
   {
    "duration": 6,
    "start_time": "2023-07-01T07:07:20.337Z"
   },
   {
    "duration": 1374,
    "start_time": "2023-07-01T07:11:37.448Z"
   },
   {
    "duration": 4,
    "start_time": "2023-07-01T07:11:38.824Z"
   },
   {
    "duration": 8,
    "start_time": "2023-07-01T07:11:38.829Z"
   },
   {
    "duration": 809,
    "start_time": "2023-07-01T07:11:38.839Z"
   },
   {
    "duration": 17,
    "start_time": "2023-07-01T07:11:39.649Z"
   },
   {
    "duration": 3247,
    "start_time": "2023-07-01T07:11:39.682Z"
   },
   {
    "duration": 199,
    "start_time": "2023-07-01T07:11:42.931Z"
   },
   {
    "duration": 5,
    "start_time": "2023-07-01T07:11:43.132Z"
   },
   {
    "duration": 11,
    "start_time": "2023-07-01T07:11:43.139Z"
   },
   {
    "duration": 38,
    "start_time": "2023-07-01T07:11:43.153Z"
   },
   {
    "duration": 1877,
    "start_time": "2023-07-01T07:11:43.193Z"
   },
   {
    "duration": 10,
    "start_time": "2023-07-01T07:11:45.079Z"
   },
   {
    "duration": 3936,
    "start_time": "2023-07-01T07:11:45.091Z"
   },
   {
    "duration": 6,
    "start_time": "2023-07-01T07:11:49.029Z"
   },
   {
    "duration": 710,
    "start_time": "2023-07-01T07:11:49.037Z"
   },
   {
    "duration": 173,
    "start_time": "2023-07-01T07:11:49.748Z"
   },
   {
    "duration": 9,
    "start_time": "2023-07-01T07:11:49.923Z"
   },
   {
    "duration": 67,
    "start_time": "2023-07-01T07:11:49.933Z"
   },
   {
    "duration": 359,
    "start_time": "2023-07-01T07:11:50.003Z"
   },
   {
    "duration": 381,
    "start_time": "2023-07-01T07:11:50.364Z"
   },
   {
    "duration": 168,
    "start_time": "2023-07-01T07:11:50.747Z"
   },
   {
    "duration": 83,
    "start_time": "2023-07-01T07:11:50.917Z"
   },
   {
    "duration": 12,
    "start_time": "2023-07-01T07:11:51.002Z"
   },
   {
    "duration": 14,
    "start_time": "2023-07-01T07:11:51.015Z"
   },
   {
    "duration": 11,
    "start_time": "2023-07-01T07:11:51.030Z"
   },
   {
    "duration": 12,
    "start_time": "2023-07-01T07:11:51.043Z"
   },
   {
    "duration": 10,
    "start_time": "2023-07-01T07:11:51.057Z"
   },
   {
    "duration": 95,
    "start_time": "2023-07-01T07:11:51.076Z"
   },
   {
    "duration": 14,
    "start_time": "2023-07-01T07:11:51.173Z"
   },
   {
    "duration": 14,
    "start_time": "2023-07-01T07:11:51.189Z"
   },
   {
    "duration": 11,
    "start_time": "2023-07-01T07:11:51.205Z"
   },
   {
    "duration": 29,
    "start_time": "2023-07-01T07:11:51.217Z"
   },
   {
    "duration": 5038,
    "start_time": "2023-07-01T07:11:51.248Z"
   },
   {
    "duration": 1364,
    "start_time": "2023-07-01T07:11:56.289Z"
   },
   {
    "duration": 74033,
    "start_time": "2023-07-01T07:11:57.655Z"
   },
   {
    "duration": 10108,
    "start_time": "2023-07-01T07:13:11.690Z"
   },
   {
    "duration": 3791,
    "start_time": "2023-07-01T07:13:21.800Z"
   },
   {
    "duration": 200245,
    "start_time": "2023-07-01T07:13:25.593Z"
   },
   {
    "duration": 49,
    "start_time": "2023-07-01T07:16:45.839Z"
   },
   {
    "duration": 299,
    "start_time": "2023-07-01T07:16:45.890Z"
   },
   {
    "duration": 106,
    "start_time": "2023-07-01T07:16:46.194Z"
   },
   {
    "duration": 14,
    "start_time": "2023-07-01T07:16:46.303Z"
   },
   {
    "duration": 9,
    "start_time": "2023-07-01T07:16:46.319Z"
   },
   {
    "duration": 52,
    "start_time": "2023-07-01T07:16:46.331Z"
   },
   {
    "duration": 213,
    "start_time": "2023-07-01T07:16:46.386Z"
   },
   {
    "duration": 58,
    "start_time": "2023-07-01T07:25:24.379Z"
   }
  ],
  "kernelspec": {
   "display_name": "Python 3 (ipykernel)",
   "language": "python",
   "name": "python3"
  },
  "language_info": {
   "codemirror_mode": {
    "name": "ipython",
    "version": 3
   },
   "file_extension": ".py",
   "mimetype": "text/x-python",
   "name": "python",
   "nbconvert_exporter": "python",
   "pygments_lexer": "ipython3",
   "version": "3.9.5"
  },
  "toc": {
   "base_numbering": 1,
   "nav_menu": {},
   "number_sections": true,
   "sideBar": true,
   "skip_h1_title": true,
   "title_cell": "Содержание",
   "title_sidebar": "Contents",
   "toc_cell": true,
   "toc_position": {
    "height": "calc(100% - 180px)",
    "left": "10px",
    "top": "150px",
    "width": "165px"
   },
   "toc_section_display": true,
   "toc_window_display": true
  }
 },
 "nbformat": 4,
 "nbformat_minor": 2
}
