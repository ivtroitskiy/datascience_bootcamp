{
 "cells": [
  {
   "cell_type": "markdown",
   "metadata": {},
   "source": [
    "# Проект Защита персональных данных клиентов\n",
    "Исполнитель: Троицкий Илья  \n",
    "Дата: 13 июля 2023  \n",
    "Проект выполняется в рамках курса Data Science bootcamp, Молуль 3, проект 1"
   ]
  },
  {
   "cell_type": "markdown",
   "metadata": {},
   "source": [
    "<h1>Содержание<span class=\"tocSkip\"></span></h1>\n",
    "<div class=\"toc\"><ul class=\"toc-item\"><li><span><a href=\"#Загрузка-данных\" data-toc-modified-id=\"Загрузка-данных-1\"><span class=\"toc-item-num\">1&nbsp;&nbsp;</span>Загрузка данных</a></span></li><li><span><a href=\"#Умножение-матриц\" data-toc-modified-id=\"Умножение-матриц-2\"><span class=\"toc-item-num\">2&nbsp;&nbsp;</span>Умножение матриц</a></span></li><li><span><a href=\"#Алгоритм-преобразования\" data-toc-modified-id=\"Алгоритм-преобразования-3\"><span class=\"toc-item-num\">3&nbsp;&nbsp;</span>Алгоритм преобразования</a></span></li><li><span><a href=\"#Проверка-алгоритма\" data-toc-modified-id=\"Проверка-алгоритма-4\"><span class=\"toc-item-num\">4&nbsp;&nbsp;</span>Проверка алгоритма</a></span></li><li><span><a href=\"#Чек-лист-проверки\" data-toc-modified-id=\"Чек-лист-проверки-5\"><span class=\"toc-item-num\">5&nbsp;&nbsp;</span>Чек-лист проверки</a></span></li></ul></div>"
   ]
  },
  {
   "cell_type": "markdown",
   "metadata": {},
   "source": [
    "# Защита персональных данных клиентов"
   ]
  },
  {
   "cell_type": "markdown",
   "metadata": {},
   "source": [
    "Вам нужно защитить данные клиентов страховой компании «Хоть потоп». Разработайте такой метод преобразования данных, чтобы по ним было сложно восстановить персональную информацию. Обоснуйте корректность его работы.\n",
    "\n",
    "Нужно защитить данные, чтобы при преобразовании качество моделей машинного обучения не ухудшилось. Подбирать наилучшую модель не требуется."
   ]
  },
  {
   "cell_type": "code",
   "execution_count": 1,
   "metadata": {},
   "outputs": [],
   "source": [
    "import pandas as pd\n",
    "import numpy as np\n",
    "import matplotlib.pyplot as plt\n",
    "\n",
    "from sklearn.linear_model import LinearRegression\n",
    "\n",
    "from sklearn.metrics import r2_score\n",
    "from sklearn.metrics import mean_squared_error\n",
    "from sklearn.model_selection import train_test_split"
   ]
  },
  {
   "cell_type": "code",
   "execution_count": 2,
   "metadata": {},
   "outputs": [],
   "source": [
    "def dataframe_info(df):\n",
    "    display(df.head())\n",
    "    print('SHAPE:', df.shape)\n",
    "    df.info()\n",
    "    print('DUPLICATES:', df.duplicated().sum())\n",
    "    df.boxplot()\n",
    "    plt.show()"
   ]
  },
  {
   "cell_type": "code",
   "execution_count": 3,
   "metadata": {},
   "outputs": [],
   "source": [
    "try:\n",
    "    data = pd.read_csv('/datasets/insurance.csv')\n",
    "except:\n",
    "    data = pd.read_csv('datasets/insurance.csv')    "
   ]
  },
  {
   "cell_type": "code",
   "execution_count": 4,
   "metadata": {
    "scrolled": false
   },
   "outputs": [
    {
     "data": {
      "text/html": [
       "<div>\n",
       "<style scoped>\n",
       "    .dataframe tbody tr th:only-of-type {\n",
       "        vertical-align: middle;\n",
       "    }\n",
       "\n",
       "    .dataframe tbody tr th {\n",
       "        vertical-align: top;\n",
       "    }\n",
       "\n",
       "    .dataframe thead th {\n",
       "        text-align: right;\n",
       "    }\n",
       "</style>\n",
       "<table border=\"1\" class=\"dataframe\">\n",
       "  <thead>\n",
       "    <tr style=\"text-align: right;\">\n",
       "      <th></th>\n",
       "      <th>Пол</th>\n",
       "      <th>Возраст</th>\n",
       "      <th>Зарплата</th>\n",
       "      <th>Члены семьи</th>\n",
       "      <th>Страховые выплаты</th>\n",
       "    </tr>\n",
       "  </thead>\n",
       "  <tbody>\n",
       "    <tr>\n",
       "      <th>0</th>\n",
       "      <td>1</td>\n",
       "      <td>41.0</td>\n",
       "      <td>49600.0</td>\n",
       "      <td>1</td>\n",
       "      <td>0</td>\n",
       "    </tr>\n",
       "    <tr>\n",
       "      <th>1</th>\n",
       "      <td>0</td>\n",
       "      <td>46.0</td>\n",
       "      <td>38000.0</td>\n",
       "      <td>1</td>\n",
       "      <td>1</td>\n",
       "    </tr>\n",
       "    <tr>\n",
       "      <th>2</th>\n",
       "      <td>0</td>\n",
       "      <td>29.0</td>\n",
       "      <td>21000.0</td>\n",
       "      <td>0</td>\n",
       "      <td>0</td>\n",
       "    </tr>\n",
       "    <tr>\n",
       "      <th>3</th>\n",
       "      <td>0</td>\n",
       "      <td>21.0</td>\n",
       "      <td>41700.0</td>\n",
       "      <td>2</td>\n",
       "      <td>0</td>\n",
       "    </tr>\n",
       "    <tr>\n",
       "      <th>4</th>\n",
       "      <td>1</td>\n",
       "      <td>28.0</td>\n",
       "      <td>26100.0</td>\n",
       "      <td>0</td>\n",
       "      <td>0</td>\n",
       "    </tr>\n",
       "  </tbody>\n",
       "</table>\n",
       "</div>"
      ],
      "text/plain": [
       "   Пол  Возраст  Зарплата  Члены семьи  Страховые выплаты\n",
       "0    1     41.0   49600.0            1                  0\n",
       "1    0     46.0   38000.0            1                  1\n",
       "2    0     29.0   21000.0            0                  0\n",
       "3    0     21.0   41700.0            2                  0\n",
       "4    1     28.0   26100.0            0                  0"
      ]
     },
     "metadata": {},
     "output_type": "display_data"
    },
    {
     "name": "stdout",
     "output_type": "stream",
     "text": [
      "SHAPE: (5000, 5)\n",
      "<class 'pandas.core.frame.DataFrame'>\n",
      "RangeIndex: 5000 entries, 0 to 4999\n",
      "Data columns (total 5 columns):\n",
      " #   Column             Non-Null Count  Dtype  \n",
      "---  ------             --------------  -----  \n",
      " 0   Пол                5000 non-null   int64  \n",
      " 1   Возраст            5000 non-null   float64\n",
      " 2   Зарплата           5000 non-null   float64\n",
      " 3   Члены семьи        5000 non-null   int64  \n",
      " 4   Страховые выплаты  5000 non-null   int64  \n",
      "dtypes: float64(2), int64(3)\n",
      "memory usage: 195.4 KB\n",
      "DUPLICATES: 153\n"
     ]
    },
    {
     "data": {
      "image/png": "[encoded data removed]",
      "text/plain": [
       "<Figure size 432x288 with 1 Axes>"
      ]
     },
     "metadata": {
      "needs_background": "light"
     },
     "output_type": "display_data"
    }
   ],
   "source": [
    "dataframe_info(data)"
   ]
  },
  {
   "cell_type": "markdown",
   "metadata": {},
   "source": [
    "Вывод:\n",
    "Данные содержат информацию о страхователях и страховы выплатах, пропусков нет, но есть 153 дублирующих строки. Так как признаков мало и уникальный индетификатор человека отсутствует, то наличей дублей вполне объясняется сущестованием людьей с одинаковыми полом, возврастом, доходом и членами семьи."
   ]
  },
  {
   "cell_type": "markdown",
   "metadata": {},
   "source": [
    "## Умножение матриц"
   ]
  },
  {
   "cell_type": "markdown",
   "metadata": {},
   "source": [
    "В этом задании вы можете записывать формулы в *Jupyter Notebook.*\n",
    "\n",
    "Чтобы записать формулу внутри текста, окружите её символами доллара \\\\$; если снаружи —  двойными символами \\\\$\\\\$. Эти формулы записываются на языке вёрстки *LaTeX.* \n",
    "\n",
    "Для примера мы записали формулы линейной регрессии. Можете их скопировать и отредактировать, чтобы решить задачу.\n",
    "\n",
    "Работать в *LaTeX* необязательно."
   ]
  },
  {
   "cell_type": "markdown",
   "metadata": {},
   "source": [
    "Обозначения:\n",
    "\n",
    "- $X$ — матрица признаков (нулевой столбец состоит из единиц)\n",
    "\n",
    "- $y$ — вектор целевого признака\n",
    "\n",
    "- $P$ — матрица, на которую умножаются признаки\n",
    "\n",
    "- $w$ — вектор весов линейной регрессии (нулевой элемент равен сдвигу)"
   ]
  },
  {
   "cell_type": "markdown",
   "metadata": {},
   "source": [
    "Предсказания:\n",
    "\n",
    "$$\n",
    "a = Xw\n",
    "$$\n",
    "\n",
    "Задача обучения:\n",
    "\n",
    "$$\n",
    "w = \\arg\\min_w MSE(Xw, y)\n",
    "$$\n",
    "\n",
    "Формула обучения:\n",
    "\n",
    "$$\n",
    "w = (X^T X)^{-1} X^T y\n",
    "$$"
   ]
  },
  {
   "cell_type": "markdown",
   "metadata": {},
   "source": [
    "**Ответ:** Качество линейной регресси не измениться\n",
    "**Обоснование:** Пусть P - обратимая матрица, на которую умножаем признаки, тогда параметры модели будут вычислятся по формуле\n",
    "$$\n",
    "w1 = ((XP)^T (XP))^{-1} (XP)^T y\n",
    "$$"
   ]
  },
  {
   "cell_type": "markdown",
   "metadata": {},
   "source": [
    "Нужно доказать что предсказания после умноженения на обратимую матрицу не изменятся, запишем это условие в виде равенства"
   ]
  },
  {
   "cell_type": "markdown",
   "metadata": {},
   "source": [
    "$$\n",
    "X(X^T X)^{-1} X^Ty = XP ((XP)^T (XP))^{-1} (XP)^Ty\n",
    "$$"
   ]
  },
  {
   "cell_type": "markdown",
   "metadata": {},
   "source": [
    "$$\n",
    "X(X^T X)^{-1} X^Ty = XP (XP)^{-1} ((XP)^T)^{-1} P^T X^Ty\n",
    "$$"
   ]
  },
  {
   "cell_type": "markdown",
   "metadata": {},
   "source": [
    "$$\n",
    "X (X^T X)^{-1} X^Ty = X P P^{-1} X^{-1} (P^T X^T)^{-1} P^T X^Ty\n",
    "$$"
   ]
  },
  {
   "cell_type": "markdown",
   "metadata": {},
   "source": [
    "$$\n",
    "X (X^T X)^{-1} X^Ty = X P P^{-1} X^{-1} (X^T)^{-1} (P^T)^{-1} P^T X^Ty\n",
    "$$"
   ]
  },
  {
   "cell_type": "markdown",
   "metadata": {},
   "source": [
    "любая матрица умноженная на единичиную равна сама себе, поэтому "
   ]
  },
  {
   "cell_type": "markdown",
   "metadata": {},
   "source": [
    "$$\n",
    "X (X^T X)^{-1} X^Ty = X X^{-1} (X^T)^{-1} X^Ty\n",
    "$$"
   ]
  },
  {
   "cell_type": "markdown",
   "metadata": {},
   "source": [
    "$$\n",
    "X (X^T X)^{-1} X^Ty = X (X^T X)^{-1} X^Ty\n",
    "$$"
   ]
  },
  {
   "cell_type": "markdown",
   "metadata": {},
   "source": [
    "ВЫВОД: Мы получили тождественное равенство, а значит и наше первоначальное равенство истинно, т.е. умножение признаков на обратимую матрицу не влияет на качество предсказания. "
   ]
  },
  {
   "cell_type": "markdown",
   "metadata": {},
   "source": [
    "$$\n",
    "X(X^T X)^{-1} X^Ty = XP ((XP)^T (XP))^{-1} (XP)^Ty\n",
    "$$"
   ]
  },
  {
   "cell_type": "markdown",
   "metadata": {},
   "source": [
    "$$\n",
    "X(X^T X)^{-1} X^Ty = XP (P^T X^T X P)^{-1} (XP)^Ty\n",
    "$$"
   ]
  },
  {
   "cell_type": "markdown",
   "metadata": {},
   "source": [
    "$$\n",
    "X(X^T X)^{-1} X^Ty = X P P^{-1} (X^T X)^{-1} (P^T)^{-1} (XP)^Ty\n",
    "$$"
   ]
  },
  {
   "cell_type": "markdown",
   "metadata": {},
   "source": [
    "$$\n",
    "X(X^T X)^{-1} X^Ty = X P P^{-1} (X^T X)^{-1} (P^T)^{-1} P^T X^T y\n",
    "$$"
   ]
  },
  {
   "cell_type": "markdown",
   "metadata": {},
   "source": [
    "$$\n",
    "X(X^T X)^{-1} X^Ty = X E (X^T X)^{-1} E X^T y\n",
    "$$"
   ]
  },
  {
   "cell_type": "markdown",
   "metadata": {},
   "source": [
    "$$\n",
    "X(X^T X)^{-1} X^Ty = X (X^T X)^{-1} X^T y\n",
    "$$"
   ]
  },
  {
   "cell_type": "markdown",
   "metadata": {},
   "source": [
    "$$\n",
    "𝑤1 = ((XP)^𝑇 XP)^{−1} (XP)^T𝑦\n",
    "$$\n",
    "$$\n",
    "w1 = (P^T X^TX P)^{-1} P^T X^T y\n",
    "$$\n",
    "$$\n",
    "w1 = P^{-1} (X^TX)^{-1} (P^T)^{-1} P^T X^T y\n",
    "$$\n",
    "$$\n",
    "w1 = P^{-1} (X^TX)^{-1} X^T y\n",
    "$$\n",
    "$$\n",
    "w1 = P^{-1} w             \n",
    "$$"
   ]
  },
  {
   "cell_type": "markdown",
   "metadata": {},
   "source": [
    "## Алгоритм преобразования"
   ]
  },
  {
   "cell_type": "markdown",
   "metadata": {},
   "source": [
    "**Алгоритм**\n",
    "\n",
    "Для преобразования признаков будем умножать их на случайную обратимую матрицу размерности n, где n - количество признаков."
   ]
  },
  {
   "cell_type": "markdown",
   "metadata": {},
   "source": [
    "**Обоснование**\n",
    "\n",
    "По доказанному в п.2 утверждению, умножение признаков на обратимую матрицу не влияет на качество предсказания!"
   ]
  },
  {
   "cell_type": "markdown",
   "metadata": {},
   "source": [
    "Напишем функцию для преобразвования празнаков"
   ]
  },
  {
   "cell_type": "code",
   "execution_count": 5,
   "metadata": {},
   "outputs": [],
   "source": [
    "def hide_data(train, test):\n",
    "    n = train.shape[1]\n",
    "    deadcount = 0\n",
    "    p = np.array([])\n",
    "    \n",
    "    while (p.size == 0) & (deadcount < 100):\n",
    "        deadcount += 1\n",
    "        p = np.random.normal(0,100,(n,n))\n",
    "        try:\n",
    "            p1 = np.linalg.inv(p)\n",
    "        except:\n",
    "            p = np.array([])\n",
    "    \n",
    "    if p.size == 0:\n",
    "        raise Exception(\"Не удалось найти обратимую матрицу за 100 попыток, попробуйте завтра\")    \n",
    "    \n",
    "    return train @ p, test @ p"
   ]
  },
  {
   "cell_type": "markdown",
   "metadata": {},
   "source": [
    "## Проверка алгоритма"
   ]
  },
  {
   "cell_type": "markdown",
   "metadata": {},
   "source": [
    "Разделим выборку на обучающие и тестовые данные"
   ]
  },
  {
   "cell_type": "code",
   "execution_count": 6,
   "metadata": {},
   "outputs": [],
   "source": [
    "features = data.drop(columns='Страховые выплаты', axis=1)\n",
    "target = data['Страховые выплаты']\n",
    "features_train, features_test, target_train, target_test = train_test_split(\n",
    "    features,    target,     random_state=12345,shuffle=True,   test_size=0.25)"
   ]
  },
  {
   "cell_type": "markdown",
   "metadata": {},
   "source": [
    "Обучим модель на тестовый данных и посчитаем оценку R2 "
   ]
  },
  {
   "cell_type": "code",
   "execution_count": 7,
   "metadata": {},
   "outputs": [
    {
     "name": "stdout",
     "output_type": "stream",
     "text": [
      "Значение метрики R2 для линейной регрессии 0.43522757127026546\n"
     ]
    }
   ],
   "source": [
    "model = LinearRegression()\n",
    "model.fit(features_train, target_train)\n",
    "predictions = model.predict(features_test)\n",
    "print('Значение метрики R2 для линейной регрессии',r2_score(target_test, predictions))"
   ]
  },
  {
   "cell_type": "markdown",
   "metadata": {},
   "source": [
    "Теперь преобразуем признаки, и снова обучим модель и посчитаем оценку"
   ]
  },
  {
   "cell_type": "code",
   "execution_count": 8,
   "metadata": {},
   "outputs": [
    {
     "name": "stdout",
     "output_type": "stream",
     "text": [
      "Значение метрики R2 для линейной регрессии со скрытыми признаками 0.43522757127033895\n"
     ]
    }
   ],
   "source": [
    "features_train_secured, features_test_secured= hide_data(features_train, features_test)\n",
    "\n",
    "model = LinearRegression()\n",
    "model.fit(features_train_secured, target_train)\n",
    "predictions = model.predict(features_test_secured)\n",
    "print('Значение метрики R2 для линейной регрессии со скрытыми признаками',r2_score(target_test, predictions))"
   ]
  },
  {
   "cell_type": "markdown",
   "metadata": {},
   "source": [
    "## Вывод\n",
    "В ходе проекта мы доказали утверждение, что преобразование признаков путем умножения на обратимую матрицу не влияет на качество предсказания. После этого придумали алгоритм преобразования признаков, чтобы скрыть настоящие значения. Проверив две модели, обученные на изначальных признаках и на зашифрованным, мы увидели что оценка R2 этих моделей идентична. Следовательно, **для скрытия данных в будущих проектах, можно применять умножение признаков на обратимую матрицу и это не приведет к потере качества предсказаний.**"
   ]
  }
 ],
 "metadata": {
  "ExecuteTimeLog": [
   {
    "duration": 61,
    "start_time": "2023-07-13T10:42:22.018Z"
   },
   {
    "duration": 383,
    "start_time": "2023-07-13T10:42:44.045Z"
   },
   {
    "duration": 37,
    "start_time": "2023-07-13T10:42:45.909Z"
   },
   {
    "duration": 3,
    "start_time": "2023-07-13T10:42:51.225Z"
   },
   {
    "duration": 126,
    "start_time": "2023-07-13T10:42:53.358Z"
   },
   {
    "duration": 19,
    "start_time": "2023-07-13T10:43:04.111Z"
   },
   {
    "duration": 469,
    "start_time": "2023-07-13T10:52:20.504Z"
   },
   {
    "duration": 5,
    "start_time": "2023-07-13T10:52:29.834Z"
   },
   {
    "duration": 222,
    "start_time": "2023-07-13T10:52:43.236Z"
   },
   {
    "duration": 72,
    "start_time": "2023-07-13T11:10:16.653Z"
   },
   {
    "duration": 81,
    "start_time": "2023-07-13T11:11:49.923Z"
   },
   {
    "duration": 94,
    "start_time": "2023-07-13T11:16:17.360Z"
   },
   {
    "duration": 76,
    "start_time": "2023-07-13T11:24:50.128Z"
   },
   {
    "duration": 75,
    "start_time": "2023-07-13T11:45:55.311Z"
   },
   {
    "duration": 5,
    "start_time": "2023-07-13T12:12:21.936Z"
   },
   {
    "duration": 27,
    "start_time": "2023-07-13T12:13:41.899Z"
   },
   {
    "duration": 803,
    "start_time": "2023-07-13T12:14:03.103Z"
   },
   {
    "duration": 8,
    "start_time": "2023-07-13T12:14:09.215Z"
   },
   {
    "duration": 72,
    "start_time": "2023-07-13T12:14:43.743Z"
   },
   {
    "duration": 44,
    "start_time": "2023-07-13T12:15:21.335Z"
   },
   {
    "duration": 22,
    "start_time": "2023-07-13T12:16:07.835Z"
   },
   {
    "duration": 13,
    "start_time": "2023-07-13T12:16:13.652Z"
   },
   {
    "duration": 4,
    "start_time": "2023-07-13T12:20:23.711Z"
   },
   {
    "duration": 18,
    "start_time": "2023-07-13T12:21:07.167Z"
   },
   {
    "duration": 5,
    "start_time": "2023-07-13T12:21:21.939Z"
   },
   {
    "duration": 96,
    "start_time": "2023-07-13T12:21:25.519Z"
   },
   {
    "duration": 4,
    "start_time": "2023-07-13T12:21:49.099Z"
   },
   {
    "duration": 14,
    "start_time": "2023-07-13T12:21:51.607Z"
   },
   {
    "duration": 5,
    "start_time": "2023-07-13T12:22:29.627Z"
   },
   {
    "duration": 22,
    "start_time": "2023-07-13T12:22:32.535Z"
   },
   {
    "duration": 5,
    "start_time": "2023-07-13T12:23:08.536Z"
   },
   {
    "duration": 18,
    "start_time": "2023-07-13T12:23:13.499Z"
   },
   {
    "duration": 5,
    "start_time": "2023-07-13T12:23:30.318Z"
   },
   {
    "duration": 19,
    "start_time": "2023-07-13T12:23:33.502Z"
   },
   {
    "duration": 6,
    "start_time": "2023-07-13T12:24:39.660Z"
   },
   {
    "duration": 15,
    "start_time": "2023-07-13T12:24:46.543Z"
   },
   {
    "duration": 4,
    "start_time": "2023-07-13T12:25:02.843Z"
   },
   {
    "duration": 15,
    "start_time": "2023-07-13T12:25:05.299Z"
   },
   {
    "duration": 4,
    "start_time": "2023-07-13T12:25:16.695Z"
   },
   {
    "duration": 15,
    "start_time": "2023-07-13T12:25:19.043Z"
   },
   {
    "duration": 4,
    "start_time": "2023-07-13T12:25:30.422Z"
   },
   {
    "duration": 14,
    "start_time": "2023-07-13T12:25:33.331Z"
   },
   {
    "duration": 64,
    "start_time": "2023-07-13T12:26:02.127Z"
   },
   {
    "duration": 4,
    "start_time": "2023-07-13T12:26:05.235Z"
   },
   {
    "duration": 4,
    "start_time": "2023-07-13T12:26:13.807Z"
   },
   {
    "duration": 17,
    "start_time": "2023-07-13T12:26:16.711Z"
   },
   {
    "duration": 20,
    "start_time": "2023-07-13T12:26:50.647Z"
   },
   {
    "duration": 18,
    "start_time": "2023-07-13T12:26:56.315Z"
   },
   {
    "duration": 1392,
    "start_time": "2023-07-13T12:28:08.156Z"
   },
   {
    "duration": 3,
    "start_time": "2023-07-13T12:28:09.550Z"
   },
   {
    "duration": 47,
    "start_time": "2023-07-13T12:28:09.555Z"
   },
   {
    "duration": 270,
    "start_time": "2023-07-13T12:28:09.604Z"
   },
   {
    "duration": 5,
    "start_time": "2023-07-13T12:28:09.877Z"
   },
   {
    "duration": 12,
    "start_time": "2023-07-13T12:28:09.884Z"
   },
   {
    "duration": 12,
    "start_time": "2023-07-13T12:28:09.912Z"
   },
   {
    "duration": 258,
    "start_time": "2023-07-13T12:28:09.925Z"
   },
   {
    "duration": 4,
    "start_time": "2023-07-13T12:28:39.427Z"
   },
   {
    "duration": 4,
    "start_time": "2023-07-13T12:28:42.851Z"
   },
   {
    "duration": 14,
    "start_time": "2023-07-13T12:28:45.745Z"
   },
   {
    "duration": 4,
    "start_time": "2023-07-13T12:28:58.707Z"
   },
   {
    "duration": 22,
    "start_time": "2023-07-13T12:29:01.207Z"
   },
   {
    "duration": 4,
    "start_time": "2023-07-13T12:29:08.011Z"
   },
   {
    "duration": 18,
    "start_time": "2023-07-13T12:29:10.819Z"
   },
   {
    "duration": 4,
    "start_time": "2023-07-13T12:30:11.107Z"
   },
   {
    "duration": 5,
    "start_time": "2023-07-13T12:30:16.446Z"
   },
   {
    "duration": 13,
    "start_time": "2023-07-13T12:30:18.850Z"
   },
   {
    "duration": 4,
    "start_time": "2023-07-13T12:31:13.707Z"
   },
   {
    "duration": 12,
    "start_time": "2023-07-13T12:31:16.412Z"
   },
   {
    "duration": 1344,
    "start_time": "2023-07-13T12:32:26.607Z"
   },
   {
    "duration": 3,
    "start_time": "2023-07-13T12:32:27.954Z"
   },
   {
    "duration": 72,
    "start_time": "2023-07-13T12:32:27.958Z"
   },
   {
    "duration": 394,
    "start_time": "2023-07-13T12:32:28.032Z"
   },
   {
    "duration": 4,
    "start_time": "2023-07-13T12:32:28.428Z"
   },
   {
    "duration": 30,
    "start_time": "2023-07-13T12:32:28.433Z"
   },
   {
    "duration": 37,
    "start_time": "2023-07-13T12:32:28.464Z"
   },
   {
    "duration": 27,
    "start_time": "2023-07-13T12:32:28.503Z"
   },
   {
    "duration": 2096,
    "start_time": "2023-07-13T17:57:54.722Z"
   },
   {
    "duration": 4,
    "start_time": "2023-07-13T17:57:56.820Z"
   },
   {
    "duration": 151,
    "start_time": "2023-07-13T17:57:56.825Z"
   },
   {
    "duration": 210,
    "start_time": "2023-07-13T17:57:56.978Z"
   },
   {
    "duration": 4,
    "start_time": "2023-07-13T17:57:57.190Z"
   },
   {
    "duration": 19,
    "start_time": "2023-07-13T17:57:57.196Z"
   },
   {
    "duration": 22,
    "start_time": "2023-07-13T17:57:57.217Z"
   },
   {
    "duration": 73,
    "start_time": "2023-07-13T17:57:57.241Z"
   },
   {
    "duration": 4,
    "start_time": "2023-07-13T18:01:04.355Z"
   },
   {
    "duration": 177,
    "start_time": "2023-07-13T18:01:06.770Z"
   },
   {
    "duration": 3,
    "start_time": "2023-07-13T18:01:16.406Z"
   },
   {
    "duration": 178,
    "start_time": "2023-07-13T18:01:19.245Z"
   },
   {
    "duration": 13,
    "start_time": "2023-07-13T18:38:38.665Z"
   },
   {
    "duration": 8,
    "start_time": "2023-07-13T18:38:42.077Z"
   },
   {
    "duration": 15,
    "start_time": "2023-07-13T18:38:44.468Z"
   },
   {
    "duration": 1943,
    "start_time": "2023-07-13T18:41:16.043Z"
   },
   {
    "duration": 3,
    "start_time": "2023-07-13T18:41:17.988Z"
   },
   {
    "duration": 45,
    "start_time": "2023-07-13T18:41:17.994Z"
   },
   {
    "duration": 246,
    "start_time": "2023-07-13T18:41:18.041Z"
   },
   {
    "duration": 5,
    "start_time": "2023-07-13T18:41:18.289Z"
   },
   {
    "duration": 20,
    "start_time": "2023-07-13T18:41:18.295Z"
   },
   {
    "duration": 22,
    "start_time": "2023-07-13T18:41:18.316Z"
   },
   {
    "duration": 10,
    "start_time": "2023-07-13T18:41:18.340Z"
   },
   {
    "duration": 47,
    "start_time": "2023-07-14T10:22:51.785Z"
   },
   {
    "duration": 1776,
    "start_time": "2023-07-14T10:23:01.708Z"
   },
   {
    "duration": 4,
    "start_time": "2023-07-14T10:23:03.487Z"
   },
   {
    "duration": 161,
    "start_time": "2023-07-14T10:23:03.494Z"
   },
   {
    "duration": 257,
    "start_time": "2023-07-14T10:23:03.659Z"
   },
   {
    "duration": 19,
    "start_time": "2023-07-14T10:23:03.917Z"
   },
   {
    "duration": 60,
    "start_time": "2023-07-14T10:23:03.938Z"
   },
   {
    "duration": 29,
    "start_time": "2023-07-14T10:23:04.000Z"
   },
   {
    "duration": 53,
    "start_time": "2023-07-14T10:23:04.031Z"
   },
   {
    "duration": 212,
    "start_time": "2023-07-14T10:23:39.918Z"
   },
   {
    "duration": 482,
    "start_time": "2023-07-14T10:29:41.382Z"
   },
   {
    "duration": 189,
    "start_time": "2023-07-14T10:32:29.707Z"
   },
   {
    "duration": 2486,
    "start_time": "2023-07-14T11:19:29.965Z"
   },
   {
    "duration": 3,
    "start_time": "2023-07-14T11:19:32.454Z"
   },
   {
    "duration": 116,
    "start_time": "2023-07-14T11:19:32.458Z"
   },
   {
    "duration": 218,
    "start_time": "2023-07-14T11:19:32.577Z"
   },
   {
    "duration": 4,
    "start_time": "2023-07-14T11:19:32.797Z"
   },
   {
    "duration": 53,
    "start_time": "2023-07-14T11:19:32.803Z"
   },
   {
    "duration": 25,
    "start_time": "2023-07-14T11:19:32.858Z"
   },
   {
    "duration": 93,
    "start_time": "2023-07-14T11:19:32.884Z"
   },
   {
    "duration": 117,
    "start_time": "2023-07-16T07:58:22.081Z"
   },
   {
    "duration": 83,
    "start_time": "2023-07-16T08:01:06.281Z"
   },
   {
    "duration": 83,
    "start_time": "2023-07-16T08:05:30.747Z"
   },
   {
    "duration": 80,
    "start_time": "2023-07-16T08:06:43.164Z"
   },
   {
    "duration": 2104,
    "start_time": "2023-07-16T08:56:25.901Z"
   },
   {
    "duration": 3,
    "start_time": "2023-07-16T08:56:28.007Z"
   },
   {
    "duration": 130,
    "start_time": "2023-07-16T08:56:28.011Z"
   },
   {
    "duration": 206,
    "start_time": "2023-07-16T08:56:28.144Z"
   },
   {
    "duration": 4,
    "start_time": "2023-07-16T08:56:28.351Z"
   },
   {
    "duration": 13,
    "start_time": "2023-07-16T08:56:28.357Z"
   },
   {
    "duration": 28,
    "start_time": "2023-07-16T08:56:28.371Z"
   },
   {
    "duration": 70,
    "start_time": "2023-07-16T08:56:28.400Z"
   },
   {
    "duration": 2097,
    "start_time": "2023-07-16T11:15:49.932Z"
   },
   {
    "duration": 3,
    "start_time": "2023-07-16T11:15:52.031Z"
   },
   {
    "duration": 99,
    "start_time": "2023-07-16T11:15:52.036Z"
   },
   {
    "duration": 189,
    "start_time": "2023-07-16T11:15:52.136Z"
   },
   {
    "duration": 3,
    "start_time": "2023-07-16T11:15:52.331Z"
   },
   {
    "duration": 26,
    "start_time": "2023-07-16T11:15:52.336Z"
   },
   {
    "duration": 18,
    "start_time": "2023-07-16T11:15:52.363Z"
   },
   {
    "duration": 51,
    "start_time": "2023-07-16T11:15:52.382Z"
   },
   {
    "duration": 576,
    "start_time": "2023-07-16T13:30:10.816Z"
   },
   {
    "duration": 126,
    "start_time": "2023-07-16T13:32:28.050Z"
   }
  ],
  "kernelspec": {
   "display_name": "Python 3 (ipykernel)",
   "language": "python",
   "name": "python3"
  },
  "language_info": {
   "codemirror_mode": {
    "name": "ipython",
    "version": 3
   },
   "file_extension": ".py",
   "mimetype": "text/x-python",
   "name": "python",
   "nbconvert_exporter": "python",
   "pygments_lexer": "ipython3",
   "version": "3.9.5"
  },
  "toc": {
   "base_numbering": 1,
   "nav_menu": {},
   "number_sections": true,
   "sideBar": true,
   "skip_h1_title": true,
   "title_cell": "Содержание",
   "title_sidebar": "Contents",
   "toc_cell": true,
   "toc_position": {},
   "toc_section_display": true,
   "toc_window_display": true
  }
 },
 "nbformat": 4,
 "nbformat_minor": 2
}
