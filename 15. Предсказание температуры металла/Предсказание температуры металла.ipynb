{
 "cells": [
  {
   "cell_type": "markdown",
   "metadata": {},
   "source": [
    "# Проект Предсказание температуры металла\n",
    "\n",
    "Исполнитель: Троицкий Илья  \n",
    "Дата: 1 сентября 2023 г.  "
   ]
  },
  {
   "cell_type": "markdown",
   "metadata": {},
   "source": [
    "### Описание проекта\n",
    "Чтобы оптимизировать производственные расходы, металлургический комбинат ООО «Так закаляем сталь» решил уменьшить потребление электроэнергии на этапе обработки стали. Вам предстоит построить модель, которая предскажет температуру стали."
   ]
  },
  {
   "cell_type": "markdown",
   "metadata": {},
   "source": [
    "### Описание данных\n",
    "Данные состоят из файлов, полученных из разных источников:\n",
    "- `data_arc_new.csv` — данные об электродах;\n",
    "- `data_bulk_new.csv` — данные о подаче сыпучих материалов (объём);\n",
    "- `data_bulk_time_new.csv` — данные о подаче сыпучих материалов (время);\n",
    "- `data_gas_new.csv` — данные о продувке сплава газом;\n",
    "- `data_temp_new.csv` — результаты измерения температуры;\n",
    "- `data_wire_new.csv` — данные о проволочных материалах (объём);\n",
    "- `data_wire_time_new.csv` — данные о проволочных материалах (время).\n",
    "Во всех файлах столбец key содержит номер партии. В файлах может быть несколько строк с одинаковым значением key: они соответствуют разным итерациям обработки."
   ]
  },
  {
   "cell_type": "markdown",
   "metadata": {},
   "source": [
    "### Импорт библиотек и настроек"
   ]
  },
  {
   "cell_type": "code",
   "execution_count": 1,
   "metadata": {},
   "outputs": [],
   "source": [
    "import os\n",
    "import pandas as pd\n",
    "import numpy as np\n",
    "import matplotlib\n",
    "import matplotlib.pyplot as plt\n",
    "import seaborn as sns\n",
    "\n",
    "\n",
    "from sklearn.model_selection import train_test_split, cross_val_score, GridSearchCV\n",
    "from sklearn.pipeline import Pipeline\n",
    "from sklearn.metrics import mean_absolute_error\n",
    "from sklearn.preprocessing import StandardScaler\n",
    "from sklearn.compose import ColumnTransformer\n",
    "\n",
    "from sklearn.linear_model import LinearRegression\n",
    "from sklearn.ensemble import RandomForestRegressor\n",
    "from catboost import CatBoostRegressor, Pool"
   ]
  },
  {
   "cell_type": "code",
   "execution_count": 2,
   "metadata": {},
   "outputs": [],
   "source": [
    "pd.options.mode.chained_assignment = None\n",
    "matplotlib.rc('figure', figsize=(10, 5))\n",
    "sns.set_palette(\"pastel\")"
   ]
  },
  {
   "cell_type": "markdown",
   "metadata": {},
   "source": [
    "### Описание констант и функций"
   ]
  },
  {
   "cell_type": "code",
   "execution_count": 3,
   "metadata": {},
   "outputs": [],
   "source": [
    "EMISSIION_IQR_TRASHOLD = 3\n",
    "RANDOM_STATE = 10923\n",
    "TEST_SIZE = 0.25"
   ]
  },
  {
   "cell_type": "code",
   "execution_count": 4,
   "metadata": {},
   "outputs": [],
   "source": [
    "def dataframe_info(df):\n",
    "    \n",
    "    # Общая информация\n",
    "    display(df.head())\n",
    "    display(df.info())\n",
    "    display(df.describe())\n",
    "    print('DUPLICATES:', df.duplicated().sum())\n",
    "\n",
    "    # Боксплоты числовых колонок\n",
    "    \n",
    "    num_cols = df.select_dtypes(np.number).columns.tolist()\n",
    "    \n",
    "    i = 0\n",
    "    fig = plt.figure(figsize=(10,10))\n",
    "    \n",
    "    for col in num_cols:\n",
    "\n",
    "        fig.add_subplot(4, 4, i+1)\n",
    "        sns.boxplot(data=df[col])\n",
    "        plt.xlabel(col)\n",
    "        plt.tight_layout()\n",
    "        i+=1\n",
    "\n",
    "def delete_emissions(data, col, **kwargs):\n",
    "    q1 = data[col].quantile(0.25)   \n",
    "    q3 = data[col].quantile(0.75)\n",
    "    iqr = q3-q1\n",
    "\n",
    "    if 'iqr_k' in kwargs:\n",
    "        iqr_k = kwarg['iqr_k']\n",
    "    else:\n",
    "        iqr_k = EMISSIION_IQR_TRASHOLD\n",
    "            \n",
    "    if 'min' in kwargs:\n",
    "        min = kwargs['min']\n",
    "    else:\n",
    "        min = q1 - iqr*iqr_k\n",
    "\n",
    "    if 'max' in kwargs:       \n",
    "        max = kwargs['max']\n",
    "    else:\n",
    "        max = q3 + iqr*iqr_k    \n",
    "    \n",
    "    return data[(data[col] >= min) & (data[col] <= max)]      "
   ]
  },
  {
   "cell_type": "markdown",
   "metadata": {},
   "source": [
    "### Загрузка данных"
   ]
  },
  {
   "cell_type": "code",
   "execution_count": 5,
   "metadata": {},
   "outputs": [
    {
     "name": "stdout",
     "output_type": "stream",
     "text": [
      "Данные успешно загружены.\n"
     ]
    }
   ],
   "source": [
    "if (os.path.exists('/datasets')):\n",
    "    path = '/datasets'\n",
    "elif (os.path.exists('datasets')):\n",
    "    path = 'datasets'\n",
    "else:    \n",
    "    raise Exception('Не найден файл с данными.')    \n",
    "\n",
    "data_arc = pd.read_csv(f'{path}/data_arc_new.csv', parse_dates = ['Начало нагрева дугой', 'Конец нагрева дугой'])\n",
    "data_bulk = pd.read_csv(f'{path}/data_bulk_new.csv')\n",
    "data_bulk_time = pd.read_csv(f'{path}/data_bulk_time_new.csv')\n",
    "data_gas= pd.read_csv(f'{path}/data_gas_new.csv')\n",
    "data_temp = pd.read_csv(f'{path}/data_temp_new.csv', parse_dates = ['Время замера'])\n",
    "data_wire = pd.read_csv(f'{path}/data_wire_new.csv')\n",
    "data_wire_time = pd.read_csv(f'{path}/data_wire_time_new.csv')\n",
    "print('Данные успешно загружены.')\n"
   ]
  },
  {
   "cell_type": "markdown",
   "metadata": {},
   "source": [
    "## Анализ данных"
   ]
  },
  {
   "cell_type": "markdown",
   "metadata": {},
   "source": [
    "### Данные об электродах"
   ]
  },
  {
   "cell_type": "code",
   "execution_count": 6,
   "metadata": {},
   "outputs": [
    {
     "data": {
      "text/html": [
       "<div>\n",
       "<style scoped>\n",
       "    .dataframe tbody tr th:only-of-type {\n",
       "        vertical-align: middle;\n",
       "    }\n",
       "\n",
       "    .dataframe tbody tr th {\n",
       "        vertical-align: top;\n",
       "    }\n",
       "\n",
       "    .dataframe thead th {\n",
       "        text-align: right;\n",
       "    }\n",
       "</style>\n",
       "<table border=\"1\" class=\"dataframe\">\n",
       "  <thead>\n",
       "    <tr style=\"text-align: right;\">\n",
       "      <th></th>\n",
       "      <th>key</th>\n",
       "      <th>Начало нагрева дугой</th>\n",
       "      <th>Конец нагрева дугой</th>\n",
       "      <th>Активная мощность</th>\n",
       "      <th>Реактивная мощность</th>\n",
       "    </tr>\n",
       "  </thead>\n",
       "  <tbody>\n",
       "    <tr>\n",
       "      <th>0</th>\n",
       "      <td>1</td>\n",
       "      <td>2019-05-03 11:02:14</td>\n",
       "      <td>2019-05-03 11:06:02</td>\n",
       "      <td>0.305130</td>\n",
       "      <td>0.211253</td>\n",
       "    </tr>\n",
       "    <tr>\n",
       "      <th>1</th>\n",
       "      <td>1</td>\n",
       "      <td>2019-05-03 11:07:28</td>\n",
       "      <td>2019-05-03 11:10:33</td>\n",
       "      <td>0.765658</td>\n",
       "      <td>0.477438</td>\n",
       "    </tr>\n",
       "    <tr>\n",
       "      <th>2</th>\n",
       "      <td>1</td>\n",
       "      <td>2019-05-03 11:11:44</td>\n",
       "      <td>2019-05-03 11:14:36</td>\n",
       "      <td>0.580313</td>\n",
       "      <td>0.430460</td>\n",
       "    </tr>\n",
       "    <tr>\n",
       "      <th>3</th>\n",
       "      <td>1</td>\n",
       "      <td>2019-05-03 11:18:14</td>\n",
       "      <td>2019-05-03 11:24:19</td>\n",
       "      <td>0.518496</td>\n",
       "      <td>0.379979</td>\n",
       "    </tr>\n",
       "    <tr>\n",
       "      <th>4</th>\n",
       "      <td>1</td>\n",
       "      <td>2019-05-03 11:26:09</td>\n",
       "      <td>2019-05-03 11:28:37</td>\n",
       "      <td>0.867133</td>\n",
       "      <td>0.643691</td>\n",
       "    </tr>\n",
       "  </tbody>\n",
       "</table>\n",
       "</div>"
      ],
      "text/plain": [
       "   key Начало нагрева дугой Конец нагрева дугой  Активная мощность  \\\n",
       "0    1  2019-05-03 11:02:14 2019-05-03 11:06:02           0.305130   \n",
       "1    1  2019-05-03 11:07:28 2019-05-03 11:10:33           0.765658   \n",
       "2    1  2019-05-03 11:11:44 2019-05-03 11:14:36           0.580313   \n",
       "3    1  2019-05-03 11:18:14 2019-05-03 11:24:19           0.518496   \n",
       "4    1  2019-05-03 11:26:09 2019-05-03 11:28:37           0.867133   \n",
       "\n",
       "   Реактивная мощность  \n",
       "0             0.211253  \n",
       "1             0.477438  \n",
       "2             0.430460  \n",
       "3             0.379979  \n",
       "4             0.643691  "
      ]
     },
     "metadata": {},
     "output_type": "display_data"
    },
    {
     "name": "stdout",
     "output_type": "stream",
     "text": [
      "<class 'pandas.core.frame.DataFrame'>\n",
      "RangeIndex: 14876 entries, 0 to 14875\n",
      "Data columns (total 5 columns):\n",
      " #   Column                Non-Null Count  Dtype         \n",
      "---  ------                --------------  -----         \n",
      " 0   key                   14876 non-null  int64         \n",
      " 1   Начало нагрева дугой  14876 non-null  datetime64[ns]\n",
      " 2   Конец нагрева дугой   14876 non-null  datetime64[ns]\n",
      " 3   Активная мощность     14876 non-null  float64       \n",
      " 4   Реактивная мощность   14876 non-null  float64       \n",
      "dtypes: datetime64[ns](2), float64(2), int64(1)\n",
      "memory usage: 581.2 KB\n"
     ]
    },
    {
     "data": {
      "text/plain": [
       "None"
      ]
     },
     "metadata": {},
     "output_type": "display_data"
    },
    {
     "data": {
      "text/html": [
       "<div>\n",
       "<style scoped>\n",
       "    .dataframe tbody tr th:only-of-type {\n",
       "        vertical-align: middle;\n",
       "    }\n",
       "\n",
       "    .dataframe tbody tr th {\n",
       "        vertical-align: top;\n",
       "    }\n",
       "\n",
       "    .dataframe thead th {\n",
       "        text-align: right;\n",
       "    }\n",
       "</style>\n",
       "<table border=\"1\" class=\"dataframe\">\n",
       "  <thead>\n",
       "    <tr style=\"text-align: right;\">\n",
       "      <th></th>\n",
       "      <th>key</th>\n",
       "      <th>Активная мощность</th>\n",
       "      <th>Реактивная мощность</th>\n",
       "    </tr>\n",
       "  </thead>\n",
       "  <tbody>\n",
       "    <tr>\n",
       "      <th>count</th>\n",
       "      <td>14876.000000</td>\n",
       "      <td>14876.000000</td>\n",
       "      <td>14876.000000</td>\n",
       "    </tr>\n",
       "    <tr>\n",
       "      <th>mean</th>\n",
       "      <td>1615.220422</td>\n",
       "      <td>0.662752</td>\n",
       "      <td>0.438986</td>\n",
       "    </tr>\n",
       "    <tr>\n",
       "      <th>std</th>\n",
       "      <td>934.571502</td>\n",
       "      <td>0.258885</td>\n",
       "      <td>5.873485</td>\n",
       "    </tr>\n",
       "    <tr>\n",
       "      <th>min</th>\n",
       "      <td>1.000000</td>\n",
       "      <td>0.223120</td>\n",
       "      <td>-715.479924</td>\n",
       "    </tr>\n",
       "    <tr>\n",
       "      <th>25%</th>\n",
       "      <td>806.000000</td>\n",
       "      <td>0.467115</td>\n",
       "      <td>0.337175</td>\n",
       "    </tr>\n",
       "    <tr>\n",
       "      <th>50%</th>\n",
       "      <td>1617.000000</td>\n",
       "      <td>0.599587</td>\n",
       "      <td>0.441639</td>\n",
       "    </tr>\n",
       "    <tr>\n",
       "      <th>75%</th>\n",
       "      <td>2429.000000</td>\n",
       "      <td>0.830070</td>\n",
       "      <td>0.608201</td>\n",
       "    </tr>\n",
       "    <tr>\n",
       "      <th>max</th>\n",
       "      <td>3241.000000</td>\n",
       "      <td>1.463773</td>\n",
       "      <td>1.270284</td>\n",
       "    </tr>\n",
       "  </tbody>\n",
       "</table>\n",
       "</div>"
      ],
      "text/plain": [
       "                key  Активная мощность  Реактивная мощность\n",
       "count  14876.000000       14876.000000         14876.000000\n",
       "mean    1615.220422           0.662752             0.438986\n",
       "std      934.571502           0.258885             5.873485\n",
       "min        1.000000           0.223120          -715.479924\n",
       "25%      806.000000           0.467115             0.337175\n",
       "50%     1617.000000           0.599587             0.441639\n",
       "75%     2429.000000           0.830070             0.608201\n",
       "max     3241.000000           1.463773             1.270284"
      ]
     },
     "metadata": {},
     "output_type": "display_data"
    },
    {
     "name": "stdout",
     "output_type": "stream",
     "text": [
      "DUPLICATES: 0\n"
     ]
    },
    {
     "data": {
      "image/png": "[encoded data removed]",
      "text/plain": [
       "<Figure size 720x720 with 3 Axes>"
      ]
     },
     "metadata": {
      "needs_background": "light"
     },
     "output_type": "display_data"
    }
   ],
   "source": [
    "dataframe_info(data_arc)"
   ]
  },
  {
   "cell_type": "code",
   "execution_count": 7,
   "metadata": {},
   "outputs": [
    {
     "data": {
      "text/plain": [
       "2108    16\n",
       "1689    15\n",
       "1513    15\n",
       "2567    14\n",
       "46      13\n",
       "        ..\n",
       "977      1\n",
       "247      1\n",
       "2582     1\n",
       "248      1\n",
       "530      1\n",
       "Name: key, Length: 3214, dtype: int64"
      ]
     },
     "execution_count": 7,
     "metadata": {},
     "output_type": "execute_result"
    }
   ],
   "source": [
    "data_arc['key'].value_counts()"
   ]
  },
  {
   "cell_type": "code",
   "execution_count": 8,
   "metadata": {},
   "outputs": [
    {
     "data": {
      "text/html": [
       "<div>\n",
       "<style scoped>\n",
       "    .dataframe tbody tr th:only-of-type {\n",
       "        vertical-align: middle;\n",
       "    }\n",
       "\n",
       "    .dataframe tbody tr th {\n",
       "        vertical-align: top;\n",
       "    }\n",
       "\n",
       "    .dataframe thead th {\n",
       "        text-align: right;\n",
       "    }\n",
       "</style>\n",
       "<table border=\"1\" class=\"dataframe\">\n",
       "  <thead>\n",
       "    <tr style=\"text-align: right;\">\n",
       "      <th></th>\n",
       "      <th>key</th>\n",
       "      <th>Начало нагрева дугой</th>\n",
       "      <th>Конец нагрева дугой</th>\n",
       "      <th>Активная мощность</th>\n",
       "      <th>Реактивная мощность</th>\n",
       "    </tr>\n",
       "  </thead>\n",
       "  <tbody>\n",
       "    <tr>\n",
       "      <th>9734</th>\n",
       "      <td>2108</td>\n",
       "      <td>2019-07-27 10:41:13</td>\n",
       "      <td>2019-07-27 10:43:28</td>\n",
       "      <td>0.682359</td>\n",
       "      <td>0.536962</td>\n",
       "    </tr>\n",
       "    <tr>\n",
       "      <th>9735</th>\n",
       "      <td>2108</td>\n",
       "      <td>2019-07-27 11:07:24</td>\n",
       "      <td>2019-07-27 11:08:51</td>\n",
       "      <td>0.786992</td>\n",
       "      <td>0.582873</td>\n",
       "    </tr>\n",
       "    <tr>\n",
       "      <th>9736</th>\n",
       "      <td>2108</td>\n",
       "      <td>2019-07-27 11:13:37</td>\n",
       "      <td>2019-07-27 11:14:32</td>\n",
       "      <td>0.525551</td>\n",
       "      <td>0.329251</td>\n",
       "    </tr>\n",
       "    <tr>\n",
       "      <th>9737</th>\n",
       "      <td>2108</td>\n",
       "      <td>2019-07-27 11:15:45</td>\n",
       "      <td>2019-07-27 11:16:45</td>\n",
       "      <td>1.175194</td>\n",
       "      <td>0.789164</td>\n",
       "    </tr>\n",
       "    <tr>\n",
       "      <th>9738</th>\n",
       "      <td>2108</td>\n",
       "      <td>2019-07-27 11:19:26</td>\n",
       "      <td>2019-07-27 11:21:24</td>\n",
       "      <td>0.671852</td>\n",
       "      <td>0.508570</td>\n",
       "    </tr>\n",
       "    <tr>\n",
       "      <th>9739</th>\n",
       "      <td>2108</td>\n",
       "      <td>2019-07-27 11:23:12</td>\n",
       "      <td>2019-07-27 11:26:07</td>\n",
       "      <td>0.325151</td>\n",
       "      <td>0.217883</td>\n",
       "    </tr>\n",
       "    <tr>\n",
       "      <th>9740</th>\n",
       "      <td>2108</td>\n",
       "      <td>2019-07-27 13:39:32</td>\n",
       "      <td>2019-07-27 13:43:14</td>\n",
       "      <td>0.412624</td>\n",
       "      <td>0.278039</td>\n",
       "    </tr>\n",
       "    <tr>\n",
       "      <th>9741</th>\n",
       "      <td>2108</td>\n",
       "      <td>2019-07-27 13:45:19</td>\n",
       "      <td>2019-07-27 13:48:19</td>\n",
       "      <td>0.798390</td>\n",
       "      <td>0.616971</td>\n",
       "    </tr>\n",
       "    <tr>\n",
       "      <th>9742</th>\n",
       "      <td>2108</td>\n",
       "      <td>2019-07-27 13:49:36</td>\n",
       "      <td>2019-07-27 13:57:40</td>\n",
       "      <td>0.327366</td>\n",
       "      <td>0.239850</td>\n",
       "    </tr>\n",
       "    <tr>\n",
       "      <th>9743</th>\n",
       "      <td>2108</td>\n",
       "      <td>2019-07-27 14:01:23</td>\n",
       "      <td>2019-07-27 14:05:24</td>\n",
       "      <td>1.233412</td>\n",
       "      <td>0.855522</td>\n",
       "    </tr>\n",
       "    <tr>\n",
       "      <th>9744</th>\n",
       "      <td>2108</td>\n",
       "      <td>2019-07-27 15:10:50</td>\n",
       "      <td>2019-07-27 15:14:51</td>\n",
       "      <td>0.331771</td>\n",
       "      <td>0.214661</td>\n",
       "    </tr>\n",
       "    <tr>\n",
       "      <th>9745</th>\n",
       "      <td>2108</td>\n",
       "      <td>2019-07-27 15:17:59</td>\n",
       "      <td>2019-07-27 15:19:24</td>\n",
       "      <td>0.607615</td>\n",
       "      <td>0.510261</td>\n",
       "    </tr>\n",
       "    <tr>\n",
       "      <th>9746</th>\n",
       "      <td>2108</td>\n",
       "      <td>2019-07-27 15:21:49</td>\n",
       "      <td>2019-07-27 15:28:54</td>\n",
       "      <td>0.943825</td>\n",
       "      <td>0.598308</td>\n",
       "    </tr>\n",
       "    <tr>\n",
       "      <th>9747</th>\n",
       "      <td>2108</td>\n",
       "      <td>2019-07-27 15:32:35</td>\n",
       "      <td>2019-07-27 15:33:09</td>\n",
       "      <td>0.681336</td>\n",
       "      <td>0.439228</td>\n",
       "    </tr>\n",
       "    <tr>\n",
       "      <th>9748</th>\n",
       "      <td>2108</td>\n",
       "      <td>2019-07-27 16:22:54</td>\n",
       "      <td>2019-07-27 16:24:30</td>\n",
       "      <td>0.548174</td>\n",
       "      <td>0.360647</td>\n",
       "    </tr>\n",
       "    <tr>\n",
       "      <th>9749</th>\n",
       "      <td>2108</td>\n",
       "      <td>2019-07-27 16:32:17</td>\n",
       "      <td>2019-07-27 16:33:58</td>\n",
       "      <td>0.655192</td>\n",
       "      <td>0.511299</td>\n",
       "    </tr>\n",
       "  </tbody>\n",
       "</table>\n",
       "</div>"
      ],
      "text/plain": [
       "       key Начало нагрева дугой Конец нагрева дугой  Активная мощность  \\\n",
       "9734  2108  2019-07-27 10:41:13 2019-07-27 10:43:28           0.682359   \n",
       "9735  2108  2019-07-27 11:07:24 2019-07-27 11:08:51           0.786992   \n",
       "9736  2108  2019-07-27 11:13:37 2019-07-27 11:14:32           0.525551   \n",
       "9737  2108  2019-07-27 11:15:45 2019-07-27 11:16:45           1.175194   \n",
       "9738  2108  2019-07-27 11:19:26 2019-07-27 11:21:24           0.671852   \n",
       "9739  2108  2019-07-27 11:23:12 2019-07-27 11:26:07           0.325151   \n",
       "9740  2108  2019-07-27 13:39:32 2019-07-27 13:43:14           0.412624   \n",
       "9741  2108  2019-07-27 13:45:19 2019-07-27 13:48:19           0.798390   \n",
       "9742  2108  2019-07-27 13:49:36 2019-07-27 13:57:40           0.327366   \n",
       "9743  2108  2019-07-27 14:01:23 2019-07-27 14:05:24           1.233412   \n",
       "9744  2108  2019-07-27 15:10:50 2019-07-27 15:14:51           0.331771   \n",
       "9745  2108  2019-07-27 15:17:59 2019-07-27 15:19:24           0.607615   \n",
       "9746  2108  2019-07-27 15:21:49 2019-07-27 15:28:54           0.943825   \n",
       "9747  2108  2019-07-27 15:32:35 2019-07-27 15:33:09           0.681336   \n",
       "9748  2108  2019-07-27 16:22:54 2019-07-27 16:24:30           0.548174   \n",
       "9749  2108  2019-07-27 16:32:17 2019-07-27 16:33:58           0.655192   \n",
       "\n",
       "      Реактивная мощность  \n",
       "9734             0.536962  \n",
       "9735             0.582873  \n",
       "9736             0.329251  \n",
       "9737             0.789164  \n",
       "9738             0.508570  \n",
       "9739             0.217883  \n",
       "9740             0.278039  \n",
       "9741             0.616971  \n",
       "9742             0.239850  \n",
       "9743             0.855522  \n",
       "9744             0.214661  \n",
       "9745             0.510261  \n",
       "9746             0.598308  \n",
       "9747             0.439228  \n",
       "9748             0.360647  \n",
       "9749             0.511299  "
      ]
     },
     "execution_count": 8,
     "metadata": {},
     "output_type": "execute_result"
    }
   ],
   "source": [
    "data_arc[data_arc['key'] == 2108].head(16)"
   ]
  },
  {
   "cell_type": "code",
   "execution_count": 9,
   "metadata": {},
   "outputs": [
    {
     "data": {
      "text/plain": [
       "<AxesSubplot:>"
      ]
     },
     "execution_count": 9,
     "metadata": {},
     "output_type": "execute_result"
    },
    {
     "data": {
      "image/png": "[encoded data removed]",
      "text/plain": [
       "<Figure size 720x360 with 1 Axes>"
      ]
     },
     "metadata": {
      "needs_background": "light"
     },
     "output_type": "display_data"
    }
   ],
   "source": [
    "data_arc['Активная мощность'].hist(bins=100)"
   ]
  },
  {
   "cell_type": "code",
   "execution_count": 10,
   "metadata": {},
   "outputs": [
    {
     "data": {
      "text/html": [
       "<div>\n",
       "<style scoped>\n",
       "    .dataframe tbody tr th:only-of-type {\n",
       "        vertical-align: middle;\n",
       "    }\n",
       "\n",
       "    .dataframe tbody tr th {\n",
       "        vertical-align: top;\n",
       "    }\n",
       "\n",
       "    .dataframe thead th {\n",
       "        text-align: right;\n",
       "    }\n",
       "</style>\n",
       "<table border=\"1\" class=\"dataframe\">\n",
       "  <thead>\n",
       "    <tr style=\"text-align: right;\">\n",
       "      <th></th>\n",
       "      <th>key</th>\n",
       "      <th>Начало нагрева дугой</th>\n",
       "      <th>Конец нагрева дугой</th>\n",
       "      <th>Активная мощность</th>\n",
       "      <th>Реактивная мощность</th>\n",
       "    </tr>\n",
       "  </thead>\n",
       "  <tbody>\n",
       "    <tr>\n",
       "      <th>9780</th>\n",
       "      <td>2116</td>\n",
       "      <td>2019-07-28 02:22:08</td>\n",
       "      <td>2019-07-28 02:23:57</td>\n",
       "      <td>0.705344</td>\n",
       "      <td>-715.479924</td>\n",
       "    </tr>\n",
       "  </tbody>\n",
       "</table>\n",
       "</div>"
      ],
      "text/plain": [
       "       key Начало нагрева дугой Конец нагрева дугой  Активная мощность  \\\n",
       "9780  2116  2019-07-28 02:22:08 2019-07-28 02:23:57           0.705344   \n",
       "\n",
       "      Реактивная мощность  \n",
       "9780          -715.479924  "
      ]
     },
     "execution_count": 10,
     "metadata": {},
     "output_type": "execute_result"
    }
   ],
   "source": [
    "data_arc[data_arc['Реактивная мощность'] < 0].head()"
   ]
  },
  {
   "cell_type": "code",
   "execution_count": 11,
   "metadata": {},
   "outputs": [
    {
     "data": {
      "text/plain": [
       "<AxesSubplot:>"
      ]
     },
     "execution_count": 11,
     "metadata": {},
     "output_type": "execute_result"
    },
    {
     "data": {
      "image/png": "[encoded data removed]",
      "text/plain": [
       "<Figure size 720x360 with 1 Axes>"
      ]
     },
     "metadata": {
      "needs_background": "light"
     },
     "output_type": "display_data"
    }
   ],
   "source": [
    "sns.boxplot(data=data_arc[data_arc['Реактивная мощность'] > 0]['Реактивная мощность'])"
   ]
  },
  {
   "cell_type": "code",
   "execution_count": 12,
   "metadata": {},
   "outputs": [
    {
     "data": {
      "text/plain": [
       "<AxesSubplot:>"
      ]
     },
     "execution_count": 12,
     "metadata": {},
     "output_type": "execute_result"
    },
    {
     "data": {
      "image/png": "[encoded data removed]",
      "text/plain": [
       "<Figure size 720x360 with 1 Axes>"
      ]
     },
     "metadata": {
      "needs_background": "light"
     },
     "output_type": "display_data"
    }
   ],
   "source": [
    "data_arc[data_arc['Реактивная мощность'] > 0]['Реактивная мощность'].hist(bins=100)"
   ]
  },
  {
   "cell_type": "markdown",
   "metadata": {},
   "source": [
    "#### Вывод\n",
    "В выборке данные по 3241 партии. По одной партии может бытьт несколько записей, в зависимости от продолжительности операции.  Самая длительная операция длилась почти 6 часов и имеет 16 записей. Показатель `Активная мощность` находится в пределах от 0 до 1,5 с пиков в отрезке 0.4-0.6. В показателе `Реактивная мощность` имеется выброс со значением -715.479924, что скорей всего является ошибкой датчика. Исключая эту строку, остальные значения лежат в диапазоне 0 - 1.3 с пиков в отрезке 0.3-0.4.\n",
    "\n",
    "Вопросы:\n",
    "1. Нормальна ли операция в 6 часов над одной партией?\n",
    "2. Что такое Активная и Реактивная мощность? \n",
    "3. В чем измеряется мощность?\n",
    "4. Верно ли я понял, что этот показатель показывает с какой мощностью работал электрод в указанный период замера и в будущем, чтобы получить количество затраченной энергии надо будет умножать мощность на время работы.  "
   ]
  },
  {
   "cell_type": "markdown",
   "metadata": {},
   "source": [
    "### Данные о подаче сыпучих материалов"
   ]
  },
  {
   "cell_type": "code",
   "execution_count": 13,
   "metadata": {},
   "outputs": [
    {
     "data": {
      "text/html": [
       "<div>\n",
       "<style scoped>\n",
       "    .dataframe tbody tr th:only-of-type {\n",
       "        vertical-align: middle;\n",
       "    }\n",
       "\n",
       "    .dataframe tbody tr th {\n",
       "        vertical-align: top;\n",
       "    }\n",
       "\n",
       "    .dataframe thead th {\n",
       "        text-align: right;\n",
       "    }\n",
       "</style>\n",
       "<table border=\"1\" class=\"dataframe\">\n",
       "  <thead>\n",
       "    <tr style=\"text-align: right;\">\n",
       "      <th></th>\n",
       "      <th>key</th>\n",
       "      <th>Bulk 1</th>\n",
       "      <th>Bulk 2</th>\n",
       "      <th>Bulk 3</th>\n",
       "      <th>Bulk 4</th>\n",
       "      <th>Bulk 5</th>\n",
       "      <th>Bulk 6</th>\n",
       "      <th>Bulk 7</th>\n",
       "      <th>Bulk 8</th>\n",
       "      <th>Bulk 9</th>\n",
       "      <th>Bulk 10</th>\n",
       "      <th>Bulk 11</th>\n",
       "      <th>Bulk 12</th>\n",
       "      <th>Bulk 13</th>\n",
       "      <th>Bulk 14</th>\n",
       "      <th>Bulk 15</th>\n",
       "    </tr>\n",
       "  </thead>\n",
       "  <tbody>\n",
       "    <tr>\n",
       "      <th>0</th>\n",
       "      <td>1</td>\n",
       "      <td>NaN</td>\n",
       "      <td>NaN</td>\n",
       "      <td>NaN</td>\n",
       "      <td>43.0</td>\n",
       "      <td>NaN</td>\n",
       "      <td>NaN</td>\n",
       "      <td>NaN</td>\n",
       "      <td>NaN</td>\n",
       "      <td>NaN</td>\n",
       "      <td>NaN</td>\n",
       "      <td>NaN</td>\n",
       "      <td>206.0</td>\n",
       "      <td>NaN</td>\n",
       "      <td>150.0</td>\n",
       "      <td>154.0</td>\n",
       "    </tr>\n",
       "    <tr>\n",
       "      <th>1</th>\n",
       "      <td>2</td>\n",
       "      <td>NaN</td>\n",
       "      <td>NaN</td>\n",
       "      <td>NaN</td>\n",
       "      <td>73.0</td>\n",
       "      <td>NaN</td>\n",
       "      <td>NaN</td>\n",
       "      <td>NaN</td>\n",
       "      <td>NaN</td>\n",
       "      <td>NaN</td>\n",
       "      <td>NaN</td>\n",
       "      <td>NaN</td>\n",
       "      <td>206.0</td>\n",
       "      <td>NaN</td>\n",
       "      <td>149.0</td>\n",
       "      <td>154.0</td>\n",
       "    </tr>\n",
       "    <tr>\n",
       "      <th>2</th>\n",
       "      <td>3</td>\n",
       "      <td>NaN</td>\n",
       "      <td>NaN</td>\n",
       "      <td>NaN</td>\n",
       "      <td>34.0</td>\n",
       "      <td>NaN</td>\n",
       "      <td>NaN</td>\n",
       "      <td>NaN</td>\n",
       "      <td>NaN</td>\n",
       "      <td>NaN</td>\n",
       "      <td>NaN</td>\n",
       "      <td>NaN</td>\n",
       "      <td>205.0</td>\n",
       "      <td>NaN</td>\n",
       "      <td>152.0</td>\n",
       "      <td>153.0</td>\n",
       "    </tr>\n",
       "    <tr>\n",
       "      <th>3</th>\n",
       "      <td>4</td>\n",
       "      <td>NaN</td>\n",
       "      <td>NaN</td>\n",
       "      <td>NaN</td>\n",
       "      <td>81.0</td>\n",
       "      <td>NaN</td>\n",
       "      <td>NaN</td>\n",
       "      <td>NaN</td>\n",
       "      <td>NaN</td>\n",
       "      <td>NaN</td>\n",
       "      <td>NaN</td>\n",
       "      <td>NaN</td>\n",
       "      <td>207.0</td>\n",
       "      <td>NaN</td>\n",
       "      <td>153.0</td>\n",
       "      <td>154.0</td>\n",
       "    </tr>\n",
       "    <tr>\n",
       "      <th>4</th>\n",
       "      <td>5</td>\n",
       "      <td>NaN</td>\n",
       "      <td>NaN</td>\n",
       "      <td>NaN</td>\n",
       "      <td>78.0</td>\n",
       "      <td>NaN</td>\n",
       "      <td>NaN</td>\n",
       "      <td>NaN</td>\n",
       "      <td>NaN</td>\n",
       "      <td>NaN</td>\n",
       "      <td>NaN</td>\n",
       "      <td>NaN</td>\n",
       "      <td>203.0</td>\n",
       "      <td>NaN</td>\n",
       "      <td>151.0</td>\n",
       "      <td>152.0</td>\n",
       "    </tr>\n",
       "  </tbody>\n",
       "</table>\n",
       "</div>"
      ],
      "text/plain": [
       "   key  Bulk 1  Bulk 2  Bulk 3  Bulk 4  Bulk 5  Bulk 6  Bulk 7  Bulk 8  \\\n",
       "0    1     NaN     NaN     NaN    43.0     NaN     NaN     NaN     NaN   \n",
       "1    2     NaN     NaN     NaN    73.0     NaN     NaN     NaN     NaN   \n",
       "2    3     NaN     NaN     NaN    34.0     NaN     NaN     NaN     NaN   \n",
       "3    4     NaN     NaN     NaN    81.0     NaN     NaN     NaN     NaN   \n",
       "4    5     NaN     NaN     NaN    78.0     NaN     NaN     NaN     NaN   \n",
       "\n",
       "   Bulk 9  Bulk 10  Bulk 11  Bulk 12  Bulk 13  Bulk 14  Bulk 15  \n",
       "0     NaN      NaN      NaN    206.0      NaN    150.0    154.0  \n",
       "1     NaN      NaN      NaN    206.0      NaN    149.0    154.0  \n",
       "2     NaN      NaN      NaN    205.0      NaN    152.0    153.0  \n",
       "3     NaN      NaN      NaN    207.0      NaN    153.0    154.0  \n",
       "4     NaN      NaN      NaN    203.0      NaN    151.0    152.0  "
      ]
     },
     "metadata": {},
     "output_type": "display_data"
    },
    {
     "name": "stdout",
     "output_type": "stream",
     "text": [
      "<class 'pandas.core.frame.DataFrame'>\n",
      "RangeIndex: 3129 entries, 0 to 3128\n",
      "Data columns (total 16 columns):\n",
      " #   Column   Non-Null Count  Dtype  \n",
      "---  ------   --------------  -----  \n",
      " 0   key      3129 non-null   int64  \n",
      " 1   Bulk 1   252 non-null    float64\n",
      " 2   Bulk 2   22 non-null     float64\n",
      " 3   Bulk 3   1298 non-null   float64\n",
      " 4   Bulk 4   1014 non-null   float64\n",
      " 5   Bulk 5   77 non-null     float64\n",
      " 6   Bulk 6   576 non-null    float64\n",
      " 7   Bulk 7   25 non-null     float64\n",
      " 8   Bulk 8   1 non-null      float64\n",
      " 9   Bulk 9   19 non-null     float64\n",
      " 10  Bulk 10  176 non-null    float64\n",
      " 11  Bulk 11  177 non-null    float64\n",
      " 12  Bulk 12  2450 non-null   float64\n",
      " 13  Bulk 13  18 non-null     float64\n",
      " 14  Bulk 14  2806 non-null   float64\n",
      " 15  Bulk 15  2248 non-null   float64\n",
      "dtypes: float64(15), int64(1)\n",
      "memory usage: 391.2 KB\n"
     ]
    },
    {
     "data": {
      "text/plain": [
       "None"
      ]
     },
     "metadata": {},
     "output_type": "display_data"
    },
    {
     "data": {
      "text/html": [
       "<div>\n",
       "<style scoped>\n",
       "    .dataframe tbody tr th:only-of-type {\n",
       "        vertical-align: middle;\n",
       "    }\n",
       "\n",
       "    .dataframe tbody tr th {\n",
       "        vertical-align: top;\n",
       "    }\n",
       "\n",
       "    .dataframe thead th {\n",
       "        text-align: right;\n",
       "    }\n",
       "</style>\n",
       "<table border=\"1\" class=\"dataframe\">\n",
       "  <thead>\n",
       "    <tr style=\"text-align: right;\">\n",
       "      <th></th>\n",
       "      <th>key</th>\n",
       "      <th>Bulk 1</th>\n",
       "      <th>Bulk 2</th>\n",
       "      <th>Bulk 3</th>\n",
       "      <th>Bulk 4</th>\n",
       "      <th>Bulk 5</th>\n",
       "      <th>Bulk 6</th>\n",
       "      <th>Bulk 7</th>\n",
       "      <th>Bulk 8</th>\n",
       "      <th>Bulk 9</th>\n",
       "      <th>Bulk 10</th>\n",
       "      <th>Bulk 11</th>\n",
       "      <th>Bulk 12</th>\n",
       "      <th>Bulk 13</th>\n",
       "      <th>Bulk 14</th>\n",
       "      <th>Bulk 15</th>\n",
       "    </tr>\n",
       "  </thead>\n",
       "  <tbody>\n",
       "    <tr>\n",
       "      <th>count</th>\n",
       "      <td>3129.000000</td>\n",
       "      <td>252.000000</td>\n",
       "      <td>22.000000</td>\n",
       "      <td>1298.000000</td>\n",
       "      <td>1014.000000</td>\n",
       "      <td>77.000000</td>\n",
       "      <td>576.000000</td>\n",
       "      <td>25.000000</td>\n",
       "      <td>1.0</td>\n",
       "      <td>19.000000</td>\n",
       "      <td>176.000000</td>\n",
       "      <td>177.000000</td>\n",
       "      <td>2450.000000</td>\n",
       "      <td>18.000000</td>\n",
       "      <td>2806.000000</td>\n",
       "      <td>2248.000000</td>\n",
       "    </tr>\n",
       "    <tr>\n",
       "      <th>mean</th>\n",
       "      <td>1624.383509</td>\n",
       "      <td>39.242063</td>\n",
       "      <td>253.045455</td>\n",
       "      <td>113.879045</td>\n",
       "      <td>104.394477</td>\n",
       "      <td>107.025974</td>\n",
       "      <td>118.925347</td>\n",
       "      <td>305.600000</td>\n",
       "      <td>49.0</td>\n",
       "      <td>76.315789</td>\n",
       "      <td>83.284091</td>\n",
       "      <td>76.819209</td>\n",
       "      <td>260.471020</td>\n",
       "      <td>181.111111</td>\n",
       "      <td>170.284747</td>\n",
       "      <td>160.513345</td>\n",
       "    </tr>\n",
       "    <tr>\n",
       "      <th>std</th>\n",
       "      <td>933.337642</td>\n",
       "      <td>18.277654</td>\n",
       "      <td>21.180578</td>\n",
       "      <td>75.483494</td>\n",
       "      <td>48.184126</td>\n",
       "      <td>81.790646</td>\n",
       "      <td>72.057776</td>\n",
       "      <td>191.022904</td>\n",
       "      <td>NaN</td>\n",
       "      <td>21.720581</td>\n",
       "      <td>26.060347</td>\n",
       "      <td>59.655365</td>\n",
       "      <td>120.649269</td>\n",
       "      <td>46.088009</td>\n",
       "      <td>65.868652</td>\n",
       "      <td>51.765319</td>\n",
       "    </tr>\n",
       "    <tr>\n",
       "      <th>min</th>\n",
       "      <td>1.000000</td>\n",
       "      <td>10.000000</td>\n",
       "      <td>228.000000</td>\n",
       "      <td>6.000000</td>\n",
       "      <td>12.000000</td>\n",
       "      <td>11.000000</td>\n",
       "      <td>17.000000</td>\n",
       "      <td>47.000000</td>\n",
       "      <td>49.0</td>\n",
       "      <td>63.000000</td>\n",
       "      <td>24.000000</td>\n",
       "      <td>8.000000</td>\n",
       "      <td>53.000000</td>\n",
       "      <td>151.000000</td>\n",
       "      <td>16.000000</td>\n",
       "      <td>1.000000</td>\n",
       "    </tr>\n",
       "    <tr>\n",
       "      <th>25%</th>\n",
       "      <td>816.000000</td>\n",
       "      <td>27.000000</td>\n",
       "      <td>242.000000</td>\n",
       "      <td>58.000000</td>\n",
       "      <td>72.000000</td>\n",
       "      <td>70.000000</td>\n",
       "      <td>69.750000</td>\n",
       "      <td>155.000000</td>\n",
       "      <td>49.0</td>\n",
       "      <td>66.000000</td>\n",
       "      <td>64.000000</td>\n",
       "      <td>25.000000</td>\n",
       "      <td>204.000000</td>\n",
       "      <td>153.250000</td>\n",
       "      <td>119.000000</td>\n",
       "      <td>105.000000</td>\n",
       "    </tr>\n",
       "    <tr>\n",
       "      <th>50%</th>\n",
       "      <td>1622.000000</td>\n",
       "      <td>31.000000</td>\n",
       "      <td>251.500000</td>\n",
       "      <td>97.500000</td>\n",
       "      <td>102.000000</td>\n",
       "      <td>86.000000</td>\n",
       "      <td>100.000000</td>\n",
       "      <td>298.000000</td>\n",
       "      <td>49.0</td>\n",
       "      <td>68.000000</td>\n",
       "      <td>86.500000</td>\n",
       "      <td>64.000000</td>\n",
       "      <td>208.000000</td>\n",
       "      <td>155.500000</td>\n",
       "      <td>151.000000</td>\n",
       "      <td>160.000000</td>\n",
       "    </tr>\n",
       "    <tr>\n",
       "      <th>75%</th>\n",
       "      <td>2431.000000</td>\n",
       "      <td>46.000000</td>\n",
       "      <td>257.750000</td>\n",
       "      <td>152.000000</td>\n",
       "      <td>133.000000</td>\n",
       "      <td>132.000000</td>\n",
       "      <td>157.000000</td>\n",
       "      <td>406.000000</td>\n",
       "      <td>49.0</td>\n",
       "      <td>70.500000</td>\n",
       "      <td>102.000000</td>\n",
       "      <td>106.000000</td>\n",
       "      <td>316.000000</td>\n",
       "      <td>203.500000</td>\n",
       "      <td>205.750000</td>\n",
       "      <td>205.000000</td>\n",
       "    </tr>\n",
       "    <tr>\n",
       "      <th>max</th>\n",
       "      <td>3241.000000</td>\n",
       "      <td>185.000000</td>\n",
       "      <td>325.000000</td>\n",
       "      <td>454.000000</td>\n",
       "      <td>281.000000</td>\n",
       "      <td>603.000000</td>\n",
       "      <td>503.000000</td>\n",
       "      <td>772.000000</td>\n",
       "      <td>49.0</td>\n",
       "      <td>147.000000</td>\n",
       "      <td>159.000000</td>\n",
       "      <td>313.000000</td>\n",
       "      <td>1849.000000</td>\n",
       "      <td>305.000000</td>\n",
       "      <td>636.000000</td>\n",
       "      <td>405.000000</td>\n",
       "    </tr>\n",
       "  </tbody>\n",
       "</table>\n",
       "</div>"
      ],
      "text/plain": [
       "               key      Bulk 1      Bulk 2       Bulk 3       Bulk 4  \\\n",
       "count  3129.000000  252.000000   22.000000  1298.000000  1014.000000   \n",
       "mean   1624.383509   39.242063  253.045455   113.879045   104.394477   \n",
       "std     933.337642   18.277654   21.180578    75.483494    48.184126   \n",
       "min       1.000000   10.000000  228.000000     6.000000    12.000000   \n",
       "25%     816.000000   27.000000  242.000000    58.000000    72.000000   \n",
       "50%    1622.000000   31.000000  251.500000    97.500000   102.000000   \n",
       "75%    2431.000000   46.000000  257.750000   152.000000   133.000000   \n",
       "max    3241.000000  185.000000  325.000000   454.000000   281.000000   \n",
       "\n",
       "           Bulk 5      Bulk 6      Bulk 7  Bulk 8      Bulk 9     Bulk 10  \\\n",
       "count   77.000000  576.000000   25.000000     1.0   19.000000  176.000000   \n",
       "mean   107.025974  118.925347  305.600000    49.0   76.315789   83.284091   \n",
       "std     81.790646   72.057776  191.022904     NaN   21.720581   26.060347   \n",
       "min     11.000000   17.000000   47.000000    49.0   63.000000   24.000000   \n",
       "25%     70.000000   69.750000  155.000000    49.0   66.000000   64.000000   \n",
       "50%     86.000000  100.000000  298.000000    49.0   68.000000   86.500000   \n",
       "75%    132.000000  157.000000  406.000000    49.0   70.500000  102.000000   \n",
       "max    603.000000  503.000000  772.000000    49.0  147.000000  159.000000   \n",
       "\n",
       "          Bulk 11      Bulk 12     Bulk 13      Bulk 14      Bulk 15  \n",
       "count  177.000000  2450.000000   18.000000  2806.000000  2248.000000  \n",
       "mean    76.819209   260.471020  181.111111   170.284747   160.513345  \n",
       "std     59.655365   120.649269   46.088009    65.868652    51.765319  \n",
       "min      8.000000    53.000000  151.000000    16.000000     1.000000  \n",
       "25%     25.000000   204.000000  153.250000   119.000000   105.000000  \n",
       "50%     64.000000   208.000000  155.500000   151.000000   160.000000  \n",
       "75%    106.000000   316.000000  203.500000   205.750000   205.000000  \n",
       "max    313.000000  1849.000000  305.000000   636.000000   405.000000  "
      ]
     },
     "metadata": {},
     "output_type": "display_data"
    },
    {
     "name": "stdout",
     "output_type": "stream",
     "text": [
      "DUPLICATES: 0\n"
     ]
    },
    {
     "data": {
      "image/png": "[encoded data removed]",
      "text/plain": [
       "<Figure size 720x720 with 16 Axes>"
      ]
     },
     "metadata": {
      "needs_background": "light"
     },
     "output_type": "display_data"
    }
   ],
   "source": [
    "dataframe_info(data_bulk)"
   ]
  },
  {
   "cell_type": "code",
   "execution_count": 14,
   "metadata": {},
   "outputs": [
    {
     "data": {
      "text/plain": [
       "2049    1\n",
       "2612    1\n",
       "2588    1\n",
       "541     1\n",
       "2590    1\n",
       "       ..\n",
       "1090    1\n",
       "3139    1\n",
       "1092    1\n",
       "3141    1\n",
       "2047    1\n",
       "Name: key, Length: 3129, dtype: int64"
      ]
     },
     "execution_count": 14,
     "metadata": {},
     "output_type": "execute_result"
    }
   ],
   "source": [
    "data_bulk['key'].value_counts()"
   ]
  },
  {
   "cell_type": "code",
   "execution_count": 15,
   "metadata": {},
   "outputs": [
    {
     "name": "stdout",
     "output_type": "stream",
     "text": [
      "Партии по которым нет данных:  [41, 42, 51, 52, 53, 54, 55, 56, 72, 80, 81, 110, 151, 188, 195, 225, 269, 302, 330, 331, 332, 343, 350, 355, 382, 506, 529, 540, 607, 661, 683, 710, 766, 830, 874, 931, 933, 934, 960, 961, 964, 966, 983, 984, 1062, 1105, 1133, 1221, 1268, 1300, 1334, 1402, 1437, 1517, 1518, 1535, 1566, 1623, 1656, 1783, 1818, 1911, 1959, 1974, 1979, 2009, 2010, 2031, 2043, 2056, 2103, 2195, 2196, 2197, 2198, 2216, 2217, 2231, 2278, 2310, 2356, 2373, 2390, 2408, 2434, 2446, 2460, 2468, 2469, 2471, 2491, 2595, 2599, 2600, 2608, 2625, 2628, 2683, 2738, 2739, 2816, 2821, 2863, 2884, 2891, 3018, 3026, 3047, 3182, 3200, 3207, 3216]\n"
     ]
    }
   ],
   "source": [
    "\n",
    "def find_missing(lst):\n",
    "\t\n",
    "\tarr = np.array(lst)\n",
    "\tfull_range = np.arange(lst[0], lst[-1]+1)\n",
    "\tmissing = np.setdiff1d(full_range, arr)\n",
    "\t\n",
    "\treturn missing.tolist()\n",
    "\n",
    "missing = find_missing(data_bulk['key'].tolist())\n",
    "print(\"Партии по которым нет данных: \", missing)\n"
   ]
  },
  {
   "cell_type": "code",
   "execution_count": 16,
   "metadata": {},
   "outputs": [
    {
     "data": {
      "text/html": [
       "<div>\n",
       "<style scoped>\n",
       "    .dataframe tbody tr th:only-of-type {\n",
       "        vertical-align: middle;\n",
       "    }\n",
       "\n",
       "    .dataframe tbody tr th {\n",
       "        vertical-align: top;\n",
       "    }\n",
       "\n",
       "    .dataframe thead th {\n",
       "        text-align: right;\n",
       "    }\n",
       "</style>\n",
       "<table border=\"1\" class=\"dataframe\">\n",
       "  <thead>\n",
       "    <tr style=\"text-align: right;\">\n",
       "      <th></th>\n",
       "      <th>key</th>\n",
       "      <th>Bulk 1</th>\n",
       "      <th>Bulk 2</th>\n",
       "      <th>Bulk 3</th>\n",
       "      <th>Bulk 4</th>\n",
       "      <th>Bulk 5</th>\n",
       "      <th>Bulk 6</th>\n",
       "      <th>Bulk 7</th>\n",
       "      <th>Bulk 8</th>\n",
       "      <th>Bulk 9</th>\n",
       "      <th>Bulk 10</th>\n",
       "      <th>Bulk 11</th>\n",
       "      <th>Bulk 12</th>\n",
       "      <th>Bulk 13</th>\n",
       "      <th>Bulk 14</th>\n",
       "      <th>Bulk 15</th>\n",
       "    </tr>\n",
       "  </thead>\n",
       "  <tbody>\n",
       "    <tr>\n",
       "      <th>0</th>\n",
       "      <td>1</td>\n",
       "      <td>NaN</td>\n",
       "      <td>NaN</td>\n",
       "      <td>NaN</td>\n",
       "      <td>2019-05-03 11:28:48</td>\n",
       "      <td>NaN</td>\n",
       "      <td>NaN</td>\n",
       "      <td>NaN</td>\n",
       "      <td>NaN</td>\n",
       "      <td>NaN</td>\n",
       "      <td>NaN</td>\n",
       "      <td>NaN</td>\n",
       "      <td>2019-05-03 11:24:31</td>\n",
       "      <td>NaN</td>\n",
       "      <td>2019-05-03 11:14:50</td>\n",
       "      <td>2019-05-03 11:10:43</td>\n",
       "    </tr>\n",
       "    <tr>\n",
       "      <th>1</th>\n",
       "      <td>2</td>\n",
       "      <td>NaN</td>\n",
       "      <td>NaN</td>\n",
       "      <td>NaN</td>\n",
       "      <td>2019-05-03 11:36:50</td>\n",
       "      <td>NaN</td>\n",
       "      <td>NaN</td>\n",
       "      <td>NaN</td>\n",
       "      <td>NaN</td>\n",
       "      <td>NaN</td>\n",
       "      <td>NaN</td>\n",
       "      <td>NaN</td>\n",
       "      <td>2019-05-03 11:53:30</td>\n",
       "      <td>NaN</td>\n",
       "      <td>2019-05-03 11:48:37</td>\n",
       "      <td>2019-05-03 11:44:39</td>\n",
       "    </tr>\n",
       "    <tr>\n",
       "      <th>2</th>\n",
       "      <td>3</td>\n",
       "      <td>NaN</td>\n",
       "      <td>NaN</td>\n",
       "      <td>NaN</td>\n",
       "      <td>2019-05-03 12:32:39</td>\n",
       "      <td>NaN</td>\n",
       "      <td>NaN</td>\n",
       "      <td>NaN</td>\n",
       "      <td>NaN</td>\n",
       "      <td>NaN</td>\n",
       "      <td>NaN</td>\n",
       "      <td>NaN</td>\n",
       "      <td>2019-05-03 12:27:13</td>\n",
       "      <td>NaN</td>\n",
       "      <td>2019-05-03 12:21:01</td>\n",
       "      <td>2019-05-03 12:16:16</td>\n",
       "    </tr>\n",
       "    <tr>\n",
       "      <th>3</th>\n",
       "      <td>4</td>\n",
       "      <td>NaN</td>\n",
       "      <td>NaN</td>\n",
       "      <td>NaN</td>\n",
       "      <td>2019-05-03 12:43:22</td>\n",
       "      <td>NaN</td>\n",
       "      <td>NaN</td>\n",
       "      <td>NaN</td>\n",
       "      <td>NaN</td>\n",
       "      <td>NaN</td>\n",
       "      <td>NaN</td>\n",
       "      <td>NaN</td>\n",
       "      <td>2019-05-03 12:58:00</td>\n",
       "      <td>NaN</td>\n",
       "      <td>2019-05-03 12:51:11</td>\n",
       "      <td>2019-05-03 12:46:36</td>\n",
       "    </tr>\n",
       "    <tr>\n",
       "      <th>4</th>\n",
       "      <td>5</td>\n",
       "      <td>NaN</td>\n",
       "      <td>NaN</td>\n",
       "      <td>NaN</td>\n",
       "      <td>2019-05-03 13:30:47</td>\n",
       "      <td>NaN</td>\n",
       "      <td>NaN</td>\n",
       "      <td>NaN</td>\n",
       "      <td>NaN</td>\n",
       "      <td>NaN</td>\n",
       "      <td>NaN</td>\n",
       "      <td>NaN</td>\n",
       "      <td>2019-05-03 13:30:47</td>\n",
       "      <td>NaN</td>\n",
       "      <td>2019-05-03 13:34:12</td>\n",
       "      <td>2019-05-03 13:30:47</td>\n",
       "    </tr>\n",
       "  </tbody>\n",
       "</table>\n",
       "</div>"
      ],
      "text/plain": [
       "   key Bulk 1 Bulk 2 Bulk 3               Bulk 4 Bulk 5 Bulk 6 Bulk 7 Bulk 8  \\\n",
       "0    1    NaN    NaN    NaN  2019-05-03 11:28:48    NaN    NaN    NaN    NaN   \n",
       "1    2    NaN    NaN    NaN  2019-05-03 11:36:50    NaN    NaN    NaN    NaN   \n",
       "2    3    NaN    NaN    NaN  2019-05-03 12:32:39    NaN    NaN    NaN    NaN   \n",
       "3    4    NaN    NaN    NaN  2019-05-03 12:43:22    NaN    NaN    NaN    NaN   \n",
       "4    5    NaN    NaN    NaN  2019-05-03 13:30:47    NaN    NaN    NaN    NaN   \n",
       "\n",
       "  Bulk 9 Bulk 10 Bulk 11              Bulk 12 Bulk 13              Bulk 14  \\\n",
       "0    NaN     NaN     NaN  2019-05-03 11:24:31     NaN  2019-05-03 11:14:50   \n",
       "1    NaN     NaN     NaN  2019-05-03 11:53:30     NaN  2019-05-03 11:48:37   \n",
       "2    NaN     NaN     NaN  2019-05-03 12:27:13     NaN  2019-05-03 12:21:01   \n",
       "3    NaN     NaN     NaN  2019-05-03 12:58:00     NaN  2019-05-03 12:51:11   \n",
       "4    NaN     NaN     NaN  2019-05-03 13:30:47     NaN  2019-05-03 13:34:12   \n",
       "\n",
       "               Bulk 15  \n",
       "0  2019-05-03 11:10:43  \n",
       "1  2019-05-03 11:44:39  \n",
       "2  2019-05-03 12:16:16  \n",
       "3  2019-05-03 12:46:36  \n",
       "4  2019-05-03 13:30:47  "
      ]
     },
     "metadata": {},
     "output_type": "display_data"
    },
    {
     "name": "stdout",
     "output_type": "stream",
     "text": [
      "<class 'pandas.core.frame.DataFrame'>\n",
      "RangeIndex: 3129 entries, 0 to 3128\n",
      "Data columns (total 16 columns):\n",
      " #   Column   Non-Null Count  Dtype \n",
      "---  ------   --------------  ----- \n",
      " 0   key      3129 non-null   int64 \n",
      " 1   Bulk 1   252 non-null    object\n",
      " 2   Bulk 2   22 non-null     object\n",
      " 3   Bulk 3   1298 non-null   object\n",
      " 4   Bulk 4   1014 non-null   object\n",
      " 5   Bulk 5   77 non-null     object\n",
      " 6   Bulk 6   576 non-null    object\n",
      " 7   Bulk 7   25 non-null     object\n",
      " 8   Bulk 8   1 non-null      object\n",
      " 9   Bulk 9   19 non-null     object\n",
      " 10  Bulk 10  176 non-null    object\n",
      " 11  Bulk 11  177 non-null    object\n",
      " 12  Bulk 12  2450 non-null   object\n",
      " 13  Bulk 13  18 non-null     object\n",
      " 14  Bulk 14  2806 non-null   object\n",
      " 15  Bulk 15  2248 non-null   object\n",
      "dtypes: int64(1), object(15)\n",
      "memory usage: 391.2+ KB\n"
     ]
    },
    {
     "data": {
      "text/plain": [
       "None"
      ]
     },
     "metadata": {},
     "output_type": "display_data"
    },
    {
     "data": {
      "text/html": [
       "<div>\n",
       "<style scoped>\n",
       "    .dataframe tbody tr th:only-of-type {\n",
       "        vertical-align: middle;\n",
       "    }\n",
       "\n",
       "    .dataframe tbody tr th {\n",
       "        vertical-align: top;\n",
       "    }\n",
       "\n",
       "    .dataframe thead th {\n",
       "        text-align: right;\n",
       "    }\n",
       "</style>\n",
       "<table border=\"1\" class=\"dataframe\">\n",
       "  <thead>\n",
       "    <tr style=\"text-align: right;\">\n",
       "      <th></th>\n",
       "      <th>key</th>\n",
       "    </tr>\n",
       "  </thead>\n",
       "  <tbody>\n",
       "    <tr>\n",
       "      <th>count</th>\n",
       "      <td>3129.000000</td>\n",
       "    </tr>\n",
       "    <tr>\n",
       "      <th>mean</th>\n",
       "      <td>1624.383509</td>\n",
       "    </tr>\n",
       "    <tr>\n",
       "      <th>std</th>\n",
       "      <td>933.337642</td>\n",
       "    </tr>\n",
       "    <tr>\n",
       "      <th>min</th>\n",
       "      <td>1.000000</td>\n",
       "    </tr>\n",
       "    <tr>\n",
       "      <th>25%</th>\n",
       "      <td>816.000000</td>\n",
       "    </tr>\n",
       "    <tr>\n",
       "      <th>50%</th>\n",
       "      <td>1622.000000</td>\n",
       "    </tr>\n",
       "    <tr>\n",
       "      <th>75%</th>\n",
       "      <td>2431.000000</td>\n",
       "    </tr>\n",
       "    <tr>\n",
       "      <th>max</th>\n",
       "      <td>3241.000000</td>\n",
       "    </tr>\n",
       "  </tbody>\n",
       "</table>\n",
       "</div>"
      ],
      "text/plain": [
       "               key\n",
       "count  3129.000000\n",
       "mean   1624.383509\n",
       "std     933.337642\n",
       "min       1.000000\n",
       "25%     816.000000\n",
       "50%    1622.000000\n",
       "75%    2431.000000\n",
       "max    3241.000000"
      ]
     },
     "metadata": {},
     "output_type": "display_data"
    },
    {
     "name": "stdout",
     "output_type": "stream",
     "text": [
      "DUPLICATES: 0\n"
     ]
    },
    {
     "data": {
      "image/png": "[encoded data removed]",
      "text/plain": [
       "<Figure size 720x720 with 1 Axes>"
      ]
     },
     "metadata": {
      "needs_background": "light"
     },
     "output_type": "display_data"
    }
   ],
   "source": [
    "dataframe_info(data_bulk_time)"
   ]
  },
  {
   "cell_type": "code",
   "execution_count": 17,
   "metadata": {},
   "outputs": [
    {
     "name": "stdout",
     "output_type": "stream",
     "text": [
      "Партии по которым нет данных:  [41, 42, 51, 52, 53, 54, 55, 56, 72, 80, 81, 110, 151, 188, 195, 225, 269, 302, 330, 331, 332, 343, 350, 355, 382, 506, 529, 540, 607, 661, 683, 710, 766, 830, 874, 931, 933, 934, 960, 961, 964, 966, 983, 984, 1062, 1105, 1133, 1221, 1268, 1300, 1334, 1402, 1437, 1517, 1518, 1535, 1566, 1623, 1656, 1783, 1818, 1911, 1959, 1974, 1979, 2009, 2010, 2031, 2043, 2056, 2103, 2195, 2196, 2197, 2198, 2216, 2217, 2231, 2278, 2310, 2356, 2373, 2390, 2408, 2434, 2446, 2460, 2468, 2469, 2471, 2491, 2595, 2599, 2600, 2608, 2625, 2628, 2683, 2738, 2739, 2816, 2821, 2863, 2884, 2891, 3018, 3026, 3047, 3182, 3200, 3207, 3216]\n"
     ]
    }
   ],
   "source": [
    "missing = find_missing(data_bulk_time['key'].tolist())\n",
    "print(\"Партии по которым нет данных: \", missing)"
   ]
  },
  {
   "cell_type": "markdown",
   "metadata": {},
   "source": [
    "#### Вывод\n",
    "Данные о подаче сыпучих материалов представлены двумя таблицами:\n",
    "- объем подаваемого сырья\n",
    "- время подаваемого сырья\n",
    "По некоторым партиям данные отсутствую. Данные по некоторым bulk встречаются очень редко, например bulk8 представлен всего одной записью.\n",
    "\n",
    "Вопросы:\n",
    "1. С какой скоростью подается сырье? если всегда с одинаковой, то данные по времени подачи нам не нужны. Но может быть и так, что скорость подачи сырья вляет на качество смеси.\n",
    "2. Разныые бункеры для разных материалов? Если есть одинаковые, их можно объединить.\n",
    "3. Почему по некоторым партиям нет данных?\n",
    "4. Почему есть выбросы в показателях? Связано это с ошибкой замеров или это было сделано умышленно."
   ]
  },
  {
   "cell_type": "markdown",
   "metadata": {},
   "source": [
    "### Данные о продувке сплава газом"
   ]
  },
  {
   "cell_type": "code",
   "execution_count": 18,
   "metadata": {},
   "outputs": [
    {
     "data": {
      "text/html": [
       "<div>\n",
       "<style scoped>\n",
       "    .dataframe tbody tr th:only-of-type {\n",
       "        vertical-align: middle;\n",
       "    }\n",
       "\n",
       "    .dataframe tbody tr th {\n",
       "        vertical-align: top;\n",
       "    }\n",
       "\n",
       "    .dataframe thead th {\n",
       "        text-align: right;\n",
       "    }\n",
       "</style>\n",
       "<table border=\"1\" class=\"dataframe\">\n",
       "  <thead>\n",
       "    <tr style=\"text-align: right;\">\n",
       "      <th></th>\n",
       "      <th>key</th>\n",
       "      <th>Газ 1</th>\n",
       "    </tr>\n",
       "  </thead>\n",
       "  <tbody>\n",
       "    <tr>\n",
       "      <th>0</th>\n",
       "      <td>1</td>\n",
       "      <td>29.749986</td>\n",
       "    </tr>\n",
       "    <tr>\n",
       "      <th>1</th>\n",
       "      <td>2</td>\n",
       "      <td>12.555561</td>\n",
       "    </tr>\n",
       "    <tr>\n",
       "      <th>2</th>\n",
       "      <td>3</td>\n",
       "      <td>28.554793</td>\n",
       "    </tr>\n",
       "    <tr>\n",
       "      <th>3</th>\n",
       "      <td>4</td>\n",
       "      <td>18.841219</td>\n",
       "    </tr>\n",
       "    <tr>\n",
       "      <th>4</th>\n",
       "      <td>5</td>\n",
       "      <td>5.413692</td>\n",
       "    </tr>\n",
       "  </tbody>\n",
       "</table>\n",
       "</div>"
      ],
      "text/plain": [
       "   key      Газ 1\n",
       "0    1  29.749986\n",
       "1    2  12.555561\n",
       "2    3  28.554793\n",
       "3    4  18.841219\n",
       "4    5   5.413692"
      ]
     },
     "metadata": {},
     "output_type": "display_data"
    },
    {
     "name": "stdout",
     "output_type": "stream",
     "text": [
      "<class 'pandas.core.frame.DataFrame'>\n",
      "RangeIndex: 3239 entries, 0 to 3238\n",
      "Data columns (total 2 columns):\n",
      " #   Column  Non-Null Count  Dtype  \n",
      "---  ------  --------------  -----  \n",
      " 0   key     3239 non-null   int64  \n",
      " 1   Газ 1   3239 non-null   float64\n",
      "dtypes: float64(1), int64(1)\n",
      "memory usage: 50.7 KB\n"
     ]
    },
    {
     "data": {
      "text/plain": [
       "None"
      ]
     },
     "metadata": {},
     "output_type": "display_data"
    },
    {
     "data": {
      "text/html": [
       "<div>\n",
       "<style scoped>\n",
       "    .dataframe tbody tr th:only-of-type {\n",
       "        vertical-align: middle;\n",
       "    }\n",
       "\n",
       "    .dataframe tbody tr th {\n",
       "        vertical-align: top;\n",
       "    }\n",
       "\n",
       "    .dataframe thead th {\n",
       "        text-align: right;\n",
       "    }\n",
       "</style>\n",
       "<table border=\"1\" class=\"dataframe\">\n",
       "  <thead>\n",
       "    <tr style=\"text-align: right;\">\n",
       "      <th></th>\n",
       "      <th>key</th>\n",
       "      <th>Газ 1</th>\n",
       "    </tr>\n",
       "  </thead>\n",
       "  <tbody>\n",
       "    <tr>\n",
       "      <th>count</th>\n",
       "      <td>3239.000000</td>\n",
       "      <td>3239.000000</td>\n",
       "    </tr>\n",
       "    <tr>\n",
       "      <th>mean</th>\n",
       "      <td>1621.861377</td>\n",
       "      <td>11.002062</td>\n",
       "    </tr>\n",
       "    <tr>\n",
       "      <th>std</th>\n",
       "      <td>935.386334</td>\n",
       "      <td>6.220327</td>\n",
       "    </tr>\n",
       "    <tr>\n",
       "      <th>min</th>\n",
       "      <td>1.000000</td>\n",
       "      <td>0.008399</td>\n",
       "    </tr>\n",
       "    <tr>\n",
       "      <th>25%</th>\n",
       "      <td>812.500000</td>\n",
       "      <td>7.043089</td>\n",
       "    </tr>\n",
       "    <tr>\n",
       "      <th>50%</th>\n",
       "      <td>1622.000000</td>\n",
       "      <td>9.836267</td>\n",
       "    </tr>\n",
       "    <tr>\n",
       "      <th>75%</th>\n",
       "      <td>2431.500000</td>\n",
       "      <td>13.769915</td>\n",
       "    </tr>\n",
       "    <tr>\n",
       "      <th>max</th>\n",
       "      <td>3241.000000</td>\n",
       "      <td>77.995040</td>\n",
       "    </tr>\n",
       "  </tbody>\n",
       "</table>\n",
       "</div>"
      ],
      "text/plain": [
       "               key        Газ 1\n",
       "count  3239.000000  3239.000000\n",
       "mean   1621.861377    11.002062\n",
       "std     935.386334     6.220327\n",
       "min       1.000000     0.008399\n",
       "25%     812.500000     7.043089\n",
       "50%    1622.000000     9.836267\n",
       "75%    2431.500000    13.769915\n",
       "max    3241.000000    77.995040"
      ]
     },
     "metadata": {},
     "output_type": "display_data"
    },
    {
     "name": "stdout",
     "output_type": "stream",
     "text": [
      "DUPLICATES: 0\n"
     ]
    },
    {
     "data": {
      "image/png": "[encoded data removed]",
      "text/plain": [
       "<Figure size 720x720 with 2 Axes>"
      ]
     },
     "metadata": {
      "needs_background": "light"
     },
     "output_type": "display_data"
    }
   ],
   "source": [
    "dataframe_info(data_gas)"
   ]
  },
  {
   "cell_type": "code",
   "execution_count": 19,
   "metadata": {},
   "outputs": [
    {
     "name": "stdout",
     "output_type": "stream",
     "text": [
      "Партии по которым нет данных:  [193, 259]\n"
     ]
    }
   ],
   "source": [
    "missing = find_missing(data_gas['key'].tolist())\n",
    "print(\"Партии по которым нет данных: \", missing)"
   ]
  },
  {
   "cell_type": "markdown",
   "metadata": {},
   "source": [
    "#### Вывод\n",
    "Только по двум партиям нет данных о продувке газом. Показетель продувкки находится в диапазоне от 0 до 78, 50% значений попадют в интервал 7.04 - 13.76\n",
    "\n",
    "Вопросы:\n",
    "1. Выяснить природу выбросов \n",
    "2. Выяснить причину отсутсвия данных"
   ]
  },
  {
   "cell_type": "markdown",
   "metadata": {},
   "source": [
    "### Данные о замере температуры"
   ]
  },
  {
   "cell_type": "code",
   "execution_count": 20,
   "metadata": {},
   "outputs": [
    {
     "data": {
      "text/html": [
       "<div>\n",
       "<style scoped>\n",
       "    .dataframe tbody tr th:only-of-type {\n",
       "        vertical-align: middle;\n",
       "    }\n",
       "\n",
       "    .dataframe tbody tr th {\n",
       "        vertical-align: top;\n",
       "    }\n",
       "\n",
       "    .dataframe thead th {\n",
       "        text-align: right;\n",
       "    }\n",
       "</style>\n",
       "<table border=\"1\" class=\"dataframe\">\n",
       "  <thead>\n",
       "    <tr style=\"text-align: right;\">\n",
       "      <th></th>\n",
       "      <th>key</th>\n",
       "      <th>Время замера</th>\n",
       "      <th>Температура</th>\n",
       "    </tr>\n",
       "  </thead>\n",
       "  <tbody>\n",
       "    <tr>\n",
       "      <th>0</th>\n",
       "      <td>1</td>\n",
       "      <td>2019-05-03 11:02:04</td>\n",
       "      <td>1571.0</td>\n",
       "    </tr>\n",
       "    <tr>\n",
       "      <th>1</th>\n",
       "      <td>1</td>\n",
       "      <td>2019-05-03 11:07:18</td>\n",
       "      <td>1604.0</td>\n",
       "    </tr>\n",
       "    <tr>\n",
       "      <th>2</th>\n",
       "      <td>1</td>\n",
       "      <td>2019-05-03 11:11:34</td>\n",
       "      <td>1618.0</td>\n",
       "    </tr>\n",
       "    <tr>\n",
       "      <th>3</th>\n",
       "      <td>1</td>\n",
       "      <td>2019-05-03 11:18:04</td>\n",
       "      <td>1601.0</td>\n",
       "    </tr>\n",
       "    <tr>\n",
       "      <th>4</th>\n",
       "      <td>1</td>\n",
       "      <td>2019-05-03 11:25:59</td>\n",
       "      <td>1606.0</td>\n",
       "    </tr>\n",
       "  </tbody>\n",
       "</table>\n",
       "</div>"
      ],
      "text/plain": [
       "   key        Время замера  Температура\n",
       "0    1 2019-05-03 11:02:04       1571.0\n",
       "1    1 2019-05-03 11:07:18       1604.0\n",
       "2    1 2019-05-03 11:11:34       1618.0\n",
       "3    1 2019-05-03 11:18:04       1601.0\n",
       "4    1 2019-05-03 11:25:59       1606.0"
      ]
     },
     "metadata": {},
     "output_type": "display_data"
    },
    {
     "name": "stdout",
     "output_type": "stream",
     "text": [
      "<class 'pandas.core.frame.DataFrame'>\n",
      "RangeIndex: 18092 entries, 0 to 18091\n",
      "Data columns (total 3 columns):\n",
      " #   Column        Non-Null Count  Dtype         \n",
      "---  ------        --------------  -----         \n",
      " 0   key           18092 non-null  int64         \n",
      " 1   Время замера  18092 non-null  datetime64[ns]\n",
      " 2   Температура   14665 non-null  float64       \n",
      "dtypes: datetime64[ns](1), float64(1), int64(1)\n",
      "memory usage: 424.2 KB\n"
     ]
    },
    {
     "data": {
      "text/plain": [
       "None"
      ]
     },
     "metadata": {},
     "output_type": "display_data"
    },
    {
     "data": {
      "text/html": [
       "<div>\n",
       "<style scoped>\n",
       "    .dataframe tbody tr th:only-of-type {\n",
       "        vertical-align: middle;\n",
       "    }\n",
       "\n",
       "    .dataframe tbody tr th {\n",
       "        vertical-align: top;\n",
       "    }\n",
       "\n",
       "    .dataframe thead th {\n",
       "        text-align: right;\n",
       "    }\n",
       "</style>\n",
       "<table border=\"1\" class=\"dataframe\">\n",
       "  <thead>\n",
       "    <tr style=\"text-align: right;\">\n",
       "      <th></th>\n",
       "      <th>key</th>\n",
       "      <th>Температура</th>\n",
       "    </tr>\n",
       "  </thead>\n",
       "  <tbody>\n",
       "    <tr>\n",
       "      <th>count</th>\n",
       "      <td>18092.000000</td>\n",
       "      <td>14665.000000</td>\n",
       "    </tr>\n",
       "    <tr>\n",
       "      <th>mean</th>\n",
       "      <td>1616.460977</td>\n",
       "      <td>1590.722741</td>\n",
       "    </tr>\n",
       "    <tr>\n",
       "      <th>std</th>\n",
       "      <td>934.641385</td>\n",
       "      <td>20.394381</td>\n",
       "    </tr>\n",
       "    <tr>\n",
       "      <th>min</th>\n",
       "      <td>1.000000</td>\n",
       "      <td>1191.000000</td>\n",
       "    </tr>\n",
       "    <tr>\n",
       "      <th>25%</th>\n",
       "      <td>807.750000</td>\n",
       "      <td>1580.000000</td>\n",
       "    </tr>\n",
       "    <tr>\n",
       "      <th>50%</th>\n",
       "      <td>1618.000000</td>\n",
       "      <td>1590.000000</td>\n",
       "    </tr>\n",
       "    <tr>\n",
       "      <th>75%</th>\n",
       "      <td>2429.000000</td>\n",
       "      <td>1599.000000</td>\n",
       "    </tr>\n",
       "    <tr>\n",
       "      <th>max</th>\n",
       "      <td>3241.000000</td>\n",
       "      <td>1705.000000</td>\n",
       "    </tr>\n",
       "  </tbody>\n",
       "</table>\n",
       "</div>"
      ],
      "text/plain": [
       "                key   Температура\n",
       "count  18092.000000  14665.000000\n",
       "mean    1616.460977   1590.722741\n",
       "std      934.641385     20.394381\n",
       "min        1.000000   1191.000000\n",
       "25%      807.750000   1580.000000\n",
       "50%     1618.000000   1590.000000\n",
       "75%     2429.000000   1599.000000\n",
       "max     3241.000000   1705.000000"
      ]
     },
     "metadata": {},
     "output_type": "display_data"
    },
    {
     "name": "stdout",
     "output_type": "stream",
     "text": [
      "DUPLICATES: 0\n"
     ]
    },
    {
     "data": {
      "image/png": "[encoded data removed]",
      "text/plain": [
       "<Figure size 720x720 with 2 Axes>"
      ]
     },
     "metadata": {
      "needs_background": "light"
     },
     "output_type": "display_data"
    }
   ],
   "source": [
    "dataframe_info(data_temp)"
   ]
  },
  {
   "cell_type": "code",
   "execution_count": 21,
   "metadata": {},
   "outputs": [
    {
     "data": {
      "text/plain": [
       "2108    17\n",
       "1513    16\n",
       "1689    16\n",
       "2567    15\n",
       "322     14\n",
       "        ..\n",
       "556      2\n",
       "1169     2\n",
       "732      2\n",
       "195      1\n",
       "279      1\n",
       "Name: key, Length: 3216, dtype: int64"
      ]
     },
     "execution_count": 21,
     "metadata": {},
     "output_type": "execute_result"
    }
   ],
   "source": [
    "data_temp['key'].value_counts(dropna=False)"
   ]
  },
  {
   "cell_type": "code",
   "execution_count": 22,
   "metadata": {},
   "outputs": [
    {
     "data": {
      "text/plain": [
       "3216"
      ]
     },
     "execution_count": 22,
     "metadata": {},
     "output_type": "execute_result"
    }
   ],
   "source": [
    "len(pd.unique(data_temp['key']))"
   ]
  },
  {
   "cell_type": "markdown",
   "metadata": {},
   "source": [
    "#### Вывод\n",
    "По нескольким партиям нет данных о температуре. По одной партии производится несколько замеров.\n",
    "\n",
    "Вопросы:\n",
    "1. Выяснить природу выбросов \n",
    "2. Выяснить причину отсутсвия данных (пропусков)\n",
    "3. Выяснить от чего зависит начальная температура сплава. Если сплав поступает с разной температурой , то показатель начальной температуры надо включить в признаки.\n",
    "4. Конечная температура - целевой признак."
   ]
  },
  {
   "cell_type": "markdown",
   "metadata": {},
   "source": [
    "### Данные о проволочных материалах"
   ]
  },
  {
   "cell_type": "code",
   "execution_count": 23,
   "metadata": {},
   "outputs": [
    {
     "data": {
      "text/html": [
       "<div>\n",
       "<style scoped>\n",
       "    .dataframe tbody tr th:only-of-type {\n",
       "        vertical-align: middle;\n",
       "    }\n",
       "\n",
       "    .dataframe tbody tr th {\n",
       "        vertical-align: top;\n",
       "    }\n",
       "\n",
       "    .dataframe thead th {\n",
       "        text-align: right;\n",
       "    }\n",
       "</style>\n",
       "<table border=\"1\" class=\"dataframe\">\n",
       "  <thead>\n",
       "    <tr style=\"text-align: right;\">\n",
       "      <th></th>\n",
       "      <th>key</th>\n",
       "      <th>Wire 1</th>\n",
       "      <th>Wire 2</th>\n",
       "      <th>Wire 3</th>\n",
       "      <th>Wire 4</th>\n",
       "      <th>Wire 5</th>\n",
       "      <th>Wire 6</th>\n",
       "      <th>Wire 7</th>\n",
       "      <th>Wire 8</th>\n",
       "      <th>Wire 9</th>\n",
       "    </tr>\n",
       "  </thead>\n",
       "  <tbody>\n",
       "    <tr>\n",
       "      <th>0</th>\n",
       "      <td>1</td>\n",
       "      <td>60.059998</td>\n",
       "      <td>NaN</td>\n",
       "      <td>NaN</td>\n",
       "      <td>NaN</td>\n",
       "      <td>NaN</td>\n",
       "      <td>NaN</td>\n",
       "      <td>NaN</td>\n",
       "      <td>NaN</td>\n",
       "      <td>NaN</td>\n",
       "    </tr>\n",
       "    <tr>\n",
       "      <th>1</th>\n",
       "      <td>2</td>\n",
       "      <td>96.052315</td>\n",
       "      <td>NaN</td>\n",
       "      <td>NaN</td>\n",
       "      <td>NaN</td>\n",
       "      <td>NaN</td>\n",
       "      <td>NaN</td>\n",
       "      <td>NaN</td>\n",
       "      <td>NaN</td>\n",
       "      <td>NaN</td>\n",
       "    </tr>\n",
       "    <tr>\n",
       "      <th>2</th>\n",
       "      <td>3</td>\n",
       "      <td>91.160157</td>\n",
       "      <td>NaN</td>\n",
       "      <td>NaN</td>\n",
       "      <td>NaN</td>\n",
       "      <td>NaN</td>\n",
       "      <td>NaN</td>\n",
       "      <td>NaN</td>\n",
       "      <td>NaN</td>\n",
       "      <td>NaN</td>\n",
       "    </tr>\n",
       "    <tr>\n",
       "      <th>3</th>\n",
       "      <td>4</td>\n",
       "      <td>89.063515</td>\n",
       "      <td>NaN</td>\n",
       "      <td>NaN</td>\n",
       "      <td>NaN</td>\n",
       "      <td>NaN</td>\n",
       "      <td>NaN</td>\n",
       "      <td>NaN</td>\n",
       "      <td>NaN</td>\n",
       "      <td>NaN</td>\n",
       "    </tr>\n",
       "    <tr>\n",
       "      <th>4</th>\n",
       "      <td>5</td>\n",
       "      <td>89.238236</td>\n",
       "      <td>9.11456</td>\n",
       "      <td>NaN</td>\n",
       "      <td>NaN</td>\n",
       "      <td>NaN</td>\n",
       "      <td>NaN</td>\n",
       "      <td>NaN</td>\n",
       "      <td>NaN</td>\n",
       "      <td>NaN</td>\n",
       "    </tr>\n",
       "  </tbody>\n",
       "</table>\n",
       "</div>"
      ],
      "text/plain": [
       "   key     Wire 1   Wire 2  Wire 3  Wire 4  Wire 5  Wire 6  Wire 7  Wire 8  \\\n",
       "0    1  60.059998      NaN     NaN     NaN     NaN     NaN     NaN     NaN   \n",
       "1    2  96.052315      NaN     NaN     NaN     NaN     NaN     NaN     NaN   \n",
       "2    3  91.160157      NaN     NaN     NaN     NaN     NaN     NaN     NaN   \n",
       "3    4  89.063515      NaN     NaN     NaN     NaN     NaN     NaN     NaN   \n",
       "4    5  89.238236  9.11456     NaN     NaN     NaN     NaN     NaN     NaN   \n",
       "\n",
       "   Wire 9  \n",
       "0     NaN  \n",
       "1     NaN  \n",
       "2     NaN  \n",
       "3     NaN  \n",
       "4     NaN  "
      ]
     },
     "metadata": {},
     "output_type": "display_data"
    },
    {
     "name": "stdout",
     "output_type": "stream",
     "text": [
      "<class 'pandas.core.frame.DataFrame'>\n",
      "RangeIndex: 3081 entries, 0 to 3080\n",
      "Data columns (total 10 columns):\n",
      " #   Column  Non-Null Count  Dtype  \n",
      "---  ------  --------------  -----  \n",
      " 0   key     3081 non-null   int64  \n",
      " 1   Wire 1  3055 non-null   float64\n",
      " 2   Wire 2  1079 non-null   float64\n",
      " 3   Wire 3  63 non-null     float64\n",
      " 4   Wire 4  14 non-null     float64\n",
      " 5   Wire 5  1 non-null      float64\n",
      " 6   Wire 6  73 non-null     float64\n",
      " 7   Wire 7  11 non-null     float64\n",
      " 8   Wire 8  19 non-null     float64\n",
      " 9   Wire 9  29 non-null     float64\n",
      "dtypes: float64(9), int64(1)\n",
      "memory usage: 240.8 KB\n"
     ]
    },
    {
     "data": {
      "text/plain": [
       "None"
      ]
     },
     "metadata": {},
     "output_type": "display_data"
    },
    {
     "data": {
      "text/html": [
       "<div>\n",
       "<style scoped>\n",
       "    .dataframe tbody tr th:only-of-type {\n",
       "        vertical-align: middle;\n",
       "    }\n",
       "\n",
       "    .dataframe tbody tr th {\n",
       "        vertical-align: top;\n",
       "    }\n",
       "\n",
       "    .dataframe thead th {\n",
       "        text-align: right;\n",
       "    }\n",
       "</style>\n",
       "<table border=\"1\" class=\"dataframe\">\n",
       "  <thead>\n",
       "    <tr style=\"text-align: right;\">\n",
       "      <th></th>\n",
       "      <th>key</th>\n",
       "      <th>Wire 1</th>\n",
       "      <th>Wire 2</th>\n",
       "      <th>Wire 3</th>\n",
       "      <th>Wire 4</th>\n",
       "      <th>Wire 5</th>\n",
       "      <th>Wire 6</th>\n",
       "      <th>Wire 7</th>\n",
       "      <th>Wire 8</th>\n",
       "      <th>Wire 9</th>\n",
       "    </tr>\n",
       "  </thead>\n",
       "  <tbody>\n",
       "    <tr>\n",
       "      <th>count</th>\n",
       "      <td>3081.000000</td>\n",
       "      <td>3055.000000</td>\n",
       "      <td>1079.000000</td>\n",
       "      <td>63.000000</td>\n",
       "      <td>14.000000</td>\n",
       "      <td>1.000</td>\n",
       "      <td>73.000000</td>\n",
       "      <td>11.000000</td>\n",
       "      <td>19.000000</td>\n",
       "      <td>29.000000</td>\n",
       "    </tr>\n",
       "    <tr>\n",
       "      <th>mean</th>\n",
       "      <td>1623.426485</td>\n",
       "      <td>100.895853</td>\n",
       "      <td>50.577323</td>\n",
       "      <td>189.482681</td>\n",
       "      <td>57.442841</td>\n",
       "      <td>15.132</td>\n",
       "      <td>48.016974</td>\n",
       "      <td>10.039007</td>\n",
       "      <td>53.625193</td>\n",
       "      <td>34.155752</td>\n",
       "    </tr>\n",
       "    <tr>\n",
       "      <th>std</th>\n",
       "      <td>932.996726</td>\n",
       "      <td>42.012518</td>\n",
       "      <td>39.320216</td>\n",
       "      <td>99.513444</td>\n",
       "      <td>28.824667</td>\n",
       "      <td>NaN</td>\n",
       "      <td>33.919845</td>\n",
       "      <td>8.610584</td>\n",
       "      <td>16.881728</td>\n",
       "      <td>19.931616</td>\n",
       "    </tr>\n",
       "    <tr>\n",
       "      <th>min</th>\n",
       "      <td>1.000000</td>\n",
       "      <td>1.918800</td>\n",
       "      <td>0.030160</td>\n",
       "      <td>0.144144</td>\n",
       "      <td>24.148801</td>\n",
       "      <td>15.132</td>\n",
       "      <td>0.034320</td>\n",
       "      <td>0.234208</td>\n",
       "      <td>45.076721</td>\n",
       "      <td>4.622800</td>\n",
       "    </tr>\n",
       "    <tr>\n",
       "      <th>25%</th>\n",
       "      <td>823.000000</td>\n",
       "      <td>72.115684</td>\n",
       "      <td>20.193680</td>\n",
       "      <td>95.135044</td>\n",
       "      <td>40.807002</td>\n",
       "      <td>15.132</td>\n",
       "      <td>25.053600</td>\n",
       "      <td>6.762756</td>\n",
       "      <td>46.094879</td>\n",
       "      <td>22.058401</td>\n",
       "    </tr>\n",
       "    <tr>\n",
       "      <th>50%</th>\n",
       "      <td>1619.000000</td>\n",
       "      <td>100.158234</td>\n",
       "      <td>40.142956</td>\n",
       "      <td>235.194977</td>\n",
       "      <td>45.234282</td>\n",
       "      <td>15.132</td>\n",
       "      <td>42.076324</td>\n",
       "      <td>9.017009</td>\n",
       "      <td>46.279999</td>\n",
       "      <td>30.066399</td>\n",
       "    </tr>\n",
       "    <tr>\n",
       "      <th>75%</th>\n",
       "      <td>2434.000000</td>\n",
       "      <td>126.060483</td>\n",
       "      <td>70.227558</td>\n",
       "      <td>276.252014</td>\n",
       "      <td>76.124619</td>\n",
       "      <td>15.132</td>\n",
       "      <td>64.212723</td>\n",
       "      <td>11.886057</td>\n",
       "      <td>48.089603</td>\n",
       "      <td>43.862003</td>\n",
       "    </tr>\n",
       "    <tr>\n",
       "      <th>max</th>\n",
       "      <td>3241.000000</td>\n",
       "      <td>330.314424</td>\n",
       "      <td>282.780152</td>\n",
       "      <td>385.008668</td>\n",
       "      <td>113.231044</td>\n",
       "      <td>15.132</td>\n",
       "      <td>180.454575</td>\n",
       "      <td>32.847674</td>\n",
       "      <td>102.762401</td>\n",
       "      <td>90.053604</td>\n",
       "    </tr>\n",
       "  </tbody>\n",
       "</table>\n",
       "</div>"
      ],
      "text/plain": [
       "               key       Wire 1       Wire 2      Wire 3      Wire 4  Wire 5  \\\n",
       "count  3081.000000  3055.000000  1079.000000   63.000000   14.000000   1.000   \n",
       "mean   1623.426485   100.895853    50.577323  189.482681   57.442841  15.132   \n",
       "std     932.996726    42.012518    39.320216   99.513444   28.824667     NaN   \n",
       "min       1.000000     1.918800     0.030160    0.144144   24.148801  15.132   \n",
       "25%     823.000000    72.115684    20.193680   95.135044   40.807002  15.132   \n",
       "50%    1619.000000   100.158234    40.142956  235.194977   45.234282  15.132   \n",
       "75%    2434.000000   126.060483    70.227558  276.252014   76.124619  15.132   \n",
       "max    3241.000000   330.314424   282.780152  385.008668  113.231044  15.132   \n",
       "\n",
       "           Wire 6     Wire 7      Wire 8     Wire 9  \n",
       "count   73.000000  11.000000   19.000000  29.000000  \n",
       "mean    48.016974  10.039007   53.625193  34.155752  \n",
       "std     33.919845   8.610584   16.881728  19.931616  \n",
       "min      0.034320   0.234208   45.076721   4.622800  \n",
       "25%     25.053600   6.762756   46.094879  22.058401  \n",
       "50%     42.076324   9.017009   46.279999  30.066399  \n",
       "75%     64.212723  11.886057   48.089603  43.862003  \n",
       "max    180.454575  32.847674  102.762401  90.053604  "
      ]
     },
     "metadata": {},
     "output_type": "display_data"
    },
    {
     "name": "stdout",
     "output_type": "stream",
     "text": [
      "DUPLICATES: 0\n"
     ]
    },
    {
     "data": {
      "image/png": "[encoded data removed]",
      "text/plain": [
       "<Figure size 720x720 with 10 Axes>"
      ]
     },
     "metadata": {
      "needs_background": "light"
     },
     "output_type": "display_data"
    }
   ],
   "source": [
    "dataframe_info(data_wire)"
   ]
  },
  {
   "cell_type": "code",
   "execution_count": 24,
   "metadata": {},
   "outputs": [
    {
     "data": {
      "text/html": [
       "<div>\n",
       "<style scoped>\n",
       "    .dataframe tbody tr th:only-of-type {\n",
       "        vertical-align: middle;\n",
       "    }\n",
       "\n",
       "    .dataframe tbody tr th {\n",
       "        vertical-align: top;\n",
       "    }\n",
       "\n",
       "    .dataframe thead th {\n",
       "        text-align: right;\n",
       "    }\n",
       "</style>\n",
       "<table border=\"1\" class=\"dataframe\">\n",
       "  <thead>\n",
       "    <tr style=\"text-align: right;\">\n",
       "      <th></th>\n",
       "      <th>key</th>\n",
       "      <th>Wire 1</th>\n",
       "      <th>Wire 2</th>\n",
       "      <th>Wire 3</th>\n",
       "      <th>Wire 4</th>\n",
       "      <th>Wire 5</th>\n",
       "      <th>Wire 6</th>\n",
       "      <th>Wire 7</th>\n",
       "      <th>Wire 8</th>\n",
       "      <th>Wire 9</th>\n",
       "    </tr>\n",
       "  </thead>\n",
       "  <tbody>\n",
       "    <tr>\n",
       "      <th>0</th>\n",
       "      <td>1</td>\n",
       "      <td>2019-05-03 11:06:19</td>\n",
       "      <td>NaN</td>\n",
       "      <td>NaN</td>\n",
       "      <td>NaN</td>\n",
       "      <td>NaN</td>\n",
       "      <td>NaN</td>\n",
       "      <td>NaN</td>\n",
       "      <td>NaN</td>\n",
       "      <td>NaN</td>\n",
       "    </tr>\n",
       "    <tr>\n",
       "      <th>1</th>\n",
       "      <td>2</td>\n",
       "      <td>2019-05-03 11:36:50</td>\n",
       "      <td>NaN</td>\n",
       "      <td>NaN</td>\n",
       "      <td>NaN</td>\n",
       "      <td>NaN</td>\n",
       "      <td>NaN</td>\n",
       "      <td>NaN</td>\n",
       "      <td>NaN</td>\n",
       "      <td>NaN</td>\n",
       "    </tr>\n",
       "    <tr>\n",
       "      <th>2</th>\n",
       "      <td>3</td>\n",
       "      <td>2019-05-03 12:11:46</td>\n",
       "      <td>NaN</td>\n",
       "      <td>NaN</td>\n",
       "      <td>NaN</td>\n",
       "      <td>NaN</td>\n",
       "      <td>NaN</td>\n",
       "      <td>NaN</td>\n",
       "      <td>NaN</td>\n",
       "      <td>NaN</td>\n",
       "    </tr>\n",
       "    <tr>\n",
       "      <th>3</th>\n",
       "      <td>4</td>\n",
       "      <td>2019-05-03 12:43:22</td>\n",
       "      <td>NaN</td>\n",
       "      <td>NaN</td>\n",
       "      <td>NaN</td>\n",
       "      <td>NaN</td>\n",
       "      <td>NaN</td>\n",
       "      <td>NaN</td>\n",
       "      <td>NaN</td>\n",
       "      <td>NaN</td>\n",
       "    </tr>\n",
       "    <tr>\n",
       "      <th>4</th>\n",
       "      <td>5</td>\n",
       "      <td>2019-05-03 13:20:44</td>\n",
       "      <td>2019-05-03 13:15:34</td>\n",
       "      <td>NaN</td>\n",
       "      <td>NaN</td>\n",
       "      <td>NaN</td>\n",
       "      <td>NaN</td>\n",
       "      <td>NaN</td>\n",
       "      <td>NaN</td>\n",
       "      <td>NaN</td>\n",
       "    </tr>\n",
       "  </tbody>\n",
       "</table>\n",
       "</div>"
      ],
      "text/plain": [
       "   key               Wire 1               Wire 2 Wire 3 Wire 4 Wire 5 Wire 6  \\\n",
       "0    1  2019-05-03 11:06:19                  NaN    NaN    NaN    NaN    NaN   \n",
       "1    2  2019-05-03 11:36:50                  NaN    NaN    NaN    NaN    NaN   \n",
       "2    3  2019-05-03 12:11:46                  NaN    NaN    NaN    NaN    NaN   \n",
       "3    4  2019-05-03 12:43:22                  NaN    NaN    NaN    NaN    NaN   \n",
       "4    5  2019-05-03 13:20:44  2019-05-03 13:15:34    NaN    NaN    NaN    NaN   \n",
       "\n",
       "  Wire 7 Wire 8 Wire 9  \n",
       "0    NaN    NaN    NaN  \n",
       "1    NaN    NaN    NaN  \n",
       "2    NaN    NaN    NaN  \n",
       "3    NaN    NaN    NaN  \n",
       "4    NaN    NaN    NaN  "
      ]
     },
     "metadata": {},
     "output_type": "display_data"
    },
    {
     "name": "stdout",
     "output_type": "stream",
     "text": [
      "<class 'pandas.core.frame.DataFrame'>\n",
      "RangeIndex: 3081 entries, 0 to 3080\n",
      "Data columns (total 10 columns):\n",
      " #   Column  Non-Null Count  Dtype \n",
      "---  ------  --------------  ----- \n",
      " 0   key     3081 non-null   int64 \n",
      " 1   Wire 1  3055 non-null   object\n",
      " 2   Wire 2  1079 non-null   object\n",
      " 3   Wire 3  63 non-null     object\n",
      " 4   Wire 4  14 non-null     object\n",
      " 5   Wire 5  1 non-null      object\n",
      " 6   Wire 6  73 non-null     object\n",
      " 7   Wire 7  11 non-null     object\n",
      " 8   Wire 8  19 non-null     object\n",
      " 9   Wire 9  29 non-null     object\n",
      "dtypes: int64(1), object(9)\n",
      "memory usage: 240.8+ KB\n"
     ]
    },
    {
     "data": {
      "text/plain": [
       "None"
      ]
     },
     "metadata": {},
     "output_type": "display_data"
    },
    {
     "data": {
      "text/html": [
       "<div>\n",
       "<style scoped>\n",
       "    .dataframe tbody tr th:only-of-type {\n",
       "        vertical-align: middle;\n",
       "    }\n",
       "\n",
       "    .dataframe tbody tr th {\n",
       "        vertical-align: top;\n",
       "    }\n",
       "\n",
       "    .dataframe thead th {\n",
       "        text-align: right;\n",
       "    }\n",
       "</style>\n",
       "<table border=\"1\" class=\"dataframe\">\n",
       "  <thead>\n",
       "    <tr style=\"text-align: right;\">\n",
       "      <th></th>\n",
       "      <th>key</th>\n",
       "    </tr>\n",
       "  </thead>\n",
       "  <tbody>\n",
       "    <tr>\n",
       "      <th>count</th>\n",
       "      <td>3081.000000</td>\n",
       "    </tr>\n",
       "    <tr>\n",
       "      <th>mean</th>\n",
       "      <td>1623.426485</td>\n",
       "    </tr>\n",
       "    <tr>\n",
       "      <th>std</th>\n",
       "      <td>932.996726</td>\n",
       "    </tr>\n",
       "    <tr>\n",
       "      <th>min</th>\n",
       "      <td>1.000000</td>\n",
       "    </tr>\n",
       "    <tr>\n",
       "      <th>25%</th>\n",
       "      <td>823.000000</td>\n",
       "    </tr>\n",
       "    <tr>\n",
       "      <th>50%</th>\n",
       "      <td>1619.000000</td>\n",
       "    </tr>\n",
       "    <tr>\n",
       "      <th>75%</th>\n",
       "      <td>2434.000000</td>\n",
       "    </tr>\n",
       "    <tr>\n",
       "      <th>max</th>\n",
       "      <td>3241.000000</td>\n",
       "    </tr>\n",
       "  </tbody>\n",
       "</table>\n",
       "</div>"
      ],
      "text/plain": [
       "               key\n",
       "count  3081.000000\n",
       "mean   1623.426485\n",
       "std     932.996726\n",
       "min       1.000000\n",
       "25%     823.000000\n",
       "50%    1619.000000\n",
       "75%    2434.000000\n",
       "max    3241.000000"
      ]
     },
     "metadata": {},
     "output_type": "display_data"
    },
    {
     "name": "stdout",
     "output_type": "stream",
     "text": [
      "DUPLICATES: 0\n"
     ]
    },
    {
     "data": {
      "image/png": "[encoded data removed]",
      "text/plain": [
       "<Figure size 720x720 with 1 Axes>"
      ]
     },
     "metadata": {
      "needs_background": "light"
     },
     "output_type": "display_data"
    }
   ],
   "source": [
    "dataframe_info(data_wire_time)"
   ]
  },
  {
   "cell_type": "markdown",
   "metadata": {},
   "source": [
    "#### Вывод\n",
    "Данные о подаче проволочных материалов представлены двумя таблицами: с объемом и временем подачи. Одна партия - одна стока с данными. По нескольким партиям нет данных о подаче проволочных материалов. \n",
    "\n",
    "Вопросы:\n",
    "1. Выяснить природу выбросов \n",
    "2. Выяснить причину отсутсвия данных (пропусков)\n",
    "3. Выяснить скорость подачи материала, если она одинаковая, данные о времени подачи необходимо исключить.\n",
    "4. Выяснить, почему по некоторым материалам очень мало данных о подаче, возможно их можно исключить как незначительные факторы для прогноза."
   ]
  },
  {
   "cell_type": "markdown",
   "metadata": {},
   "source": [
    "## Список вопросов\n",
    "Полый список вопросов представлены выше. Перечислю основные типы вопросов.\n",
    "1. Разобраться в природе выбросов, это ошибка или они обусловленных особенностями тех. процесса.\n",
    "2. Выяснить причину отсутствия данных по некоторым партиям и принять решения об исключении этих парти из данных обучения.\n",
    "3. Выяснить какие фактор оказывают незначительное влияние на тех процесс (время подачи материала, объем некототрых материалов), чтобы их исключить.\n",
    "4. Как поступать с данными, которые присутствуют в нескольких экземплярых для партии (брать сумму показатель, мин/макс или среднее значение)\n",
    "5. Разобратьтся с особенностями тех процесса: Мощность, замер температуры, скорость подачи материала.\n",
    "6. Правильно ли мы определили целевой признак - температура при окончании процесса."
   ]
  },
  {
   "cell_type": "markdown",
   "metadata": {},
   "source": [
    "## План решения задачи\n",
    "\n",
    "После того, как получим ответы на все вопросы.\n",
    "\n",
    "1. Исключить лишние данные\n",
    "- выбросы\n",
    "- партии без данных\n",
    "- факторы, которые не оказывают или оказывают слабое влияние на финальную температуру\n",
    "\n",
    "2. Обработка данных\n",
    "- переименовать столбцы в соответствтии с правилами наименования\n",
    "- удалить выбросы\n",
    "- удалить партии без данных \n",
    "- агрегировать данные по номеру партии. Способ агрегации выбрать после ответов на вопросы.\n",
    "- соединить все данные в одну таблицу\n",
    "\n",
    "3. Обучение модели\n",
    "Взять несколько моделей регрессис, обучить их на трейн данных с кроссвалидацией и перебором метапараметров.\n",
    "\n"
   ]
  },
  {
   "cell_type": "markdown",
   "metadata": {},
   "source": [
    "## ЭТАП 2. Обработка данных"
   ]
  },
  {
   "cell_type": "markdown",
   "metadata": {},
   "source": [
    "### Данные электродов"
   ]
  },
  {
   "cell_type": "markdown",
   "metadata": {},
   "source": [
    "Таблицу с нагревом электродов преобразуем следующим образом:\n",
    "1. Добавим колонку с полной мощностью, рассчитанной по формуле\n",
    "$$\n",
    "  S = \\sqrt{(P^2 + Q^2)}\n",
    "$$\n",
    "Где P - Активная мощность, а Q - реактивная мощность"
   ]
  },
  {
   "cell_type": "code",
   "execution_count": 25,
   "metadata": {},
   "outputs": [],
   "source": [
    "arc = data_arc[(data_arc['Активная мощность'] > 0) & (data_arc['Реактивная мощность'] > 0)]\n",
    "arc['full_power'] = np.sqrt(np.power(arc['Активная мощность'], 2) + np.power(arc['Реактивная мощность'], 2))\n",
    "#data_arc[\"t_arc\"] = data_arc['Конец нагрева дугой'] - data_arc['Начало нагрева дугой']\n",
    "#data_arc[\"t_arc\"] = data_arc[\"t_arc\"].dt.seconds\n"
   ]
  },
  {
   "cell_type": "markdown",
   "metadata": {},
   "source": [
    "Так как точность физических расчетов для текущей задачи не важна, то допустим, что параметр характеризующий затраченную энергию эквивалентен сумме мощностей всех измерений. Поэтому следующий шаг:\n",
    "2. Удалим остальные колонки, просуммируем мощность измерений по партии (key)"
   ]
  },
  {
   "cell_type": "code",
   "execution_count": 26,
   "metadata": {},
   "outputs": [
    {
     "data": {
      "text/html": [
       "<div>\n",
       "<style scoped>\n",
       "    .dataframe tbody tr th:only-of-type {\n",
       "        vertical-align: middle;\n",
       "    }\n",
       "\n",
       "    .dataframe tbody tr th {\n",
       "        vertical-align: top;\n",
       "    }\n",
       "\n",
       "    .dataframe thead th {\n",
       "        text-align: right;\n",
       "    }\n",
       "</style>\n",
       "<table border=\"1\" class=\"dataframe\">\n",
       "  <thead>\n",
       "    <tr style=\"text-align: right;\">\n",
       "      <th></th>\n",
       "      <th>full_power</th>\n",
       "      <th>iterations</th>\n",
       "    </tr>\n",
       "    <tr>\n",
       "      <th>key</th>\n",
       "      <th></th>\n",
       "      <th></th>\n",
       "    </tr>\n",
       "  </thead>\n",
       "  <tbody>\n",
       "    <tr>\n",
       "      <th>1</th>\n",
       "      <td>3.718736</td>\n",
       "      <td>5</td>\n",
       "    </tr>\n",
       "    <tr>\n",
       "      <th>2</th>\n",
       "      <td>2.588349</td>\n",
       "      <td>4</td>\n",
       "    </tr>\n",
       "    <tr>\n",
       "      <th>3</th>\n",
       "      <td>5.019223</td>\n",
       "      <td>5</td>\n",
       "    </tr>\n",
       "    <tr>\n",
       "      <th>4</th>\n",
       "      <td>3.400038</td>\n",
       "      <td>4</td>\n",
       "    </tr>\n",
       "    <tr>\n",
       "      <th>5</th>\n",
       "      <td>2.816980</td>\n",
       "      <td>4</td>\n",
       "    </tr>\n",
       "  </tbody>\n",
       "</table>\n",
       "</div>"
      ],
      "text/plain": [
       "     full_power  iterations\n",
       "key                        \n",
       "1      3.718736           5\n",
       "2      2.588349           4\n",
       "3      5.019223           5\n",
       "4      3.400038           4\n",
       "5      2.816980           4"
      ]
     },
     "metadata": {},
     "output_type": "display_data"
    },
    {
     "data": {
      "text/html": [
       "<div>\n",
       "<style scoped>\n",
       "    .dataframe tbody tr th:only-of-type {\n",
       "        vertical-align: middle;\n",
       "    }\n",
       "\n",
       "    .dataframe tbody tr th {\n",
       "        vertical-align: top;\n",
       "    }\n",
       "\n",
       "    .dataframe thead th {\n",
       "        text-align: right;\n",
       "    }\n",
       "</style>\n",
       "<table border=\"1\" class=\"dataframe\">\n",
       "  <thead>\n",
       "    <tr style=\"text-align: right;\">\n",
       "      <th></th>\n",
       "      <th>full_power</th>\n",
       "      <th>iterations</th>\n",
       "    </tr>\n",
       "    <tr>\n",
       "      <th>key</th>\n",
       "      <th></th>\n",
       "      <th></th>\n",
       "    </tr>\n",
       "  </thead>\n",
       "  <tbody>\n",
       "  </tbody>\n",
       "</table>\n",
       "</div>"
      ],
      "text/plain": [
       "Empty DataFrame\n",
       "Columns: [full_power, iterations]\n",
       "Index: []"
      ]
     },
     "metadata": {},
     "output_type": "display_data"
    }
   ],
   "source": [
    "arc = arc.drop(['Начало нагрева дугой', 'Конец нагрева дугой', 'Активная мощность', 'Реактивная мощность'], axis=1)\n",
    "arc = arc.groupby(by='key', as_index=True).agg({'full_power' : ['sum','count']}) \n",
    "arc.columns = ['full_power', 'iterations']\n",
    "display(arc.head())\n",
    "display(arc[arc['full_power']<0.1]) # проверим, нет ли околонулевых значений\n"
   ]
  },
  {
   "cell_type": "markdown",
   "metadata": {},
   "source": [
    "### Подача сыпучих\n",
    "1. Заменяем NaN нулями\n",
    "2. Убираем выбросы, которые находятся за IQR *3"
   ]
  },
  {
   "cell_type": "code",
   "execution_count": 27,
   "metadata": {},
   "outputs": [
    {
     "name": "stdout",
     "output_type": "stream",
     "text": [
      "(3129, 15)\n"
     ]
    },
    {
     "data": {
      "text/html": [
       "<div>\n",
       "<style scoped>\n",
       "    .dataframe tbody tr th:only-of-type {\n",
       "        vertical-align: middle;\n",
       "    }\n",
       "\n",
       "    .dataframe tbody tr th {\n",
       "        vertical-align: top;\n",
       "    }\n",
       "\n",
       "    .dataframe thead th {\n",
       "        text-align: right;\n",
       "    }\n",
       "</style>\n",
       "<table border=\"1\" class=\"dataframe\">\n",
       "  <thead>\n",
       "    <tr style=\"text-align: right;\">\n",
       "      <th></th>\n",
       "      <th>Bulk 1</th>\n",
       "      <th>Bulk 2</th>\n",
       "      <th>Bulk 3</th>\n",
       "      <th>Bulk 4</th>\n",
       "      <th>Bulk 5</th>\n",
       "      <th>Bulk 6</th>\n",
       "      <th>Bulk 7</th>\n",
       "      <th>Bulk 8</th>\n",
       "      <th>Bulk 9</th>\n",
       "      <th>Bulk 10</th>\n",
       "      <th>Bulk 11</th>\n",
       "      <th>Bulk 12</th>\n",
       "      <th>Bulk 13</th>\n",
       "      <th>Bulk 14</th>\n",
       "      <th>Bulk 15</th>\n",
       "    </tr>\n",
       "    <tr>\n",
       "      <th>key</th>\n",
       "      <th></th>\n",
       "      <th></th>\n",
       "      <th></th>\n",
       "      <th></th>\n",
       "      <th></th>\n",
       "      <th></th>\n",
       "      <th></th>\n",
       "      <th></th>\n",
       "      <th></th>\n",
       "      <th></th>\n",
       "      <th></th>\n",
       "      <th></th>\n",
       "      <th></th>\n",
       "      <th></th>\n",
       "      <th></th>\n",
       "    </tr>\n",
       "  </thead>\n",
       "  <tbody>\n",
       "    <tr>\n",
       "      <th>1</th>\n",
       "      <td>0.0</td>\n",
       "      <td>0.0</td>\n",
       "      <td>0.0</td>\n",
       "      <td>43.0</td>\n",
       "      <td>0.0</td>\n",
       "      <td>0.0</td>\n",
       "      <td>0.0</td>\n",
       "      <td>0.0</td>\n",
       "      <td>0.0</td>\n",
       "      <td>0.0</td>\n",
       "      <td>0.0</td>\n",
       "      <td>206.0</td>\n",
       "      <td>0.0</td>\n",
       "      <td>150.0</td>\n",
       "      <td>154.0</td>\n",
       "    </tr>\n",
       "    <tr>\n",
       "      <th>2</th>\n",
       "      <td>0.0</td>\n",
       "      <td>0.0</td>\n",
       "      <td>0.0</td>\n",
       "      <td>73.0</td>\n",
       "      <td>0.0</td>\n",
       "      <td>0.0</td>\n",
       "      <td>0.0</td>\n",
       "      <td>0.0</td>\n",
       "      <td>0.0</td>\n",
       "      <td>0.0</td>\n",
       "      <td>0.0</td>\n",
       "      <td>206.0</td>\n",
       "      <td>0.0</td>\n",
       "      <td>149.0</td>\n",
       "      <td>154.0</td>\n",
       "    </tr>\n",
       "    <tr>\n",
       "      <th>3</th>\n",
       "      <td>0.0</td>\n",
       "      <td>0.0</td>\n",
       "      <td>0.0</td>\n",
       "      <td>34.0</td>\n",
       "      <td>0.0</td>\n",
       "      <td>0.0</td>\n",
       "      <td>0.0</td>\n",
       "      <td>0.0</td>\n",
       "      <td>0.0</td>\n",
       "      <td>0.0</td>\n",
       "      <td>0.0</td>\n",
       "      <td>205.0</td>\n",
       "      <td>0.0</td>\n",
       "      <td>152.0</td>\n",
       "      <td>153.0</td>\n",
       "    </tr>\n",
       "    <tr>\n",
       "      <th>4</th>\n",
       "      <td>0.0</td>\n",
       "      <td>0.0</td>\n",
       "      <td>0.0</td>\n",
       "      <td>81.0</td>\n",
       "      <td>0.0</td>\n",
       "      <td>0.0</td>\n",
       "      <td>0.0</td>\n",
       "      <td>0.0</td>\n",
       "      <td>0.0</td>\n",
       "      <td>0.0</td>\n",
       "      <td>0.0</td>\n",
       "      <td>207.0</td>\n",
       "      <td>0.0</td>\n",
       "      <td>153.0</td>\n",
       "      <td>154.0</td>\n",
       "    </tr>\n",
       "    <tr>\n",
       "      <th>5</th>\n",
       "      <td>0.0</td>\n",
       "      <td>0.0</td>\n",
       "      <td>0.0</td>\n",
       "      <td>78.0</td>\n",
       "      <td>0.0</td>\n",
       "      <td>0.0</td>\n",
       "      <td>0.0</td>\n",
       "      <td>0.0</td>\n",
       "      <td>0.0</td>\n",
       "      <td>0.0</td>\n",
       "      <td>0.0</td>\n",
       "      <td>203.0</td>\n",
       "      <td>0.0</td>\n",
       "      <td>151.0</td>\n",
       "      <td>152.0</td>\n",
       "    </tr>\n",
       "  </tbody>\n",
       "</table>\n",
       "</div>"
      ],
      "text/plain": [
       "     Bulk 1  Bulk 2  Bulk 3  Bulk 4  Bulk 5  Bulk 6  Bulk 7  Bulk 8  Bulk 9  \\\n",
       "key                                                                           \n",
       "1       0.0     0.0     0.0    43.0     0.0     0.0     0.0     0.0     0.0   \n",
       "2       0.0     0.0     0.0    73.0     0.0     0.0     0.0     0.0     0.0   \n",
       "3       0.0     0.0     0.0    34.0     0.0     0.0     0.0     0.0     0.0   \n",
       "4       0.0     0.0     0.0    81.0     0.0     0.0     0.0     0.0     0.0   \n",
       "5       0.0     0.0     0.0    78.0     0.0     0.0     0.0     0.0     0.0   \n",
       "\n",
       "     Bulk 10  Bulk 11  Bulk 12  Bulk 13  Bulk 14  Bulk 15  \n",
       "key                                                        \n",
       "1        0.0      0.0    206.0      0.0    150.0    154.0  \n",
       "2        0.0      0.0    206.0      0.0    149.0    154.0  \n",
       "3        0.0      0.0    205.0      0.0    152.0    153.0  \n",
       "4        0.0      0.0    207.0      0.0    153.0    154.0  \n",
       "5        0.0      0.0    203.0      0.0    151.0    152.0  "
      ]
     },
     "execution_count": 27,
     "metadata": {},
     "output_type": "execute_result"
    }
   ],
   "source": [
    "bulk = data_bulk.fillna(0)\n",
    "bulk = bulk.set_index('key',drop=True)\n",
    "print(bulk.shape)\n",
    "bulk.head()"
   ]
  },
  {
   "cell_type": "markdown",
   "metadata": {},
   "source": [
    "На этапе удаления выбросов, выбрасывались почти все партии, в процессе которых участвовали редкие bulk. Принял решение попробовать обучить с выбросами, и вернуться к этому если качество обучения будет неудовлетворительным"
   ]
  },
  {
   "cell_type": "code",
   "execution_count": 28,
   "metadata": {},
   "outputs": [],
   "source": [
    "#for col in bulk.columns:\n",
    "#   bulk = delete_emissions(bulk, col, min=0)"
   ]
  },
  {
   "cell_type": "markdown",
   "metadata": {},
   "source": [
    "### Продувка сплава\n",
    "1. Удаляем выбросы"
   ]
  },
  {
   "cell_type": "code",
   "execution_count": 29,
   "metadata": {},
   "outputs": [
    {
     "name": "stdout",
     "output_type": "stream",
     "text": [
      "(3237, 1)\n"
     ]
    }
   ],
   "source": [
    "gas = data_gas.set_index('key',drop=True)\n",
    "gas.columns = ['gas']\n",
    "gas = delete_emissions(gas, 'gas', min=0, max=60) \n",
    "print(gas.shape)"
   ]
  },
  {
   "cell_type": "markdown",
   "metadata": {},
   "source": [
    "### Температура сплава\n",
    "1. Удалить выбросы, в том числе те строки, у которых финальная температура ниже температуры плавления сплава = 1450\n",
    "2. Агрегируем данные по партии, берём начальную температуру из первого замера и финальную из последнего"
   ]
  },
  {
   "cell_type": "code",
   "execution_count": 30,
   "metadata": {},
   "outputs": [
    {
     "name": "stdout",
     "output_type": "stream",
     "text": [
      "(3216, 2)\n"
     ]
    },
    {
     "data": {
      "text/html": [
       "<div>\n",
       "<style scoped>\n",
       "    .dataframe tbody tr th:only-of-type {\n",
       "        vertical-align: middle;\n",
       "    }\n",
       "\n",
       "    .dataframe tbody tr th {\n",
       "        vertical-align: top;\n",
       "    }\n",
       "\n",
       "    .dataframe thead th {\n",
       "        text-align: right;\n",
       "    }\n",
       "</style>\n",
       "<table border=\"1\" class=\"dataframe\">\n",
       "  <thead>\n",
       "    <tr style=\"text-align: right;\">\n",
       "      <th></th>\n",
       "      <th>t0</th>\n",
       "      <th>t1</th>\n",
       "    </tr>\n",
       "    <tr>\n",
       "      <th>key</th>\n",
       "      <th></th>\n",
       "      <th></th>\n",
       "    </tr>\n",
       "  </thead>\n",
       "  <tbody>\n",
       "    <tr>\n",
       "      <th>1</th>\n",
       "      <td>1571.0</td>\n",
       "      <td>1613.0</td>\n",
       "    </tr>\n",
       "    <tr>\n",
       "      <th>2</th>\n",
       "      <td>1581.0</td>\n",
       "      <td>1602.0</td>\n",
       "    </tr>\n",
       "    <tr>\n",
       "      <th>3</th>\n",
       "      <td>1596.0</td>\n",
       "      <td>1599.0</td>\n",
       "    </tr>\n",
       "    <tr>\n",
       "      <th>4</th>\n",
       "      <td>1601.0</td>\n",
       "      <td>1625.0</td>\n",
       "    </tr>\n",
       "    <tr>\n",
       "      <th>5</th>\n",
       "      <td>1576.0</td>\n",
       "      <td>1602.0</td>\n",
       "    </tr>\n",
       "  </tbody>\n",
       "</table>\n",
       "</div>"
      ],
      "text/plain": [
       "         t0      t1\n",
       "key                \n",
       "1    1571.0  1613.0\n",
       "2    1581.0  1602.0\n",
       "3    1596.0  1599.0\n",
       "4    1601.0  1625.0\n",
       "5    1576.0  1602.0"
      ]
     },
     "execution_count": 30,
     "metadata": {},
     "output_type": "execute_result"
    }
   ],
   "source": [
    "temp = data_temp.fillna(0)\n",
    "temp = temp.groupby(by='key', as_index=True).agg({'Температура' : ['first','last']})\n",
    "temp.columns = ['t0', 't1']\n",
    "print(temp.shape)\n",
    "temp.head()"
   ]
  },
  {
   "cell_type": "code",
   "execution_count": 31,
   "metadata": {},
   "outputs": [
    {
     "name": "stdout",
     "output_type": "stream",
     "text": [
      "(2451, 2)\n"
     ]
    }
   ],
   "source": [
    "temp = delete_emissions(temp, 't0', min=1450)\n",
    "temp = delete_emissions(temp, 't1', min=1450)\n",
    "print(temp.shape)"
   ]
  },
  {
   "cell_type": "code",
   "execution_count": 32,
   "metadata": {},
   "outputs": [
    {
     "data": {
      "text/html": [
       "<div>\n",
       "<style scoped>\n",
       "    .dataframe tbody tr th:only-of-type {\n",
       "        vertical-align: middle;\n",
       "    }\n",
       "\n",
       "    .dataframe tbody tr th {\n",
       "        vertical-align: top;\n",
       "    }\n",
       "\n",
       "    .dataframe thead th {\n",
       "        text-align: right;\n",
       "    }\n",
       "</style>\n",
       "<table border=\"1\" class=\"dataframe\">\n",
       "  <thead>\n",
       "    <tr style=\"text-align: right;\">\n",
       "      <th></th>\n",
       "      <th>t0</th>\n",
       "      <th>t1</th>\n",
       "    </tr>\n",
       "    <tr>\n",
       "      <th>key</th>\n",
       "      <th></th>\n",
       "      <th></th>\n",
       "    </tr>\n",
       "  </thead>\n",
       "  <tbody>\n",
       "    <tr>\n",
       "      <th>1</th>\n",
       "      <td>1571.0</td>\n",
       "      <td>1613.0</td>\n",
       "    </tr>\n",
       "    <tr>\n",
       "      <th>2</th>\n",
       "      <td>1581.0</td>\n",
       "      <td>1602.0</td>\n",
       "    </tr>\n",
       "    <tr>\n",
       "      <th>3</th>\n",
       "      <td>1596.0</td>\n",
       "      <td>1599.0</td>\n",
       "    </tr>\n",
       "    <tr>\n",
       "      <th>4</th>\n",
       "      <td>1601.0</td>\n",
       "      <td>1625.0</td>\n",
       "    </tr>\n",
       "    <tr>\n",
       "      <th>5</th>\n",
       "      <td>1576.0</td>\n",
       "      <td>1602.0</td>\n",
       "    </tr>\n",
       "    <tr>\n",
       "      <th>...</th>\n",
       "      <td>...</td>\n",
       "      <td>...</td>\n",
       "    </tr>\n",
       "    <tr>\n",
       "      <th>2495</th>\n",
       "      <td>1570.0</td>\n",
       "      <td>1591.0</td>\n",
       "    </tr>\n",
       "    <tr>\n",
       "      <th>2496</th>\n",
       "      <td>1554.0</td>\n",
       "      <td>1591.0</td>\n",
       "    </tr>\n",
       "    <tr>\n",
       "      <th>2497</th>\n",
       "      <td>1571.0</td>\n",
       "      <td>1589.0</td>\n",
       "    </tr>\n",
       "    <tr>\n",
       "      <th>2498</th>\n",
       "      <td>1591.0</td>\n",
       "      <td>1594.0</td>\n",
       "    </tr>\n",
       "    <tr>\n",
       "      <th>2499</th>\n",
       "      <td>1569.0</td>\n",
       "      <td>1603.0</td>\n",
       "    </tr>\n",
       "  </tbody>\n",
       "</table>\n",
       "<p>2451 rows × 2 columns</p>\n",
       "</div>"
      ],
      "text/plain": [
       "          t0      t1\n",
       "key                 \n",
       "1     1571.0  1613.0\n",
       "2     1581.0  1602.0\n",
       "3     1596.0  1599.0\n",
       "4     1601.0  1625.0\n",
       "5     1576.0  1602.0\n",
       "...      ...     ...\n",
       "2495  1570.0  1591.0\n",
       "2496  1554.0  1591.0\n",
       "2497  1571.0  1589.0\n",
       "2498  1591.0  1594.0\n",
       "2499  1569.0  1603.0\n",
       "\n",
       "[2451 rows x 2 columns]"
      ]
     },
     "execution_count": 32,
     "metadata": {},
     "output_type": "execute_result"
    }
   ],
   "source": [
    "temp"
   ]
  },
  {
   "cell_type": "markdown",
   "metadata": {},
   "source": [
    "### Подача провода"
   ]
  },
  {
   "cell_type": "markdown",
   "metadata": {},
   "source": [
    "1. удаляем выбросы"
   ]
  },
  {
   "cell_type": "code",
   "execution_count": 33,
   "metadata": {},
   "outputs": [
    {
     "data": {
      "text/html": [
       "<div>\n",
       "<style scoped>\n",
       "    .dataframe tbody tr th:only-of-type {\n",
       "        vertical-align: middle;\n",
       "    }\n",
       "\n",
       "    .dataframe tbody tr th {\n",
       "        vertical-align: top;\n",
       "    }\n",
       "\n",
       "    .dataframe thead th {\n",
       "        text-align: right;\n",
       "    }\n",
       "</style>\n",
       "<table border=\"1\" class=\"dataframe\">\n",
       "  <thead>\n",
       "    <tr style=\"text-align: right;\">\n",
       "      <th></th>\n",
       "      <th>Wire 1</th>\n",
       "      <th>Wire 2</th>\n",
       "      <th>Wire 3</th>\n",
       "      <th>Wire 4</th>\n",
       "      <th>Wire 5</th>\n",
       "      <th>Wire 6</th>\n",
       "      <th>Wire 7</th>\n",
       "      <th>Wire 8</th>\n",
       "      <th>Wire 9</th>\n",
       "    </tr>\n",
       "    <tr>\n",
       "      <th>key</th>\n",
       "      <th></th>\n",
       "      <th></th>\n",
       "      <th></th>\n",
       "      <th></th>\n",
       "      <th></th>\n",
       "      <th></th>\n",
       "      <th></th>\n",
       "      <th></th>\n",
       "      <th></th>\n",
       "    </tr>\n",
       "  </thead>\n",
       "  <tbody>\n",
       "    <tr>\n",
       "      <th>1</th>\n",
       "      <td>60.059998</td>\n",
       "      <td>0.00000</td>\n",
       "      <td>0.0</td>\n",
       "      <td>0.0</td>\n",
       "      <td>0.0</td>\n",
       "      <td>0.0</td>\n",
       "      <td>0.0</td>\n",
       "      <td>0.0</td>\n",
       "      <td>0.0</td>\n",
       "    </tr>\n",
       "    <tr>\n",
       "      <th>2</th>\n",
       "      <td>96.052315</td>\n",
       "      <td>0.00000</td>\n",
       "      <td>0.0</td>\n",
       "      <td>0.0</td>\n",
       "      <td>0.0</td>\n",
       "      <td>0.0</td>\n",
       "      <td>0.0</td>\n",
       "      <td>0.0</td>\n",
       "      <td>0.0</td>\n",
       "    </tr>\n",
       "    <tr>\n",
       "      <th>3</th>\n",
       "      <td>91.160157</td>\n",
       "      <td>0.00000</td>\n",
       "      <td>0.0</td>\n",
       "      <td>0.0</td>\n",
       "      <td>0.0</td>\n",
       "      <td>0.0</td>\n",
       "      <td>0.0</td>\n",
       "      <td>0.0</td>\n",
       "      <td>0.0</td>\n",
       "    </tr>\n",
       "    <tr>\n",
       "      <th>4</th>\n",
       "      <td>89.063515</td>\n",
       "      <td>0.00000</td>\n",
       "      <td>0.0</td>\n",
       "      <td>0.0</td>\n",
       "      <td>0.0</td>\n",
       "      <td>0.0</td>\n",
       "      <td>0.0</td>\n",
       "      <td>0.0</td>\n",
       "      <td>0.0</td>\n",
       "    </tr>\n",
       "    <tr>\n",
       "      <th>5</th>\n",
       "      <td>89.238236</td>\n",
       "      <td>9.11456</td>\n",
       "      <td>0.0</td>\n",
       "      <td>0.0</td>\n",
       "      <td>0.0</td>\n",
       "      <td>0.0</td>\n",
       "      <td>0.0</td>\n",
       "      <td>0.0</td>\n",
       "      <td>0.0</td>\n",
       "    </tr>\n",
       "  </tbody>\n",
       "</table>\n",
       "</div>"
      ],
      "text/plain": [
       "        Wire 1   Wire 2  Wire 3  Wire 4  Wire 5  Wire 6  Wire 7  Wire 8  \\\n",
       "key                                                                       \n",
       "1    60.059998  0.00000     0.0     0.0     0.0     0.0     0.0     0.0   \n",
       "2    96.052315  0.00000     0.0     0.0     0.0     0.0     0.0     0.0   \n",
       "3    91.160157  0.00000     0.0     0.0     0.0     0.0     0.0     0.0   \n",
       "4    89.063515  0.00000     0.0     0.0     0.0     0.0     0.0     0.0   \n",
       "5    89.238236  9.11456     0.0     0.0     0.0     0.0     0.0     0.0   \n",
       "\n",
       "     Wire 9  \n",
       "key          \n",
       "1       0.0  \n",
       "2       0.0  \n",
       "3       0.0  \n",
       "4       0.0  \n",
       "5       0.0  "
      ]
     },
     "execution_count": 33,
     "metadata": {},
     "output_type": "execute_result"
    }
   ],
   "source": [
    "wire = data_wire.fillna(0)\n",
    "wire = wire.set_index('key', drop=True)\n",
    "wire.head()"
   ]
  },
  {
   "cell_type": "markdown",
   "metadata": {},
   "source": [
    "### Объединяем таблицы\n",
    "Объединяем таблицы в одну, использая внутреннее соединение, так как нам не нужны партии, по которым отсутствуют некоторые данные"
   ]
  },
  {
   "cell_type": "code",
   "execution_count": 34,
   "metadata": {},
   "outputs": [
    {
     "name": "stdout",
     "output_type": "stream",
     "text": [
      "(2323, 29)\n",
      "Index(['full_power', 'iterations', 'Bulk 1', 'Bulk 2', 'Bulk 3', 'Bulk 4',\n",
      "       'Bulk 5', 'Bulk 6', 'Bulk 7', 'Bulk 8', 'Bulk 9', 'Bulk 10', 'Bulk 11',\n",
      "       'Bulk 12', 'Bulk 13', 'Bulk 14', 'Bulk 15', 'gas', 't0', 't1', 'Wire 1',\n",
      "       'Wire 2', 'Wire 3', 'Wire 4', 'Wire 5', 'Wire 6', 'Wire 7', 'Wire 8',\n",
      "       'Wire 9'],\n",
      "      dtype='object')\n"
     ]
    },
    {
     "data": {
      "text/html": [
       "<div>\n",
       "<style scoped>\n",
       "    .dataframe tbody tr th:only-of-type {\n",
       "        vertical-align: middle;\n",
       "    }\n",
       "\n",
       "    .dataframe tbody tr th {\n",
       "        vertical-align: top;\n",
       "    }\n",
       "\n",
       "    .dataframe thead th {\n",
       "        text-align: right;\n",
       "    }\n",
       "</style>\n",
       "<table border=\"1\" class=\"dataframe\">\n",
       "  <thead>\n",
       "    <tr style=\"text-align: right;\">\n",
       "      <th></th>\n",
       "      <th>full_power</th>\n",
       "      <th>iterations</th>\n",
       "      <th>Bulk 1</th>\n",
       "      <th>Bulk 2</th>\n",
       "      <th>Bulk 3</th>\n",
       "      <th>Bulk 4</th>\n",
       "      <th>Bulk 5</th>\n",
       "      <th>Bulk 6</th>\n",
       "      <th>Bulk 7</th>\n",
       "      <th>Bulk 8</th>\n",
       "      <th>...</th>\n",
       "      <th>t1</th>\n",
       "      <th>Wire 1</th>\n",
       "      <th>Wire 2</th>\n",
       "      <th>Wire 3</th>\n",
       "      <th>Wire 4</th>\n",
       "      <th>Wire 5</th>\n",
       "      <th>Wire 6</th>\n",
       "      <th>Wire 7</th>\n",
       "      <th>Wire 8</th>\n",
       "      <th>Wire 9</th>\n",
       "    </tr>\n",
       "    <tr>\n",
       "      <th>key</th>\n",
       "      <th></th>\n",
       "      <th></th>\n",
       "      <th></th>\n",
       "      <th></th>\n",
       "      <th></th>\n",
       "      <th></th>\n",
       "      <th></th>\n",
       "      <th></th>\n",
       "      <th></th>\n",
       "      <th></th>\n",
       "      <th></th>\n",
       "      <th></th>\n",
       "      <th></th>\n",
       "      <th></th>\n",
       "      <th></th>\n",
       "      <th></th>\n",
       "      <th></th>\n",
       "      <th></th>\n",
       "      <th></th>\n",
       "      <th></th>\n",
       "      <th></th>\n",
       "    </tr>\n",
       "  </thead>\n",
       "  <tbody>\n",
       "    <tr>\n",
       "      <th>1</th>\n",
       "      <td>3.718736</td>\n",
       "      <td>5</td>\n",
       "      <td>0.0</td>\n",
       "      <td>0.0</td>\n",
       "      <td>0.0</td>\n",
       "      <td>43.0</td>\n",
       "      <td>0.0</td>\n",
       "      <td>0.0</td>\n",
       "      <td>0.0</td>\n",
       "      <td>0.0</td>\n",
       "      <td>...</td>\n",
       "      <td>1613.0</td>\n",
       "      <td>60.059998</td>\n",
       "      <td>0.00000</td>\n",
       "      <td>0.0</td>\n",
       "      <td>0.0</td>\n",
       "      <td>0.0</td>\n",
       "      <td>0.0</td>\n",
       "      <td>0.0</td>\n",
       "      <td>0.0</td>\n",
       "      <td>0.0</td>\n",
       "    </tr>\n",
       "    <tr>\n",
       "      <th>2</th>\n",
       "      <td>2.588349</td>\n",
       "      <td>4</td>\n",
       "      <td>0.0</td>\n",
       "      <td>0.0</td>\n",
       "      <td>0.0</td>\n",
       "      <td>73.0</td>\n",
       "      <td>0.0</td>\n",
       "      <td>0.0</td>\n",
       "      <td>0.0</td>\n",
       "      <td>0.0</td>\n",
       "      <td>...</td>\n",
       "      <td>1602.0</td>\n",
       "      <td>96.052315</td>\n",
       "      <td>0.00000</td>\n",
       "      <td>0.0</td>\n",
       "      <td>0.0</td>\n",
       "      <td>0.0</td>\n",
       "      <td>0.0</td>\n",
       "      <td>0.0</td>\n",
       "      <td>0.0</td>\n",
       "      <td>0.0</td>\n",
       "    </tr>\n",
       "    <tr>\n",
       "      <th>3</th>\n",
       "      <td>5.019223</td>\n",
       "      <td>5</td>\n",
       "      <td>0.0</td>\n",
       "      <td>0.0</td>\n",
       "      <td>0.0</td>\n",
       "      <td>34.0</td>\n",
       "      <td>0.0</td>\n",
       "      <td>0.0</td>\n",
       "      <td>0.0</td>\n",
       "      <td>0.0</td>\n",
       "      <td>...</td>\n",
       "      <td>1599.0</td>\n",
       "      <td>91.160157</td>\n",
       "      <td>0.00000</td>\n",
       "      <td>0.0</td>\n",
       "      <td>0.0</td>\n",
       "      <td>0.0</td>\n",
       "      <td>0.0</td>\n",
       "      <td>0.0</td>\n",
       "      <td>0.0</td>\n",
       "      <td>0.0</td>\n",
       "    </tr>\n",
       "    <tr>\n",
       "      <th>4</th>\n",
       "      <td>3.400038</td>\n",
       "      <td>4</td>\n",
       "      <td>0.0</td>\n",
       "      <td>0.0</td>\n",
       "      <td>0.0</td>\n",
       "      <td>81.0</td>\n",
       "      <td>0.0</td>\n",
       "      <td>0.0</td>\n",
       "      <td>0.0</td>\n",
       "      <td>0.0</td>\n",
       "      <td>...</td>\n",
       "      <td>1625.0</td>\n",
       "      <td>89.063515</td>\n",
       "      <td>0.00000</td>\n",
       "      <td>0.0</td>\n",
       "      <td>0.0</td>\n",
       "      <td>0.0</td>\n",
       "      <td>0.0</td>\n",
       "      <td>0.0</td>\n",
       "      <td>0.0</td>\n",
       "      <td>0.0</td>\n",
       "    </tr>\n",
       "    <tr>\n",
       "      <th>5</th>\n",
       "      <td>2.816980</td>\n",
       "      <td>4</td>\n",
       "      <td>0.0</td>\n",
       "      <td>0.0</td>\n",
       "      <td>0.0</td>\n",
       "      <td>78.0</td>\n",
       "      <td>0.0</td>\n",
       "      <td>0.0</td>\n",
       "      <td>0.0</td>\n",
       "      <td>0.0</td>\n",
       "      <td>...</td>\n",
       "      <td>1602.0</td>\n",
       "      <td>89.238236</td>\n",
       "      <td>9.11456</td>\n",
       "      <td>0.0</td>\n",
       "      <td>0.0</td>\n",
       "      <td>0.0</td>\n",
       "      <td>0.0</td>\n",
       "      <td>0.0</td>\n",
       "      <td>0.0</td>\n",
       "      <td>0.0</td>\n",
       "    </tr>\n",
       "  </tbody>\n",
       "</table>\n",
       "<p>5 rows × 29 columns</p>\n",
       "</div>"
      ],
      "text/plain": [
       "     full_power  iterations  Bulk 1  Bulk 2  Bulk 3  Bulk 4  Bulk 5  Bulk 6  \\\n",
       "key                                                                           \n",
       "1      3.718736           5     0.0     0.0     0.0    43.0     0.0     0.0   \n",
       "2      2.588349           4     0.0     0.0     0.0    73.0     0.0     0.0   \n",
       "3      5.019223           5     0.0     0.0     0.0    34.0     0.0     0.0   \n",
       "4      3.400038           4     0.0     0.0     0.0    81.0     0.0     0.0   \n",
       "5      2.816980           4     0.0     0.0     0.0    78.0     0.0     0.0   \n",
       "\n",
       "     Bulk 7  Bulk 8  ...      t1     Wire 1   Wire 2  Wire 3  Wire 4  Wire 5  \\\n",
       "key                  ...                                                       \n",
       "1       0.0     0.0  ...  1613.0  60.059998  0.00000     0.0     0.0     0.0   \n",
       "2       0.0     0.0  ...  1602.0  96.052315  0.00000     0.0     0.0     0.0   \n",
       "3       0.0     0.0  ...  1599.0  91.160157  0.00000     0.0     0.0     0.0   \n",
       "4       0.0     0.0  ...  1625.0  89.063515  0.00000     0.0     0.0     0.0   \n",
       "5       0.0     0.0  ...  1602.0  89.238236  9.11456     0.0     0.0     0.0   \n",
       "\n",
       "     Wire 6  Wire 7  Wire 8  Wire 9  \n",
       "key                                  \n",
       "1       0.0     0.0     0.0     0.0  \n",
       "2       0.0     0.0     0.0     0.0  \n",
       "3       0.0     0.0     0.0     0.0  \n",
       "4       0.0     0.0     0.0     0.0  \n",
       "5       0.0     0.0     0.0     0.0  \n",
       "\n",
       "[5 rows x 29 columns]"
      ]
     },
     "execution_count": 34,
     "metadata": {},
     "output_type": "execute_result"
    }
   ],
   "source": [
    "d = arc \\\n",
    "    .merge(bulk, left_index=True, right_index=True) \\\n",
    "    .merge(gas, left_index=True, right_index=True) \\\n",
    "    .merge(temp, left_index=True, right_index=True) \\\n",
    "    .merge(wire, left_index=True, right_index=True) \n",
    "print(d.shape)\n",
    "print(d.columns)\n",
    "d.head()    "
   ]
  },
  {
   "cell_type": "markdown",
   "metadata": {},
   "source": [
    "### Корреляции\n"
   ]
  },
  {
   "cell_type": "code",
   "execution_count": 35,
   "metadata": {},
   "outputs": [
    {
     "data": {
      "text/plain": [
       "Bulk 9  Wire 8    0.973817\n",
       "Wire 8  Bulk 9    0.973817\n",
       "dtype: float64"
      ]
     },
     "execution_count": 35,
     "metadata": {},
     "output_type": "execute_result"
    }
   ],
   "source": [
    "d.corr().unstack()[(d.corr().unstack() < 1) & (abs(d.corr().unstack()) >= 0.9)]"
   ]
  },
  {
   "cell_type": "code",
   "execution_count": 36,
   "metadata": {},
   "outputs": [],
   "source": [
    "d = d.drop('Bulk 9', axis=1)"
   ]
  },
  {
   "cell_type": "markdown",
   "metadata": {},
   "source": [
    "### Подготовка данных для обучения и тестирования"
   ]
  },
  {
   "cell_type": "code",
   "execution_count": 37,
   "metadata": {},
   "outputs": [
    {
     "name": "stdout",
     "output_type": "stream",
     "text": [
      "(1742, 27)\n",
      "(1742,)\n",
      "(581, 27)\n",
      "(581,)\n"
     ]
    }
   ],
   "source": [
    "features = d.drop('t1', axis=1)\n",
    "target = d['t1']\n",
    "\n",
    "X_train, X_test, y_train, y_test = train_test_split(features, \n",
    "                                                    target, \n",
    "                                                    random_state=RANDOM_STATE, \n",
    "                                                    test_size=TEST_SIZE)\n",
    "\n",
    "print(X_train.shape)\n",
    "print(y_train.shape)\n",
    "print(X_test.shape)\n",
    "print(y_test.shape)"
   ]
  },
  {
   "cell_type": "markdown",
   "metadata": {},
   "source": [
    "## Обучение моделей"
   ]
  },
  {
   "cell_type": "markdown",
   "metadata": {},
   "source": [
    "### Linenar regression"
   ]
  },
  {
   "cell_type": "code",
   "execution_count": 38,
   "metadata": {},
   "outputs": [
    {
     "name": "stdout",
     "output_type": "stream",
     "text": [
      "Оценка линейной регрессии: 6.890664265854335\n",
      "CPU times: user 378 ms, sys: 629 ms, total: 1.01 s\n",
      "Wall time: 956 ms\n"
     ]
    }
   ],
   "source": [
    "%%time \n",
    "\n",
    "numeric_transformer = StandardScaler()\n",
    "\n",
    "preprocessor = ColumnTransformer(\n",
    "    transformers=[\n",
    "        ('num', numeric_transformer, X_train.columns),\n",
    "    ])\n",
    "\n",
    "\n",
    "pipe = Pipeline(steps=[('preprocessor', preprocessor),\n",
    "                    ('regressor', LinearRegression())])\n",
    "\n",
    "scores = cross_val_score(pipe, X_train, y_train, scoring='neg_mean_absolute_error') \n",
    "print('Оценка линейной регрессии:', scores.mean() * -1)\n"
   ]
  },
  {
   "cell_type": "markdown",
   "metadata": {},
   "source": [
    "### Random Forest Regressor"
   ]
  },
  {
   "cell_type": "code",
   "execution_count": 39,
   "metadata": {},
   "outputs": [
    {
     "name": "stdout",
     "output_type": "stream",
     "text": [
      "Оценка RandomForestRegressor: 6.827377751197842\n",
      "Параметры RandomForestRegressor {'bootstrap': True, 'min_samples_split': 8, 'n_estimators': 30}\n",
      "CPU times: user 18.7 s, sys: 61.1 ms, total: 18.7 s\n",
      "Wall time: 18.8 s\n"
     ]
    }
   ],
   "source": [
    "%%time \n",
    "\n",
    "estimator = RandomForestRegressor()\n",
    "param_grid = { \n",
    "        \"n_estimators\"      : [10,20,30],\n",
    "        \"min_samples_split\" : [2,4,8],\n",
    "        \"bootstrap\": [True, False],\n",
    "        }\n",
    "\n",
    "grid = GridSearchCV(estimator, param_grid, n_jobs=-1, cv=5, scoring='neg_mean_absolute_error')\n",
    "\n",
    "grid.fit(X_train, y_train)\n",
    "\n",
    "print('Оценка RandomForestRegressor:',grid.best_score_ * -1)\n",
    "print('Параметры RandomForestRegressor', grid.best_params_ )"
   ]
  },
  {
   "cell_type": "markdown",
   "metadata": {},
   "source": [
    "### Catboost regressor"
   ]
  },
  {
   "cell_type": "code",
   "execution_count": 40,
   "metadata": {
    "scrolled": true
   },
   "outputs": [
    {
     "name": "stdout",
     "output_type": "stream",
     "text": [
      "0:\tloss: 715.1789605\tbest: 715.1789605 (0)\ttotal: 715ms\tremaining: 2.14s\n",
      "1:\tloss: 16.9928334\tbest: 16.9928334 (1)\ttotal: 1.6s\tremaining: 1.6s\n",
      "2:\tloss: 727.2816005\tbest: 16.9928334 (1)\ttotal: 3.54s\tremaining: 1.18s\n",
      "3:\tloss: 36.8395468\tbest: 16.9928334 (1)\ttotal: 15.3s\tremaining: 0us\n",
      "Estimating final quality...\n",
      "Параметры CatBoost: {'min_data_in_leaf': 50, 'depth': 5, 'iterations': 600, 'learning_rate': 0.008}\n",
      "MAE CatBoost: {'learn': {'MAE': 6.147163738134639}}\n",
      "CPU times: user 17.9 s, sys: 285 ms, total: 18.2 s\n",
      "Wall time: 19.8 s\n"
     ]
    }
   ],
   "source": [
    "%%time \n",
    "\n",
    "cb_model = CatBoostRegressor(random_seed=RANDOM_STATE,\n",
    "                          #min_data_in_leaf=50,\n",
    "                          loss_function=\"MAE\",\n",
    "                          logging_level='Silent',\n",
    "                          colsample_bylevel=0.8,\n",
    "                          subsample=0.5\n",
    "                          )\n",
    "\n",
    "param_grid = {\n",
    "    'min_data_in_leaf': [50],\n",
    "    'iterations': [100, 600],\n",
    "    'learning_rate': [0.008],\n",
    "    'depth' : [5, 10]\n",
    "    \n",
    "}\n",
    "\n",
    "grid_search_result = cb_model.grid_search(param_grid,\n",
    "            X=X_train,\n",
    "            y=y_train,\n",
    "            cv=3,\n",
    "            partition_random_seed=RANDOM_STATE,\n",
    "            calc_cv_statistics=True,\n",
    "            search_by_train_test_split=True,\n",
    "            refit=True,\n",
    "            shuffle=True,\n",
    "            stratified=None,\n",
    "            train_size=0.8,\n",
    "            verbose=True,\n",
    "            \n",
    "            plot=False)\n",
    "\n",
    "\n",
    "\n",
    "print('Параметры CatBoost:', grid_search_result['params'])\n",
    "print('MAE CatBoost:', cb_model.best_score_)"
   ]
  },
  {
   "cell_type": "markdown",
   "metadata": {},
   "source": [
    "### Вывод\n",
    "Лучшую оценку на обучающей выборке показала модель Catboost"
   ]
  },
  {
   "cell_type": "markdown",
   "metadata": {},
   "source": [
    "## Тестирование модели"
   ]
  },
  {
   "cell_type": "code",
   "execution_count": 41,
   "metadata": {},
   "outputs": [
    {
     "name": "stdout",
     "output_type": "stream",
     "text": [
      "MAE: 6.777072421470177\n"
     ]
    }
   ],
   "source": [
    "print(\"MAE:\", mean_absolute_error(y_test, cb_model.predict(X_test)))"
   ]
  },
  {
   "cell_type": "markdown",
   "metadata": {},
   "source": [
    "## Анализ важности признаков"
   ]
  },
  {
   "cell_type": "code",
   "execution_count": 42,
   "metadata": {},
   "outputs": [
    {
     "data": {
      "image/png": "[encoded data removed]",
      "text/plain": [
       "<Figure size 864x360 with 1 Axes>"
      ]
     },
     "metadata": {
      "needs_background": "light"
     },
     "output_type": "display_data"
    }
   ],
   "source": [
    "fi = pd.Series(cb_model.feature_importances_, index=features.columns)\n",
    "fi = fi.sort_values(ascending=False)\n",
    "plt.figure(figsize=(12,5))\n",
    "ax = fi.plot(kind='bar')\n",
    "ax.set_title('Сравнение важности признаков')\n",
    "ax.set_ylabel('Уровень значимости')\n",
    "ax.set_xlabel('Признаки');"
   ]
  },
  {
   "cell_type": "markdown",
   "metadata": {},
   "source": [
    "## Вывод\n",
    "На этапе анализа и обработки данных, мы оставили только те партии, по которым была предоставлена полная информация и эта информация не содержала аномилий. Финальная выборка состоит из 2309 строк. Обучены 3 разные модели и выбрана наилучшая - Catboost. На тестовой выборке модель показала результат удовлетворяющий требованию MAE < 6.8.  \n",
    "\n",
    "\n",
    "Самым важным фактором, для предсказания конечной температуры, является начальная температура. Вторые по важности факторы: Bilk 14, full_power, Bulk 15, Wire 2, gas, Bulk 6, Bulk 12, iterations, Bulk 3,1 и 4. Остальные факторы не оказывают существенного влияния на конечную температуру."
   ]
  },
  {
   "cell_type": "markdown",
   "metadata": {},
   "source": [
    "## Отчёт"
   ]
  },
  {
   "cell_type": "markdown",
   "metadata": {},
   "source": [
    "В ходе работы над проектом были выполнены шаги:\n",
    "1. Анализ данных - изучены распределение, аномалии и пропуски в данных.\n",
    "2. Предобработка данных - удалены аномалии, партии без данных, коррелирующие признаки.\n",
    "3. Обучение модели - обучены несколько моделей, с перебором гиперпараметров.\n",
    "4. Тестирование модели - лучший результат на обучающих данных показала модель CatBoost. Её результат на тестовой выборке MAE: 6.777\n",
    "\n",
    "В ходе анализа были были выявлены выбросы, природу которых было трудно определить без консультации с заказчиком. После удаления выбросов упало качество модели и потребовалось дополнить набор признаков. Агрегация данных по партии.\n",
    "\n",
    "Ключевые действия в работе над проектом: \n",
    "- Изучить предметную область\n",
    "- Изучить тех процесс\n",
    "- Прояснить у заказчика цель проекта\n",
    "- Прояснить у заказчика причину выбросов\n",
    "- Добавить признаки (Итоговая мощность, количество итераций, время работы электродов)\n",
    "\n",
    "Признаки, на которых обучалась итоговая модель:\n",
    "- `full_power`\n",
    "- `iterations`\n",
    "- `Bulk 1`\n",
    "- `Bulk 2`\n",
    "- `Bulk 3`\n",
    "- `Bulk 4`\n",
    "- `Bulk 5`\n",
    "- `Bulk 6`\n",
    "- `Bulk 7`\n",
    "- `Bulk 8`\n",
    "- `Bulk 9`\n",
    "- `Bulk 10`\n",
    "- `Bulk 11`\n",
    "- `Bulk 12`\n",
    "- `Bulk 13`\n",
    "- `Bulk 14`\n",
    "- `Bulk 15`\n",
    "- `gas`\n",
    "- `t0`\n",
    "- `Wire 1`\n",
    "- `Wire 2`\n",
    "- `Wire 3`\n",
    "- `Wire 4`\n",
    "- `Wire 5`\n",
    "- `Wire 6`\n",
    "- `Wire 7`\n",
    "- `Wire 8`\n",
    "- `Wire 9`\n",
    "\n",
    "В каждом признаке были выброшены аномалии, но сохранены выбросы. \n",
    "Стоит учесть, что только следующий признаки оказали существенное влияние на работу модели: `Bulk 14, full_power, Bulk 15, Wire 2, gas, Bulk 6, Bulk 12, iterations, Bulk 3,1 и 4.`. \n",
    "\n",
    "Гиперпараметры модели: `{'min_data_in_leaf': 50, 'depth': 5, 'iterations': 600, 'learning_rate': 0.008}`, random_state: `10923`\n",
    "\n",
    "\n",
    "Для улучшения качества модели в первую очередь нужно собрать большее количество данных, на втором месте по важности стоит качество данных. Возможно стоит пересмотреть целевой признак, например предсказывать не температуру, а количество затраченной энергии. Я думаю, что верный признак можно определить в процессе эксплуатации модели."
   ]
  }
 ],
 "metadata": {
  "ExecuteTimeLog": [
   {
    "duration": 3749,
    "start_time": "2023-09-05T13:12:38.162Z"
   },
   {
    "duration": 5,
    "start_time": "2023-09-05T13:12:41.915Z"
   },
   {
    "duration": 5,
    "start_time": "2023-09-05T13:12:41.923Z"
   },
   {
    "duration": 8,
    "start_time": "2023-09-05T13:12:41.930Z"
   },
   {
    "duration": 355,
    "start_time": "2023-09-05T13:12:44.983Z"
   },
   {
    "duration": 499,
    "start_time": "2023-09-05T13:12:47.294Z"
   },
   {
    "duration": 7,
    "start_time": "2023-09-05T13:12:47.902Z"
   },
   {
    "duration": 13,
    "start_time": "2023-09-05T13:12:48.045Z"
   },
   {
    "duration": 381,
    "start_time": "2023-09-05T13:12:48.203Z"
   },
   {
    "duration": 12,
    "start_time": "2023-09-05T13:12:48.587Z"
   },
   {
    "duration": 126,
    "start_time": "2023-09-05T13:12:48.600Z"
   },
   {
    "duration": 308,
    "start_time": "2023-09-05T13:12:48.728Z"
   },
   {
    "duration": 2477,
    "start_time": "2023-09-05T13:12:49.163Z"
   },
   {
    "duration": 7,
    "start_time": "2023-09-05T13:12:51.642Z"
   },
   {
    "duration": 16,
    "start_time": "2023-09-05T13:12:51.650Z"
   },
   {
    "duration": 226,
    "start_time": "2023-09-05T13:12:51.670Z"
   },
   {
    "duration": 74,
    "start_time": "2023-09-05T13:12:51.898Z"
   },
   {
    "duration": 481,
    "start_time": "2023-09-05T13:12:51.975Z"
   },
   {
    "duration": 10,
    "start_time": "2023-09-05T13:12:52.459Z"
   },
   {
    "duration": 382,
    "start_time": "2023-09-05T13:12:52.473Z"
   },
   {
    "duration": 10,
    "start_time": "2023-09-05T13:12:52.857Z"
   },
   {
    "duration": 17,
    "start_time": "2023-09-05T13:12:52.869Z"
   },
   {
    "duration": 1352,
    "start_time": "2023-09-05T13:12:53.907Z"
   },
   {
    "duration": 223,
    "start_time": "2023-09-05T13:12:55.261Z"
   },
   {
    "duration": 10,
    "start_time": "2023-09-05T13:13:44.836Z"
   },
   {
    "duration": 19,
    "start_time": "2023-09-05T13:13:47.881Z"
   },
   {
    "duration": 23,
    "start_time": "2023-09-05T13:14:17.083Z"
   },
   {
    "duration": 11,
    "start_time": "2023-09-05T13:16:08.487Z"
   },
   {
    "duration": 19,
    "start_time": "2023-09-05T13:16:32.493Z"
   },
   {
    "duration": 10,
    "start_time": "2023-09-05T13:16:33.298Z"
   },
   {
    "duration": 18,
    "start_time": "2023-09-05T13:16:47.811Z"
   },
   {
    "duration": 21,
    "start_time": "2023-09-05T13:17:21.350Z"
   },
   {
    "duration": 52,
    "start_time": "2023-09-05T13:17:27.562Z"
   },
   {
    "duration": 53,
    "start_time": "2023-09-05T13:17:38.150Z"
   },
   {
    "duration": 10,
    "start_time": "2023-09-05T13:18:21.846Z"
   },
   {
    "duration": 1047,
    "start_time": "2023-09-05T13:18:55.244Z"
   },
   {
    "duration": 3646,
    "start_time": "2023-09-05T13:25:27.006Z"
   },
   {
    "duration": 49863,
    "start_time": "2023-09-05T13:27:02.908Z"
   },
   {
    "duration": 7,
    "start_time": "2023-09-05T13:28:19.537Z"
   },
   {
    "duration": 163,
    "start_time": "2023-09-05T16:53:39.047Z"
   },
   {
    "duration": 1693,
    "start_time": "2023-09-05T17:07:15.018Z"
   },
   {
    "duration": 3,
    "start_time": "2023-09-05T17:07:16.714Z"
   },
   {
    "duration": 36,
    "start_time": "2023-09-05T17:07:16.719Z"
   },
   {
    "duration": 12,
    "start_time": "2023-09-05T17:07:16.759Z"
   },
   {
    "duration": 540,
    "start_time": "2023-09-05T17:07:16.773Z"
   },
   {
    "duration": 424,
    "start_time": "2023-09-05T17:07:17.315Z"
   },
   {
    "duration": 6,
    "start_time": "2023-09-05T17:07:17.741Z"
   },
   {
    "duration": 22,
    "start_time": "2023-09-05T17:07:17.748Z"
   },
   {
    "duration": 334,
    "start_time": "2023-09-05T17:07:17.772Z"
   },
   {
    "duration": 10,
    "start_time": "2023-09-05T17:07:18.108Z"
   },
   {
    "duration": 102,
    "start_time": "2023-09-05T17:07:18.119Z"
   },
   {
    "duration": 244,
    "start_time": "2023-09-05T17:07:18.222Z"
   },
   {
    "duration": 2135,
    "start_time": "2023-09-05T17:07:18.468Z"
   },
   {
    "duration": 6,
    "start_time": "2023-09-05T17:07:20.605Z"
   },
   {
    "duration": 7,
    "start_time": "2023-09-05T17:07:20.613Z"
   },
   {
    "duration": 235,
    "start_time": "2023-09-05T17:07:20.622Z"
   },
   {
    "duration": 4,
    "start_time": "2023-09-05T17:07:20.859Z"
   },
   {
    "duration": 446,
    "start_time": "2023-09-05T17:07:20.864Z"
   },
   {
    "duration": 5,
    "start_time": "2023-09-05T17:07:21.312Z"
   },
   {
    "duration": 318,
    "start_time": "2023-09-05T17:07:21.318Z"
   },
   {
    "duration": 6,
    "start_time": "2023-09-05T17:07:21.637Z"
   },
   {
    "duration": 36,
    "start_time": "2023-09-05T17:07:21.645Z"
   },
   {
    "duration": 1191,
    "start_time": "2023-09-05T17:07:21.682Z"
   },
   {
    "duration": 170,
    "start_time": "2023-09-05T17:07:22.875Z"
   },
   {
    "duration": 7,
    "start_time": "2023-09-05T17:07:23.047Z"
   },
   {
    "duration": 93,
    "start_time": "2023-09-05T17:07:23.055Z"
   },
   {
    "duration": 34,
    "start_time": "2023-09-05T17:07:23.149Z"
   },
   {
    "duration": 2,
    "start_time": "2023-09-05T17:07:23.188Z"
   },
   {
    "duration": 11,
    "start_time": "2023-09-05T17:07:23.192Z"
   },
   {
    "duration": 21,
    "start_time": "2023-09-05T17:07:23.204Z"
   },
   {
    "duration": 15,
    "start_time": "2023-09-05T17:07:23.226Z"
   },
   {
    "duration": 11,
    "start_time": "2023-09-05T17:07:23.243Z"
   },
   {
    "duration": 16,
    "start_time": "2023-09-05T17:07:23.256Z"
   },
   {
    "duration": 30,
    "start_time": "2023-09-05T17:07:23.274Z"
   },
   {
    "duration": 61,
    "start_time": "2023-09-05T17:07:23.305Z"
   },
   {
    "duration": 8,
    "start_time": "2023-09-05T17:07:23.368Z"
   },
   {
    "duration": 958,
    "start_time": "2023-09-05T17:07:23.377Z"
   },
   {
    "duration": 18485,
    "start_time": "2023-09-05T17:07:24.339Z"
   },
   {
    "duration": 37662,
    "start_time": "2023-09-05T17:07:42.827Z"
   },
   {
    "duration": 7,
    "start_time": "2023-09-05T17:08:20.491Z"
   },
   {
    "duration": 108,
    "start_time": "2023-09-05T17:14:33.498Z"
   },
   {
    "duration": 25,
    "start_time": "2023-09-05T17:14:51.364Z"
   },
   {
    "duration": 24,
    "start_time": "2023-09-05T17:15:18.958Z"
   },
   {
    "duration": 23,
    "start_time": "2023-09-05T17:16:29.223Z"
   },
   {
    "duration": 18,
    "start_time": "2023-09-05T17:16:37.582Z"
   },
   {
    "duration": 31,
    "start_time": "2023-09-05T17:16:43.110Z"
   },
   {
    "duration": 9,
    "start_time": "2023-09-05T17:17:05.895Z"
   },
   {
    "duration": 4,
    "start_time": "2023-09-05T17:17:24.192Z"
   },
   {
    "duration": 1333,
    "start_time": "2023-09-05T17:17:40.070Z"
   },
   {
    "duration": 3,
    "start_time": "2023-09-05T17:17:41.405Z"
   },
   {
    "duration": 5,
    "start_time": "2023-09-05T17:17:41.410Z"
   },
   {
    "duration": 6,
    "start_time": "2023-09-05T17:17:41.416Z"
   },
   {
    "duration": 193,
    "start_time": "2023-09-05T17:17:41.424Z"
   },
   {
    "duration": 371,
    "start_time": "2023-09-05T17:17:41.619Z"
   },
   {
    "duration": 6,
    "start_time": "2023-09-05T17:17:41.992Z"
   },
   {
    "duration": 20,
    "start_time": "2023-09-05T17:17:41.999Z"
   },
   {
    "duration": 322,
    "start_time": "2023-09-05T17:17:42.020Z"
   },
   {
    "duration": 9,
    "start_time": "2023-09-05T17:17:42.343Z"
   },
   {
    "duration": 98,
    "start_time": "2023-09-05T17:17:42.353Z"
   },
   {
    "duration": 226,
    "start_time": "2023-09-05T17:17:42.452Z"
   },
   {
    "duration": 2118,
    "start_time": "2023-09-05T17:17:42.679Z"
   },
   {
    "duration": 6,
    "start_time": "2023-09-05T17:17:44.800Z"
   },
   {
    "duration": 5,
    "start_time": "2023-09-05T17:17:44.807Z"
   },
   {
    "duration": 239,
    "start_time": "2023-09-05T17:17:44.813Z"
   },
   {
    "duration": 4,
    "start_time": "2023-09-05T17:17:45.054Z"
   },
   {
    "duration": 434,
    "start_time": "2023-09-05T17:17:45.060Z"
   },
   {
    "duration": 4,
    "start_time": "2023-09-05T17:17:45.495Z"
   },
   {
    "duration": 294,
    "start_time": "2023-09-05T17:17:45.501Z"
   },
   {
    "duration": 6,
    "start_time": "2023-09-05T17:17:45.796Z"
   },
   {
    "duration": 13,
    "start_time": "2023-09-05T17:17:45.803Z"
   },
   {
    "duration": 1139,
    "start_time": "2023-09-05T17:17:45.818Z"
   },
   {
    "duration": 179,
    "start_time": "2023-09-05T17:17:46.958Z"
   },
   {
    "duration": 8,
    "start_time": "2023-09-05T17:17:47.138Z"
   },
   {
    "duration": 92,
    "start_time": "2023-09-05T17:17:47.147Z"
   },
   {
    "duration": 26,
    "start_time": "2023-09-05T17:17:47.240Z"
   },
   {
    "duration": 7,
    "start_time": "2023-09-05T17:17:47.267Z"
   },
   {
    "duration": 30,
    "start_time": "2023-09-05T17:17:47.275Z"
   },
   {
    "duration": 31,
    "start_time": "2023-09-05T17:17:47.307Z"
   },
   {
    "duration": 24,
    "start_time": "2023-09-05T17:17:47.340Z"
   },
   {
    "duration": 20,
    "start_time": "2023-09-05T17:17:47.366Z"
   },
   {
    "duration": 41,
    "start_time": "2023-09-05T17:17:47.388Z"
   },
   {
    "duration": 34,
    "start_time": "2023-09-05T17:17:47.430Z"
   },
   {
    "duration": 24,
    "start_time": "2023-09-05T17:17:47.466Z"
   },
   {
    "duration": 20,
    "start_time": "2023-09-05T17:17:47.491Z"
   },
   {
    "duration": 18,
    "start_time": "2023-09-05T17:17:47.513Z"
   },
   {
    "duration": 806,
    "start_time": "2023-09-05T17:17:47.533Z"
   },
   {
    "duration": 17699,
    "start_time": "2023-09-05T17:17:48.342Z"
   },
   {
    "duration": 30627,
    "start_time": "2023-09-05T17:18:06.043Z"
   },
   {
    "duration": 7,
    "start_time": "2023-09-05T17:18:36.674Z"
   },
   {
    "duration": 122,
    "start_time": "2023-09-05T17:19:22.760Z"
   },
   {
    "duration": 242,
    "start_time": "2023-09-05T17:19:33.154Z"
   },
   {
    "duration": 8,
    "start_time": "2023-09-05T17:21:36.861Z"
   },
   {
    "duration": 7,
    "start_time": "2023-09-05T17:21:45.034Z"
   },
   {
    "duration": 1528,
    "start_time": "2023-09-05T17:21:53.434Z"
   },
   {
    "duration": 3,
    "start_time": "2023-09-05T17:21:54.964Z"
   },
   {
    "duration": 14,
    "start_time": "2023-09-05T17:21:54.969Z"
   },
   {
    "duration": 18,
    "start_time": "2023-09-05T17:21:54.985Z"
   },
   {
    "duration": 255,
    "start_time": "2023-09-05T17:21:55.005Z"
   },
   {
    "duration": 421,
    "start_time": "2023-09-05T17:21:55.261Z"
   },
   {
    "duration": 5,
    "start_time": "2023-09-05T17:21:55.684Z"
   },
   {
    "duration": 28,
    "start_time": "2023-09-05T17:21:55.691Z"
   },
   {
    "duration": 330,
    "start_time": "2023-09-05T17:21:55.720Z"
   },
   {
    "duration": 10,
    "start_time": "2023-09-05T17:21:56.052Z"
   },
   {
    "duration": 134,
    "start_time": "2023-09-05T17:21:56.063Z"
   },
   {
    "duration": 218,
    "start_time": "2023-09-05T17:21:56.198Z"
   },
   {
    "duration": 2045,
    "start_time": "2023-09-05T17:21:56.417Z"
   },
   {
    "duration": 6,
    "start_time": "2023-09-05T17:21:58.463Z"
   },
   {
    "duration": 24,
    "start_time": "2023-09-05T17:21:58.470Z"
   },
   {
    "duration": 159,
    "start_time": "2023-09-05T17:21:58.496Z"
   },
   {
    "duration": 4,
    "start_time": "2023-09-05T17:21:58.657Z"
   },
   {
    "duration": 405,
    "start_time": "2023-09-05T17:21:58.733Z"
   },
   {
    "duration": 4,
    "start_time": "2023-09-05T17:21:59.140Z"
   },
   {
    "duration": 310,
    "start_time": "2023-09-05T17:21:59.146Z"
   },
   {
    "duration": 7,
    "start_time": "2023-09-05T17:21:59.458Z"
   },
   {
    "duration": 7,
    "start_time": "2023-09-05T17:21:59.466Z"
   },
   {
    "duration": 1143,
    "start_time": "2023-09-05T17:21:59.475Z"
   },
   {
    "duration": 143,
    "start_time": "2023-09-05T17:22:00.620Z"
   },
   {
    "duration": 6,
    "start_time": "2023-09-05T17:22:00.835Z"
   },
   {
    "duration": 48,
    "start_time": "2023-09-05T17:22:00.843Z"
   },
   {
    "duration": 59,
    "start_time": "2023-09-05T17:22:00.893Z"
   },
   {
    "duration": 10,
    "start_time": "2023-09-05T17:22:00.954Z"
   },
   {
    "duration": 37,
    "start_time": "2023-09-05T17:22:00.966Z"
   },
   {
    "duration": 85,
    "start_time": "2023-09-05T17:22:01.005Z"
   },
   {
    "duration": 51,
    "start_time": "2023-09-05T17:22:01.092Z"
   },
   {
    "duration": 29,
    "start_time": "2023-09-05T17:22:01.144Z"
   },
   {
    "duration": 44,
    "start_time": "2023-09-05T17:22:01.175Z"
   },
   {
    "duration": 49,
    "start_time": "2023-09-05T17:22:01.221Z"
   },
   {
    "duration": 33,
    "start_time": "2023-09-05T17:22:01.272Z"
   },
   {
    "duration": 23,
    "start_time": "2023-09-05T17:22:01.307Z"
   },
   {
    "duration": 38,
    "start_time": "2023-09-05T17:22:01.332Z"
   },
   {
    "duration": 1063,
    "start_time": "2023-09-05T17:22:01.372Z"
   },
   {
    "duration": 17858,
    "start_time": "2023-09-05T17:22:02.436Z"
   },
   {
    "duration": 31415,
    "start_time": "2023-09-05T17:22:20.296Z"
   },
   {
    "duration": 6,
    "start_time": "2023-09-05T17:22:51.712Z"
   },
   {
    "duration": 246,
    "start_time": "2023-09-05T17:22:51.720Z"
   },
   {
    "duration": 1456,
    "start_time": "2023-09-05T17:24:28.529Z"
   },
   {
    "duration": 3,
    "start_time": "2023-09-05T17:24:29.987Z"
   },
   {
    "duration": 5,
    "start_time": "2023-09-05T17:24:29.991Z"
   },
   {
    "duration": 26,
    "start_time": "2023-09-05T17:24:29.998Z"
   },
   {
    "duration": 252,
    "start_time": "2023-09-05T17:24:30.026Z"
   },
   {
    "duration": 444,
    "start_time": "2023-09-05T17:24:30.280Z"
   },
   {
    "duration": 9,
    "start_time": "2023-09-05T17:24:30.726Z"
   },
   {
    "duration": 24,
    "start_time": "2023-09-05T17:24:30.736Z"
   },
   {
    "duration": 373,
    "start_time": "2023-09-05T17:24:30.761Z"
   },
   {
    "duration": 10,
    "start_time": "2023-09-05T17:24:31.136Z"
   },
   {
    "duration": 135,
    "start_time": "2023-09-05T17:24:31.148Z"
   },
   {
    "duration": 231,
    "start_time": "2023-09-05T17:24:31.284Z"
   },
   {
    "duration": 2206,
    "start_time": "2023-09-05T17:24:31.517Z"
   },
   {
    "duration": 7,
    "start_time": "2023-09-05T17:24:33.733Z"
   },
   {
    "duration": 7,
    "start_time": "2023-09-05T17:24:33.742Z"
   },
   {
    "duration": 194,
    "start_time": "2023-09-05T17:24:33.751Z"
   },
   {
    "duration": 5,
    "start_time": "2023-09-05T17:24:33.946Z"
   },
   {
    "duration": 452,
    "start_time": "2023-09-05T17:24:33.953Z"
   },
   {
    "duration": 4,
    "start_time": "2023-09-05T17:24:34.407Z"
   },
   {
    "duration": 317,
    "start_time": "2023-09-05T17:24:34.433Z"
   },
   {
    "duration": 8,
    "start_time": "2023-09-05T17:24:34.751Z"
   },
   {
    "duration": 6,
    "start_time": "2023-09-05T17:24:34.761Z"
   },
   {
    "duration": 1171,
    "start_time": "2023-09-05T17:24:34.768Z"
   },
   {
    "duration": 198,
    "start_time": "2023-09-05T17:24:35.941Z"
   },
   {
    "duration": 12,
    "start_time": "2023-09-05T17:24:36.140Z"
   },
   {
    "duration": 23,
    "start_time": "2023-09-05T17:24:36.155Z"
   },
   {
    "duration": 21,
    "start_time": "2023-09-05T17:24:36.181Z"
   },
   {
    "duration": 3,
    "start_time": "2023-09-05T17:24:36.233Z"
   },
   {
    "duration": 6,
    "start_time": "2023-09-05T17:24:36.238Z"
   },
   {
    "duration": 26,
    "start_time": "2023-09-05T17:24:36.246Z"
   },
   {
    "duration": 8,
    "start_time": "2023-09-05T17:24:36.273Z"
   },
   {
    "duration": 9,
    "start_time": "2023-09-05T17:24:36.283Z"
   },
   {
    "duration": 14,
    "start_time": "2023-09-05T17:24:36.293Z"
   },
   {
    "duration": 60,
    "start_time": "2023-09-05T17:24:36.308Z"
   },
   {
    "duration": 25,
    "start_time": "2023-09-05T17:24:36.370Z"
   },
   {
    "duration": 4,
    "start_time": "2023-09-05T17:24:36.396Z"
   },
   {
    "duration": 32,
    "start_time": "2023-09-05T17:24:36.402Z"
   },
   {
    "duration": 1003,
    "start_time": "2023-09-05T17:24:36.435Z"
   },
   {
    "duration": 17711,
    "start_time": "2023-09-05T17:24:37.441Z"
   },
   {
    "duration": 31761,
    "start_time": "2023-09-05T17:24:55.153Z"
   },
   {
    "duration": 5,
    "start_time": "2023-09-05T17:25:26.919Z"
   },
   {
    "duration": 253,
    "start_time": "2023-09-05T17:25:26.926Z"
   },
   {
    "duration": 1556,
    "start_time": "2023-09-05T17:29:01.739Z"
   },
   {
    "duration": 3,
    "start_time": "2023-09-05T17:29:03.297Z"
   },
   {
    "duration": 9,
    "start_time": "2023-09-05T17:29:03.301Z"
   },
   {
    "duration": 12,
    "start_time": "2023-09-05T17:29:03.311Z"
   },
   {
    "duration": 203,
    "start_time": "2023-09-05T17:29:03.325Z"
   },
   {
    "duration": 388,
    "start_time": "2023-09-05T17:29:03.529Z"
   },
   {
    "duration": 16,
    "start_time": "2023-09-05T17:29:03.918Z"
   },
   {
    "duration": 37,
    "start_time": "2023-09-05T17:29:03.935Z"
   },
   {
    "duration": 332,
    "start_time": "2023-09-05T17:29:03.974Z"
   },
   {
    "duration": 10,
    "start_time": "2023-09-05T17:29:04.308Z"
   },
   {
    "duration": 98,
    "start_time": "2023-09-05T17:29:04.319Z"
   },
   {
    "duration": 269,
    "start_time": "2023-09-05T17:29:04.419Z"
   },
   {
    "duration": 2111,
    "start_time": "2023-09-05T17:29:04.690Z"
   },
   {
    "duration": 7,
    "start_time": "2023-09-05T17:29:06.804Z"
   },
   {
    "duration": 38,
    "start_time": "2023-09-05T17:29:06.813Z"
   },
   {
    "duration": 284,
    "start_time": "2023-09-05T17:29:06.853Z"
   },
   {
    "duration": 5,
    "start_time": "2023-09-05T17:29:07.139Z"
   },
   {
    "duration": 413,
    "start_time": "2023-09-05T17:29:07.145Z"
   },
   {
    "duration": 4,
    "start_time": "2023-09-05T17:29:07.560Z"
   },
   {
    "duration": 328,
    "start_time": "2023-09-05T17:29:07.565Z"
   },
   {
    "duration": 6,
    "start_time": "2023-09-05T17:29:07.894Z"
   },
   {
    "duration": 43,
    "start_time": "2023-09-05T17:29:07.902Z"
   },
   {
    "duration": 1154,
    "start_time": "2023-09-05T17:29:07.946Z"
   },
   {
    "duration": 151,
    "start_time": "2023-09-05T17:29:09.101Z"
   },
   {
    "duration": 81,
    "start_time": "2023-09-05T17:29:09.255Z"
   },
   {
    "duration": 19,
    "start_time": "2023-09-05T17:29:09.337Z"
   },
   {
    "duration": 20,
    "start_time": "2023-09-05T17:29:09.358Z"
   },
   {
    "duration": 2,
    "start_time": "2023-09-05T17:29:09.381Z"
   },
   {
    "duration": 5,
    "start_time": "2023-09-05T17:29:09.385Z"
   },
   {
    "duration": 47,
    "start_time": "2023-09-05T17:29:09.391Z"
   },
   {
    "duration": 9,
    "start_time": "2023-09-05T17:29:09.440Z"
   },
   {
    "duration": 9,
    "start_time": "2023-09-05T17:29:09.451Z"
   },
   {
    "duration": 13,
    "start_time": "2023-09-05T17:29:09.462Z"
   },
   {
    "duration": 65,
    "start_time": "2023-09-05T17:29:09.477Z"
   },
   {
    "duration": 25,
    "start_time": "2023-09-05T17:29:09.544Z"
   },
   {
    "duration": 4,
    "start_time": "2023-09-05T17:29:09.571Z"
   },
   {
    "duration": 8,
    "start_time": "2023-09-05T17:29:09.577Z"
   },
   {
    "duration": 953,
    "start_time": "2023-09-05T17:29:09.586Z"
   },
   {
    "duration": 17858,
    "start_time": "2023-09-05T17:29:10.542Z"
   },
   {
    "duration": 30972,
    "start_time": "2023-09-05T17:29:28.402Z"
   },
   {
    "duration": 6,
    "start_time": "2023-09-05T17:29:59.378Z"
   },
   {
    "duration": 270,
    "start_time": "2023-09-05T17:29:59.385Z"
   },
   {
    "duration": 8,
    "start_time": "2023-09-05T17:30:48.562Z"
   },
   {
    "duration": 1432,
    "start_time": "2023-09-05T17:31:05.999Z"
   },
   {
    "duration": 3,
    "start_time": "2023-09-05T17:31:07.433Z"
   },
   {
    "duration": 12,
    "start_time": "2023-09-05T17:31:07.437Z"
   },
   {
    "duration": 23,
    "start_time": "2023-09-05T17:31:07.451Z"
   },
   {
    "duration": 212,
    "start_time": "2023-09-05T17:31:07.477Z"
   },
   {
    "duration": 446,
    "start_time": "2023-09-05T17:31:07.690Z"
   },
   {
    "duration": 7,
    "start_time": "2023-09-05T17:31:08.138Z"
   },
   {
    "duration": 14,
    "start_time": "2023-09-05T17:31:08.146Z"
   },
   {
    "duration": 356,
    "start_time": "2023-09-05T17:31:08.162Z"
   },
   {
    "duration": 15,
    "start_time": "2023-09-05T17:31:08.520Z"
   },
   {
    "duration": 129,
    "start_time": "2023-09-05T17:31:08.538Z"
   },
   {
    "duration": 270,
    "start_time": "2023-09-05T17:31:08.669Z"
   },
   {
    "duration": 2192,
    "start_time": "2023-09-05T17:31:08.941Z"
   },
   {
    "duration": 6,
    "start_time": "2023-09-05T17:31:11.136Z"
   },
   {
    "duration": 15,
    "start_time": "2023-09-05T17:31:11.144Z"
   },
   {
    "duration": 189,
    "start_time": "2023-09-05T17:31:11.160Z"
   },
   {
    "duration": 5,
    "start_time": "2023-09-05T17:31:11.350Z"
   },
   {
    "duration": 497,
    "start_time": "2023-09-05T17:31:11.357Z"
   },
   {
    "duration": 5,
    "start_time": "2023-09-05T17:31:11.856Z"
   },
   {
    "duration": 373,
    "start_time": "2023-09-05T17:31:11.863Z"
   },
   {
    "duration": 5,
    "start_time": "2023-09-05T17:31:12.238Z"
   },
   {
    "duration": 40,
    "start_time": "2023-09-05T17:31:12.244Z"
   },
   {
    "duration": 1215,
    "start_time": "2023-09-05T17:31:12.286Z"
   },
   {
    "duration": 151,
    "start_time": "2023-09-05T17:31:13.502Z"
   },
   {
    "duration": 80,
    "start_time": "2023-09-05T17:31:13.654Z"
   },
   {
    "duration": 24,
    "start_time": "2023-09-05T17:31:13.736Z"
   },
   {
    "duration": 39,
    "start_time": "2023-09-05T17:31:13.762Z"
   },
   {
    "duration": 3,
    "start_time": "2023-09-05T17:31:13.803Z"
   },
   {
    "duration": 34,
    "start_time": "2023-09-05T17:31:13.808Z"
   },
   {
    "duration": 23,
    "start_time": "2023-09-05T17:31:13.845Z"
   },
   {
    "duration": 13,
    "start_time": "2023-09-05T17:31:13.870Z"
   },
   {
    "duration": 26,
    "start_time": "2023-09-05T17:31:13.885Z"
   },
   {
    "duration": 45,
    "start_time": "2023-09-05T17:31:13.913Z"
   },
   {
    "duration": 43,
    "start_time": "2023-09-05T17:31:13.960Z"
   },
   {
    "duration": 27,
    "start_time": "2023-09-05T17:31:14.005Z"
   },
   {
    "duration": 5,
    "start_time": "2023-09-05T17:31:14.034Z"
   },
   {
    "duration": 30,
    "start_time": "2023-09-05T17:31:14.040Z"
   },
   {
    "duration": 879,
    "start_time": "2023-09-05T17:31:14.072Z"
   },
   {
    "duration": 17813,
    "start_time": "2023-09-05T17:31:15.035Z"
   },
   {
    "duration": 37320,
    "start_time": "2023-09-05T17:31:32.850Z"
   },
   {
    "duration": 6,
    "start_time": "2023-09-05T17:32:10.173Z"
   },
   {
    "duration": 287,
    "start_time": "2023-09-05T17:32:10.181Z"
   },
   {
    "duration": 5,
    "start_time": "2023-09-05T17:32:35.703Z"
   },
   {
    "duration": 1406,
    "start_time": "2023-09-05T17:33:41.220Z"
   },
   {
    "duration": 3,
    "start_time": "2023-09-05T17:33:42.628Z"
   },
   {
    "duration": 23,
    "start_time": "2023-09-05T17:33:42.633Z"
   },
   {
    "duration": 53,
    "start_time": "2023-09-05T17:33:42.657Z"
   },
   {
    "duration": 237,
    "start_time": "2023-09-05T17:33:42.712Z"
   },
   {
    "duration": 439,
    "start_time": "2023-09-05T17:33:42.950Z"
   },
   {
    "duration": 6,
    "start_time": "2023-09-05T17:33:43.391Z"
   },
   {
    "duration": 13,
    "start_time": "2023-09-05T17:33:43.398Z"
   },
   {
    "duration": 324,
    "start_time": "2023-09-05T17:33:43.413Z"
   },
   {
    "duration": 9,
    "start_time": "2023-09-05T17:33:43.739Z"
   },
   {
    "duration": 107,
    "start_time": "2023-09-05T17:33:43.750Z"
   },
   {
    "duration": 232,
    "start_time": "2023-09-05T17:33:43.859Z"
   },
   {
    "duration": 2192,
    "start_time": "2023-09-05T17:33:44.092Z"
   },
   {
    "duration": 6,
    "start_time": "2023-09-05T17:33:46.288Z"
   },
   {
    "duration": 10,
    "start_time": "2023-09-05T17:33:46.295Z"
   },
   {
    "duration": 227,
    "start_time": "2023-09-05T17:33:46.307Z"
   },
   {
    "duration": 4,
    "start_time": "2023-09-05T17:33:46.536Z"
   },
   {
    "duration": 395,
    "start_time": "2023-09-05T17:33:46.541Z"
   },
   {
    "duration": 4,
    "start_time": "2023-09-05T17:33:46.938Z"
   },
   {
    "duration": 273,
    "start_time": "2023-09-05T17:33:46.943Z"
   },
   {
    "duration": 20,
    "start_time": "2023-09-05T17:33:47.217Z"
   },
   {
    "duration": 4,
    "start_time": "2023-09-05T17:33:47.238Z"
   },
   {
    "duration": 1160,
    "start_time": "2023-09-05T17:33:47.243Z"
   },
   {
    "duration": 231,
    "start_time": "2023-09-05T17:33:48.404Z"
   },
   {
    "duration": 9,
    "start_time": "2023-09-05T17:33:48.638Z"
   },
   {
    "duration": 15,
    "start_time": "2023-09-05T17:33:48.649Z"
   },
   {
    "duration": 65,
    "start_time": "2023-09-05T17:33:48.666Z"
   },
   {
    "duration": 2,
    "start_time": "2023-09-05T17:33:48.733Z"
   },
   {
    "duration": 8,
    "start_time": "2023-09-05T17:33:48.736Z"
   },
   {
    "duration": 15,
    "start_time": "2023-09-05T17:33:48.745Z"
   },
   {
    "duration": 8,
    "start_time": "2023-09-05T17:33:48.762Z"
   },
   {
    "duration": 13,
    "start_time": "2023-09-05T17:33:48.771Z"
   },
   {
    "duration": 15,
    "start_time": "2023-09-05T17:33:48.786Z"
   },
   {
    "duration": 53,
    "start_time": "2023-09-05T17:33:48.802Z"
   },
   {
    "duration": 24,
    "start_time": "2023-09-05T17:33:48.856Z"
   },
   {
    "duration": 4,
    "start_time": "2023-09-05T17:33:48.881Z"
   },
   {
    "duration": 13,
    "start_time": "2023-09-05T17:33:48.886Z"
   },
   {
    "duration": 1233,
    "start_time": "2023-09-05T17:33:48.901Z"
   },
   {
    "duration": 17863,
    "start_time": "2023-09-05T17:33:50.137Z"
   },
   {
    "duration": 1428,
    "start_time": "2023-09-05T17:34:19.392Z"
   },
   {
    "duration": 3,
    "start_time": "2023-09-05T17:34:20.822Z"
   },
   {
    "duration": 34,
    "start_time": "2023-09-05T17:34:20.826Z"
   },
   {
    "duration": 10,
    "start_time": "2023-09-05T17:34:20.861Z"
   },
   {
    "duration": 213,
    "start_time": "2023-09-05T17:34:20.873Z"
   },
   {
    "duration": 420,
    "start_time": "2023-09-05T17:34:21.088Z"
   },
   {
    "duration": 6,
    "start_time": "2023-09-05T17:34:21.510Z"
   },
   {
    "duration": 24,
    "start_time": "2023-09-05T17:34:21.517Z"
   },
   {
    "duration": 321,
    "start_time": "2023-09-05T17:34:21.543Z"
   },
   {
    "duration": 9,
    "start_time": "2023-09-05T17:34:21.866Z"
   },
   {
    "duration": 102,
    "start_time": "2023-09-05T17:34:21.876Z"
   },
   {
    "duration": 231,
    "start_time": "2023-09-05T17:34:21.980Z"
   },
   {
    "duration": 2024,
    "start_time": "2023-09-05T17:34:22.212Z"
   },
   {
    "duration": 7,
    "start_time": "2023-09-05T17:34:24.237Z"
   },
   {
    "duration": 8,
    "start_time": "2023-09-05T17:34:24.245Z"
   },
   {
    "duration": 198,
    "start_time": "2023-09-05T17:34:24.255Z"
   },
   {
    "duration": 79,
    "start_time": "2023-09-05T17:34:24.455Z"
   },
   {
    "duration": 454,
    "start_time": "2023-09-05T17:34:24.536Z"
   },
   {
    "duration": 5,
    "start_time": "2023-09-05T17:34:24.992Z"
   },
   {
    "duration": 328,
    "start_time": "2023-09-05T17:34:24.998Z"
   },
   {
    "duration": 6,
    "start_time": "2023-09-05T17:34:25.334Z"
   },
   {
    "duration": 9,
    "start_time": "2023-09-05T17:34:25.341Z"
   },
   {
    "duration": 1150,
    "start_time": "2023-09-05T17:34:25.351Z"
   },
   {
    "duration": 152,
    "start_time": "2023-09-05T17:34:26.502Z"
   },
   {
    "duration": 83,
    "start_time": "2023-09-05T17:34:26.656Z"
   },
   {
    "duration": 15,
    "start_time": "2023-09-05T17:34:26.741Z"
   },
   {
    "duration": 19,
    "start_time": "2023-09-05T17:34:26.757Z"
   },
   {
    "duration": 2,
    "start_time": "2023-09-05T17:34:26.779Z"
   },
   {
    "duration": 6,
    "start_time": "2023-09-05T17:34:26.783Z"
   },
   {
    "duration": 48,
    "start_time": "2023-09-05T17:34:26.790Z"
   },
   {
    "duration": 10,
    "start_time": "2023-09-05T17:34:26.840Z"
   },
   {
    "duration": 9,
    "start_time": "2023-09-05T17:34:26.852Z"
   },
   {
    "duration": 14,
    "start_time": "2023-09-05T17:34:26.863Z"
   },
   {
    "duration": 66,
    "start_time": "2023-09-05T17:34:26.879Z"
   },
   {
    "duration": 24,
    "start_time": "2023-09-05T17:34:26.947Z"
   },
   {
    "duration": 4,
    "start_time": "2023-09-05T17:34:26.972Z"
   },
   {
    "duration": 8,
    "start_time": "2023-09-05T17:34:26.977Z"
   },
   {
    "duration": 649,
    "start_time": "2023-09-05T17:34:26.987Z"
   },
   {
    "duration": 1464,
    "start_time": "2023-09-05T17:35:15.714Z"
   },
   {
    "duration": 3,
    "start_time": "2023-09-05T17:35:17.180Z"
   },
   {
    "duration": 5,
    "start_time": "2023-09-05T17:35:17.184Z"
   },
   {
    "duration": 7,
    "start_time": "2023-09-05T17:35:17.190Z"
   },
   {
    "duration": 195,
    "start_time": "2023-09-05T17:35:17.199Z"
   },
   {
    "duration": 399,
    "start_time": "2023-09-05T17:35:17.395Z"
   },
   {
    "duration": 6,
    "start_time": "2023-09-05T17:35:17.796Z"
   },
   {
    "duration": 42,
    "start_time": "2023-09-05T17:35:17.803Z"
   },
   {
    "duration": 332,
    "start_time": "2023-09-05T17:35:17.846Z"
   },
   {
    "duration": 9,
    "start_time": "2023-09-05T17:35:18.179Z"
   },
   {
    "duration": 100,
    "start_time": "2023-09-05T17:35:18.189Z"
   },
   {
    "duration": 223,
    "start_time": "2023-09-05T17:35:18.291Z"
   },
   {
    "duration": 2090,
    "start_time": "2023-09-05T17:35:18.516Z"
   },
   {
    "duration": 6,
    "start_time": "2023-09-05T17:35:20.611Z"
   },
   {
    "duration": 17,
    "start_time": "2023-09-05T17:35:20.618Z"
   },
   {
    "duration": 198,
    "start_time": "2023-09-05T17:35:20.637Z"
   },
   {
    "duration": 5,
    "start_time": "2023-09-05T17:35:20.837Z"
   },
   {
    "duration": 445,
    "start_time": "2023-09-05T17:35:20.843Z"
   },
   {
    "duration": 5,
    "start_time": "2023-09-05T17:35:21.289Z"
   },
   {
    "duration": 308,
    "start_time": "2023-09-05T17:35:21.296Z"
   },
   {
    "duration": 6,
    "start_time": "2023-09-05T17:35:21.605Z"
   },
   {
    "duration": 22,
    "start_time": "2023-09-05T17:35:21.612Z"
   },
   {
    "duration": 1119,
    "start_time": "2023-09-05T17:35:21.635Z"
   },
   {
    "duration": 281,
    "start_time": "2023-09-05T17:35:22.756Z"
   },
   {
    "duration": 9,
    "start_time": "2023-09-05T17:35:23.038Z"
   },
   {
    "duration": 15,
    "start_time": "2023-09-05T17:35:23.049Z"
   },
   {
    "duration": 19,
    "start_time": "2023-09-05T17:35:23.066Z"
   },
   {
    "duration": 3,
    "start_time": "2023-09-05T17:35:23.086Z"
   },
   {
    "duration": 9,
    "start_time": "2023-09-05T17:35:23.090Z"
   },
   {
    "duration": 43,
    "start_time": "2023-09-05T17:35:23.101Z"
   },
   {
    "duration": 12,
    "start_time": "2023-09-05T17:35:23.146Z"
   },
   {
    "duration": 10,
    "start_time": "2023-09-05T17:35:23.160Z"
   },
   {
    "duration": 25,
    "start_time": "2023-09-05T17:35:23.172Z"
   },
   {
    "duration": 74,
    "start_time": "2023-09-05T17:35:23.199Z"
   },
   {
    "duration": 26,
    "start_time": "2023-09-05T17:35:23.275Z"
   },
   {
    "duration": 4,
    "start_time": "2023-09-05T17:35:23.303Z"
   },
   {
    "duration": 29,
    "start_time": "2023-09-05T17:35:23.308Z"
   },
   {
    "duration": 1201,
    "start_time": "2023-09-05T17:35:23.338Z"
   },
   {
    "duration": 17651,
    "start_time": "2023-09-05T17:35:24.542Z"
   },
   {
    "duration": 31680,
    "start_time": "2023-09-05T17:35:42.195Z"
   },
   {
    "duration": 6,
    "start_time": "2023-09-05T17:36:13.878Z"
   },
   {
    "duration": 259,
    "start_time": "2023-09-05T17:36:13.886Z"
   },
   {
    "duration": 124100,
    "start_time": "2023-09-05T17:37:18.627Z"
   },
   {
    "duration": 5,
    "start_time": "2023-09-05T17:39:45.255Z"
   },
   {
    "duration": 120725,
    "start_time": "2023-09-05T17:40:45.970Z"
   },
   {
    "duration": 5,
    "start_time": "2023-09-05T17:42:46.697Z"
   },
   {
    "duration": 6,
    "start_time": "2023-09-05T17:43:03.366Z"
   },
   {
    "duration": 5,
    "start_time": "2023-09-05T17:43:06.430Z"
   },
   {
    "duration": 1386,
    "start_time": "2023-09-05T17:43:55.420Z"
   },
   {
    "duration": 4,
    "start_time": "2023-09-05T17:43:56.808Z"
   },
   {
    "duration": 10,
    "start_time": "2023-09-05T17:43:56.813Z"
   },
   {
    "duration": 10,
    "start_time": "2023-09-05T17:43:56.824Z"
   },
   {
    "duration": 198,
    "start_time": "2023-09-05T17:43:56.836Z"
   },
   {
    "duration": 392,
    "start_time": "2023-09-05T17:43:57.036Z"
   },
   {
    "duration": 8,
    "start_time": "2023-09-05T17:43:57.429Z"
   },
   {
    "duration": 36,
    "start_time": "2023-09-05T17:43:57.439Z"
   },
   {
    "duration": 303,
    "start_time": "2023-09-05T17:43:57.477Z"
   },
   {
    "duration": 10,
    "start_time": "2023-09-05T17:43:57.781Z"
   },
   {
    "duration": 109,
    "start_time": "2023-09-05T17:43:57.793Z"
   },
   {
    "duration": 229,
    "start_time": "2023-09-05T17:43:57.904Z"
   },
   {
    "duration": 2024,
    "start_time": "2023-09-05T17:43:58.134Z"
   },
   {
    "duration": 6,
    "start_time": "2023-09-05T17:44:00.161Z"
   },
   {
    "duration": 56,
    "start_time": "2023-09-05T17:44:00.169Z"
   },
   {
    "duration": 235,
    "start_time": "2023-09-05T17:44:00.227Z"
   },
   {
    "duration": 5,
    "start_time": "2023-09-05T17:44:00.534Z"
   },
   {
    "duration": 445,
    "start_time": "2023-09-05T17:44:00.540Z"
   },
   {
    "duration": 3,
    "start_time": "2023-09-05T17:44:00.987Z"
   },
   {
    "duration": 300,
    "start_time": "2023-09-05T17:44:00.992Z"
   },
   {
    "duration": 5,
    "start_time": "2023-09-05T17:44:01.294Z"
   },
   {
    "duration": 110,
    "start_time": "2023-09-05T17:44:01.300Z"
   },
   {
    "duration": 1322,
    "start_time": "2023-09-05T17:44:01.412Z"
   },
   {
    "duration": 214,
    "start_time": "2023-09-05T17:44:02.736Z"
   },
   {
    "duration": 7,
    "start_time": "2023-09-05T17:44:02.952Z"
   },
   {
    "duration": 271,
    "start_time": "2023-09-05T17:44:02.960Z"
   },
   {
    "duration": 75,
    "start_time": "2023-09-05T17:44:03.232Z"
   },
   {
    "duration": 2,
    "start_time": "2023-09-05T17:44:03.309Z"
   },
   {
    "duration": 18,
    "start_time": "2023-09-05T17:44:03.312Z"
   },
   {
    "duration": 37,
    "start_time": "2023-09-05T17:44:03.331Z"
   },
   {
    "duration": 8,
    "start_time": "2023-09-05T17:44:03.370Z"
   },
   {
    "duration": 14,
    "start_time": "2023-09-05T17:44:03.379Z"
   },
   {
    "duration": 20,
    "start_time": "2023-09-05T17:44:03.394Z"
   },
   {
    "duration": 37,
    "start_time": "2023-09-05T17:44:03.415Z"
   },
   {
    "duration": 28,
    "start_time": "2023-09-05T17:44:03.453Z"
   },
   {
    "duration": 4,
    "start_time": "2023-09-05T17:44:03.483Z"
   },
   {
    "duration": 17,
    "start_time": "2023-09-05T17:44:03.488Z"
   },
   {
    "duration": 828,
    "start_time": "2023-09-05T17:44:03.507Z"
   },
   {
    "duration": 17799,
    "start_time": "2023-09-05T17:44:04.340Z"
   },
   {
    "duration": 118027,
    "start_time": "2023-09-05T17:44:22.141Z"
   },
   {
    "duration": 6,
    "start_time": "2023-09-05T17:46:20.172Z"
   },
   {
    "duration": 235,
    "start_time": "2023-09-05T17:46:20.180Z"
   },
   {
    "duration": 6,
    "start_time": "2023-09-05T17:46:40.768Z"
   },
   {
    "duration": 1464,
    "start_time": "2023-09-05T17:47:00.561Z"
   },
   {
    "duration": 7,
    "start_time": "2023-09-05T17:47:02.027Z"
   },
   {
    "duration": 47,
    "start_time": "2023-09-05T17:47:02.035Z"
   },
   {
    "duration": 45,
    "start_time": "2023-09-05T17:47:02.084Z"
   },
   {
    "duration": 271,
    "start_time": "2023-09-05T17:47:02.131Z"
   },
   {
    "duration": 412,
    "start_time": "2023-09-05T17:47:02.404Z"
   },
   {
    "duration": 17,
    "start_time": "2023-09-05T17:47:02.818Z"
   },
   {
    "duration": 29,
    "start_time": "2023-09-05T17:47:02.839Z"
   },
   {
    "duration": 345,
    "start_time": "2023-09-05T17:47:02.869Z"
   },
   {
    "duration": 10,
    "start_time": "2023-09-05T17:47:03.215Z"
   },
   {
    "duration": 113,
    "start_time": "2023-09-05T17:47:03.226Z"
   },
   {
    "duration": 211,
    "start_time": "2023-09-05T17:47:03.340Z"
   },
   {
    "duration": 2078,
    "start_time": "2023-09-05T17:47:03.553Z"
   },
   {
    "duration": 6,
    "start_time": "2023-09-05T17:47:05.635Z"
   },
   {
    "duration": 27,
    "start_time": "2023-09-05T17:47:05.642Z"
   },
   {
    "duration": 184,
    "start_time": "2023-09-05T17:47:05.671Z"
   },
   {
    "duration": 77,
    "start_time": "2023-09-05T17:47:05.857Z"
   },
   {
    "duration": 365,
    "start_time": "2023-09-05T17:47:05.936Z"
   },
   {
    "duration": 4,
    "start_time": "2023-09-05T17:47:06.302Z"
   },
   {
    "duration": 299,
    "start_time": "2023-09-05T17:47:06.307Z"
   },
   {
    "duration": 6,
    "start_time": "2023-09-05T17:47:06.607Z"
   },
   {
    "duration": 22,
    "start_time": "2023-09-05T17:47:06.615Z"
   },
   {
    "duration": 1185,
    "start_time": "2023-09-05T17:47:06.639Z"
   },
   {
    "duration": 137,
    "start_time": "2023-09-05T17:47:07.826Z"
   },
   {
    "duration": 7,
    "start_time": "2023-09-05T17:47:08.035Z"
   },
   {
    "duration": 16,
    "start_time": "2023-09-05T17:47:08.044Z"
   },
   {
    "duration": 26,
    "start_time": "2023-09-05T17:47:08.062Z"
   },
   {
    "duration": 7,
    "start_time": "2023-09-05T17:47:08.089Z"
   },
   {
    "duration": 10,
    "start_time": "2023-09-05T17:47:08.098Z"
   },
   {
    "duration": 38,
    "start_time": "2023-09-05T17:47:08.109Z"
   },
   {
    "duration": 9,
    "start_time": "2023-09-05T17:47:08.148Z"
   },
   {
    "duration": 10,
    "start_time": "2023-09-05T17:47:08.159Z"
   },
   {
    "duration": 16,
    "start_time": "2023-09-05T17:47:08.170Z"
   },
   {
    "duration": 48,
    "start_time": "2023-09-05T17:47:08.187Z"
   },
   {
    "duration": 25,
    "start_time": "2023-09-05T17:47:08.236Z"
   },
   {
    "duration": 3,
    "start_time": "2023-09-05T17:47:08.262Z"
   },
   {
    "duration": 8,
    "start_time": "2023-09-05T17:47:08.267Z"
   },
   {
    "duration": 859,
    "start_time": "2023-09-05T17:47:08.277Z"
   },
   {
    "duration": 17530,
    "start_time": "2023-09-05T17:47:09.143Z"
   },
   {
    "duration": 79264,
    "start_time": "2023-09-05T17:47:26.675Z"
   },
   {
    "duration": 6,
    "start_time": "2023-09-05T17:48:45.942Z"
   },
   {
    "duration": 276,
    "start_time": "2023-09-05T17:48:45.949Z"
   },
   {
    "duration": 73784,
    "start_time": "2023-09-05T17:49:48.056Z"
   },
   {
    "duration": 6,
    "start_time": "2023-09-05T17:51:07.517Z"
   },
   {
    "duration": 112311,
    "start_time": "2023-09-05T17:52:18.491Z"
   },
   {
    "duration": 10,
    "start_time": "2023-09-05T17:54:15.904Z"
   },
   {
    "duration": 8,
    "start_time": "2023-09-05T17:54:18.720Z"
   },
   {
    "duration": 9660,
    "start_time": "2023-09-05T17:54:24.360Z"
   },
   {
    "duration": 6,
    "start_time": "2023-09-05T17:54:42.010Z"
   },
   {
    "duration": 9737,
    "start_time": "2023-09-05T17:54:48.425Z"
   },
   {
    "duration": 6,
    "start_time": "2023-09-05T17:55:01.989Z"
   },
   {
    "duration": 6704,
    "start_time": "2023-09-05T17:55:11.484Z"
   },
   {
    "duration": 6,
    "start_time": "2023-09-05T17:56:23.471Z"
   },
   {
    "duration": 6592,
    "start_time": "2023-09-05T17:56:27.558Z"
   },
   {
    "duration": 6771,
    "start_time": "2023-09-05T17:57:00.126Z"
   },
   {
    "duration": 7156,
    "start_time": "2023-09-05T17:57:18.767Z"
   },
   {
    "duration": 6784,
    "start_time": "2023-09-05T17:57:55.703Z"
   },
   {
    "duration": 6355,
    "start_time": "2023-09-05T17:58:18.696Z"
   },
   {
    "duration": 6742,
    "start_time": "2023-09-05T17:58:30.320Z"
   },
   {
    "duration": 6422,
    "start_time": "2023-09-05T17:58:48.592Z"
   },
   {
    "duration": 6756,
    "start_time": "2023-09-05T17:59:07.064Z"
   },
   {
    "duration": 6925,
    "start_time": "2023-09-05T17:59:22.184Z"
   },
   {
    "duration": 7132,
    "start_time": "2023-09-05T17:59:34.217Z"
   },
   {
    "duration": 76532,
    "start_time": "2023-09-05T17:59:52.760Z"
   },
   {
    "duration": 15650,
    "start_time": "2023-09-05T18:01:13.905Z"
   },
   {
    "duration": 6993,
    "start_time": "2023-09-05T18:01:56.660Z"
   },
   {
    "duration": 1351,
    "start_time": "2023-09-05T18:02:47.447Z"
   },
   {
    "duration": 3,
    "start_time": "2023-09-05T18:02:48.800Z"
   },
   {
    "duration": 18,
    "start_time": "2023-09-05T18:02:48.805Z"
   },
   {
    "duration": 12,
    "start_time": "2023-09-05T18:02:48.825Z"
   },
   {
    "duration": 196,
    "start_time": "2023-09-05T18:02:48.839Z"
   },
   {
    "duration": 447,
    "start_time": "2023-09-05T18:02:49.036Z"
   },
   {
    "duration": 7,
    "start_time": "2023-09-05T18:02:49.485Z"
   },
   {
    "duration": 12,
    "start_time": "2023-09-05T18:02:49.493Z"
   },
   {
    "duration": 332,
    "start_time": "2023-09-05T18:02:49.506Z"
   },
   {
    "duration": 9,
    "start_time": "2023-09-05T18:02:49.840Z"
   },
   {
    "duration": 105,
    "start_time": "2023-09-05T18:02:49.850Z"
   },
   {
    "duration": 245,
    "start_time": "2023-09-05T18:02:49.957Z"
   },
   {
    "duration": 2190,
    "start_time": "2023-09-05T18:02:50.204Z"
   },
   {
    "duration": 5,
    "start_time": "2023-09-05T18:02:52.397Z"
   },
   {
    "duration": 51,
    "start_time": "2023-09-05T18:02:52.404Z"
   },
   {
    "duration": 287,
    "start_time": "2023-09-05T18:02:52.457Z"
   },
   {
    "duration": 5,
    "start_time": "2023-09-05T18:02:52.745Z"
   },
   {
    "duration": 557,
    "start_time": "2023-09-05T18:02:52.752Z"
   },
   {
    "duration": 4,
    "start_time": "2023-09-05T18:02:53.310Z"
   },
   {
    "duration": 293,
    "start_time": "2023-09-05T18:02:53.316Z"
   },
   {
    "duration": 6,
    "start_time": "2023-09-05T18:02:53.611Z"
   },
   {
    "duration": 33,
    "start_time": "2023-09-05T18:02:53.619Z"
   },
   {
    "duration": 1190,
    "start_time": "2023-09-05T18:02:53.653Z"
   },
   {
    "duration": 199,
    "start_time": "2023-09-05T18:02:54.844Z"
   },
   {
    "duration": 6,
    "start_time": "2023-09-05T18:02:55.045Z"
   },
   {
    "duration": 25,
    "start_time": "2023-09-05T18:02:55.053Z"
   },
   {
    "duration": 56,
    "start_time": "2023-09-05T18:02:55.080Z"
   },
   {
    "duration": 3,
    "start_time": "2023-09-05T18:02:55.137Z"
   },
   {
    "duration": 18,
    "start_time": "2023-09-05T18:02:55.141Z"
   },
   {
    "duration": 13,
    "start_time": "2023-09-05T18:02:55.160Z"
   },
   {
    "duration": 8,
    "start_time": "2023-09-05T18:02:55.175Z"
   },
   {
    "duration": 9,
    "start_time": "2023-09-05T18:02:55.185Z"
   },
   {
    "duration": 18,
    "start_time": "2023-09-05T18:02:55.196Z"
   },
   {
    "duration": 33,
    "start_time": "2023-09-05T18:02:55.234Z"
   },
   {
    "duration": 25,
    "start_time": "2023-09-05T18:02:55.269Z"
   },
   {
    "duration": 4,
    "start_time": "2023-09-05T18:02:55.295Z"
   },
   {
    "duration": 33,
    "start_time": "2023-09-05T18:02:55.301Z"
   },
   {
    "duration": 1005,
    "start_time": "2023-09-05T18:02:55.336Z"
   },
   {
    "duration": 17372,
    "start_time": "2023-09-05T18:02:56.344Z"
   },
   {
    "duration": 6879,
    "start_time": "2023-09-05T18:03:13.718Z"
   },
   {
    "duration": 4,
    "start_time": "2023-09-05T18:03:20.601Z"
   },
   {
    "duration": 262,
    "start_time": "2023-09-05T18:03:20.607Z"
   },
   {
    "duration": 5,
    "start_time": "2023-09-05T18:03:53.151Z"
   },
   {
    "duration": 115,
    "start_time": "2023-09-05T18:04:02.372Z"
   },
   {
    "duration": 5663,
    "start_time": "2023-09-05T18:04:15.899Z"
   },
   {
    "duration": 6,
    "start_time": "2023-09-05T18:04:43.785Z"
   },
   {
    "duration": 3512,
    "start_time": "2023-09-05T18:04:45.291Z"
   },
   {
    "duration": 2116,
    "start_time": "2023-09-05T18:04:56.146Z"
   },
   {
    "duration": 1984,
    "start_time": "2023-09-05T18:05:02.444Z"
   },
   {
    "duration": 3,
    "start_time": "2023-09-05T18:05:46.759Z"
   },
   {
    "duration": 3,
    "start_time": "2023-09-05T18:05:51.940Z"
   },
   {
    "duration": 1532,
    "start_time": "2023-09-05T18:06:03.772Z"
   },
   {
    "duration": 6,
    "start_time": "2023-09-05T18:08:42.294Z"
   },
   {
    "duration": 6593,
    "start_time": "2023-09-05T18:09:38.830Z"
   },
   {
    "duration": 51,
    "start_time": "2023-09-05T18:10:17.215Z"
   },
   {
    "duration": 1330,
    "start_time": "2023-09-05T18:11:35.381Z"
   },
   {
    "duration": 3,
    "start_time": "2023-09-05T18:11:36.713Z"
   },
   {
    "duration": 19,
    "start_time": "2023-09-05T18:11:36.717Z"
   },
   {
    "duration": 10,
    "start_time": "2023-09-05T18:11:36.738Z"
   },
   {
    "duration": 211,
    "start_time": "2023-09-05T18:11:36.750Z"
   },
   {
    "duration": 415,
    "start_time": "2023-09-05T18:11:36.963Z"
   },
   {
    "duration": 7,
    "start_time": "2023-09-05T18:11:37.380Z"
   },
   {
    "duration": 21,
    "start_time": "2023-09-05T18:11:37.389Z"
   },
   {
    "duration": 321,
    "start_time": "2023-09-05T18:11:37.412Z"
   },
   {
    "duration": 10,
    "start_time": "2023-09-05T18:11:37.735Z"
   },
   {
    "duration": 100,
    "start_time": "2023-09-05T18:11:37.746Z"
   },
   {
    "duration": 226,
    "start_time": "2023-09-05T18:11:37.848Z"
   },
   {
    "duration": 1994,
    "start_time": "2023-09-05T18:11:38.076Z"
   },
   {
    "duration": 6,
    "start_time": "2023-09-05T18:11:40.073Z"
   },
   {
    "duration": 26,
    "start_time": "2023-09-05T18:11:40.080Z"
   },
   {
    "duration": 153,
    "start_time": "2023-09-05T18:11:40.107Z"
   },
   {
    "duration": 75,
    "start_time": "2023-09-05T18:11:40.261Z"
   },
   {
    "duration": 360,
    "start_time": "2023-09-05T18:11:40.338Z"
   },
   {
    "duration": 5,
    "start_time": "2023-09-05T18:11:40.699Z"
   },
   {
    "duration": 281,
    "start_time": "2023-09-05T18:11:40.734Z"
   },
   {
    "duration": 18,
    "start_time": "2023-09-05T18:11:41.016Z"
   },
   {
    "duration": 4,
    "start_time": "2023-09-05T18:11:41.036Z"
   },
   {
    "duration": 1133,
    "start_time": "2023-09-05T18:11:41.041Z"
   },
   {
    "duration": 166,
    "start_time": "2023-09-05T18:11:42.176Z"
   },
   {
    "duration": 7,
    "start_time": "2023-09-05T18:11:42.343Z"
   },
   {
    "duration": 87,
    "start_time": "2023-09-05T18:11:42.352Z"
   },
   {
    "duration": 18,
    "start_time": "2023-09-05T18:11:42.440Z"
   },
   {
    "duration": 2,
    "start_time": "2023-09-05T18:11:42.460Z"
   },
   {
    "duration": 9,
    "start_time": "2023-09-05T18:11:42.463Z"
   },
   {
    "duration": 12,
    "start_time": "2023-09-05T18:11:42.473Z"
   },
   {
    "duration": 7,
    "start_time": "2023-09-05T18:11:42.487Z"
   },
   {
    "duration": 46,
    "start_time": "2023-09-05T18:11:42.496Z"
   },
   {
    "duration": 14,
    "start_time": "2023-09-05T18:11:42.543Z"
   },
   {
    "duration": 31,
    "start_time": "2023-09-05T18:11:42.558Z"
   },
   {
    "duration": 49,
    "start_time": "2023-09-05T18:11:42.590Z"
   },
   {
    "duration": 5,
    "start_time": "2023-09-05T18:11:42.641Z"
   },
   {
    "duration": 10,
    "start_time": "2023-09-05T18:11:42.647Z"
   },
   {
    "duration": 884,
    "start_time": "2023-09-05T18:11:42.658Z"
   },
   {
    "duration": 17409,
    "start_time": "2023-09-05T18:11:43.633Z"
   },
   {
    "duration": 58,
    "start_time": "2023-09-05T18:12:01.043Z"
   },
   {
    "duration": 0,
    "start_time": "2023-09-05T18:12:01.103Z"
   },
   {
    "duration": 0,
    "start_time": "2023-09-05T18:12:01.105Z"
   },
   {
    "duration": 8572,
    "start_time": "2023-09-05T18:12:46.460Z"
   },
   {
    "duration": 8575,
    "start_time": "2023-09-05T18:13:38.194Z"
   },
   {
    "duration": 7597,
    "start_time": "2023-09-05T18:14:12.370Z"
   },
   {
    "duration": 5012,
    "start_time": "2023-09-05T18:14:45.514Z"
   },
   {
    "duration": 6233,
    "start_time": "2023-09-05T18:15:02.158Z"
   },
   {
    "duration": 5377,
    "start_time": "2023-09-05T18:15:20.338Z"
   },
   {
    "duration": 5314,
    "start_time": "2023-09-05T18:15:34.515Z"
   },
   {
    "duration": 5,
    "start_time": "2023-09-05T18:15:45.819Z"
   },
   {
    "duration": 5535,
    "start_time": "2023-09-05T18:15:56.698Z"
   },
   {
    "duration": 5211,
    "start_time": "2023-09-05T18:16:08.226Z"
   },
   {
    "duration": 5627,
    "start_time": "2023-09-05T18:16:21.524Z"
   },
   {
    "duration": 5742,
    "start_time": "2023-09-05T18:16:33.016Z"
   },
   {
    "duration": 19308,
    "start_time": "2023-09-05T18:16:56.745Z"
   },
   {
    "duration": 5,
    "start_time": "2023-09-05T18:17:21.732Z"
   },
   {
    "duration": 5,
    "start_time": "2023-09-05T18:19:02.261Z"
   },
   {
    "duration": 1323,
    "start_time": "2023-09-05T18:19:08.184Z"
   },
   {
    "duration": 2,
    "start_time": "2023-09-05T18:19:09.509Z"
   },
   {
    "duration": 28,
    "start_time": "2023-09-05T18:19:09.513Z"
   },
   {
    "duration": 22,
    "start_time": "2023-09-05T18:19:09.543Z"
   },
   {
    "duration": 194,
    "start_time": "2023-09-05T18:19:09.567Z"
   },
   {
    "duration": 414,
    "start_time": "2023-09-05T18:19:09.762Z"
   },
   {
    "duration": 6,
    "start_time": "2023-09-05T18:19:10.178Z"
   },
   {
    "duration": 38,
    "start_time": "2023-09-05T18:19:10.185Z"
   },
   {
    "duration": 314,
    "start_time": "2023-09-05T18:19:10.224Z"
   },
   {
    "duration": 9,
    "start_time": "2023-09-05T18:19:10.539Z"
   },
   {
    "duration": 101,
    "start_time": "2023-09-05T18:19:10.550Z"
   },
   {
    "duration": 218,
    "start_time": "2023-09-05T18:19:10.653Z"
   },
   {
    "duration": 2086,
    "start_time": "2023-09-05T18:19:10.872Z"
   },
   {
    "duration": 6,
    "start_time": "2023-09-05T18:19:12.960Z"
   },
   {
    "duration": 22,
    "start_time": "2023-09-05T18:19:12.967Z"
   },
   {
    "duration": 253,
    "start_time": "2023-09-05T18:19:12.990Z"
   },
   {
    "duration": 4,
    "start_time": "2023-09-05T18:19:13.244Z"
   },
   {
    "duration": 442,
    "start_time": "2023-09-05T18:19:13.249Z"
   },
   {
    "duration": 4,
    "start_time": "2023-09-05T18:19:13.693Z"
   },
   {
    "duration": 322,
    "start_time": "2023-09-05T18:19:13.698Z"
   },
   {
    "duration": 16,
    "start_time": "2023-09-05T18:19:14.022Z"
   },
   {
    "duration": 10,
    "start_time": "2023-09-05T18:19:14.039Z"
   },
   {
    "duration": 1209,
    "start_time": "2023-09-05T18:19:14.051Z"
   },
   {
    "duration": 181,
    "start_time": "2023-09-05T18:19:15.262Z"
   },
   {
    "duration": 8,
    "start_time": "2023-09-05T18:19:15.445Z"
   },
   {
    "duration": 88,
    "start_time": "2023-09-05T18:19:15.455Z"
   },
   {
    "duration": 19,
    "start_time": "2023-09-05T18:19:15.545Z"
   },
   {
    "duration": 2,
    "start_time": "2023-09-05T18:19:15.566Z"
   },
   {
    "duration": 7,
    "start_time": "2023-09-05T18:19:15.569Z"
   },
   {
    "duration": 15,
    "start_time": "2023-09-05T18:19:15.578Z"
   },
   {
    "duration": 44,
    "start_time": "2023-09-05T18:19:15.595Z"
   },
   {
    "duration": 10,
    "start_time": "2023-09-05T18:19:15.641Z"
   },
   {
    "duration": 15,
    "start_time": "2023-09-05T18:19:15.652Z"
   },
   {
    "duration": 30,
    "start_time": "2023-09-05T18:19:15.669Z"
   },
   {
    "duration": 45,
    "start_time": "2023-09-05T18:19:15.701Z"
   },
   {
    "duration": 4,
    "start_time": "2023-09-05T18:19:15.747Z"
   },
   {
    "duration": 23,
    "start_time": "2023-09-05T18:19:15.753Z"
   },
   {
    "duration": 856,
    "start_time": "2023-09-05T18:19:15.778Z"
   },
   {
    "duration": 17352,
    "start_time": "2023-09-05T18:19:16.640Z"
   },
   {
    "duration": 18214,
    "start_time": "2023-09-05T18:19:33.993Z"
   },
   {
    "duration": 6,
    "start_time": "2023-09-05T18:19:52.211Z"
   },
   {
    "duration": 265,
    "start_time": "2023-09-05T18:19:52.218Z"
   },
   {
    "duration": 7,
    "start_time": "2023-09-05T18:20:39.552Z"
   },
   {
    "duration": 1341,
    "start_time": "2023-09-05T18:20:44.574Z"
   },
   {
    "duration": 3,
    "start_time": "2023-09-05T18:20:45.917Z"
   },
   {
    "duration": 12,
    "start_time": "2023-09-05T18:20:45.921Z"
   },
   {
    "duration": 13,
    "start_time": "2023-09-05T18:20:45.934Z"
   },
   {
    "duration": 217,
    "start_time": "2023-09-05T18:20:45.949Z"
   },
   {
    "duration": 410,
    "start_time": "2023-09-05T18:20:46.168Z"
   },
   {
    "duration": 6,
    "start_time": "2023-09-05T18:20:46.580Z"
   },
   {
    "duration": 22,
    "start_time": "2023-09-05T18:20:46.588Z"
   },
   {
    "duration": 316,
    "start_time": "2023-09-05T18:20:46.612Z"
   },
   {
    "duration": 9,
    "start_time": "2023-09-05T18:20:46.933Z"
   },
   {
    "duration": 102,
    "start_time": "2023-09-05T18:20:46.943Z"
   },
   {
    "duration": 222,
    "start_time": "2023-09-05T18:20:47.046Z"
   },
   {
    "duration": 2034,
    "start_time": "2023-09-05T18:20:47.270Z"
   },
   {
    "duration": 6,
    "start_time": "2023-09-05T18:20:49.307Z"
   },
   {
    "duration": 5,
    "start_time": "2023-09-05T18:20:49.315Z"
   },
   {
    "duration": 203,
    "start_time": "2023-09-05T18:20:49.334Z"
   },
   {
    "duration": 4,
    "start_time": "2023-09-05T18:20:49.538Z"
   },
   {
    "duration": 409,
    "start_time": "2023-09-05T18:20:49.543Z"
   },
   {
    "duration": 4,
    "start_time": "2023-09-05T18:20:49.954Z"
   },
   {
    "duration": 336,
    "start_time": "2023-09-05T18:20:49.959Z"
   },
   {
    "duration": 6,
    "start_time": "2023-09-05T18:20:50.297Z"
   },
   {
    "duration": 7,
    "start_time": "2023-09-05T18:20:50.304Z"
   },
   {
    "duration": 1100,
    "start_time": "2023-09-05T18:20:50.312Z"
   },
   {
    "duration": 230,
    "start_time": "2023-09-05T18:20:51.414Z"
   },
   {
    "duration": 8,
    "start_time": "2023-09-05T18:20:51.645Z"
   },
   {
    "duration": 39,
    "start_time": "2023-09-05T18:20:51.654Z"
   },
   {
    "duration": 19,
    "start_time": "2023-09-05T18:20:51.695Z"
   },
   {
    "duration": 2,
    "start_time": "2023-09-05T18:20:51.715Z"
   },
   {
    "duration": 22,
    "start_time": "2023-09-05T18:20:51.719Z"
   },
   {
    "duration": 13,
    "start_time": "2023-09-05T18:20:51.743Z"
   },
   {
    "duration": 9,
    "start_time": "2023-09-05T18:20:51.758Z"
   },
   {
    "duration": 11,
    "start_time": "2023-09-05T18:20:51.768Z"
   },
   {
    "duration": 14,
    "start_time": "2023-09-05T18:20:51.781Z"
   },
   {
    "duration": 62,
    "start_time": "2023-09-05T18:20:51.797Z"
   },
   {
    "duration": 26,
    "start_time": "2023-09-05T18:20:51.861Z"
   },
   {
    "duration": 4,
    "start_time": "2023-09-05T18:20:51.889Z"
   },
   {
    "duration": 16,
    "start_time": "2023-09-05T18:20:51.895Z"
   },
   {
    "duration": 1004,
    "start_time": "2023-09-05T18:20:51.934Z"
   },
   {
    "duration": 17509,
    "start_time": "2023-09-05T18:20:52.939Z"
   },
   {
    "duration": 19840,
    "start_time": "2023-09-05T18:21:10.449Z"
   },
   {
    "duration": 13,
    "start_time": "2023-09-05T18:21:30.293Z"
   },
   {
    "duration": 297,
    "start_time": "2023-09-05T18:21:30.308Z"
   },
   {
    "duration": 6545,
    "start_time": "2023-09-05T20:37:54.366Z"
   },
   {
    "duration": 3,
    "start_time": "2023-09-05T20:38:00.913Z"
   },
   {
    "duration": 64,
    "start_time": "2023-09-05T20:38:00.917Z"
   },
   {
    "duration": 6,
    "start_time": "2023-09-05T20:38:01.513Z"
   },
   {
    "duration": 217,
    "start_time": "2023-09-05T20:38:02.164Z"
   },
   {
    "duration": 444,
    "start_time": "2023-09-05T20:38:02.929Z"
   },
   {
    "duration": 8,
    "start_time": "2023-09-05T20:38:03.374Z"
   },
   {
    "duration": 13,
    "start_time": "2023-09-05T20:38:03.448Z"
   },
   {
    "duration": 351,
    "start_time": "2023-09-05T20:38:03.573Z"
   },
   {
    "duration": 24,
    "start_time": "2023-09-05T20:38:03.926Z"
   },
   {
    "duration": 111,
    "start_time": "2023-09-05T20:38:04.229Z"
   },
   {
    "duration": 284,
    "start_time": "2023-09-05T20:38:04.410Z"
   },
   {
    "duration": 2352,
    "start_time": "2023-09-05T20:38:04.870Z"
   },
   {
    "duration": 24,
    "start_time": "2023-09-05T20:38:07.224Z"
   },
   {
    "duration": 5,
    "start_time": "2023-09-05T20:38:07.250Z"
   },
   {
    "duration": 281,
    "start_time": "2023-09-05T20:38:07.256Z"
   },
   {
    "duration": 5,
    "start_time": "2023-09-05T20:38:07.539Z"
   },
   {
    "duration": 476,
    "start_time": "2023-09-05T20:38:07.549Z"
   },
   {
    "duration": 6,
    "start_time": "2023-09-05T20:38:08.034Z"
   },
   {
    "duration": 358,
    "start_time": "2023-09-05T20:38:08.042Z"
   },
   {
    "duration": 7,
    "start_time": "2023-09-05T20:38:08.402Z"
   },
   {
    "duration": 7,
    "start_time": "2023-09-05T20:38:08.410Z"
   },
   {
    "duration": 1275,
    "start_time": "2023-09-05T20:38:08.547Z"
   },
   {
    "duration": 219,
    "start_time": "2023-09-05T20:38:09.824Z"
   },
   {
    "duration": 9,
    "start_time": "2023-09-05T20:38:10.681Z"
   },
   {
    "duration": 18,
    "start_time": "2023-09-05T20:38:11.173Z"
   },
   {
    "duration": 21,
    "start_time": "2023-09-05T20:38:11.909Z"
   },
   {
    "duration": 2,
    "start_time": "2023-09-05T20:38:13.665Z"
   },
   {
    "duration": 10,
    "start_time": "2023-09-05T20:38:14.782Z"
   },
   {
    "duration": 20,
    "start_time": "2023-09-05T20:38:15.995Z"
   },
   {
    "duration": 12,
    "start_time": "2023-09-05T20:38:16.185Z"
   },
   {
    "duration": 16,
    "start_time": "2023-09-05T20:38:16.349Z"
   },
   {
    "duration": 16,
    "start_time": "2023-09-05T20:38:17.372Z"
   },
   {
    "duration": 53,
    "start_time": "2023-09-05T20:38:17.928Z"
   },
   {
    "duration": 29,
    "start_time": "2023-09-05T20:38:18.734Z"
   },
   {
    "duration": 5,
    "start_time": "2023-09-05T20:38:18.893Z"
   },
   {
    "duration": 8,
    "start_time": "2023-09-05T20:38:19.423Z"
   },
   {
    "duration": 964,
    "start_time": "2023-09-05T20:38:20.081Z"
   },
   {
    "duration": 18798,
    "start_time": "2023-09-05T20:38:21.053Z"
   }
  ],
  "kernelspec": {
   "display_name": "Python 3 (ipykernel)",
   "language": "python",
   "name": "python3"
  },
  "language_info": {
   "codemirror_mode": {
    "name": "ipython",
    "version": 3
   },
   "file_extension": ".py",
   "mimetype": "text/x-python",
   "name": "python",
   "nbconvert_exporter": "python",
   "pygments_lexer": "ipython3",
   "version": "3.9.5"
  },
  "toc": {
   "base_numbering": 1,
   "nav_menu": {},
   "number_sections": true,
   "sideBar": true,
   "skip_h1_title": true,
   "title_cell": "Table of Contents",
   "title_sidebar": "Contents",
   "toc_cell": false,
   "toc_position": {},
   "toc_section_display": true,
   "toc_window_display": false
  }
 },
 "nbformat": 4,
 "nbformat_minor": 2
}
