{
 "cells": [
  {
   "cell_type": "markdown",
   "id": "80b35b83",
   "metadata": {},
   "source": [
    "# Анализ данных пользователей сервиса аренды самокатов GoFast \n",
    "\n",
    "Цель:\n",
    "<br>Проверьте некоторые гипотезы, которые могут помочь бизнесу вырасти.\n",
    "\n",
    "Данные: \n",
    "<br>users_go.csv - Таблица с пользователями сервиса\n",
    "<br>rides_go.csv - Таблица с поездками пользователей\n",
    "<br>datasets/subscriptions_go.csv - тарифы пользования сервисом\n",
    "\n",
    "План:\n",
    "<a id='toc0_'></a>    \n",
    "- [Анализ данных пользователей сервиса аренды самокатов GoFast](#toc1_)    \n",
    "  - [Шаг 1. Загрузка данных](#toc1_1_)    \n",
    "  - [Шаг 2. Предобработка данных](#toc1_2_)    \n",
    "    - [Пользователи](#toc1_2_1_)    \n",
    "    - [Поездки](#toc1_2_2_)    \n",
    "    - [Подписки](#toc1_2_3_)    \n",
    "    - [Вывод](#toc1_2_4_)    \n",
    "  - [Шаг 3. Исследовательский анализ данных](#toc1_3_)    \n",
    "    - [частота встречаемости городов](#toc1_3_1_)    \n",
    "    - [соотношение пользователей с подпиской и без подписки;](#toc1_3_2_)    \n",
    "    - [возраст пользователей](#toc1_3_3_)    \n",
    "    - [расстояние, которое пользователь преодолел за одну поездку](#toc1_3_4_)    \n",
    "    - [продолжительность поездок](#toc1_3_5_)    \n",
    "    - [Выводы](#toc1_3_6_)    \n",
    "  - [Шаг 4. Объединение данных](#toc1_4_)    \n",
    "    - [Объединить в один dataframe](#toc1_4_1_)    \n",
    "    - [Делим данные под типу подписки](#toc1_4_2_)    \n",
    "    - [Визуализируйте информацию о расстоянии и времени поездок для пользователей обеих категорий.](#toc1_4_3_)    \n",
    "    - [Вывод](#toc1_4_4_)    \n",
    "  - [Шаг 5. Подсчёт выручки](#toc1_5_)    \n",
    "    - [Создайте датафрейм с агрегированными данными о поездках](#toc1_5_1_)    \n",
    "    - [Месячная выручка](#toc1_5_2_)    \n",
    "    - [Вывод](#toc1_5_3_)    \n",
    "  - [Шаг 6. Проверка гипотез](#toc1_6_)    \n",
    "    - [Тратят ли пользователи с подпиской больше время на поездки](#toc1_6_1_)    \n",
    "    - [Превышает ли расстояние поездки платных пользователей оптимальное в 3130](#toc1_6_2_)    \n",
    "    - [От какого типа пользователей выручка выше](#toc1_6_3_)    \n",
    "    - [Какой тест понадобится для проверки гипотезы об уменьшии обрещений в поддержку](#toc1_6_4_)    \n",
    "    - [Выводы](#toc1_6_5_)    \n",
    "  - [Шаг 7. Распределения](#toc1_7_)    \n",
    "    - [Количество промокодов для рассылки](#toc1_7_1_)    \n",
    "    - [Вывод](#toc1_7_2_)    \n",
    "    - [Оценка открытия PUSH уведомлений](#toc1_7_3_)    \n",
    "    - [Вывод](#toc1_7_4_)    \n",
    "\n",
    "<!-- vscode-jupyter-toc-config\n",
    "\tnumbering=false\n",
    "\tanchor=true\n",
    "\tflat=false\n",
    "\tminLevel=1\n",
    "\tmaxLevel=6\n",
    "\t/vscode-jupyter-toc-config -->\n",
    "<!-- THIS CELL WILL BE REPLACED ON TOC UPDATE. DO NOT WRITE YOUR TEXT IN THIS CELL -->"
   ]
  },
  {
   "cell_type": "code",
   "execution_count": 1,
   "id": "8cafd145",
   "metadata": {},
   "outputs": [],
   "source": [
    "import pandas as pd\n",
    "import numpy as np\n",
    "import matplotlib.pyplot as plt\n",
    "from scipy import stats as st\n",
    "from scipy.stats import binom\n",
    "from numpy import random\n",
    "from math import sqrt"
   ]
  },
  {
   "cell_type": "markdown",
   "id": "c42cbe00",
   "metadata": {},
   "source": [
    "## Шаг 1. Загрузка данных"
   ]
  },
  {
   "cell_type": "code",
   "execution_count": 2,
   "id": "eff9f206",
   "metadata": {},
   "outputs": [],
   "source": [
    "try:\n",
    "    users = pd.read_csv('datasets/users_go.csv')\n",
    "    rides = pd.read_csv('datasets/rides_go.csv')\n",
    "    subs = pd.read_csv('datasets/subscriptions_go.csv')\n",
    "    \n",
    "except:\n",
    "    users = pd.read_csv('https://code.s3.yandex.net/datasets/users_go.csv')\n",
    "    rides = pd.read_csv('https://code.s3.yandex.net/datasets/rides_go.csv')\n",
    "    subs = pd.read_csv('https://code.s3.yandex.net/datasets/subscriptions_go.csv')"
   ]
  },
  {
   "cell_type": "markdown",
   "id": "e95ebca7",
   "metadata": {},
   "source": [
    "## Шаг 2. Предобработка данных"
   ]
  },
  {
   "cell_type": "code",
   "execution_count": 3,
   "id": "7ded449d",
   "metadata": {},
   "outputs": [],
   "source": [
    "def dataframe_info_extended(df: pd.DataFrame):\n",
    "    print('-------HEAD-----')\n",
    "    display(df.head())\n",
    "    print()\n",
    "    print('-------INFO-----')\n",
    "    print(df.info())\n",
    "    print()\n",
    "    print('---NA---')\n",
    "    print(df.isna().sum())    \n",
    "    print()\n",
    "    print('---DUPLICATED---')\n",
    "    print(df.duplicated().sum())"
   ]
  },
  {
   "cell_type": "markdown",
   "id": "421e73c4",
   "metadata": {},
   "source": [
    "### Пользователи"
   ]
  },
  {
   "cell_type": "code",
   "execution_count": 4,
   "id": "af6d202c",
   "metadata": {},
   "outputs": [
    {
     "name": "stdout",
     "output_type": "stream",
     "text": [
      "-------HEAD-----\n"
     ]
    },
    {
     "data": {
      "text/html": [
       "<div>\n",
       "<style scoped>\n",
       "    .dataframe tbody tr th:only-of-type {\n",
       "        vertical-align: middle;\n",
       "    }\n",
       "\n",
       "    .dataframe tbody tr th {\n",
       "        vertical-align: top;\n",
       "    }\n",
       "\n",
       "    .dataframe thead th {\n",
       "        text-align: right;\n",
       "    }\n",
       "</style>\n",
       "<table border=\"1\" class=\"dataframe\">\n",
       "  <thead>\n",
       "    <tr style=\"text-align: right;\">\n",
       "      <th></th>\n",
       "      <th>user_id</th>\n",
       "      <th>name</th>\n",
       "      <th>age</th>\n",
       "      <th>city</th>\n",
       "      <th>subscription_type</th>\n",
       "    </tr>\n",
       "  </thead>\n",
       "  <tbody>\n",
       "    <tr>\n",
       "      <th>0</th>\n",
       "      <td>1</td>\n",
       "      <td>Кира</td>\n",
       "      <td>22</td>\n",
       "      <td>Тюмень</td>\n",
       "      <td>ultra</td>\n",
       "    </tr>\n",
       "    <tr>\n",
       "      <th>1</th>\n",
       "      <td>2</td>\n",
       "      <td>Станислав</td>\n",
       "      <td>31</td>\n",
       "      <td>Омск</td>\n",
       "      <td>ultra</td>\n",
       "    </tr>\n",
       "    <tr>\n",
       "      <th>2</th>\n",
       "      <td>3</td>\n",
       "      <td>Алексей</td>\n",
       "      <td>20</td>\n",
       "      <td>Москва</td>\n",
       "      <td>ultra</td>\n",
       "    </tr>\n",
       "    <tr>\n",
       "      <th>3</th>\n",
       "      <td>4</td>\n",
       "      <td>Константин</td>\n",
       "      <td>26</td>\n",
       "      <td>Ростов-на-Дону</td>\n",
       "      <td>ultra</td>\n",
       "    </tr>\n",
       "    <tr>\n",
       "      <th>4</th>\n",
       "      <td>5</td>\n",
       "      <td>Адель</td>\n",
       "      <td>28</td>\n",
       "      <td>Омск</td>\n",
       "      <td>ultra</td>\n",
       "    </tr>\n",
       "  </tbody>\n",
       "</table>\n",
       "</div>"
      ],
      "text/plain": [
       "   user_id        name  age            city subscription_type\n",
       "0        1        Кира   22          Тюмень             ultra\n",
       "1        2   Станислав   31            Омск             ultra\n",
       "2        3     Алексей   20          Москва             ultra\n",
       "3        4  Константин   26  Ростов-на-Дону             ultra\n",
       "4        5       Адель   28            Омск             ultra"
      ]
     },
     "metadata": {},
     "output_type": "display_data"
    },
    {
     "name": "stdout",
     "output_type": "stream",
     "text": [
      "\n",
      "-------INFO-----\n",
      "<class 'pandas.core.frame.DataFrame'>\n",
      "RangeIndex: 1565 entries, 0 to 1564\n",
      "Data columns (total 5 columns):\n",
      " #   Column             Non-Null Count  Dtype \n",
      "---  ------             --------------  ----- \n",
      " 0   user_id            1565 non-null   int64 \n",
      " 1   name               1565 non-null   object\n",
      " 2   age                1565 non-null   int64 \n",
      " 3   city               1565 non-null   object\n",
      " 4   subscription_type  1565 non-null   object\n",
      "dtypes: int64(2), object(3)\n",
      "memory usage: 61.3+ KB\n",
      "None\n",
      "\n",
      "---NA---\n",
      "user_id              0\n",
      "name                 0\n",
      "age                  0\n",
      "city                 0\n",
      "subscription_type    0\n",
      "dtype: int64\n",
      "\n",
      "---DUPLICATED---\n",
      "31\n"
     ]
    }
   ],
   "source": [
    "dataframe_info_extended(users)"
   ]
  },
  {
   "cell_type": "code",
   "execution_count": 5,
   "id": "2aca2f24",
   "metadata": {},
   "outputs": [],
   "source": [
    "users = users.drop_duplicates().reset_index(drop=True)"
   ]
  },
  {
   "cell_type": "code",
   "execution_count": 6,
   "id": "17d5685a",
   "metadata": {},
   "outputs": [
    {
     "data": {
      "text/plain": [
       "count    1534.000000\n",
       "mean       24.903520\n",
       "std         4.572367\n",
       "min        12.000000\n",
       "25%        22.000000\n",
       "50%        25.000000\n",
       "75%        28.000000\n",
       "max        43.000000\n",
       "Name: age, dtype: float64"
      ]
     },
     "execution_count": 6,
     "metadata": {},
     "output_type": "execute_result"
    }
   ],
   "source": [
    "users['age'].describe()"
   ]
  },
  {
   "cell_type": "code",
   "execution_count": 7,
   "id": "6abf8264",
   "metadata": {},
   "outputs": [
    {
     "data": {
      "text/plain": [
       "Пятигорск         219\n",
       "Екатеринбург      204\n",
       "Ростов-на-Дону    198\n",
       "Краснодар         193\n",
       "Сочи              189\n",
       "Омск              183\n",
       "Тюмень            180\n",
       "Москва            168\n",
       "Name: city, dtype: int64"
      ]
     },
     "execution_count": 7,
     "metadata": {},
     "output_type": "execute_result"
    }
   ],
   "source": [
    "users['city'].value_counts()"
   ]
  },
  {
   "cell_type": "code",
   "execution_count": 8,
   "id": "e682d64e",
   "metadata": {},
   "outputs": [
    {
     "data": {
      "text/plain": [
       "free     835\n",
       "ultra    699\n",
       "Name: subscription_type, dtype: int64"
      ]
     },
     "execution_count": 8,
     "metadata": {},
     "output_type": "execute_result"
    }
   ],
   "source": [
    "users['subscription_type'].value_counts()"
   ]
  },
  {
   "cell_type": "markdown",
   "id": "4c33c2a5",
   "metadata": {},
   "source": [
    "1. Пропусков нет  \n",
    "2. Дубли удалили\n",
    "3. Аномальных значений возраста и города нет\n"
   ]
  },
  {
   "cell_type": "markdown",
   "id": "4c188ee0",
   "metadata": {},
   "source": [
    "### Поездки"
   ]
  },
  {
   "cell_type": "code",
   "execution_count": 9,
   "id": "43e47cf8",
   "metadata": {},
   "outputs": [
    {
     "name": "stdout",
     "output_type": "stream",
     "text": [
      "-------HEAD-----\n"
     ]
    },
    {
     "data": {
      "text/html": [
       "<div>\n",
       "<style scoped>\n",
       "    .dataframe tbody tr th:only-of-type {\n",
       "        vertical-align: middle;\n",
       "    }\n",
       "\n",
       "    .dataframe tbody tr th {\n",
       "        vertical-align: top;\n",
       "    }\n",
       "\n",
       "    .dataframe thead th {\n",
       "        text-align: right;\n",
       "    }\n",
       "</style>\n",
       "<table border=\"1\" class=\"dataframe\">\n",
       "  <thead>\n",
       "    <tr style=\"text-align: right;\">\n",
       "      <th></th>\n",
       "      <th>user_id</th>\n",
       "      <th>distance</th>\n",
       "      <th>duration</th>\n",
       "      <th>date</th>\n",
       "    </tr>\n",
       "  </thead>\n",
       "  <tbody>\n",
       "    <tr>\n",
       "      <th>0</th>\n",
       "      <td>1</td>\n",
       "      <td>4409.919140</td>\n",
       "      <td>25.599769</td>\n",
       "      <td>2021-01-01</td>\n",
       "    </tr>\n",
       "    <tr>\n",
       "      <th>1</th>\n",
       "      <td>1</td>\n",
       "      <td>2617.592153</td>\n",
       "      <td>15.816871</td>\n",
       "      <td>2021-01-18</td>\n",
       "    </tr>\n",
       "    <tr>\n",
       "      <th>2</th>\n",
       "      <td>1</td>\n",
       "      <td>754.159807</td>\n",
       "      <td>6.232113</td>\n",
       "      <td>2021-04-20</td>\n",
       "    </tr>\n",
       "    <tr>\n",
       "      <th>3</th>\n",
       "      <td>1</td>\n",
       "      <td>2694.783254</td>\n",
       "      <td>18.511000</td>\n",
       "      <td>2021-08-11</td>\n",
       "    </tr>\n",
       "    <tr>\n",
       "      <th>4</th>\n",
       "      <td>1</td>\n",
       "      <td>4028.687306</td>\n",
       "      <td>26.265803</td>\n",
       "      <td>2021-08-28</td>\n",
       "    </tr>\n",
       "  </tbody>\n",
       "</table>\n",
       "</div>"
      ],
      "text/plain": [
       "   user_id     distance   duration        date\n",
       "0        1  4409.919140  25.599769  2021-01-01\n",
       "1        1  2617.592153  15.816871  2021-01-18\n",
       "2        1   754.159807   6.232113  2021-04-20\n",
       "3        1  2694.783254  18.511000  2021-08-11\n",
       "4        1  4028.687306  26.265803  2021-08-28"
      ]
     },
     "metadata": {},
     "output_type": "display_data"
    },
    {
     "name": "stdout",
     "output_type": "stream",
     "text": [
      "\n",
      "-------INFO-----\n",
      "<class 'pandas.core.frame.DataFrame'>\n",
      "RangeIndex: 18068 entries, 0 to 18067\n",
      "Data columns (total 4 columns):\n",
      " #   Column    Non-Null Count  Dtype  \n",
      "---  ------    --------------  -----  \n",
      " 0   user_id   18068 non-null  int64  \n",
      " 1   distance  18068 non-null  float64\n",
      " 2   duration  18068 non-null  float64\n",
      " 3   date      18068 non-null  object \n",
      "dtypes: float64(2), int64(1), object(1)\n",
      "memory usage: 564.8+ KB\n",
      "None\n",
      "\n",
      "---NA---\n",
      "user_id     0\n",
      "distance    0\n",
      "duration    0\n",
      "date        0\n",
      "dtype: int64\n",
      "\n",
      "---DUPLICATED---\n",
      "0\n"
     ]
    }
   ],
   "source": [
    "dataframe_info_extended(rides)"
   ]
  },
  {
   "cell_type": "code",
   "execution_count": 10,
   "id": "0660fa1d",
   "metadata": {},
   "outputs": [
    {
     "data": {
      "text/plain": [
       "count    18068.000000\n",
       "mean      3070.659976\n",
       "std       1116.831209\n",
       "min          0.855683\n",
       "25%       2543.226360\n",
       "50%       3133.609994\n",
       "75%       3776.222735\n",
       "max       7211.007745\n",
       "Name: distance, dtype: float64"
      ]
     },
     "execution_count": 10,
     "metadata": {},
     "output_type": "execute_result"
    }
   ],
   "source": [
    "rides['distance'].describe()"
   ]
  },
  {
   "cell_type": "code",
   "execution_count": 11,
   "id": "c74fad19",
   "metadata": {},
   "outputs": [
    {
     "data": {
      "text/plain": [
       "5"
      ]
     },
     "execution_count": 11,
     "metadata": {},
     "output_type": "execute_result"
    }
   ],
   "source": [
    "rides.query('distance < 10')['distance'].count()"
   ]
  },
  {
   "cell_type": "code",
   "execution_count": 12,
   "id": "abdd48c7",
   "metadata": {},
   "outputs": [
    {
     "data": {
      "text/plain": [
       "count    18068.000000\n",
       "mean        17.805011\n",
       "std          6.091051\n",
       "min          0.500000\n",
       "25%         13.597563\n",
       "50%         17.678395\n",
       "75%         21.724800\n",
       "max         40.823963\n",
       "Name: duration, dtype: float64"
      ]
     },
     "execution_count": 12,
     "metadata": {},
     "output_type": "execute_result"
    }
   ],
   "source": [
    "rides['duration'].describe()"
   ]
  },
  {
   "cell_type": "code",
   "execution_count": 13,
   "id": "1570d427",
   "metadata": {},
   "outputs": [
    {
     "data": {
      "text/plain": [
       "95"
      ]
     },
     "execution_count": 13,
     "metadata": {},
     "output_type": "execute_result"
    }
   ],
   "source": [
    "rides.query('duration < 1')['distance'].count()"
   ]
  },
  {
   "cell_type": "code",
   "execution_count": 14,
   "id": "75636804",
   "metadata": {},
   "outputs": [
    {
     "name": "stdout",
     "output_type": "stream",
     "text": [
      "2021-01-01 00:00:00\n",
      "2021-12-30 00:00:00\n"
     ]
    }
   ],
   "source": [
    "rides['date'] = pd.to_datetime(rides['date'], format='%Y-%m-%d')\n",
    "print(rides['date'].min())\n",
    "print(rides['date'].max())"
   ]
  },
  {
   "cell_type": "code",
   "execution_count": 15,
   "id": "2641c94e",
   "metadata": {},
   "outputs": [
    {
     "data": {
      "text/plain": [
       "count    18068.000000\n",
       "mean         6.486772\n",
       "std          3.437410\n",
       "min          1.000000\n",
       "25%          4.000000\n",
       "50%          6.000000\n",
       "75%          9.000000\n",
       "max         12.000000\n",
       "Name: month, dtype: float64"
      ]
     },
     "execution_count": 15,
     "metadata": {},
     "output_type": "execute_result"
    }
   ],
   "source": [
    "rides['month'] = rides['date'].dt.month\n",
    "rides['month'].describe()"
   ]
  },
  {
   "cell_type": "markdown",
   "id": "3c8ff8bf",
   "metadata": {},
   "source": [
    "1. Пропусков и дублей - нет\n",
    "2. Пробег в метрах, есть 5 коротких поездок, исключим их если потребуется анализ расстояния\n",
    "3. Продолжительность сессии в минутах, есть 95 поездок меньше 1 минуты, исключить их если потребуется анализ продолжительности поездки\n",
    "4. Данные за 2022 года, без аномалий"
   ]
  },
  {
   "cell_type": "markdown",
   "id": "34ed92d8",
   "metadata": {},
   "source": [
    "### Подписки"
   ]
  },
  {
   "cell_type": "code",
   "execution_count": 16,
   "id": "4cf1acba",
   "metadata": {},
   "outputs": [
    {
     "name": "stdout",
     "output_type": "stream",
     "text": [
      "<class 'pandas.core.frame.DataFrame'>\n",
      "RangeIndex: 2 entries, 0 to 1\n",
      "Data columns (total 4 columns):\n",
      " #   Column             Non-Null Count  Dtype \n",
      "---  ------             --------------  ----- \n",
      " 0   subscription_type  2 non-null      object\n",
      " 1   minute_price       2 non-null      int64 \n",
      " 2   start_ride_price   2 non-null      int64 \n",
      " 3   subscription_fee   2 non-null      int64 \n",
      "dtypes: int64(3), object(1)\n",
      "memory usage: 192.0+ bytes\n",
      "None\n"
     ]
    },
    {
     "data": {
      "text/html": [
       "<div>\n",
       "<style scoped>\n",
       "    .dataframe tbody tr th:only-of-type {\n",
       "        vertical-align: middle;\n",
       "    }\n",
       "\n",
       "    .dataframe tbody tr th {\n",
       "        vertical-align: top;\n",
       "    }\n",
       "\n",
       "    .dataframe thead th {\n",
       "        text-align: right;\n",
       "    }\n",
       "</style>\n",
       "<table border=\"1\" class=\"dataframe\">\n",
       "  <thead>\n",
       "    <tr style=\"text-align: right;\">\n",
       "      <th></th>\n",
       "      <th>subscription_type</th>\n",
       "      <th>minute_price</th>\n",
       "      <th>start_ride_price</th>\n",
       "      <th>subscription_fee</th>\n",
       "    </tr>\n",
       "  </thead>\n",
       "  <tbody>\n",
       "    <tr>\n",
       "      <th>0</th>\n",
       "      <td>free</td>\n",
       "      <td>8</td>\n",
       "      <td>50</td>\n",
       "      <td>0</td>\n",
       "    </tr>\n",
       "    <tr>\n",
       "      <th>1</th>\n",
       "      <td>ultra</td>\n",
       "      <td>6</td>\n",
       "      <td>0</td>\n",
       "      <td>199</td>\n",
       "    </tr>\n",
       "  </tbody>\n",
       "</table>\n",
       "</div>"
      ],
      "text/plain": [
       "  subscription_type  minute_price  start_ride_price  subscription_fee\n",
       "0              free             8                50                 0\n",
       "1             ultra             6                 0               199"
      ]
     },
     "execution_count": 16,
     "metadata": {},
     "output_type": "execute_result"
    }
   ],
   "source": [
    "print(subs.info())\n",
    "subs.head()"
   ]
  },
  {
   "cell_type": "markdown",
   "id": "de985cec",
   "metadata": {},
   "source": [
    "### Вывод\n",
    "В датасетах представленны данные о пользователях, их поездках и описание тарифов сервиса. В данных о пользователях убраны явные дубликаты. Данные о поездках представлены за 2021 год. Среди поездок есть подозрительно короткие, нужно помнить о них и возможно исклчить из анализа времени поездки."
   ]
  },
  {
   "cell_type": "markdown",
   "id": "212593c7",
   "metadata": {},
   "source": [
    "## Шаг 3. Исследовательский анализ данных"
   ]
  },
  {
   "cell_type": "markdown",
   "id": "ca833b8e",
   "metadata": {},
   "source": [
    "### 3.1 частота встречаемости городов"
   ]
  },
  {
   "cell_type": "code",
   "execution_count": 17,
   "id": "9e1f0ba6",
   "metadata": {},
   "outputs": [
    {
     "data": {
      "image/png": "[encoded data removed]",
      "text/plain": [
       "<Figure size 432x288 with 1 Axes>"
      ]
     },
     "metadata": {
      "needs_background": "light"
     },
     "output_type": "display_data"
    }
   ],
   "source": [
    "(\n",
    "    users.pivot_table(index='city', values='user_id', aggfunc='count')\n",
    "    .sort_values(by='user_id')\n",
    "    .plot\n",
    "    .barh()\n",
    ");"
   ]
  },
  {
   "cell_type": "markdown",
   "id": "7c9d3fdc",
   "metadata": {},
   "source": [
    "Интересно, что столица на последнем месте по количеству поездок, а Пятигорск - город самокатчиков."
   ]
  },
  {
   "cell_type": "markdown",
   "id": "541dc0ee",
   "metadata": {},
   "source": [
    "### 3.2 соотношение пользователей с подпиской и без подписки;"
   ]
  },
  {
   "cell_type": "code",
   "execution_count": 18,
   "id": "e3a4274c",
   "metadata": {},
   "outputs": [
    {
     "data": {
      "image/png": "[encoded data removed]",
      "text/plain": [
       "<Figure size 432x288 with 1 Axes>"
      ]
     },
     "metadata": {},
     "output_type": "display_data"
    }
   ],
   "source": [
    "(\n",
    "    users.pivot_table(index='subscription_type', values='user_id', aggfunc='count')\n",
    "    .sort_values(by='user_id')\n",
    "    .plot\n",
    "    .pie(y='user_id', autopct='%.2f')\n",
    ");"
   ]
  },
  {
   "cell_type": "code",
   "execution_count": 19,
   "id": "20a1983c",
   "metadata": {},
   "outputs": [
    {
     "data": {
      "text/plain": [
       "0.4556714471968709"
      ]
     },
     "execution_count": 19,
     "metadata": {},
     "output_type": "execute_result"
    }
   ],
   "source": [
    "users.query('subscription_type == \"ultra\"')['user_id'].count() / users['user_id'].count()"
   ]
  },
  {
   "cell_type": "markdown",
   "id": "a28c7361",
   "metadata": {},
   "source": [
    "45,5% пользователей имеют ultra подписку"
   ]
  },
  {
   "cell_type": "markdown",
   "id": "71261d5a",
   "metadata": {},
   "source": [
    "### 3.3 возраст пользователей"
   ]
  },
  {
   "cell_type": "code",
   "execution_count": 20,
   "id": "c9d30d2b",
   "metadata": {},
   "outputs": [
    {
     "name": "stdout",
     "output_type": "stream",
     "text": [
      "count    1534.000000\n",
      "mean       24.903520\n",
      "std         4.572367\n",
      "min        12.000000\n",
      "25%        22.000000\n",
      "50%        25.000000\n",
      "75%        28.000000\n",
      "max        43.000000\n",
      "Name: age, dtype: float64\n"
     ]
    },
    {
     "data": {
      "text/plain": [
       "<AxesSubplot:>"
      ]
     },
     "execution_count": 20,
     "metadata": {},
     "output_type": "execute_result"
    },
    {
     "data": {
      "image/png": "[encoded data removed]",
      "text/plain": [
       "<Figure size 432x288 with 1 Axes>"
      ]
     },
     "metadata": {
      "needs_background": "light"
     },
     "output_type": "display_data"
    }
   ],
   "source": [
    "print(users['age'].describe())\n",
    "users['age'].hist(bins=30)"
   ]
  },
  {
   "cell_type": "markdown",
   "id": "a5413c0c",
   "metadata": {},
   "source": [
    "### 3.4 расстояние, которое пользователь преодолел за одну поездку"
   ]
  },
  {
   "cell_type": "code",
   "execution_count": 21,
   "id": "15e667b2",
   "metadata": {},
   "outputs": [
    {
     "data": {
      "text/plain": [
       "<AxesSubplot:>"
      ]
     },
     "execution_count": 21,
     "metadata": {},
     "output_type": "execute_result"
    },
    {
     "data": {
      "image/png": "[encoded data removed]",
      "text/plain": [
       "<Figure size 432x288 with 1 Axes>"
      ]
     },
     "metadata": {
      "needs_background": "light"
     },
     "output_type": "display_data"
    }
   ],
   "source": [
    "rides['distance'].hist(bins=100)"
   ]
  },
  {
   "cell_type": "markdown",
   "id": "e4871cc9",
   "metadata": {},
   "source": [
    "### 3.5 продолжительность поездок"
   ]
  },
  {
   "cell_type": "code",
   "execution_count": 22,
   "id": "07e563a4",
   "metadata": {},
   "outputs": [
    {
     "data": {
      "text/plain": [
       "<AxesSubplot:>"
      ]
     },
     "execution_count": 22,
     "metadata": {},
     "output_type": "execute_result"
    },
    {
     "data": {
      "image/png": "[encoded data removed]",
      "text/plain": [
       "<Figure size 432x288 with 1 Axes>"
      ]
     },
     "metadata": {
      "needs_background": "light"
     },
     "output_type": "display_data"
    }
   ],
   "source": [
    "rides['duration'].hist(bins=100)"
   ]
  },
  {
   "cell_type": "code",
   "execution_count": 23,
   "id": "3a7d4ce0",
   "metadata": {},
   "outputs": [
    {
     "data": {
      "text/plain": [
       "<AxesSubplot:>"
      ]
     },
     "execution_count": 23,
     "metadata": {},
     "output_type": "execute_result"
    },
    {
     "data": {
      "image/png": "[encoded data removed]",
      "text/plain": [
       "<Figure size 432x288 with 1 Axes>"
      ]
     },
     "metadata": {
      "needs_background": "light"
     },
     "output_type": "display_data"
    }
   ],
   "source": [
    "rides.query('duration < 1.5')['duration'].hist()"
   ]
  },
  {
   "cell_type": "markdown",
   "id": "c3cd6315",
   "metadata": {},
   "source": [
    "### Выводы\n",
    "1. Интересно, что столица на последнем месте по количеству поездок, а Пятигорск - город самокатчиков. \n",
    "2. ~45% пользователей имеют ultra подписку\n",
    "3. Возраст пользователей имеет нормальное распределение в границах от 12 до 43 с медианой - 25 лет. Странно, что есть пользователи до 18 лет, обычно они не должны допускаться до управления электросамокатом.\n",
    "4. Чаще всего самокаты используют либо для коротких поездок, от 0 до 1300 метров, либо для долгих с 2000, до 5000 метров. В этих диапазонах дистанция поездок имеет нормальное распределение.\n",
    "5. Длительность поездки в минутах имеет нормальное распределение, с исключением в значенении 0,6 - возможно это минимальное тарифицируемое значение, и когда пользователь \"включает/выключает\" аренду самоката, в лог пишется именно это значение. Я думаю этим поздки стоит исключить из последующего анализа."
   ]
  },
  {
   "cell_type": "markdown",
   "id": "4ef51331",
   "metadata": {},
   "source": [
    "## Шаг 4. Объединение данных"
   ]
  },
  {
   "cell_type": "markdown",
   "id": "6c1377e9",
   "metadata": {},
   "source": [
    "### 4.1 Объединить в один dataframe"
   ]
  },
  {
   "cell_type": "code",
   "execution_count": 25,
   "id": "6bf288b5",
   "metadata": {},
   "outputs": [
    {
     "data": {
      "text/html": [
       "<div>\n",
       "<style scoped>\n",
       "    .dataframe tbody tr th:only-of-type {\n",
       "        vertical-align: middle;\n",
       "    }\n",
       "\n",
       "    .dataframe tbody tr th {\n",
       "        vertical-align: top;\n",
       "    }\n",
       "\n",
       "    .dataframe thead th {\n",
       "        text-align: right;\n",
       "    }\n",
       "</style>\n",
       "<table border=\"1\" class=\"dataframe\">\n",
       "  <thead>\n",
       "    <tr style=\"text-align: right;\">\n",
       "      <th></th>\n",
       "      <th>user_id</th>\n",
       "      <th>distance</th>\n",
       "      <th>duration</th>\n",
       "      <th>date</th>\n",
       "      <th>month</th>\n",
       "      <th>name</th>\n",
       "      <th>age</th>\n",
       "      <th>city</th>\n",
       "      <th>subscription_type</th>\n",
       "      <th>minute_price</th>\n",
       "      <th>start_ride_price</th>\n",
       "      <th>subscription_fee</th>\n",
       "    </tr>\n",
       "  </thead>\n",
       "  <tbody>\n",
       "    <tr>\n",
       "      <th>0</th>\n",
       "      <td>1</td>\n",
       "      <td>4409.919140</td>\n",
       "      <td>25.599769</td>\n",
       "      <td>2021-01-01</td>\n",
       "      <td>1</td>\n",
       "      <td>Кира</td>\n",
       "      <td>22</td>\n",
       "      <td>Тюмень</td>\n",
       "      <td>ultra</td>\n",
       "      <td>6</td>\n",
       "      <td>0</td>\n",
       "      <td>199</td>\n",
       "    </tr>\n",
       "    <tr>\n",
       "      <th>1</th>\n",
       "      <td>1</td>\n",
       "      <td>2617.592153</td>\n",
       "      <td>15.816871</td>\n",
       "      <td>2021-01-18</td>\n",
       "      <td>1</td>\n",
       "      <td>Кира</td>\n",
       "      <td>22</td>\n",
       "      <td>Тюмень</td>\n",
       "      <td>ultra</td>\n",
       "      <td>6</td>\n",
       "      <td>0</td>\n",
       "      <td>199</td>\n",
       "    </tr>\n",
       "    <tr>\n",
       "      <th>2</th>\n",
       "      <td>1</td>\n",
       "      <td>754.159807</td>\n",
       "      <td>6.232113</td>\n",
       "      <td>2021-04-20</td>\n",
       "      <td>4</td>\n",
       "      <td>Кира</td>\n",
       "      <td>22</td>\n",
       "      <td>Тюмень</td>\n",
       "      <td>ultra</td>\n",
       "      <td>6</td>\n",
       "      <td>0</td>\n",
       "      <td>199</td>\n",
       "    </tr>\n",
       "    <tr>\n",
       "      <th>3</th>\n",
       "      <td>1</td>\n",
       "      <td>2694.783254</td>\n",
       "      <td>18.511000</td>\n",
       "      <td>2021-08-11</td>\n",
       "      <td>8</td>\n",
       "      <td>Кира</td>\n",
       "      <td>22</td>\n",
       "      <td>Тюмень</td>\n",
       "      <td>ultra</td>\n",
       "      <td>6</td>\n",
       "      <td>0</td>\n",
       "      <td>199</td>\n",
       "    </tr>\n",
       "    <tr>\n",
       "      <th>4</th>\n",
       "      <td>1</td>\n",
       "      <td>4028.687306</td>\n",
       "      <td>26.265803</td>\n",
       "      <td>2021-08-28</td>\n",
       "      <td>8</td>\n",
       "      <td>Кира</td>\n",
       "      <td>22</td>\n",
       "      <td>Тюмень</td>\n",
       "      <td>ultra</td>\n",
       "      <td>6</td>\n",
       "      <td>0</td>\n",
       "      <td>199</td>\n",
       "    </tr>\n",
       "  </tbody>\n",
       "</table>\n",
       "</div>"
      ],
      "text/plain": [
       "   user_id     distance   duration       date  month  name  age    city  \\\n",
       "0        1  4409.919140  25.599769 2021-01-01      1  Кира   22  Тюмень   \n",
       "1        1  2617.592153  15.816871 2021-01-18      1  Кира   22  Тюмень   \n",
       "2        1   754.159807   6.232113 2021-04-20      4  Кира   22  Тюмень   \n",
       "3        1  2694.783254  18.511000 2021-08-11      8  Кира   22  Тюмень   \n",
       "4        1  4028.687306  26.265803 2021-08-28      8  Кира   22  Тюмень   \n",
       "\n",
       "  subscription_type  minute_price  start_ride_price  subscription_fee  \n",
       "0             ultra             6                 0               199  \n",
       "1             ultra             6                 0               199  \n",
       "2             ultra             6                 0               199  \n",
       "3             ultra             6                 0               199  \n",
       "4             ultra             6                 0               199  "
      ]
     },
     "execution_count": 25,
     "metadata": {},
     "output_type": "execute_result"
    }
   ],
   "source": [
    "df = rides.merge(users, on='user_id')\n",
    "df = df.merge(subs, on='subscription_type')\n",
    "df.head()"
   ]
  },
  {
   "cell_type": "markdown",
   "id": "9eb68421",
   "metadata": {},
   "source": [
    "### 4.2 Делим данные под типу подписки"
   ]
  },
  {
   "cell_type": "code",
   "execution_count": 26,
   "id": "6e141d6a",
   "metadata": {},
   "outputs": [],
   "source": [
    "df_ultra = df.query('subscription_type == \"ultra\"')\n",
    "df_free = df.query('subscription_type == \"free\"')"
   ]
  },
  {
   "cell_type": "code",
   "execution_count": 27,
   "id": "bb095a4b",
   "metadata": {},
   "outputs": [
    {
     "data": {
      "text/plain": [
       "18068"
      ]
     },
     "metadata": {},
     "output_type": "display_data"
    },
    {
     "data": {
      "text/plain": [
       "11568"
      ]
     },
     "metadata": {},
     "output_type": "display_data"
    },
    {
     "data": {
      "text/plain": [
       "6500"
      ]
     },
     "execution_count": 27,
     "metadata": {},
     "output_type": "execute_result"
    }
   ],
   "source": [
    "# Код ревьюера\n",
    "display(df.shape[0])\n",
    "display(df_free.shape[0])\n",
    "df_ultra.shape[0]"
   ]
  },
  {
   "cell_type": "code",
   "execution_count": 28,
   "id": "60bffb64",
   "metadata": {},
   "outputs": [
    {
     "data": {
      "text/plain": [
       "user_id              0\n",
       "distance             0\n",
       "duration             0\n",
       "date                 0\n",
       "month                0\n",
       "name                 0\n",
       "age                  0\n",
       "city                 0\n",
       "subscription_type    0\n",
       "minute_price         0\n",
       "start_ride_price     0\n",
       "subscription_fee     0\n",
       "dtype: int64"
      ]
     },
     "execution_count": 28,
     "metadata": {},
     "output_type": "execute_result"
    }
   ],
   "source": [
    "df.isna().sum()"
   ]
  },
  {
   "cell_type": "markdown",
   "id": "7b0625d9",
   "metadata": {},
   "source": [
    "### 4.3 Визуализируйте информацию о расстоянии и времени поездок для пользователей обеих категорий."
   ]
  },
  {
   "cell_type": "code",
   "execution_count": 29,
   "id": "9632ccd0",
   "metadata": {},
   "outputs": [
    {
     "data": {
      "text/plain": [
       "<AxesSubplot:>"
      ]
     },
     "execution_count": 29,
     "metadata": {},
     "output_type": "execute_result"
    },
    {
     "data": {
      "image/png": "[encoded data removed]",
      "text/plain": [
       "<Figure size 432x288 with 1 Axes>"
      ]
     },
     "metadata": {
      "needs_background": "light"
     },
     "output_type": "display_data"
    }
   ],
   "source": [
    "ax = df_free['distance'].hist(bins=40, alpha=0.5, label='free')\n",
    "df_ultra['distance'].hist(bins=40, ax=ax,  label='ultra')\n"
   ]
  },
  {
   "cell_type": "code",
   "execution_count": 30,
   "id": "f2efa029",
   "metadata": {},
   "outputs": [
    {
     "data": {
      "text/plain": [
       "<AxesSubplot:>"
      ]
     },
     "execution_count": 30,
     "metadata": {},
     "output_type": "execute_result"
    },
    {
     "data": {
      "image/png": "[encoded data removed]",
      "text/plain": [
       "<Figure size 432x288 with 1 Axes>"
      ]
     },
     "metadata": {
      "needs_background": "light"
     },
     "output_type": "display_data"
    }
   ],
   "source": [
    "ax = df_free['duration'].hist(bins=40, alpha=0.5, label='free')\n",
    "df_ultra['duration'].hist(bins=40, ax=ax,  label='ultra')"
   ]
  },
  {
   "cell_type": "markdown",
   "id": "7100e3ed",
   "metadata": {},
   "source": [
    "### Вывод\n",
    "Пользователи с подпиской реже ездят на короткие дистанции и чаще на длинные. Так же можно заметить, что медиана дистанции у коротких поездок пользователей с подпиской больше, чем у обычных, но на временном графике провалов нет, можно сделать вывод, что платные пользователи более опытные ездоки и на коротких дистанциях развивают большую скорость. Так же платные пользователи чуть дольше катаются (в срелнем на 1 минуту из предыдущих данных)"
   ]
  },
  {
   "cell_type": "markdown",
   "id": "402d620f",
   "metadata": {},
   "source": [
    "## Шаг 5. Подсчёт выручки"
   ]
  },
  {
   "cell_type": "markdown",
   "id": "af665ebc",
   "metadata": {},
   "source": [
    "### Создайте датафрейм с агрегированными данными о поездках"
   ]
  },
  {
   "cell_type": "code",
   "execution_count": 31,
   "id": "da1d6370",
   "metadata": {},
   "outputs": [],
   "source": [
    "df['duration'] = np.ceil(df['duration'])"
   ]
  },
  {
   "cell_type": "code",
   "execution_count": 32,
   "id": "53049e0a",
   "metadata": {
    "scrolled": true
   },
   "outputs": [
    {
     "data": {
      "text/html": [
       "<div>\n",
       "<style scoped>\n",
       "    .dataframe tbody tr th:only-of-type {\n",
       "        vertical-align: middle;\n",
       "    }\n",
       "\n",
       "    .dataframe tbody tr th {\n",
       "        vertical-align: top;\n",
       "    }\n",
       "\n",
       "    .dataframe thead th {\n",
       "        text-align: right;\n",
       "    }\n",
       "</style>\n",
       "<table border=\"1\" class=\"dataframe\">\n",
       "  <thead>\n",
       "    <tr style=\"text-align: right;\">\n",
       "      <th></th>\n",
       "      <th></th>\n",
       "      <th>rides_count</th>\n",
       "      <th>distance</th>\n",
       "      <th>duration</th>\n",
       "      <th>minute_price</th>\n",
       "      <th>start_ride_price</th>\n",
       "      <th>subscription_fee</th>\n",
       "      <th>subscription_type</th>\n",
       "    </tr>\n",
       "    <tr>\n",
       "      <th>user_id</th>\n",
       "      <th>month</th>\n",
       "      <th></th>\n",
       "      <th></th>\n",
       "      <th></th>\n",
       "      <th></th>\n",
       "      <th></th>\n",
       "      <th></th>\n",
       "      <th></th>\n",
       "    </tr>\n",
       "  </thead>\n",
       "  <tbody>\n",
       "    <tr>\n",
       "      <th rowspan=\"6\" valign=\"top\">1</th>\n",
       "      <th>1</th>\n",
       "      <td>2</td>\n",
       "      <td>7027.511294</td>\n",
       "      <td>42.0</td>\n",
       "      <td>6</td>\n",
       "      <td>0</td>\n",
       "      <td>199</td>\n",
       "      <td>ultra</td>\n",
       "    </tr>\n",
       "    <tr>\n",
       "      <th>4</th>\n",
       "      <td>1</td>\n",
       "      <td>754.159807</td>\n",
       "      <td>7.0</td>\n",
       "      <td>6</td>\n",
       "      <td>0</td>\n",
       "      <td>199</td>\n",
       "      <td>ultra</td>\n",
       "    </tr>\n",
       "    <tr>\n",
       "      <th>8</th>\n",
       "      <td>2</td>\n",
       "      <td>6723.470560</td>\n",
       "      <td>46.0</td>\n",
       "      <td>6</td>\n",
       "      <td>0</td>\n",
       "      <td>199</td>\n",
       "      <td>ultra</td>\n",
       "    </tr>\n",
       "    <tr>\n",
       "      <th>10</th>\n",
       "      <td>2</td>\n",
       "      <td>5809.911100</td>\n",
       "      <td>32.0</td>\n",
       "      <td>6</td>\n",
       "      <td>0</td>\n",
       "      <td>199</td>\n",
       "      <td>ultra</td>\n",
       "    </tr>\n",
       "    <tr>\n",
       "      <th>11</th>\n",
       "      <td>3</td>\n",
       "      <td>7003.499363</td>\n",
       "      <td>56.0</td>\n",
       "      <td>6</td>\n",
       "      <td>0</td>\n",
       "      <td>199</td>\n",
       "      <td>ultra</td>\n",
       "    </tr>\n",
       "    <tr>\n",
       "      <th>12</th>\n",
       "      <td>2</td>\n",
       "      <td>6751.629942</td>\n",
       "      <td>28.0</td>\n",
       "      <td>6</td>\n",
       "      <td>0</td>\n",
       "      <td>199</td>\n",
       "      <td>ultra</td>\n",
       "    </tr>\n",
       "    <tr>\n",
       "      <th rowspan=\"4\" valign=\"top\">2</th>\n",
       "      <th>3</th>\n",
       "      <td>3</td>\n",
       "      <td>10187.723006</td>\n",
       "      <td>63.0</td>\n",
       "      <td>6</td>\n",
       "      <td>0</td>\n",
       "      <td>199</td>\n",
       "      <td>ultra</td>\n",
       "    </tr>\n",
       "    <tr>\n",
       "      <th>4</th>\n",
       "      <td>2</td>\n",
       "      <td>6164.381824</td>\n",
       "      <td>40.0</td>\n",
       "      <td>6</td>\n",
       "      <td>0</td>\n",
       "      <td>199</td>\n",
       "      <td>ultra</td>\n",
       "    </tr>\n",
       "    <tr>\n",
       "      <th>6</th>\n",
       "      <td>1</td>\n",
       "      <td>3255.338202</td>\n",
       "      <td>14.0</td>\n",
       "      <td>6</td>\n",
       "      <td>0</td>\n",
       "      <td>199</td>\n",
       "      <td>ultra</td>\n",
       "    </tr>\n",
       "    <tr>\n",
       "      <th>7</th>\n",
       "      <td>2</td>\n",
       "      <td>6780.722964</td>\n",
       "      <td>48.0</td>\n",
       "      <td>6</td>\n",
       "      <td>0</td>\n",
       "      <td>199</td>\n",
       "      <td>ultra</td>\n",
       "    </tr>\n",
       "  </tbody>\n",
       "</table>\n",
       "</div>"
      ],
      "text/plain": [
       "               rides_count      distance  duration  minute_price  \\\n",
       "user_id month                                                      \n",
       "1       1                2   7027.511294      42.0             6   \n",
       "        4                1    754.159807       7.0             6   \n",
       "        8                2   6723.470560      46.0             6   \n",
       "        10               2   5809.911100      32.0             6   \n",
       "        11               3   7003.499363      56.0             6   \n",
       "        12               2   6751.629942      28.0             6   \n",
       "2       3                3  10187.723006      63.0             6   \n",
       "        4                2   6164.381824      40.0             6   \n",
       "        6                1   3255.338202      14.0             6   \n",
       "        7                2   6780.722964      48.0             6   \n",
       "\n",
       "               start_ride_price  subscription_fee subscription_type  \n",
       "user_id month                                                        \n",
       "1       1                     0               199             ultra  \n",
       "        4                     0               199             ultra  \n",
       "        8                     0               199             ultra  \n",
       "        10                    0               199             ultra  \n",
       "        11                    0               199             ultra  \n",
       "        12                    0               199             ultra  \n",
       "2       3                     0               199             ultra  \n",
       "        4                     0               199             ultra  \n",
       "        6                     0               199             ultra  \n",
       "        7                     0               199             ultra  "
      ]
     },
     "execution_count": 32,
     "metadata": {},
     "output_type": "execute_result"
    }
   ],
   "source": [
    "df_by_month = df.pivot_table(index=['user_id', 'month'], \\\n",
    "                             values=['distance','duration','date','minute_price', 'start_ride_price', 'subscription_fee', 'subscription_type'], \\\n",
    "                             aggfunc={'distance': 'sum', 'duration':'sum', 'date':'count', 'minute_price': 'max', 'start_ride_price': 'max', 'subscription_fee': 'max', 'subscription_type':'first'})\n",
    "df_by_month = df_by_month.rename(columns={'date': 'rides_count', 'mon': 'month_count'})\n",
    "df_by_month.head(10)"
   ]
  },
  {
   "cell_type": "markdown",
   "id": "3e64cebc",
   "metadata": {},
   "source": [
    "### 5.2 Месячная выручка"
   ]
  },
  {
   "cell_type": "code",
   "execution_count": 33,
   "id": "159868e1",
   "metadata": {},
   "outputs": [
    {
     "data": {
      "text/html": [
       "<div>\n",
       "<style scoped>\n",
       "    .dataframe tbody tr th:only-of-type {\n",
       "        vertical-align: middle;\n",
       "    }\n",
       "\n",
       "    .dataframe tbody tr th {\n",
       "        vertical-align: top;\n",
       "    }\n",
       "\n",
       "    .dataframe thead th {\n",
       "        text-align: right;\n",
       "    }\n",
       "</style>\n",
       "<table border=\"1\" class=\"dataframe\">\n",
       "  <thead>\n",
       "    <tr style=\"text-align: right;\">\n",
       "      <th></th>\n",
       "      <th></th>\n",
       "      <th>rides_count</th>\n",
       "      <th>distance</th>\n",
       "      <th>duration</th>\n",
       "      <th>minute_price</th>\n",
       "      <th>start_ride_price</th>\n",
       "      <th>subscription_fee</th>\n",
       "      <th>subscription_type</th>\n",
       "      <th>monthly_income</th>\n",
       "    </tr>\n",
       "    <tr>\n",
       "      <th>user_id</th>\n",
       "      <th>month</th>\n",
       "      <th></th>\n",
       "      <th></th>\n",
       "      <th></th>\n",
       "      <th></th>\n",
       "      <th></th>\n",
       "      <th></th>\n",
       "      <th></th>\n",
       "      <th></th>\n",
       "    </tr>\n",
       "  </thead>\n",
       "  <tbody>\n",
       "    <tr>\n",
       "      <th rowspan=\"5\" valign=\"top\">1</th>\n",
       "      <th>1</th>\n",
       "      <td>2</td>\n",
       "      <td>7027.511294</td>\n",
       "      <td>42.0</td>\n",
       "      <td>6</td>\n",
       "      <td>0</td>\n",
       "      <td>199</td>\n",
       "      <td>ultra</td>\n",
       "      <td>451.0</td>\n",
       "    </tr>\n",
       "    <tr>\n",
       "      <th>4</th>\n",
       "      <td>1</td>\n",
       "      <td>754.159807</td>\n",
       "      <td>7.0</td>\n",
       "      <td>6</td>\n",
       "      <td>0</td>\n",
       "      <td>199</td>\n",
       "      <td>ultra</td>\n",
       "      <td>241.0</td>\n",
       "    </tr>\n",
       "    <tr>\n",
       "      <th>8</th>\n",
       "      <td>2</td>\n",
       "      <td>6723.470560</td>\n",
       "      <td>46.0</td>\n",
       "      <td>6</td>\n",
       "      <td>0</td>\n",
       "      <td>199</td>\n",
       "      <td>ultra</td>\n",
       "      <td>475.0</td>\n",
       "    </tr>\n",
       "    <tr>\n",
       "      <th>10</th>\n",
       "      <td>2</td>\n",
       "      <td>5809.911100</td>\n",
       "      <td>32.0</td>\n",
       "      <td>6</td>\n",
       "      <td>0</td>\n",
       "      <td>199</td>\n",
       "      <td>ultra</td>\n",
       "      <td>391.0</td>\n",
       "    </tr>\n",
       "    <tr>\n",
       "      <th>11</th>\n",
       "      <td>3</td>\n",
       "      <td>7003.499363</td>\n",
       "      <td>56.0</td>\n",
       "      <td>6</td>\n",
       "      <td>0</td>\n",
       "      <td>199</td>\n",
       "      <td>ultra</td>\n",
       "      <td>535.0</td>\n",
       "    </tr>\n",
       "  </tbody>\n",
       "</table>\n",
       "</div>"
      ],
      "text/plain": [
       "               rides_count     distance  duration  minute_price  \\\n",
       "user_id month                                                     \n",
       "1       1                2  7027.511294      42.0             6   \n",
       "        4                1   754.159807       7.0             6   \n",
       "        8                2  6723.470560      46.0             6   \n",
       "        10               2  5809.911100      32.0             6   \n",
       "        11               3  7003.499363      56.0             6   \n",
       "\n",
       "               start_ride_price  subscription_fee subscription_type  \\\n",
       "user_id month                                                         \n",
       "1       1                     0               199             ultra   \n",
       "        4                     0               199             ultra   \n",
       "        8                     0               199             ultra   \n",
       "        10                    0               199             ultra   \n",
       "        11                    0               199             ultra   \n",
       "\n",
       "               monthly_income  \n",
       "user_id month                  \n",
       "1       1               451.0  \n",
       "        4               241.0  \n",
       "        8               475.0  \n",
       "        10              391.0  \n",
       "        11              535.0  "
      ]
     },
     "execution_count": 33,
     "metadata": {},
     "output_type": "execute_result"
    }
   ],
   "source": [
    "df_by_month['monthly_income'] = df_by_month['subscription_fee'] + df_by_month['rides_count'] * df_by_month['start_ride_price'] + df_by_month['duration'] * df_by_month['minute_price']\n",
    "\n",
    "df_by_month.head()"
   ]
  },
  {
   "cell_type": "code",
   "execution_count": 34,
   "id": "7789f222",
   "metadata": {},
   "outputs": [
    {
     "data": {
      "text/plain": [
       "319.0"
      ]
     },
     "execution_count": 34,
     "metadata": {},
     "output_type": "execute_result"
    }
   ],
   "source": [
    "df_by_month['monthly_income'].median()"
   ]
  },
  {
   "cell_type": "markdown",
   "id": "ff4df65d",
   "metadata": {},
   "source": [
    "### Вывод\n",
    "Мы получили данные о месячных доходах в разрезе каждого пользователя и месяца. Медианное значение - 319."
   ]
  },
  {
   "cell_type": "code",
   "execution_count": 35,
   "id": "a8e6d34b",
   "metadata": {},
   "outputs": [
    {
     "data": {
      "text/plain": [
       "subscription_type\n",
       "free     328.641365\n",
       "ultra    362.792191\n",
       "Name: monthly_income, dtype: float64"
      ]
     },
     "execution_count": 35,
     "metadata": {},
     "output_type": "execute_result"
    }
   ],
   "source": [
    "# Код ревьюера\n",
    "df_by_month.groupby('subscription_type')['monthly_income'].mean()"
   ]
  },
  {
   "cell_type": "markdown",
   "id": "41545ac0",
   "metadata": {},
   "source": [
    "## Шаг 6. Проверка гипотез"
   ]
  },
  {
   "cell_type": "markdown",
   "id": "625bbe3f",
   "metadata": {},
   "source": [
    "### 6.1 Тратят ли пользователи с подпиской больше время на поездки"
   ]
  },
  {
   "cell_type": "code",
   "execution_count": 36,
   "id": "23ea867b",
   "metadata": {},
   "outputs": [
    {
     "name": "stdout",
     "output_type": "stream",
     "text": [
      "Среднее время с подпиской: 18.54198516280583\n",
      "Среднее время без подписки: 17.39090929866399\n"
     ]
    }
   ],
   "source": [
    "print('Среднее время с подпиской:', df_ultra['duration'].mean())\n",
    "print('Среднее время без подписки:', df_free['duration'].mean())"
   ]
  },
  {
   "cell_type": "markdown",
   "id": "323f32c7",
   "metadata": {},
   "source": [
    "Вывод: Пользователе с подпиской тратят в среднем на поездке больше на 1 минуту, чем пользователи без подписки"
   ]
  },
  {
   "cell_type": "code",
   "execution_count": 37,
   "id": "e4dffd40",
   "metadata": {},
   "outputs": [
    {
     "name": "stdout",
     "output_type": "stream",
     "text": [
      "p-значение: 5.6757813771289775e-37\n",
      "Отвергаем нулевую гипотезу\n"
     ]
    }
   ],
   "source": [
    "# H0 - средние выборок равны\n",
    "# H1 - среднее ultra пользователей больше\n",
    "alpha = 0.05\n",
    "# использую параметр equal_var=False потому что размер выборок разный \n",
    "# и уровень отношения пользователей к сервису разный\n",
    "results = st.ttest_ind(df_ultra['duration'], df_free['duration'], equal_var=False, alternative='greater')\n",
    "\n",
    "print('p-значение:', results.pvalue)\n",
    "\n",
    "if results.pvalue < alpha:\n",
    "    print('Отвергаем нулевую гипотезу')\n",
    "else:\n",
    "    print('Не получилось отвергнуть нулевую гипотезу') "
   ]
  },
  {
   "cell_type": "markdown",
   "id": "24e45df1",
   "metadata": {},
   "source": [
    "Вывод: пользователи с Ultra подпиской тратят на поездки больше времени"
   ]
  },
  {
   "cell_type": "markdown",
   "id": "ac665989",
   "metadata": {},
   "source": [
    "### 6.2 Превышает ли расстояние поездки платных пользователей оптимальное в 3130"
   ]
  },
  {
   "cell_type": "code",
   "execution_count": 38,
   "id": "c1cf8133",
   "metadata": {},
   "outputs": [
    {
     "name": "stdout",
     "output_type": "stream",
     "text": [
      "Отношение поездок длиннее оптимального к общему количество поездок 0.5153846153846153\n"
     ]
    }
   ],
   "source": [
    "print('Отношение поездок длиннее оптимального к общему количество поездок', \n",
    "      df_ultra.query('distance > 3130')['distance'].count() / df_ultra['distance'].count())"
   ]
  },
  {
   "cell_type": "markdown",
   "id": "78510100",
   "metadata": {},
   "source": [
    "Вывод: В 51,5% случаев поездки пользователей с подпиской превышают оптимальное расстояние."
   ]
  },
  {
   "cell_type": "code",
   "execution_count": 39,
   "id": "b268870b",
   "metadata": {},
   "outputs": [
    {
     "name": "stdout",
     "output_type": "stream",
     "text": [
      "p-значение: 0.08046311521502146\n",
      "Не отвергаем нулевую гипотезу\n"
     ]
    }
   ],
   "source": [
    "# H0 - расстояние = 3130\n",
    "# H1 - расстояние < 3130\n",
    "\n",
    "optimal_distance = 3130\n",
    "\n",
    "alpha = 0.05 # уровень статистической значимости\n",
    "\n",
    "results = st.ttest_1samp(\n",
    "    df_ultra['distance'],\n",
    "    optimal_distance,\n",
    "    alternative='less'\n",
    ")  \n",
    "\n",
    "print('p-значение:', results.pvalue)\n",
    "\n",
    "if (results.pvalue < alpha):\n",
    "    print('Отвергаем нулевую гипотезу')\n",
    "else:\n",
    "    print('Не отвергаем нулевую гипотезу') "
   ]
  },
  {
   "cell_type": "markdown",
   "id": "8c21f8b3",
   "metadata": {},
   "source": [
    "Вывод: Премиум подписчики в среднем проезжают оптимальное расстояние"
   ]
  },
  {
   "cell_type": "markdown",
   "id": "acb60535",
   "metadata": {},
   "source": [
    "### 6.3 От какого типа пользователей выручка выше"
   ]
  },
  {
   "cell_type": "code",
   "execution_count": 40,
   "id": "a4ab30e8",
   "metadata": {},
   "outputs": [
    {
     "data": {
      "image/png": "[encoded data removed]",
      "text/plain": [
       "<Figure size 432x288 with 1 Axes>"
      ]
     },
     "metadata": {
      "needs_background": "light"
     },
     "output_type": "display_data"
    },
    {
     "data": {
      "text/plain": [
       "1.1036876983262058"
      ]
     },
     "execution_count": 40,
     "metadata": {},
     "output_type": "execute_result"
    }
   ],
   "source": [
    "monthly_income = df_by_month.pivot_table(index='month', columns='subscription_type', values='monthly_income')\n",
    "monthly_income.plot();\n",
    "plt.show()\n",
    "monthly_income['ultra'].mean() / monthly_income['free'].mean()"
   ]
  },
  {
   "cell_type": "markdown",
   "id": "cc28b24d",
   "metadata": {},
   "source": [
    "От платных польхователей выручка больше, чем от бесплатных, в среднем на 10%"
   ]
  },
  {
   "cell_type": "code",
   "execution_count": 41,
   "id": "832328e5",
   "metadata": {},
   "outputs": [
    {
     "name": "stdout",
     "output_type": "stream",
     "text": [
      "p-значение: 8.874140893976874e-40\n",
      "Отвергаем нулевую гипотезу\n"
     ]
    }
   ],
   "source": [
    "# H0 - средние выборок равны\n",
    "# H1 - среднее ultra пользователей больше\n",
    "alpha = 0.05\n",
    "# использую параметр equal_var=False потому что размер выборок разный \n",
    "# и уровень отношения пользователей к сервису разный\n",
    "results = st.ttest_ind(\n",
    "    df_by_month.query('subscription_type == \"ultra\"')['monthly_income'], \n",
    "    df_by_month.query('subscription_type == \"free\"')['monthly_income'],\n",
    "    equal_var=False, \n",
    "    alternative='greater'\n",
    ")\n",
    "\n",
    "print('p-значение:', results.pvalue)\n",
    "\n",
    "if results.pvalue < alpha:\n",
    "    print('Отвергаем нулевую гипотезу')\n",
    "else:\n",
    "    print('Не получилось отвергнуть нулевую гипотезу') "
   ]
  },
  {
   "cell_type": "markdown",
   "id": "39881e08",
   "metadata": {},
   "source": [
    "Вывод: Месячный доход от ultra пользователей выше"
   ]
  },
  {
   "cell_type": "markdown",
   "id": "352ece61",
   "metadata": {},
   "source": [
    "### 6.4 Какой тест понадобится для проверки гипотезы об уменьшии обрещений в поддержку\n",
    "Если количество данных по обращениям пользователей возможно обработать полностью, то мы сможем посчитать изменение среднего количества орбащений пользователя за одинаковый период до обновления и после и сравнить эти два значения. Если весь массив данных обработрать будет невозможно и нам придеться проверять гипотезу на выборке, то мы можем воспользоваться **t тестом двух зависимых выборок** (ttest_rel)"
   ]
  },
  {
   "cell_type": "markdown",
   "id": "758fd028",
   "metadata": {},
   "source": [
    "### Выводы\n",
    "1. Пользователи с Ultra подпиской тратят на поездки больше времени\n",
    "2. Пользователи с Ultra подпиской в среднем проезжают оптимальное расстояние\n",
    "3. От платных пользователей выручка больше, чем от бесплатных"
   ]
  },
  {
   "cell_type": "markdown",
   "id": "61213c5e",
   "metadata": {},
   "source": [
    "## Шаг 7. Распределения"
   ]
  },
  {
   "cell_type": "markdown",
   "id": "516c74dd",
   "metadata": {},
   "source": [
    "### 7.1 Количество промокодов для рассылки"
   ]
  },
  {
   "cell_type": "code",
   "execution_count": 42,
   "id": "95cd1d51",
   "metadata": {},
   "outputs": [
    {
     "data": {
      "image/png": "[encoded data removed]",
      "text/plain": [
       "<Figure size 432x288 with 1 Axes>"
      ]
     },
     "metadata": {
      "needs_background": "light"
     },
     "output_type": "display_data"
    }
   ],
   "source": [
    "# Построим график распределения для N = 1000\n",
    "n = 1000\n",
    "p = 0.1\n",
    "\n",
    "x = random.binomial(n , p , size = 10000)\n",
    "plt.hist(x, bins=100)\n",
    "plt.show()\n",
    "\n"
   ]
  },
  {
   "cell_type": "markdown",
   "id": "4a6b6e24",
   "metadata": {},
   "source": [
    "При N = 1000 примерно в половине случаев количество успехов меньше 100, а нам надо снизить эту вероятность до 5%"
   ]
  },
  {
   "cell_type": "code",
   "execution_count": 43,
   "id": "202dd49d",
   "metadata": {},
   "outputs": [
    {
     "data": {
      "image/png": "[encoded data removed]",
      "text/plain": [
       "<Figure size 432x288 with 1 Axes>"
      ]
     },
     "metadata": {
      "needs_background": "light"
     },
     "output_type": "display_data"
    }
   ],
   "source": [
    "# изменяя n , на глаз по графику определяем чтобы количество успешных исходов менее 100, составляло мененее 5% от общей площади фигуры\n",
    "p = 0.1\n",
    "\n",
    "x = random.binomial(n , p , size = 10000)\n",
    "plt.hist(x, bins=120)\n",
    "plt.show()"
   ]
  },
  {
   "cell_type": "code",
   "execution_count": 44,
   "id": "6b597a25",
   "metadata": {},
   "outputs": [
    {
     "data": {
      "text/plain": [
       "0.02204279834979755"
      ]
     },
     "execution_count": 44,
     "metadata": {},
     "output_type": "execute_result"
    }
   ],
   "source": [
    "# проверим подобранное значение с помощью функции cdf\n",
    "k = 99\n",
    "n = 1200\n",
    "p = 0.1\n",
    "binom.cdf(k, n, p)"
   ]
  },
  {
   "cell_type": "code",
   "execution_count": 45,
   "id": "dd1e7855",
   "metadata": {},
   "outputs": [
    {
     "data": {
      "text/plain": [
       "0.04976090094990249"
      ]
     },
     "execution_count": 45,
     "metadata": {},
     "output_type": "execute_result"
    }
   ],
   "source": [
    "# ещё немного подкрутим N\n",
    "k = 99\n",
    "n = 1161\n",
    "p = 0.1\n",
    "binom.cdf(k, n, p)"
   ]
  },
  {
   "cell_type": "markdown",
   "id": "b9172668",
   "metadata": {},
   "source": [
    "Полученное число читается как:  \n",
    "Вероятность получить менее 100 успехов, при 1161 попытке с вероятностью успеха 0,1 составляет ~0,0497"
   ]
  },
  {
   "cell_type": "code",
   "execution_count": 46,
   "id": "e8bea7ee",
   "metadata": {},
   "outputs": [
    {
     "name": "stdout",
     "output_type": "stream",
     "text": [
      "Количество промокодов для раздачи: 1161\n"
     ]
    }
   ],
   "source": [
    "k = 99\n",
    "p = 0.1\n",
    "n = 1\n",
    "while binom.cdf(k, n, p) > 0.05:\n",
    "    n += 1\n",
    "print(\"Количество промокодов для раздачи:\", n)\n",
    "        "
   ]
  },
  {
   "cell_type": "markdown",
   "id": "7065485c",
   "metadata": {},
   "source": [
    "### Вывод \n",
    "Чтобы обеспечить вероятность не выполнить план в 100 клиентов меншьше, чем 5% необходимо разослать минимум 1161 промокод."
   ]
  },
  {
   "cell_type": "markdown",
   "id": "a8bbe7a7",
   "metadata": {},
   "source": [
    "### 7.2 Оценка открытия PUSH уведомлений\n",
    "С помощью аппроксимации постройте примерный график распределения и оцените вероятность того, что уведомление откроют не более \n",
    "399,5 тыс. пользователей."
   ]
  },
  {
   "cell_type": "code",
   "execution_count": 47,
   "id": "eed936d2",
   "metadata": {},
   "outputs": [
    {
     "data": {
      "image/png": "[encoded data removed]",
      "text/plain": [
       "<Figure size 432x288 with 1 Axes>"
      ]
     },
     "metadata": {
      "needs_background": "light"
     },
     "output_type": "display_data"
    }
   ],
   "source": [
    "def linspace(start, stop, num):\n",
    "    step = (stop - start) / (num - 1)\n",
    "    result = []\n",
    "    for i in range(num):\n",
    "        result.append(start + step * i)\n",
    "    return result\n",
    "\n",
    "n = 1000000\n",
    "p = 0.4\n",
    "\n",
    "mu = n * p\n",
    "sigma = sqrt(n * p * (1 - p))\n",
    "\n",
    "left = int(n * p - 4 * sqrt(n * p * (1 - p)))\n",
    "right = int(n * p + 4 * sqrt(n * p * (1 - p)))\n",
    "\n",
    "x = linspace(left, right, 100)\n",
    "\n",
    "ax = plt.subplot()\n",
    "ax.plot(x, st.norm.pdf(x, mu, sigma), 'r-', lw=3, alpha=0.3)\n",
    "\n",
    "plt.show()"
   ]
  },
  {
   "cell_type": "code",
   "execution_count": 48,
   "id": "b3afaf93",
   "metadata": {},
   "outputs": [
    {
     "name": "stdout",
     "output_type": "stream",
     "text": [
      "0.15371708296369768\n"
     ]
    }
   ],
   "source": [
    "distr = st.norm(mu, sigma) \n",
    "result = distr.cdf(399500)\n",
    "print(result)"
   ]
  },
  {
   "cell_type": "markdown",
   "id": "0c5a06ee",
   "metadata": {},
   "source": [
    "### Вывод\n",
    "Вероятность того, что уведомление откроют не более 399,5 тыс. пользователей составляет 15,3%"
   ]
  },
  {
   "cell_type": "markdown",
   "id": "01ead25a",
   "metadata": {},
   "source": [
    "## ВЫВОД\n",
    "\n",
    "Мы провели исследование поездок пользователей сервиса GoFast. \n",
    "1. При исследовании данных заметили, что в Пятигорске сервис наиболее популярен, а в столице наименее востребован. \n",
    "2. 45% пользователей имеют ultra подписку\n",
    "3. Медианный возраст пользователя - 25 лет, диапазон 12-43\n",
    "4. Средняя продолжительно поездки 15-20 минут\n",
    "5. Чаще всего самокаты используют либо для коротких поездок, от 0 до 1300 метров, либо для долгих с 2000, до 5000 метров. В этих диапазонах дистанция поездок имеет нормальное распределение.\n",
    "6. Профили поездок премиум пользователей и обычных схожи, с небольшими нюансами (ultra пользователи ездят чуть дольше и чуть быстрее)\n",
    "7. Пользователи с Ultra подпиской тратят на поездки больше времени\n",
    "8. Пользователи с Ultra подпиской в среднем проезжают оптимальное расстояние"
   ]
  },
  {
   "cell_type": "markdown",
   "id": "2e9e4093",
   "metadata": {},
   "source": [
    "## Вывод доп задания\n",
    "1. Чтобы обеспечить вероятность не выполнить план в 100 клиентов меншьше, чем 5% необходимо разослать минимум 1161 промокод.\n",
    "2. Вероятность того, что уведомление откроют не более 399,5 тыс. пользователей составляет 15,3%\n"
   ]
  },
  {
   "cell_type": "markdown",
   "id": "f13699af",
   "metadata": {},
   "source": [
    "<div style=\"border:solid steelblue 3px; padding: 20px; border-radius: 10px\">\n",
    "    \n",
    "<b>Общий комментарий ревьюера V2:</b>\n",
    "\n",
    "Ты проделал большую работу над проектом. Но нужно кое-что поправить, чтобы я его принял.\n",
    "    \n",
    "Есть несколько критических замечаний:\n",
    "    \n",
    "- по округлению времени поездки для расчета выручки\n",
    "- по проверке гипотез\n",
    "- по общему выводу\n",
    "    \n",
    "Также, постарайся отработать желтые комментарии.\n",
    "    \n",
    "Буду ждать твой доработанный проект. ⌛️</div>"
   ]
  },
  {
   "cell_type": "markdown",
   "id": "9c8ba3b5",
   "metadata": {},
   "source": [
    "<div style=\"border:solid steelblue 3px; padding: 20px; border-radius: 10px\">\n",
    "    \n",
    "<b>Общий комментарий ревьюера V3</b>\n",
    "\n",
    "Спасибо, что учел мои замечания и доработал проект, получилась очень хорошая работа! \n",
    "    \n",
    "Успехов в дальнейшем обучении! 🏆\n",
    "    \n",
    "</div>"
   ]
  }
 ],
 "metadata": {
  "ExecuteTimeLog": [
   {
    "duration": 655,
    "start_time": "2023-05-17T18:53:00.919Z"
   },
   {
    "duration": 165,
    "start_time": "2023-05-17T18:53:01.581Z"
   },
   {
    "duration": 0,
    "start_time": "2023-05-17T18:53:01.748Z"
   },
   {
    "duration": 0,
    "start_time": "2023-05-17T18:53:01.749Z"
   },
   {
    "duration": 0,
    "start_time": "2023-05-17T18:53:01.750Z"
   },
   {
    "duration": 0,
    "start_time": "2023-05-17T18:53:01.751Z"
   },
   {
    "duration": 0,
    "start_time": "2023-05-17T18:53:01.752Z"
   },
   {
    "duration": 0,
    "start_time": "2023-05-17T18:53:01.753Z"
   },
   {
    "duration": 0,
    "start_time": "2023-05-17T18:53:01.754Z"
   },
   {
    "duration": 0,
    "start_time": "2023-05-17T18:53:01.755Z"
   },
   {
    "duration": 0,
    "start_time": "2023-05-17T18:53:01.756Z"
   },
   {
    "duration": 0,
    "start_time": "2023-05-17T18:53:01.757Z"
   },
   {
    "duration": 0,
    "start_time": "2023-05-17T18:53:01.758Z"
   },
   {
    "duration": 1,
    "start_time": "2023-05-17T18:53:01.761Z"
   },
   {
    "duration": 0,
    "start_time": "2023-05-17T18:53:01.762Z"
   },
   {
    "duration": 0,
    "start_time": "2023-05-17T18:53:01.763Z"
   },
   {
    "duration": 0,
    "start_time": "2023-05-17T18:53:01.768Z"
   },
   {
    "duration": 0,
    "start_time": "2023-05-17T18:53:01.768Z"
   },
   {
    "duration": 0,
    "start_time": "2023-05-17T18:53:01.770Z"
   },
   {
    "duration": 0,
    "start_time": "2023-05-17T18:53:01.773Z"
   },
   {
    "duration": 0,
    "start_time": "2023-05-17T18:53:01.775Z"
   },
   {
    "duration": 0,
    "start_time": "2023-05-17T18:53:01.776Z"
   },
   {
    "duration": 2,
    "start_time": "2023-05-17T18:53:01.777Z"
   },
   {
    "duration": 0,
    "start_time": "2023-05-17T18:53:01.781Z"
   },
   {
    "duration": 0,
    "start_time": "2023-05-17T18:53:01.782Z"
   },
   {
    "duration": 0,
    "start_time": "2023-05-17T18:53:01.784Z"
   },
   {
    "duration": 524,
    "start_time": "2023-05-17T18:53:57.431Z"
   },
   {
    "duration": 707,
    "start_time": "2023-05-17T18:54:02.151Z"
   },
   {
    "duration": 386,
    "start_time": "2023-05-17T18:54:02.860Z"
   },
   {
    "duration": 4,
    "start_time": "2023-05-17T18:54:03.248Z"
   },
   {
    "duration": 47,
    "start_time": "2023-05-17T18:54:03.254Z"
   },
   {
    "duration": 7,
    "start_time": "2023-05-17T18:54:03.305Z"
   },
   {
    "duration": 28,
    "start_time": "2023-05-17T18:54:03.314Z"
   },
   {
    "duration": 7,
    "start_time": "2023-05-17T18:54:03.344Z"
   },
   {
    "duration": 27,
    "start_time": "2023-05-17T18:54:03.353Z"
   },
   {
    "duration": 41,
    "start_time": "2023-05-17T18:54:03.382Z"
   },
   {
    "duration": 11,
    "start_time": "2023-05-17T18:54:03.425Z"
   },
   {
    "duration": 27,
    "start_time": "2023-05-17T18:54:03.438Z"
   },
   {
    "duration": 15,
    "start_time": "2023-05-17T18:54:03.468Z"
   },
   {
    "duration": 9,
    "start_time": "2023-05-17T18:54:03.485Z"
   },
   {
    "duration": 36,
    "start_time": "2023-05-17T18:54:03.497Z"
   },
   {
    "duration": 27,
    "start_time": "2023-05-17T18:54:03.535Z"
   },
   {
    "duration": 26,
    "start_time": "2023-05-17T18:54:03.567Z"
   },
   {
    "duration": 227,
    "start_time": "2023-05-17T18:54:03.595Z"
   },
   {
    "duration": 146,
    "start_time": "2023-05-17T18:54:03.827Z"
   },
   {
    "duration": 241,
    "start_time": "2023-05-17T18:54:03.977Z"
   },
   {
    "duration": 422,
    "start_time": "2023-05-17T18:54:04.220Z"
   },
   {
    "duration": 308,
    "start_time": "2023-05-17T18:54:04.644Z"
   },
   {
    "duration": 145,
    "start_time": "2023-05-17T18:54:04.956Z"
   },
   {
    "duration": 6,
    "start_time": "2023-05-17T18:54:05.103Z"
   },
   {
    "duration": 49,
    "start_time": "2023-05-17T18:54:05.111Z"
   },
   {
    "duration": 26,
    "start_time": "2023-05-17T18:54:05.162Z"
   },
   {
    "duration": 300,
    "start_time": "2023-05-17T18:54:05.190Z"
   },
   {
    "duration": 8,
    "start_time": "2023-05-17T19:03:36.008Z"
   },
   {
    "duration": 69,
    "start_time": "2023-05-18T08:25:54.709Z"
   },
   {
    "duration": 793,
    "start_time": "2023-05-18T08:30:32.104Z"
   },
   {
    "duration": 459,
    "start_time": "2023-05-18T08:31:16.790Z"
   },
   {
    "duration": 5,
    "start_time": "2023-05-18T08:33:12.113Z"
   },
   {
    "duration": 99,
    "start_time": "2023-05-18T08:33:16.023Z"
   },
   {
    "duration": 670,
    "start_time": "2023-05-18T08:33:22.214Z"
   },
   {
    "duration": 253,
    "start_time": "2023-05-18T08:33:25.487Z"
   },
   {
    "duration": 4,
    "start_time": "2023-05-18T08:33:27.911Z"
   },
   {
    "duration": 23,
    "start_time": "2023-05-18T08:33:30.066Z"
   },
   {
    "duration": 296,
    "start_time": "2023-05-18T08:41:33.173Z"
   },
   {
    "duration": 306,
    "start_time": "2023-05-18T08:42:23.814Z"
   },
   {
    "duration": 9,
    "start_time": "2023-05-18T08:43:09.649Z"
   },
   {
    "duration": 1171,
    "start_time": "2023-05-18T08:43:22.862Z"
   },
   {
    "duration": 494,
    "start_time": "2023-05-18T08:43:24.037Z"
   },
   {
    "duration": 4,
    "start_time": "2023-05-18T08:43:24.533Z"
   },
   {
    "duration": 38,
    "start_time": "2023-05-18T08:43:24.539Z"
   },
   {
    "duration": 33,
    "start_time": "2023-05-18T08:43:24.580Z"
   },
   {
    "duration": 27,
    "start_time": "2023-05-18T08:43:24.617Z"
   },
   {
    "duration": 9,
    "start_time": "2023-05-18T08:43:24.647Z"
   },
   {
    "duration": 11,
    "start_time": "2023-05-18T08:43:24.658Z"
   },
   {
    "duration": 56,
    "start_time": "2023-05-18T08:43:24.671Z"
   },
   {
    "duration": 26,
    "start_time": "2023-05-18T08:43:24.729Z"
   },
   {
    "duration": 19,
    "start_time": "2023-05-18T08:43:24.757Z"
   },
   {
    "duration": 10,
    "start_time": "2023-05-18T08:43:24.777Z"
   },
   {
    "duration": 50,
    "start_time": "2023-05-18T08:43:24.789Z"
   },
   {
    "duration": 23,
    "start_time": "2023-05-18T08:43:24.842Z"
   },
   {
    "duration": 15,
    "start_time": "2023-05-18T08:43:24.867Z"
   },
   {
    "duration": 18,
    "start_time": "2023-05-18T08:43:24.883Z"
   },
   {
    "duration": 166,
    "start_time": "2023-05-18T08:43:24.905Z"
   },
   {
    "duration": 138,
    "start_time": "2023-05-18T08:43:25.072Z"
   },
   {
    "duration": 148,
    "start_time": "2023-05-18T08:43:25.213Z"
   },
   {
    "duration": 265,
    "start_time": "2023-05-18T08:43:25.363Z"
   },
   {
    "duration": 262,
    "start_time": "2023-05-18T08:43:25.630Z"
   },
   {
    "duration": 126,
    "start_time": "2023-05-18T08:43:25.896Z"
   },
   {
    "duration": 6,
    "start_time": "2023-05-18T08:43:26.023Z"
   },
   {
    "duration": 29,
    "start_time": "2023-05-18T08:43:26.031Z"
   },
   {
    "duration": 38,
    "start_time": "2023-05-18T08:43:26.062Z"
   },
   {
    "duration": 15,
    "start_time": "2023-05-18T08:43:26.101Z"
   },
   {
    "duration": 10,
    "start_time": "2023-05-18T08:43:26.118Z"
   },
   {
    "duration": 300,
    "start_time": "2023-05-18T08:43:26.129Z"
   },
   {
    "duration": 83,
    "start_time": "2023-05-18T08:44:27.177Z"
   },
   {
    "duration": 103,
    "start_time": "2023-05-18T08:47:01.193Z"
   },
   {
    "duration": 7,
    "start_time": "2023-05-18T08:47:17.889Z"
   },
   {
    "duration": 328,
    "start_time": "2023-05-18T08:48:20.378Z"
   },
   {
    "duration": 309,
    "start_time": "2023-05-18T08:48:34.426Z"
   },
   {
    "duration": 16,
    "start_time": "2023-05-18T08:50:03.066Z"
   },
   {
    "duration": 12,
    "start_time": "2023-05-18T08:50:31.753Z"
   },
   {
    "duration": 15,
    "start_time": "2023-05-18T08:50:39.838Z"
   },
   {
    "duration": 1116,
    "start_time": "2023-05-18T08:51:08.471Z"
   },
   {
    "duration": 239,
    "start_time": "2023-05-18T08:51:09.589Z"
   },
   {
    "duration": 5,
    "start_time": "2023-05-18T08:51:09.830Z"
   },
   {
    "duration": 35,
    "start_time": "2023-05-18T08:51:09.836Z"
   },
   {
    "duration": 5,
    "start_time": "2023-05-18T08:51:09.874Z"
   },
   {
    "duration": 31,
    "start_time": "2023-05-18T08:51:09.881Z"
   },
   {
    "duration": 11,
    "start_time": "2023-05-18T08:51:09.914Z"
   },
   {
    "duration": 28,
    "start_time": "2023-05-18T08:51:09.927Z"
   },
   {
    "duration": 35,
    "start_time": "2023-05-18T08:51:09.957Z"
   },
   {
    "duration": 8,
    "start_time": "2023-05-18T08:51:09.994Z"
   },
   {
    "duration": 23,
    "start_time": "2023-05-18T08:51:10.003Z"
   },
   {
    "duration": 12,
    "start_time": "2023-05-18T08:51:10.028Z"
   },
   {
    "duration": 12,
    "start_time": "2023-05-18T08:51:10.042Z"
   },
   {
    "duration": 21,
    "start_time": "2023-05-18T08:51:10.056Z"
   },
   {
    "duration": 19,
    "start_time": "2023-05-18T08:51:10.079Z"
   },
   {
    "duration": 22,
    "start_time": "2023-05-18T08:51:10.100Z"
   },
   {
    "duration": 172,
    "start_time": "2023-05-18T08:51:10.124Z"
   },
   {
    "duration": 117,
    "start_time": "2023-05-18T08:51:10.298Z"
   },
   {
    "duration": 8,
    "start_time": "2023-05-18T08:51:10.417Z"
   },
   {
    "duration": 170,
    "start_time": "2023-05-18T08:51:10.427Z"
   },
   {
    "duration": 232,
    "start_time": "2023-05-18T08:51:10.598Z"
   },
   {
    "duration": 239,
    "start_time": "2023-05-18T08:51:10.832Z"
   },
   {
    "duration": 132,
    "start_time": "2023-05-18T08:51:11.073Z"
   },
   {
    "duration": 5,
    "start_time": "2023-05-18T08:51:11.207Z"
   },
   {
    "duration": 32,
    "start_time": "2023-05-18T08:51:11.214Z"
   },
   {
    "duration": 12,
    "start_time": "2023-05-18T08:51:11.248Z"
   },
   {
    "duration": 6,
    "start_time": "2023-05-18T08:51:11.261Z"
   },
   {
    "duration": 7,
    "start_time": "2023-05-18T08:51:11.295Z"
   },
   {
    "duration": 287,
    "start_time": "2023-05-18T08:51:11.304Z"
   },
   {
    "duration": 207,
    "start_time": "2023-05-18T08:51:11.594Z"
   },
   {
    "duration": 30,
    "start_time": "2023-05-18T08:51:11.802Z"
   },
   {
    "duration": 2,
    "start_time": "2023-05-18T08:51:40.382Z"
   },
   {
    "duration": 14,
    "start_time": "2023-05-18T08:51:52.202Z"
   },
   {
    "duration": 6,
    "start_time": "2023-05-18T08:52:37.274Z"
   },
   {
    "duration": 64,
    "start_time": "2023-05-18T08:53:17.076Z"
   },
   {
    "duration": 5,
    "start_time": "2023-05-18T08:53:52.995Z"
   },
   {
    "duration": 2,
    "start_time": "2023-05-18T08:55:11.270Z"
   },
   {
    "duration": 8,
    "start_time": "2023-05-18T08:55:26.896Z"
   },
   {
    "duration": 7,
    "start_time": "2023-05-18T08:55:34.270Z"
   },
   {
    "duration": 156,
    "start_time": "2023-05-18T08:56:46.318Z"
   },
   {
    "duration": 137,
    "start_time": "2023-05-18T08:59:05.767Z"
   },
   {
    "duration": 156,
    "start_time": "2023-05-18T08:59:11.267Z"
   },
   {
    "duration": 185,
    "start_time": "2023-05-18T08:59:43.895Z"
   },
   {
    "duration": 135,
    "start_time": "2023-05-18T08:59:54.104Z"
   },
   {
    "duration": 135,
    "start_time": "2023-05-18T09:00:06.871Z"
   },
   {
    "duration": 60,
    "start_time": "2023-05-18T09:01:20.868Z"
   },
   {
    "duration": 207,
    "start_time": "2023-05-18T09:01:58.281Z"
   },
   {
    "duration": 343,
    "start_time": "2023-05-18T09:02:15.948Z"
   },
   {
    "duration": 4,
    "start_time": "2023-05-18T09:02:25.778Z"
   },
   {
    "duration": 5,
    "start_time": "2023-05-18T09:02:35.977Z"
   },
   {
    "duration": 57,
    "start_time": "2023-05-18T09:02:54.371Z"
   },
   {
    "duration": 8,
    "start_time": "2023-05-18T09:03:11.794Z"
   },
   {
    "duration": 131,
    "start_time": "2023-05-18T09:03:25.323Z"
   },
   {
    "duration": 4,
    "start_time": "2023-05-18T09:03:33.869Z"
   },
   {
    "duration": 86,
    "start_time": "2023-05-18T09:05:25.704Z"
   },
   {
    "duration": 1073,
    "start_time": "2023-05-18T09:06:59.883Z"
   },
   {
    "duration": 297,
    "start_time": "2023-05-18T09:07:00.958Z"
   },
   {
    "duration": 4,
    "start_time": "2023-05-18T09:07:01.258Z"
   },
   {
    "duration": 96,
    "start_time": "2023-05-18T09:07:01.264Z"
   },
   {
    "duration": 45,
    "start_time": "2023-05-18T09:07:01.361Z"
   },
   {
    "duration": 72,
    "start_time": "2023-05-18T09:07:01.408Z"
   },
   {
    "duration": 48,
    "start_time": "2023-05-18T09:07:01.482Z"
   },
   {
    "duration": 39,
    "start_time": "2023-05-18T09:07:01.531Z"
   },
   {
    "duration": 64,
    "start_time": "2023-05-18T09:07:01.572Z"
   },
   {
    "duration": 32,
    "start_time": "2023-05-18T09:07:01.637Z"
   },
   {
    "duration": 48,
    "start_time": "2023-05-18T09:07:01.671Z"
   },
   {
    "duration": 48,
    "start_time": "2023-05-18T09:07:01.721Z"
   },
   {
    "duration": 46,
    "start_time": "2023-05-18T09:07:01.772Z"
   },
   {
    "duration": 38,
    "start_time": "2023-05-18T09:07:01.820Z"
   },
   {
    "duration": 49,
    "start_time": "2023-05-18T09:07:01.860Z"
   },
   {
    "duration": 71,
    "start_time": "2023-05-18T09:07:01.911Z"
   },
   {
    "duration": 202,
    "start_time": "2023-05-18T09:07:01.984Z"
   },
   {
    "duration": 121,
    "start_time": "2023-05-18T09:07:02.194Z"
   },
   {
    "duration": 6,
    "start_time": "2023-05-18T09:07:02.317Z"
   },
   {
    "duration": 167,
    "start_time": "2023-05-18T09:07:02.325Z"
   },
   {
    "duration": 256,
    "start_time": "2023-05-18T09:07:02.493Z"
   },
   {
    "duration": 241,
    "start_time": "2023-05-18T09:07:02.751Z"
   },
   {
    "duration": 125,
    "start_time": "2023-05-18T09:07:02.994Z"
   },
   {
    "duration": 7,
    "start_time": "2023-05-18T09:07:03.121Z"
   },
   {
    "duration": 26,
    "start_time": "2023-05-18T09:07:03.129Z"
   },
   {
    "duration": 11,
    "start_time": "2023-05-18T09:07:03.157Z"
   },
   {
    "duration": 39,
    "start_time": "2023-05-18T09:07:03.169Z"
   },
   {
    "duration": 9,
    "start_time": "2023-05-18T09:07:03.209Z"
   },
   {
    "duration": 296,
    "start_time": "2023-05-18T09:07:03.220Z"
   },
   {
    "duration": 243,
    "start_time": "2023-05-18T09:07:03.517Z"
   },
   {
    "duration": 41,
    "start_time": "2023-05-18T09:07:03.762Z"
   },
   {
    "duration": 13,
    "start_time": "2023-05-18T09:07:03.805Z"
   },
   {
    "duration": 12,
    "start_time": "2023-05-18T09:07:03.820Z"
   },
   {
    "duration": 16,
    "start_time": "2023-05-18T09:07:03.834Z"
   },
   {
    "duration": 30,
    "start_time": "2023-05-18T09:07:03.851Z"
   },
   {
    "duration": 154,
    "start_time": "2023-05-18T09:07:03.883Z"
   },
   {
    "duration": 223,
    "start_time": "2023-05-18T09:07:04.039Z"
   },
   {
    "duration": 259,
    "start_time": "2023-05-18T09:07:04.263Z"
   },
   {
    "duration": 5,
    "start_time": "2023-05-18T09:07:04.523Z"
   },
   {
    "duration": 9,
    "start_time": "2023-05-18T09:07:04.532Z"
   },
   {
    "duration": 158,
    "start_time": "2023-05-18T09:07:04.542Z"
   },
   {
    "duration": 7,
    "start_time": "2023-05-18T09:07:04.704Z"
   },
   {
    "duration": 1177,
    "start_time": "2023-05-18T15:40:28.045Z"
   },
   {
    "duration": 371,
    "start_time": "2023-05-18T15:40:29.224Z"
   },
   {
    "duration": 3,
    "start_time": "2023-05-18T15:40:29.597Z"
   },
   {
    "duration": 29,
    "start_time": "2023-05-18T15:40:29.601Z"
   },
   {
    "duration": 4,
    "start_time": "2023-05-18T15:40:29.632Z"
   },
   {
    "duration": 15,
    "start_time": "2023-05-18T15:40:29.637Z"
   },
   {
    "duration": 6,
    "start_time": "2023-05-18T15:40:29.654Z"
   },
   {
    "duration": 5,
    "start_time": "2023-05-18T15:40:29.662Z"
   },
   {
    "duration": 24,
    "start_time": "2023-05-18T15:40:29.669Z"
   },
   {
    "duration": 8,
    "start_time": "2023-05-18T15:40:29.695Z"
   },
   {
    "duration": 7,
    "start_time": "2023-05-18T15:40:29.704Z"
   },
   {
    "duration": 7,
    "start_time": "2023-05-18T15:40:29.713Z"
   },
   {
    "duration": 5,
    "start_time": "2023-05-18T15:40:29.722Z"
   },
   {
    "duration": 14,
    "start_time": "2023-05-18T15:40:29.728Z"
   },
   {
    "duration": 39,
    "start_time": "2023-05-18T15:40:29.743Z"
   },
   {
    "duration": 16,
    "start_time": "2023-05-18T15:40:29.783Z"
   },
   {
    "duration": 175,
    "start_time": "2023-05-18T15:40:29.800Z"
   },
   {
    "duration": 127,
    "start_time": "2023-05-18T15:40:29.976Z"
   },
   {
    "duration": 7,
    "start_time": "2023-05-18T15:40:30.104Z"
   },
   {
    "duration": 176,
    "start_time": "2023-05-18T15:40:30.113Z"
   },
   {
    "duration": 247,
    "start_time": "2023-05-18T15:40:30.291Z"
   },
   {
    "duration": 242,
    "start_time": "2023-05-18T15:40:30.540Z"
   },
   {
    "duration": 134,
    "start_time": "2023-05-18T15:40:30.783Z"
   },
   {
    "duration": 6,
    "start_time": "2023-05-18T15:40:30.918Z"
   },
   {
    "duration": 53,
    "start_time": "2023-05-18T15:40:30.925Z"
   },
   {
    "duration": 24,
    "start_time": "2023-05-18T15:40:30.979Z"
   },
   {
    "duration": 46,
    "start_time": "2023-05-18T15:40:31.005Z"
   },
   {
    "duration": 51,
    "start_time": "2023-05-18T15:40:31.054Z"
   },
   {
    "duration": 301,
    "start_time": "2023-05-18T15:40:31.107Z"
   },
   {
    "duration": 211,
    "start_time": "2023-05-18T15:40:31.410Z"
   },
   {
    "duration": 32,
    "start_time": "2023-05-18T15:40:31.623Z"
   },
   {
    "duration": 29,
    "start_time": "2023-05-18T15:40:31.656Z"
   },
   {
    "duration": 5,
    "start_time": "2023-05-18T15:40:31.687Z"
   },
   {
    "duration": 26,
    "start_time": "2023-05-18T15:40:31.693Z"
   },
   {
    "duration": 33,
    "start_time": "2023-05-18T15:40:31.721Z"
   },
   {
    "duration": 179,
    "start_time": "2023-05-18T15:40:31.755Z"
   },
   {
    "duration": 247,
    "start_time": "2023-05-18T15:40:31.935Z"
   },
   {
    "duration": 264,
    "start_time": "2023-05-18T15:40:32.184Z"
   },
   {
    "duration": 4,
    "start_time": "2023-05-18T15:40:32.450Z"
   },
   {
    "duration": 9,
    "start_time": "2023-05-18T15:40:32.456Z"
   },
   {
    "duration": 150,
    "start_time": "2023-05-18T15:40:32.474Z"
   },
   {
    "duration": 4,
    "start_time": "2023-05-18T15:40:32.626Z"
   },
   {
    "duration": 7,
    "start_time": "2023-05-18T15:50:28.895Z"
   },
   {
    "duration": 112,
    "start_time": "2023-05-18T15:52:13.344Z"
   },
   {
    "duration": 46,
    "start_time": "2023-05-19T03:31:00.339Z"
   },
   {
    "duration": 1207,
    "start_time": "2023-05-19T03:31:10.420Z"
   },
   {
    "duration": 1000,
    "start_time": "2023-05-19T03:31:22.731Z"
   },
   {
    "duration": 350,
    "start_time": "2023-05-19T03:31:23.733Z"
   },
   {
    "duration": 4,
    "start_time": "2023-05-19T03:31:24.084Z"
   },
   {
    "duration": 27,
    "start_time": "2023-05-19T03:31:24.090Z"
   },
   {
    "duration": 5,
    "start_time": "2023-05-19T03:31:24.119Z"
   },
   {
    "duration": 7,
    "start_time": "2023-05-19T03:31:24.126Z"
   },
   {
    "duration": 4,
    "start_time": "2023-05-19T03:31:24.135Z"
   },
   {
    "duration": 37,
    "start_time": "2023-05-19T03:31:24.141Z"
   },
   {
    "duration": 21,
    "start_time": "2023-05-19T03:31:24.180Z"
   },
   {
    "duration": 7,
    "start_time": "2023-05-19T03:31:24.203Z"
   },
   {
    "duration": 7,
    "start_time": "2023-05-19T03:31:24.211Z"
   },
   {
    "duration": 7,
    "start_time": "2023-05-19T03:31:24.219Z"
   },
   {
    "duration": 5,
    "start_time": "2023-05-19T03:31:24.227Z"
   },
   {
    "duration": 7,
    "start_time": "2023-05-19T03:31:24.275Z"
   },
   {
    "duration": 8,
    "start_time": "2023-05-19T03:31:24.284Z"
   },
   {
    "duration": 15,
    "start_time": "2023-05-19T03:31:24.294Z"
   },
   {
    "duration": 181,
    "start_time": "2023-05-19T03:31:24.311Z"
   },
   {
    "duration": 119,
    "start_time": "2023-05-19T03:31:24.493Z"
   },
   {
    "duration": 7,
    "start_time": "2023-05-19T03:31:24.614Z"
   },
   {
    "duration": 161,
    "start_time": "2023-05-19T03:31:24.622Z"
   },
   {
    "duration": 244,
    "start_time": "2023-05-19T03:31:24.785Z"
   },
   {
    "duration": 225,
    "start_time": "2023-05-19T03:31:25.031Z"
   },
   {
    "duration": 119,
    "start_time": "2023-05-19T03:31:25.257Z"
   },
   {
    "duration": 6,
    "start_time": "2023-05-19T03:31:25.377Z"
   },
   {
    "duration": 23,
    "start_time": "2023-05-19T03:31:25.384Z"
   },
   {
    "duration": 9,
    "start_time": "2023-05-19T03:31:25.409Z"
   },
   {
    "duration": 5,
    "start_time": "2023-05-19T03:31:25.420Z"
   },
   {
    "duration": 8,
    "start_time": "2023-05-19T03:31:25.426Z"
   },
   {
    "duration": 299,
    "start_time": "2023-05-19T03:31:25.435Z"
   },
   {
    "duration": 210,
    "start_time": "2023-05-19T03:31:25.736Z"
   },
   {
    "duration": 3,
    "start_time": "2023-05-19T03:31:25.948Z"
   },
   {
    "duration": 74,
    "start_time": "2023-05-19T03:31:25.952Z"
   },
   {
    "duration": 0,
    "start_time": "2023-05-19T03:31:26.027Z"
   },
   {
    "duration": 0,
    "start_time": "2023-05-19T03:31:26.029Z"
   },
   {
    "duration": 0,
    "start_time": "2023-05-19T03:31:26.031Z"
   },
   {
    "duration": 0,
    "start_time": "2023-05-19T03:31:26.032Z"
   },
   {
    "duration": 0,
    "start_time": "2023-05-19T03:31:26.034Z"
   },
   {
    "duration": 0,
    "start_time": "2023-05-19T03:31:26.036Z"
   },
   {
    "duration": 0,
    "start_time": "2023-05-19T03:31:26.037Z"
   },
   {
    "duration": 0,
    "start_time": "2023-05-19T03:31:26.039Z"
   },
   {
    "duration": 0,
    "start_time": "2023-05-19T03:31:26.040Z"
   },
   {
    "duration": 0,
    "start_time": "2023-05-19T03:31:26.041Z"
   },
   {
    "duration": 0,
    "start_time": "2023-05-19T03:31:26.042Z"
   },
   {
    "duration": 0,
    "start_time": "2023-05-19T03:31:26.044Z"
   },
   {
    "duration": 109,
    "start_time": "2023-05-19T03:31:41.522Z"
   },
   {
    "duration": 32,
    "start_time": "2023-05-19T03:31:53.873Z"
   },
   {
    "duration": 10,
    "start_time": "2023-05-19T03:34:16.520Z"
   },
   {
    "duration": 7,
    "start_time": "2023-05-19T03:34:32.726Z"
   },
   {
    "duration": 5,
    "start_time": "2023-05-19T03:35:48.642Z"
   },
   {
    "duration": 6,
    "start_time": "2023-05-19T03:38:23.981Z"
   },
   {
    "duration": 5,
    "start_time": "2023-05-19T03:38:29.095Z"
   },
   {
    "duration": 6,
    "start_time": "2023-05-19T03:47:16.582Z"
   },
   {
    "duration": 5,
    "start_time": "2023-05-19T03:47:24.966Z"
   },
   {
    "duration": 17,
    "start_time": "2023-05-19T03:47:48.122Z"
   },
   {
    "duration": 6,
    "start_time": "2023-05-19T03:47:53.642Z"
   },
   {
    "duration": 5,
    "start_time": "2023-05-19T03:49:17.019Z"
   },
   {
    "duration": 79,
    "start_time": "2023-05-19T03:53:43.721Z"
   },
   {
    "duration": 97,
    "start_time": "2023-05-19T03:53:58.844Z"
   },
   {
    "duration": 9,
    "start_time": "2023-05-19T03:54:03.453Z"
   },
   {
    "duration": 4,
    "start_time": "2023-05-19T03:54:22.794Z"
   },
   {
    "duration": 100,
    "start_time": "2023-05-19T03:55:25.028Z"
   },
   {
    "duration": 5,
    "start_time": "2023-05-19T03:55:32.757Z"
   },
   {
    "duration": 97,
    "start_time": "2023-05-19T03:56:45.133Z"
   },
   {
    "duration": 1187,
    "start_time": "2023-05-19T03:57:55.623Z"
   },
   {
    "duration": 29,
    "start_time": "2023-05-19T03:59:31.754Z"
   },
   {
    "duration": 1204,
    "start_time": "2023-05-19T03:59:39.371Z"
   },
   {
    "duration": 12,
    "start_time": "2023-05-19T04:00:28.610Z"
   },
   {
    "duration": 10,
    "start_time": "2023-05-19T04:00:34.606Z"
   },
   {
    "duration": 5,
    "start_time": "2023-05-19T04:03:03.903Z"
   },
   {
    "duration": 4,
    "start_time": "2023-05-19T04:03:06.174Z"
   },
   {
    "duration": 94,
    "start_time": "2023-05-19T04:04:47.771Z"
   },
   {
    "duration": 146,
    "start_time": "2023-05-19T04:04:53.899Z"
   },
   {
    "duration": 3,
    "start_time": "2023-05-19T04:05:27.510Z"
   },
   {
    "duration": 75,
    "start_time": "2023-05-19T04:06:34.407Z"
   },
   {
    "duration": 8,
    "start_time": "2023-05-19T04:07:05.939Z"
   },
   {
    "duration": 125,
    "start_time": "2023-05-19T04:07:17.929Z"
   },
   {
    "duration": 118,
    "start_time": "2023-05-19T04:07:45.604Z"
   },
   {
    "duration": 72,
    "start_time": "2023-05-19T04:24:33.345Z"
   },
   {
    "duration": 92,
    "start_time": "2023-05-19T04:45:11.143Z"
   },
   {
    "duration": 73,
    "start_time": "2023-05-19T04:46:04.211Z"
   },
   {
    "duration": 1012,
    "start_time": "2023-05-19T04:55:36.414Z"
   },
   {
    "duration": 419,
    "start_time": "2023-05-19T04:55:37.428Z"
   },
   {
    "duration": 3,
    "start_time": "2023-05-19T04:55:37.849Z"
   },
   {
    "duration": 25,
    "start_time": "2023-05-19T04:55:37.855Z"
   },
   {
    "duration": 5,
    "start_time": "2023-05-19T04:55:37.882Z"
   },
   {
    "duration": 8,
    "start_time": "2023-05-19T04:55:37.888Z"
   },
   {
    "duration": 5,
    "start_time": "2023-05-19T04:55:37.898Z"
   },
   {
    "duration": 9,
    "start_time": "2023-05-19T04:55:37.904Z"
   },
   {
    "duration": 25,
    "start_time": "2023-05-19T04:55:37.914Z"
   },
   {
    "duration": 8,
    "start_time": "2023-05-19T04:55:37.976Z"
   },
   {
    "duration": 7,
    "start_time": "2023-05-19T04:55:37.986Z"
   },
   {
    "duration": 9,
    "start_time": "2023-05-19T04:55:37.994Z"
   },
   {
    "duration": 6,
    "start_time": "2023-05-19T04:55:38.004Z"
   },
   {
    "duration": 9,
    "start_time": "2023-05-19T04:55:38.012Z"
   },
   {
    "duration": 59,
    "start_time": "2023-05-19T04:55:38.022Z"
   },
   {
    "duration": 13,
    "start_time": "2023-05-19T04:55:38.083Z"
   },
   {
    "duration": 167,
    "start_time": "2023-05-19T04:55:38.097Z"
   },
   {
    "duration": 133,
    "start_time": "2023-05-19T04:55:38.265Z"
   },
   {
    "duration": 7,
    "start_time": "2023-05-19T04:55:38.400Z"
   },
   {
    "duration": 171,
    "start_time": "2023-05-19T04:55:38.408Z"
   },
   {
    "duration": 244,
    "start_time": "2023-05-19T04:55:38.581Z"
   },
   {
    "duration": 239,
    "start_time": "2023-05-19T04:55:38.827Z"
   },
   {
    "duration": 124,
    "start_time": "2023-05-19T04:55:39.067Z"
   },
   {
    "duration": 3,
    "start_time": "2023-05-19T04:55:39.192Z"
   },
   {
    "duration": 29,
    "start_time": "2023-05-19T04:55:39.196Z"
   },
   {
    "duration": 10,
    "start_time": "2023-05-19T04:55:39.226Z"
   },
   {
    "duration": 5,
    "start_time": "2023-05-19T04:55:39.237Z"
   },
   {
    "duration": 8,
    "start_time": "2023-05-19T04:55:39.274Z"
   },
   {
    "duration": 283,
    "start_time": "2023-05-19T04:55:39.284Z"
   },
   {
    "duration": 218,
    "start_time": "2023-05-19T04:55:39.569Z"
   },
   {
    "duration": 3,
    "start_time": "2023-05-19T04:55:39.789Z"
   },
   {
    "duration": 35,
    "start_time": "2023-05-19T04:55:39.793Z"
   },
   {
    "duration": 12,
    "start_time": "2023-05-19T04:55:39.829Z"
   },
   {
    "duration": 4,
    "start_time": "2023-05-19T04:55:39.842Z"
   },
   {
    "duration": 32,
    "start_time": "2023-05-19T04:55:39.848Z"
   },
   {
    "duration": 4,
    "start_time": "2023-05-19T04:55:39.882Z"
   },
   {
    "duration": 4,
    "start_time": "2023-05-19T04:55:39.888Z"
   },
   {
    "duration": 10,
    "start_time": "2023-05-19T04:55:39.893Z"
   },
   {
    "duration": 9,
    "start_time": "2023-05-19T04:55:39.904Z"
   },
   {
    "duration": 181,
    "start_time": "2023-05-19T04:55:39.914Z"
   },
   {
    "duration": 10,
    "start_time": "2023-05-19T04:55:40.097Z"
   },
   {
    "duration": 221,
    "start_time": "2023-05-19T04:55:40.109Z"
   },
   {
    "duration": 238,
    "start_time": "2023-05-19T04:55:40.332Z"
   },
   {
    "duration": 6,
    "start_time": "2023-05-19T04:55:40.572Z"
   },
   {
    "duration": 7,
    "start_time": "2023-05-19T04:55:40.580Z"
   },
   {
    "duration": 141,
    "start_time": "2023-05-19T04:55:40.588Z"
   },
   {
    "duration": 148,
    "start_time": "2023-05-19T04:55:40.730Z"
   },
   {
    "duration": 4,
    "start_time": "2023-05-19T04:55:40.880Z"
   },
   {
    "duration": 956,
    "start_time": "2023-05-19T06:18:16.044Z"
   },
   {
    "duration": 350,
    "start_time": "2023-05-19T06:18:17.006Z"
   },
   {
    "duration": 3,
    "start_time": "2023-05-19T06:18:17.357Z"
   },
   {
    "duration": 47,
    "start_time": "2023-05-19T06:18:17.362Z"
   },
   {
    "duration": 33,
    "start_time": "2023-05-19T06:18:17.410Z"
   },
   {
    "duration": 43,
    "start_time": "2023-05-19T06:18:17.445Z"
   },
   {
    "duration": 44,
    "start_time": "2023-05-19T06:18:17.489Z"
   },
   {
    "duration": 29,
    "start_time": "2023-05-19T06:18:17.534Z"
   },
   {
    "duration": 31,
    "start_time": "2023-05-19T06:18:17.564Z"
   },
   {
    "duration": 6,
    "start_time": "2023-05-19T06:18:17.597Z"
   },
   {
    "duration": 12,
    "start_time": "2023-05-19T06:18:17.604Z"
   },
   {
    "duration": 8,
    "start_time": "2023-05-19T06:18:17.617Z"
   },
   {
    "duration": 6,
    "start_time": "2023-05-19T06:18:17.626Z"
   },
   {
    "duration": 18,
    "start_time": "2023-05-19T06:18:17.633Z"
   },
   {
    "duration": 9,
    "start_time": "2023-05-19T06:18:17.652Z"
   },
   {
    "duration": 23,
    "start_time": "2023-05-19T06:18:17.662Z"
   },
   {
    "duration": 141,
    "start_time": "2023-05-19T06:18:17.687Z"
   },
   {
    "duration": 113,
    "start_time": "2023-05-19T06:18:17.830Z"
   },
   {
    "duration": 7,
    "start_time": "2023-05-19T06:18:17.945Z"
   },
   {
    "duration": 147,
    "start_time": "2023-05-19T06:18:17.953Z"
   },
   {
    "duration": 210,
    "start_time": "2023-05-19T06:18:18.102Z"
   },
   {
    "duration": 206,
    "start_time": "2023-05-19T06:18:18.314Z"
   },
   {
    "duration": 109,
    "start_time": "2023-05-19T06:18:18.522Z"
   },
   {
    "duration": 3,
    "start_time": "2023-05-19T06:18:18.632Z"
   },
   {
    "duration": 25,
    "start_time": "2023-05-19T06:18:18.636Z"
   },
   {
    "duration": 23,
    "start_time": "2023-05-19T06:18:18.663Z"
   },
   {
    "duration": 5,
    "start_time": "2023-05-19T06:18:18.688Z"
   },
   {
    "duration": 7,
    "start_time": "2023-05-19T06:18:18.696Z"
   },
   {
    "duration": 246,
    "start_time": "2023-05-19T06:18:18.704Z"
   },
   {
    "duration": 187,
    "start_time": "2023-05-19T06:18:18.951Z"
   },
   {
    "duration": 3,
    "start_time": "2023-05-19T06:18:19.140Z"
   },
   {
    "duration": 61,
    "start_time": "2023-05-19T06:18:19.144Z"
   },
   {
    "duration": 10,
    "start_time": "2023-05-19T06:18:19.207Z"
   },
   {
    "duration": 14,
    "start_time": "2023-05-19T06:18:19.218Z"
   },
   {
    "duration": 35,
    "start_time": "2023-05-19T06:18:19.233Z"
   },
   {
    "duration": 20,
    "start_time": "2023-05-19T06:18:19.269Z"
   },
   {
    "duration": 14,
    "start_time": "2023-05-19T06:18:19.291Z"
   },
   {
    "duration": 17,
    "start_time": "2023-05-19T06:18:19.306Z"
   },
   {
    "duration": 29,
    "start_time": "2023-05-19T06:18:19.324Z"
   },
   {
    "duration": 144,
    "start_time": "2023-05-19T06:18:19.354Z"
   },
   {
    "duration": 9,
    "start_time": "2023-05-19T06:18:19.499Z"
   },
   {
    "duration": 194,
    "start_time": "2023-05-19T06:18:19.510Z"
   },
   {
    "duration": 201,
    "start_time": "2023-05-19T06:18:19.706Z"
   },
   {
    "duration": 4,
    "start_time": "2023-05-19T06:18:19.908Z"
   },
   {
    "duration": 11,
    "start_time": "2023-05-19T06:18:19.913Z"
   },
   {
    "duration": 122,
    "start_time": "2023-05-19T06:18:19.925Z"
   },
   {
    "duration": 118,
    "start_time": "2023-05-19T06:18:20.048Z"
   },
   {
    "duration": 4,
    "start_time": "2023-05-19T06:18:20.167Z"
   },
   {
    "duration": 103,
    "start_time": "2023-05-19T06:24:01.293Z"
   }
  ],
  "kernelspec": {
   "display_name": "Python 3 (ipykernel)",
   "language": "python",
   "name": "python3"
  },
  "language_info": {
   "codemirror_mode": {
    "name": "ipython",
    "version": 3
   },
   "file_extension": ".py",
   "mimetype": "text/x-python",
   "name": "python",
   "nbconvert_exporter": "python",
   "pygments_lexer": "ipython3",
   "version": "3.9.5"
  },
  "toc": {
   "base_numbering": 1,
   "nav_menu": {},
   "number_sections": true,
   "sideBar": true,
   "skip_h1_title": true,
   "title_cell": "Table of Contents",
   "title_sidebar": "Contents",
   "toc_cell": false,
   "toc_position": {},
   "toc_section_display": true,
   "toc_window_display": false
  }
 },
 "nbformat": 4,
 "nbformat_minor": 5
}
