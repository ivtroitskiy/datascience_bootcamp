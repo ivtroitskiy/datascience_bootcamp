{
 "cells": [
  {
   "cell_type": "markdown",
   "metadata": {},
   "source": [
    "# Исследование объявлений о продаже квартир\n",
    "\n",
    "В вашем распоряжении данные сервиса Яндекс.Недвижимость — архив объявлений о продаже квартир в Санкт-Петербурге и соседних населённых пунктов за несколько лет. Нужно научиться определять рыночную стоимость объектов недвижимости. Ваша задача — установить параметры. Это позволит построить автоматизированную систему: она отследит аномалии и мошенническую деятельность. \n",
    "\n",
    "По каждой квартире на продажу доступны два вида данных. Первые вписаны пользователем, вторые — получены автоматически на основе картографических данных. Например, расстояние до центра, аэропорта, ближайшего парка и водоёма. "
   ]
  },
  {
   "cell_type": "code",
   "execution_count": 1,
   "metadata": {},
   "outputs": [],
   "source": [
    "import pandas as pd\n",
    "import seaborn as sb"
   ]
  },
  {
   "cell_type": "markdown",
   "metadata": {},
   "source": [
    "### Откройте файл с данными и изучите общую информацию. "
   ]
  },
  {
   "cell_type": "code",
   "execution_count": 2,
   "metadata": {},
   "outputs": [
    {
     "data": {
      "text/html": [
       "<div>\n",
       "<style scoped>\n",
       "    .dataframe tbody tr th:only-of-type {\n",
       "        vertical-align: middle;\n",
       "    }\n",
       "\n",
       "    .dataframe tbody tr th {\n",
       "        vertical-align: top;\n",
       "    }\n",
       "\n",
       "    .dataframe thead th {\n",
       "        text-align: right;\n",
       "    }\n",
       "</style>\n",
       "<table border=\"1\" class=\"dataframe\">\n",
       "  <thead>\n",
       "    <tr style=\"text-align: right;\">\n",
       "      <th></th>\n",
       "      <th>total_images</th>\n",
       "      <th>last_price</th>\n",
       "      <th>total_area</th>\n",
       "      <th>first_day_exposition</th>\n",
       "      <th>rooms</th>\n",
       "      <th>ceiling_height</th>\n",
       "      <th>floors_total</th>\n",
       "      <th>living_area</th>\n",
       "      <th>floor</th>\n",
       "      <th>is_apartment</th>\n",
       "      <th>studio</th>\n",
       "      <th>open_plan</th>\n",
       "      <th>kitchen_area</th>\n",
       "      <th>balcony</th>\n",
       "      <th>locality_name</th>\n",
       "      <th>airports_nearest</th>\n",
       "      <th>cityCenters_nearest</th>\n",
       "      <th>parks_around3000</th>\n",
       "      <th>parks_nearest</th>\n",
       "      <th>ponds_around3000</th>\n",
       "      <th>ponds_nearest</th>\n",
       "      <th>days_exposition</th>\n",
       "    </tr>\n",
       "  </thead>\n",
       "  <tbody>\n",
       "    <tr>\n",
       "      <th>0</th>\n",
       "      <td>20</td>\n",
       "      <td>13000000.0</td>\n",
       "      <td>108.00</td>\n",
       "      <td>2019-03-07T00:00:00</td>\n",
       "      <td>3</td>\n",
       "      <td>2.70</td>\n",
       "      <td>16.0</td>\n",
       "      <td>51.00</td>\n",
       "      <td>8</td>\n",
       "      <td>NaN</td>\n",
       "      <td>False</td>\n",
       "      <td>False</td>\n",
       "      <td>25.00</td>\n",
       "      <td>NaN</td>\n",
       "      <td>Санкт-Петербург</td>\n",
       "      <td>18863.0</td>\n",
       "      <td>16028.0</td>\n",
       "      <td>1.0</td>\n",
       "      <td>482.0</td>\n",
       "      <td>2.0</td>\n",
       "      <td>755.0</td>\n",
       "      <td>NaN</td>\n",
       "    </tr>\n",
       "    <tr>\n",
       "      <th>1</th>\n",
       "      <td>7</td>\n",
       "      <td>3350000.0</td>\n",
       "      <td>40.40</td>\n",
       "      <td>2018-12-04T00:00:00</td>\n",
       "      <td>1</td>\n",
       "      <td>NaN</td>\n",
       "      <td>11.0</td>\n",
       "      <td>18.60</td>\n",
       "      <td>1</td>\n",
       "      <td>NaN</td>\n",
       "      <td>False</td>\n",
       "      <td>False</td>\n",
       "      <td>11.00</td>\n",
       "      <td>2.0</td>\n",
       "      <td>посёлок Шушары</td>\n",
       "      <td>12817.0</td>\n",
       "      <td>18603.0</td>\n",
       "      <td>0.0</td>\n",
       "      <td>NaN</td>\n",
       "      <td>0.0</td>\n",
       "      <td>NaN</td>\n",
       "      <td>81.0</td>\n",
       "    </tr>\n",
       "    <tr>\n",
       "      <th>2</th>\n",
       "      <td>10</td>\n",
       "      <td>5196000.0</td>\n",
       "      <td>56.00</td>\n",
       "      <td>2015-08-20T00:00:00</td>\n",
       "      <td>2</td>\n",
       "      <td>NaN</td>\n",
       "      <td>5.0</td>\n",
       "      <td>34.30</td>\n",
       "      <td>4</td>\n",
       "      <td>NaN</td>\n",
       "      <td>False</td>\n",
       "      <td>False</td>\n",
       "      <td>8.30</td>\n",
       "      <td>0.0</td>\n",
       "      <td>Санкт-Петербург</td>\n",
       "      <td>21741.0</td>\n",
       "      <td>13933.0</td>\n",
       "      <td>1.0</td>\n",
       "      <td>90.0</td>\n",
       "      <td>2.0</td>\n",
       "      <td>574.0</td>\n",
       "      <td>558.0</td>\n",
       "    </tr>\n",
       "    <tr>\n",
       "      <th>3</th>\n",
       "      <td>0</td>\n",
       "      <td>64900000.0</td>\n",
       "      <td>159.00</td>\n",
       "      <td>2015-07-24T00:00:00</td>\n",
       "      <td>3</td>\n",
       "      <td>NaN</td>\n",
       "      <td>14.0</td>\n",
       "      <td>NaN</td>\n",
       "      <td>9</td>\n",
       "      <td>NaN</td>\n",
       "      <td>False</td>\n",
       "      <td>False</td>\n",
       "      <td>NaN</td>\n",
       "      <td>0.0</td>\n",
       "      <td>Санкт-Петербург</td>\n",
       "      <td>28098.0</td>\n",
       "      <td>6800.0</td>\n",
       "      <td>2.0</td>\n",
       "      <td>84.0</td>\n",
       "      <td>3.0</td>\n",
       "      <td>234.0</td>\n",
       "      <td>424.0</td>\n",
       "    </tr>\n",
       "    <tr>\n",
       "      <th>4</th>\n",
       "      <td>2</td>\n",
       "      <td>10000000.0</td>\n",
       "      <td>100.00</td>\n",
       "      <td>2018-06-19T00:00:00</td>\n",
       "      <td>2</td>\n",
       "      <td>3.03</td>\n",
       "      <td>14.0</td>\n",
       "      <td>32.00</td>\n",
       "      <td>13</td>\n",
       "      <td>NaN</td>\n",
       "      <td>False</td>\n",
       "      <td>False</td>\n",
       "      <td>41.00</td>\n",
       "      <td>NaN</td>\n",
       "      <td>Санкт-Петербург</td>\n",
       "      <td>31856.0</td>\n",
       "      <td>8098.0</td>\n",
       "      <td>2.0</td>\n",
       "      <td>112.0</td>\n",
       "      <td>1.0</td>\n",
       "      <td>48.0</td>\n",
       "      <td>121.0</td>\n",
       "    </tr>\n",
       "    <tr>\n",
       "      <th>5</th>\n",
       "      <td>10</td>\n",
       "      <td>2890000.0</td>\n",
       "      <td>30.40</td>\n",
       "      <td>2018-09-10T00:00:00</td>\n",
       "      <td>1</td>\n",
       "      <td>NaN</td>\n",
       "      <td>12.0</td>\n",
       "      <td>14.40</td>\n",
       "      <td>5</td>\n",
       "      <td>NaN</td>\n",
       "      <td>False</td>\n",
       "      <td>False</td>\n",
       "      <td>9.10</td>\n",
       "      <td>NaN</td>\n",
       "      <td>городской посёлок Янино-1</td>\n",
       "      <td>NaN</td>\n",
       "      <td>NaN</td>\n",
       "      <td>NaN</td>\n",
       "      <td>NaN</td>\n",
       "      <td>NaN</td>\n",
       "      <td>NaN</td>\n",
       "      <td>55.0</td>\n",
       "    </tr>\n",
       "    <tr>\n",
       "      <th>6</th>\n",
       "      <td>6</td>\n",
       "      <td>3700000.0</td>\n",
       "      <td>37.30</td>\n",
       "      <td>2017-11-02T00:00:00</td>\n",
       "      <td>1</td>\n",
       "      <td>NaN</td>\n",
       "      <td>26.0</td>\n",
       "      <td>10.60</td>\n",
       "      <td>6</td>\n",
       "      <td>NaN</td>\n",
       "      <td>False</td>\n",
       "      <td>False</td>\n",
       "      <td>14.40</td>\n",
       "      <td>1.0</td>\n",
       "      <td>посёлок Парголово</td>\n",
       "      <td>52996.0</td>\n",
       "      <td>19143.0</td>\n",
       "      <td>0.0</td>\n",
       "      <td>NaN</td>\n",
       "      <td>0.0</td>\n",
       "      <td>NaN</td>\n",
       "      <td>155.0</td>\n",
       "    </tr>\n",
       "    <tr>\n",
       "      <th>7</th>\n",
       "      <td>5</td>\n",
       "      <td>7915000.0</td>\n",
       "      <td>71.60</td>\n",
       "      <td>2019-04-18T00:00:00</td>\n",
       "      <td>2</td>\n",
       "      <td>NaN</td>\n",
       "      <td>24.0</td>\n",
       "      <td>NaN</td>\n",
       "      <td>22</td>\n",
       "      <td>NaN</td>\n",
       "      <td>False</td>\n",
       "      <td>False</td>\n",
       "      <td>18.90</td>\n",
       "      <td>2.0</td>\n",
       "      <td>Санкт-Петербург</td>\n",
       "      <td>23982.0</td>\n",
       "      <td>11634.0</td>\n",
       "      <td>0.0</td>\n",
       "      <td>NaN</td>\n",
       "      <td>0.0</td>\n",
       "      <td>NaN</td>\n",
       "      <td>NaN</td>\n",
       "    </tr>\n",
       "    <tr>\n",
       "      <th>8</th>\n",
       "      <td>20</td>\n",
       "      <td>2900000.0</td>\n",
       "      <td>33.16</td>\n",
       "      <td>2018-05-23T00:00:00</td>\n",
       "      <td>1</td>\n",
       "      <td>NaN</td>\n",
       "      <td>27.0</td>\n",
       "      <td>15.43</td>\n",
       "      <td>26</td>\n",
       "      <td>NaN</td>\n",
       "      <td>False</td>\n",
       "      <td>False</td>\n",
       "      <td>8.81</td>\n",
       "      <td>NaN</td>\n",
       "      <td>посёлок Мурино</td>\n",
       "      <td>NaN</td>\n",
       "      <td>NaN</td>\n",
       "      <td>NaN</td>\n",
       "      <td>NaN</td>\n",
       "      <td>NaN</td>\n",
       "      <td>NaN</td>\n",
       "      <td>189.0</td>\n",
       "    </tr>\n",
       "    <tr>\n",
       "      <th>9</th>\n",
       "      <td>18</td>\n",
       "      <td>5400000.0</td>\n",
       "      <td>61.00</td>\n",
       "      <td>2017-02-26T00:00:00</td>\n",
       "      <td>3</td>\n",
       "      <td>2.50</td>\n",
       "      <td>9.0</td>\n",
       "      <td>43.60</td>\n",
       "      <td>7</td>\n",
       "      <td>NaN</td>\n",
       "      <td>False</td>\n",
       "      <td>False</td>\n",
       "      <td>6.50</td>\n",
       "      <td>2.0</td>\n",
       "      <td>Санкт-Петербург</td>\n",
       "      <td>50898.0</td>\n",
       "      <td>15008.0</td>\n",
       "      <td>0.0</td>\n",
       "      <td>NaN</td>\n",
       "      <td>0.0</td>\n",
       "      <td>NaN</td>\n",
       "      <td>289.0</td>\n",
       "    </tr>\n",
       "  </tbody>\n",
       "</table>\n",
       "</div>"
      ],
      "text/plain": [
       "   total_images  last_price  total_area first_day_exposition  rooms  \\\n",
       "0            20  13000000.0      108.00  2019-03-07T00:00:00      3   \n",
       "1             7   3350000.0       40.40  2018-12-04T00:00:00      1   \n",
       "2            10   5196000.0       56.00  2015-08-20T00:00:00      2   \n",
       "3             0  64900000.0      159.00  2015-07-24T00:00:00      3   \n",
       "4             2  10000000.0      100.00  2018-06-19T00:00:00      2   \n",
       "5            10   2890000.0       30.40  2018-09-10T00:00:00      1   \n",
       "6             6   3700000.0       37.30  2017-11-02T00:00:00      1   \n",
       "7             5   7915000.0       71.60  2019-04-18T00:00:00      2   \n",
       "8            20   2900000.0       33.16  2018-05-23T00:00:00      1   \n",
       "9            18   5400000.0       61.00  2017-02-26T00:00:00      3   \n",
       "\n",
       "   ceiling_height  floors_total  living_area  floor is_apartment  studio  \\\n",
       "0            2.70          16.0        51.00      8          NaN   False   \n",
       "1             NaN          11.0        18.60      1          NaN   False   \n",
       "2             NaN           5.0        34.30      4          NaN   False   \n",
       "3             NaN          14.0          NaN      9          NaN   False   \n",
       "4            3.03          14.0        32.00     13          NaN   False   \n",
       "5             NaN          12.0        14.40      5          NaN   False   \n",
       "6             NaN          26.0        10.60      6          NaN   False   \n",
       "7             NaN          24.0          NaN     22          NaN   False   \n",
       "8             NaN          27.0        15.43     26          NaN   False   \n",
       "9            2.50           9.0        43.60      7          NaN   False   \n",
       "\n",
       "   open_plan  kitchen_area  balcony              locality_name  \\\n",
       "0      False         25.00      NaN            Санкт-Петербург   \n",
       "1      False         11.00      2.0             посёлок Шушары   \n",
       "2      False          8.30      0.0            Санкт-Петербург   \n",
       "3      False           NaN      0.0            Санкт-Петербург   \n",
       "4      False         41.00      NaN            Санкт-Петербург   \n",
       "5      False          9.10      NaN  городской посёлок Янино-1   \n",
       "6      False         14.40      1.0          посёлок Парголово   \n",
       "7      False         18.90      2.0            Санкт-Петербург   \n",
       "8      False          8.81      NaN             посёлок Мурино   \n",
       "9      False          6.50      2.0            Санкт-Петербург   \n",
       "\n",
       "   airports_nearest  cityCenters_nearest  parks_around3000  parks_nearest  \\\n",
       "0           18863.0              16028.0               1.0          482.0   \n",
       "1           12817.0              18603.0               0.0            NaN   \n",
       "2           21741.0              13933.0               1.0           90.0   \n",
       "3           28098.0               6800.0               2.0           84.0   \n",
       "4           31856.0               8098.0               2.0          112.0   \n",
       "5               NaN                  NaN               NaN            NaN   \n",
       "6           52996.0              19143.0               0.0            NaN   \n",
       "7           23982.0              11634.0               0.0            NaN   \n",
       "8               NaN                  NaN               NaN            NaN   \n",
       "9           50898.0              15008.0               0.0            NaN   \n",
       "\n",
       "   ponds_around3000  ponds_nearest  days_exposition  \n",
       "0               2.0          755.0              NaN  \n",
       "1               0.0            NaN             81.0  \n",
       "2               2.0          574.0            558.0  \n",
       "3               3.0          234.0            424.0  \n",
       "4               1.0           48.0            121.0  \n",
       "5               NaN            NaN             55.0  \n",
       "6               0.0            NaN            155.0  \n",
       "7               0.0            NaN              NaN  \n",
       "8               NaN            NaN            189.0  \n",
       "9               0.0            NaN            289.0  "
      ]
     },
     "execution_count": 2,
     "metadata": {},
     "output_type": "execute_result"
    }
   ],
   "source": [
    "try:\n",
    "   data = pd.read_csv('datasets/real_estate_data.csv', sep='\\t')\n",
    "except:\n",
    "   data = pd.read_csv('/datasets/real_estate_data.csv', sep='\\t') \n",
    "pd.set_option('display.max_columns', None)\n",
    "data.head(10)"
   ]
  },
  {
   "cell_type": "code",
   "execution_count": 3,
   "metadata": {},
   "outputs": [
    {
     "name": "stdout",
     "output_type": "stream",
     "text": [
      "<class 'pandas.core.frame.DataFrame'>\n",
      "RangeIndex: 23699 entries, 0 to 23698\n",
      "Data columns (total 22 columns):\n",
      " #   Column                Non-Null Count  Dtype  \n",
      "---  ------                --------------  -----  \n",
      " 0   total_images          23699 non-null  int64  \n",
      " 1   last_price            23699 non-null  float64\n",
      " 2   total_area            23699 non-null  float64\n",
      " 3   first_day_exposition  23699 non-null  object \n",
      " 4   rooms                 23699 non-null  int64  \n",
      " 5   ceiling_height        14504 non-null  float64\n",
      " 6   floors_total          23613 non-null  float64\n",
      " 7   living_area           21796 non-null  float64\n",
      " 8   floor                 23699 non-null  int64  \n",
      " 9   is_apartment          2775 non-null   object \n",
      " 10  studio                23699 non-null  bool   \n",
      " 11  open_plan             23699 non-null  bool   \n",
      " 12  kitchen_area          21421 non-null  float64\n",
      " 13  balcony               12180 non-null  float64\n",
      " 14  locality_name         23650 non-null  object \n",
      " 15  airports_nearest      18157 non-null  float64\n",
      " 16  cityCenters_nearest   18180 non-null  float64\n",
      " 17  parks_around3000      18181 non-null  float64\n",
      " 18  parks_nearest         8079 non-null   float64\n",
      " 19  ponds_around3000      18181 non-null  float64\n",
      " 20  ponds_nearest         9110 non-null   float64\n",
      " 21  days_exposition       20518 non-null  float64\n",
      "dtypes: bool(2), float64(14), int64(3), object(3)\n",
      "memory usage: 3.7+ MB\n"
     ]
    }
   ],
   "source": [
    "data.info()"
   ]
  },
  {
   "cell_type": "code",
   "execution_count": 4,
   "metadata": {},
   "outputs": [
    {
     "data": {
      "image/png": "[encoded data removed]",
      "text/plain": [
       "<Figure size 1080x1440 with 20 Axes>"
      ]
     },
     "metadata": {
      "needs_background": "light"
     },
     "output_type": "display_data"
    }
   ],
   "source": [
    "data.hist(figsize=(15, 20));"
   ]
  },
  {
   "cell_type": "markdown",
   "metadata": {},
   "source": [
    "### Наблюдения по общей информации:\n",
    "1. `floors_total` мало пропусков, возможно это предложения в отдноэтажных домах, нужен анализ\n",
    "2. `ceiling_height` - много пропусков Подумать как заполнить: средним по дому, району, количеству комнат, площади?\n",
    "3. `living_area` мало пропусков, возможно стоит заполнить медианным значение по квартирам такого же метража\n",
    "4. `is_apartment` почти не заполнено, скорей всего там стоит \"да\" вместо True , сконвертировать в булево\n",
    "5. `kitchen_area` аналогично `living_area`\n",
    "6. `balcony` - предположим, что где не заполнено, значит балкон отсутствует, выставим в 0 и поменяем тип на int\n",
    "7. `locality_name` совсем непонятно что с пропусками, будем изучать\n",
    "8. Картографические данные с пропусками, возможно значат что рядом ничего нет \n",
    "9. `days_exposition` - возможно пропуски по тем лотам, которые продались в тот же день\n",
    "\n",
    "Всего несколько гистограмм показывают нормальное распределение, остальные испорчены выбросами, которые надо не забыть удалить перед анализом\n"
   ]
  },
  {
   "cell_type": "markdown",
   "metadata": {},
   "source": [
    "### Предобработка данных"
   ]
  },
  {
   "cell_type": "markdown",
   "metadata": {},
   "source": [
    "#### Анализ зависимостей"
   ]
  },
  {
   "cell_type": "code",
   "execution_count": 5,
   "metadata": {},
   "outputs": [
    {
     "data": {
      "text/plain": [
       "<AxesSubplot:>"
      ]
     },
     "execution_count": 5,
     "metadata": {},
     "output_type": "execute_result"
    },
    {
     "data": {
      "image/png": "[encoded data removed]",
      "text/plain": [
       "<Figure size 432x288 with 2 Axes>"
      ]
     },
     "metadata": {
      "needs_background": "light"
     },
     "output_type": "display_data"
    }
   ],
   "source": [
    "\n",
    "sb.heatmap(data.corr())"
   ]
  },
  {
   "cell_type": "code",
   "execution_count": 6,
   "metadata": {},
   "outputs": [
    {
     "data": {
      "text/html": [
       "<div>\n",
       "<style scoped>\n",
       "    .dataframe tbody tr th:only-of-type {\n",
       "        vertical-align: middle;\n",
       "    }\n",
       "\n",
       "    .dataframe tbody tr th {\n",
       "        vertical-align: top;\n",
       "    }\n",
       "\n",
       "    .dataframe thead th {\n",
       "        text-align: right;\n",
       "    }\n",
       "</style>\n",
       "<table border=\"1\" class=\"dataframe\">\n",
       "  <thead>\n",
       "    <tr style=\"text-align: right;\">\n",
       "      <th></th>\n",
       "      <th>total_images</th>\n",
       "      <th>last_price</th>\n",
       "      <th>total_area</th>\n",
       "      <th>rooms</th>\n",
       "      <th>ceiling_height</th>\n",
       "      <th>floors_total</th>\n",
       "      <th>living_area</th>\n",
       "      <th>floor</th>\n",
       "      <th>studio</th>\n",
       "      <th>open_plan</th>\n",
       "      <th>kitchen_area</th>\n",
       "      <th>balcony</th>\n",
       "      <th>airports_nearest</th>\n",
       "      <th>cityCenters_nearest</th>\n",
       "      <th>parks_around3000</th>\n",
       "      <th>parks_nearest</th>\n",
       "      <th>ponds_around3000</th>\n",
       "      <th>ponds_nearest</th>\n",
       "      <th>days_exposition</th>\n",
       "    </tr>\n",
       "  </thead>\n",
       "  <tbody>\n",
       "    <tr>\n",
       "      <th>total_images</th>\n",
       "      <td>1.000000</td>\n",
       "      <td>0.104473</td>\n",
       "      <td>0.115352</td>\n",
       "      <td>0.099288</td>\n",
       "      <td>-0.001987</td>\n",
       "      <td>0.010427</td>\n",
       "      <td>0.104780</td>\n",
       "      <td>0.031340</td>\n",
       "      <td>-0.029303</td>\n",
       "      <td>-0.024407</td>\n",
       "      <td>0.104756</td>\n",
       "      <td>0.121693</td>\n",
       "      <td>-0.002298</td>\n",
       "      <td>-0.047666</td>\n",
       "      <td>0.021120</td>\n",
       "      <td>-0.008347</td>\n",
       "      <td>-0.011553</td>\n",
       "      <td>-0.003034</td>\n",
       "      <td>-0.026657</td>\n",
       "    </tr>\n",
       "    <tr>\n",
       "      <th>last_price</th>\n",
       "      <td>0.104473</td>\n",
       "      <td>1.000000</td>\n",
       "      <td>0.653675</td>\n",
       "      <td>0.363343</td>\n",
       "      <td>0.085430</td>\n",
       "      <td>-0.006984</td>\n",
       "      <td>0.566492</td>\n",
       "      <td>0.026576</td>\n",
       "      <td>-0.025362</td>\n",
       "      <td>-0.008802</td>\n",
       "      <td>0.519869</td>\n",
       "      <td>0.029646</td>\n",
       "      <td>-0.026239</td>\n",
       "      <td>-0.206747</td>\n",
       "      <td>0.151058</td>\n",
       "      <td>-0.016414</td>\n",
       "      <td>0.159996</td>\n",
       "      <td>-0.084809</td>\n",
       "      <td>0.081146</td>\n",
       "    </tr>\n",
       "    <tr>\n",
       "      <th>total_area</th>\n",
       "      <td>0.115352</td>\n",
       "      <td>0.653675</td>\n",
       "      <td>1.000000</td>\n",
       "      <td>0.758344</td>\n",
       "      <td>0.095490</td>\n",
       "      <td>-0.075774</td>\n",
       "      <td>0.939537</td>\n",
       "      <td>-0.024754</td>\n",
       "      <td>-0.072653</td>\n",
       "      <td>-0.034885</td>\n",
       "      <td>0.609121</td>\n",
       "      <td>0.047937</td>\n",
       "      <td>-0.030753</td>\n",
       "      <td>-0.231446</td>\n",
       "      <td>0.164689</td>\n",
       "      <td>-0.021497</td>\n",
       "      <td>0.162346</td>\n",
       "      <td>-0.097969</td>\n",
       "      <td>0.149675</td>\n",
       "    </tr>\n",
       "    <tr>\n",
       "      <th>rooms</th>\n",
       "      <td>0.099288</td>\n",
       "      <td>0.363343</td>\n",
       "      <td>0.758344</td>\n",
       "      <td>1.000000</td>\n",
       "      <td>0.054457</td>\n",
       "      <td>-0.228215</td>\n",
       "      <td>0.845977</td>\n",
       "      <td>-0.150862</td>\n",
       "      <td>-0.147286</td>\n",
       "      <td>-0.087500</td>\n",
       "      <td>0.269945</td>\n",
       "      <td>0.017991</td>\n",
       "      <td>-0.061199</td>\n",
       "      <td>-0.184864</td>\n",
       "      <td>0.137257</td>\n",
       "      <td>-0.054549</td>\n",
       "      <td>0.092693</td>\n",
       "      <td>-0.057689</td>\n",
       "      <td>0.126961</td>\n",
       "    </tr>\n",
       "    <tr>\n",
       "      <th>ceiling_height</th>\n",
       "      <td>-0.001987</td>\n",
       "      <td>0.085430</td>\n",
       "      <td>0.095490</td>\n",
       "      <td>0.054457</td>\n",
       "      <td>1.000000</td>\n",
       "      <td>-0.028732</td>\n",
       "      <td>0.090650</td>\n",
       "      <td>-0.011798</td>\n",
       "      <td>0.001674</td>\n",
       "      <td>0.042777</td>\n",
       "      <td>0.087641</td>\n",
       "      <td>0.040523</td>\n",
       "      <td>-0.023947</td>\n",
       "      <td>-0.091689</td>\n",
       "      <td>0.065915</td>\n",
       "      <td>-0.019167</td>\n",
       "      <td>0.078209</td>\n",
       "      <td>-0.059090</td>\n",
       "      <td>0.019091</td>\n",
       "    </tr>\n",
       "    <tr>\n",
       "      <th>floors_total</th>\n",
       "      <td>0.010427</td>\n",
       "      <td>-0.006984</td>\n",
       "      <td>-0.075774</td>\n",
       "      <td>-0.228215</td>\n",
       "      <td>-0.028732</td>\n",
       "      <td>1.000000</td>\n",
       "      <td>-0.169311</td>\n",
       "      <td>0.678059</td>\n",
       "      <td>0.070151</td>\n",
       "      <td>0.050791</td>\n",
       "      <td>0.163944</td>\n",
       "      <td>0.194065</td>\n",
       "      <td>0.108288</td>\n",
       "      <td>0.019774</td>\n",
       "      <td>-0.252833</td>\n",
       "      <td>0.097527</td>\n",
       "      <td>-0.122735</td>\n",
       "      <td>0.038864</td>\n",
       "      <td>-0.052234</td>\n",
       "    </tr>\n",
       "    <tr>\n",
       "      <th>living_area</th>\n",
       "      <td>0.104780</td>\n",
       "      <td>0.566492</td>\n",
       "      <td>0.939537</td>\n",
       "      <td>0.845977</td>\n",
       "      <td>0.090650</td>\n",
       "      <td>-0.169311</td>\n",
       "      <td>1.000000</td>\n",
       "      <td>-0.097210</td>\n",
       "      <td>-0.056231</td>\n",
       "      <td>-0.033711</td>\n",
       "      <td>0.428674</td>\n",
       "      <td>0.018849</td>\n",
       "      <td>-0.057912</td>\n",
       "      <td>-0.231368</td>\n",
       "      <td>0.184453</td>\n",
       "      <td>-0.050167</td>\n",
       "      <td>0.148933</td>\n",
       "      <td>-0.081674</td>\n",
       "      <td>0.142454</td>\n",
       "    </tr>\n",
       "    <tr>\n",
       "      <th>floor</th>\n",
       "      <td>0.031340</td>\n",
       "      <td>0.026576</td>\n",
       "      <td>-0.024754</td>\n",
       "      <td>-0.150862</td>\n",
       "      <td>-0.011798</td>\n",
       "      <td>0.678059</td>\n",
       "      <td>-0.097210</td>\n",
       "      <td>1.000000</td>\n",
       "      <td>0.036940</td>\n",
       "      <td>0.035824</td>\n",
       "      <td>0.135531</td>\n",
       "      <td>0.168773</td>\n",
       "      <td>0.071597</td>\n",
       "      <td>0.009084</td>\n",
       "      <td>-0.163784</td>\n",
       "      <td>0.073045</td>\n",
       "      <td>-0.076312</td>\n",
       "      <td>0.024850</td>\n",
       "      <td>-0.039463</td>\n",
       "    </tr>\n",
       "    <tr>\n",
       "      <th>studio</th>\n",
       "      <td>-0.029303</td>\n",
       "      <td>-0.025362</td>\n",
       "      <td>-0.072653</td>\n",
       "      <td>-0.147286</td>\n",
       "      <td>0.001674</td>\n",
       "      <td>0.070151</td>\n",
       "      <td>-0.056231</td>\n",
       "      <td>0.036940</td>\n",
       "      <td>1.000000</td>\n",
       "      <td>-0.004235</td>\n",
       "      <td>NaN</td>\n",
       "      <td>0.031455</td>\n",
       "      <td>-0.021876</td>\n",
       "      <td>-0.007029</td>\n",
       "      <td>-0.030202</td>\n",
       "      <td>0.009134</td>\n",
       "      <td>0.000939</td>\n",
       "      <td>0.002606</td>\n",
       "      <td>-0.022476</td>\n",
       "    </tr>\n",
       "    <tr>\n",
       "      <th>open_plan</th>\n",
       "      <td>-0.024407</td>\n",
       "      <td>-0.008802</td>\n",
       "      <td>-0.034885</td>\n",
       "      <td>-0.087500</td>\n",
       "      <td>0.042777</td>\n",
       "      <td>0.050791</td>\n",
       "      <td>-0.033711</td>\n",
       "      <td>0.035824</td>\n",
       "      <td>-0.004235</td>\n",
       "      <td>1.000000</td>\n",
       "      <td>NaN</td>\n",
       "      <td>0.019491</td>\n",
       "      <td>-0.013583</td>\n",
       "      <td>-0.004204</td>\n",
       "      <td>-0.010077</td>\n",
       "      <td>0.010612</td>\n",
       "      <td>0.008455</td>\n",
       "      <td>-0.003328</td>\n",
       "      <td>-0.024112</td>\n",
       "    </tr>\n",
       "    <tr>\n",
       "      <th>kitchen_area</th>\n",
       "      <td>0.104756</td>\n",
       "      <td>0.519869</td>\n",
       "      <td>0.609121</td>\n",
       "      <td>0.269945</td>\n",
       "      <td>0.087641</td>\n",
       "      <td>0.163944</td>\n",
       "      <td>0.428674</td>\n",
       "      <td>0.135531</td>\n",
       "      <td>NaN</td>\n",
       "      <td>NaN</td>\n",
       "      <td>1.000000</td>\n",
       "      <td>0.098634</td>\n",
       "      <td>0.008200</td>\n",
       "      <td>-0.190049</td>\n",
       "      <td>0.087503</td>\n",
       "      <td>0.029641</td>\n",
       "      <td>0.150148</td>\n",
       "      <td>-0.105223</td>\n",
       "      <td>0.100586</td>\n",
       "    </tr>\n",
       "    <tr>\n",
       "      <th>balcony</th>\n",
       "      <td>0.121693</td>\n",
       "      <td>0.029646</td>\n",
       "      <td>0.047937</td>\n",
       "      <td>0.017991</td>\n",
       "      <td>0.040523</td>\n",
       "      <td>0.194065</td>\n",
       "      <td>0.018849</td>\n",
       "      <td>0.168773</td>\n",
       "      <td>0.031455</td>\n",
       "      <td>0.019491</td>\n",
       "      <td>0.098634</td>\n",
       "      <td>1.000000</td>\n",
       "      <td>0.066834</td>\n",
       "      <td>0.051051</td>\n",
       "      <td>-0.082850</td>\n",
       "      <td>0.052328</td>\n",
       "      <td>-0.032709</td>\n",
       "      <td>0.010847</td>\n",
       "      <td>-0.032909</td>\n",
       "    </tr>\n",
       "    <tr>\n",
       "      <th>airports_nearest</th>\n",
       "      <td>-0.002298</td>\n",
       "      <td>-0.026239</td>\n",
       "      <td>-0.030753</td>\n",
       "      <td>-0.061199</td>\n",
       "      <td>-0.023947</td>\n",
       "      <td>0.108288</td>\n",
       "      <td>-0.057912</td>\n",
       "      <td>0.071597</td>\n",
       "      <td>-0.021876</td>\n",
       "      <td>-0.013583</td>\n",
       "      <td>0.008200</td>\n",
       "      <td>0.066834</td>\n",
       "      <td>1.000000</td>\n",
       "      <td>0.272184</td>\n",
       "      <td>0.000759</td>\n",
       "      <td>-0.070058</td>\n",
       "      <td>-0.049583</td>\n",
       "      <td>0.014049</td>\n",
       "      <td>-0.018271</td>\n",
       "    </tr>\n",
       "    <tr>\n",
       "      <th>cityCenters_nearest</th>\n",
       "      <td>-0.047666</td>\n",
       "      <td>-0.206747</td>\n",
       "      <td>-0.231446</td>\n",
       "      <td>-0.184864</td>\n",
       "      <td>-0.091689</td>\n",
       "      <td>0.019774</td>\n",
       "      <td>-0.231368</td>\n",
       "      <td>0.009084</td>\n",
       "      <td>-0.007029</td>\n",
       "      <td>-0.004204</td>\n",
       "      <td>-0.190049</td>\n",
       "      <td>0.051051</td>\n",
       "      <td>0.272184</td>\n",
       "      <td>1.000000</td>\n",
       "      <td>-0.161738</td>\n",
       "      <td>-0.040650</td>\n",
       "      <td>-0.074577</td>\n",
       "      <td>0.028903</td>\n",
       "      <td>-0.060714</td>\n",
       "    </tr>\n",
       "    <tr>\n",
       "      <th>parks_around3000</th>\n",
       "      <td>0.021120</td>\n",
       "      <td>0.151058</td>\n",
       "      <td>0.164689</td>\n",
       "      <td>0.137257</td>\n",
       "      <td>0.065915</td>\n",
       "      <td>-0.252833</td>\n",
       "      <td>0.184453</td>\n",
       "      <td>-0.163784</td>\n",
       "      <td>-0.030202</td>\n",
       "      <td>-0.010077</td>\n",
       "      <td>0.087503</td>\n",
       "      <td>-0.082850</td>\n",
       "      <td>0.000759</td>\n",
       "      <td>-0.161738</td>\n",
       "      <td>1.000000</td>\n",
       "      <td>-0.259514</td>\n",
       "      <td>0.304316</td>\n",
       "      <td>-0.167103</td>\n",
       "      <td>0.060491</td>\n",
       "    </tr>\n",
       "    <tr>\n",
       "      <th>parks_nearest</th>\n",
       "      <td>-0.008347</td>\n",
       "      <td>-0.016414</td>\n",
       "      <td>-0.021497</td>\n",
       "      <td>-0.054549</td>\n",
       "      <td>-0.019167</td>\n",
       "      <td>0.097527</td>\n",
       "      <td>-0.050167</td>\n",
       "      <td>0.073045</td>\n",
       "      <td>0.009134</td>\n",
       "      <td>0.010612</td>\n",
       "      <td>0.029641</td>\n",
       "      <td>0.052328</td>\n",
       "      <td>-0.070058</td>\n",
       "      <td>-0.040650</td>\n",
       "      <td>-0.259514</td>\n",
       "      <td>1.000000</td>\n",
       "      <td>0.077280</td>\n",
       "      <td>0.000692</td>\n",
       "      <td>0.023254</td>\n",
       "    </tr>\n",
       "    <tr>\n",
       "      <th>ponds_around3000</th>\n",
       "      <td>-0.011553</td>\n",
       "      <td>0.159996</td>\n",
       "      <td>0.162346</td>\n",
       "      <td>0.092693</td>\n",
       "      <td>0.078209</td>\n",
       "      <td>-0.122735</td>\n",
       "      <td>0.148933</td>\n",
       "      <td>-0.076312</td>\n",
       "      <td>0.000939</td>\n",
       "      <td>0.008455</td>\n",
       "      <td>0.150148</td>\n",
       "      <td>-0.032709</td>\n",
       "      <td>-0.049583</td>\n",
       "      <td>-0.074577</td>\n",
       "      <td>0.304316</td>\n",
       "      <td>0.077280</td>\n",
       "      <td>1.000000</td>\n",
       "      <td>-0.341840</td>\n",
       "      <td>0.073162</td>\n",
       "    </tr>\n",
       "    <tr>\n",
       "      <th>ponds_nearest</th>\n",
       "      <td>-0.003034</td>\n",
       "      <td>-0.084809</td>\n",
       "      <td>-0.097969</td>\n",
       "      <td>-0.057689</td>\n",
       "      <td>-0.059090</td>\n",
       "      <td>0.038864</td>\n",
       "      <td>-0.081674</td>\n",
       "      <td>0.024850</td>\n",
       "      <td>0.002606</td>\n",
       "      <td>-0.003328</td>\n",
       "      <td>-0.105223</td>\n",
       "      <td>0.010847</td>\n",
       "      <td>0.014049</td>\n",
       "      <td>0.028903</td>\n",
       "      <td>-0.167103</td>\n",
       "      <td>0.000692</td>\n",
       "      <td>-0.341840</td>\n",
       "      <td>1.000000</td>\n",
       "      <td>-0.077879</td>\n",
       "    </tr>\n",
       "    <tr>\n",
       "      <th>days_exposition</th>\n",
       "      <td>-0.026657</td>\n",
       "      <td>0.081146</td>\n",
       "      <td>0.149675</td>\n",
       "      <td>0.126961</td>\n",
       "      <td>0.019091</td>\n",
       "      <td>-0.052234</td>\n",
       "      <td>0.142454</td>\n",
       "      <td>-0.039463</td>\n",
       "      <td>-0.022476</td>\n",
       "      <td>-0.024112</td>\n",
       "      <td>0.100586</td>\n",
       "      <td>-0.032909</td>\n",
       "      <td>-0.018271</td>\n",
       "      <td>-0.060714</td>\n",
       "      <td>0.060491</td>\n",
       "      <td>0.023254</td>\n",
       "      <td>0.073162</td>\n",
       "      <td>-0.077879</td>\n",
       "      <td>1.000000</td>\n",
       "    </tr>\n",
       "  </tbody>\n",
       "</table>\n",
       "</div>"
      ],
      "text/plain": [
       "                     total_images  last_price  total_area     rooms  \\\n",
       "total_images             1.000000    0.104473    0.115352  0.099288   \n",
       "last_price               0.104473    1.000000    0.653675  0.363343   \n",
       "total_area               0.115352    0.653675    1.000000  0.758344   \n",
       "rooms                    0.099288    0.363343    0.758344  1.000000   \n",
       "ceiling_height          -0.001987    0.085430    0.095490  0.054457   \n",
       "floors_total             0.010427   -0.006984   -0.075774 -0.228215   \n",
       "living_area              0.104780    0.566492    0.939537  0.845977   \n",
       "floor                    0.031340    0.026576   -0.024754 -0.150862   \n",
       "studio                  -0.029303   -0.025362   -0.072653 -0.147286   \n",
       "open_plan               -0.024407   -0.008802   -0.034885 -0.087500   \n",
       "kitchen_area             0.104756    0.519869    0.609121  0.269945   \n",
       "balcony                  0.121693    0.029646    0.047937  0.017991   \n",
       "airports_nearest        -0.002298   -0.026239   -0.030753 -0.061199   \n",
       "cityCenters_nearest     -0.047666   -0.206747   -0.231446 -0.184864   \n",
       "parks_around3000         0.021120    0.151058    0.164689  0.137257   \n",
       "parks_nearest           -0.008347   -0.016414   -0.021497 -0.054549   \n",
       "ponds_around3000        -0.011553    0.159996    0.162346  0.092693   \n",
       "ponds_nearest           -0.003034   -0.084809   -0.097969 -0.057689   \n",
       "days_exposition         -0.026657    0.081146    0.149675  0.126961   \n",
       "\n",
       "                     ceiling_height  floors_total  living_area     floor  \\\n",
       "total_images              -0.001987      0.010427     0.104780  0.031340   \n",
       "last_price                 0.085430     -0.006984     0.566492  0.026576   \n",
       "total_area                 0.095490     -0.075774     0.939537 -0.024754   \n",
       "rooms                      0.054457     -0.228215     0.845977 -0.150862   \n",
       "ceiling_height             1.000000     -0.028732     0.090650 -0.011798   \n",
       "floors_total              -0.028732      1.000000    -0.169311  0.678059   \n",
       "living_area                0.090650     -0.169311     1.000000 -0.097210   \n",
       "floor                     -0.011798      0.678059    -0.097210  1.000000   \n",
       "studio                     0.001674      0.070151    -0.056231  0.036940   \n",
       "open_plan                  0.042777      0.050791    -0.033711  0.035824   \n",
       "kitchen_area               0.087641      0.163944     0.428674  0.135531   \n",
       "balcony                    0.040523      0.194065     0.018849  0.168773   \n",
       "airports_nearest          -0.023947      0.108288    -0.057912  0.071597   \n",
       "cityCenters_nearest       -0.091689      0.019774    -0.231368  0.009084   \n",
       "parks_around3000           0.065915     -0.252833     0.184453 -0.163784   \n",
       "parks_nearest             -0.019167      0.097527    -0.050167  0.073045   \n",
       "ponds_around3000           0.078209     -0.122735     0.148933 -0.076312   \n",
       "ponds_nearest             -0.059090      0.038864    -0.081674  0.024850   \n",
       "days_exposition            0.019091     -0.052234     0.142454 -0.039463   \n",
       "\n",
       "                       studio  open_plan  kitchen_area   balcony  \\\n",
       "total_images        -0.029303  -0.024407      0.104756  0.121693   \n",
       "last_price          -0.025362  -0.008802      0.519869  0.029646   \n",
       "total_area          -0.072653  -0.034885      0.609121  0.047937   \n",
       "rooms               -0.147286  -0.087500      0.269945  0.017991   \n",
       "ceiling_height       0.001674   0.042777      0.087641  0.040523   \n",
       "floors_total         0.070151   0.050791      0.163944  0.194065   \n",
       "living_area         -0.056231  -0.033711      0.428674  0.018849   \n",
       "floor                0.036940   0.035824      0.135531  0.168773   \n",
       "studio               1.000000  -0.004235           NaN  0.031455   \n",
       "open_plan           -0.004235   1.000000           NaN  0.019491   \n",
       "kitchen_area              NaN        NaN      1.000000  0.098634   \n",
       "balcony              0.031455   0.019491      0.098634  1.000000   \n",
       "airports_nearest    -0.021876  -0.013583      0.008200  0.066834   \n",
       "cityCenters_nearest -0.007029  -0.004204     -0.190049  0.051051   \n",
       "parks_around3000    -0.030202  -0.010077      0.087503 -0.082850   \n",
       "parks_nearest        0.009134   0.010612      0.029641  0.052328   \n",
       "ponds_around3000     0.000939   0.008455      0.150148 -0.032709   \n",
       "ponds_nearest        0.002606  -0.003328     -0.105223  0.010847   \n",
       "days_exposition     -0.022476  -0.024112      0.100586 -0.032909   \n",
       "\n",
       "                     airports_nearest  cityCenters_nearest  parks_around3000  \\\n",
       "total_images                -0.002298            -0.047666          0.021120   \n",
       "last_price                  -0.026239            -0.206747          0.151058   \n",
       "total_area                  -0.030753            -0.231446          0.164689   \n",
       "rooms                       -0.061199            -0.184864          0.137257   \n",
       "ceiling_height              -0.023947            -0.091689          0.065915   \n",
       "floors_total                 0.108288             0.019774         -0.252833   \n",
       "living_area                 -0.057912            -0.231368          0.184453   \n",
       "floor                        0.071597             0.009084         -0.163784   \n",
       "studio                      -0.021876            -0.007029         -0.030202   \n",
       "open_plan                   -0.013583            -0.004204         -0.010077   \n",
       "kitchen_area                 0.008200            -0.190049          0.087503   \n",
       "balcony                      0.066834             0.051051         -0.082850   \n",
       "airports_nearest             1.000000             0.272184          0.000759   \n",
       "cityCenters_nearest          0.272184             1.000000         -0.161738   \n",
       "parks_around3000             0.000759            -0.161738          1.000000   \n",
       "parks_nearest               -0.070058            -0.040650         -0.259514   \n",
       "ponds_around3000            -0.049583            -0.074577          0.304316   \n",
       "ponds_nearest                0.014049             0.028903         -0.167103   \n",
       "days_exposition             -0.018271            -0.060714          0.060491   \n",
       "\n",
       "                     parks_nearest  ponds_around3000  ponds_nearest  \\\n",
       "total_images             -0.008347         -0.011553      -0.003034   \n",
       "last_price               -0.016414          0.159996      -0.084809   \n",
       "total_area               -0.021497          0.162346      -0.097969   \n",
       "rooms                    -0.054549          0.092693      -0.057689   \n",
       "ceiling_height           -0.019167          0.078209      -0.059090   \n",
       "floors_total              0.097527         -0.122735       0.038864   \n",
       "living_area              -0.050167          0.148933      -0.081674   \n",
       "floor                     0.073045         -0.076312       0.024850   \n",
       "studio                    0.009134          0.000939       0.002606   \n",
       "open_plan                 0.010612          0.008455      -0.003328   \n",
       "kitchen_area              0.029641          0.150148      -0.105223   \n",
       "balcony                   0.052328         -0.032709       0.010847   \n",
       "airports_nearest         -0.070058         -0.049583       0.014049   \n",
       "cityCenters_nearest      -0.040650         -0.074577       0.028903   \n",
       "parks_around3000         -0.259514          0.304316      -0.167103   \n",
       "parks_nearest             1.000000          0.077280       0.000692   \n",
       "ponds_around3000          0.077280          1.000000      -0.341840   \n",
       "ponds_nearest             0.000692         -0.341840       1.000000   \n",
       "days_exposition           0.023254          0.073162      -0.077879   \n",
       "\n",
       "                     days_exposition  \n",
       "total_images               -0.026657  \n",
       "last_price                  0.081146  \n",
       "total_area                  0.149675  \n",
       "rooms                       0.126961  \n",
       "ceiling_height              0.019091  \n",
       "floors_total               -0.052234  \n",
       "living_area                 0.142454  \n",
       "floor                      -0.039463  \n",
       "studio                     -0.022476  \n",
       "open_plan                  -0.024112  \n",
       "kitchen_area                0.100586  \n",
       "balcony                    -0.032909  \n",
       "airports_nearest           -0.018271  \n",
       "cityCenters_nearest        -0.060714  \n",
       "parks_around3000            0.060491  \n",
       "parks_nearest               0.023254  \n",
       "ponds_around3000            0.073162  \n",
       "ponds_nearest              -0.077879  \n",
       "days_exposition             1.000000  "
      ]
     },
     "execution_count": 6,
     "metadata": {},
     "output_type": "execute_result"
    }
   ],
   "source": [
    "data.corr()"
   ]
  },
  {
   "cell_type": "markdown",
   "metadata": {},
   "source": [
    "ВЫВОД: Явная зависимость только у жилого метража/кухни и общего метража."
   ]
  },
  {
   "cell_type": "markdown",
   "metadata": {},
   "source": [
    "Искключим выброосы по цене"
   ]
  },
  {
   "cell_type": "code",
   "execution_count": 7,
   "metadata": {
    "scrolled": true
   },
   "outputs": [
    {
     "data": {
      "text/plain": [
       "<AxesSubplot:>"
      ]
     },
     "execution_count": 7,
     "metadata": {},
     "output_type": "execute_result"
    },
    {
     "data": {
      "image/png": "[encoded data removed]",
      "text/plain": [
       "<Figure size 432x288 with 1 Axes>"
      ]
     },
     "metadata": {
      "needs_background": "light"
     },
     "output_type": "display_data"
    }
   ],
   "source": [
    "data['last_price'].hist(bins=10)"
   ]
  },
  {
   "cell_type": "code",
   "execution_count": 8,
   "metadata": {},
   "outputs": [
    {
     "data": {
      "text/plain": [
       "<AxesSubplot:>"
      ]
     },
     "execution_count": 8,
     "metadata": {},
     "output_type": "execute_result"
    },
    {
     "data": {
      "image/png": "[encoded data removed]",
      "text/plain": [
       "<Figure size 432x288 with 1 Axes>"
      ]
     },
     "metadata": {
      "needs_background": "light"
     },
     "output_type": "display_data"
    }
   ],
   "source": [
    "#Посмотрим поближе\n",
    "data['last_price'].hist(bins=100, range=(0,20000000))"
   ]
  },
  {
   "cell_type": "code",
   "execution_count": 9,
   "metadata": {
    "scrolled": true
   },
   "outputs": [
    {
     "data": {
      "text/plain": [
       "2721"
      ]
     },
     "execution_count": 9,
     "metadata": {},
     "output_type": "execute_result"
    }
   ],
   "source": [
    "data.query('last_price > 10000000')['last_price'].count()"
   ]
  },
  {
   "cell_type": "code",
   "execution_count": 10,
   "metadata": {},
   "outputs": [
    {
     "data": {
      "text/plain": [
       "<AxesSubplot:>"
      ]
     },
     "execution_count": 10,
     "metadata": {},
     "output_type": "execute_result"
    },
    {
     "data": {
      "image/png": "[encoded data removed]",
      "text/plain": [
       "<Figure size 432x288 with 1 Axes>"
      ]
     },
     "metadata": {
      "needs_background": "light"
     },
     "output_type": "display_data"
    }
   ],
   "source": [
    "data.query('last_price > 10000000')['total_area'].hist()"
   ]
  },
  {
   "cell_type": "markdown",
   "metadata": {},
   "source": [
    "Маловероятно что квартиры такого метража могут стоить более 10 млн, хоть таких позиций и большое количество, но скорей всего это ошибки или какие то уникальные предложения и нам придеся их исключить"
   ]
  },
  {
   "cell_type": "code",
   "execution_count": 11,
   "metadata": {},
   "outputs": [],
   "source": [
    "data = data.query('last_price <= 10000000')"
   ]
  },
  {
   "cell_type": "markdown",
   "metadata": {},
   "source": [
    "#### Количество комнат\n",
    "Проанализируем какие значение содержаться в этой колонке"
   ]
  },
  {
   "cell_type": "code",
   "execution_count": 12,
   "metadata": {},
   "outputs": [
    {
     "data": {
      "text/plain": [
       "1    7980\n",
       "2    7383\n",
       "3    4662\n",
       "4     665\n",
       "0     195\n",
       "5      83\n",
       "6       9\n",
       "7       1\n",
       "Name: rooms, dtype: int64"
      ]
     },
     "execution_count": 12,
     "metadata": {},
     "output_type": "execute_result"
    }
   ],
   "source": [
    "data['rooms'].value_counts()"
   ]
  },
  {
   "cell_type": "markdown",
   "metadata": {},
   "source": [
    "Ого, есть квартиры с нулем комнат, может быть это койкоместо в коридоре? "
   ]
  },
  {
   "cell_type": "code",
   "execution_count": 13,
   "metadata": {},
   "outputs": [
    {
     "data": {
      "text/html": [
       "<div>\n",
       "<style scoped>\n",
       "    .dataframe tbody tr th:only-of-type {\n",
       "        vertical-align: middle;\n",
       "    }\n",
       "\n",
       "    .dataframe tbody tr th {\n",
       "        vertical-align: top;\n",
       "    }\n",
       "\n",
       "    .dataframe thead th {\n",
       "        text-align: right;\n",
       "    }\n",
       "</style>\n",
       "<table border=\"1\" class=\"dataframe\">\n",
       "  <thead>\n",
       "    <tr style=\"text-align: right;\">\n",
       "      <th></th>\n",
       "      <th>total_images</th>\n",
       "      <th>last_price</th>\n",
       "      <th>total_area</th>\n",
       "      <th>rooms</th>\n",
       "      <th>ceiling_height</th>\n",
       "      <th>floors_total</th>\n",
       "      <th>living_area</th>\n",
       "      <th>floor</th>\n",
       "      <th>kitchen_area</th>\n",
       "      <th>balcony</th>\n",
       "      <th>airports_nearest</th>\n",
       "      <th>cityCenters_nearest</th>\n",
       "      <th>parks_around3000</th>\n",
       "      <th>parks_nearest</th>\n",
       "      <th>ponds_around3000</th>\n",
       "      <th>ponds_nearest</th>\n",
       "      <th>days_exposition</th>\n",
       "    </tr>\n",
       "  </thead>\n",
       "  <tbody>\n",
       "    <tr>\n",
       "      <th>count</th>\n",
       "      <td>195.000000</td>\n",
       "      <td>1.950000e+02</td>\n",
       "      <td>195.000000</td>\n",
       "      <td>195.0</td>\n",
       "      <td>80.00000</td>\n",
       "      <td>192.000000</td>\n",
       "      <td>182.000000</td>\n",
       "      <td>195.000000</td>\n",
       "      <td>0.0</td>\n",
       "      <td>126.000000</td>\n",
       "      <td>116.000000</td>\n",
       "      <td>116.000000</td>\n",
       "      <td>116.000000</td>\n",
       "      <td>28.000000</td>\n",
       "      <td>116.000000</td>\n",
       "      <td>67.000000</td>\n",
       "      <td>181.000000</td>\n",
       "    </tr>\n",
       "    <tr>\n",
       "      <th>mean</th>\n",
       "      <td>7.779487</td>\n",
       "      <td>2.924265e+06</td>\n",
       "      <td>27.172872</td>\n",
       "      <td>0.0</td>\n",
       "      <td>3.09850</td>\n",
       "      <td>17.010417</td>\n",
       "      <td>18.636484</td>\n",
       "      <td>8.625641</td>\n",
       "      <td>NaN</td>\n",
       "      <td>1.579365</td>\n",
       "      <td>24488.879310</td>\n",
       "      <td>13517.043103</td>\n",
       "      <td>0.293103</td>\n",
       "      <td>588.928571</td>\n",
       "      <td>0.818966</td>\n",
       "      <td>522.970149</td>\n",
       "      <td>106.922652</td>\n",
       "    </tr>\n",
       "    <tr>\n",
       "      <th>std</th>\n",
       "      <td>5.098776</td>\n",
       "      <td>1.043088e+06</td>\n",
       "      <td>6.661562</td>\n",
       "      <td>0.0</td>\n",
       "      <td>2.73239</td>\n",
       "      <td>6.870522</td>\n",
       "      <td>5.788229</td>\n",
       "      <td>6.302377</td>\n",
       "      <td>NaN</td>\n",
       "      <td>0.661552</td>\n",
       "      <td>12491.898351</td>\n",
       "      <td>4974.277652</td>\n",
       "      <td>0.559771</td>\n",
       "      <td>306.655426</td>\n",
       "      <td>0.880703</td>\n",
       "      <td>278.240411</td>\n",
       "      <td>156.489136</td>\n",
       "    </tr>\n",
       "    <tr>\n",
       "      <th>min</th>\n",
       "      <td>0.000000</td>\n",
       "      <td>9.457500e+05</td>\n",
       "      <td>15.500000</td>\n",
       "      <td>0.0</td>\n",
       "      <td>2.50000</td>\n",
       "      <td>3.000000</td>\n",
       "      <td>2.000000</td>\n",
       "      <td>1.000000</td>\n",
       "      <td>NaN</td>\n",
       "      <td>0.000000</td>\n",
       "      <td>6989.000000</td>\n",
       "      <td>1261.000000</td>\n",
       "      <td>0.000000</td>\n",
       "      <td>38.000000</td>\n",
       "      <td>0.000000</td>\n",
       "      <td>72.000000</td>\n",
       "      <td>3.000000</td>\n",
       "    </tr>\n",
       "    <tr>\n",
       "      <th>25%</th>\n",
       "      <td>4.000000</td>\n",
       "      <td>2.300000e+06</td>\n",
       "      <td>24.025000</td>\n",
       "      <td>0.0</td>\n",
       "      <td>2.70000</td>\n",
       "      <td>12.000000</td>\n",
       "      <td>16.000000</td>\n",
       "      <td>3.000000</td>\n",
       "      <td>NaN</td>\n",
       "      <td>1.000000</td>\n",
       "      <td>14247.000000</td>\n",
       "      <td>11663.000000</td>\n",
       "      <td>0.000000</td>\n",
       "      <td>392.750000</td>\n",
       "      <td>0.000000</td>\n",
       "      <td>342.500000</td>\n",
       "      <td>27.000000</td>\n",
       "    </tr>\n",
       "    <tr>\n",
       "      <th>50%</th>\n",
       "      <td>7.000000</td>\n",
       "      <td>2.700000e+06</td>\n",
       "      <td>26.000000</td>\n",
       "      <td>0.0</td>\n",
       "      <td>2.74500</td>\n",
       "      <td>17.000000</td>\n",
       "      <td>18.000000</td>\n",
       "      <td>7.000000</td>\n",
       "      <td>NaN</td>\n",
       "      <td>2.000000</td>\n",
       "      <td>21131.000000</td>\n",
       "      <td>13672.000000</td>\n",
       "      <td>0.000000</td>\n",
       "      <td>532.000000</td>\n",
       "      <td>1.000000</td>\n",
       "      <td>527.000000</td>\n",
       "      <td>49.000000</td>\n",
       "    </tr>\n",
       "    <tr>\n",
       "      <th>75%</th>\n",
       "      <td>11.000000</td>\n",
       "      <td>3.362500e+06</td>\n",
       "      <td>28.250000</td>\n",
       "      <td>0.0</td>\n",
       "      <td>2.80000</td>\n",
       "      <td>23.250000</td>\n",
       "      <td>19.875000</td>\n",
       "      <td>13.000000</td>\n",
       "      <td>NaN</td>\n",
       "      <td>2.000000</td>\n",
       "      <td>34201.000000</td>\n",
       "      <td>16481.750000</td>\n",
       "      <td>0.000000</td>\n",
       "      <td>775.750000</td>\n",
       "      <td>1.000000</td>\n",
       "      <td>687.000000</td>\n",
       "      <td>116.000000</td>\n",
       "    </tr>\n",
       "    <tr>\n",
       "      <th>max</th>\n",
       "      <td>21.000000</td>\n",
       "      <td>8.200000e+06</td>\n",
       "      <td>73.600000</td>\n",
       "      <td>0.0</td>\n",
       "      <td>27.00000</td>\n",
       "      <td>35.000000</td>\n",
       "      <td>68.000000</td>\n",
       "      <td>26.000000</td>\n",
       "      <td>NaN</td>\n",
       "      <td>2.000000</td>\n",
       "      <td>55551.000000</td>\n",
       "      <td>29846.000000</td>\n",
       "      <td>2.000000</td>\n",
       "      <td>1199.000000</td>\n",
       "      <td>3.000000</td>\n",
       "      <td>1159.000000</td>\n",
       "      <td>931.000000</td>\n",
       "    </tr>\n",
       "  </tbody>\n",
       "</table>\n",
       "</div>"
      ],
      "text/plain": [
       "       total_images    last_price  total_area  rooms  ceiling_height  \\\n",
       "count    195.000000  1.950000e+02  195.000000  195.0        80.00000   \n",
       "mean       7.779487  2.924265e+06   27.172872    0.0         3.09850   \n",
       "std        5.098776  1.043088e+06    6.661562    0.0         2.73239   \n",
       "min        0.000000  9.457500e+05   15.500000    0.0         2.50000   \n",
       "25%        4.000000  2.300000e+06   24.025000    0.0         2.70000   \n",
       "50%        7.000000  2.700000e+06   26.000000    0.0         2.74500   \n",
       "75%       11.000000  3.362500e+06   28.250000    0.0         2.80000   \n",
       "max       21.000000  8.200000e+06   73.600000    0.0        27.00000   \n",
       "\n",
       "       floors_total  living_area       floor  kitchen_area     balcony  \\\n",
       "count    192.000000   182.000000  195.000000           0.0  126.000000   \n",
       "mean      17.010417    18.636484    8.625641           NaN    1.579365   \n",
       "std        6.870522     5.788229    6.302377           NaN    0.661552   \n",
       "min        3.000000     2.000000    1.000000           NaN    0.000000   \n",
       "25%       12.000000    16.000000    3.000000           NaN    1.000000   \n",
       "50%       17.000000    18.000000    7.000000           NaN    2.000000   \n",
       "75%       23.250000    19.875000   13.000000           NaN    2.000000   \n",
       "max       35.000000    68.000000   26.000000           NaN    2.000000   \n",
       "\n",
       "       airports_nearest  cityCenters_nearest  parks_around3000  parks_nearest  \\\n",
       "count        116.000000           116.000000        116.000000      28.000000   \n",
       "mean       24488.879310         13517.043103          0.293103     588.928571   \n",
       "std        12491.898351          4974.277652          0.559771     306.655426   \n",
       "min         6989.000000          1261.000000          0.000000      38.000000   \n",
       "25%        14247.000000         11663.000000          0.000000     392.750000   \n",
       "50%        21131.000000         13672.000000          0.000000     532.000000   \n",
       "75%        34201.000000         16481.750000          0.000000     775.750000   \n",
       "max        55551.000000         29846.000000          2.000000    1199.000000   \n",
       "\n",
       "       ponds_around3000  ponds_nearest  days_exposition  \n",
       "count        116.000000      67.000000       181.000000  \n",
       "mean           0.818966     522.970149       106.922652  \n",
       "std            0.880703     278.240411       156.489136  \n",
       "min            0.000000      72.000000         3.000000  \n",
       "25%            0.000000     342.500000        27.000000  \n",
       "50%            1.000000     527.000000        49.000000  \n",
       "75%            1.000000     687.000000       116.000000  \n",
       "max            3.000000    1159.000000       931.000000  "
      ]
     },
     "execution_count": 13,
     "metadata": {},
     "output_type": "execute_result"
    }
   ],
   "source": [
    "data[data['rooms'] == 0].describe()"
   ]
  },
  {
   "cell_type": "code",
   "execution_count": 14,
   "metadata": {},
   "outputs": [
    {
     "name": "stdout",
     "output_type": "stream",
     "text": [
      "iqr = 4.349999999999998\n",
      "верхняя граница = 34.925\n"
     ]
    }
   ],
   "source": [
    "print('iqr =', 28.4 - 24.05)\n",
    "# верхняя граница\n",
    "print('верхняя граница =', 28.4 + (28.4 - 24.05) * 1.5)"
   ]
  },
  {
   "cell_type": "markdown",
   "metadata": {},
   "source": [
    "\n",
    "Предположим что квартиры без указания комнат с метражем больше 35 кв. м. это квартиры свободной планировки, в которых нет разделения на комнаты. Их из анализа исключим, так как это уникальные предложения. Остальные квартиры наречем однушками!\n"
   ]
  },
  {
   "cell_type": "code",
   "execution_count": 15,
   "metadata": {},
   "outputs": [
    {
     "data": {
      "text/plain": [
       "8"
      ]
     },
     "execution_count": 15,
     "metadata": {},
     "output_type": "execute_result"
    }
   ],
   "source": [
    "data.loc[(data['rooms'] == 0) & (data['total_area'] <= 35), 'rooms'] = 1\n",
    "data[data['rooms'] == 0]['rooms'].count()\n"
   ]
  },
  {
   "cell_type": "code",
   "execution_count": 16,
   "metadata": {},
   "outputs": [],
   "source": [
    "# Удалим 10 эксклюзивных квартир\n",
    "data  = data[data['rooms'] != 0]"
   ]
  },
  {
   "cell_type": "markdown",
   "metadata": {},
   "source": [
    "Квартиры с более 5 комнатами это либо королевские апартаменты, либо коммунальные квартиры. В обоих случаях это выбросы и мы их исключим."
   ]
  },
  {
   "cell_type": "code",
   "execution_count": 17,
   "metadata": {},
   "outputs": [
    {
     "data": {
      "text/plain": [
       "1    8167\n",
       "2    7383\n",
       "3    4662\n",
       "4     665\n",
       "5      83\n",
       "Name: rooms, dtype: int64"
      ]
     },
     "execution_count": 17,
     "metadata": {},
     "output_type": "execute_result"
    }
   ],
   "source": [
    "data = data[data['rooms'] < 6]\n",
    "data['rooms'].value_counts()"
   ]
  },
  {
   "cell_type": "markdown",
   "metadata": {},
   "source": [
    "#### Этажи в доме\n",
    "У некоторых объявлений не указано количество этажей в доме. Возможно так делают, когда в доме всего один этаж, проверим эту гипотезу."
   ]
  },
  {
   "cell_type": "code",
   "execution_count": 18,
   "metadata": {},
   "outputs": [
    {
     "data": {
      "text/plain": [
       "4     7\n",
       "6     7\n",
       "12    6\n",
       "8     6\n",
       "9     5\n",
       "5     4\n",
       "7     4\n",
       "13    3\n",
       "21    3\n",
       "19    3\n",
       "15    3\n",
       "1     3\n",
       "11    3\n",
       "10    3\n",
       "2     2\n",
       "14    2\n",
       "20    2\n",
       "17    1\n",
       "18    1\n",
       "3     1\n",
       "22    1\n",
       "24    1\n",
       "Name: floor, dtype: int64"
      ]
     },
     "execution_count": 18,
     "metadata": {},
     "output_type": "execute_result"
    }
   ],
   "source": [
    "data[data['floors_total'].isna()]['floor'].value_counts()"
   ]
  },
  {
   "cell_type": "markdown",
   "metadata": {},
   "source": [
    "ВЫВОД: Гипотеза не подтвердилась, возможно просто поленились указать количество этажей в доме. Так как таких объявлений немного, просто будем их убирать при анализе этажности дома."
   ]
  },
  {
   "cell_type": "markdown",
   "metadata": {},
   "source": [
    "#### Высота потолков"
   ]
  },
  {
   "cell_type": "markdown",
   "metadata": {},
   "source": [
    "Первичный анализ"
   ]
  },
  {
   "cell_type": "code",
   "execution_count": 19,
   "metadata": {},
   "outputs": [
    {
     "data": {
      "text/plain": [
       "count    12639.000000\n",
       "mean         2.722100\n",
       "std          1.020731\n",
       "min          1.000000\n",
       "25%          2.500000\n",
       "50%          2.600000\n",
       "75%          2.750000\n",
       "max         32.000000\n",
       "Name: ceiling_height, dtype: float64"
      ]
     },
     "execution_count": 19,
     "metadata": {},
     "output_type": "execute_result"
    }
   ],
   "source": [
    "data['ceiling_height'].describe()"
   ]
  },
  {
   "cell_type": "code",
   "execution_count": 20,
   "metadata": {},
   "outputs": [
    {
     "name": "stdout",
     "output_type": "stream",
     "text": [
      "iqr = 0.2799999999999998\n",
      "bot = 2.1000000000000005\n",
      "top = 3.2199999999999998\n"
     ]
    }
   ],
   "source": [
    "#iqr, нижняя и верхняя границы\n",
    "height_iqr = 2.8-2.52 \n",
    "print('iqr =', height_iqr)\n",
    "print('bot =', 2.52 - height_iqr*1.5)\n",
    "print('top =', 2.8 + height_iqr*1.5)"
   ]
  },
  {
   "cell_type": "markdown",
   "metadata": {},
   "source": [
    "Убираем выбросы снизу\n",
    "Нижняя статистически значимой выборки 2.1 м. По СНИПу высота потолков не может быть меньше 2,5 метров. Возможно в эти объявлениях некорректно указаны данные или это помещения каким-то чудом переведены в жилой фонд из нежилого, например подвала. В любом случай это исключения из общей массы и так как их немного, просто удалим все записи с высотой потолков ниже края статистически значимой выборки. Результат обрезки данных будем хранить в новой табличке, по которой потом будем считать медиану. Очень жаль, что в данных нет года постройки дома, по этому показателю точнее всего было бы считать медиану. В таком случае допустим, что у домов с одинаковым количеством этажей не сильно отличающиеся высоты потолков."
   ]
  },
  {
   "cell_type": "code",
   "execution_count": 21,
   "metadata": {},
   "outputs": [
    {
     "data": {
      "text/html": [
       "<div>\n",
       "<style scoped>\n",
       "    .dataframe tbody tr th:only-of-type {\n",
       "        vertical-align: middle;\n",
       "    }\n",
       "\n",
       "    .dataframe tbody tr th {\n",
       "        vertical-align: top;\n",
       "    }\n",
       "\n",
       "    .dataframe thead th {\n",
       "        text-align: right;\n",
       "    }\n",
       "</style>\n",
       "<table border=\"1\" class=\"dataframe\">\n",
       "  <thead>\n",
       "    <tr style=\"text-align: right;\">\n",
       "      <th></th>\n",
       "      <th>total_images</th>\n",
       "      <th>last_price</th>\n",
       "      <th>total_area</th>\n",
       "      <th>first_day_exposition</th>\n",
       "      <th>rooms</th>\n",
       "      <th>ceiling_height</th>\n",
       "      <th>floors_total</th>\n",
       "      <th>living_area</th>\n",
       "      <th>floor</th>\n",
       "      <th>is_apartment</th>\n",
       "      <th>studio</th>\n",
       "      <th>open_plan</th>\n",
       "      <th>kitchen_area</th>\n",
       "      <th>balcony</th>\n",
       "      <th>locality_name</th>\n",
       "      <th>airports_nearest</th>\n",
       "      <th>cityCenters_nearest</th>\n",
       "      <th>parks_around3000</th>\n",
       "      <th>parks_nearest</th>\n",
       "      <th>ponds_around3000</th>\n",
       "      <th>ponds_nearest</th>\n",
       "      <th>days_exposition</th>\n",
       "    </tr>\n",
       "  </thead>\n",
       "  <tbody>\n",
       "    <tr>\n",
       "      <th>552</th>\n",
       "      <td>11</td>\n",
       "      <td>2999000.0</td>\n",
       "      <td>33.50</td>\n",
       "      <td>2017-03-30T00:00:00</td>\n",
       "      <td>1</td>\n",
       "      <td>2.00</td>\n",
       "      <td>15.0</td>\n",
       "      <td>17.5</td>\n",
       "      <td>6</td>\n",
       "      <td>NaN</td>\n",
       "      <td>False</td>\n",
       "      <td>False</td>\n",
       "      <td>6.50</td>\n",
       "      <td>NaN</td>\n",
       "      <td>Санкт-Петербург</td>\n",
       "      <td>33972.0</td>\n",
       "      <td>11746.0</td>\n",
       "      <td>1.0</td>\n",
       "      <td>520.0</td>\n",
       "      <td>1.0</td>\n",
       "      <td>949.0</td>\n",
       "      <td>270.0</td>\n",
       "    </tr>\n",
       "    <tr>\n",
       "      <th>2572</th>\n",
       "      <td>4</td>\n",
       "      <td>2400000.0</td>\n",
       "      <td>62.00</td>\n",
       "      <td>2018-12-27T00:00:00</td>\n",
       "      <td>3</td>\n",
       "      <td>2.00</td>\n",
       "      <td>5.0</td>\n",
       "      <td>40.0</td>\n",
       "      <td>4</td>\n",
       "      <td>NaN</td>\n",
       "      <td>False</td>\n",
       "      <td>False</td>\n",
       "      <td>6.00</td>\n",
       "      <td>1.0</td>\n",
       "      <td>Луга</td>\n",
       "      <td>NaN</td>\n",
       "      <td>NaN</td>\n",
       "      <td>NaN</td>\n",
       "      <td>NaN</td>\n",
       "      <td>NaN</td>\n",
       "      <td>NaN</td>\n",
       "      <td>NaN</td>\n",
       "    </tr>\n",
       "    <tr>\n",
       "      <th>4212</th>\n",
       "      <td>1</td>\n",
       "      <td>2120000.0</td>\n",
       "      <td>35.43</td>\n",
       "      <td>2017-12-18T00:00:00</td>\n",
       "      <td>1</td>\n",
       "      <td>2.00</td>\n",
       "      <td>18.0</td>\n",
       "      <td>16.6</td>\n",
       "      <td>9</td>\n",
       "      <td>NaN</td>\n",
       "      <td>False</td>\n",
       "      <td>False</td>\n",
       "      <td>8.80</td>\n",
       "      <td>2.0</td>\n",
       "      <td>Тосно</td>\n",
       "      <td>NaN</td>\n",
       "      <td>NaN</td>\n",
       "      <td>NaN</td>\n",
       "      <td>NaN</td>\n",
       "      <td>NaN</td>\n",
       "      <td>NaN</td>\n",
       "      <td>36.0</td>\n",
       "    </tr>\n",
       "    <tr>\n",
       "      <th>5712</th>\n",
       "      <td>5</td>\n",
       "      <td>1500000.0</td>\n",
       "      <td>42.80</td>\n",
       "      <td>2017-08-14T00:00:00</td>\n",
       "      <td>2</td>\n",
       "      <td>1.20</td>\n",
       "      <td>2.0</td>\n",
       "      <td>27.5</td>\n",
       "      <td>1</td>\n",
       "      <td>NaN</td>\n",
       "      <td>False</td>\n",
       "      <td>False</td>\n",
       "      <td>5.20</td>\n",
       "      <td>NaN</td>\n",
       "      <td>городской посёлок Мга</td>\n",
       "      <td>NaN</td>\n",
       "      <td>NaN</td>\n",
       "      <td>NaN</td>\n",
       "      <td>NaN</td>\n",
       "      <td>NaN</td>\n",
       "      <td>NaN</td>\n",
       "      <td>248.0</td>\n",
       "    </tr>\n",
       "    <tr>\n",
       "      <th>5850</th>\n",
       "      <td>9</td>\n",
       "      <td>1650000.0</td>\n",
       "      <td>35.50</td>\n",
       "      <td>2018-05-29T00:00:00</td>\n",
       "      <td>1</td>\n",
       "      <td>2.00</td>\n",
       "      <td>5.0</td>\n",
       "      <td>NaN</td>\n",
       "      <td>5</td>\n",
       "      <td>NaN</td>\n",
       "      <td>False</td>\n",
       "      <td>False</td>\n",
       "      <td>NaN</td>\n",
       "      <td>NaN</td>\n",
       "      <td>Луга</td>\n",
       "      <td>NaN</td>\n",
       "      <td>NaN</td>\n",
       "      <td>NaN</td>\n",
       "      <td>NaN</td>\n",
       "      <td>NaN</td>\n",
       "      <td>NaN</td>\n",
       "      <td>100.0</td>\n",
       "    </tr>\n",
       "    <tr>\n",
       "      <th>11352</th>\n",
       "      <td>4</td>\n",
       "      <td>3300000.0</td>\n",
       "      <td>36.00</td>\n",
       "      <td>2017-06-18T00:00:00</td>\n",
       "      <td>1</td>\n",
       "      <td>2.00</td>\n",
       "      <td>17.0</td>\n",
       "      <td>15.2</td>\n",
       "      <td>12</td>\n",
       "      <td>NaN</td>\n",
       "      <td>False</td>\n",
       "      <td>False</td>\n",
       "      <td>10.10</td>\n",
       "      <td>0.0</td>\n",
       "      <td>посёлок Металлострой</td>\n",
       "      <td>25268.0</td>\n",
       "      <td>26980.0</td>\n",
       "      <td>0.0</td>\n",
       "      <td>NaN</td>\n",
       "      <td>0.0</td>\n",
       "      <td>NaN</td>\n",
       "      <td>53.0</td>\n",
       "    </tr>\n",
       "    <tr>\n",
       "      <th>16884</th>\n",
       "      <td>0</td>\n",
       "      <td>1500000.0</td>\n",
       "      <td>33.00</td>\n",
       "      <td>2018-10-03T00:00:00</td>\n",
       "      <td>1</td>\n",
       "      <td>2.00</td>\n",
       "      <td>5.0</td>\n",
       "      <td>20.0</td>\n",
       "      <td>5</td>\n",
       "      <td>False</td>\n",
       "      <td>False</td>\n",
       "      <td>False</td>\n",
       "      <td>6.00</td>\n",
       "      <td>NaN</td>\n",
       "      <td>Выборг</td>\n",
       "      <td>NaN</td>\n",
       "      <td>NaN</td>\n",
       "      <td>NaN</td>\n",
       "      <td>NaN</td>\n",
       "      <td>NaN</td>\n",
       "      <td>NaN</td>\n",
       "      <td>6.0</td>\n",
       "    </tr>\n",
       "    <tr>\n",
       "      <th>16934</th>\n",
       "      <td>5</td>\n",
       "      <td>4100000.0</td>\n",
       "      <td>40.00</td>\n",
       "      <td>2017-10-17T00:00:00</td>\n",
       "      <td>1</td>\n",
       "      <td>1.75</td>\n",
       "      <td>37.0</td>\n",
       "      <td>17.4</td>\n",
       "      <td>5</td>\n",
       "      <td>NaN</td>\n",
       "      <td>False</td>\n",
       "      <td>False</td>\n",
       "      <td>8.34</td>\n",
       "      <td>NaN</td>\n",
       "      <td>Санкт-Петербург</td>\n",
       "      <td>18732.0</td>\n",
       "      <td>20444.0</td>\n",
       "      <td>0.0</td>\n",
       "      <td>NaN</td>\n",
       "      <td>3.0</td>\n",
       "      <td>80.0</td>\n",
       "      <td>71.0</td>\n",
       "    </tr>\n",
       "    <tr>\n",
       "      <th>19098</th>\n",
       "      <td>7</td>\n",
       "      <td>2700000.0</td>\n",
       "      <td>56.00</td>\n",
       "      <td>2018-02-04T00:00:00</td>\n",
       "      <td>3</td>\n",
       "      <td>2.00</td>\n",
       "      <td>5.0</td>\n",
       "      <td>46.0</td>\n",
       "      <td>1</td>\n",
       "      <td>NaN</td>\n",
       "      <td>False</td>\n",
       "      <td>False</td>\n",
       "      <td>6.00</td>\n",
       "      <td>NaN</td>\n",
       "      <td>Выборг</td>\n",
       "      <td>NaN</td>\n",
       "      <td>NaN</td>\n",
       "      <td>NaN</td>\n",
       "      <td>NaN</td>\n",
       "      <td>NaN</td>\n",
       "      <td>NaN</td>\n",
       "      <td>282.0</td>\n",
       "    </tr>\n",
       "    <tr>\n",
       "      <th>19329</th>\n",
       "      <td>5</td>\n",
       "      <td>1700000.0</td>\n",
       "      <td>40.00</td>\n",
       "      <td>2018-07-15T00:00:00</td>\n",
       "      <td>2</td>\n",
       "      <td>2.00</td>\n",
       "      <td>9.0</td>\n",
       "      <td>NaN</td>\n",
       "      <td>8</td>\n",
       "      <td>NaN</td>\n",
       "      <td>False</td>\n",
       "      <td>False</td>\n",
       "      <td>NaN</td>\n",
       "      <td>NaN</td>\n",
       "      <td>Сосновый Бор</td>\n",
       "      <td>NaN</td>\n",
       "      <td>NaN</td>\n",
       "      <td>NaN</td>\n",
       "      <td>NaN</td>\n",
       "      <td>NaN</td>\n",
       "      <td>NaN</td>\n",
       "      <td>45.0</td>\n",
       "    </tr>\n",
       "    <tr>\n",
       "      <th>20520</th>\n",
       "      <td>9</td>\n",
       "      <td>3600000.0</td>\n",
       "      <td>38.00</td>\n",
       "      <td>2018-07-05T00:00:00</td>\n",
       "      <td>1</td>\n",
       "      <td>2.00</td>\n",
       "      <td>12.0</td>\n",
       "      <td>15.0</td>\n",
       "      <td>9</td>\n",
       "      <td>NaN</td>\n",
       "      <td>False</td>\n",
       "      <td>False</td>\n",
       "      <td>11.80</td>\n",
       "      <td>1.0</td>\n",
       "      <td>Кудрово</td>\n",
       "      <td>NaN</td>\n",
       "      <td>NaN</td>\n",
       "      <td>NaN</td>\n",
       "      <td>NaN</td>\n",
       "      <td>NaN</td>\n",
       "      <td>NaN</td>\n",
       "      <td>62.0</td>\n",
       "    </tr>\n",
       "    <tr>\n",
       "      <th>22590</th>\n",
       "      <td>16</td>\n",
       "      <td>6000000.0</td>\n",
       "      <td>55.00</td>\n",
       "      <td>2018-10-31T00:00:00</td>\n",
       "      <td>2</td>\n",
       "      <td>1.00</td>\n",
       "      <td>12.0</td>\n",
       "      <td>32.4</td>\n",
       "      <td>7</td>\n",
       "      <td>NaN</td>\n",
       "      <td>False</td>\n",
       "      <td>False</td>\n",
       "      <td>10.00</td>\n",
       "      <td>NaN</td>\n",
       "      <td>Санкт-Петербург</td>\n",
       "      <td>33053.0</td>\n",
       "      <td>14217.0</td>\n",
       "      <td>2.0</td>\n",
       "      <td>293.0</td>\n",
       "      <td>2.0</td>\n",
       "      <td>289.0</td>\n",
       "      <td>13.0</td>\n",
       "    </tr>\n",
       "    <tr>\n",
       "      <th>22960</th>\n",
       "      <td>17</td>\n",
       "      <td>2300000.0</td>\n",
       "      <td>53.60</td>\n",
       "      <td>2018-10-18T00:00:00</td>\n",
       "      <td>2</td>\n",
       "      <td>2.00</td>\n",
       "      <td>2.0</td>\n",
       "      <td>19.0</td>\n",
       "      <td>1</td>\n",
       "      <td>NaN</td>\n",
       "      <td>False</td>\n",
       "      <td>False</td>\n",
       "      <td>10.00</td>\n",
       "      <td>NaN</td>\n",
       "      <td>Всеволожск</td>\n",
       "      <td>NaN</td>\n",
       "      <td>NaN</td>\n",
       "      <td>NaN</td>\n",
       "      <td>NaN</td>\n",
       "      <td>NaN</td>\n",
       "      <td>NaN</td>\n",
       "      <td>NaN</td>\n",
       "    </tr>\n",
       "  </tbody>\n",
       "</table>\n",
       "</div>"
      ],
      "text/plain": [
       "       total_images  last_price  total_area first_day_exposition  rooms  \\\n",
       "552              11   2999000.0       33.50  2017-03-30T00:00:00      1   \n",
       "2572              4   2400000.0       62.00  2018-12-27T00:00:00      3   \n",
       "4212              1   2120000.0       35.43  2017-12-18T00:00:00      1   \n",
       "5712              5   1500000.0       42.80  2017-08-14T00:00:00      2   \n",
       "5850              9   1650000.0       35.50  2018-05-29T00:00:00      1   \n",
       "11352             4   3300000.0       36.00  2017-06-18T00:00:00      1   \n",
       "16884             0   1500000.0       33.00  2018-10-03T00:00:00      1   \n",
       "16934             5   4100000.0       40.00  2017-10-17T00:00:00      1   \n",
       "19098             7   2700000.0       56.00  2018-02-04T00:00:00      3   \n",
       "19329             5   1700000.0       40.00  2018-07-15T00:00:00      2   \n",
       "20520             9   3600000.0       38.00  2018-07-05T00:00:00      1   \n",
       "22590            16   6000000.0       55.00  2018-10-31T00:00:00      2   \n",
       "22960            17   2300000.0       53.60  2018-10-18T00:00:00      2   \n",
       "\n",
       "       ceiling_height  floors_total  living_area  floor is_apartment  studio  \\\n",
       "552              2.00          15.0         17.5      6          NaN   False   \n",
       "2572             2.00           5.0         40.0      4          NaN   False   \n",
       "4212             2.00          18.0         16.6      9          NaN   False   \n",
       "5712             1.20           2.0         27.5      1          NaN   False   \n",
       "5850             2.00           5.0          NaN      5          NaN   False   \n",
       "11352            2.00          17.0         15.2     12          NaN   False   \n",
       "16884            2.00           5.0         20.0      5        False   False   \n",
       "16934            1.75          37.0         17.4      5          NaN   False   \n",
       "19098            2.00           5.0         46.0      1          NaN   False   \n",
       "19329            2.00           9.0          NaN      8          NaN   False   \n",
       "20520            2.00          12.0         15.0      9          NaN   False   \n",
       "22590            1.00          12.0         32.4      7          NaN   False   \n",
       "22960            2.00           2.0         19.0      1          NaN   False   \n",
       "\n",
       "       open_plan  kitchen_area  balcony          locality_name  \\\n",
       "552        False          6.50      NaN        Санкт-Петербург   \n",
       "2572       False          6.00      1.0                   Луга   \n",
       "4212       False          8.80      2.0                  Тосно   \n",
       "5712       False          5.20      NaN  городской посёлок Мга   \n",
       "5850       False           NaN      NaN                   Луга   \n",
       "11352      False         10.10      0.0   посёлок Металлострой   \n",
       "16884      False          6.00      NaN                 Выборг   \n",
       "16934      False          8.34      NaN        Санкт-Петербург   \n",
       "19098      False          6.00      NaN                 Выборг   \n",
       "19329      False           NaN      NaN           Сосновый Бор   \n",
       "20520      False         11.80      1.0                Кудрово   \n",
       "22590      False         10.00      NaN        Санкт-Петербург   \n",
       "22960      False         10.00      NaN             Всеволожск   \n",
       "\n",
       "       airports_nearest  cityCenters_nearest  parks_around3000  parks_nearest  \\\n",
       "552             33972.0              11746.0               1.0          520.0   \n",
       "2572                NaN                  NaN               NaN            NaN   \n",
       "4212                NaN                  NaN               NaN            NaN   \n",
       "5712                NaN                  NaN               NaN            NaN   \n",
       "5850                NaN                  NaN               NaN            NaN   \n",
       "11352           25268.0              26980.0               0.0            NaN   \n",
       "16884               NaN                  NaN               NaN            NaN   \n",
       "16934           18732.0              20444.0               0.0            NaN   \n",
       "19098               NaN                  NaN               NaN            NaN   \n",
       "19329               NaN                  NaN               NaN            NaN   \n",
       "20520               NaN                  NaN               NaN            NaN   \n",
       "22590           33053.0              14217.0               2.0          293.0   \n",
       "22960               NaN                  NaN               NaN            NaN   \n",
       "\n",
       "       ponds_around3000  ponds_nearest  days_exposition  \n",
       "552                 1.0          949.0            270.0  \n",
       "2572                NaN            NaN              NaN  \n",
       "4212                NaN            NaN             36.0  \n",
       "5712                NaN            NaN            248.0  \n",
       "5850                NaN            NaN            100.0  \n",
       "11352               0.0            NaN             53.0  \n",
       "16884               NaN            NaN              6.0  \n",
       "16934               3.0           80.0             71.0  \n",
       "19098               NaN            NaN            282.0  \n",
       "19329               NaN            NaN             45.0  \n",
       "20520               NaN            NaN             62.0  \n",
       "22590               2.0          289.0             13.0  \n",
       "22960               NaN            NaN              NaN  "
      ]
     },
     "execution_count": 21,
     "metadata": {},
     "output_type": "execute_result"
    }
   ],
   "source": [
    "#Посмотрим на выбросы \n",
    "data.query('ceiling_height < (2.52 - @height_iqr*1.5)')"
   ]
  },
  {
   "cell_type": "code",
   "execution_count": 22,
   "metadata": {},
   "outputs": [],
   "source": [
    "#Обрезаем данные\n",
    "ceiling_height = data[['ceiling_height','floors_total']]\n",
    "ceiling_height = ceiling_height.query('ceiling_height > (2.52 - @height_iqr*1.5)')"
   ]
  },
  {
   "cell_type": "markdown",
   "metadata": {},
   "source": [
    "Теперь работаем с выбросами сверху"
   ]
  },
  {
   "cell_type": "code",
   "execution_count": 23,
   "metadata": {},
   "outputs": [
    {
     "data": {
      "text/html": [
       "<div>\n",
       "<style scoped>\n",
       "    .dataframe tbody tr th:only-of-type {\n",
       "        vertical-align: middle;\n",
       "    }\n",
       "\n",
       "    .dataframe tbody tr th {\n",
       "        vertical-align: top;\n",
       "    }\n",
       "\n",
       "    .dataframe thead th {\n",
       "        text-align: right;\n",
       "    }\n",
       "</style>\n",
       "<table border=\"1\" class=\"dataframe\">\n",
       "  <thead>\n",
       "    <tr style=\"text-align: right;\">\n",
       "      <th></th>\n",
       "      <th>ceiling_height</th>\n",
       "      <th>floors_total</th>\n",
       "    </tr>\n",
       "  </thead>\n",
       "  <tbody>\n",
       "    <tr>\n",
       "      <th>135</th>\n",
       "      <td>3.25</td>\n",
       "      <td>5.0</td>\n",
       "    </tr>\n",
       "    <tr>\n",
       "      <th>136</th>\n",
       "      <td>3.45</td>\n",
       "      <td>6.0</td>\n",
       "    </tr>\n",
       "    <tr>\n",
       "      <th>154</th>\n",
       "      <td>4.15</td>\n",
       "      <td>3.0</td>\n",
       "    </tr>\n",
       "    <tr>\n",
       "      <th>235</th>\n",
       "      <td>3.40</td>\n",
       "      <td>3.0</td>\n",
       "    </tr>\n",
       "    <tr>\n",
       "      <th>355</th>\n",
       "      <td>25.00</td>\n",
       "      <td>5.0</td>\n",
       "    </tr>\n",
       "    <tr>\n",
       "      <th>...</th>\n",
       "      <td>...</td>\n",
       "      <td>...</td>\n",
       "    </tr>\n",
       "    <tr>\n",
       "      <th>23430</th>\n",
       "      <td>3.30</td>\n",
       "      <td>5.0</td>\n",
       "    </tr>\n",
       "    <tr>\n",
       "      <th>23449</th>\n",
       "      <td>3.25</td>\n",
       "      <td>5.0</td>\n",
       "    </tr>\n",
       "    <tr>\n",
       "      <th>23573</th>\n",
       "      <td>3.60</td>\n",
       "      <td>12.0</td>\n",
       "    </tr>\n",
       "    <tr>\n",
       "      <th>23664</th>\n",
       "      <td>3.36</td>\n",
       "      <td>7.0</td>\n",
       "    </tr>\n",
       "    <tr>\n",
       "      <th>23694</th>\n",
       "      <td>3.70</td>\n",
       "      <td>5.0</td>\n",
       "    </tr>\n",
       "  </tbody>\n",
       "</table>\n",
       "<p>377 rows × 2 columns</p>\n",
       "</div>"
      ],
      "text/plain": [
       "       ceiling_height  floors_total\n",
       "135              3.25           5.0\n",
       "136              3.45           6.0\n",
       "154              4.15           3.0\n",
       "235              3.40           3.0\n",
       "355             25.00           5.0\n",
       "...               ...           ...\n",
       "23430            3.30           5.0\n",
       "23449            3.25           5.0\n",
       "23573            3.60          12.0\n",
       "23664            3.36           7.0\n",
       "23694            3.70           5.0\n",
       "\n",
       "[377 rows x 2 columns]"
      ]
     },
     "execution_count": 23,
     "metadata": {},
     "output_type": "execute_result"
    }
   ],
   "source": [
    "#Смотрим выбросы выше верхнего края\n",
    "ceiling_height.query('ceiling_height > (2.8 + @height_iqr*1.5)')"
   ]
  },
  {
   "cell_type": "markdown",
   "metadata": {},
   "source": [
    "Достаточно много строк, но и потолки до 5 метров в наше время не исключение, посмотрим сколько строк с потолками выше 5 метров"
   ]
  },
  {
   "cell_type": "code",
   "execution_count": 24,
   "metadata": {},
   "outputs": [
    {
     "data": {
      "text/html": [
       "<div>\n",
       "<style scoped>\n",
       "    .dataframe tbody tr th:only-of-type {\n",
       "        vertical-align: middle;\n",
       "    }\n",
       "\n",
       "    .dataframe tbody tr th {\n",
       "        vertical-align: top;\n",
       "    }\n",
       "\n",
       "    .dataframe thead th {\n",
       "        text-align: right;\n",
       "    }\n",
       "</style>\n",
       "<table border=\"1\" class=\"dataframe\">\n",
       "  <thead>\n",
       "    <tr style=\"text-align: right;\">\n",
       "      <th></th>\n",
       "      <th>ceiling_height</th>\n",
       "      <th>floors_total</th>\n",
       "    </tr>\n",
       "  </thead>\n",
       "  <tbody>\n",
       "    <tr>\n",
       "      <th>355</th>\n",
       "      <td>25.0</td>\n",
       "      <td>5.0</td>\n",
       "    </tr>\n",
       "    <tr>\n",
       "      <th>3148</th>\n",
       "      <td>32.0</td>\n",
       "      <td>3.0</td>\n",
       "    </tr>\n",
       "    <tr>\n",
       "      <th>3474</th>\n",
       "      <td>8.0</td>\n",
       "      <td>5.0</td>\n",
       "    </tr>\n",
       "    <tr>\n",
       "      <th>4643</th>\n",
       "      <td>25.0</td>\n",
       "      <td>9.0</td>\n",
       "    </tr>\n",
       "    <tr>\n",
       "      <th>4876</th>\n",
       "      <td>27.0</td>\n",
       "      <td>25.0</td>\n",
       "    </tr>\n",
       "    <tr>\n",
       "      <th>5076</th>\n",
       "      <td>24.0</td>\n",
       "      <td>5.0</td>\n",
       "    </tr>\n",
       "    <tr>\n",
       "      <th>5246</th>\n",
       "      <td>27.0</td>\n",
       "      <td>5.0</td>\n",
       "    </tr>\n",
       "    <tr>\n",
       "      <th>5669</th>\n",
       "      <td>26.0</td>\n",
       "      <td>9.0</td>\n",
       "    </tr>\n",
       "    <tr>\n",
       "      <th>5807</th>\n",
       "      <td>27.0</td>\n",
       "      <td>36.0</td>\n",
       "    </tr>\n",
       "    <tr>\n",
       "      <th>5863</th>\n",
       "      <td>8.3</td>\n",
       "      <td>16.0</td>\n",
       "    </tr>\n",
       "    <tr>\n",
       "      <th>6246</th>\n",
       "      <td>25.0</td>\n",
       "      <td>5.0</td>\n",
       "    </tr>\n",
       "    <tr>\n",
       "      <th>9379</th>\n",
       "      <td>25.0</td>\n",
       "      <td>5.0</td>\n",
       "    </tr>\n",
       "    <tr>\n",
       "      <th>10773</th>\n",
       "      <td>27.0</td>\n",
       "      <td>10.0</td>\n",
       "    </tr>\n",
       "    <tr>\n",
       "      <th>11285</th>\n",
       "      <td>25.0</td>\n",
       "      <td>5.0</td>\n",
       "    </tr>\n",
       "    <tr>\n",
       "      <th>12628</th>\n",
       "      <td>5.3</td>\n",
       "      <td>5.0</td>\n",
       "    </tr>\n",
       "    <tr>\n",
       "      <th>14382</th>\n",
       "      <td>25.0</td>\n",
       "      <td>5.0</td>\n",
       "    </tr>\n",
       "    <tr>\n",
       "      <th>15061</th>\n",
       "      <td>14.0</td>\n",
       "      <td>14.0</td>\n",
       "    </tr>\n",
       "    <tr>\n",
       "      <th>15743</th>\n",
       "      <td>8.0</td>\n",
       "      <td>16.0</td>\n",
       "    </tr>\n",
       "    <tr>\n",
       "      <th>17442</th>\n",
       "      <td>8.0</td>\n",
       "      <td>5.0</td>\n",
       "    </tr>\n",
       "    <tr>\n",
       "      <th>17496</th>\n",
       "      <td>20.0</td>\n",
       "      <td>17.0</td>\n",
       "    </tr>\n",
       "    <tr>\n",
       "      <th>17857</th>\n",
       "      <td>27.0</td>\n",
       "      <td>5.0</td>\n",
       "    </tr>\n",
       "    <tr>\n",
       "      <th>18545</th>\n",
       "      <td>25.0</td>\n",
       "      <td>5.0</td>\n",
       "    </tr>\n",
       "    <tr>\n",
       "      <th>20478</th>\n",
       "      <td>27.0</td>\n",
       "      <td>4.0</td>\n",
       "    </tr>\n",
       "    <tr>\n",
       "      <th>20507</th>\n",
       "      <td>22.6</td>\n",
       "      <td>14.0</td>\n",
       "    </tr>\n",
       "    <tr>\n",
       "      <th>21377</th>\n",
       "      <td>27.5</td>\n",
       "      <td>24.0</td>\n",
       "    </tr>\n",
       "    <tr>\n",
       "      <th>21824</th>\n",
       "      <td>27.0</td>\n",
       "      <td>2.0</td>\n",
       "    </tr>\n",
       "    <tr>\n",
       "      <th>22309</th>\n",
       "      <td>10.3</td>\n",
       "      <td>16.0</td>\n",
       "    </tr>\n",
       "    <tr>\n",
       "      <th>22336</th>\n",
       "      <td>32.0</td>\n",
       "      <td>6.0</td>\n",
       "    </tr>\n",
       "    <tr>\n",
       "      <th>22938</th>\n",
       "      <td>27.0</td>\n",
       "      <td>2.0</td>\n",
       "    </tr>\n",
       "  </tbody>\n",
       "</table>\n",
       "</div>"
      ],
      "text/plain": [
       "       ceiling_height  floors_total\n",
       "355              25.0           5.0\n",
       "3148             32.0           3.0\n",
       "3474              8.0           5.0\n",
       "4643             25.0           9.0\n",
       "4876             27.0          25.0\n",
       "5076             24.0           5.0\n",
       "5246             27.0           5.0\n",
       "5669             26.0           9.0\n",
       "5807             27.0          36.0\n",
       "5863              8.3          16.0\n",
       "6246             25.0           5.0\n",
       "9379             25.0           5.0\n",
       "10773            27.0          10.0\n",
       "11285            25.0           5.0\n",
       "12628             5.3           5.0\n",
       "14382            25.0           5.0\n",
       "15061            14.0          14.0\n",
       "15743             8.0          16.0\n",
       "17442             8.0           5.0\n",
       "17496            20.0          17.0\n",
       "17857            27.0           5.0\n",
       "18545            25.0           5.0\n",
       "20478            27.0           4.0\n",
       "20507            22.6          14.0\n",
       "21377            27.5          24.0\n",
       "21824            27.0           2.0\n",
       "22309            10.3          16.0\n",
       "22336            32.0           6.0\n",
       "22938            27.0           2.0"
      ]
     },
     "execution_count": 24,
     "metadata": {},
     "output_type": "execute_result"
    }
   ],
   "source": [
    "ceiling_height.query('ceiling_height > 5')"
   ]
  },
  {
   "cell_type": "markdown",
   "metadata": {},
   "source": [
    "Уже приемлемое количество. Можно наблюдать в некоторых строка значения, который очень похожи на распространенные значения, но с пропущенным знаком разделения дробной части. Допустим диапазон высот потолков от 2.10 м до 5 м, тогда чтобы исправить ошибку пропущенной запятой, выберем все квартиры с потолками от 21 до 50 и разделим на 10"
   ]
  },
  {
   "cell_type": "code",
   "execution_count": 25,
   "metadata": {},
   "outputs": [
    {
     "data": {
      "text/html": [
       "<div>\n",
       "<style scoped>\n",
       "    .dataframe tbody tr th:only-of-type {\n",
       "        vertical-align: middle;\n",
       "    }\n",
       "\n",
       "    .dataframe tbody tr th {\n",
       "        vertical-align: top;\n",
       "    }\n",
       "\n",
       "    .dataframe thead th {\n",
       "        text-align: right;\n",
       "    }\n",
       "</style>\n",
       "<table border=\"1\" class=\"dataframe\">\n",
       "  <thead>\n",
       "    <tr style=\"text-align: right;\">\n",
       "      <th></th>\n",
       "      <th>ceiling_height</th>\n",
       "      <th>floors_total</th>\n",
       "    </tr>\n",
       "  </thead>\n",
       "  <tbody>\n",
       "    <tr>\n",
       "      <th>3474</th>\n",
       "      <td>8.0</td>\n",
       "      <td>5.0</td>\n",
       "    </tr>\n",
       "    <tr>\n",
       "      <th>5863</th>\n",
       "      <td>8.3</td>\n",
       "      <td>16.0</td>\n",
       "    </tr>\n",
       "    <tr>\n",
       "      <th>12628</th>\n",
       "      <td>5.3</td>\n",
       "      <td>5.0</td>\n",
       "    </tr>\n",
       "    <tr>\n",
       "      <th>15061</th>\n",
       "      <td>14.0</td>\n",
       "      <td>14.0</td>\n",
       "    </tr>\n",
       "    <tr>\n",
       "      <th>15743</th>\n",
       "      <td>8.0</td>\n",
       "      <td>16.0</td>\n",
       "    </tr>\n",
       "    <tr>\n",
       "      <th>17442</th>\n",
       "      <td>8.0</td>\n",
       "      <td>5.0</td>\n",
       "    </tr>\n",
       "    <tr>\n",
       "      <th>17496</th>\n",
       "      <td>20.0</td>\n",
       "      <td>17.0</td>\n",
       "    </tr>\n",
       "    <tr>\n",
       "      <th>22309</th>\n",
       "      <td>10.3</td>\n",
       "      <td>16.0</td>\n",
       "    </tr>\n",
       "  </tbody>\n",
       "</table>\n",
       "</div>"
      ],
      "text/plain": [
       "       ceiling_height  floors_total\n",
       "3474              8.0           5.0\n",
       "5863              8.3          16.0\n",
       "12628             5.3           5.0\n",
       "15061            14.0          14.0\n",
       "15743             8.0          16.0\n",
       "17442             8.0           5.0\n",
       "17496            20.0          17.0\n",
       "22309            10.3          16.0"
      ]
     },
     "execution_count": 25,
     "metadata": {},
     "output_type": "execute_result"
    }
   ],
   "source": [
    "ceiling_height.loc[(ceiling_height['ceiling_height'] >= 21) & (ceiling_height['ceiling_height'] < 50), 'ceiling_height'] /= 10\n",
    "ceiling_height.query('ceiling_height > 5')"
   ]
  },
  {
   "cell_type": "code",
   "execution_count": 26,
   "metadata": {},
   "outputs": [],
   "source": [
    "# Остатки посчитаем выбросами и удалим\n",
    "ceiling_height = ceiling_height.query('ceiling_height < 5')"
   ]
  },
  {
   "cell_type": "code",
   "execution_count": 27,
   "metadata": {},
   "outputs": [
    {
     "data": {
      "text/html": [
       "<div>\n",
       "<style scoped>\n",
       "    .dataframe tbody tr th:only-of-type {\n",
       "        vertical-align: middle;\n",
       "    }\n",
       "\n",
       "    .dataframe tbody tr th {\n",
       "        vertical-align: top;\n",
       "    }\n",
       "\n",
       "    .dataframe thead th {\n",
       "        text-align: right;\n",
       "    }\n",
       "</style>\n",
       "<table border=\"1\" class=\"dataframe\">\n",
       "  <thead>\n",
       "    <tr style=\"text-align: right;\">\n",
       "      <th></th>\n",
       "      <th>median</th>\n",
       "      <th>mean</th>\n",
       "      <th>count</th>\n",
       "    </tr>\n",
       "    <tr>\n",
       "      <th>floors_total</th>\n",
       "      <th></th>\n",
       "      <th></th>\n",
       "      <th></th>\n",
       "    </tr>\n",
       "  </thead>\n",
       "  <tbody>\n",
       "    <tr>\n",
       "      <th>1.0</th>\n",
       "      <td>2.80</td>\n",
       "      <td>2.740000</td>\n",
       "      <td>10</td>\n",
       "    </tr>\n",
       "    <tr>\n",
       "      <th>2.0</th>\n",
       "      <td>2.70</td>\n",
       "      <td>2.757801</td>\n",
       "      <td>191</td>\n",
       "    </tr>\n",
       "    <tr>\n",
       "      <th>3.0</th>\n",
       "      <td>2.75</td>\n",
       "      <td>2.827970</td>\n",
       "      <td>335</td>\n",
       "    </tr>\n",
       "    <tr>\n",
       "      <th>4.0</th>\n",
       "      <td>2.87</td>\n",
       "      <td>2.889135</td>\n",
       "      <td>636</td>\n",
       "    </tr>\n",
       "    <tr>\n",
       "      <th>5.0</th>\n",
       "      <td>2.55</td>\n",
       "      <td>2.652998</td>\n",
       "      <td>3315</td>\n",
       "    </tr>\n",
       "    <tr>\n",
       "      <th>6.0</th>\n",
       "      <td>3.00</td>\n",
       "      <td>2.960078</td>\n",
       "      <td>383</td>\n",
       "    </tr>\n",
       "    <tr>\n",
       "      <th>7.0</th>\n",
       "      <td>2.75</td>\n",
       "      <td>2.812418</td>\n",
       "      <td>244</td>\n",
       "    </tr>\n",
       "    <tr>\n",
       "      <th>8.0</th>\n",
       "      <td>2.70</td>\n",
       "      <td>2.722500</td>\n",
       "      <td>136</td>\n",
       "    </tr>\n",
       "    <tr>\n",
       "      <th>9.0</th>\n",
       "      <td>2.55</td>\n",
       "      <td>2.570969</td>\n",
       "      <td>2487</td>\n",
       "    </tr>\n",
       "    <tr>\n",
       "      <th>10.0</th>\n",
       "      <td>2.60</td>\n",
       "      <td>2.620150</td>\n",
       "      <td>667</td>\n",
       "    </tr>\n",
       "    <tr>\n",
       "      <th>11.0</th>\n",
       "      <td>2.73</td>\n",
       "      <td>2.742078</td>\n",
       "      <td>77</td>\n",
       "    </tr>\n",
       "    <tr>\n",
       "      <th>12.0</th>\n",
       "      <td>2.65</td>\n",
       "      <td>2.628581</td>\n",
       "      <td>782</td>\n",
       "    </tr>\n",
       "    <tr>\n",
       "      <th>13.0</th>\n",
       "      <td>2.70</td>\n",
       "      <td>2.683333</td>\n",
       "      <td>90</td>\n",
       "    </tr>\n",
       "    <tr>\n",
       "      <th>14.0</th>\n",
       "      <td>2.60</td>\n",
       "      <td>2.629248</td>\n",
       "      <td>319</td>\n",
       "    </tr>\n",
       "    <tr>\n",
       "      <th>15.0</th>\n",
       "      <td>2.70</td>\n",
       "      <td>2.708817</td>\n",
       "      <td>186</td>\n",
       "    </tr>\n",
       "    <tr>\n",
       "      <th>16.0</th>\n",
       "      <td>2.70</td>\n",
       "      <td>2.697986</td>\n",
       "      <td>730</td>\n",
       "    </tr>\n",
       "    <tr>\n",
       "      <th>17.0</th>\n",
       "      <td>2.70</td>\n",
       "      <td>2.700203</td>\n",
       "      <td>443</td>\n",
       "    </tr>\n",
       "    <tr>\n",
       "      <th>18.0</th>\n",
       "      <td>2.70</td>\n",
       "      <td>2.701089</td>\n",
       "      <td>248</td>\n",
       "    </tr>\n",
       "    <tr>\n",
       "      <th>19.0</th>\n",
       "      <td>2.75</td>\n",
       "      <td>2.749091</td>\n",
       "      <td>110</td>\n",
       "    </tr>\n",
       "    <tr>\n",
       "      <th>20.0</th>\n",
       "      <td>2.75</td>\n",
       "      <td>2.734324</td>\n",
       "      <td>111</td>\n",
       "    </tr>\n",
       "    <tr>\n",
       "      <th>21.0</th>\n",
       "      <td>2.70</td>\n",
       "      <td>2.709655</td>\n",
       "      <td>58</td>\n",
       "    </tr>\n",
       "    <tr>\n",
       "      <th>22.0</th>\n",
       "      <td>2.75</td>\n",
       "      <td>2.721429</td>\n",
       "      <td>126</td>\n",
       "    </tr>\n",
       "    <tr>\n",
       "      <th>23.0</th>\n",
       "      <td>2.75</td>\n",
       "      <td>2.745665</td>\n",
       "      <td>173</td>\n",
       "    </tr>\n",
       "    <tr>\n",
       "      <th>24.0</th>\n",
       "      <td>2.74</td>\n",
       "      <td>2.723817</td>\n",
       "      <td>186</td>\n",
       "    </tr>\n",
       "    <tr>\n",
       "      <th>25.0</th>\n",
       "      <td>2.70</td>\n",
       "      <td>2.716549</td>\n",
       "      <td>426</td>\n",
       "    </tr>\n",
       "    <tr>\n",
       "      <th>26.0</th>\n",
       "      <td>2.65</td>\n",
       "      <td>2.703774</td>\n",
       "      <td>53</td>\n",
       "    </tr>\n",
       "    <tr>\n",
       "      <th>27.0</th>\n",
       "      <td>2.70</td>\n",
       "      <td>2.672319</td>\n",
       "      <td>69</td>\n",
       "    </tr>\n",
       "    <tr>\n",
       "      <th>28.0</th>\n",
       "      <td>2.55</td>\n",
       "      <td>2.593750</td>\n",
       "      <td>8</td>\n",
       "    </tr>\n",
       "    <tr>\n",
       "      <th>29.0</th>\n",
       "      <td>2.60</td>\n",
       "      <td>2.600000</td>\n",
       "      <td>1</td>\n",
       "    </tr>\n",
       "    <tr>\n",
       "      <th>34.0</th>\n",
       "      <td>2.65</td>\n",
       "      <td>2.650000</td>\n",
       "      <td>1</td>\n",
       "    </tr>\n",
       "    <tr>\n",
       "      <th>35.0</th>\n",
       "      <td>2.70</td>\n",
       "      <td>2.697143</td>\n",
       "      <td>7</td>\n",
       "    </tr>\n",
       "    <tr>\n",
       "      <th>36.0</th>\n",
       "      <td>2.70</td>\n",
       "      <td>2.700000</td>\n",
       "      <td>2</td>\n",
       "    </tr>\n",
       "    <tr>\n",
       "      <th>52.0</th>\n",
       "      <td>2.65</td>\n",
       "      <td>2.650000</td>\n",
       "      <td>1</td>\n",
       "    </tr>\n",
       "    <tr>\n",
       "      <th>60.0</th>\n",
       "      <td>2.88</td>\n",
       "      <td>2.880000</td>\n",
       "      <td>1</td>\n",
       "    </tr>\n",
       "  </tbody>\n",
       "</table>\n",
       "</div>"
      ],
      "text/plain": [
       "              median      mean  count\n",
       "floors_total                         \n",
       "1.0             2.80  2.740000     10\n",
       "2.0             2.70  2.757801    191\n",
       "3.0             2.75  2.827970    335\n",
       "4.0             2.87  2.889135    636\n",
       "5.0             2.55  2.652998   3315\n",
       "6.0             3.00  2.960078    383\n",
       "7.0             2.75  2.812418    244\n",
       "8.0             2.70  2.722500    136\n",
       "9.0             2.55  2.570969   2487\n",
       "10.0            2.60  2.620150    667\n",
       "11.0            2.73  2.742078     77\n",
       "12.0            2.65  2.628581    782\n",
       "13.0            2.70  2.683333     90\n",
       "14.0            2.60  2.629248    319\n",
       "15.0            2.70  2.708817    186\n",
       "16.0            2.70  2.697986    730\n",
       "17.0            2.70  2.700203    443\n",
       "18.0            2.70  2.701089    248\n",
       "19.0            2.75  2.749091    110\n",
       "20.0            2.75  2.734324    111\n",
       "21.0            2.70  2.709655     58\n",
       "22.0            2.75  2.721429    126\n",
       "23.0            2.75  2.745665    173\n",
       "24.0            2.74  2.723817    186\n",
       "25.0            2.70  2.716549    426\n",
       "26.0            2.65  2.703774     53\n",
       "27.0            2.70  2.672319     69\n",
       "28.0            2.55  2.593750      8\n",
       "29.0            2.60  2.600000      1\n",
       "34.0            2.65  2.650000      1\n",
       "35.0            2.70  2.697143      7\n",
       "36.0            2.70  2.700000      2\n",
       "52.0            2.65  2.650000      1\n",
       "60.0            2.88  2.880000      1"
      ]
     },
     "execution_count": 27,
     "metadata": {},
     "output_type": "execute_result"
    }
   ],
   "source": [
    "# Проанализируем медиану и среднюю\n",
    "ceiling_height = ceiling_height.groupby('floors_total').agg(['median','mean','count'])\n",
    "ceiling_height.columns = ['median','mean','count']\n",
    "ceiling_height"
   ]
  },
  {
   "cell_type": "markdown",
   "metadata": {},
   "source": [
    "Заполняем пропуски.\n",
    "Медианные значения более похожи на настоящие высоты потолков, поэтому будем заполнять пропуски этими значениями."
   ]
  },
  {
   "cell_type": "code",
   "execution_count": 28,
   "metadata": {},
   "outputs": [
    {
     "data": {
      "text/plain": [
       "33.0    1\n",
       "Name: floors_total, dtype: int64"
      ]
     },
     "execution_count": 28,
     "metadata": {},
     "output_type": "execute_result"
    }
   ],
   "source": [
    "for t in data['floors_total'].unique():\n",
    "    if t in ceiling_height.index:\n",
    "        data.loc[(data['floors_total'] == t) & (data['ceiling_height'].isna()), 'ceiling_height'] = ceiling_height.loc[t, 'median']\n",
    "data[data['ceiling_height'].isna()]['floors_total'].value_counts()"
   ]
  },
  {
   "cell_type": "code",
   "execution_count": 29,
   "metadata": {},
   "outputs": [],
   "source": [
    "# Осталось одна уникальная квартиры без указанной высоты потолков, удалим их\n",
    "data = data[data['ceiling_height'] > 0]"
   ]
  },
  {
   "cell_type": "markdown",
   "metadata": {},
   "source": [
    "#### Жилая площадь и площадь кухни\n",
    "Попытаемся заполнить жилую и кухонную площадь в пропорции к общей площади с категоризацией по количеству комнат"
   ]
  },
  {
   "cell_type": "markdown",
   "metadata": {},
   "source": [
    "Перед началом работы, уберём выбросы из выборки, чтобы они не оказывали влияение на расчет средний и медианных значений"
   ]
  },
  {
   "cell_type": "code",
   "execution_count": 30,
   "metadata": {},
   "outputs": [
    {
     "data": {
      "text/plain": [
       "<AxesSubplot:>"
      ]
     },
     "execution_count": 30,
     "metadata": {},
     "output_type": "execute_result"
    },
    {
     "data": {
      "image/png": "[encoded data removed]",
      "text/plain": [
       "<Figure size 432x288 with 1 Axes>"
      ]
     },
     "metadata": {
      "needs_background": "light"
     },
     "output_type": "display_data"
    }
   ],
   "source": [
    "data['total_area'].hist(bins=100)"
   ]
  },
  {
   "cell_type": "code",
   "execution_count": 31,
   "metadata": {},
   "outputs": [
    {
     "data": {
      "text/plain": [
       "0"
      ]
     },
     "execution_count": 31,
     "metadata": {},
     "output_type": "execute_result"
    }
   ],
   "source": [
    "data.query('total_area > 200')['total_area'].count()"
   ]
  },
  {
   "cell_type": "code",
   "execution_count": 32,
   "metadata": {},
   "outputs": [
    {
     "data": {
      "text/plain": [
       "7"
      ]
     },
     "execution_count": 32,
     "metadata": {},
     "output_type": "execute_result"
    }
   ],
   "source": [
    "data.query('total_area > 150')['total_area'].count()"
   ]
  },
  {
   "cell_type": "markdown",
   "metadata": {},
   "source": [
    "300 строк из 20000 потерять не критично, поэтому исключаем из выброрки все квартиры с общей плозадью более 150 кв. м."
   ]
  },
  {
   "cell_type": "code",
   "execution_count": 33,
   "metadata": {},
   "outputs": [],
   "source": [
    "data = data.query('total_area <= 150')"
   ]
  },
  {
   "cell_type": "markdown",
   "metadata": {},
   "source": [
    "Теперь начинаем расчет пропорций жилой плозади и кухни к общей площади"
   ]
  },
  {
   "cell_type": "code",
   "execution_count": 34,
   "metadata": {},
   "outputs": [
    {
     "data": {
      "text/html": [
       "<div>\n",
       "<style scoped>\n",
       "    .dataframe tbody tr th:only-of-type {\n",
       "        vertical-align: middle;\n",
       "    }\n",
       "\n",
       "    .dataframe tbody tr th {\n",
       "        vertical-align: top;\n",
       "    }\n",
       "\n",
       "    .dataframe thead th {\n",
       "        text-align: right;\n",
       "    }\n",
       "</style>\n",
       "<table border=\"1\" class=\"dataframe\">\n",
       "  <thead>\n",
       "    <tr style=\"text-align: right;\">\n",
       "      <th></th>\n",
       "      <th>kitchen_area_proportion</th>\n",
       "      <th>living_area_proportion</th>\n",
       "    </tr>\n",
       "    <tr>\n",
       "      <th>rooms</th>\n",
       "      <th></th>\n",
       "      <th></th>\n",
       "    </tr>\n",
       "  </thead>\n",
       "  <tbody>\n",
       "    <tr>\n",
       "      <th>1</th>\n",
       "      <td>0.249382</td>\n",
       "      <td>0.481602</td>\n",
       "    </tr>\n",
       "    <tr>\n",
       "      <th>2</th>\n",
       "      <td>0.169876</td>\n",
       "      <td>0.585231</td>\n",
       "    </tr>\n",
       "    <tr>\n",
       "      <th>3</th>\n",
       "      <td>0.132877</td>\n",
       "      <td>0.641209</td>\n",
       "    </tr>\n",
       "    <tr>\n",
       "      <th>4</th>\n",
       "      <td>0.114472</td>\n",
       "      <td>0.677620</td>\n",
       "    </tr>\n",
       "    <tr>\n",
       "      <th>5</th>\n",
       "      <td>0.106994</td>\n",
       "      <td>0.658491</td>\n",
       "    </tr>\n",
       "  </tbody>\n",
       "</table>\n",
       "</div>"
      ],
      "text/plain": [
       "       kitchen_area_proportion  living_area_proportion\n",
       "rooms                                                 \n",
       "1                     0.249382                0.481602\n",
       "2                     0.169876                0.585231\n",
       "3                     0.132877                0.641209\n",
       "4                     0.114472                0.677620\n",
       "5                     0.106994                0.658491"
      ]
     },
     "execution_count": 34,
     "metadata": {},
     "output_type": "execute_result"
    }
   ],
   "source": [
    "area_proportion = data[['rooms', 'total_area', 'living_area', 'kitchen_area']].query('living_area > 0 and kitchen_area > 0')\n",
    "area_proportion['living_area_proportion'] = area_proportion['living_area'] / area_proportion['total_area'] \n",
    "area_proportion['kitchen_area_proportion'] = area_proportion['kitchen_area'] / area_proportion['total_area'] \n",
    "area_proportion = pd.pivot_table(area_proportion, index=\"rooms\", values=['living_area_proportion', 'kitchen_area_proportion'], aggfunc='mean')\n",
    "area_proportion.head()"
   ]
  },
  {
   "cell_type": "markdown",
   "metadata": {},
   "source": [
    "Заполняем пропуски"
   ]
  },
  {
   "cell_type": "code",
   "execution_count": 35,
   "metadata": {},
   "outputs": [
    {
     "name": "stdout",
     "output_type": "stream",
     "text": [
      "Series([], Name: rooms, dtype: int64)\n",
      "Series([], Name: rooms, dtype: int64)\n"
     ]
    }
   ],
   "source": [
    "for r in data['rooms'].unique():\n",
    "    if r in area_proportion.index:\n",
    "        data.loc[(data['rooms'] == r) & (data['living_area'].isna()), 'living_area'] = round(data['total_area'] * area_proportion.loc[r, 'living_area_proportion'], ndigits=2)\n",
    "        data.loc[(data['rooms'] == r) & (data['kitchen_area'].isna()), 'kitchen_area'] = round(data['total_area'] * area_proportion.loc[r, 'kitchen_area_proportion'], ndigits=2)\n",
    "    else:\n",
    "        print(r)    \n",
    "print(data[data['living_area'].isna()]['rooms'].value_counts())\n",
    "print(data[data['kitchen_area'].isna()]['rooms'].value_counts())"
   ]
  },
  {
   "cell_type": "markdown",
   "metadata": {},
   "source": [
    "#### Апартаменты\n",
    "Флаг того, что данное жилое помещение является \"апартаментами\". Этот пункт важный, поэтому скорей всего в анкете помещения поставят флаг, если это апартаменты и оставят без внимания, если это квартира. Поэтому все неуказанные значения приравняем к false."
   ]
  },
  {
   "cell_type": "code",
   "execution_count": 36,
   "metadata": {},
   "outputs": [],
   "source": [
    "data['is_apartment'] = data['is_apartment'].fillna(False)"
   ]
  },
  {
   "cell_type": "markdown",
   "metadata": {},
   "source": [
    "### Балконы\n",
    "Наличие балкона. Если незаполнено, скорей всего балкона нет. Проанализируем значение, которые может принимать этот параметр."
   ]
  },
  {
   "cell_type": "code",
   "execution_count": 37,
   "metadata": {},
   "outputs": [
    {
     "data": {
      "text/plain": [
       "1.0    3824\n",
       "2.0    3345\n",
       "0.0    3312\n",
       "5.0     222\n",
       "4.0     123\n",
       "3.0      60\n",
       "Name: balcony, dtype: int64"
      ]
     },
     "execution_count": 37,
     "metadata": {},
     "output_type": "execute_result"
    }
   ],
   "source": [
    "data['balcony'].value_counts()"
   ]
  },
  {
   "cell_type": "code",
   "execution_count": 38,
   "metadata": {},
   "outputs": [],
   "source": [
    "# Тип int64, поэтому незаполненные значение заполним 0\n",
    "data['balcony'] = data['balcony'].fillna(0)"
   ]
  },
  {
   "cell_type": "code",
   "execution_count": 39,
   "metadata": {},
   "outputs": [
    {
     "data": {
      "text/plain": [
       "0    13312\n",
       "1     3824\n",
       "2     3345\n",
       "5      222\n",
       "4      123\n",
       "3       60\n",
       "Name: balcony, dtype: int64"
      ]
     },
     "execution_count": 39,
     "metadata": {},
     "output_type": "execute_result"
    }
   ],
   "source": [
    "data['balcony'] = pd.to_numeric(data['balcony'], downcast='integer');\n",
    "data['balcony'].value_counts()"
   ]
  },
  {
   "cell_type": "markdown",
   "metadata": {},
   "source": [
    "#### Населенный пункт / район / часть города\n",
    "Начнем с анализа значений"
   ]
  },
  {
   "cell_type": "code",
   "execution_count": 40,
   "metadata": {},
   "outputs": [
    {
     "data": {
      "text/plain": [
       "Санкт-Петербург                            13039\n",
       "посёлок Мурино                               520\n",
       "посёлок Шушары                               437\n",
       "Всеволожск                                   393\n",
       "Колпино                                      336\n",
       "Пушкин                                       330\n",
       "посёлок Парголово                            326\n",
       "Гатчина                                      305\n",
       "деревня Кудрово                              296\n",
       "Выборг                                       235\n",
       "Петергоф                                     193\n",
       "Красное Село                                 174\n",
       "Кудрово                                      169\n",
       "Сестрорецк                                   166\n",
       "деревня Новое Девяткино                      142\n",
       "Сертолово                                    141\n",
       "Ломоносов                                    133\n",
       "Кириши                                       125\n",
       "Сланцы                                       112\n",
       "Волхов                                       111\n",
       "Кингисепп                                    104\n",
       "Тосно                                        104\n",
       "Кронштадт                                     94\n",
       "Никольское                                    93\n",
       "Коммунар                                      89\n",
       "Сосновый Бор                                  86\n",
       "Кировск                                       84\n",
       "Отрадное                                      80\n",
       "посёлок Бугры                                 68\n",
       "Приозерск                                     66\n",
       "посёлок Металлострой                          66\n",
       "деревня Старая                                64\n",
       "городской посёлок Янино-1                     61\n",
       "Шлиссельбург                                  57\n",
       "Луга                                          56\n",
       "Тихвин                                        49\n",
       "поселок Бугры                                 45\n",
       "посёлок Стрельна                              40\n",
       "посёлок Тельмана                              39\n",
       "Волосово                                      36\n",
       "поселок Романовка                             36\n",
       "Мурино                                        34\n",
       "Павловск                                      33\n",
       "поселок Мурино                                32\n",
       "посёлок городского типа Сиверский             29\n",
       "Ивангород                                     28\n",
       "городской посёлок Мга                         27\n",
       "городской посёлок Новоселье                   27\n",
       "поселок городского типа имени Свердлова       25\n",
       "Сясьстрой                                     24\n",
       "Name: locality_name, dtype: int64"
      ]
     },
     "execution_count": 40,
     "metadata": {},
     "output_type": "execute_result"
    }
   ],
   "source": [
    "data['locality_name'].value_counts().head(50)"
   ]
  },
  {
   "cell_type": "markdown",
   "metadata": {},
   "source": [
    "Наблюдаем следующие проблемы:\n",
    "1. Мусор в виде приставки с типом населенного пункта\n",
    "2. Чередование `е` и `ё`\n",
    "\n",
    "Заменим везде `ё` на `е`. Так как объявления по одной области, то дубли названий населенных пунктов маловероятны и от типа населенного пункта можно избавиться."
   ]
  },
  {
   "cell_type": "code",
   "execution_count": 41,
   "metadata": {},
   "outputs": [],
   "source": [
    "data['locality_name_clear'] = data['locality_name'].str.replace('ё', 'е')"
   ]
  },
  {
   "cell_type": "code",
   "execution_count": 42,
   "metadata": {},
   "outputs": [
    {
     "data": {
      "text/plain": [
       "поселок                                              2033\n",
       "деревня                                               735\n",
       "поселок городского типа                               295\n",
       "Красное                                               174\n",
       "городской поселок                                     170\n",
       "деревня Новое                                         142\n",
       "Сосновый                                               86\n",
       "поселок городского типа имени                          53\n",
       "село                                                   30\n",
       "поселок Новый                                          28\n",
       "Лодейное                                               20\n",
       "деревня Малое                                          20\n",
       "деревня Большие                                        16\n",
       "городской поселок Большая                              16\n",
       "Новая                                                  14\n",
       "поселок станции                                        13\n",
       "поселок городского типа Красный                         8\n",
       "деревня Малые                                           7\n",
       "поселок городского типа Дружная                         5\n",
       "деревня Большая                                         5\n",
       "поселок Старая                                          4\n",
       "поселок Красная                                         3\n",
       "садовое товарищество                                    3\n",
       "поселок Лисий                                           3\n",
       "поселок Пансионат Зеленый                               2\n",
       "поселок при железнодорожной станции                     2\n",
       "село Старая                                             2\n",
       "деревня Старые                                          2\n",
       "деревня Старая                                          2\n",
       "коттеджный поселок                                      2\n",
       "коттеджный поселок Кивеннапа                            1\n",
       "деревня Вахнова                                         1\n",
       "деревня Большое                                         1\n",
       "садовое товарищество Новая                              1\n",
       "деревня Большой                                         1\n",
       "садоводческое некоммерческое товарищество Лесная        1\n",
       "деревня Борисова                                        1\n",
       "деревня Нижние                                          1\n",
       "деревня Малая                                           1\n",
       "поселок городского типа Большая                         1\n",
       "деревня Старое                                          1\n",
       "поселок Форт Красная                                    1\n",
       "поселок Платформа 69-й                                  1\n",
       "деревня Трубников                                       1\n",
       "деревня Чудской                                         1\n",
       "dtype: int64"
      ]
     },
     "execution_count": 42,
     "metadata": {},
     "output_type": "execute_result"
    }
   ],
   "source": [
    "# теперь посмотри какие есть приставки\n",
    "data.locality_name_clear.str.extract(r'(^.* )').value_counts()\n"
   ]
  },
  {
   "cell_type": "markdown",
   "metadata": {},
   "source": [
    "Удалим самое распространенное и попробуем ещё раз"
   ]
  },
  {
   "cell_type": "code",
   "execution_count": 43,
   "metadata": {},
   "outputs": [
    {
     "data": {
      "text/plain": [
       "Красное                                              174\n",
       "Новое                                                142\n",
       "Сосновый                                              86\n",
       "имени                                                 53\n",
       "Новый                                                 28\n",
       "Большая                                               22\n",
       "Малое                                                 20\n",
       "Лодейное                                              20\n",
       "Большие                                               16\n",
       "Новая                                                 14\n",
       "станции                                               13\n",
       "Старая                                                 8\n",
       "Красный                                                8\n",
       "Малые                                                  7\n",
       "Дружная                                                5\n",
       "садовое товарищество                                   3\n",
       "Лисий                                                  3\n",
       "Красная                                                3\n",
       "Пансионат Зеленый                                      2\n",
       "при железнодорожной станции                            2\n",
       "Старые                                                 2\n",
       "Малая                                                  1\n",
       "Форт Красная                                           1\n",
       "садовое товарищество Новая                             1\n",
       "садоводческое некоммерческое товарищество Лесная       1\n",
       "Большое                                                1\n",
       "Чудской                                                1\n",
       "Старое                                                 1\n",
       "Трубников                                              1\n",
       "Кивеннапа                                              1\n",
       "Платформа 69-й                                         1\n",
       "Борисова                                               1\n",
       "Вахнова                                                1\n",
       "Нижние                                                 1\n",
       "Большой                                                1\n",
       "dtype: int64"
      ]
     },
     "execution_count": 43,
     "metadata": {},
     "output_type": "execute_result"
    }
   ],
   "source": [
    "data['locality_name_clear'] = data['locality_name_clear'].str.replace('поселок городского типа ', '')\n",
    "data['locality_name_clear'] = data['locality_name_clear'].str.replace('городской поселок ', '')\n",
    "data['locality_name_clear'] = data['locality_name_clear'].str.replace('коттеджный поселок ', '')\n",
    "data['locality_name_clear'] = data['locality_name_clear'].str.replace('поселок ', '')\n",
    "data['locality_name_clear'] = data['locality_name_clear'].str.replace('деревня ', '')\n",
    "data['locality_name_clear'] = data['locality_name_clear'].str.replace('село ', '')\n",
    "\n",
    "data.locality_name_clear.str.extract(r'(^.* )').value_counts()"
   ]
  },
  {
   "cell_type": "markdown",
   "metadata": {},
   "source": [
    "Основные населенные пункты нормализовали, остались единичные случаи, обрабатывать их не будем"
   ]
  },
  {
   "cell_type": "markdown",
   "metadata": {},
   "source": [
    "#### Срок размещения объявления\n",
    "Как обычно, начнем с анализа содержимого"
   ]
  },
  {
   "cell_type": "code",
   "execution_count": 44,
   "metadata": {},
   "outputs": [
    {
     "name": "stdout",
     "output_type": "stream",
     "text": [
      "2493\n",
      "count    18393.000000\n",
      "mean       170.844397\n",
      "std        208.265516\n",
      "min          1.000000\n",
      "25%         43.000000\n",
      "50%         91.000000\n",
      "75%        217.000000\n",
      "max       1580.000000\n",
      "Name: days_exposition, dtype: float64\n"
     ]
    }
   ],
   "source": [
    "print(data['days_exposition'].isna().sum())\n",
    "print(data['days_exposition'].describe())"
   ]
  },
  {
   "cell_type": "markdown",
   "metadata": {},
   "source": [
    "3000 объявлений это ~15% от общего числа, достаточно большой процент, чтобы просто так с ними расстаться. Какие могут быть варианты? Нет возможности узнать, была ли продана квартира, поэтому нельзя отличить продали квартиру в тот же день или просто ошиблись в объявлении и сняли его с публикации. Давайте посмотрим, сколько квартир продалось за 1 день."
   ]
  },
  {
   "cell_type": "code",
   "execution_count": 45,
   "metadata": {},
   "outputs": [
    {
     "name": "stdout",
     "output_type": "stream",
     "text": [
      "1\n"
     ]
    }
   ],
   "source": [
    "print(data[data['days_exposition'] == 1]['days_exposition'].count())"
   ]
  },
  {
   "cell_type": "markdown",
   "metadata": {},
   "source": [
    "Всего одна квартира! Делаю вывод, что объявления с незаполненным сроком экспозиции ошибочные и без сожаления их удалим"
   ]
  },
  {
   "cell_type": "code",
   "execution_count": 46,
   "metadata": {},
   "outputs": [],
   "source": [
    "data = data[data['days_exposition'] > 0]"
   ]
  },
  {
   "cell_type": "markdown",
   "metadata": {},
   "source": [
    "#### Дата публикации объявления\n",
    "Для последующего анализа преобразуем дату из строки в datetime"
   ]
  },
  {
   "cell_type": "code",
   "execution_count": 47,
   "metadata": {},
   "outputs": [],
   "source": [
    "data['first_day_exposition'] = pd.to_datetime(data['first_day_exposition'], format='%Y-%m-%dT%H:%M:%S', errors='coerce')"
   ]
  },
  {
   "cell_type": "markdown",
   "metadata": {},
   "source": [
    "#### Картографические данные\n",
    "Я бы попросил сотрудников отдела яндекс.карты дополнить данные, но сейчас у меня такой возможности нет, поэтому просто оставим пропуски как есть. При анализе картографических данных будем в моменте исключать пустые значения."
   ]
  },
  {
   "cell_type": "markdown",
   "metadata": {},
   "source": [
    "#### ЗАКЛЮЧЕНИЕ\n",
    "1. Объявления без указания этажности дома, я оставил. Если потребуется анализ этого параметра, исключим перед анализом\n",
    "2. Высоту потолков заполнили медианным значением по этажности дома.\n",
    "3. Жилую и кухонную площади заполнили в медианной попрорции к общей площади по данным квартир с таким же количеством комнат.\n",
    "4. Признак апартаментов установили в ложь везде, где не был заполнен.\n",
    "5. Количество балконов указали в 0, везде где не было заполнено.\n",
    "6. Наименование населенного пункта нормализовали: удалили лишнее, заменили ё на е\n",
    "7. Объявления с незаполненным сроком экспозиции удалили.\n",
    "8. Дату публикации преобразовали в datetime64\n",
    "9. Картографические данные оставили без изменений"
   ]
  },
  {
   "cell_type": "code",
   "execution_count": 48,
   "metadata": {},
   "outputs": [
    {
     "name": "stdout",
     "output_type": "stream",
     "text": [
      "<class 'pandas.core.frame.DataFrame'>\n",
      "Int64Index: 18393 entries, 1 to 23695\n",
      "Data columns (total 23 columns):\n",
      " #   Column                Non-Null Count  Dtype         \n",
      "---  ------                --------------  -----         \n",
      " 0   total_images          18393 non-null  int64         \n",
      " 1   last_price            18393 non-null  float64       \n",
      " 2   total_area            18393 non-null  float64       \n",
      " 3   first_day_exposition  18393 non-null  datetime64[ns]\n",
      " 4   rooms                 18393 non-null  int64         \n",
      " 5   ceiling_height        18393 non-null  float64       \n",
      " 6   floors_total          18389 non-null  float64       \n",
      " 7   living_area           18393 non-null  float64       \n",
      " 8   floor                 18393 non-null  int64         \n",
      " 9   is_apartment          18393 non-null  bool          \n",
      " 10  studio                18393 non-null  bool          \n",
      " 11  open_plan             18393 non-null  bool          \n",
      " 12  kitchen_area          18393 non-null  float64       \n",
      " 13  balcony               18393 non-null  int8          \n",
      " 14  locality_name         18354 non-null  object        \n",
      " 15  airports_nearest      13756 non-null  float64       \n",
      " 16  cityCenters_nearest   13768 non-null  float64       \n",
      " 17  parks_around3000      13768 non-null  float64       \n",
      " 18  parks_nearest         5604 non-null   float64       \n",
      " 19  ponds_around3000      13768 non-null  float64       \n",
      " 20  ponds_nearest         6510 non-null   float64       \n",
      " 21  days_exposition       18393 non-null  float64       \n",
      " 22  locality_name_clear   18354 non-null  object        \n",
      "dtypes: bool(3), datetime64[ns](1), float64(13), int64(3), int8(1), object(2)\n",
      "memory usage: 2.9+ MB\n"
     ]
    }
   ],
   "source": [
    "data.info()"
   ]
  },
  {
   "cell_type": "markdown",
   "metadata": {},
   "source": [
    "Из 23699 объявлений осталось 20437, потери данных невелики."
   ]
  },
  {
   "cell_type": "markdown",
   "metadata": {},
   "source": [
    "### Посчитайте и добавьте в таблицу новые столбцы"
   ]
  },
  {
   "cell_type": "code",
   "execution_count": 49,
   "metadata": {},
   "outputs": [],
   "source": [
    "# Цена одного квадратного метра\n",
    "data['price_of_sqm'] = data['last_price'] / data['total_area']\n",
    "# день недели публикации объявления\n",
    "data['exposition_dow'] = data['first_day_exposition'].dt.day_of_week\n",
    "# месяц публикации объявления\n",
    "data['exposition_month'] = data['first_day_exposition'].dt.month\n",
    "# год публикации объявления\n",
    "data['exposition_year'] = data['first_day_exposition'].dt.year"
   ]
  },
  {
   "cell_type": "code",
   "execution_count": 50,
   "metadata": {},
   "outputs": [],
   "source": [
    "# тип этажа квартиры (значения — «первый», «последний», «другой»);\n",
    "def floor_type(floor, floors_total):\n",
    "    if floor == 1:\n",
    "        return 'первый'\n",
    "    elif floor == floors_total:\n",
    "        return 'последний'\n",
    "    else:\n",
    "        return 'другой'\n",
    "\n",
    "data['floor_type'] = data.apply(lambda x: floor_type(x['floor'], x['floors_total']), axis=1)    "
   ]
  },
  {
   "cell_type": "code",
   "execution_count": 51,
   "metadata": {},
   "outputs": [],
   "source": [
    "# расстояние до центра города в километрах\n",
    "data['cityCenters_nearest_km'] = round(data['cityCenters_nearest'] / 1000)\n"
   ]
  },
  {
   "cell_type": "code",
   "execution_count": 52,
   "metadata": {},
   "outputs": [
    {
     "data": {
      "text/html": [
       "<div>\n",
       "<style scoped>\n",
       "    .dataframe tbody tr th:only-of-type {\n",
       "        vertical-align: middle;\n",
       "    }\n",
       "\n",
       "    .dataframe tbody tr th {\n",
       "        vertical-align: top;\n",
       "    }\n",
       "\n",
       "    .dataframe thead th {\n",
       "        text-align: right;\n",
       "    }\n",
       "</style>\n",
       "<table border=\"1\" class=\"dataframe\">\n",
       "  <thead>\n",
       "    <tr style=\"text-align: right;\">\n",
       "      <th></th>\n",
       "      <th>total_images</th>\n",
       "      <th>last_price</th>\n",
       "      <th>total_area</th>\n",
       "      <th>first_day_exposition</th>\n",
       "      <th>rooms</th>\n",
       "      <th>ceiling_height</th>\n",
       "      <th>floors_total</th>\n",
       "      <th>living_area</th>\n",
       "      <th>floor</th>\n",
       "      <th>is_apartment</th>\n",
       "      <th>studio</th>\n",
       "      <th>open_plan</th>\n",
       "      <th>kitchen_area</th>\n",
       "      <th>balcony</th>\n",
       "      <th>locality_name</th>\n",
       "      <th>airports_nearest</th>\n",
       "      <th>cityCenters_nearest</th>\n",
       "      <th>parks_around3000</th>\n",
       "      <th>parks_nearest</th>\n",
       "      <th>ponds_around3000</th>\n",
       "      <th>ponds_nearest</th>\n",
       "      <th>days_exposition</th>\n",
       "      <th>locality_name_clear</th>\n",
       "      <th>price_of_sqm</th>\n",
       "      <th>exposition_dow</th>\n",
       "      <th>exposition_month</th>\n",
       "      <th>exposition_year</th>\n",
       "      <th>floor_type</th>\n",
       "      <th>cityCenters_nearest_km</th>\n",
       "    </tr>\n",
       "  </thead>\n",
       "  <tbody>\n",
       "    <tr>\n",
       "      <th>1</th>\n",
       "      <td>7</td>\n",
       "      <td>3350000.0</td>\n",
       "      <td>40.4</td>\n",
       "      <td>2018-12-04</td>\n",
       "      <td>1</td>\n",
       "      <td>2.73</td>\n",
       "      <td>11.0</td>\n",
       "      <td>18.6</td>\n",
       "      <td>1</td>\n",
       "      <td>False</td>\n",
       "      <td>False</td>\n",
       "      <td>False</td>\n",
       "      <td>11.0</td>\n",
       "      <td>2</td>\n",
       "      <td>посёлок Шушары</td>\n",
       "      <td>12817.0</td>\n",
       "      <td>18603.0</td>\n",
       "      <td>0.0</td>\n",
       "      <td>NaN</td>\n",
       "      <td>0.0</td>\n",
       "      <td>NaN</td>\n",
       "      <td>81.0</td>\n",
       "      <td>Шушары</td>\n",
       "      <td>82920.792079</td>\n",
       "      <td>1</td>\n",
       "      <td>12</td>\n",
       "      <td>2018</td>\n",
       "      <td>первый</td>\n",
       "      <td>19.0</td>\n",
       "    </tr>\n",
       "    <tr>\n",
       "      <th>2</th>\n",
       "      <td>10</td>\n",
       "      <td>5196000.0</td>\n",
       "      <td>56.0</td>\n",
       "      <td>2015-08-20</td>\n",
       "      <td>2</td>\n",
       "      <td>2.55</td>\n",
       "      <td>5.0</td>\n",
       "      <td>34.3</td>\n",
       "      <td>4</td>\n",
       "      <td>False</td>\n",
       "      <td>False</td>\n",
       "      <td>False</td>\n",
       "      <td>8.3</td>\n",
       "      <td>0</td>\n",
       "      <td>Санкт-Петербург</td>\n",
       "      <td>21741.0</td>\n",
       "      <td>13933.0</td>\n",
       "      <td>1.0</td>\n",
       "      <td>90.0</td>\n",
       "      <td>2.0</td>\n",
       "      <td>574.0</td>\n",
       "      <td>558.0</td>\n",
       "      <td>Санкт-Петербург</td>\n",
       "      <td>92785.714286</td>\n",
       "      <td>3</td>\n",
       "      <td>8</td>\n",
       "      <td>2015</td>\n",
       "      <td>другой</td>\n",
       "      <td>14.0</td>\n",
       "    </tr>\n",
       "    <tr>\n",
       "      <th>4</th>\n",
       "      <td>2</td>\n",
       "      <td>10000000.0</td>\n",
       "      <td>100.0</td>\n",
       "      <td>2018-06-19</td>\n",
       "      <td>2</td>\n",
       "      <td>3.03</td>\n",
       "      <td>14.0</td>\n",
       "      <td>32.0</td>\n",
       "      <td>13</td>\n",
       "      <td>False</td>\n",
       "      <td>False</td>\n",
       "      <td>False</td>\n",
       "      <td>41.0</td>\n",
       "      <td>0</td>\n",
       "      <td>Санкт-Петербург</td>\n",
       "      <td>31856.0</td>\n",
       "      <td>8098.0</td>\n",
       "      <td>2.0</td>\n",
       "      <td>112.0</td>\n",
       "      <td>1.0</td>\n",
       "      <td>48.0</td>\n",
       "      <td>121.0</td>\n",
       "      <td>Санкт-Петербург</td>\n",
       "      <td>100000.000000</td>\n",
       "      <td>1</td>\n",
       "      <td>6</td>\n",
       "      <td>2018</td>\n",
       "      <td>другой</td>\n",
       "      <td>8.0</td>\n",
       "    </tr>\n",
       "    <tr>\n",
       "      <th>5</th>\n",
       "      <td>10</td>\n",
       "      <td>2890000.0</td>\n",
       "      <td>30.4</td>\n",
       "      <td>2018-09-10</td>\n",
       "      <td>1</td>\n",
       "      <td>2.65</td>\n",
       "      <td>12.0</td>\n",
       "      <td>14.4</td>\n",
       "      <td>5</td>\n",
       "      <td>False</td>\n",
       "      <td>False</td>\n",
       "      <td>False</td>\n",
       "      <td>9.1</td>\n",
       "      <td>0</td>\n",
       "      <td>городской посёлок Янино-1</td>\n",
       "      <td>NaN</td>\n",
       "      <td>NaN</td>\n",
       "      <td>NaN</td>\n",
       "      <td>NaN</td>\n",
       "      <td>NaN</td>\n",
       "      <td>NaN</td>\n",
       "      <td>55.0</td>\n",
       "      <td>Янино-1</td>\n",
       "      <td>95065.789474</td>\n",
       "      <td>0</td>\n",
       "      <td>9</td>\n",
       "      <td>2018</td>\n",
       "      <td>другой</td>\n",
       "      <td>NaN</td>\n",
       "    </tr>\n",
       "    <tr>\n",
       "      <th>6</th>\n",
       "      <td>6</td>\n",
       "      <td>3700000.0</td>\n",
       "      <td>37.3</td>\n",
       "      <td>2017-11-02</td>\n",
       "      <td>1</td>\n",
       "      <td>2.65</td>\n",
       "      <td>26.0</td>\n",
       "      <td>10.6</td>\n",
       "      <td>6</td>\n",
       "      <td>False</td>\n",
       "      <td>False</td>\n",
       "      <td>False</td>\n",
       "      <td>14.4</td>\n",
       "      <td>1</td>\n",
       "      <td>посёлок Парголово</td>\n",
       "      <td>52996.0</td>\n",
       "      <td>19143.0</td>\n",
       "      <td>0.0</td>\n",
       "      <td>NaN</td>\n",
       "      <td>0.0</td>\n",
       "      <td>NaN</td>\n",
       "      <td>155.0</td>\n",
       "      <td>Парголово</td>\n",
       "      <td>99195.710456</td>\n",
       "      <td>3</td>\n",
       "      <td>11</td>\n",
       "      <td>2017</td>\n",
       "      <td>другой</td>\n",
       "      <td>19.0</td>\n",
       "    </tr>\n",
       "  </tbody>\n",
       "</table>\n",
       "</div>"
      ],
      "text/plain": [
       "   total_images  last_price  total_area first_day_exposition  rooms  \\\n",
       "1             7   3350000.0        40.4           2018-12-04      1   \n",
       "2            10   5196000.0        56.0           2015-08-20      2   \n",
       "4             2  10000000.0       100.0           2018-06-19      2   \n",
       "5            10   2890000.0        30.4           2018-09-10      1   \n",
       "6             6   3700000.0        37.3           2017-11-02      1   \n",
       "\n",
       "   ceiling_height  floors_total  living_area  floor  is_apartment  studio  \\\n",
       "1            2.73          11.0         18.6      1         False   False   \n",
       "2            2.55           5.0         34.3      4         False   False   \n",
       "4            3.03          14.0         32.0     13         False   False   \n",
       "5            2.65          12.0         14.4      5         False   False   \n",
       "6            2.65          26.0         10.6      6         False   False   \n",
       "\n",
       "   open_plan  kitchen_area  balcony              locality_name  \\\n",
       "1      False          11.0        2             посёлок Шушары   \n",
       "2      False           8.3        0            Санкт-Петербург   \n",
       "4      False          41.0        0            Санкт-Петербург   \n",
       "5      False           9.1        0  городской посёлок Янино-1   \n",
       "6      False          14.4        1          посёлок Парголово   \n",
       "\n",
       "   airports_nearest  cityCenters_nearest  parks_around3000  parks_nearest  \\\n",
       "1           12817.0              18603.0               0.0            NaN   \n",
       "2           21741.0              13933.0               1.0           90.0   \n",
       "4           31856.0               8098.0               2.0          112.0   \n",
       "5               NaN                  NaN               NaN            NaN   \n",
       "6           52996.0              19143.0               0.0            NaN   \n",
       "\n",
       "   ponds_around3000  ponds_nearest  days_exposition locality_name_clear  \\\n",
       "1               0.0            NaN             81.0              Шушары   \n",
       "2               2.0          574.0            558.0     Санкт-Петербург   \n",
       "4               1.0           48.0            121.0     Санкт-Петербург   \n",
       "5               NaN            NaN             55.0             Янино-1   \n",
       "6               0.0            NaN            155.0           Парголово   \n",
       "\n",
       "    price_of_sqm  exposition_dow  exposition_month  exposition_year  \\\n",
       "1   82920.792079               1                12             2018   \n",
       "2   92785.714286               3                 8             2015   \n",
       "4  100000.000000               1                 6             2018   \n",
       "5   95065.789474               0                 9             2018   \n",
       "6   99195.710456               3                11             2017   \n",
       "\n",
       "  floor_type  cityCenters_nearest_km  \n",
       "1     первый                    19.0  \n",
       "2     другой                    14.0  \n",
       "4     другой                     8.0  \n",
       "5     другой                     NaN  \n",
       "6     другой                    19.0  "
      ]
     },
     "execution_count": 52,
     "metadata": {},
     "output_type": "execute_result"
    }
   ],
   "source": [
    "data.head()"
   ]
  },
  {
   "cell_type": "markdown",
   "metadata": {},
   "source": [
    "### Проведите исследовательский анализ данных"
   ]
  },
  {
   "cell_type": "markdown",
   "metadata": {},
   "source": [
    "#### Общая площадь"
   ]
  },
  {
   "cell_type": "code",
   "execution_count": 53,
   "metadata": {},
   "outputs": [
    {
     "data": {
      "text/plain": [
       "count    18393.000000\n",
       "mean        51.614004\n",
       "std         17.458483\n",
       "min         12.000000\n",
       "25%         38.130000\n",
       "50%         47.500000\n",
       "75%         61.760000\n",
       "max        147.800000\n",
       "Name: total_area, dtype: float64"
      ]
     },
     "execution_count": 53,
     "metadata": {},
     "output_type": "execute_result"
    }
   ],
   "source": [
    "\n",
    "data['total_area'].describe()"
   ]
  },
  {
   "cell_type": "code",
   "execution_count": 54,
   "metadata": {},
   "outputs": [
    {
     "name": "stdout",
     "output_type": "stream",
     "text": [
      "Межквартильное расстояние: 28.25\n",
      "В рамки среднестатистического распределения попадает 18282 объявлений\n"
     ]
    },
    {
     "data": {
      "text/plain": [
       "<AxesSubplot:>"
      ]
     },
     "execution_count": 54,
     "metadata": {},
     "output_type": "execute_result"
    },
    {
     "data": {
      "image/png": "[encoded data removed]",
      "text/plain": [
       "<Figure size 432x288 with 1 Axes>"
      ]
     },
     "metadata": {
      "needs_background": "light"
     },
     "output_type": "display_data"
    }
   ],
   "source": [
    "iqr = 67.8-39.55\n",
    "q_min = 12 #минимум меньше чем нижняя граница статистически значимой выборки\n",
    "q_max = 67.8 + iqr*1.5 #200 #взял с запасом верхнюю границу\n",
    "qty = data.query('total_area > @q_min and total_area < @q_max')['total_area'].count()\n",
    "print(f'Межквартильное расстояние: {iqr}')\n",
    "print(f'В рамки среднестатистического распределения попадает {qty} объявлений')\n",
    "data['total_area'].hist(range=(q_min, q_max), bins=50)"
   ]
  },
  {
   "cell_type": "markdown",
   "metadata": {},
   "source": [
    "Пик площадей продаваемых квартир находится в границе 40-50 квадратных метров"
   ]
  },
  {
   "cell_type": "markdown",
   "metadata": {},
   "source": [
    "#### Жилая площадь"
   ]
  },
  {
   "cell_type": "code",
   "execution_count": 55,
   "metadata": {},
   "outputs": [
    {
     "data": {
      "text/plain": [
       "<AxesSubplot:>"
      ]
     },
     "execution_count": 55,
     "metadata": {},
     "output_type": "execute_result"
    },
    {
     "data": {
      "image/png": "[encoded data removed]",
      "text/plain": [
       "<Figure size 432x288 with 1 Axes>"
      ]
     },
     "metadata": {
      "needs_background": "light"
     },
     "output_type": "display_data"
    }
   ],
   "source": [
    "data['living_area'].hist(range=(q_min,80), bins=100)"
   ]
  },
  {
   "cell_type": "markdown",
   "metadata": {},
   "source": [
    "Пик наблюдаем с 15 до 20, второй с 27 до 32, я думаю это соответствует метражу однокомнатных и двухкомнатных квартир соответственно. "
   ]
  },
  {
   "cell_type": "markdown",
   "metadata": {},
   "source": [
    "#### Площадь кухни"
   ]
  },
  {
   "cell_type": "code",
   "execution_count": 56,
   "metadata": {},
   "outputs": [
    {
     "data": {
      "text/plain": [
       "<AxesSubplot:>"
      ]
     },
     "execution_count": 56,
     "metadata": {},
     "output_type": "execute_result"
    },
    {
     "data": {
      "image/png": "[encoded data removed]",
      "text/plain": [
       "<Figure size 432x288 with 1 Axes>"
      ]
     },
     "metadata": {
      "needs_background": "light"
     },
     "output_type": "display_data"
    }
   ],
   "source": [
    "data['kitchen_area'].hist(range=(q_min,30), bins=100)"
   ]
  },
  {
   "cell_type": "markdown",
   "metadata": {},
   "source": [
    "Ожидаемо, предложений с маленькими кухнями больше всего. Пики на графике отражают квартиры типовой планировки."
   ]
  },
  {
   "cell_type": "markdown",
   "metadata": {},
   "source": [
    "#### Цена объекта"
   ]
  },
  {
   "cell_type": "code",
   "execution_count": 57,
   "metadata": {},
   "outputs": [
    {
     "name": "stdout",
     "output_type": "stream",
     "text": [
      "count    1.839300e+04\n",
      "mean     4.599748e+06\n",
      "std      1.922684e+06\n",
      "min      1.219000e+04\n",
      "25%      3.290000e+06\n",
      "50%      4.290000e+06\n",
      "75%      5.700000e+06\n",
      "max      1.000000e+07\n",
      "Name: last_price, dtype: float64\n"
     ]
    }
   ],
   "source": [
    "print(data['last_price'].describe())"
   ]
  },
  {
   "cell_type": "code",
   "execution_count": 58,
   "metadata": {},
   "outputs": [
    {
     "data": {
      "text/plain": [
       "<AxesSubplot:>"
      ]
     },
     "execution_count": 58,
     "metadata": {},
     "output_type": "execute_result"
    },
    {
     "data": {
      "image/png": "[encoded data removed]",
      "text/plain": [
       "<Figure size 432x288 with 1 Axes>"
      ]
     },
     "metadata": {
      "needs_background": "light"
     },
     "output_type": "display_data"
    }
   ],
   "source": [
    "iqr = 6500000 - 3400000\n",
    "q_min = 3400000 - iqr * 1.5\n",
    "q_max = 6500000 + iqr * 1.5\n",
    "data['last_price'].hist(range=(q_min,q_max), bins=50)"
   ]
  },
  {
   "cell_type": "markdown",
   "metadata": {},
   "source": [
    "Большинство квартир стоят от 2 до 6 миллионов рублей."
   ]
  },
  {
   "cell_type": "markdown",
   "metadata": {},
   "source": [
    "#### Количество комнат\n"
   ]
  },
  {
   "cell_type": "code",
   "execution_count": 59,
   "metadata": {},
   "outputs": [
    {
     "data": {
      "text/plain": [
       "<AxesSubplot:xlabel='rooms'>"
      ]
     },
     "execution_count": 59,
     "metadata": {},
     "output_type": "execute_result"
    },
    {
     "data": {
      "image/png": "[encoded data removed]",
      "text/plain": [
       "<Figure size 432x288 with 1 Axes>"
      ]
     },
     "metadata": {
      "needs_background": "light"
     },
     "output_type": "display_data"
    }
   ],
   "source": [
    "room_data = data.pivot_table(index=\"rooms\", values='last_price', aggfunc=\"count\")\n",
    "room_data.plot.bar()"
   ]
  },
  {
   "cell_type": "markdown",
   "metadata": {},
   "source": [
    "Однушек больше всего, двушек чуть меньше, трешек ещё меньше, а 4-5 комнатные скорее исключение"
   ]
  },
  {
   "cell_type": "markdown",
   "metadata": {},
   "source": [
    "#### Высота потолков"
   ]
  },
  {
   "cell_type": "code",
   "execution_count": 60,
   "metadata": {},
   "outputs": [
    {
     "data": {
      "text/plain": [
       "<AxesSubplot:>"
      ]
     },
     "execution_count": 60,
     "metadata": {},
     "output_type": "execute_result"
    },
    {
     "data": {
      "image/png": "[encoded data removed]",
      "text/plain": [
       "<Figure size 432x288 with 1 Axes>"
      ]
     },
     "metadata": {
      "needs_background": "light"
     },
     "output_type": "display_data"
    }
   ],
   "source": [
    "data['ceiling_height'].hist(range=(2.2, 4), bins=40)"
   ]
  },
  {
   "cell_type": "code",
   "execution_count": 61,
   "metadata": {},
   "outputs": [
    {
     "data": {
      "text/plain": [
       "2.55    3760\n",
       "2.70    3280\n",
       "2.50    2862\n",
       "2.60    1913\n",
       "2.75    1588\n",
       "        ... \n",
       "4.15       1\n",
       "3.78       1\n",
       "3.37       1\n",
       "3.42       1\n",
       "3.46       1\n",
       "Name: ceiling_height, Length: 148, dtype: int64"
      ]
     },
     "execution_count": 61,
     "metadata": {},
     "output_type": "execute_result"
    }
   ],
   "source": [
    "data['ceiling_height'].value_counts()"
   ]
  },
  {
   "cell_type": "markdown",
   "metadata": {},
   "source": [
    "Пики на 2.50-2.55 и 2.70-2.75 - высота типовых квартир"
   ]
  },
  {
   "cell_type": "markdown",
   "metadata": {},
   "source": [
    "#### Этажи"
   ]
  },
  {
   "cell_type": "code",
   "execution_count": 62,
   "metadata": {},
   "outputs": [
    {
     "data": {
      "text/plain": [
       "<AxesSubplot:>"
      ]
     },
     "execution_count": 62,
     "metadata": {},
     "output_type": "execute_result"
    },
    {
     "data": {
      "image/png": "[encoded data removed]",
      "text/plain": [
       "<Figure size 432x288 with 1 Axes>"
      ]
     },
     "metadata": {
      "needs_background": "light"
     },
     "output_type": "display_data"
    }
   ],
   "source": [
    "\n",
    "ax = data['floors_total'].hist(range=(1,40), bins=40, alpha=0.7)\n",
    "data['floor'].hist(range=(1,40), bins=40, ax=ax, alpha=0.7)"
   ]
  },
  {
   "cell_type": "code",
   "execution_count": 63,
   "metadata": {},
   "outputs": [
    {
     "data": {
      "text/plain": [
       "<AxesSubplot:ylabel='floor_type'>"
      ]
     },
     "execution_count": 63,
     "metadata": {},
     "output_type": "execute_result"
    },
    {
     "data": {
      "image/png": "[encoded data removed]",
      "text/plain": [
       "<Figure size 432x288 with 1 Axes>"
      ]
     },
     "metadata": {},
     "output_type": "display_data"
    }
   ],
   "source": [
    "floor_type = data.groupby('floor_type')['floor_type'].count()\n",
    "floor_type.plot.pie()"
   ]
  },
  {
   "cell_type": "markdown",
   "metadata": {},
   "source": [
    "Больше всего пятиэтажек и девятиэтажек, соответственно самые частый этажи до 5 и до 9. Примерно 8 часть предложений приходится на первый и на последние этаже."
   ]
  },
  {
   "cell_type": "markdown",
   "metadata": {},
   "source": [
    "#### Расстояние до ближайших объектов"
   ]
  },
  {
   "cell_type": "code",
   "execution_count": 64,
   "metadata": {},
   "outputs": [
    {
     "data": {
      "text/plain": [
       "count    13768.000000\n",
       "mean     15179.382554\n",
       "std       8486.197070\n",
       "min        208.000000\n",
       "25%      10858.750000\n",
       "50%      13754.500000\n",
       "75%      16802.000000\n",
       "max      65968.000000\n",
       "Name: cityCenters_nearest, dtype: float64"
      ]
     },
     "execution_count": 64,
     "metadata": {},
     "output_type": "execute_result"
    }
   ],
   "source": [
    "data['cityCenters_nearest'].describe()"
   ]
  },
  {
   "cell_type": "code",
   "execution_count": 65,
   "metadata": {},
   "outputs": [
    {
     "data": {
      "text/plain": [
       "<AxesSubplot:>"
      ]
     },
     "execution_count": 65,
     "metadata": {},
     "output_type": "execute_result"
    },
    {
     "data": {
      "image/png": "[encoded data removed]",
      "text/plain": [
       "<Figure size 432x288 with 1 Axes>"
      ]
     },
     "metadata": {
      "needs_background": "light"
     },
     "output_type": "display_data"
    }
   ],
   "source": [
    "data['cityCenters_nearest'].hist(range=(208,30000), bins=100)"
   ]
  },
  {
   "cell_type": "code",
   "execution_count": 66,
   "metadata": {},
   "outputs": [
    {
     "data": {
      "text/plain": [
       "<AxesSubplot:>"
      ]
     },
     "execution_count": 66,
     "metadata": {},
     "output_type": "execute_result"
    },
    {
     "data": {
      "image/png": "[encoded data removed]",
      "text/plain": [
       "<Figure size 432x288 with 1 Axes>"
      ]
     },
     "metadata": {
      "needs_background": "light"
     },
     "output_type": "display_data"
    }
   ],
   "source": [
    "data['airports_nearest'].hist(range=(0,80000), bins=100)"
   ]
  },
  {
   "cell_type": "code",
   "execution_count": 67,
   "metadata": {},
   "outputs": [
    {
     "data": {
      "text/plain": [
       "<AxesSubplot:>"
      ]
     },
     "execution_count": 67,
     "metadata": {},
     "output_type": "execute_result"
    },
    {
     "data": {
      "image/png": "[encoded data removed]",
      "text/plain": [
       "<Figure size 432x288 with 1 Axes>"
      ]
     },
     "metadata": {
      "needs_background": "light"
     },
     "output_type": "display_data"
    }
   ],
   "source": [
    "data['parks_nearest'].hist(range=(0,1000), bins=100)"
   ]
  },
  {
   "cell_type": "markdown",
   "metadata": {},
   "source": [
    "В большинстве центр город находится в на расстоянии от 11 до 17 км, аэропорт от 10 до 55 км, а до парка от 300до 550 метров."
   ]
  },
  {
   "cell_type": "markdown",
   "metadata": {},
   "source": [
    "#### Дата публикации"
   ]
  },
  {
   "cell_type": "code",
   "execution_count": 68,
   "metadata": {},
   "outputs": [
    {
     "data": {
      "text/plain": [
       "<AxesSubplot:xlabel='exposition_dow'>"
      ]
     },
     "execution_count": 68,
     "metadata": {},
     "output_type": "execute_result"
    },
    {
     "data": {
      "image/png": "[encoded data removed]",
      "text/plain": [
       "<Figure size 432x288 with 1 Axes>"
      ]
     },
     "metadata": {
      "needs_background": "light"
     },
     "output_type": "display_data"
    }
   ],
   "source": [
    "data_dow = data.groupby('exposition_dow')['exposition_dow'].count()\n",
    "data_dow.plot.bar()"
   ]
  },
  {
   "cell_type": "code",
   "execution_count": 69,
   "metadata": {},
   "outputs": [
    {
     "data": {
      "text/plain": [
       "<AxesSubplot:xlabel='exposition_month'>"
      ]
     },
     "execution_count": 69,
     "metadata": {},
     "output_type": "execute_result"
    },
    {
     "data": {
      "image/png": "[encoded data removed]",
      "text/plain": [
       "<Figure size 432x288 with 1 Axes>"
      ]
     },
     "metadata": {
      "needs_background": "light"
     },
     "output_type": "display_data"
    }
   ],
   "source": [
    "data_dow = data.groupby('exposition_month')['exposition_dow'].count()\n",
    "data_dow.plot.bar()"
   ]
  },
  {
   "cell_type": "markdown",
   "metadata": {},
   "source": [
    "Чаще всего объявления публикуют в рабочие дни, предположу что это связано с тем, что большая часть публикуется сотрудниками риэлторских организаций, которые работают по графику 5/2\n",
    "По месяцам можно наблюдать некоторую \"сезонность\" с пиками в феврале и в ноябре."
   ]
  },
  {
   "cell_type": "markdown",
   "metadata": {},
   "source": [
    "#### Срок продажи"
   ]
  },
  {
   "cell_type": "code",
   "execution_count": 70,
   "metadata": {},
   "outputs": [
    {
     "data": {
      "text/plain": [
       "count    18393.000000\n",
       "mean       170.844397\n",
       "std        208.265516\n",
       "min          1.000000\n",
       "25%         43.000000\n",
       "50%         91.000000\n",
       "75%        217.000000\n",
       "max       1580.000000\n",
       "Name: days_exposition, dtype: float64"
      ]
     },
     "execution_count": 70,
     "metadata": {},
     "output_type": "execute_result"
    }
   ],
   "source": [
    "data['days_exposition'].describe()"
   ]
  },
  {
   "cell_type": "code",
   "execution_count": 71,
   "metadata": {},
   "outputs": [
    {
     "data": {
      "text/plain": [
       "<AxesSubplot:>"
      ]
     },
     "execution_count": 71,
     "metadata": {},
     "output_type": "execute_result"
    },
    {
     "data": {
      "image/png": "[encoded data removed]",
      "text/plain": [
       "<Figure size 432x288 with 1 Axes>"
      ]
     },
     "metadata": {
      "needs_background": "light"
     },
     "output_type": "display_data"
    }
   ],
   "source": [
    "data['days_exposition'].hist(range=(1,180), bins=180)"
   ]
  },
  {
   "cell_type": "markdown",
   "metadata": {},
   "source": [
    "Медианный срок продаже ~3 месяца, если удалось продать квартиру менее  чем за 45 дней, то это можно считать быстрой продажей. Среднее арифметическое время продаж - полгода, но возможно это число завышено из-за старых объявлений, про который забыли которые висят несколько лет."
   ]
  },
  {
   "cell_type": "markdown",
   "metadata": {},
   "source": [
    "### Факторы влияющие на стоимость квартиры"
   ]
  },
  {
   "cell_type": "code",
   "execution_count": 72,
   "metadata": {},
   "outputs": [
    {
     "data": {
      "text/html": [
       "<style  type=\"text/css\" >\n",
       "#T_6b6d4_row0_col0,#T_6b6d4_row1_col1,#T_6b6d4_row2_col2,#T_6b6d4_row3_col3,#T_6b6d4_row4_col4{\n",
       "            background-color:  #b40426;\n",
       "            color:  #f1f1f1;\n",
       "        }#T_6b6d4_row0_col1{\n",
       "            background-color:  #ccd9ed;\n",
       "            color:  #000000;\n",
       "        }#T_6b6d4_row0_col2{\n",
       "            background-color:  #d8dce2;\n",
       "            color:  #000000;\n",
       "        }#T_6b6d4_row0_col3{\n",
       "            background-color:  #d1dae9;\n",
       "            color:  #000000;\n",
       "        }#T_6b6d4_row0_col4{\n",
       "            background-color:  #c9d7f0;\n",
       "            color:  #000000;\n",
       "        }#T_6b6d4_row1_col0{\n",
       "            background-color:  #c6d6f1;\n",
       "            color:  #000000;\n",
       "        }#T_6b6d4_row1_col2{\n",
       "            background-color:  #d55042;\n",
       "            color:  #000000;\n",
       "        }#T_6b6d4_row1_col3{\n",
       "            background-color:  #c3d5f4;\n",
       "            color:  #000000;\n",
       "        }#T_6b6d4_row1_col4{\n",
       "            background-color:  #ed8366;\n",
       "            color:  #000000;\n",
       "        }#T_6b6d4_row2_col0{\n",
       "            background-color:  #80a3fa;\n",
       "            color:  #000000;\n",
       "        }#T_6b6d4_row2_col1{\n",
       "            background-color:  #e26952;\n",
       "            color:  #000000;\n",
       "        }#T_6b6d4_row2_col3{\n",
       "            background-color:  #6282ea;\n",
       "            color:  #000000;\n",
       "        }#T_6b6d4_row2_col4{\n",
       "            background-color:  #d75445;\n",
       "            color:  #000000;\n",
       "        }#T_6b6d4_row3_col0{\n",
       "            background-color:  #4961d2;\n",
       "            color:  #f1f1f1;\n",
       "        }#T_6b6d4_row3_col1,#T_6b6d4_row3_col2,#T_6b6d4_row3_col4,#T_6b6d4_row4_col0,#T_6b6d4_row4_col3{\n",
       "            background-color:  #3b4cc0;\n",
       "            color:  #f1f1f1;\n",
       "        }#T_6b6d4_row4_col1{\n",
       "            background-color:  #f7b79b;\n",
       "            color:  #000000;\n",
       "        }#T_6b6d4_row4_col2{\n",
       "            background-color:  #dc5d4a;\n",
       "            color:  #000000;\n",
       "        }</style><table id=\"T_6b6d4_\" ><thead>    <tr>        <th class=\"blank level0\" ></th>        <th class=\"col_heading level0 col0\" >last_price</th>        <th class=\"col_heading level0 col1\" >total_area</th>        <th class=\"col_heading level0 col2\" >living_area</th>        <th class=\"col_heading level0 col3\" >kitchen_area</th>        <th class=\"col_heading level0 col4\" >rooms</th>    </tr></thead><tbody>\n",
       "                <tr>\n",
       "                        <th id=\"T_6b6d4_level0_row0\" class=\"row_heading level0 row0\" >last_price</th>\n",
       "                        <td id=\"T_6b6d4_row0_col0\" class=\"data row0 col0\" >1.000000</td>\n",
       "                        <td id=\"T_6b6d4_row0_col1\" class=\"data row0 col1\" >0.673390</td>\n",
       "                        <td id=\"T_6b6d4_row0_col2\" class=\"data row0 col2\" >0.556311</td>\n",
       "                        <td id=\"T_6b6d4_row0_col3\" class=\"data row0 col3\" >0.464146</td>\n",
       "                        <td id=\"T_6b6d4_row0_col4\" class=\"data row0 col4\" >0.436451</td>\n",
       "            </tr>\n",
       "            <tr>\n",
       "                        <th id=\"T_6b6d4_level0_row1\" class=\"row_heading level0 row1\" >total_area</th>\n",
       "                        <td id=\"T_6b6d4_row1_col0\" class=\"data row1 col0\" >0.673390</td>\n",
       "                        <td id=\"T_6b6d4_row1_col1\" class=\"data row1 col1\" >1.000000</td>\n",
       "                        <td id=\"T_6b6d4_row1_col2\" class=\"data row1 col2\" >0.917722</td>\n",
       "                        <td id=\"T_6b6d4_row1_col3\" class=\"data row1 col3\" >0.417566</td>\n",
       "                        <td id=\"T_6b6d4_row1_col4\" class=\"data row1 col4\" >0.807624</td>\n",
       "            </tr>\n",
       "            <tr>\n",
       "                        <th id=\"T_6b6d4_level0_row2\" class=\"row_heading level0 row2\" >living_area</th>\n",
       "                        <td id=\"T_6b6d4_row2_col0\" class=\"data row2 col0\" >0.556311</td>\n",
       "                        <td id=\"T_6b6d4_row2_col1\" class=\"data row2 col1\" >0.917722</td>\n",
       "                        <td id=\"T_6b6d4_row2_col2\" class=\"data row2 col2\" >1.000000</td>\n",
       "                        <td id=\"T_6b6d4_row2_col3\" class=\"data row2 col3\" >0.142396</td>\n",
       "                        <td id=\"T_6b6d4_row2_col4\" class=\"data row2 col4\" >0.897707</td>\n",
       "            </tr>\n",
       "            <tr>\n",
       "                        <th id=\"T_6b6d4_level0_row3\" class=\"row_heading level0 row3\" >kitchen_area</th>\n",
       "                        <td id=\"T_6b6d4_row3_col0\" class=\"data row3 col0\" >0.464146</td>\n",
       "                        <td id=\"T_6b6d4_row3_col1\" class=\"data row3 col1\" >0.417566</td>\n",
       "                        <td id=\"T_6b6d4_row3_col2\" class=\"data row3 col2\" >0.142396</td>\n",
       "                        <td id=\"T_6b6d4_row3_col3\" class=\"data row3 col3\" >1.000000</td>\n",
       "                        <td id=\"T_6b6d4_row3_col4\" class=\"data row3 col4\" >0.015535</td>\n",
       "            </tr>\n",
       "            <tr>\n",
       "                        <th id=\"T_6b6d4_level0_row4\" class=\"row_heading level0 row4\" >rooms</th>\n",
       "                        <td id=\"T_6b6d4_row4_col0\" class=\"data row4 col0\" >0.436451</td>\n",
       "                        <td id=\"T_6b6d4_row4_col1\" class=\"data row4 col1\" >0.807624</td>\n",
       "                        <td id=\"T_6b6d4_row4_col2\" class=\"data row4 col2\" >0.897707</td>\n",
       "                        <td id=\"T_6b6d4_row4_col3\" class=\"data row4 col3\" >0.015535</td>\n",
       "                        <td id=\"T_6b6d4_row4_col4\" class=\"data row4 col4\" >1.000000</td>\n",
       "            </tr>\n",
       "    </tbody></table>"
      ],
      "text/plain": [
       "<pandas.io.formats.style.Styler at 0x7f54fbbe03a0>"
      ]
     },
     "execution_count": 72,
     "metadata": {},
     "output_type": "execute_result"
    }
   ],
   "source": [
    "area_data = data.query('kitchen_area < 30')[['last_price','total_area','living_area', 'kitchen_area', 'rooms', 'floor_type']]\n",
    "\n",
    "corr = area_data.corr()\n",
    "corr.style.background_gradient(cmap='coolwarm')"
   ]
  },
  {
   "cell_type": "code",
   "execution_count": 73,
   "metadata": {},
   "outputs": [
    {
     "data": {
      "image/png": "[encoded data removed]",
      "text/plain": [
       "<Figure size 432x288 with 1 Axes>"
      ]
     },
     "metadata": {
      "needs_background": "light"
     },
     "output_type": "display_data"
    }
   ],
   "source": [
    "sb.regplot(x=area_data[\"total_area\"], y=area_data[\"last_price\"], scatter_kws={'alpha':0.3});"
   ]
  },
  {
   "cell_type": "code",
   "execution_count": 74,
   "metadata": {},
   "outputs": [
    {
     "data": {
      "image/png": "[encoded data removed]",
      "text/plain": [
       "<Figure size 432x288 with 1 Axes>"
      ]
     },
     "metadata": {
      "needs_background": "light"
     },
     "output_type": "display_data"
    }
   ],
   "source": [
    "sb.regplot(x=area_data[\"living_area\"], y=area_data[\"last_price\"], scatter_kws={'alpha':0.3});"
   ]
  },
  {
   "cell_type": "code",
   "execution_count": 75,
   "metadata": {},
   "outputs": [
    {
     "data": {
      "image/png": "[encoded data removed]",
      "text/plain": [
       "<Figure size 432x288 with 1 Axes>"
      ]
     },
     "metadata": {
      "needs_background": "light"
     },
     "output_type": "display_data"
    }
   ],
   "source": [
    "sb.regplot(x=area_data[\"kitchen_area\"], y=area_data[\"last_price\"], scatter_kws={'alpha':0.3});"
   ]
  },
  {
   "cell_type": "code",
   "execution_count": 76,
   "metadata": {},
   "outputs": [
    {
     "data": {
      "image/png": "[encoded data removed]",
      "text/plain": [
       "<Figure size 432x288 with 1 Axes>"
      ]
     },
     "metadata": {
      "needs_background": "light"
     },
     "output_type": "display_data"
    }
   ],
   "source": [
    "sb.regplot(x=area_data[\"rooms\"], y=area_data[\"last_price\"], scatter_kws={'alpha':0.1});"
   ]
  },
  {
   "cell_type": "code",
   "execution_count": 77,
   "metadata": {},
   "outputs": [
    {
     "data": {
      "text/plain": [
       "floor_type\n",
       "другой       3642500.0\n",
       "первый       3000000.0\n",
       "последний    3200000.0\n",
       "Name: last_price, dtype: float64"
      ]
     },
     "execution_count": 77,
     "metadata": {},
     "output_type": "execute_result"
    }
   ],
   "source": [
    "## чтобы понять, если ли зависимость от типа этажа, сделаем выборку только по однокомнатным\n",
    "area_data.query('rooms == 1').groupby('floor_type')['last_price'].median()"
   ]
  },
  {
   "cell_type": "code",
   "execution_count": 78,
   "metadata": {},
   "outputs": [],
   "source": [
    "expo_data = data.query('rooms == 1')[['last_price','exposition_year','exposition_month', 'exposition_dow']]"
   ]
  },
  {
   "cell_type": "code",
   "execution_count": 79,
   "metadata": {},
   "outputs": [
    {
     "data": {
      "image/png": "[encoded data removed]",
      "text/plain": [
       "<Figure size 432x288 with 1 Axes>"
      ]
     },
     "metadata": {
      "needs_background": "light"
     },
     "output_type": "display_data"
    }
   ],
   "source": [
    "expo_data.groupby('exposition_year')['last_price'].median().plot.line();"
   ]
  },
  {
   "cell_type": "code",
   "execution_count": 80,
   "metadata": {},
   "outputs": [
    {
     "data": {
      "image/png": "[encoded data removed]",
      "text/plain": [
       "<Figure size 432x288 with 1 Axes>"
      ]
     },
     "metadata": {
      "needs_background": "light"
     },
     "output_type": "display_data"
    }
   ],
   "source": [
    "expo_data.groupby('exposition_month')['last_price'].median().plot.line();"
   ]
  },
  {
   "cell_type": "code",
   "execution_count": 81,
   "metadata": {},
   "outputs": [
    {
     "data": {
      "image/png": "[encoded data removed]",
      "text/plain": [
       "<Figure size 432x288 with 1 Axes>"
      ]
     },
     "metadata": {
      "needs_background": "light"
     },
     "output_type": "display_data"
    }
   ],
   "source": [
    "expo_data.groupby('exposition_dow')['last_price'].median().plot.line();"
   ]
  },
  {
   "cell_type": "markdown",
   "metadata": {},
   "source": [
    "**Основной фактор, влияющий на цену - общая площадь.** В какой то мере на цену влияет так же тип этажа, зависимость от количества комнат, жилой площади и кухни незначительная, эти параметры тоже в своею очередь зависят от общей площади. \n",
    "<br>Наибольшая медианная цена была зафиксирована в 2014, потом в был спад, с минимумов в 2016-2017. После чего снова начался рост стоимости жилья. \n",
    "<br>Во второй половине года стоимость предложений увеличивается в среднем на 3%. \n",
    "<br>Стоимость в объявлениях публикуемых в четверг примерно на 2% выше, чем у объявлений публикумеых в среду и пятницу. "
   ]
  },
  {
   "cell_type": "markdown",
   "metadata": {},
   "source": [
    "#### Средняя цена одного квадратного метра в 10 населённых пунктах  "
   ]
  },
  {
   "cell_type": "code",
   "execution_count": 82,
   "metadata": {},
   "outputs": [],
   "source": [
    "top_locality = data['locality_name_clear'].value_counts().head(10)"
   ]
  },
  {
   "cell_type": "code",
   "execution_count": 83,
   "metadata": {},
   "outputs": [
    {
     "data": {
      "text/plain": [
       "locality_name_clear\n",
       "Санкт-Петербург    103333.429812\n",
       "Пушкин              99281.872425\n",
       "Кудрово             94343.881725\n",
       "Парголово           89672.150523\n",
       "Мурино              85691.011789\n",
       "Шушары              77980.383629\n",
       "Колпино             74599.167217\n",
       "Гатчина             67845.395923\n",
       "Всеволожск          66724.848596\n",
       "Выборг              57084.582948\n",
       "Name: price_of_sqm, dtype: float64"
      ]
     },
     "execution_count": 83,
     "metadata": {},
     "output_type": "execute_result"
    }
   ],
   "source": [
    "(\n",
    "    data.query('locality_name_clear in @top_locality.index')\n",
    "    .groupby('locality_name_clear')['price_of_sqm']\n",
    "    .mean()\n",
    "    .sort_values(ascending=False)\n",
    ")    "
   ]
  },
  {
   "cell_type": "markdown",
   "metadata": {},
   "source": [
    "Стоимость жилья в самом Санкт-Петербурге выше чем в городах спутниках, иногда до 200%. Пушкин, Кудрово и Парговолов являются следующими по средней стоимости квадратного метра."
   ]
  },
  {
   "cell_type": "markdown",
   "metadata": {},
   "source": [
    "#### Стоимость километра"
   ]
  },
  {
   "cell_type": "code",
   "execution_count": 84,
   "metadata": {},
   "outputs": [
    {
     "data": {
      "text/plain": [
       "cityCenters_nearest_km\n",
       "6.0     118937.901286\n",
       "5.0     118275.521575\n",
       "1.0     116419.137930\n",
       "7.0     113124.442775\n",
       "8.0     112921.818172\n",
       "4.0     112429.658445\n",
       "0.0     111429.755790\n",
       "2.0     111080.427042\n",
       "10.0    106301.920725\n",
       "3.0     105159.571821\n",
       "12.0    104342.038313\n",
       "9.0     104161.112576\n",
       "13.0    104118.008386\n",
       "14.0    102089.406514\n",
       "11.0    102059.206536\n",
       "20.0    101029.383819\n",
       "15.0    100567.530965\n",
       "16.0     97794.523236\n",
       "19.0     97546.465795\n",
       "18.0     94601.573092\n",
       "17.0     94206.288473\n",
       "25.0     91531.371618\n",
       "21.0     90528.836532\n",
       "23.0     89830.244101\n",
       "22.0     89416.712813\n",
       "26.0     87832.108756\n",
       "24.0     85736.904595\n",
       "28.0     81161.915320\n",
       "29.0     76238.677228\n",
       "27.0     70312.500000\n",
       "Name: price_of_sqm, dtype: float64"
      ]
     },
     "execution_count": 84,
     "metadata": {},
     "output_type": "execute_result"
    }
   ],
   "source": [
    "(\n",
    "    data.query('locality_name_clear == \"Санкт-Петербург\"')\n",
    "    .groupby('cityCenters_nearest_km')['price_of_sqm']\n",
    "    .mean()\n",
    "    .sort_values(ascending=False)\n",
    ")    "
   ]
  },
  {
   "cell_type": "markdown",
   "metadata": {},
   "source": [
    "Чем дальше от центра - тем дешевле, из общего ряда выбивается только 27 километр. Возможно на этом расстоянии от центра города расположен элитный жилой массив."
   ]
  },
  {
   "cell_type": "markdown",
   "metadata": {},
   "source": [
    "### Общий вывод\n",
    "\n",
    "В основном жилой фонд представлен квартирами в пяти и девяти этажных домах, с парком в радиусе 700 метров, в 10-15 км от центра города и до 50 км до ближайшего аэропорта. \n",
    "\n",
    "*Наибольшей влияние на стоимость квартиры имеют общий метраж помещения, удаленность от центра города, расположение  и общая экономическая ситуация в стране.* Второстепенное влияние на цену имеют тип этажа. Чтобы выручить больше денег от продажи публиковать объявление лучше в феврале или ноябре, тогда цены на жилье достигают пиковых значений. \n",
    "<br>Во второй половине года стоимость предложений увеличивается в среднем на 3%. \n",
    "<br>Стоимость в объявлениях публикуемых в четверг примерно на 2% выше, чем у объявлений публикумеых в среду и пятницу. \n",
    "\n",
    "При продаже по рыночной цене в ликвидном районе, средний срок продажи составляет от 25 до 90 дней. Если вариант какой-то особенный, то продажа может затянуться от полугода до года.\n",
    "\n",
    "Наиболее варианты это квартиры из 1-2 комнаты, площадью до 50 кв. м. , ценой от 3 до 5 млн и распложенные в населенных пунктах Санкт-Петербург, Пушкин, Кудрово, Парголово\n",
    "\n",
    "\n"
   ]
  }
 ],
 "metadata": {
  "ExecuteTimeLog": [
   {
    "duration": 744,
    "start_time": "2023-05-10T13:13:07.535Z"
   },
   {
    "duration": 72,
    "start_time": "2023-05-10T13:13:08.281Z"
   },
   {
    "duration": 3816,
    "start_time": "2023-05-10T13:13:08.355Z"
   },
   {
    "duration": 1097,
    "start_time": "2023-05-10T13:13:12.173Z"
   },
   {
    "duration": 0,
    "start_time": "2023-05-10T13:13:13.337Z"
   },
   {
    "duration": 0,
    "start_time": "2023-05-10T13:13:13.339Z"
   },
   {
    "duration": 0,
    "start_time": "2023-05-10T13:13:13.340Z"
   },
   {
    "duration": 0,
    "start_time": "2023-05-10T13:13:13.341Z"
   },
   {
    "duration": 0,
    "start_time": "2023-05-10T13:13:13.342Z"
   },
   {
    "duration": 0,
    "start_time": "2023-05-10T13:13:13.343Z"
   },
   {
    "duration": 0,
    "start_time": "2023-05-10T13:13:13.345Z"
   },
   {
    "duration": 0,
    "start_time": "2023-05-10T13:13:13.346Z"
   },
   {
    "duration": 0,
    "start_time": "2023-05-10T13:13:13.347Z"
   },
   {
    "duration": 0,
    "start_time": "2023-05-10T13:13:13.348Z"
   },
   {
    "duration": 0,
    "start_time": "2023-05-10T13:13:13.349Z"
   },
   {
    "duration": 0,
    "start_time": "2023-05-10T13:13:13.350Z"
   },
   {
    "duration": 0,
    "start_time": "2023-05-10T13:13:13.351Z"
   },
   {
    "duration": 0,
    "start_time": "2023-05-10T13:13:13.352Z"
   },
   {
    "duration": 0,
    "start_time": "2023-05-10T13:13:13.353Z"
   },
   {
    "duration": 0,
    "start_time": "2023-05-10T13:13:13.355Z"
   },
   {
    "duration": 0,
    "start_time": "2023-05-10T13:13:13.355Z"
   },
   {
    "duration": 0,
    "start_time": "2023-05-10T13:13:13.357Z"
   },
   {
    "duration": 0,
    "start_time": "2023-05-10T13:13:13.358Z"
   },
   {
    "duration": 0,
    "start_time": "2023-05-10T13:13:13.359Z"
   },
   {
    "duration": 0,
    "start_time": "2023-05-10T13:13:13.360Z"
   },
   {
    "duration": 0,
    "start_time": "2023-05-10T13:13:13.361Z"
   },
   {
    "duration": 0,
    "start_time": "2023-05-10T13:13:13.362Z"
   },
   {
    "duration": 0,
    "start_time": "2023-05-10T13:13:13.363Z"
   },
   {
    "duration": 0,
    "start_time": "2023-05-10T13:13:13.364Z"
   },
   {
    "duration": 0,
    "start_time": "2023-05-10T13:13:13.437Z"
   },
   {
    "duration": 0,
    "start_time": "2023-05-10T13:13:13.438Z"
   },
   {
    "duration": 0,
    "start_time": "2023-05-10T13:13:13.439Z"
   },
   {
    "duration": 0,
    "start_time": "2023-05-10T13:13:13.440Z"
   },
   {
    "duration": 0,
    "start_time": "2023-05-10T13:13:13.441Z"
   },
   {
    "duration": 0,
    "start_time": "2023-05-10T13:13:13.442Z"
   },
   {
    "duration": 0,
    "start_time": "2023-05-10T13:13:13.443Z"
   },
   {
    "duration": 0,
    "start_time": "2023-05-10T13:13:13.443Z"
   },
   {
    "duration": 0,
    "start_time": "2023-05-10T13:13:13.444Z"
   },
   {
    "duration": 0,
    "start_time": "2023-05-10T13:13:13.445Z"
   },
   {
    "duration": 1,
    "start_time": "2023-05-10T13:13:13.446Z"
   },
   {
    "duration": 0,
    "start_time": "2023-05-10T13:13:13.447Z"
   },
   {
    "duration": 0,
    "start_time": "2023-05-10T13:13:13.448Z"
   },
   {
    "duration": 0,
    "start_time": "2023-05-10T13:13:13.449Z"
   },
   {
    "duration": 0,
    "start_time": "2023-05-10T13:13:13.450Z"
   },
   {
    "duration": 0,
    "start_time": "2023-05-10T13:13:13.451Z"
   },
   {
    "duration": 0,
    "start_time": "2023-05-10T13:13:13.452Z"
   },
   {
    "duration": 0,
    "start_time": "2023-05-10T13:13:13.453Z"
   },
   {
    "duration": 0,
    "start_time": "2023-05-10T13:13:13.454Z"
   },
   {
    "duration": 0,
    "start_time": "2023-05-10T13:13:13.455Z"
   },
   {
    "duration": 0,
    "start_time": "2023-05-10T13:13:13.456Z"
   },
   {
    "duration": 0,
    "start_time": "2023-05-10T13:13:13.457Z"
   },
   {
    "duration": 0,
    "start_time": "2023-05-10T13:13:13.458Z"
   },
   {
    "duration": 0,
    "start_time": "2023-05-10T13:13:13.459Z"
   },
   {
    "duration": 0,
    "start_time": "2023-05-10T13:13:13.460Z"
   },
   {
    "duration": 0,
    "start_time": "2023-05-10T13:13:13.461Z"
   },
   {
    "duration": 0,
    "start_time": "2023-05-10T13:13:13.462Z"
   },
   {
    "duration": 0,
    "start_time": "2023-05-10T13:13:13.537Z"
   },
   {
    "duration": 0,
    "start_time": "2023-05-10T13:13:13.538Z"
   },
   {
    "duration": 0,
    "start_time": "2023-05-10T13:13:13.539Z"
   },
   {
    "duration": 0,
    "start_time": "2023-05-10T13:13:13.540Z"
   },
   {
    "duration": 0,
    "start_time": "2023-05-10T13:13:13.540Z"
   },
   {
    "duration": 0,
    "start_time": "2023-05-10T13:13:13.541Z"
   },
   {
    "duration": 0,
    "start_time": "2023-05-10T13:13:13.542Z"
   },
   {
    "duration": 0,
    "start_time": "2023-05-10T13:13:13.543Z"
   },
   {
    "duration": 0,
    "start_time": "2023-05-10T13:13:13.544Z"
   },
   {
    "duration": 0,
    "start_time": "2023-05-10T13:13:13.545Z"
   },
   {
    "duration": 0,
    "start_time": "2023-05-10T13:13:13.546Z"
   },
   {
    "duration": 0,
    "start_time": "2023-05-10T13:13:13.547Z"
   },
   {
    "duration": 0,
    "start_time": "2023-05-10T13:13:13.548Z"
   },
   {
    "duration": 0,
    "start_time": "2023-05-10T13:13:13.549Z"
   },
   {
    "duration": 0,
    "start_time": "2023-05-10T13:13:13.550Z"
   },
   {
    "duration": 1454,
    "start_time": "2023-05-10T13:16:40.706Z"
   },
   {
    "duration": 11,
    "start_time": "2023-05-10T13:16:49.068Z"
   },
   {
    "duration": 728,
    "start_time": "2023-05-10T13:16:57.437Z"
   },
   {
    "duration": 16,
    "start_time": "2023-05-10T13:16:58.167Z"
   },
   {
    "duration": 2468,
    "start_time": "2023-05-10T13:16:58.185Z"
   },
   {
    "duration": 1211,
    "start_time": "2023-05-10T13:17:00.656Z"
   },
   {
    "duration": 128,
    "start_time": "2023-05-10T13:17:01.869Z"
   },
   {
    "duration": 0,
    "start_time": "2023-05-10T13:17:02.001Z"
   },
   {
    "duration": 0,
    "start_time": "2023-05-10T13:17:02.003Z"
   },
   {
    "duration": 0,
    "start_time": "2023-05-10T13:17:02.012Z"
   },
   {
    "duration": 0,
    "start_time": "2023-05-10T13:17:02.013Z"
   },
   {
    "duration": 0,
    "start_time": "2023-05-10T13:17:02.015Z"
   },
   {
    "duration": 0,
    "start_time": "2023-05-10T13:17:02.017Z"
   },
   {
    "duration": 0,
    "start_time": "2023-05-10T13:17:02.018Z"
   },
   {
    "duration": 0,
    "start_time": "2023-05-10T13:17:02.020Z"
   },
   {
    "duration": 0,
    "start_time": "2023-05-10T13:17:02.021Z"
   },
   {
    "duration": 0,
    "start_time": "2023-05-10T13:17:02.023Z"
   },
   {
    "duration": 1,
    "start_time": "2023-05-10T13:17:02.025Z"
   },
   {
    "duration": 0,
    "start_time": "2023-05-10T13:17:02.027Z"
   },
   {
    "duration": 0,
    "start_time": "2023-05-10T13:17:02.029Z"
   },
   {
    "duration": 0,
    "start_time": "2023-05-10T13:17:02.031Z"
   },
   {
    "duration": 0,
    "start_time": "2023-05-10T13:17:02.032Z"
   },
   {
    "duration": 0,
    "start_time": "2023-05-10T13:17:02.034Z"
   },
   {
    "duration": 0,
    "start_time": "2023-05-10T13:17:02.036Z"
   },
   {
    "duration": 0,
    "start_time": "2023-05-10T13:17:02.038Z"
   },
   {
    "duration": 0,
    "start_time": "2023-05-10T13:17:02.039Z"
   },
   {
    "duration": 0,
    "start_time": "2023-05-10T13:17:02.041Z"
   },
   {
    "duration": 0,
    "start_time": "2023-05-10T13:17:02.042Z"
   },
   {
    "duration": 0,
    "start_time": "2023-05-10T13:17:02.044Z"
   },
   {
    "duration": 0,
    "start_time": "2023-05-10T13:17:02.047Z"
   },
   {
    "duration": 0,
    "start_time": "2023-05-10T13:17:02.048Z"
   },
   {
    "duration": 0,
    "start_time": "2023-05-10T13:17:02.050Z"
   },
   {
    "duration": 0,
    "start_time": "2023-05-10T13:17:02.112Z"
   },
   {
    "duration": 0,
    "start_time": "2023-05-10T13:17:02.113Z"
   },
   {
    "duration": 0,
    "start_time": "2023-05-10T13:17:02.114Z"
   },
   {
    "duration": 0,
    "start_time": "2023-05-10T13:17:02.115Z"
   },
   {
    "duration": 0,
    "start_time": "2023-05-10T13:17:02.116Z"
   },
   {
    "duration": 0,
    "start_time": "2023-05-10T13:17:02.117Z"
   },
   {
    "duration": 0,
    "start_time": "2023-05-10T13:17:02.117Z"
   },
   {
    "duration": 0,
    "start_time": "2023-05-10T13:17:02.119Z"
   },
   {
    "duration": 0,
    "start_time": "2023-05-10T13:17:02.121Z"
   },
   {
    "duration": 0,
    "start_time": "2023-05-10T13:17:02.122Z"
   },
   {
    "duration": 0,
    "start_time": "2023-05-10T13:17:02.123Z"
   },
   {
    "duration": 0,
    "start_time": "2023-05-10T13:17:02.124Z"
   },
   {
    "duration": 0,
    "start_time": "2023-05-10T13:17:02.124Z"
   },
   {
    "duration": 0,
    "start_time": "2023-05-10T13:17:02.125Z"
   },
   {
    "duration": 0,
    "start_time": "2023-05-10T13:17:02.126Z"
   },
   {
    "duration": 0,
    "start_time": "2023-05-10T13:17:02.127Z"
   },
   {
    "duration": 0,
    "start_time": "2023-05-10T13:17:02.128Z"
   },
   {
    "duration": 0,
    "start_time": "2023-05-10T13:17:02.130Z"
   },
   {
    "duration": 0,
    "start_time": "2023-05-10T13:17:02.130Z"
   },
   {
    "duration": 0,
    "start_time": "2023-05-10T13:17:02.132Z"
   },
   {
    "duration": 0,
    "start_time": "2023-05-10T13:17:02.133Z"
   },
   {
    "duration": 0,
    "start_time": "2023-05-10T13:17:02.133Z"
   },
   {
    "duration": 0,
    "start_time": "2023-05-10T13:17:02.135Z"
   },
   {
    "duration": 0,
    "start_time": "2023-05-10T13:17:02.136Z"
   },
   {
    "duration": 0,
    "start_time": "2023-05-10T13:17:02.137Z"
   },
   {
    "duration": 0,
    "start_time": "2023-05-10T13:17:02.138Z"
   },
   {
    "duration": 0,
    "start_time": "2023-05-10T13:17:02.140Z"
   },
   {
    "duration": 0,
    "start_time": "2023-05-10T13:17:02.141Z"
   },
   {
    "duration": 0,
    "start_time": "2023-05-10T13:17:02.142Z"
   },
   {
    "duration": 0,
    "start_time": "2023-05-10T13:17:02.143Z"
   },
   {
    "duration": 0,
    "start_time": "2023-05-10T13:17:02.144Z"
   },
   {
    "duration": 0,
    "start_time": "2023-05-10T13:17:02.145Z"
   },
   {
    "duration": 0,
    "start_time": "2023-05-10T13:17:02.146Z"
   },
   {
    "duration": 0,
    "start_time": "2023-05-10T13:17:02.147Z"
   },
   {
    "duration": 0,
    "start_time": "2023-05-10T13:17:02.148Z"
   },
   {
    "duration": 0,
    "start_time": "2023-05-10T13:17:02.218Z"
   },
   {
    "duration": 0,
    "start_time": "2023-05-10T13:17:02.220Z"
   },
   {
    "duration": 0,
    "start_time": "2023-05-10T13:17:02.221Z"
   },
   {
    "duration": 0,
    "start_time": "2023-05-10T13:17:02.223Z"
   },
   {
    "duration": 0,
    "start_time": "2023-05-10T13:17:02.225Z"
   },
   {
    "duration": 0,
    "start_time": "2023-05-10T13:17:02.226Z"
   },
   {
    "duration": 63,
    "start_time": "2023-05-10T13:17:16.545Z"
   },
   {
    "duration": 589,
    "start_time": "2023-05-10T13:17:24.700Z"
   },
   {
    "duration": 26,
    "start_time": "2023-05-10T13:17:25.291Z"
   },
   {
    "duration": 2350,
    "start_time": "2023-05-10T13:17:25.319Z"
   },
   {
    "duration": 1179,
    "start_time": "2023-05-10T13:17:27.671Z"
   },
   {
    "duration": 92,
    "start_time": "2023-05-10T13:17:28.853Z"
   },
   {
    "duration": 9,
    "start_time": "2023-05-10T13:17:28.947Z"
   },
   {
    "duration": 87,
    "start_time": "2023-05-10T13:17:28.958Z"
   },
   {
    "duration": 6,
    "start_time": "2023-05-10T13:17:29.047Z"
   },
   {
    "duration": 23,
    "start_time": "2023-05-10T13:17:29.055Z"
   },
   {
    "duration": 19,
    "start_time": "2023-05-10T13:17:29.081Z"
   },
   {
    "duration": 17,
    "start_time": "2023-05-10T13:17:29.102Z"
   },
   {
    "duration": 24,
    "start_time": "2023-05-10T13:17:29.121Z"
   },
   {
    "duration": 6,
    "start_time": "2023-05-10T13:17:29.147Z"
   },
   {
    "duration": 58,
    "start_time": "2023-05-10T13:17:29.155Z"
   },
   {
    "duration": 10,
    "start_time": "2023-05-10T13:17:29.216Z"
   },
   {
    "duration": 24,
    "start_time": "2023-05-10T13:17:29.228Z"
   },
   {
    "duration": 23,
    "start_time": "2023-05-10T13:17:29.254Z"
   },
   {
    "duration": 42,
    "start_time": "2023-05-10T13:17:29.279Z"
   },
   {
    "duration": 9,
    "start_time": "2023-05-10T13:17:29.323Z"
   },
   {
    "duration": 58,
    "start_time": "2023-05-10T13:17:29.334Z"
   },
   {
    "duration": 43,
    "start_time": "2023-05-10T13:17:29.394Z"
   },
   {
    "duration": 8,
    "start_time": "2023-05-10T13:17:29.439Z"
   },
   {
    "duration": 27,
    "start_time": "2023-05-10T13:17:29.449Z"
   },
   {
    "duration": 91,
    "start_time": "2023-05-10T13:17:29.479Z"
   },
   {
    "duration": 6,
    "start_time": "2023-05-10T13:17:29.572Z"
   },
   {
    "duration": 8,
    "start_time": "2023-05-10T13:17:29.580Z"
   },
   {
    "duration": 22,
    "start_time": "2023-05-10T13:17:29.590Z"
   },
   {
    "duration": 12,
    "start_time": "2023-05-10T13:17:29.616Z"
   },
   {
    "duration": 21,
    "start_time": "2023-05-10T13:17:29.629Z"
   },
   {
    "duration": 33,
    "start_time": "2023-05-10T13:17:29.652Z"
   },
   {
    "duration": 126,
    "start_time": "2023-05-10T13:17:29.687Z"
   },
   {
    "duration": 9,
    "start_time": "2023-05-10T13:17:29.815Z"
   },
   {
    "duration": 6,
    "start_time": "2023-05-10T13:17:29.826Z"
   },
   {
    "duration": 6,
    "start_time": "2023-05-10T13:17:29.834Z"
   },
   {
    "duration": 11,
    "start_time": "2023-05-10T13:17:29.842Z"
   },
   {
    "duration": 17,
    "start_time": "2023-05-10T13:17:29.854Z"
   },
   {
    "duration": 45,
    "start_time": "2023-05-10T13:17:29.873Z"
   },
   {
    "duration": 295,
    "start_time": "2023-05-10T13:17:29.920Z"
   },
   {
    "duration": 5,
    "start_time": "2023-05-10T13:17:30.217Z"
   },
   {
    "duration": 48,
    "start_time": "2023-05-10T13:17:30.224Z"
   },
   {
    "duration": 31,
    "start_time": "2023-05-10T13:17:30.275Z"
   },
   {
    "duration": 217,
    "start_time": "2023-05-10T13:17:30.308Z"
   },
   {
    "duration": 317,
    "start_time": "2023-05-10T13:17:30.527Z"
   },
   {
    "duration": 386,
    "start_time": "2023-05-10T13:17:30.847Z"
   },
   {
    "duration": 11,
    "start_time": "2023-05-10T13:17:31.235Z"
   },
   {
    "duration": 265,
    "start_time": "2023-05-10T13:17:31.249Z"
   },
   {
    "duration": 217,
    "start_time": "2023-05-10T13:17:31.517Z"
   },
   {
    "duration": 212,
    "start_time": "2023-05-10T13:17:31.737Z"
   },
   {
    "duration": 7,
    "start_time": "2023-05-10T13:17:31.951Z"
   },
   {
    "duration": 263,
    "start_time": "2023-05-10T13:17:31.959Z"
   },
   {
    "duration": 97,
    "start_time": "2023-05-10T13:17:32.225Z"
   },
   {
    "duration": 14,
    "start_time": "2023-05-10T13:17:32.324Z"
   },
   {
    "duration": 295,
    "start_time": "2023-05-10T13:17:32.340Z"
   },
   {
    "duration": 300,
    "start_time": "2023-05-10T13:17:32.638Z"
   },
   {
    "duration": 406,
    "start_time": "2023-05-10T13:17:32.940Z"
   },
   {
    "duration": 148,
    "start_time": "2023-05-10T13:17:33.348Z"
   },
   {
    "duration": 168,
    "start_time": "2023-05-10T13:17:33.499Z"
   },
   {
    "duration": 12,
    "start_time": "2023-05-10T13:17:33.668Z"
   },
   {
    "duration": 413,
    "start_time": "2023-05-10T13:17:33.682Z"
   },
   {
    "duration": 119,
    "start_time": "2023-05-10T13:17:34.097Z"
   },
   {
    "duration": 0,
    "start_time": "2023-05-10T13:17:34.218Z"
   },
   {
    "duration": 0,
    "start_time": "2023-05-10T13:17:34.219Z"
   },
   {
    "duration": 0,
    "start_time": "2023-05-10T13:17:34.223Z"
   },
   {
    "duration": 0,
    "start_time": "2023-05-10T13:17:34.224Z"
   },
   {
    "duration": 0,
    "start_time": "2023-05-10T13:17:34.226Z"
   },
   {
    "duration": 0,
    "start_time": "2023-05-10T13:17:34.227Z"
   },
   {
    "duration": 0,
    "start_time": "2023-05-10T13:17:34.229Z"
   },
   {
    "duration": 0,
    "start_time": "2023-05-10T13:17:34.230Z"
   },
   {
    "duration": 0,
    "start_time": "2023-05-10T13:17:34.231Z"
   },
   {
    "duration": 0,
    "start_time": "2023-05-10T13:17:34.233Z"
   },
   {
    "duration": 0,
    "start_time": "2023-05-10T13:17:34.236Z"
   },
   {
    "duration": 86,
    "start_time": "2023-05-10T13:17:50.354Z"
   },
   {
    "duration": 688,
    "start_time": "2023-05-10T13:18:03.901Z"
   },
   {
    "duration": 22,
    "start_time": "2023-05-10T13:18:04.591Z"
   },
   {
    "duration": 2506,
    "start_time": "2023-05-10T13:18:04.614Z"
   },
   {
    "duration": 1113,
    "start_time": "2023-05-10T13:18:07.122Z"
   },
   {
    "duration": 54,
    "start_time": "2023-05-10T13:18:08.236Z"
   },
   {
    "duration": 23,
    "start_time": "2023-05-10T13:18:08.292Z"
   },
   {
    "duration": 74,
    "start_time": "2023-05-10T13:18:08.317Z"
   },
   {
    "duration": 4,
    "start_time": "2023-05-10T13:18:08.393Z"
   },
   {
    "duration": 58,
    "start_time": "2023-05-10T13:18:08.399Z"
   },
   {
    "duration": 15,
    "start_time": "2023-05-10T13:18:08.460Z"
   },
   {
    "duration": 24,
    "start_time": "2023-05-10T13:18:08.477Z"
   },
   {
    "duration": 49,
    "start_time": "2023-05-10T13:18:08.503Z"
   },
   {
    "duration": 14,
    "start_time": "2023-05-10T13:18:08.555Z"
   },
   {
    "duration": 72,
    "start_time": "2023-05-10T13:18:08.571Z"
   },
   {
    "duration": 9,
    "start_time": "2023-05-10T13:18:08.645Z"
   },
   {
    "duration": 51,
    "start_time": "2023-05-10T13:18:08.656Z"
   },
   {
    "duration": 17,
    "start_time": "2023-05-10T13:18:08.709Z"
   },
   {
    "duration": 18,
    "start_time": "2023-05-10T13:18:08.728Z"
   },
   {
    "duration": 14,
    "start_time": "2023-05-10T13:18:08.747Z"
   },
   {
    "duration": 19,
    "start_time": "2023-05-10T13:18:08.763Z"
   },
   {
    "duration": 67,
    "start_time": "2023-05-10T13:18:08.784Z"
   },
   {
    "duration": 10,
    "start_time": "2023-05-10T13:18:08.854Z"
   },
   {
    "duration": 42,
    "start_time": "2023-05-10T13:18:08.866Z"
   },
   {
    "duration": 77,
    "start_time": "2023-05-10T13:18:08.910Z"
   },
   {
    "duration": 22,
    "start_time": "2023-05-10T13:18:08.989Z"
   },
   {
    "duration": 14,
    "start_time": "2023-05-10T13:18:09.014Z"
   },
   {
    "duration": 5,
    "start_time": "2023-05-10T13:18:09.031Z"
   },
   {
    "duration": 13,
    "start_time": "2023-05-10T13:18:09.042Z"
   },
   {
    "duration": 28,
    "start_time": "2023-05-10T13:18:09.057Z"
   },
   {
    "duration": 52,
    "start_time": "2023-05-10T13:18:09.088Z"
   },
   {
    "duration": 112,
    "start_time": "2023-05-10T13:18:09.142Z"
   },
   {
    "duration": 10,
    "start_time": "2023-05-10T13:18:09.256Z"
   },
   {
    "duration": 8,
    "start_time": "2023-05-10T13:18:09.268Z"
   },
   {
    "duration": 21,
    "start_time": "2023-05-10T13:18:09.278Z"
   },
   {
    "duration": 18,
    "start_time": "2023-05-10T13:18:09.300Z"
   },
   {
    "duration": 26,
    "start_time": "2023-05-10T13:18:09.320Z"
   },
   {
    "duration": 13,
    "start_time": "2023-05-10T13:18:09.348Z"
   },
   {
    "duration": 279,
    "start_time": "2023-05-10T13:18:09.362Z"
   },
   {
    "duration": 5,
    "start_time": "2023-05-10T13:18:09.643Z"
   },
   {
    "duration": 35,
    "start_time": "2023-05-10T13:18:09.650Z"
   },
   {
    "duration": 27,
    "start_time": "2023-05-10T13:18:09.686Z"
   },
   {
    "duration": 205,
    "start_time": "2023-05-10T13:18:09.714Z"
   },
   {
    "duration": 257,
    "start_time": "2023-05-10T13:18:09.920Z"
   },
   {
    "duration": 402,
    "start_time": "2023-05-10T13:18:10.180Z"
   },
   {
    "duration": 10,
    "start_time": "2023-05-10T13:18:10.585Z"
   },
   {
    "duration": 225,
    "start_time": "2023-05-10T13:18:10.597Z"
   },
   {
    "duration": 222,
    "start_time": "2023-05-10T13:18:10.823Z"
   },
   {
    "duration": 204,
    "start_time": "2023-05-10T13:18:11.047Z"
   },
   {
    "duration": 7,
    "start_time": "2023-05-10T13:18:11.253Z"
   },
   {
    "duration": 254,
    "start_time": "2023-05-10T13:18:11.262Z"
   },
   {
    "duration": 94,
    "start_time": "2023-05-10T13:18:11.518Z"
   },
   {
    "duration": 11,
    "start_time": "2023-05-10T13:18:11.614Z"
   },
   {
    "duration": 268,
    "start_time": "2023-05-10T13:18:11.627Z"
   },
   {
    "duration": 279,
    "start_time": "2023-05-10T13:18:11.897Z"
   },
   {
    "duration": 388,
    "start_time": "2023-05-10T13:18:12.178Z"
   },
   {
    "duration": 168,
    "start_time": "2023-05-10T13:18:12.568Z"
   },
   {
    "duration": 186,
    "start_time": "2023-05-10T13:18:12.738Z"
   },
   {
    "duration": 12,
    "start_time": "2023-05-10T13:18:12.926Z"
   },
   {
    "duration": 368,
    "start_time": "2023-05-10T13:18:12.940Z"
   },
   {
    "duration": 79,
    "start_time": "2023-05-10T13:18:13.309Z"
   },
   {
    "duration": 1222,
    "start_time": "2023-05-10T13:18:13.390Z"
   },
   {
    "duration": 1151,
    "start_time": "2023-05-10T13:18:14.613Z"
   },
   {
    "duration": 1160,
    "start_time": "2023-05-10T13:18:15.767Z"
   },
   {
    "duration": 1148,
    "start_time": "2023-05-10T13:18:16.930Z"
   },
   {
    "duration": 11,
    "start_time": "2023-05-10T13:18:18.079Z"
   },
   {
    "duration": 146,
    "start_time": "2023-05-10T13:18:18.092Z"
   },
   {
    "duration": 139,
    "start_time": "2023-05-10T13:18:18.240Z"
   },
   {
    "duration": 155,
    "start_time": "2023-05-10T13:18:18.381Z"
   },
   {
    "duration": 6,
    "start_time": "2023-05-10T13:18:18.538Z"
   },
   {
    "duration": 24,
    "start_time": "2023-05-10T13:18:18.546Z"
   },
   {
    "duration": 14,
    "start_time": "2023-05-10T13:18:18.572Z"
   },
   {
    "duration": 153,
    "start_time": "2023-05-10T17:15:18.345Z"
   },
   {
    "duration": 0,
    "start_time": "2023-05-10T17:15:18.501Z"
   },
   {
    "duration": 0,
    "start_time": "2023-05-10T17:15:18.503Z"
   },
   {
    "duration": 0,
    "start_time": "2023-05-10T17:15:18.503Z"
   },
   {
    "duration": 0,
    "start_time": "2023-05-10T17:15:18.504Z"
   },
   {
    "duration": 0,
    "start_time": "2023-05-10T17:15:18.505Z"
   },
   {
    "duration": 0,
    "start_time": "2023-05-10T17:15:18.506Z"
   },
   {
    "duration": 0,
    "start_time": "2023-05-10T17:15:18.507Z"
   },
   {
    "duration": 0,
    "start_time": "2023-05-10T17:15:18.508Z"
   },
   {
    "duration": 0,
    "start_time": "2023-05-10T17:15:18.509Z"
   },
   {
    "duration": 0,
    "start_time": "2023-05-10T17:15:18.510Z"
   },
   {
    "duration": 0,
    "start_time": "2023-05-10T17:15:18.511Z"
   },
   {
    "duration": 0,
    "start_time": "2023-05-10T17:15:18.512Z"
   },
   {
    "duration": 0,
    "start_time": "2023-05-10T17:15:18.513Z"
   },
   {
    "duration": 0,
    "start_time": "2023-05-10T17:15:18.514Z"
   },
   {
    "duration": 0,
    "start_time": "2023-05-10T17:15:18.515Z"
   },
   {
    "duration": 0,
    "start_time": "2023-05-10T17:15:18.516Z"
   },
   {
    "duration": 0,
    "start_time": "2023-05-10T17:15:18.517Z"
   },
   {
    "duration": 0,
    "start_time": "2023-05-10T17:15:18.519Z"
   },
   {
    "duration": 1,
    "start_time": "2023-05-10T17:15:18.519Z"
   },
   {
    "duration": 0,
    "start_time": "2023-05-10T17:15:18.521Z"
   },
   {
    "duration": 0,
    "start_time": "2023-05-10T17:15:18.521Z"
   },
   {
    "duration": 0,
    "start_time": "2023-05-10T17:15:18.522Z"
   },
   {
    "duration": 0,
    "start_time": "2023-05-10T17:15:18.523Z"
   },
   {
    "duration": 0,
    "start_time": "2023-05-10T17:15:18.524Z"
   },
   {
    "duration": 0,
    "start_time": "2023-05-10T17:15:18.525Z"
   },
   {
    "duration": 0,
    "start_time": "2023-05-10T17:15:18.526Z"
   },
   {
    "duration": 0,
    "start_time": "2023-05-10T17:15:18.527Z"
   },
   {
    "duration": 0,
    "start_time": "2023-05-10T17:15:18.528Z"
   },
   {
    "duration": 0,
    "start_time": "2023-05-10T17:15:18.529Z"
   },
   {
    "duration": 0,
    "start_time": "2023-05-10T17:15:18.530Z"
   },
   {
    "duration": 0,
    "start_time": "2023-05-10T17:15:18.536Z"
   },
   {
    "duration": 0,
    "start_time": "2023-05-10T17:15:18.537Z"
   },
   {
    "duration": 0,
    "start_time": "2023-05-10T17:15:18.538Z"
   },
   {
    "duration": 0,
    "start_time": "2023-05-10T17:15:18.539Z"
   },
   {
    "duration": 0,
    "start_time": "2023-05-10T17:15:18.540Z"
   },
   {
    "duration": 0,
    "start_time": "2023-05-10T17:15:18.541Z"
   },
   {
    "duration": 0,
    "start_time": "2023-05-10T17:15:18.542Z"
   },
   {
    "duration": 0,
    "start_time": "2023-05-10T17:15:18.543Z"
   },
   {
    "duration": 0,
    "start_time": "2023-05-10T17:15:18.544Z"
   },
   {
    "duration": 0,
    "start_time": "2023-05-10T17:15:18.544Z"
   },
   {
    "duration": 0,
    "start_time": "2023-05-10T17:15:18.545Z"
   },
   {
    "duration": 0,
    "start_time": "2023-05-10T17:15:18.546Z"
   },
   {
    "duration": 0,
    "start_time": "2023-05-10T17:15:18.547Z"
   },
   {
    "duration": 0,
    "start_time": "2023-05-10T17:15:18.548Z"
   },
   {
    "duration": 0,
    "start_time": "2023-05-10T17:15:18.549Z"
   },
   {
    "duration": 0,
    "start_time": "2023-05-10T17:15:18.550Z"
   },
   {
    "duration": 0,
    "start_time": "2023-05-10T17:15:18.552Z"
   },
   {
    "duration": 0,
    "start_time": "2023-05-10T17:15:18.553Z"
   },
   {
    "duration": 0,
    "start_time": "2023-05-10T17:15:18.554Z"
   },
   {
    "duration": 0,
    "start_time": "2023-05-10T17:15:18.555Z"
   },
   {
    "duration": 0,
    "start_time": "2023-05-10T17:15:18.556Z"
   },
   {
    "duration": 0,
    "start_time": "2023-05-10T17:15:18.557Z"
   },
   {
    "duration": 0,
    "start_time": "2023-05-10T17:15:18.558Z"
   },
   {
    "duration": 0,
    "start_time": "2023-05-10T17:15:18.559Z"
   },
   {
    "duration": 0,
    "start_time": "2023-05-10T17:15:18.560Z"
   },
   {
    "duration": 0,
    "start_time": "2023-05-10T17:15:18.561Z"
   },
   {
    "duration": 0,
    "start_time": "2023-05-10T17:15:18.562Z"
   },
   {
    "duration": 0,
    "start_time": "2023-05-10T17:15:18.562Z"
   },
   {
    "duration": 0,
    "start_time": "2023-05-10T17:15:18.563Z"
   },
   {
    "duration": 106,
    "start_time": "2023-05-10T17:15:18.568Z"
   },
   {
    "duration": 0,
    "start_time": "2023-05-10T17:15:18.676Z"
   },
   {
    "duration": 0,
    "start_time": "2023-05-10T17:15:18.677Z"
   },
   {
    "duration": 0,
    "start_time": "2023-05-10T17:15:18.678Z"
   },
   {
    "duration": 0,
    "start_time": "2023-05-10T17:15:18.679Z"
   },
   {
    "duration": 0,
    "start_time": "2023-05-10T17:15:18.680Z"
   },
   {
    "duration": 0,
    "start_time": "2023-05-10T17:15:18.736Z"
   },
   {
    "duration": 0,
    "start_time": "2023-05-10T17:15:18.737Z"
   },
   {
    "duration": 0,
    "start_time": "2023-05-10T17:15:18.738Z"
   },
   {
    "duration": 0,
    "start_time": "2023-05-10T17:15:18.739Z"
   },
   {
    "duration": 0,
    "start_time": "2023-05-10T17:15:18.740Z"
   },
   {
    "duration": 0,
    "start_time": "2023-05-10T17:15:18.741Z"
   },
   {
    "duration": 593,
    "start_time": "2023-05-10T17:16:20.538Z"
   },
   {
    "duration": 16,
    "start_time": "2023-05-10T17:16:21.133Z"
   },
   {
    "duration": 2251,
    "start_time": "2023-05-10T17:16:21.150Z"
   },
   {
    "duration": 1003,
    "start_time": "2023-05-10T17:16:23.403Z"
   },
   {
    "duration": 52,
    "start_time": "2023-05-10T17:16:24.408Z"
   },
   {
    "duration": 5,
    "start_time": "2023-05-10T17:16:24.461Z"
   },
   {
    "duration": 53,
    "start_time": "2023-05-10T17:16:24.467Z"
   },
   {
    "duration": 4,
    "start_time": "2023-05-10T17:16:24.535Z"
   },
   {
    "duration": 11,
    "start_time": "2023-05-10T17:16:24.540Z"
   },
   {
    "duration": 6,
    "start_time": "2023-05-10T17:16:24.552Z"
   },
   {
    "duration": 12,
    "start_time": "2023-05-10T17:16:24.560Z"
   },
   {
    "duration": 11,
    "start_time": "2023-05-10T17:16:24.574Z"
   },
   {
    "duration": 4,
    "start_time": "2023-05-10T17:16:24.586Z"
   },
   {
    "duration": 49,
    "start_time": "2023-05-10T17:16:24.593Z"
   },
   {
    "duration": 6,
    "start_time": "2023-05-10T17:16:24.644Z"
   },
   {
    "duration": 15,
    "start_time": "2023-05-10T17:16:24.652Z"
   },
   {
    "duration": 11,
    "start_time": "2023-05-10T17:16:24.669Z"
   },
   {
    "duration": 15,
    "start_time": "2023-05-10T17:16:24.681Z"
   },
   {
    "duration": 4,
    "start_time": "2023-05-10T17:16:24.697Z"
   },
   {
    "duration": 38,
    "start_time": "2023-05-10T17:16:24.703Z"
   },
   {
    "duration": 35,
    "start_time": "2023-05-10T17:16:24.743Z"
   },
   {
    "duration": 7,
    "start_time": "2023-05-10T17:16:24.779Z"
   },
   {
    "duration": 19,
    "start_time": "2023-05-10T17:16:24.787Z"
   },
   {
    "duration": 74,
    "start_time": "2023-05-10T17:16:24.807Z"
   },
   {
    "duration": 5,
    "start_time": "2023-05-10T17:16:24.883Z"
   },
   {
    "duration": 10,
    "start_time": "2023-05-10T17:16:24.889Z"
   },
   {
    "duration": 6,
    "start_time": "2023-05-10T17:16:24.900Z"
   },
   {
    "duration": 12,
    "start_time": "2023-05-10T17:16:24.907Z"
   },
   {
    "duration": 24,
    "start_time": "2023-05-10T17:16:24.921Z"
   },
   {
    "duration": 37,
    "start_time": "2023-05-10T17:16:24.946Z"
   },
   {
    "duration": 81,
    "start_time": "2023-05-10T17:16:24.985Z"
   },
   {
    "duration": 8,
    "start_time": "2023-05-10T17:16:25.067Z"
   },
   {
    "duration": 16,
    "start_time": "2023-05-10T17:16:25.076Z"
   },
   {
    "duration": 11,
    "start_time": "2023-05-10T17:16:25.094Z"
   },
   {
    "duration": 10,
    "start_time": "2023-05-10T17:16:25.107Z"
   },
   {
    "duration": 24,
    "start_time": "2023-05-10T17:16:25.119Z"
   },
   {
    "duration": 12,
    "start_time": "2023-05-10T17:16:25.145Z"
   },
   {
    "duration": 249,
    "start_time": "2023-05-10T17:16:25.158Z"
   },
   {
    "duration": 3,
    "start_time": "2023-05-10T17:16:25.409Z"
   },
   {
    "duration": 28,
    "start_time": "2023-05-10T17:16:25.414Z"
   },
   {
    "duration": 7,
    "start_time": "2023-05-10T17:16:25.445Z"
   },
   {
    "duration": 163,
    "start_time": "2023-05-10T17:16:25.453Z"
   },
   {
    "duration": 221,
    "start_time": "2023-05-10T17:16:25.617Z"
   },
   {
    "duration": 297,
    "start_time": "2023-05-10T17:16:25.839Z"
   },
   {
    "duration": 7,
    "start_time": "2023-05-10T17:16:26.137Z"
   },
   {
    "duration": 179,
    "start_time": "2023-05-10T17:16:26.146Z"
   },
   {
    "duration": 175,
    "start_time": "2023-05-10T17:16:26.327Z"
   },
   {
    "duration": 172,
    "start_time": "2023-05-10T17:16:26.503Z"
   },
   {
    "duration": 6,
    "start_time": "2023-05-10T17:16:26.677Z"
   },
   {
    "duration": 206,
    "start_time": "2023-05-10T17:16:26.684Z"
   },
   {
    "duration": 84,
    "start_time": "2023-05-10T17:16:26.891Z"
   },
   {
    "duration": 8,
    "start_time": "2023-05-10T17:16:26.977Z"
   },
   {
    "duration": 221,
    "start_time": "2023-05-10T17:16:26.986Z"
   },
   {
    "duration": 229,
    "start_time": "2023-05-10T17:16:27.209Z"
   },
   {
    "duration": 318,
    "start_time": "2023-05-10T17:16:27.439Z"
   },
   {
    "duration": 121,
    "start_time": "2023-05-10T17:16:27.759Z"
   },
   {
    "duration": 142,
    "start_time": "2023-05-10T17:16:27.881Z"
   },
   {
    "duration": 17,
    "start_time": "2023-05-10T17:16:28.025Z"
   },
   {
    "duration": 290,
    "start_time": "2023-05-10T17:16:28.044Z"
   },
   {
    "duration": 64,
    "start_time": "2023-05-10T17:16:28.336Z"
   },
   {
    "duration": 976,
    "start_time": "2023-05-10T17:16:28.402Z"
   },
   {
    "duration": 958,
    "start_time": "2023-05-10T17:16:29.379Z"
   },
   {
    "duration": 959,
    "start_time": "2023-05-10T17:16:30.339Z"
   },
   {
    "duration": 937,
    "start_time": "2023-05-10T17:16:31.299Z"
   },
   {
    "duration": 8,
    "start_time": "2023-05-10T17:16:32.238Z"
   },
   {
    "duration": 130,
    "start_time": "2023-05-10T17:16:32.247Z"
   },
   {
    "duration": 117,
    "start_time": "2023-05-10T17:16:32.379Z"
   },
   {
    "duration": 140,
    "start_time": "2023-05-10T17:16:32.498Z"
   },
   {
    "duration": 5,
    "start_time": "2023-05-10T17:16:32.639Z"
   },
   {
    "duration": 18,
    "start_time": "2023-05-10T17:16:32.646Z"
   },
   {
    "duration": 10,
    "start_time": "2023-05-10T17:16:32.666Z"
   },
   {
    "duration": 87,
    "start_time": "2023-05-10T17:29:59.344Z"
   },
   {
    "duration": 7,
    "start_time": "2023-05-10T17:32:34.702Z"
   },
   {
    "duration": 1365,
    "start_time": "2023-05-11T04:51:36.763Z"
   },
   {
    "duration": 444,
    "start_time": "2023-05-11T04:52:32.215Z"
   },
   {
    "duration": 73,
    "start_time": "2023-05-11T04:53:44.821Z"
   },
   {
    "duration": 2422,
    "start_time": "2023-05-11T04:55:01.638Z"
   },
   {
    "duration": 17,
    "start_time": "2023-05-11T04:55:52.995Z"
   },
   {
    "duration": 11,
    "start_time": "2023-05-11T04:56:04.038Z"
   },
   {
    "duration": 8,
    "start_time": "2023-05-11T04:56:06.231Z"
   },
   {
    "duration": 5,
    "start_time": "2023-05-11T04:56:20.565Z"
   },
   {
    "duration": 119,
    "start_time": "2023-05-11T05:04:25.890Z"
   },
   {
    "duration": 121,
    "start_time": "2023-05-11T05:05:51.548Z"
   },
   {
    "duration": 13,
    "start_time": "2023-05-11T05:06:29.019Z"
   },
   {
    "duration": 9,
    "start_time": "2023-05-11T05:06:37.284Z"
   },
   {
    "duration": 24,
    "start_time": "2023-05-11T05:06:49.997Z"
   },
   {
    "duration": 18,
    "start_time": "2023-05-11T05:07:03.293Z"
   },
   {
    "duration": 12,
    "start_time": "2023-05-11T05:07:19.142Z"
   },
   {
    "duration": 1351,
    "start_time": "2023-05-11T05:07:26.767Z"
   },
   {
    "duration": 223,
    "start_time": "2023-05-11T05:07:28.121Z"
   },
   {
    "duration": 18,
    "start_time": "2023-05-11T05:07:28.346Z"
   },
   {
    "duration": 2771,
    "start_time": "2023-05-11T05:07:28.367Z"
   },
   {
    "duration": 766,
    "start_time": "2023-05-11T05:07:31.140Z"
   },
   {
    "duration": 75,
    "start_time": "2023-05-11T05:07:31.911Z"
   },
   {
    "duration": 16,
    "start_time": "2023-05-11T05:07:31.988Z"
   },
   {
    "duration": 138,
    "start_time": "2023-05-11T05:07:32.006Z"
   },
   {
    "duration": 5,
    "start_time": "2023-05-11T05:07:32.146Z"
   },
   {
    "duration": 25,
    "start_time": "2023-05-11T05:07:32.154Z"
   },
   {
    "duration": 9,
    "start_time": "2023-05-11T05:07:32.180Z"
   },
   {
    "duration": 49,
    "start_time": "2023-05-11T05:07:32.190Z"
   },
   {
    "duration": 33,
    "start_time": "2023-05-11T05:07:32.254Z"
   },
   {
    "duration": 59,
    "start_time": "2023-05-11T05:07:32.289Z"
   },
   {
    "duration": 117,
    "start_time": "2023-05-11T05:07:32.350Z"
   },
   {
    "duration": 15,
    "start_time": "2023-05-11T05:07:32.470Z"
   },
   {
    "duration": 99,
    "start_time": "2023-05-11T05:07:32.487Z"
   },
   {
    "duration": 31,
    "start_time": "2023-05-11T05:07:32.588Z"
   },
   {
    "duration": 49,
    "start_time": "2023-05-11T05:07:32.622Z"
   },
   {
    "duration": 10,
    "start_time": "2023-05-11T05:07:32.673Z"
   },
   {
    "duration": 86,
    "start_time": "2023-05-11T05:07:32.685Z"
   },
   {
    "duration": 62,
    "start_time": "2023-05-11T05:07:32.773Z"
   },
   {
    "duration": 10,
    "start_time": "2023-05-11T05:07:32.836Z"
   },
   {
    "duration": 35,
    "start_time": "2023-05-11T05:07:32.852Z"
   },
   {
    "duration": 82,
    "start_time": "2023-05-11T05:07:32.889Z"
   },
   {
    "duration": 7,
    "start_time": "2023-05-11T05:07:32.973Z"
   },
   {
    "duration": 54,
    "start_time": "2023-05-11T05:07:32.981Z"
   },
   {
    "duration": 28,
    "start_time": "2023-05-11T05:07:33.042Z"
   },
   {
    "duration": 17,
    "start_time": "2023-05-11T05:07:33.072Z"
   },
   {
    "duration": 89,
    "start_time": "2023-05-11T05:07:33.091Z"
   },
   {
    "duration": 86,
    "start_time": "2023-05-11T05:07:33.181Z"
   },
   {
    "duration": 184,
    "start_time": "2023-05-11T05:07:33.270Z"
   },
   {
    "duration": 10,
    "start_time": "2023-05-11T05:07:33.456Z"
   },
   {
    "duration": 27,
    "start_time": "2023-05-11T05:07:33.468Z"
   },
   {
    "duration": 59,
    "start_time": "2023-05-11T05:07:33.497Z"
   },
   {
    "duration": 11,
    "start_time": "2023-05-11T05:07:33.558Z"
   },
   {
    "duration": 32,
    "start_time": "2023-05-11T05:07:33.571Z"
   },
   {
    "duration": 54,
    "start_time": "2023-05-11T05:07:33.607Z"
   },
   {
    "duration": 411,
    "start_time": "2023-05-11T05:07:33.663Z"
   },
   {
    "duration": 5,
    "start_time": "2023-05-11T05:07:34.076Z"
   },
   {
    "duration": 93,
    "start_time": "2023-05-11T05:07:34.083Z"
   },
   {
    "duration": 11,
    "start_time": "2023-05-11T05:07:34.178Z"
   },
   {
    "duration": 358,
    "start_time": "2023-05-11T05:07:34.191Z"
   },
   {
    "duration": 395,
    "start_time": "2023-05-11T05:07:34.556Z"
   },
   {
    "duration": 358,
    "start_time": "2023-05-11T05:07:34.955Z"
   },
   {
    "duration": 9,
    "start_time": "2023-05-11T05:07:35.315Z"
   },
   {
    "duration": 363,
    "start_time": "2023-05-11T05:07:35.326Z"
   },
   {
    "duration": 257,
    "start_time": "2023-05-11T05:07:35.706Z"
   },
   {
    "duration": 296,
    "start_time": "2023-05-11T05:07:35.964Z"
   },
   {
    "duration": 7,
    "start_time": "2023-05-11T05:07:36.262Z"
   },
   {
    "duration": 380,
    "start_time": "2023-05-11T05:07:36.271Z"
   },
   {
    "duration": 128,
    "start_time": "2023-05-11T05:07:36.653Z"
   },
   {
    "duration": 10,
    "start_time": "2023-05-11T05:07:36.783Z"
   },
   {
    "duration": 327,
    "start_time": "2023-05-11T05:07:36.804Z"
   },
   {
    "duration": 312,
    "start_time": "2023-05-11T05:07:37.133Z"
   },
   {
    "duration": 424,
    "start_time": "2023-05-11T05:07:37.448Z"
   },
   {
    "duration": 191,
    "start_time": "2023-05-11T05:07:37.874Z"
   },
   {
    "duration": 189,
    "start_time": "2023-05-11T05:07:38.066Z"
   },
   {
    "duration": 12,
    "start_time": "2023-05-11T05:07:38.257Z"
   },
   {
    "duration": 415,
    "start_time": "2023-05-11T05:07:38.271Z"
   },
   {
    "duration": 101,
    "start_time": "2023-05-11T05:07:38.688Z"
   },
   {
    "duration": 163,
    "start_time": "2023-05-11T05:07:38.791Z"
   },
   {
    "duration": 0,
    "start_time": "2023-05-11T05:07:38.957Z"
   },
   {
    "duration": 0,
    "start_time": "2023-05-11T05:07:38.958Z"
   },
   {
    "duration": 0,
    "start_time": "2023-05-11T05:07:38.959Z"
   },
   {
    "duration": 0,
    "start_time": "2023-05-11T05:07:38.960Z"
   },
   {
    "duration": 0,
    "start_time": "2023-05-11T05:07:38.961Z"
   },
   {
    "duration": 0,
    "start_time": "2023-05-11T05:07:38.962Z"
   },
   {
    "duration": 0,
    "start_time": "2023-05-11T05:07:38.963Z"
   },
   {
    "duration": 0,
    "start_time": "2023-05-11T05:07:38.965Z"
   },
   {
    "duration": 0,
    "start_time": "2023-05-11T05:07:38.966Z"
   },
   {
    "duration": 0,
    "start_time": "2023-05-11T05:07:38.967Z"
   },
   {
    "duration": 13,
    "start_time": "2023-05-11T05:09:40.434Z"
   },
   {
    "duration": 11,
    "start_time": "2023-05-11T05:10:32.834Z"
   },
   {
    "duration": 16,
    "start_time": "2023-05-11T05:13:21.088Z"
   },
   {
    "duration": 104,
    "start_time": "2023-05-11T05:13:25.541Z"
   },
   {
    "duration": 7,
    "start_time": "2023-05-11T05:13:35.922Z"
   },
   {
    "duration": 10,
    "start_time": "2023-05-11T05:13:53.259Z"
   },
   {
    "duration": 151,
    "start_time": "2023-05-11T05:17:05.723Z"
   },
   {
    "duration": 380,
    "start_time": "2023-05-11T05:17:15.172Z"
   },
   {
    "duration": 10,
    "start_time": "2023-05-11T05:18:14.659Z"
   },
   {
    "duration": 8,
    "start_time": "2023-05-11T05:18:39.733Z"
   },
   {
    "duration": 9,
    "start_time": "2023-05-11T05:19:54.358Z"
   },
   {
    "duration": 421,
    "start_time": "2023-05-11T05:22:03.221Z"
   },
   {
    "duration": 425,
    "start_time": "2023-05-11T05:22:08.529Z"
   },
   {
    "duration": 180,
    "start_time": "2023-05-11T05:22:31.137Z"
   },
   {
    "duration": 162,
    "start_time": "2023-05-11T05:23:17.021Z"
   },
   {
    "duration": 289,
    "start_time": "2023-05-11T05:23:39.561Z"
   },
   {
    "duration": 16,
    "start_time": "2023-05-11T05:24:41.020Z"
   },
   {
    "duration": 9,
    "start_time": "2023-05-11T05:24:49.945Z"
   },
   {
    "duration": 166,
    "start_time": "2023-05-11T05:29:52.437Z"
   },
   {
    "duration": 9,
    "start_time": "2023-05-11T05:31:33.852Z"
   },
   {
    "duration": 5,
    "start_time": "2023-05-11T05:32:13.286Z"
   },
   {
    "duration": 39,
    "start_time": "2023-05-11T05:35:18.784Z"
   },
   {
    "duration": 39,
    "start_time": "2023-05-11T05:35:46.492Z"
   },
   {
    "duration": 17,
    "start_time": "2023-05-11T05:36:02.392Z"
   },
   {
    "duration": 1053,
    "start_time": "2023-05-11T05:36:09.649Z"
   },
   {
    "duration": 1044,
    "start_time": "2023-05-11T05:36:21.168Z"
   },
   {
    "duration": 10,
    "start_time": "2023-05-11T05:36:28.551Z"
   },
   {
    "duration": 11,
    "start_time": "2023-05-11T05:36:32.184Z"
   },
   {
    "duration": 24,
    "start_time": "2023-05-11T05:37:25.825Z"
   },
   {
    "duration": 63,
    "start_time": "2023-05-11T05:40:37.947Z"
   },
   {
    "duration": 1204,
    "start_time": "2023-05-11T05:41:33.757Z"
   },
   {
    "duration": 1030,
    "start_time": "2023-05-11T05:41:39.555Z"
   },
   {
    "duration": 1136,
    "start_time": "2023-05-11T05:41:44.167Z"
   },
   {
    "duration": 989,
    "start_time": "2023-05-11T05:41:47.409Z"
   },
   {
    "duration": 1158,
    "start_time": "2023-05-11T05:41:50.925Z"
   },
   {
    "duration": 1005,
    "start_time": "2023-05-11T05:42:39.926Z"
   },
   {
    "duration": 10,
    "start_time": "2023-05-11T05:43:28.980Z"
   },
   {
    "duration": 14,
    "start_time": "2023-05-11T05:43:37.069Z"
   },
   {
    "duration": 9,
    "start_time": "2023-05-11T05:52:25.866Z"
   },
   {
    "duration": 7,
    "start_time": "2023-05-11T05:52:32.882Z"
   },
   {
    "duration": 4,
    "start_time": "2023-05-11T05:52:42.947Z"
   },
   {
    "duration": 23,
    "start_time": "2023-05-11T05:52:50.891Z"
   },
   {
    "duration": 8,
    "start_time": "2023-05-11T05:53:03.180Z"
   },
   {
    "duration": 150,
    "start_time": "2023-05-11T05:54:32.580Z"
   },
   {
    "duration": 22,
    "start_time": "2023-05-11T05:56:47.875Z"
   },
   {
    "duration": 36,
    "start_time": "2023-05-11T05:57:01.019Z"
   },
   {
    "duration": 1282,
    "start_time": "2023-05-11T05:57:04.147Z"
   },
   {
    "duration": 1078,
    "start_time": "2023-05-11T05:57:07.618Z"
   },
   {
    "duration": 1063,
    "start_time": "2023-05-11T05:57:10.855Z"
   },
   {
    "duration": 10,
    "start_time": "2023-05-11T05:57:32.341Z"
   },
   {
    "duration": 138,
    "start_time": "2023-05-11T05:58:08.699Z"
   },
   {
    "duration": 140,
    "start_time": "2023-05-11T05:58:14.286Z"
   },
   {
    "duration": 8,
    "start_time": "2023-05-11T05:58:18.262Z"
   },
   {
    "duration": 185,
    "start_time": "2023-05-11T05:58:23.158Z"
   },
   {
    "duration": 25,
    "start_time": "2023-05-11T05:58:39.793Z"
   },
   {
    "duration": 166,
    "start_time": "2023-05-11T05:58:44.065Z"
   },
   {
    "duration": 12,
    "start_time": "2023-05-11T05:58:47.548Z"
   },
   {
    "duration": 8,
    "start_time": "2023-05-11T05:59:08.880Z"
   },
   {
    "duration": 132,
    "start_time": "2023-05-11T05:59:11.115Z"
   },
   {
    "duration": 157,
    "start_time": "2023-05-11T05:59:13.915Z"
   },
   {
    "duration": 147,
    "start_time": "2023-05-11T05:59:16.366Z"
   },
   {
    "duration": 1516,
    "start_time": "2023-05-11T06:06:43.190Z"
   },
   {
    "duration": 331,
    "start_time": "2023-05-11T06:06:44.715Z"
   },
   {
    "duration": 34,
    "start_time": "2023-05-11T06:06:45.051Z"
   },
   {
    "duration": 2892,
    "start_time": "2023-05-11T06:06:45.089Z"
   },
   {
    "duration": 736,
    "start_time": "2023-05-11T06:06:47.983Z"
   },
   {
    "duration": 82,
    "start_time": "2023-05-11T06:06:48.721Z"
   },
   {
    "duration": 223,
    "start_time": "2023-05-11T06:06:48.813Z"
   },
   {
    "duration": 351,
    "start_time": "2023-05-11T06:06:49.051Z"
   },
   {
    "duration": 16,
    "start_time": "2023-05-11T06:06:49.405Z"
   },
   {
    "duration": 279,
    "start_time": "2023-05-11T06:06:49.428Z"
   },
   {
    "duration": 18,
    "start_time": "2023-05-11T06:06:49.708Z"
   },
   {
    "duration": 53,
    "start_time": "2023-05-11T06:06:49.728Z"
   },
   {
    "duration": 78,
    "start_time": "2023-05-11T06:06:49.782Z"
   },
   {
    "duration": 23,
    "start_time": "2023-05-11T06:06:49.862Z"
   },
   {
    "duration": 77,
    "start_time": "2023-05-11T06:06:49.887Z"
   },
   {
    "duration": 15,
    "start_time": "2023-05-11T06:06:49.966Z"
   },
   {
    "duration": 8,
    "start_time": "2023-05-11T06:06:49.983Z"
   },
   {
    "duration": 74,
    "start_time": "2023-05-11T06:06:49.993Z"
   },
   {
    "duration": 16,
    "start_time": "2023-05-11T06:06:50.069Z"
   },
   {
    "duration": 8,
    "start_time": "2023-05-11T06:06:50.086Z"
   },
   {
    "duration": 115,
    "start_time": "2023-05-11T06:06:50.107Z"
   },
   {
    "duration": 30,
    "start_time": "2023-05-11T06:06:50.224Z"
   },
   {
    "duration": 61,
    "start_time": "2023-05-11T06:06:50.256Z"
   },
   {
    "duration": 31,
    "start_time": "2023-05-11T06:06:50.332Z"
   },
   {
    "duration": 23,
    "start_time": "2023-05-11T06:06:50.365Z"
   },
   {
    "duration": 61,
    "start_time": "2023-05-11T06:06:50.389Z"
   },
   {
    "duration": 25,
    "start_time": "2023-05-11T06:06:50.452Z"
   },
   {
    "duration": 69,
    "start_time": "2023-05-11T06:06:50.481Z"
   },
   {
    "duration": 10,
    "start_time": "2023-05-11T06:06:50.553Z"
   },
   {
    "duration": 313,
    "start_time": "2023-05-11T06:06:50.566Z"
   },
   {
    "duration": 7,
    "start_time": "2023-05-11T06:06:50.881Z"
   },
   {
    "duration": 70,
    "start_time": "2023-05-11T06:06:50.889Z"
   },
   {
    "duration": 15,
    "start_time": "2023-05-11T06:06:50.961Z"
   },
   {
    "duration": 43,
    "start_time": "2023-05-11T06:06:50.978Z"
   },
   {
    "duration": 65,
    "start_time": "2023-05-11T06:06:51.028Z"
   },
   {
    "duration": 10,
    "start_time": "2023-05-11T06:06:51.105Z"
   },
   {
    "duration": 52,
    "start_time": "2023-05-11T06:06:51.117Z"
   },
   {
    "duration": 10,
    "start_time": "2023-05-11T06:06:51.171Z"
   },
   {
    "duration": 72,
    "start_time": "2023-05-11T06:06:51.182Z"
   },
   {
    "duration": 10,
    "start_time": "2023-05-11T06:06:51.257Z"
   },
   {
    "duration": 33,
    "start_time": "2023-05-11T06:06:51.269Z"
   },
   {
    "duration": 95,
    "start_time": "2023-05-11T06:06:51.307Z"
   },
   {
    "duration": 147,
    "start_time": "2023-05-11T06:06:51.411Z"
   },
   {
    "duration": 7,
    "start_time": "2023-05-11T06:06:51.560Z"
   },
   {
    "duration": 75,
    "start_time": "2023-05-11T06:06:51.569Z"
   },
   {
    "duration": 27,
    "start_time": "2023-05-11T06:06:51.646Z"
   },
   {
    "duration": 19,
    "start_time": "2023-05-11T06:06:51.675Z"
   },
   {
    "duration": 73,
    "start_time": "2023-05-11T06:06:51.696Z"
   },
   {
    "duration": 11,
    "start_time": "2023-05-11T06:06:51.771Z"
   },
   {
    "duration": 341,
    "start_time": "2023-05-11T06:06:51.785Z"
   },
   {
    "duration": 5,
    "start_time": "2023-05-11T06:06:52.130Z"
   },
   {
    "duration": 54,
    "start_time": "2023-05-11T06:06:52.137Z"
   },
   {
    "duration": 57,
    "start_time": "2023-05-11T06:06:52.193Z"
   },
   {
    "duration": 356,
    "start_time": "2023-05-11T06:06:52.254Z"
   },
   {
    "duration": 274,
    "start_time": "2023-05-11T06:06:52.612Z"
   },
   {
    "duration": 293,
    "start_time": "2023-05-11T06:06:52.897Z"
   },
   {
    "duration": 7,
    "start_time": "2023-05-11T06:06:53.194Z"
   },
   {
    "duration": 240,
    "start_time": "2023-05-11T06:06:53.203Z"
   },
   {
    "duration": 165,
    "start_time": "2023-05-11T06:06:53.445Z"
   },
   {
    "duration": 232,
    "start_time": "2023-05-11T06:06:53.612Z"
   },
   {
    "duration": 5,
    "start_time": "2023-05-11T06:06:53.846Z"
   },
   {
    "duration": 237,
    "start_time": "2023-05-11T06:06:53.853Z"
   },
   {
    "duration": 91,
    "start_time": "2023-05-11T06:06:54.096Z"
   },
   {
    "duration": 17,
    "start_time": "2023-05-11T06:06:54.189Z"
   },
   {
    "duration": 408,
    "start_time": "2023-05-11T06:06:54.208Z"
   },
   {
    "duration": 315,
    "start_time": "2023-05-11T06:06:54.619Z"
   },
   {
    "duration": 259,
    "start_time": "2023-05-11T06:06:54.938Z"
   },
   {
    "duration": 159,
    "start_time": "2023-05-11T06:06:55.199Z"
   },
   {
    "duration": 187,
    "start_time": "2023-05-11T06:06:55.359Z"
   },
   {
    "duration": 8,
    "start_time": "2023-05-11T06:06:55.547Z"
   },
   {
    "duration": 384,
    "start_time": "2023-05-11T06:06:55.556Z"
   },
   {
    "duration": 195,
    "start_time": "2023-05-11T06:06:55.941Z"
   },
   {
    "duration": 1099,
    "start_time": "2023-05-11T06:06:56.138Z"
   },
   {
    "duration": 1086,
    "start_time": "2023-05-11T06:06:57.238Z"
   },
   {
    "duration": 1104,
    "start_time": "2023-05-11T06:06:58.325Z"
   },
   {
    "duration": 1205,
    "start_time": "2023-05-11T06:06:59.432Z"
   },
   {
    "duration": 13,
    "start_time": "2023-05-11T06:07:00.639Z"
   },
   {
    "duration": 28,
    "start_time": "2023-05-11T06:07:00.654Z"
   },
   {
    "duration": 203,
    "start_time": "2023-05-11T06:07:00.684Z"
   },
   {
    "duration": 160,
    "start_time": "2023-05-11T06:07:00.889Z"
   },
   {
    "duration": 135,
    "start_time": "2023-05-11T06:07:01.051Z"
   },
   {
    "duration": 18,
    "start_time": "2023-05-11T06:07:01.195Z"
   },
   {
    "duration": 62,
    "start_time": "2023-05-11T06:07:01.219Z"
   },
   {
    "duration": 66,
    "start_time": "2023-05-11T06:07:01.282Z"
   },
   {
    "duration": 1306,
    "start_time": "2023-05-11T15:06:46.930Z"
   },
   {
    "duration": 208,
    "start_time": "2023-05-11T15:06:48.239Z"
   },
   {
    "duration": 28,
    "start_time": "2023-05-11T15:06:48.450Z"
   },
   {
    "duration": 2087,
    "start_time": "2023-05-11T15:06:48.481Z"
   },
   {
    "duration": 740,
    "start_time": "2023-05-11T15:06:50.570Z"
   },
   {
    "duration": 68,
    "start_time": "2023-05-11T15:06:51.313Z"
   },
   {
    "duration": 175,
    "start_time": "2023-05-11T15:06:51.383Z"
   },
   {
    "duration": 269,
    "start_time": "2023-05-11T15:06:51.560Z"
   },
   {
    "duration": 9,
    "start_time": "2023-05-11T15:06:51.831Z"
   },
   {
    "duration": 156,
    "start_time": "2023-05-11T15:06:51.842Z"
   },
   {
    "duration": 9,
    "start_time": "2023-05-11T15:06:51.999Z"
   },
   {
    "duration": 18,
    "start_time": "2023-05-11T15:06:52.010Z"
   },
   {
    "duration": 85,
    "start_time": "2023-05-11T15:06:52.030Z"
   },
   {
    "duration": 4,
    "start_time": "2023-05-11T15:06:52.118Z"
   },
   {
    "duration": 23,
    "start_time": "2023-05-11T15:06:52.124Z"
   },
   {
    "duration": 57,
    "start_time": "2023-05-11T15:06:52.148Z"
   },
   {
    "duration": 25,
    "start_time": "2023-05-11T15:06:52.208Z"
   },
   {
    "duration": 9,
    "start_time": "2023-05-11T15:06:52.235Z"
   },
   {
    "duration": 30,
    "start_time": "2023-05-11T15:06:52.246Z"
   },
   {
    "duration": 20,
    "start_time": "2023-05-11T15:06:52.278Z"
   },
   {
    "duration": 52,
    "start_time": "2023-05-11T15:06:52.300Z"
   },
   {
    "duration": 30,
    "start_time": "2023-05-11T15:06:52.354Z"
   },
   {
    "duration": 27,
    "start_time": "2023-05-11T15:06:52.385Z"
   },
   {
    "duration": 42,
    "start_time": "2023-05-11T15:06:52.413Z"
   },
   {
    "duration": 77,
    "start_time": "2023-05-11T15:06:52.457Z"
   },
   {
    "duration": 35,
    "start_time": "2023-05-11T15:06:52.536Z"
   },
   {
    "duration": 46,
    "start_time": "2023-05-11T15:06:52.573Z"
   },
   {
    "duration": 39,
    "start_time": "2023-05-11T15:06:52.621Z"
   },
   {
    "duration": 5,
    "start_time": "2023-05-11T15:06:52.661Z"
   },
   {
    "duration": 242,
    "start_time": "2023-05-11T15:06:52.668Z"
   },
   {
    "duration": 10,
    "start_time": "2023-05-11T15:06:52.912Z"
   },
   {
    "duration": 28,
    "start_time": "2023-05-11T15:06:52.923Z"
   },
   {
    "duration": 14,
    "start_time": "2023-05-11T15:06:52.953Z"
   },
   {
    "duration": 31,
    "start_time": "2023-05-11T15:06:52.970Z"
   },
   {
    "duration": 30,
    "start_time": "2023-05-11T15:06:53.003Z"
   },
   {
    "duration": 6,
    "start_time": "2023-05-11T15:06:53.034Z"
   },
   {
    "duration": 19,
    "start_time": "2023-05-11T15:06:53.042Z"
   },
   {
    "duration": 7,
    "start_time": "2023-05-11T15:06:53.063Z"
   },
   {
    "duration": 49,
    "start_time": "2023-05-11T15:06:53.072Z"
   },
   {
    "duration": 26,
    "start_time": "2023-05-11T15:06:53.123Z"
   },
   {
    "duration": 18,
    "start_time": "2023-05-11T15:06:53.153Z"
   },
   {
    "duration": 43,
    "start_time": "2023-05-11T15:06:53.174Z"
   },
   {
    "duration": 116,
    "start_time": "2023-05-11T15:06:53.219Z"
   },
   {
    "duration": 19,
    "start_time": "2023-05-11T15:06:53.337Z"
   },
   {
    "duration": 8,
    "start_time": "2023-05-11T15:06:53.359Z"
   },
   {
    "duration": 7,
    "start_time": "2023-05-11T15:06:53.369Z"
   },
   {
    "duration": 12,
    "start_time": "2023-05-11T15:06:53.378Z"
   },
   {
    "duration": 21,
    "start_time": "2023-05-11T15:06:53.392Z"
   },
   {
    "duration": 49,
    "start_time": "2023-05-11T15:06:53.415Z"
   },
   {
    "duration": 235,
    "start_time": "2023-05-11T15:06:53.466Z"
   },
   {
    "duration": 4,
    "start_time": "2023-05-11T15:06:53.703Z"
   },
   {
    "duration": 36,
    "start_time": "2023-05-11T15:06:53.709Z"
   },
   {
    "duration": 28,
    "start_time": "2023-05-11T15:06:53.747Z"
   },
   {
    "duration": 275,
    "start_time": "2023-05-11T15:06:53.776Z"
   },
   {
    "duration": 256,
    "start_time": "2023-05-11T15:06:54.057Z"
   },
   {
    "duration": 273,
    "start_time": "2023-05-11T15:06:54.315Z"
   },
   {
    "duration": 8,
    "start_time": "2023-05-11T15:06:54.590Z"
   },
   {
    "duration": 207,
    "start_time": "2023-05-11T15:06:54.600Z"
   },
   {
    "duration": 154,
    "start_time": "2023-05-11T15:06:54.809Z"
   },
   {
    "duration": 194,
    "start_time": "2023-05-11T15:06:54.965Z"
   },
   {
    "duration": 7,
    "start_time": "2023-05-11T15:06:55.161Z"
   },
   {
    "duration": 250,
    "start_time": "2023-05-11T15:06:55.170Z"
   },
   {
    "duration": 92,
    "start_time": "2023-05-11T15:06:55.422Z"
   },
   {
    "duration": 12,
    "start_time": "2023-05-11T15:06:55.517Z"
   },
   {
    "duration": 407,
    "start_time": "2023-05-11T15:06:55.531Z"
   },
   {
    "duration": 266,
    "start_time": "2023-05-11T15:06:55.940Z"
   },
   {
    "duration": 264,
    "start_time": "2023-05-11T15:06:56.208Z"
   },
   {
    "duration": 144,
    "start_time": "2023-05-11T15:06:56.475Z"
   },
   {
    "duration": 187,
    "start_time": "2023-05-11T15:06:56.621Z"
   },
   {
    "duration": 11,
    "start_time": "2023-05-11T15:06:56.810Z"
   },
   {
    "duration": 361,
    "start_time": "2023-05-11T15:06:56.823Z"
   },
   {
    "duration": 216,
    "start_time": "2023-05-11T15:06:57.186Z"
   },
   {
    "duration": 1058,
    "start_time": "2023-05-11T15:06:57.404Z"
   },
   {
    "duration": 1079,
    "start_time": "2023-05-11T15:06:58.464Z"
   },
   {
    "duration": 1038,
    "start_time": "2023-05-11T15:06:59.545Z"
   },
   {
    "duration": 1056,
    "start_time": "2023-05-11T15:07:00.584Z"
   },
   {
    "duration": 24,
    "start_time": "2023-05-11T15:07:01.643Z"
   },
   {
    "duration": 92,
    "start_time": "2023-05-11T15:07:01.669Z"
   },
   {
    "duration": 172,
    "start_time": "2023-05-11T15:07:01.763Z"
   },
   {
    "duration": 154,
    "start_time": "2023-05-11T15:07:01.937Z"
   },
   {
    "duration": 139,
    "start_time": "2023-05-11T15:07:02.092Z"
   },
   {
    "duration": 6,
    "start_time": "2023-05-11T15:07:02.233Z"
   },
   {
    "duration": 40,
    "start_time": "2023-05-11T15:07:02.241Z"
   },
   {
    "duration": 36,
    "start_time": "2023-05-11T15:07:02.283Z"
   },
   {
    "duration": 1312,
    "start_time": "2023-05-11T15:08:50.103Z"
   },
   {
    "duration": 222,
    "start_time": "2023-05-11T15:08:51.417Z"
   },
   {
    "duration": 21,
    "start_time": "2023-05-11T15:08:51.641Z"
   },
   {
    "duration": 1899,
    "start_time": "2023-05-11T15:08:51.663Z"
   },
   {
    "duration": 687,
    "start_time": "2023-05-11T15:08:53.565Z"
   },
   {
    "duration": 52,
    "start_time": "2023-05-11T15:08:54.253Z"
   },
   {
    "duration": 155,
    "start_time": "2023-05-11T15:08:54.307Z"
   },
   {
    "duration": 252,
    "start_time": "2023-05-11T15:08:54.464Z"
   },
   {
    "duration": 11,
    "start_time": "2023-05-11T15:08:54.718Z"
   },
   {
    "duration": 159,
    "start_time": "2023-05-11T15:08:54.731Z"
   },
   {
    "duration": 8,
    "start_time": "2023-05-11T15:08:54.893Z"
   },
   {
    "duration": 7,
    "start_time": "2023-05-11T15:08:54.903Z"
   },
   {
    "duration": 75,
    "start_time": "2023-05-11T15:08:54.911Z"
   },
   {
    "duration": 5,
    "start_time": "2023-05-11T15:08:54.989Z"
   },
   {
    "duration": 17,
    "start_time": "2023-05-11T15:08:54.995Z"
   },
   {
    "duration": 9,
    "start_time": "2023-05-11T15:08:55.014Z"
   },
   {
    "duration": 31,
    "start_time": "2023-05-11T15:08:55.025Z"
   },
   {
    "duration": 6,
    "start_time": "2023-05-11T15:08:55.059Z"
   },
   {
    "duration": 17,
    "start_time": "2023-05-11T15:08:55.067Z"
   },
   {
    "duration": 5,
    "start_time": "2023-05-11T15:08:55.085Z"
   },
   {
    "duration": 39,
    "start_time": "2023-05-11T15:08:55.092Z"
   },
   {
    "duration": 29,
    "start_time": "2023-05-11T15:08:55.132Z"
   },
   {
    "duration": 53,
    "start_time": "2023-05-11T15:08:55.163Z"
   },
   {
    "duration": 14,
    "start_time": "2023-05-11T15:08:55.218Z"
   },
   {
    "duration": 23,
    "start_time": "2023-05-11T15:08:55.234Z"
   },
   {
    "duration": 13,
    "start_time": "2023-05-11T15:08:55.259Z"
   },
   {
    "duration": 42,
    "start_time": "2023-05-11T15:08:55.274Z"
   },
   {
    "duration": 50,
    "start_time": "2023-05-11T15:08:55.318Z"
   },
   {
    "duration": 5,
    "start_time": "2023-05-11T15:08:55.370Z"
   },
   {
    "duration": 265,
    "start_time": "2023-05-11T15:08:55.377Z"
   },
   {
    "duration": 15,
    "start_time": "2023-05-11T15:08:55.644Z"
   },
   {
    "duration": 8,
    "start_time": "2023-05-11T15:08:55.661Z"
   },
   {
    "duration": 13,
    "start_time": "2023-05-11T15:08:55.671Z"
   },
   {
    "duration": 30,
    "start_time": "2023-05-11T15:08:55.686Z"
   },
   {
    "duration": 49,
    "start_time": "2023-05-11T15:08:55.718Z"
   },
   {
    "duration": 5,
    "start_time": "2023-05-11T15:08:55.769Z"
   },
   {
    "duration": 16,
    "start_time": "2023-05-11T15:08:55.775Z"
   },
   {
    "duration": 5,
    "start_time": "2023-05-11T15:08:55.793Z"
   },
   {
    "duration": 12,
    "start_time": "2023-05-11T15:08:55.799Z"
   },
   {
    "duration": 9,
    "start_time": "2023-05-11T15:08:55.813Z"
   },
   {
    "duration": 36,
    "start_time": "2023-05-11T15:08:55.827Z"
   },
   {
    "duration": 26,
    "start_time": "2023-05-11T15:08:55.865Z"
   },
   {
    "duration": 108,
    "start_time": "2023-05-11T15:08:55.893Z"
   },
   {
    "duration": 9,
    "start_time": "2023-05-11T15:08:56.003Z"
   },
   {
    "duration": 5,
    "start_time": "2023-05-11T15:08:56.014Z"
   },
   {
    "duration": 9,
    "start_time": "2023-05-11T15:08:56.021Z"
   },
   {
    "duration": 30,
    "start_time": "2023-05-11T15:08:56.033Z"
   },
   {
    "duration": 22,
    "start_time": "2023-05-11T15:08:56.065Z"
   },
   {
    "duration": 12,
    "start_time": "2023-05-11T15:08:56.089Z"
   },
   {
    "duration": 242,
    "start_time": "2023-05-11T15:08:56.102Z"
   },
   {
    "duration": 5,
    "start_time": "2023-05-11T15:08:56.355Z"
   },
   {
    "duration": 32,
    "start_time": "2023-05-11T15:08:56.362Z"
   },
   {
    "duration": 27,
    "start_time": "2023-05-11T15:08:56.396Z"
   },
   {
    "duration": 290,
    "start_time": "2023-05-11T15:08:56.425Z"
   },
   {
    "duration": 274,
    "start_time": "2023-05-11T15:08:56.717Z"
   },
   {
    "duration": 263,
    "start_time": "2023-05-11T15:08:56.993Z"
   },
   {
    "duration": 8,
    "start_time": "2023-05-11T15:08:57.258Z"
   },
   {
    "duration": 214,
    "start_time": "2023-05-11T15:08:57.268Z"
   },
   {
    "duration": 146,
    "start_time": "2023-05-11T15:08:57.484Z"
   },
   {
    "duration": 207,
    "start_time": "2023-05-11T15:08:57.632Z"
   },
   {
    "duration": 16,
    "start_time": "2023-05-11T15:08:57.841Z"
   },
   {
    "duration": 226,
    "start_time": "2023-05-11T15:08:57.859Z"
   },
   {
    "duration": 94,
    "start_time": "2023-05-11T15:08:58.087Z"
   },
   {
    "duration": 10,
    "start_time": "2023-05-11T15:08:58.183Z"
   },
   {
    "duration": 407,
    "start_time": "2023-05-11T15:08:58.194Z"
   },
   {
    "duration": 280,
    "start_time": "2023-05-11T15:08:58.604Z"
   },
   {
    "duration": 310,
    "start_time": "2023-05-11T15:08:58.887Z"
   },
   {
    "duration": 138,
    "start_time": "2023-05-11T15:08:59.199Z"
   },
   {
    "duration": 169,
    "start_time": "2023-05-11T15:08:59.339Z"
   },
   {
    "duration": 10,
    "start_time": "2023-05-11T15:08:59.510Z"
   },
   {
    "duration": 338,
    "start_time": "2023-05-11T15:08:59.522Z"
   },
   {
    "duration": 221,
    "start_time": "2023-05-11T15:08:59.862Z"
   },
   {
    "duration": 1074,
    "start_time": "2023-05-11T15:09:00.085Z"
   },
   {
    "duration": 1126,
    "start_time": "2023-05-11T15:09:01.161Z"
   },
   {
    "duration": 1107,
    "start_time": "2023-05-11T15:09:02.288Z"
   },
   {
    "duration": 1081,
    "start_time": "2023-05-11T15:09:03.397Z"
   },
   {
    "duration": 11,
    "start_time": "2023-05-11T15:09:04.480Z"
   },
   {
    "duration": 14,
    "start_time": "2023-05-11T15:09:04.493Z"
   },
   {
    "duration": 139,
    "start_time": "2023-05-11T15:09:04.509Z"
   },
   {
    "duration": 159,
    "start_time": "2023-05-11T15:09:04.650Z"
   },
   {
    "duration": 129,
    "start_time": "2023-05-11T15:09:04.811Z"
   },
   {
    "duration": 15,
    "start_time": "2023-05-11T15:09:04.941Z"
   },
   {
    "duration": 15,
    "start_time": "2023-05-11T15:09:04.958Z"
   },
   {
    "duration": 22,
    "start_time": "2023-05-11T15:09:04.976Z"
   },
   {
    "duration": 7,
    "start_time": "2023-05-11T15:09:27.480Z"
   },
   {
    "duration": 25,
    "start_time": "2023-05-11T15:09:57.044Z"
   },
   {
    "duration": 15,
    "start_time": "2023-05-11T15:13:47.947Z"
   },
   {
    "duration": 87,
    "start_time": "2023-05-11T15:13:50.999Z"
   }
  ],
  "kernelspec": {
   "display_name": "Python 3 (ipykernel)",
   "language": "python",
   "name": "python3"
  },
  "language_info": {
   "codemirror_mode": {
    "name": "ipython",
    "version": 3
   },
   "file_extension": ".py",
   "mimetype": "text/x-python",
   "name": "python",
   "nbconvert_exporter": "python",
   "pygments_lexer": "ipython3",
   "version": "3.9.5"
  },
  "toc": {
   "base_numbering": 1,
   "nav_menu": {},
   "number_sections": true,
   "sideBar": true,
   "skip_h1_title": true,
   "title_cell": "Table of Contents",
   "title_sidebar": "Contents",
   "toc_cell": false,
   "toc_position": {},
   "toc_section_display": true,
   "toc_window_display": false
  }
 },
 "nbformat": 4,
 "nbformat_minor": 2
}
